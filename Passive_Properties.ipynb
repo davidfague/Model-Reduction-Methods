{
  "cells": [
    {
      "cell_type": "markdown",
      "metadata": {
        "id": "view-in-github",
        "colab_type": "text"
      },
      "source": [
        "<a href=\"https://colab.research.google.com/github/davidfague/Model_Reduction_Methods/blob/main/Passive_Properties.ipynb\" target=\"_parent\"><img src=\"https://colab.research.google.com/assets/colab-badge.svg\" alt=\"Open In Colab\"/></a>"
      ]
    },
    {
      "cell_type": "markdown",
      "id": "7a9de89f",
      "metadata": {
        "id": "7a9de89f"
      },
      "source": [
        "# Model Reduction preserving Passive Properties"
      ]
    },
    {
      "cell_type": "markdown",
      "id": "MSX7LmGzszzf",
      "metadata": {
        "id": "MSX7LmGzszzf"
      },
      "source": [
        "#### Download modules from Github"
      ]
    },
    {
      "cell_type": "code",
      "source": [
        "!pip install neuron"
      ],
      "metadata": {
        "id": "-urE9jrxNdxm",
        "colab": {
          "base_uri": "https://localhost:8080/"
        },
        "outputId": "94ff9b8c-c406-4a0e-bddd-eb952eb7e798"
      },
      "id": "-urE9jrxNdxm",
      "execution_count": 1,
      "outputs": [
        {
          "output_type": "stream",
          "name": "stdout",
          "text": [
            "Looking in indexes: https://pypi.org/simple, https://us-python.pkg.dev/colab-wheels/public/simple/\n",
            "Collecting neuron\n",
            "  Downloading NEURON-8.2.2-cp39-cp39-manylinux_2_17_x86_64.manylinux2014_x86_64.whl (15.0 MB)\n",
            "\u001b[2K     \u001b[90m━━━━━━━━━━━━━━━━━━━━━━━━━━━━━━━━━━━━━━━━\u001b[0m \u001b[32m15.0/15.0 MB\u001b[0m \u001b[31m26.8 MB/s\u001b[0m eta \u001b[36m0:00:00\u001b[0m\n",
            "\u001b[?25hRequirement already satisfied: numpy>=1.9.3 in /usr/local/lib/python3.9/dist-packages (from neuron) (1.22.4)\n",
            "Installing collected packages: neuron\n",
            "Successfully installed neuron-8.2.2\n"
          ]
        }
      ]
    },
    {
      "cell_type": "code",
      "source": [
        "!pip install neuron_reduce"
      ],
      "metadata": {
        "id": "BHjnRgPsN0g2",
        "colab": {
          "base_uri": "https://localhost:8080/"
        },
        "outputId": "129036e6-fd3b-4de6-ae9d-7ee4be452ab8"
      },
      "id": "BHjnRgPsN0g2",
      "execution_count": 2,
      "outputs": [
        {
          "output_type": "stream",
          "name": "stdout",
          "text": [
            "Looking in indexes: https://pypi.org/simple, https://us-python.pkg.dev/colab-wheels/public/simple/\n",
            "Collecting neuron_reduce\n",
            "  Downloading neuron_reduce-0.0.7-py3-none-any.whl (18 kB)\n",
            "Installing collected packages: neuron_reduce\n",
            "Successfully installed neuron_reduce-0.0.7\n"
          ]
        }
      ]
    },
    {
      "cell_type": "code",
      "source": [
        "!git clone https://github.com/davidfague/Model_Reduction_Methods.git"
      ],
      "metadata": {
        "id": "t4dVzA0WLZ9F",
        "colab": {
          "base_uri": "https://localhost:8080/"
        },
        "outputId": "65382a8b-2fb5-479b-c2f2-3f69cc98040d"
      },
      "id": "t4dVzA0WLZ9F",
      "execution_count": 3,
      "outputs": [
        {
          "output_type": "stream",
          "name": "stdout",
          "text": [
            "Cloning into 'Model_Reduction_Methods'...\n",
            "remote: Enumerating objects: 437, done.\u001b[K\n",
            "remote: Counting objects: 100% (123/123), done.\u001b[K\n",
            "remote: Compressing objects: 100% (123/123), done.\u001b[K\n",
            "remote: Total 437 (delta 70), reused 0 (delta 0), pack-reused 314\u001b[K\n",
            "Receiving objects: 100% (437/437), 3.02 MiB | 15.33 MiB/s, done.\n",
            "Resolving deltas: 100% (221/221), done.\n"
          ]
        }
      ]
    },
    {
      "cell_type": "code",
      "source": [
        "%cd Model_Reduction_Methods/\n",
        "\n",
        "#import reduction and expansion functions\n",
        "from test_neuron_reduce.subtree_reductor_func import subtree_reductor\n",
        "from cable_expander_func import cable_expander\n",
        "\n",
        "#import recording functions\n",
        "from stylized_module.recorder import Recorder\n",
        "\n",
        "#import analysis functions\n",
        "from utils import make_seg_df,generate_stylized_geometry,make_reduced_seg_df,plot_morphology,check_connectivity,generate_reduced_cell_seg_coords, create_seg_var_report\n",
        "\n",
        "import pandas as pd"
      ],
      "metadata": {
        "id": "cY9U_KPwLVAz",
        "colab": {
          "base_uri": "https://localhost:8080/"
        },
        "outputId": "7479e793-6ef9-433f-9bff-3139cbe4f9d1"
      },
      "id": "cY9U_KPwLVAz",
      "execution_count": 4,
      "outputs": [
        {
          "output_type": "stream",
          "name": "stdout",
          "text": [
            "/content/Model_Reduction_Methods\n"
          ]
        }
      ]
    },
    {
      "cell_type": "code",
      "source": [
        "%cd expand_example"
      ],
      "metadata": {
        "id": "vXTRrX-ILq6D",
        "colab": {
          "base_uri": "https://localhost:8080/"
        },
        "outputId": "b219d16a-1711-4a7a-e0ca-9cd9d03aef8a"
      },
      "id": "vXTRrX-ILq6D",
      "execution_count": 5,
      "outputs": [
        {
          "output_type": "stream",
          "name": "stdout",
          "text": [
            "/content/Model_Reduction_Methods/expand_example\n"
          ]
        }
      ]
    },
    {
      "cell_type": "code",
      "source": [
        "# compile the mod files\n",
        "!nrnivmodl mod"
      ],
      "metadata": {
        "id": "Dm-MdGeb6uZB",
        "colab": {
          "base_uri": "https://localhost:8080/"
        },
        "outputId": "3d3e07d8-a90d-496e-f3de-f2109d8ffa20"
      },
      "id": "Dm-MdGeb6uZB",
      "execution_count": 6,
      "outputs": [
        {
          "output_type": "stream",
          "name": "stdout",
          "text": [
            "/content/Model_Reduction_Methods/expand_example\n",
            "Mod files: \"mod/mod/CaDynamics_E2.mod\" \"mod/mod/Ca_HVA.mod\" \"mod/mod/Ca_LVAst.mod\" \"mod/mod/epsp.mod\" \"mod/mod/Ih.mod\" \"mod/mod/Im.mod\" \"mod/mod/K_Pst.mod\" \"mod/mod/K_Tst.mod\" \"mod/mod/Nap_Et2.mod\" \"mod/mod/NaTa_t.mod\" \"mod/mod/NaTs2_t.mod\" \"mod/mod/SK_E2.mod\" \"mod/mod/SKv3_1.mod\"\n",
            "\n",
            "Creating 'x86_64' directory for .o files.\n",
            "\n",
            " -> \u001b[32mNMODL\u001b[0m ../mod/CaDynamics_E2.mod\n",
            " -> \u001b[32mCompiling\u001b[0m mod_func.cpp\n",
            " -> \u001b[32mNMODL\u001b[0m ../mod/Ca_HVA.mod\n",
            " -> \u001b[32mNMODL\u001b[0m ../mod/Ca_LVAst.mod\n",
            "Translating CaDynamics_E2.mod into /content/Model_Reduction_Methods/expand_example/x86_64/CaDynamics_E2.c\n",
            "Thread Safe\n",
            "Translating Ca_HVA.mod into /content/Model_Reduction_Methods/expand_example/x86_64/Ca_HVA.c\n",
            "Thread Safe\n",
            " -> \u001b[32mNMODL\u001b[0m ../mod/epsp.mod\n",
            "Translating Ca_LVAst.mod into /content/Model_Reduction_Methods/expand_example/x86_64/Ca_LVAst.c\n",
            " -> \u001b[32mNMODL\u001b[0m ../mod/Ih.mod\n",
            "Thread Safe\n",
            "Translating epsp.mod into /content/Model_Reduction_Methods/expand_example/x86_64/epsp.c\n",
            "Translating Ih.mod into /content/Model_Reduction_Methods/expand_example/x86_64/Ih.c\n",
            "Thread Safe\n",
            " -> \u001b[32mNMODL\u001b[0m ../mod/Im.mod\n",
            "Thread Safe\n",
            " -> \u001b[32mNMODL\u001b[0m ../mod/K_Pst.mod\n",
            " -> \u001b[32mNMODL\u001b[0m ../mod/K_Tst.mod\n",
            "Translating Im.mod into /content/Model_Reduction_Methods/expand_example/x86_64/Im.c\n",
            "Translating K_Pst.mod into /content/Model_Reduction_Methods/expand_example/x86_64/K_Pst.c\n",
            "Thread Safe\n",
            " -> \u001b[32mNMODL\u001b[0m ../mod/Nap_Et2.mod\n",
            "Thread Safe\n",
            " -> \u001b[32mNMODL\u001b[0m ../mod/NaTa_t.mod\n",
            "Translating Nap_Et2.mod into /content/Model_Reduction_Methods/expand_example/x86_64/Nap_Et2.c\n",
            "Translating K_Tst.mod into /content/Model_Reduction_Methods/expand_example/x86_64/K_Tst.c\n",
            "Thread Safe\n",
            "Thread Safe\n",
            "Translating NaTa_t.mod into /content/Model_Reduction_Methods/expand_example/x86_64/NaTa_t.c\n",
            "Thread Safe\n",
            " -> \u001b[32mNMODL\u001b[0m ../mod/NaTs2_t.mod\n",
            " -> \u001b[32mNMODL\u001b[0m ../mod/SK_E2.mod\n",
            "Translating NaTs2_t.mod into /content/Model_Reduction_Methods/expand_example/x86_64/NaTs2_t.c\n",
            " -> \u001b[32mNMODL\u001b[0m ../mod/SKv3_1.mod\n",
            "Thread Safe\n",
            "Translating SK_E2.mod into /content/Model_Reduction_Methods/expand_example/x86_64/SK_E2.c\n",
            "Thread Safe\n",
            " -> \u001b[32mCompiling\u001b[0m CaDynamics_E2.c\n",
            "Translating SKv3_1.mod into /content/Model_Reduction_Methods/expand_example/x86_64/SKv3_1.c\n",
            "Thread Safe\n",
            " -> \u001b[32mCompiling\u001b[0m Ca_HVA.c\n",
            " -> \u001b[32mCompiling\u001b[0m Ca_LVAst.c\n",
            " -> \u001b[32mCompiling\u001b[0m epsp.c\n",
            " -> \u001b[32mCompiling\u001b[0m Ih.c\n",
            " -> \u001b[32mCompiling\u001b[0m Im.c\n",
            " -> \u001b[32mCompiling\u001b[0m K_Pst.c\n",
            " -> \u001b[32mCompiling\u001b[0m K_Tst.c\n",
            " -> \u001b[32mCompiling\u001b[0m Nap_Et2.c\n",
            " -> \u001b[32mCompiling\u001b[0m NaTa_t.c\n",
            " -> \u001b[32mCompiling\u001b[0m NaTs2_t.c\n",
            " -> \u001b[32mCompiling\u001b[0m SK_E2.c\n",
            " -> \u001b[32mCompiling\u001b[0m SKv3_1.c\n",
            " => \u001b[32mLINKING\u001b[0m shared library ./libnrnmech.so\n",
            " => \u001b[32mLINKING\u001b[0m executable ./special LDFLAGS are:    -pthread\n",
            "Successfully created x86_64/special\n"
          ]
        }
      ]
    },
    {
      "cell_type": "markdown",
      "id": "2a84fbea",
      "metadata": {
        "id": "2a84fbea"
      },
      "source": [
        "## Setup smiulation parameters"
      ]
    },
    {
      "cell_type": "code",
      "execution_count": 7,
      "id": "4be7f6fd",
      "metadata": {
        "id": "4be7f6fd",
        "colab": {
          "base_uri": "https://localhost:8080/"
        },
        "outputId": "3d3f5f40-fd41-497e-fd3d-872e0b4cffa0"
      },
      "outputs": [
        {
          "output_type": "execute_result",
          "data": {
            "text/plain": [
              "1.0"
            ]
          },
          "metadata": {},
          "execution_count": 7
        }
      ],
      "source": [
        "import numpy as np\n",
        "import pandas as pd\n",
        "import json\n",
        "import matplotlib.pyplot as plt\n",
        "import ipywidgets as widgets\n",
        "from neuron import h\n",
        "from scipy import signal\n",
        "from IPython.display import display, clear_output\n",
        "from ipywidgets import interactive_output, HBox, VBox, Label, Layout\n",
        "\n",
        "from __future__ import division\n",
        "from neuron import gui,h\n",
        "import numpy as np\n",
        "import time\n",
        "import matplotlib.pyplot as plt\n",
        "\n",
        "%matplotlib inline\n",
        "\n",
        "\n",
        "h.load_file('stdrun.hoc')\n",
        "# h.nrn_load_dll(paths.COMPILED_LIBRARY_REDUCED_ORDER)  # choose the set of mechanisms\n",
        "h.nrn_load_dll('./x86_64/.libs/libnrnmech.so')\n"
      ]
    },
    {
      "cell_type": "markdown",
      "id": "7927a07b",
      "metadata": {
        "id": "7927a07b"
      },
      "source": [
        "### Create a cell with reduced morphology"
      ]
    },
    {
      "cell_type": "code",
      "source": [
        "%ls"
      ],
      "metadata": {
        "id": "s0gis1f1OdWX",
        "colab": {
          "base_uri": "https://localhost:8080/"
        },
        "outputId": "e669ba7f-2e09-47a0-fa25-d2df24aaa9c4"
      },
      "id": "s0gis1f1OdWX",
      "execution_count": 8,
      "outputs": [
        {
          "output_type": "stream",
          "name": "stdout",
          "text": [
            "cell1.asc  example_expand.py  L5PCtemplate.hoc  \u001b[0m\u001b[01;34mx86_64\u001b[0m/\n",
            "Cell.hoc   L5PCbiophys3.hoc   \u001b[01;34mmod\u001b[0m/\n"
          ]
        }
      ]
    },
    {
      "cell_type": "code",
      "source": [
        "from abc import ABC, abstractmethod\n",
        "class PointCurrent(ABC):\n",
        "    \"\"\"A module for current point process\"\"\"\n",
        "\n",
        "    def __init__(self, cell, sec_index, loc=0.5):\n",
        "        \"\"\"\n",
        "        cell: target cell object\n",
        "        sec_index: index of the target section in the section list\n",
        "        loc: location on a section, between [0,1]\n",
        "        \"\"\"\n",
        "        self.cell = cell\n",
        "        self.sec_index = sec_index\n",
        "        self.loc = loc\n",
        "        self.pp_obj = None  # point process object\n",
        "        self.rec_vec = None  # vector for recording\n",
        "\n",
        "    @abstractmethod\n",
        "    def setup(self, record: bool = None) -> None:\n",
        "        pass\n",
        "\n",
        "    def setup_recorder(self):\n",
        "        size = [round(h.tstop / h.dt) + 1] if hasattr(h, 'tstop') else []\n",
        "        self.rec_vec = h.Vector(*size).record(self.pp_obj._ref_i)\n",
        "\n",
        "    def get_section(self) -> h.Section:\n",
        "        return self.cell.all[self.sec_index]\n",
        "\n",
        "    def get_segment(self):\n",
        "        return self.pp_obj.get_segment()\n",
        "\n",
        "    def get_segment_id(self) -> int:\n",
        "        \"\"\"Get the index of the injection target segment in the segment list\"\"\"\n",
        "        iseg = int(self.get_segment().x * self.get_section().nseg)\n",
        "        return self.cell.sec_id_in_seg[self.sec_index] + iseg\n"
      ],
      "metadata": {
        "id": "pqECeUrwUfCi"
      },
      "id": "pqECeUrwUfCi",
      "execution_count": 9,
      "outputs": []
    },
    {
      "cell_type": "code",
      "source": [
        "from typing import List, Optional, Any, TYPE_CHECKING\n",
        "class CurrentInjection(PointCurrent):\n",
        "    \"\"\"A module for current injection\"\"\"\n",
        "\n",
        "    def __init__(self, cell, current, sec_index: int, loc: float = 0.5,\n",
        "                 pulse: bool = True,\n",
        "                 dt: Optional[np.ndarray] = None, record: bool = False, **pulse_param: Any) -> None:\n",
        "        \"\"\"\n",
        "        cell: target cell object\n",
        "        sec_index: index of the target section in the section list\n",
        "        loc: location on a section, between [0,1]\n",
        "        pulse: If True, use pulse injection with keyword arguments in 'pulse_param'\n",
        "               If False, use waveform resources in vector 'current' as injection\n",
        "        Dt: current vector time step size\n",
        "        record: If True, enable recording current injection history\n",
        "        \"\"\"\n",
        "        super().__init__(cell, sec_index, loc)\n",
        "        self.pp_obj = h.IClamp(self.get_section()(self.loc))\n",
        "        self.inj_vec = None\n",
        "        if pulse:\n",
        "            self.setup_pulse(**pulse_param)\n",
        "        else:\n",
        "            if current is None:\n",
        "                current = [0]\n",
        "            self.setup_current(current, dt)\n",
        "        self.setup(record)\n",
        "\n",
        "    def setup(self, record: bool = False) -> None:\n",
        "        if record:\n",
        "            self.setup_recorder()\n",
        "\n",
        "    def setup_pulse(self, **pulse_param: Any) -> None:\n",
        "        \"\"\"Set IClamp attributes. Argument keyword: attribute name, arugment value: attribute value\"\"\"\n",
        "        for param, value in pulse_param.items():\n",
        "            setattr(self.pp_obj, param, value)\n",
        "\n",
        "    def setup_current(self, current, dt: Optional[np.ndarray]) -> None:\n",
        "        \"\"\"Set current injection with the waveform in vector 'current'\"\"\"\n",
        "        ccl = self.pp_obj\n",
        "        ccl.dur = 0\n",
        "        ccl.dur = h.tstop if hasattr(h, 'tstop') else 1e30\n",
        "        if dt is None:\n",
        "            dt = h.dt\n",
        "        self.inj_vec = h.Vector()\n",
        "        self.inj_vec.from_python(current)\n",
        "        self.inj_vec.append(0)\n",
        "        self.inj_vec.play(ccl._ref_amp, dt)"
      ],
      "metadata": {
        "id": "MoIoxXTDKdzh"
      },
      "id": "MoIoxXTDKdzh",
      "execution_count": 10,
      "outputs": []
    },
    {
      "cell_type": "code",
      "source": [
        "class Synapse(PointCurrent):\n",
        "    def __init__(self, cell, stim: h.NetStim, sec_index: int,\n",
        "                  syn_type: str = 'Exp2Syn', gmax: float = 0.01, loc: float = 0.5,\n",
        "                  record: bool = False):\n",
        "        super().__init__(cell, sec_index, loc)\n",
        "        self.stim = stim\n",
        "        self.gmax = gmax\n",
        "        self.__synapse_type(syn_type)\n",
        "        self.setup(record)\n",
        "\n",
        "    # PRIVATE METHODS\n",
        "    def __synapse_type(self, syn_type):\n",
        "        if syn_type == 'AlphaSynapse1':\n",
        "            # Reversal potential (mV); Synapse time constant (ms)\n",
        "            self.syn_params = {'e': 0., 'tau': 2.0}\n",
        "            # Variable name of maximum conductance (uS)\n",
        "            self.gmax_var = 'gmax'\n",
        "        elif syn_type == 'Exp2Syn':\n",
        "            self.syn_params = {'e': 0., 'tau1': 1.0, 'tau2': 3.0}\n",
        "            self.gmax_var = '_nc_weight'\n",
        "        else:\n",
        "            raise ValueError(\"Synpase type not defined.\")\n",
        "        self.syn_type = syn_type\n",
        "        self.pp_obj = getattr(h, syn_type)(self.get_section()(self.loc))\n",
        "\n",
        "    def __setup_synapse(self):\n",
        "        self.syn = self.pp_obj\n",
        "        self.nc = h.NetCon(self.stim, self.syn, 1, 0, 1)\n",
        "        for key, value in self.syn_params.items():\n",
        "            setattr(self.syn, key, value)\n",
        "        self.set_gmax()\n",
        "\n",
        "    # PUBLIC METHODS\n",
        "    def setup(self, record: bool = False):\n",
        "        self.__setup_synapse()\n",
        "        if record:\n",
        "            self.setup_recorder()\n",
        "    \n",
        "    def set_gmax(self, gmax: float = None):\n",
        "        if gmax is not None:\n",
        "            self.gmax = gmax\n",
        "        if self.gmax_var == '_nc_weight':\n",
        "            self.nc.weight[0] = self.gmax\n",
        "        else:\n",
        "            setattr(self.syn, self.gmax_var, self.gmax)"
      ],
      "metadata": {
        "id": "8TE_op1mUTii"
      },
      "id": "8TE_op1mUTii",
      "execution_count": 11,
      "outputs": []
    },
    {
      "cell_type": "code",
      "source": [
        "from typing import Optional, Union, List\n",
        "import math\n",
        "class cell_model():\n",
        "  '''expanded cell model class for ECP calculation\n",
        "  takes cell model and does bookkeeping for analysis functions\n",
        "  '''\n",
        "  def __init__(self,model,gen_3d=True,spike_threshold: Optional[float] = None):\n",
        "    self.all=model.all\n",
        "    self.soma=model.soma\n",
        "    self.apic=model.apic\n",
        "    self.dend=model.dend\n",
        "    self.axon=model.axon\n",
        "    self.spike_threshold = spike_threshold\n",
        "    self.segments=[]\n",
        "    self.injection=[]\n",
        "    self.synapse = []  # synapse objects\n",
        "    self.sec_id_lookup = {}  # dictionary from section type id to section index\n",
        "    self.sec_id_in_seg = []  # index of the first segment of each section in the segment list\n",
        "    self.sec_angs = [] # list of angles that were used to branch the cell\n",
        "    if gen_3d==True:\n",
        "      self.generate_sec_coords()\n",
        "    self.__store_segments()\n",
        "    self.__set_spike_recorder()\n",
        "    if self.apic[2].n3d()==2: #calc_seg_coords only works for cell with sections that only have two 3d coordinates. #detailed cell has many 3d coordinates\n",
        "      self.__calc_seg_coords()\n",
        "    self.grp_ids = []\n",
        "    self.generate_geometry_file()\n",
        "\n",
        "  def __calc_seg_coords(self):\n",
        "    \"\"\"Calculate segment coordinates for ECP calculation\"\"\"\n",
        "    p0 = np.empty((self._nseg, 3))\n",
        "    p1 = np.empty((self._nseg, 3))\n",
        "    p05 = np.empty((self._nseg, 3))\n",
        "    r = np.empty(self._nseg)\n",
        "    for isec, sec in enumerate(self.all):\n",
        "        iseg = self.sec_id_in_seg[isec]\n",
        "        nseg = sec.nseg\n",
        "        pt0 = np.array([sec.x3d(0), sec.y3d(0), sec.z3d(0)])\n",
        "        pt1 = np.array([sec.x3d(1), sec.y3d(1), sec.z3d(1)])\n",
        "        pts = np.linspace(pt0, pt1, 2 * nseg + 1)\n",
        "        p0[iseg:iseg + nseg, :] = pts[:-2:2, :]\n",
        "        p1[iseg:iseg + nseg, :] = pts[2::2, :]\n",
        "        p05[iseg:iseg + nseg, :] = pts[1:-1:2, :]\n",
        "        r[iseg:iseg + nseg] = sec.diam / 2\n",
        "    self.seg_coords = {'dl': p1 - p0, 'pc': p05, 'r': r}\n",
        "\n",
        "  def __store_segments(self):\n",
        "    self.segments = []\n",
        "    self.sec_id_in_seg = []\n",
        "    nseg = 0\n",
        "    for sec in self.all:\n",
        "        self.sec_id_in_seg.append(nseg)\n",
        "        nseg += sec.nseg\n",
        "        for seg in sec:\n",
        "            self.segments.append(seg)\n",
        "            self.__store_point_processes(seg)\n",
        "    self._nseg = nseg\n",
        "\n",
        "  def __store_point_processes(self,seg):\n",
        "    for pp in seg.point_processes():\n",
        "        self.injection.append(pp)\n",
        "\n",
        "  def __set_spike_recorder(self, threshold: Optional = None):\n",
        "      if threshold is not None:\n",
        "          self.spike_threshold = threshold\n",
        "      if self.spike_threshold is None:\n",
        "          self.spikes = None\n",
        "      else:\n",
        "          vec = h.Vector()\n",
        "          nc = h.NetCon(self.soma(0.5)._ref_v, None, sec=self.soma)\n",
        "          nc.threshold = self.spike_threshold\n",
        "          nc.record(vec)\n",
        "          self.spikes = vec\n",
        "\n",
        "  def add_injection(self, sec_index, **kwargs):\n",
        "        \"\"\"Add current injection to a section by its index\"\"\"\n",
        "        self.injection.append(CurrentInjection(self, sec_index, **kwargs))\n",
        "\n",
        "  def add_synapse(self, stim: h.NetStim, sec_index: int, **kwargs):\n",
        "        \"\"\"Add synapse to a section by its index\"\"\"\n",
        "        self.synapse.append(Synapse(self, stim, sec_index, **kwargs))\n",
        "\n",
        "  def generate_sec_coords(self):\n",
        "      '''\n",
        "      Note: need to improve branching so that it is random direction in a quadrant of a sphere rather than x-y plane\n",
        "      takes a cell that has no n3d() coordinates and gives new coordinates\n",
        "      by choosing an arbitrary direction for the subtree to move\n",
        "      '''\n",
        "      parent_sections=[] #list for already seen parent_sections\n",
        "      section_obj_list= self.all\n",
        "      # print(section_obj_list)\n",
        "      axial=False\n",
        "      for sec in section_obj_list:\n",
        "        sec_length=sec.L\n",
        "        if sec is self.soma:\n",
        "          self.sec_angs.append(0)\n",
        "          pt0 = [0., -1 * sec.diam, 0.]\n",
        "          pt1 = [0., 0., 0.]\n",
        "          sec.pt3dclear()\n",
        "          sec.pt3dadd(*pt0, sec.diam)\n",
        "          sec.pt3dadd(*pt1, sec.diam)\n",
        "          print('Changing soma nseg from',sec.nseg,'to 1')\n",
        "          sec.nseg = 1\n",
        "        else:\n",
        "          if sec.parentseg() is not None:\n",
        "            psec=sec.parentseg().sec\n",
        "            if psec==self.soma:\n",
        "              nbranch=1\n",
        "            else:\n",
        "              nbranch = len(psec.children())\n",
        "          else:\n",
        "            psec=None # may need to provide more implementation in the case of no 3d coords and no parent section.\n",
        "            nbranch=1\n",
        "          rot = 2 * math.pi/nbranch\n",
        "          i=parent_sections.count(psec)\n",
        "          parent_sections.append(psec)\n",
        "          length=sec.L\n",
        "          diameter=sec.diam\n",
        "          fullsecname = sec.name()\n",
        "          # print(fullsecname)\n",
        "          sec_type = fullsecname.split(\".\")[1][:4]\n",
        "          # print(sec_type)\n",
        "          if sec_type == \"apic\":\n",
        "            ang=np.random.normal(scale=0.1,loc=1.570796327) # somewhat arbitrary angle in the Q1/Q2 of xy-plane # may adjust as needed\n",
        "          elif sec_type==\"dend\":\n",
        "            ang=-np.random.uniform(low=0,high=np.pi) # arbitrary angle in the Q3/Q4 of xy=plane # may adjust as needed \n",
        "          else:\n",
        "            print(sec,sec_type,' is not apic or dend')\n",
        "            ang=0\n",
        "          if axial == True:\n",
        "            x = 0\n",
        "            y = length*((ang>=0)*2-1)\n",
        "          else:\n",
        "            x = length * math.cos(ang)\n",
        "            y = length * math.sin(ang)\n",
        "          self.sec_angs.append(ang)\n",
        "          #find starting position\n",
        "          pt0 = [psec.x3d(1), psec.y3d(1), psec.z3d(1)]\n",
        "          pt1 = [0., 0., 0.]\n",
        "          pt1[1] = pt0[1] + y\n",
        "          pt1[0] = pt0[0] + x * math.cos(i * rot)\n",
        "          pt1[2] = pt0[2] + x * math.sin(i * rot)\n",
        "          sec.pt3dclear()\n",
        "          sec.pt3dadd(*pt0, sec.diam)\n",
        "          sec.pt3dadd(*pt1, sec.diam)\n",
        "        if int(sec.L) != int(sec_length):\n",
        "          print('Error: generation of 3D coordinates resulted in change of section length for',sec,'from',sec_length,'to',sec.L)\n",
        "\n",
        "  def generate_geometry_file(self):\n",
        "    '''\n",
        "    generates geometry file specifying name, pid, ang, radius, length, type\n",
        "    work in progress\n",
        "    '''\n",
        "    df = pd.DataFrame()\n",
        "    ids=[]\n",
        "    names=[]\n",
        "    types=[]\n",
        "    pids=[]\n",
        "    axials=[]\n",
        "    nbranchs=[]\n",
        "    Ls=[]\n",
        "    Rs=[]\n",
        "    # angs=self.angs\n",
        "    for sec in self.all:\n",
        "      # print(dir(sec))\n",
        "      name=sec.name()\n",
        "      # print(name)\n",
        "      names.append(name)\n",
        "      ids.append(names.index(name))\n",
        "      _,sec_type_withinteger=name.split('.')\n",
        "      sec_type,_=sec_type_withinteger.split('[')\n",
        "      types.append(sec_type)\n",
        "      pseg = sec.parentseg()\n",
        "      if pseg == None:\n",
        "        pids.append(None)\n",
        "      else:\n",
        "        psec=pseg.sec\n",
        "        px3d=psec.x3d\n",
        "        pids.append(names.index(psec.name()))\n",
        "      # axials.append('TRUE')\n",
        "      # nbranchs.append(1)\n",
        "      Ls.append(sec.L)\n",
        "      # print(dir(sec))\n",
        "      Rs.append(sec.diam/2)\n",
        "    df['id']=ids\n",
        "    df['name']=names\n",
        "    df['pid']=pids\n",
        "    df['type']=types\n",
        "    df['L']=Ls\n",
        "    df['R']=Rs\n",
        "    # df['axials']=axials # may need to fix\n",
        "    # df['nbranch']=nbranchs # may need to fix\n",
        "    self.geometry=df"
      ],
      "metadata": {
        "id": "ZS3X-yZr-4kV"
      },
      "id": "ZS3X-yZr-4kV",
      "execution_count": 12,
      "outputs": []
    },
    {
      "cell_type": "code",
      "source": [
        "def convert_sectionlist(sectionlist):\n",
        "  '''\n",
        "  convert nrn sectionlist objects to python list\n",
        "  '''\n",
        "  new_sectionlist=[]\n",
        "  if str(type(sectionlist)) == \"<class 'hoc.HocObject'>\":\n",
        "    for sec in sectionlist:\n",
        "      new_sectionlist.append(sec)\n",
        "  return new_sectionlist"
      ],
      "metadata": {
        "id": "pULdhTa_y751"
      },
      "id": "pULdhTa_y751",
      "execution_count": 13,
      "outputs": []
    },
    {
      "cell_type": "code",
      "execution_count": 14,
      "id": "18a97eeb",
      "metadata": {
        "id": "18a97eeb",
        "colab": {
          "base_uri": "https://localhost:8080/",
          "height": 443
        },
        "outputId": "0a30e984-825d-41ae-e8a4-509ff474e2d3"
      },
      "outputs": [
        {
          "output_type": "stream",
          "name": "stdout",
          "text": [
            "trunk_diam: 3.7176523208618155 |trunk_length: 698.0975964944687 |branch_diam: 1.475351301247016 |branch_length: 1081.9141048660235\n",
            "Changing soma nseg from 1 to 1\n",
            "Error: generation of 3D coordinates resulted in change of section length for L5PCtemplate[0].soma[0] from 23.169408032474415 to 13.471518516540527\n",
            "L5PCtemplate[0].axon[0] axon  is not apic or dend\n",
            "L5PCtemplate[0].axon[1] axon  is not apic or dend\n"
          ]
        },
        {
          "output_type": "error",
          "ename": "TypeError",
          "evalue": "ignored",
          "traceback": [
            "\u001b[0;31m---------------------------------------------------------------------------\u001b[0m",
            "\u001b[0;31mTypeError\u001b[0m                                 Traceback (most recent call last)",
            "\u001b[0;32m<ipython-input-14-5b9fe25fafe2>\u001b[0m in \u001b[0;36m<cell line: 54>\u001b[0;34m()\u001b[0m\n\u001b[1;32m     52\u001b[0m \u001b[0;31m# cell._nbranch=4\u001b[0m\u001b[0;34m\u001b[0m\u001b[0;34m\u001b[0m\u001b[0m\n\u001b[1;32m     53\u001b[0m \u001b[0;34m\u001b[0m\u001b[0m\n\u001b[0;32m---> 54\u001b[0;31m \u001b[0moriginal_model\u001b[0m\u001b[0;34m.\u001b[0m\u001b[0madd_injection\u001b[0m\u001b[0;34m(\u001b[0m\u001b[0msec_index\u001b[0m\u001b[0;34m=\u001b[0m\u001b[0moriginal_model\u001b[0m\u001b[0;34m.\u001b[0m\u001b[0mall\u001b[0m\u001b[0;34m[\u001b[0m\u001b[0;36m0\u001b[0m\u001b[0;34m]\u001b[0m\u001b[0;34m,\u001b[0m\u001b[0mrecord\u001b[0m\u001b[0;34m=\u001b[0m\u001b[0;32mTrue\u001b[0m\u001b[0;34m,\u001b[0m\u001b[0mdelay\u001b[0m\u001b[0;34m=\u001b[0m\u001b[0;36m150\u001b[0m\u001b[0;34m,\u001b[0m\u001b[0mdur\u001b[0m\u001b[0;34m=\u001b[0m\u001b[0;36m850\u001b[0m\u001b[0;34m,\u001b[0m\u001b[0mamp\u001b[0m\u001b[0;34m=\u001b[0m\u001b[0;34m-\u001b[0m\u001b[0;36m0.1\u001b[0m\u001b[0;34m)\u001b[0m \u001b[0;31m# Tune for proper action potential\u001b[0m\u001b[0;34m\u001b[0m\u001b[0;34m\u001b[0m\u001b[0m\n\u001b[0m\u001b[1;32m     55\u001b[0m \u001b[0mcell\u001b[0m\u001b[0;34m.\u001b[0m\u001b[0madd_injection\u001b[0m\u001b[0;34m(\u001b[0m\u001b[0msec_index\u001b[0m\u001b[0;34m=\u001b[0m\u001b[0mcell\u001b[0m\u001b[0;34m.\u001b[0m\u001b[0mall\u001b[0m\u001b[0;34m.\u001b[0m\u001b[0mindex\u001b[0m\u001b[0;34m(\u001b[0m\u001b[0mcell\u001b[0m\u001b[0;34m.\u001b[0m\u001b[0msoma\u001b[0m\u001b[0;34m)\u001b[0m\u001b[0;34m,\u001b[0m\u001b[0mrecord\u001b[0m\u001b[0;34m=\u001b[0m\u001b[0;32mTrue\u001b[0m\u001b[0;34m,\u001b[0m\u001b[0mdelay\u001b[0m\u001b[0;34m=\u001b[0m\u001b[0;36m150\u001b[0m\u001b[0;34m,\u001b[0m\u001b[0mdur\u001b[0m\u001b[0;34m=\u001b[0m\u001b[0;36m850\u001b[0m\u001b[0;34m,\u001b[0m\u001b[0mamp\u001b[0m\u001b[0;34m=\u001b[0m\u001b[0;34m-\u001b[0m\u001b[0;36m0.1\u001b[0m\u001b[0;34m)\u001b[0m \u001b[0;31m# Tune for proper action potential\u001b[0m\u001b[0;34m\u001b[0m\u001b[0;34m\u001b[0m\u001b[0m\n\u001b[1;32m     56\u001b[0m \u001b[0;31m# # Create synaptic input\u001b[0m\u001b[0;34m\u001b[0m\u001b[0;34m\u001b[0m\u001b[0m\n",
            "\u001b[0;32m<ipython-input-12-e7d74d2e3f4a>\u001b[0m in \u001b[0;36madd_injection\u001b[0;34m(self, sec_index, **kwargs)\u001b[0m\n\u001b[1;32m     75\u001b[0m   \u001b[0;32mdef\u001b[0m \u001b[0madd_injection\u001b[0m\u001b[0;34m(\u001b[0m\u001b[0mself\u001b[0m\u001b[0;34m,\u001b[0m \u001b[0msec_index\u001b[0m\u001b[0;34m,\u001b[0m \u001b[0;34m**\u001b[0m\u001b[0mkwargs\u001b[0m\u001b[0;34m)\u001b[0m\u001b[0;34m:\u001b[0m\u001b[0;34m\u001b[0m\u001b[0;34m\u001b[0m\u001b[0m\n\u001b[1;32m     76\u001b[0m         \u001b[0;34m\"\"\"Add current injection to a section by its index\"\"\"\u001b[0m\u001b[0;34m\u001b[0m\u001b[0;34m\u001b[0m\u001b[0m\n\u001b[0;32m---> 77\u001b[0;31m         \u001b[0mself\u001b[0m\u001b[0;34m.\u001b[0m\u001b[0minjection\u001b[0m\u001b[0;34m.\u001b[0m\u001b[0mappend\u001b[0m\u001b[0;34m(\u001b[0m\u001b[0mCurrentInjection\u001b[0m\u001b[0;34m(\u001b[0m\u001b[0mself\u001b[0m\u001b[0;34m,\u001b[0m \u001b[0msec_index\u001b[0m\u001b[0;34m,\u001b[0m \u001b[0;34m**\u001b[0m\u001b[0mkwargs\u001b[0m\u001b[0;34m)\u001b[0m\u001b[0;34m)\u001b[0m\u001b[0;34m\u001b[0m\u001b[0;34m\u001b[0m\u001b[0m\n\u001b[0m\u001b[1;32m     78\u001b[0m \u001b[0;34m\u001b[0m\u001b[0m\n\u001b[1;32m     79\u001b[0m   \u001b[0;32mdef\u001b[0m \u001b[0madd_synapse\u001b[0m\u001b[0;34m(\u001b[0m\u001b[0mself\u001b[0m\u001b[0;34m,\u001b[0m \u001b[0mstim\u001b[0m\u001b[0;34m:\u001b[0m \u001b[0mh\u001b[0m\u001b[0;34m.\u001b[0m\u001b[0mNetStim\u001b[0m\u001b[0;34m,\u001b[0m \u001b[0msec_index\u001b[0m\u001b[0;34m:\u001b[0m \u001b[0mint\u001b[0m\u001b[0;34m,\u001b[0m \u001b[0;34m**\u001b[0m\u001b[0mkwargs\u001b[0m\u001b[0;34m)\u001b[0m\u001b[0;34m:\u001b[0m\u001b[0;34m\u001b[0m\u001b[0;34m\u001b[0m\u001b[0m\n",
            "\u001b[0;31mTypeError\u001b[0m: __init__() missing 1 required positional argument: 'sec_index'"
          ]
        }
      ],
      "source": [
        "\n",
        "# # Load biophysical parameters from a json file\n",
        "# filepath = os.path.join(paths.RESOURCES_ROOT, 'biophys_parameters/ReducedOrderL5_passive.json')\n",
        "# with open(filepath) as f:\n",
        "#     biophys_param = json.load(f)\n",
        "# for genome in biophys_param['genome']:\n",
        "#     if genome['value'] != \"\": genome['value'] = float(genome['value'])\n",
        "\n",
        "h.load_file('L5PCbiophys3.hoc')\n",
        "\n",
        "# # Load morphology parameters from a csv file\n",
        "# geometry = pd.read_csv(paths.GEO_REDUCED_ORDER, index_col='id')\n",
        "h.load_file(\"import3d.hoc\")\n",
        "\n",
        "\n",
        "# Create a cell object\n",
        "# cell = ReducedOrderL5CellPassiveDendrite(geometry=geometry, full_biophys=biophys_param)\n",
        "h.load_file('L5PCtemplate.hoc')\n",
        "complex_cell = h.L5PCtemplate('cell1.asc')\n",
        "h.celsius = 37\n",
        "h.v_init = complex_cell.soma[0].e_pas\n",
        "\n",
        "synapses_list=[]\n",
        "netcons_list=[]\n",
        "\n",
        "#reduce dendritic trees to cables\n",
        "reduced_cell, synapses_list, netcons_list, txt = subtree_reductor(complex_cell, synapses_list, netcons_list, reduction_frequency=0,return_seg_to_seg=True)\n",
        "\n",
        "# print('reduced cell n3d')\n",
        "# for sec in reduced_cell.dend:\n",
        "#   print(sec,sec.n3d())\n",
        "\n",
        "#expand cables to idealized dendritic trees\n",
        "sections_to_expand = [reduced_cell.hoc_model.apic[0]]\n",
        "furcations_x=[0.289004]\n",
        "nbranches=[4]\n",
        "reduced_dendritic_cell, synapses_list, netcons_list, txt = cable_expander(reduced_cell, sections_to_expand, furcations_x, nbranches, \n",
        "                                                                          synapses_list, netcons_list, reduction_frequency=0,return_seg_to_seg=True)\n",
        "\n",
        "original_cell = h.L5PCtemplate('cell1.asc')\n",
        "original_model = cell_model(original_cell,gen_3d=False)\n",
        "\n",
        "original_model.all=convert_sectionlist(original_model.all)\n",
        "original_model.soma=convert_sectionlist(original_model.soma)\n",
        "original_model.dend=convert_sectionlist(original_model.dend)\n",
        "original_model.apic=convert_sectionlist(original_model.apic)\n",
        "# print('dendritic cell n3d')\n",
        "# for sec in reduced_dendritic_cell.all:\n",
        "#   print(sec, sec.n3d())\n",
        "\n",
        "#use defined cell_model class for generating 3d coordinates, recording ECP, 'book-keeping' etc...\n",
        "cell = cell_model(reduced_dendritic_cell)\n",
        "# cell._nbranch=4\n",
        "\n",
        "original_model.add_injection(sec_index=original_model.all[0],record=True,delay=150,dur=850,amp=-0.1) # Tune for proper action potential \n",
        "cell.add_injection(sec_index=cell.all.index(cell.soma),record=True,delay=150,dur=850,amp=-0.1) # Tune for proper action potential\n",
        "# # Create synaptic input\n",
        "# stim = h.NetStim()\n",
        "# stim.number = 1  # only one event\n",
        "# stim.start = 2.0  # delay (ms)\n",
        "# gmax = 0.02  # default synapse maximum conductance (uS)\n",
        "# # Add synapse to soma\n",
        "# cell.add_synapse(stim, sec_index=0, gmax=gmax)\n",
        "# # Add synapse to apical tufts\n",
        "# for i,sec in enumerate(cell.apic):\n",
        "#     cell.add_synapse(stim, sec_index=cell.all.index(sec), gmax=gmax / cell._nbranch) # need to adjust to only tufts\n"
      ]
    },
    {
      "cell_type": "code",
      "source": [
        "# # sectionlist=original_model.all\n",
        "# # print(str(type(sectionlist)))\n",
        "# def convert_sectionlist(sectionlist):\n",
        "#   '''\n",
        "#   convert nrn sectionlist objects to python list\n",
        "#   '''\n",
        "#   new_sectionlist=[]\n",
        "#   if str(type(sectionlist)) == \"<class 'hoc.HocObject'>\":\n",
        "#     for sec in sectionlist:\n",
        "#       new_sectionlist.append(sec)\n",
        "#   return new_sectionlist\n",
        "# print(original_model.all)\n",
        "# print(original_model.soma)\n",
        "# print(original_model.dend)\n",
        "# print(original_model.apic)\n",
        "# original_model.all=convert_sectionlist(original_model.all)\n",
        "# original_model.soma=convert_sectionlist(original_model.soma)\n",
        "# original_model.dend=convert_sectionlist(original_model.dend)\n",
        "# original_model.apic=convert_sectionlist(original_model.apic)\n",
        "# print(original_model.all)\n",
        "# print(original_model.soma)\n",
        "# print(original_model.dend)\n",
        "# print(original_model.apic)"
      ],
      "metadata": {
        "id": "Dx24NEK3wSCl"
      },
      "id": "Dx24NEK3wSCl",
      "execution_count": null,
      "outputs": []
    },
    {
      "cell_type": "code",
      "source": [
        "# # compare \n",
        "# for sec in cell.all:\n",
        "#   for i in range(sec.n3d()):\n",
        "#     print(sec.x3d(i))"
      ],
      "metadata": {
        "id": "4QUvM0h7JzFG"
      },
      "id": "4QUvM0h7JzFG",
      "execution_count": null,
      "outputs": []
    },
    {
      "cell_type": "code",
      "source": [
        "# print(cell.seg_coords['pc'][0])"
      ],
      "metadata": {
        "id": "gE3JYuFhM1_6"
      },
      "id": "gE3JYuFhM1_6",
      "execution_count": null,
      "outputs": []
    },
    {
      "cell_type": "code",
      "source": [
        "# dir(cell)"
      ],
      "metadata": {
        "id": "akYHQOGDKiW5"
      },
      "id": "akYHQOGDKiW5",
      "execution_count": null,
      "outputs": []
    },
    {
      "cell_type": "code",
      "source": [
        "# make_reduced_seg_df(cell,\"segments_expanded.csv\") #need to improve make_reduced_seg_df\n",
        "# expanded_segments_df=pd.read_csv(\"segments_expanded.csv\")\n",
        "# plot_morphology(expanded_segments_df,\"expanded_morphology.svg\")"
      ],
      "metadata": {
        "id": "-ZwVHxQl5gLh"
      },
      "id": "-ZwVHxQl5gLh",
      "execution_count": null,
      "outputs": []
    },
    {
      "cell_type": "code",
      "source": [
        "import os\n",
        "\n",
        "RunningInCOLAB = 'google.colab' in str(get_ipython())\n",
        "if RunningInCOLAB:\n",
        "    !pip install neuron==8.0.0 &> /dev/null\n",
        "    os.chdir('/content')\n",
        "    if not os.path.isdir('Stylized-Single-Cell-and-Extracellular-Potential'):\n",
        "        !git clone https://github.com/chenziao/Stylized-Single-Cell-and-Extracellular-Potential.git &> /dev/null \n",
        "    os.chdir('Stylized-Single-Cell-and-Extracellular-Potential')\n",
        "    %ls"
      ],
      "metadata": {
        "id": "D6vyubrwOvA_"
      },
      "id": "D6vyubrwOvA_",
      "execution_count": null,
      "outputs": []
    },
    {
      "cell_type": "code",
      "source": [
        "from cell_inference.config import params, paths\n",
        "from cell_inference.cells.activecell_axon import ReducedOrderL5Cell, ReducedOrderL5CellPassiveDendrite\n",
        "from cell_inference.utils.currents.ecp import EcpMod\n",
        "from cell_inference.utils.currents.recorder import Recorder\n",
        "from cell_inference.utils.plotting.plot_morphology import plot_morphology\n",
        "from cell_inference.utils.plotting.plot_results import plot_lfp_heatmap, plot_lfp_traces\n",
        "from cell_inference.utils.plotting.plot_variable_with_morphology import plot_variable_with_morphology\n",
        "from cell_inference.utils.metrics.measure_segment_distance import measure_segment_distance"
      ],
      "metadata": {
        "id": "X7p40K3RO1RQ"
      },
      "id": "X7p40K3RO1RQ",
      "execution_count": null,
      "outputs": []
    },
    {
      "cell_type": "code",
      "source": [
        "# h.dt = params.DT  # time step\n",
        "# h.steps_per_ms = 1/h.dt\n",
        "# h.tstop = params.TSTOP  # simulation stop time\n",
        "\n",
        "# # Record time points\n",
        "# t_vec = h.Vector(round(h.tstop / h.dt) + 1).record(h._ref_t)\n",
        "\n",
        "# # Record membrane voltage of all segments\n",
        "# V_rec = Recorder(cell.segments)"
      ],
      "metadata": {
        "id": "tPrRLXanOsjD"
      },
      "id": "tPrRLXanOsjD",
      "execution_count": null,
      "outputs": []
    },
    {
      "cell_type": "code",
      "source": [
        "# Run simulation\n",
        "set_synapse()\n",
        "h.run()\n",
        "# Get results\n",
        "t = t_vec.as_numpy().copy()  # time array (ms)\n",
        "# soma membrane potential\n",
        "Vm = V_rec.as_numpy()\n",
        "v_soma = Vm[cell.sec_id_in_seg[cell.all.index(cell.soma)]]\n",
        "# v_tfut = Vm[cell.sec_id_in_seg[cell.all.index(cell.apic[1])]]\n",
        "\n",
        "# Soma membrane potential\n",
        "plt.figure(figsize=(10, 4))\n",
        "plt.plot(t, v_soma, label='Soma')\n",
        "plt.plot(t, v_tfut, label='Tuft')\n",
        "plt.ylabel('Membrane potential (mV)')\n",
        "plt.xlabel('time (ms)')\n",
        "plt.xlim(t[[0, -1]])\n",
        "plt.legend()\n",
        "\n",
        "\n",
        "\n",
        "plt.show()"
      ],
      "metadata": {
        "id": "pCtwP5OpOhwi"
      },
      "id": "pCtwP5OpOhwi",
      "execution_count": null,
      "outputs": []
    },
    {
      "cell_type": "code",
      "source": [
        "from pandas.core.internals.managers import create_block_manager_from_arrays\n",
        "v_dend = dend_v.as_numpy()\n",
        "\n",
        "v_rest = v_dend[0][1000]\n",
        "print('v_rest:',v_rest)\n",
        "v_final = v_dend[0][5000]\n",
        "print('v_final:', v_final)\n",
        "\n",
        "calc = v_rest -((v_rest - v_final) * 0.638)\n",
        "\n",
        "print('v_tau:',calc)\n",
        "\n",
        "\n",
        "i = 150 \n",
        "while v_dend[0][i] > calc:\n",
        "  i = i + 1\n",
        "\n",
        "print('v at tic:',v_dend[0][i])\n",
        "\n",
        "\n",
        "timeAtV = i/10\n",
        "print('timeAtV:', timeAtV)\n",
        "print('timestep where tau occurs:', i)\n",
        "t = timeAtV - 150\n",
        "t_ins = t/1000\n",
        "\n",
        "print('tau:',t,'(ms)')\n",
        "print('tau:',t_ins,'(s)')\n",
        "\n",
        "\n",
        "deltaV = (v_rest - v_final)\n",
        "deltaI = (0 - (-100))\n",
        "dVdI = deltaV / (deltaI /1000)\n",
        "\n",
        "print('Input Resistance(dVdI):',dVdI,'MOhms')"
      ],
      "metadata": {
        "id": "yfIKZbqeO3kk"
      },
      "id": "yfIKZbqeO3kk",
      "execution_count": null,
      "outputs": []
    },
    {
      "cell_type": "code",
      "source": [
        "import matplotlib.pyplot as plt\n",
        "%matplotlib inline\n",
        "\n",
        "\n",
        "plt.figure(figsize=(15,4))\n",
        "plt.plot(np.arange(0,((h.tstop)+.1),.1),v_dend[0],color='r')\n",
        "plt.hlines(-65,0,tstop, color = 'grey', linestyle = 'dashed')\n",
        "plt.hlines(-40,0,tstop, color = 'grey', linestyle = 'dashed')\n",
        "plt.hlines(0,0,tstop, color = 'grey', linestyle = 'dashed')\n",
        "plt.vlines(150,50,-100, color = 'grey', linestyle = 'dashed')\n",
        "plt.text(2,3,'0 mV')\n",
        "plt.hlines(-10,50,70)\n",
        "plt.vlines(50,-10,0)\n",
        "plt.text(50,-15,'10 ms')\n",
        "plt.text(2,-5,'10 mV')\n",
        "plt.text(2,-37,'-40 mV')\n",
        "plt.text(2,-62,'-65 mV')\n",
        "plt.title('Soma Voltage')\n",
        "plt.box(False)\n",
        "plt.xticks([])\n",
        "plt.yticks([])"
      ],
      "metadata": {
        "id": "VxnT-C1uJmB9"
      },
      "id": "VxnT-C1uJmB9",
      "execution_count": null,
      "outputs": []
    },
    {
      "cell_type": "markdown",
      "id": "0d582310",
      "metadata": {
        "id": "0d582310"
      },
      "source": [
        "#### Set synaptic input\n",
        "\n",
        "Use the toggle button to switch synapse location between the soma and the proximal apical tuft dendrite. Use the slider 'Synapse maximal conductance' to change synapse strength."
      ]
    },
    {
      "cell_type": "code",
      "execution_count": null,
      "id": "ce8d1856",
      "metadata": {
        "id": "ce8d1856"
      },
      "outputs": [],
      "source": [
        "# w_syn_site = widgets.ToggleButtons(options=['Soma', 'Apical tuft (proximal)'])\n",
        "# w_gmax = widgets.FloatSlider(value=gmax, min=0, max=0.1, step=0.0002, readout_format='.4f')\n",
        "# display(VBox([w_syn_site, HBox([Label('Synapse maximal conductance (uS)'), w_gmax])]))\n",
        "\n",
        "# def set_synapse():\n",
        "#     soma_syn = w_syn_site.value == 'Soma'\n",
        "#     gmax_soma = w_gmax.value if soma_syn else 0\n",
        "#     gmax_tuft = 0 if soma_syn else w_gmax.value / cell._nbranch\n",
        "#     cell.synapse[0].set_gmax(gmax_soma)\n",
        "#     for syn in cell.synapse[1:]:\n",
        "#         syn.set_gmax(gmax_tuft)"
      ]
    },
    {
      "cell_type": "markdown",
      "id": "2ca15375",
      "metadata": {
        "id": "2ca15375"
      },
      "source": [
        "## Run simulation and plot results\n",
        "\n",
        "Run the codes below to simulate and display results everytime after you change the parameters above."
      ]
    },
    {
      "cell_type": "markdown",
      "id": "5c3e3e52",
      "metadata": {
        "id": "5c3e3e52"
      },
      "source": [
        "## Electrotonic distance\n",
        "\n",
        "Neuron has a tool for electrotonic analysis [https://www.neuron.yale.edu/neuron/static/docs/zclass/zclass.html](https://www.neuron.yale.edu/neuron/static/docs/zclass/zclass.html). It computes the electrotonic distance defined by attenuation, but the classical definition is [anatomical distance/length constant](https://www.neuron.yale.edu/neuron/static/docs/zclass/NIPS94/nipsfin.html).\n",
        "\n",
        "The plot below shows the membrane potential timecourse at several locations on the cell. The electrotonic distance computed by Neuron of each location is also shown with both number and color. The distance should always be a positive value, but it is labeled negative for the basal dendrites and the axon intentionally so that it can be easily distinguished from the apical dendrites."
      ]
    },
    {
      "cell_type": "code",
      "source": [
        "# geometry=cell.geometry"
      ],
      "metadata": {
        "id": "cNsNKTKuB0XA"
      },
      "id": "cNsNKTKuB0XA",
      "execution_count": null,
      "outputs": []
    },
    {
      "cell_type": "code",
      "execution_count": null,
      "id": "729a65ff",
      "metadata": {
        "id": "729a65ff"
      },
      "outputs": [],
      "source": [
        "# for syn in cell.synapse:\n",
        "#     syn.set_gmax(0)\n",
        "# h.run()\n",
        "\n",
        "# sec_type_swc = {sec['name']: sec['type'] for _, sec in geometry.iterrows()}\n",
        "# # sec_type = [sec_type_swc[sec.name().split('.')[-1]] for sec in cell.all] # original\n",
        "# # sec_type = [sec_type_swc[sec.name().split('.')[-1].split('[')[0]] for sec in cell.all] # possible alternative?\n",
        "# sec_type = [sec_type_swc[sec.name()] for sec in cell.all]\n",
        "# freq = 0 # Hz\n",
        "# seg_prop, _, _ = measure_segment_distance(cell.soma , cell.all, sec_type, freq)\n",
        "\n",
        "# select_seg = [[cell.sec_id_in_seg[sec[0]], cell.get_sec_by_id(sec[0]).nseg -1] for sec in cell.sec_id_lookup.values()]\n",
        "# select_seg = np.sum(np.array(select_seg), axis=1)\n",
        "# # select_seg = np.unique(np.cumsum(np.array(select_seg), axis=1).ravel())\n",
        "# _ = plot_variable_with_morphology(cell.seg_coords, seg_prop, Vm, t=t, axes=['x', 'y'],\n",
        "#                                   distance_type='elec_dist', n_dist=300,\n",
        "#                                   select_seg=select_seg, max_per_dist=1, varname='Membrane potential (mV)',\n",
        "#                                   space=2., normalized_space=True, sort_by_dist=True,\n",
        "                                  # figsize=(10, 10), fontsize=15, scalebar_size=50)"
      ]
    },
    {
      "cell_type": "markdown",
      "source": [
        "##Transfer Impedance\n",
        "\n"
      ],
      "metadata": {
        "id": "Tc1fFLPUz5Qe"
      },
      "id": "Tc1fFLPUz5Qe"
    },
    {
      "cell_type": "code",
      "execution_count": null,
      "id": "be859ed7",
      "metadata": {
        "id": "be859ed7"
      },
      "outputs": [],
      "source": [
        "# import numpy as np\n",
        "# from neuron import h\n",
        "# import cmath\n",
        "\n",
        "# def measure_segment_transfer_impedance(soma, section_list, sec_type, freq=0, extracellular_mechanism=True):\n",
        "#     \"\"\"\n",
        "#     soma: soma section object\n",
        "#     section_list: list of sections\n",
        "#     sec_type: list of swc type id of sections\n",
        "#     freq: frequency (Hz) at which electrotonic distance is evaluated\n",
        "#     extracellular_mechanism: whether extracellular mechanism is used\n",
        "#     \"\"\"\n",
        "#     seg_prop = {}\n",
        "#     swc_type = []\n",
        "#     seg_area = []\n",
        "#     seg_dist = []\n",
        "#     seg_length = []\n",
        "#     elec_dist = [] #modulus part of polar form #should change names\n",
        "#     elec_dist0 = [] #modulus of polar form #should change names\n",
        "#     transfer_imps = [] #real part of rectangular form\n",
        "#     transfer_imps0 = [] # real part of rectangular form\n",
        "\n",
        "#     # set up distance origin\n",
        "#     h.distance(0, soma(.5))\n",
        "#     # set up electrotonic origin\n",
        "#     zz = h.Impedance()\n",
        "#     zz.loc(soma(.5))\n",
        "#     if extracellular_mechanism:\n",
        "#         zz.compute(freq + 1 / 9e9, 0) #*\n",
        "#     else:\n",
        "#         zz.compute(freq, 1)\n",
        "#     # measure distance\n",
        "#     for i, sec in enumerate(section_list):\n",
        "#         if sec_type[i]==1:\n",
        "#             transfer_imp=zz.transfer(sec(0.5/sec.nseg)) #*\n",
        "#             transfer_phase=zz.transfer_phase(sec(0.5/sec.nseg)) #*\n",
        "#             elec_dist0.append(transfer_imp) #*\n",
        "#             rect_complex=cmath.rect(transfer_imp,transfer_phase)\n",
        "#             transfer_imps.append(rect_complex.real) #*\n",
        "#         else:\n",
        "#             transfer_imp=zz.transfer(sec.parentseg()) #*\n",
        "#             transfer_phase=zz.transfer_phase(sec.parentseg()) #*\n",
        "#             elec_dist0.append(transfer_imp) #*\n",
        "#             rect_complex=cmath.rect(transfer_imp, transfer_phase) #*\n",
        "#             transfer_imps.append(rect_complex.real) #*\n",
        "#         for j, seg in enumerate(sec):\n",
        "#             swc_type.append(sec_type[i])\n",
        "#             seg_area.append(seg.area())\n",
        "#             seg_dist.append(h.distance(seg))\n",
        "#             seg_length.append(sec.L/sec.nseg)\n",
        "#             if j!=0:\n",
        "#                 elec_dist0.append(elec_dist[-1])\n",
        "#                 transfer_imps.append(transfer_imps0[-1])\n",
        "#             elec_dist.append(zz.transfer(seg)) #*\n",
        "#             transfer_imp=zz.transfer(seg) #*\n",
        "#             transfer_phase=zz.transfer_phase(seg) #*\n",
        "#             rect_complex=cmath.rect(transfer_imp,transfer_phase) #*\n",
        "#             transfer_imps0.append(rect_complex.real) #*\n",
        "\n",
        "#     seg_prop['swc_type'] = np.array(swc_type)\n",
        "#     seg_prop['seg_area'] = np.array(seg_area)\n",
        "\n",
        "#     # distance at endpoints of each segment\n",
        "#     seg_prop['distance'] = np.expand_dims(seg_dist, 1) + np.expand_dims(seg_length, 1) / 2 * np.array([[-1, 1]])\n",
        "#     # seg_prop['transfer_imp'] = np.sort(np.log(elec_dist0[0]) - np.log(np.column_stack([elec_dist0, elec_dist])), axis=1) #*\n",
        "#     seg_prop['transfer_imp_mod'] = np.sort(elec_dist0[0] - np.column_stack([elec_dist0, elec_dist]), axis=1) #*\n",
        "#     seg_prop['transfer_imp_real'] = np.sort(transfer_imps[0] - np.column_stack([transfer_imps, transfer_imps0]), axis=1) #*\n",
        "\n",
        "\n",
        "#     # change sign of basal and axon types\n",
        "#     idx = np.nonzero((seg_prop['swc_type']==2) | (seg_prop['swc_type']==3))[0]\n",
        "#     seg_prop['distance'][idx] = -seg_prop['distance'][idx,::-1]\n",
        "#     seg_prop['transfer_imp_mod'][idx] = -seg_prop['transfer_imp_mod'][idx,::-1] #*\n",
        "#     seg_prop['transfer_imp_real'][idx] = -seg_prop['transfer_imp_real'][idx,::-1] #*\n",
        "#     return seg_prop, zz.transfer(soma(.5)), zz.transfer_phase(soma(.5))\n"
      ]
    },
    {
      "cell_type": "code",
      "source": [
        "# #using modulus of polar form\n",
        "\n",
        "# for syn in cell.synapse:\n",
        "#     syn.set_gmax(0)\n",
        "# h.run()\n",
        "\n",
        "# sec_type_swc = {sec['name']: sec['type'] for _, sec in geometry.iterrows()}\n",
        "# sec_type = [sec_type_swc[sec.name().split('.')[-1]] for sec in cell.all]\n",
        "# freq = 0 # Hz\n",
        "# seg_prop, _, _ = measure_segment_transfer_impedance(cell.soma , cell.all, sec_type, freq)\n",
        "\n",
        "# select_seg = [[cell.sec_id_in_seg[sec[0]], cell.get_sec_by_id(sec[0]).nseg -1] for sec in cell.sec_id_lookup.values()]\n",
        "# select_seg = np.sum(np.array(select_seg), axis=1)\n",
        "# # select_seg = np.unique(np.cumsum(np.array(select_seg), axis=1).ravel())\n",
        "# _ = plot_variable_with_morphology(cell.seg_coords, seg_prop, Vm, t=t, axes=['x', 'y'],\n",
        "#                                   distance_type='transfer_imp_mod', n_dist=300,\n",
        "#                                   select_seg=select_seg, max_per_dist=1, varname='Membrane potential (mV)',\n",
        "#                                   space=2., normalized_space=True, sort_by_dist=True,\n",
        "#                                   figsize=(10, 10), fontsize=15, scalebar_size=50)"
      ],
      "metadata": {
        "id": "yHRymM0L5pJj"
      },
      "id": "yHRymM0L5pJj",
      "execution_count": null,
      "outputs": []
    },
    {
      "cell_type": "code",
      "source": [
        "# #using real part of rectangular complex form\n",
        "\n",
        "# for syn in cell.synapse:\n",
        "#     syn.set_gmax(0)\n",
        "# h.run()\n",
        "\n",
        "# sec_type_swc = {sec['name']: sec['type'] for _, sec in geometry.iterrows()}\n",
        "# sec_type = [sec_type_swc[sec.name().split('.')[-1]] for sec in cell.all]\n",
        "# freq = 0 # Hz\n",
        "# seg_prop, _, _ = measure_segment_transfer_impedance(cell.soma , cell.all, sec_type, freq)\n",
        "\n",
        "# select_seg = [[cell.sec_id_in_seg[sec[0]], cell.get_sec_by_id(sec[0]).nseg -1] for sec in cell.sec_id_lookup.values()]\n",
        "# select_seg = np.sum(np.array(select_seg), axis=1)\n",
        "# # select_seg = np.unique(np.cumsum(np.array(select_seg), axis=1).ravel())\n",
        "# _ = plot_variable_with_morphology(cell.seg_coords, seg_prop, Vm, t=t, axes=['x', 'y'],\n",
        "#                                   distance_type='transfer_imp_real', n_dist=300,\n",
        "#                                   select_seg=select_seg, max_per_dist=1, varname='Membrane potential (mV)',\n",
        "#                                   space=2., normalized_space=True, sort_by_dist=True,\n",
        "#                                   figsize=(10, 10), fontsize=15, scalebar_size=50)"
      ],
      "metadata": {
        "id": "Ibbz1qMIjWu5"
      },
      "id": "Ibbz1qMIjWu5",
      "execution_count": null,
      "outputs": []
    },
    {
      "cell_type": "markdown",
      "source": [
        "Transfer Impedance is a complex number"
      ],
      "metadata": {
        "id": "2eSHPclEP0I0"
      },
      "id": "2eSHPclEP0I0"
    },
    {
      "cell_type": "code",
      "source": [
        "# polar_modulus=1\n",
        "# polar_phase=3\n",
        "\n",
        "# complex_rectangular_form=cmath.rect(polar_modulus, polar_phase)\n",
        "# print(complex_rectangular_form)"
      ],
      "metadata": {
        "id": "PM8Xa3WATASj"
      },
      "id": "PM8Xa3WATASj",
      "execution_count": null,
      "outputs": []
    },
    {
      "cell_type": "code",
      "source": [
        "# complex_rectangular_form.real"
      ],
      "metadata": {
        "id": "BZgkMzBpTLgL"
      },
      "id": "BZgkMzBpTLgL",
      "execution_count": null,
      "outputs": []
    }
  ],
  "metadata": {
    "colab": {
      "provenance": [],
      "include_colab_link": true
    },
    "kernelspec": {
      "display_name": "Python 3 (ipykernel)",
      "language": "python",
      "name": "python3"
    },
    "language_info": {
      "codemirror_mode": {
        "name": "ipython",
        "version": 3
      },
      "file_extension": ".py",
      "mimetype": "text/x-python",
      "name": "python",
      "nbconvert_exporter": "python",
      "pygments_lexer": "ipython3",
      "version": "3.9.12"
    }
  },
  "nbformat": 4,
  "nbformat_minor": 5
}