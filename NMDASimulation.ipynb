{
  "cells": [
    {
      "cell_type": "markdown",
      "metadata": {
        "id": "view-in-github",
        "colab_type": "text"
      },
      "source": [
        "<a href=\"https://colab.research.google.com/github/davidfague/Model_Reduction_Methods/blob/main/NMDASimulation.ipynb\" target=\"_parent\"><img src=\"https://colab.research.google.com/assets/colab-badge.svg\" alt=\"Open In Colab\"/></a>"
      ]
    },
    {
      "cell_type": "markdown",
      "id": "7a9de89f",
      "metadata": {
        "id": "7a9de89f"
      },
      "source": [
        "# Simulation for generating data for dendritic spike analysis\n",
        "##Recorded Currents:\n",
        "\n",
        "Na,K,Ca,ih,...\n",
        "\n",
        "## synapse distribution:\n",
        "\n",
        "10,000 random. will update to include more realistic algorithm"
      ]
    },
    {
      "cell_type": "markdown",
      "id": "MSX7LmGzszzf",
      "metadata": {
        "id": "MSX7LmGzszzf"
      },
      "source": [
        "#### Download modules from Github"
      ]
    },
    {
      "cell_type": "code",
      "source": [
        "!pip install neuron"
      ],
      "metadata": {
        "id": "-urE9jrxNdxm",
        "colab": {
          "base_uri": "https://localhost:8080/"
        },
        "outputId": "0126e7c6-c27f-45c1-ba05-ccb2d1b536c2"
      },
      "id": "-urE9jrxNdxm",
      "execution_count": 1,
      "outputs": [
        {
          "output_type": "stream",
          "name": "stdout",
          "text": [
            "Looking in indexes: https://pypi.org/simple, https://us-python.pkg.dev/colab-wheels/public/simple/\n",
            "Collecting neuron\n",
            "  Downloading NEURON-8.2.2-cp39-cp39-manylinux_2_17_x86_64.manylinux2014_x86_64.whl (15.0 MB)\n",
            "\u001b[2K     \u001b[90m━━━━━━━━━━━━━━━━━━━━━━━━━━━━━━━━━━━━━━━━\u001b[0m \u001b[32m15.0/15.0 MB\u001b[0m \u001b[31m55.6 MB/s\u001b[0m eta \u001b[36m0:00:00\u001b[0m\n",
            "\u001b[?25hRequirement already satisfied: numpy>=1.9.3 in /usr/local/lib/python3.9/dist-packages (from neuron) (1.22.4)\n",
            "Installing collected packages: neuron\n",
            "Successfully installed neuron-8.2.2\n"
          ]
        }
      ]
    },
    {
      "cell_type": "code",
      "source": [
        "!pip install neuron_reduce"
      ],
      "metadata": {
        "id": "BHjnRgPsN0g2",
        "colab": {
          "base_uri": "https://localhost:8080/"
        },
        "outputId": "2e4d61d1-35b9-43e3-cc36-61513f98cb43"
      },
      "id": "BHjnRgPsN0g2",
      "execution_count": 2,
      "outputs": [
        {
          "output_type": "stream",
          "name": "stdout",
          "text": [
            "Looking in indexes: https://pypi.org/simple, https://us-python.pkg.dev/colab-wheels/public/simple/\n",
            "Collecting neuron_reduce\n",
            "  Downloading neuron_reduce-0.0.7-py3-none-any.whl (18 kB)\n",
            "Installing collected packages: neuron_reduce\n",
            "Successfully installed neuron_reduce-0.0.7\n"
          ]
        }
      ]
    },
    {
      "cell_type": "code",
      "source": [
        "!git clone https://github.com/davidfague/Model_Reduction_Methods.git"
      ],
      "metadata": {
        "id": "t4dVzA0WLZ9F",
        "colab": {
          "base_uri": "https://localhost:8080/"
        },
        "outputId": "a5473aeb-699a-4eec-e267-a6aff037e5f6"
      },
      "id": "t4dVzA0WLZ9F",
      "execution_count": 3,
      "outputs": [
        {
          "output_type": "stream",
          "name": "stdout",
          "text": [
            "Cloning into 'Model_Reduction_Methods'...\n",
            "remote: Enumerating objects: 467, done.\u001b[K\n",
            "remote: Counting objects: 100% (153/153), done.\u001b[K\n",
            "remote: Compressing objects: 100% (68/68), done.\u001b[K\n",
            "remote: Total 467 (delta 87), reused 145 (delta 85), pack-reused 314\u001b[K\n",
            "Receiving objects: 100% (467/467), 3.89 MiB | 19.05 MiB/s, done.\n",
            "Resolving deltas: 100% (238/238), done.\n"
          ]
        }
      ]
    },
    {
      "cell_type": "code",
      "source": [
        "%cd Model_Reduction_Methods/\n",
        "\n",
        "#import reduction and expansion functions\n",
        "from test_neuron_reduce.subtree_reductor_func import subtree_reductor\n",
        "from cable_expander_func import cable_expander\n",
        "\n",
        "#import recording functions\n",
        "from stylized_module.recorder import Recorder\n",
        "\n",
        "#import analysis functions\n",
        "from utils import make_seg_df,generate_stylized_geometry,make_reduced_seg_df,plot_morphology,check_connectivity,generate_reduced_cell_seg_coords, create_seg_var_report\n",
        "\n",
        "import pandas as pd"
      ],
      "metadata": {
        "id": "cY9U_KPwLVAz",
        "colab": {
          "base_uri": "https://localhost:8080/"
        },
        "outputId": "1e01d1eb-0873-41e6-bdde-62d8c7b2a706"
      },
      "id": "cY9U_KPwLVAz",
      "execution_count": 4,
      "outputs": [
        {
          "output_type": "stream",
          "name": "stdout",
          "text": [
            "/content/Model_Reduction_Methods\n"
          ]
        }
      ]
    },
    {
      "cell_type": "code",
      "source": [
        "%cd expand_example"
      ],
      "metadata": {
        "id": "vXTRrX-ILq6D",
        "colab": {
          "base_uri": "https://localhost:8080/"
        },
        "outputId": "2e842207-15f9-4800-acc0-6b679415fb9b"
      },
      "id": "vXTRrX-ILq6D",
      "execution_count": 5,
      "outputs": [
        {
          "output_type": "stream",
          "name": "stdout",
          "text": [
            "/content/Model_Reduction_Methods/expand_example\n"
          ]
        }
      ]
    },
    {
      "cell_type": "code",
      "source": [
        "# compile the mod files\n",
        "!nrnivmodl mod"
      ],
      "metadata": {
        "id": "Dm-MdGeb6uZB",
        "colab": {
          "base_uri": "https://localhost:8080/"
        },
        "outputId": "f408064e-0c1a-403c-cbeb-24228394434d"
      },
      "id": "Dm-MdGeb6uZB",
      "execution_count": 6,
      "outputs": [
        {
          "output_type": "stream",
          "name": "stdout",
          "text": [
            "/content/Model_Reduction_Methods/expand_example\n",
            "Mod files: \"mod/mod/CaDynamics_E2.mod\" \"mod/mod/Ca_HVA.mod\" \"mod/mod/Ca_LVAst.mod\" \"mod/mod/epsp.mod\" \"mod/mod/Ih.mod\" \"mod/mod/Im.mod\" \"mod/mod/K_Pst.mod\" \"mod/mod/K_Tst.mod\" \"mod/mod/Nap_Et2.mod\" \"mod/mod/NaTa_t.mod\" \"mod/mod/NaTs2_t.mod\" \"mod/mod/SK_E2.mod\" \"mod/mod/SKv3_1.mod\"\n",
            "\n",
            "Creating 'x86_64' directory for .o files.\n",
            "\n",
            " -> \u001b[32mCompiling\u001b[0m mod_func.cpp\n",
            " -> \u001b[32mNMODL\u001b[0m ../mod/CaDynamics_E2.mod\n",
            " -> \u001b[32mNMODL\u001b[0m ../mod/Ca_HVA.mod\n",
            "Translating CaDynamics_E2.mod into /content/Model_Reduction_Methods/expand_example/x86_64/CaDynamics_E2.c\n",
            " -> \u001b[32mNMODL\u001b[0m ../mod/Ca_LVAst.mod\n",
            "Thread Safe\n",
            "Translating Ca_HVA.mod into /content/Model_Reduction_Methods/expand_example/x86_64/Ca_HVA.c\n",
            " -> \u001b[32mNMODL\u001b[0m ../mod/epsp.mod\n",
            "Translating Ca_LVAst.mod into /content/Model_Reduction_Methods/expand_example/x86_64/Ca_LVAst.c\n",
            "Thread Safe\n",
            "Thread Safe\n",
            " -> \u001b[32mNMODL\u001b[0m ../mod/Ih.mod\n",
            " -> \u001b[32mNMODL\u001b[0m ../mod/Im.mod\n",
            "Translating epsp.mod into /content/Model_Reduction_Methods/expand_example/x86_64/epsp.c\n",
            "Thread Safe\n",
            "Translating Ih.mod into /content/Model_Reduction_Methods/expand_example/x86_64/Ih.c\n",
            " -> \u001b[32mNMODL\u001b[0m ../mod/K_Pst.mod\n",
            "Thread Safe\n",
            "Translating Im.mod into /content/Model_Reduction_Methods/expand_example/x86_64/Im.c\n",
            "Thread Safe\n",
            " -> \u001b[32mNMODL\u001b[0m ../mod/K_Tst.mod\n",
            " -> \u001b[32mNMODL\u001b[0m ../mod/Nap_Et2.mod\n",
            "Translating K_Pst.mod into /content/Model_Reduction_Methods/expand_example/x86_64/K_Pst.c\n",
            "Translating K_Tst.mod into /content/Model_Reduction_Methods/expand_example/x86_64/K_Tst.c\n",
            "Thread Safe\n",
            "Translating Nap_Et2.mod into /content/Model_Reduction_Methods/expand_example/x86_64/Nap_Et2.c\n",
            "Thread Safe\n",
            "Thread Safe\n",
            " -> \u001b[32mNMODL\u001b[0m ../mod/NaTa_t.mod\n",
            " -> \u001b[32mNMODL\u001b[0m ../mod/NaTs2_t.mod\n",
            " -> \u001b[32mNMODL\u001b[0m ../mod/SK_E2.mod\n",
            "Translating NaTa_t.mod into /content/Model_Reduction_Methods/expand_example/x86_64/NaTa_t.c\n",
            "Thread Safe\n",
            "Translating SK_E2.mod into /content/Model_Reduction_Methods/expand_example/x86_64/SK_E2.c\n",
            "Translating NaTs2_t.mod into /content/Model_Reduction_Methods/expand_example/x86_64/NaTs2_t.c\n",
            "Thread Safe\n",
            " -> \u001b[32mNMODL\u001b[0m ../mod/SKv3_1.mod\n",
            "Thread Safe\n",
            " -> \u001b[32mCompiling\u001b[0m CaDynamics_E2.c\n",
            " -> \u001b[32mCompiling\u001b[0m Ca_HVA.c\n",
            "Translating SKv3_1.mod into /content/Model_Reduction_Methods/expand_example/x86_64/SKv3_1.c\n",
            "Thread Safe\n",
            " -> \u001b[32mCompiling\u001b[0m Ca_LVAst.c\n",
            " -> \u001b[32mCompiling\u001b[0m epsp.c\n",
            " -> \u001b[32mCompiling\u001b[0m Ih.c\n",
            " -> \u001b[32mCompiling\u001b[0m Im.c\n",
            " -> \u001b[32mCompiling\u001b[0m K_Pst.c\n",
            " -> \u001b[32mCompiling\u001b[0m K_Tst.c\n",
            " -> \u001b[32mCompiling\u001b[0m Nap_Et2.c\n",
            " -> \u001b[32mCompiling\u001b[0m NaTa_t.c\n",
            " -> \u001b[32mCompiling\u001b[0m NaTs2_t.c\n",
            " -> \u001b[32mCompiling\u001b[0m SK_E2.c\n",
            " -> \u001b[32mCompiling\u001b[0m SKv3_1.c\n",
            " => \u001b[32mLINKING\u001b[0m shared library ./libnrnmech.so\n",
            " => \u001b[32mLINKING\u001b[0m executable ./special LDFLAGS are:    -pthread\n",
            "Successfully created x86_64/special\n"
          ]
        }
      ]
    },
    {
      "cell_type": "markdown",
      "id": "2a84fbea",
      "metadata": {
        "id": "2a84fbea"
      },
      "source": [
        "## Setup smiulation parameters"
      ]
    },
    {
      "cell_type": "code",
      "execution_count": 7,
      "id": "4be7f6fd",
      "metadata": {
        "id": "4be7f6fd",
        "colab": {
          "base_uri": "https://localhost:8080/"
        },
        "outputId": "ecb31a04-ea40-45a7-bf72-ef9d1510a857"
      },
      "outputs": [
        {
          "output_type": "execute_result",
          "data": {
            "text/plain": [
              "1.0"
            ]
          },
          "metadata": {},
          "execution_count": 7
        }
      ],
      "source": [
        "import numpy as np\n",
        "import pandas as pd\n",
        "import json\n",
        "import matplotlib.pyplot as plt\n",
        "import ipywidgets as widgets\n",
        "from neuron import h\n",
        "from scipy import signal\n",
        "from IPython.display import display, clear_output\n",
        "from ipywidgets import interactive_output, HBox, VBox, Label, Layout\n",
        "\n",
        "from __future__ import division\n",
        "from neuron import gui,h\n",
        "import numpy as np\n",
        "import time\n",
        "import matplotlib.pyplot as plt\n",
        "\n",
        "%matplotlib inline\n",
        "\n",
        "\n",
        "h.load_file('stdrun.hoc')\n",
        "# h.nrn_load_dll(paths.COMPILED_LIBRARY_REDUCED_ORDER)  # choose the set of mechanisms\n",
        "h.nrn_load_dll('./x86_64/.libs/libnrnmech.so')\n"
      ]
    },
    {
      "cell_type": "markdown",
      "id": "7927a07b",
      "metadata": {
        "id": "7927a07b"
      },
      "source": [
        "### Create a cell with reduced morphology"
      ]
    },
    {
      "cell_type": "code",
      "source": [
        "%ls"
      ],
      "metadata": {
        "id": "s0gis1f1OdWX",
        "colab": {
          "base_uri": "https://localhost:8080/"
        },
        "outputId": "52bd3678-4345-4b44-d686-6fa0a4b5822b"
      },
      "id": "s0gis1f1OdWX",
      "execution_count": 8,
      "outputs": [
        {
          "output_type": "stream",
          "name": "stdout",
          "text": [
            "cell1.asc  example_expand.py  L5PCtemplate.hoc  \u001b[0m\u001b[01;34mx86_64\u001b[0m/\n",
            "Cell.hoc   L5PCbiophys3.hoc   \u001b[01;34mmod\u001b[0m/\n"
          ]
        }
      ]
    },
    {
      "cell_type": "code",
      "source": [
        "from abc import ABC, abstractmethod\n",
        "class PointCurrent(ABC):\n",
        "    \"\"\"A module for current point process\"\"\"\n",
        "\n",
        "    def __init__(self, cell, sec_index, loc=0.5):\n",
        "        \"\"\"\n",
        "        cell: target cell object\n",
        "        sec_index: index of the target section in the section list\n",
        "        loc: location on a section, between [0,1]\n",
        "        \"\"\"\n",
        "        self.cell = cell\n",
        "        self.sec_index = sec_index\n",
        "        self.loc = loc\n",
        "        self.pp_obj = None  # point process object\n",
        "        self.rec_vec = None  # vector for recording\n",
        "\n",
        "    @abstractmethod\n",
        "    def setup(self, record: bool = None) -> None:\n",
        "        pass\n",
        "\n",
        "    def setup_recorder(self):\n",
        "        size = [round(h.tstop / h.dt) + 1] if hasattr(h, 'tstop') else []\n",
        "        self.rec_vec = h.Vector(*size).record(self.pp_obj._ref_i)\n",
        "\n",
        "    def get_section(self) -> h.Section:\n",
        "        return self.cell.all[self.sec_index]\n",
        "\n",
        "    def get_segment(self):\n",
        "        return self.pp_obj.get_segment()\n",
        "\n",
        "    def get_segment_id(self) -> int:\n",
        "        \"\"\"Get the index of the injection target segment in the segment list\"\"\"\n",
        "        iseg = int(self.get_segment().x * self.get_section().nseg)\n",
        "        return self.cell.sec_id_in_seg[self.sec_index] + iseg\n"
      ],
      "metadata": {
        "id": "pqECeUrwUfCi"
      },
      "id": "pqECeUrwUfCi",
      "execution_count": 9,
      "outputs": []
    },
    {
      "cell_type": "code",
      "source": [
        "from __future__ import annotations\n",
        "from typing import List, Optional, Any, TYPE_CHECKING\n",
        "class CurrentInjection(PointCurrent):\n",
        "    \"\"\"A module for current injection\"\"\"\n",
        "\n",
        "    def __init__(self, cell, sec_index: int, loc: float = 0.5,\n",
        "                 pulse: bool = True, current: Optional[np.ndarray, List[int]] = None,\n",
        "                 dt: Optional[np.ndarray] = None, record: bool = False, **pulse_param: Any) -> None:\n",
        "        \"\"\"\n",
        "        cell: target cell object\n",
        "        sec_index: index of the target section in the section list\n",
        "        loc: location on a section, between [0,1]\n",
        "        pulse: If True, use pulse injection with keyword arguments in 'pulse_param'\n",
        "               If False, use waveform resources in vector 'current' as injection\n",
        "        Dt: current vector time step size\n",
        "        record: If True, enable recording current injection history\n",
        "        \"\"\"\n",
        "        super().__init__(cell, sec_index, loc)\n",
        "        self.pp_obj = h.IClamp(self.get_section()(self.loc))\n",
        "        self.inj_vec = None\n",
        "        if pulse:\n",
        "            self.setup_pulse(**pulse_param)\n",
        "        else:\n",
        "            if current is None:\n",
        "                current = [0]\n",
        "            self.setup_current(current, dt)\n",
        "        self.setup(record)\n",
        "\n",
        "    def setup(self, record: bool = False) -> None:\n",
        "        if record:\n",
        "            self.setup_recorder()\n",
        "\n",
        "    def setup_pulse(self, **pulse_param: Any) -> None:\n",
        "        \"\"\"Set IClamp attributes. Argument keyword: attribute name, arugment value: attribute value\"\"\"\n",
        "        for param, value in pulse_param.items():\n",
        "            setattr(self.pp_obj, param, value)\n",
        "\n",
        "    def setup_current(self, current: Optional[np.ndarray, List[int]], dt: Optional[np.ndarray]) -> None:\n",
        "        \"\"\"Set current injection with the waveform in vector 'current'\"\"\"\n",
        "        ccl = self.pp_obj\n",
        "        ccl.dur = 0\n",
        "        ccl.dur = h.tstop if hasattr(h, 'tstop') else 1e30\n",
        "        if dt is None:\n",
        "            dt = h.dt\n",
        "        self.inj_vec = h.Vector()\n",
        "        self.inj_vec.from_python(current)\n",
        "        self.inj_vec.append(0)\n",
        "        self.inj_vec.play(ccl._ref_amp, dt)"
      ],
      "metadata": {
        "id": "MoIoxXTDKdzh"
      },
      "id": "MoIoxXTDKdzh",
      "execution_count": 10,
      "outputs": []
    },
    {
      "cell_type": "code",
      "source": [
        "class Synapse(PointCurrent):\n",
        "    '''\n",
        "    class for adding synapses\n",
        "    '''\n",
        "    def __init__(self, cell, stim: h.NetStim, sec_index: int,\n",
        "                  syn_type: str = 'Exp2Syn', gmax: float = 0.01, loc: float = 0.5,\n",
        "                  record: bool = False): #Optional[synapse]=None possible implementation for adding existing synapses\n",
        "        super().__init__(cell, sec_index, loc)\n",
        "        self.stim = stim\n",
        "        self.gmax = gmax\n",
        "        self.__synapse_type(syn_type)\n",
        "        self.setup(record)\n",
        "\n",
        "    # PRIVATE METHODS\n",
        "    def __synapse_type(self, syn_type):\n",
        "        if syn_type == 'AlphaSynapse1':\n",
        "            # Reversal potential (mV); Synapse time constant (ms)\n",
        "            self.syn_params = {'e': 0., 'tau': 2.0}\n",
        "            # Variable name of maximum conductance (uS)\n",
        "            self.gmax_var = 'gmax'\n",
        "        elif syn_type == 'Exp2Syn':\n",
        "            self.syn_params = {'e': 0., 'tau1': 1.0, 'tau2': 3.0}\n",
        "            self.gmax_var = '_nc_weight'\n",
        "        else:\n",
        "            raise ValueError(\"Synpase type not defined.\")\n",
        "        self.syn_type = syn_type\n",
        "        self.pp_obj = getattr(h, syn_type)(self.get_section()(self.loc))\n",
        "\n",
        "    def __setup_synapse(self):\n",
        "        self.syn = self.pp_obj\n",
        "        self.nc = h.NetCon(self.stim, self.syn, 1, 0, 1)\n",
        "        for key, value in self.syn_params.items():\n",
        "            setattr(self.syn, key, value)\n",
        "        self.set_gmax()\n",
        "\n",
        "    # PUBLIC METHODS\n",
        "    def setup(self, record: bool = False):\n",
        "        self.__setup_synapse()\n",
        "        if record:\n",
        "            self.setup_recorder()\n",
        "    \n",
        "    def set_gmax(self, gmax: float = None):\n",
        "        if gmax is not None:\n",
        "            self.gmax = gmax\n",
        "        if self.gmax_var == '_nc_weight':\n",
        "            self.nc.weight[0] = self.gmax\n",
        "        else:\n",
        "            setattr(self.syn, self.gmax_var, self.gmax)"
      ],
      "metadata": {
        "id": "8TE_op1mUTii"
      },
      "id": "8TE_op1mUTii",
      "execution_count": 11,
      "outputs": []
    },
    {
      "cell_type": "code",
      "source": [
        "class Listed_Synapse():\n",
        "    '''\n",
        "    class for going from synapses_list and netcons_list to recording synapses\n",
        "    '''\n",
        "    def __init__(self,synapse_obj,netcon_objs,record=True): \n",
        "        self.pp_obj = None  # point process object\n",
        "        self.rec_vec = None  # vector for recording\n",
        "        self.setup(record)\n",
        "\n",
        "        \n",
        "\n",
        "    def setup(self,record):\n",
        "        self.setup_synapse()\n",
        "        if record:\n",
        "            self.setup_recorder()\n",
        "    \n",
        "    def setup_synapse(self,synapse_obj,netcon_objs):\n",
        "      self.pp_obj=synapse_obj\n",
        "      self.ncs=netcon_objs\n",
        "\n",
        "    def setup_recorder(self):\n",
        "          size = [round(h.tstop/h.dt)+1] if hasattr(h,'tstop') else []\n",
        "          try:\n",
        "              self.rec_vec = h.Vector(*size).record(self.pp_obj._ref_igaba)\n",
        "          except:\n",
        "                  self.rec_vec = MultiSynCurrent()\n",
        "                  vec_inmda = h.Vector(*size).record(self.pp_obj._ref_inmda)\n",
        "                  vec_iampa = h.Vector(*size).record(self.pp_obj._ref_iampa)\n",
        "                  self.rec_vec.add_vec(vec_inmda)\n",
        "                  self.rec_vec.add_vec(vec_iampa)\n",
        "                  \n",
        "\n",
        "class MultiSynCurrent(object):\n",
        "    def __init__(self):\n",
        "        self.vec_list = []\n",
        "    \n",
        "    def add_vec(self,vec):\n",
        "        self.vec_list.append(vec)\n",
        "    \n",
        "    def as_numpy(self):\n",
        "        return np.sum(np.array([vec.as_numpy() for vec in self.vec_list]), axis=0)"
      ],
      "metadata": {
        "id": "fskyA-86nlk7"
      },
      "id": "fskyA-86nlk7",
      "execution_count": 12,
      "outputs": []
    },
    {
      "cell_type": "code",
      "source": [
        "from typing import Optional, Union, List\n",
        "import math\n",
        "class cell_model():\n",
        "  '''expanded cell model class for ECP calculation\n",
        "  takes cell model and does bookkeeping for analysis functions\n",
        "  '''\n",
        "  def __init__(self,model,synapses_list=None,netcons_list=None,gen_3d=True,spike_threshold: Optional[float] = None):\n",
        "    self.all=model.all\n",
        "    self.soma=model.soma\n",
        "    self.apic=model.apic\n",
        "    self.dend=model.dend\n",
        "    self.axon=model.axon\n",
        "    #convert nrn section lists to python lists if applicable\n",
        "    self.all=self.convert_sectionlist(sectionlist=self.all)\n",
        "    self.soma=self.convert_sectionlist(sectionlist=self.soma, return_singles=True) #if sectionlist contains only one section returns just the section instead of list of sections\n",
        "    self.dend=self.convert_sectionlist(sectionlist=self.dend)\n",
        "    self.apic=self.convert_sectionlist(sectionlist=self.apic)\n",
        "    self.axon=self.convert_sectionlist(sectionlist=self.axon)\n",
        "    self.spike_threshold = spike_threshold\n",
        "    self.synapses_list=synapses_list #list of synapse objects from model reduction\n",
        "    self.netcons_list=netcons_list # list of netcon objects from model reduction\n",
        "    self.segments=[] # list for nrn segment objects\n",
        "    self.injection=[] # list of injection objects\n",
        "    self.synapse=[] # list of python synapse class objects\n",
        "    self.__store_synapses_list() #store and record synapses from the synapses_list used to initialize the cell\n",
        "    self.sec_id_lookup = {}  # dictionary from section type id to section index\n",
        "    self.sec_id_in_seg = []  # index of the first segment of each section in the segment list\n",
        "    self.sec_angs = [] # list of angles that were used to branch the cell\n",
        "    if gen_3d==True:\n",
        "      self.generate_sec_coords()\n",
        "    self.__store_segments()\n",
        "    self.__set_spike_recorder()\n",
        "    if self.apic[2].n3d()==2: #calc_seg_coords only works for cell with sections that only have two 3d coordinates. #detailed cell has too many 3d coordinates\n",
        "      self.__calc_seg_coords()\n",
        "    self.grp_ids = []\n",
        "    self.generate_geometry_file()\n",
        "\n",
        "  def __calc_seg_coords(self):\n",
        "    \"\"\"Calculate segment coordinates for ECP calculation\"\"\"\n",
        "    p0 = np.empty((self._nseg, 3))\n",
        "    p1 = np.empty((self._nseg, 3))\n",
        "    p05 = np.empty((self._nseg, 3))\n",
        "    r = np.empty(self._nseg)\n",
        "    for isec, sec in enumerate(self.all):\n",
        "        iseg = self.sec_id_in_seg[isec]\n",
        "        nseg = sec.nseg\n",
        "        pt0 = np.array([sec.x3d(0), sec.y3d(0), sec.z3d(0)])\n",
        "        pt1 = np.array([sec.x3d(1), sec.y3d(1), sec.z3d(1)])\n",
        "        pts = np.linspace(pt0, pt1, 2 * nseg + 1)\n",
        "        p0[iseg:iseg + nseg, :] = pts[:-2:2, :]\n",
        "        p1[iseg:iseg + nseg, :] = pts[2::2, :]\n",
        "        p05[iseg:iseg + nseg, :] = pts[1:-1:2, :]\n",
        "        r[iseg:iseg + nseg] = sec.diam / 2\n",
        "    self.seg_coords = {'dl': p1 - p0, 'pc': p05, 'r': r}\n",
        "\n",
        "  def __store_segments(self):\n",
        "    self.segments = []\n",
        "    self.sec_id_in_seg = []\n",
        "    nseg = 0\n",
        "    for sec in self.all:\n",
        "        self.sec_id_in_seg.append(nseg)\n",
        "        nseg += sec.nseg\n",
        "        for seg in sec:\n",
        "            self.segments.append(seg)\n",
        "            self.__store_point_processes(seg)\n",
        "    self._nseg = nseg\n",
        "\n",
        "  def __store_point_processes(self,seg):\n",
        "    for pp in seg.point_processes():\n",
        "        self.injection.append(pp)\n",
        "\n",
        "  def __set_spike_recorder(self, threshold: Optional = None):\n",
        "      if threshold is not None:\n",
        "          self.spike_threshold = threshold\n",
        "      if self.spike_threshold is None:\n",
        "          self.spikes = None\n",
        "      else:\n",
        "          vec = h.Vector()\n",
        "          nc = h.NetCon(self.soma(0.5)._ref_v, None, sec=self.soma)\n",
        "          nc.threshold = self.spike_threshold\n",
        "          nc.record(vec)\n",
        "          self.spikes = vec\n",
        "\n",
        "  def add_injection(self, sec_index, **kwargs):\n",
        "        \"\"\"Add current injection to a section by its index\"\"\"\n",
        "        self.injection.append(CurrentInjection(self, sec_index, **kwargs))\n",
        "\n",
        "  def add_synapse(self, stim: h.NetStim, sec_index: int, **kwargs):\n",
        "        \"\"\"Add synapse to a section by its index\"\"\"\n",
        "        self.synapse.append(Synapse(self, stim, sec_index, **kwargs))\n",
        "\n",
        "  def generate_sec_coords(self):\n",
        "      '''\n",
        "      Note: need to improve branching so that it is random direction in a quadrant of a sphere rather than x-y plane\n",
        "      takes a cell that has no n3d() coordinates and gives new coordinates\n",
        "      by choosing an arbitrary direction for the subtree to move\n",
        "      '''\n",
        "      section_obj_list= self.all\n",
        "      # print(section_obj_list)\n",
        "      axial=False\n",
        "      parent_sections=[] #list for already seen parent_sections of this type\n",
        "      for sec in section_obj_list:\n",
        "        sec_length=sec.L\n",
        "        if sec is self.soma:\n",
        "          self.sec_angs.append(0)\n",
        "          # pt0 = [0., -1 * sec.diam, 0.] #does not seem to preserve soma shape , but need to make sure children begin at correct 3d coordinate.\n",
        "          # pt1 = [0., 0., 0.]\n",
        "          # sec.pt3dclear()\n",
        "          # sec.pt3dadd(*pt0, sec.diam)\n",
        "          # sec.pt3dadd(*pt1, sec.diam)\n",
        "          print('Changing soma nseg from',sec.nseg,'to 1')\n",
        "          sec.nseg = 1\n",
        "        else:\n",
        "          if sec.parentseg() is not None:\n",
        "            psec=sec.parentseg().sec\n",
        "            if psec in self.apic and not self.apic[0]:\n",
        "              nbranch = len(psec.children())\n",
        "            else:\n",
        "              nbranch=1\n",
        "          else:\n",
        "            psec=None # may need to provide more implementation in the case of no 3d coords and no parent section.\n",
        "            nbranch=1\n",
        "          rot = 2 * math.pi/nbranch\n",
        "          if nbranch==1:\n",
        "            i=1\n",
        "          else:\n",
        "            i=parent_sections.count(psec)\n",
        "          parent_sections.append(psec)\n",
        "          length=sec.L\n",
        "          diameter=sec.diam\n",
        "          fullsecname = sec.name()\n",
        "          # print(fullsecname)\n",
        "          sec_type = fullsecname.split(\".\")[1][:4]\n",
        "          # print(sec_type)\n",
        "          if sec_type == \"apic\":\n",
        "            if sec==self.apic[0]:\n",
        "              ang=1.570796327\n",
        "            else:\n",
        "              ang=np.random.uniform(low=0,high=np.pi)\n",
        "          elif sec_type==\"dend\":\n",
        "            ang=-np.random.uniform(low=0,high=np.pi)\n",
        "          elif sec_type==\"axon\":\n",
        "            ang=-1.570796327\n",
        "          else:\n",
        "            print(sec,sec_type,' is not apic, dend or axon')\n",
        "            ang=0\n",
        "          if axial == True:\n",
        "            x = 0\n",
        "            y = length*((ang>=0)*2-1)\n",
        "          else:\n",
        "            x = length * math.cos(ang)\n",
        "            y = length * math.sin(ang)\n",
        "          self.sec_angs.append(ang)\n",
        "          #find starting position #need to update to use parent segment coordinates instead of using first section coordinate\n",
        "          pt0 = [psec.x3d(1), psec.y3d(1), psec.z3d(1)]\n",
        "          pt1 = [0., 0., 0.]\n",
        "          pt1[1] = pt0[1] + y\n",
        "          pt1[0] = pt0[0] + x * math.cos(i * rot)\n",
        "          pt1[2] = pt0[2] + x * math.sin(i * rot)\n",
        "          sec.pt3dclear()\n",
        "          sec.pt3dadd(*pt0, sec.diam)\n",
        "          sec.pt3dadd(*pt1, sec.diam)\n",
        "        if int(sec.L) != int(sec_length):\n",
        "          print('Error: generation of 3D coordinates resulted in change of section length for',sec,'from',sec_length,'to',sec.L)\n",
        "\n",
        "  def generate_geometry_file(self):\n",
        "    '''\n",
        "    generates geometry file specifying name, pid, ang, radius, length, type\n",
        "    work in progress\n",
        "    '''\n",
        "    df = pd.DataFrame()\n",
        "    ids=[]\n",
        "    names=[]\n",
        "    types=[]\n",
        "    pids=[]\n",
        "    axials=[]\n",
        "    nbranchs=[]\n",
        "    Ls=[]\n",
        "    Rs=[]\n",
        "    # angs=self.angs\n",
        "    for sec in self.all:\n",
        "      # print(dir(sec))\n",
        "      name=sec.name()\n",
        "      # print(name)\n",
        "      names.append(name)\n",
        "      ids.append(names.index(name))\n",
        "      _,sec_type_withinteger=name.split('.')\n",
        "      sec_type,_=sec_type_withinteger.split('[')\n",
        "      types.append(sec_type)\n",
        "      pseg = sec.parentseg()\n",
        "      if pseg == None:\n",
        "        pids.append(None)\n",
        "      else:\n",
        "        psec=pseg.sec\n",
        "        px3d=psec.x3d\n",
        "        pids.append(names.index(psec.name()))\n",
        "      # axials.append('TRUE')\n",
        "      # nbranchs.append(1)\n",
        "      Ls.append(sec.L)\n",
        "      # print(dir(sec))\n",
        "      Rs.append(sec.diam/2)\n",
        "    df['id']=ids\n",
        "    df['name']=names\n",
        "    df['pid']=pids\n",
        "    df['type']=types\n",
        "    df['L']=Ls\n",
        "    df['R']=Rs\n",
        "    # df['axials']=axials # may need to fix\n",
        "    # df['nbranch']=nbranchs # may need to fix\n",
        "    self.geometry=df\n",
        "\n",
        "  def convert_sectionlist(self,sectionlist,return_singles=False):\n",
        "    '''\n",
        "    convert nrn sectionlist objects to python list\n",
        "    return_singles set to true will return section instead of [section] for lists with only one section\n",
        "    '''\n",
        "    new_sectionlist=[]\n",
        "    if str(type(sectionlist)) == \"<class 'hoc.HocObject'>\":\n",
        "      for sec in sectionlist:\n",
        "        new_sectionlist.append(sec)\n",
        "    else:\n",
        "      new_sectionlist=sectionlist\n",
        "    if return_singles==True:\n",
        "      if str(type(new_sectionlist))!=\"<class 'nrn.Section'>\":\n",
        "        if len(new_sectionlist)==1:\n",
        "          new_sectionlist=new_sectionlist[0]\n",
        "    return new_sectionlist\n",
        "  def __store_synapses_list(self):\n",
        "    '''\n",
        "    store and record synapses from the list from model reduction algorithm\n",
        "    '''\n",
        "    temp_list=[] # generate temp list that has each netcon's synapse obj\n",
        "    for netcon in self.netcons_list:\n",
        "      syn=netcon.syn()\n",
        "      if syn in self.synapses_list:\n",
        "        syn_seg_id=self.segments.index(netcon.syn().get_segment())\n",
        "        if syn in self.segments[syn_seg_id].point_processes():\n",
        "          temp_list.append(syn)\n",
        "        else:\n",
        "          temp_list.append(None)\n",
        "          print(\"Warning: synapse not in designated segment's point processes\")\n",
        "\n",
        "      else:\n",
        "        temp_list.append(None)\n",
        "        print(\"Warning: potentially deleted synapse:\",\"|NetCon obj:\",netcon,\"|Synapse obj:\",syn,\"the NetCon's synapse is not in synapses_list. Check corresponding original cell's NetCon for location, etc.\")\n",
        "    # now use temp list to assign each synapse its netcons\n",
        "    for synapse in synapses_list:\n",
        "      synapse_netcons=[]\n",
        "      if synapse in temp_list:\n",
        "        netcon_id=temp_list.index(synapse) #get all the netcon indices that are pointed toward this synapse # use np.where() instead of index() to return multiple indices.\n",
        "        synapse_netcons.append(self.netcons[netcon_id])\n",
        "        self.synapse.append(Listed_Synapse(synapse,synapse_netcons)) #record synapse and add to the list\n",
        "      else:\n",
        "        print('Warning: Synapse not in temp_list.')\n"
      ],
      "metadata": {
        "id": "ZS3X-yZr-4kV"
      },
      "id": "ZS3X-yZr-4kV",
      "execution_count": 13,
      "outputs": []
    },
    {
      "cell_type": "code",
      "execution_count": 14,
      "id": "18a97eeb",
      "metadata": {
        "id": "18a97eeb",
        "colab": {
          "base_uri": "https://localhost:8080/",
          "height": 419
        },
        "outputId": "abc11c40-765f-40ac-915d-1dd670892885"
      },
      "outputs": [
        {
          "output_type": "stream",
          "name": "stdout",
          "text": [
            "[Exp2Syn[0], Exp2Syn[1], Exp2Syn[2], Exp2Syn[3], Exp2Syn[4], Exp2Syn[5], Exp2Syn[6], Exp2Syn[7], Exp2Syn[8], Exp2Syn[9], Exp2Syn[10], Exp2Syn[11], Exp2Syn[12], Exp2Syn[13], Exp2Syn[14], Exp2Syn[15], Exp2Syn[16], Exp2Syn[17], Exp2Syn[18], Exp2Syn[19], Exp2Syn[20], Exp2Syn[21], Exp2Syn[22], Exp2Syn[23], Exp2Syn[24], Exp2Syn[25], Exp2Syn[26], Exp2Syn[27], Exp2Syn[28], Exp2Syn[29], Exp2Syn[30], Exp2Syn[31], Exp2Syn[32], Exp2Syn[33], Exp2Syn[34], Exp2Syn[35], Exp2Syn[36], Exp2Syn[37], Exp2Syn[38], Exp2Syn[39], Exp2Syn[40], Exp2Syn[41], Exp2Syn[42], Exp2Syn[43], Exp2Syn[44], Exp2Syn[45], Exp2Syn[46], Exp2Syn[47], Exp2Syn[48], Exp2Syn[49], Exp2Syn[50], Exp2Syn[51], Exp2Syn[52], Exp2Syn[53], Exp2Syn[54], Exp2Syn[55], Exp2Syn[56], Exp2Syn[57], Exp2Syn[58], Exp2Syn[59], Exp2Syn[60], Exp2Syn[61], Exp2Syn[62], Exp2Syn[63], Exp2Syn[64], Exp2Syn[65], Exp2Syn[66], Exp2Syn[67], Exp2Syn[68], Exp2Syn[69], Exp2Syn[70], Exp2Syn[71], Exp2Syn[72], Exp2Syn[73], Exp2Syn[74], Exp2Syn[75], Exp2Syn[76], Exp2Syn[77], Exp2Syn[78], Exp2Syn[79], Exp2Syn[80], Exp2Syn[81], Exp2Syn[82], Exp2Syn[83], Exp2Syn[84], Exp2Syn[85], Exp2Syn[86], Exp2Syn[87], Exp2Syn[88], Exp2Syn[89], Exp2Syn[90], Exp2Syn[91], Exp2Syn[92], Exp2Syn[93], Exp2Syn[94], Exp2Syn[95], Exp2Syn[96], Exp2Syn[97], Exp2Syn[98], Exp2Syn[99], Exp2Syn[100], Exp2Syn[101], Exp2Syn[102], Exp2Syn[103], Exp2Syn[104], Exp2Syn[105], Exp2Syn[106], Exp2Syn[107], Exp2Syn[108], Exp2Syn[109], Exp2Syn[110], Exp2Syn[111], Exp2Syn[112], Exp2Syn[113], Exp2Syn[114], Exp2Syn[115], Exp2Syn[116], Exp2Syn[117], Exp2Syn[118], Exp2Syn[119], Exp2Syn[120], Exp2Syn[121], Exp2Syn[122], Exp2Syn[123], Exp2Syn[124], Exp2Syn[125], Exp2Syn[126], Exp2Syn[127], Exp2Syn[128], Exp2Syn[129], Exp2Syn[130], Exp2Syn[131], Exp2Syn[132], Exp2Syn[133], Exp2Syn[134], Exp2Syn[135], Exp2Syn[136], Exp2Syn[137], Exp2Syn[138], Exp2Syn[139], Exp2Syn[140], Exp2Syn[141], Exp2Syn[142], Exp2Syn[143], Exp2Syn[144], Exp2Syn[145], Exp2Syn[146], Exp2Syn[147], Exp2Syn[148], Exp2Syn[149], Exp2Syn[150], Exp2Syn[151], Exp2Syn[152], Exp2Syn[153], Exp2Syn[154], Exp2Syn[155], Exp2Syn[156], Exp2Syn[157], Exp2Syn[158], Exp2Syn[159], Exp2Syn[160], Exp2Syn[161], Exp2Syn[162], Exp2Syn[163], Exp2Syn[164], Exp2Syn[165], Exp2Syn[166], Exp2Syn[167], Exp2Syn[168], Exp2Syn[169], Exp2Syn[170], Exp2Syn[171], Exp2Syn[172], Exp2Syn[173], Exp2Syn[174], Exp2Syn[175], Exp2Syn[176], Exp2Syn[177], Exp2Syn[178], Exp2Syn[179], Exp2Syn[180], Exp2Syn[181], Exp2Syn[182], Exp2Syn[183], Exp2Syn[184], Exp2Syn[185], Exp2Syn[186], Exp2Syn[187], Exp2Syn[188], Exp2Syn[189], Exp2Syn[190], Exp2Syn[191], Exp2Syn[192], Exp2Syn[193], Exp2Syn[194], Exp2Syn[195], Exp2Syn[196], Exp2Syn[197], Exp2Syn[198], Exp2Syn[199], Exp2Syn[200], Exp2Syn[201], Exp2Syn[202], Exp2Syn[203], Exp2Syn[204], Exp2Syn[205], Exp2Syn[206], Exp2Syn[207], Exp2Syn[208], Exp2Syn[209], Exp2Syn[210], Exp2Syn[211], Exp2Syn[212], Exp2Syn[213], Exp2Syn[214], Exp2Syn[215], Exp2Syn[216], Exp2Syn[217], Exp2Syn[218], Exp2Syn[219], Exp2Syn[220], Exp2Syn[221], Exp2Syn[222], Exp2Syn[223], Exp2Syn[224], Exp2Syn[225], Exp2Syn[226], Exp2Syn[227], Exp2Syn[228], Exp2Syn[229], Exp2Syn[230], Exp2Syn[231], Exp2Syn[232], Exp2Syn[233], Exp2Syn[234], Exp2Syn[235], Exp2Syn[236], Exp2Syn[237], Exp2Syn[238], Exp2Syn[239], Exp2Syn[240], Exp2Syn[241], Exp2Syn[242], Exp2Syn[243], Exp2Syn[244], Exp2Syn[245], Exp2Syn[246], Exp2Syn[247], Exp2Syn[248], Exp2Syn[249], Exp2Syn[250], Exp2Syn[251], Exp2Syn[252], Exp2Syn[253], Exp2Syn[254], Exp2Syn[255], Exp2Syn[256], Exp2Syn[257], Exp2Syn[258], Exp2Syn[259], Exp2Syn[260], Exp2Syn[261], Exp2Syn[262], Exp2Syn[263], Exp2Syn[264], Exp2Syn[265], Exp2Syn[266], Exp2Syn[267], Exp2Syn[268], Exp2Syn[269], Exp2Syn[270], Exp2Syn[271], Exp2Syn[272], Exp2Syn[273], Exp2Syn[274], Exp2Syn[275], Exp2Syn[276], Exp2Syn[277], Exp2Syn[278], Exp2Syn[279], Exp2Syn[280], Exp2Syn[281], Exp2Syn[282], Exp2Syn[283], Exp2Syn[284], Exp2Syn[285], Exp2Syn[286], Exp2Syn[287], Exp2Syn[288], Exp2Syn[289], Exp2Syn[290], Exp2Syn[291], Exp2Syn[292], Exp2Syn[293], Exp2Syn[294], Exp2Syn[295], Exp2Syn[296], Exp2Syn[297], Exp2Syn[298], Exp2Syn[299], Exp2Syn[300], Exp2Syn[301], Exp2Syn[302], Exp2Syn[303], Exp2Syn[304], Exp2Syn[305], Exp2Syn[306], Exp2Syn[307], Exp2Syn[308], Exp2Syn[309], Exp2Syn[310], Exp2Syn[311], Exp2Syn[312], Exp2Syn[313], Exp2Syn[314], Exp2Syn[315], Exp2Syn[316], Exp2Syn[317], Exp2Syn[318], Exp2Syn[319], Exp2Syn[320], Exp2Syn[321], Exp2Syn[322], Exp2Syn[323], Exp2Syn[324], Exp2Syn[325], Exp2Syn[326], Exp2Syn[327], Exp2Syn[328], Exp2Syn[329], Exp2Syn[330], Exp2Syn[331], Exp2Syn[332], Exp2Syn[333], Exp2Syn[334], Exp2Syn[335], Exp2Syn[336], Exp2Syn[337], Exp2Syn[338], Exp2Syn[339], Exp2Syn[340], Exp2Syn[341], Exp2Syn[342], Exp2Syn[343], Exp2Syn[344], Exp2Syn[345], Exp2Syn[346], Exp2Syn[347], Exp2Syn[348], Exp2Syn[349], Exp2Syn[350], Exp2Syn[351], Exp2Syn[352], Exp2Syn[353], Exp2Syn[354], Exp2Syn[355], Exp2Syn[356], Exp2Syn[357], Exp2Syn[358], Exp2Syn[359], Exp2Syn[360], Exp2Syn[361], Exp2Syn[362], Exp2Syn[363], Exp2Syn[364], Exp2Syn[365], Exp2Syn[366], Exp2Syn[367], Exp2Syn[368], Exp2Syn[369], Exp2Syn[370], Exp2Syn[371], Exp2Syn[372], Exp2Syn[373], Exp2Syn[374], Exp2Syn[375], Exp2Syn[376], Exp2Syn[377], Exp2Syn[378], Exp2Syn[379], Exp2Syn[380], Exp2Syn[381], Exp2Syn[382], Exp2Syn[383], Exp2Syn[384], Exp2Syn[385], Exp2Syn[386], Exp2Syn[387], Exp2Syn[388], Exp2Syn[389], Exp2Syn[390], Exp2Syn[391], Exp2Syn[392], Exp2Syn[393], Exp2Syn[394], Exp2Syn[395], Exp2Syn[396], Exp2Syn[397], Exp2Syn[398], Exp2Syn[399], Exp2Syn[400], Exp2Syn[401], Exp2Syn[402], Exp2Syn[403], Exp2Syn[404], Exp2Syn[405], Exp2Syn[406], Exp2Syn[407], Exp2Syn[408], Exp2Syn[409], Exp2Syn[410], Exp2Syn[411], Exp2Syn[412], Exp2Syn[413], Exp2Syn[414], Exp2Syn[415], Exp2Syn[416], Exp2Syn[417], Exp2Syn[418], Exp2Syn[419], Exp2Syn[420], Exp2Syn[421], Exp2Syn[422], Exp2Syn[423], Exp2Syn[424], Exp2Syn[425], Exp2Syn[426], Exp2Syn[427], Exp2Syn[428], Exp2Syn[429], Exp2Syn[430], Exp2Syn[431], Exp2Syn[432], Exp2Syn[433], Exp2Syn[434], Exp2Syn[435], Exp2Syn[436], Exp2Syn[437], Exp2Syn[438], Exp2Syn[439], Exp2Syn[440], Exp2Syn[441], Exp2Syn[442], Exp2Syn[443], Exp2Syn[444], Exp2Syn[445], Exp2Syn[446], Exp2Syn[447], Exp2Syn[448], Exp2Syn[449], Exp2Syn[450], Exp2Syn[451], Exp2Syn[452], Exp2Syn[453], Exp2Syn[454], Exp2Syn[455], Exp2Syn[456], Exp2Syn[457], Exp2Syn[458], Exp2Syn[459], Exp2Syn[460], Exp2Syn[461], Exp2Syn[462], Exp2Syn[463], Exp2Syn[464], Exp2Syn[465], Exp2Syn[466], Exp2Syn[467], Exp2Syn[468], Exp2Syn[469], Exp2Syn[470], Exp2Syn[471], Exp2Syn[472], Exp2Syn[473], Exp2Syn[474], Exp2Syn[475], Exp2Syn[476], Exp2Syn[477], Exp2Syn[478], Exp2Syn[479], Exp2Syn[480], Exp2Syn[481], Exp2Syn[482], Exp2Syn[483], Exp2Syn[484], Exp2Syn[485], Exp2Syn[486], Exp2Syn[487], Exp2Syn[488], Exp2Syn[489], Exp2Syn[490], Exp2Syn[491], Exp2Syn[492], Exp2Syn[493], Exp2Syn[494], Exp2Syn[495], Exp2Syn[496], Exp2Syn[497], Exp2Syn[498], Exp2Syn[499], Exp2Syn[500], Exp2Syn[501], Exp2Syn[502], Exp2Syn[503], Exp2Syn[504], Exp2Syn[505], Exp2Syn[506], Exp2Syn[507], Exp2Syn[508], Exp2Syn[509], Exp2Syn[510], Exp2Syn[511], Exp2Syn[512], Exp2Syn[513], Exp2Syn[514], Exp2Syn[515], Exp2Syn[516], Exp2Syn[517], Exp2Syn[518], Exp2Syn[519], Exp2Syn[520], Exp2Syn[521], Exp2Syn[522], Exp2Syn[523], Exp2Syn[524], Exp2Syn[525], Exp2Syn[526], Exp2Syn[527], Exp2Syn[528], Exp2Syn[529], Exp2Syn[530], Exp2Syn[531], Exp2Syn[532], Exp2Syn[533], Exp2Syn[534], Exp2Syn[535], Exp2Syn[536], Exp2Syn[537], Exp2Syn[538], Exp2Syn[539], Exp2Syn[540], Exp2Syn[541], Exp2Syn[542], Exp2Syn[543], Exp2Syn[544], Exp2Syn[545], Exp2Syn[546], Exp2Syn[547], Exp2Syn[548], Exp2Syn[549], Exp2Syn[550], Exp2Syn[551], Exp2Syn[552], Exp2Syn[553], Exp2Syn[554], Exp2Syn[555], Exp2Syn[556], Exp2Syn[557], Exp2Syn[558], Exp2Syn[559], Exp2Syn[560], Exp2Syn[561], Exp2Syn[562], Exp2Syn[563], Exp2Syn[564], Exp2Syn[565], Exp2Syn[566], Exp2Syn[567], Exp2Syn[568], Exp2Syn[569], Exp2Syn[570], Exp2Syn[571], Exp2Syn[572], Exp2Syn[573], Exp2Syn[574], Exp2Syn[575], Exp2Syn[576], Exp2Syn[577], Exp2Syn[578], Exp2Syn[579], Exp2Syn[580], Exp2Syn[581], Exp2Syn[582], Exp2Syn[583], Exp2Syn[584], Exp2Syn[585], Exp2Syn[586], Exp2Syn[587], Exp2Syn[588], Exp2Syn[589], Exp2Syn[590], Exp2Syn[591], Exp2Syn[592], Exp2Syn[593], Exp2Syn[594], Exp2Syn[595], Exp2Syn[596], Exp2Syn[597], Exp2Syn[598], Exp2Syn[599], Exp2Syn[600], Exp2Syn[601], Exp2Syn[602], Exp2Syn[603], Exp2Syn[604], Exp2Syn[605], Exp2Syn[606], Exp2Syn[607], Exp2Syn[608], Exp2Syn[609], Exp2Syn[610], Exp2Syn[611], Exp2Syn[612], Exp2Syn[613], Exp2Syn[614], Exp2Syn[615], Exp2Syn[616], Exp2Syn[617], Exp2Syn[618], Exp2Syn[619], Exp2Syn[620], Exp2Syn[621], Exp2Syn[622], Exp2Syn[623], Exp2Syn[624], Exp2Syn[625], Exp2Syn[626], Exp2Syn[627], Exp2Syn[628], Exp2Syn[629], Exp2Syn[630], Exp2Syn[631], Exp2Syn[632], Exp2Syn[633], Exp2Syn[634], Exp2Syn[635], Exp2Syn[636], Exp2Syn[637], Exp2Syn[638], Exp2Syn[639], Exp2Syn[640], Exp2Syn[641], Exp2Syn[642], Exp2Syn[643], Exp2Syn[644], Exp2Syn[645], Exp2Syn[646], Exp2Syn[647], Exp2Syn[648], Exp2Syn[649], Exp2Syn[650], Exp2Syn[651], Exp2Syn[652], Exp2Syn[653], Exp2Syn[654], Exp2Syn[655], Exp2Syn[656], Exp2Syn[657], Exp2Syn[658], Exp2Syn[659], Exp2Syn[660], Exp2Syn[661], Exp2Syn[662], Exp2Syn[663], Exp2Syn[664], Exp2Syn[665], Exp2Syn[666], Exp2Syn[667], Exp2Syn[668], Exp2Syn[669], Exp2Syn[670], Exp2Syn[671], Exp2Syn[672], Exp2Syn[673], Exp2Syn[674], Exp2Syn[675], Exp2Syn[676], Exp2Syn[677], Exp2Syn[678], Exp2Syn[679], Exp2Syn[680], Exp2Syn[681], Exp2Syn[682], Exp2Syn[683], Exp2Syn[684], Exp2Syn[685], Exp2Syn[686], Exp2Syn[687], Exp2Syn[688], Exp2Syn[689], Exp2Syn[690], Exp2Syn[691], Exp2Syn[692], Exp2Syn[693], Exp2Syn[694], Exp2Syn[695], Exp2Syn[696], Exp2Syn[697], Exp2Syn[698], Exp2Syn[699], Exp2Syn[700], Exp2Syn[701], Exp2Syn[702], Exp2Syn[703], Exp2Syn[704], Exp2Syn[705], Exp2Syn[706], Exp2Syn[707], Exp2Syn[708], Exp2Syn[709], Exp2Syn[710], Exp2Syn[711], Exp2Syn[712], Exp2Syn[713], Exp2Syn[714], Exp2Syn[715], Exp2Syn[716], Exp2Syn[717], Exp2Syn[718], Exp2Syn[719], Exp2Syn[720], Exp2Syn[721], Exp2Syn[722], Exp2Syn[723], Exp2Syn[724], Exp2Syn[725], Exp2Syn[726], Exp2Syn[727], Exp2Syn[728], Exp2Syn[729], Exp2Syn[730], Exp2Syn[731], Exp2Syn[732], Exp2Syn[733], Exp2Syn[734], Exp2Syn[735], Exp2Syn[736], Exp2Syn[737], Exp2Syn[738], Exp2Syn[739], Exp2Syn[740], Exp2Syn[741], Exp2Syn[742], Exp2Syn[743], Exp2Syn[744], Exp2Syn[745], Exp2Syn[746], Exp2Syn[747], Exp2Syn[748], Exp2Syn[749], Exp2Syn[750], Exp2Syn[751], Exp2Syn[752], Exp2Syn[753], Exp2Syn[754], Exp2Syn[755], Exp2Syn[756], Exp2Syn[757], Exp2Syn[758], Exp2Syn[759], Exp2Syn[760], Exp2Syn[761], Exp2Syn[762], Exp2Syn[763], Exp2Syn[764], Exp2Syn[765], Exp2Syn[766], Exp2Syn[767], Exp2Syn[768], Exp2Syn[769], Exp2Syn[770], Exp2Syn[771], Exp2Syn[772], Exp2Syn[773], Exp2Syn[774], Exp2Syn[775], Exp2Syn[776], Exp2Syn[777], Exp2Syn[778], Exp2Syn[779], Exp2Syn[780], Exp2Syn[781], Exp2Syn[782], Exp2Syn[783], Exp2Syn[784], Exp2Syn[785], Exp2Syn[786], Exp2Syn[787], Exp2Syn[788], Exp2Syn[789], Exp2Syn[790], Exp2Syn[791], Exp2Syn[792], Exp2Syn[793], Exp2Syn[794], Exp2Syn[795], Exp2Syn[796], Exp2Syn[797], Exp2Syn[798], Exp2Syn[799], Exp2Syn[800], Exp2Syn[801], Exp2Syn[802], Exp2Syn[803], Exp2Syn[804], Exp2Syn[805], Exp2Syn[806], Exp2Syn[807], Exp2Syn[808], Exp2Syn[809], Exp2Syn[810], Exp2Syn[811], Exp2Syn[812], Exp2Syn[813], Exp2Syn[814], Exp2Syn[815], Exp2Syn[816], Exp2Syn[817], Exp2Syn[818], Exp2Syn[819], Exp2Syn[820], Exp2Syn[821], Exp2Syn[822], Exp2Syn[823], Exp2Syn[824], Exp2Syn[825], Exp2Syn[826], Exp2Syn[827], Exp2Syn[828], Exp2Syn[829], Exp2Syn[830], Exp2Syn[831], Exp2Syn[832], Exp2Syn[833], Exp2Syn[834], Exp2Syn[835], Exp2Syn[836], Exp2Syn[837], Exp2Syn[838], Exp2Syn[839], Exp2Syn[840], Exp2Syn[841], Exp2Syn[842], Exp2Syn[843], Exp2Syn[844], Exp2Syn[845], Exp2Syn[846], Exp2Syn[847], Exp2Syn[848], Exp2Syn[849], Exp2Syn[850], Exp2Syn[851], Exp2Syn[852], Exp2Syn[853], Exp2Syn[854], Exp2Syn[855], Exp2Syn[856], Exp2Syn[857], Exp2Syn[858], Exp2Syn[859], Exp2Syn[860], Exp2Syn[861], Exp2Syn[862], Exp2Syn[863], Exp2Syn[864], Exp2Syn[865], Exp2Syn[866], Exp2Syn[867], Exp2Syn[868], Exp2Syn[869], Exp2Syn[870], Exp2Syn[871], Exp2Syn[872], Exp2Syn[873], Exp2Syn[874], Exp2Syn[875], Exp2Syn[876], Exp2Syn[877], Exp2Syn[878], Exp2Syn[879], Exp2Syn[880], Exp2Syn[881], Exp2Syn[882], Exp2Syn[883], Exp2Syn[884], Exp2Syn[885], Exp2Syn[886], Exp2Syn[887], Exp2Syn[888], Exp2Syn[889], Exp2Syn[890], Exp2Syn[891], Exp2Syn[892], Exp2Syn[893], Exp2Syn[894], Exp2Syn[895], Exp2Syn[896], Exp2Syn[897], Exp2Syn[898], Exp2Syn[899], Exp2Syn[900], Exp2Syn[901], Exp2Syn[902], Exp2Syn[903], Exp2Syn[904], Exp2Syn[905], Exp2Syn[906], Exp2Syn[907], Exp2Syn[908], Exp2Syn[909], Exp2Syn[910], Exp2Syn[911], Exp2Syn[912], Exp2Syn[913], Exp2Syn[914], Exp2Syn[915], Exp2Syn[916], Exp2Syn[917], Exp2Syn[918], Exp2Syn[919], Exp2Syn[920], Exp2Syn[921], Exp2Syn[922], Exp2Syn[923], Exp2Syn[924], Exp2Syn[925], Exp2Syn[926], Exp2Syn[927], Exp2Syn[928], Exp2Syn[929], Exp2Syn[930], Exp2Syn[931], Exp2Syn[932], Exp2Syn[933], Exp2Syn[934], Exp2Syn[935], Exp2Syn[936], Exp2Syn[937], Exp2Syn[938], Exp2Syn[939], Exp2Syn[940], Exp2Syn[941], Exp2Syn[942], Exp2Syn[943], Exp2Syn[944], Exp2Syn[945], Exp2Syn[946], Exp2Syn[947], Exp2Syn[948], Exp2Syn[949], Exp2Syn[950], Exp2Syn[951], Exp2Syn[952], Exp2Syn[953], Exp2Syn[954], Exp2Syn[955], Exp2Syn[956], Exp2Syn[957], Exp2Syn[958], Exp2Syn[959], Exp2Syn[960], Exp2Syn[961], Exp2Syn[962], Exp2Syn[963], Exp2Syn[964], Exp2Syn[965], Exp2Syn[966], Exp2Syn[967], Exp2Syn[968], Exp2Syn[969], Exp2Syn[970], Exp2Syn[971], Exp2Syn[972], Exp2Syn[973], Exp2Syn[974], Exp2Syn[975], Exp2Syn[976], Exp2Syn[977], Exp2Syn[978], Exp2Syn[979], Exp2Syn[980], Exp2Syn[981], Exp2Syn[982], Exp2Syn[983], Exp2Syn[984], Exp2Syn[985], Exp2Syn[986], Exp2Syn[987], Exp2Syn[988], Exp2Syn[989], Exp2Syn[990], Exp2Syn[991], Exp2Syn[992], Exp2Syn[993], Exp2Syn[994], Exp2Syn[995], Exp2Syn[996], Exp2Syn[997], Exp2Syn[998], Exp2Syn[999], Exp2Syn[1000], Exp2Syn[1001], Exp2Syn[1002], Exp2Syn[1003], Exp2Syn[1004], Exp2Syn[1005], Exp2Syn[1006], Exp2Syn[1007], Exp2Syn[1008], Exp2Syn[1009], Exp2Syn[1010], Exp2Syn[1011], Exp2Syn[1012], Exp2Syn[1013], Exp2Syn[1014], Exp2Syn[1015], Exp2Syn[1016], Exp2Syn[1017], Exp2Syn[1018], Exp2Syn[1019], Exp2Syn[1020], Exp2Syn[1021], Exp2Syn[1022], Exp2Syn[1023], Exp2Syn[1024], Exp2Syn[1025], Exp2Syn[1026], Exp2Syn[1027], Exp2Syn[1028], Exp2Syn[1029], Exp2Syn[1030], Exp2Syn[1031], Exp2Syn[1032], Exp2Syn[1033], Exp2Syn[1034], Exp2Syn[1035], Exp2Syn[1036], Exp2Syn[1037], Exp2Syn[1038], Exp2Syn[1039], Exp2Syn[1040], Exp2Syn[1041], Exp2Syn[1042], Exp2Syn[1043], Exp2Syn[1044], Exp2Syn[1045], Exp2Syn[1046], Exp2Syn[1047], Exp2Syn[1048], Exp2Syn[1049], Exp2Syn[1050], Exp2Syn[1051], Exp2Syn[1052], Exp2Syn[1053], Exp2Syn[1054], Exp2Syn[1055], Exp2Syn[1056], Exp2Syn[1057], Exp2Syn[1058], Exp2Syn[1059], Exp2Syn[1060], Exp2Syn[1061], Exp2Syn[1062], Exp2Syn[1063], Exp2Syn[1064], Exp2Syn[1065], Exp2Syn[1066], Exp2Syn[1067], Exp2Syn[1068], Exp2Syn[1069], Exp2Syn[1070], Exp2Syn[1071], Exp2Syn[1072], Exp2Syn[1073], Exp2Syn[1074], Exp2Syn[1075], Exp2Syn[1076], Exp2Syn[1077], Exp2Syn[1078], Exp2Syn[1079], Exp2Syn[1080], Exp2Syn[1081], Exp2Syn[1082], Exp2Syn[1083], Exp2Syn[1084], Exp2Syn[1085], Exp2Syn[1086], Exp2Syn[1087], Exp2Syn[1088], Exp2Syn[1089], Exp2Syn[1090], Exp2Syn[1091], Exp2Syn[1092], Exp2Syn[1093], Exp2Syn[1094], Exp2Syn[1095], Exp2Syn[1096], Exp2Syn[1097], Exp2Syn[1098], Exp2Syn[1099], Exp2Syn[1100], Exp2Syn[1101], Exp2Syn[1102], Exp2Syn[1103], Exp2Syn[1104], Exp2Syn[1105], Exp2Syn[1106], Exp2Syn[1107], Exp2Syn[1108], Exp2Syn[1109], Exp2Syn[1110], Exp2Syn[1111], Exp2Syn[1112], Exp2Syn[1113], Exp2Syn[1114], Exp2Syn[1115], Exp2Syn[1116], Exp2Syn[1117], Exp2Syn[1118], Exp2Syn[1119], Exp2Syn[1120], Exp2Syn[1121], Exp2Syn[1122], Exp2Syn[1123], Exp2Syn[1124], Exp2Syn[1125], Exp2Syn[1126], Exp2Syn[1127], Exp2Syn[1128], Exp2Syn[1129], Exp2Syn[1130], Exp2Syn[1131], Exp2Syn[1132], Exp2Syn[1133], Exp2Syn[1134], Exp2Syn[1135], Exp2Syn[1136], Exp2Syn[1137], Exp2Syn[1138], Exp2Syn[1139], Exp2Syn[1140], Exp2Syn[1141], Exp2Syn[1142], Exp2Syn[1143], Exp2Syn[1144], Exp2Syn[1145], Exp2Syn[1146], Exp2Syn[1147], Exp2Syn[1148], Exp2Syn[1149], Exp2Syn[1150], Exp2Syn[1151], Exp2Syn[1152], Exp2Syn[1153], Exp2Syn[1154], Exp2Syn[1155], Exp2Syn[1156], Exp2Syn[1157], Exp2Syn[1158], Exp2Syn[1159], Exp2Syn[1160], Exp2Syn[1161], Exp2Syn[1162], Exp2Syn[1163], Exp2Syn[1164], Exp2Syn[1165], Exp2Syn[1166], Exp2Syn[1167], Exp2Syn[1168], Exp2Syn[1169], Exp2Syn[1170], Exp2Syn[1171], Exp2Syn[1172], Exp2Syn[1173], Exp2Syn[1174], Exp2Syn[1175], Exp2Syn[1176], Exp2Syn[1177], Exp2Syn[1178], Exp2Syn[1179], Exp2Syn[1180], Exp2Syn[1181], Exp2Syn[1182], Exp2Syn[1183], Exp2Syn[1184], Exp2Syn[1185], Exp2Syn[1186], Exp2Syn[1187], Exp2Syn[1188], Exp2Syn[1189], Exp2Syn[1190], Exp2Syn[1191], Exp2Syn[1192], Exp2Syn[1193], Exp2Syn[1194], Exp2Syn[1195], Exp2Syn[1196], Exp2Syn[1197], Exp2Syn[1198], Exp2Syn[1199], Exp2Syn[1200], Exp2Syn[1201], Exp2Syn[1202], Exp2Syn[1203], Exp2Syn[1204], Exp2Syn[1205], Exp2Syn[1206], Exp2Syn[1207], Exp2Syn[1208], Exp2Syn[1209], Exp2Syn[1210], Exp2Syn[1211], Exp2Syn[1212], Exp2Syn[1213], Exp2Syn[1214], Exp2Syn[1215], Exp2Syn[1216], Exp2Syn[1217], Exp2Syn[1218], Exp2Syn[1219], Exp2Syn[1220], Exp2Syn[1221], Exp2Syn[1222], Exp2Syn[1223], Exp2Syn[1224], Exp2Syn[1225], Exp2Syn[1226], Exp2Syn[1227], Exp2Syn[1228], Exp2Syn[1229], Exp2Syn[1230], Exp2Syn[1231], Exp2Syn[1232], Exp2Syn[1233], Exp2Syn[1234], Exp2Syn[1235], Exp2Syn[1236], Exp2Syn[1237], Exp2Syn[1238], Exp2Syn[1239], Exp2Syn[1240], Exp2Syn[1241], Exp2Syn[1242], Exp2Syn[1243], Exp2Syn[1244], Exp2Syn[1245], Exp2Syn[1246], Exp2Syn[1247], Exp2Syn[1248], Exp2Syn[1249], Exp2Syn[1250], Exp2Syn[1251], Exp2Syn[1252], Exp2Syn[1253], Exp2Syn[1254], Exp2Syn[1255], Exp2Syn[1256], Exp2Syn[1257], Exp2Syn[1258], Exp2Syn[1259], Exp2Syn[1260], Exp2Syn[1261], Exp2Syn[1262], Exp2Syn[1263], Exp2Syn[1264], Exp2Syn[1265], Exp2Syn[1266], Exp2Syn[1267], Exp2Syn[1268], Exp2Syn[1269], Exp2Syn[1270], Exp2Syn[1271], Exp2Syn[1272], Exp2Syn[1273], Exp2Syn[1274], Exp2Syn[1275], Exp2Syn[1276], Exp2Syn[1277], Exp2Syn[1278], Exp2Syn[1279], Exp2Syn[1280], Exp2Syn[1281], Exp2Syn[1282], Exp2Syn[1283], Exp2Syn[1284], Exp2Syn[1285], Exp2Syn[1286], Exp2Syn[1287], Exp2Syn[1288], Exp2Syn[1289], Exp2Syn[1290], Exp2Syn[1291], Exp2Syn[1292], Exp2Syn[1293], Exp2Syn[1294], Exp2Syn[1295], Exp2Syn[1296], Exp2Syn[1297], Exp2Syn[1298], Exp2Syn[1299], Exp2Syn[1300], Exp2Syn[1301], Exp2Syn[1302], Exp2Syn[1303], Exp2Syn[1304], Exp2Syn[1305], Exp2Syn[1306], Exp2Syn[1307], Exp2Syn[1308], Exp2Syn[1309], Exp2Syn[1310], Exp2Syn[1311], Exp2Syn[1312], Exp2Syn[1313], Exp2Syn[1314], Exp2Syn[1315], Exp2Syn[1316], Exp2Syn[1317], Exp2Syn[1318], Exp2Syn[1319], Exp2Syn[1320], Exp2Syn[1321], Exp2Syn[1322], Exp2Syn[1323], Exp2Syn[1324], Exp2Syn[1325], Exp2Syn[1326], Exp2Syn[1327], Exp2Syn[1328], Exp2Syn[1329], Exp2Syn[1330], Exp2Syn[1331], Exp2Syn[1332], Exp2Syn[1333], Exp2Syn[1334], Exp2Syn[1335], Exp2Syn[1336], Exp2Syn[1337], Exp2Syn[1338], Exp2Syn[1339], Exp2Syn[1340], Exp2Syn[1341], Exp2Syn[1342], Exp2Syn[1343], Exp2Syn[1344], Exp2Syn[1345], Exp2Syn[1346], Exp2Syn[1347], Exp2Syn[1348], Exp2Syn[1349], Exp2Syn[1350], Exp2Syn[1351], Exp2Syn[1352], Exp2Syn[1353], Exp2Syn[1354], Exp2Syn[1355], Exp2Syn[1356], Exp2Syn[1357], Exp2Syn[1358], Exp2Syn[1359], Exp2Syn[1360], Exp2Syn[1361], Exp2Syn[1362], Exp2Syn[1363], Exp2Syn[1364], Exp2Syn[1365], Exp2Syn[1366], Exp2Syn[1367], Exp2Syn[1368], Exp2Syn[1369], Exp2Syn[1370], Exp2Syn[1371], Exp2Syn[1372], Exp2Syn[1373], Exp2Syn[1374], Exp2Syn[1375], Exp2Syn[1376], Exp2Syn[1377], Exp2Syn[1378], Exp2Syn[1379], Exp2Syn[1380], Exp2Syn[1381], Exp2Syn[1382], Exp2Syn[1383], Exp2Syn[1384], Exp2Syn[1385], Exp2Syn[1386], Exp2Syn[1387], Exp2Syn[1388], Exp2Syn[1389], Exp2Syn[1390], Exp2Syn[1391], Exp2Syn[1392], Exp2Syn[1393], Exp2Syn[1394], Exp2Syn[1395], Exp2Syn[1396], Exp2Syn[1397], Exp2Syn[1398], Exp2Syn[1399], Exp2Syn[1400], Exp2Syn[1401], Exp2Syn[1402], Exp2Syn[1403], Exp2Syn[1404], Exp2Syn[1405], Exp2Syn[1406], Exp2Syn[1407], Exp2Syn[1408], Exp2Syn[1409], Exp2Syn[1410], Exp2Syn[1411], Exp2Syn[1412], Exp2Syn[1413], Exp2Syn[1414], Exp2Syn[1415], Exp2Syn[1416], Exp2Syn[1417], Exp2Syn[1418], Exp2Syn[1419], Exp2Syn[1420], Exp2Syn[1421], Exp2Syn[1422], Exp2Syn[1423], Exp2Syn[1424], Exp2Syn[1425], Exp2Syn[1426], Exp2Syn[1427], Exp2Syn[1428], Exp2Syn[1429], Exp2Syn[1430], Exp2Syn[1431], Exp2Syn[1432], Exp2Syn[1433], Exp2Syn[1434], Exp2Syn[1435], Exp2Syn[1436], Exp2Syn[1437], Exp2Syn[1438], Exp2Syn[1439], Exp2Syn[1440], Exp2Syn[1441], Exp2Syn[1442], Exp2Syn[1443], Exp2Syn[1444], Exp2Syn[1445], Exp2Syn[1446], Exp2Syn[1447], Exp2Syn[1448], Exp2Syn[1449], Exp2Syn[1450], Exp2Syn[1451], Exp2Syn[1452], Exp2Syn[1453], Exp2Syn[1454], Exp2Syn[1455], Exp2Syn[1456], Exp2Syn[1457], Exp2Syn[1458], Exp2Syn[1459], Exp2Syn[1460], Exp2Syn[1461], Exp2Syn[1462], Exp2Syn[1463], Exp2Syn[1464], Exp2Syn[1465], Exp2Syn[1466], Exp2Syn[1467], Exp2Syn[1468], Exp2Syn[1469], Exp2Syn[1470], Exp2Syn[1471], Exp2Syn[1472], Exp2Syn[1473], Exp2Syn[1474], Exp2Syn[1475], Exp2Syn[1476], Exp2Syn[1477], Exp2Syn[1478], Exp2Syn[1479], Exp2Syn[1480], Exp2Syn[1481], Exp2Syn[1482], Exp2Syn[1483], Exp2Syn[1484], Exp2Syn[1485], Exp2Syn[1486], Exp2Syn[1487], Exp2Syn[1488], Exp2Syn[1489], Exp2Syn[1490], Exp2Syn[1491], Exp2Syn[1492], Exp2Syn[1493], Exp2Syn[1494], Exp2Syn[1495], Exp2Syn[1496], Exp2Syn[1497], Exp2Syn[1498], Exp2Syn[1499], Exp2Syn[1500], Exp2Syn[1501], Exp2Syn[1502], Exp2Syn[1503], Exp2Syn[1504], Exp2Syn[1505], Exp2Syn[1506], Exp2Syn[1507], Exp2Syn[1508], Exp2Syn[1509], Exp2Syn[1510], Exp2Syn[1511], Exp2Syn[1512], Exp2Syn[1513], Exp2Syn[1514], Exp2Syn[1515], Exp2Syn[1516], Exp2Syn[1517], Exp2Syn[1518], Exp2Syn[1519], Exp2Syn[1520], Exp2Syn[1521], Exp2Syn[1522], Exp2Syn[1523], Exp2Syn[1524], Exp2Syn[1525], Exp2Syn[1526], Exp2Syn[1527], Exp2Syn[1528], Exp2Syn[1529], Exp2Syn[1530], Exp2Syn[1531], Exp2Syn[1532], Exp2Syn[1533], Exp2Syn[1534], Exp2Syn[1535], Exp2Syn[1536], Exp2Syn[1537], Exp2Syn[1538], Exp2Syn[1539], Exp2Syn[1540], Exp2Syn[1541], Exp2Syn[1542], Exp2Syn[1543], Exp2Syn[1544], Exp2Syn[1545], Exp2Syn[1546], Exp2Syn[1547], Exp2Syn[1548], Exp2Syn[1549], Exp2Syn[1550], Exp2Syn[1551], Exp2Syn[1552], Exp2Syn[1553], Exp2Syn[1554], Exp2Syn[1555], Exp2Syn[1556], Exp2Syn[1557], Exp2Syn[1558], Exp2Syn[1559], Exp2Syn[1560], Exp2Syn[1561], Exp2Syn[1562], Exp2Syn[1563], Exp2Syn[1564], Exp2Syn[1565], Exp2Syn[1566], Exp2Syn[1567], Exp2Syn[1568], Exp2Syn[1569], Exp2Syn[1570], Exp2Syn[1571], Exp2Syn[1572], Exp2Syn[1573], Exp2Syn[1574], Exp2Syn[1575], Exp2Syn[1576], Exp2Syn[1577], Exp2Syn[1578], Exp2Syn[1579], Exp2Syn[1580], Exp2Syn[1581], Exp2Syn[1582], Exp2Syn[1583], Exp2Syn[1584], Exp2Syn[1585], Exp2Syn[1586], Exp2Syn[1587], Exp2Syn[1588], Exp2Syn[1589], Exp2Syn[1590], Exp2Syn[1591], Exp2Syn[1592], Exp2Syn[1593], Exp2Syn[1594], Exp2Syn[1595], Exp2Syn[1596], Exp2Syn[1597], Exp2Syn[1598], Exp2Syn[1599], Exp2Syn[1600], Exp2Syn[1601], Exp2Syn[1602], Exp2Syn[1603], Exp2Syn[1604], Exp2Syn[1605], Exp2Syn[1606], Exp2Syn[1607], Exp2Syn[1608], Exp2Syn[1609], Exp2Syn[1610], Exp2Syn[1611], Exp2Syn[1612], Exp2Syn[1613], Exp2Syn[1614], Exp2Syn[1615], Exp2Syn[1616], Exp2Syn[1617], Exp2Syn[1618], Exp2Syn[1619], Exp2Syn[1620], Exp2Syn[1621], Exp2Syn[1622], Exp2Syn[1623], Exp2Syn[1624], Exp2Syn[1625], Exp2Syn[1626], Exp2Syn[1627], Exp2Syn[1628], Exp2Syn[1629], Exp2Syn[1630], Exp2Syn[1631], Exp2Syn[1632], Exp2Syn[1633], Exp2Syn[1634], Exp2Syn[1635], Exp2Syn[1636], Exp2Syn[1637], Exp2Syn[1638], Exp2Syn[1639], Exp2Syn[1640], Exp2Syn[1641], Exp2Syn[1642], Exp2Syn[1643], Exp2Syn[1644], Exp2Syn[1645], Exp2Syn[1646], Exp2Syn[1647], Exp2Syn[1648], Exp2Syn[1649], Exp2Syn[1650], Exp2Syn[1651], Exp2Syn[1652], Exp2Syn[1653], Exp2Syn[1654], Exp2Syn[1655], Exp2Syn[1656], Exp2Syn[1657], Exp2Syn[1658], Exp2Syn[1659], Exp2Syn[1660], Exp2Syn[1661], Exp2Syn[1662], Exp2Syn[1663], Exp2Syn[1664], Exp2Syn[1665], Exp2Syn[1666], Exp2Syn[1667], Exp2Syn[1668], Exp2Syn[1669], Exp2Syn[1670], Exp2Syn[1671], Exp2Syn[1672], Exp2Syn[1673], Exp2Syn[1674], Exp2Syn[1675], Exp2Syn[1676], Exp2Syn[1677], Exp2Syn[1678], Exp2Syn[1679], Exp2Syn[1680], Exp2Syn[1681], Exp2Syn[1682], Exp2Syn[1683], Exp2Syn[1684], Exp2Syn[1685], Exp2Syn[1686], Exp2Syn[1687], Exp2Syn[1688], Exp2Syn[1689], Exp2Syn[1690], Exp2Syn[1691], Exp2Syn[1692], Exp2Syn[1693], Exp2Syn[1694], Exp2Syn[1695], Exp2Syn[1696], Exp2Syn[1697], Exp2Syn[1698], Exp2Syn[1699], Exp2Syn[1700], Exp2Syn[1701], Exp2Syn[1702], Exp2Syn[1703], Exp2Syn[1704], Exp2Syn[1705], Exp2Syn[1706], Exp2Syn[1707], Exp2Syn[1708], Exp2Syn[1709], Exp2Syn[1710], Exp2Syn[1711], Exp2Syn[1712], Exp2Syn[1713], Exp2Syn[1714], Exp2Syn[1715], Exp2Syn[1716], Exp2Syn[1717], Exp2Syn[1718], Exp2Syn[1719], Exp2Syn[1720], Exp2Syn[1721], Exp2Syn[1722], Exp2Syn[1723], Exp2Syn[1724], Exp2Syn[1725], Exp2Syn[1726], Exp2Syn[1727], Exp2Syn[1728], Exp2Syn[1729], Exp2Syn[1730], Exp2Syn[1731], Exp2Syn[1732], Exp2Syn[1733], Exp2Syn[1734], Exp2Syn[1735], Exp2Syn[1736], Exp2Syn[1737], Exp2Syn[1738], Exp2Syn[1739], Exp2Syn[1740], Exp2Syn[1741], Exp2Syn[1742], Exp2Syn[1743], Exp2Syn[1744], Exp2Syn[1745], Exp2Syn[1746], Exp2Syn[1747], Exp2Syn[1748], Exp2Syn[1749], Exp2Syn[1750], Exp2Syn[1751], Exp2Syn[1752], Exp2Syn[1753], Exp2Syn[1754], Exp2Syn[1755], Exp2Syn[1756], Exp2Syn[1757], Exp2Syn[1758], Exp2Syn[1759], Exp2Syn[1760], Exp2Syn[1761], Exp2Syn[1762], Exp2Syn[1763], Exp2Syn[1764], Exp2Syn[1765], Exp2Syn[1766], Exp2Syn[1767], Exp2Syn[1768], Exp2Syn[1769], Exp2Syn[1770], Exp2Syn[1771], Exp2Syn[1772], Exp2Syn[1773], Exp2Syn[1774], Exp2Syn[1775], Exp2Syn[1776], Exp2Syn[1777], Exp2Syn[1778], Exp2Syn[1779], Exp2Syn[1780], Exp2Syn[1781], Exp2Syn[1782], Exp2Syn[1783], Exp2Syn[1784], Exp2Syn[1785], Exp2Syn[1786], Exp2Syn[1787], Exp2Syn[1788], Exp2Syn[1789], Exp2Syn[1790], Exp2Syn[1791], Exp2Syn[1792], Exp2Syn[1793], Exp2Syn[1794], Exp2Syn[1795], Exp2Syn[1796], Exp2Syn[1797], Exp2Syn[1798], Exp2Syn[1799], Exp2Syn[1800], Exp2Syn[1801], Exp2Syn[1802], Exp2Syn[1803], Exp2Syn[1804], Exp2Syn[1805], Exp2Syn[1806], Exp2Syn[1807], Exp2Syn[1808], Exp2Syn[1809], Exp2Syn[1810], Exp2Syn[1811], Exp2Syn[1812], Exp2Syn[1813], Exp2Syn[1814], Exp2Syn[1815], Exp2Syn[1816], Exp2Syn[1817], Exp2Syn[1818], Exp2Syn[1819], Exp2Syn[1820], Exp2Syn[1821], Exp2Syn[1822], Exp2Syn[1823], Exp2Syn[1824], Exp2Syn[1825], Exp2Syn[1826], Exp2Syn[1827], Exp2Syn[1828], Exp2Syn[1829], Exp2Syn[1830], Exp2Syn[1831], Exp2Syn[1832], Exp2Syn[1833], Exp2Syn[1834], Exp2Syn[1835], Exp2Syn[1836], Exp2Syn[1837], Exp2Syn[1838], Exp2Syn[1839], Exp2Syn[1840], Exp2Syn[1841], Exp2Syn[1842], Exp2Syn[1843], Exp2Syn[1844], Exp2Syn[1845], Exp2Syn[1846], Exp2Syn[1847], Exp2Syn[1848], Exp2Syn[1849], Exp2Syn[1850], Exp2Syn[1851], Exp2Syn[1852], Exp2Syn[1853], Exp2Syn[1854], Exp2Syn[1855], Exp2Syn[1856], Exp2Syn[1857], Exp2Syn[1858], Exp2Syn[1859], Exp2Syn[1860], Exp2Syn[1861], Exp2Syn[1862], Exp2Syn[1863], Exp2Syn[1864], Exp2Syn[1865], Exp2Syn[1866], Exp2Syn[1867], Exp2Syn[1868], Exp2Syn[1869], Exp2Syn[1870], Exp2Syn[1871], Exp2Syn[1872], Exp2Syn[1873], Exp2Syn[1874], Exp2Syn[1875], Exp2Syn[1876], Exp2Syn[1877], Exp2Syn[1878], Exp2Syn[1879], Exp2Syn[1880], Exp2Syn[1881], Exp2Syn[1882], Exp2Syn[1883], Exp2Syn[1884], Exp2Syn[1885], Exp2Syn[1886], Exp2Syn[1887], Exp2Syn[1888], Exp2Syn[1889], Exp2Syn[1890], Exp2Syn[1891], Exp2Syn[1892], Exp2Syn[1893], Exp2Syn[1894], Exp2Syn[1895], Exp2Syn[1896], Exp2Syn[1897], Exp2Syn[1898], Exp2Syn[1899], Exp2Syn[1900], Exp2Syn[1901], Exp2Syn[1902], Exp2Syn[1903], Exp2Syn[1904], Exp2Syn[1905], Exp2Syn[1906], Exp2Syn[1907], Exp2Syn[1908], Exp2Syn[1909], Exp2Syn[1910], Exp2Syn[1911], Exp2Syn[1912], Exp2Syn[1913], Exp2Syn[1914], Exp2Syn[1915], Exp2Syn[1916], Exp2Syn[1917], Exp2Syn[1918], Exp2Syn[1919], Exp2Syn[1920], Exp2Syn[1921], Exp2Syn[1922], Exp2Syn[1923], Exp2Syn[1924], Exp2Syn[1925], Exp2Syn[1926], Exp2Syn[1927], Exp2Syn[1928], Exp2Syn[1929], Exp2Syn[1930], Exp2Syn[1931], Exp2Syn[1932], Exp2Syn[1933], Exp2Syn[1934], Exp2Syn[1935], Exp2Syn[1936], Exp2Syn[1937], Exp2Syn[1938], Exp2Syn[1939], Exp2Syn[1940], Exp2Syn[1941], Exp2Syn[1942], Exp2Syn[1943], Exp2Syn[1944], Exp2Syn[1945], Exp2Syn[1946], Exp2Syn[1947], Exp2Syn[1948], Exp2Syn[1949], Exp2Syn[1950], Exp2Syn[1951], Exp2Syn[1952], Exp2Syn[1953], Exp2Syn[1954], Exp2Syn[1955], Exp2Syn[1956], Exp2Syn[1957], Exp2Syn[1958], Exp2Syn[1959], Exp2Syn[1960], Exp2Syn[1961], Exp2Syn[1962], Exp2Syn[1963], Exp2Syn[1964], Exp2Syn[1965], Exp2Syn[1966], Exp2Syn[1967], Exp2Syn[1968], Exp2Syn[1969], Exp2Syn[1970], Exp2Syn[1971], Exp2Syn[1972], Exp2Syn[1973], Exp2Syn[1974], Exp2Syn[1975], Exp2Syn[1976], Exp2Syn[1977], Exp2Syn[1978], Exp2Syn[1979], Exp2Syn[1980], Exp2Syn[1981], Exp2Syn[1982], Exp2Syn[1983], Exp2Syn[1984], Exp2Syn[1985], Exp2Syn[1986], Exp2Syn[1987], Exp2Syn[1988], Exp2Syn[1989], Exp2Syn[1990], Exp2Syn[1991], Exp2Syn[1992], Exp2Syn[1993], Exp2Syn[1994], Exp2Syn[1995], Exp2Syn[1996], Exp2Syn[1997], Exp2Syn[1998], Exp2Syn[1999], Exp2Syn[2000], Exp2Syn[2001], Exp2Syn[2002], Exp2Syn[2003], Exp2Syn[2004], Exp2Syn[2005], Exp2Syn[2006], Exp2Syn[2007], Exp2Syn[2008], Exp2Syn[2009], Exp2Syn[2010], Exp2Syn[2011], Exp2Syn[2012], Exp2Syn[2013], Exp2Syn[2014], Exp2Syn[2015], Exp2Syn[2016], Exp2Syn[2017], Exp2Syn[2018], Exp2Syn[2019], Exp2Syn[2020], Exp2Syn[2021], Exp2Syn[2022], Exp2Syn[2023], Exp2Syn[2024], Exp2Syn[2025], Exp2Syn[2026], Exp2Syn[2027], Exp2Syn[2028], Exp2Syn[2029], Exp2Syn[2030], Exp2Syn[2031], Exp2Syn[2032], Exp2Syn[2033], Exp2Syn[2034], Exp2Syn[2035], Exp2Syn[2036], Exp2Syn[2037], Exp2Syn[2038], Exp2Syn[2039], Exp2Syn[2040], Exp2Syn[2041], Exp2Syn[2042], Exp2Syn[2043], Exp2Syn[2044], Exp2Syn[2045], Exp2Syn[2046], Exp2Syn[2047], Exp2Syn[2048], Exp2Syn[2049], Exp2Syn[2050], Exp2Syn[2051], Exp2Syn[2052], Exp2Syn[2053], Exp2Syn[2054], Exp2Syn[2055], Exp2Syn[2056], Exp2Syn[2057], Exp2Syn[2058], Exp2Syn[2059], Exp2Syn[2060], Exp2Syn[2061], Exp2Syn[2062], Exp2Syn[2063], Exp2Syn[2064], Exp2Syn[2065], Exp2Syn[2066], Exp2Syn[2067], Exp2Syn[2068], Exp2Syn[2069], Exp2Syn[2070], Exp2Syn[2071], Exp2Syn[2072], Exp2Syn[2073], Exp2Syn[2074], Exp2Syn[2075], Exp2Syn[2076], Exp2Syn[2077], Exp2Syn[2078], Exp2Syn[2079], Exp2Syn[2080], Exp2Syn[2081], Exp2Syn[2082], Exp2Syn[2083], Exp2Syn[2084], Exp2Syn[2085], Exp2Syn[2086], Exp2Syn[2087], Exp2Syn[2088], Exp2Syn[2089], Exp2Syn[2090], Exp2Syn[2091], Exp2Syn[2092], Exp2Syn[2093], Exp2Syn[2094], Exp2Syn[2095], Exp2Syn[2096], Exp2Syn[2097], Exp2Syn[2098], Exp2Syn[2099], Exp2Syn[2100], Exp2Syn[2101], Exp2Syn[2102], Exp2Syn[2103], Exp2Syn[2104], Exp2Syn[2105], Exp2Syn[2106], Exp2Syn[2107], Exp2Syn[2108], Exp2Syn[2109], Exp2Syn[2110], Exp2Syn[2111], Exp2Syn[2112], Exp2Syn[2113], Exp2Syn[2114], Exp2Syn[2115], Exp2Syn[2116], Exp2Syn[2117], Exp2Syn[2118], Exp2Syn[2119], Exp2Syn[2120], Exp2Syn[2121], Exp2Syn[2122], Exp2Syn[2123], Exp2Syn[2124], Exp2Syn[2125], Exp2Syn[2126], Exp2Syn[2127], Exp2Syn[2128], Exp2Syn[2129], Exp2Syn[2130], Exp2Syn[2131], Exp2Syn[2132], Exp2Syn[2133], Exp2Syn[2134], Exp2Syn[2135], Exp2Syn[2136], Exp2Syn[2137], Exp2Syn[2138], Exp2Syn[2139], Exp2Syn[2140], Exp2Syn[2141], Exp2Syn[2142], Exp2Syn[2143], Exp2Syn[2144], Exp2Syn[2145], Exp2Syn[2146], Exp2Syn[2147], Exp2Syn[2148], Exp2Syn[2149], Exp2Syn[2150], Exp2Syn[2151], Exp2Syn[2152], Exp2Syn[2153], Exp2Syn[2154], Exp2Syn[2155], Exp2Syn[2156], Exp2Syn[2157], Exp2Syn[2158], Exp2Syn[2159], Exp2Syn[2160], Exp2Syn[2161], Exp2Syn[2162], Exp2Syn[2163], Exp2Syn[2164], Exp2Syn[2165], Exp2Syn[2166], Exp2Syn[2167], Exp2Syn[2168], Exp2Syn[2169], Exp2Syn[2170], Exp2Syn[2171], Exp2Syn[2172], Exp2Syn[2173], Exp2Syn[2174], Exp2Syn[2175], Exp2Syn[2176], Exp2Syn[2177], Exp2Syn[2178], Exp2Syn[2179], Exp2Syn[2180], Exp2Syn[2181], Exp2Syn[2182], Exp2Syn[2183], Exp2Syn[2184], Exp2Syn[2185], Exp2Syn[2186], Exp2Syn[2187], Exp2Syn[2188], Exp2Syn[2189], Exp2Syn[2190], Exp2Syn[2191], Exp2Syn[2192], Exp2Syn[2193], Exp2Syn[2194], Exp2Syn[2195], Exp2Syn[2196], Exp2Syn[2197], Exp2Syn[2198], Exp2Syn[2199], Exp2Syn[2200], Exp2Syn[2201], Exp2Syn[2202], Exp2Syn[2203], Exp2Syn[2204], Exp2Syn[2205], Exp2Syn[2206], Exp2Syn[2207], Exp2Syn[2208], Exp2Syn[2209], Exp2Syn[2210], Exp2Syn[2211], Exp2Syn[2212], Exp2Syn[2213], Exp2Syn[2214], Exp2Syn[2215], Exp2Syn[2216], Exp2Syn[2217], Exp2Syn[2218], Exp2Syn[2219], Exp2Syn[2220], Exp2Syn[2221], Exp2Syn[2222], Exp2Syn[2223], Exp2Syn[2224], Exp2Syn[2225], Exp2Syn[2226], Exp2Syn[2227], Exp2Syn[2228], Exp2Syn[2229], Exp2Syn[2230], Exp2Syn[2231], Exp2Syn[2232], Exp2Syn[2233], Exp2Syn[2234], Exp2Syn[2235], Exp2Syn[2236], Exp2Syn[2237], Exp2Syn[2238], Exp2Syn[2239], Exp2Syn[2240], Exp2Syn[2241], Exp2Syn[2242], Exp2Syn[2243], Exp2Syn[2244], Exp2Syn[2245], Exp2Syn[2246], Exp2Syn[2247], Exp2Syn[2248], Exp2Syn[2249], Exp2Syn[2250], Exp2Syn[2251], Exp2Syn[2252], Exp2Syn[2253], Exp2Syn[2254], Exp2Syn[2255], Exp2Syn[2256], Exp2Syn[2257], Exp2Syn[2258], Exp2Syn[2259], Exp2Syn[2260], Exp2Syn[2261], Exp2Syn[2262], Exp2Syn[2263], Exp2Syn[2264], Exp2Syn[2265], Exp2Syn[2266], Exp2Syn[2267], Exp2Syn[2268], Exp2Syn[2269], Exp2Syn[2270], Exp2Syn[2271], Exp2Syn[2272], Exp2Syn[2273], Exp2Syn[2274], Exp2Syn[2275], Exp2Syn[2276], Exp2Syn[2277], Exp2Syn[2278], Exp2Syn[2279], Exp2Syn[2280], Exp2Syn[2281], Exp2Syn[2282], Exp2Syn[2283], Exp2Syn[2284], Exp2Syn[2285], Exp2Syn[2286], Exp2Syn[2287], Exp2Syn[2288], Exp2Syn[2289], Exp2Syn[2290], Exp2Syn[2291], Exp2Syn[2292], Exp2Syn[2293], Exp2Syn[2294], Exp2Syn[2295], Exp2Syn[2296], Exp2Syn[2297], Exp2Syn[2298], Exp2Syn[2299], Exp2Syn[2300], Exp2Syn[2301], Exp2Syn[2302], Exp2Syn[2303], Exp2Syn[2304], Exp2Syn[2305], Exp2Syn[2306], Exp2Syn[2307], Exp2Syn[2308], Exp2Syn[2309], Exp2Syn[2310], Exp2Syn[2311], Exp2Syn[2312], Exp2Syn[2313], Exp2Syn[2314], Exp2Syn[2315], Exp2Syn[2316], Exp2Syn[2317], Exp2Syn[2318], Exp2Syn[2319], Exp2Syn[2320], Exp2Syn[2321], Exp2Syn[2322], Exp2Syn[2323], Exp2Syn[2324], Exp2Syn[2325], Exp2Syn[2326], Exp2Syn[2327], Exp2Syn[2328], Exp2Syn[2329], Exp2Syn[2330], Exp2Syn[2331], Exp2Syn[2332], Exp2Syn[2333], Exp2Syn[2334], Exp2Syn[2335], Exp2Syn[2336], Exp2Syn[2337], Exp2Syn[2338], Exp2Syn[2339], Exp2Syn[2340], Exp2Syn[2341], Exp2Syn[2342], Exp2Syn[2343], Exp2Syn[2344], Exp2Syn[2345], Exp2Syn[2346], Exp2Syn[2347], Exp2Syn[2348], Exp2Syn[2349], Exp2Syn[2350], Exp2Syn[2351], Exp2Syn[2352], Exp2Syn[2353], Exp2Syn[2354], Exp2Syn[2355], Exp2Syn[2356], Exp2Syn[2357], Exp2Syn[2358], Exp2Syn[2359], Exp2Syn[2360], Exp2Syn[2361], Exp2Syn[2362], Exp2Syn[2363], Exp2Syn[2364], Exp2Syn[2365], Exp2Syn[2366], Exp2Syn[2367], Exp2Syn[2368], Exp2Syn[2369], Exp2Syn[2370], Exp2Syn[2371], Exp2Syn[2372], Exp2Syn[2373], Exp2Syn[2374], Exp2Syn[2375], Exp2Syn[2376], Exp2Syn[2377], Exp2Syn[2378], Exp2Syn[2379], Exp2Syn[2380], Exp2Syn[2381], Exp2Syn[2382], Exp2Syn[2383], Exp2Syn[2384], Exp2Syn[2385], Exp2Syn[2386], Exp2Syn[2387], Exp2Syn[2388], Exp2Syn[2389], Exp2Syn[2390], Exp2Syn[2391], Exp2Syn[2392], Exp2Syn[2393], Exp2Syn[2394], Exp2Syn[2395], Exp2Syn[2396], Exp2Syn[2397], Exp2Syn[2398], Exp2Syn[2399], Exp2Syn[2400], Exp2Syn[2401], Exp2Syn[2402], Exp2Syn[2403], Exp2Syn[2404], Exp2Syn[2405], Exp2Syn[2406], Exp2Syn[2407], Exp2Syn[2408], Exp2Syn[2409], Exp2Syn[2410], Exp2Syn[2411], Exp2Syn[2412], Exp2Syn[2413], Exp2Syn[2414], Exp2Syn[2415], Exp2Syn[2416], Exp2Syn[2417], Exp2Syn[2418], Exp2Syn[2419], Exp2Syn[2420], Exp2Syn[2421], Exp2Syn[2422], Exp2Syn[2423], Exp2Syn[2424], Exp2Syn[2425], Exp2Syn[2426], Exp2Syn[2427], Exp2Syn[2428], Exp2Syn[2429], Exp2Syn[2430], Exp2Syn[2431], Exp2Syn[2432], Exp2Syn[2433], Exp2Syn[2434], Exp2Syn[2435], Exp2Syn[2436], Exp2Syn[2437], Exp2Syn[2438], Exp2Syn[2439], Exp2Syn[2440], Exp2Syn[2441], Exp2Syn[2442], Exp2Syn[2443], Exp2Syn[2444], Exp2Syn[2445], Exp2Syn[2446], Exp2Syn[2447], Exp2Syn[2448], Exp2Syn[2449], Exp2Syn[2450], Exp2Syn[2451], Exp2Syn[2452], Exp2Syn[2453], Exp2Syn[2454], Exp2Syn[2455], Exp2Syn[2456], Exp2Syn[2457], Exp2Syn[2458], Exp2Syn[2459], Exp2Syn[2460], Exp2Syn[2461], Exp2Syn[2462], Exp2Syn[2463], Exp2Syn[2464], Exp2Syn[2465], Exp2Syn[2466], Exp2Syn[2467], Exp2Syn[2468], Exp2Syn[2469], Exp2Syn[2470], Exp2Syn[2471], Exp2Syn[2472], Exp2Syn[2473], Exp2Syn[2474], Exp2Syn[2475], Exp2Syn[2476], Exp2Syn[2477], Exp2Syn[2478], Exp2Syn[2479], Exp2Syn[2480], Exp2Syn[2481], Exp2Syn[2482], Exp2Syn[2483], Exp2Syn[2484], Exp2Syn[2485], Exp2Syn[2486], Exp2Syn[2487], Exp2Syn[2488], Exp2Syn[2489], Exp2Syn[2490], Exp2Syn[2491], Exp2Syn[2492], Exp2Syn[2493], Exp2Syn[2494], Exp2Syn[2495], Exp2Syn[2496], Exp2Syn[2497], Exp2Syn[2498], Exp2Syn[2499], Exp2Syn[2500], Exp2Syn[2501], Exp2Syn[2502], Exp2Syn[2503], Exp2Syn[2504], Exp2Syn[2505], Exp2Syn[2506], Exp2Syn[2507], Exp2Syn[2508], Exp2Syn[2509], Exp2Syn[2510], Exp2Syn[2511], Exp2Syn[2512], Exp2Syn[2513], Exp2Syn[2514], Exp2Syn[2515], Exp2Syn[2516], Exp2Syn[2517], Exp2Syn[2518], Exp2Syn[2519], Exp2Syn[2520], Exp2Syn[2521], Exp2Syn[2522], Exp2Syn[2523], Exp2Syn[2524], Exp2Syn[2525], Exp2Syn[2526], Exp2Syn[2527], Exp2Syn[2528], Exp2Syn[2529], Exp2Syn[2530], Exp2Syn[2531], Exp2Syn[2532], Exp2Syn[2533], Exp2Syn[2534], Exp2Syn[2535], Exp2Syn[2536], Exp2Syn[2537], Exp2Syn[2538], Exp2Syn[2539], Exp2Syn[2540], Exp2Syn[2541], Exp2Syn[2542], Exp2Syn[2543], Exp2Syn[2544], Exp2Syn[2545], Exp2Syn[2546], Exp2Syn[2547], Exp2Syn[2548], Exp2Syn[2549], Exp2Syn[2550], Exp2Syn[2551], Exp2Syn[2552], Exp2Syn[2553], Exp2Syn[2554], Exp2Syn[2555], Exp2Syn[2556], Exp2Syn[2557], Exp2Syn[2558], Exp2Syn[2559], Exp2Syn[2560], Exp2Syn[2561], Exp2Syn[2562], Exp2Syn[2563], Exp2Syn[2564], Exp2Syn[2565], Exp2Syn[2566], Exp2Syn[2567], Exp2Syn[2568], Exp2Syn[2569], Exp2Syn[2570], Exp2Syn[2571], Exp2Syn[2572], Exp2Syn[2573], Exp2Syn[2574], Exp2Syn[2575], Exp2Syn[2576], Exp2Syn[2577], Exp2Syn[2578], Exp2Syn[2579], Exp2Syn[2580], Exp2Syn[2581], Exp2Syn[2582], Exp2Syn[2583], Exp2Syn[2584], Exp2Syn[2585], Exp2Syn[2586], Exp2Syn[2587], Exp2Syn[2588], Exp2Syn[2589], Exp2Syn[2590], Exp2Syn[2591], Exp2Syn[2592], Exp2Syn[2593], Exp2Syn[2594], Exp2Syn[2595], Exp2Syn[2596], Exp2Syn[2597], Exp2Syn[2598], Exp2Syn[2599], Exp2Syn[2600], Exp2Syn[2601], Exp2Syn[2602], Exp2Syn[2603], Exp2Syn[2604], Exp2Syn[2605], Exp2Syn[2606], Exp2Syn[2607], Exp2Syn[2608], Exp2Syn[2609], Exp2Syn[2610], Exp2Syn[2611], Exp2Syn[2612], Exp2Syn[2613], Exp2Syn[2614], Exp2Syn[2615], Exp2Syn[2616], Exp2Syn[2617], Exp2Syn[2618], Exp2Syn[2619], Exp2Syn[2620], Exp2Syn[2621], Exp2Syn[2622], Exp2Syn[2623], Exp2Syn[2624], Exp2Syn[2625], Exp2Syn[2626], Exp2Syn[2627], Exp2Syn[2628], Exp2Syn[2629], Exp2Syn[2630], Exp2Syn[2631], Exp2Syn[2632], Exp2Syn[2633], Exp2Syn[2634], Exp2Syn[2635], Exp2Syn[2636], Exp2Syn[2637], Exp2Syn[2638], Exp2Syn[2639], Exp2Syn[2640], Exp2Syn[2641], Exp2Syn[2642], Exp2Syn[2643], Exp2Syn[2644], Exp2Syn[2645], Exp2Syn[2646], Exp2Syn[2647], Exp2Syn[2648], Exp2Syn[2649], Exp2Syn[2650], Exp2Syn[2651], Exp2Syn[2652], Exp2Syn[2653], Exp2Syn[2654], Exp2Syn[2655], Exp2Syn[2656], Exp2Syn[2657], Exp2Syn[2658], Exp2Syn[2659], Exp2Syn[2660], Exp2Syn[2661], Exp2Syn[2662], Exp2Syn[2663], Exp2Syn[2664], Exp2Syn[2665], Exp2Syn[2666], Exp2Syn[2667], Exp2Syn[2668], Exp2Syn[2669], Exp2Syn[2670], Exp2Syn[2671], Exp2Syn[2672], Exp2Syn[2673], Exp2Syn[2674], Exp2Syn[2675], Exp2Syn[2676], Exp2Syn[2677], Exp2Syn[2678], Exp2Syn[2679], Exp2Syn[2680], Exp2Syn[2681], Exp2Syn[2682], Exp2Syn[2683], Exp2Syn[2684], Exp2Syn[2685], Exp2Syn[2686], Exp2Syn[2687], Exp2Syn[2688], Exp2Syn[2689], Exp2Syn[2690], Exp2Syn[2691], Exp2Syn[2692], Exp2Syn[2693], Exp2Syn[2694], Exp2Syn[2695], Exp2Syn[2696], Exp2Syn[2697], Exp2Syn[2698], Exp2Syn[2699], Exp2Syn[2700], Exp2Syn[2701], Exp2Syn[2702], Exp2Syn[2703], Exp2Syn[2704], Exp2Syn[2705], Exp2Syn[2706], Exp2Syn[2707], Exp2Syn[2708], Exp2Syn[2709], Exp2Syn[2710], Exp2Syn[2711], Exp2Syn[2712], Exp2Syn[2713], Exp2Syn[2714], Exp2Syn[2715], Exp2Syn[2716], Exp2Syn[2717], Exp2Syn[2718], Exp2Syn[2719], Exp2Syn[2720], Exp2Syn[2721], Exp2Syn[2722], Exp2Syn[2723], Exp2Syn[2724], Exp2Syn[2725], Exp2Syn[2726], Exp2Syn[2727], Exp2Syn[2728], Exp2Syn[2729], Exp2Syn[2730], Exp2Syn[2731], Exp2Syn[2732], Exp2Syn[2733], Exp2Syn[2734], Exp2Syn[2735], Exp2Syn[2736], Exp2Syn[2737], Exp2Syn[2738], Exp2Syn[2739], Exp2Syn[2740], Exp2Syn[2741], Exp2Syn[2742], Exp2Syn[2743], Exp2Syn[2744], Exp2Syn[2745], Exp2Syn[2746], Exp2Syn[2747], Exp2Syn[2748], Exp2Syn[2749], Exp2Syn[2750], Exp2Syn[2751], Exp2Syn[2752], Exp2Syn[2753], Exp2Syn[2754], Exp2Syn[2755], Exp2Syn[2756], Exp2Syn[2757], Exp2Syn[2758], Exp2Syn[2759], Exp2Syn[2760], Exp2Syn[2761], Exp2Syn[2762], Exp2Syn[2763], Exp2Syn[2764], Exp2Syn[2765], Exp2Syn[2766], Exp2Syn[2767], Exp2Syn[2768], Exp2Syn[2769], Exp2Syn[2770], Exp2Syn[2771], Exp2Syn[2772], Exp2Syn[2773], Exp2Syn[2774], Exp2Syn[2775], Exp2Syn[2776], Exp2Syn[2777], Exp2Syn[2778], Exp2Syn[2779], Exp2Syn[2780], Exp2Syn[2781], Exp2Syn[2782], Exp2Syn[2783], Exp2Syn[2784], Exp2Syn[2785], Exp2Syn[2786], Exp2Syn[2787], Exp2Syn[2788], Exp2Syn[2789], Exp2Syn[2790], Exp2Syn[2791], Exp2Syn[2792], Exp2Syn[2793], Exp2Syn[2794], Exp2Syn[2795], Exp2Syn[2796], Exp2Syn[2797], Exp2Syn[2798], Exp2Syn[2799], Exp2Syn[2800], Exp2Syn[2801], Exp2Syn[2802], Exp2Syn[2803], Exp2Syn[2804], Exp2Syn[2805], Exp2Syn[2806], Exp2Syn[2807], Exp2Syn[2808], Exp2Syn[2809], Exp2Syn[2810], Exp2Syn[2811], Exp2Syn[2812], Exp2Syn[2813], Exp2Syn[2814], Exp2Syn[2815], Exp2Syn[2816], Exp2Syn[2817], Exp2Syn[2818], Exp2Syn[2819], Exp2Syn[2820], Exp2Syn[2821], Exp2Syn[2822], Exp2Syn[2823], Exp2Syn[2824], Exp2Syn[2825], Exp2Syn[2826], Exp2Syn[2827], Exp2Syn[2828], Exp2Syn[2829], Exp2Syn[2830], Exp2Syn[2831], Exp2Syn[2832], Exp2Syn[2833], Exp2Syn[2834], Exp2Syn[2835], Exp2Syn[2836], Exp2Syn[2837], Exp2Syn[2838], Exp2Syn[2839], Exp2Syn[2840], Exp2Syn[2841], Exp2Syn[2842], Exp2Syn[2843], Exp2Syn[2844], Exp2Syn[2845], Exp2Syn[2846], Exp2Syn[2847], Exp2Syn[2848], Exp2Syn[2849], Exp2Syn[2850], Exp2Syn[2851], Exp2Syn[2852], Exp2Syn[2853], Exp2Syn[2854], Exp2Syn[2855], Exp2Syn[2856], Exp2Syn[2857], Exp2Syn[2858], Exp2Syn[2859], Exp2Syn[2860], Exp2Syn[2861], Exp2Syn[2862], Exp2Syn[2863], Exp2Syn[2864], Exp2Syn[2865], Exp2Syn[2866], Exp2Syn[2867], Exp2Syn[2868], Exp2Syn[2869], Exp2Syn[2870], Exp2Syn[2871], Exp2Syn[2872], Exp2Syn[2873], Exp2Syn[2874], Exp2Syn[2875], Exp2Syn[2876], Exp2Syn[2877], Exp2Syn[2878], Exp2Syn[2879], Exp2Syn[2880], Exp2Syn[2881], Exp2Syn[2882], Exp2Syn[2883], Exp2Syn[2884], Exp2Syn[2885], Exp2Syn[2886], Exp2Syn[2887], Exp2Syn[2888], Exp2Syn[2889], Exp2Syn[2890], Exp2Syn[2891], Exp2Syn[2892], Exp2Syn[2893], Exp2Syn[2894], Exp2Syn[2895], Exp2Syn[2896], Exp2Syn[2897], Exp2Syn[2898], Exp2Syn[2899], Exp2Syn[2900], Exp2Syn[2901], Exp2Syn[2902], Exp2Syn[2903], Exp2Syn[2904], Exp2Syn[2905], Exp2Syn[2906], Exp2Syn[2907], Exp2Syn[2908], Exp2Syn[2909], Exp2Syn[2910], Exp2Syn[2911], Exp2Syn[2912], Exp2Syn[2913], Exp2Syn[2914], Exp2Syn[2915], Exp2Syn[2916], Exp2Syn[2917], Exp2Syn[2918], Exp2Syn[2919], Exp2Syn[2920], Exp2Syn[2921], Exp2Syn[2922], Exp2Syn[2923], Exp2Syn[2924], Exp2Syn[2925], Exp2Syn[2926], Exp2Syn[2927], Exp2Syn[2928], Exp2Syn[2929], Exp2Syn[2930], Exp2Syn[2931], Exp2Syn[2932], Exp2Syn[2933], Exp2Syn[2934], Exp2Syn[2935], Exp2Syn[2936], Exp2Syn[2937], Exp2Syn[2938], Exp2Syn[2939], Exp2Syn[2940], Exp2Syn[2941], Exp2Syn[2942], Exp2Syn[2943], Exp2Syn[2944], Exp2Syn[2945], Exp2Syn[2946], Exp2Syn[2947], Exp2Syn[2948], Exp2Syn[2949], Exp2Syn[2950], Exp2Syn[2951], Exp2Syn[2952], Exp2Syn[2953], Exp2Syn[2954], Exp2Syn[2955], Exp2Syn[2956], Exp2Syn[2957], Exp2Syn[2958], Exp2Syn[2959], Exp2Syn[2960], Exp2Syn[2961], Exp2Syn[2962], Exp2Syn[2963], Exp2Syn[2964], Exp2Syn[2965], Exp2Syn[2966], Exp2Syn[2967], Exp2Syn[2968], Exp2Syn[2969], Exp2Syn[2970], Exp2Syn[2971], Exp2Syn[2972], Exp2Syn[2973], Exp2Syn[2974], Exp2Syn[2975], Exp2Syn[2976], Exp2Syn[2977], Exp2Syn[2978], Exp2Syn[2979], Exp2Syn[2980], Exp2Syn[2981], Exp2Syn[2982], Exp2Syn[2983], Exp2Syn[2984], Exp2Syn[2985], Exp2Syn[2986], Exp2Syn[2987], Exp2Syn[2988], Exp2Syn[2989], Exp2Syn[2990], Exp2Syn[2991], Exp2Syn[2992], Exp2Syn[2993], Exp2Syn[2994], Exp2Syn[2995], Exp2Syn[2996], Exp2Syn[2997], Exp2Syn[2998], Exp2Syn[2999], Exp2Syn[3000], Exp2Syn[3001], Exp2Syn[3002], Exp2Syn[3003], Exp2Syn[3004], Exp2Syn[3005], Exp2Syn[3006], Exp2Syn[3007], Exp2Syn[3008], Exp2Syn[3009], Exp2Syn[3010], Exp2Syn[3011], Exp2Syn[3012], Exp2Syn[3013], Exp2Syn[3014], Exp2Syn[3015], Exp2Syn[3016], Exp2Syn[3017], Exp2Syn[3018], Exp2Syn[3019], Exp2Syn[3020], Exp2Syn[3021], Exp2Syn[3022], Exp2Syn[3023], Exp2Syn[3024], Exp2Syn[3025], Exp2Syn[3026], Exp2Syn[3027], Exp2Syn[3028], Exp2Syn[3029], Exp2Syn[3030], Exp2Syn[3031], Exp2Syn[3032], Exp2Syn[3033], Exp2Syn[3034], Exp2Syn[3035], Exp2Syn[3036], Exp2Syn[3037], Exp2Syn[3038], Exp2Syn[3039], Exp2Syn[3040], Exp2Syn[3041], Exp2Syn[3042], Exp2Syn[3043], Exp2Syn[3044], Exp2Syn[3045], Exp2Syn[3046], Exp2Syn[3047], Exp2Syn[3048], Exp2Syn[3049], Exp2Syn[3050], Exp2Syn[3051], Exp2Syn[3052], Exp2Syn[3053], Exp2Syn[3054], Exp2Syn[3055], Exp2Syn[3056], Exp2Syn[3057], Exp2Syn[3058], Exp2Syn[3059], Exp2Syn[3060], Exp2Syn[3061], Exp2Syn[3062], Exp2Syn[3063], Exp2Syn[3064], Exp2Syn[3065], Exp2Syn[3066], Exp2Syn[3067], Exp2Syn[3068], Exp2Syn[3069], Exp2Syn[3070], Exp2Syn[3071], Exp2Syn[3072], Exp2Syn[3073], Exp2Syn[3074], Exp2Syn[3075], Exp2Syn[3076], Exp2Syn[3077], Exp2Syn[3078], Exp2Syn[3079], Exp2Syn[3080], Exp2Syn[3081], Exp2Syn[3082], Exp2Syn[3083], Exp2Syn[3084], Exp2Syn[3085], Exp2Syn[3086], Exp2Syn[3087], Exp2Syn[3088], Exp2Syn[3089], Exp2Syn[3090], Exp2Syn[3091], Exp2Syn[3092], Exp2Syn[3093], Exp2Syn[3094], Exp2Syn[3095], Exp2Syn[3096], Exp2Syn[3097], Exp2Syn[3098], Exp2Syn[3099], Exp2Syn[3100], Exp2Syn[3101], Exp2Syn[3102], Exp2Syn[3103], Exp2Syn[3104], Exp2Syn[3105], Exp2Syn[3106], Exp2Syn[3107], Exp2Syn[3108], Exp2Syn[3109], Exp2Syn[3110], Exp2Syn[3111], Exp2Syn[3112], Exp2Syn[3113], Exp2Syn[3114], Exp2Syn[3115], Exp2Syn[3116], Exp2Syn[3117], Exp2Syn[3118], Exp2Syn[3119], Exp2Syn[3120], Exp2Syn[3121], Exp2Syn[3122], Exp2Syn[3123], Exp2Syn[3124], Exp2Syn[3125], Exp2Syn[3126], Exp2Syn[3127], Exp2Syn[3128], Exp2Syn[3129], Exp2Syn[3130], Exp2Syn[3131], Exp2Syn[3132], Exp2Syn[3133], Exp2Syn[3134], Exp2Syn[3135], Exp2Syn[3136], Exp2Syn[3137], Exp2Syn[3138], Exp2Syn[3139], Exp2Syn[3140], Exp2Syn[3141], Exp2Syn[3142], Exp2Syn[3143], Exp2Syn[3144], Exp2Syn[3145], Exp2Syn[3146], Exp2Syn[3147], Exp2Syn[3148], Exp2Syn[3149], Exp2Syn[3150], Exp2Syn[3151], Exp2Syn[3152], Exp2Syn[3153], Exp2Syn[3154], Exp2Syn[3155], Exp2Syn[3156], Exp2Syn[3157], Exp2Syn[3158], Exp2Syn[3159], Exp2Syn[3160], Exp2Syn[3161], Exp2Syn[3162], Exp2Syn[3163], Exp2Syn[3164], Exp2Syn[3165], Exp2Syn[3166], Exp2Syn[3167], Exp2Syn[3168], Exp2Syn[3169], Exp2Syn[3170], Exp2Syn[3171], Exp2Syn[3172], Exp2Syn[3173], Exp2Syn[3174], Exp2Syn[3175], Exp2Syn[3176], Exp2Syn[3177], Exp2Syn[3178], Exp2Syn[3179], Exp2Syn[3180], Exp2Syn[3181], Exp2Syn[3182], Exp2Syn[3183], Exp2Syn[3184], Exp2Syn[3185], Exp2Syn[3186], Exp2Syn[3187], Exp2Syn[3188], Exp2Syn[3189], Exp2Syn[3190], Exp2Syn[3191], Exp2Syn[3192], Exp2Syn[3193], Exp2Syn[3194], Exp2Syn[3195], Exp2Syn[3196], Exp2Syn[3197], Exp2Syn[3198], Exp2Syn[3199], Exp2Syn[3200], Exp2Syn[3201], Exp2Syn[3202], Exp2Syn[3203], Exp2Syn[3204], Exp2Syn[3205], Exp2Syn[3206], Exp2Syn[3207], Exp2Syn[3208], Exp2Syn[3209], Exp2Syn[3210], Exp2Syn[3211], Exp2Syn[3212], Exp2Syn[3213], Exp2Syn[3214], Exp2Syn[3215], Exp2Syn[3216], Exp2Syn[3217], Exp2Syn[3218], Exp2Syn[3219], Exp2Syn[3220], Exp2Syn[3221], Exp2Syn[3222], Exp2Syn[3223], Exp2Syn[3224], Exp2Syn[3225], Exp2Syn[3226], Exp2Syn[3227], Exp2Syn[3228], Exp2Syn[3229], Exp2Syn[3230], Exp2Syn[3231], Exp2Syn[3232], Exp2Syn[3233], Exp2Syn[3234], Exp2Syn[3235], Exp2Syn[3236], Exp2Syn[3237], Exp2Syn[3238], Exp2Syn[3239], Exp2Syn[3240], Exp2Syn[3241], Exp2Syn[3242], Exp2Syn[3243], Exp2Syn[3244], Exp2Syn[3245], Exp2Syn[3246], Exp2Syn[3247], Exp2Syn[3248], Exp2Syn[3249], Exp2Syn[3250], Exp2Syn[3251], Exp2Syn[3252], Exp2Syn[3253], Exp2Syn[3254], Exp2Syn[3255], Exp2Syn[3256], Exp2Syn[3257], Exp2Syn[3258], Exp2Syn[3259], Exp2Syn[3260], Exp2Syn[3261], Exp2Syn[3262], Exp2Syn[3263], Exp2Syn[3264], Exp2Syn[3265], Exp2Syn[3266], Exp2Syn[3267], Exp2Syn[3268], Exp2Syn[3269], Exp2Syn[3270], Exp2Syn[3271], Exp2Syn[3272], Exp2Syn[3273], Exp2Syn[3274], Exp2Syn[3275], Exp2Syn[3276], Exp2Syn[3277], Exp2Syn[3278], Exp2Syn[3279], Exp2Syn[3280], Exp2Syn[3281], Exp2Syn[3282], Exp2Syn[3283], Exp2Syn[3284], Exp2Syn[3285], Exp2Syn[3286], Exp2Syn[3287], Exp2Syn[3288], Exp2Syn[3289], Exp2Syn[3290], Exp2Syn[3291], Exp2Syn[3292], Exp2Syn[3293], Exp2Syn[3294], Exp2Syn[3295], Exp2Syn[3296], Exp2Syn[3297], Exp2Syn[3298], Exp2Syn[3299], Exp2Syn[3300], Exp2Syn[3301], Exp2Syn[3302], Exp2Syn[3303], Exp2Syn[3304], Exp2Syn[3305], Exp2Syn[3306], Exp2Syn[3307], Exp2Syn[3308], Exp2Syn[3309], Exp2Syn[3310], Exp2Syn[3311], Exp2Syn[3312], Exp2Syn[3313], Exp2Syn[3314], Exp2Syn[3315], Exp2Syn[3316], Exp2Syn[3317], Exp2Syn[3318], Exp2Syn[3319], Exp2Syn[3320], Exp2Syn[3321], Exp2Syn[3322], Exp2Syn[3323], Exp2Syn[3324], Exp2Syn[3325], Exp2Syn[3326], Exp2Syn[3327], Exp2Syn[3328], Exp2Syn[3329], Exp2Syn[3330], Exp2Syn[3331], Exp2Syn[3332], Exp2Syn[3333], Exp2Syn[3334], Exp2Syn[3335], Exp2Syn[3336], Exp2Syn[3337], Exp2Syn[3338], Exp2Syn[3339], Exp2Syn[3340], Exp2Syn[3341], Exp2Syn[3342], Exp2Syn[3343], Exp2Syn[3344], Exp2Syn[3345], Exp2Syn[3346], Exp2Syn[3347], Exp2Syn[3348], Exp2Syn[3349], Exp2Syn[3350], Exp2Syn[3351], Exp2Syn[3352], Exp2Syn[3353], Exp2Syn[3354], Exp2Syn[3355], Exp2Syn[3356], Exp2Syn[3357], Exp2Syn[3358], Exp2Syn[3359], Exp2Syn[3360], Exp2Syn[3361], Exp2Syn[3362], Exp2Syn[3363], Exp2Syn[3364], Exp2Syn[3365], Exp2Syn[3366], Exp2Syn[3367], Exp2Syn[3368], Exp2Syn[3369], Exp2Syn[3370], Exp2Syn[3371], Exp2Syn[3372], Exp2Syn[3373], Exp2Syn[3374], Exp2Syn[3375], Exp2Syn[3376], Exp2Syn[3377], Exp2Syn[3378], Exp2Syn[3379], Exp2Syn[3380], Exp2Syn[3381], Exp2Syn[3382], Exp2Syn[3383], Exp2Syn[3384], Exp2Syn[3385], Exp2Syn[3386], Exp2Syn[3387], Exp2Syn[3388], Exp2Syn[3389], Exp2Syn[3390], Exp2Syn[3391], Exp2Syn[3392], Exp2Syn[3393], Exp2Syn[3394], Exp2Syn[3395], Exp2Syn[3396], Exp2Syn[3397], Exp2Syn[3398], Exp2Syn[3399], Exp2Syn[3400], Exp2Syn[3401], Exp2Syn[3402], Exp2Syn[3403], Exp2Syn[3404], Exp2Syn[3405], Exp2Syn[3406], Exp2Syn[3407], Exp2Syn[3408], Exp2Syn[3409], Exp2Syn[3410], Exp2Syn[3411], Exp2Syn[3412], Exp2Syn[3413], Exp2Syn[3414], Exp2Syn[3415], Exp2Syn[3416], Exp2Syn[3417], Exp2Syn[3418], Exp2Syn[3419], Exp2Syn[3420], Exp2Syn[3421], Exp2Syn[3422], Exp2Syn[3423], Exp2Syn[3424], Exp2Syn[3425], Exp2Syn[3426], Exp2Syn[3427], Exp2Syn[3428], Exp2Syn[3429], Exp2Syn[3430], Exp2Syn[3431], Exp2Syn[3432], Exp2Syn[3433], Exp2Syn[3434], Exp2Syn[3435], Exp2Syn[3436], Exp2Syn[3437], Exp2Syn[3438], Exp2Syn[3439], Exp2Syn[3440], Exp2Syn[3441], Exp2Syn[3442], Exp2Syn[3443], Exp2Syn[3444], Exp2Syn[3445], Exp2Syn[3446], Exp2Syn[3447], Exp2Syn[3448], Exp2Syn[3449], Exp2Syn[3450], Exp2Syn[3451], Exp2Syn[3452], Exp2Syn[3453], Exp2Syn[3454], Exp2Syn[3455], Exp2Syn[3456], Exp2Syn[3457], Exp2Syn[3458], Exp2Syn[3459], Exp2Syn[3460], Exp2Syn[3461], Exp2Syn[3462], Exp2Syn[3463], Exp2Syn[3464], Exp2Syn[3465], Exp2Syn[3466], Exp2Syn[3467], Exp2Syn[3468], Exp2Syn[3469], Exp2Syn[3470], Exp2Syn[3471], Exp2Syn[3472], Exp2Syn[3473], Exp2Syn[3474], Exp2Syn[3475], Exp2Syn[3476], Exp2Syn[3477], Exp2Syn[3478], Exp2Syn[3479], Exp2Syn[3480], Exp2Syn[3481], Exp2Syn[3482], Exp2Syn[3483], Exp2Syn[3484], Exp2Syn[3485], Exp2Syn[3486], Exp2Syn[3487], Exp2Syn[3488], Exp2Syn[3489], Exp2Syn[3490], Exp2Syn[3491], Exp2Syn[3492], Exp2Syn[3493], Exp2Syn[3494], Exp2Syn[3495], Exp2Syn[3496], Exp2Syn[3497], Exp2Syn[3498], Exp2Syn[3499], Exp2Syn[3500], Exp2Syn[3501], Exp2Syn[3502], Exp2Syn[3503], Exp2Syn[3504], Exp2Syn[3505], Exp2Syn[3506], Exp2Syn[3507], Exp2Syn[3508], Exp2Syn[3509], Exp2Syn[3510], Exp2Syn[3511], Exp2Syn[3512], Exp2Syn[3513], Exp2Syn[3514], Exp2Syn[3515], Exp2Syn[3516], Exp2Syn[3517], Exp2Syn[3518], Exp2Syn[3519], Exp2Syn[3520], Exp2Syn[3521], Exp2Syn[3522], Exp2Syn[3523], Exp2Syn[3524], Exp2Syn[3525], Exp2Syn[3526], Exp2Syn[3527], Exp2Syn[3528], Exp2Syn[3529], Exp2Syn[3530], Exp2Syn[3531], Exp2Syn[3532], Exp2Syn[3533], Exp2Syn[3534], Exp2Syn[3535], Exp2Syn[3536], Exp2Syn[3537], Exp2Syn[3538], Exp2Syn[3539], Exp2Syn[3540], Exp2Syn[3541], Exp2Syn[3542], Exp2Syn[3543], Exp2Syn[3544], Exp2Syn[3545], Exp2Syn[3546], Exp2Syn[3547], Exp2Syn[3548], Exp2Syn[3549], Exp2Syn[3550], Exp2Syn[3551], Exp2Syn[3552], Exp2Syn[3553], Exp2Syn[3554], Exp2Syn[3555], Exp2Syn[3556], Exp2Syn[3557], Exp2Syn[3558], Exp2Syn[3559], Exp2Syn[3560], Exp2Syn[3561], Exp2Syn[3562], Exp2Syn[3563], Exp2Syn[3564], Exp2Syn[3565], Exp2Syn[3566], Exp2Syn[3567], Exp2Syn[3568], Exp2Syn[3569], Exp2Syn[3570], Exp2Syn[3571], Exp2Syn[3572], Exp2Syn[3573], Exp2Syn[3574], Exp2Syn[3575], Exp2Syn[3576], Exp2Syn[3577], Exp2Syn[3578], Exp2Syn[3579], Exp2Syn[3580], Exp2Syn[3581], Exp2Syn[3582], Exp2Syn[3583], Exp2Syn[3584], Exp2Syn[3585], Exp2Syn[3586], Exp2Syn[3587], Exp2Syn[3588], Exp2Syn[3589], Exp2Syn[3590], Exp2Syn[3591], Exp2Syn[3592], Exp2Syn[3593], Exp2Syn[3594], Exp2Syn[3595], Exp2Syn[3596], Exp2Syn[3597], Exp2Syn[3598], Exp2Syn[3599], Exp2Syn[3600], Exp2Syn[3601], Exp2Syn[3602], Exp2Syn[3603], Exp2Syn[3604], Exp2Syn[3605], Exp2Syn[3606], Exp2Syn[3607], Exp2Syn[3608], Exp2Syn[3609], Exp2Syn[3610], Exp2Syn[3611], Exp2Syn[3612], Exp2Syn[3613], Exp2Syn[3614], Exp2Syn[3615], Exp2Syn[3616], Exp2Syn[3617], Exp2Syn[3618], Exp2Syn[3619], Exp2Syn[3620], Exp2Syn[3621], Exp2Syn[3622], Exp2Syn[3623], Exp2Syn[3624], Exp2Syn[3625], Exp2Syn[3626], Exp2Syn[3627], Exp2Syn[3628], Exp2Syn[3629], Exp2Syn[3630], Exp2Syn[3631], Exp2Syn[3632], Exp2Syn[3633], Exp2Syn[3634], Exp2Syn[3635], Exp2Syn[3636], Exp2Syn[3637], Exp2Syn[3638], Exp2Syn[3639], Exp2Syn[3640], Exp2Syn[3641], Exp2Syn[3642], Exp2Syn[3643], Exp2Syn[3644], Exp2Syn[3645], Exp2Syn[3646], Exp2Syn[3647], Exp2Syn[3648], Exp2Syn[3649], Exp2Syn[3650], Exp2Syn[3651], Exp2Syn[3652], Exp2Syn[3653], Exp2Syn[3654], Exp2Syn[3655], Exp2Syn[3656], Exp2Syn[3657], Exp2Syn[3658], Exp2Syn[3659], Exp2Syn[3660], Exp2Syn[3661], Exp2Syn[3662], Exp2Syn[3663], Exp2Syn[3664], Exp2Syn[3665], Exp2Syn[3666], Exp2Syn[3667], Exp2Syn[3668], Exp2Syn[3669], Exp2Syn[3670], Exp2Syn[3671], Exp2Syn[3672], Exp2Syn[3673], Exp2Syn[3674], Exp2Syn[3675], Exp2Syn[3676], Exp2Syn[3677], Exp2Syn[3678], Exp2Syn[3679], Exp2Syn[3680], Exp2Syn[3681], Exp2Syn[3682], Exp2Syn[3683], Exp2Syn[3684], Exp2Syn[3685], Exp2Syn[3686], Exp2Syn[3687], Exp2Syn[3688], Exp2Syn[3689], Exp2Syn[3690], Exp2Syn[3691], Exp2Syn[3692], Exp2Syn[3693], Exp2Syn[3694], Exp2Syn[3695], Exp2Syn[3696], Exp2Syn[3697], Exp2Syn[3698], Exp2Syn[3699], Exp2Syn[3700], Exp2Syn[3701], Exp2Syn[3702], Exp2Syn[3703], Exp2Syn[3704], Exp2Syn[3705], Exp2Syn[3706], Exp2Syn[3707], Exp2Syn[3708], Exp2Syn[3709], Exp2Syn[3710], Exp2Syn[3711], Exp2Syn[3712], Exp2Syn[3713], Exp2Syn[3714], Exp2Syn[3715], Exp2Syn[3716], Exp2Syn[3717], Exp2Syn[3718], Exp2Syn[3719], Exp2Syn[3720], Exp2Syn[3721], Exp2Syn[3722], Exp2Syn[3723], Exp2Syn[3724], Exp2Syn[3725], Exp2Syn[3726], Exp2Syn[3727], Exp2Syn[3728], Exp2Syn[3729], Exp2Syn[3730], Exp2Syn[3731], Exp2Syn[3732], Exp2Syn[3733], Exp2Syn[3734], Exp2Syn[3735], Exp2Syn[3736], Exp2Syn[3737], Exp2Syn[3738], Exp2Syn[3739], Exp2Syn[3740], Exp2Syn[3741], Exp2Syn[3742], Exp2Syn[3743], Exp2Syn[3744], Exp2Syn[3745], Exp2Syn[3746], Exp2Syn[3747], Exp2Syn[3748], Exp2Syn[3749], Exp2Syn[3750], Exp2Syn[3751], Exp2Syn[3752], Exp2Syn[3753], Exp2Syn[3754], Exp2Syn[3755], Exp2Syn[3756], Exp2Syn[3757], Exp2Syn[3758], Exp2Syn[3759], Exp2Syn[3760], Exp2Syn[3761], Exp2Syn[3762], Exp2Syn[3763], Exp2Syn[3764], Exp2Syn[3765], Exp2Syn[3766], Exp2Syn[3767], Exp2Syn[3768], Exp2Syn[3769], Exp2Syn[3770], Exp2Syn[3771], Exp2Syn[3772], Exp2Syn[3773], Exp2Syn[3774], Exp2Syn[3775], Exp2Syn[3776], Exp2Syn[3777], Exp2Syn[3778], Exp2Syn[3779], Exp2Syn[3780], Exp2Syn[3781], Exp2Syn[3782], Exp2Syn[3783], Exp2Syn[3784], Exp2Syn[3785], Exp2Syn[3786], Exp2Syn[3787], Exp2Syn[3788], Exp2Syn[3789], Exp2Syn[3790], Exp2Syn[3791], Exp2Syn[3792], Exp2Syn[3793], Exp2Syn[3794], Exp2Syn[3795], Exp2Syn[3796], Exp2Syn[3797], Exp2Syn[3798], Exp2Syn[3799], Exp2Syn[3800], Exp2Syn[3801], Exp2Syn[3802], Exp2Syn[3803], Exp2Syn[3804], Exp2Syn[3805], Exp2Syn[3806], Exp2Syn[3807], Exp2Syn[3808], Exp2Syn[3809], Exp2Syn[3810], Exp2Syn[3811], Exp2Syn[3812], Exp2Syn[3813], Exp2Syn[3814], Exp2Syn[3815], Exp2Syn[3816], Exp2Syn[3817], Exp2Syn[3818], Exp2Syn[3819], Exp2Syn[3820], Exp2Syn[3821], Exp2Syn[3822], Exp2Syn[3823], Exp2Syn[3824], Exp2Syn[3825], Exp2Syn[3826], Exp2Syn[3827], Exp2Syn[3828], Exp2Syn[3829], Exp2Syn[3830], Exp2Syn[3831], Exp2Syn[3832], Exp2Syn[3833], Exp2Syn[3834], Exp2Syn[3835], Exp2Syn[3836], Exp2Syn[3837], Exp2Syn[3838], Exp2Syn[3839], Exp2Syn[3840], Exp2Syn[3841], Exp2Syn[3842], Exp2Syn[3843], Exp2Syn[3844], Exp2Syn[3845], Exp2Syn[3846], Exp2Syn[3847], Exp2Syn[3848], Exp2Syn[3849], Exp2Syn[3850], Exp2Syn[3851], Exp2Syn[3852], Exp2Syn[3853], Exp2Syn[3854], Exp2Syn[3855], Exp2Syn[3856], Exp2Syn[3857], Exp2Syn[3858], Exp2Syn[3859], Exp2Syn[3860], Exp2Syn[3861], Exp2Syn[3862], Exp2Syn[3863], Exp2Syn[3864], Exp2Syn[3865], Exp2Syn[3866], Exp2Syn[3867], Exp2Syn[3868], Exp2Syn[3869], Exp2Syn[3870], Exp2Syn[3871], Exp2Syn[3872], Exp2Syn[3873], Exp2Syn[3874], Exp2Syn[3875], Exp2Syn[3876], Exp2Syn[3877], Exp2Syn[3878], Exp2Syn[3879], Exp2Syn[3880], Exp2Syn[3881], Exp2Syn[3882], Exp2Syn[3883], Exp2Syn[3884], Exp2Syn[3885], Exp2Syn[3886], Exp2Syn[3887], Exp2Syn[3888], Exp2Syn[3889], Exp2Syn[3890], Exp2Syn[3891], Exp2Syn[3892], Exp2Syn[3893], Exp2Syn[3894], Exp2Syn[3895], Exp2Syn[3896], Exp2Syn[3897], Exp2Syn[3898], Exp2Syn[3899], Exp2Syn[3900], Exp2Syn[3901], Exp2Syn[3902], Exp2Syn[3903], Exp2Syn[3904], Exp2Syn[3905], Exp2Syn[3906], Exp2Syn[3907], Exp2Syn[3908], Exp2Syn[3909], Exp2Syn[3910], Exp2Syn[3911], Exp2Syn[3912], Exp2Syn[3913], Exp2Syn[3914], Exp2Syn[3915], Exp2Syn[3916], Exp2Syn[3917], Exp2Syn[3918], Exp2Syn[3919], Exp2Syn[3920], Exp2Syn[3921], Exp2Syn[3922], Exp2Syn[3923], Exp2Syn[3924], Exp2Syn[3925], Exp2Syn[3926], Exp2Syn[3927], Exp2Syn[3928], Exp2Syn[3929], Exp2Syn[3930], Exp2Syn[3931], Exp2Syn[3932], Exp2Syn[3933], Exp2Syn[3934], Exp2Syn[3935], Exp2Syn[3936], Exp2Syn[3937], Exp2Syn[3938], Exp2Syn[3939], Exp2Syn[3940], Exp2Syn[3941], Exp2Syn[3942], Exp2Syn[3943], Exp2Syn[3944], Exp2Syn[3945], Exp2Syn[3946], Exp2Syn[3947], Exp2Syn[3948], Exp2Syn[3949], Exp2Syn[3950], Exp2Syn[3951], Exp2Syn[3952], Exp2Syn[3953], Exp2Syn[3954], Exp2Syn[3955], Exp2Syn[3956], Exp2Syn[3957], Exp2Syn[3958], Exp2Syn[3959], Exp2Syn[3960], Exp2Syn[3961], Exp2Syn[3962], Exp2Syn[3963], Exp2Syn[3964], Exp2Syn[3965], Exp2Syn[3966], Exp2Syn[3967], Exp2Syn[3968], Exp2Syn[3969], Exp2Syn[3970], Exp2Syn[3971], Exp2Syn[3972], Exp2Syn[3973], Exp2Syn[3974], Exp2Syn[3975], Exp2Syn[3976], Exp2Syn[3977], Exp2Syn[3978], Exp2Syn[3979], Exp2Syn[3980], Exp2Syn[3981], Exp2Syn[3982], Exp2Syn[3983], Exp2Syn[3984], Exp2Syn[3985], Exp2Syn[3986], Exp2Syn[3987], Exp2Syn[3988], Exp2Syn[3989], Exp2Syn[3990], Exp2Syn[3991], Exp2Syn[3992], Exp2Syn[3993], Exp2Syn[3994], Exp2Syn[3995], Exp2Syn[3996], Exp2Syn[3997], Exp2Syn[3998], Exp2Syn[3999], Exp2Syn[4000], Exp2Syn[4001], Exp2Syn[4002], Exp2Syn[4003], Exp2Syn[4004], Exp2Syn[4005], Exp2Syn[4006], Exp2Syn[4007], Exp2Syn[4008], Exp2Syn[4009], Exp2Syn[4010], Exp2Syn[4011], Exp2Syn[4012], Exp2Syn[4013], Exp2Syn[4014], Exp2Syn[4015], Exp2Syn[4016], Exp2Syn[4017], Exp2Syn[4018], Exp2Syn[4019], Exp2Syn[4020], Exp2Syn[4021], Exp2Syn[4022], Exp2Syn[4023], Exp2Syn[4024], Exp2Syn[4025], Exp2Syn[4026], Exp2Syn[4027], Exp2Syn[4028], Exp2Syn[4029], Exp2Syn[4030], Exp2Syn[4031], Exp2Syn[4032], Exp2Syn[4033], Exp2Syn[4034], Exp2Syn[4035], Exp2Syn[4036], Exp2Syn[4037], Exp2Syn[4038], Exp2Syn[4039], Exp2Syn[4040], Exp2Syn[4041], Exp2Syn[4042], Exp2Syn[4043], Exp2Syn[4044], Exp2Syn[4045], Exp2Syn[4046], Exp2Syn[4047], Exp2Syn[4048], Exp2Syn[4049], Exp2Syn[4050], Exp2Syn[4051], Exp2Syn[4052], Exp2Syn[4053], Exp2Syn[4054], Exp2Syn[4055], Exp2Syn[4056], Exp2Syn[4057], Exp2Syn[4058], Exp2Syn[4059], Exp2Syn[4060], Exp2Syn[4061], Exp2Syn[4062], Exp2Syn[4063], Exp2Syn[4064], Exp2Syn[4065], Exp2Syn[4066], Exp2Syn[4067], Exp2Syn[4068], Exp2Syn[4069], Exp2Syn[4070], Exp2Syn[4071], Exp2Syn[4072], Exp2Syn[4073], Exp2Syn[4074], Exp2Syn[4075], Exp2Syn[4076], Exp2Syn[4077], Exp2Syn[4078], Exp2Syn[4079], Exp2Syn[4080], Exp2Syn[4081], Exp2Syn[4082], Exp2Syn[4083], Exp2Syn[4084], Exp2Syn[4085], Exp2Syn[4086], Exp2Syn[4087], Exp2Syn[4088], Exp2Syn[4089], Exp2Syn[4090], Exp2Syn[4091], Exp2Syn[4092], Exp2Syn[4093], Exp2Syn[4094], Exp2Syn[4095], Exp2Syn[4096], Exp2Syn[4097], Exp2Syn[4098], Exp2Syn[4099], Exp2Syn[4100], Exp2Syn[4101], Exp2Syn[4102], Exp2Syn[4103], Exp2Syn[4104], Exp2Syn[4105], Exp2Syn[4106], Exp2Syn[4107], Exp2Syn[4108], Exp2Syn[4109], Exp2Syn[4110], Exp2Syn[4111], Exp2Syn[4112], Exp2Syn[4113], Exp2Syn[4114], Exp2Syn[4115], Exp2Syn[4116], Exp2Syn[4117], Exp2Syn[4118], Exp2Syn[4119], Exp2Syn[4120], Exp2Syn[4121], Exp2Syn[4122], Exp2Syn[4123], Exp2Syn[4124], Exp2Syn[4125], Exp2Syn[4126], Exp2Syn[4127], Exp2Syn[4128], Exp2Syn[4129], Exp2Syn[4130], Exp2Syn[4131], Exp2Syn[4132], Exp2Syn[4133], Exp2Syn[4134], Exp2Syn[4135], Exp2Syn[4136], Exp2Syn[4137], Exp2Syn[4138], Exp2Syn[4139], Exp2Syn[4140], Exp2Syn[4141], Exp2Syn[4142], Exp2Syn[4143], Exp2Syn[4144], Exp2Syn[4145], Exp2Syn[4146], Exp2Syn[4147], Exp2Syn[4148], Exp2Syn[4149], Exp2Syn[4150], Exp2Syn[4151], Exp2Syn[4152], Exp2Syn[4153], Exp2Syn[4154], Exp2Syn[4155], Exp2Syn[4156], Exp2Syn[4157], Exp2Syn[4158], Exp2Syn[4159], Exp2Syn[4160], Exp2Syn[4161], Exp2Syn[4162], Exp2Syn[4163], Exp2Syn[4164], Exp2Syn[4165], Exp2Syn[4166], Exp2Syn[4167], Exp2Syn[4168], Exp2Syn[4169], Exp2Syn[4170], Exp2Syn[4171], Exp2Syn[4172], Exp2Syn[4173], Exp2Syn[4174], Exp2Syn[4175], Exp2Syn[4176], Exp2Syn[4177], Exp2Syn[4178], Exp2Syn[4179], Exp2Syn[4180], Exp2Syn[4181], Exp2Syn[4182], Exp2Syn[4183], Exp2Syn[4184], Exp2Syn[4185], Exp2Syn[4186], Exp2Syn[4187], Exp2Syn[4188], Exp2Syn[4189], Exp2Syn[4190], Exp2Syn[4191], Exp2Syn[4192], Exp2Syn[4193], Exp2Syn[4194], Exp2Syn[4195], Exp2Syn[4196], Exp2Syn[4197], Exp2Syn[4198], Exp2Syn[4199], Exp2Syn[4200], Exp2Syn[4201], Exp2Syn[4202], Exp2Syn[4203], Exp2Syn[4204], Exp2Syn[4205], Exp2Syn[4206], Exp2Syn[4207], Exp2Syn[4208], Exp2Syn[4209], Exp2Syn[4210], Exp2Syn[4211], Exp2Syn[4212], Exp2Syn[4213], Exp2Syn[4214], Exp2Syn[4215], Exp2Syn[4216], Exp2Syn[4217], Exp2Syn[4218], Exp2Syn[4219], Exp2Syn[4220], Exp2Syn[4221], Exp2Syn[4222], Exp2Syn[4223], Exp2Syn[4224], Exp2Syn[4225], Exp2Syn[4226], Exp2Syn[4227], Exp2Syn[4228], Exp2Syn[4229], Exp2Syn[4230], Exp2Syn[4231], Exp2Syn[4232], Exp2Syn[4233], Exp2Syn[4234], Exp2Syn[4235], Exp2Syn[4236], Exp2Syn[4237], Exp2Syn[4238], Exp2Syn[4239], Exp2Syn[4240], Exp2Syn[4241], Exp2Syn[4242], Exp2Syn[4243], Exp2Syn[4244], Exp2Syn[4245], Exp2Syn[4246], Exp2Syn[4247], Exp2Syn[4248], Exp2Syn[4249], Exp2Syn[4250], Exp2Syn[4251], Exp2Syn[4252], Exp2Syn[4253], Exp2Syn[4254], Exp2Syn[4255], Exp2Syn[4256], Exp2Syn[4257], Exp2Syn[4258], Exp2Syn[4259], Exp2Syn[4260], Exp2Syn[4261], Exp2Syn[4262], Exp2Syn[4263], Exp2Syn[4264], Exp2Syn[4265], Exp2Syn[4266], Exp2Syn[4267], Exp2Syn[4268], Exp2Syn[4269], Exp2Syn[4270], Exp2Syn[4271], Exp2Syn[4272], Exp2Syn[4273], Exp2Syn[4274], Exp2Syn[4275], Exp2Syn[4276], Exp2Syn[4277], Exp2Syn[4278], Exp2Syn[4279], Exp2Syn[4280], Exp2Syn[4281], Exp2Syn[4282], Exp2Syn[4283], Exp2Syn[4284], Exp2Syn[4285], Exp2Syn[4286], Exp2Syn[4287], Exp2Syn[4288], Exp2Syn[4289], Exp2Syn[4290], Exp2Syn[4291], Exp2Syn[4292], Exp2Syn[4293], Exp2Syn[4294], Exp2Syn[4295], Exp2Syn[4296], Exp2Syn[4297], Exp2Syn[4298], Exp2Syn[4299], Exp2Syn[4300], Exp2Syn[4301], Exp2Syn[4302], Exp2Syn[4303], Exp2Syn[4304], Exp2Syn[4305], Exp2Syn[4306], Exp2Syn[4307], Exp2Syn[4308], Exp2Syn[4309], Exp2Syn[4310], Exp2Syn[4311], Exp2Syn[4312], Exp2Syn[4313], Exp2Syn[4314], Exp2Syn[4315], Exp2Syn[4316], Exp2Syn[4317], Exp2Syn[4318], Exp2Syn[4319], Exp2Syn[4320], Exp2Syn[4321], Exp2Syn[4322], Exp2Syn[4323], Exp2Syn[4324], Exp2Syn[4325], Exp2Syn[4326], Exp2Syn[4327], Exp2Syn[4328], Exp2Syn[4329], Exp2Syn[4330], Exp2Syn[4331], Exp2Syn[4332], Exp2Syn[4333], Exp2Syn[4334], Exp2Syn[4335], Exp2Syn[4336], Exp2Syn[4337], Exp2Syn[4338], Exp2Syn[4339], Exp2Syn[4340], Exp2Syn[4341], Exp2Syn[4342], Exp2Syn[4343], Exp2Syn[4344], Exp2Syn[4345], Exp2Syn[4346], Exp2Syn[4347], Exp2Syn[4348], Exp2Syn[4349], Exp2Syn[4350], Exp2Syn[4351], Exp2Syn[4352], Exp2Syn[4353], Exp2Syn[4354], Exp2Syn[4355], Exp2Syn[4356], Exp2Syn[4357], Exp2Syn[4358], Exp2Syn[4359], Exp2Syn[4360], Exp2Syn[4361], Exp2Syn[4362], Exp2Syn[4363], Exp2Syn[4364], Exp2Syn[4365], Exp2Syn[4366], Exp2Syn[4367], Exp2Syn[4368], Exp2Syn[4369], Exp2Syn[4370], Exp2Syn[4371], Exp2Syn[4372], Exp2Syn[4373], Exp2Syn[4374], Exp2Syn[4375], Exp2Syn[4376], Exp2Syn[4377], Exp2Syn[4378], Exp2Syn[4379], Exp2Syn[4380], Exp2Syn[4381], Exp2Syn[4382], Exp2Syn[4383], Exp2Syn[4384], Exp2Syn[4385], Exp2Syn[4386], Exp2Syn[4387], Exp2Syn[4388], Exp2Syn[4389], Exp2Syn[4390], Exp2Syn[4391], Exp2Syn[4392], Exp2Syn[4393], Exp2Syn[4394], Exp2Syn[4395], Exp2Syn[4396], Exp2Syn[4397], Exp2Syn[4398], Exp2Syn[4399], Exp2Syn[4400], Exp2Syn[4401], Exp2Syn[4402], Exp2Syn[4403], Exp2Syn[4404], Exp2Syn[4405], Exp2Syn[4406], Exp2Syn[4407], Exp2Syn[4408], Exp2Syn[4409], Exp2Syn[4410], Exp2Syn[4411], Exp2Syn[4412], Exp2Syn[4413], Exp2Syn[4414], Exp2Syn[4415], Exp2Syn[4416], Exp2Syn[4417], Exp2Syn[4418], Exp2Syn[4419], Exp2Syn[4420], Exp2Syn[4421], Exp2Syn[4422], Exp2Syn[4423], Exp2Syn[4424], Exp2Syn[4425], Exp2Syn[4426], Exp2Syn[4427], Exp2Syn[4428], Exp2Syn[4429], Exp2Syn[4430], Exp2Syn[4431], Exp2Syn[4432], Exp2Syn[4433], Exp2Syn[4434], Exp2Syn[4435], Exp2Syn[4436], Exp2Syn[4437], Exp2Syn[4438], Exp2Syn[4439], Exp2Syn[4440], Exp2Syn[4441], Exp2Syn[4442], Exp2Syn[4443], Exp2Syn[4444], Exp2Syn[4445], Exp2Syn[4446], Exp2Syn[4447], Exp2Syn[4448], Exp2Syn[4449], Exp2Syn[4450], Exp2Syn[4451], Exp2Syn[4452], Exp2Syn[4453], Exp2Syn[4454], Exp2Syn[4455], Exp2Syn[4456], Exp2Syn[4457], Exp2Syn[4458], Exp2Syn[4459], Exp2Syn[4460], Exp2Syn[4461], Exp2Syn[4462], Exp2Syn[4463], Exp2Syn[4464], Exp2Syn[4465], Exp2Syn[4466], Exp2Syn[4467], Exp2Syn[4468], Exp2Syn[4469], Exp2Syn[4470], Exp2Syn[4471], Exp2Syn[4472], Exp2Syn[4473], Exp2Syn[4474], Exp2Syn[4475], Exp2Syn[4476], Exp2Syn[4477], Exp2Syn[4478], Exp2Syn[4479], Exp2Syn[4480], Exp2Syn[4481], Exp2Syn[4482], Exp2Syn[4483], Exp2Syn[4484], Exp2Syn[4485], Exp2Syn[4486], Exp2Syn[4487], Exp2Syn[4488], Exp2Syn[4489], Exp2Syn[4490], Exp2Syn[4491], Exp2Syn[4492], Exp2Syn[4493], Exp2Syn[4494], Exp2Syn[4495], Exp2Syn[4496], Exp2Syn[4497], Exp2Syn[4498], Exp2Syn[4499], Exp2Syn[4500], Exp2Syn[4501], Exp2Syn[4502], Exp2Syn[4503], Exp2Syn[4504], Exp2Syn[4505], Exp2Syn[4506], Exp2Syn[4507], Exp2Syn[4508], Exp2Syn[4509], Exp2Syn[4510], Exp2Syn[4511], Exp2Syn[4512], Exp2Syn[4513], Exp2Syn[4514], Exp2Syn[4515], Exp2Syn[4516], Exp2Syn[4517], Exp2Syn[4518], Exp2Syn[4519], Exp2Syn[4520], Exp2Syn[4521], Exp2Syn[4522], Exp2Syn[4523], Exp2Syn[4524], Exp2Syn[4525], Exp2Syn[4526], Exp2Syn[4527], Exp2Syn[4528], Exp2Syn[4529], Exp2Syn[4530], Exp2Syn[4531], Exp2Syn[4532], Exp2Syn[4533], Exp2Syn[4534], Exp2Syn[4535], Exp2Syn[4536], Exp2Syn[4537], Exp2Syn[4538], Exp2Syn[4539], Exp2Syn[4540], Exp2Syn[4541], Exp2Syn[4542], Exp2Syn[4543], Exp2Syn[4544], Exp2Syn[4545], Exp2Syn[4546], Exp2Syn[4547], Exp2Syn[4548], Exp2Syn[4549], Exp2Syn[4550], Exp2Syn[4551], Exp2Syn[4552], Exp2Syn[4553], Exp2Syn[4554], Exp2Syn[4555], Exp2Syn[4556], Exp2Syn[4557], Exp2Syn[4558], Exp2Syn[4559], Exp2Syn[4560], Exp2Syn[4561], Exp2Syn[4562], Exp2Syn[4563], Exp2Syn[4564], Exp2Syn[4565], Exp2Syn[4566], Exp2Syn[4567], Exp2Syn[4568], Exp2Syn[4569], Exp2Syn[4570], Exp2Syn[4571], Exp2Syn[4572], Exp2Syn[4573], Exp2Syn[4574], Exp2Syn[4575], Exp2Syn[4576], Exp2Syn[4577], Exp2Syn[4578], Exp2Syn[4579], Exp2Syn[4580], Exp2Syn[4581], Exp2Syn[4582], Exp2Syn[4583], Exp2Syn[4584], Exp2Syn[4585], Exp2Syn[4586], Exp2Syn[4587], Exp2Syn[4588], Exp2Syn[4589], Exp2Syn[4590], Exp2Syn[4591], Exp2Syn[4592], Exp2Syn[4593], Exp2Syn[4594], Exp2Syn[4595], Exp2Syn[4596], Exp2Syn[4597], Exp2Syn[4598], Exp2Syn[4599], Exp2Syn[4600], Exp2Syn[4601], Exp2Syn[4602], Exp2Syn[4603], Exp2Syn[4604], Exp2Syn[4605], Exp2Syn[4606], Exp2Syn[4607], Exp2Syn[4608], Exp2Syn[4609], Exp2Syn[4610], Exp2Syn[4611], Exp2Syn[4612], Exp2Syn[4613], Exp2Syn[4614], Exp2Syn[4615], Exp2Syn[4616], Exp2Syn[4617], Exp2Syn[4618], Exp2Syn[4619], Exp2Syn[4620], Exp2Syn[4621], Exp2Syn[4622], Exp2Syn[4623], Exp2Syn[4624], Exp2Syn[4625], Exp2Syn[4626], Exp2Syn[4627], Exp2Syn[4628], Exp2Syn[4629], Exp2Syn[4630], Exp2Syn[4631], Exp2Syn[4632], Exp2Syn[4633], Exp2Syn[4634], Exp2Syn[4635], Exp2Syn[4636], Exp2Syn[4637], Exp2Syn[4638], Exp2Syn[4639], Exp2Syn[4640], Exp2Syn[4641], Exp2Syn[4642], Exp2Syn[4643], Exp2Syn[4644], Exp2Syn[4645], Exp2Syn[4646], Exp2Syn[4647], Exp2Syn[4648], Exp2Syn[4649], Exp2Syn[4650], Exp2Syn[4651], Exp2Syn[4652], Exp2Syn[4653], Exp2Syn[4654], Exp2Syn[4655], Exp2Syn[4656], Exp2Syn[4657], Exp2Syn[4658], Exp2Syn[4659], Exp2Syn[4660], Exp2Syn[4661], Exp2Syn[4662], Exp2Syn[4663], Exp2Syn[4664], Exp2Syn[4665], Exp2Syn[4666], Exp2Syn[4667], Exp2Syn[4668], Exp2Syn[4669], Exp2Syn[4670], Exp2Syn[4671], Exp2Syn[4672], Exp2Syn[4673], Exp2Syn[4674], Exp2Syn[4675], Exp2Syn[4676], Exp2Syn[4677], Exp2Syn[4678], Exp2Syn[4679], Exp2Syn[4680], Exp2Syn[4681], Exp2Syn[4682], Exp2Syn[4683], Exp2Syn[4684], Exp2Syn[4685], Exp2Syn[4686], Exp2Syn[4687], Exp2Syn[4688], Exp2Syn[4689], Exp2Syn[4690], Exp2Syn[4691], Exp2Syn[4692], Exp2Syn[4693], Exp2Syn[4694], Exp2Syn[4695], Exp2Syn[4696], Exp2Syn[4697], Exp2Syn[4698], Exp2Syn[4699], Exp2Syn[4700], Exp2Syn[4701], Exp2Syn[4702], Exp2Syn[4703], Exp2Syn[4704], Exp2Syn[4705], Exp2Syn[4706], Exp2Syn[4707], Exp2Syn[4708], Exp2Syn[4709], Exp2Syn[4710], Exp2Syn[4711], Exp2Syn[4712], Exp2Syn[4713], Exp2Syn[4714], Exp2Syn[4715], Exp2Syn[4716], Exp2Syn[4717], Exp2Syn[4718], Exp2Syn[4719], Exp2Syn[4720], Exp2Syn[4721], Exp2Syn[4722], Exp2Syn[4723], Exp2Syn[4724], Exp2Syn[4725], Exp2Syn[4726], Exp2Syn[4727], Exp2Syn[4728], Exp2Syn[4729], Exp2Syn[4730], Exp2Syn[4731], Exp2Syn[4732], Exp2Syn[4733], Exp2Syn[4734], Exp2Syn[4735], Exp2Syn[4736], Exp2Syn[4737], Exp2Syn[4738], Exp2Syn[4739], Exp2Syn[4740], Exp2Syn[4741], Exp2Syn[4742], Exp2Syn[4743], Exp2Syn[4744], Exp2Syn[4745], Exp2Syn[4746], Exp2Syn[4747], Exp2Syn[4748], Exp2Syn[4749], Exp2Syn[4750], Exp2Syn[4751], Exp2Syn[4752], Exp2Syn[4753], Exp2Syn[4754], Exp2Syn[4755], Exp2Syn[4756], Exp2Syn[4757], Exp2Syn[4758], Exp2Syn[4759], Exp2Syn[4760], Exp2Syn[4761], Exp2Syn[4762], Exp2Syn[4763], Exp2Syn[4764], Exp2Syn[4765], Exp2Syn[4766], Exp2Syn[4767], Exp2Syn[4768], Exp2Syn[4769], Exp2Syn[4770], Exp2Syn[4771], Exp2Syn[4772], Exp2Syn[4773], Exp2Syn[4774], Exp2Syn[4775], Exp2Syn[4776], Exp2Syn[4777], Exp2Syn[4778], Exp2Syn[4779], Exp2Syn[4780], Exp2Syn[4781], Exp2Syn[4782], Exp2Syn[4783], Exp2Syn[4784], Exp2Syn[4785], Exp2Syn[4786], Exp2Syn[4787], Exp2Syn[4788], Exp2Syn[4789], Exp2Syn[4790], Exp2Syn[4791], Exp2Syn[4792], Exp2Syn[4793], Exp2Syn[4794], Exp2Syn[4795], Exp2Syn[4796], Exp2Syn[4797], Exp2Syn[4798], Exp2Syn[4799], Exp2Syn[4800], Exp2Syn[4801], Exp2Syn[4802], Exp2Syn[4803], Exp2Syn[4804], Exp2Syn[4805], Exp2Syn[4806], Exp2Syn[4807], Exp2Syn[4808], Exp2Syn[4809], Exp2Syn[4810], Exp2Syn[4811], Exp2Syn[4812], Exp2Syn[4813], Exp2Syn[4814], Exp2Syn[4815], Exp2Syn[4816], Exp2Syn[4817], Exp2Syn[4818], Exp2Syn[4819], Exp2Syn[4820], Exp2Syn[4821], Exp2Syn[4822], Exp2Syn[4823], Exp2Syn[4824], Exp2Syn[4825], Exp2Syn[4826], Exp2Syn[4827], Exp2Syn[4828], Exp2Syn[4829], Exp2Syn[4830], Exp2Syn[4831], Exp2Syn[4832], Exp2Syn[4833], Exp2Syn[4834], Exp2Syn[4835], Exp2Syn[4836], Exp2Syn[4837], Exp2Syn[4838], Exp2Syn[4839], Exp2Syn[4840], Exp2Syn[4841], Exp2Syn[4842], Exp2Syn[4843], Exp2Syn[4844], Exp2Syn[4845], Exp2Syn[4846], Exp2Syn[4847], Exp2Syn[4848], Exp2Syn[4849], Exp2Syn[4850], Exp2Syn[4851], Exp2Syn[4852], Exp2Syn[4853], Exp2Syn[4854], Exp2Syn[4855], Exp2Syn[4856], Exp2Syn[4857], Exp2Syn[4858], Exp2Syn[4859], Exp2Syn[4860], Exp2Syn[4861], Exp2Syn[4862], Exp2Syn[4863], Exp2Syn[4864], Exp2Syn[4865], Exp2Syn[4866], Exp2Syn[4867], Exp2Syn[4868], Exp2Syn[4869], Exp2Syn[4870], Exp2Syn[4871], Exp2Syn[4872], Exp2Syn[4873], Exp2Syn[4874], Exp2Syn[4875], Exp2Syn[4876], Exp2Syn[4877], Exp2Syn[4878], Exp2Syn[4879], Exp2Syn[4880], Exp2Syn[4881], Exp2Syn[4882], Exp2Syn[4883], Exp2Syn[4884], Exp2Syn[4885], Exp2Syn[4886], Exp2Syn[4887], Exp2Syn[4888], Exp2Syn[4889], Exp2Syn[4890], Exp2Syn[4891], Exp2Syn[4892], Exp2Syn[4893], Exp2Syn[4894], Exp2Syn[4895], Exp2Syn[4896], Exp2Syn[4897], Exp2Syn[4898], Exp2Syn[4899], Exp2Syn[4900], Exp2Syn[4901], Exp2Syn[4902], Exp2Syn[4903], Exp2Syn[4904], Exp2Syn[4905], Exp2Syn[4906], Exp2Syn[4907], Exp2Syn[4908], Exp2Syn[4909], Exp2Syn[4910], Exp2Syn[4911], Exp2Syn[4912], Exp2Syn[4913], Exp2Syn[4914], Exp2Syn[4915], Exp2Syn[4916], Exp2Syn[4917], Exp2Syn[4918], Exp2Syn[4919], Exp2Syn[4920], Exp2Syn[4921], Exp2Syn[4922], Exp2Syn[4923], Exp2Syn[4924], Exp2Syn[4925], Exp2Syn[4926], Exp2Syn[4927], Exp2Syn[4928], Exp2Syn[4929], Exp2Syn[4930], Exp2Syn[4931], Exp2Syn[4932], Exp2Syn[4933], Exp2Syn[4934], Exp2Syn[4935], Exp2Syn[4936], Exp2Syn[4937], Exp2Syn[4938], Exp2Syn[4939], Exp2Syn[4940], Exp2Syn[4941], Exp2Syn[4942], Exp2Syn[4943], Exp2Syn[4944], Exp2Syn[4945], Exp2Syn[4946], Exp2Syn[4947], Exp2Syn[4948], Exp2Syn[4949], Exp2Syn[4950], Exp2Syn[4951], Exp2Syn[4952], Exp2Syn[4953], Exp2Syn[4954], Exp2Syn[4955], Exp2Syn[4956], Exp2Syn[4957], Exp2Syn[4958], Exp2Syn[4959], Exp2Syn[4960], Exp2Syn[4961], Exp2Syn[4962], Exp2Syn[4963], Exp2Syn[4964], Exp2Syn[4965], Exp2Syn[4966], Exp2Syn[4967], Exp2Syn[4968], Exp2Syn[4969], Exp2Syn[4970], Exp2Syn[4971], Exp2Syn[4972], Exp2Syn[4973], Exp2Syn[4974], Exp2Syn[4975], Exp2Syn[4976], Exp2Syn[4977], Exp2Syn[4978], Exp2Syn[4979], Exp2Syn[4980], Exp2Syn[4981], Exp2Syn[4982], Exp2Syn[4983], Exp2Syn[4984], Exp2Syn[4985], Exp2Syn[4986], Exp2Syn[4987], Exp2Syn[4988], Exp2Syn[4989], Exp2Syn[4990], Exp2Syn[4991], Exp2Syn[4992], Exp2Syn[4993], Exp2Syn[4994], Exp2Syn[4995], Exp2Syn[4996], Exp2Syn[4997], Exp2Syn[4998], Exp2Syn[4999], Exp2Syn[5000], Exp2Syn[5001], Exp2Syn[5002], Exp2Syn[5003], Exp2Syn[5004], Exp2Syn[5005], Exp2Syn[5006], Exp2Syn[5007], Exp2Syn[5008], Exp2Syn[5009], Exp2Syn[5010], Exp2Syn[5011], Exp2Syn[5012], Exp2Syn[5013], Exp2Syn[5014], Exp2Syn[5015], Exp2Syn[5016], Exp2Syn[5017], Exp2Syn[5018], Exp2Syn[5019], Exp2Syn[5020], Exp2Syn[5021], Exp2Syn[5022], Exp2Syn[5023], Exp2Syn[5024], Exp2Syn[5025], Exp2Syn[5026], Exp2Syn[5027], Exp2Syn[5028], Exp2Syn[5029], Exp2Syn[5030], Exp2Syn[5031], Exp2Syn[5032], Exp2Syn[5033], Exp2Syn[5034], Exp2Syn[5035], Exp2Syn[5036], Exp2Syn[5037], Exp2Syn[5038], Exp2Syn[5039], Exp2Syn[5040], Exp2Syn[5041], Exp2Syn[5042], Exp2Syn[5043], Exp2Syn[5044], Exp2Syn[5045], Exp2Syn[5046], Exp2Syn[5047], Exp2Syn[5048], Exp2Syn[5049], Exp2Syn[5050], Exp2Syn[5051], Exp2Syn[5052], Exp2Syn[5053], Exp2Syn[5054], Exp2Syn[5055], Exp2Syn[5056], Exp2Syn[5057], Exp2Syn[5058], Exp2Syn[5059], Exp2Syn[5060], Exp2Syn[5061], Exp2Syn[5062], Exp2Syn[5063], Exp2Syn[5064], Exp2Syn[5065], Exp2Syn[5066], Exp2Syn[5067], Exp2Syn[5068], Exp2Syn[5069], Exp2Syn[5070], Exp2Syn[5071], Exp2Syn[5072], Exp2Syn[5073], Exp2Syn[5074], Exp2Syn[5075], Exp2Syn[5076], Exp2Syn[5077], Exp2Syn[5078], Exp2Syn[5079], Exp2Syn[5080], Exp2Syn[5081], Exp2Syn[5082], Exp2Syn[5083], Exp2Syn[5084], Exp2Syn[5085], Exp2Syn[5086], Exp2Syn[5087], Exp2Syn[5088], Exp2Syn[5089], Exp2Syn[5090], Exp2Syn[5091], Exp2Syn[5092], Exp2Syn[5093], Exp2Syn[5094], Exp2Syn[5095], Exp2Syn[5096], Exp2Syn[5097], Exp2Syn[5098], Exp2Syn[5099], Exp2Syn[5100], Exp2Syn[5101], Exp2Syn[5102], Exp2Syn[5103], Exp2Syn[5104], Exp2Syn[5105], Exp2Syn[5106], Exp2Syn[5107], Exp2Syn[5108], Exp2Syn[5109], Exp2Syn[5110], Exp2Syn[5111], Exp2Syn[5112], Exp2Syn[5113], Exp2Syn[5114], Exp2Syn[5115], Exp2Syn[5116], Exp2Syn[5117], Exp2Syn[5118], Exp2Syn[5119], Exp2Syn[5120], Exp2Syn[5121], Exp2Syn[5122], Exp2Syn[5123], Exp2Syn[5124], Exp2Syn[5125], Exp2Syn[5126], Exp2Syn[5127], Exp2Syn[5128], Exp2Syn[5129], Exp2Syn[5130], Exp2Syn[5131], Exp2Syn[5132], Exp2Syn[5133], Exp2Syn[5134], Exp2Syn[5135], Exp2Syn[5136], Exp2Syn[5137], Exp2Syn[5138], Exp2Syn[5139], Exp2Syn[5140], Exp2Syn[5141], Exp2Syn[5142], Exp2Syn[5143], Exp2Syn[5144], Exp2Syn[5145], Exp2Syn[5146], Exp2Syn[5147], Exp2Syn[5148], Exp2Syn[5149], Exp2Syn[5150], Exp2Syn[5151], Exp2Syn[5152], Exp2Syn[5153], Exp2Syn[5154], Exp2Syn[5155], Exp2Syn[5156], Exp2Syn[5157], Exp2Syn[5158], Exp2Syn[5159], Exp2Syn[5160], Exp2Syn[5161], Exp2Syn[5162], Exp2Syn[5163], Exp2Syn[5164], Exp2Syn[5165], Exp2Syn[5166], Exp2Syn[5167], Exp2Syn[5168], Exp2Syn[5169], Exp2Syn[5170], Exp2Syn[5171], Exp2Syn[5172], Exp2Syn[5173], Exp2Syn[5174], Exp2Syn[5175], Exp2Syn[5176], Exp2Syn[5177], Exp2Syn[5178], Exp2Syn[5179], Exp2Syn[5180], Exp2Syn[5181], Exp2Syn[5182], Exp2Syn[5183], Exp2Syn[5184], Exp2Syn[5185], Exp2Syn[5186], Exp2Syn[5187], Exp2Syn[5188], Exp2Syn[5189], Exp2Syn[5190], Exp2Syn[5191], Exp2Syn[5192], Exp2Syn[5193], Exp2Syn[5194], Exp2Syn[5195], Exp2Syn[5196], Exp2Syn[5197], Exp2Syn[5198], Exp2Syn[5199], Exp2Syn[5200], Exp2Syn[5201], Exp2Syn[5202], Exp2Syn[5203], Exp2Syn[5204], Exp2Syn[5205], Exp2Syn[5206], Exp2Syn[5207], Exp2Syn[5208], Exp2Syn[5209], Exp2Syn[5210], Exp2Syn[5211], Exp2Syn[5212], Exp2Syn[5213], Exp2Syn[5214], Exp2Syn[5215], Exp2Syn[5216], Exp2Syn[5217], Exp2Syn[5218], Exp2Syn[5219], Exp2Syn[5220], Exp2Syn[5221], Exp2Syn[5222], Exp2Syn[5223], Exp2Syn[5224], Exp2Syn[5225], Exp2Syn[5226], Exp2Syn[5227], Exp2Syn[5228], Exp2Syn[5229], Exp2Syn[5230], Exp2Syn[5231], Exp2Syn[5232], Exp2Syn[5233], Exp2Syn[5234], Exp2Syn[5235], Exp2Syn[5236], Exp2Syn[5237], Exp2Syn[5238], Exp2Syn[5239], Exp2Syn[5240], Exp2Syn[5241], Exp2Syn[5242], Exp2Syn[5243], Exp2Syn[5244], Exp2Syn[5245], Exp2Syn[5246], Exp2Syn[5247], Exp2Syn[5248], Exp2Syn[5249], Exp2Syn[5250], Exp2Syn[5251], Exp2Syn[5252], Exp2Syn[5253], Exp2Syn[5254], Exp2Syn[5255], Exp2Syn[5256], Exp2Syn[5257], Exp2Syn[5258], Exp2Syn[5259], Exp2Syn[5260], Exp2Syn[5261], Exp2Syn[5262], Exp2Syn[5263], Exp2Syn[5264], Exp2Syn[5265], Exp2Syn[5266], Exp2Syn[5267], Exp2Syn[5268], Exp2Syn[5269], Exp2Syn[5270], Exp2Syn[5271], Exp2Syn[5272], Exp2Syn[5273], Exp2Syn[5274], Exp2Syn[5275], Exp2Syn[5276], Exp2Syn[5277], Exp2Syn[5278], Exp2Syn[5279], Exp2Syn[5280], Exp2Syn[5281], Exp2Syn[5282], Exp2Syn[5283], Exp2Syn[5284], Exp2Syn[5285], Exp2Syn[5286], Exp2Syn[5287], Exp2Syn[5288], Exp2Syn[5289], Exp2Syn[5290], Exp2Syn[5291], Exp2Syn[5292], Exp2Syn[5293], Exp2Syn[5294], Exp2Syn[5295], Exp2Syn[5296], Exp2Syn[5297], Exp2Syn[5298], Exp2Syn[5299], Exp2Syn[5300], Exp2Syn[5301], Exp2Syn[5302], Exp2Syn[5303], Exp2Syn[5304], Exp2Syn[5305], Exp2Syn[5306], Exp2Syn[5307], Exp2Syn[5308], Exp2Syn[5309], Exp2Syn[5310], Exp2Syn[5311], Exp2Syn[5312], Exp2Syn[5313], Exp2Syn[5314], Exp2Syn[5315], Exp2Syn[5316], Exp2Syn[5317], Exp2Syn[5318], Exp2Syn[5319], Exp2Syn[5320], Exp2Syn[5321], Exp2Syn[5322], Exp2Syn[5323], Exp2Syn[5324], Exp2Syn[5325], Exp2Syn[5326], Exp2Syn[5327], Exp2Syn[5328], Exp2Syn[5329], Exp2Syn[5330], Exp2Syn[5331], Exp2Syn[5332], Exp2Syn[5333], Exp2Syn[5334], Exp2Syn[5335], Exp2Syn[5336], Exp2Syn[5337], Exp2Syn[5338], Exp2Syn[5339], Exp2Syn[5340], Exp2Syn[5341], Exp2Syn[5342], Exp2Syn[5343], Exp2Syn[5344], Exp2Syn[5345], Exp2Syn[5346], Exp2Syn[5347], Exp2Syn[5348], Exp2Syn[5349], Exp2Syn[5350], Exp2Syn[5351], Exp2Syn[5352], Exp2Syn[5353], Exp2Syn[5354], Exp2Syn[5355], Exp2Syn[5356], Exp2Syn[5357], Exp2Syn[5358], Exp2Syn[5359], Exp2Syn[5360], Exp2Syn[5361], Exp2Syn[5362], Exp2Syn[5363], Exp2Syn[5364], Exp2Syn[5365], Exp2Syn[5366], Exp2Syn[5367], Exp2Syn[5368], Exp2Syn[5369], Exp2Syn[5370], Exp2Syn[5371], Exp2Syn[5372], Exp2Syn[5373], Exp2Syn[5374], Exp2Syn[5375], Exp2Syn[5376], Exp2Syn[5377], Exp2Syn[5378], Exp2Syn[5379], Exp2Syn[5380], Exp2Syn[5381], Exp2Syn[5382], Exp2Syn[5383], Exp2Syn[5384], Exp2Syn[5385], Exp2Syn[5386], Exp2Syn[5387], Exp2Syn[5388], Exp2Syn[5389], Exp2Syn[5390], Exp2Syn[5391], Exp2Syn[5392], Exp2Syn[5393], Exp2Syn[5394], Exp2Syn[5395], Exp2Syn[5396], Exp2Syn[5397], Exp2Syn[5398], Exp2Syn[5399], Exp2Syn[5400], Exp2Syn[5401], Exp2Syn[5402], Exp2Syn[5403], Exp2Syn[5404], Exp2Syn[5405], Exp2Syn[5406], Exp2Syn[5407], Exp2Syn[5408], Exp2Syn[5409], Exp2Syn[5410], Exp2Syn[5411], Exp2Syn[5412], Exp2Syn[5413], Exp2Syn[5414], Exp2Syn[5415], Exp2Syn[5416], Exp2Syn[5417], Exp2Syn[5418], Exp2Syn[5419], Exp2Syn[5420], Exp2Syn[5421], Exp2Syn[5422], Exp2Syn[5423], Exp2Syn[5424], Exp2Syn[5425], Exp2Syn[5426], Exp2Syn[5427], Exp2Syn[5428], Exp2Syn[5429], Exp2Syn[5430], Exp2Syn[5431], Exp2Syn[5432], Exp2Syn[5433], Exp2Syn[5434], Exp2Syn[5435], Exp2Syn[5436], Exp2Syn[5437], Exp2Syn[5438], Exp2Syn[5439], Exp2Syn[5440], Exp2Syn[5441], Exp2Syn[5442], Exp2Syn[5443], Exp2Syn[5444], Exp2Syn[5445], Exp2Syn[5446], Exp2Syn[5447], Exp2Syn[5448], Exp2Syn[5449], Exp2Syn[5450], Exp2Syn[5451], Exp2Syn[5452], Exp2Syn[5453], Exp2Syn[5454], Exp2Syn[5455], Exp2Syn[5456], Exp2Syn[5457], Exp2Syn[5458], Exp2Syn[5459], Exp2Syn[5460], Exp2Syn[5461], Exp2Syn[5462], Exp2Syn[5463], Exp2Syn[5464], Exp2Syn[5465], Exp2Syn[5466], Exp2Syn[5467], Exp2Syn[5468], Exp2Syn[5469], Exp2Syn[5470], Exp2Syn[5471], Exp2Syn[5472], Exp2Syn[5473], Exp2Syn[5474], Exp2Syn[5475], Exp2Syn[5476], Exp2Syn[5477], Exp2Syn[5478], Exp2Syn[5479], Exp2Syn[5480], Exp2Syn[5481], Exp2Syn[5482], Exp2Syn[5483], Exp2Syn[5484], Exp2Syn[5485], Exp2Syn[5486], Exp2Syn[5487], Exp2Syn[5488], Exp2Syn[5489], Exp2Syn[5490], Exp2Syn[5491], Exp2Syn[5492], Exp2Syn[5493], Exp2Syn[5494], Exp2Syn[5495], Exp2Syn[5496], Exp2Syn[5497], Exp2Syn[5498], Exp2Syn[5499], Exp2Syn[5500], Exp2Syn[5501], Exp2Syn[5502], Exp2Syn[5503], Exp2Syn[5504], Exp2Syn[5505], Exp2Syn[5506], Exp2Syn[5507], Exp2Syn[5508], Exp2Syn[5509], Exp2Syn[5510], Exp2Syn[5511], Exp2Syn[5512], Exp2Syn[5513], Exp2Syn[5514], Exp2Syn[5515], Exp2Syn[5516], Exp2Syn[5517], Exp2Syn[5518], Exp2Syn[5519], Exp2Syn[5520], Exp2Syn[5521], Exp2Syn[5522], Exp2Syn[5523], Exp2Syn[5524], Exp2Syn[5525], Exp2Syn[5526], Exp2Syn[5527], Exp2Syn[5528], Exp2Syn[5529], Exp2Syn[5530], Exp2Syn[5531], Exp2Syn[5532], Exp2Syn[5533], Exp2Syn[5534], Exp2Syn[5535], Exp2Syn[5536], Exp2Syn[5537], Exp2Syn[5538], Exp2Syn[5539], Exp2Syn[5540], Exp2Syn[5541], Exp2Syn[5542], Exp2Syn[5543], Exp2Syn[5544], Exp2Syn[5545], Exp2Syn[5546], Exp2Syn[5547], Exp2Syn[5548], Exp2Syn[5549], Exp2Syn[5550], Exp2Syn[5551], Exp2Syn[5552], Exp2Syn[5553], Exp2Syn[5554], Exp2Syn[5555], Exp2Syn[5556], Exp2Syn[5557], Exp2Syn[5558], Exp2Syn[5559], Exp2Syn[5560], Exp2Syn[5561], Exp2Syn[5562], Exp2Syn[5563], Exp2Syn[5564], Exp2Syn[5565], Exp2Syn[5566], Exp2Syn[5567], Exp2Syn[5568], Exp2Syn[5569], Exp2Syn[5570], Exp2Syn[5571], Exp2Syn[5572], Exp2Syn[5573], Exp2Syn[5574], Exp2Syn[5575], Exp2Syn[5576], Exp2Syn[5577], Exp2Syn[5578], Exp2Syn[5579], Exp2Syn[5580], Exp2Syn[5581], Exp2Syn[5582], Exp2Syn[5583], Exp2Syn[5584], Exp2Syn[5585], Exp2Syn[5586], Exp2Syn[5587], Exp2Syn[5588], Exp2Syn[5589], Exp2Syn[5590], Exp2Syn[5591], Exp2Syn[5592], Exp2Syn[5593], Exp2Syn[5594], Exp2Syn[5595], Exp2Syn[5596], Exp2Syn[5597], Exp2Syn[5598], Exp2Syn[5599], Exp2Syn[5600], Exp2Syn[5601], Exp2Syn[5602], Exp2Syn[5603], Exp2Syn[5604], Exp2Syn[5605], Exp2Syn[5606], Exp2Syn[5607], Exp2Syn[5608], Exp2Syn[5609], Exp2Syn[5610], Exp2Syn[5611], Exp2Syn[5612], Exp2Syn[5613], Exp2Syn[5614], Exp2Syn[5615], Exp2Syn[5616], Exp2Syn[5617], Exp2Syn[5618], Exp2Syn[5619], Exp2Syn[5620], Exp2Syn[5621], Exp2Syn[5622], Exp2Syn[5623], Exp2Syn[5624], Exp2Syn[5625], Exp2Syn[5626], Exp2Syn[5627], Exp2Syn[5628], Exp2Syn[5629], Exp2Syn[5630], Exp2Syn[5631], Exp2Syn[5632], Exp2Syn[5633], Exp2Syn[5634], Exp2Syn[5635], Exp2Syn[5636], Exp2Syn[5637], Exp2Syn[5638], Exp2Syn[5639], Exp2Syn[5640], Exp2Syn[5641], Exp2Syn[5642], Exp2Syn[5643], Exp2Syn[5644], Exp2Syn[5645], Exp2Syn[5646], Exp2Syn[5647], Exp2Syn[5648], Exp2Syn[5649], Exp2Syn[5650], Exp2Syn[5651], Exp2Syn[5652], Exp2Syn[5653], Exp2Syn[5654], Exp2Syn[5655], Exp2Syn[5656], Exp2Syn[5657], Exp2Syn[5658], Exp2Syn[5659], Exp2Syn[5660], Exp2Syn[5661], Exp2Syn[5662], Exp2Syn[5663], Exp2Syn[5664], Exp2Syn[5665], Exp2Syn[5666], Exp2Syn[5667], Exp2Syn[5668], Exp2Syn[5669], Exp2Syn[5670], Exp2Syn[5671], Exp2Syn[5672], Exp2Syn[5673], Exp2Syn[5674], Exp2Syn[5675], Exp2Syn[5676], Exp2Syn[5677], Exp2Syn[5678], Exp2Syn[5679], Exp2Syn[5680], Exp2Syn[5681], Exp2Syn[5682], Exp2Syn[5683], Exp2Syn[5684], Exp2Syn[5685], Exp2Syn[5686], Exp2Syn[5687], Exp2Syn[5688], Exp2Syn[5689], Exp2Syn[5690], Exp2Syn[5691], Exp2Syn[5692], Exp2Syn[5693], Exp2Syn[5694], Exp2Syn[5695], Exp2Syn[5696], Exp2Syn[5697], Exp2Syn[5698], Exp2Syn[5699], Exp2Syn[5700], Exp2Syn[5701], Exp2Syn[5702], Exp2Syn[5703], Exp2Syn[5704], Exp2Syn[5705], Exp2Syn[5706], Exp2Syn[5707], Exp2Syn[5708], Exp2Syn[5709], Exp2Syn[5710], Exp2Syn[5711], Exp2Syn[5712], Exp2Syn[5713], Exp2Syn[5714], Exp2Syn[5715], Exp2Syn[5716], Exp2Syn[5717], Exp2Syn[5718], Exp2Syn[5719], Exp2Syn[5720], Exp2Syn[5721], Exp2Syn[5722], Exp2Syn[5723], Exp2Syn[5724], Exp2Syn[5725], Exp2Syn[5726], Exp2Syn[5727], Exp2Syn[5728], Exp2Syn[5729], Exp2Syn[5730], Exp2Syn[5731], Exp2Syn[5732], Exp2Syn[5733], Exp2Syn[5734], Exp2Syn[5735], Exp2Syn[5736], Exp2Syn[5737], Exp2Syn[5738], Exp2Syn[5739], Exp2Syn[5740], Exp2Syn[5741], Exp2Syn[5742], Exp2Syn[5743], Exp2Syn[5744], Exp2Syn[5745], Exp2Syn[5746], Exp2Syn[5747], Exp2Syn[5748], Exp2Syn[5749], Exp2Syn[5750], Exp2Syn[5751], Exp2Syn[5752], Exp2Syn[5753], Exp2Syn[5754], Exp2Syn[5755], Exp2Syn[5756], Exp2Syn[5757], Exp2Syn[5758], Exp2Syn[5759], Exp2Syn[5760], Exp2Syn[5761], Exp2Syn[5762], Exp2Syn[5763], Exp2Syn[5764], Exp2Syn[5765], Exp2Syn[5766], Exp2Syn[5767], Exp2Syn[5768], Exp2Syn[5769], Exp2Syn[5770], Exp2Syn[5771], Exp2Syn[5772], Exp2Syn[5773], Exp2Syn[5774], Exp2Syn[5775], Exp2Syn[5776], Exp2Syn[5777], Exp2Syn[5778], Exp2Syn[5779], Exp2Syn[5780], Exp2Syn[5781], Exp2Syn[5782], Exp2Syn[5783], Exp2Syn[5784], Exp2Syn[5785], Exp2Syn[5786], Exp2Syn[5787], Exp2Syn[5788], Exp2Syn[5789], Exp2Syn[5790], Exp2Syn[5791], Exp2Syn[5792], Exp2Syn[5793], Exp2Syn[5794], Exp2Syn[5795], Exp2Syn[5796], Exp2Syn[5797], Exp2Syn[5798], Exp2Syn[5799], Exp2Syn[5800], Exp2Syn[5801], Exp2Syn[5802], Exp2Syn[5803], Exp2Syn[5804], Exp2Syn[5805], Exp2Syn[5806], Exp2Syn[5807], Exp2Syn[5808], Exp2Syn[5809], Exp2Syn[5810], Exp2Syn[5811], Exp2Syn[5812], Exp2Syn[5813], Exp2Syn[5814], Exp2Syn[5815], Exp2Syn[5816], Exp2Syn[5817], Exp2Syn[5818], Exp2Syn[5819], Exp2Syn[5820], Exp2Syn[5821], Exp2Syn[5822], Exp2Syn[5823], Exp2Syn[5824], Exp2Syn[5825], Exp2Syn[5826], Exp2Syn[5827], Exp2Syn[5828], Exp2Syn[5829], Exp2Syn[5830], Exp2Syn[5831], Exp2Syn[5832], Exp2Syn[5833], Exp2Syn[5834], Exp2Syn[5835], Exp2Syn[5836], Exp2Syn[5837], Exp2Syn[5838], Exp2Syn[5839], Exp2Syn[5840], Exp2Syn[5841], Exp2Syn[5842], Exp2Syn[5843], Exp2Syn[5844], Exp2Syn[5845], Exp2Syn[5846], Exp2Syn[5847], Exp2Syn[5848], Exp2Syn[5849], Exp2Syn[5850], Exp2Syn[5851], Exp2Syn[5852], Exp2Syn[5853], Exp2Syn[5854], Exp2Syn[5855], Exp2Syn[5856], Exp2Syn[5857], Exp2Syn[5858], Exp2Syn[5859], Exp2Syn[5860], Exp2Syn[5861], Exp2Syn[5862], Exp2Syn[5863], Exp2Syn[5864], Exp2Syn[5865], Exp2Syn[5866], Exp2Syn[5867], Exp2Syn[5868], Exp2Syn[5869], Exp2Syn[5870], Exp2Syn[5871], Exp2Syn[5872], Exp2Syn[5873], Exp2Syn[5874], Exp2Syn[5875], Exp2Syn[5876], Exp2Syn[5877], Exp2Syn[5878], Exp2Syn[5879], Exp2Syn[5880], Exp2Syn[5881], Exp2Syn[5882], Exp2Syn[5883], Exp2Syn[5884], Exp2Syn[5885], Exp2Syn[5886], Exp2Syn[5887], Exp2Syn[5888], Exp2Syn[5889], Exp2Syn[5890], Exp2Syn[5891], Exp2Syn[5892], Exp2Syn[5893], Exp2Syn[5894], Exp2Syn[5895], Exp2Syn[5896], Exp2Syn[5897], Exp2Syn[5898], Exp2Syn[5899], Exp2Syn[5900], Exp2Syn[5901], Exp2Syn[5902], Exp2Syn[5903], Exp2Syn[5904], Exp2Syn[5905], Exp2Syn[5906], Exp2Syn[5907], Exp2Syn[5908], Exp2Syn[5909], Exp2Syn[5910], Exp2Syn[5911], Exp2Syn[5912], Exp2Syn[5913], Exp2Syn[5914], Exp2Syn[5915], Exp2Syn[5916], Exp2Syn[5917], Exp2Syn[5918], Exp2Syn[5919], Exp2Syn[5920], Exp2Syn[5921], Exp2Syn[5922], Exp2Syn[5923], Exp2Syn[5924], Exp2Syn[5925], Exp2Syn[5926], Exp2Syn[5927], Exp2Syn[5928], Exp2Syn[5929], Exp2Syn[5930], Exp2Syn[5931], Exp2Syn[5932], Exp2Syn[5933], Exp2Syn[5934], Exp2Syn[5935], Exp2Syn[5936], Exp2Syn[5937], Exp2Syn[5938], Exp2Syn[5939], Exp2Syn[5940], Exp2Syn[5941], Exp2Syn[5942], Exp2Syn[5943], Exp2Syn[5944], Exp2Syn[5945], Exp2Syn[5946], Exp2Syn[5947], Exp2Syn[5948], Exp2Syn[5949], Exp2Syn[5950], Exp2Syn[5951], Exp2Syn[5952], Exp2Syn[5953], Exp2Syn[5954], Exp2Syn[5955], Exp2Syn[5956], Exp2Syn[5957], Exp2Syn[5958], Exp2Syn[5959], Exp2Syn[5960], Exp2Syn[5961], Exp2Syn[5962], Exp2Syn[5963], Exp2Syn[5964], Exp2Syn[5965], Exp2Syn[5966], Exp2Syn[5967], Exp2Syn[5968], Exp2Syn[5969], Exp2Syn[5970], Exp2Syn[5971], Exp2Syn[5972], Exp2Syn[5973], Exp2Syn[5974], Exp2Syn[5975], Exp2Syn[5976], Exp2Syn[5977], Exp2Syn[5978], Exp2Syn[5979], Exp2Syn[5980], Exp2Syn[5981], Exp2Syn[5982], Exp2Syn[5983], Exp2Syn[5984], Exp2Syn[5985], Exp2Syn[5986], Exp2Syn[5987], Exp2Syn[5988], Exp2Syn[5989], Exp2Syn[5990], Exp2Syn[5991], Exp2Syn[5992], Exp2Syn[5993], Exp2Syn[5994], Exp2Syn[5995], Exp2Syn[5996], Exp2Syn[5997], Exp2Syn[5998], Exp2Syn[5999], Exp2Syn[6000], Exp2Syn[6001], Exp2Syn[6002], Exp2Syn[6003], Exp2Syn[6004], Exp2Syn[6005], Exp2Syn[6006], Exp2Syn[6007], Exp2Syn[6008], Exp2Syn[6009], Exp2Syn[6010], Exp2Syn[6011], Exp2Syn[6012], Exp2Syn[6013], Exp2Syn[6014], Exp2Syn[6015], Exp2Syn[6016], Exp2Syn[6017], Exp2Syn[6018], Exp2Syn[6019], Exp2Syn[6020], Exp2Syn[6021], Exp2Syn[6022], Exp2Syn[6023], Exp2Syn[6024], Exp2Syn[6025], Exp2Syn[6026], Exp2Syn[6027], Exp2Syn[6028], Exp2Syn[6029], Exp2Syn[6030], Exp2Syn[6031], Exp2Syn[6032], Exp2Syn[6033], Exp2Syn[6034], Exp2Syn[6035], Exp2Syn[6036], Exp2Syn[6037], Exp2Syn[6038], Exp2Syn[6039], Exp2Syn[6040], Exp2Syn[6041], Exp2Syn[6042], Exp2Syn[6043], Exp2Syn[6044], Exp2Syn[6045], Exp2Syn[6046], Exp2Syn[6047], Exp2Syn[6048], Exp2Syn[6049], Exp2Syn[6050], Exp2Syn[6051], Exp2Syn[6052], Exp2Syn[6053], Exp2Syn[6054], Exp2Syn[6055], Exp2Syn[6056], Exp2Syn[6057], Exp2Syn[6058], Exp2Syn[6059], Exp2Syn[6060], Exp2Syn[6061], Exp2Syn[6062], Exp2Syn[6063], Exp2Syn[6064], Exp2Syn[6065], Exp2Syn[6066], Exp2Syn[6067], Exp2Syn[6068], Exp2Syn[6069], Exp2Syn[6070], Exp2Syn[6071], Exp2Syn[6072], Exp2Syn[6073], Exp2Syn[6074], Exp2Syn[6075], Exp2Syn[6076], Exp2Syn[6077], Exp2Syn[6078], Exp2Syn[6079], Exp2Syn[6080], Exp2Syn[6081], Exp2Syn[6082], Exp2Syn[6083], Exp2Syn[6084], Exp2Syn[6085], Exp2Syn[6086], Exp2Syn[6087], Exp2Syn[6088], Exp2Syn[6089], Exp2Syn[6090], Exp2Syn[6091], Exp2Syn[6092], Exp2Syn[6093], Exp2Syn[6094], Exp2Syn[6095], Exp2Syn[6096], Exp2Syn[6097], Exp2Syn[6098], Exp2Syn[6099], Exp2Syn[6100], Exp2Syn[6101], Exp2Syn[6102], Exp2Syn[6103], Exp2Syn[6104], Exp2Syn[6105], Exp2Syn[6106], Exp2Syn[6107], Exp2Syn[6108], Exp2Syn[6109], Exp2Syn[6110], Exp2Syn[6111], Exp2Syn[6112], Exp2Syn[6113], Exp2Syn[6114], Exp2Syn[6115], Exp2Syn[6116], Exp2Syn[6117], Exp2Syn[6118], Exp2Syn[6119], Exp2Syn[6120], Exp2Syn[6121], Exp2Syn[6122], Exp2Syn[6123], Exp2Syn[6124], Exp2Syn[6125], Exp2Syn[6126], Exp2Syn[6127], Exp2Syn[6128], Exp2Syn[6129], Exp2Syn[6130], Exp2Syn[6131], Exp2Syn[6132], Exp2Syn[6133], Exp2Syn[6134], Exp2Syn[6135], Exp2Syn[6136], Exp2Syn[6137], Exp2Syn[6138], Exp2Syn[6139], Exp2Syn[6140], Exp2Syn[6141], Exp2Syn[6142], Exp2Syn[6143], Exp2Syn[6144], Exp2Syn[6145], Exp2Syn[6146], Exp2Syn[6147], Exp2Syn[6148], Exp2Syn[6149], Exp2Syn[6150], Exp2Syn[6151], Exp2Syn[6152], Exp2Syn[6153], Exp2Syn[6154], Exp2Syn[6155], Exp2Syn[6156], Exp2Syn[6157], Exp2Syn[6158], Exp2Syn[6159], Exp2Syn[6160], Exp2Syn[6161], Exp2Syn[6162], Exp2Syn[6163], Exp2Syn[6164], Exp2Syn[6165], Exp2Syn[6166], Exp2Syn[6167], Exp2Syn[6168], Exp2Syn[6169], Exp2Syn[6170], Exp2Syn[6171], Exp2Syn[6172], Exp2Syn[6173], Exp2Syn[6174], Exp2Syn[6175], Exp2Syn[6176], Exp2Syn[6177], Exp2Syn[6178], Exp2Syn[6179], Exp2Syn[6180], Exp2Syn[6181], Exp2Syn[6182], Exp2Syn[6183], Exp2Syn[6184], Exp2Syn[6185], Exp2Syn[6186], Exp2Syn[6187], Exp2Syn[6188], Exp2Syn[6189], Exp2Syn[6190], Exp2Syn[6191], Exp2Syn[6192], Exp2Syn[6193], Exp2Syn[6194], Exp2Syn[6195], Exp2Syn[6196], Exp2Syn[6197], Exp2Syn[6198], Exp2Syn[6199], Exp2Syn[6200], Exp2Syn[6201], Exp2Syn[6202], Exp2Syn[6203], Exp2Syn[6204], Exp2Syn[6205], Exp2Syn[6206], Exp2Syn[6207], Exp2Syn[6208], Exp2Syn[6209], Exp2Syn[6210], Exp2Syn[6211], Exp2Syn[6212], Exp2Syn[6213], Exp2Syn[6214], Exp2Syn[6215], Exp2Syn[6216], Exp2Syn[6217], Exp2Syn[6218], Exp2Syn[6219], Exp2Syn[6220], Exp2Syn[6221], Exp2Syn[6222], Exp2Syn[6223], Exp2Syn[6224], Exp2Syn[6225], Exp2Syn[6226], Exp2Syn[6227], Exp2Syn[6228], Exp2Syn[6229], Exp2Syn[6230], Exp2Syn[6231], Exp2Syn[6232], Exp2Syn[6233], Exp2Syn[6234], Exp2Syn[6235], Exp2Syn[6236], Exp2Syn[6237], Exp2Syn[6238], Exp2Syn[6239], Exp2Syn[6240], Exp2Syn[6241], Exp2Syn[6242], Exp2Syn[6243], Exp2Syn[6244], Exp2Syn[6245], Exp2Syn[6246], Exp2Syn[6247], Exp2Syn[6248], Exp2Syn[6249], Exp2Syn[6250], Exp2Syn[6251], Exp2Syn[6252], Exp2Syn[6253], Exp2Syn[6254], Exp2Syn[6255], Exp2Syn[6256], Exp2Syn[6257], Exp2Syn[6258], Exp2Syn[6259], Exp2Syn[6260], Exp2Syn[6261], Exp2Syn[6262], Exp2Syn[6263], Exp2Syn[6264], Exp2Syn[6265], Exp2Syn[6266], Exp2Syn[6267], Exp2Syn[6268], Exp2Syn[6269], Exp2Syn[6270], Exp2Syn[6271], Exp2Syn[6272], Exp2Syn[6273], Exp2Syn[6274], Exp2Syn[6275], Exp2Syn[6276], Exp2Syn[6277], Exp2Syn[6278], Exp2Syn[6279], Exp2Syn[6280], Exp2Syn[6281], Exp2Syn[6282], Exp2Syn[6283], Exp2Syn[6284], Exp2Syn[6285], Exp2Syn[6286], Exp2Syn[6287], Exp2Syn[6288], Exp2Syn[6289], Exp2Syn[6290], Exp2Syn[6291], Exp2Syn[6292], Exp2Syn[6293], Exp2Syn[6294], Exp2Syn[6295], Exp2Syn[6296], Exp2Syn[6297], Exp2Syn[6298], Exp2Syn[6299], Exp2Syn[6300], Exp2Syn[6301], Exp2Syn[6302], Exp2Syn[6303], Exp2Syn[6304], Exp2Syn[6305], Exp2Syn[6306], Exp2Syn[6307], Exp2Syn[6308], Exp2Syn[6309], Exp2Syn[6310], Exp2Syn[6311], Exp2Syn[6312], Exp2Syn[6313], Exp2Syn[6314], Exp2Syn[6315], Exp2Syn[6316], Exp2Syn[6317], Exp2Syn[6318], Exp2Syn[6319], Exp2Syn[6320], Exp2Syn[6321], Exp2Syn[6322], Exp2Syn[6323], Exp2Syn[6324], Exp2Syn[6325], Exp2Syn[6326], Exp2Syn[6327], Exp2Syn[6328], Exp2Syn[6329], Exp2Syn[6330], Exp2Syn[6331], Exp2Syn[6332], Exp2Syn[6333], Exp2Syn[6334], Exp2Syn[6335], Exp2Syn[6336], Exp2Syn[6337], Exp2Syn[6338], Exp2Syn[6339], Exp2Syn[6340], Exp2Syn[6341], Exp2Syn[6342], Exp2Syn[6343], Exp2Syn[6344], Exp2Syn[6345], Exp2Syn[6346], Exp2Syn[6347], Exp2Syn[6348], Exp2Syn[6349], Exp2Syn[6350], Exp2Syn[6351], Exp2Syn[6352], Exp2Syn[6353], Exp2Syn[6354], Exp2Syn[6355], Exp2Syn[6356], Exp2Syn[6357], Exp2Syn[6358], Exp2Syn[6359], Exp2Syn[6360], Exp2Syn[6361], Exp2Syn[6362], Exp2Syn[6363], Exp2Syn[6364], Exp2Syn[6365], Exp2Syn[6366], Exp2Syn[6367], Exp2Syn[6368], Exp2Syn[6369], Exp2Syn[6370], Exp2Syn[6371], Exp2Syn[6372], Exp2Syn[6373], Exp2Syn[6374], Exp2Syn[6375], Exp2Syn[6376], Exp2Syn[6377], Exp2Syn[6378], Exp2Syn[6379], Exp2Syn[6380], Exp2Syn[6381], Exp2Syn[6382], Exp2Syn[6383], Exp2Syn[6384], Exp2Syn[6385], Exp2Syn[6386], Exp2Syn[6387], Exp2Syn[6388], Exp2Syn[6389], Exp2Syn[6390], Exp2Syn[6391], Exp2Syn[6392], Exp2Syn[6393], Exp2Syn[6394], Exp2Syn[6395], Exp2Syn[6396], Exp2Syn[6397], Exp2Syn[6398], Exp2Syn[6399], Exp2Syn[6400], Exp2Syn[6401], Exp2Syn[6402], Exp2Syn[6403], Exp2Syn[6404], Exp2Syn[6405], Exp2Syn[6406], Exp2Syn[6407], Exp2Syn[6408], Exp2Syn[6409], Exp2Syn[6410], Exp2Syn[6411], Exp2Syn[6412], Exp2Syn[6413], Exp2Syn[6414], Exp2Syn[6415], Exp2Syn[6416], Exp2Syn[6417], Exp2Syn[6418], Exp2Syn[6419], Exp2Syn[6420], Exp2Syn[6421], Exp2Syn[6422], Exp2Syn[6423], Exp2Syn[6424], Exp2Syn[6425], Exp2Syn[6426], Exp2Syn[6427], Exp2Syn[6428], Exp2Syn[6429], Exp2Syn[6430], Exp2Syn[6431], Exp2Syn[6432], Exp2Syn[6433], Exp2Syn[6434], Exp2Syn[6435], Exp2Syn[6436], Exp2Syn[6437], Exp2Syn[6438], Exp2Syn[6439], Exp2Syn[6440], Exp2Syn[6441], Exp2Syn[6442], Exp2Syn[6443], Exp2Syn[6444], Exp2Syn[6445], Exp2Syn[6446], Exp2Syn[6447], Exp2Syn[6448], Exp2Syn[6449], Exp2Syn[6450], Exp2Syn[6451], Exp2Syn[6452], Exp2Syn[6453], Exp2Syn[6454], Exp2Syn[6455], Exp2Syn[6456], Exp2Syn[6457], Exp2Syn[6458], Exp2Syn[6459], Exp2Syn[6460], Exp2Syn[6461], Exp2Syn[6462], Exp2Syn[6463], Exp2Syn[6464], Exp2Syn[6465], Exp2Syn[6466], Exp2Syn[6467], Exp2Syn[6468], Exp2Syn[6469], Exp2Syn[6470], Exp2Syn[6471], Exp2Syn[6472], Exp2Syn[6473], Exp2Syn[6474], Exp2Syn[6475], Exp2Syn[6476], Exp2Syn[6477], Exp2Syn[6478], Exp2Syn[6479], Exp2Syn[6480], Exp2Syn[6481], Exp2Syn[6482], Exp2Syn[6483], Exp2Syn[6484], Exp2Syn[6485], Exp2Syn[6486], Exp2Syn[6487], Exp2Syn[6488], Exp2Syn[6489], Exp2Syn[6490], Exp2Syn[6491], Exp2Syn[6492], Exp2Syn[6493], Exp2Syn[6494], Exp2Syn[6495], Exp2Syn[6496], Exp2Syn[6497], Exp2Syn[6498], Exp2Syn[6499], Exp2Syn[6500], Exp2Syn[6501], Exp2Syn[6502], Exp2Syn[6503], Exp2Syn[6504], Exp2Syn[6505], Exp2Syn[6506], Exp2Syn[6507], Exp2Syn[6508], Exp2Syn[6509], Exp2Syn[6510], Exp2Syn[6511], Exp2Syn[6512], Exp2Syn[6513], Exp2Syn[6514], Exp2Syn[6515], Exp2Syn[6516], Exp2Syn[6517], Exp2Syn[6518], Exp2Syn[6519], Exp2Syn[6520], Exp2Syn[6521], Exp2Syn[6522], Exp2Syn[6523], Exp2Syn[6524], Exp2Syn[6525], Exp2Syn[6526], Exp2Syn[6527], Exp2Syn[6528], Exp2Syn[6529], Exp2Syn[6530], Exp2Syn[6531], Exp2Syn[6532], Exp2Syn[6533], Exp2Syn[6534], Exp2Syn[6535], Exp2Syn[6536], Exp2Syn[6537], Exp2Syn[6538], Exp2Syn[6539], Exp2Syn[6540], Exp2Syn[6541], Exp2Syn[6542], Exp2Syn[6543], Exp2Syn[6544], Exp2Syn[6545], Exp2Syn[6546], Exp2Syn[6547], Exp2Syn[6548], Exp2Syn[6549], Exp2Syn[6550], Exp2Syn[6551], Exp2Syn[6552], Exp2Syn[6553], Exp2Syn[6554], Exp2Syn[6555], Exp2Syn[6556], Exp2Syn[6557], Exp2Syn[6558], Exp2Syn[6559], Exp2Syn[6560], Exp2Syn[6561], Exp2Syn[6562], Exp2Syn[6563], Exp2Syn[6564], Exp2Syn[6565], Exp2Syn[6566], Exp2Syn[6567], Exp2Syn[6568], Exp2Syn[6569], Exp2Syn[6570], Exp2Syn[6571], Exp2Syn[6572], Exp2Syn[6573], Exp2Syn[6574], Exp2Syn[6575], Exp2Syn[6576], Exp2Syn[6577], Exp2Syn[6578], Exp2Syn[6579], Exp2Syn[6580], Exp2Syn[6581], Exp2Syn[6582], Exp2Syn[6583], Exp2Syn[6584], Exp2Syn[6585], Exp2Syn[6586], Exp2Syn[6587], Exp2Syn[6588], Exp2Syn[6589], Exp2Syn[6590], Exp2Syn[6591], Exp2Syn[6592], Exp2Syn[6593], Exp2Syn[6594], Exp2Syn[6595], Exp2Syn[6596], Exp2Syn[6597], Exp2Syn[6598], Exp2Syn[6599], Exp2Syn[6600], Exp2Syn[6601], Exp2Syn[6602], Exp2Syn[6603], Exp2Syn[6604], Exp2Syn[6605], Exp2Syn[6606], Exp2Syn[6607], Exp2Syn[6608], Exp2Syn[6609], Exp2Syn[6610], Exp2Syn[6611], Exp2Syn[6612], Exp2Syn[6613], Exp2Syn[6614], Exp2Syn[6615], Exp2Syn[6616], Exp2Syn[6617], Exp2Syn[6618], Exp2Syn[6619], Exp2Syn[6620], Exp2Syn[6621], Exp2Syn[6622], Exp2Syn[6623], Exp2Syn[6624], Exp2Syn[6625], Exp2Syn[6626], Exp2Syn[6627], Exp2Syn[6628], Exp2Syn[6629], Exp2Syn[6630], Exp2Syn[6631], Exp2Syn[6632], Exp2Syn[6633], Exp2Syn[6634], Exp2Syn[6635], Exp2Syn[6636], Exp2Syn[6637], Exp2Syn[6638], Exp2Syn[6639], Exp2Syn[6640], Exp2Syn[6641], Exp2Syn[6642], Exp2Syn[6643], Exp2Syn[6644], Exp2Syn[6645], Exp2Syn[6646], Exp2Syn[6647], Exp2Syn[6648], Exp2Syn[6649], Exp2Syn[6650], Exp2Syn[6651], Exp2Syn[6652], Exp2Syn[6653], Exp2Syn[6654], Exp2Syn[6655], Exp2Syn[6656], Exp2Syn[6657], Exp2Syn[6658], Exp2Syn[6659], Exp2Syn[6660], Exp2Syn[6661], Exp2Syn[6662], Exp2Syn[6663], Exp2Syn[6664], Exp2Syn[6665], Exp2Syn[6666], Exp2Syn[6667], Exp2Syn[6668], Exp2Syn[6669], Exp2Syn[6670], Exp2Syn[6671], Exp2Syn[6672], Exp2Syn[6673], Exp2Syn[6674], Exp2Syn[6675], Exp2Syn[6676], Exp2Syn[6677], Exp2Syn[6678], Exp2Syn[6679], Exp2Syn[6680], Exp2Syn[6681], Exp2Syn[6682], Exp2Syn[6683], Exp2Syn[6684], Exp2Syn[6685], Exp2Syn[6686], Exp2Syn[6687], Exp2Syn[6688], Exp2Syn[6689], Exp2Syn[6690], Exp2Syn[6691], Exp2Syn[6692], Exp2Syn[6693], Exp2Syn[6694], Exp2Syn[6695], Exp2Syn[6696], Exp2Syn[6697], Exp2Syn[6698], Exp2Syn[6699], Exp2Syn[6700], Exp2Syn[6701], Exp2Syn[6702], Exp2Syn[6703], Exp2Syn[6704], Exp2Syn[6705], Exp2Syn[6706], Exp2Syn[6707], Exp2Syn[6708], Exp2Syn[6709], Exp2Syn[6710], Exp2Syn[6711], Exp2Syn[6712], Exp2Syn[6713], Exp2Syn[6714], Exp2Syn[6715], Exp2Syn[6716], Exp2Syn[6717], Exp2Syn[6718], Exp2Syn[6719], Exp2Syn[6720], Exp2Syn[6721], Exp2Syn[6722], Exp2Syn[6723], Exp2Syn[6724], Exp2Syn[6725], Exp2Syn[6726], Exp2Syn[6727], Exp2Syn[6728], Exp2Syn[6729], Exp2Syn[6730], Exp2Syn[6731], Exp2Syn[6732], Exp2Syn[6733], Exp2Syn[6734], Exp2Syn[6735], Exp2Syn[6736], Exp2Syn[6737], Exp2Syn[6738], Exp2Syn[6739], Exp2Syn[6740], Exp2Syn[6741], Exp2Syn[6742], Exp2Syn[6743], Exp2Syn[6744], Exp2Syn[6745], Exp2Syn[6746], Exp2Syn[6747], Exp2Syn[6748], Exp2Syn[6749], Exp2Syn[6750], Exp2Syn[6751], Exp2Syn[6752], Exp2Syn[6753], Exp2Syn[6754], Exp2Syn[6755], Exp2Syn[6756], Exp2Syn[6757], Exp2Syn[6758], Exp2Syn[6759], Exp2Syn[6760], Exp2Syn[6761], Exp2Syn[6762], Exp2Syn[6763], Exp2Syn[6764], Exp2Syn[6765], Exp2Syn[6766], Exp2Syn[6767], Exp2Syn[6768], Exp2Syn[6769], Exp2Syn[6770], Exp2Syn[6771], Exp2Syn[6772], Exp2Syn[6773], Exp2Syn[6774], Exp2Syn[6775], Exp2Syn[6776], Exp2Syn[6777], Exp2Syn[6778], Exp2Syn[6779], Exp2Syn[6780], Exp2Syn[6781], Exp2Syn[6782], Exp2Syn[6783], Exp2Syn[6784], Exp2Syn[6785], Exp2Syn[6786], Exp2Syn[6787], Exp2Syn[6788], Exp2Syn[6789], Exp2Syn[6790], Exp2Syn[6791], Exp2Syn[6792], Exp2Syn[6793], Exp2Syn[6794], Exp2Syn[6795], Exp2Syn[6796], Exp2Syn[6797], Exp2Syn[6798], Exp2Syn[6799], Exp2Syn[6800], Exp2Syn[6801], Exp2Syn[6802], Exp2Syn[6803], Exp2Syn[6804], Exp2Syn[6805], Exp2Syn[6806], Exp2Syn[6807], Exp2Syn[6808], Exp2Syn[6809], Exp2Syn[6810], Exp2Syn[6811], Exp2Syn[6812], Exp2Syn[6813], Exp2Syn[6814], Exp2Syn[6815], Exp2Syn[6816], Exp2Syn[6817], Exp2Syn[6818], Exp2Syn[6819], Exp2Syn[6820], Exp2Syn[6821], Exp2Syn[6822], Exp2Syn[6823], Exp2Syn[6824], Exp2Syn[6825], Exp2Syn[6826], Exp2Syn[6827], Exp2Syn[6828], Exp2Syn[6829], Exp2Syn[6830], Exp2Syn[6831], Exp2Syn[6832], Exp2Syn[6833], Exp2Syn[6834], Exp2Syn[6835], Exp2Syn[6836], Exp2Syn[6837], Exp2Syn[6838], Exp2Syn[6839], Exp2Syn[6840], Exp2Syn[6841], Exp2Syn[6842], Exp2Syn[6843], Exp2Syn[6844], Exp2Syn[6845], Exp2Syn[6846], Exp2Syn[6847], Exp2Syn[6848], Exp2Syn[6849], Exp2Syn[6850], Exp2Syn[6851], Exp2Syn[6852], Exp2Syn[6853], Exp2Syn[6854], Exp2Syn[6855], Exp2Syn[6856], Exp2Syn[6857], Exp2Syn[6858], Exp2Syn[6859], Exp2Syn[6860], Exp2Syn[6861], Exp2Syn[6862], Exp2Syn[6863], Exp2Syn[6864], Exp2Syn[6865], Exp2Syn[6866], Exp2Syn[6867], Exp2Syn[6868], Exp2Syn[6869], Exp2Syn[6870], Exp2Syn[6871], Exp2Syn[6872], Exp2Syn[6873], Exp2Syn[6874], Exp2Syn[6875], Exp2Syn[6876], Exp2Syn[6877], Exp2Syn[6878], Exp2Syn[6879], Exp2Syn[6880], Exp2Syn[6881], Exp2Syn[6882], Exp2Syn[6883], Exp2Syn[6884], Exp2Syn[6885], Exp2Syn[6886], Exp2Syn[6887], Exp2Syn[6888], Exp2Syn[6889], Exp2Syn[6890], Exp2Syn[6891], Exp2Syn[6892], Exp2Syn[6893], Exp2Syn[6894], Exp2Syn[6895], Exp2Syn[6896], Exp2Syn[6897], Exp2Syn[6898], Exp2Syn[6899], Exp2Syn[6900], Exp2Syn[6901], Exp2Syn[6902], Exp2Syn[6903], Exp2Syn[6904], Exp2Syn[6905], Exp2Syn[6906], Exp2Syn[6907], Exp2Syn[6908], Exp2Syn[6909], Exp2Syn[6910], Exp2Syn[6911], Exp2Syn[6912], Exp2Syn[6913], Exp2Syn[6914], Exp2Syn[6915], Exp2Syn[6916], Exp2Syn[6917], Exp2Syn[6918], Exp2Syn[6919], Exp2Syn[6920], Exp2Syn[6921], Exp2Syn[6922], Exp2Syn[6923], Exp2Syn[6924], Exp2Syn[6925], Exp2Syn[6926], Exp2Syn[6927], Exp2Syn[6928], Exp2Syn[6929], Exp2Syn[6930], Exp2Syn[6931], Exp2Syn[6932], Exp2Syn[6933], Exp2Syn[6934], Exp2Syn[6935], Exp2Syn[6936], Exp2Syn[6937], Exp2Syn[6938], Exp2Syn[6939], Exp2Syn[6940], Exp2Syn[6941], Exp2Syn[6942], Exp2Syn[6943], Exp2Syn[6944], Exp2Syn[6945], Exp2Syn[6946], Exp2Syn[6947], Exp2Syn[6948], Exp2Syn[6949], Exp2Syn[6950], Exp2Syn[6951], Exp2Syn[6952], Exp2Syn[6953], Exp2Syn[6954], Exp2Syn[6955], Exp2Syn[6956], Exp2Syn[6957], Exp2Syn[6958], Exp2Syn[6959], Exp2Syn[6960], Exp2Syn[6961], Exp2Syn[6962], Exp2Syn[6963], Exp2Syn[6964], Exp2Syn[6965], Exp2Syn[6966], Exp2Syn[6967], Exp2Syn[6968], Exp2Syn[6969], Exp2Syn[6970], Exp2Syn[6971], Exp2Syn[6972], Exp2Syn[6973], Exp2Syn[6974], Exp2Syn[6975], Exp2Syn[6976], Exp2Syn[6977], Exp2Syn[6978], Exp2Syn[6979], Exp2Syn[6980], Exp2Syn[6981], Exp2Syn[6982], Exp2Syn[6983], Exp2Syn[6984], Exp2Syn[6985], Exp2Syn[6986], Exp2Syn[6987], Exp2Syn[6988], Exp2Syn[6989], Exp2Syn[6990], Exp2Syn[6991], Exp2Syn[6992], Exp2Syn[6993], Exp2Syn[6994], Exp2Syn[6995], Exp2Syn[6996], Exp2Syn[6997], Exp2Syn[6998], Exp2Syn[6999], Exp2Syn[7000], Exp2Syn[7001], Exp2Syn[7002], Exp2Syn[7003], Exp2Syn[7004], Exp2Syn[7005], Exp2Syn[7006], Exp2Syn[7007], Exp2Syn[7008], Exp2Syn[7009], Exp2Syn[7010], Exp2Syn[7011], Exp2Syn[7012], Exp2Syn[7013], Exp2Syn[7014], Exp2Syn[7015], Exp2Syn[7016], Exp2Syn[7017], Exp2Syn[7018], Exp2Syn[7019], Exp2Syn[7020], Exp2Syn[7021], Exp2Syn[7022], Exp2Syn[7023], Exp2Syn[7024], Exp2Syn[7025], Exp2Syn[7026], Exp2Syn[7027], Exp2Syn[7028], Exp2Syn[7029], Exp2Syn[7030], Exp2Syn[7031], Exp2Syn[7032], Exp2Syn[7033], Exp2Syn[7034], Exp2Syn[7035], Exp2Syn[7036], Exp2Syn[7037], Exp2Syn[7038], Exp2Syn[7039], Exp2Syn[7040], Exp2Syn[7041], Exp2Syn[7042], Exp2Syn[7043], Exp2Syn[7044], Exp2Syn[7045], Exp2Syn[7046], Exp2Syn[7047], Exp2Syn[7048], Exp2Syn[7049], Exp2Syn[7050], Exp2Syn[7051], Exp2Syn[7052], Exp2Syn[7053], Exp2Syn[7054], Exp2Syn[7055], Exp2Syn[7056], Exp2Syn[7057], Exp2Syn[7058], Exp2Syn[7059], Exp2Syn[7060], Exp2Syn[7061], Exp2Syn[7062], Exp2Syn[7063], Exp2Syn[7064], Exp2Syn[7065], Exp2Syn[7066], Exp2Syn[7067], Exp2Syn[7068], Exp2Syn[7069], Exp2Syn[7070], Exp2Syn[7071], Exp2Syn[7072], Exp2Syn[7073], Exp2Syn[7074], Exp2Syn[7075], Exp2Syn[7076], Exp2Syn[7077], Exp2Syn[7078], Exp2Syn[7079], Exp2Syn[7080], Exp2Syn[7081], Exp2Syn[7082], Exp2Syn[7083], Exp2Syn[7084], Exp2Syn[7085], Exp2Syn[7086], Exp2Syn[7087], Exp2Syn[7088], Exp2Syn[7089], Exp2Syn[7090], Exp2Syn[7091], Exp2Syn[7092], Exp2Syn[7093], Exp2Syn[7094], Exp2Syn[7095], Exp2Syn[7096], Exp2Syn[7097], Exp2Syn[7098], Exp2Syn[7099], Exp2Syn[7100], Exp2Syn[7101], Exp2Syn[7102], Exp2Syn[7103], Exp2Syn[7104], Exp2Syn[7105], Exp2Syn[7106], Exp2Syn[7107], Exp2Syn[7108], Exp2Syn[7109], Exp2Syn[7110], Exp2Syn[7111], Exp2Syn[7112], Exp2Syn[7113], Exp2Syn[7114], Exp2Syn[7115], Exp2Syn[7116], Exp2Syn[7117], Exp2Syn[7118], Exp2Syn[7119], Exp2Syn[7120], Exp2Syn[7121], Exp2Syn[7122], Exp2Syn[7123], Exp2Syn[7124], Exp2Syn[7125], Exp2Syn[7126], Exp2Syn[7127], Exp2Syn[7128], Exp2Syn[7129], Exp2Syn[7130], Exp2Syn[7131], Exp2Syn[7132], Exp2Syn[7133], Exp2Syn[7134], Exp2Syn[7135], Exp2Syn[7136], Exp2Syn[7137], Exp2Syn[7138], Exp2Syn[7139], Exp2Syn[7140], Exp2Syn[7141], Exp2Syn[7142], Exp2Syn[7143], Exp2Syn[7144], Exp2Syn[7145], Exp2Syn[7146], Exp2Syn[7147], Exp2Syn[7148], Exp2Syn[7149], Exp2Syn[7150], Exp2Syn[7151], Exp2Syn[7152], Exp2Syn[7153], Exp2Syn[7154], Exp2Syn[7155], Exp2Syn[7156], Exp2Syn[7157], Exp2Syn[7158], Exp2Syn[7159], Exp2Syn[7160], Exp2Syn[7161], Exp2Syn[7162], Exp2Syn[7163], Exp2Syn[7164], Exp2Syn[7165], Exp2Syn[7166], Exp2Syn[7167], Exp2Syn[7168], Exp2Syn[7169], Exp2Syn[7170], Exp2Syn[7171], Exp2Syn[7172], Exp2Syn[7173], Exp2Syn[7174], Exp2Syn[7175], Exp2Syn[7176], Exp2Syn[7177], Exp2Syn[7178], Exp2Syn[7179], Exp2Syn[7180], Exp2Syn[7181], Exp2Syn[7182], Exp2Syn[7183], Exp2Syn[7184], Exp2Syn[7185], Exp2Syn[7186], Exp2Syn[7187], Exp2Syn[7188], Exp2Syn[7189], Exp2Syn[7190], Exp2Syn[7191], Exp2Syn[7192], Exp2Syn[7193], Exp2Syn[7194], Exp2Syn[7195], Exp2Syn[7196], Exp2Syn[7197], Exp2Syn[7198], Exp2Syn[7199], Exp2Syn[7200], Exp2Syn[7201], Exp2Syn[7202], Exp2Syn[7203], Exp2Syn[7204], Exp2Syn[7205], Exp2Syn[7206], Exp2Syn[7207], Exp2Syn[7208], Exp2Syn[7209], Exp2Syn[7210], Exp2Syn[7211], Exp2Syn[7212], Exp2Syn[7213], Exp2Syn[7214], Exp2Syn[7215], Exp2Syn[7216], Exp2Syn[7217], Exp2Syn[7218], Exp2Syn[7219], Exp2Syn[7220], Exp2Syn[7221], Exp2Syn[7222], Exp2Syn[7223], Exp2Syn[7224], Exp2Syn[7225], Exp2Syn[7226], Exp2Syn[7227], Exp2Syn[7228], Exp2Syn[7229], Exp2Syn[7230], Exp2Syn[7231], Exp2Syn[7232], Exp2Syn[7233], Exp2Syn[7234], Exp2Syn[7235], Exp2Syn[7236], Exp2Syn[7237], Exp2Syn[7238], Exp2Syn[7239], Exp2Syn[7240], Exp2Syn[7241], Exp2Syn[7242], Exp2Syn[7243], Exp2Syn[7244], Exp2Syn[7245], Exp2Syn[7246], Exp2Syn[7247], Exp2Syn[7248], Exp2Syn[7249], Exp2Syn[7250], Exp2Syn[7251], Exp2Syn[7252], Exp2Syn[7253], Exp2Syn[7254], Exp2Syn[7255], Exp2Syn[7256], Exp2Syn[7257], Exp2Syn[7258], Exp2Syn[7259], Exp2Syn[7260], Exp2Syn[7261], Exp2Syn[7262], Exp2Syn[7263], Exp2Syn[7264], Exp2Syn[7265], Exp2Syn[7266], Exp2Syn[7267], Exp2Syn[7268], Exp2Syn[7269], Exp2Syn[7270], Exp2Syn[7271], Exp2Syn[7272], Exp2Syn[7273], Exp2Syn[7274], Exp2Syn[7275], Exp2Syn[7276], Exp2Syn[7277], Exp2Syn[7278], Exp2Syn[7279], Exp2Syn[7280], Exp2Syn[7281], Exp2Syn[7282], Exp2Syn[7283], Exp2Syn[7284], Exp2Syn[7285], Exp2Syn[7286], Exp2Syn[7287], Exp2Syn[7288], Exp2Syn[7289], Exp2Syn[7290], Exp2Syn[7291], Exp2Syn[7292], Exp2Syn[7293], Exp2Syn[7294], Exp2Syn[7295], Exp2Syn[7296], Exp2Syn[7297], Exp2Syn[7298], Exp2Syn[7299], Exp2Syn[7300], Exp2Syn[7301], Exp2Syn[7302], Exp2Syn[7303], Exp2Syn[7304], Exp2Syn[7305], Exp2Syn[7306], Exp2Syn[7307], Exp2Syn[7308], Exp2Syn[7309], Exp2Syn[7310], Exp2Syn[7311], Exp2Syn[7312], Exp2Syn[7313], Exp2Syn[7314], Exp2Syn[7315], Exp2Syn[7316], Exp2Syn[7317], Exp2Syn[7318], Exp2Syn[7319], Exp2Syn[7320], Exp2Syn[7321], Exp2Syn[7322], Exp2Syn[7323], Exp2Syn[7324], Exp2Syn[7325], Exp2Syn[7326], Exp2Syn[7327], Exp2Syn[7328], Exp2Syn[7329], Exp2Syn[7330], Exp2Syn[7331], Exp2Syn[7332], Exp2Syn[7333], Exp2Syn[7334], Exp2Syn[7335], Exp2Syn[7336], Exp2Syn[7337], Exp2Syn[7338], Exp2Syn[7339], Exp2Syn[7340], Exp2Syn[7341], Exp2Syn[7342], Exp2Syn[7343], Exp2Syn[7344], Exp2Syn[7345], Exp2Syn[7346], Exp2Syn[7347], Exp2Syn[7348], Exp2Syn[7349], Exp2Syn[7350], Exp2Syn[7351], Exp2Syn[7352], Exp2Syn[7353], Exp2Syn[7354], Exp2Syn[7355], Exp2Syn[7356], Exp2Syn[7357], Exp2Syn[7358], Exp2Syn[7359], Exp2Syn[7360], Exp2Syn[7361], Exp2Syn[7362], Exp2Syn[7363], Exp2Syn[7364], Exp2Syn[7365], Exp2Syn[7366], Exp2Syn[7367], Exp2Syn[7368], Exp2Syn[7369], Exp2Syn[7370], Exp2Syn[7371], Exp2Syn[7372], Exp2Syn[7373], Exp2Syn[7374], Exp2Syn[7375], Exp2Syn[7376], Exp2Syn[7377], Exp2Syn[7378], Exp2Syn[7379], Exp2Syn[7380], Exp2Syn[7381], Exp2Syn[7382], Exp2Syn[7383], Exp2Syn[7384], Exp2Syn[7385], Exp2Syn[7386], Exp2Syn[7387], Exp2Syn[7388], Exp2Syn[7389], Exp2Syn[7390], Exp2Syn[7391], Exp2Syn[7392], Exp2Syn[7393], Exp2Syn[7394], Exp2Syn[7395], Exp2Syn[7396], Exp2Syn[7397], Exp2Syn[7398], Exp2Syn[7399], Exp2Syn[7400], Exp2Syn[7401], Exp2Syn[7402], Exp2Syn[7403], Exp2Syn[7404], Exp2Syn[7405], Exp2Syn[7406], Exp2Syn[7407], Exp2Syn[7408], Exp2Syn[7409], Exp2Syn[7410], Exp2Syn[7411], Exp2Syn[7412], Exp2Syn[7413], Exp2Syn[7414], Exp2Syn[7415], Exp2Syn[7416], Exp2Syn[7417], Exp2Syn[7418], Exp2Syn[7419], Exp2Syn[7420], Exp2Syn[7421], Exp2Syn[7422], Exp2Syn[7423], Exp2Syn[7424], Exp2Syn[7425], Exp2Syn[7426], Exp2Syn[7427], Exp2Syn[7428], Exp2Syn[7429], Exp2Syn[7430], Exp2Syn[7431], Exp2Syn[7432], Exp2Syn[7433], Exp2Syn[7434], Exp2Syn[7435], Exp2Syn[7436], Exp2Syn[7437], Exp2Syn[7438], Exp2Syn[7439], Exp2Syn[7440], Exp2Syn[7441], Exp2Syn[7442], Exp2Syn[7443], Exp2Syn[7444], Exp2Syn[7445], Exp2Syn[7446], Exp2Syn[7447], Exp2Syn[7448], Exp2Syn[7449], Exp2Syn[7450], Exp2Syn[7451], Exp2Syn[7452], Exp2Syn[7453], Exp2Syn[7454], Exp2Syn[7455], Exp2Syn[7456], Exp2Syn[7457], Exp2Syn[7458], Exp2Syn[7459], Exp2Syn[7460], Exp2Syn[7461], Exp2Syn[7462], Exp2Syn[7463], Exp2Syn[7464], Exp2Syn[7465], Exp2Syn[7466], Exp2Syn[7467], Exp2Syn[7468], Exp2Syn[7469], Exp2Syn[7470], Exp2Syn[7471], Exp2Syn[7472], Exp2Syn[7473], Exp2Syn[7474], Exp2Syn[7475], Exp2Syn[7476], Exp2Syn[7477], Exp2Syn[7478], Exp2Syn[7479], Exp2Syn[7480], Exp2Syn[7481], Exp2Syn[7482], Exp2Syn[7483], Exp2Syn[7484], Exp2Syn[7485], Exp2Syn[7486], Exp2Syn[7487], Exp2Syn[7488], Exp2Syn[7489], Exp2Syn[7490], Exp2Syn[7491], Exp2Syn[7492], Exp2Syn[7493], Exp2Syn[7494], Exp2Syn[7495], Exp2Syn[7496], Exp2Syn[7497], Exp2Syn[7498], Exp2Syn[7499], Exp2Syn[7500], Exp2Syn[7501], Exp2Syn[7502], Exp2Syn[7503], Exp2Syn[7504], Exp2Syn[7505], Exp2Syn[7506], Exp2Syn[7507], Exp2Syn[7508], Exp2Syn[7509], Exp2Syn[7510], Exp2Syn[7511], Exp2Syn[7512], Exp2Syn[7513], Exp2Syn[7514], Exp2Syn[7515], Exp2Syn[7516], Exp2Syn[7517], Exp2Syn[7518], Exp2Syn[7519], Exp2Syn[7520], Exp2Syn[7521], Exp2Syn[7522], Exp2Syn[7523], Exp2Syn[7524], Exp2Syn[7525], Exp2Syn[7526], Exp2Syn[7527], Exp2Syn[7528], Exp2Syn[7529], Exp2Syn[7530], Exp2Syn[7531], Exp2Syn[7532], Exp2Syn[7533], Exp2Syn[7534], Exp2Syn[7535], Exp2Syn[7536], Exp2Syn[7537], Exp2Syn[7538], Exp2Syn[7539], Exp2Syn[7540], Exp2Syn[7541], Exp2Syn[7542], Exp2Syn[7543], Exp2Syn[7544], Exp2Syn[7545], Exp2Syn[7546], Exp2Syn[7547], Exp2Syn[7548], Exp2Syn[7549], Exp2Syn[7550], Exp2Syn[7551], Exp2Syn[7552], Exp2Syn[7553], Exp2Syn[7554], Exp2Syn[7555], Exp2Syn[7556], Exp2Syn[7557], Exp2Syn[7558], Exp2Syn[7559], Exp2Syn[7560], Exp2Syn[7561], Exp2Syn[7562], Exp2Syn[7563], Exp2Syn[7564], Exp2Syn[7565], Exp2Syn[7566], Exp2Syn[7567], Exp2Syn[7568], Exp2Syn[7569], Exp2Syn[7570], Exp2Syn[7571], Exp2Syn[7572], Exp2Syn[7573], Exp2Syn[7574], Exp2Syn[7575], Exp2Syn[7576], Exp2Syn[7577], Exp2Syn[7578], Exp2Syn[7579], Exp2Syn[7580], Exp2Syn[7581], Exp2Syn[7582], Exp2Syn[7583], Exp2Syn[7584], Exp2Syn[7585], Exp2Syn[7586], Exp2Syn[7587], Exp2Syn[7588], Exp2Syn[7589], Exp2Syn[7590], Exp2Syn[7591], Exp2Syn[7592], Exp2Syn[7593], Exp2Syn[7594], Exp2Syn[7595], Exp2Syn[7596], Exp2Syn[7597], Exp2Syn[7598], Exp2Syn[7599], Exp2Syn[7600], Exp2Syn[7601], Exp2Syn[7602], Exp2Syn[7603], Exp2Syn[7604], Exp2Syn[7605], Exp2Syn[7606], Exp2Syn[7607], Exp2Syn[7608], Exp2Syn[7609], Exp2Syn[7610], Exp2Syn[7611], Exp2Syn[7612], Exp2Syn[7613], Exp2Syn[7614], Exp2Syn[7615], Exp2Syn[7616], Exp2Syn[7617], Exp2Syn[7618], Exp2Syn[7619], Exp2Syn[7620], Exp2Syn[7621], Exp2Syn[7622], Exp2Syn[7623], Exp2Syn[7624], Exp2Syn[7625], Exp2Syn[7626], Exp2Syn[7627], Exp2Syn[7628], Exp2Syn[7629], Exp2Syn[7630], Exp2Syn[7631], Exp2Syn[7632], Exp2Syn[7633], Exp2Syn[7634], Exp2Syn[7635], Exp2Syn[7636], Exp2Syn[7637], Exp2Syn[7638], Exp2Syn[7639], Exp2Syn[7640], Exp2Syn[7641], Exp2Syn[7642], Exp2Syn[7643], Exp2Syn[7644], Exp2Syn[7645], Exp2Syn[7646], Exp2Syn[7647], Exp2Syn[7648], Exp2Syn[7649], Exp2Syn[7650], Exp2Syn[7651], Exp2Syn[7652], Exp2Syn[7653], Exp2Syn[7654], Exp2Syn[7655], Exp2Syn[7656], Exp2Syn[7657], Exp2Syn[7658], Exp2Syn[7659], Exp2Syn[7660], Exp2Syn[7661], Exp2Syn[7662], Exp2Syn[7663], Exp2Syn[7664], Exp2Syn[7665], Exp2Syn[7666], Exp2Syn[7667], Exp2Syn[7668], Exp2Syn[7669], Exp2Syn[7670], Exp2Syn[7671], Exp2Syn[7672], Exp2Syn[7673], Exp2Syn[7674], Exp2Syn[7675], Exp2Syn[7676], Exp2Syn[7677], Exp2Syn[7678], Exp2Syn[7679], Exp2Syn[7680], Exp2Syn[7681], Exp2Syn[7682], Exp2Syn[7683], Exp2Syn[7684], Exp2Syn[7685], Exp2Syn[7686], Exp2Syn[7687], Exp2Syn[7688], Exp2Syn[7689], Exp2Syn[7690], Exp2Syn[7691], Exp2Syn[7692], Exp2Syn[7693], Exp2Syn[7694], Exp2Syn[7695], Exp2Syn[7696], Exp2Syn[7697], Exp2Syn[7698], Exp2Syn[7699], Exp2Syn[7700], Exp2Syn[7701], Exp2Syn[7702], Exp2Syn[7703], Exp2Syn[7704], Exp2Syn[7705], Exp2Syn[7706], Exp2Syn[7707], Exp2Syn[7708], Exp2Syn[7709], Exp2Syn[7710], Exp2Syn[7711], Exp2Syn[7712], Exp2Syn[7713], Exp2Syn[7714], Exp2Syn[7715], Exp2Syn[7716], Exp2Syn[7717], Exp2Syn[7718], Exp2Syn[7719], Exp2Syn[7720], Exp2Syn[7721], Exp2Syn[7722], Exp2Syn[7723], Exp2Syn[7724], Exp2Syn[7725], Exp2Syn[7726], Exp2Syn[7727], Exp2Syn[7728], Exp2Syn[7729], Exp2Syn[7730], Exp2Syn[7731], Exp2Syn[7732], Exp2Syn[7733], Exp2Syn[7734], Exp2Syn[7735], Exp2Syn[7736], Exp2Syn[7737], Exp2Syn[7738], Exp2Syn[7739], Exp2Syn[7740], Exp2Syn[7741], Exp2Syn[7742], Exp2Syn[7743], Exp2Syn[7744], Exp2Syn[7745], Exp2Syn[7746], Exp2Syn[7747], Exp2Syn[7748], Exp2Syn[7749], Exp2Syn[7750], Exp2Syn[7751], Exp2Syn[7752], Exp2Syn[7753], Exp2Syn[7754], Exp2Syn[7755], Exp2Syn[7756], Exp2Syn[7757], Exp2Syn[7758], Exp2Syn[7759], Exp2Syn[7760], Exp2Syn[7761], Exp2Syn[7762], Exp2Syn[7763], Exp2Syn[7764], Exp2Syn[7765], Exp2Syn[7766], Exp2Syn[7767], Exp2Syn[7768], Exp2Syn[7769], Exp2Syn[7770], Exp2Syn[7771], Exp2Syn[7772], Exp2Syn[7773], Exp2Syn[7774], Exp2Syn[7775], Exp2Syn[7776], Exp2Syn[7777], Exp2Syn[7778], Exp2Syn[7779], Exp2Syn[7780], Exp2Syn[7781], Exp2Syn[7782], Exp2Syn[7783], Exp2Syn[7784], Exp2Syn[7785], Exp2Syn[7786], Exp2Syn[7787], Exp2Syn[7788], Exp2Syn[7789], Exp2Syn[7790], Exp2Syn[7791], Exp2Syn[7792], Exp2Syn[7793], Exp2Syn[7794], Exp2Syn[7795], Exp2Syn[7796], Exp2Syn[7797], Exp2Syn[7798], Exp2Syn[7799], Exp2Syn[7800], Exp2Syn[7801], Exp2Syn[7802], Exp2Syn[7803], Exp2Syn[7804], Exp2Syn[7805], Exp2Syn[7806], Exp2Syn[7807], Exp2Syn[7808], Exp2Syn[7809], Exp2Syn[7810], Exp2Syn[7811], Exp2Syn[7812], Exp2Syn[7813], Exp2Syn[7814], Exp2Syn[7815], Exp2Syn[7816], Exp2Syn[7817], Exp2Syn[7818], Exp2Syn[7819], Exp2Syn[7820], Exp2Syn[7821], Exp2Syn[7822], Exp2Syn[7823], Exp2Syn[7824], Exp2Syn[7825], Exp2Syn[7826], Exp2Syn[7827], Exp2Syn[7828], Exp2Syn[7829], Exp2Syn[7830], Exp2Syn[7831], Exp2Syn[7832], Exp2Syn[7833], Exp2Syn[7834], Exp2Syn[7835], Exp2Syn[7836], Exp2Syn[7837], Exp2Syn[7838], Exp2Syn[7839], Exp2Syn[7840], Exp2Syn[7841], Exp2Syn[7842], Exp2Syn[7843], Exp2Syn[7844], Exp2Syn[7845], Exp2Syn[7846], Exp2Syn[7847], Exp2Syn[7848], Exp2Syn[7849], Exp2Syn[7850], Exp2Syn[7851], Exp2Syn[7852], Exp2Syn[7853], Exp2Syn[7854], Exp2Syn[7855], Exp2Syn[7856], Exp2Syn[7857], Exp2Syn[7858], Exp2Syn[7859], Exp2Syn[7860], Exp2Syn[7861], Exp2Syn[7862], Exp2Syn[7863], Exp2Syn[7864], Exp2Syn[7865], Exp2Syn[7866], Exp2Syn[7867], Exp2Syn[7868], Exp2Syn[7869], Exp2Syn[7870], Exp2Syn[7871], Exp2Syn[7872], Exp2Syn[7873], Exp2Syn[7874], Exp2Syn[7875], Exp2Syn[7876], Exp2Syn[7877], Exp2Syn[7878], Exp2Syn[7879], Exp2Syn[7880], Exp2Syn[7881], Exp2Syn[7882], Exp2Syn[7883], Exp2Syn[7884], Exp2Syn[7885], Exp2Syn[7886], Exp2Syn[7887], Exp2Syn[7888], Exp2Syn[7889], Exp2Syn[7890], Exp2Syn[7891], Exp2Syn[7892], Exp2Syn[7893], Exp2Syn[7894], Exp2Syn[7895], Exp2Syn[7896], Exp2Syn[7897], Exp2Syn[7898], Exp2Syn[7899], Exp2Syn[7900], Exp2Syn[7901], Exp2Syn[7902], Exp2Syn[7903], Exp2Syn[7904], Exp2Syn[7905], Exp2Syn[7906], Exp2Syn[7907], Exp2Syn[7908], Exp2Syn[7909], Exp2Syn[7910], Exp2Syn[7911], Exp2Syn[7912], Exp2Syn[7913], Exp2Syn[7914], Exp2Syn[7915], Exp2Syn[7916], Exp2Syn[7917], Exp2Syn[7918], Exp2Syn[7919], Exp2Syn[7920], Exp2Syn[7921], Exp2Syn[7922], Exp2Syn[7923], Exp2Syn[7924], Exp2Syn[7925], Exp2Syn[7926], Exp2Syn[7927], Exp2Syn[7928], Exp2Syn[7929], Exp2Syn[7930], Exp2Syn[7931], Exp2Syn[7932], Exp2Syn[7933], Exp2Syn[7934], Exp2Syn[7935], Exp2Syn[7936], Exp2Syn[7937], Exp2Syn[7938], Exp2Syn[7939], Exp2Syn[7940], Exp2Syn[7941], Exp2Syn[7942], Exp2Syn[7943], Exp2Syn[7944], Exp2Syn[7945], Exp2Syn[7946], Exp2Syn[7947], Exp2Syn[7948], Exp2Syn[7949], Exp2Syn[7950], Exp2Syn[7951], Exp2Syn[7952], Exp2Syn[7953], Exp2Syn[7954], Exp2Syn[7955], Exp2Syn[7956], Exp2Syn[7957], Exp2Syn[7958], Exp2Syn[7959], Exp2Syn[7960], Exp2Syn[7961], Exp2Syn[7962], Exp2Syn[7963], Exp2Syn[7964], Exp2Syn[7965], Exp2Syn[7966], Exp2Syn[7967], Exp2Syn[7968], Exp2Syn[7969], Exp2Syn[7970], Exp2Syn[7971], Exp2Syn[7972], Exp2Syn[7973], Exp2Syn[7974], Exp2Syn[7975], Exp2Syn[7976], Exp2Syn[7977], Exp2Syn[7978], Exp2Syn[7979], Exp2Syn[7980], Exp2Syn[7981], Exp2Syn[7982], Exp2Syn[7983], Exp2Syn[7984], Exp2Syn[7985], Exp2Syn[7986], Exp2Syn[7987], Exp2Syn[7988], Exp2Syn[7989], Exp2Syn[7990], Exp2Syn[7991], Exp2Syn[7992], Exp2Syn[7993], Exp2Syn[7994], Exp2Syn[7995], Exp2Syn[7996], Exp2Syn[7997], Exp2Syn[7998], Exp2Syn[7999], Exp2Syn[8000], Exp2Syn[8001], Exp2Syn[8002], Exp2Syn[8003], Exp2Syn[8004], Exp2Syn[8005], Exp2Syn[8006], Exp2Syn[8007], Exp2Syn[8008], Exp2Syn[8009], Exp2Syn[8010], Exp2Syn[8011], Exp2Syn[8012], Exp2Syn[8013], Exp2Syn[8014], Exp2Syn[8015], Exp2Syn[8016], Exp2Syn[8017], Exp2Syn[8018], Exp2Syn[8019], Exp2Syn[8020], Exp2Syn[8021], Exp2Syn[8022], Exp2Syn[8023], Exp2Syn[8024], Exp2Syn[8025], Exp2Syn[8026], Exp2Syn[8027], Exp2Syn[8028], Exp2Syn[8029], Exp2Syn[8030], Exp2Syn[8031], Exp2Syn[8032], Exp2Syn[8033], Exp2Syn[8034], Exp2Syn[8035], Exp2Syn[8036], Exp2Syn[8037], Exp2Syn[8038], Exp2Syn[8039], Exp2Syn[8040], Exp2Syn[8041], Exp2Syn[8042], Exp2Syn[8043], Exp2Syn[8044], Exp2Syn[8045], Exp2Syn[8046], Exp2Syn[8047], Exp2Syn[8048], Exp2Syn[8049], Exp2Syn[8050], Exp2Syn[8051], Exp2Syn[8052], Exp2Syn[8053], Exp2Syn[8054], Exp2Syn[8055], Exp2Syn[8056], Exp2Syn[8057], Exp2Syn[8058], Exp2Syn[8059], Exp2Syn[8060], Exp2Syn[8061], Exp2Syn[8062], Exp2Syn[8063], Exp2Syn[8064], Exp2Syn[8065], Exp2Syn[8066], Exp2Syn[8067], Exp2Syn[8068], Exp2Syn[8069], Exp2Syn[8070], Exp2Syn[8071], Exp2Syn[8072], Exp2Syn[8073], Exp2Syn[8074], Exp2Syn[8075], Exp2Syn[8076], Exp2Syn[8077], Exp2Syn[8078], Exp2Syn[8079], Exp2Syn[8080], Exp2Syn[8081], Exp2Syn[8082], Exp2Syn[8083], Exp2Syn[8084], Exp2Syn[8085], Exp2Syn[8086], Exp2Syn[8087], Exp2Syn[8088], Exp2Syn[8089], Exp2Syn[8090], Exp2Syn[8091], Exp2Syn[8092], Exp2Syn[8093], Exp2Syn[8094], Exp2Syn[8095], Exp2Syn[8096], Exp2Syn[8097], Exp2Syn[8098], Exp2Syn[8099], Exp2Syn[8100], Exp2Syn[8101], Exp2Syn[8102], Exp2Syn[8103], Exp2Syn[8104], Exp2Syn[8105], Exp2Syn[8106], Exp2Syn[8107], Exp2Syn[8108], Exp2Syn[8109], Exp2Syn[8110], Exp2Syn[8111], Exp2Syn[8112], Exp2Syn[8113], Exp2Syn[8114], Exp2Syn[8115], Exp2Syn[8116], Exp2Syn[8117], Exp2Syn[8118], Exp2Syn[8119], Exp2Syn[8120], Exp2Syn[8121], Exp2Syn[8122], Exp2Syn[8123], Exp2Syn[8124], Exp2Syn[8125], Exp2Syn[8126], Exp2Syn[8127], Exp2Syn[8128], Exp2Syn[8129], Exp2Syn[8130], Exp2Syn[8131], Exp2Syn[8132], Exp2Syn[8133], Exp2Syn[8134], Exp2Syn[8135], Exp2Syn[8136], Exp2Syn[8137], Exp2Syn[8138], Exp2Syn[8139], Exp2Syn[8140], Exp2Syn[8141], Exp2Syn[8142], Exp2Syn[8143], Exp2Syn[8144], Exp2Syn[8145], Exp2Syn[8146], Exp2Syn[8147], Exp2Syn[8148], Exp2Syn[8149], Exp2Syn[8150], Exp2Syn[8151], Exp2Syn[8152], Exp2Syn[8153], Exp2Syn[8154], Exp2Syn[8155], Exp2Syn[8156], Exp2Syn[8157], Exp2Syn[8158], Exp2Syn[8159], Exp2Syn[8160], Exp2Syn[8161], Exp2Syn[8162], Exp2Syn[8163], Exp2Syn[8164], Exp2Syn[8165], Exp2Syn[8166], Exp2Syn[8167], Exp2Syn[8168], Exp2Syn[8169], Exp2Syn[8170], Exp2Syn[8171], Exp2Syn[8172], Exp2Syn[8173], Exp2Syn[8174], Exp2Syn[8175], Exp2Syn[8176], Exp2Syn[8177], Exp2Syn[8178], Exp2Syn[8179], Exp2Syn[8180], Exp2Syn[8181], Exp2Syn[8182], Exp2Syn[8183], Exp2Syn[8184], Exp2Syn[8185], Exp2Syn[8186], Exp2Syn[8187], Exp2Syn[8188], Exp2Syn[8189], Exp2Syn[8190], Exp2Syn[8191], Exp2Syn[8192], Exp2Syn[8193], Exp2Syn[8194], Exp2Syn[8195], Exp2Syn[8196], Exp2Syn[8197], Exp2Syn[8198], Exp2Syn[8199], Exp2Syn[8200], Exp2Syn[8201], Exp2Syn[8202], Exp2Syn[8203], Exp2Syn[8204], Exp2Syn[8205], Exp2Syn[8206], Exp2Syn[8207], Exp2Syn[8208], Exp2Syn[8209], Exp2Syn[8210], Exp2Syn[8211], Exp2Syn[8212], Exp2Syn[8213], Exp2Syn[8214], Exp2Syn[8215], Exp2Syn[8216], Exp2Syn[8217], Exp2Syn[8218], Exp2Syn[8219], Exp2Syn[8220], Exp2Syn[8221], Exp2Syn[8222], Exp2Syn[8223], Exp2Syn[8224], Exp2Syn[8225], Exp2Syn[8226], Exp2Syn[8227], Exp2Syn[8228], Exp2Syn[8229], Exp2Syn[8230], Exp2Syn[8231], Exp2Syn[8232], Exp2Syn[8233], Exp2Syn[8234], Exp2Syn[8235], Exp2Syn[8236], Exp2Syn[8237], Exp2Syn[8238], Exp2Syn[8239], Exp2Syn[8240], Exp2Syn[8241], Exp2Syn[8242], Exp2Syn[8243], Exp2Syn[8244], Exp2Syn[8245], Exp2Syn[8246], Exp2Syn[8247], Exp2Syn[8248], Exp2Syn[8249], Exp2Syn[8250], Exp2Syn[8251], Exp2Syn[8252], Exp2Syn[8253], Exp2Syn[8254], Exp2Syn[8255], Exp2Syn[8256], Exp2Syn[8257], Exp2Syn[8258], Exp2Syn[8259], Exp2Syn[8260], Exp2Syn[8261], Exp2Syn[8262], Exp2Syn[8263], Exp2Syn[8264], Exp2Syn[8265], Exp2Syn[8266], Exp2Syn[8267], Exp2Syn[8268], Exp2Syn[8269], Exp2Syn[8270], Exp2Syn[8271], Exp2Syn[8272], Exp2Syn[8273], Exp2Syn[8274], Exp2Syn[8275], Exp2Syn[8276], Exp2Syn[8277], Exp2Syn[8278], Exp2Syn[8279], Exp2Syn[8280], Exp2Syn[8281], Exp2Syn[8282], Exp2Syn[8283], Exp2Syn[8284], Exp2Syn[8285], Exp2Syn[8286], Exp2Syn[8287], Exp2Syn[8288], Exp2Syn[8289], Exp2Syn[8290], Exp2Syn[8291], Exp2Syn[8292], Exp2Syn[8293], Exp2Syn[8294], Exp2Syn[8295], Exp2Syn[8296], Exp2Syn[8297], Exp2Syn[8298], Exp2Syn[8299], Exp2Syn[8300], Exp2Syn[8301], Exp2Syn[8302], Exp2Syn[8303], Exp2Syn[8304], Exp2Syn[8305], Exp2Syn[8306], Exp2Syn[8307], Exp2Syn[8308], Exp2Syn[8309], Exp2Syn[8310], Exp2Syn[8311], Exp2Syn[8312], Exp2Syn[8313], Exp2Syn[8314], Exp2Syn[8315], Exp2Syn[8316], Exp2Syn[8317], Exp2Syn[8318], Exp2Syn[8319], Exp2Syn[8320], Exp2Syn[8321], Exp2Syn[8322], Exp2Syn[8323], Exp2Syn[8324], Exp2Syn[8325], Exp2Syn[8326], Exp2Syn[8327], Exp2Syn[8328], Exp2Syn[8329], Exp2Syn[8330], Exp2Syn[8331], Exp2Syn[8332], Exp2Syn[8333], Exp2Syn[8334], Exp2Syn[8335], Exp2Syn[8336], Exp2Syn[8337], Exp2Syn[8338], Exp2Syn[8339], Exp2Syn[8340], Exp2Syn[8341], Exp2Syn[8342], Exp2Syn[8343], Exp2Syn[8344], Exp2Syn[8345], Exp2Syn[8346], Exp2Syn[8347], Exp2Syn[8348], Exp2Syn[8349], Exp2Syn[8350], Exp2Syn[8351], Exp2Syn[8352], Exp2Syn[8353], Exp2Syn[8354], Exp2Syn[8355], Exp2Syn[8356], Exp2Syn[8357], Exp2Syn[8358], Exp2Syn[8359], Exp2Syn[8360], Exp2Syn[8361], Exp2Syn[8362], Exp2Syn[8363], Exp2Syn[8364], Exp2Syn[8365], Exp2Syn[8366], Exp2Syn[8367], Exp2Syn[8368], Exp2Syn[8369], Exp2Syn[8370], Exp2Syn[8371], Exp2Syn[8372], Exp2Syn[8373], Exp2Syn[8374], Exp2Syn[8375], Exp2Syn[8376], Exp2Syn[8377], Exp2Syn[8378], Exp2Syn[8379], Exp2Syn[8380], Exp2Syn[8381], Exp2Syn[8382], Exp2Syn[8383], Exp2Syn[8384], Exp2Syn[8385], Exp2Syn[8386], Exp2Syn[8387], Exp2Syn[8388], Exp2Syn[8389], Exp2Syn[8390], Exp2Syn[8391], Exp2Syn[8392], Exp2Syn[8393], Exp2Syn[8394], Exp2Syn[8395], Exp2Syn[8396], Exp2Syn[8397], Exp2Syn[8398], Exp2Syn[8399], Exp2Syn[8400], Exp2Syn[8401], Exp2Syn[8402], Exp2Syn[8403], Exp2Syn[8404], Exp2Syn[8405], Exp2Syn[8406], Exp2Syn[8407], Exp2Syn[8408], Exp2Syn[8409], Exp2Syn[8410], Exp2Syn[8411], Exp2Syn[8412], Exp2Syn[8413], Exp2Syn[8414], Exp2Syn[8415], Exp2Syn[8416], Exp2Syn[8417], Exp2Syn[8418], Exp2Syn[8419], Exp2Syn[8420], Exp2Syn[8421], Exp2Syn[8422], Exp2Syn[8423], Exp2Syn[8424], Exp2Syn[8425], Exp2Syn[8426], Exp2Syn[8427], Exp2Syn[8428], Exp2Syn[8429], Exp2Syn[8430], Exp2Syn[8431], Exp2Syn[8432], Exp2Syn[8433], Exp2Syn[8434], Exp2Syn[8435], Exp2Syn[8436], Exp2Syn[8437], Exp2Syn[8438], Exp2Syn[8439], Exp2Syn[8440], Exp2Syn[8441], Exp2Syn[8442], Exp2Syn[8443], Exp2Syn[8444], Exp2Syn[8445], Exp2Syn[8446], Exp2Syn[8447], Exp2Syn[8448], Exp2Syn[8449], Exp2Syn[8450], Exp2Syn[8451], Exp2Syn[8452], Exp2Syn[8453], Exp2Syn[8454], Exp2Syn[8455], Exp2Syn[8456], Exp2Syn[8457], Exp2Syn[8458], Exp2Syn[8459], Exp2Syn[8460], Exp2Syn[8461], Exp2Syn[8462], Exp2Syn[8463], Exp2Syn[8464], Exp2Syn[8465], Exp2Syn[8466], Exp2Syn[8467], Exp2Syn[8468], Exp2Syn[8469], Exp2Syn[8470], Exp2Syn[8471], Exp2Syn[8472], Exp2Syn[8473], Exp2Syn[8474], Exp2Syn[8475], Exp2Syn[8476], Exp2Syn[8477], Exp2Syn[8478], Exp2Syn[8479], Exp2Syn[8480], Exp2Syn[8481], Exp2Syn[8482], Exp2Syn[8483], Exp2Syn[8484], Exp2Syn[8485], Exp2Syn[8486], Exp2Syn[8487], Exp2Syn[8488], Exp2Syn[8489], Exp2Syn[8490], Exp2Syn[8491], Exp2Syn[8492], Exp2Syn[8493], Exp2Syn[8494], Exp2Syn[8495], Exp2Syn[8496], Exp2Syn[8497], Exp2Syn[8498], Exp2Syn[8499], Exp2Syn[8500], Exp2Syn[8501], Exp2Syn[8502], Exp2Syn[8503], Exp2Syn[8504], Exp2Syn[8505], Exp2Syn[8506], Exp2Syn[8507], Exp2Syn[8508], Exp2Syn[8509], Exp2Syn[8510], Exp2Syn[8511], Exp2Syn[8512], Exp2Syn[8513], Exp2Syn[8514], Exp2Syn[8515], Exp2Syn[8516], Exp2Syn[8517], Exp2Syn[8518], Exp2Syn[8519], Exp2Syn[8520], Exp2Syn[8521], Exp2Syn[8522], Exp2Syn[8523], Exp2Syn[8524], Exp2Syn[8525], Exp2Syn[8526], Exp2Syn[8527], Exp2Syn[8528], Exp2Syn[8529], Exp2Syn[8530], Exp2Syn[8531], Exp2Syn[8532], Exp2Syn[8533], Exp2Syn[8534], Exp2Syn[8535], Exp2Syn[8536], Exp2Syn[8537], Exp2Syn[8538], Exp2Syn[8539], Exp2Syn[8540], Exp2Syn[8541], Exp2Syn[8542], Exp2Syn[8543], Exp2Syn[8544], Exp2Syn[8545], Exp2Syn[8546], Exp2Syn[8547], Exp2Syn[8548], Exp2Syn[8549], Exp2Syn[8550], Exp2Syn[8551], Exp2Syn[8552], Exp2Syn[8553], Exp2Syn[8554], Exp2Syn[8555], Exp2Syn[8556], Exp2Syn[8557], Exp2Syn[8558], Exp2Syn[8559], Exp2Syn[8560], Exp2Syn[8561], Exp2Syn[8562], Exp2Syn[8563], Exp2Syn[8564], Exp2Syn[8565], Exp2Syn[8566], Exp2Syn[8567], Exp2Syn[8568], Exp2Syn[8569], Exp2Syn[8570], Exp2Syn[8571], Exp2Syn[8572], Exp2Syn[8573], Exp2Syn[8574], Exp2Syn[8575], Exp2Syn[8576], Exp2Syn[8577], Exp2Syn[8578], Exp2Syn[8579], Exp2Syn[8580], Exp2Syn[8581], Exp2Syn[8582], Exp2Syn[8583], Exp2Syn[8584], Exp2Syn[8585], Exp2Syn[8586], Exp2Syn[8587], Exp2Syn[8588], Exp2Syn[8589], Exp2Syn[8590], Exp2Syn[8591], Exp2Syn[8592], Exp2Syn[8593], Exp2Syn[8594], Exp2Syn[8595], Exp2Syn[8596], Exp2Syn[8597], Exp2Syn[8598], Exp2Syn[8599], Exp2Syn[8600], Exp2Syn[8601], Exp2Syn[8602], Exp2Syn[8603], Exp2Syn[8604], Exp2Syn[8605], Exp2Syn[8606], Exp2Syn[8607], Exp2Syn[8608], Exp2Syn[8609], Exp2Syn[8610], Exp2Syn[8611], Exp2Syn[8612], Exp2Syn[8613], Exp2Syn[8614], Exp2Syn[8615], Exp2Syn[8616], Exp2Syn[8617], Exp2Syn[8618], Exp2Syn[8619], Exp2Syn[8620], Exp2Syn[8621], Exp2Syn[8622], Exp2Syn[8623], Exp2Syn[8624], Exp2Syn[8625], Exp2Syn[8626], Exp2Syn[8627], Exp2Syn[8628], Exp2Syn[8629], Exp2Syn[8630], Exp2Syn[8631], Exp2Syn[8632], Exp2Syn[8633], Exp2Syn[8634], Exp2Syn[8635], Exp2Syn[8636], Exp2Syn[8637], Exp2Syn[8638], Exp2Syn[8639], Exp2Syn[8640], Exp2Syn[8641], Exp2Syn[8642], Exp2Syn[8643], Exp2Syn[8644], Exp2Syn[8645], Exp2Syn[8646], Exp2Syn[8647], Exp2Syn[8648], Exp2Syn[8649], Exp2Syn[8650], Exp2Syn[8651], Exp2Syn[8652], Exp2Syn[8653], Exp2Syn[8654], Exp2Syn[8655], Exp2Syn[8656], Exp2Syn[8657], Exp2Syn[8658], Exp2Syn[8659], Exp2Syn[8660], Exp2Syn[8661], Exp2Syn[8662], Exp2Syn[8663], Exp2Syn[8664], Exp2Syn[8665], Exp2Syn[8666], Exp2Syn[8667], Exp2Syn[8668], Exp2Syn[8669], Exp2Syn[8670], Exp2Syn[8671], Exp2Syn[8672], Exp2Syn[8673], Exp2Syn[8674], Exp2Syn[8675], Exp2Syn[8676], Exp2Syn[8677], Exp2Syn[8678], Exp2Syn[8679], Exp2Syn[8680], Exp2Syn[8681], Exp2Syn[8682], Exp2Syn[8683], Exp2Syn[8684], Exp2Syn[8685], Exp2Syn[8686], Exp2Syn[8687], Exp2Syn[8688], Exp2Syn[8689], Exp2Syn[8690], Exp2Syn[8691], Exp2Syn[8692], Exp2Syn[8693], Exp2Syn[8694], Exp2Syn[8695], Exp2Syn[8696], Exp2Syn[8697], Exp2Syn[8698], Exp2Syn[8699], Exp2Syn[8700], Exp2Syn[8701], Exp2Syn[8702], Exp2Syn[8703], Exp2Syn[8704], Exp2Syn[8705], Exp2Syn[8706], Exp2Syn[8707], Exp2Syn[8708], Exp2Syn[8709], Exp2Syn[8710], Exp2Syn[8711], Exp2Syn[8712], Exp2Syn[8713], Exp2Syn[8714], Exp2Syn[8715], Exp2Syn[8716], Exp2Syn[8717], Exp2Syn[8718], Exp2Syn[8719], Exp2Syn[8720], Exp2Syn[8721], Exp2Syn[8722], Exp2Syn[8723], Exp2Syn[8724], Exp2Syn[8725], Exp2Syn[8726], Exp2Syn[8727], Exp2Syn[8728], Exp2Syn[8729], Exp2Syn[8730], Exp2Syn[8731], Exp2Syn[8732], Exp2Syn[8733], Exp2Syn[8734], Exp2Syn[8735], Exp2Syn[8736], Exp2Syn[8737], Exp2Syn[8738], Exp2Syn[8739], Exp2Syn[8740], Exp2Syn[8741], Exp2Syn[8742], Exp2Syn[8743], Exp2Syn[8744], Exp2Syn[8745], Exp2Syn[8746], Exp2Syn[8747], Exp2Syn[8748], Exp2Syn[8749], Exp2Syn[8750], Exp2Syn[8751], Exp2Syn[8752], Exp2Syn[8753], Exp2Syn[8754], Exp2Syn[8755], Exp2Syn[8756], Exp2Syn[8757], Exp2Syn[8758], Exp2Syn[8759], Exp2Syn[8760], Exp2Syn[8761], Exp2Syn[8762], Exp2Syn[8763], Exp2Syn[8764], Exp2Syn[8765], Exp2Syn[8766], Exp2Syn[8767], Exp2Syn[8768], Exp2Syn[8769], Exp2Syn[8770], Exp2Syn[8771], Exp2Syn[8772], Exp2Syn[8773], Exp2Syn[8774], Exp2Syn[8775], Exp2Syn[8776], Exp2Syn[8777], Exp2Syn[8778], Exp2Syn[8779], Exp2Syn[8780], Exp2Syn[8781], Exp2Syn[8782], Exp2Syn[8783], Exp2Syn[8784], Exp2Syn[8785], Exp2Syn[8786], Exp2Syn[8787], Exp2Syn[8788], Exp2Syn[8789], Exp2Syn[8790], Exp2Syn[8791], Exp2Syn[8792], Exp2Syn[8793], Exp2Syn[8794], Exp2Syn[8795], Exp2Syn[8796], Exp2Syn[8797], Exp2Syn[8798], Exp2Syn[8799], Exp2Syn[8800], Exp2Syn[8801], Exp2Syn[8802], Exp2Syn[8803], Exp2Syn[8804], Exp2Syn[8805], Exp2Syn[8806], Exp2Syn[8807], Exp2Syn[8808], Exp2Syn[8809], Exp2Syn[8810], Exp2Syn[8811], Exp2Syn[8812], Exp2Syn[8813], Exp2Syn[8814], Exp2Syn[8815], Exp2Syn[8816], Exp2Syn[8817], Exp2Syn[8818], Exp2Syn[8819], Exp2Syn[8820], Exp2Syn[8821], Exp2Syn[8822], Exp2Syn[8823], Exp2Syn[8824], Exp2Syn[8825], Exp2Syn[8826], Exp2Syn[8827], Exp2Syn[8828], Exp2Syn[8829], Exp2Syn[8830], Exp2Syn[8831], Exp2Syn[8832], Exp2Syn[8833], Exp2Syn[8834], Exp2Syn[8835], Exp2Syn[8836], Exp2Syn[8837], Exp2Syn[8838], Exp2Syn[8839], Exp2Syn[8840], Exp2Syn[8841], Exp2Syn[8842], Exp2Syn[8843], Exp2Syn[8844], Exp2Syn[8845], Exp2Syn[8846], Exp2Syn[8847], Exp2Syn[8848], Exp2Syn[8849], Exp2Syn[8850], Exp2Syn[8851], Exp2Syn[8852], Exp2Syn[8853], Exp2Syn[8854], Exp2Syn[8855], Exp2Syn[8856], Exp2Syn[8857], Exp2Syn[8858], Exp2Syn[8859], Exp2Syn[8860], Exp2Syn[8861], Exp2Syn[8862], Exp2Syn[8863], Exp2Syn[8864], Exp2Syn[8865], Exp2Syn[8866], Exp2Syn[8867], Exp2Syn[8868], Exp2Syn[8869], Exp2Syn[8870], Exp2Syn[8871], Exp2Syn[8872], Exp2Syn[8873], Exp2Syn[8874], Exp2Syn[8875], Exp2Syn[8876], Exp2Syn[8877], Exp2Syn[8878], Exp2Syn[8879], Exp2Syn[8880], Exp2Syn[8881], Exp2Syn[8882], Exp2Syn[8883], Exp2Syn[8884], Exp2Syn[8885], Exp2Syn[8886], Exp2Syn[8887], Exp2Syn[8888], Exp2Syn[8889], Exp2Syn[8890], Exp2Syn[8891], Exp2Syn[8892], Exp2Syn[8893], Exp2Syn[8894], Exp2Syn[8895], Exp2Syn[8896], Exp2Syn[8897], Exp2Syn[8898], Exp2Syn[8899], Exp2Syn[8900], Exp2Syn[8901], Exp2Syn[8902], Exp2Syn[8903], Exp2Syn[8904], Exp2Syn[8905], Exp2Syn[8906], Exp2Syn[8907], Exp2Syn[8908], Exp2Syn[8909], Exp2Syn[8910], Exp2Syn[8911], Exp2Syn[8912], Exp2Syn[8913], Exp2Syn[8914], Exp2Syn[8915], Exp2Syn[8916], Exp2Syn[8917], Exp2Syn[8918], Exp2Syn[8919], Exp2Syn[8920], Exp2Syn[8921], Exp2Syn[8922], Exp2Syn[8923], Exp2Syn[8924], Exp2Syn[8925], Exp2Syn[8926], Exp2Syn[8927], Exp2Syn[8928], Exp2Syn[8929], Exp2Syn[8930], Exp2Syn[8931], Exp2Syn[8932], Exp2Syn[8933], Exp2Syn[8934], Exp2Syn[8935], Exp2Syn[8936], Exp2Syn[8937], Exp2Syn[8938], Exp2Syn[8939], Exp2Syn[8940], Exp2Syn[8941], Exp2Syn[8942], Exp2Syn[8943], Exp2Syn[8944], Exp2Syn[8945], Exp2Syn[8946], Exp2Syn[8947], Exp2Syn[8948], Exp2Syn[8949], Exp2Syn[8950], Exp2Syn[8951], Exp2Syn[8952], Exp2Syn[8953], Exp2Syn[8954], Exp2Syn[8955], Exp2Syn[8956], Exp2Syn[8957], Exp2Syn[8958], Exp2Syn[8959], Exp2Syn[8960], Exp2Syn[8961], Exp2Syn[8962], Exp2Syn[8963], Exp2Syn[8964], Exp2Syn[8965], Exp2Syn[8966], Exp2Syn[8967], Exp2Syn[8968], Exp2Syn[8969], Exp2Syn[8970], Exp2Syn[8971], Exp2Syn[8972], Exp2Syn[8973], Exp2Syn[8974], Exp2Syn[8975], Exp2Syn[8976], Exp2Syn[8977], Exp2Syn[8978], Exp2Syn[8979], Exp2Syn[8980], Exp2Syn[8981], Exp2Syn[8982], Exp2Syn[8983], Exp2Syn[8984], Exp2Syn[8985], Exp2Syn[8986], Exp2Syn[8987], Exp2Syn[8988], Exp2Syn[8989], Exp2Syn[8990], Exp2Syn[8991], Exp2Syn[8992], Exp2Syn[8993], Exp2Syn[8994], Exp2Syn[8995], Exp2Syn[8996], Exp2Syn[8997], Exp2Syn[8998], Exp2Syn[8999], Exp2Syn[9000], Exp2Syn[9001], Exp2Syn[9002], Exp2Syn[9003], Exp2Syn[9004], Exp2Syn[9005], Exp2Syn[9006], Exp2Syn[9007], Exp2Syn[9008], Exp2Syn[9009], Exp2Syn[9010], Exp2Syn[9011], Exp2Syn[9012], Exp2Syn[9013], Exp2Syn[9014], Exp2Syn[9015], Exp2Syn[9016], Exp2Syn[9017], Exp2Syn[9018], Exp2Syn[9019], Exp2Syn[9020], Exp2Syn[9021], Exp2Syn[9022], Exp2Syn[9023], Exp2Syn[9024], Exp2Syn[9025], Exp2Syn[9026], Exp2Syn[9027], Exp2Syn[9028], Exp2Syn[9029], Exp2Syn[9030], Exp2Syn[9031], Exp2Syn[9032], Exp2Syn[9033], Exp2Syn[9034], Exp2Syn[9035], Exp2Syn[9036], Exp2Syn[9037], Exp2Syn[9038], Exp2Syn[9039], Exp2Syn[9040], Exp2Syn[9041], Exp2Syn[9042], Exp2Syn[9043], Exp2Syn[9044], Exp2Syn[9045], Exp2Syn[9046], Exp2Syn[9047], Exp2Syn[9048], Exp2Syn[9049], Exp2Syn[9050], Exp2Syn[9051], Exp2Syn[9052], Exp2Syn[9053], Exp2Syn[9054], Exp2Syn[9055], Exp2Syn[9056], Exp2Syn[9057], Exp2Syn[9058], Exp2Syn[9059], Exp2Syn[9060], Exp2Syn[9061], Exp2Syn[9062], Exp2Syn[9063], Exp2Syn[9064], Exp2Syn[9065], Exp2Syn[9066], Exp2Syn[9067], Exp2Syn[9068], Exp2Syn[9069], Exp2Syn[9070], Exp2Syn[9071], Exp2Syn[9072], Exp2Syn[9073], Exp2Syn[9074], Exp2Syn[9075], Exp2Syn[9076], Exp2Syn[9077], Exp2Syn[9078], Exp2Syn[9079], Exp2Syn[9080], Exp2Syn[9081], Exp2Syn[9082], Exp2Syn[9083], Exp2Syn[9084], Exp2Syn[9085], Exp2Syn[9086], Exp2Syn[9087], Exp2Syn[9088], Exp2Syn[9089], Exp2Syn[9090], Exp2Syn[9091], Exp2Syn[9092], Exp2Syn[9093], Exp2Syn[9094], Exp2Syn[9095], Exp2Syn[9096], Exp2Syn[9097], Exp2Syn[9098], Exp2Syn[9099], Exp2Syn[9100], Exp2Syn[9101], Exp2Syn[9102], Exp2Syn[9103], Exp2Syn[9104], Exp2Syn[9105], Exp2Syn[9106], Exp2Syn[9107], Exp2Syn[9108], Exp2Syn[9109], Exp2Syn[9110], Exp2Syn[9111], Exp2Syn[9112], Exp2Syn[9113], Exp2Syn[9114], Exp2Syn[9115], Exp2Syn[9116], Exp2Syn[9117], Exp2Syn[9118], Exp2Syn[9119], Exp2Syn[9120], Exp2Syn[9121], Exp2Syn[9122], Exp2Syn[9123], Exp2Syn[9124], Exp2Syn[9125], Exp2Syn[9126], Exp2Syn[9127], Exp2Syn[9128], Exp2Syn[9129], Exp2Syn[9130], Exp2Syn[9131], Exp2Syn[9132], Exp2Syn[9133], Exp2Syn[9134], Exp2Syn[9135], Exp2Syn[9136], Exp2Syn[9137], Exp2Syn[9138], Exp2Syn[9139], Exp2Syn[9140], Exp2Syn[9141], Exp2Syn[9142], Exp2Syn[9143], Exp2Syn[9144], Exp2Syn[9145], Exp2Syn[9146], Exp2Syn[9147], Exp2Syn[9148], Exp2Syn[9149], Exp2Syn[9150], Exp2Syn[9151], Exp2Syn[9152], Exp2Syn[9153], Exp2Syn[9154], Exp2Syn[9155], Exp2Syn[9156], Exp2Syn[9157], Exp2Syn[9158], Exp2Syn[9159], Exp2Syn[9160], Exp2Syn[9161], Exp2Syn[9162], Exp2Syn[9163], Exp2Syn[9164], Exp2Syn[9165], Exp2Syn[9166], Exp2Syn[9167], Exp2Syn[9168], Exp2Syn[9169], Exp2Syn[9170], Exp2Syn[9171], Exp2Syn[9172], Exp2Syn[9173], Exp2Syn[9174], Exp2Syn[9175], Exp2Syn[9176], Exp2Syn[9177], Exp2Syn[9178], Exp2Syn[9179], Exp2Syn[9180], Exp2Syn[9181], Exp2Syn[9182], Exp2Syn[9183], Exp2Syn[9184], Exp2Syn[9185], Exp2Syn[9186], Exp2Syn[9187], Exp2Syn[9188], Exp2Syn[9189], Exp2Syn[9190], Exp2Syn[9191], Exp2Syn[9192], Exp2Syn[9193], Exp2Syn[9194], Exp2Syn[9195], Exp2Syn[9196], Exp2Syn[9197], Exp2Syn[9198], Exp2Syn[9199], Exp2Syn[9200], Exp2Syn[9201], Exp2Syn[9202], Exp2Syn[9203], Exp2Syn[9204], Exp2Syn[9205], Exp2Syn[9206], Exp2Syn[9207], Exp2Syn[9208], Exp2Syn[9209], Exp2Syn[9210], Exp2Syn[9211], Exp2Syn[9212], Exp2Syn[9213], Exp2Syn[9214], Exp2Syn[9215], Exp2Syn[9216], Exp2Syn[9217], Exp2Syn[9218], Exp2Syn[9219], Exp2Syn[9220], Exp2Syn[9221], Exp2Syn[9222], Exp2Syn[9223], Exp2Syn[9224], Exp2Syn[9225], Exp2Syn[9226], Exp2Syn[9227], Exp2Syn[9228], Exp2Syn[9229], Exp2Syn[9230], Exp2Syn[9231], Exp2Syn[9232], Exp2Syn[9233], Exp2Syn[9234], Exp2Syn[9235], Exp2Syn[9236], Exp2Syn[9237], Exp2Syn[9238], Exp2Syn[9239], Exp2Syn[9240], Exp2Syn[9241], Exp2Syn[9242], Exp2Syn[9243], Exp2Syn[9244], Exp2Syn[9245], Exp2Syn[9246], Exp2Syn[9247], Exp2Syn[9248], Exp2Syn[9249], Exp2Syn[9250], Exp2Syn[9251], Exp2Syn[9252], Exp2Syn[9253], Exp2Syn[9254], Exp2Syn[9255], Exp2Syn[9256], Exp2Syn[9257], Exp2Syn[9258], Exp2Syn[9259], Exp2Syn[9260], Exp2Syn[9261], Exp2Syn[9262], Exp2Syn[9263], Exp2Syn[9264], Exp2Syn[9265], Exp2Syn[9266], Exp2Syn[9267], Exp2Syn[9268], Exp2Syn[9269], Exp2Syn[9270], Exp2Syn[9271], Exp2Syn[9272], Exp2Syn[9273], Exp2Syn[9274], Exp2Syn[9275], Exp2Syn[9276], Exp2Syn[9277], Exp2Syn[9278], Exp2Syn[9279], Exp2Syn[9280], Exp2Syn[9281], Exp2Syn[9282], Exp2Syn[9283], Exp2Syn[9284], Exp2Syn[9285], Exp2Syn[9286], Exp2Syn[9287], Exp2Syn[9288], Exp2Syn[9289], Exp2Syn[9290], Exp2Syn[9291], Exp2Syn[9292], Exp2Syn[9293], Exp2Syn[9294], Exp2Syn[9295], Exp2Syn[9296], Exp2Syn[9297], Exp2Syn[9298], Exp2Syn[9299], Exp2Syn[9300], Exp2Syn[9301], Exp2Syn[9302], Exp2Syn[9303], Exp2Syn[9304], Exp2Syn[9305], Exp2Syn[9306], Exp2Syn[9307], Exp2Syn[9308], Exp2Syn[9309], Exp2Syn[9310], Exp2Syn[9311], Exp2Syn[9312], Exp2Syn[9313], Exp2Syn[9314], Exp2Syn[9315], Exp2Syn[9316], Exp2Syn[9317], Exp2Syn[9318], Exp2Syn[9319], Exp2Syn[9320], Exp2Syn[9321], Exp2Syn[9322], Exp2Syn[9323], Exp2Syn[9324], Exp2Syn[9325], Exp2Syn[9326], Exp2Syn[9327], Exp2Syn[9328], Exp2Syn[9329], Exp2Syn[9330], Exp2Syn[9331], Exp2Syn[9332], Exp2Syn[9333], Exp2Syn[9334], Exp2Syn[9335], Exp2Syn[9336], Exp2Syn[9337], Exp2Syn[9338], Exp2Syn[9339], Exp2Syn[9340], Exp2Syn[9341], Exp2Syn[9342], Exp2Syn[9343], Exp2Syn[9344], Exp2Syn[9345], Exp2Syn[9346], Exp2Syn[9347], Exp2Syn[9348], Exp2Syn[9349], Exp2Syn[9350], Exp2Syn[9351], Exp2Syn[9352], Exp2Syn[9353], Exp2Syn[9354], Exp2Syn[9355], Exp2Syn[9356], Exp2Syn[9357], Exp2Syn[9358], Exp2Syn[9359], Exp2Syn[9360], Exp2Syn[9361], Exp2Syn[9362], Exp2Syn[9363], Exp2Syn[9364], Exp2Syn[9365], Exp2Syn[9366], Exp2Syn[9367], Exp2Syn[9368], Exp2Syn[9369], Exp2Syn[9370], Exp2Syn[9371], Exp2Syn[9372], Exp2Syn[9373], Exp2Syn[9374], Exp2Syn[9375], Exp2Syn[9376], Exp2Syn[9377], Exp2Syn[9378], Exp2Syn[9379], Exp2Syn[9380], Exp2Syn[9381], Exp2Syn[9382], Exp2Syn[9383], Exp2Syn[9384], Exp2Syn[9385], Exp2Syn[9386], Exp2Syn[9387], Exp2Syn[9388], Exp2Syn[9389], Exp2Syn[9390], Exp2Syn[9391], Exp2Syn[9392], Exp2Syn[9393], Exp2Syn[9394], Exp2Syn[9395], Exp2Syn[9396], Exp2Syn[9397], Exp2Syn[9398], Exp2Syn[9399], Exp2Syn[9400], Exp2Syn[9401], Exp2Syn[9402], Exp2Syn[9403], Exp2Syn[9404], Exp2Syn[9405], Exp2Syn[9406], Exp2Syn[9407], Exp2Syn[9408], Exp2Syn[9409], Exp2Syn[9410], Exp2Syn[9411], Exp2Syn[9412], Exp2Syn[9413], Exp2Syn[9414], Exp2Syn[9415], Exp2Syn[9416], Exp2Syn[9417], Exp2Syn[9418], Exp2Syn[9419], Exp2Syn[9420], Exp2Syn[9421], Exp2Syn[9422], Exp2Syn[9423], Exp2Syn[9424], Exp2Syn[9425], Exp2Syn[9426], Exp2Syn[9427], Exp2Syn[9428], Exp2Syn[9429], Exp2Syn[9430], Exp2Syn[9431], Exp2Syn[9432], Exp2Syn[9433], Exp2Syn[9434], Exp2Syn[9435], Exp2Syn[9436], Exp2Syn[9437], Exp2Syn[9438], Exp2Syn[9439], Exp2Syn[9440], Exp2Syn[9441], Exp2Syn[9442], Exp2Syn[9443], Exp2Syn[9444], Exp2Syn[9445], Exp2Syn[9446], Exp2Syn[9447], Exp2Syn[9448], Exp2Syn[9449], Exp2Syn[9450], Exp2Syn[9451], Exp2Syn[9452], Exp2Syn[9453], Exp2Syn[9454], Exp2Syn[9455], Exp2Syn[9456], Exp2Syn[9457], Exp2Syn[9458], Exp2Syn[9459], Exp2Syn[9460], Exp2Syn[9461], Exp2Syn[9462], Exp2Syn[9463], Exp2Syn[9464], Exp2Syn[9465], Exp2Syn[9466], Exp2Syn[9467], Exp2Syn[9468], Exp2Syn[9469], Exp2Syn[9470], Exp2Syn[9471], Exp2Syn[9472], Exp2Syn[9473], Exp2Syn[9474], Exp2Syn[9475], Exp2Syn[9476], Exp2Syn[9477], Exp2Syn[9478], Exp2Syn[9479], Exp2Syn[9480], Exp2Syn[9481], Exp2Syn[9482], Exp2Syn[9483], Exp2Syn[9484], Exp2Syn[9485], Exp2Syn[9486], Exp2Syn[9487], Exp2Syn[9488], Exp2Syn[9489], Exp2Syn[9490], Exp2Syn[9491], Exp2Syn[9492], Exp2Syn[9493], Exp2Syn[9494], Exp2Syn[9495], Exp2Syn[9496], Exp2Syn[9497], Exp2Syn[9498], Exp2Syn[9499], Exp2Syn[9500], Exp2Syn[9501], Exp2Syn[9502], Exp2Syn[9503], Exp2Syn[9504], Exp2Syn[9505], Exp2Syn[9506], Exp2Syn[9507], Exp2Syn[9508], Exp2Syn[9509], Exp2Syn[9510], Exp2Syn[9511], Exp2Syn[9512], Exp2Syn[9513], Exp2Syn[9514], Exp2Syn[9515], Exp2Syn[9516], Exp2Syn[9517], Exp2Syn[9518], Exp2Syn[9519], Exp2Syn[9520], Exp2Syn[9521], Exp2Syn[9522], Exp2Syn[9523], Exp2Syn[9524], Exp2Syn[9525], Exp2Syn[9526], Exp2Syn[9527], Exp2Syn[9528], Exp2Syn[9529], Exp2Syn[9530], Exp2Syn[9531], Exp2Syn[9532], Exp2Syn[9533], Exp2Syn[9534], Exp2Syn[9535], Exp2Syn[9536], Exp2Syn[9537], Exp2Syn[9538], Exp2Syn[9539], Exp2Syn[9540], Exp2Syn[9541], Exp2Syn[9542], Exp2Syn[9543], Exp2Syn[9544], Exp2Syn[9545], Exp2Syn[9546], Exp2Syn[9547], Exp2Syn[9548], Exp2Syn[9549], Exp2Syn[9550], Exp2Syn[9551], Exp2Syn[9552], Exp2Syn[9553], Exp2Syn[9554], Exp2Syn[9555], Exp2Syn[9556], Exp2Syn[9557], Exp2Syn[9558], Exp2Syn[9559], Exp2Syn[9560], Exp2Syn[9561], Exp2Syn[9562], Exp2Syn[9563], Exp2Syn[9564], Exp2Syn[9565], Exp2Syn[9566], Exp2Syn[9567], Exp2Syn[9568], Exp2Syn[9569], Exp2Syn[9570], Exp2Syn[9571], Exp2Syn[9572], Exp2Syn[9573], Exp2Syn[9574], Exp2Syn[9575], Exp2Syn[9576], Exp2Syn[9577], Exp2Syn[9578], Exp2Syn[9579], Exp2Syn[9580], Exp2Syn[9581], Exp2Syn[9582], Exp2Syn[9583], Exp2Syn[9584], Exp2Syn[9585], Exp2Syn[9586], Exp2Syn[9587], Exp2Syn[9588], Exp2Syn[9589], Exp2Syn[9590], Exp2Syn[9591], Exp2Syn[9592], Exp2Syn[9593], Exp2Syn[9594], Exp2Syn[9595], Exp2Syn[9596], Exp2Syn[9597], Exp2Syn[9598], Exp2Syn[9599], Exp2Syn[9600], Exp2Syn[9601], Exp2Syn[9602], Exp2Syn[9603], Exp2Syn[9604], Exp2Syn[9605], Exp2Syn[9606], Exp2Syn[9607], Exp2Syn[9608], Exp2Syn[9609], Exp2Syn[9610], Exp2Syn[9611], Exp2Syn[9612], Exp2Syn[9613], Exp2Syn[9614], Exp2Syn[9615], Exp2Syn[9616], Exp2Syn[9617], Exp2Syn[9618], Exp2Syn[9619], Exp2Syn[9620], Exp2Syn[9621], Exp2Syn[9622], Exp2Syn[9623], Exp2Syn[9624], Exp2Syn[9625], Exp2Syn[9626], Exp2Syn[9627], Exp2Syn[9628], Exp2Syn[9629], Exp2Syn[9630], Exp2Syn[9631], Exp2Syn[9632], Exp2Syn[9633], Exp2Syn[9634], Exp2Syn[9635], Exp2Syn[9636], Exp2Syn[9637], Exp2Syn[9638], Exp2Syn[9639], Exp2Syn[9640], Exp2Syn[9641], Exp2Syn[9642], Exp2Syn[9643], Exp2Syn[9644], Exp2Syn[9645], Exp2Syn[9646], Exp2Syn[9647], Exp2Syn[9648], Exp2Syn[9649], Exp2Syn[9650], Exp2Syn[9651], Exp2Syn[9652], Exp2Syn[9653], Exp2Syn[9654], Exp2Syn[9655], Exp2Syn[9656], Exp2Syn[9657], Exp2Syn[9658], Exp2Syn[9659], Exp2Syn[9660], Exp2Syn[9661], Exp2Syn[9662], Exp2Syn[9663], Exp2Syn[9664], Exp2Syn[9665], Exp2Syn[9666], Exp2Syn[9667], Exp2Syn[9668], Exp2Syn[9669], Exp2Syn[9670], Exp2Syn[9671], Exp2Syn[9672], Exp2Syn[9673], Exp2Syn[9674], Exp2Syn[9675], Exp2Syn[9676], Exp2Syn[9677], Exp2Syn[9678], Exp2Syn[9679], Exp2Syn[9680], Exp2Syn[9681], Exp2Syn[9682], Exp2Syn[9683], Exp2Syn[9684], Exp2Syn[9685], Exp2Syn[9686], Exp2Syn[9687], Exp2Syn[9688], Exp2Syn[9689], Exp2Syn[9690], Exp2Syn[9691], Exp2Syn[9692], Exp2Syn[9693], Exp2Syn[9694], Exp2Syn[9695], Exp2Syn[9696], Exp2Syn[9697], Exp2Syn[9698], Exp2Syn[9699], Exp2Syn[9700], Exp2Syn[9701], Exp2Syn[9702], Exp2Syn[9703], Exp2Syn[9704], Exp2Syn[9705], Exp2Syn[9706], Exp2Syn[9707], Exp2Syn[9708], Exp2Syn[9709], Exp2Syn[9710], Exp2Syn[9711], Exp2Syn[9712], Exp2Syn[9713], Exp2Syn[9714], Exp2Syn[9715], Exp2Syn[9716], Exp2Syn[9717], Exp2Syn[9718], Exp2Syn[9719], Exp2Syn[9720], Exp2Syn[9721], Exp2Syn[9722], Exp2Syn[9723], Exp2Syn[9724], Exp2Syn[9725], Exp2Syn[9726], Exp2Syn[9727], Exp2Syn[9728], Exp2Syn[9729], Exp2Syn[9730], Exp2Syn[9731], Exp2Syn[9732], Exp2Syn[9733], Exp2Syn[9734], Exp2Syn[9735], Exp2Syn[9736], Exp2Syn[9737], Exp2Syn[9738], Exp2Syn[9739], Exp2Syn[9740], Exp2Syn[9741], Exp2Syn[9742], Exp2Syn[9743], Exp2Syn[9744], Exp2Syn[9745], Exp2Syn[9746], Exp2Syn[9747], Exp2Syn[9748], Exp2Syn[9749], Exp2Syn[9750], Exp2Syn[9751], Exp2Syn[9752], Exp2Syn[9753], Exp2Syn[9754], Exp2Syn[9755], Exp2Syn[9756], Exp2Syn[9757], Exp2Syn[9758], Exp2Syn[9759], Exp2Syn[9760], Exp2Syn[9761], Exp2Syn[9762], Exp2Syn[9763], Exp2Syn[9764], Exp2Syn[9765], Exp2Syn[9766], Exp2Syn[9767], Exp2Syn[9768], Exp2Syn[9769], Exp2Syn[9770], Exp2Syn[9771], Exp2Syn[9772], Exp2Syn[9773], Exp2Syn[9774], Exp2Syn[9775], Exp2Syn[9776], Exp2Syn[9777], Exp2Syn[9778], Exp2Syn[9779], Exp2Syn[9780], Exp2Syn[9781], Exp2Syn[9782], Exp2Syn[9783], Exp2Syn[9784], Exp2Syn[9785], Exp2Syn[9786], Exp2Syn[9787], Exp2Syn[9788], Exp2Syn[9789], Exp2Syn[9790], Exp2Syn[9791], Exp2Syn[9792], Exp2Syn[9793], Exp2Syn[9794], Exp2Syn[9795], Exp2Syn[9796], Exp2Syn[9797], Exp2Syn[9798], Exp2Syn[9799], Exp2Syn[9800], Exp2Syn[9801], Exp2Syn[9802], Exp2Syn[9803], Exp2Syn[9804], Exp2Syn[9805], Exp2Syn[9806], Exp2Syn[9807], Exp2Syn[9808], Exp2Syn[9809], Exp2Syn[9810], Exp2Syn[9811], Exp2Syn[9812], Exp2Syn[9813], Exp2Syn[9814], Exp2Syn[9815], Exp2Syn[9816], Exp2Syn[9817], Exp2Syn[9818], Exp2Syn[9819], Exp2Syn[9820], Exp2Syn[9821], Exp2Syn[9822], Exp2Syn[9823], Exp2Syn[9824], Exp2Syn[9825], Exp2Syn[9826], Exp2Syn[9827], Exp2Syn[9828], Exp2Syn[9829], Exp2Syn[9830], Exp2Syn[9831], Exp2Syn[9832], Exp2Syn[9833], Exp2Syn[9834], Exp2Syn[9835], Exp2Syn[9836], Exp2Syn[9837], Exp2Syn[9838], Exp2Syn[9839], Exp2Syn[9840], Exp2Syn[9841], Exp2Syn[9842], Exp2Syn[9843], Exp2Syn[9844], Exp2Syn[9845], Exp2Syn[9846], Exp2Syn[9847], Exp2Syn[9848], Exp2Syn[9849], Exp2Syn[9850], Exp2Syn[9851], Exp2Syn[9852], Exp2Syn[9853], Exp2Syn[9854], Exp2Syn[9855], Exp2Syn[9856], Exp2Syn[9857], Exp2Syn[9858], Exp2Syn[9859], Exp2Syn[9860], Exp2Syn[9861], Exp2Syn[9862], Exp2Syn[9863], Exp2Syn[9864], Exp2Syn[9865], Exp2Syn[9866], Exp2Syn[9867], Exp2Syn[9868], Exp2Syn[9869], Exp2Syn[9870], Exp2Syn[9871], Exp2Syn[9872], Exp2Syn[9873], Exp2Syn[9874], Exp2Syn[9875], Exp2Syn[9876], Exp2Syn[9877], Exp2Syn[9878], Exp2Syn[9879], Exp2Syn[9880], Exp2Syn[9881], Exp2Syn[9882], Exp2Syn[9883], Exp2Syn[9884], Exp2Syn[9885], Exp2Syn[9886], Exp2Syn[9887], Exp2Syn[9888], Exp2Syn[9889], Exp2Syn[9890], Exp2Syn[9891], Exp2Syn[9892], Exp2Syn[9893], Exp2Syn[9894], Exp2Syn[9895], Exp2Syn[9896], Exp2Syn[9897], Exp2Syn[9898], Exp2Syn[9899], Exp2Syn[9900], Exp2Syn[9901], Exp2Syn[9902], Exp2Syn[9903], Exp2Syn[9904], Exp2Syn[9905], Exp2Syn[9906], Exp2Syn[9907], Exp2Syn[9908], Exp2Syn[9909], Exp2Syn[9910], Exp2Syn[9911], Exp2Syn[9912], Exp2Syn[9913], Exp2Syn[9914], Exp2Syn[9915], Exp2Syn[9916], Exp2Syn[9917], Exp2Syn[9918], Exp2Syn[9919], Exp2Syn[9920], Exp2Syn[9921], Exp2Syn[9922], Exp2Syn[9923], Exp2Syn[9924], Exp2Syn[9925], Exp2Syn[9926], Exp2Syn[9927], Exp2Syn[9928], Exp2Syn[9929], Exp2Syn[9930], Exp2Syn[9931], Exp2Syn[9932], Exp2Syn[9933], Exp2Syn[9934], Exp2Syn[9935], Exp2Syn[9936], Exp2Syn[9937], Exp2Syn[9938], Exp2Syn[9939], Exp2Syn[9940], Exp2Syn[9941], Exp2Syn[9942], Exp2Syn[9943], Exp2Syn[9944], Exp2Syn[9945], Exp2Syn[9946], Exp2Syn[9947], Exp2Syn[9948], Exp2Syn[9949], Exp2Syn[9950], Exp2Syn[9951], Exp2Syn[9952], Exp2Syn[9953], Exp2Syn[9954], Exp2Syn[9955], Exp2Syn[9956], Exp2Syn[9957], Exp2Syn[9958], Exp2Syn[9959], Exp2Syn[9960], Exp2Syn[9961], Exp2Syn[9962], Exp2Syn[9963], Exp2Syn[9964], Exp2Syn[9965], Exp2Syn[9966], Exp2Syn[9967], Exp2Syn[9968], Exp2Syn[9969], Exp2Syn[9970], Exp2Syn[9971], Exp2Syn[9972], Exp2Syn[9973], Exp2Syn[9974], Exp2Syn[9975], Exp2Syn[9976], Exp2Syn[9977], Exp2Syn[9978], Exp2Syn[9979], Exp2Syn[9980], Exp2Syn[9981], Exp2Syn[9982], Exp2Syn[9983], Exp2Syn[9984], Exp2Syn[9985], Exp2Syn[9986], Exp2Syn[9987], Exp2Syn[9988], Exp2Syn[9989], Exp2Syn[9990], Exp2Syn[9991], Exp2Syn[9992], Exp2Syn[9993], Exp2Syn[9994], Exp2Syn[9995], Exp2Syn[9996], Exp2Syn[9997], Exp2Syn[9998], Exp2Syn[9999]]\n",
            "trunk_diam: 3.7176523208618155 |trunk_length: 698.0975964944687 |branch_diam: 1.475351301247016 |branch_length: 1081.9141048660235\n"
          ]
        },
        {
          "output_type": "error",
          "ename": "ValueError",
          "evalue": "ignored",
          "traceback": [
            "\u001b[0;31m---------------------------------------------------------------------------\u001b[0m",
            "\u001b[0;31mValueError\u001b[0m                                Traceback (most recent call last)",
            "\u001b[0;32m<ipython-input-14-9531ff6594ea>\u001b[0m in \u001b[0;36m<cell line: 75>\u001b[0;34m()\u001b[0m\n\u001b[1;32m     73\u001b[0m \u001b[0;34m\u001b[0m\u001b[0m\n\u001b[1;32m     74\u001b[0m \u001b[0;31m#use defined cell_model class for generating 3d coordinates, recording ECP, 'book-keeping' etc...\u001b[0m\u001b[0;34m\u001b[0m\u001b[0;34m\u001b[0m\u001b[0m\n\u001b[0;32m---> 75\u001b[0;31m \u001b[0mcell\u001b[0m \u001b[0;34m=\u001b[0m \u001b[0mcell_model\u001b[0m\u001b[0;34m(\u001b[0m\u001b[0mreduced_dendritic_cell\u001b[0m\u001b[0;34m,\u001b[0m\u001b[0msynapses_list\u001b[0m\u001b[0;34m=\u001b[0m\u001b[0msynapses_list\u001b[0m\u001b[0;34m,\u001b[0m\u001b[0mnetcons_list\u001b[0m\u001b[0;34m=\u001b[0m\u001b[0mnetcons_list\u001b[0m\u001b[0;34m,\u001b[0m\u001b[0mspike_threshold\u001b[0m \u001b[0;34m=\u001b[0m \u001b[0;36m10\u001b[0m\u001b[0;34m)\u001b[0m\u001b[0;34m\u001b[0m\u001b[0;34m\u001b[0m\u001b[0m\n\u001b[0m\u001b[1;32m     76\u001b[0m \u001b[0;31m# cell._nbranch=4\u001b[0m\u001b[0;34m\u001b[0m\u001b[0;34m\u001b[0m\u001b[0m\n",
            "\u001b[0;32m<ipython-input-13-4a0c7d729765>\u001b[0m in \u001b[0;36m__init__\u001b[0;34m(self, model, synapses_list, netcons_list, gen_3d, spike_threshold)\u001b[0m\n\u001b[1;32m     23\u001b[0m     \u001b[0mself\u001b[0m\u001b[0;34m.\u001b[0m\u001b[0minjection\u001b[0m\u001b[0;34m=\u001b[0m\u001b[0;34m[\u001b[0m\u001b[0;34m]\u001b[0m \u001b[0;31m# list of injection objects\u001b[0m\u001b[0;34m\u001b[0m\u001b[0;34m\u001b[0m\u001b[0m\n\u001b[1;32m     24\u001b[0m     \u001b[0mself\u001b[0m\u001b[0;34m.\u001b[0m\u001b[0msynapse\u001b[0m\u001b[0;34m=\u001b[0m\u001b[0;34m[\u001b[0m\u001b[0;34m]\u001b[0m \u001b[0;31m# list of python synapse class objects\u001b[0m\u001b[0;34m\u001b[0m\u001b[0;34m\u001b[0m\u001b[0m\n\u001b[0;32m---> 25\u001b[0;31m     \u001b[0mself\u001b[0m\u001b[0;34m.\u001b[0m\u001b[0m__store_synapses_list\u001b[0m\u001b[0;34m(\u001b[0m\u001b[0;34m)\u001b[0m \u001b[0;31m#store and record synapses from the synapses_list used to initialize the cell\u001b[0m\u001b[0;34m\u001b[0m\u001b[0;34m\u001b[0m\u001b[0m\n\u001b[0m\u001b[1;32m     26\u001b[0m     \u001b[0mself\u001b[0m\u001b[0;34m.\u001b[0m\u001b[0msec_id_lookup\u001b[0m \u001b[0;34m=\u001b[0m \u001b[0;34m{\u001b[0m\u001b[0;34m}\u001b[0m  \u001b[0;31m# dictionary from section type id to section index\u001b[0m\u001b[0;34m\u001b[0m\u001b[0;34m\u001b[0m\u001b[0m\n\u001b[1;32m     27\u001b[0m     \u001b[0mself\u001b[0m\u001b[0;34m.\u001b[0m\u001b[0msec_id_in_seg\u001b[0m \u001b[0;34m=\u001b[0m \u001b[0;34m[\u001b[0m\u001b[0;34m]\u001b[0m  \u001b[0;31m# index of the first segment of each section in the segment list\u001b[0m\u001b[0;34m\u001b[0m\u001b[0;34m\u001b[0m\u001b[0m\n",
            "\u001b[0;32m<ipython-input-13-4a0c7d729765>\u001b[0m in \u001b[0;36m__store_synapses_list\u001b[0;34m(self)\u001b[0m\n\u001b[1;32m    234\u001b[0m       \u001b[0msyn\u001b[0m\u001b[0;34m=\u001b[0m\u001b[0mnetcon\u001b[0m\u001b[0;34m.\u001b[0m\u001b[0msyn\u001b[0m\u001b[0;34m(\u001b[0m\u001b[0;34m)\u001b[0m\u001b[0;34m\u001b[0m\u001b[0;34m\u001b[0m\u001b[0m\n\u001b[1;32m    235\u001b[0m       \u001b[0;32mif\u001b[0m \u001b[0msyn\u001b[0m \u001b[0;32min\u001b[0m \u001b[0mself\u001b[0m\u001b[0;34m.\u001b[0m\u001b[0msynapses_list\u001b[0m\u001b[0;34m:\u001b[0m\u001b[0;34m\u001b[0m\u001b[0;34m\u001b[0m\u001b[0m\n\u001b[0;32m--> 236\u001b[0;31m         \u001b[0msyn_seg_id\u001b[0m\u001b[0;34m=\u001b[0m\u001b[0mself\u001b[0m\u001b[0;34m.\u001b[0m\u001b[0msegments\u001b[0m\u001b[0;34m.\u001b[0m\u001b[0mindex\u001b[0m\u001b[0;34m(\u001b[0m\u001b[0mnetcon\u001b[0m\u001b[0;34m.\u001b[0m\u001b[0msyn\u001b[0m\u001b[0;34m(\u001b[0m\u001b[0;34m)\u001b[0m\u001b[0;34m.\u001b[0m\u001b[0mget_segment\u001b[0m\u001b[0;34m(\u001b[0m\u001b[0;34m)\u001b[0m\u001b[0;34m)\u001b[0m\u001b[0;34m\u001b[0m\u001b[0;34m\u001b[0m\u001b[0m\n\u001b[0m\u001b[1;32m    237\u001b[0m         \u001b[0;32mif\u001b[0m \u001b[0msyn\u001b[0m \u001b[0;32min\u001b[0m \u001b[0mself\u001b[0m\u001b[0;34m.\u001b[0m\u001b[0msegments\u001b[0m\u001b[0;34m[\u001b[0m\u001b[0msyn_seg_id\u001b[0m\u001b[0;34m]\u001b[0m\u001b[0;34m.\u001b[0m\u001b[0mpoint_processes\u001b[0m\u001b[0;34m(\u001b[0m\u001b[0;34m)\u001b[0m\u001b[0;34m:\u001b[0m\u001b[0;34m\u001b[0m\u001b[0;34m\u001b[0m\u001b[0m\n\u001b[1;32m    238\u001b[0m           \u001b[0mtemp_list\u001b[0m\u001b[0;34m.\u001b[0m\u001b[0mappend\u001b[0m\u001b[0;34m(\u001b[0m\u001b[0msyn\u001b[0m\u001b[0;34m)\u001b[0m\u001b[0;34m\u001b[0m\u001b[0;34m\u001b[0m\u001b[0m\n",
            "\u001b[0;31mValueError\u001b[0m: model[0].dend[5](0.166667) is not in list"
          ]
        }
      ],
      "source": [
        "\n",
        "# # Load biophysical parameters from a json file\n",
        "# filepath = os.path.join(paths.RESOURCES_ROOT, 'biophys_parameters/ReducedOrderL5_passive.json')\n",
        "# with open(filepath) as f:\n",
        "#     biophys_param = json.load(f)\n",
        "# for genome in biophys_param['genome']:\n",
        "#     if genome['value'] != \"\": genome['value'] = float(genome['value'])\n",
        "\n",
        "h.load_file('L5PCbiophys3.hoc')\n",
        "\n",
        "# # Load morphology parameters from a csv file\n",
        "# geometry = pd.read_csv(paths.GEO_REDUCED_ORDER, index_col='id')\n",
        "h.load_file(\"import3d.hoc\")\n",
        "\n",
        "\n",
        "# Create a cell object\n",
        "# cell = ReducedOrderL5CellPassiveDendrite(geometry=geometry, full_biophys=biophys_param)\n",
        "h.load_file('L5PCtemplate.hoc')\n",
        "complex_cell = h.L5PCtemplate('cell1.asc')\n",
        "h.celsius = 37\n",
        "h.v_init = complex_cell.soma[0].e_pas\n",
        "\n",
        "#Add synapses to the complex model\n",
        "synapses_list, netstims_list, netcons_list, randoms_list = [], [], [] ,[]\n",
        "\n",
        "all_segments = [i for j in map(list,list(complex_cell.apical)) for i in j] + [i for j in map(list,list(complex_cell.basal)) for i in j]\n",
        "len_per_segment = np.array([seg.sec.L/seg.sec.nseg for seg in all_segments])\n",
        "rnd = np.random.RandomState(10)\n",
        "for i in range(10000):\n",
        "    seg_for_synapse = rnd.choice(all_segments,   p=len_per_segment/sum(len_per_segment)) #choose a random segment with probability based on the length of segment\n",
        "    synapses_list.append(h.Exp2Syn(seg_for_synapse))\n",
        "    if rnd.uniform()<0.85: # 85% synapses are excitatory\n",
        "        e_syn, tau1, tau2, spike_interval, syn_weight = 0, 0.3, 1.8,  1000/2.5, 0.0016\n",
        "    else: #inhibitory case\n",
        "        e_syn, tau1, tau2, spike_interval, syn_weight = -86, 1,   8,   1000/15.0, 0.0008\n",
        "    #set synaptic varibales\n",
        "    synapses_list[i].e, synapses_list[i].tau1, synapses_list[i].tau2 = e_syn, tau1, tau2\n",
        "    #set netstim variables\n",
        "    netstims_list.append(h.NetStim())\n",
        "    netstims_list[i].interval, netstims_list[i].number, netstims_list[i].start, netstims_list[i].noise = spike_interval, 9e9, 100, 1\n",
        "    #set random\n",
        "    randoms_list.append(h.Random())\n",
        "    randoms_list[i].Random123(i)\n",
        "    randoms_list[i].negexp(1)\n",
        "    netstims_list[i].noiseFromRandom(randoms_list[i])       \n",
        "    #set netcon varibales \n",
        "    netcons_list.append(h.NetCon(netstims_list[i], synapses_list[i] ))\n",
        "    netcons_list[i].delay, netcons_list[i].weight[0] = 0, syn_weight\n",
        "print(synapses_list)\n",
        "#reduce dendritic trees to cables\n",
        "reduced_cell, synapses_list, netcons_list, txt = subtree_reductor(complex_cell, synapses_list, netcons_list, reduction_frequency=0,return_seg_to_seg=True)\n",
        "# print('reduced cell n3d')\n",
        "# for sec in reduced_cell.dend:\n",
        "#   print(sec,sec.n3d())\n",
        "\n",
        "#expand cables to idealized dendritic trees\n",
        "sections_to_expand = [reduced_cell.hoc_model.apic[0]]\n",
        "furcations_x=[0.289004]\n",
        "nbranches=[4]\n",
        "reduced_dendritic_cell, synapses_list, netcons_list, txt = cable_expander(reduced_cell, sections_to_expand, furcations_x, nbranches, \n",
        "                                                                          synapses_list, netcons_list, reduction_frequency=0,return_seg_to_seg=True)\n",
        "\n",
        "# # try branching the branches\n",
        "# sections_to_expand = [reduced_dendritic_cell.apic[1],reduced_dendritic_cell.apic[2],reduced_dendritic_cell.apic[3],reduced_dendritic_cell.apic[4]]\n",
        "# furcations_x=[0.50,0.50,0.50,0.50]\n",
        "# nbranches=[4,4,4,4]\n",
        "# reduced_dendritic_cell, synapses_list, netcons_list, txt = cable_expander(reduced_dendritic_cell, sections_to_expand, furcations_x, nbranches, \n",
        "#                                                                           synapses_list, netcons_list, reduction_frequency=0,return_seg_to_seg=True)\n",
        "\n",
        "\n",
        "# print('dendritic cell n3d')\n",
        "# for sec in reduced_dendritic_cell.all:\n",
        "#   print(sec, sec.n3d())\n",
        "\n",
        "#use defined cell_model class for generating 3d coordinates, recording ECP, 'book-keeping' etc...\n",
        "cell = cell_model(reduced_dendritic_cell,synapses_list=synapses_list,netcons_list=netcons_list,spike_threshold = 10)\n",
        "# cell._nbranch=4"
      ]
    },
    {
      "cell_type": "code",
      "source": [
        "# for sec in cell.all:\n",
        "#   for seg in sec:\n",
        "#     for pp in seg.point_processes():\n",
        "#       print(pp)\n"
      ],
      "metadata": {
        "id": "PkAbftjKU8wr"
      },
      "id": "PkAbftjKU8wr",
      "execution_count": null,
      "outputs": []
    },
    {
      "cell_type": "code",
      "source": [
        "# dir(cell.dend[0](0.5).point_processes()[0]) #no way to go from segment to all synapses\n",
        "# #have to go compare netcons to synapse list"
      ],
      "metadata": {
        "id": "jvD2UelXYdYc"
      },
      "id": "jvD2UelXYdYc",
      "execution_count": null,
      "outputs": []
    },
    {
      "cell_type": "code",
      "source": [
        "# dir(cell.dend[1](0.5))"
      ],
      "metadata": {
        "id": "eT8BBmy4akqb"
      },
      "id": "eT8BBmy4akqb",
      "execution_count": null,
      "outputs": []
    },
    {
      "cell_type": "code",
      "source": [
        "# #potentially deleted synapses?\n",
        "# for netcon in netcons_list:\n",
        "#   if netcon.syn() not in synapses_list:\n",
        "#     print(netcon)\n",
        "#     print(netcon.syn() in synapses_list)\n",
        "#     print(netcon.syn())"
      ],
      "metadata": {
        "id": "MQOphn2sWsw4"
      },
      "id": "MQOphn2sWsw4",
      "execution_count": null,
      "outputs": []
    },
    {
      "cell_type": "code",
      "source": [
        "# for syn in synapses_list:\n",
        "#   print(syn,syn.get_segment().point_processes())"
      ],
      "metadata": {
        "id": "kOgZ9mciVC5Z"
      },
      "id": "kOgZ9mciVC5Z",
      "execution_count": null,
      "outputs": []
    },
    {
      "cell_type": "code",
      "source": [
        "# #create second original model\n",
        "\n",
        "# original_cell = h.L5PCtemplate('cell1.asc')\n",
        "# synapses_list, netstims_list, netcons_list, randoms_list = [], [], [] ,[]\n",
        "\n",
        "# all_segments = [i for j in map(list,list(original_cell.apical)) for i in j] + [i for j in map(list,list(original_cell.basal)) for i in j]\n",
        "# len_per_segment = np.array([seg.sec.L/seg.sec.nseg for seg in all_segments])\n",
        "# rnd = np.random.RandomState(10)\n",
        "# for i in range(10000):\n",
        "#     seg_for_synapse = rnd.choice(all_segments,   p=len_per_segment/sum(len_per_segment)) #choose a random segment with probability based on the length of segment\n",
        "#     synapses_list.append(h.Exp2Syn(seg_for_synapse))\n",
        "#     if rnd.uniform()<0.85: # 85% synapses are excitatory\n",
        "#         e_syn, tau1, tau2, spike_interval, syn_weight = 0, 0.3, 1.8,  1000/2.5, 0.0016\n",
        "#     else: #inhibitory case\n",
        "#         e_syn, tau1, tau2, spike_interval, syn_weight = -86, 1,   8,   1000/15.0, 0.0008\n",
        "#     #set synaptic varibales\n",
        "#     synapses_list[i].e, synapses_list[i].tau1, synapses_list[i].tau2 = e_syn, tau1, tau2\n",
        "#     #set netstim variables\n",
        "#     netstims_list.append(h.NetStim())\n",
        "#     netstims_list[i].interval, netstims_list[i].number, netstims_list[i].start, netstims_list[i].noise = spike_interval, 9e9, 100, 1\n",
        "#     #set random\n",
        "#     randoms_list.append(h.Random())\n",
        "#     randoms_list[i].Random123(i)\n",
        "#     randoms_list[i].negexp(1)\n",
        "#     netstims_list[i].noiseFromRandom(randoms_list[i])       \n",
        "#     #set netcon varibales \n",
        "#     netcons_list.append(h.NetCon(netstims_list[i], synapses_list[i] ))\n",
        "#     netcons_list[i].delay, netcons_list[i].weight[0] = 0, syn_weight\n",
        "# original_model = cell_model(original_cell,gen_3d=False,spike_threshold = 10)\n",
        "# print(synapses_list)"
      ],
      "metadata": {
        "id": "kHCBMJHzUyAY"
      },
      "id": "kHCBMJHzUyAY",
      "execution_count": null,
      "outputs": []
    },
    {
      "cell_type": "code",
      "source": [
        "make_reduced_seg_df(cell,\"segments_expanded.csv\") #need to improve make_reduced_seg_df\n",
        "expanded_segments_df=pd.read_csv(\"segments_expanded.csv\")\n",
        "plot_morphology(expanded_segments_df,\"expanded_morphology.svg\")\n",
        "\n",
        "# change to complex cell\n",
        "# make_reduced_seg_df(cell,\"segments_expanded.csv\") #need to improve make_reduced_seg_df\n",
        "# expanded_segments_df=pd.read_csv(\"segments_expanded.csv\")\n",
        "# plot_morphology(expanded_segments_df,\"expanded_morphology.svg\")"
      ],
      "metadata": {
        "id": "JjM51nSARop9"
      },
      "id": "JjM51nSARop9",
      "execution_count": null,
      "outputs": []
    },
    {
      "cell_type": "code",
      "source": [
        "# dir(cell)"
      ],
      "metadata": {
        "id": "akYHQOGDKiW5"
      },
      "id": "akYHQOGDKiW5",
      "execution_count": null,
      "outputs": []
    },
    {
      "cell_type": "code",
      "source": [
        "import os\n",
        "\n",
        "RunningInCOLAB = 'google.colab' in str(get_ipython())\n",
        "if RunningInCOLAB:\n",
        "    !pip install neuron==8.0.0 &> /dev/null\n",
        "    os.chdir('/content')\n",
        "    if not os.path.isdir('Stylized-Single-Cell-and-Extracellular-Potential'):\n",
        "        !git clone https://github.com/chenziao/Stylized-Single-Cell-and-Extracellular-Potential.git &> /dev/null \n",
        "    os.chdir('Stylized-Single-Cell-and-Extracellular-Potential')\n",
        "    %ls"
      ],
      "metadata": {
        "id": "D6vyubrwOvA_"
      },
      "id": "D6vyubrwOvA_",
      "execution_count": null,
      "outputs": []
    },
    {
      "cell_type": "code",
      "source": [
        "from typing import Union, List, Tuple\n",
        "\n",
        "\n",
        "class Recorder(object):\n",
        "    \"\"\"A module for recording variables\"\"\"\n",
        "\n",
        "    def __init__(self, obj_list: Union[object, List[object], Tuple[object], np.ndarray], var_name: str = 'v') -> None:\n",
        "        \"\"\"\n",
        "        obj_list: list of (or a single) target objects\n",
        "        var_name: string of variable to be recorded\n",
        "        \"\"\"\n",
        "        self.single = not isinstance(obj_list, (list, tuple, np.ndarray))\n",
        "        self.obj_list = obj_list\n",
        "        self.var_name = var_name\n",
        "        self.vectors = None\n",
        "        self.setup_recorder()\n",
        "\n",
        "    def setup_recorder(self) -> None:\n",
        "        size = [round(h.tstop / h.dt) + 1] if hasattr(h, 'tstop') else []\n",
        "        attr_name = '_ref_' + self.var_name\n",
        "        if self.single:\n",
        "            self.vectors = h.Vector(*size).record(getattr(self.obj_list, attr_name))\n",
        "        else:\n",
        "            self.vectors = [h.Vector(*size).record(getattr(obj, attr_name)) for obj in self.obj_list]\n",
        "\n",
        "    def as_numpy(self, copy: bool = True) -> np.ndarray:\n",
        "        \"\"\"\n",
        "        Return a numpy 2d-array of recording, n objects-by-time\n",
        "        Return a 1d-array if a single object is being recorded\n",
        "        \"\"\"\n",
        "        if self.single:\n",
        "            x = self.vectors.as_numpy()\n",
        "        else:\n",
        "            x = np.array([v.as_numpy() for v in self.vectors])\n",
        "        if copy:\n",
        "            x = x.copy()\n",
        "        return x"
      ],
      "metadata": {
        "id": "H-rE_7J2QNsd"
      },
      "id": "H-rE_7J2QNsd",
      "execution_count": null,
      "outputs": []
    },
    {
      "cell_type": "code",
      "source": [
        "#insert unused channels for recorder"
      ],
      "metadata": {
        "id": "1eu6LmpcJQn2"
      },
      "id": "1eu6LmpcJQn2",
      "execution_count": null,
      "outputs": []
    },
    {
      "cell_type": "code",
      "source": [
        "for sec in cell.all:\n",
        "  if not hasattr(sec(0.5),'gNaTa_t_NaTa_t'):\n",
        "    sec.insert('NaTa_t')\n",
        "    for seg in sec:\n",
        "      seg.NaTa_t.gNaTa_tbar=0\n",
        "    print(sec)"
      ],
      "metadata": {
        "id": "ln05q5x0GGIO"
      },
      "id": "ln05q5x0GGIO",
      "execution_count": null,
      "outputs": []
    },
    {
      "cell_type": "code",
      "source": [
        "for sec in cell.all:\n",
        "  if not hasattr(sec(0.5),'ica_Ca_LVAst'):\n",
        "    sec.insert('Ca_LVAst')\n",
        "    for seg in sec:\n",
        "      seg.Ca_LVAst.gCa_LVAstbar=0\n",
        "    print(sec)"
      ],
      "metadata": {
        "id": "w1rmShPhIMP1"
      },
      "id": "w1rmShPhIMP1",
      "execution_count": null,
      "outputs": []
    },
    {
      "cell_type": "code",
      "source": [
        "for sec in cell.all:\n",
        "  if not hasattr(sec(0.5),'ica_Ca_HVA'):\n",
        "    sec.insert('Ca_HVA')\n",
        "    for seg in sec:\n",
        "      seg.Ca_HVA.gCa_HVAbar"
      ],
      "metadata": {
        "id": "BkKbsI9aIgAH"
      },
      "id": "BkKbsI9aIgAH",
      "execution_count": null,
      "outputs": []
    },
    {
      "cell_type": "code",
      "source": [
        "for sec in cell.all:\n",
        "  if not hasattr(sec(0.5),'ihcn_Ih'):\n",
        "    sec.insert('Ih')\n",
        "    for seg in sec:\n",
        "      seg.Ih.gIhbar"
      ],
      "metadata": {
        "id": "Qq7bpFp3Iq-u"
      },
      "id": "Qq7bpFp3Iq-u",
      "execution_count": null,
      "outputs": []
    },
    {
      "cell_type": "code",
      "source": [
        "# tstop = 6000  # ms simulation duration\n",
        "tstop = 5000\n",
        "dt = 0.1  # ms. does not allow change\n",
        "\n",
        "\n",
        "h.tstop = tstop\n",
        "h.dt = dt\n",
        "h.steps_per_ms = 1/h.dt\n",
        "\n",
        "nseg = len(cell.segments)\n",
        "numTstep = int(tstop/dt)\n",
        "\n",
        "\n",
        "# gNaTa_T = Recorder(obj_list = original_model.segments, var_name = 'gNaTa_t_NaTa_t')\n",
        "# ical = Recorder(obj_list = original_model.segments, var_name = 'ica_Ca_LVAst')\n",
        "# icah = Recorder(obj_list = original_model.segments, var_name = 'ica_Ca_HVA')\n",
        "# ih = Recorder(obj_list = original_model.segments, var_name = 'ihcn_Ih')\n",
        "# Vm = Recorder(obj_list = original_model.segments)\n",
        "\n",
        "gNaTa_T = Recorder(obj_list = cell.segments, var_name = 'gNaTa_t_NaTa_t')\n",
        "ical = Recorder(obj_list = cell.segments, var_name = 'ica_Ca_LVAst')\n",
        "icah = Recorder(obj_list = cell.segments, var_name = 'ica_Ca_HVA')\n",
        "ih = Recorder(obj_list = cell.segments, var_name = 'ihcn_Ih')\n",
        "Vm = Recorder(obj_list = cell.segments)"
      ],
      "metadata": {
        "id": "1tRGr5NEOs59"
      },
      "id": "1tRGr5NEOs59",
      "execution_count": null,
      "outputs": []
    },
    {
      "cell_type": "code",
      "source": [
        "timestart=time.time()\n",
        "h.run()\n",
        "timestop=time.time()\n",
        "t = h.t # was t=h.t() but 'float' object not callable\n",
        "elapsedtime=timestop-timestart\n",
        "simtime=tstop/1000 #convert from ms to s\n",
        "# totaltime= elapsedtime+elapseddeftime\n",
        "print('It took',round(elapsedtime),'sec to run a',simtime,'sec simulation.')\n",
        "# print('The total runtime was',round(totaltime),'sec')"
      ],
      "metadata": {
        "id": "U5azilotOvGY"
      },
      "id": "U5azilotOvGY",
      "execution_count": null,
      "outputs": []
    },
    {
      "cell_type": "code",
      "source": [
        "ih_data = ih.as_numpy()\n",
        "gNaTa_T_data = gNaTa_T.as_numpy()\n",
        "icah_data = icah.as_numpy()\n",
        "ical_data = ical.as_numpy()\n",
        "Vm = Vm.as_numpy()"
      ],
      "metadata": {
        "id": "z1S1XJgLegXz"
      },
      "id": "z1S1XJgLegXz",
      "execution_count": null,
      "outputs": []
    },
    {
      "cell_type": "code",
      "source": [
        "import h5py\n",
        "def createsegtracereport(reportname,dataname):\n",
        "  try:\n",
        "    os.remove(reportname) # reportname was string \" \"\n",
        "  except:\n",
        "    x = 1\n",
        "\n",
        "  f = h5py.File(reportname,'w') #create a file in the w (write) mode #reportname was string ' '\n",
        "  v = f.create_dataset(\"report/biophysical/data\", data = dataname)\n",
        "  f.close()"
      ],
      "metadata": {
        "id": "hhPWsoCPeg4l"
      },
      "id": "hhPWsoCPeg4l",
      "execution_count": null,
      "outputs": []
    },
    {
      "cell_type": "code",
      "source": [
        "# for syn in synapses_list:\n",
        "#   print(syn.e)"
      ],
      "metadata": {
        "id": "O80yjMtIRGfW"
      },
      "id": "O80yjMtIRGfW",
      "execution_count": null,
      "outputs": []
    },
    {
      "cell_type": "code",
      "source": [
        "# dir(cell)"
      ],
      "metadata": {
        "id": "SC69KejtdiIj"
      },
      "id": "SC69KejtdiIj",
      "execution_count": null,
      "outputs": []
    },
    {
      "cell_type": "code",
      "source": [
        "# cell.segments"
      ],
      "metadata": {
        "id": "ZlDLzVysE-fy"
      },
      "id": "ZlDLzVysE-fy",
      "execution_count": null,
      "outputs": []
    },
    {
      "cell_type": "code",
      "source": [
        "#since synapse list has combined synapses for computational efficiency, we must use NetCon list/unique spike trains to determine how many synapses were mapped\n",
        "NetCon_per_seg=[0]*nseg\n",
        "inh_NetCon_per_seg=[0]*nseg\n",
        "exc_NetCon_per_seg=[0]*nseg\n",
        "\n",
        "i_NMDA_bySeg= [[0] * (numTstep+1) ] * nseg # need to implement inmda recording\n",
        "\n",
        "v_rest=-60 #choose v_rest for categorizing inh/exc synapses\n",
        "\n",
        "for netcon in netcons_list:\n",
        "  syn=netcon.syn()\n",
        "  if syn in synapses_list:\n",
        "    syn_seg_id=cell.segments.index(netcon.syn().get_segment())\n",
        "    if syn in cell.segments[syn_seg_id].point_processes():\n",
        "      NetCon_per_seg[syn_seg_id]+=1 # get synapses per segment\n",
        "      # NetCon_per_seg[syn_seg_id].append(netcon) # possible implementation if needing objects per segment\n",
        "      if syn.e > v_rest:\n",
        "        exc_NetCon_per_seg[syn_seg_id]+=1\n",
        "        # exc_NetCon_per_seg[syn_seg_id].append(netcon)# possible implementation if needing objects per segment\n",
        "      else:\n",
        "        inh_NetCon_per_seg[syn_seg_id]+=1\n",
        "        # inh_NetCon_per_seg[syn_seg_id].append(netcon)# possible implementation if needing objects per segment\n",
        "    else:\n",
        "      print(\"Warning: synapse not in designated segment's point processes\")\n",
        "\n",
        "  else:\n",
        "    print(\"Warning: potentially deleted synapse:\",\"|NetCon obj:\",netcon,\"|Synapse obj:\",syn,\"the NetCon's synapse is not in synapses_list. Check corresponding original cell's NetCon for location, etc.\")\n",
        "\n",
        "#extract inmda from each segment\n",
        "for synapse in cell.synapse:\n",
        "  try:\n",
        "    i_NMDA = np.array(synapse.rec_vec.vec_list[1])            #current = numpy array of NEURON Vector of current NMDA current at synapse j  \n",
        "    seg = synapse.get_segment_id()                            #seg = the segment in which synapse j is located \n",
        "    #print('first try')\n",
        "    \n",
        "    try:\n",
        "      i_NMDA_bySeg[seg] = i_NMDA_bySeg[seg] + i_NMDA    \n",
        "      #print('second try')                                           #Sum current over each segment\n",
        "    except: \n",
        "      pass                                                                   #Except needed as some synpases do not have NMDA currrent and throw an error when called\n",
        "  except:\n",
        "    pass"
      ],
      "metadata": {
        "id": "cbYSa3y5cKCY"
      },
      "id": "cbYSa3y5cKCY",
      "execution_count": null,
      "outputs": []
    },
    {
      "cell_type": "code",
      "source": [
        "\n",
        "numSyn = len(cell.synapse)\n",
        "\n",
        "excSynPerSeg = [0]*nseg\n",
        "inhSynPerSeg = [0]*nseg\n",
        "excSynPerSegL = [0]*nseg\n",
        "inhSynPerSegL = [0]*nseg\n",
        "SynParentSeg = []\n",
        "SourcePop = []\n",
        "SynType = []\n",
        "SynDist = []\n",
        "\n",
        "i_NMDA_bySeg= [[0] * (numTstep+1) ] * nseg\n",
        "\n",
        "#print(len(sim.cells[0].injection))\n",
        "for j in range(numSyn):\n",
        "  seg = cell.synapse[j].get_segment_id()\n",
        "  SynParentSeg.append(seg)\n",
        "  # SynType.append(AllSegType[seg])\n",
        "  # SynDist.append(AllSegDist[seg])\n",
        "\n",
        "  if(cell.synapse[j].syntype == 'exc'):\n",
        "    excSynPerSeg[seg] += 1\n",
        "    SourcePop.append('exc_stim')\n",
        "  else:\n",
        "    inhSynPerSeg[seg] += 1\n",
        "    SourcePop.append('dist_inh_stim')\n",
        "\n",
        "  try:\n",
        "    i_NMDA = np.array(cell.injection[j].rec_vec.vec_list[1])            #current = numpy array of NEURON Vector of current NMDA current at synapse j  \n",
        "    seg = cell.synapse[j].get_segment_id()                            #seg = the segment in which synapse j is located \n",
        "    #print('first try')\n",
        "    \n",
        "    try:\n",
        "      i_NMDA_bySeg[seg] = i_NMDA_bySeg[seg] + i_NMDA    \n",
        "      #print('second try')                                           #Sum current over each segment\n",
        "    except: \n",
        "      x = j                                                                     #Except needed as some synpases do not have NMDA currrent and throw an error when called\n",
        "  except:\n",
        "    x = j"
      ],
      "metadata": {
        "id": "ttUgHkqMe66r"
      },
      "id": "ttUgHkqMe66r",
      "execution_count": null,
      "outputs": []
    },
    {
      "cell_type": "code",
      "source": [
        "i_NMDA_bySeg[0]"
      ],
      "metadata": {
        "id": "PVRyx4gIBOd5"
      },
      "id": "PVRyx4gIBOd5",
      "execution_count": null,
      "outputs": []
    },
    {
      "cell_type": "code",
      "source": [
        "#Should add \"syn per seg\" to seg data frame #also can try doing SynPerSeg/segL to have more of a density metric\n",
        "def plotSynDensity(SynPerSeg):\n",
        "  plt.figure(figsize=(4,10))\n",
        "  ax = plt.scatter(expanded_segments_df[\"Coord X\"], expanded_segments_df[\"Coord Y\"],c = SynPerSeg[0:nseg],cmap='jet',)\n",
        "  plt.vlines(110,400,500)\n",
        "  plt.text(0,450,'100 um')\n",
        "  plt.hlines(400,110,210)\n",
        "  plt.text(110,350,'100 um')\n",
        "  plt.xticks([])\n",
        "  plt.yticks([])\n",
        "  cbar = plt.colorbar()\n",
        "  cbar.ax.set_ylabel('Synapses per segment', rotation=270)\n",
        "\n",
        "  plt.box(False)\n",
        "  plt.savefig('exc_syns.svg')\n",
        "\n",
        "def plotSynDensityNoSoma(SynPerSeg):\n",
        "  plt.figure(figsize=(4,10))\n",
        "  ax = plt.scatter(expanded_segments_df[\"Coord X\"][1:], expanded_segments_df[\"Coord Y\"][1:],c = SynPerSeg[1:nseg],cmap='jet',)\n",
        "  plt.vlines(110,400,500)\n",
        "  plt.text(0,450,'100 um')\n",
        "  plt.hlines(400,110,210)\n",
        "  plt.text(110,350,'100 um')\n",
        "  plt.xticks([])\n",
        "  plt.yticks([])\n",
        "  cbar = plt.colorbar()\n",
        "  cbar.ax.set_ylabel('Synapses per segment', rotation=270)\n",
        "\n",
        "  plt.box(False)\n",
        "  plt.savefig('inh_syns.svg')"
      ],
      "metadata": {
        "id": "faSg7ZDtOPbz"
      },
      "id": "faSg7ZDtOPbz",
      "execution_count": null,
      "outputs": []
    },
    {
      "cell_type": "code",
      "source": [
        "plotSynDensity(exc_NetCon_per_seg) #len(cell.segments) #low number of segments makes plot look odd."
      ],
      "metadata": {
        "id": "gx5X8SydOTfY"
      },
      "id": "gx5X8SydOTfY",
      "execution_count": null,
      "outputs": []
    },
    {
      "cell_type": "code",
      "source": [
        "plotSynDensityNoSoma(inh_NetCon_per_seg) # if soma has too many inh synapses the heatmap is not as interpretable"
      ],
      "metadata": {
        "id": "qZ8I7m05OTw3"
      },
      "id": "qZ8I7m05OTw3",
      "execution_count": null,
      "outputs": []
    },
    {
      "cell_type": "code",
      "source": [
        "i_NMDA_df = pd.DataFrame(i_NMDA_bySeg) * 1000"
      ],
      "metadata": {
        "id": "RiMm8UZxejid"
      },
      "id": "RiMm8UZxejid",
      "execution_count": null,
      "outputs": []
    },
    {
      "cell_type": "code",
      "source": [
        "output_folder_name=\"output_control\"+str(int(h.tstop))#+modelname  #include model name in output foler name (ex. original cell, reduced cell, expanded cell)"
      ],
      "metadata": {
        "id": "OEc0bW_GAXFL"
      },
      "id": "OEc0bW_GAXFL",
      "execution_count": null,
      "outputs": []
    },
    {
      "cell_type": "code",
      "source": [
        "#create output folder"
      ],
      "metadata": {
        "id": "689dzbn3Aeg1"
      },
      "id": "689dzbn3Aeg1",
      "execution_count": null,
      "outputs": []
    },
    {
      "cell_type": "code",
      "source": [
        "# %cd output_control"
      ],
      "metadata": {
        "id": "hVgirUw5ATcL"
      },
      "id": "hVgirUw5ATcL",
      "execution_count": null,
      "outputs": []
    },
    {
      "cell_type": "code",
      "source": [
        "createsegtracereport('v_report.h5', Vm.T)\n",
        "createsegtracereport('Ca_HVA.ica_report.h5',icah_data.T)\n",
        "createsegtracereport('Ca_LVAst.ica_report.h5',ical_data.T)\n",
        "createsegtracereport('Ih.ihcn_report.h5',ih_data.T)\n",
        "createsegtracereport('inmda_report.h5',i_NMDA_df.T)\n",
        "createsegtracereport('NaTa_t.gNaTa_t_report.h5',gNaTa_T_data.T)"
      ],
      "metadata": {
        "id": "0q8e1QQeewDO"
      },
      "id": "0q8e1QQeewDO",
      "execution_count": null,
      "outputs": []
    },
    {
      "cell_type": "code",
      "source": [
        "# %cd .."
      ],
      "metadata": {
        "id": "GbgVoXnMAUEi"
      },
      "id": "GbgVoXnMAUEi",
      "execution_count": null,
      "outputs": []
    },
    {
      "cell_type": "code",
      "source": [
        "#adjust so that a folder is generated for complex and reduced cell and with simulation time as part of the folder name\n",
        "#maybe include syn distribution in name too"
      ],
      "metadata": {
        "id": "ALdGYUA_NPoR"
      },
      "id": "ALdGYUA_NPoR",
      "execution_count": null,
      "outputs": []
    }
  ],
  "metadata": {
    "colab": {
      "provenance": [],
      "include_colab_link": true
    },
    "kernelspec": {
      "display_name": "Python 3 (ipykernel)",
      "language": "python",
      "name": "python3"
    },
    "language_info": {
      "codemirror_mode": {
        "name": "ipython",
        "version": 3
      },
      "file_extension": ".py",
      "mimetype": "text/x-python",
      "name": "python",
      "nbconvert_exporter": "python",
      "pygments_lexer": "ipython3",
      "version": "3.9.12"
    }
  },
  "nbformat": 4,
  "nbformat_minor": 5
}