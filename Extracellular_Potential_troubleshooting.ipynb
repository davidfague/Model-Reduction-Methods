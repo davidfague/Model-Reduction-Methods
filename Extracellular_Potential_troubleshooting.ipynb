{
  "cells": [
    {
      "cell_type": "markdown",
      "metadata": {
        "id": "view-in-github",
        "colab_type": "text"
      },
      "source": [
        "<a href=\"https://colab.research.google.com/github/davidfague/Model_Reduction_Methods/blob/main/Extracellular_Potential_troubleshooting.ipynb\" target=\"_parent\"><img src=\"https://colab.research.google.com/assets/colab-badge.svg\" alt=\"Open In Colab\"/></a>"
      ]
    },
    {
      "cell_type": "markdown",
      "id": "7a9de89f",
      "metadata": {
        "id": "7a9de89f"
      },
      "source": [
        "# Single Cell Extracellular Potential"
      ]
    },
    {
      "cell_type": "code",
      "source": [
        "reduce_cell=True #use neuron_reduce\n",
        "expand_cable=True #use cable_expander"
      ],
      "metadata": {
        "id": "0XKSxnXex5Is"
      },
      "id": "0XKSxnXex5Is",
      "execution_count": 1,
      "outputs": []
    },
    {
      "cell_type": "markdown",
      "id": "MSX7LmGzszzf",
      "metadata": {
        "id": "MSX7LmGzszzf"
      },
      "source": [
        "#### Download modules from Github"
      ]
    },
    {
      "cell_type": "code",
      "source": [
        "!pip install neuron"
      ],
      "metadata": {
        "id": "-urE9jrxNdxm",
        "colab": {
          "base_uri": "https://localhost:8080/"
        },
        "outputId": "654abdaf-55b1-4e45-f8ec-ea404c98b86f"
      },
      "id": "-urE9jrxNdxm",
      "execution_count": 2,
      "outputs": [
        {
          "output_type": "stream",
          "name": "stdout",
          "text": [
            "Looking in indexes: https://pypi.org/simple, https://us-python.pkg.dev/colab-wheels/public/simple/\n",
            "Collecting neuron\n",
            "  Downloading NEURON-8.2.2-cp310-cp310-manylinux_2_17_x86_64.manylinux2014_x86_64.whl (14.9 MB)\n",
            "\u001b[2K     \u001b[90m━━━━━━━━━━━━━━━━━━━━━━━━━━━━━━━━━━━━━━━━\u001b[0m \u001b[32m14.9/14.9 MB\u001b[0m \u001b[31m16.6 MB/s\u001b[0m eta \u001b[36m0:00:00\u001b[0m\n",
            "\u001b[?25hRequirement already satisfied: numpy>=1.9.3 in /usr/local/lib/python3.10/dist-packages (from neuron) (1.22.4)\n",
            "Installing collected packages: neuron\n",
            "Successfully installed neuron-8.2.2\n"
          ]
        }
      ]
    },
    {
      "cell_type": "code",
      "source": [
        "!pip install neuron_reduce"
      ],
      "metadata": {
        "id": "BHjnRgPsN0g2",
        "colab": {
          "base_uri": "https://localhost:8080/"
        },
        "outputId": "78e71f0a-4cfd-45ab-be14-bf8463d553d5"
      },
      "id": "BHjnRgPsN0g2",
      "execution_count": 3,
      "outputs": [
        {
          "output_type": "stream",
          "name": "stdout",
          "text": [
            "Looking in indexes: https://pypi.org/simple, https://us-python.pkg.dev/colab-wheels/public/simple/\n",
            "Collecting neuron_reduce\n",
            "  Downloading neuron_reduce-0.0.7-py3-none-any.whl (18 kB)\n",
            "Installing collected packages: neuron_reduce\n",
            "Successfully installed neuron_reduce-0.0.7\n"
          ]
        }
      ]
    },
    {
      "cell_type": "code",
      "source": [
        "!git clone https://github.com/davidfague/Model_Reduction_Methods.git"
      ],
      "metadata": {
        "id": "t4dVzA0WLZ9F",
        "colab": {
          "base_uri": "https://localhost:8080/"
        },
        "outputId": "03289640-1443-4ce4-ea6b-96f95d69bd43"
      },
      "id": "t4dVzA0WLZ9F",
      "execution_count": 4,
      "outputs": [
        {
          "output_type": "stream",
          "name": "stdout",
          "text": [
            "Cloning into 'Model_Reduction_Methods'...\n",
            "remote: Enumerating objects: 1203, done.\u001b[K\n",
            "remote: Counting objects: 100% (429/429), done.\u001b[K\n",
            "remote: Compressing objects: 100% (236/236), done.\u001b[K\n",
            "remote: Total 1203 (delta 231), reused 350 (delta 193), pack-reused 774\u001b[K\n",
            "Receiving objects: 100% (1203/1203), 7.16 MiB | 13.67 MiB/s, done.\n",
            "Resolving deltas: 100% (660/660), done.\n"
          ]
        }
      ]
    },
    {
      "cell_type": "code",
      "source": [
        "%cd Model_Reduction_Methods/\n",
        "\n",
        "#import reduction and expansion functions\n",
        "from test_neuron_reduce.subtree_reductor_func import subtree_reductor\n",
        "from cable_expander_func import cable_expander\n",
        "\n",
        "#import recording functions\n",
        "from stylized_module.recorder import Recorder\n",
        "\n",
        "# #import analysis functions\n",
        "# from utils import make_seg_df,generate_stylized_geometry,make_reduced_seg_df,plot_morphology,check_connectivity,generate_reduced_cell_seg_coords, create_seg_var_report\n",
        "\n",
        "from modeling_module.synapses import Synapse, Listed_Synapse\n",
        "# from modeling_module.cell_model import cell_model\n",
        "import pandas as pd"
      ],
      "metadata": {
        "id": "cY9U_KPwLVAz",
        "colab": {
          "base_uri": "https://localhost:8080/"
        },
        "outputId": "886b6f6e-30e8-4501-8eee-fad46d9e23c2"
      },
      "id": "cY9U_KPwLVAz",
      "execution_count": 5,
      "outputs": [
        {
          "output_type": "stream",
          "name": "stdout",
          "text": [
            "/content/Model_Reduction_Methods\n"
          ]
        }
      ]
    },
    {
      "cell_type": "code",
      "source": [],
      "metadata": {
        "id": "Ez09NP_HCSAk"
      },
      "id": "Ez09NP_HCSAk",
      "execution_count": 5,
      "outputs": []
    },
    {
      "cell_type": "code",
      "source": [
        "%cd expand_example"
      ],
      "metadata": {
        "id": "vXTRrX-ILq6D",
        "colab": {
          "base_uri": "https://localhost:8080/"
        },
        "outputId": "9322995a-489f-4c74-d00f-e846174e9390"
      },
      "id": "vXTRrX-ILq6D",
      "execution_count": 6,
      "outputs": [
        {
          "output_type": "stream",
          "name": "stdout",
          "text": [
            "/content/Model_Reduction_Methods/expand_example\n"
          ]
        }
      ]
    },
    {
      "cell_type": "code",
      "source": [
        "# compile the mod files\n",
        "!nrnivmodl mod"
      ],
      "metadata": {
        "id": "Dm-MdGeb6uZB",
        "colab": {
          "base_uri": "https://localhost:8080/"
        },
        "outputId": "3bc5cb0c-8e3d-49ac-a6b4-768ce68dfed8"
      },
      "id": "Dm-MdGeb6uZB",
      "execution_count": 7,
      "outputs": [
        {
          "output_type": "stream",
          "name": "stdout",
          "text": [
            "/content/Model_Reduction_Methods/expand_example\n",
            "Mod files: \"mod/mod/CaDynamics_E2.mod\" \"mod/mod/Ca_HVA.mod\" \"mod/mod/Ca_LVAst.mod\" \"mod/mod/epsp.mod\" \"mod/mod/Ih.mod\" \"mod/mod/Im.mod\" \"mod/mod/K_Pst.mod\" \"mod/mod/K_Tst.mod\" \"mod/mod/Nap_Et2.mod\" \"mod/mod/NaTa_t.mod\" \"mod/mod/NaTs2_t.mod\" \"mod/mod/SK_E2.mod\" \"mod/mod/SKv3_1.mod\"\n",
            "\n",
            "Creating 'x86_64' directory for .o files.\n",
            "\n",
            " -> \u001b[32mNMODL\u001b[0m ../mod/CaDynamics_E2.mod\n",
            " -> \u001b[32mCompiling\u001b[0m mod_func.cpp\n",
            " -> \u001b[32mNMODL\u001b[0m ../mod/Ca_HVA.mod\n",
            " -> \u001b[32mNMODL\u001b[0m ../mod/Ca_LVAst.mod\n",
            "Translating CaDynamics_E2.mod into /content/Model_Reduction_Methods/expand_example/x86_64/CaDynamics_E2.c\n",
            "Translating Ca_HVA.mod into /content/Model_Reduction_Methods/expand_example/x86_64/Ca_HVA.c\n",
            "Thread Safe\n",
            "Thread Safe\n",
            " -> \u001b[32mNMODL\u001b[0m ../mod/epsp.mod\n",
            "Translating Ca_LVAst.mod into /content/Model_Reduction_Methods/expand_example/x86_64/Ca_LVAst.c\n",
            "Thread Safe\n",
            " -> \u001b[32mNMODL\u001b[0m ../mod/Ih.mod\n",
            "Translating epsp.mod into /content/Model_Reduction_Methods/expand_example/x86_64/epsp.c\n",
            " -> \u001b[32mNMODL\u001b[0m ../mod/Im.mod\n",
            "Thread Safe\n",
            "Translating Ih.mod into /content/Model_Reduction_Methods/expand_example/x86_64/Ih.c\n",
            "Translating Im.mod into /content/Model_Reduction_Methods/expand_example/x86_64/Im.c\n",
            "Thread Safe\n",
            " -> \u001b[32mNMODL\u001b[0m ../mod/K_Pst.mod\n",
            "Thread Safe\n",
            " -> \u001b[32mNMODL\u001b[0m ../mod/K_Tst.mod\n",
            "Translating K_Pst.mod into /content/Model_Reduction_Methods/expand_example/x86_64/K_Pst.c\n",
            " -> \u001b[32mNMODL\u001b[0m ../mod/Nap_Et2.mod\n",
            "Thread Safe\n",
            "Translating K_Tst.mod into /content/Model_Reduction_Methods/expand_example/x86_64/K_Tst.c\n",
            "Thread Safe\n",
            " -> \u001b[32mNMODL\u001b[0m ../mod/NaTa_t.mod\n",
            " -> \u001b[32mNMODL\u001b[0m ../mod/NaTs2_t.mod\n",
            "Translating Nap_Et2.mod into /content/Model_Reduction_Methods/expand_example/x86_64/Nap_Et2.c\n",
            "Thread Safe\n",
            "Translating NaTa_t.mod into /content/Model_Reduction_Methods/expand_example/x86_64/NaTa_t.c\n",
            "Thread Safe\n",
            " -> \u001b[32mNMODL\u001b[0m ../mod/SK_E2.mod\n",
            "Translating NaTs2_t.mod into /content/Model_Reduction_Methods/expand_example/x86_64/NaTs2_t.c\n",
            "Thread Safe\n",
            " -> \u001b[32mNMODL\u001b[0m ../mod/SKv3_1.mod\n",
            " -> \u001b[32mCompiling\u001b[0m CaDynamics_E2.c\n",
            "Translating SKv3_1.mod into /content/Model_Reduction_Methods/expand_example/x86_64/SKv3_1.c\n",
            "Thread Safe\n",
            " -> \u001b[32mCompiling\u001b[0m Ca_HVA.c\n",
            "Translating SK_E2.mod into /content/Model_Reduction_Methods/expand_example/x86_64/SK_E2.c\n",
            "Thread Safe\n",
            " -> \u001b[32mCompiling\u001b[0m Ca_LVAst.c\n",
            " -> \u001b[32mCompiling\u001b[0m epsp.c\n",
            " -> \u001b[32mCompiling\u001b[0m Ih.c\n",
            " -> \u001b[32mCompiling\u001b[0m Im.c\n",
            " -> \u001b[32mCompiling\u001b[0m K_Pst.c\n",
            " -> \u001b[32mCompiling\u001b[0m K_Tst.c\n",
            " -> \u001b[32mCompiling\u001b[0m Nap_Et2.c\n",
            " -> \u001b[32mCompiling\u001b[0m NaTa_t.c\n",
            " -> \u001b[32mCompiling\u001b[0m NaTs2_t.c\n",
            " -> \u001b[32mCompiling\u001b[0m SK_E2.c\n",
            " -> \u001b[32mCompiling\u001b[0m SKv3_1.c\n",
            " => \u001b[32mLINKING\u001b[0m shared library ./libnrnmech.so\n",
            " => \u001b[32mLINKING\u001b[0m executable ./special LDFLAGS are:    -pthread\n",
            "Successfully created x86_64/special\n"
          ]
        }
      ]
    },
    {
      "cell_type": "markdown",
      "id": "2a84fbea",
      "metadata": {
        "id": "2a84fbea"
      },
      "source": [
        "## Setup smiulation parameters"
      ]
    },
    {
      "cell_type": "code",
      "execution_count": 8,
      "id": "4be7f6fd",
      "metadata": {
        "id": "4be7f6fd",
        "colab": {
          "base_uri": "https://localhost:8080/"
        },
        "outputId": "b1fcf4e8-fcee-49fa-85db-fa37119d610b"
      },
      "outputs": [
        {
          "output_type": "execute_result",
          "data": {
            "text/plain": [
              "1.0"
            ]
          },
          "metadata": {},
          "execution_count": 8
        }
      ],
      "source": [
        "import numpy as np\n",
        "import pandas as pd\n",
        "import json\n",
        "import matplotlib.pyplot as plt\n",
        "import ipywidgets as widgets\n",
        "from neuron import h\n",
        "from scipy import signal\n",
        "from IPython.display import display, clear_output\n",
        "from ipywidgets import interactive_output, HBox, VBox, Label, Layout\n",
        "\n",
        "from __future__ import division\n",
        "from neuron import gui,h\n",
        "import numpy as np\n",
        "import time\n",
        "import matplotlib.pyplot as plt\n",
        "\n",
        "%matplotlib inline\n",
        "\n",
        "\n",
        "h.load_file('stdrun.hoc')\n",
        "# h.nrn_load_dll(paths.COMPILED_LIBRARY_REDUCED_ORDER)  # choose the set of mechanisms\n",
        "h.nrn_load_dll('./x86_64/.libs/libnrnmech.so')\n"
      ]
    },
    {
      "cell_type": "markdown",
      "id": "7927a07b",
      "metadata": {
        "id": "7927a07b"
      },
      "source": [
        "### Create a cell with reduced morphology"
      ]
    },
    {
      "cell_type": "code",
      "source": [
        "%ls"
      ],
      "metadata": {
        "id": "s0gis1f1OdWX",
        "colab": {
          "base_uri": "https://localhost:8080/"
        },
        "outputId": "0151296b-4c46-487c-ddac-0b8611dd8d06"
      },
      "id": "s0gis1f1OdWX",
      "execution_count": 9,
      "outputs": [
        {
          "output_type": "stream",
          "name": "stdout",
          "text": [
            "cell1.asc  example_expand.py  L5PCtemplate.hoc  \u001b[0m\u001b[01;34mx86_64\u001b[0m/\n",
            "Cell.hoc   L5PCbiophys3.hoc   \u001b[01;34mmod\u001b[0m/\n"
          ]
        }
      ]
    },
    {
      "cell_type": "code",
      "source": [
        "# class Synapse(PointCurrent):\n",
        "#     def __init__(self, cell, stim: h.NetStim, sec_index: int,\n",
        "#                   syn_type: str = 'Exp2Syn', gmax: float = 0.01, loc: float = 0.5,\n",
        "#                   record: bool = False):\n",
        "#         super().__init__(cell, sec_index, loc)\n",
        "#         self.stim = stim\n",
        "#         self.gmax = gmax\n",
        "#         self.__synapse_type(syn_type)\n",
        "#         self.setup(record)\n",
        "\n",
        "#     # PRIVATE METHODS\n",
        "#     def __synapse_type(self, syn_type):\n",
        "#         if syn_type == 'AlphaSynapse1':\n",
        "#             # Reversal potential (mV); Synapse time constant (ms)\n",
        "#             self.syn_params = {'e': 0., 'tau': 2.0}\n",
        "#             # Variable name of maximum conductance (uS)\n",
        "#             self.gmax_var = 'gmax'\n",
        "#         elif syn_type == 'Exp2Syn':\n",
        "#             self.syn_params = {'e': 0., 'tau1': 1.0, 'tau2': 3.0}\n",
        "#             self.gmax_var = '_nc_weight'\n",
        "#         else:\n",
        "#             raise ValueError(\"Synpase type not defined.\")\n",
        "#         self.syn_type = syn_type\n",
        "#         self.pp_obj = getattr(h, syn_type)(self.get_section()(self.loc))\n",
        "\n",
        "#     def __setup_synapse(self):\n",
        "#         self.syn = self.pp_obj\n",
        "#         self.nc = h.NetCon(self.stim, self.syn, 1, 0, 1)\n",
        "#         for key, value in self.syn_params.items():\n",
        "#             setattr(self.syn, key, value)\n",
        "#         self.set_gmax()\n",
        "\n",
        "#     # PUBLIC METHODS\n",
        "#     def setup(self, record: bool = False):\n",
        "#         self.__setup_synapse()\n",
        "#         if record:\n",
        "#             self.setup_recorder()\n",
        "    \n",
        "#     def set_gmax(self, gmax: float = None):\n",
        "#         if gmax is not None:\n",
        "#             self.gmax = gmax\n",
        "#         if self.gmax_var == '_nc_weight':\n",
        "#             self.nc.weight[0] = self.gmax\n",
        "#         else:\n",
        "#             setattr(self.syn, self.gmax_var, self.gmax)"
      ],
      "metadata": {
        "id": "8TE_op1mUTii"
      },
      "id": "8TE_op1mUTii",
      "execution_count": 10,
      "outputs": []
    },
    {
      "cell_type": "code",
      "source": [
        "from neuron import h\n",
        "from typing import Optional, Union, List\n",
        "import numpy as np\n",
        "import pandas as pd\n",
        "import math\n",
        "from neuron import h\n",
        "from typing import Optional, Union, List\n",
        "import numpy as np\n",
        "import pandas as pd\n",
        "import math\n",
        "import os\n",
        "import h5py\n",
        "import csv\n",
        "import matplotlib.pyplot as plt\n",
        "\n",
        "from stylized_module.recorder import Recorder\n",
        "# from modeling_module.synapses import CurrentInjection, Synapse, Listed_Synapse\n",
        "\n",
        "class cell_model():\n",
        "  '''expanded cell model class for ECP calculation\n",
        "  takes hoc cell model and does bookkeeping for analysis functions\n",
        "  '''\n",
        "  def __init__(self,model,synapses_list=None,netcons_list=None,gen_3d=True,gen_geom_csv=False,spike_threshold: Optional[float] = None):\n",
        "    self.all=model.all\n",
        "    self.soma=model.soma\n",
        "    self.apic=model.apic\n",
        "    self.dend=model.dend\n",
        "    self.axon=model.axon\n",
        "    #convert nrn section lists to python lists if applicable\n",
        "    self.all=self.__convert_sectionlist(sectionlist=self.all)\n",
        "    self.soma=self.__convert_sectionlist(sectionlist=self.soma, return_singles=True) #if sectionlist contains only one section returns just the section instead of list of sections\n",
        "    self.dend=self.__convert_sectionlist(sectionlist=self.dend)\n",
        "    self.apic=self.__convert_sectionlist(sectionlist=self.apic)\n",
        "    self.axon=self.__convert_sectionlist(sectionlist=self.axon)\n",
        "    self.spike_threshold = spike_threshold\n",
        "    self.synapses_list=synapses_list #list of synapse objects from model reduction\n",
        "    self.netcons_list=netcons_list # list of netcon objects from model reduction\n",
        "    self.segments=[] # list for nrn segment objects\n",
        "    self.injection=[] # list of injection objects\n",
        "    self.synapse=[] # list of python synapse class objects\n",
        "    self.sec_id_lookup = {}  # dictionary from section type id to section index\n",
        "    self.sec_id_in_seg = []  # index of the first segment of each section in the segment list\n",
        "    self.sec_angs = [] # list of angles that were used to branch the cell\n",
        "    self.sec_rots = []\n",
        "    self.__generate_sec_coords()\n",
        "    self.__store_segments()\n",
        "    self.__set_spike_recorder()\n",
        "    self.__calc_seg_coords()\n",
        "    self.__store_synapses_list() #store and record synapses from the synapses_list used to initialize the cell\n",
        "    self.grp_ids = []\n",
        "    if gen_geom_csv==True:\n",
        "      self.__generate_geometry_file()\n",
        "    # self.calculate_netcons_per_seg()\n",
        "    self.__insert_unused_channels()\n",
        "    self.__setup_recorders()\n",
        "  \n",
        "  def __calc_seg_coords(self):\n",
        "      \"\"\"Calculate segment coordinates for ECP calculation\"\"\"\n",
        "      nseg_total = sum(sec.nseg for sec in self.all)\n",
        "      p0 = np.empty((nseg_total, 3))\n",
        "      p1 = np.empty((nseg_total, 3))\n",
        "      p05 = np.empty((nseg_total, 3))\n",
        "      r = np.empty(nseg_total)\n",
        "      seg_idx = 0\n",
        "      for sec in self.all:\n",
        "          nseg = sec.nseg\n",
        "          pt0 = np.array([sec.x3d(0), sec.y3d(0), sec.z3d(0)])\n",
        "          for i in range(sec.n3d()-1):\n",
        "              arc_length_before = sec.arc3d(i)\n",
        "              arc_length_after = sec.arc3d(i+1)\n",
        "              for seg in sec:\n",
        "                  if (arc_length_before/sec.L) <= seg.x <= (arc_length_after/sec.L):\n",
        "                      # seg.x is between 3d coordinates i and i+1\n",
        "                      seg_x_between_coordinates = (seg.x * sec.L - arc_length_before) / (arc_length_after - arc_length_before)\n",
        "                      # calculate 3d coordinates at seg_x_between_coordinates\n",
        "                      x_before, y_before, z_before = sec.x3d(i), sec.y3d(i), sec.z3d(i)\n",
        "                      x_after, y_after, z_after = sec.x3d(i+1), sec.y3d(i+1), sec.z3d(i+1)\n",
        "                      x_coord = x_before + (x_after - x_before) * seg_x_between_coordinates\n",
        "                      y_coord = y_before + (y_after - y_before) * seg_x_between_coordinates\n",
        "                      z_coord = z_before + (z_after - z_before) * seg_x_between_coordinates\n",
        "                      pt0 = np.array([x_before, y_before, z_before])\n",
        "                      pt1 = np.array([x_coord, y_coord, z_coord])\n",
        "                      pt2 = np.array([x_after, y_after, z_after])\n",
        "                      p0[seg_idx] = pt0\n",
        "                      p1[seg_idx] = pt1\n",
        "                      p05[seg_idx] = (pt0 + pt1) / 2\n",
        "                      r[seg_idx] = seg.diam / 2\n",
        "                      seg_idx += 1\n",
        "      self.seg_coords = {'p0': p0, 'p1': p1, 'pc': p05, 'r': r, 'dl': p1 - p0}\n",
        "      return self.seg_coords \n",
        " \n",
        "  def __calc_seg_coords__dict(self):\n",
        "      \"\"\"Calculate segment coordinates for ECP calculation\"\"\"\n",
        "      self.seg_coords = {}\n",
        "      for sec in self.all:\n",
        "          nseg = sec.nseg\n",
        "          pt0 = np.array([sec.x3d(0), sec.y3d(0), sec.z3d(0)])\n",
        "          for i in range(sec.n3d()-1):\n",
        "              arc_length_before = sec.arc3d(i)\n",
        "              arc_length_after = sec.arc3d(i+1)\n",
        "              for iseg,seg in enumerate(sec):\n",
        "                  if (arc_length_before/sec.L) <= seg.x <= (arc_length_after/sec.L):\n",
        "                      # seg.x is between 3d coordinates i and i+1\n",
        "                      seg_x_between_coordinates = (seg.x * sec.L - arc_length_before) / (arc_length_after - arc_length_before)\n",
        "                      # calculate 3d coordinates at seg_x_between_coordinates\n",
        "                      x_before, y_before, z_before = sec.x3d(i), sec.y3d(i), sec.z3d(i)\n",
        "                      x_after, y_after, z_after = sec.x3d(i+1), sec.y3d(i+1), sec.z3d(i+1)\n",
        "                      x_coord = x_before + (x_after - x_before) * seg_x_between_coordinates\n",
        "                      y_coord = y_before + (y_after - y_before) * seg_x_between_coordinates\n",
        "                      z_coord = z_before + (z_after - z_before) * seg_x_between_coordinates\n",
        "                      pt0 = (x_before, y_before, z_before)\n",
        "                      pt1 = (x_coord, y_coord, z_coord)\n",
        "                      pt2 = (x_after, y_after, z_after)\n",
        "                      seg_id = self.segments.index(seg)\n",
        "                      if seg_id not in self.seg_coords:\n",
        "                          self.seg_coords[seg_id] = {'p0': np.empty((nseg, 3)), 'p1': np.empty((nseg, 3)), 'p05': np.empty((nseg, 3)), 'r': np.empty(nseg)}\n",
        "                      self.seg_coords[seg_id]['p0'][iseg, :] = np.array(pt0)\n",
        "                      self.seg_coords[seg_id]['p1'][iseg, :] = np.array(pt1)\n",
        "                      self.seg_coords[seg_id]['p05'][iseg, :] = (np.array(pt0) + np.array(pt1)) / 2\n",
        "                      self.seg_coords[seg_id]['r'][iseg] = seg.diam / 2\n",
        "      for seg_id in self.seg_coords:\n",
        "          self.seg_coords[seg_id]['dl'] = self.seg_coords[seg_id]['p1'] - self.seg_coords[seg_id]['p0']\n",
        "      return self.seg_coords\n",
        "  \n",
        "  def __calc_seg_coords__byseg(self):\n",
        "      \"\"\"Calculate segment coordinates for ECP calculation\"\"\"\n",
        "      self.seg_coords = {}\n",
        "      p0 = np.empty((self._nseg, 3))\n",
        "      p1 = np.empty((self._nseg, 3))\n",
        "      p05 = np.empty((self._nseg, 3))\n",
        "      r = np.empty(self._nseg)\n",
        "      for iseg, seg in enumerate(self.segments):\n",
        "          sec = seg.sec\n",
        "          nseg = sec.nseg\n",
        "          pt0 = np.array([sec.x3d(0), sec.y3d(0), sec.z3d(0)])\n",
        "          for i in range(sec.n3d()-1):\n",
        "              arc_length_before = sec.arc3d(i)\n",
        "              arc_length_after = sec.arc3d(i+1)\n",
        "              if (arc_length_before/sec.L) <= seg.x <= (arc_length_after/sec.L):\n",
        "                  # seg.x is between 3d coordinates i and i+1\n",
        "                  seg_x_between_coordinates = (seg.x * sec.L - arc_length_before) / (arc_length_after - arc_length_before)\n",
        "                  # calculate 3d coordinates at seg_x_between_coordinates\n",
        "                  x_before, y_before, z_before = sec.x3d(i), sec.y3d(i), sec.z3d(i)\n",
        "                  x_after, y_after, z_after = sec.x3d(i+1), sec.y3d(i+1), sec.z3d(i+1)\n",
        "                  x_coord = x_before + (x_after - x_before) * seg_x_between_coordinates\n",
        "                  y_coord = y_before + (y_after - y_before) * seg_x_between_coordinates\n",
        "                  z_coord = z_before + (z_after - z_before) * seg_x_between_coordinates\n",
        "                  pt0 = (x_before, y_before, z_before)\n",
        "                  pt1 = (x_coord, y_coord, z_coord)\n",
        "                  pt2 = (x_after, y_after, z_after)\n",
        "                  self.seg_coords[iseg] = {'dl': sec.L/nseg, 'pc': pt1, 'r': seg.diam/2}\n",
        "      return self.seg_coords\n",
        "    \n",
        "\n",
        "  def __calc_seg_coords_orig(self):\n",
        "      \"\"\"Calculate segment coordinates for ECP calculation\"\"\"\n",
        "      p0 = np.empty((self._nseg, 3))\n",
        "      p1 = np.empty((self._nseg, 3))\n",
        "      p05 = np.empty((self._nseg, 3))\n",
        "      r = np.empty(self._nseg)\n",
        "      for isec, sec in enumerate(self.all):\n",
        "          iseg = self.sec_id_in_seg[isec]\n",
        "          nseg = sec.nseg\n",
        "          pt0 = np.array([sec.x3d(0), sec.y3d(0), sec.z3d(0)])\n",
        "          pt1 = np.array([sec.x3d(1), sec.y3d(1), sec.z3d(1)])\n",
        "          pts = np.linspace(pt0, pt1, 2 * nseg + 1)\n",
        "          p0[iseg:iseg + nseg, :] = pts[:-2:2, :]\n",
        "          p1[iseg:iseg + nseg, :] = pts[2::2, :]\n",
        "          p05[iseg:iseg + nseg, :] = pts[1:-1:2, :]\n",
        "          r[iseg:iseg + nseg] = sec.diam / 2\n",
        "      self.seg_coords = {'dl': p1 - p0, 'pc': p05, 'r': r}\n",
        "     \n",
        "\n",
        "  def __store_segments(self):\n",
        "    self.segments = []\n",
        "    self.sec_id_in_seg = []\n",
        "    nseg = 0\n",
        "    for sec in self.all:\n",
        "        self.sec_id_in_seg.append(nseg)\n",
        "        nseg += sec.nseg\n",
        "        for seg in sec:\n",
        "            self.segments.append(seg)\n",
        "#             self.__store_point_processes(seg) #may be outdated (was storing netcons from netcons list into self.injection \n",
        "    self._nseg = nseg\n",
        "\n",
        "  def __store_synapses_list(self):\n",
        "    '''\n",
        "    store and record synapses from the list from model reduction algorithm\n",
        "    '''\n",
        "    temp_list=[] # generate temp list that has each netcon's synapse obj\n",
        "    for netcon in self.netcons_list:\n",
        "      syn=netcon.syn()\n",
        "      if syn in self.synapses_list:\n",
        "        syn_seg_id=self.segments.index(netcon.syn().get_segment())\n",
        "        if syn in self.segments[syn_seg_id].point_processes():\n",
        "          temp_list.append(syn)\n",
        "        else:\n",
        "          temp_list.append(None)\n",
        "          print(\"Warning: synapse not in designated segment's point processes\")\n",
        "\n",
        "      else:\n",
        "        temp_list.append(None)\n",
        "        print(\"Warning: potentially deleted synapse:\",\"|NetCon obj:\",netcon,\"|Synapse obj:\",syn,\"the NetCon's synapse is not in synapses_list. Check corresponding original cell's NetCon for location, etc.\")\n",
        "    # now use temp list to assign each synapse its netcons\n",
        "    for synapse in self.synapses_list:\n",
        "      synapse_netcons=[]\n",
        "      if synapse in temp_list:\n",
        "        num_netcons=temp_list.count(synapse)\n",
        "        START=0\n",
        "        for i in range(num_netcons):\n",
        "          netcon_id=temp_list.index(synapse,START) #get all the netcon indices that are pointed toward this synapse # use np.where() instead of index() to return multiple indices.\n",
        "          START=netcon_id+1\n",
        "          synapse_netcons.append(self.netcons_list[netcon_id])\n",
        "        self.synapse.append(Listed_Synapse(synapse,synapse_netcons)) #record synapse and add to the list\n",
        "      else:\n",
        "        print('Warning: ', synapse, 'does not have any netcons pointing at it. if synapse is None then deleted synapse may be stored in synapses_list')\n",
        "\n",
        "  def __store_point_processes(self,seg):\n",
        "    '''\n",
        "    May be outdated. should not be used. May need to change self.injection\n",
        "    '''\n",
        "    for pp in seg.point_processes():\n",
        "        self.injection.append(pp)\n",
        "\n",
        "  def __set_spike_recorder(self, threshold: Optional = None):\n",
        "      if threshold is not None:\n",
        "          self.spike_threshold = threshold\n",
        "      if self.spike_threshold is None:\n",
        "          self.spikes = None\n",
        "      else:\n",
        "          vec = h.Vector()\n",
        "          nc = h.NetCon(self.soma(0.5)._ref_v, None, sec=self.soma)\n",
        "          nc.threshold = self.spike_threshold\n",
        "          nc.record(vec)\n",
        "          self.spikes = vec\n",
        "\n",
        "  def get_spike_time(self, index: Union[np.ndarray, List[int], int, str] = 0) -> np.ndarray:\n",
        "      \"\"\"\n",
        "      Return soma spike time of the cell by index (indices), ndarray (list of ndarray)\n",
        "      Parameters\n",
        "      index: index of the cell to retrieve the spikes from\n",
        "      \"\"\"\n",
        "      if self.spike_threshold is None:\n",
        "          raise ValueError(\"Spike recorder was not set up.\")\n",
        "      if type(index) is str and index == 'all':\n",
        "          index = range(self.ncell)\n",
        "      if not hasattr(index, '__len__'):\n",
        "          spk = self.spikes.as_numpy().copy()\n",
        "      else:\n",
        "          index = np.asarray(index).ravel()\n",
        "          spk = np.array([self.spikes.as_numpy().copy() for i in index], dtype=object)\n",
        "      return spk\n",
        "\n",
        "  def add_injection(self, sec_index, **kwargs):\n",
        "        \"\"\"Add current injection to a section by its index\"\"\"\n",
        "        self.injection.append(CurrentInjection(self, sec_index, **kwargs))\n",
        "\n",
        "  def add_synapse(self, stim: h.NetStim, sec_index: int, **kwargs):\n",
        "        \"\"\"Add synapse to a section by its index\"\"\"\n",
        "        new_syn=Synapse(self, stim, sec_index, **kwargs)\n",
        "        self.netcons_list.append(new_syn.nc)\n",
        "        self.synapse.append(new_syn)\n",
        "\n",
        "  def __generate_sec_coords(self):\n",
        "      '''\n",
        "      Note: need to improve branching so that it is random direction in a quadrant of a sphere rather than x-y plane\n",
        "      takes a cell that has no n3d() coordinates and gives new coordinates\n",
        "      by choosing an arbitrary direction for the subtree to move\n",
        "      '''\n",
        "      section_obj_list = self.all\n",
        "      axial = False\n",
        "      parent_sections = [] # list for already seen parent_sections of this type\n",
        "      seen_dend=[]\n",
        "      for sec in section_obj_list:\n",
        "          if sec.n3d() == 0: #better to just give all sections only 2 3d coordinates\n",
        "              print(\"Generating 3D coordinates for: \", sec)\n",
        "              sec_length = sec.L\n",
        "              if sec is self.soma:\n",
        "                  self.sec_angs.append(0)\n",
        "                  self.sec_rots.append(0)\n",
        "                  if sec.nseg != 1:\n",
        "                      print('Changing soma nseg from', sec.nseg, 'to 1')\n",
        "                      sec.nseg = 1\n",
        "                  # Set the soma's 3d coordinates so that it is a cylinder that at least approximates a sphere\n",
        "                  pt0 = [0., -1 * sec.L / 2., 0.]\n",
        "                  pt1 = [0., sec.L / 2., 0.]\n",
        "                  sec.pt3dclear()\n",
        "                  sec.pt3dadd(*pt0, sec.diam)\n",
        "                  sec.pt3dadd(*pt1, sec.diam)\n",
        "              else:\n",
        "                  if sec.parentseg() is not None:\n",
        "                      pseg = sec.parentseg()\n",
        "                      psec = pseg.sec\n",
        "                      if (psec in self.apic) and (sec is not self.apic[0]): # branch\n",
        "                          nbranch = len(psec.children()) #branches\n",
        "                      elif sec in self.dend:\n",
        "                          nbranch = len(psec.children())-2 #basal dendrites\n",
        "                      else:\n",
        "                          nbranch = 1 #trunk, axon\n",
        "                  else:\n",
        "                      print(sec,\"is attached to None\")\n",
        "                      psec = None # may need to provide more implementation in the case of no 3d coords and no parent section.\n",
        "                      nbranch = 1\n",
        "                  \n",
        "                  rot = 2 * math.pi / nbranch\n",
        "#                   rot = np.random.uniform(low=0, high=2 * np.pi) # rot can be used to uniformly rotate branches if i=parent_sections.count(psec) and rot = 2 * math.pi/nbranch\n",
        "\n",
        "                  i = 0 # i can be used to uniformly rotate the sections if rot = 2 * math.pi/nbranch and i=parent_sections.count(psec)\n",
        "\n",
        "    #               i=1 #i can be used to uniformly rotate the sections if rot = 2 * math.pi/nbranch and i=parent_sections.count(psec)\n",
        "                  if nbranch==1:\n",
        "                    i=0\n",
        "                  else:\n",
        "                    i=parent_sections.count(psec)\n",
        "                  if (sec is not self.apic[0]) and (sec not in self.axon):\n",
        "                    parent_sections.append(psec)\n",
        "\n",
        "                  length = sec.L\n",
        "\n",
        "                  fullsecname = sec.name()\n",
        "                  sec_type = fullsecname.split(\".\")[1][:4]\n",
        "\n",
        "                  if sec_type == \"apic\":\n",
        "                      if sec == self.apic[0]: # trunk\n",
        "                          ang = 1.570796327\n",
        "                      else:\n",
        "                          # ang = np.random.uniform(low=0, high=np.pi) # branches\n",
        "                          ang = np.random.normal(loc=np.pi/2, scale=0.5) # could add limits to ang (if ang>val:ang=val)\n",
        "                      if ang > np.pi:\n",
        "                        ang=np.pi\n",
        "                      elif ang < 0:\n",
        "                        ang = 0\n",
        "                  elif sec_type == \"dend\":\n",
        "                      # ang = -np.random.uniform(low=0, high=np.pi)\n",
        "                      ang = np.random.normal(loc=-np.pi/2, scale=0.5) # could add limits to ang (if ang>val:ang=val)\n",
        "                      if ang < -np.pi:\n",
        "                        ang=-np.pi\n",
        "                      elif ang > 0:\n",
        "                        ang = 0\n",
        "                  elif sec_type == \"axon\":\n",
        "                      ang = -1.570796327\n",
        "                  else:\n",
        "                      print(sec, sec_type, ' is not apic, dend or axon')\n",
        "                      ang = 0\n",
        "\n",
        "                  if axial == True:\n",
        "                      x = 0\n",
        "                      y = length*((ang>=0)*2-1)\n",
        "                  else:\n",
        "                      x = length * math.cos(ang)\n",
        "                      y = length * math.sin(ang)\n",
        "                  self.sec_angs.append(ang)\n",
        "                  self.sec_rots.append(i*rot)\n",
        "                  # find starting position using parent segment coordinates\n",
        "                  for i in range(psec.n3d()-1):\n",
        "                      arc_length_before = psec.arc3d(i)\n",
        "                      arc_length_after = psec.arc3d(i+1)\n",
        "                      if (arc_length_before/psec.L) <= pseg.x <= (arc_length_after/psec.L):\n",
        "                          # pseg.x is between 3d coordinates i and i+1\n",
        "                          psec_x_between_coordinates = (pseg.x * psec.L - arc_length_before) / (arc_length_after - arc_length_before)\n",
        "                          # calculate 3d coordinates at psec_x_between_coordinates\n",
        "                          x_before, y_before, z_before = psec.x3d(i), psec.y3d(i), psec.z3d(i)\n",
        "                          x_after, y_after, z_after = psec.x3d(i+1), psec.y3d(i+1), psec.z3d(i+1)\n",
        "                          x_coord = x_before + (x_after - x_before) * psec_x_between_coordinates\n",
        "                          y_coord = y_before + (y_after - y_before) * psec_x_between_coordinates\n",
        "                          z_coord = z_before + (z_after - z_before) * psec_x_between_coordinates\n",
        "                          pt0 = (x_coord, y_coord, z_coord)\n",
        "                          break\n",
        "                  pt1 = [0., 0., 0.]\n",
        "                  pt1[1] = pt0[1] + y\n",
        "                  pt1[0] = pt0[0] + x * math.cos(i * rot)\n",
        "                  pt1[2] = pt0[2] + x * math.sin(i * rot)\n",
        "                  # print(sec,i*rot)\n",
        "                  sec.pt3dclear()\n",
        "                  sec.pt3dadd(*pt0, sec.diam)\n",
        "                  sec.pt3dadd(*pt1, sec.diam)\n",
        "              if int(sec.L) != int(sec_length):\n",
        "                print('Error: generation of 3D coordinates resulted in change of section length for',sec,'from',sec_length,'to',sec.L)\n",
        "\n",
        "  def __generate_sec_coords__old(self):\n",
        "        '''\n",
        "        Note: need to improve branching so that it is random direction in a quadrant of a sphere rather than x-y plane\n",
        "        takes a cell that has no n3d() coordinates and gives new coordinates\n",
        "        by choosing an arbitrary direction for the subtree to move\n",
        "        '''\n",
        "        section_obj_list= self.all\n",
        "        # print(section_obj_list)\n",
        "        axial=False\n",
        "        parent_sections=[] #list for already seen parent_sections of this type\n",
        "        for sec in section_obj_list:\n",
        "          if sec.n3d() != 0:\n",
        "            print(\"Generating 3D coordinates for: \",sec)\n",
        "            sec_length=sec.L\n",
        "            if sec is self.soma:\n",
        "              self.sec_angs.append(0)\n",
        "              self.sec_rots.append(0)\n",
        "              # pt0 = [0., -1 * sec.diam, 0.] #does not seem to preserve soma shape , but need to make sure soma children begin at correct 3d coordinate.\n",
        "              # pt1 = [0., 0., 0.]\n",
        "              # sec.pt3dclear()\n",
        "              # sec.pt3dadd(*pt0, sec.diam)\n",
        "              # sec.pt3dadd(*pt1, sec.diam)\n",
        "              if sec.nseg != 1:\n",
        "                print('Changing soma nseg from',sec.nseg,'to 1')\n",
        "                sec.nseg = 1\n",
        "            else:\n",
        "              if sec.parentseg() is not None:\n",
        "                psec=sec.parentseg().sec\n",
        "                if (psec in self.apic) and (psec is not self.apic[0]): # branch\n",
        "                  # print('branch')\n",
        "                  nbranch = len(psec.children())\n",
        "                else:\n",
        "                  nbranch=1\n",
        "              else:\n",
        "                psec=None # may need to provide more implementation in the case of no 3d coords and no parent section.\n",
        "                nbranch=1\n",
        "\n",
        "              # rot = 2 * math.pi/nbranch\n",
        "              rot=np.random.uniform(low=0,high=2*np.pi)# rot can be used to uniformly rotate branches if i=parent_sections.count(psec) and rot = 2 * math.pi/nbranch\n",
        "\n",
        "              i=1 #i can be used to uniformly rotate the sections if rot = 2 * math.pi/nbranch and i=parent_sections.count(psec)\n",
        "              # if nbranch==1:\n",
        "              #   i=1\n",
        "              # else:\n",
        "              #   i=parent_sections.count(psec)\n",
        "\n",
        "#               parent_sections.append(psec)\n",
        "              # print(\"sec: \",sec, \"|nbranch: \",nbranch,\"|i: ,\",i,\"|parent_sections:\",parent_sections)\n",
        "              length=sec.L\n",
        "              diameter=sec.diam\n",
        "              fullsecname = sec.name()\n",
        "              # print(fullsecname)\n",
        "              sec_type = fullsecname.split(\".\")[1][:4]\n",
        "              print(sec_type)\n",
        "              if sec_type == \"apic\":\n",
        "                if sec==self.apic[0]: # trunk\n",
        "                  ang=1.570796327\n",
        "                else:\n",
        "                  # ang=np.random.uniform(low=0,high=np.pi) #branches\n",
        "                  ang=np.random.normal(loc=np.pi/2,scale=0.5) # could add limits to ang (if ang>val:ang=val)\n",
        "              elif sec in self.dend:\n",
        "                # ang=-np.random.uniform(low=0,high=np.pi)\n",
        "                ang=-np.random.normal(loc=np.pi/2,scale=0.5) # could add limits to ang (if ang>val:ang=val)\n",
        "              elif sec_type==\"axon\":\n",
        "                ang=-1.570796327\n",
        "              else:\n",
        "                print(sec,sec_type,' is not apic, dend or axon')\n",
        "                ang=0\n",
        "              if axial == True:\n",
        "                x = 0\n",
        "                y = length*((ang>=0)*2-1)\n",
        "              else:\n",
        "                x = length * math.cos(ang)\n",
        "                y = length * math.sin(ang)\n",
        "              self.sec_angs.append(ang)\n",
        "              self.sec_rots.append(i*rot)\n",
        "              #find starting position #need to update to use parent segment coordinates instead of using first section coordinate\n",
        "              pt0 = [psec.x3d(1), psec.y3d(1), psec.z3d(1)]\n",
        "              pt1 = [0., 0., 0.]\n",
        "              pt1[1] = pt0[1] + y\n",
        "              pt1[0] = pt0[0] + x * math.cos(i * rot)\n",
        "              pt1[2] = pt0[2] + x * math.sin(i * rot)\n",
        "              # print(sec,i*rot)\n",
        "              sec.pt3dclear()\n",
        "              sec.pt3dadd(*pt0, sec.diam)\n",
        "              sec.pt3dadd(*pt1, sec.diam)\n",
        "            if int(sec.L) != int(sec_length):\n",
        "              print('Error: generation of 3D coordinates resulted in change of section length for',sec,'from',sec_length,'to',sec.L)\n",
        "\n",
        "  def __generate_geometry_file(self):\n",
        "    '''\n",
        "    generates geometry file specifying name, pid, ang, radius, length, type\n",
        "    work in progress\n",
        "    '''\n",
        "    df = pd.DataFrame()\n",
        "    ids=[]\n",
        "    names=[]\n",
        "    types=[]\n",
        "    pids=[]\n",
        "    axials=[]\n",
        "    nbranchs=[]\n",
        "    Ls=[]\n",
        "    Rs=[]\n",
        "    angs=self.sec_angs\n",
        "    rots=self.sec_rots\n",
        "    for sec in self.all:\n",
        "      # print(dir(sec))\n",
        "      name=sec.name()\n",
        "      # print(name)\n",
        "      names.append(name)\n",
        "      ids.append(names.index(name))\n",
        "      _,sec_type_withinteger=name.split('.')\n",
        "      sec_type,_=sec_type_withinteger.split('[')\n",
        "      types.append(sec_type)\n",
        "      pseg = sec.parentseg()\n",
        "      if pseg == None:\n",
        "        pids.append(None)\n",
        "      else:\n",
        "        psec=pseg.sec\n",
        "        px3d=psec.x3d\n",
        "        pids.append(int(names.index(psec.name())))\n",
        "      # axials.append('TRUE')\n",
        "      # nbranchs.append(1)\n",
        "      Ls.append(sec.L)\n",
        "      # print(dir(sec))\n",
        "      Rs.append(sec.diam/2)\n",
        "    df['id']=ids\n",
        "    df['name']=names\n",
        "    df['pid']=pids\n",
        "    df['type']=types\n",
        "    df['L']=Ls\n",
        "    df['R']=Rs\n",
        "    try:df['ang']=angs\n",
        "    except:pass\n",
        "    df['rot']=rots\n",
        "    # df['axials']=axials # may need to fix\n",
        "    # df['nbranch']=nbranchs # may need to fix\n",
        "    self.geometry=df\n",
        "\n",
        "  def __convert_sectionlist(self,sectionlist,return_singles=False):\n",
        "    '''\n",
        "    convert nrn sectionlist objects to python list\n",
        "    return_singles set to true will return section instead of [section] for lists with only one section\n",
        "    '''\n",
        "    new_sectionlist=[]\n",
        "    if str(type(sectionlist)) == \"<class 'hoc.HocObject'>\":\n",
        "      for sec in sectionlist:\n",
        "        new_sectionlist.append(sec)\n",
        "    else:\n",
        "      new_sectionlist=sectionlist\n",
        "    if return_singles==True:\n",
        "      if str(type(new_sectionlist))!=\"<class 'nrn.Section'>\":\n",
        "        if len(new_sectionlist)==1:\n",
        "          new_sectionlist=new_sectionlist[0]\n",
        "    return new_sectionlist\n",
        "\n",
        "  def __insert_unused_channels(self):\n",
        "      channels = [('NaTa_t', 'gNaTa_t_NaTa_t', 'gNaTa_tbar'),\n",
        "                  ('Ca_LVAst', 'ica_Ca_LVAst', 'gCa_LVAstbar'),\n",
        "                  ('Ca_HVA', 'ica_Ca_HVA', 'gCa_HVAbar'),\n",
        "                  ('Ih', 'ihcn_Ih', 'gIhbar')]\n",
        "      for channel, attr, conductance in channels:\n",
        "          for sec in self.all:\n",
        "              if not hasattr(sec(0.5), attr):\n",
        "                  sec.insert(channel)\n",
        "                  for seg in sec:\n",
        "                      setattr(getattr(seg, channel), conductance, 0)\n",
        "                  # print(channel, sec) # empty sections\n",
        "\n",
        "  def __setup_recorders(self):\n",
        "      self.gNaTa_T = Recorder(obj_list=self.segments, var_name='gNaTa_t_NaTa_t')\n",
        "      self.ina = Recorder(obj_list=self.segments, var_name='ina_NaTa_t')\n",
        "      self.ical = Recorder(obj_list=self.segments, var_name='ica_Ca_LVAst')\n",
        "      self.icah = Recorder(obj_list=self.segments, var_name='ica_Ca_HVA')\n",
        "      self.ih = Recorder(obj_list=self.segments, var_name='ihcn_Ih')\n",
        "      self.Vm = Recorder(obj_list=self.segments)\n",
        "\n",
        "  def __create_output_folder(self):\n",
        "      nbranches = len(self.apic)-1\n",
        "      nc_count = len(self.netcons_list)\n",
        "      syn_count = len(self.synapses_list)\n",
        "      seg_count = len(self.segments)\n",
        "      \n",
        "\n",
        "      self.output_folder_name = (\n",
        "          str(h.tstop)+\n",
        "          \"outputcontrol_\" +\n",
        "          str(nbranches) + \"nbranch_\" +\n",
        "          str(nc_count) + \"NCs_\" +\n",
        "          str(syn_count) + \"nsyn_\" +\n",
        "          str(seg_count) + \"nseg\"\n",
        "      )\n",
        "\n",
        "      if not os.path.exists(self.output_folder_name):\n",
        "          print('Outputting data to ', self.output_folder_name)\n",
        "          os.makedirs(self.output_folder_name)\n",
        "\n",
        "      return self.output_folder_name\n",
        "\n",
        "  def get_recorder_data(self):\n",
        "      '''\n",
        "      Method for calculating net synaptic currents and getting data after simulation\n",
        "      '''\n",
        "      numTstep = int(h.tstop/h.dt)\n",
        "      i_NMDA_bySeg = [[0] * (numTstep+1)] * len(self.segments)\n",
        "      i_AMPA_bySeg = [[0] * (numTstep+1)] * len(self.segments)\n",
        "      # i_bySeg = [[0] * (numTstep+1)] * len(self.segments)\n",
        "\n",
        "      for synapse in self.synapses_list:\n",
        "          try:\n",
        "              i_NMDA = np.array(synapse.rec_vec.vec_list[1])\n",
        "              i_AMPA = np.array(synapse.rec_vec.vec_list[0])\n",
        "              seg = synapse.get_segment_id()\n",
        "\n",
        "              try:\n",
        "                  i_NMDA_bySeg[seg] = i_NMDA_bySeg[seg] + i_NMDA\n",
        "                  i_AMPA_bySeg[seg] = i_AMPA_bySeg[seg] + i_AMPA\n",
        "              except:\n",
        "                  pass\n",
        "          except:\n",
        "              continue\n",
        "\n",
        "      i_NMDA_df = pd.DataFrame(i_NMDA_bySeg) * 1000\n",
        "      i_AMPA_df = pd.DataFrame(i_AMPA_bySeg) * 1000\n",
        "      \n",
        "\n",
        "      self.data_dict = {}\n",
        "      self.data_dict['spikes']=self.get_spike_time()\n",
        "      self.data_dict['ih_data'] = self.ih.as_numpy()\n",
        "      self.data_dict['gNaTa_T_data'] = self.gNaTa_T.as_numpy()\n",
        "      self.data_dict['ina_data'] = self.ina.as_numpy()\n",
        "      self.data_dict['icah_data'] = self.icah.as_numpy()\n",
        "      self.data_dict['ical_data'] = self.ical.as_numpy()\n",
        "      self.data_dict['Vm'] = self.Vm.as_numpy()\n",
        "      self.data_dict['i_NMDA'] = i_NMDA_df\n",
        "      self.data_dict['i_AMPA'] = i_AMPA_df\n",
        "      # self.data_dict['i'] = i_bySeg\n",
        "      self.__create_output_files(self.__create_output_folder())\n",
        "\n",
        "      return self.data_dict\n",
        "\n",
        "  def __create_output_files(self,output_folder_name):\n",
        "      for name, data in self.data_dict.items():\n",
        "        try:\n",
        "          self.__report_data(f\"{output_folder_name}/{name}_report.h5\", data.T)\n",
        "        except:\n",
        "          self.__report_data(f\"{output_folder_name}/{name}_report.h5\", data)\n",
        "\n",
        "  def __report_data(self,reportname, dataname):\n",
        "      try:\n",
        "          os.remove(reportname)\n",
        "      except FileNotFoundError:\n",
        "          pass\n",
        "\n",
        "      with h5py.File(reportname, 'w') as f:\n",
        "          f.create_dataset(\"report/biophysical/data\", data=dataname)\n",
        "\n",
        "  def plot_seg_heatmap(self, seg_df, color_column, subtype=None):\n",
        "      '''\n",
        "      Plots a heatmap of a segment dataframe, using a specified column for color\n",
        "      color_column  :   attribute that is per segment\n",
        "      Can update segments dataframe so that is instead a segment class with the option of saving the dataframe when initializeing the cell?\n",
        "      '''\n",
        "      #may be able to replace seg_df with seg_info or self or something\n",
        "      if isinstance(getattr(seg_df, color_column), list):\n",
        "          color_data = np.concatenate(getattr(seg_df, color_column))\n",
        "      else:\n",
        "          color_data = getattr(seg_df, color_column)\n",
        "          \n",
        "      if isinstance(color_data, dict):\n",
        "          if sub_type is not None:\n",
        "              color_data = [v.get(sub_type) for v in color_data.values()]\n",
        "          else:\n",
        "              raise ValueError(\"If color_column is a dictionary, sub_type parameter must be specified\")\n",
        "              \n",
        "\n",
        "      label = color_column.capitalize()\n",
        "      savename = color_column.lower()\n",
        "\n",
        "      plt.figure(figsize=(4,10))\n",
        "      ax = plt.scatter(seg_df[\"X Coord\"], seg_df[\"Y Coord\"],c = color_data, cmap='jet',)\n",
        "      plt.vlines(110,400,500)\n",
        "      plt.text(0,450,'100 um')\n",
        "      plt.hlines(400,110,210)\n",
        "      plt.text(110,350,'100 um')\n",
        "      plt.xticks([])\n",
        "      plt.yticks([])\n",
        "      cbar = plt.colorbar()\n",
        "      cbar.ax.set_ylabel(label, rotation=270)\n",
        "\n",
        "      plt.box(False)\n",
        "      plt.show()\n",
        "      plt.savefig(\"/\"+self.output_folder_name+savename+'.svg')\n",
        "\n",
        "  # def plot_seg_heatmap(self, seg_df, color_column):\n",
        "  #     '''\n",
        "  #     Plots a heatmap of a segment dataframe, using a specified column for color\n",
        "  #     color_column  :   attribute that is per segment\n",
        "  #     Can update segments dataframe so that is instead a segment class with the option of saving the dataframe when initializeing the cell?\n",
        "  #     '''\n",
        "  #     if isinstance(getattr(self, color_column), list):\n",
        "  #         color_data = np.concatenate(getattr(self, color_column))\n",
        "  #     else:\n",
        "  #         color_data = getattr(self, color_column)\n",
        "\n",
        "  #     label = color_column.capitalize()\n",
        "  #     savename = color_column.lower()\n",
        "\n",
        "  #     plt.figure(figsize=(4,10))\n",
        "  #     ax = plt.scatter(seg_df[\"X Coord\"], seg_df[\"Y Coord\"],c = color_data, cmap='jet',)\n",
        "  #     plt.vlines(110,400,500)\n",
        "  #     plt.text(0,450,'100 um')\n",
        "  #     plt.hlines(400,110,210)\n",
        "  #     plt.text(110,350,'100 um')\n",
        "  #     plt.xticks([])\n",
        "  #     plt.yticks([])\n",
        "  #     cbar = plt.colorbar()\n",
        "  #     cbar.ax.set_ylabel(label, rotation=270)\n",
        "\n",
        "  #     plt.box(False)\n",
        "  #     plt.savefig(\"/\"+self.output_folder_name+savename+'.svg')\n",
        "\n",
        "  def plot_temporal_spatial_heatmap(seg_df, color_column):\n",
        "      '''\n",
        "      NEED TO UPDATE\n",
        "      Plots a temporal-spatial heatmap of a segment dataframe, using a specified column for color\n",
        "      '''\n",
        "      if isinstance(seg_df[color_column].iloc[0], list):\n",
        "          color_data = np.concatenate(seg_df[color_column])\n",
        "      else:\n",
        "          color_data = seg_df[color_column]\n",
        "\n",
        "      label = color_column.capitalize()\n",
        "      savename = color_column.lower()\n",
        "\n",
        "      plt.figure(figsize=(10, 4))\n",
        "      ax = plt.scatter(seg_df[\"Time (ms)\"], seg_df[\"Distance from Soma (um)\"], c=color_data, cmap='jet', alpha=0.5)\n",
        "      plt.vlines(110, 400, 500)\n",
        "      plt.text(0, 450, '100 um')\n",
        "      plt.hlines(400, 110, 210)\n",
        "      plt.text(110, 350, '100 um')\n",
        "      plt.xticks([])\n",
        "      plt.yticks([])\n",
        "      cbar = plt.colorbar()\n",
        "      cbar.ax.set_ylabel(label, rotation=270)\n",
        "\n",
        "      plt.box(False)\n",
        "      plt.xlabel('Time (ms)')\n",
        "      plt.ylabel('Distance from Soma (um)')\n",
        "      plt.title(label)\n",
        "      plt.show()\n",
        "\n",
        "  def write_seg_info_to_csv(self):\n",
        "      seg_info=self.__get_segment_info__()\n",
        "      with open(self.output_folder_name+'/seg_info.csv', mode='w') as file:\n",
        "          writer = csv.DictWriter(file, fieldnames=seg_info[0].keys())\n",
        "          writer.writeheader()\n",
        "          for row in seg_info:\n",
        "              writer.writerow(row)\n",
        "\n",
        "  def __get_segment_info__(self):      \n",
        "      seg_info = []\n",
        "      k = 0\n",
        "      j = 0\n",
        "      for sec in self.all:\n",
        "          sec_type = sec.name().split('.')[1][:4]\n",
        "          for i, seg in enumerate(sec):\n",
        "              seg_info.append({ #update to have consistent naming scheme (will then need to debug plotting functions too, but should be easy)\n",
        "                  'seg': seg,\n",
        "                  'seg_id': j,\n",
        "                  'X Coord': self.seg_coords['pc'][i][0],\n",
        "                  'Y Coord': self.seg_coords['pc'][i][1],\n",
        "                  'Z Coord': self.seg_coords['pc'][i][2],\n",
        "                  'seg diam': seg.diam,\n",
        "                  'bmtk_id': k,\n",
        "                  'x': seg.x,\n",
        "                  'Type': sec_type,\n",
        "                  'Sec ID': int(sec.name().split('[')[2].split(']')[0]),\n",
        "                  'sec diam': sec.diam,\n",
        "                  'nseg': seg.sec.nseg,\n",
        "                  'Ra': seg.sec.Ra,\n",
        "                  'seg_L': sec.L/sec.nseg,\n",
        "              })\n",
        "              j += 1\n",
        "          k += 1\n",
        "      return self.__get_parent_segment_ids(seg_info)\n",
        "\n",
        "  def __get_parent_segment_ids(self, seg_info):\n",
        "      for seg in seg_info:\n",
        "          seg['parent_seg_id'] = None\n",
        "      pseg_ids = []\n",
        "      for i, seg in enumerate(seg_info):\n",
        "          idx = int(np.floor(seg['x'] * seg['nseg']))\n",
        "          if idx != 0:\n",
        "              pseg_id = i-1\n",
        "          else:\n",
        "              pseg = seg['seg'].sec.parentseg()\n",
        "              if pseg is None:\n",
        "                  pseg_id = None\n",
        "              else:\n",
        "                  psec = pseg.sec\n",
        "                  nseg = psec.nseg\n",
        "                  pidx = int(np.floor(pseg.x * nseg))\n",
        "                  if pseg.x == 1.:\n",
        "                      pidx -= 1\n",
        "                  try:\n",
        "                      pseg_id = next(idx for idx, info in enumerate(seg_info) if info['seg'] == psec((pidx + .5) / nseg))\n",
        "                  except StopIteration:\n",
        "                      pseg_id = \"Segment not in segments\"\n",
        "              seg_info[i]['parent_seg_id'] = pseg_id\n",
        "          # pseg_ids.append(pseg_id)\n",
        "      return self.__get_segment_elec_dist(seg_info)\n",
        "\n",
        "  def __get_segment_elec_dist(self, seg_info):\n",
        "      for seg in seg_info:\n",
        "          seg['seg_elec_info'] = {}\n",
        "      freqs = {'delta': 1, 'theta': 4, 'alpha': 8, 'beta': 12, 'gamma': 30}\n",
        "\n",
        "      soma_passive_imp = h.Impedance()\n",
        "      soma_active_imp = h.Impedance()\n",
        "      nexus_passive_imp = h.Impedance()\n",
        "      nexus_active_imp = h.Impedance()\n",
        "      try:\n",
        "          soma_passive_imp.loc(self.hobj.soma[0](0.5))\n",
        "          soma_active_imp.loc(self.hobj.soma[0](0.5))\n",
        "      except:\n",
        "          try:\n",
        "              soma_passive_imp.loc(self.soma[0](0.5))\n",
        "              soma_active_imp.loc(self.soma[0](0.5))\n",
        "          except:\n",
        "              try:\n",
        "                  soma_passive_imp.loc(self.soma(0.5))\n",
        "                  soma_active_imp.loc(self.soma(0.5))\n",
        "              except:\n",
        "                  raise AttributeError(\"Could not locate soma for impedance calculation\")\n",
        "      try:\n",
        "          nexus_passive_imp.loc(self.hobj.apic[0](0.99))\n",
        "          nexus_active_imp.loc(self.hobj.apic[0](0.99))\n",
        "      except:\n",
        "          try:\n",
        "              nexus_passive_imp.loc(self.apic[0](0.99))\n",
        "              nexus_active_imp.loc(self.apic[0](0.99))\n",
        "          except:\n",
        "              try:\n",
        "                  nexus_passive_imp.loc(self.apic(0.99))\n",
        "                  nexus_active_imp.loc(self.apic(0.99))\n",
        "              except:\n",
        "                  raise AttributeError(\"Could not locate the nexus for impedance calculation\")\n",
        "\n",
        "      for freq_name, freq_hz in freqs.items():\n",
        "          soma_passive_imp.compute(freq_hz + 1 / 9e9, 0) #passive from soma\n",
        "          soma_active_imp.compute(freq_hz + 1 / 9e9, 1) #active from soma\n",
        "          nexus_passive_imp.compute(freq_hz + 1 / 9e9, 0) #passive from nexus\n",
        "          nexus_active_imp.compute(freq_hz + 1 / 9e9, 1) #active from nexus\n",
        "          for i, seg in enumerate(seg_info):\n",
        "              elec_dist_info = {\n",
        "                  'active_soma': soma_active_imp.ratio(seg['x']),\n",
        "                  'active_nexus': nexus_active_imp.ratio(seg['x']),\n",
        "                  'passive_soma': soma_passive_imp.ratio(seg['x']),\n",
        "                  'passive_nexus': nexus_passive_imp.ratio(seg['x'])\n",
        "              }\n",
        "              seg_info[i]['seg_elec_info'][freq_name] = elec_dist_info\n",
        "      return self.__calculate_netcons_per_seg(seg_info)\n",
        "\n",
        "  def __calculate_netcons_per_seg(self, seg_info):\n",
        "      NetCon_per_seg = [0] * len(seg_info)\n",
        "      inh_NetCon_per_seg = [0] * len(seg_info)\n",
        "      exc_NetCon_per_seg = [0] * len(seg_info)\n",
        "\n",
        "      v_rest = -60 #used to determine exc/inh may adjust or automate\n",
        "      \n",
        "      # calculate number of synapses for each segment (may want to divide by segment length afterward to get synpatic density)\n",
        "      for netcon in self.netcons_list:\n",
        "          syn = netcon.syn()\n",
        "          if syn in self.synapses_list:\n",
        "              syn_seg_id = seg_info.index(next((s for s in seg_info if s['seg'] == syn.get_segment()), None))\n",
        "              seg_dict = seg_info[syn_seg_id]\n",
        "              if syn in seg_dict['seg'].point_processes():\n",
        "                  NetCon_per_seg[syn_seg_id] += 1 # get synapses per segment\n",
        "                  if syn.e > v_rest:\n",
        "                      exc_NetCon_per_seg[syn_seg_id] += 1\n",
        "                  else:\n",
        "                      inh_NetCon_per_seg[syn_seg_id] += 1\n",
        "              else:\n",
        "                  print(\"Warning: synapse not in designated segment's point processes\")\n",
        "          else:\n",
        "              print(\"Warning: potentially deleted synapse:\",\"|NetCon obj:\",netcon,\"|Synapse obj:\",syn,\"the NetCon's synapse is not in synapses_list. Check corresponding original cell's NetCon for location, etc.\")\n",
        "      \n",
        "      for i, seg in enumerate(seg_info):\n",
        "          seg['netcons_per_seg'] = {\n",
        "              'exc': exc_NetCon_per_seg[i],\n",
        "              'inh': inh_NetCon_per_seg[i],\n",
        "              'total': NetCon_per_seg[i]\n",
        "          }\n",
        "          seg['netcon_density_per_seg'] = {\n",
        "              'exc': exc_NetCon_per_seg[i]/seg['seg_L'],\n",
        "              'inh': inh_NetCon_per_seg[i]/seg['seg_L'],\n",
        "              'total': NetCon_per_seg[i]/seg['seg_L']\n",
        "          }\n",
        "      \n",
        "      return seg_info"
      ],
      "metadata": {
        "id": "GsDLrACptd1T",
        "outputId": "9d906a21-0124-4f32-d152-aacd629a8ff1",
        "colab": {
          "base_uri": "https://localhost:8080/",
          "height": 374
        }
      },
      "id": "GsDLrACptd1T",
      "execution_count": 11,
      "outputs": [
        {
          "output_type": "error",
          "ename": "ModuleNotFoundError",
          "evalue": "ignored",
          "traceback": [
            "\u001b[0;31m---------------------------------------------------------------------------\u001b[0m",
            "\u001b[0;31mModuleNotFoundError\u001b[0m                       Traceback (most recent call last)",
            "\u001b[0;32m<ipython-input-11-fa820c67db7e>\u001b[0m in \u001b[0;36m<cell line: 17>\u001b[0;34m()\u001b[0m\n\u001b[1;32m     15\u001b[0m \u001b[0;34m\u001b[0m\u001b[0m\n\u001b[1;32m     16\u001b[0m \u001b[0;32mfrom\u001b[0m \u001b[0mstylized_module\u001b[0m\u001b[0;34m.\u001b[0m\u001b[0mrecorder\u001b[0m \u001b[0;32mimport\u001b[0m \u001b[0mRecorder\u001b[0m\u001b[0;34m\u001b[0m\u001b[0;34m\u001b[0m\u001b[0m\n\u001b[0;32m---> 17\u001b[0;31m \u001b[0;32mfrom\u001b[0m \u001b[0mmodeling_module\u001b[0m\u001b[0;34m.\u001b[0m\u001b[0msynapses\u001b[0m \u001b[0;32mimport\u001b[0m \u001b[0mCurrentInjection\u001b[0m\u001b[0;34m,\u001b[0m \u001b[0mSynapse\u001b[0m\u001b[0;34m,\u001b[0m \u001b[0mListed_Synapse\u001b[0m\u001b[0;34m\u001b[0m\u001b[0;34m\u001b[0m\u001b[0m\n\u001b[0m\u001b[1;32m     18\u001b[0m \u001b[0;34m\u001b[0m\u001b[0m\n\u001b[1;32m     19\u001b[0m \u001b[0;32mclass\u001b[0m \u001b[0mcell_model\u001b[0m\u001b[0;34m(\u001b[0m\u001b[0;34m)\u001b[0m\u001b[0;34m:\u001b[0m\u001b[0;34m\u001b[0m\u001b[0;34m\u001b[0m\u001b[0m\n",
            "\u001b[0;31mModuleNotFoundError\u001b[0m: No module named 'modeling_module'",
            "",
            "\u001b[0;31m---------------------------------------------------------------------------\u001b[0;32m\nNOTE: If your import is failing due to a missing package, you can\nmanually install dependencies using either !pip or !apt.\n\nTo view examples of installing some common dependencies, click the\n\"Open Examples\" button below.\n\u001b[0;31m---------------------------------------------------------------------------\u001b[0m\n"
          ],
          "errorDetails": {
            "actions": [
              {
                "action": "open_url",
                "actionText": "Open Examples",
                "url": "/notebooks/snippets/importing_libraries.ipynb"
              }
            ]
          }
        }
      ]
    },
    {
      "cell_type": "markdown",
      "source": [
        "Build complex cell"
      ],
      "metadata": {
        "id": "CjCDSZpXTG1w"
      },
      "id": "CjCDSZpXTG1w"
    },
    {
      "cell_type": "code",
      "source": [
        "h.load_file('L5PCbiophys3.hoc')\n",
        "\n",
        "# # Load morphology parameters from a csv file\n",
        "# geometry = pd.read_csv(paths.GEO_REDUCED_ORDER, index_col='id')\n",
        "h.load_file(\"import3d.hoc\")\n",
        "\n",
        "\n",
        "# Create a cell object\n",
        "# cell = ReducedOrderL5CellPassiveDendrite(geometry=geometry, full_biophys=biophys_param)\n",
        "h.load_file('L5PCtemplate.hoc')\n",
        "complex_cell = h.L5PCtemplate('cell1.asc')\n",
        "h.celsius = 37\n",
        "h.v_init = complex_cell.soma[0].e_pas\n",
        "\n",
        "synapses_list=[]\n",
        "netcons_list=[]\n",
        "cell = cell_model(complex_cell,synapses_list=synapses_list,netcons_list=netcons_list,spike_threshold = 10)"
      ],
      "metadata": {
        "id": "_3cQePJaTF1t"
      },
      "id": "_3cQePJaTF1t",
      "execution_count": null,
      "outputs": []
    },
    {
      "cell_type": "code",
      "source": [
        "# #need to check cell.add_synapse\n",
        "# dir(cell)"
      ],
      "metadata": {
        "id": "AzxdWmmxYMM6"
      },
      "id": "AzxdWmmxYMM6",
      "execution_count": null,
      "outputs": []
    },
    {
      "cell_type": "code",
      "source": [
        "# place synapses on distal tuft sections:\n",
        "parent_sections=[]\n",
        "for sec in cell.all: # find non-terminal sections\n",
        "  if sec.parentseg() is not None:\n",
        "    if sec.parentseg().sec not in parent_sections:\n",
        "      parent_sections.append(sec.parentseg().sec)\n",
        "\n",
        "h.distance(sec=cell.soma) #use to find distance from soma\n",
        "\n",
        "tufts=[]\n",
        "for sec in cell.apic:  # check if the section is a terminal section and if it is apical tuft\n",
        "  # print(h.distance(sec(0.5)))\n",
        "  if sec not in parent_sections and h.distance(sec(0.5)) > 800:\n",
        "    tufts.append(sec)\n",
        "    # print(sec, 'is a terminal section of the tuft')\n",
        "\n"
      ],
      "metadata": {
        "id": "cKhOKBVtWkal"
      },
      "id": "cKhOKBVtWkal",
      "execution_count": null,
      "outputs": []
    },
    {
      "cell_type": "code",
      "source": [
        "# generate presynaptic spike train (if this is before placing synapses then there willb e one stimulus for all synapses)\n",
        "import random\n",
        "#use defined cell_model class for generating 3d coordinates, recording ECP, 'book-keeping' etc...\n",
        "random.seed(2)\n",
        "\n",
        "# Create synaptic input\n",
        "stim = h.NetStim()\n",
        "frequency=15 #(hz)\n",
        "spikeinterval = (1/frequency)*1000 #convert to T and milliseconds\n",
        "stim.noise=0\n",
        "stim.interval=spikeinterval\n",
        "print(str(stim.interval))\n",
        "stim.number = 3  # only one event\n",
        "stim.start = 2.0  # delay (ms)\n",
        "\n",
        "gmax = 1  # default synapse maximum conductance (uS)"
      ],
      "metadata": {
        "id": "oIofalsJYsBm"
      },
      "id": "oIofalsJYsBm",
      "execution_count": null,
      "outputs": []
    },
    {
      "cell_type": "code",
      "source": [
        "#place synapses\n",
        "cell._nbranch=len(tufts)\n",
        "print(cell._nbranch, \"terminal tuft branches in original cell\")\n",
        "for distal_tuft_sec in tufts:\n",
        "  cell.add_synapse(stim, sec_index=cell.all.index(distal_tuft_sec), gmax=gmax / cell._nbranch) # need to adjust to only tufts\n"
      ],
      "metadata": {
        "id": "KKsjAd_rYUM9"
      },
      "id": "KKsjAd_rYUM9",
      "execution_count": null,
      "outputs": []
    },
    {
      "cell_type": "code",
      "source": [
        "#get lists for redution\n",
        "#get synapse hoc obj list from synapse python class obj list\n",
        "synapses_list=[]\n",
        "for synapse in cell.synapse:\n",
        "  synapses_list.append(synapse.syn) #retrieve synapse hoc obj from python class\n",
        "netcons_list=cell.netcons_list"
      ],
      "metadata": {
        "id": "iOQEfI6sae4J"
      },
      "id": "iOQEfI6sae4J",
      "execution_count": null,
      "outputs": []
    },
    {
      "cell_type": "code",
      "source": [
        "# synapses_list"
      ],
      "metadata": {
        "id": "24wzhmvYQPin"
      },
      "id": "24wzhmvYQPin",
      "execution_count": null,
      "outputs": []
    },
    {
      "cell_type": "code",
      "source": [
        "# netcons_list"
      ],
      "metadata": {
        "id": "HSWsrA0Kf-Ac"
      },
      "id": "HSWsrA0Kf-Ac",
      "execution_count": null,
      "outputs": []
    },
    {
      "cell_type": "code",
      "execution_count": null,
      "id": "18a97eeb",
      "metadata": {
        "id": "18a97eeb"
      },
      "outputs": [],
      "source": [
        "#reduce cell\n",
        "if reduce_cell==True:\n",
        "  #reduce complex dendritic trees to cables\n",
        "  reduced_cell, synapses_list, netcons_list, txt = subtree_reductor(complex_cell, synapses_list, netcons_list, reduction_frequency=0,return_seg_to_seg=True)\n",
        "  print(\"synapses_list after NR reduction:\", synapses_list)\n",
        "  if expand_cable==True:\n",
        "    #expand cable to idealized dendritic trees\n",
        "    sections_to_expand = [reduced_cell.hoc_model.apic[0]]\n",
        "    furcations_x=[0.289004]\n",
        "    nbranches=[4]\n",
        "    reduced_dendritic_cell, synapses_list, netcons_list, txt = cable_expander(reduced_cell, sections_to_expand, furcations_x, nbranches, \n",
        "                                                                              synapses_list, netcons_list, reduction_frequency=0,return_seg_to_seg=True)\n",
        "    #remove basal dend 3d coordinates because they seem off\n",
        "    for sec in reduced_dendritic_cell.dend:\n",
        "      sec.pt3dclear()\n",
        "\n",
        "    cell = cell_model(reduced_dendritic_cell,synapses_list=synapses_list,netcons_list=netcons_list,spike_threshold = 10) #NR model with apical cable converted to tree\n",
        "    tufts=[] # find tufts\n",
        "    for i,sec in enumerate(cell.apic):\n",
        "      if i!=0: # do not add synapse to trunk\n",
        "        tufts.append(sec)\n",
        "    cell._nbranch=len(tufts)\n",
        "    print(cell._nbranch, \"terminal tuft branches in reduced_dendritic_cell\")\n",
        "  else:\n",
        "    #workaround since cell.all was not attribute (can update cell_model class to include this list formation)\n",
        "    reduced_cell.all =[]\n",
        "    for sec in [reduced_cell.soma]:\n",
        "      reduced_cell.all.append(sec)\n",
        "    for sec in [reduced_cell.apic]:\n",
        "      reduced_cell.all.append(sec)\n",
        "    for sec in reduced_cell.dend:\n",
        "      reduced_cell.all.append(sec)\n",
        "    for sec in reduced_cell.axon:\n",
        "      reduced_cell.all.append(sec)\n",
        "    #make apic sec a list (can update cell_model class to include this) (cell_model class expects cell.apic to be iterable)\n",
        "    reduced_cell.apic=[reduced_cell.apic]\n",
        "    #use cell_model python class\n",
        "    cell=cell_model(reduced_cell,synapses_list=synapses_list,netcons_list=netcons_list,spike_threshold = 10) # neuron_reduce model\n",
        "    tufts=cell.apic # Vm plot may return middle segment of trunk since it is the distal apical section.\n",
        "    cell._nbranch=len(tufts)\n",
        "    print(cell._nbranch, \"terminal tuft branches in reduced_cell\")\n",
        "else:\n",
        "  # cell = cell_model(complex_cell,synapses_list=synapses_list,netcons_list=netcons_list,spike_threshold = 10) # original cell\n",
        "  # original cell should already be defined\n",
        "  pass"
      ]
    },
    {
      "cell_type": "code",
      "source": [
        "# for syn in synapses_list:\n",
        "#   print(syn)"
      ],
      "metadata": {
        "id": "RiOS0erDsV5d"
      },
      "id": "RiOS0erDsV5d",
      "execution_count": null,
      "outputs": []
    },
    {
      "cell_type": "code",
      "source": [
        "# for sec in reduced_dendritic_cell.all:\n",
        "#   print(sec.n3d())"
      ],
      "metadata": {
        "id": "ZqPuBX8UI4nN"
      },
      "id": "ZqPuBX8UI4nN",
      "execution_count": null,
      "outputs": []
    },
    {
      "cell_type": "code",
      "source": [
        "# # try to fix dendrite's beginning location by looking at soma 3d coordinates:\n",
        "# for sec in [reduced_dendritic_cell.soma]:\n",
        "#   for i in range(sec.n3d()):\n",
        "#     print(sec.x3d(i),sec.y3d(i),sec.z3d(i))\n",
        "\n",
        "#soma has many 3d coordinates and current implementation begins dendrites at 3dcoordinates[1]"
      ],
      "metadata": {
        "id": "1loNS7qGmRQ1"
      },
      "id": "1loNS7qGmRQ1",
      "execution_count": null,
      "outputs": []
    },
    {
      "cell_type": "markdown",
      "source": [
        "The next code block is old. it places synapses after reduction (instead of before, which maps them) "
      ],
      "metadata": {
        "id": "suR9EwjBQx4t"
      },
      "id": "suR9EwjBQx4t"
    },
    {
      "cell_type": "code",
      "source": [
        "# import random\n",
        "# #use defined cell_model class for generating 3d coordinates, recording ECP, 'book-keeping' etc...\n",
        "# random.seed(2)\n",
        "\n",
        "# # Create synaptic input\n",
        "# stim = h.NetStim()\n",
        "# frequency=15 #(hz)\n",
        "# spikeinterval = (1/frequency)*1000 #convert to T and milliseconds\n",
        "# stim.noise=0\n",
        "# stim.interval=spikeinterval\n",
        "# print(str(stim.interval))\n",
        "# stim.number = 3  # only one event\n",
        "# stim.start = 2.0  # delay (ms)\n",
        "\n",
        "# gmax = 1  # default synapse maximum conductance (uS)\n",
        "\n",
        "# if Reduce_cell==True:\n",
        "#   cell = cell_model(reduced_dendritic_cell,synapses_list=synapses_list,netcons_list=netcons_list,spike_threshold = 10)\n",
        "#   cell._nbranch=nbranches[0]\n",
        "#   # Add synapse to apical tufts\n",
        "#   tufts=[]\n",
        "#   for i,sec in enumerate(cell.apic):\n",
        "#     if i!=0: # do not add synapse to trunk\n",
        "#       tufts.append(sec)\n",
        "#       cell.add_synapse(stim, sec_index=cell.all.index(sec), gmax=gmax / cell._nbranch, loc=0.01) # need to adjust to only tufts\n",
        "# else:\n",
        "#   cell = cell_model(complex_cell,synapses_list=synapses_list,netcons_list=netcons_list,spike_threshold = 10)\n",
        "#   complex_branching_segment='L5PCtemplate[0].apic[36](0.961538)' #use to assign tuft synapses\n",
        "#   tufts=cell.apic[36].children()\n",
        "#   cell._nbranch=len(tufts) #determine branches starting from this branching point\n",
        "#   # Add synapse to apical tufts\n",
        "#   #indicate the complex branching segment # may have to observe complex cell first\n",
        "#   complex_branching_segment='L5PCtemplate[0].apic[36](0.961538)'\n",
        "#   for i,sec in enumerate(cell.apic[36].children()):\n",
        "#       cell.add_synapse(stim, sec_index=cell.all.index(sec), gmax=gmax / cell._nbranch, loc=0.01) # need to adjust to only tufts\n",
        "\n",
        "\n",
        "# Add synapse to soma\n",
        "cell.add_synapse(stim, sec_index=0, gmax=gmax)\n",
        "\n",
        "# Add synapse to apical tufts"
      ],
      "metadata": {
        "id": "rSTUwzTfqEX2"
      },
      "id": "rSTUwzTfqEX2",
      "execution_count": null,
      "outputs": []
    },
    {
      "cell_type": "code",
      "source": [
        "import numpy as np\n",
        "seconds = 2\n",
        "np.arange(0,seconds*1000,1)\n"
      ],
      "metadata": {
        "id": "uoILJzDJphnd"
      },
      "id": "uoILJzDJphnd",
      "execution_count": null,
      "outputs": []
    },
    {
      "cell_type": "code",
      "source": [
        "cell._nbranch"
      ],
      "metadata": {
        "id": "fDL6ogju2IBW"
      },
      "id": "fDL6ogju2IBW",
      "execution_count": null,
      "outputs": []
    },
    {
      "cell_type": "code",
      "source": [
        "# # compare \n",
        "# for sec in cell.all:\n",
        "#   for i in range(sec.n3d()):\n",
        "#     print(sec.x3d(i))"
      ],
      "metadata": {
        "id": "4QUvM0h7JzFG"
      },
      "id": "4QUvM0h7JzFG",
      "execution_count": null,
      "outputs": []
    },
    {
      "cell_type": "code",
      "source": [
        "# print(cell.seg_coords['pc'][0])"
      ],
      "metadata": {
        "id": "gE3JYuFhM1_6"
      },
      "id": "gE3JYuFhM1_6",
      "execution_count": null,
      "outputs": []
    },
    {
      "cell_type": "code",
      "source": [
        "# dir(cell)"
      ],
      "metadata": {
        "id": "akYHQOGDKiW5"
      },
      "id": "akYHQOGDKiW5",
      "execution_count": null,
      "outputs": []
    },
    {
      "cell_type": "code",
      "source": [
        "# make_reduced_seg_df(cell,\"segments_expanded.csv\") #need to improve make_reduced_seg_df\n",
        "# expanded_segments_df=pd.read_csv(\"segments_expanded.csv\")\n",
        "# plot_morphology(expanded_segments_df,\"expanded_morphology.svg\")"
      ],
      "metadata": {
        "id": "-ZwVHxQl5gLh"
      },
      "id": "-ZwVHxQl5gLh",
      "execution_count": null,
      "outputs": []
    },
    {
      "cell_type": "code",
      "source": [
        "import os\n",
        "\n",
        "RunningInCOLAB = 'google.colab' in str(get_ipython())\n",
        "if RunningInCOLAB:\n",
        "    !pip install neuron==8.0.0 &> /dev/null\n",
        "    os.chdir('/content')\n",
        "    if not os.path.isdir('Stylized-Single-Cell-and-Extracellular-Potential'):\n",
        "        !git clone https://github.com/chenziao/Stylized-Single-Cell-and-Extracellular-Potential.git &> /dev/null \n",
        "    os.chdir('Stylized-Single-Cell-and-Extracellular-Potential')\n",
        "    %ls"
      ],
      "metadata": {
        "id": "D6vyubrwOvA_"
      },
      "id": "D6vyubrwOvA_",
      "execution_count": null,
      "outputs": []
    },
    {
      "cell_type": "code",
      "source": [
        "from cell_inference.config import params, paths\n",
        "from cell_inference.cells.activecell_axon import ReducedOrderL5Cell, ReducedOrderL5CellPassiveDendrite\n",
        "from cell_inference.utils.currents.ecp import EcpMod\n",
        "from cell_inference.utils.currents.recorder import Recorder\n",
        "from cell_inference.utils.plotting.plot_morphology import plot_morphology\n",
        "from cell_inference.utils.plotting.plot_results import plot_lfp_heatmap, plot_lfp_traces\n",
        "from cell_inference.utils.plotting.plot_variable_with_morphology import plot_variable_with_morphology\n",
        "from cell_inference.utils.metrics.measure_segment_distance import measure_segment_distance"
      ],
      "metadata": {
        "id": "X7p40K3RO1RQ"
      },
      "id": "X7p40K3RO1RQ",
      "execution_count": null,
      "outputs": []
    },
    {
      "cell_type": "code",
      "source": [
        "h.dt = params.DT  # time step\n",
        "h.steps_per_ms = 1/h.dt\n",
        "h.tstop = params.TSTOP  # simulation stop time\n",
        "\n",
        "# Record time points\n",
        "t_vec = h.Vector(round(h.tstop / h.dt) + 1).record(h._ref_t)\n",
        "\n",
        "# Record membrane voltage of all segments\n",
        "V_rec = Recorder(cell.segments)"
      ],
      "metadata": {
        "id": "m_npKvVUO4JD"
      },
      "id": "m_npKvVUO4JD",
      "execution_count": null,
      "outputs": []
    },
    {
      "cell_type": "markdown",
      "id": "22d6f6e6",
      "metadata": {
        "id": "22d6f6e6"
      },
      "source": [
        "### Add electrodes (Neuropixel)\n",
        "A probe with 384 electrodes [https://www.neuropixels.org/probe](https://www.neuropixels.org/probe). The coordinates of each electrode is a row in the array printed below."
      ]
    },
    {
      "cell_type": "code",
      "execution_count": null,
      "id": "8fdb0017",
      "metadata": {
        "id": "8fdb0017"
      },
      "outputs": [],
      "source": [
        "elec_pos = params.ELECTRODE_POSITION\n",
        "ecp = EcpMod(cell, elec_pos, min_distance=params.MIN_DISTANCE)  # create an ECP object for extracellular potential\n",
        "\n",
        "# coordinates (x, y, z) of electrodes\n",
        "print(params.ELECTRODE_POSITION.shape)\n",
        "print(params.ELECTRODE_POSITION)"
      ]
    },
    {
      "cell_type": "code",
      "source": [
        "# (cell.injection)"
      ],
      "metadata": {
        "id": "f4-rKitqRb3k"
      },
      "id": "f4-rKitqRb3k",
      "execution_count": null,
      "outputs": []
    },
    {
      "cell_type": "markdown",
      "id": "c5323608",
      "metadata": {
        "id": "c5323608"
      },
      "source": [
        "## Custom settings\n",
        "\n",
        "Using the interactive tools below, you can change the position of the cell, and change the synapse strength and location on the cell.\n",
        "\n",
        "#### Cell position parameters (x, y, z, alpha, h, phi)\n",
        "Starting with soma at the origin, apical dendrite along y-axis, rotate and translate the cell to the desired position determined by 6 parameters. First, rotate alpha about the y-axis (spin), then rotate beta=arccos(h) about the x-axis (elevation), then rotate phi about the y-axis (azimuth). Finally translate the cell by (x,y,z).\n",
        "\n",
        "Use the sliders to change the 6 position parameters. Use the sliders 'elev' and 'azim' to change view of the 3D plot."
      ]
    },
    {
      "cell_type": "code",
      "source": [
        "# for sec in cell.apic:\n",
        "#   print(sec,sec.parentseg(), sec.n3d())"
      ],
      "metadata": {
        "id": "qGLMpaA7ME9p"
      },
      "id": "qGLMpaA7ME9p",
      "execution_count": null,
      "outputs": []
    },
    {
      "cell_type": "code",
      "source": [
        "import matplotlib.pyplot as plt\n",
        "from matplotlib.figure import Figure\n",
        "from matplotlib.axes import Axes\n",
        "import numpy as np\n",
        "from typing import Union, Optional, List, Tuple\n",
        "\n",
        "from cell_inference.utils.currents.ecp import move_position\n",
        "from cell_inference.cells.stylizedcell import StylizedCell\n",
        "\n",
        "\n",
        "def plot_morphology(sim: Optional = None, cellid: Optional[int] = 0, cell: Optional[StylizedCell] = None,\n",
        "                    seg_coords: Optional[dict] = None, sec_nseg: Optional[List] = None,\n",
        "                    type_id: Optional[List] = None, electrodes: Optional[np.ndarray] = None,\n",
        "                    axes: Union[List[int], Tuple[int]] = [2, 0, 1], clr: Optional[List[str]] = None,\n",
        "                    elev: int = 20, azim: int = 10, move_cell: Optional[Union[List,np.ndarray]] = None,\n",
        "                    figsize: Optional[Tuple[float, float]] = None) -> Tuple[Figure, Axes]:\n",
        "    \"\"\"\n",
        "    Plot morphology in 3D.\n",
        "\n",
        "    sim: simulation object\n",
        "    cellid: cell id in the simulation object. Default: 0\n",
        "    cell: stylized cell object. Ignore sim and cellid if specified\n",
        "    seg_coords: if not using sim or cell, a dictionary that includes dl, pc, r\n",
        "    sec_nseg: if not using sim or cell, list of number of segments in each section\n",
        "    type_id:  if not using sim or cell, list of the swc type id of each section/segment\n",
        "    electrodes: electrode positions. Default: None, not shown.\n",
        "    axes: sequence of axes to display in 3d plot axes.\n",
        "        Default: [2,0,1] show z,x,y in 3d plot x,y,z axes, so y is upward.\n",
        "    clr: list of colors for each type of section\n",
        "    Return Figure object, Axes object\n",
        "    \"\"\"\n",
        "    if sim is None and cell is None:\n",
        "        if seg_coords is None or sec_nseg is None or type_id is None:\n",
        "            raise ValueError(\"If not using 'Simulation', input arguments 'seg_coords', 'sec_nseg', 'type_id' are required.\")\n",
        "        if clr is None:\n",
        "            clr = ('g', 'r', 'b', 'c')\n",
        "        if move_cell is None:\n",
        "            move_cell = [0., 0., 0., 0., 1., 0.]\n",
        "        sec_id_in_seg = np.cumsum([0] + list(sec_nseg[:-1]))\n",
        "        type_id = np.asarray(type_id) - 1\n",
        "        if type_id.size != len(sec_nseg):\n",
        "            type_id = type_id = type_id[sec_id_in_seg]\n",
        "        type_id = type_id.tolist()\n",
        "        label_idx = np.array([type_id.index(i) for i in range(4)])\n",
        "        lb_odr = np.argsort(label_idx)\n",
        "        label_idx = label_idx[lb_odr].tolist()\n",
        "        sec_name = np.array(('soma','axon','dend','apic'))[lb_odr]\n",
        "    else:\n",
        "        if clr is None:\n",
        "            clr = ('g', 'b', 'pink', 'purple', 'r', 'c')\n",
        "        if cell is None:\n",
        "            if move_cell is None:\n",
        "                move_cell = sim.loc_param[cellid, 0]\n",
        "            cell = sim.cells[cellid]\n",
        "        elif move_cell is None:\n",
        "            move_cell = [0., 0., 0., 0., 1., 0.]\n",
        "        seg_coords = cell.seg_coords\n",
        "        sec_id_in_seg = cell.sec_id_in_seg\n",
        "        sec_nseg = []\n",
        "        sec_name = []\n",
        "        label_idx = []\n",
        "        type_id = []\n",
        "        for i, sec in enumerate(cell.all):\n",
        "            sec_nseg.append(sec.nseg)\n",
        "            name = sec.name().split('.')[-1]\n",
        "            if name not in sec_name:\n",
        "                sec_name.append(name)\n",
        "                label_idx.append(i)\n",
        "            type_id.append(sec_name.index(name))\n",
        "    label_idx.append(-1)\n",
        "\n",
        "    move_cell = np.asarray(move_cell).reshape((2, 3))\n",
        "    dl = move_position([0., 0., 0.], move_cell[1], seg_coords['dl'])\n",
        "    pc = move_position(move_cell[0], move_cell[1], seg_coords['pc'])\n",
        "    xyz = 'xyz'\n",
        "    box = np.vstack([np.full(3, np.inf), np.full(3, np.NINF)])\n",
        "    if electrodes is not None:\n",
        "        box[0, axes[0:2]] = np.amin(electrodes[:, axes[0:2]], axis=0)\n",
        "        box[1, axes[0:2]] = np.amax(electrodes[:, axes[0:2]], axis=0)\n",
        "\n",
        "    fig = plt.figure(figsize=figsize)\n",
        "    ax = plt.axes(projection='3d')\n",
        "    lb_ptr = 0\n",
        "    for i, itype in enumerate(type_id):\n",
        "        label = sec_name[lb_ptr] if i == label_idx[lb_ptr] else None\n",
        "        if label is not None: lb_ptr += 1\n",
        "        i0 = sec_id_in_seg[i]\n",
        "        i1 = i0 + sec_nseg[i] - 1\n",
        "        if sec_name[itype] == 'soma':\n",
        "            p05 = (pc[i0] + pc[i1]) / 2\n",
        "            ax.scatter(*[p05[j] for j in axes], c=clr[itype], s=20, label=label)\n",
        "        else:\n",
        "            p0 = pc[i0] - dl[i0] / 2\n",
        "            p1 = pc[i1] + dl[i1] / 2\n",
        "            ax.plot3D(*[(p0[j], p1[j]) for j in axes], color=clr[itype], label=label)\n",
        "            box[0, :] = np.minimum(box[0, :], np.minimum(p0, p1))\n",
        "            box[1, :] = np.maximum(box[1, :], np.maximum(p0, p1))\n",
        "    ctr = np.mean(box, axis=0)\n",
        "    r = np.amax(box[1, :] - box[0, :]) / 2\n",
        "    box = np.vstack([ctr - r, ctr + r])\n",
        "    if electrodes is not None:\n",
        "        idx = np.logical_and(np.all(electrodes >= box[0, :], axis=1), np.all(electrodes <= box[1, :], axis=1))\n",
        "        ax.scatter(*[(electrodes[idx, j], electrodes[idx, j]) for j in axes], color='orange', s=5, label='electrodes')\n",
        "    box = box[:, axes]\n",
        "    ax.auto_scale_xyz(*box.T)\n",
        "    ax.view_init(elev, azim)\n",
        "    # ax.legend(loc=1)\n",
        "    ax.set_xlabel(xyz[axes[0]])\n",
        "    ax.set_ylabel(xyz[axes[1]])\n",
        "    ax.set_zlabel(xyz[axes[2]])\n",
        "    plt.show()\n",
        "    return fig, ax"
      ],
      "metadata": {
        "id": "eda71vXyA6Vt"
      },
      "id": "eda71vXyA6Vt",
      "execution_count": null,
      "outputs": []
    },
    {
      "cell_type": "code",
      "source": [
        "# for sec in cell.apic:\n",
        "#   fullsecname = sec.name()\n",
        "#   sec_type = fullsecname.split(\".\")[1][:4]\n",
        "#   print(fullsecname)"
      ],
      "metadata": {
        "id": "wlsEX_R4Px7H"
      },
      "id": "wlsEX_R4Px7H",
      "execution_count": null,
      "outputs": []
    },
    {
      "cell_type": "code",
      "execution_count": null,
      "id": "a3df63ce",
      "metadata": {
        "id": "a3df63ce"
      },
      "outputs": [],
      "source": [
        "loc_param_default = [0., 0., 80., 0., 1., 0.]  # Default position parameters\n",
        "elev, azim = 10, 90  # Default view\n",
        "# clr = ['g', 'yellow', 'orange', 'red', 'b', 'c', 'g', 'yellow', 'orange', 'red', 'pink', 'purple']  # section color\n",
        "clr=[]\n",
        "clr.extend(['black' for i in range(len([cell.soma]))]) # soma color\n",
        "clr.extend(['red' for i in range(len(cell.dend))]) #dend colors\n",
        "clr.extend(['purple' for i  in range(len(cell.axon))]) # axon colors\n",
        "clr.extend(['blue']) #trunk color\n",
        "clr.extend(['green' for i in range(len(cell.apic)-1)])  # branch colors\n",
        "\n",
        "def interactive_plot(x, y, z, alpha, beta, phi, elev, azim):\n",
        "    global loc_param\n",
        "    loc_param = (x, y, z, np.pi/180*alpha, np.cos(np.pi/180*beta), np.pi/180*phi)\n",
        "    fig, ax = plot_morphology(cell=cell, electrodes=elec_pos, move_cell=loc_param,\n",
        "                    elev=-elev, azim=-azim, figsize=(12, 8), clr = clr)\n",
        "    plt.show()\n",
        "\n",
        "xslider = Layout(width='500px')\n",
        "yslider = Layout(height='350px')\n",
        "w_reset = widgets.Button(description='Reset', icon='history', button_style='primary')\n",
        "w_x = widgets.FloatSlider(value=loc_param_default[0], min=-200, max=200, step=1, description='x (um)', continuous_update=False, readout_format='.0f')\n",
        "w_y = widgets.FloatSlider(value=loc_param_default[1], min=-1000, max=1000, step=1, description='y (um)', continuous_update=False, readout_format='.0f')\n",
        "w_z = widgets.FloatSlider(value=loc_param_default[2], min=20, max=400, step=1, description='z (um)', continuous_update=False, readout_format='.0f')\n",
        "w_alpha = widgets.FloatSlider(value=180/np.pi*loc_param_default[3], min=-180, max=180, step=1, description='alpha (deg)', continuous_update=False, readout_format='.0f')\n",
        "w_beta = widgets.FloatSlider(value=180/np.pi*np.arccos(loc_param_default[4]), min=0, max=180, step=1, description='beta (deg)', continuous_update=False, readout_format='.0f')\n",
        "w_phi = widgets.FloatSlider(value=180/np.pi*loc_param_default[5], min=-180, max=180, step=1, description='phi (deg)', continuous_update=False, readout_format='.0f')\n",
        "w_elev = widgets.FloatSlider(value=-elev, min=-90, max=90, step=1, description='elev (deg)', continuous_update=False, readout_format='.0f', orientation='vertical', layout=yslider)\n",
        "w_azim = widgets.FloatSlider(value=-azim, min=-180, max=180, step=1, description='azim (deg)', continuous_update=False, readout_format='.0f', layout=xslider)\n",
        "\n",
        "def reset_default(*args):\n",
        "    w_x.value, w_y.value, w_z.value = loc_param_default[:3]\n",
        "    w_alpha.value = 180 / np.pi * loc_param_default[3]\n",
        "    w_beta.value = 180 / np.pi * np.arccos(loc_param_default[4])\n",
        "    w_phi.value = 180 / np.pi * loc_param_default[5]\n",
        "    w_elev.value, w_azim.value = -elev, -azim\n",
        "w_reset.on_click(reset_default)\n",
        "\n",
        "out = interactive_output(interactive_plot, {'x': w_x, 'y': w_y, 'z': w_z, 'alpha': w_alpha, 'beta': w_beta, 'phi': w_phi, 'elev': w_elev, 'azim': w_azim})\n",
        "ui = VBox([ w_reset, HBox([ VBox([w_x, w_y, w_z]), VBox([w_alpha, w_beta, w_phi]) ]), HBox([ VBox([out, w_azim]), w_elev]) ])\n",
        "\n",
        "display(ui)"
      ]
    },
    {
      "cell_type": "markdown",
      "source": [
        "set azim to -90 in order to focus on zy plane view. 2D plot is of xy plane."
      ],
      "metadata": {
        "id": "OPZrMhcBjnec"
      },
      "id": "OPZrMhcBjnec"
    },
    {
      "cell_type": "markdown",
      "id": "0d582310",
      "metadata": {
        "id": "0d582310"
      },
      "source": [
        "#### Set synaptic input\n",
        "\n",
        "Use the toggle button to switch synapse location between the soma and the proximal apical tuft dendrite. Use the slider 'Synapse maximal conductance' to change synapse strength."
      ]
    },
    {
      "cell_type": "code",
      "execution_count": null,
      "id": "ce8d1856",
      "metadata": {
        "id": "ce8d1856"
      },
      "outputs": [],
      "source": [
        "w_syn_site = widgets.ToggleButtons(options=['Soma', 'Apical tuft (proximal)'])\n",
        "w_gmax = widgets.FloatSlider(value=gmax, min=0, max=0.1, step=0.0002, readout_format='.4f')\n",
        "display(VBox([w_syn_site, HBox([Label('Synapse maximal conductance (uS)'), w_gmax])]))\n",
        "\n",
        "def set_synapse():\n",
        "    soma_syn = w_syn_site.value == 'Soma'\n",
        "    gmax_soma = w_gmax.value if soma_syn else 0\n",
        "    gmax_tuft = 0 if soma_syn else w_gmax.value / cell._nbranch\n",
        "    cell.synapse[0].set_gmax(gmax_soma)\n",
        "    for syn in cell.synapse[1:]:\n",
        "        syn.set_gmax(gmax_tuft)"
      ]
    },
    {
      "cell_type": "code",
      "source": [
        "# try to extract syn and gmax for plot information\n",
        "print(w_gmax)\n",
        "print(w_syn_site)"
      ],
      "metadata": {
        "id": "nqUJhNE_22Nn"
      },
      "id": "nqUJhNE_22Nn",
      "execution_count": null,
      "outputs": []
    },
    {
      "cell_type": "code",
      "source": [
        "# nseg = len(cell.segments)\n",
        "# numTstep = int(h.tstop/h.dt)\n",
        "# #since synapse list has combined synapses for computational efficiency, we must use NetCon list/unique spike trains to determine how many synapses were mapped\n",
        "# NetCon_per_seg=[0]*nseg\n",
        "# inh_NetCon_per_seg=[0]*nseg\n",
        "# exc_NetCon_per_seg=[0]*nseg\n",
        "\n",
        "# i_NMDA_bySeg= [[0] * (numTstep+1) ] * nseg # need to implement inmda recording\n",
        "\n",
        "# v_rest=-60 #choose v_rest for categorizing inh/exc synapses\n",
        "\n",
        "# for netcon in cell.netcons_list:\n",
        "#   syn=netcon.syn()\n",
        "#   if syn in synapses_list:\n",
        "#     syn_seg_id=cell.segments.index(netcon.syn().get_segment())\n",
        "#     if syn in cell.segments[syn_seg_id].point_processes():\n",
        "#       NetCon_per_seg[syn_seg_id]+=1 # get synapses per segment\n",
        "#       # NetCon_per_seg[syn_seg_id].append(netcon) # possible implementation if needing objects per segment\n",
        "#       if syn.e > v_rest:\n",
        "#         exc_NetCon_per_seg[syn_seg_id]+=1\n",
        "#         # exc_NetCon_per_seg[syn_seg_id].append(netcon)# possible implementation if needing objects per segment\n",
        "#       else:\n",
        "#         inh_NetCon_per_seg[syn_seg_id]+=1\n",
        "#         # inh_NetCon_per_seg[syn_seg_id].append(netcon)# possible implementation if needing objects per segment\n",
        "#     else:\n",
        "#       print(\"Warning: synapse not in designated segment's point processes\")\n",
        "\n",
        "#   else:\n",
        "#     print(\"Warning: potentially deleted synapse:\",\"|NetCon obj:\",netcon,\"|Synapse obj:\",syn,\"the NetCon's synapse is not in synapses_list. Check corresponding original cell's NetCon for location, etc.\")\n",
        "\n",
        "# #extract inmda from each segment # can be adjusted for gaba synapses or alpha synapses # only paired nmda/ampa synapses have vec_list[1]\n",
        "# for synapse in cell.synapse:\n",
        "#   try:\n",
        "#     i_NMDA = np.array(synapse.rec_vec.vec_list[1])            #current = numpy array of NEURON Vector of current NMDA current at synapse j  \n",
        "#     seg = synapse.get_segment_id()                            #seg = the segment in which synapse j is located \n",
        "#     #print('first try')\n",
        "    \n",
        "#     try:\n",
        "#       i_NMDA_bySeg[seg] = i_NMDA_bySeg[seg] + i_NMDA    \n",
        "#       #print('second try')                                           #Sum current over each segment\n",
        "#     except: \n",
        "#       pass                                                                   #Except needed as some synpases do not have NMDA currrent and throw an error when called\n",
        "#   except:\n",
        "#     pass"
      ],
      "metadata": {
        "id": "-tri29bnwjC6"
      },
      "id": "-tri29bnwjC6",
      "execution_count": null,
      "outputs": []
    },
    {
      "cell_type": "code",
      "source": [
        "%ls"
      ],
      "metadata": {
        "id": "ynXvkXxb1dST"
      },
      "id": "ynXvkXxb1dST",
      "execution_count": null,
      "outputs": []
    },
    {
      "cell_type": "code",
      "source": [
        "cell.get_recorder_data() #also creates directory"
      ],
      "metadata": {
        "id": "LQBCnpfD0F5S"
      },
      "id": "LQBCnpfD0F5S",
      "execution_count": null,
      "outputs": []
    },
    {
      "cell_type": "code",
      "source": [
        "# output_folder_name=str(nbranches[0])+\"nbranch_outputcontrol_\"+str(int(len(cell.synapse)))+\"nsyn\"#+modelname  #include model name in output foler name (ex. original cell, reduced cell, expanded cell)\n",
        "# #create output folder\n",
        "# import os\n",
        "# if not os.path.exists(output_folder_name):\n",
        "#    os.makedirs(output_folder_name)\n",
        "\n",
        "# print(output_folder_name)\n",
        "# os.chdir(output_folder_name)"
      ],
      "metadata": {
        "id": "LeeK1qu11Zhv"
      },
      "id": "LeeK1qu11Zhv",
      "execution_count": null,
      "outputs": []
    },
    {
      "cell_type": "code",
      "source": [
        "#save geometry file\n",
        "# cell.geometry.to_csv('geometry.csv')"
      ],
      "metadata": {
        "id": "2dNBijayE1zu"
      },
      "id": "2dNBijayE1zu",
      "execution_count": null,
      "outputs": []
    },
    {
      "cell_type": "code",
      "source": [
        "# #Should add \"syn per seg\" to seg data frame #also can try doing SynPerSeg/segL to have more of a density metric\n",
        "# #can adjust functions to take df arguement\n",
        "# def plotSynDensity(SynPerSeg,Type=str):\n",
        "#   plt.figure(figsize=(4,10))\n",
        "#   ax = plt.scatter(expanded_segments_df[\"Coord X\"], expanded_segments_df[\"Coord Y\"],c = SynPerSeg[0:nseg],cmap='jet',)\n",
        "#   plt.vlines(110,400,500)\n",
        "#   plt.text(0,450,'100 um')\n",
        "#   plt.hlines(400,110,210)\n",
        "#   plt.text(110,350,'100 um')\n",
        "#   plt.xticks([])\n",
        "#   plt.yticks([])\n",
        "#   cbar = plt.colorbar()\n",
        "#   cbar.ax.set_ylabel(Type+'Synapses per segment', rotation=270)\n",
        "\n",
        "#   plt.box(False)\n",
        "#   plt.savefig(Type+'_syns.svg')\n",
        "\n",
        "# def plotSynDensityNoSoma(SynPerSeg,Type=str):\n",
        "#   plt.figure(figsize=(4,10))\n",
        "#   ax = plt.scatter(expanded_segments_df[\"Coord X\"][1:], expanded_segments_df[\"Coord Y\"][1:],c = SynPerSeg[1:nseg],cmap='jet',)\n",
        "#   plt.vlines(110,400,500)\n",
        "#   plt.text(0,450,'100 um')\n",
        "#   plt.hlines(400,110,210)\n",
        "#   plt.text(110,350,'100 um')\n",
        "#   plt.xticks([])\n",
        "#   plt.yticks([])\n",
        "#   cbar = plt.colorbar()\n",
        "#   cbar.ax.set_ylabel(Type+'Synapses per segment', rotation=270)\n",
        "\n",
        "#   plt.box(False)\n",
        "#   plt.savefig(Type+'_syns.svg')\n",
        "\n",
        "# plotSynDensity(exc_NetCon_per_seg,'Exc') #len(cell.segments) #low number of segments makes plot look odd."
      ],
      "metadata": {
        "id": "ZtC6mvhXwL-L"
      },
      "id": "ZtC6mvhXwL-L",
      "execution_count": null,
      "outputs": []
    },
    {
      "cell_type": "code",
      "source": [
        "# plotSynDensity(inh_NetCon_per_seg,'Inh') # if soma has too many inh synapses the heatmap is not as interpretable"
      ],
      "metadata": {
        "id": "AuPzXdSdwhme"
      },
      "id": "AuPzXdSdwhme",
      "execution_count": null,
      "outputs": []
    },
    {
      "cell_type": "code",
      "source": [
        "# print(cell.seg_coords)"
      ],
      "metadata": {
        "id": "TsqdpMMmzNbX"
      },
      "id": "TsqdpMMmzNbX",
      "execution_count": null,
      "outputs": []
    },
    {
      "cell_type": "code",
      "source": [
        "# dir(synapses_list[0])"
      ],
      "metadata": {
        "id": "FpvT5pX-adYG"
      },
      "id": "FpvT5pX-adYG",
      "execution_count": null,
      "outputs": []
    },
    {
      "cell_type": "code",
      "source": [
        "# y=[netcon for netcon in netcons_list]"
      ],
      "metadata": {
        "id": "RL2ZuF87Z1ab"
      },
      "id": "RL2ZuF87Z1ab",
      "execution_count": null,
      "outputs": []
    },
    {
      "cell_type": "markdown",
      "id": "2ca15375",
      "metadata": {
        "id": "2ca15375"
      },
      "source": [
        "## Run simulation and plot results\n",
        "\n",
        "Run the codes below to simulate and display results everytime after you change the parameters above."
      ]
    },
    {
      "cell_type": "code",
      "source": [],
      "metadata": {
        "id": "otoI5OVRsNqe"
      },
      "id": "otoI5OVRsNqe",
      "execution_count": null,
      "outputs": []
    },
    {
      "cell_type": "code",
      "execution_count": null,
      "id": "f81ec874",
      "metadata": {
        "id": "f81ec874"
      },
      "outputs": [],
      "source": [
        "# Run simulation\n",
        "set_synapse()\n",
        "h.run()\n",
        "# Get results\n",
        "t = t_vec.as_numpy().copy()  # time array (ms)\n",
        "# soma membrane potential\n",
        "Vm = V_rec.as_numpy()\n",
        "v_soma = Vm[cell.sec_id_in_seg[cell.all.index(cell.soma)]]\n",
        "v_tfut = Vm[cell.sec_id_in_seg[cell.all.index(tufts[0])]]\n",
        "# lfp array\n",
        "lfp = ecp.calc_ecp(move_cell=loc_param).T  # unit: mV\n",
        "\n",
        "# Soma membrane potential\n",
        "plt.figure(figsize=(10, 4))\n",
        "plt.plot(t, v_soma, label='Soma')\n",
        "plt.plot(t, v_tfut, label='Tuft')\n",
        "plt.ylabel('Membrane potential (mV)')\n",
        "plt.xlabel('time (ms)')\n",
        "plt.xlim(t[[0, -1]])\n",
        "plt.legend()\n",
        "plt.savefig('Vm')\n",
        "\n",
        "# Extracellular potential along y-axis\n",
        "y_window = [-1200, 1200]  # select range of y coordinate for plotting\n",
        "ylim = loc_param[1] + np.array(y_window)  # set range of y coordinate\n",
        "max_idx = np.argmax(np.amax(np.abs(lfp), axis=0))  # find the electrode that records maximum magnitude\n",
        "x_dist = elec_pos[max_idx, 0]  # x coordinate of the maximum magnitude electrode\n",
        "e_idx = (elec_pos[:, 0]==x_dist) & (elec_pos[:, 1]>=ylim[0]) & (elec_pos[:, 1]<=ylim[1])  # selected electrode indices\n",
        "\n",
        "fontsize = 15\n",
        "labelpad = -10\n",
        "ticksize = 12\n",
        "tick_length = 5\n",
        "nbins = 5\n",
        "plt.figure(figsize=(8, 5))\n",
        "_ = plot_lfp_heatmap(t=t, elec_d=elec_pos[e_idx, 1], lfp=lfp[:, e_idx],\n",
        "                     fontsize=fontsize, labelpad=labelpad, ticksize=ticksize, tick_length=tick_length,\n",
        "                     nbins=nbins, vlim='auto', axes=plt.gca()) #vlim='auto';normal range seems to be ~ [-.00722,.00722]\n",
        "plt.title('Extracellular potential heatmap')\n",
        "plt.savefig('ECP heatmap')\n",
        "plt.figure(figsize=(8, 5))\n",
        "_ = plot_lfp_traces(t, lfp[:, e_idx][:,1::3], electrodes=elec_pos[e_idx][1::3],\n",
        "                    fontsize=fontsize, labelpad=labelpad, ticksize=ticksize, tick_length=tick_length,\n",
        "                    nbins=nbins, axes=plt.gca())\n",
        "plt.title('Extracellular potential timecourse')\n",
        "plt.savefig('ECP timecourse')\n",
        "\n",
        "plt.show()"
      ]
    },
    {
      "cell_type": "markdown",
      "id": "5c3e3e52",
      "metadata": {
        "id": "5c3e3e52"
      },
      "source": [
        "## Electrotonic distance\n",
        "\n",
        "Neuron has a tool for electrotonic analysis [https://www.neuron.yale.edu/neuron/static/docs/zclass/zclass.html](https://www.neuron.yale.edu/neuron/static/docs/zclass/zclass.html). It computes the electrotonic distance defined by attenuation, but the classical definition is [anatomical distance/length constant](https://www.neuron.yale.edu/neuron/static/docs/zclass/NIPS94/nipsfin.html).\n",
        "\n",
        "The plot below shows the membrane potential timecourse at several locations on the cell. The electrotonic distance computed by Neuron of each location is also shown with both number and color. The distance should always be a positive value, but it is labeled negative for the basal dendrites and the axon intentionally so that it can be easily distinguished from the apical dendrites."
      ]
    },
    {
      "cell_type": "code",
      "source": [],
      "metadata": {
        "id": "D0amv-Dd-2Ij"
      },
      "id": "D0amv-Dd-2Ij",
      "execution_count": null,
      "outputs": []
    },
    {
      "cell_type": "code",
      "source": [
        "# geometry=cell.geometry"
      ],
      "metadata": {
        "id": "cNsNKTKuB0XA"
      },
      "id": "cNsNKTKuB0XA",
      "execution_count": null,
      "outputs": []
    },
    {
      "cell_type": "code",
      "execution_count": null,
      "id": "729a65ff",
      "metadata": {
        "id": "729a65ff"
      },
      "outputs": [],
      "source": [
        "# for syn in cell.synapse:\n",
        "#     syn.set_gmax(0)\n",
        "# h.run()\n",
        "\n",
        "# sec_type_swc = {sec['name']: sec['type'] for _, sec in geometry.iterrows()}\n",
        "# # sec_type = [sec_type_swc[sec.name().split('.')[-1]] for sec in cell.all] # original\n",
        "# # sec_type = [sec_type_swc[sec.name().split('.')[-1].split('[')[0]] for sec in cell.all] # possible alternative?\n",
        "# sec_type = [sec_type_swc[sec.name()] for sec in cell.all]\n",
        "# freq = 0 # Hz\n",
        "# seg_prop, _, _ = measure_segment_distance(cell.soma , cell.all, sec_type, freq)\n",
        "\n",
        "# select_seg = [[cell.sec_id_in_seg[sec[0]], cell.get_sec_by_id(sec[0]).nseg -1] for sec in cell.sec_id_lookup.values()]\n",
        "# select_seg = np.sum(np.array(select_seg), axis=1)\n",
        "# # select_seg = np.unique(np.cumsum(np.array(select_seg), axis=1).ravel())\n",
        "# _ = plot_variable_with_morphology(cell.seg_coords, seg_prop, Vm, t=t, axes=['x', 'y'],\n",
        "#                                   distance_type='elec_dist', n_dist=300,\n",
        "#                                   select_seg=select_seg, max_per_dist=1, varname='Membrane potential (mV)',\n",
        "#                                   space=2., normalized_space=True, sort_by_dist=True,\n",
        "                                  # figsize=(10, 10), fontsize=15, scalebar_size=50)"
      ]
    },
    {
      "cell_type": "markdown",
      "source": [
        "##Transfer Impedance\n",
        "\n"
      ],
      "metadata": {
        "id": "Tc1fFLPUz5Qe"
      },
      "id": "Tc1fFLPUz5Qe"
    },
    {
      "cell_type": "code",
      "execution_count": null,
      "id": "be859ed7",
      "metadata": {
        "id": "be859ed7"
      },
      "outputs": [],
      "source": [
        "# import numpy as np\n",
        "# from neuron import h\n",
        "# import cmath\n",
        "\n",
        "# def measure_segment_transfer_impedance(soma, section_list, sec_type, freq=0, extracellular_mechanism=True):\n",
        "#     \"\"\"\n",
        "#     soma: soma section object\n",
        "#     section_list: list of sections\n",
        "#     sec_type: list of swc type id of sections\n",
        "#     freq: frequency (Hz) at which electrotonic distance is evaluated\n",
        "#     extracellular_mechanism: whether extracellular mechanism is used\n",
        "#     \"\"\"\n",
        "#     seg_prop = {}\n",
        "#     swc_type = []\n",
        "#     seg_area = []\n",
        "#     seg_dist = []\n",
        "#     seg_length = []\n",
        "#     elec_dist = [] #modulus part of polar form #should change names\n",
        "#     elec_dist0 = [] #modulus of polar form #should change names\n",
        "#     transfer_imps = [] #real part of rectangular form\n",
        "#     transfer_imps0 = [] # real part of rectangular form\n",
        "\n",
        "#     # set up distance origin\n",
        "#     h.distance(0, soma(.5))\n",
        "#     # set up electrotonic origin\n",
        "#     zz = h.Impedance()\n",
        "#     zz.loc(soma(.5))\n",
        "#     if extracellular_mechanism:\n",
        "#         zz.compute(freq + 1 / 9e9, 0) #*\n",
        "#     else:\n",
        "#         zz.compute(freq, 1)\n",
        "#     # measure distance\n",
        "#     for i, sec in enumerate(section_list):\n",
        "#         if sec_type[i]==1:\n",
        "#             transfer_imp=zz.transfer(sec(0.5/sec.nseg)) #*\n",
        "#             transfer_phase=zz.transfer_phase(sec(0.5/sec.nseg)) #*\n",
        "#             elec_dist0.append(transfer_imp) #*\n",
        "#             rect_complex=cmath.rect(transfer_imp,transfer_phase)\n",
        "#             transfer_imps.append(rect_complex.real) #*\n",
        "#         else:\n",
        "#             transfer_imp=zz.transfer(sec.parentseg()) #*\n",
        "#             transfer_phase=zz.transfer_phase(sec.parentseg()) #*\n",
        "#             elec_dist0.append(transfer_imp) #*\n",
        "#             rect_complex=cmath.rect(transfer_imp, transfer_phase) #*\n",
        "#             transfer_imps.append(rect_complex.real) #*\n",
        "#         for j, seg in enumerate(sec):\n",
        "#             swc_type.append(sec_type[i])\n",
        "#             seg_area.append(seg.area())\n",
        "#             seg_dist.append(h.distance(seg))\n",
        "#             seg_length.append(sec.L/sec.nseg)\n",
        "#             if j!=0:\n",
        "#                 elec_dist0.append(elec_dist[-1])\n",
        "#                 transfer_imps.append(transfer_imps0[-1])\n",
        "#             elec_dist.append(zz.transfer(seg)) #*\n",
        "#             transfer_imp=zz.transfer(seg) #*\n",
        "#             transfer_phase=zz.transfer_phase(seg) #*\n",
        "#             rect_complex=cmath.rect(transfer_imp,transfer_phase) #*\n",
        "#             transfer_imps0.append(rect_complex.real) #*\n",
        "\n",
        "#     seg_prop['swc_type'] = np.array(swc_type)\n",
        "#     seg_prop['seg_area'] = np.array(seg_area)\n",
        "\n",
        "#     # distance at endpoints of each segment\n",
        "#     seg_prop['distance'] = np.expand_dims(seg_dist, 1) + np.expand_dims(seg_length, 1) / 2 * np.array([[-1, 1]])\n",
        "#     # seg_prop['transfer_imp'] = np.sort(np.log(elec_dist0[0]) - np.log(np.column_stack([elec_dist0, elec_dist])), axis=1) #*\n",
        "#     seg_prop['transfer_imp_mod'] = np.sort(elec_dist0[0] - np.column_stack([elec_dist0, elec_dist]), axis=1) #*\n",
        "#     seg_prop['transfer_imp_real'] = np.sort(transfer_imps[0] - np.column_stack([transfer_imps, transfer_imps0]), axis=1) #*\n",
        "\n",
        "\n",
        "#     # change sign of basal and axon types\n",
        "#     idx = np.nonzero((seg_prop['swc_type']==2) | (seg_prop['swc_type']==3))[0]\n",
        "#     seg_prop['distance'][idx] = -seg_prop['distance'][idx,::-1]\n",
        "#     seg_prop['transfer_imp_mod'][idx] = -seg_prop['transfer_imp_mod'][idx,::-1] #*\n",
        "#     seg_prop['transfer_imp_real'][idx] = -seg_prop['transfer_imp_real'][idx,::-1] #*\n",
        "#     return seg_prop, zz.transfer(soma(.5)), zz.transfer_phase(soma(.5))\n"
      ]
    },
    {
      "cell_type": "code",
      "source": [
        "# #using modulus of polar form\n",
        "\n",
        "# for syn in cell.synapse:\n",
        "#     syn.set_gmax(0)\n",
        "# h.run()\n",
        "\n",
        "# sec_type_swc = {sec['name']: sec['type'] for _, sec in geometry.iterrows()}\n",
        "# sec_type = [sec_type_swc[sec.name().split('.')[-1]] for sec in cell.all]\n",
        "# freq = 0 # Hz\n",
        "# seg_prop, _, _ = measure_segment_transfer_impedance(cell.soma , cell.all, sec_type, freq)\n",
        "\n",
        "# select_seg = [[cell.sec_id_in_seg[sec[0]], cell.get_sec_by_id(sec[0]).nseg -1] for sec in cell.sec_id_lookup.values()]\n",
        "# select_seg = np.sum(np.array(select_seg), axis=1)\n",
        "# # select_seg = np.unique(np.cumsum(np.array(select_seg), axis=1).ravel())\n",
        "# _ = plot_variable_with_morphology(cell.seg_coords, seg_prop, Vm, t=t, axes=['x', 'y'],\n",
        "#                                   distance_type='transfer_imp_mod', n_dist=300,\n",
        "#                                   select_seg=select_seg, max_per_dist=1, varname='Membrane potential (mV)',\n",
        "#                                   space=2., normalized_space=True, sort_by_dist=True,\n",
        "#                                   figsize=(10, 10), fontsize=15, scalebar_size=50)"
      ],
      "metadata": {
        "id": "yHRymM0L5pJj"
      },
      "id": "yHRymM0L5pJj",
      "execution_count": null,
      "outputs": []
    },
    {
      "cell_type": "code",
      "source": [
        "# #using real part of rectangular complex form\n",
        "\n",
        "# for syn in cell.synapse:\n",
        "#     syn.set_gmax(0)\n",
        "# h.run()\n",
        "\n",
        "# sec_type_swc = {sec['name']: sec['type'] for _, sec in geometry.iterrows()}\n",
        "# sec_type = [sec_type_swc[sec.name().split('.')[-1]] for sec in cell.all]\n",
        "# freq = 0 # Hz\n",
        "# seg_prop, _, _ = measure_segment_transfer_impedance(cell.soma , cell.all, sec_type, freq)\n",
        "\n",
        "# select_seg = [[cell.sec_id_in_seg[sec[0]], cell.get_sec_by_id(sec[0]).nseg -1] for sec in cell.sec_id_lookup.values()]\n",
        "# select_seg = np.sum(np.array(select_seg), axis=1)\n",
        "# # select_seg = np.unique(np.cumsum(np.array(select_seg), axis=1).ravel())\n",
        "# _ = plot_variable_with_morphology(cell.seg_coords, seg_prop, Vm, t=t, axes=['x', 'y'],\n",
        "#                                   distance_type='transfer_imp_real', n_dist=300,\n",
        "#                                   select_seg=select_seg, max_per_dist=1, varname='Membrane potential (mV)',\n",
        "#                                   space=2., normalized_space=True, sort_by_dist=True,\n",
        "#                                   figsize=(10, 10), fontsize=15, scalebar_size=50)"
      ],
      "metadata": {
        "id": "Ibbz1qMIjWu5"
      },
      "id": "Ibbz1qMIjWu5",
      "execution_count": null,
      "outputs": []
    },
    {
      "cell_type": "markdown",
      "source": [
        "Transfer Impedance is a complex number"
      ],
      "metadata": {
        "id": "2eSHPclEP0I0"
      },
      "id": "2eSHPclEP0I0"
    },
    {
      "cell_type": "code",
      "source": [
        "# polar_modulus=1\n",
        "# polar_phase=3\n",
        "\n",
        "# complex_rectangular_form=cmath.rect(polar_modulus, polar_phase)\n",
        "# print(complex_rectangular_form)"
      ],
      "metadata": {
        "id": "PM8Xa3WATASj"
      },
      "id": "PM8Xa3WATASj",
      "execution_count": null,
      "outputs": []
    },
    {
      "cell_type": "code",
      "source": [
        "# complex_rectangular_form.real"
      ],
      "metadata": {
        "id": "BZgkMzBpTLgL"
      },
      "id": "BZgkMzBpTLgL",
      "execution_count": null,
      "outputs": []
    }
  ],
  "metadata": {
    "colab": {
      "provenance": [],
      "include_colab_link": true
    },
    "kernelspec": {
      "display_name": "Python 3 (ipykernel)",
      "language": "python",
      "name": "python3"
    },
    "language_info": {
      "codemirror_mode": {
        "name": "ipython",
        "version": 3
      },
      "file_extension": ".py",
      "mimetype": "text/x-python",
      "name": "python",
      "nbconvert_exporter": "python",
      "pygments_lexer": "ipython3",
      "version": "3.9.12"
    }
  },
  "nbformat": 4,
  "nbformat_minor": 5
}