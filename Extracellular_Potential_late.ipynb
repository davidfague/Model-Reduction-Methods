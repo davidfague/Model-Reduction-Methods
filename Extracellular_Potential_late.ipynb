{
  "cells": [
    {
      "cell_type": "markdown",
      "metadata": {
        "id": "view-in-github",
        "colab_type": "text"
      },
      "source": [
        "<a href=\"https://colab.research.google.com/github/davidfague/Model_Reduction_Methods/blob/main/Extracellular_Potential_late.ipynb\" target=\"_parent\"><img src=\"https://colab.research.google.com/assets/colab-badge.svg\" alt=\"Open In Colab\"/></a>"
      ]
    },
    {
      "cell_type": "markdown",
      "id": "7a9de89f",
      "metadata": {
        "id": "7a9de89f"
      },
      "source": [
        "# Single Cell Extracellular Potential"
      ]
    },
    {
      "cell_type": "code",
      "source": [
        "reduce_cell=True #use neuron_reduce\n",
        "expand_cable=True #use cable_expander"
      ],
      "metadata": {
        "id": "0XKSxnXex5Is"
      },
      "id": "0XKSxnXex5Is",
      "execution_count": 1,
      "outputs": []
    },
    {
      "cell_type": "markdown",
      "id": "MSX7LmGzszzf",
      "metadata": {
        "id": "MSX7LmGzszzf"
      },
      "source": [
        "#### Download modules from Github"
      ]
    },
    {
      "cell_type": "code",
      "source": [
        "!pip install neuron"
      ],
      "metadata": {
        "id": "-urE9jrxNdxm",
        "colab": {
          "base_uri": "https://localhost:8080/"
        },
        "outputId": "84dd62a7-e014-4a31-dd0e-379462815e30"
      },
      "id": "-urE9jrxNdxm",
      "execution_count": 2,
      "outputs": [
        {
          "output_type": "stream",
          "name": "stdout",
          "text": [
            "Looking in indexes: https://pypi.org/simple, https://us-python.pkg.dev/colab-wheels/public/simple/\n",
            "Collecting neuron\n",
            "  Downloading NEURON-8.2.2-cp310-cp310-manylinux_2_17_x86_64.manylinux2014_x86_64.whl (14.9 MB)\n",
            "\u001b[2K     \u001b[90m━━━━━━━━━━━━━━━━━━━━━━━━━━━━━━━━━━━━━━━━\u001b[0m \u001b[32m14.9/14.9 MB\u001b[0m \u001b[31m38.3 MB/s\u001b[0m eta \u001b[36m0:00:00\u001b[0m\n",
            "\u001b[?25hRequirement already satisfied: numpy>=1.9.3 in /usr/local/lib/python3.10/dist-packages (from neuron) (1.22.4)\n",
            "Installing collected packages: neuron\n",
            "Successfully installed neuron-8.2.2\n"
          ]
        }
      ]
    },
    {
      "cell_type": "code",
      "source": [
        "!pip install neuron_reduce"
      ],
      "metadata": {
        "id": "BHjnRgPsN0g2",
        "colab": {
          "base_uri": "https://localhost:8080/"
        },
        "outputId": "edfa3700-d679-4e39-ceae-37807dd5db3b"
      },
      "id": "BHjnRgPsN0g2",
      "execution_count": 3,
      "outputs": [
        {
          "output_type": "stream",
          "name": "stdout",
          "text": [
            "Looking in indexes: https://pypi.org/simple, https://us-python.pkg.dev/colab-wheels/public/simple/\n",
            "Collecting neuron_reduce\n",
            "  Downloading neuron_reduce-0.0.7-py3-none-any.whl (18 kB)\n",
            "Installing collected packages: neuron_reduce\n",
            "Successfully installed neuron_reduce-0.0.7\n"
          ]
        }
      ]
    },
    {
      "cell_type": "code",
      "source": [
        "!git clone https://github.com/davidfague/Model_Reduction_Methods.git"
      ],
      "metadata": {
        "id": "t4dVzA0WLZ9F",
        "colab": {
          "base_uri": "https://localhost:8080/"
        },
        "outputId": "f3c1eafb-b026-4beb-bae0-9f00f91555a2"
      },
      "id": "t4dVzA0WLZ9F",
      "execution_count": 4,
      "outputs": [
        {
          "output_type": "stream",
          "name": "stdout",
          "text": [
            "Cloning into 'Model_Reduction_Methods'...\n",
            "remote: Enumerating objects: 1200, done.\u001b[K\n",
            "remote: Counting objects: 100% (426/426), done.\u001b[K\n",
            "remote: Compressing objects: 100% (233/233), done.\u001b[K\n",
            "remote: Total 1200 (delta 230), reused 350 (delta 193), pack-reused 774\u001b[K\n",
            "Receiving objects: 100% (1200/1200), 7.01 MiB | 8.74 MiB/s, done.\n",
            "Resolving deltas: 100% (659/659), done.\n"
          ]
        }
      ]
    },
    {
      "cell_type": "code",
      "source": [
        "%cd Model_Reduction_Methods/\n",
        "\n",
        "#import reduction and expansion functions\n",
        "from test_neuron_reduce.subtree_reductor_func import subtree_reductor\n",
        "from cable_expander_func import cable_expander\n",
        "\n",
        "#import recording functions\n",
        "from stylized_module.recorder import Recorder\n",
        "\n",
        "# #import analysis functions\n",
        "# from utils import make_seg_df,generate_stylized_geometry,make_reduced_seg_df,plot_morphology,check_connectivity,generate_reduced_cell_seg_coords, create_seg_var_report\n",
        "\n",
        "# from modeling_module.synapses import Synapse, Listed_Synapse\n",
        "from modeling_module.cell_model import cell_model\n",
        "import pandas as pd"
      ],
      "metadata": {
        "id": "cY9U_KPwLVAz",
        "colab": {
          "base_uri": "https://localhost:8080/"
        },
        "outputId": "cc0ffc31-4f18-4450-cb10-359ce2b128b9"
      },
      "id": "cY9U_KPwLVAz",
      "execution_count": 5,
      "outputs": [
        {
          "output_type": "stream",
          "name": "stdout",
          "text": [
            "/content/Model_Reduction_Methods\n"
          ]
        }
      ]
    },
    {
      "cell_type": "code",
      "source": [],
      "metadata": {
        "id": "Ez09NP_HCSAk"
      },
      "id": "Ez09NP_HCSAk",
      "execution_count": 5,
      "outputs": []
    },
    {
      "cell_type": "code",
      "source": [
        "%cd expand_example"
      ],
      "metadata": {
        "id": "vXTRrX-ILq6D",
        "colab": {
          "base_uri": "https://localhost:8080/"
        },
        "outputId": "7d24ab52-775e-49a7-a4fa-494f9082b640"
      },
      "id": "vXTRrX-ILq6D",
      "execution_count": 6,
      "outputs": [
        {
          "output_type": "stream",
          "name": "stdout",
          "text": [
            "/content/Model_Reduction_Methods/expand_example\n"
          ]
        }
      ]
    },
    {
      "cell_type": "code",
      "source": [
        "# compile the mod files\n",
        "!nrnivmodl mod"
      ],
      "metadata": {
        "id": "Dm-MdGeb6uZB",
        "colab": {
          "base_uri": "https://localhost:8080/"
        },
        "outputId": "035ec7ae-2746-4094-9230-f80c6daf8ab5"
      },
      "id": "Dm-MdGeb6uZB",
      "execution_count": 7,
      "outputs": [
        {
          "output_type": "stream",
          "name": "stdout",
          "text": [
            "/usr/local/bin/nrnivmodl:11: DeprecationWarning: The distutils package is deprecated and slated for removal in Python 3.12. Use setuptools or check PEP 632 for potential alternatives\n",
            "  from distutils.ccompiler import new_compiler\n",
            "/content/Model_Reduction_Methods/expand_example\n",
            "Mod files: \"mod/mod/CaDynamics_E2.mod\" \"mod/mod/Ca_HVA.mod\" \"mod/mod/Ca_LVAst.mod\" \"mod/mod/epsp.mod\" \"mod/mod/Ih.mod\" \"mod/mod/Im.mod\" \"mod/mod/K_Pst.mod\" \"mod/mod/K_Tst.mod\" \"mod/mod/Nap_Et2.mod\" \"mod/mod/NaTa_t.mod\" \"mod/mod/NaTs2_t.mod\" \"mod/mod/SK_E2.mod\" \"mod/mod/SKv3_1.mod\"\n",
            "\n",
            "Creating 'x86_64' directory for .o files.\n",
            "\n",
            " -> \u001b[32mNMODL\u001b[0m ../mod/Ca_HVA.mod\n",
            " -> \u001b[32mNMODL\u001b[0m ../mod/CaDynamics_E2.mod\n",
            " -> \u001b[32mCompiling\u001b[0m mod_func.cpp\n",
            " -> \u001b[32mNMODL\u001b[0m ../mod/Ca_LVAst.mod\n",
            "Translating Ca_HVA.mod into /content/Model_Reduction_Methods/expand_example/x86_64/Ca_HVA.c\n",
            "Thread Safe\n",
            " -> \u001b[32mNMODL\u001b[0m ../mod/epsp.mod\n",
            "Translating CaDynamics_E2.mod into /content/Model_Reduction_Methods/expand_example/x86_64/CaDynamics_E2.c\n",
            "Translating epsp.mod into /content/Model_Reduction_Methods/expand_example/x86_64/epsp.c\n",
            "Translating Ca_LVAst.mod into /content/Model_Reduction_Methods/expand_example/x86_64/Ca_LVAst.c\n",
            "Thread Safe\n",
            "Thread Safe\n",
            " -> \u001b[32mNMODL\u001b[0m ../mod/Ih.mod\n",
            " -> \u001b[32mNMODL\u001b[0m ../mod/Im.mod\n",
            "Thread Safe\n",
            " -> \u001b[32mNMODL\u001b[0m ../mod/K_Pst.mod\n",
            "Translating Ih.mod into /content/Model_Reduction_Methods/expand_example/x86_64/Ih.c\n",
            "Translating K_Pst.mod into /content/Model_Reduction_Methods/expand_example/x86_64/K_Pst.c\n",
            "Thread Safe\n",
            "Thread Safe\n",
            " -> \u001b[32mNMODL\u001b[0m ../mod/K_Tst.mod\n",
            " -> \u001b[32mNMODL\u001b[0m ../mod/Nap_Et2.mod\n",
            "Translating Im.mod into /content/Model_Reduction_Methods/expand_example/x86_64/Im.c\n",
            "Translating K_Tst.mod into /content/Model_Reduction_Methods/expand_example/x86_64/K_Tst.c\n",
            "Thread Safe\n",
            "Thread Safe\n",
            "Translating Nap_Et2.mod into /content/Model_Reduction_Methods/expand_example/x86_64/Nap_Et2.c\n",
            " -> \u001b[32mNMODL\u001b[0m ../mod/NaTa_t.mod\n",
            "Thread Safe\n",
            " -> \u001b[32mNMODL\u001b[0m ../mod/NaTs2_t.mod\n",
            "Translating NaTa_t.mod into /content/Model_Reduction_Methods/expand_example/x86_64/NaTa_t.c\n",
            "Thread Safe\n",
            " -> \u001b[32mNMODL\u001b[0m ../mod/SK_E2.mod\n",
            " -> \u001b[32mNMODL\u001b[0m ../mod/SKv3_1.mod\n",
            "Translating NaTs2_t.mod into /content/Model_Reduction_Methods/expand_example/x86_64/NaTs2_t.c\n",
            "Thread Safe\n",
            "Translating SKv3_1.mod into /content/Model_Reduction_Methods/expand_example/x86_64/SKv3_1.c\n",
            "Thread Safe\n",
            " -> \u001b[32mCompiling\u001b[0m CaDynamics_E2.c\n",
            "Translating SK_E2.mod into /content/Model_Reduction_Methods/expand_example/x86_64/SK_E2.c\n",
            " -> \u001b[32mCompiling\u001b[0m Ca_HVA.c\n",
            "Thread Safe\n",
            " -> \u001b[32mCompiling\u001b[0m Ca_LVAst.c\n",
            " -> \u001b[32mCompiling\u001b[0m epsp.c\n",
            " -> \u001b[32mCompiling\u001b[0m Ih.c\n",
            " -> \u001b[32mCompiling\u001b[0m Im.c\n",
            " -> \u001b[32mCompiling\u001b[0m K_Pst.c\n",
            " -> \u001b[32mCompiling\u001b[0m K_Tst.c\n",
            " -> \u001b[32mCompiling\u001b[0m Nap_Et2.c\n",
            " -> \u001b[32mCompiling\u001b[0m NaTa_t.c\n",
            " -> \u001b[32mCompiling\u001b[0m NaTs2_t.c\n",
            " -> \u001b[32mCompiling\u001b[0m SK_E2.c\n",
            " -> \u001b[32mCompiling\u001b[0m SKv3_1.c\n",
            " => \u001b[32mLINKING\u001b[0m shared library ./libnrnmech.so\n",
            " => \u001b[32mLINKING\u001b[0m executable ./special LDFLAGS are:    -pthread\n",
            "Successfully created x86_64/special\n"
          ]
        }
      ]
    },
    {
      "cell_type": "markdown",
      "id": "2a84fbea",
      "metadata": {
        "id": "2a84fbea"
      },
      "source": [
        "## Setup smiulation parameters"
      ]
    },
    {
      "cell_type": "code",
      "execution_count": 8,
      "id": "4be7f6fd",
      "metadata": {
        "id": "4be7f6fd",
        "colab": {
          "base_uri": "https://localhost:8080/"
        },
        "outputId": "f7faef48-9c60-459f-c342-14cf0c67ae43"
      },
      "outputs": [
        {
          "output_type": "execute_result",
          "data": {
            "text/plain": [
              "1.0"
            ]
          },
          "metadata": {},
          "execution_count": 8
        }
      ],
      "source": [
        "import numpy as np\n",
        "import pandas as pd\n",
        "import json\n",
        "import matplotlib.pyplot as plt\n",
        "import ipywidgets as widgets\n",
        "from neuron import h\n",
        "from scipy import signal\n",
        "from IPython.display import display, clear_output\n",
        "from ipywidgets import interactive_output, HBox, VBox, Label, Layout\n",
        "\n",
        "from __future__ import division\n",
        "from neuron import gui,h\n",
        "import numpy as np\n",
        "import time\n",
        "import matplotlib.pyplot as plt\n",
        "\n",
        "%matplotlib inline\n",
        "\n",
        "\n",
        "h.load_file('stdrun.hoc')\n",
        "# h.nrn_load_dll(paths.COMPILED_LIBRARY_REDUCED_ORDER)  # choose the set of mechanisms\n",
        "h.nrn_load_dll('./x86_64/.libs/libnrnmech.so')\n"
      ]
    },
    {
      "cell_type": "markdown",
      "id": "7927a07b",
      "metadata": {
        "id": "7927a07b"
      },
      "source": [
        "### Create a cell with reduced morphology"
      ]
    },
    {
      "cell_type": "code",
      "source": [
        "%ls"
      ],
      "metadata": {
        "id": "s0gis1f1OdWX",
        "colab": {
          "base_uri": "https://localhost:8080/"
        },
        "outputId": "43a44001-8b7b-4699-e56c-ae8b48908300"
      },
      "id": "s0gis1f1OdWX",
      "execution_count": 9,
      "outputs": [
        {
          "output_type": "stream",
          "name": "stdout",
          "text": [
            "cell1.asc  example_expand.py  L5PCtemplate.hoc  \u001b[0m\u001b[01;34mx86_64\u001b[0m/\n",
            "Cell.hoc   L5PCbiophys3.hoc   \u001b[01;34mmod\u001b[0m/\n"
          ]
        }
      ]
    },
    {
      "cell_type": "code",
      "source": [
        "# class Synapse(PointCurrent):\n",
        "#     def __init__(self, cell, stim: h.NetStim, sec_index: int,\n",
        "#                   syn_type: str = 'Exp2Syn', gmax: float = 0.01, loc: float = 0.5,\n",
        "#                   record: bool = False):\n",
        "#         super().__init__(cell, sec_index, loc)\n",
        "#         self.stim = stim\n",
        "#         self.gmax = gmax\n",
        "#         self.__synapse_type(syn_type)\n",
        "#         self.setup(record)\n",
        "\n",
        "#     # PRIVATE METHODS\n",
        "#     def __synapse_type(self, syn_type):\n",
        "#         if syn_type == 'AlphaSynapse1':\n",
        "#             # Reversal potential (mV); Synapse time constant (ms)\n",
        "#             self.syn_params = {'e': 0., 'tau': 2.0}\n",
        "#             # Variable name of maximum conductance (uS)\n",
        "#             self.gmax_var = 'gmax'\n",
        "#         elif syn_type == 'Exp2Syn':\n",
        "#             self.syn_params = {'e': 0., 'tau1': 1.0, 'tau2': 3.0}\n",
        "#             self.gmax_var = '_nc_weight'\n",
        "#         else:\n",
        "#             raise ValueError(\"Synpase type not defined.\")\n",
        "#         self.syn_type = syn_type\n",
        "#         self.pp_obj = getattr(h, syn_type)(self.get_section()(self.loc))\n",
        "\n",
        "#     def __setup_synapse(self):\n",
        "#         self.syn = self.pp_obj\n",
        "#         self.nc = h.NetCon(self.stim, self.syn, 1, 0, 1)\n",
        "#         for key, value in self.syn_params.items():\n",
        "#             setattr(self.syn, key, value)\n",
        "#         self.set_gmax()\n",
        "\n",
        "#     # PUBLIC METHODS\n",
        "#     def setup(self, record: bool = False):\n",
        "#         self.__setup_synapse()\n",
        "#         if record:\n",
        "#             self.setup_recorder()\n",
        "    \n",
        "#     def set_gmax(self, gmax: float = None):\n",
        "#         if gmax is not None:\n",
        "#             self.gmax = gmax\n",
        "#         if self.gmax_var == '_nc_weight':\n",
        "#             self.nc.weight[0] = self.gmax\n",
        "#         else:\n",
        "#             setattr(self.syn, self.gmax_var, self.gmax)"
      ],
      "metadata": {
        "id": "8TE_op1mUTii"
      },
      "id": "8TE_op1mUTii",
      "execution_count": 10,
      "outputs": []
    },
    {
      "cell_type": "markdown",
      "source": [
        "Build complex cell"
      ],
      "metadata": {
        "id": "CjCDSZpXTG1w"
      },
      "id": "CjCDSZpXTG1w"
    },
    {
      "cell_type": "code",
      "source": [
        "h.load_file('L5PCbiophys3.hoc')\n",
        "\n",
        "# # Load morphology parameters from a csv file\n",
        "# geometry = pd.read_csv(paths.GEO_REDUCED_ORDER, index_col='id')\n",
        "h.load_file(\"import3d.hoc\")\n",
        "\n",
        "\n",
        "# Create a cell object\n",
        "# cell = ReducedOrderL5CellPassiveDendrite(geometry=geometry, full_biophys=biophys_param)\n",
        "h.load_file('L5PCtemplate.hoc')\n",
        "complex_cell = h.L5PCtemplate('cell1.asc')\n",
        "h.celsius = 37\n",
        "h.v_init = complex_cell.soma[0].e_pas\n",
        "\n",
        "synapses_list=[]\n",
        "netcons_list=[]\n",
        "cell = cell_model(complex_cell,synapses_list=synapses_list,netcons_list=netcons_list,spike_threshold = 10)"
      ],
      "metadata": {
        "colab": {
          "base_uri": "https://localhost:8080/"
        },
        "id": "_3cQePJaTF1t",
        "outputId": "a88c983b-649b-4352-af83-e3dfb78ad77b"
      },
      "id": "_3cQePJaTF1t",
      "execution_count": 11,
      "outputs": [
        {
          "output_type": "stream",
          "name": "stdout",
          "text": [
            "Generating 3D coordinates for:  L5PCtemplate[0].axon[0]\n",
            "Generating 3D coordinates for:  L5PCtemplate[0].axon[1]\n"
          ]
        }
      ]
    },
    {
      "cell_type": "code",
      "source": [
        "# #need to check cell.add_synapse\n",
        "# dir(cell)"
      ],
      "metadata": {
        "id": "AzxdWmmxYMM6"
      },
      "id": "AzxdWmmxYMM6",
      "execution_count": 12,
      "outputs": []
    },
    {
      "cell_type": "code",
      "source": [
        "# place synapses on distal tuft sections:\n",
        "parent_sections=[]\n",
        "for sec in cell.all: # find non-terminal sections\n",
        "  if sec.parentseg() is not None:\n",
        "    if sec.parentseg().sec not in parent_sections:\n",
        "      parent_sections.append(sec.parentseg().sec)\n",
        "\n",
        "h.distance(sec=cell.soma) #use to find distance from soma\n",
        "\n",
        "tufts=[]\n",
        "for sec in cell.apic:  # check if the section is a terminal section and if it is apical tuft\n",
        "  # print(h.distance(sec(0.5)))\n",
        "  if sec not in parent_sections and h.distance(sec(0.5)) > 800:\n",
        "    tufts.append(sec)\n",
        "    # print(sec, 'is a terminal section of the tuft')\n",
        "\n"
      ],
      "metadata": {
        "id": "cKhOKBVtWkal"
      },
      "id": "cKhOKBVtWkal",
      "execution_count": 13,
      "outputs": []
    },
    {
      "cell_type": "code",
      "source": [
        "# generate presynaptic spike train (if this is before placing synapses then there willb e one stimulus for all synapses)\n",
        "import random\n",
        "#use defined cell_model class for generating 3d coordinates, recording ECP, 'book-keeping' etc...\n",
        "random.seed(2)\n",
        "\n",
        "# Create synaptic input\n",
        "stim = h.NetStim()\n",
        "frequency=15 #(hz)\n",
        "spikeinterval = (1/frequency)*1000 #convert to T and milliseconds\n",
        "stim.noise=0\n",
        "stim.interval=spikeinterval\n",
        "print(str(stim.interval))\n",
        "stim.number = 3  # only one event\n",
        "stim.start = 2.0  # delay (ms)\n",
        "\n",
        "gmax = 1  # default synapse maximum conductance (uS)"
      ],
      "metadata": {
        "colab": {
          "base_uri": "https://localhost:8080/"
        },
        "id": "oIofalsJYsBm",
        "outputId": "abded200-0773-4a23-9d6a-7685c30e25dc"
      },
      "id": "oIofalsJYsBm",
      "execution_count": 14,
      "outputs": [
        {
          "output_type": "stream",
          "name": "stdout",
          "text": [
            "66.66666666666667\n"
          ]
        }
      ]
    },
    {
      "cell_type": "code",
      "source": [
        "#place synapses\n",
        "cell._nbranch=len(tufts)\n",
        "print(cell._nbranch, \"terminal tuft branches in original cell\")\n",
        "for distal_tuft_sec in tufts:\n",
        "  cell.add_synapse(stim, sec_index=cell.all.index(distal_tuft_sec), gmax=gmax / cell._nbranch) # need to adjust to only tufts\n"
      ],
      "metadata": {
        "colab": {
          "base_uri": "https://localhost:8080/"
        },
        "id": "KKsjAd_rYUM9",
        "outputId": "d3da945e-35b8-4fa7-841f-0a379d2e6149"
      },
      "id": "KKsjAd_rYUM9",
      "execution_count": 15,
      "outputs": [
        {
          "output_type": "stream",
          "name": "stdout",
          "text": [
            "22 terminal tuft branches in original cell\n"
          ]
        }
      ]
    },
    {
      "cell_type": "code",
      "source": [
        "#get lists for redution\n",
        "#get synapse hoc obj list from synapse python class obj list\n",
        "synapses_list=[]\n",
        "for synapse in cell.synapse:\n",
        "  synapses_list.append(synapse.syn) #retrieve synapse hoc obj from python class\n",
        "netcons_list=cell.netcons_list"
      ],
      "metadata": {
        "id": "iOQEfI6sae4J"
      },
      "id": "iOQEfI6sae4J",
      "execution_count": 16,
      "outputs": []
    },
    {
      "cell_type": "code",
      "source": [
        "# synapses_list"
      ],
      "metadata": {
        "id": "24wzhmvYQPin"
      },
      "id": "24wzhmvYQPin",
      "execution_count": 17,
      "outputs": []
    },
    {
      "cell_type": "code",
      "source": [
        "# netcons_list"
      ],
      "metadata": {
        "id": "HSWsrA0Kf-Ac"
      },
      "id": "HSWsrA0Kf-Ac",
      "execution_count": 18,
      "outputs": []
    },
    {
      "cell_type": "code",
      "execution_count": 19,
      "id": "18a97eeb",
      "metadata": {
        "id": "18a97eeb",
        "colab": {
          "base_uri": "https://localhost:8080/"
        },
        "outputId": "a4a3c8a3-8565-4444-f383-7d45d51d5385"
      },
      "outputs": [
        {
          "output_type": "stream",
          "name": "stdout",
          "text": [
            "synapses_list after NR reduction: [Exp2Syn[0], Exp2Syn[1], Exp2Syn[4], Exp2Syn[12], Exp2Syn[15], Exp2Syn[17], Exp2Syn[20]]\n",
            "2023-05-04 22:12:14 Branching the section using (d)3/2 and electrotonic length rule to preserve service area and electrical properties.\n",
            "branch_L: 1081.9141048660235 |branch_diam: 1.475351301247016 |trunk_L: 698.0975964944687 |trunk_diam: 3.7176523208618155\n",
            "2023-05-04 22:12:14 Spreading synapses onto branches\n",
            "adding Exp2Syn[0] to PP_params_dict\n",
            "{'Exp2Syn': ['e']}\n",
            "moving Exp2Syn[0] from SynapseLocation(subtree_index=0, section_num=0, x=0.4473684210526316, section_type='apic') to model[1].apic[1](0.223526)\n",
            "moving Exp2Syn[1] from SynapseLocation(subtree_index=0, section_num=0, x=0.5, section_type='apic') to model[1].apic[1](0.297546)\n",
            "moving Exp2Syn[4] from SynapseLocation(subtree_index=0, section_num=0, x=0.39473684210526316, section_type='apic') to model[1].apic[1](0.149513)\n",
            "moving Exp2Syn[12] from SynapseLocation(subtree_index=0, section_num=0, x=0.8157894736842105, section_type='apic') to model[1].apic[1](0.742086)\n",
            "moving Exp2Syn[15] from SynapseLocation(subtree_index=0, section_num=0, x=0.7631578947368421, section_type='apic') to model[1].apic[1](0.667876)\n",
            "moving Exp2Syn[17] from SynapseLocation(subtree_index=0, section_num=0, x=0.868421052631579, section_type='apic') to model[1].apic[1](0.816479)\n",
            "moving Exp2Syn[20] from SynapseLocation(subtree_index=0, section_num=0, x=0.9210526315789473, section_type='apic') to model[1].apic[1](0.891432)\n",
            "PP_params_dict:  {'Exp2Syn': ['e']}\n",
            "Exp2Syn ['e']\n",
            "2023-05-04 22:12:14 duplicating branch 1 synapses onto the other branches and randomly distributing Netcons\n",
            "number of reduced synapses before duplicating synapses to branches: 7\n",
            "[model[1].apic[1], model[1].apic[2], model[1].apic[3], model[1].apic[4]]\n",
            "branch's seg.point_processes: []\n",
            "branch's seg.point_processes: [Exp2Syn[4]]\n",
            "consider excluding PP_params: e\n",
            "duplicate new_syn: Exp2Syn[22]\n",
            "consider excluding PP_params: e\n",
            "duplicate new_syn: Exp2Syn[23]\n",
            "consider excluding PP_params: e\n",
            "duplicate new_syn: Exp2Syn[24]\n",
            "branch's seg.point_processes: [Exp2Syn[0]]\n",
            "consider excluding PP_params: e\n",
            "duplicate new_syn: Exp2Syn[25]\n",
            "consider excluding PP_params: e\n",
            "duplicate new_syn: Exp2Syn[26]\n",
            "consider excluding PP_params: e\n",
            "duplicate new_syn: Exp2Syn[27]\n",
            "branch's seg.point_processes: [Exp2Syn[1]]\n",
            "consider excluding PP_params: e\n",
            "duplicate new_syn: Exp2Syn[28]\n",
            "consider excluding PP_params: e\n",
            "duplicate new_syn: Exp2Syn[29]\n",
            "consider excluding PP_params: e\n",
            "duplicate new_syn: Exp2Syn[30]\n",
            "branch's seg.point_processes: []\n",
            "branch's seg.point_processes: []\n",
            "branch's seg.point_processes: []\n",
            "branch's seg.point_processes: []\n",
            "branch's seg.point_processes: [Exp2Syn[15]]\n",
            "consider excluding PP_params: e\n",
            "duplicate new_syn: Exp2Syn[31]\n",
            "consider excluding PP_params: e\n",
            "duplicate new_syn: Exp2Syn[32]\n",
            "consider excluding PP_params: e\n",
            "duplicate new_syn: Exp2Syn[33]\n",
            "branch's seg.point_processes: [Exp2Syn[12]]\n",
            "consider excluding PP_params: e\n",
            "duplicate new_syn: Exp2Syn[34]\n",
            "consider excluding PP_params: e\n",
            "duplicate new_syn: Exp2Syn[35]\n",
            "consider excluding PP_params: e\n",
            "duplicate new_syn: Exp2Syn[36]\n",
            "branch's seg.point_processes: [Exp2Syn[17]]\n",
            "consider excluding PP_params: e\n",
            "duplicate new_syn: Exp2Syn[37]\n",
            "consider excluding PP_params: e\n",
            "duplicate new_syn: Exp2Syn[38]\n",
            "consider excluding PP_params: e\n",
            "duplicate new_syn: Exp2Syn[39]\n",
            "branch's seg.point_processes: [Exp2Syn[20]]\n",
            "consider excluding PP_params: e\n",
            "duplicate new_syn: Exp2Syn[40]\n",
            "consider excluding PP_params: e\n",
            "duplicate new_syn: Exp2Syn[41]\n",
            "consider excluding PP_params: e\n",
            "duplicate new_syn: Exp2Syn[42]\n",
            "branch's seg.point_processes: []\n",
            "2023-05-04 22:12:14 Finish YAY\n",
            "number of reduced synapses after duplicating synapses to branches: 28\n",
            "netcon mapping after expansion: {Exp2Syn[26]: [NetCon[0], NetCon[10]], Exp2Syn[29]: [NetCon[1], NetCon[2]], Exp2Syn[30]: [NetCon[3]], Exp2Syn[24]: [NetCon[4]], Exp2Syn[23]: [NetCon[5]], Exp2Syn[25]: [NetCon[6], NetCon[8], NetCon[9]], Exp2Syn[22]: [NetCon[7]], Exp2Syn[27]: [NetCon[11]], Exp2Syn[36]: [NetCon[12], NetCon[19]], Exp2Syn[35]: [NetCon[13], NetCon[16]], Exp2Syn[12]: [NetCon[14]], Exp2Syn[15]: [NetCon[15]], Exp2Syn[38]: [NetCon[17]], Exp2Syn[39]: [NetCon[18]], Exp2Syn[40]: [NetCon[20]], Exp2Syn[33]: [NetCon[21]]}\n",
            "2023-05-04 22:12:14 Mapping segments\n",
            "2023-05-04 22:12:14 Mapping mechanisms\n",
            "2023-05-04 22:12:14 Deleting original model sections\n",
            "Generating 3D coordinates for:  model[0].dend[0]\n",
            "Generating 3D coordinates for:  model[0].dend[1]\n",
            "Generating 3D coordinates for:  model[0].dend[2]\n",
            "Generating 3D coordinates for:  model[0].dend[3]\n",
            "Generating 3D coordinates for:  model[0].dend[4]\n",
            "Generating 3D coordinates for:  model[0].dend[5]\n",
            "Generating 3D coordinates for:  model[0].dend[6]\n",
            "Generating 3D coordinates for:  model[0].dend[7]\n",
            "Generating 3D coordinates for:  model[1].apic[0]\n",
            "Generating 3D coordinates for:  model[1].apic[4]\n",
            "Generating 3D coordinates for:  model[1].apic[3]\n",
            "Generating 3D coordinates for:  model[1].apic[2]\n",
            "Generating 3D coordinates for:  model[1].apic[1]\n",
            "Warning:  Exp2Syn[0] does not have any netcons pointing at it. if synapse is None then deleted synapse may be stored in synapses_list\n",
            "Warning:  Exp2Syn[1] does not have any netcons pointing at it. if synapse is None then deleted synapse may be stored in synapses_list\n",
            "Warning:  Exp2Syn[4] does not have any netcons pointing at it. if synapse is None then deleted synapse may be stored in synapses_list\n",
            "Warning:  Exp2Syn[17] does not have any netcons pointing at it. if synapse is None then deleted synapse may be stored in synapses_list\n",
            "Warning:  Exp2Syn[20] does not have any netcons pointing at it. if synapse is None then deleted synapse may be stored in synapses_list\n",
            "Warning:  Exp2Syn[28] does not have any netcons pointing at it. if synapse is None then deleted synapse may be stored in synapses_list\n",
            "Warning:  Exp2Syn[31] does not have any netcons pointing at it. if synapse is None then deleted synapse may be stored in synapses_list\n",
            "Warning:  Exp2Syn[32] does not have any netcons pointing at it. if synapse is None then deleted synapse may be stored in synapses_list\n",
            "Warning:  Exp2Syn[34] does not have any netcons pointing at it. if synapse is None then deleted synapse may be stored in synapses_list\n",
            "Warning:  Exp2Syn[37] does not have any netcons pointing at it. if synapse is None then deleted synapse may be stored in synapses_list\n",
            "Warning:  Exp2Syn[41] does not have any netcons pointing at it. if synapse is None then deleted synapse may be stored in synapses_list\n",
            "Warning:  Exp2Syn[42] does not have any netcons pointing at it. if synapse is None then deleted synapse may be stored in synapses_list\n",
            "4 terminal tuft branches in reduced_dendritic_cell\n"
          ]
        }
      ],
      "source": [
        "#reduce cell\n",
        "if reduce_cell==True:\n",
        "  #reduce complex dendritic trees to cables\n",
        "  reduced_cell, synapses_list, netcons_list, txt = subtree_reductor(complex_cell, synapses_list, netcons_list, reduction_frequency=0,return_seg_to_seg=True)\n",
        "  print(\"synapses_list after NR reduction:\", synapses_list)\n",
        "  if expand_cable==True:\n",
        "    #expand cable to idealized dendritic trees\n",
        "    sections_to_expand = [reduced_cell.hoc_model.apic[0]]\n",
        "    furcations_x=[0.289004]\n",
        "    nbranches=[4]\n",
        "    reduced_dendritic_cell, synapses_list, netcons_list, txt = cable_expander(reduced_cell, sections_to_expand, furcations_x, nbranches, \n",
        "                                                                              synapses_list, netcons_list, reduction_frequency=0,return_seg_to_seg=True)\n",
        "    #remove basal dend 3d coordinates because they seem off\n",
        "    for sec in reduced_dendritic_cell.dend:\n",
        "      sec.pt3dclear()\n",
        "\n",
        "    cell = cell_model(reduced_dendritic_cell,synapses_list=synapses_list,netcons_list=netcons_list,spike_threshold = 10) #NR model with apical cable converted to tree\n",
        "    tufts=[] # find tufts\n",
        "    for i,sec in enumerate(cell.apic):\n",
        "      if i!=0: # do not add synapse to trunk\n",
        "        tufts.append(sec)\n",
        "    cell._nbranch=len(tufts)\n",
        "    print(cell._nbranch, \"terminal tuft branches in reduced_dendritic_cell\")\n",
        "  else:\n",
        "    #workaround since cell.all was not attribute (can update cell_model class to include this list formation)\n",
        "    reduced_cell.all =[]\n",
        "    for sec in [reduced_cell.soma]:\n",
        "      reduced_cell.all.append(sec)\n",
        "    for sec in [reduced_cell.apic]:\n",
        "      reduced_cell.all.append(sec)\n",
        "    for sec in reduced_cell.dend:\n",
        "      reduced_cell.all.append(sec)\n",
        "    for sec in reduced_cell.axon:\n",
        "      reduced_cell.all.append(sec)\n",
        "    #make apic sec a list (can update cell_model class to include this) (cell_model class expects cell.apic to be iterable)\n",
        "    reduced_cell.apic=[reduced_cell.apic]\n",
        "    #use cell_model python class\n",
        "    cell=cell_model(reduced_cell,synapses_list=synapses_list,netcons_list=netcons_list,spike_threshold = 10) # neuron_reduce model\n",
        "    tufts=cell.apic # Vm plot may return middle segment of trunk since it is the distal apical section.\n",
        "    cell._nbranch=len(tufts)\n",
        "    print(cell._nbranch, \"terminal tuft branches in reduced_cell\")\n",
        "else:\n",
        "  # cell = cell_model(complex_cell,synapses_list=synapses_list,netcons_list=netcons_list,spike_threshold = 10) # original cell\n",
        "  # original cell should already be defined\n",
        "  pass"
      ]
    },
    {
      "cell_type": "code",
      "source": [
        "# for syn in synapses_list:\n",
        "#   print(syn)"
      ],
      "metadata": {
        "id": "RiOS0erDsV5d"
      },
      "id": "RiOS0erDsV5d",
      "execution_count": 20,
      "outputs": []
    },
    {
      "cell_type": "code",
      "source": [
        "# for sec in reduced_dendritic_cell.all:\n",
        "#   print(sec.n3d())"
      ],
      "metadata": {
        "id": "ZqPuBX8UI4nN"
      },
      "id": "ZqPuBX8UI4nN",
      "execution_count": 21,
      "outputs": []
    },
    {
      "cell_type": "code",
      "source": [
        "# # try to fix dendrite's beginning location by looking at soma 3d coordinates:\n",
        "# for sec in [reduced_dendritic_cell.soma]:\n",
        "#   for i in range(sec.n3d()):\n",
        "#     print(sec.x3d(i),sec.y3d(i),sec.z3d(i))\n",
        "\n",
        "#soma has many 3d coordinates and current implementation begins dendrites at 3dcoordinates[1]"
      ],
      "metadata": {
        "id": "1loNS7qGmRQ1"
      },
      "id": "1loNS7qGmRQ1",
      "execution_count": 22,
      "outputs": []
    },
    {
      "cell_type": "markdown",
      "source": [
        "The next code block is old. it places synapses after reduction (instead of before, which maps them) "
      ],
      "metadata": {
        "id": "suR9EwjBQx4t"
      },
      "id": "suR9EwjBQx4t"
    },
    {
      "cell_type": "code",
      "source": [
        "# import random\n",
        "# #use defined cell_model class for generating 3d coordinates, recording ECP, 'book-keeping' etc...\n",
        "# random.seed(2)\n",
        "\n",
        "# # Create synaptic input\n",
        "# stim = h.NetStim()\n",
        "# frequency=15 #(hz)\n",
        "# spikeinterval = (1/frequency)*1000 #convert to T and milliseconds\n",
        "# stim.noise=0\n",
        "# stim.interval=spikeinterval\n",
        "# print(str(stim.interval))\n",
        "# stim.number = 3  # only one event\n",
        "# stim.start = 2.0  # delay (ms)\n",
        "\n",
        "# gmax = 1  # default synapse maximum conductance (uS)\n",
        "\n",
        "# if Reduce_cell==True:\n",
        "#   cell = cell_model(reduced_dendritic_cell,synapses_list=synapses_list,netcons_list=netcons_list,spike_threshold = 10)\n",
        "#   cell._nbranch=nbranches[0]\n",
        "#   # Add synapse to apical tufts\n",
        "#   tufts=[]\n",
        "#   for i,sec in enumerate(cell.apic):\n",
        "#     if i!=0: # do not add synapse to trunk\n",
        "#       tufts.append(sec)\n",
        "#       cell.add_synapse(stim, sec_index=cell.all.index(sec), gmax=gmax / cell._nbranch, loc=0.01) # need to adjust to only tufts\n",
        "# else:\n",
        "#   cell = cell_model(complex_cell,synapses_list=synapses_list,netcons_list=netcons_list,spike_threshold = 10)\n",
        "#   complex_branching_segment='L5PCtemplate[0].apic[36](0.961538)' #use to assign tuft synapses\n",
        "#   tufts=cell.apic[36].children()\n",
        "#   cell._nbranch=len(tufts) #determine branches starting from this branching point\n",
        "#   # Add synapse to apical tufts\n",
        "#   #indicate the complex branching segment # may have to observe complex cell first\n",
        "#   complex_branching_segment='L5PCtemplate[0].apic[36](0.961538)'\n",
        "#   for i,sec in enumerate(cell.apic[36].children()):\n",
        "#       cell.add_synapse(stim, sec_index=cell.all.index(sec), gmax=gmax / cell._nbranch, loc=0.01) # need to adjust to only tufts\n",
        "\n",
        "\n",
        "# Add synapse to soma\n",
        "cell.add_synapse(stim, sec_index=0, gmax=gmax)\n",
        "\n",
        "# Add synapse to apical tufts"
      ],
      "metadata": {
        "id": "rSTUwzTfqEX2"
      },
      "id": "rSTUwzTfqEX2",
      "execution_count": 23,
      "outputs": []
    },
    {
      "cell_type": "code",
      "source": [
        "cell._nbranch"
      ],
      "metadata": {
        "colab": {
          "base_uri": "https://localhost:8080/"
        },
        "id": "fDL6ogju2IBW",
        "outputId": "175f0b47-fa1a-4ccd-a25d-001ca54e4970"
      },
      "id": "fDL6ogju2IBW",
      "execution_count": 24,
      "outputs": [
        {
          "output_type": "execute_result",
          "data": {
            "text/plain": [
              "4"
            ]
          },
          "metadata": {},
          "execution_count": 24
        }
      ]
    },
    {
      "cell_type": "code",
      "source": [
        "# # compare \n",
        "# for sec in cell.all:\n",
        "#   for i in range(sec.n3d()):\n",
        "#     print(sec.x3d(i))"
      ],
      "metadata": {
        "id": "4QUvM0h7JzFG"
      },
      "id": "4QUvM0h7JzFG",
      "execution_count": 25,
      "outputs": []
    },
    {
      "cell_type": "code",
      "source": [
        "# print(cell.seg_coords['pc'][0])"
      ],
      "metadata": {
        "id": "gE3JYuFhM1_6"
      },
      "id": "gE3JYuFhM1_6",
      "execution_count": 26,
      "outputs": []
    },
    {
      "cell_type": "code",
      "source": [
        "# dir(cell)"
      ],
      "metadata": {
        "id": "akYHQOGDKiW5"
      },
      "id": "akYHQOGDKiW5",
      "execution_count": 27,
      "outputs": []
    },
    {
      "cell_type": "code",
      "source": [
        "# make_reduced_seg_df(cell,\"segments_expanded.csv\") #need to improve make_reduced_seg_df\n",
        "# expanded_segments_df=pd.read_csv(\"segments_expanded.csv\")\n",
        "# plot_morphology(expanded_segments_df,\"expanded_morphology.svg\")"
      ],
      "metadata": {
        "id": "-ZwVHxQl5gLh"
      },
      "id": "-ZwVHxQl5gLh",
      "execution_count": 28,
      "outputs": []
    },
    {
      "cell_type": "code",
      "source": [
        "import os\n",
        "\n",
        "RunningInCOLAB = 'google.colab' in str(get_ipython())\n",
        "if RunningInCOLAB:\n",
        "    !pip install neuron==8.0.0 &> /dev/null\n",
        "    os.chdir('/content')\n",
        "    if not os.path.isdir('Stylized-Single-Cell-and-Extracellular-Potential'):\n",
        "        !git clone https://github.com/chenziao/Stylized-Single-Cell-and-Extracellular-Potential.git &> /dev/null \n",
        "    os.chdir('Stylized-Single-Cell-and-Extracellular-Potential')\n",
        "    %ls"
      ],
      "metadata": {
        "id": "D6vyubrwOvA_",
        "colab": {
          "base_uri": "https://localhost:8080/"
        },
        "outputId": "d20ddff9-8845-4261-c9ad-96b62da30d22"
      },
      "id": "D6vyubrwOvA_",
      "execution_count": 29,
      "outputs": [
        {
          "output_type": "stream",
          "name": "stdout",
          "text": [
            "\u001b[0m\u001b[01;34mcell_inference\u001b[0m/  Stylized_Single_Cell_Extracellular_Potential_Tutorial.ipynb\n"
          ]
        }
      ]
    },
    {
      "cell_type": "code",
      "source": [
        "from cell_inference.config import params, paths\n",
        "from cell_inference.cells.activecell_axon import ReducedOrderL5Cell, ReducedOrderL5CellPassiveDendrite\n",
        "from cell_inference.utils.currents.ecp import EcpMod\n",
        "from cell_inference.utils.currents.recorder import Recorder\n",
        "from cell_inference.utils.plotting.plot_morphology import plot_morphology\n",
        "from cell_inference.utils.plotting.plot_results import plot_lfp_heatmap, plot_lfp_traces\n",
        "from cell_inference.utils.plotting.plot_variable_with_morphology import plot_variable_with_morphology\n",
        "from cell_inference.utils.metrics.measure_segment_distance import measure_segment_distance"
      ],
      "metadata": {
        "id": "X7p40K3RO1RQ"
      },
      "id": "X7p40K3RO1RQ",
      "execution_count": 30,
      "outputs": []
    },
    {
      "cell_type": "code",
      "source": [
        "h.dt = params.DT  # time step\n",
        "h.steps_per_ms = 1/h.dt\n",
        "h.tstop = params.TSTOP  # simulation stop time\n",
        "\n",
        "# Record time points\n",
        "t_vec = h.Vector(round(h.tstop / h.dt) + 1).record(h._ref_t)\n",
        "\n",
        "# Record membrane voltage of all segments\n",
        "V_rec = Recorder(cell.segments)"
      ],
      "metadata": {
        "id": "m_npKvVUO4JD"
      },
      "id": "m_npKvVUO4JD",
      "execution_count": 31,
      "outputs": []
    },
    {
      "cell_type": "markdown",
      "id": "22d6f6e6",
      "metadata": {
        "id": "22d6f6e6"
      },
      "source": [
        "### Add electrodes (Neuropixel)\n",
        "A probe with 384 electrodes [https://www.neuropixels.org/probe](https://www.neuropixels.org/probe). The coordinates of each electrode is a row in the array printed below."
      ]
    },
    {
      "cell_type": "code",
      "execution_count": 32,
      "id": "8fdb0017",
      "metadata": {
        "id": "8fdb0017",
        "colab": {
          "base_uri": "https://localhost:8080/"
        },
        "outputId": "4c320d21-7be4-430d-e811-0f315c1aa617"
      },
      "outputs": [
        {
          "output_type": "stream",
          "name": "stdout",
          "text": [
            "(384, 3)\n",
            "[[   -8. -1910.     0.]\n",
            " [   24. -1910.     0.]\n",
            " [  -24. -1890.     0.]\n",
            " ...\n",
            " [   24.  1890.     0.]\n",
            " [  -24.  1910.     0.]\n",
            " [    8.  1910.     0.]]\n"
          ]
        }
      ],
      "source": [
        "elec_pos = params.ELECTRODE_POSITION\n",
        "ecp = EcpMod(cell, elec_pos, min_distance=params.MIN_DISTANCE)  # create an ECP object for extracellular potential\n",
        "\n",
        "# coordinates (x, y, z) of electrodes\n",
        "print(params.ELECTRODE_POSITION.shape)\n",
        "print(params.ELECTRODE_POSITION)"
      ]
    },
    {
      "cell_type": "code",
      "source": [
        "# (cell.injection)"
      ],
      "metadata": {
        "id": "f4-rKitqRb3k"
      },
      "id": "f4-rKitqRb3k",
      "execution_count": 33,
      "outputs": []
    },
    {
      "cell_type": "markdown",
      "id": "c5323608",
      "metadata": {
        "id": "c5323608"
      },
      "source": [
        "## Custom settings\n",
        "\n",
        "Using the interactive tools below, you can change the position of the cell, and change the synapse strength and location on the cell.\n",
        "\n",
        "#### Cell position parameters (x, y, z, alpha, h, phi)\n",
        "Starting with soma at the origin, apical dendrite along y-axis, rotate and translate the cell to the desired position determined by 6 parameters. First, rotate alpha about the y-axis (spin), then rotate beta=arccos(h) about the x-axis (elevation), then rotate phi about the y-axis (azimuth). Finally translate the cell by (x,y,z).\n",
        "\n",
        "Use the sliders to change the 6 position parameters. Use the sliders 'elev' and 'azim' to change view of the 3D plot."
      ]
    },
    {
      "cell_type": "code",
      "source": [
        "# for sec in cell.apic:\n",
        "#   print(sec,sec.parentseg(), sec.n3d())"
      ],
      "metadata": {
        "id": "qGLMpaA7ME9p"
      },
      "id": "qGLMpaA7ME9p",
      "execution_count": 34,
      "outputs": []
    },
    {
      "cell_type": "code",
      "source": [
        "import matplotlib.pyplot as plt\n",
        "from matplotlib.figure import Figure\n",
        "from matplotlib.axes import Axes\n",
        "import numpy as np\n",
        "from typing import Union, Optional, List, Tuple\n",
        "\n",
        "from cell_inference.utils.currents.ecp import move_position\n",
        "from cell_inference.cells.stylizedcell import StylizedCell\n",
        "\n",
        "\n",
        "def plot_morphology(sim: Optional = None, cellid: Optional[int] = 0, cell: Optional[StylizedCell] = None,\n",
        "                    seg_coords: Optional[dict] = None, sec_nseg: Optional[List] = None,\n",
        "                    type_id: Optional[List] = None, electrodes: Optional[np.ndarray] = None,\n",
        "                    axes: Union[List[int], Tuple[int]] = [2, 0, 1], clr: Optional[List[str]] = None,\n",
        "                    elev: int = 20, azim: int = 10, move_cell: Optional[Union[List,np.ndarray]] = None,\n",
        "                    figsize: Optional[Tuple[float, float]] = None) -> Tuple[Figure, Axes]:\n",
        "    \"\"\"\n",
        "    Plot morphology in 3D.\n",
        "\n",
        "    sim: simulation object\n",
        "    cellid: cell id in the simulation object. Default: 0\n",
        "    cell: stylized cell object. Ignore sim and cellid if specified\n",
        "    seg_coords: if not using sim or cell, a dictionary that includes dl, pc, r\n",
        "    sec_nseg: if not using sim or cell, list of number of segments in each section\n",
        "    type_id:  if not using sim or cell, list of the swc type id of each section/segment\n",
        "    electrodes: electrode positions. Default: None, not shown.\n",
        "    axes: sequence of axes to display in 3d plot axes.\n",
        "        Default: [2,0,1] show z,x,y in 3d plot x,y,z axes, so y is upward.\n",
        "    clr: list of colors for each type of section\n",
        "    Return Figure object, Axes object\n",
        "    \"\"\"\n",
        "    if sim is None and cell is None:\n",
        "        if seg_coords is None or sec_nseg is None or type_id is None:\n",
        "            raise ValueError(\"If not using 'Simulation', input arguments 'seg_coords', 'sec_nseg', 'type_id' are required.\")\n",
        "        if clr is None:\n",
        "            clr = ('g', 'r', 'b', 'c')\n",
        "        if move_cell is None:\n",
        "            move_cell = [0., 0., 0., 0., 1., 0.]\n",
        "        sec_id_in_seg = np.cumsum([0] + list(sec_nseg[:-1]))\n",
        "        type_id = np.asarray(type_id) - 1\n",
        "        if type_id.size != len(sec_nseg):\n",
        "            type_id = type_id = type_id[sec_id_in_seg]\n",
        "        type_id = type_id.tolist()\n",
        "        label_idx = np.array([type_id.index(i) for i in range(4)])\n",
        "        lb_odr = np.argsort(label_idx)\n",
        "        label_idx = label_idx[lb_odr].tolist()\n",
        "        sec_name = np.array(('soma','axon','dend','apic'))[lb_odr]\n",
        "    else:\n",
        "        if clr is None:\n",
        "            clr = ('g', 'b', 'pink', 'purple', 'r', 'c')\n",
        "        if cell is None:\n",
        "            if move_cell is None:\n",
        "                move_cell = sim.loc_param[cellid, 0]\n",
        "            cell = sim.cells[cellid]\n",
        "        elif move_cell is None:\n",
        "            move_cell = [0., 0., 0., 0., 1., 0.]\n",
        "        seg_coords = cell.seg_coords\n",
        "        sec_id_in_seg = cell.sec_id_in_seg\n",
        "        sec_nseg = []\n",
        "        sec_name = []\n",
        "        label_idx = []\n",
        "        type_id = []\n",
        "        for i, sec in enumerate(cell.all):\n",
        "            sec_nseg.append(sec.nseg)\n",
        "            name = sec.name().split('.')[-1]\n",
        "            if name not in sec_name:\n",
        "                sec_name.append(name)\n",
        "                label_idx.append(i)\n",
        "            type_id.append(sec_name.index(name))\n",
        "    label_idx.append(-1)\n",
        "\n",
        "    move_cell = np.asarray(move_cell).reshape((2, 3))\n",
        "    dl = move_position([0., 0., 0.], move_cell[1], seg_coords['dl'])\n",
        "    pc = move_position(move_cell[0], move_cell[1], seg_coords['pc'])\n",
        "    xyz = 'xyz'\n",
        "    box = np.vstack([np.full(3, np.inf), np.full(3, np.NINF)])\n",
        "    if electrodes is not None:\n",
        "        box[0, axes[0:2]] = np.amin(electrodes[:, axes[0:2]], axis=0)\n",
        "        box[1, axes[0:2]] = np.amax(electrodes[:, axes[0:2]], axis=0)\n",
        "\n",
        "    fig = plt.figure(figsize=figsize)\n",
        "    ax = plt.axes(projection='3d')\n",
        "    lb_ptr = 0\n",
        "    for i, itype in enumerate(type_id):\n",
        "        label = sec_name[lb_ptr] if i == label_idx[lb_ptr] else None\n",
        "        if label is not None: lb_ptr += 1\n",
        "        i0 = sec_id_in_seg[i]\n",
        "        i1 = i0 + sec_nseg[i] - 1\n",
        "        if sec_name[itype] == 'soma':\n",
        "            p05 = (pc[i0] + pc[i1]) / 2\n",
        "            ax.scatter(*[p05[j] for j in axes], c=clr[itype], s=20, label=label)\n",
        "        else:\n",
        "            p0 = pc[i0] - dl[i0] / 2\n",
        "            p1 = pc[i1] + dl[i1] / 2\n",
        "            ax.plot3D(*[(p0[j], p1[j]) for j in axes], color=clr[itype], label=label)\n",
        "            box[0, :] = np.minimum(box[0, :], np.minimum(p0, p1))\n",
        "            box[1, :] = np.maximum(box[1, :], np.maximum(p0, p1))\n",
        "    ctr = np.mean(box, axis=0)\n",
        "    r = np.amax(box[1, :] - box[0, :]) / 2\n",
        "    box = np.vstack([ctr - r, ctr + r])\n",
        "    if electrodes is not None:\n",
        "        idx = np.logical_and(np.all(electrodes >= box[0, :], axis=1), np.all(electrodes <= box[1, :], axis=1))\n",
        "        ax.scatter(*[(electrodes[idx, j], electrodes[idx, j]) for j in axes], color='orange', s=5, label='electrodes')\n",
        "    box = box[:, axes]\n",
        "    ax.auto_scale_xyz(*box.T)\n",
        "    ax.view_init(elev, azim)\n",
        "    # ax.legend(loc=1)\n",
        "    ax.set_xlabel(xyz[axes[0]])\n",
        "    ax.set_ylabel(xyz[axes[1]])\n",
        "    ax.set_zlabel(xyz[axes[2]])\n",
        "    plt.show()\n",
        "    return fig, ax"
      ],
      "metadata": {
        "id": "eda71vXyA6Vt"
      },
      "id": "eda71vXyA6Vt",
      "execution_count": 35,
      "outputs": []
    },
    {
      "cell_type": "code",
      "source": [
        "# for sec in cell.apic:\n",
        "#   fullsecname = sec.name()\n",
        "#   sec_type = fullsecname.split(\".\")[1][:4]\n",
        "#   print(fullsecname)"
      ],
      "metadata": {
        "id": "wlsEX_R4Px7H"
      },
      "id": "wlsEX_R4Px7H",
      "execution_count": 36,
      "outputs": []
    },
    {
      "cell_type": "code",
      "execution_count": 37,
      "id": "a3df63ce",
      "metadata": {
        "id": "a3df63ce",
        "colab": {
          "base_uri": "https://localhost:8080/",
          "height": 813,
          "referenced_widgets": [
            "4e169f6e97314d02ab7f959a4dbd9fa9",
            "4992d4400f2c4d61b83ffdac776a0ae2",
            "61f6c9ab862c436e9087732a106b9a05",
            "7c369fa09d3841388442d1a8c07db579",
            "1dadc3b50fc343b88e569ec22d78648f",
            "0a354b723d994b3bbddd93edc4023efe",
            "800e776b9e5d49f99b07e1bd7adddbfc",
            "c59e292ec8144432a67c0552b7dad63b",
            "3f09843b201f4b9aa68a781ee6b0f20b",
            "40370519a812451b8bcdc6bbc4f0468f",
            "1b2171ca6a1d4e949e203b27f9136e14",
            "93ac7ae99c0e4c7fbce9a93eafbe8e42",
            "a2dd92bf16024ed691f6e87008dd1e0e",
            "594613dc6c6243fba58738fa4d49afc2",
            "98ca248490954c53b47065bb3a9dfabf",
            "7378efc164f64b2d8d210cb2b04ef8ef",
            "e2c68da00400412ca2c20a97ca2d557a",
            "f66a3425bc344c9f8b18fe0bf639a5ca",
            "5a5808c320064d3285d8a0bb9339fd5a",
            "6267d159e6414a25b4637c16b07160be",
            "a19f895ef091439aac63925cd89ed080",
            "19fe6b593f72478995c9970398988a15",
            "c21ddd6d58394b5bb15d7f79383f7421",
            "eedfca37b5be4f6cb268c2d50d711404",
            "818b1490912a4356b4bf13c342bb8f2b",
            "bad4049b97eb455bb07ca0ab89c34abb",
            "2b64b4f901134282a2f35b3bc66780be",
            "ccbdfc68cbe342dfa5c5b20b4a775e56",
            "599936499eff46cf85ca83002a365e81",
            "e769fd38a3894a6cb5f6e6d37bf340f9",
            "cf936a98a68049f4bc29c6791f8593f4",
            "833334ceeeff4d95a6d50055170a39f4",
            "3fc7b48d14af4460a8c88ffb5ca87770",
            "0c72c89ad7d94f3cb979a919fe856698",
            "b8fe01e7d25c4b65ba648dc2d3b3261c",
            "caf62b5ee3b447219a83ddcdf8cdd2ac",
            "eb89ab3daf8a4b0fbf07b425aee7b7e9",
            "b22b486bde244b8aa39b2dd56c3c5cda",
            "5dc2ef64e0d142e6a10b88a6a79a5a5f",
            "5e76d9b213654bf8aae9cc86c00fae09",
            "db9be109274b4ce5afd37edad3390e0d"
          ]
        },
        "outputId": "bf08c0d8-04ef-495a-b3a9-985261e51486"
      },
      "outputs": [
        {
          "output_type": "display_data",
          "data": {
            "text/plain": [
              "VBox(children=(Button(button_style='primary', description='Reset', icon='history', style=ButtonStyle()), HBox(…"
            ],
            "application/vnd.jupyter.widget-view+json": {
              "version_major": 2,
              "version_minor": 0,
              "model_id": "4e169f6e97314d02ab7f959a4dbd9fa9"
            }
          },
          "metadata": {}
        }
      ],
      "source": [
        "loc_param_default = [0., 0., 80., 0., 1., 0.]  # Default position parameters\n",
        "elev, azim = 10, 90  # Default view\n",
        "# clr = ['g', 'yellow', 'orange', 'red', 'b', 'c', 'g', 'yellow', 'orange', 'red', 'pink', 'purple']  # section color\n",
        "clr=[]\n",
        "clr.extend(['black' for i in range(len([cell.soma]))]) # soma color\n",
        "clr.extend(['red' for i in range(len(cell.dend))]) #dend colors\n",
        "clr.extend(['purple' for i  in range(len(cell.axon))]) # axon colors\n",
        "clr.extend(['blue']) #trunk color\n",
        "clr.extend(['green' for i in range(len(cell.apic)-1)])  # branch colors\n",
        "\n",
        "def interactive_plot(x, y, z, alpha, beta, phi, elev, azim):\n",
        "    global loc_param\n",
        "    loc_param = (x, y, z, np.pi/180*alpha, np.cos(np.pi/180*beta), np.pi/180*phi)\n",
        "    fig, ax = plot_morphology(cell=cell, electrodes=elec_pos, move_cell=loc_param,\n",
        "                    elev=-elev, azim=-azim, figsize=(12, 8), clr = clr)\n",
        "    plt.show()\n",
        "\n",
        "xslider = Layout(width='500px')\n",
        "yslider = Layout(height='350px')\n",
        "w_reset = widgets.Button(description='Reset', icon='history', button_style='primary')\n",
        "w_x = widgets.FloatSlider(value=loc_param_default[0], min=-200, max=200, step=1, description='x (um)', continuous_update=False, readout_format='.0f')\n",
        "w_y = widgets.FloatSlider(value=loc_param_default[1], min=-1000, max=1000, step=1, description='y (um)', continuous_update=False, readout_format='.0f')\n",
        "w_z = widgets.FloatSlider(value=loc_param_default[2], min=20, max=400, step=1, description='z (um)', continuous_update=False, readout_format='.0f')\n",
        "w_alpha = widgets.FloatSlider(value=180/np.pi*loc_param_default[3], min=-180, max=180, step=1, description='alpha (deg)', continuous_update=False, readout_format='.0f')\n",
        "w_beta = widgets.FloatSlider(value=180/np.pi*np.arccos(loc_param_default[4]), min=0, max=180, step=1, description='beta (deg)', continuous_update=False, readout_format='.0f')\n",
        "w_phi = widgets.FloatSlider(value=180/np.pi*loc_param_default[5], min=-180, max=180, step=1, description='phi (deg)', continuous_update=False, readout_format='.0f')\n",
        "w_elev = widgets.FloatSlider(value=-elev, min=-90, max=90, step=1, description='elev (deg)', continuous_update=False, readout_format='.0f', orientation='vertical', layout=yslider)\n",
        "w_azim = widgets.FloatSlider(value=-azim, min=-180, max=180, step=1, description='azim (deg)', continuous_update=False, readout_format='.0f', layout=xslider)\n",
        "\n",
        "def reset_default(*args):\n",
        "    w_x.value, w_y.value, w_z.value = loc_param_default[:3]\n",
        "    w_alpha.value = 180 / np.pi * loc_param_default[3]\n",
        "    w_beta.value = 180 / np.pi * np.arccos(loc_param_default[4])\n",
        "    w_phi.value = 180 / np.pi * loc_param_default[5]\n",
        "    w_elev.value, w_azim.value = -elev, -azim\n",
        "w_reset.on_click(reset_default)\n",
        "\n",
        "out = interactive_output(interactive_plot, {'x': w_x, 'y': w_y, 'z': w_z, 'alpha': w_alpha, 'beta': w_beta, 'phi': w_phi, 'elev': w_elev, 'azim': w_azim})\n",
        "ui = VBox([ w_reset, HBox([ VBox([w_x, w_y, w_z]), VBox([w_alpha, w_beta, w_phi]) ]), HBox([ VBox([out, w_azim]), w_elev]) ])\n",
        "\n",
        "display(ui)"
      ]
    },
    {
      "cell_type": "markdown",
      "source": [
        "set azim to -90 in order to focus on zy plane view. 2D plot is of xy plane."
      ],
      "metadata": {
        "id": "OPZrMhcBjnec"
      },
      "id": "OPZrMhcBjnec"
    },
    {
      "cell_type": "markdown",
      "id": "0d582310",
      "metadata": {
        "id": "0d582310"
      },
      "source": [
        "#### Set synaptic input\n",
        "\n",
        "Use the toggle button to switch synapse location between the soma and the proximal apical tuft dendrite. Use the slider 'Synapse maximal conductance' to change synapse strength."
      ]
    },
    {
      "cell_type": "code",
      "execution_count": 38,
      "id": "ce8d1856",
      "metadata": {
        "id": "ce8d1856",
        "colab": {
          "base_uri": "https://localhost:8080/",
          "height": 82,
          "referenced_widgets": [
            "866f14fa21d44e0f8f4e33d5db4bd4b6",
            "e457f6404a3946b489c021577d8efe16",
            "c0152d8590ab4b9f94e32e048158c3d9",
            "22b8972e04ea4ff9b95552f013d4edc0",
            "ee0b67bb408c439b9885f483b5d7bfc5",
            "441d8c8630f940a4bdaffa09b9af7ad2",
            "111fad8a589a4a2a899cbb4b5f798e09",
            "f95c9be432dd446f8076fad31aed0374",
            "a60426587d114c10b0ec87728c9164f8",
            "f9afdd1fafe04d8ebbb25122874589b8",
            "2e8dd45525874ce0bffec1e20c598f0a",
            "693706ceda934f2b9de667ba9d0980ea",
            "24dba1ff0749486e8f3e2c8895f734fc"
          ]
        },
        "outputId": "ee991e84-21d5-4360-89fc-e3675cef6df7"
      },
      "outputs": [
        {
          "output_type": "display_data",
          "data": {
            "text/plain": [
              "VBox(children=(ToggleButtons(options=('Soma', 'Apical tuft (proximal)'), value='Soma'), HBox(children=(Label(v…"
            ],
            "application/vnd.jupyter.widget-view+json": {
              "version_major": 2,
              "version_minor": 0,
              "model_id": "866f14fa21d44e0f8f4e33d5db4bd4b6"
            }
          },
          "metadata": {}
        }
      ],
      "source": [
        "w_syn_site = widgets.ToggleButtons(options=['Soma', 'Apical tuft (proximal)'])\n",
        "w_gmax = widgets.FloatSlider(value=gmax, min=0, max=0.1, step=0.0002, readout_format='.4f')\n",
        "display(VBox([w_syn_site, HBox([Label('Synapse maximal conductance (uS)'), w_gmax])]))\n",
        "\n",
        "def set_synapse():\n",
        "    soma_syn = w_syn_site.value == 'Soma'\n",
        "    gmax_soma = w_gmax.value if soma_syn else 0\n",
        "    gmax_tuft = 0 if soma_syn else w_gmax.value / cell._nbranch\n",
        "    cell.synapse[0].set_gmax(gmax_soma)\n",
        "    for syn in cell.synapse[1:]:\n",
        "        syn.set_gmax(gmax_tuft)"
      ]
    },
    {
      "cell_type": "code",
      "source": [
        "# try to extract syn and gmax for plot information\n",
        "print(w_gmax)\n",
        "print(w_syn_site)"
      ],
      "metadata": {
        "colab": {
          "base_uri": "https://localhost:8080/"
        },
        "id": "nqUJhNE_22Nn",
        "outputId": "2df973ef-48dc-4a05-e859-33ba42857468"
      },
      "id": "nqUJhNE_22Nn",
      "execution_count": 39,
      "outputs": [
        {
          "output_type": "stream",
          "name": "stdout",
          "text": [
            "FloatSlider(value=0.1, max=0.1, readout_format='.4f', step=0.0002)\n",
            "ToggleButtons(options=('Soma', 'Apical tuft (proximal)'), value='Soma')\n"
          ]
        }
      ]
    },
    {
      "cell_type": "code",
      "source": [
        "# nseg = len(cell.segments)\n",
        "# numTstep = int(h.tstop/h.dt)\n",
        "# #since synapse list has combined synapses for computational efficiency, we must use NetCon list/unique spike trains to determine how many synapses were mapped\n",
        "# NetCon_per_seg=[0]*nseg\n",
        "# inh_NetCon_per_seg=[0]*nseg\n",
        "# exc_NetCon_per_seg=[0]*nseg\n",
        "\n",
        "# i_NMDA_bySeg= [[0] * (numTstep+1) ] * nseg # need to implement inmda recording\n",
        "\n",
        "# v_rest=-60 #choose v_rest for categorizing inh/exc synapses\n",
        "\n",
        "# for netcon in cell.netcons_list:\n",
        "#   syn=netcon.syn()\n",
        "#   if syn in synapses_list:\n",
        "#     syn_seg_id=cell.segments.index(netcon.syn().get_segment())\n",
        "#     if syn in cell.segments[syn_seg_id].point_processes():\n",
        "#       NetCon_per_seg[syn_seg_id]+=1 # get synapses per segment\n",
        "#       # NetCon_per_seg[syn_seg_id].append(netcon) # possible implementation if needing objects per segment\n",
        "#       if syn.e > v_rest:\n",
        "#         exc_NetCon_per_seg[syn_seg_id]+=1\n",
        "#         # exc_NetCon_per_seg[syn_seg_id].append(netcon)# possible implementation if needing objects per segment\n",
        "#       else:\n",
        "#         inh_NetCon_per_seg[syn_seg_id]+=1\n",
        "#         # inh_NetCon_per_seg[syn_seg_id].append(netcon)# possible implementation if needing objects per segment\n",
        "#     else:\n",
        "#       print(\"Warning: synapse not in designated segment's point processes\")\n",
        "\n",
        "#   else:\n",
        "#     print(\"Warning: potentially deleted synapse:\",\"|NetCon obj:\",netcon,\"|Synapse obj:\",syn,\"the NetCon's synapse is not in synapses_list. Check corresponding original cell's NetCon for location, etc.\")\n",
        "\n",
        "# #extract inmda from each segment # can be adjusted for gaba synapses or alpha synapses # only paired nmda/ampa synapses have vec_list[1]\n",
        "# for synapse in cell.synapse:\n",
        "#   try:\n",
        "#     i_NMDA = np.array(synapse.rec_vec.vec_list[1])            #current = numpy array of NEURON Vector of current NMDA current at synapse j  \n",
        "#     seg = synapse.get_segment_id()                            #seg = the segment in which synapse j is located \n",
        "#     #print('first try')\n",
        "    \n",
        "#     try:\n",
        "#       i_NMDA_bySeg[seg] = i_NMDA_bySeg[seg] + i_NMDA    \n",
        "#       #print('second try')                                           #Sum current over each segment\n",
        "#     except: \n",
        "#       pass                                                                   #Except needed as some synpases do not have NMDA currrent and throw an error when called\n",
        "#   except:\n",
        "#     pass"
      ],
      "metadata": {
        "id": "-tri29bnwjC6"
      },
      "id": "-tri29bnwjC6",
      "execution_count": 40,
      "outputs": []
    },
    {
      "cell_type": "code",
      "source": [
        "%ls"
      ],
      "metadata": {
        "colab": {
          "base_uri": "https://localhost:8080/"
        },
        "id": "ynXvkXxb1dST",
        "outputId": "fd7bad2a-85ab-44d7-c759-32b4bbf3fd50"
      },
      "id": "ynXvkXxb1dST",
      "execution_count": 41,
      "outputs": [
        {
          "output_type": "stream",
          "name": "stdout",
          "text": [
            "\u001b[0m\u001b[01;34mcell_inference\u001b[0m/  Stylized_Single_Cell_Extracellular_Potential_Tutorial.ipynb\n"
          ]
        }
      ]
    },
    {
      "cell_type": "code",
      "source": [
        "cell.get_recorder_data() #also creates directory"
      ],
      "metadata": {
        "colab": {
          "base_uri": "https://localhost:8080/"
        },
        "id": "LQBCnpfD0F5S",
        "outputId": "d0752ea4-621b-43d2-ecb1-ff817c98334d"
      },
      "id": "LQBCnpfD0F5S",
      "execution_count": 42,
      "outputs": [
        {
          "output_type": "stream",
          "name": "stdout",
          "text": [
            "Outputting data to  20.0outputcontrol_4nbranch_23NCs_28nsyn_88nseg\n"
          ]
        },
        {
          "output_type": "execute_result",
          "data": {
            "text/plain": [
              "{'spikes': array([], dtype=float64),\n",
              " 'ih_data': array([[0., 0., 0., ..., 0., 0., 0.],\n",
              "        [0., 0., 0., ..., 0., 0., 0.],\n",
              "        [0., 0., 0., ..., 0., 0., 0.],\n",
              "        ...,\n",
              "        [0., 0., 0., ..., 0., 0., 0.],\n",
              "        [0., 0., 0., ..., 0., 0., 0.],\n",
              "        [0., 0., 0., ..., 0., 0., 0.]]),\n",
              " 'gNaTa_T_data': array([[0., 0., 0., ..., 0., 0., 0.],\n",
              "        [0., 0., 0., ..., 0., 0., 0.],\n",
              "        [0., 0., 0., ..., 0., 0., 0.],\n",
              "        ...,\n",
              "        [0., 0., 0., ..., 0., 0., 0.],\n",
              "        [0., 0., 0., ..., 0., 0., 0.],\n",
              "        [0., 0., 0., ..., 0., 0., 0.]]),\n",
              " 'ina_data': array([[0., 0., 0., ..., 0., 0., 0.],\n",
              "        [0., 0., 0., ..., 0., 0., 0.],\n",
              "        [0., 0., 0., ..., 0., 0., 0.],\n",
              "        ...,\n",
              "        [0., 0., 0., ..., 0., 0., 0.],\n",
              "        [0., 0., 0., ..., 0., 0., 0.],\n",
              "        [0., 0., 0., ..., 0., 0., 0.]]),\n",
              " 'icah_data': array([[0., 0., 0., ..., 0., 0., 0.],\n",
              "        [0., 0., 0., ..., 0., 0., 0.],\n",
              "        [0., 0., 0., ..., 0., 0., 0.],\n",
              "        ...,\n",
              "        [0., 0., 0., ..., 0., 0., 0.],\n",
              "        [0., 0., 0., ..., 0., 0., 0.],\n",
              "        [0., 0., 0., ..., 0., 0., 0.]]),\n",
              " 'ical_data': array([[0., 0., 0., ..., 0., 0., 0.],\n",
              "        [0., 0., 0., ..., 0., 0., 0.],\n",
              "        [0., 0., 0., ..., 0., 0., 0.],\n",
              "        ...,\n",
              "        [0., 0., 0., ..., 0., 0., 0.],\n",
              "        [0., 0., 0., ..., 0., 0., 0.],\n",
              "        [0., 0., 0., ..., 0., 0., 0.]]),\n",
              " 'Vm': array([[0., 0., 0., ..., 0., 0., 0.],\n",
              "        [0., 0., 0., ..., 0., 0., 0.],\n",
              "        [0., 0., 0., ..., 0., 0., 0.],\n",
              "        ...,\n",
              "        [0., 0., 0., ..., 0., 0., 0.],\n",
              "        [0., 0., 0., ..., 0., 0., 0.],\n",
              "        [0., 0., 0., ..., 0., 0., 0.]]),\n",
              " 'i_NMDA':     0    1    2    3    4    5    6    7    8    9    ...  791  792  793  794  \\\n",
              " 0     0    0    0    0    0    0    0    0    0    0  ...    0    0    0    0   \n",
              " 1     0    0    0    0    0    0    0    0    0    0  ...    0    0    0    0   \n",
              " 2     0    0    0    0    0    0    0    0    0    0  ...    0    0    0    0   \n",
              " 3     0    0    0    0    0    0    0    0    0    0  ...    0    0    0    0   \n",
              " 4     0    0    0    0    0    0    0    0    0    0  ...    0    0    0    0   \n",
              " ..  ...  ...  ...  ...  ...  ...  ...  ...  ...  ...  ...  ...  ...  ...  ...   \n",
              " 83    0    0    0    0    0    0    0    0    0    0  ...    0    0    0    0   \n",
              " 84    0    0    0    0    0    0    0    0    0    0  ...    0    0    0    0   \n",
              " 85    0    0    0    0    0    0    0    0    0    0  ...    0    0    0    0   \n",
              " 86    0    0    0    0    0    0    0    0    0    0  ...    0    0    0    0   \n",
              " 87    0    0    0    0    0    0    0    0    0    0  ...    0    0    0    0   \n",
              " \n",
              "     795  796  797  798  799  800  \n",
              " 0     0    0    0    0    0    0  \n",
              " 1     0    0    0    0    0    0  \n",
              " 2     0    0    0    0    0    0  \n",
              " 3     0    0    0    0    0    0  \n",
              " 4     0    0    0    0    0    0  \n",
              " ..  ...  ...  ...  ...  ...  ...  \n",
              " 83    0    0    0    0    0    0  \n",
              " 84    0    0    0    0    0    0  \n",
              " 85    0    0    0    0    0    0  \n",
              " 86    0    0    0    0    0    0  \n",
              " 87    0    0    0    0    0    0  \n",
              " \n",
              " [88 rows x 801 columns],\n",
              " 'i_AMPA':     0    1    2    3    4    5    6    7    8    9    ...  791  792  793  794  \\\n",
              " 0     0    0    0    0    0    0    0    0    0    0  ...    0    0    0    0   \n",
              " 1     0    0    0    0    0    0    0    0    0    0  ...    0    0    0    0   \n",
              " 2     0    0    0    0    0    0    0    0    0    0  ...    0    0    0    0   \n",
              " 3     0    0    0    0    0    0    0    0    0    0  ...    0    0    0    0   \n",
              " 4     0    0    0    0    0    0    0    0    0    0  ...    0    0    0    0   \n",
              " ..  ...  ...  ...  ...  ...  ...  ...  ...  ...  ...  ...  ...  ...  ...  ...   \n",
              " 83    0    0    0    0    0    0    0    0    0    0  ...    0    0    0    0   \n",
              " 84    0    0    0    0    0    0    0    0    0    0  ...    0    0    0    0   \n",
              " 85    0    0    0    0    0    0    0    0    0    0  ...    0    0    0    0   \n",
              " 86    0    0    0    0    0    0    0    0    0    0  ...    0    0    0    0   \n",
              " 87    0    0    0    0    0    0    0    0    0    0  ...    0    0    0    0   \n",
              " \n",
              "     795  796  797  798  799  800  \n",
              " 0     0    0    0    0    0    0  \n",
              " 1     0    0    0    0    0    0  \n",
              " 2     0    0    0    0    0    0  \n",
              " 3     0    0    0    0    0    0  \n",
              " 4     0    0    0    0    0    0  \n",
              " ..  ...  ...  ...  ...  ...  ...  \n",
              " 83    0    0    0    0    0    0  \n",
              " 84    0    0    0    0    0    0  \n",
              " 85    0    0    0    0    0    0  \n",
              " 86    0    0    0    0    0    0  \n",
              " 87    0    0    0    0    0    0  \n",
              " \n",
              " [88 rows x 801 columns]}"
            ]
          },
          "metadata": {},
          "execution_count": 42
        }
      ]
    },
    {
      "cell_type": "code",
      "source": [
        "# output_folder_name=str(nbranches[0])+\"nbranch_outputcontrol_\"+str(int(len(cell.synapse)))+\"nsyn\"#+modelname  #include model name in output foler name (ex. original cell, reduced cell, expanded cell)\n",
        "# #create output folder\n",
        "# import os\n",
        "# if not os.path.exists(output_folder_name):\n",
        "#    os.makedirs(output_folder_name)\n",
        "\n",
        "# print(output_folder_name)\n",
        "# os.chdir(output_folder_name)"
      ],
      "metadata": {
        "id": "LeeK1qu11Zhv"
      },
      "id": "LeeK1qu11Zhv",
      "execution_count": 43,
      "outputs": []
    },
    {
      "cell_type": "code",
      "source": [
        "#save geometry file\n",
        "# cell.geometry.to_csv('geometry.csv')"
      ],
      "metadata": {
        "id": "2dNBijayE1zu"
      },
      "id": "2dNBijayE1zu",
      "execution_count": 44,
      "outputs": []
    },
    {
      "cell_type": "code",
      "source": [
        "# #Should add \"syn per seg\" to seg data frame #also can try doing SynPerSeg/segL to have more of a density metric\n",
        "# #can adjust functions to take df arguement\n",
        "# def plotSynDensity(SynPerSeg,Type=str):\n",
        "#   plt.figure(figsize=(4,10))\n",
        "#   ax = plt.scatter(expanded_segments_df[\"Coord X\"], expanded_segments_df[\"Coord Y\"],c = SynPerSeg[0:nseg],cmap='jet',)\n",
        "#   plt.vlines(110,400,500)\n",
        "#   plt.text(0,450,'100 um')\n",
        "#   plt.hlines(400,110,210)\n",
        "#   plt.text(110,350,'100 um')\n",
        "#   plt.xticks([])\n",
        "#   plt.yticks([])\n",
        "#   cbar = plt.colorbar()\n",
        "#   cbar.ax.set_ylabel(Type+'Synapses per segment', rotation=270)\n",
        "\n",
        "#   plt.box(False)\n",
        "#   plt.savefig(Type+'_syns.svg')\n",
        "\n",
        "# def plotSynDensityNoSoma(SynPerSeg,Type=str):\n",
        "#   plt.figure(figsize=(4,10))\n",
        "#   ax = plt.scatter(expanded_segments_df[\"Coord X\"][1:], expanded_segments_df[\"Coord Y\"][1:],c = SynPerSeg[1:nseg],cmap='jet',)\n",
        "#   plt.vlines(110,400,500)\n",
        "#   plt.text(0,450,'100 um')\n",
        "#   plt.hlines(400,110,210)\n",
        "#   plt.text(110,350,'100 um')\n",
        "#   plt.xticks([])\n",
        "#   plt.yticks([])\n",
        "#   cbar = plt.colorbar()\n",
        "#   cbar.ax.set_ylabel(Type+'Synapses per segment', rotation=270)\n",
        "\n",
        "#   plt.box(False)\n",
        "#   plt.savefig(Type+'_syns.svg')\n",
        "\n",
        "# plotSynDensity(exc_NetCon_per_seg,'Exc') #len(cell.segments) #low number of segments makes plot look odd."
      ],
      "metadata": {
        "id": "ZtC6mvhXwL-L"
      },
      "id": "ZtC6mvhXwL-L",
      "execution_count": 45,
      "outputs": []
    },
    {
      "cell_type": "code",
      "source": [
        "# plotSynDensity(inh_NetCon_per_seg,'Inh') # if soma has too many inh synapses the heatmap is not as interpretable"
      ],
      "metadata": {
        "id": "AuPzXdSdwhme"
      },
      "id": "AuPzXdSdwhme",
      "execution_count": 46,
      "outputs": []
    },
    {
      "cell_type": "code",
      "source": [
        "# print(cell.seg_coords)"
      ],
      "metadata": {
        "id": "TsqdpMMmzNbX"
      },
      "id": "TsqdpMMmzNbX",
      "execution_count": 47,
      "outputs": []
    },
    {
      "cell_type": "code",
      "source": [
        "# dir(synapses_list[0])"
      ],
      "metadata": {
        "id": "FpvT5pX-adYG"
      },
      "id": "FpvT5pX-adYG",
      "execution_count": 48,
      "outputs": []
    },
    {
      "cell_type": "code",
      "source": [
        "# y=[netcon for netcon in netcons_list]"
      ],
      "metadata": {
        "id": "RL2ZuF87Z1ab"
      },
      "id": "RL2ZuF87Z1ab",
      "execution_count": 49,
      "outputs": []
    },
    {
      "cell_type": "markdown",
      "id": "2ca15375",
      "metadata": {
        "id": "2ca15375"
      },
      "source": [
        "## Run simulation and plot results\n",
        "\n",
        "Run the codes below to simulate and display results everytime after you change the parameters above."
      ]
    },
    {
      "cell_type": "code",
      "execution_count": 58,
      "id": "f81ec874",
      "metadata": {
        "id": "f81ec874",
        "colab": {
          "base_uri": "https://localhost:8080/",
          "height": 1000
        },
        "outputId": "e2c1a2dd-ffdd-4937-dd9b-f0e9a0b425be"
      },
      "outputs": [
        {
          "output_type": "display_data",
          "data": {
            "text/plain": [
              "<Figure size 1000x400 with 1 Axes>"
            ],
            "image/png": "[encoded data removed]"
          },
          "metadata": {}
        },
        {
          "output_type": "display_data",
          "data": {
            "text/plain": [
              "<Figure size 800x500 with 2 Axes>"
            ],
            "image/png": "[encoded data removed]"
          },
          "metadata": {}
        },
        {
          "output_type": "display_data",
          "data": {
            "text/plain": [
              "<Figure size 800x500 with 2 Axes>"
            ],
            "image/png": "[encoded data removed]"
          },
          "metadata": {}
        }
      ],
      "source": [
        "# Run simulation\n",
        "set_synapse()\n",
        "h.run()\n",
        "# Get results\n",
        "t = t_vec.as_numpy().copy()  # time array (ms)\n",
        "# soma membrane potential\n",
        "Vm = V_rec.as_numpy()\n",
        "v_soma = Vm[cell.sec_id_in_seg[cell.all.index(cell.soma)]]\n",
        "v_tfut = Vm[cell.sec_id_in_seg[cell.all.index(tufts[0])]]\n",
        "# lfp array\n",
        "lfp = ecp.calc_ecp(move_cell=loc_param).T  # unit: mV\n",
        "\n",
        "# Soma membrane potential\n",
        "plt.figure(figsize=(10, 4))\n",
        "plt.plot(t, v_soma, label='Soma')\n",
        "plt.plot(t, v_tfut, label='Tuft')\n",
        "plt.ylabel('Membrane potential (mV)')\n",
        "plt.xlabel('time (ms)')\n",
        "plt.xlim(t[[0, -1]])\n",
        "plt.legend()\n",
        "plt.savefig('Vm')\n",
        "\n",
        "# Extracellular potential along y-axis\n",
        "y_window = [-1200, 1200]  # select range of y coordinate for plotting\n",
        "ylim = loc_param[1] + np.array(y_window)  # set range of y coordinate\n",
        "max_idx = np.argmax(np.amax(np.abs(lfp), axis=0))  # find the electrode that records maximum magnitude\n",
        "x_dist = elec_pos[max_idx, 0]  # x coordinate of the maximum magnitude electrode\n",
        "e_idx = (elec_pos[:, 0]==x_dist) & (elec_pos[:, 1]>=ylim[0]) & (elec_pos[:, 1]<=ylim[1])  # selected electrode indices\n",
        "\n",
        "fontsize = 15\n",
        "labelpad = -10\n",
        "ticksize = 12\n",
        "tick_length = 5\n",
        "nbins = 5\n",
        "plt.figure(figsize=(8, 5))\n",
        "_ = plot_lfp_heatmap(t=t, elec_d=elec_pos[e_idx, 1], lfp=lfp[:, e_idx],\n",
        "                     fontsize=fontsize, labelpad=labelpad, ticksize=ticksize, tick_length=tick_length,\n",
        "                     nbins=nbins, vlim='auto', axes=plt.gca()) #vlim='auto';normal range seems to be ~ [-.00722,.00722]\n",
        "plt.title('Extracellular potential heatmap')\n",
        "plt.savefig('ECP heatmap')\n",
        "plt.figure(figsize=(8, 5))\n",
        "_ = plot_lfp_traces(t, lfp[:, e_idx][:,1::3], electrodes=elec_pos[e_idx][1::3],\n",
        "                    fontsize=fontsize, labelpad=labelpad, ticksize=ticksize, tick_length=tick_length,\n",
        "                    nbins=nbins, axes=plt.gca())\n",
        "plt.title('Extracellular potential timecourse')\n",
        "plt.savefig('ECP timecourse')\n",
        "\n",
        "plt.show()"
      ]
    },
    {
      "cell_type": "markdown",
      "id": "5c3e3e52",
      "metadata": {
        "id": "5c3e3e52"
      },
      "source": [
        "## Electrotonic distance\n",
        "\n",
        "Neuron has a tool for electrotonic analysis [https://www.neuron.yale.edu/neuron/static/docs/zclass/zclass.html](https://www.neuron.yale.edu/neuron/static/docs/zclass/zclass.html). It computes the electrotonic distance defined by attenuation, but the classical definition is [anatomical distance/length constant](https://www.neuron.yale.edu/neuron/static/docs/zclass/NIPS94/nipsfin.html).\n",
        "\n",
        "The plot below shows the membrane potential timecourse at several locations on the cell. The electrotonic distance computed by Neuron of each location is also shown with both number and color. The distance should always be a positive value, but it is labeled negative for the basal dendrites and the axon intentionally so that it can be easily distinguished from the apical dendrites."
      ]
    },
    {
      "cell_type": "code",
      "source": [],
      "metadata": {
        "id": "D0amv-Dd-2Ij"
      },
      "id": "D0amv-Dd-2Ij",
      "execution_count": 50,
      "outputs": []
    },
    {
      "cell_type": "code",
      "source": [
        "# geometry=cell.geometry"
      ],
      "metadata": {
        "id": "cNsNKTKuB0XA"
      },
      "id": "cNsNKTKuB0XA",
      "execution_count": 51,
      "outputs": []
    },
    {
      "cell_type": "code",
      "execution_count": 52,
      "id": "729a65ff",
      "metadata": {
        "id": "729a65ff"
      },
      "outputs": [],
      "source": [
        "# for syn in cell.synapse:\n",
        "#     syn.set_gmax(0)\n",
        "# h.run()\n",
        "\n",
        "# sec_type_swc = {sec['name']: sec['type'] for _, sec in geometry.iterrows()}\n",
        "# # sec_type = [sec_type_swc[sec.name().split('.')[-1]] for sec in cell.all] # original\n",
        "# # sec_type = [sec_type_swc[sec.name().split('.')[-1].split('[')[0]] for sec in cell.all] # possible alternative?\n",
        "# sec_type = [sec_type_swc[sec.name()] for sec in cell.all]\n",
        "# freq = 0 # Hz\n",
        "# seg_prop, _, _ = measure_segment_distance(cell.soma , cell.all, sec_type, freq)\n",
        "\n",
        "# select_seg = [[cell.sec_id_in_seg[sec[0]], cell.get_sec_by_id(sec[0]).nseg -1] for sec in cell.sec_id_lookup.values()]\n",
        "# select_seg = np.sum(np.array(select_seg), axis=1)\n",
        "# # select_seg = np.unique(np.cumsum(np.array(select_seg), axis=1).ravel())\n",
        "# _ = plot_variable_with_morphology(cell.seg_coords, seg_prop, Vm, t=t, axes=['x', 'y'],\n",
        "#                                   distance_type='elec_dist', n_dist=300,\n",
        "#                                   select_seg=select_seg, max_per_dist=1, varname='Membrane potential (mV)',\n",
        "#                                   space=2., normalized_space=True, sort_by_dist=True,\n",
        "                                  # figsize=(10, 10), fontsize=15, scalebar_size=50)"
      ]
    },
    {
      "cell_type": "markdown",
      "source": [
        "##Transfer Impedance\n",
        "\n"
      ],
      "metadata": {
        "id": "Tc1fFLPUz5Qe"
      },
      "id": "Tc1fFLPUz5Qe"
    },
    {
      "cell_type": "code",
      "execution_count": 53,
      "id": "be859ed7",
      "metadata": {
        "id": "be859ed7"
      },
      "outputs": [],
      "source": [
        "# import numpy as np\n",
        "# from neuron import h\n",
        "# import cmath\n",
        "\n",
        "# def measure_segment_transfer_impedance(soma, section_list, sec_type, freq=0, extracellular_mechanism=True):\n",
        "#     \"\"\"\n",
        "#     soma: soma section object\n",
        "#     section_list: list of sections\n",
        "#     sec_type: list of swc type id of sections\n",
        "#     freq: frequency (Hz) at which electrotonic distance is evaluated\n",
        "#     extracellular_mechanism: whether extracellular mechanism is used\n",
        "#     \"\"\"\n",
        "#     seg_prop = {}\n",
        "#     swc_type = []\n",
        "#     seg_area = []\n",
        "#     seg_dist = []\n",
        "#     seg_length = []\n",
        "#     elec_dist = [] #modulus part of polar form #should change names\n",
        "#     elec_dist0 = [] #modulus of polar form #should change names\n",
        "#     transfer_imps = [] #real part of rectangular form\n",
        "#     transfer_imps0 = [] # real part of rectangular form\n",
        "\n",
        "#     # set up distance origin\n",
        "#     h.distance(0, soma(.5))\n",
        "#     # set up electrotonic origin\n",
        "#     zz = h.Impedance()\n",
        "#     zz.loc(soma(.5))\n",
        "#     if extracellular_mechanism:\n",
        "#         zz.compute(freq + 1 / 9e9, 0) #*\n",
        "#     else:\n",
        "#         zz.compute(freq, 1)\n",
        "#     # measure distance\n",
        "#     for i, sec in enumerate(section_list):\n",
        "#         if sec_type[i]==1:\n",
        "#             transfer_imp=zz.transfer(sec(0.5/sec.nseg)) #*\n",
        "#             transfer_phase=zz.transfer_phase(sec(0.5/sec.nseg)) #*\n",
        "#             elec_dist0.append(transfer_imp) #*\n",
        "#             rect_complex=cmath.rect(transfer_imp,transfer_phase)\n",
        "#             transfer_imps.append(rect_complex.real) #*\n",
        "#         else:\n",
        "#             transfer_imp=zz.transfer(sec.parentseg()) #*\n",
        "#             transfer_phase=zz.transfer_phase(sec.parentseg()) #*\n",
        "#             elec_dist0.append(transfer_imp) #*\n",
        "#             rect_complex=cmath.rect(transfer_imp, transfer_phase) #*\n",
        "#             transfer_imps.append(rect_complex.real) #*\n",
        "#         for j, seg in enumerate(sec):\n",
        "#             swc_type.append(sec_type[i])\n",
        "#             seg_area.append(seg.area())\n",
        "#             seg_dist.append(h.distance(seg))\n",
        "#             seg_length.append(sec.L/sec.nseg)\n",
        "#             if j!=0:\n",
        "#                 elec_dist0.append(elec_dist[-1])\n",
        "#                 transfer_imps.append(transfer_imps0[-1])\n",
        "#             elec_dist.append(zz.transfer(seg)) #*\n",
        "#             transfer_imp=zz.transfer(seg) #*\n",
        "#             transfer_phase=zz.transfer_phase(seg) #*\n",
        "#             rect_complex=cmath.rect(transfer_imp,transfer_phase) #*\n",
        "#             transfer_imps0.append(rect_complex.real) #*\n",
        "\n",
        "#     seg_prop['swc_type'] = np.array(swc_type)\n",
        "#     seg_prop['seg_area'] = np.array(seg_area)\n",
        "\n",
        "#     # distance at endpoints of each segment\n",
        "#     seg_prop['distance'] = np.expand_dims(seg_dist, 1) + np.expand_dims(seg_length, 1) / 2 * np.array([[-1, 1]])\n",
        "#     # seg_prop['transfer_imp'] = np.sort(np.log(elec_dist0[0]) - np.log(np.column_stack([elec_dist0, elec_dist])), axis=1) #*\n",
        "#     seg_prop['transfer_imp_mod'] = np.sort(elec_dist0[0] - np.column_stack([elec_dist0, elec_dist]), axis=1) #*\n",
        "#     seg_prop['transfer_imp_real'] = np.sort(transfer_imps[0] - np.column_stack([transfer_imps, transfer_imps0]), axis=1) #*\n",
        "\n",
        "\n",
        "#     # change sign of basal and axon types\n",
        "#     idx = np.nonzero((seg_prop['swc_type']==2) | (seg_prop['swc_type']==3))[0]\n",
        "#     seg_prop['distance'][idx] = -seg_prop['distance'][idx,::-1]\n",
        "#     seg_prop['transfer_imp_mod'][idx] = -seg_prop['transfer_imp_mod'][idx,::-1] #*\n",
        "#     seg_prop['transfer_imp_real'][idx] = -seg_prop['transfer_imp_real'][idx,::-1] #*\n",
        "#     return seg_prop, zz.transfer(soma(.5)), zz.transfer_phase(soma(.5))\n"
      ]
    },
    {
      "cell_type": "code",
      "source": [
        "# #using modulus of polar form\n",
        "\n",
        "# for syn in cell.synapse:\n",
        "#     syn.set_gmax(0)\n",
        "# h.run()\n",
        "\n",
        "# sec_type_swc = {sec['name']: sec['type'] for _, sec in geometry.iterrows()}\n",
        "# sec_type = [sec_type_swc[sec.name().split('.')[-1]] for sec in cell.all]\n",
        "# freq = 0 # Hz\n",
        "# seg_prop, _, _ = measure_segment_transfer_impedance(cell.soma , cell.all, sec_type, freq)\n",
        "\n",
        "# select_seg = [[cell.sec_id_in_seg[sec[0]], cell.get_sec_by_id(sec[0]).nseg -1] for sec in cell.sec_id_lookup.values()]\n",
        "# select_seg = np.sum(np.array(select_seg), axis=1)\n",
        "# # select_seg = np.unique(np.cumsum(np.array(select_seg), axis=1).ravel())\n",
        "# _ = plot_variable_with_morphology(cell.seg_coords, seg_prop, Vm, t=t, axes=['x', 'y'],\n",
        "#                                   distance_type='transfer_imp_mod', n_dist=300,\n",
        "#                                   select_seg=select_seg, max_per_dist=1, varname='Membrane potential (mV)',\n",
        "#                                   space=2., normalized_space=True, sort_by_dist=True,\n",
        "#                                   figsize=(10, 10), fontsize=15, scalebar_size=50)"
      ],
      "metadata": {
        "id": "yHRymM0L5pJj"
      },
      "id": "yHRymM0L5pJj",
      "execution_count": 54,
      "outputs": []
    },
    {
      "cell_type": "code",
      "source": [
        "# #using real part of rectangular complex form\n",
        "\n",
        "# for syn in cell.synapse:\n",
        "#     syn.set_gmax(0)\n",
        "# h.run()\n",
        "\n",
        "# sec_type_swc = {sec['name']: sec['type'] for _, sec in geometry.iterrows()}\n",
        "# sec_type = [sec_type_swc[sec.name().split('.')[-1]] for sec in cell.all]\n",
        "# freq = 0 # Hz\n",
        "# seg_prop, _, _ = measure_segment_transfer_impedance(cell.soma , cell.all, sec_type, freq)\n",
        "\n",
        "# select_seg = [[cell.sec_id_in_seg[sec[0]], cell.get_sec_by_id(sec[0]).nseg -1] for sec in cell.sec_id_lookup.values()]\n",
        "# select_seg = np.sum(np.array(select_seg), axis=1)\n",
        "# # select_seg = np.unique(np.cumsum(np.array(select_seg), axis=1).ravel())\n",
        "# _ = plot_variable_with_morphology(cell.seg_coords, seg_prop, Vm, t=t, axes=['x', 'y'],\n",
        "#                                   distance_type='transfer_imp_real', n_dist=300,\n",
        "#                                   select_seg=select_seg, max_per_dist=1, varname='Membrane potential (mV)',\n",
        "#                                   space=2., normalized_space=True, sort_by_dist=True,\n",
        "#                                   figsize=(10, 10), fontsize=15, scalebar_size=50)"
      ],
      "metadata": {
        "id": "Ibbz1qMIjWu5"
      },
      "id": "Ibbz1qMIjWu5",
      "execution_count": 55,
      "outputs": []
    },
    {
      "cell_type": "markdown",
      "source": [
        "Transfer Impedance is a complex number"
      ],
      "metadata": {
        "id": "2eSHPclEP0I0"
      },
      "id": "2eSHPclEP0I0"
    },
    {
      "cell_type": "code",
      "source": [
        "# polar_modulus=1\n",
        "# polar_phase=3\n",
        "\n",
        "# complex_rectangular_form=cmath.rect(polar_modulus, polar_phase)\n",
        "# print(complex_rectangular_form)"
      ],
      "metadata": {
        "id": "PM8Xa3WATASj"
      },
      "id": "PM8Xa3WATASj",
      "execution_count": 56,
      "outputs": []
    },
    {
      "cell_type": "code",
      "source": [
        "# complex_rectangular_form.real"
      ],
      "metadata": {
        "id": "BZgkMzBpTLgL"
      },
      "id": "BZgkMzBpTLgL",
      "execution_count": 57,
      "outputs": []
    }
  ],
  "metadata": {
    "colab": {
      "provenance": [],
      "include_colab_link": true
    },
    "kernelspec": {
      "display_name": "Python 3 (ipykernel)",
      "language": "python",
      "name": "python3"
    },
    "language_info": {
      "codemirror_mode": {
        "name": "ipython",
        "version": 3
      },
      "file_extension": ".py",
      "mimetype": "text/x-python",
      "name": "python",
      "nbconvert_exporter": "python",
      "pygments_lexer": "ipython3",
      "version": "3.9.12"
    },
    "widgets": {
      "application/vnd.jupyter.widget-state+json": {
        "4e169f6e97314d02ab7f959a4dbd9fa9": {
          "model_module": "@jupyter-widgets/controls",
          "model_name": "VBoxModel",
          "model_module_version": "1.5.0",
          "state": {
            "_dom_classes": [],
            "_model_module": "@jupyter-widgets/controls",
            "_model_module_version": "1.5.0",
            "_model_name": "VBoxModel",
            "_view_count": null,
            "_view_module": "@jupyter-widgets/controls",
            "_view_module_version": "1.5.0",
            "_view_name": "VBoxView",
            "box_style": "",
            "children": [
              "IPY_MODEL_4992d4400f2c4d61b83ffdac776a0ae2",
              "IPY_MODEL_61f6c9ab862c436e9087732a106b9a05",
              "IPY_MODEL_7c369fa09d3841388442d1a8c07db579"
            ],
            "layout": "IPY_MODEL_1dadc3b50fc343b88e569ec22d78648f"
          }
        },
        "4992d4400f2c4d61b83ffdac776a0ae2": {
          "model_module": "@jupyter-widgets/controls",
          "model_name": "ButtonModel",
          "model_module_version": "1.5.0",
          "state": {
            "_dom_classes": [],
            "_model_module": "@jupyter-widgets/controls",
            "_model_module_version": "1.5.0",
            "_model_name": "ButtonModel",
            "_view_count": null,
            "_view_module": "@jupyter-widgets/controls",
            "_view_module_version": "1.5.0",
            "_view_name": "ButtonView",
            "button_style": "primary",
            "description": "Reset",
            "disabled": false,
            "icon": "history",
            "layout": "IPY_MODEL_0a354b723d994b3bbddd93edc4023efe",
            "style": "IPY_MODEL_800e776b9e5d49f99b07e1bd7adddbfc",
            "tooltip": ""
          }
        },
        "61f6c9ab862c436e9087732a106b9a05": {
          "model_module": "@jupyter-widgets/controls",
          "model_name": "HBoxModel",
          "model_module_version": "1.5.0",
          "state": {
            "_dom_classes": [],
            "_model_module": "@jupyter-widgets/controls",
            "_model_module_version": "1.5.0",
            "_model_name": "HBoxModel",
            "_view_count": null,
            "_view_module": "@jupyter-widgets/controls",
            "_view_module_version": "1.5.0",
            "_view_name": "HBoxView",
            "box_style": "",
            "children": [
              "IPY_MODEL_c59e292ec8144432a67c0552b7dad63b",
              "IPY_MODEL_3f09843b201f4b9aa68a781ee6b0f20b"
            ],
            "layout": "IPY_MODEL_40370519a812451b8bcdc6bbc4f0468f"
          }
        },
        "7c369fa09d3841388442d1a8c07db579": {
          "model_module": "@jupyter-widgets/controls",
          "model_name": "HBoxModel",
          "model_module_version": "1.5.0",
          "state": {
            "_dom_classes": [],
            "_model_module": "@jupyter-widgets/controls",
            "_model_module_version": "1.5.0",
            "_model_name": "HBoxModel",
            "_view_count": null,
            "_view_module": "@jupyter-widgets/controls",
            "_view_module_version": "1.5.0",
            "_view_name": "HBoxView",
            "box_style": "",
            "children": [
              "IPY_MODEL_1b2171ca6a1d4e949e203b27f9136e14",
              "IPY_MODEL_93ac7ae99c0e4c7fbce9a93eafbe8e42"
            ],
            "layout": "IPY_MODEL_a2dd92bf16024ed691f6e87008dd1e0e"
          }
        },
        "1dadc3b50fc343b88e569ec22d78648f": {
          "model_module": "@jupyter-widgets/base",
          "model_name": "LayoutModel",
          "model_module_version": "1.2.0",
          "state": {
            "_model_module": "@jupyter-widgets/base",
            "_model_module_version": "1.2.0",
            "_model_name": "LayoutModel",
            "_view_count": null,
            "_view_module": "@jupyter-widgets/base",
            "_view_module_version": "1.2.0",
            "_view_name": "LayoutView",
            "align_content": null,
            "align_items": null,
            "align_self": null,
            "border": null,
            "bottom": null,
            "display": null,
            "flex": null,
            "flex_flow": null,
            "grid_area": null,
            "grid_auto_columns": null,
            "grid_auto_flow": null,
            "grid_auto_rows": null,
            "grid_column": null,
            "grid_gap": null,
            "grid_row": null,
            "grid_template_areas": null,
            "grid_template_columns": null,
            "grid_template_rows": null,
            "height": null,
            "justify_content": null,
            "justify_items": null,
            "left": null,
            "margin": null,
            "max_height": null,
            "max_width": null,
            "min_height": null,
            "min_width": null,
            "object_fit": null,
            "object_position": null,
            "order": null,
            "overflow": null,
            "overflow_x": null,
            "overflow_y": null,
            "padding": null,
            "right": null,
            "top": null,
            "visibility": null,
            "width": null
          }
        },
        "0a354b723d994b3bbddd93edc4023efe": {
          "model_module": "@jupyter-widgets/base",
          "model_name": "LayoutModel",
          "model_module_version": "1.2.0",
          "state": {
            "_model_module": "@jupyter-widgets/base",
            "_model_module_version": "1.2.0",
            "_model_name": "LayoutModel",
            "_view_count": null,
            "_view_module": "@jupyter-widgets/base",
            "_view_module_version": "1.2.0",
            "_view_name": "LayoutView",
            "align_content": null,
            "align_items": null,
            "align_self": null,
            "border": null,
            "bottom": null,
            "display": null,
            "flex": null,
            "flex_flow": null,
            "grid_area": null,
            "grid_auto_columns": null,
            "grid_auto_flow": null,
            "grid_auto_rows": null,
            "grid_column": null,
            "grid_gap": null,
            "grid_row": null,
            "grid_template_areas": null,
            "grid_template_columns": null,
            "grid_template_rows": null,
            "height": null,
            "justify_content": null,
            "justify_items": null,
            "left": null,
            "margin": null,
            "max_height": null,
            "max_width": null,
            "min_height": null,
            "min_width": null,
            "object_fit": null,
            "object_position": null,
            "order": null,
            "overflow": null,
            "overflow_x": null,
            "overflow_y": null,
            "padding": null,
            "right": null,
            "top": null,
            "visibility": null,
            "width": null
          }
        },
        "800e776b9e5d49f99b07e1bd7adddbfc": {
          "model_module": "@jupyter-widgets/controls",
          "model_name": "ButtonStyleModel",
          "model_module_version": "1.5.0",
          "state": {
            "_model_module": "@jupyter-widgets/controls",
            "_model_module_version": "1.5.0",
            "_model_name": "ButtonStyleModel",
            "_view_count": null,
            "_view_module": "@jupyter-widgets/base",
            "_view_module_version": "1.2.0",
            "_view_name": "StyleView",
            "button_color": null,
            "font_weight": ""
          }
        },
        "c59e292ec8144432a67c0552b7dad63b": {
          "model_module": "@jupyter-widgets/controls",
          "model_name": "VBoxModel",
          "model_module_version": "1.5.0",
          "state": {
            "_dom_classes": [],
            "_model_module": "@jupyter-widgets/controls",
            "_model_module_version": "1.5.0",
            "_model_name": "VBoxModel",
            "_view_count": null,
            "_view_module": "@jupyter-widgets/controls",
            "_view_module_version": "1.5.0",
            "_view_name": "VBoxView",
            "box_style": "",
            "children": [
              "IPY_MODEL_594613dc6c6243fba58738fa4d49afc2",
              "IPY_MODEL_98ca248490954c53b47065bb3a9dfabf",
              "IPY_MODEL_7378efc164f64b2d8d210cb2b04ef8ef"
            ],
            "layout": "IPY_MODEL_e2c68da00400412ca2c20a97ca2d557a"
          }
        },
        "3f09843b201f4b9aa68a781ee6b0f20b": {
          "model_module": "@jupyter-widgets/controls",
          "model_name": "VBoxModel",
          "model_module_version": "1.5.0",
          "state": {
            "_dom_classes": [],
            "_model_module": "@jupyter-widgets/controls",
            "_model_module_version": "1.5.0",
            "_model_name": "VBoxModel",
            "_view_count": null,
            "_view_module": "@jupyter-widgets/controls",
            "_view_module_version": "1.5.0",
            "_view_name": "VBoxView",
            "box_style": "",
            "children": [
              "IPY_MODEL_f66a3425bc344c9f8b18fe0bf639a5ca",
              "IPY_MODEL_5a5808c320064d3285d8a0bb9339fd5a",
              "IPY_MODEL_6267d159e6414a25b4637c16b07160be"
            ],
            "layout": "IPY_MODEL_a19f895ef091439aac63925cd89ed080"
          }
        },
        "40370519a812451b8bcdc6bbc4f0468f": {
          "model_module": "@jupyter-widgets/base",
          "model_name": "LayoutModel",
          "model_module_version": "1.2.0",
          "state": {
            "_model_module": "@jupyter-widgets/base",
            "_model_module_version": "1.2.0",
            "_model_name": "LayoutModel",
            "_view_count": null,
            "_view_module": "@jupyter-widgets/base",
            "_view_module_version": "1.2.0",
            "_view_name": "LayoutView",
            "align_content": null,
            "align_items": null,
            "align_self": null,
            "border": null,
            "bottom": null,
            "display": null,
            "flex": null,
            "flex_flow": null,
            "grid_area": null,
            "grid_auto_columns": null,
            "grid_auto_flow": null,
            "grid_auto_rows": null,
            "grid_column": null,
            "grid_gap": null,
            "grid_row": null,
            "grid_template_areas": null,
            "grid_template_columns": null,
            "grid_template_rows": null,
            "height": null,
            "justify_content": null,
            "justify_items": null,
            "left": null,
            "margin": null,
            "max_height": null,
            "max_width": null,
            "min_height": null,
            "min_width": null,
            "object_fit": null,
            "object_position": null,
            "order": null,
            "overflow": null,
            "overflow_x": null,
            "overflow_y": null,
            "padding": null,
            "right": null,
            "top": null,
            "visibility": null,
            "width": null
          }
        },
        "1b2171ca6a1d4e949e203b27f9136e14": {
          "model_module": "@jupyter-widgets/controls",
          "model_name": "VBoxModel",
          "model_module_version": "1.5.0",
          "state": {
            "_dom_classes": [],
            "_model_module": "@jupyter-widgets/controls",
            "_model_module_version": "1.5.0",
            "_model_name": "VBoxModel",
            "_view_count": null,
            "_view_module": "@jupyter-widgets/controls",
            "_view_module_version": "1.5.0",
            "_view_name": "VBoxView",
            "box_style": "",
            "children": [
              "IPY_MODEL_19fe6b593f72478995c9970398988a15",
              "IPY_MODEL_c21ddd6d58394b5bb15d7f79383f7421"
            ],
            "layout": "IPY_MODEL_eedfca37b5be4f6cb268c2d50d711404"
          }
        },
        "93ac7ae99c0e4c7fbce9a93eafbe8e42": {
          "model_module": "@jupyter-widgets/controls",
          "model_name": "FloatSliderModel",
          "model_module_version": "1.5.0",
          "state": {
            "_dom_classes": [],
            "_model_module": "@jupyter-widgets/controls",
            "_model_module_version": "1.5.0",
            "_model_name": "FloatSliderModel",
            "_view_count": null,
            "_view_module": "@jupyter-widgets/controls",
            "_view_module_version": "1.5.0",
            "_view_name": "FloatSliderView",
            "continuous_update": false,
            "description": "elev (deg)",
            "description_tooltip": null,
            "disabled": false,
            "layout": "IPY_MODEL_818b1490912a4356b4bf13c342bb8f2b",
            "max": 90,
            "min": -90,
            "orientation": "vertical",
            "readout": true,
            "readout_format": ".0f",
            "step": 1,
            "style": "IPY_MODEL_bad4049b97eb455bb07ca0ab89c34abb",
            "value": -10
          }
        },
        "a2dd92bf16024ed691f6e87008dd1e0e": {
          "model_module": "@jupyter-widgets/base",
          "model_name": "LayoutModel",
          "model_module_version": "1.2.0",
          "state": {
            "_model_module": "@jupyter-widgets/base",
            "_model_module_version": "1.2.0",
            "_model_name": "LayoutModel",
            "_view_count": null,
            "_view_module": "@jupyter-widgets/base",
            "_view_module_version": "1.2.0",
            "_view_name": "LayoutView",
            "align_content": null,
            "align_items": null,
            "align_self": null,
            "border": null,
            "bottom": null,
            "display": null,
            "flex": null,
            "flex_flow": null,
            "grid_area": null,
            "grid_auto_columns": null,
            "grid_auto_flow": null,
            "grid_auto_rows": null,
            "grid_column": null,
            "grid_gap": null,
            "grid_row": null,
            "grid_template_areas": null,
            "grid_template_columns": null,
            "grid_template_rows": null,
            "height": null,
            "justify_content": null,
            "justify_items": null,
            "left": null,
            "margin": null,
            "max_height": null,
            "max_width": null,
            "min_height": null,
            "min_width": null,
            "object_fit": null,
            "object_position": null,
            "order": null,
            "overflow": null,
            "overflow_x": null,
            "overflow_y": null,
            "padding": null,
            "right": null,
            "top": null,
            "visibility": null,
            "width": null
          }
        },
        "594613dc6c6243fba58738fa4d49afc2": {
          "model_module": "@jupyter-widgets/controls",
          "model_name": "FloatSliderModel",
          "model_module_version": "1.5.0",
          "state": {
            "_dom_classes": [],
            "_model_module": "@jupyter-widgets/controls",
            "_model_module_version": "1.5.0",
            "_model_name": "FloatSliderModel",
            "_view_count": null,
            "_view_module": "@jupyter-widgets/controls",
            "_view_module_version": "1.5.0",
            "_view_name": "FloatSliderView",
            "continuous_update": false,
            "description": "x (um)",
            "description_tooltip": null,
            "disabled": false,
            "layout": "IPY_MODEL_2b64b4f901134282a2f35b3bc66780be",
            "max": 200,
            "min": -200,
            "orientation": "horizontal",
            "readout": true,
            "readout_format": ".0f",
            "step": 1,
            "style": "IPY_MODEL_ccbdfc68cbe342dfa5c5b20b4a775e56",
            "value": 0
          }
        },
        "98ca248490954c53b47065bb3a9dfabf": {
          "model_module": "@jupyter-widgets/controls",
          "model_name": "FloatSliderModel",
          "model_module_version": "1.5.0",
          "state": {
            "_dom_classes": [],
            "_model_module": "@jupyter-widgets/controls",
            "_model_module_version": "1.5.0",
            "_model_name": "FloatSliderModel",
            "_view_count": null,
            "_view_module": "@jupyter-widgets/controls",
            "_view_module_version": "1.5.0",
            "_view_name": "FloatSliderView",
            "continuous_update": false,
            "description": "y (um)",
            "description_tooltip": null,
            "disabled": false,
            "layout": "IPY_MODEL_599936499eff46cf85ca83002a365e81",
            "max": 1000,
            "min": -1000,
            "orientation": "horizontal",
            "readout": true,
            "readout_format": ".0f",
            "step": 1,
            "style": "IPY_MODEL_e769fd38a3894a6cb5f6e6d37bf340f9",
            "value": 0
          }
        },
        "7378efc164f64b2d8d210cb2b04ef8ef": {
          "model_module": "@jupyter-widgets/controls",
          "model_name": "FloatSliderModel",
          "model_module_version": "1.5.0",
          "state": {
            "_dom_classes": [],
            "_model_module": "@jupyter-widgets/controls",
            "_model_module_version": "1.5.0",
            "_model_name": "FloatSliderModel",
            "_view_count": null,
            "_view_module": "@jupyter-widgets/controls",
            "_view_module_version": "1.5.0",
            "_view_name": "FloatSliderView",
            "continuous_update": false,
            "description": "z (um)",
            "description_tooltip": null,
            "disabled": false,
            "layout": "IPY_MODEL_cf936a98a68049f4bc29c6791f8593f4",
            "max": 400,
            "min": 20,
            "orientation": "horizontal",
            "readout": true,
            "readout_format": ".0f",
            "step": 1,
            "style": "IPY_MODEL_833334ceeeff4d95a6d50055170a39f4",
            "value": 80
          }
        },
        "e2c68da00400412ca2c20a97ca2d557a": {
          "model_module": "@jupyter-widgets/base",
          "model_name": "LayoutModel",
          "model_module_version": "1.2.0",
          "state": {
            "_model_module": "@jupyter-widgets/base",
            "_model_module_version": "1.2.0",
            "_model_name": "LayoutModel",
            "_view_count": null,
            "_view_module": "@jupyter-widgets/base",
            "_view_module_version": "1.2.0",
            "_view_name": "LayoutView",
            "align_content": null,
            "align_items": null,
            "align_self": null,
            "border": null,
            "bottom": null,
            "display": null,
            "flex": null,
            "flex_flow": null,
            "grid_area": null,
            "grid_auto_columns": null,
            "grid_auto_flow": null,
            "grid_auto_rows": null,
            "grid_column": null,
            "grid_gap": null,
            "grid_row": null,
            "grid_template_areas": null,
            "grid_template_columns": null,
            "grid_template_rows": null,
            "height": null,
            "justify_content": null,
            "justify_items": null,
            "left": null,
            "margin": null,
            "max_height": null,
            "max_width": null,
            "min_height": null,
            "min_width": null,
            "object_fit": null,
            "object_position": null,
            "order": null,
            "overflow": null,
            "overflow_x": null,
            "overflow_y": null,
            "padding": null,
            "right": null,
            "top": null,
            "visibility": null,
            "width": null
          }
        },
        "f66a3425bc344c9f8b18fe0bf639a5ca": {
          "model_module": "@jupyter-widgets/controls",
          "model_name": "FloatSliderModel",
          "model_module_version": "1.5.0",
          "state": {
            "_dom_classes": [],
            "_model_module": "@jupyter-widgets/controls",
            "_model_module_version": "1.5.0",
            "_model_name": "FloatSliderModel",
            "_view_count": null,
            "_view_module": "@jupyter-widgets/controls",
            "_view_module_version": "1.5.0",
            "_view_name": "FloatSliderView",
            "continuous_update": false,
            "description": "alpha (deg)",
            "description_tooltip": null,
            "disabled": false,
            "layout": "IPY_MODEL_3fc7b48d14af4460a8c88ffb5ca87770",
            "max": 180,
            "min": -180,
            "orientation": "horizontal",
            "readout": true,
            "readout_format": ".0f",
            "step": 1,
            "style": "IPY_MODEL_0c72c89ad7d94f3cb979a919fe856698",
            "value": 0
          }
        },
        "5a5808c320064d3285d8a0bb9339fd5a": {
          "model_module": "@jupyter-widgets/controls",
          "model_name": "FloatSliderModel",
          "model_module_version": "1.5.0",
          "state": {
            "_dom_classes": [],
            "_model_module": "@jupyter-widgets/controls",
            "_model_module_version": "1.5.0",
            "_model_name": "FloatSliderModel",
            "_view_count": null,
            "_view_module": "@jupyter-widgets/controls",
            "_view_module_version": "1.5.0",
            "_view_name": "FloatSliderView",
            "continuous_update": false,
            "description": "beta (deg)",
            "description_tooltip": null,
            "disabled": false,
            "layout": "IPY_MODEL_b8fe01e7d25c4b65ba648dc2d3b3261c",
            "max": 180,
            "min": 0,
            "orientation": "horizontal",
            "readout": true,
            "readout_format": ".0f",
            "step": 1,
            "style": "IPY_MODEL_caf62b5ee3b447219a83ddcdf8cdd2ac",
            "value": 0
          }
        },
        "6267d159e6414a25b4637c16b07160be": {
          "model_module": "@jupyter-widgets/controls",
          "model_name": "FloatSliderModel",
          "model_module_version": "1.5.0",
          "state": {
            "_dom_classes": [],
            "_model_module": "@jupyter-widgets/controls",
            "_model_module_version": "1.5.0",
            "_model_name": "FloatSliderModel",
            "_view_count": null,
            "_view_module": "@jupyter-widgets/controls",
            "_view_module_version": "1.5.0",
            "_view_name": "FloatSliderView",
            "continuous_update": false,
            "description": "phi (deg)",
            "description_tooltip": null,
            "disabled": false,
            "layout": "IPY_MODEL_eb89ab3daf8a4b0fbf07b425aee7b7e9",
            "max": 180,
            "min": -180,
            "orientation": "horizontal",
            "readout": true,
            "readout_format": ".0f",
            "step": 1,
            "style": "IPY_MODEL_b22b486bde244b8aa39b2dd56c3c5cda",
            "value": 0
          }
        },
        "a19f895ef091439aac63925cd89ed080": {
          "model_module": "@jupyter-widgets/base",
          "model_name": "LayoutModel",
          "model_module_version": "1.2.0",
          "state": {
            "_model_module": "@jupyter-widgets/base",
            "_model_module_version": "1.2.0",
            "_model_name": "LayoutModel",
            "_view_count": null,
            "_view_module": "@jupyter-widgets/base",
            "_view_module_version": "1.2.0",
            "_view_name": "LayoutView",
            "align_content": null,
            "align_items": null,
            "align_self": null,
            "border": null,
            "bottom": null,
            "display": null,
            "flex": null,
            "flex_flow": null,
            "grid_area": null,
            "grid_auto_columns": null,
            "grid_auto_flow": null,
            "grid_auto_rows": null,
            "grid_column": null,
            "grid_gap": null,
            "grid_row": null,
            "grid_template_areas": null,
            "grid_template_columns": null,
            "grid_template_rows": null,
            "height": null,
            "justify_content": null,
            "justify_items": null,
            "left": null,
            "margin": null,
            "max_height": null,
            "max_width": null,
            "min_height": null,
            "min_width": null,
            "object_fit": null,
            "object_position": null,
            "order": null,
            "overflow": null,
            "overflow_x": null,
            "overflow_y": null,
            "padding": null,
            "right": null,
            "top": null,
            "visibility": null,
            "width": null
          }
        },
        "19fe6b593f72478995c9970398988a15": {
          "model_module": "@jupyter-widgets/output",
          "model_name": "OutputModel",
          "model_module_version": "1.0.0",
          "state": {
            "_dom_classes": [],
            "_model_module": "@jupyter-widgets/output",
            "_model_module_version": "1.0.0",
            "_model_name": "OutputModel",
            "_view_count": null,
            "_view_module": "@jupyter-widgets/output",
            "_view_module_version": "1.0.0",
            "_view_name": "OutputView",
            "layout": "IPY_MODEL_db9be109274b4ce5afd37edad3390e0d",
            "msg_id": "",
            "outputs": [
              {
                "output_type": "display_data",
                "data": {
                  "text/plain": "<Figure size 1200x800 with 1 Axes>",
                  "image/png": "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\n"
                },
                "metadata": {}
              }
            ]
          }
        },
        "c21ddd6d58394b5bb15d7f79383f7421": {
          "model_module": "@jupyter-widgets/controls",
          "model_name": "FloatSliderModel",
          "model_module_version": "1.5.0",
          "state": {
            "_dom_classes": [],
            "_model_module": "@jupyter-widgets/controls",
            "_model_module_version": "1.5.0",
            "_model_name": "FloatSliderModel",
            "_view_count": null,
            "_view_module": "@jupyter-widgets/controls",
            "_view_module_version": "1.5.0",
            "_view_name": "FloatSliderView",
            "continuous_update": false,
            "description": "azim (deg)",
            "description_tooltip": null,
            "disabled": false,
            "layout": "IPY_MODEL_5dc2ef64e0d142e6a10b88a6a79a5a5f",
            "max": 180,
            "min": -180,
            "orientation": "horizontal",
            "readout": true,
            "readout_format": ".0f",
            "step": 1,
            "style": "IPY_MODEL_5e76d9b213654bf8aae9cc86c00fae09",
            "value": -90
          }
        },
        "eedfca37b5be4f6cb268c2d50d711404": {
          "model_module": "@jupyter-widgets/base",
          "model_name": "LayoutModel",
          "model_module_version": "1.2.0",
          "state": {
            "_model_module": "@jupyter-widgets/base",
            "_model_module_version": "1.2.0",
            "_model_name": "LayoutModel",
            "_view_count": null,
            "_view_module": "@jupyter-widgets/base",
            "_view_module_version": "1.2.0",
            "_view_name": "LayoutView",
            "align_content": null,
            "align_items": null,
            "align_self": null,
            "border": null,
            "bottom": null,
            "display": null,
            "flex": null,
            "flex_flow": null,
            "grid_area": null,
            "grid_auto_columns": null,
            "grid_auto_flow": null,
            "grid_auto_rows": null,
            "grid_column": null,
            "grid_gap": null,
            "grid_row": null,
            "grid_template_areas": null,
            "grid_template_columns": null,
            "grid_template_rows": null,
            "height": null,
            "justify_content": null,
            "justify_items": null,
            "left": null,
            "margin": null,
            "max_height": null,
            "max_width": null,
            "min_height": null,
            "min_width": null,
            "object_fit": null,
            "object_position": null,
            "order": null,
            "overflow": null,
            "overflow_x": null,
            "overflow_y": null,
            "padding": null,
            "right": null,
            "top": null,
            "visibility": null,
            "width": null
          }
        },
        "818b1490912a4356b4bf13c342bb8f2b": {
          "model_module": "@jupyter-widgets/base",
          "model_name": "LayoutModel",
          "model_module_version": "1.2.0",
          "state": {
            "_model_module": "@jupyter-widgets/base",
            "_model_module_version": "1.2.0",
            "_model_name": "LayoutModel",
            "_view_count": null,
            "_view_module": "@jupyter-widgets/base",
            "_view_module_version": "1.2.0",
            "_view_name": "LayoutView",
            "align_content": null,
            "align_items": null,
            "align_self": null,
            "border": null,
            "bottom": null,
            "display": null,
            "flex": null,
            "flex_flow": null,
            "grid_area": null,
            "grid_auto_columns": null,
            "grid_auto_flow": null,
            "grid_auto_rows": null,
            "grid_column": null,
            "grid_gap": null,
            "grid_row": null,
            "grid_template_areas": null,
            "grid_template_columns": null,
            "grid_template_rows": null,
            "height": "350px",
            "justify_content": null,
            "justify_items": null,
            "left": null,
            "margin": null,
            "max_height": null,
            "max_width": null,
            "min_height": null,
            "min_width": null,
            "object_fit": null,
            "object_position": null,
            "order": null,
            "overflow": null,
            "overflow_x": null,
            "overflow_y": null,
            "padding": null,
            "right": null,
            "top": null,
            "visibility": null,
            "width": null
          }
        },
        "bad4049b97eb455bb07ca0ab89c34abb": {
          "model_module": "@jupyter-widgets/controls",
          "model_name": "SliderStyleModel",
          "model_module_version": "1.5.0",
          "state": {
            "_model_module": "@jupyter-widgets/controls",
            "_model_module_version": "1.5.0",
            "_model_name": "SliderStyleModel",
            "_view_count": null,
            "_view_module": "@jupyter-widgets/base",
            "_view_module_version": "1.2.0",
            "_view_name": "StyleView",
            "description_width": "",
            "handle_color": null
          }
        },
        "2b64b4f901134282a2f35b3bc66780be": {
          "model_module": "@jupyter-widgets/base",
          "model_name": "LayoutModel",
          "model_module_version": "1.2.0",
          "state": {
            "_model_module": "@jupyter-widgets/base",
            "_model_module_version": "1.2.0",
            "_model_name": "LayoutModel",
            "_view_count": null,
            "_view_module": "@jupyter-widgets/base",
            "_view_module_version": "1.2.0",
            "_view_name": "LayoutView",
            "align_content": null,
            "align_items": null,
            "align_self": null,
            "border": null,
            "bottom": null,
            "display": null,
            "flex": null,
            "flex_flow": null,
            "grid_area": null,
            "grid_auto_columns": null,
            "grid_auto_flow": null,
            "grid_auto_rows": null,
            "grid_column": null,
            "grid_gap": null,
            "grid_row": null,
            "grid_template_areas": null,
            "grid_template_columns": null,
            "grid_template_rows": null,
            "height": null,
            "justify_content": null,
            "justify_items": null,
            "left": null,
            "margin": null,
            "max_height": null,
            "max_width": null,
            "min_height": null,
            "min_width": null,
            "object_fit": null,
            "object_position": null,
            "order": null,
            "overflow": null,
            "overflow_x": null,
            "overflow_y": null,
            "padding": null,
            "right": null,
            "top": null,
            "visibility": null,
            "width": null
          }
        },
        "ccbdfc68cbe342dfa5c5b20b4a775e56": {
          "model_module": "@jupyter-widgets/controls",
          "model_name": "SliderStyleModel",
          "model_module_version": "1.5.0",
          "state": {
            "_model_module": "@jupyter-widgets/controls",
            "_model_module_version": "1.5.0",
            "_model_name": "SliderStyleModel",
            "_view_count": null,
            "_view_module": "@jupyter-widgets/base",
            "_view_module_version": "1.2.0",
            "_view_name": "StyleView",
            "description_width": "",
            "handle_color": null
          }
        },
        "599936499eff46cf85ca83002a365e81": {
          "model_module": "@jupyter-widgets/base",
          "model_name": "LayoutModel",
          "model_module_version": "1.2.0",
          "state": {
            "_model_module": "@jupyter-widgets/base",
            "_model_module_version": "1.2.0",
            "_model_name": "LayoutModel",
            "_view_count": null,
            "_view_module": "@jupyter-widgets/base",
            "_view_module_version": "1.2.0",
            "_view_name": "LayoutView",
            "align_content": null,
            "align_items": null,
            "align_self": null,
            "border": null,
            "bottom": null,
            "display": null,
            "flex": null,
            "flex_flow": null,
            "grid_area": null,
            "grid_auto_columns": null,
            "grid_auto_flow": null,
            "grid_auto_rows": null,
            "grid_column": null,
            "grid_gap": null,
            "grid_row": null,
            "grid_template_areas": null,
            "grid_template_columns": null,
            "grid_template_rows": null,
            "height": null,
            "justify_content": null,
            "justify_items": null,
            "left": null,
            "margin": null,
            "max_height": null,
            "max_width": null,
            "min_height": null,
            "min_width": null,
            "object_fit": null,
            "object_position": null,
            "order": null,
            "overflow": null,
            "overflow_x": null,
            "overflow_y": null,
            "padding": null,
            "right": null,
            "top": null,
            "visibility": null,
            "width": null
          }
        },
        "e769fd38a3894a6cb5f6e6d37bf340f9": {
          "model_module": "@jupyter-widgets/controls",
          "model_name": "SliderStyleModel",
          "model_module_version": "1.5.0",
          "state": {
            "_model_module": "@jupyter-widgets/controls",
            "_model_module_version": "1.5.0",
            "_model_name": "SliderStyleModel",
            "_view_count": null,
            "_view_module": "@jupyter-widgets/base",
            "_view_module_version": "1.2.0",
            "_view_name": "StyleView",
            "description_width": "",
            "handle_color": null
          }
        },
        "cf936a98a68049f4bc29c6791f8593f4": {
          "model_module": "@jupyter-widgets/base",
          "model_name": "LayoutModel",
          "model_module_version": "1.2.0",
          "state": {
            "_model_module": "@jupyter-widgets/base",
            "_model_module_version": "1.2.0",
            "_model_name": "LayoutModel",
            "_view_count": null,
            "_view_module": "@jupyter-widgets/base",
            "_view_module_version": "1.2.0",
            "_view_name": "LayoutView",
            "align_content": null,
            "align_items": null,
            "align_self": null,
            "border": null,
            "bottom": null,
            "display": null,
            "flex": null,
            "flex_flow": null,
            "grid_area": null,
            "grid_auto_columns": null,
            "grid_auto_flow": null,
            "grid_auto_rows": null,
            "grid_column": null,
            "grid_gap": null,
            "grid_row": null,
            "grid_template_areas": null,
            "grid_template_columns": null,
            "grid_template_rows": null,
            "height": null,
            "justify_content": null,
            "justify_items": null,
            "left": null,
            "margin": null,
            "max_height": null,
            "max_width": null,
            "min_height": null,
            "min_width": null,
            "object_fit": null,
            "object_position": null,
            "order": null,
            "overflow": null,
            "overflow_x": null,
            "overflow_y": null,
            "padding": null,
            "right": null,
            "top": null,
            "visibility": null,
            "width": null
          }
        },
        "833334ceeeff4d95a6d50055170a39f4": {
          "model_module": "@jupyter-widgets/controls",
          "model_name": "SliderStyleModel",
          "model_module_version": "1.5.0",
          "state": {
            "_model_module": "@jupyter-widgets/controls",
            "_model_module_version": "1.5.0",
            "_model_name": "SliderStyleModel",
            "_view_count": null,
            "_view_module": "@jupyter-widgets/base",
            "_view_module_version": "1.2.0",
            "_view_name": "StyleView",
            "description_width": "",
            "handle_color": null
          }
        },
        "3fc7b48d14af4460a8c88ffb5ca87770": {
          "model_module": "@jupyter-widgets/base",
          "model_name": "LayoutModel",
          "model_module_version": "1.2.0",
          "state": {
            "_model_module": "@jupyter-widgets/base",
            "_model_module_version": "1.2.0",
            "_model_name": "LayoutModel",
            "_view_count": null,
            "_view_module": "@jupyter-widgets/base",
            "_view_module_version": "1.2.0",
            "_view_name": "LayoutView",
            "align_content": null,
            "align_items": null,
            "align_self": null,
            "border": null,
            "bottom": null,
            "display": null,
            "flex": null,
            "flex_flow": null,
            "grid_area": null,
            "grid_auto_columns": null,
            "grid_auto_flow": null,
            "grid_auto_rows": null,
            "grid_column": null,
            "grid_gap": null,
            "grid_row": null,
            "grid_template_areas": null,
            "grid_template_columns": null,
            "grid_template_rows": null,
            "height": null,
            "justify_content": null,
            "justify_items": null,
            "left": null,
            "margin": null,
            "max_height": null,
            "max_width": null,
            "min_height": null,
            "min_width": null,
            "object_fit": null,
            "object_position": null,
            "order": null,
            "overflow": null,
            "overflow_x": null,
            "overflow_y": null,
            "padding": null,
            "right": null,
            "top": null,
            "visibility": null,
            "width": null
          }
        },
        "0c72c89ad7d94f3cb979a919fe856698": {
          "model_module": "@jupyter-widgets/controls",
          "model_name": "SliderStyleModel",
          "model_module_version": "1.5.0",
          "state": {
            "_model_module": "@jupyter-widgets/controls",
            "_model_module_version": "1.5.0",
            "_model_name": "SliderStyleModel",
            "_view_count": null,
            "_view_module": "@jupyter-widgets/base",
            "_view_module_version": "1.2.0",
            "_view_name": "StyleView",
            "description_width": "",
            "handle_color": null
          }
        },
        "b8fe01e7d25c4b65ba648dc2d3b3261c": {
          "model_module": "@jupyter-widgets/base",
          "model_name": "LayoutModel",
          "model_module_version": "1.2.0",
          "state": {
            "_model_module": "@jupyter-widgets/base",
            "_model_module_version": "1.2.0",
            "_model_name": "LayoutModel",
            "_view_count": null,
            "_view_module": "@jupyter-widgets/base",
            "_view_module_version": "1.2.0",
            "_view_name": "LayoutView",
            "align_content": null,
            "align_items": null,
            "align_self": null,
            "border": null,
            "bottom": null,
            "display": null,
            "flex": null,
            "flex_flow": null,
            "grid_area": null,
            "grid_auto_columns": null,
            "grid_auto_flow": null,
            "grid_auto_rows": null,
            "grid_column": null,
            "grid_gap": null,
            "grid_row": null,
            "grid_template_areas": null,
            "grid_template_columns": null,
            "grid_template_rows": null,
            "height": null,
            "justify_content": null,
            "justify_items": null,
            "left": null,
            "margin": null,
            "max_height": null,
            "max_width": null,
            "min_height": null,
            "min_width": null,
            "object_fit": null,
            "object_position": null,
            "order": null,
            "overflow": null,
            "overflow_x": null,
            "overflow_y": null,
            "padding": null,
            "right": null,
            "top": null,
            "visibility": null,
            "width": null
          }
        },
        "caf62b5ee3b447219a83ddcdf8cdd2ac": {
          "model_module": "@jupyter-widgets/controls",
          "model_name": "SliderStyleModel",
          "model_module_version": "1.5.0",
          "state": {
            "_model_module": "@jupyter-widgets/controls",
            "_model_module_version": "1.5.0",
            "_model_name": "SliderStyleModel",
            "_view_count": null,
            "_view_module": "@jupyter-widgets/base",
            "_view_module_version": "1.2.0",
            "_view_name": "StyleView",
            "description_width": "",
            "handle_color": null
          }
        },
        "eb89ab3daf8a4b0fbf07b425aee7b7e9": {
          "model_module": "@jupyter-widgets/base",
          "model_name": "LayoutModel",
          "model_module_version": "1.2.0",
          "state": {
            "_model_module": "@jupyter-widgets/base",
            "_model_module_version": "1.2.0",
            "_model_name": "LayoutModel",
            "_view_count": null,
            "_view_module": "@jupyter-widgets/base",
            "_view_module_version": "1.2.0",
            "_view_name": "LayoutView",
            "align_content": null,
            "align_items": null,
            "align_self": null,
            "border": null,
            "bottom": null,
            "display": null,
            "flex": null,
            "flex_flow": null,
            "grid_area": null,
            "grid_auto_columns": null,
            "grid_auto_flow": null,
            "grid_auto_rows": null,
            "grid_column": null,
            "grid_gap": null,
            "grid_row": null,
            "grid_template_areas": null,
            "grid_template_columns": null,
            "grid_template_rows": null,
            "height": null,
            "justify_content": null,
            "justify_items": null,
            "left": null,
            "margin": null,
            "max_height": null,
            "max_width": null,
            "min_height": null,
            "min_width": null,
            "object_fit": null,
            "object_position": null,
            "order": null,
            "overflow": null,
            "overflow_x": null,
            "overflow_y": null,
            "padding": null,
            "right": null,
            "top": null,
            "visibility": null,
            "width": null
          }
        },
        "b22b486bde244b8aa39b2dd56c3c5cda": {
          "model_module": "@jupyter-widgets/controls",
          "model_name": "SliderStyleModel",
          "model_module_version": "1.5.0",
          "state": {
            "_model_module": "@jupyter-widgets/controls",
            "_model_module_version": "1.5.0",
            "_model_name": "SliderStyleModel",
            "_view_count": null,
            "_view_module": "@jupyter-widgets/base",
            "_view_module_version": "1.2.0",
            "_view_name": "StyleView",
            "description_width": "",
            "handle_color": null
          }
        },
        "5dc2ef64e0d142e6a10b88a6a79a5a5f": {
          "model_module": "@jupyter-widgets/base",
          "model_name": "LayoutModel",
          "model_module_version": "1.2.0",
          "state": {
            "_model_module": "@jupyter-widgets/base",
            "_model_module_version": "1.2.0",
            "_model_name": "LayoutModel",
            "_view_count": null,
            "_view_module": "@jupyter-widgets/base",
            "_view_module_version": "1.2.0",
            "_view_name": "LayoutView",
            "align_content": null,
            "align_items": null,
            "align_self": null,
            "border": null,
            "bottom": null,
            "display": null,
            "flex": null,
            "flex_flow": null,
            "grid_area": null,
            "grid_auto_columns": null,
            "grid_auto_flow": null,
            "grid_auto_rows": null,
            "grid_column": null,
            "grid_gap": null,
            "grid_row": null,
            "grid_template_areas": null,
            "grid_template_columns": null,
            "grid_template_rows": null,
            "height": null,
            "justify_content": null,
            "justify_items": null,
            "left": null,
            "margin": null,
            "max_height": null,
            "max_width": null,
            "min_height": null,
            "min_width": null,
            "object_fit": null,
            "object_position": null,
            "order": null,
            "overflow": null,
            "overflow_x": null,
            "overflow_y": null,
            "padding": null,
            "right": null,
            "top": null,
            "visibility": null,
            "width": "500px"
          }
        },
        "5e76d9b213654bf8aae9cc86c00fae09": {
          "model_module": "@jupyter-widgets/controls",
          "model_name": "SliderStyleModel",
          "model_module_version": "1.5.0",
          "state": {
            "_model_module": "@jupyter-widgets/controls",
            "_model_module_version": "1.5.0",
            "_model_name": "SliderStyleModel",
            "_view_count": null,
            "_view_module": "@jupyter-widgets/base",
            "_view_module_version": "1.2.0",
            "_view_name": "StyleView",
            "description_width": "",
            "handle_color": null
          }
        },
        "db9be109274b4ce5afd37edad3390e0d": {
          "model_module": "@jupyter-widgets/base",
          "model_name": "LayoutModel",
          "model_module_version": "1.2.0",
          "state": {
            "_model_module": "@jupyter-widgets/base",
            "_model_module_version": "1.2.0",
            "_model_name": "LayoutModel",
            "_view_count": null,
            "_view_module": "@jupyter-widgets/base",
            "_view_module_version": "1.2.0",
            "_view_name": "LayoutView",
            "align_content": null,
            "align_items": null,
            "align_self": null,
            "border": null,
            "bottom": null,
            "display": null,
            "flex": null,
            "flex_flow": null,
            "grid_area": null,
            "grid_auto_columns": null,
            "grid_auto_flow": null,
            "grid_auto_rows": null,
            "grid_column": null,
            "grid_gap": null,
            "grid_row": null,
            "grid_template_areas": null,
            "grid_template_columns": null,
            "grid_template_rows": null,
            "height": null,
            "justify_content": null,
            "justify_items": null,
            "left": null,
            "margin": null,
            "max_height": null,
            "max_width": null,
            "min_height": null,
            "min_width": null,
            "object_fit": null,
            "object_position": null,
            "order": null,
            "overflow": null,
            "overflow_x": null,
            "overflow_y": null,
            "padding": null,
            "right": null,
            "top": null,
            "visibility": null,
            "width": null
          }
        },
        "866f14fa21d44e0f8f4e33d5db4bd4b6": {
          "model_module": "@jupyter-widgets/controls",
          "model_name": "VBoxModel",
          "model_module_version": "1.5.0",
          "state": {
            "_dom_classes": [],
            "_model_module": "@jupyter-widgets/controls",
            "_model_module_version": "1.5.0",
            "_model_name": "VBoxModel",
            "_view_count": null,
            "_view_module": "@jupyter-widgets/controls",
            "_view_module_version": "1.5.0",
            "_view_name": "VBoxView",
            "box_style": "",
            "children": [
              "IPY_MODEL_e457f6404a3946b489c021577d8efe16",
              "IPY_MODEL_c0152d8590ab4b9f94e32e048158c3d9"
            ],
            "layout": "IPY_MODEL_22b8972e04ea4ff9b95552f013d4edc0"
          }
        },
        "e457f6404a3946b489c021577d8efe16": {
          "model_module": "@jupyter-widgets/controls",
          "model_name": "ToggleButtonsModel",
          "model_module_version": "1.5.0",
          "state": {
            "_dom_classes": [],
            "_model_module": "@jupyter-widgets/controls",
            "_model_module_version": "1.5.0",
            "_model_name": "ToggleButtonsModel",
            "_options_labels": [
              "Soma",
              "Apical tuft (proximal)"
            ],
            "_view_count": null,
            "_view_module": "@jupyter-widgets/controls",
            "_view_module_version": "1.5.0",
            "_view_name": "ToggleButtonsView",
            "button_style": "",
            "description": "",
            "description_tooltip": null,
            "disabled": false,
            "icons": [],
            "index": 1,
            "layout": "IPY_MODEL_ee0b67bb408c439b9885f483b5d7bfc5",
            "style": "IPY_MODEL_441d8c8630f940a4bdaffa09b9af7ad2",
            "tooltips": []
          }
        },
        "c0152d8590ab4b9f94e32e048158c3d9": {
          "model_module": "@jupyter-widgets/controls",
          "model_name": "HBoxModel",
          "model_module_version": "1.5.0",
          "state": {
            "_dom_classes": [],
            "_model_module": "@jupyter-widgets/controls",
            "_model_module_version": "1.5.0",
            "_model_name": "HBoxModel",
            "_view_count": null,
            "_view_module": "@jupyter-widgets/controls",
            "_view_module_version": "1.5.0",
            "_view_name": "HBoxView",
            "box_style": "",
            "children": [
              "IPY_MODEL_111fad8a589a4a2a899cbb4b5f798e09",
              "IPY_MODEL_f95c9be432dd446f8076fad31aed0374"
            ],
            "layout": "IPY_MODEL_a60426587d114c10b0ec87728c9164f8"
          }
        },
        "22b8972e04ea4ff9b95552f013d4edc0": {
          "model_module": "@jupyter-widgets/base",
          "model_name": "LayoutModel",
          "model_module_version": "1.2.0",
          "state": {
            "_model_module": "@jupyter-widgets/base",
            "_model_module_version": "1.2.0",
            "_model_name": "LayoutModel",
            "_view_count": null,
            "_view_module": "@jupyter-widgets/base",
            "_view_module_version": "1.2.0",
            "_view_name": "LayoutView",
            "align_content": null,
            "align_items": null,
            "align_self": null,
            "border": null,
            "bottom": null,
            "display": null,
            "flex": null,
            "flex_flow": null,
            "grid_area": null,
            "grid_auto_columns": null,
            "grid_auto_flow": null,
            "grid_auto_rows": null,
            "grid_column": null,
            "grid_gap": null,
            "grid_row": null,
            "grid_template_areas": null,
            "grid_template_columns": null,
            "grid_template_rows": null,
            "height": null,
            "justify_content": null,
            "justify_items": null,
            "left": null,
            "margin": null,
            "max_height": null,
            "max_width": null,
            "min_height": null,
            "min_width": null,
            "object_fit": null,
            "object_position": null,
            "order": null,
            "overflow": null,
            "overflow_x": null,
            "overflow_y": null,
            "padding": null,
            "right": null,
            "top": null,
            "visibility": null,
            "width": null
          }
        },
        "ee0b67bb408c439b9885f483b5d7bfc5": {
          "model_module": "@jupyter-widgets/base",
          "model_name": "LayoutModel",
          "model_module_version": "1.2.0",
          "state": {
            "_model_module": "@jupyter-widgets/base",
            "_model_module_version": "1.2.0",
            "_model_name": "LayoutModel",
            "_view_count": null,
            "_view_module": "@jupyter-widgets/base",
            "_view_module_version": "1.2.0",
            "_view_name": "LayoutView",
            "align_content": null,
            "align_items": null,
            "align_self": null,
            "border": null,
            "bottom": null,
            "display": null,
            "flex": null,
            "flex_flow": null,
            "grid_area": null,
            "grid_auto_columns": null,
            "grid_auto_flow": null,
            "grid_auto_rows": null,
            "grid_column": null,
            "grid_gap": null,
            "grid_row": null,
            "grid_template_areas": null,
            "grid_template_columns": null,
            "grid_template_rows": null,
            "height": null,
            "justify_content": null,
            "justify_items": null,
            "left": null,
            "margin": null,
            "max_height": null,
            "max_width": null,
            "min_height": null,
            "min_width": null,
            "object_fit": null,
            "object_position": null,
            "order": null,
            "overflow": null,
            "overflow_x": null,
            "overflow_y": null,
            "padding": null,
            "right": null,
            "top": null,
            "visibility": null,
            "width": null
          }
        },
        "441d8c8630f940a4bdaffa09b9af7ad2": {
          "model_module": "@jupyter-widgets/controls",
          "model_name": "ToggleButtonsStyleModel",
          "model_module_version": "1.5.0",
          "state": {
            "_model_module": "@jupyter-widgets/controls",
            "_model_module_version": "1.5.0",
            "_model_name": "ToggleButtonsStyleModel",
            "_view_count": null,
            "_view_module": "@jupyter-widgets/base",
            "_view_module_version": "1.2.0",
            "_view_name": "StyleView",
            "button_width": "",
            "description_width": "",
            "font_weight": ""
          }
        },
        "111fad8a589a4a2a899cbb4b5f798e09": {
          "model_module": "@jupyter-widgets/controls",
          "model_name": "LabelModel",
          "model_module_version": "1.5.0",
          "state": {
            "_dom_classes": [],
            "_model_module": "@jupyter-widgets/controls",
            "_model_module_version": "1.5.0",
            "_model_name": "LabelModel",
            "_view_count": null,
            "_view_module": "@jupyter-widgets/controls",
            "_view_module_version": "1.5.0",
            "_view_name": "LabelView",
            "description": "",
            "description_tooltip": null,
            "layout": "IPY_MODEL_f9afdd1fafe04d8ebbb25122874589b8",
            "placeholder": "​",
            "style": "IPY_MODEL_2e8dd45525874ce0bffec1e20c598f0a",
            "value": "Synapse maximal conductance (uS)"
          }
        },
        "f95c9be432dd446f8076fad31aed0374": {
          "model_module": "@jupyter-widgets/controls",
          "model_name": "FloatSliderModel",
          "model_module_version": "1.5.0",
          "state": {
            "_dom_classes": [],
            "_model_module": "@jupyter-widgets/controls",
            "_model_module_version": "1.5.0",
            "_model_name": "FloatSliderModel",
            "_view_count": null,
            "_view_module": "@jupyter-widgets/controls",
            "_view_module_version": "1.5.0",
            "_view_name": "FloatSliderView",
            "continuous_update": true,
            "description": "",
            "description_tooltip": null,
            "disabled": false,
            "layout": "IPY_MODEL_693706ceda934f2b9de667ba9d0980ea",
            "max": 0.1,
            "min": 0,
            "orientation": "horizontal",
            "readout": true,
            "readout_format": ".4f",
            "step": 0.0002,
            "style": "IPY_MODEL_24dba1ff0749486e8f3e2c8895f734fc",
            "value": 0.1
          }
        },
        "a60426587d114c10b0ec87728c9164f8": {
          "model_module": "@jupyter-widgets/base",
          "model_name": "LayoutModel",
          "model_module_version": "1.2.0",
          "state": {
            "_model_module": "@jupyter-widgets/base",
            "_model_module_version": "1.2.0",
            "_model_name": "LayoutModel",
            "_view_count": null,
            "_view_module": "@jupyter-widgets/base",
            "_view_module_version": "1.2.0",
            "_view_name": "LayoutView",
            "align_content": null,
            "align_items": null,
            "align_self": null,
            "border": null,
            "bottom": null,
            "display": null,
            "flex": null,
            "flex_flow": null,
            "grid_area": null,
            "grid_auto_columns": null,
            "grid_auto_flow": null,
            "grid_auto_rows": null,
            "grid_column": null,
            "grid_gap": null,
            "grid_row": null,
            "grid_template_areas": null,
            "grid_template_columns": null,
            "grid_template_rows": null,
            "height": null,
            "justify_content": null,
            "justify_items": null,
            "left": null,
            "margin": null,
            "max_height": null,
            "max_width": null,
            "min_height": null,
            "min_width": null,
            "object_fit": null,
            "object_position": null,
            "order": null,
            "overflow": null,
            "overflow_x": null,
            "overflow_y": null,
            "padding": null,
            "right": null,
            "top": null,
            "visibility": null,
            "width": null
          }
        },
        "f9afdd1fafe04d8ebbb25122874589b8": {
          "model_module": "@jupyter-widgets/base",
          "model_name": "LayoutModel",
          "model_module_version": "1.2.0",
          "state": {
            "_model_module": "@jupyter-widgets/base",
            "_model_module_version": "1.2.0",
            "_model_name": "LayoutModel",
            "_view_count": null,
            "_view_module": "@jupyter-widgets/base",
            "_view_module_version": "1.2.0",
            "_view_name": "LayoutView",
            "align_content": null,
            "align_items": null,
            "align_self": null,
            "border": null,
            "bottom": null,
            "display": null,
            "flex": null,
            "flex_flow": null,
            "grid_area": null,
            "grid_auto_columns": null,
            "grid_auto_flow": null,
            "grid_auto_rows": null,
            "grid_column": null,
            "grid_gap": null,
            "grid_row": null,
            "grid_template_areas": null,
            "grid_template_columns": null,
            "grid_template_rows": null,
            "height": null,
            "justify_content": null,
            "justify_items": null,
            "left": null,
            "margin": null,
            "max_height": null,
            "max_width": null,
            "min_height": null,
            "min_width": null,
            "object_fit": null,
            "object_position": null,
            "order": null,
            "overflow": null,
            "overflow_x": null,
            "overflow_y": null,
            "padding": null,
            "right": null,
            "top": null,
            "visibility": null,
            "width": null
          }
        },
        "2e8dd45525874ce0bffec1e20c598f0a": {
          "model_module": "@jupyter-widgets/controls",
          "model_name": "DescriptionStyleModel",
          "model_module_version": "1.5.0",
          "state": {
            "_model_module": "@jupyter-widgets/controls",
            "_model_module_version": "1.5.0",
            "_model_name": "DescriptionStyleModel",
            "_view_count": null,
            "_view_module": "@jupyter-widgets/base",
            "_view_module_version": "1.2.0",
            "_view_name": "StyleView",
            "description_width": ""
          }
        },
        "693706ceda934f2b9de667ba9d0980ea": {
          "model_module": "@jupyter-widgets/base",
          "model_name": "LayoutModel",
          "model_module_version": "1.2.0",
          "state": {
            "_model_module": "@jupyter-widgets/base",
            "_model_module_version": "1.2.0",
            "_model_name": "LayoutModel",
            "_view_count": null,
            "_view_module": "@jupyter-widgets/base",
            "_view_module_version": "1.2.0",
            "_view_name": "LayoutView",
            "align_content": null,
            "align_items": null,
            "align_self": null,
            "border": null,
            "bottom": null,
            "display": null,
            "flex": null,
            "flex_flow": null,
            "grid_area": null,
            "grid_auto_columns": null,
            "grid_auto_flow": null,
            "grid_auto_rows": null,
            "grid_column": null,
            "grid_gap": null,
            "grid_row": null,
            "grid_template_areas": null,
            "grid_template_columns": null,
            "grid_template_rows": null,
            "height": null,
            "justify_content": null,
            "justify_items": null,
            "left": null,
            "margin": null,
            "max_height": null,
            "max_width": null,
            "min_height": null,
            "min_width": null,
            "object_fit": null,
            "object_position": null,
            "order": null,
            "overflow": null,
            "overflow_x": null,
            "overflow_y": null,
            "padding": null,
            "right": null,
            "top": null,
            "visibility": null,
            "width": null
          }
        },
        "24dba1ff0749486e8f3e2c8895f734fc": {
          "model_module": "@jupyter-widgets/controls",
          "model_name": "SliderStyleModel",
          "model_module_version": "1.5.0",
          "state": {
            "_model_module": "@jupyter-widgets/controls",
            "_model_module_version": "1.5.0",
            "_model_name": "SliderStyleModel",
            "_view_count": null,
            "_view_module": "@jupyter-widgets/base",
            "_view_module_version": "1.2.0",
            "_view_name": "StyleView",
            "description_width": "",
            "handle_color": null
          }
        }
      }
    }
  },
  "nbformat": 4,
  "nbformat_minor": 5
}