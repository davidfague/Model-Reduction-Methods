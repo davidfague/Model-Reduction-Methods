{
  "cells": [
    {
      "cell_type": "markdown",
      "metadata": {
        "id": "view-in-github",
        "colab_type": "text"
      },
      "source": [
        "<a href=\"https://colab.research.google.com/github/davidfague/Model_Reduction_Methods/blob/main/NMDASimulation.ipynb\" target=\"_parent\"><img src=\"https://colab.research.google.com/assets/colab-badge.svg\" alt=\"Open In Colab\"/></a>"
      ]
    },
    {
      "cell_type": "markdown",
      "id": "7a9de89f",
      "metadata": {
        "id": "7a9de89f"
      },
      "source": [
        "# Simulation for generating data for dendritic spike analysis\n",
        "##Recorded Currents:\n",
        "\n",
        "Na,K,Ca,ih,...\n",
        "\n",
        "## synapse distribution:\n",
        "\n",
        "10,000 random. will update to include more realistic algorithm"
      ]
    },
    {
      "cell_type": "markdown",
      "id": "MSX7LmGzszzf",
      "metadata": {
        "id": "MSX7LmGzszzf"
      },
      "source": [
        "#### Download modules from Github"
      ]
    },
    {
      "cell_type": "code",
      "source": [
        "!pip install neuron"
      ],
      "metadata": {
        "id": "-urE9jrxNdxm",
        "colab": {
          "base_uri": "https://localhost:8080/"
        },
        "outputId": "4f706bc3-cdd8-4110-9c41-4f871d5f1dd6"
      },
      "id": "-urE9jrxNdxm",
      "execution_count": 1,
      "outputs": [
        {
          "output_type": "stream",
          "name": "stdout",
          "text": [
            "Looking in indexes: https://pypi.org/simple, https://us-python.pkg.dev/colab-wheels/public/simple/\n",
            "Collecting neuron\n",
            "  Downloading NEURON-8.2.2-cp39-cp39-manylinux_2_17_x86_64.manylinux2014_x86_64.whl (15.0 MB)\n",
            "\u001b[2K     \u001b[90m━━━━━━━━━━━━━━━━━━━━━━━━━━━━━━━━━━━━━━━━\u001b[0m \u001b[32m15.0/15.0 MB\u001b[0m \u001b[31m43.8 MB/s\u001b[0m eta \u001b[36m0:00:00\u001b[0m\n",
            "\u001b[?25hRequirement already satisfied: numpy>=1.9.3 in /usr/local/lib/python3.9/dist-packages (from neuron) (1.22.4)\n",
            "Installing collected packages: neuron\n",
            "Successfully installed neuron-8.2.2\n"
          ]
        }
      ]
    },
    {
      "cell_type": "code",
      "source": [
        "!pip install neuron_reduce"
      ],
      "metadata": {
        "id": "BHjnRgPsN0g2",
        "colab": {
          "base_uri": "https://localhost:8080/"
        },
        "outputId": "81b114e1-5e17-4f9b-9323-9cd4ebf33631"
      },
      "id": "BHjnRgPsN0g2",
      "execution_count": 2,
      "outputs": [
        {
          "output_type": "stream",
          "name": "stdout",
          "text": [
            "Looking in indexes: https://pypi.org/simple, https://us-python.pkg.dev/colab-wheels/public/simple/\n",
            "Collecting neuron_reduce\n",
            "  Downloading neuron_reduce-0.0.7-py3-none-any.whl (18 kB)\n",
            "Installing collected packages: neuron_reduce\n",
            "Successfully installed neuron_reduce-0.0.7\n"
          ]
        }
      ]
    },
    {
      "cell_type": "code",
      "source": [
        "!git clone https://github.com/davidfague/Model_Reduction_Methods.git"
      ],
      "metadata": {
        "id": "t4dVzA0WLZ9F",
        "colab": {
          "base_uri": "https://localhost:8080/"
        },
        "outputId": "9d2d0da9-9e65-464e-ff21-3385c28d63bc"
      },
      "id": "t4dVzA0WLZ9F",
      "execution_count": 3,
      "outputs": [
        {
          "output_type": "stream",
          "name": "stdout",
          "text": [
            "Cloning into 'Model_Reduction_Methods'...\n",
            "remote: Enumerating objects: 814, done.\u001b[K\n",
            "remote: Counting objects: 100% (40/40), done.\u001b[K\n",
            "remote: Compressing objects: 100% (40/40), done.\u001b[K\n",
            "remote: Total 814 (delta 18), reused 0 (delta 0), pack-reused 774\u001b[K\n",
            "Receiving objects: 100% (814/814), 5.44 MiB | 14.86 MiB/s, done.\n",
            "Resolving deltas: 100% (447/447), done.\n"
          ]
        }
      ]
    },
    {
      "cell_type": "code",
      "source": [
        "%cd Model_Reduction_Methods/\n",
        "\n",
        "#import reduction and expansion functions\n",
        "from test_neuron_reduce.subtree_reductor_func import subtree_reductor\n",
        "from cable_expander_func import cable_expander\n",
        "\n",
        "#import recording functions\n",
        "from stylized_module.recorder import Recorder\n",
        "\n",
        "#import analysis functions\n",
        "from utils import make_seg_df,generate_stylized_geometry,make_reduced_seg_df,plot_morphology,check_connectivity,generate_reduced_cell_seg_coords, create_seg_var_report,plot_seg_heatmap\n",
        "\n",
        "\n",
        "# from modeling_module.synapses import Synapse, Listed_Synapse\n",
        "from modeling_module.cell_model import cell_model\n",
        "\n",
        "import pandas as pd"
      ],
      "metadata": {
        "id": "cY9U_KPwLVAz",
        "colab": {
          "base_uri": "https://localhost:8080/"
        },
        "outputId": "5195ed91-f8d6-4215-894e-83153101a0d8"
      },
      "id": "cY9U_KPwLVAz",
      "execution_count": 4,
      "outputs": [
        {
          "output_type": "stream",
          "name": "stdout",
          "text": [
            "/content/Model_Reduction_Methods\n"
          ]
        }
      ]
    },
    {
      "cell_type": "code",
      "source": [
        "%cd expand_example"
      ],
      "metadata": {
        "id": "vXTRrX-ILq6D",
        "colab": {
          "base_uri": "https://localhost:8080/"
        },
        "outputId": "2ab66f13-676a-4676-abcd-069b1ea1a172"
      },
      "id": "vXTRrX-ILq6D",
      "execution_count": 5,
      "outputs": [
        {
          "output_type": "stream",
          "name": "stdout",
          "text": [
            "/content/Model_Reduction_Methods/expand_example\n"
          ]
        }
      ]
    },
    {
      "cell_type": "code",
      "source": [
        "# compile the mod files\n",
        "!nrnivmodl mod"
      ],
      "metadata": {
        "id": "Dm-MdGeb6uZB",
        "colab": {
          "base_uri": "https://localhost:8080/"
        },
        "outputId": "2ed6da4e-7f6c-42c5-9a30-578311cb5893"
      },
      "id": "Dm-MdGeb6uZB",
      "execution_count": 6,
      "outputs": [
        {
          "output_type": "stream",
          "name": "stdout",
          "text": [
            "/content/Model_Reduction_Methods/expand_example\n",
            "Mod files: \"mod/mod/CaDynamics_E2.mod\" \"mod/mod/Ca_HVA.mod\" \"mod/mod/Ca_LVAst.mod\" \"mod/mod/epsp.mod\" \"mod/mod/Ih.mod\" \"mod/mod/Im.mod\" \"mod/mod/K_Pst.mod\" \"mod/mod/K_Tst.mod\" \"mod/mod/Nap_Et2.mod\" \"mod/mod/NaTa_t.mod\" \"mod/mod/NaTs2_t.mod\" \"mod/mod/SK_E2.mod\" \"mod/mod/SKv3_1.mod\"\n",
            "\n",
            "Creating 'x86_64' directory for .o files.\n",
            "\n",
            " -> \u001b[32mNMODL\u001b[0m ../mod/Ca_LVAst.mod\n",
            " -> \u001b[32mNMODL\u001b[0m ../mod/CaDynamics_E2.mod\n",
            " -> \u001b[32mNMODL\u001b[0m ../mod/Ca_HVA.mod\n",
            " -> \u001b[32mCompiling\u001b[0m mod_func.cpp\n",
            "Translating CaDynamics_E2.mod into /content/Model_Reduction_Methods/expand_example/x86_64/CaDynamics_E2.c\n",
            "Thread Safe\n",
            " -> \u001b[32mNMODL\u001b[0m ../mod/epsp.mod\n",
            "Translating Ca_HVA.mod into /content/Model_Reduction_Methods/expand_example/x86_64/Ca_HVA.c\n",
            "Translating Ca_LVAst.mod into /content/Model_Reduction_Methods/expand_example/x86_64/Ca_LVAst.c\n",
            "Thread Safe\n",
            "Thread Safe\n",
            " -> \u001b[32mNMODL\u001b[0m ../mod/Ih.mod\n",
            "Translating epsp.mod into /content/Model_Reduction_Methods/expand_example/x86_64/epsp.c\n",
            " -> \u001b[32mNMODL\u001b[0m ../mod/Im.mod\n",
            "Thread Safe\n",
            " -> \u001b[32mNMODL\u001b[0m ../mod/K_Pst.mod\n",
            "Translating Ih.mod into /content/Model_Reduction_Methods/expand_example/x86_64/Ih.c\n",
            "Thread Safe\n",
            " -> \u001b[32mNMODL\u001b[0m ../mod/K_Tst.mod\n",
            "Translating Im.mod into /content/Model_Reduction_Methods/expand_example/x86_64/Im.c\n",
            "Thread Safe\n",
            " -> \u001b[32mNMODL\u001b[0m ../mod/Nap_Et2.mod\n",
            "Translating K_Tst.mod into /content/Model_Reduction_Methods/expand_example/x86_64/K_Tst.c\n",
            "Translating K_Pst.mod into /content/Model_Reduction_Methods/expand_example/x86_64/K_Pst.c\n",
            "Thread Safe\n",
            "Thread Safe\n",
            " -> \u001b[32mNMODL\u001b[0m ../mod/NaTa_t.mod\n",
            " -> \u001b[32mNMODL\u001b[0m ../mod/NaTs2_t.mod\n",
            "Translating Nap_Et2.mod into /content/Model_Reduction_Methods/expand_example/x86_64/Nap_Et2.c\n",
            "Translating NaTs2_t.mod into /content/Model_Reduction_Methods/expand_example/x86_64/NaTs2_t.c\n",
            "Thread Safe\n",
            "Thread Safe\n",
            "Translating NaTa_t.mod into /content/Model_Reduction_Methods/expand_example/x86_64/NaTa_t.c\n",
            "Thread Safe\n",
            " -> \u001b[32mNMODL\u001b[0m ../mod/SK_E2.mod\n",
            " -> \u001b[32mNMODL\u001b[0m ../mod/SKv3_1.mod\n",
            "Translating SKv3_1.mod into /content/Model_Reduction_Methods/expand_example/x86_64/SKv3_1.c\n",
            "Translating SK_E2.mod into /content/Model_Reduction_Methods/expand_example/x86_64/SK_E2.c\n",
            "Thread Safe\n",
            "Thread Safe\n",
            " -> \u001b[32mCompiling\u001b[0m CaDynamics_E2.c\n",
            " -> \u001b[32mCompiling\u001b[0m Ca_HVA.c\n",
            " -> \u001b[32mCompiling\u001b[0m Ca_LVAst.c\n",
            " -> \u001b[32mCompiling\u001b[0m epsp.c\n",
            " -> \u001b[32mCompiling\u001b[0m Ih.c\n",
            " -> \u001b[32mCompiling\u001b[0m Im.c\n",
            " -> \u001b[32mCompiling\u001b[0m K_Pst.c\n",
            " -> \u001b[32mCompiling\u001b[0m K_Tst.c\n",
            " -> \u001b[32mCompiling\u001b[0m Nap_Et2.c\n",
            " -> \u001b[32mCompiling\u001b[0m NaTa_t.c\n",
            " -> \u001b[32mCompiling\u001b[0m NaTs2_t.c\n",
            " -> \u001b[32mCompiling\u001b[0m SK_E2.c\n",
            " -> \u001b[32mCompiling\u001b[0m SKv3_1.c\n",
            " => \u001b[32mLINKING\u001b[0m shared library ./libnrnmech.so\n",
            " => \u001b[32mLINKING\u001b[0m executable ./special LDFLAGS are:    -pthread\n",
            "Successfully created x86_64/special\n"
          ]
        }
      ]
    },
    {
      "cell_type": "markdown",
      "id": "2a84fbea",
      "metadata": {
        "id": "2a84fbea"
      },
      "source": [
        "## Setup smiulation parameters"
      ]
    },
    {
      "cell_type": "code",
      "execution_count": 7,
      "id": "4be7f6fd",
      "metadata": {
        "id": "4be7f6fd",
        "colab": {
          "base_uri": "https://localhost:8080/"
        },
        "outputId": "6cef13d0-e673-466e-cf2e-e9b33dd68cb3"
      },
      "outputs": [
        {
          "output_type": "execute_result",
          "data": {
            "text/plain": [
              "1.0"
            ]
          },
          "metadata": {},
          "execution_count": 7
        }
      ],
      "source": [
        "import numpy as np\n",
        "import pandas as pd\n",
        "import json\n",
        "import matplotlib.pyplot as plt\n",
        "import ipywidgets as widgets\n",
        "from neuron import h\n",
        "from scipy import signal\n",
        "from IPython.display import display, clear_output\n",
        "from ipywidgets import interactive_output, HBox, VBox, Label, Layout\n",
        "\n",
        "from __future__ import division\n",
        "from neuron import gui,h\n",
        "import numpy as np\n",
        "import time\n",
        "import matplotlib.pyplot as plt\n",
        "\n",
        "%matplotlib inline\n",
        "\n",
        "\n",
        "h.load_file('stdrun.hoc')\n",
        "# h.nrn_load_dll(paths.COMPILED_LIBRARY_REDUCED_ORDER)  # choose the set of mechanisms\n",
        "h.nrn_load_dll('./x86_64/.libs/libnrnmech.so')\n"
      ]
    },
    {
      "cell_type": "markdown",
      "id": "7927a07b",
      "metadata": {
        "id": "7927a07b"
      },
      "source": [
        "### Create a cell with reduced morphology"
      ]
    },
    {
      "cell_type": "code",
      "source": [
        "%ls"
      ],
      "metadata": {
        "id": "s0gis1f1OdWX",
        "colab": {
          "base_uri": "https://localhost:8080/"
        },
        "outputId": "4778dfd5-64e8-4178-e103-557335ec3c88"
      },
      "id": "s0gis1f1OdWX",
      "execution_count": 8,
      "outputs": [
        {
          "output_type": "stream",
          "name": "stdout",
          "text": [
            "cell1.asc  example_expand.py  L5PCtemplate.hoc  \u001b[0m\u001b[01;34mx86_64\u001b[0m/\n",
            "Cell.hoc   L5PCbiophys3.hoc   \u001b[01;34mmod\u001b[0m/\n"
          ]
        }
      ]
    },
    {
      "cell_type": "code",
      "source": [
        "# syn_to_netcon = {} # dictionary mapping netcons to their synapse\n",
        "# for netcon in netcons_list: #fill in dictionary\n",
        "#   syn = netcon.syn() # get the synapse that netcon points to\n",
        "#   if syn in syn_to_netcon:\n",
        "#       syn_to_netcon[syn].append(netcon) #add netcon to existing synapse key\n",
        "#   else:\n",
        "#       syn_to_netcon[syn] = [netcon] #create new synapse key using netcon as an item"
      ],
      "metadata": {
        "id": "xhFzHECCaoqe"
      },
      "id": "xhFzHECCaoqe",
      "execution_count": 9,
      "outputs": []
    },
    {
      "cell_type": "code",
      "source": [
        "# for netcon in syn_to_netcon[synapses_list[0]]:\n",
        "#   print(netcon)"
      ],
      "metadata": {
        "id": "lTzsFC_sbFqD"
      },
      "id": "lTzsFC_sbFqD",
      "execution_count": 10,
      "outputs": []
    },
    {
      "cell_type": "code",
      "execution_count": 11,
      "id": "18a97eeb",
      "metadata": {
        "id": "18a97eeb"
      },
      "outputs": [],
      "source": [
        "\n",
        "h.load_file('L5PCbiophys3.hoc') # load membrane biophysics\n",
        "h.load_file(\"import3d.hoc\") #load 3d morphology\n",
        "\n",
        "\n",
        "# Create a cell object\n",
        "h.load_file('L5PCtemplate.hoc') # load template for generating object\n",
        "complex_cell = h.L5PCtemplate('cell1.asc') # generate object\n",
        "\n",
        "#specify some parameters\n",
        "h.celsius = 37\n",
        "h.v_init = complex_cell.soma[0].e_pas\n",
        "\n",
        "#Add synapses to the complex model\n",
        "synapses_list, netstims_list, netcons_list, randoms_list = [], [], [] ,[]\n",
        "\n",
        "all_segments = [i for j in map(list,list(complex_cell.apical)) for i in j] #+ [i for j in map(list,list(complex_cell.basal)) for i in j]\n",
        "len_per_segment = np.array([seg.sec.L/seg.sec.nseg for seg in all_segments])\n",
        "rnd = np.random.RandomState(10)\n",
        "for i in range(10000):\n",
        "    seg_for_synapse = rnd.choice(all_segments,   p=len_per_segment/sum(len_per_segment)) #choose a random segment with probability based on the length of segment\n",
        "    synapses_list.append(h.Exp2Syn(seg_for_synapse))\n",
        "    if rnd.uniform()<0.85: # 85% synapses are excitatory\n",
        "        e_syn, tau1, tau2, spike_interval, syn_weight = 0, 0.3, 1.8,  1000/2.5, 0.0016\n",
        "    else: #inhibitory case\n",
        "        e_syn, tau1, tau2, spike_interval, syn_weight = -86, 1,   8,   1000/15.0, 0.0008\n",
        "    #set synaptic varibales\n",
        "    synapses_list[i].e, synapses_list[i].tau1, synapses_list[i].tau2 = e_syn, tau1, tau2\n",
        "    #set netstim variables\n",
        "    netstims_list.append(h.NetStim())\n",
        "    netstims_list[i].interval, netstims_list[i].number, netstims_list[i].start, netstims_list[i].noise = spike_interval, 9e9, 100, 1\n",
        "    #set random\n",
        "    randoms_list.append(h.Random())\n",
        "    randoms_list[i].Random123(i)\n",
        "    randoms_list[i].negexp(1)\n",
        "    netstims_list[i].noiseFromRandom(randoms_list[i])       \n",
        "    #set netcon varibales \n",
        "    netcons_list.append(h.NetCon(netstims_list[i], synapses_list[i] ))\n",
        "    netcons_list[i].delay, netcons_list[i].weight[0] = 0, syn_weight"
      ]
    },
    {
      "cell_type": "code",
      "source": [
        "#reduce each dendritic subtree to a single cable\n",
        "reduced_cell, synapses_list, netcons_list, txt = subtree_reductor(complex_cell, synapses_list, netcons_list, reduction_frequency=0,return_seg_to_seg=True)"
      ],
      "metadata": {
        "id": "o76VOo9ACebo"
      },
      "id": "o76VOo9ACebo",
      "execution_count": 12,
      "outputs": []
    },
    {
      "cell_type": "code",
      "source": [
        "#check synapses_list with netcons_list\n",
        "for netcon in netcons_list:\n",
        "  syn=netcon.syn()\n",
        "  if syn not in synapses_list:\n",
        "    print(syn, netcon)"
      ],
      "metadata": {
        "id": "eAWQMC4tGRFj"
      },
      "id": "eAWQMC4tGRFj",
      "execution_count": 13,
      "outputs": []
    },
    {
      "cell_type": "code",
      "source": [
        "#expand cables to idealized dendritic trees\n",
        "sections_to_expand = [reduced_cell.hoc_model.apic[0]] # expand apical cylinder\n",
        "furcations_x=[0.289004] #chose using the location of the mapped nexus branching segment\n",
        "nbranches=[4]\n",
        "reduced_dendritic_cell, synapses_list, netcons_list, txt = cable_expander(reduced_cell, sections_to_expand, furcations_x, nbranches, \n",
        "                                                                          synapses_list, netcons_list, reduction_frequency=0,return_seg_to_seg=True)"
      ],
      "metadata": {
        "id": "BQpLyTABCjWT",
        "outputId": "a70beda7-3ddb-4105-9d5d-b3dd57ae1443",
        "colab": {
          "base_uri": "https://localhost:8080/"
        }
      },
      "id": "BQpLyTABCjWT",
      "execution_count": 14,
      "outputs": [
        {
          "output_type": "stream",
          "name": "stdout",
          "text": [
            "trunk_diam: 3.7176523208618155 |trunk_length: 698.0975964944687 |branch_diam: 1.475351301247016 |branch_length: 1081.9141048660235\n"
          ]
        }
      ]
    },
    {
      "cell_type": "code",
      "source": [
        "#check synapses_list with netcons_list\n",
        "for netcon in netcons_list:\n",
        "  syn=netcon.syn()\n",
        "  if syn not in synapses_list:\n",
        "    print(syn, netcon)"
      ],
      "metadata": {
        "id": "HlRaujdIGUqF"
      },
      "id": "HlRaujdIGUqF",
      "execution_count": 15,
      "outputs": []
    },
    {
      "cell_type": "code",
      "source": [
        "# # try branching the branches - does not work yet\n",
        "# sections_to_expand = [reduced_dendritic_cell.apic[1],reduced_dendritic_cell.apic[2],reduced_dendritic_cell.apic[3],reduced_dendritic_cell.apic[4]]\n",
        "# furcations_x=[0.50,0.50,0.50,0.50]\n",
        "# nbranches=[4,4,4,4]\n",
        "# reduced_dendritic_cell, synapses_list, netcons_list, txt = cable_expander(reduced_dendritic_cell, sections_to_expand, furcations_x, nbranches, \n",
        "#                                                                           synapses_list, netcons_list, reduction_frequency=0,return_seg_to_seg=True)"
      ],
      "metadata": {
        "id": "1Ap8Gp-mCm-4"
      },
      "id": "1Ap8Gp-mCm-4",
      "execution_count": 16,
      "outputs": []
    },
    {
      "cell_type": "code",
      "source": [
        "#check seg mapping\n",
        "# for i in txt:\n",
        "#   print(i,\"was mapped to\",txt[i])"
      ],
      "metadata": {
        "id": "LPXtOiycci5T"
      },
      "id": "LPXtOiycci5T",
      "execution_count": 17,
      "outputs": []
    },
    {
      "cell_type": "code",
      "source": [
        "#use defined cell_model python class for generating 3d coordinates, recording ECP, 'book-keeping' etc...\n",
        "import random\n",
        "random.seed(2)\n",
        "cell = cell_model(reduced_dendritic_cell,synapses_list=synapses_list,netcons_list=netcons_list,spike_threshold = 10)\n",
        "# cell._nbranch=4"
      ],
      "metadata": {
        "id": "NndM90Z9SrU7",
        "outputId": "b32d6291-8dfe-4322-d4e2-48caafd725c4",
        "colab": {
          "base_uri": "https://localhost:8080/"
        }
      },
      "id": "NndM90Z9SrU7",
      "execution_count": 18,
      "outputs": [
        {
          "output_type": "stream",
          "name": "stdout",
          "text": [
            "Warning:  Exp2Syn[235] does not have any netcons pointing at it. if synapse is None then deleted synapse may be stored in synapses_list\n",
            "Warning:  Exp2Syn[10068] does not have any netcons pointing at it. if synapse is None then deleted synapse may be stored in synapses_list\n"
          ]
        }
      ]
    },
    {
      "cell_type": "markdown",
      "source": [
        "Warning message comes from random chance that synapse did not recieve a netcon after redistributing from single cable to equivalent branches."
      ],
      "metadata": {
        "id": "mMIwx7oPfaZ2"
      },
      "id": "mMIwx7oPfaZ2"
    },
    {
      "cell_type": "code",
      "source": [
        "def get_syn_to_netcons(netcons_list):\n",
        "    syn_to_netcon = {} # dictionary mapping netcons to their synapse\n",
        "    for netcon in netcons_list: #fill in dictionary\n",
        "      syn = netcon.syn() # get the synapse that netcon points to\n",
        "      if syn in syn_to_netcon:\n",
        "          syn_to_netcon[syn].append(netcon) #add netcon to existing synapse key\n",
        "      else:\n",
        "          syn_to_netcon[syn] = [netcon] #create new synapse key using netcon as an item\n",
        "    return syn_to_netcon\n",
        "\n",
        "syn_to_netcon=get_syn_to_netcons(netcons_list)"
      ],
      "metadata": {
        "id": "1V-HNkx5fIbK"
      },
      "id": "1V-HNkx5fIbK",
      "execution_count": 19,
      "outputs": []
    },
    {
      "cell_type": "code",
      "source": [
        "# for sec in cell.apic:\n",
        "#   if sec is not cell.apic[0]:\n",
        "#     print(sec)\n",
        "#     for seg in sec:\n",
        "#       for synapse in seg.point_processes():\n",
        "#         print(synapse)"
      ],
      "metadata": {
        "id": "x7dXBVOEelwl"
      },
      "id": "x7dXBVOEelwl",
      "execution_count": 20,
      "outputs": []
    },
    {
      "cell_type": "code",
      "source": [
        "# for sec in cell.all:\n",
        "#   for seg in sec:\n",
        "#     for pp in seg.point_processes():\n",
        "#       print(pp)"
      ],
      "metadata": {
        "id": "PkAbftjKU8wr"
      },
      "id": "PkAbftjKU8wr",
      "execution_count": 21,
      "outputs": []
    },
    {
      "cell_type": "code",
      "source": [
        "# #potentially deleted synapses?\n",
        "# for netcon in netcons_list:\n",
        "#   if netcon.syn() not in synapses_list:\n",
        "#     print(netcon)\n",
        "#     print(netcon.syn() in synapses_list)\n",
        "#     print(netcon.syn())"
      ],
      "metadata": {
        "id": "MQOphn2sWsw4"
      },
      "id": "MQOphn2sWsw4",
      "execution_count": 22,
      "outputs": []
    },
    {
      "cell_type": "code",
      "source": [
        "# for syn in synapses_list:\n",
        "#   print(syn,syn.get_segment().point_processes())"
      ],
      "metadata": {
        "id": "kOgZ9mciVC5Z"
      },
      "id": "kOgZ9mciVC5Z",
      "execution_count": 23,
      "outputs": []
    },
    {
      "cell_type": "code",
      "source": [
        "# #create second original model\n",
        "\n",
        "# original_cell = h.L5PCtemplate('cell1.asc')\n",
        "# synapses_list, netstims_list, netcons_list, randoms_list = [], [], [] ,[]\n",
        "\n",
        "# all_segments = [i for j in map(list,list(original_cell.apical)) for i in j] + [i for j in map(list,list(original_cell.basal)) for i in j]\n",
        "# len_per_segment = np.array([seg.sec.L/seg.sec.nseg for seg in all_segments])\n",
        "# rnd = np.random.RandomState(10)\n",
        "# for i in range(10000):\n",
        "#     seg_for_synapse = rnd.choice(all_segments,   p=len_per_segment/sum(len_per_segment)) #choose a random segment with probability based on the length of segment\n",
        "#     synapses_list.append(h.Exp2Syn(seg_for_synapse))\n",
        "#     if rnd.uniform()<0.85: # 85% synapses are excitatory\n",
        "#         e_syn, tau1, tau2, spike_interval, syn_weight = 0, 0.3, 1.8,  1000/2.5, 0.0016\n",
        "#     else: #inhibitory case\n",
        "#         e_syn, tau1, tau2, spike_interval, syn_weight = -86, 1,   8,   1000/15.0, 0.0008\n",
        "#     #set synaptic varibales\n",
        "#     synapses_list[i].e, synapses_list[i].tau1, synapses_list[i].tau2 = e_syn, tau1, tau2\n",
        "#     #set netstim variables\n",
        "#     netstims_list.append(h.NetStim())\n",
        "#     netstims_list[i].interval, netstims_list[i].number, netstims_list[i].start, netstims_list[i].noise = spike_interval, 9e9, 100, 1\n",
        "#     #set random\n",
        "#     randoms_list.append(h.Random())\n",
        "#     randoms_list[i].Random123(i)\n",
        "#     randoms_list[i].negexp(1)\n",
        "#     netstims_list[i].noiseFromRandom(randoms_list[i])       \n",
        "#     #set netcon varibales \n",
        "#     netcons_list.append(h.NetCon(netstims_list[i], synapses_list[i] ))\n",
        "#     netcons_list[i].delay, netcons_list[i].weight[0] = 0, syn_weight\n",
        "# original_model = cell_model(original_cell,gen_3d=False,spike_threshold = 10)\n",
        "# print(synapses_list)"
      ],
      "metadata": {
        "id": "kHCBMJHzUyAY"
      },
      "id": "kHCBMJHzUyAY",
      "execution_count": 24,
      "outputs": []
    },
    {
      "cell_type": "code",
      "source": [
        "make_reduced_seg_df(cell,\"segments_expanded.csv\") #need to improve make_reduced_seg_df\n",
        "expanded_segments_df=pd.read_csv(\"segments_expanded.csv\")\n",
        "\n",
        "# change to complex cell\n",
        "# make_reduced_seg_df(cell,\"segments_expanded.csv\") #need to improve make_reduced_seg_df\n",
        "# expanded_segments_df=pd.read_csv(\"segments_expanded.csv\")\n",
        "# plot_morphology(expanded_segments_df,\"expanded_morphology.svg\")"
      ],
      "metadata": {
        "id": "JjM51nSARop9"
      },
      "id": "JjM51nSARop9",
      "execution_count": 25,
      "outputs": []
    },
    {
      "cell_type": "code",
      "source": [
        "# dir(cell)"
      ],
      "metadata": {
        "id": "akYHQOGDKiW5"
      },
      "id": "akYHQOGDKiW5",
      "execution_count": 26,
      "outputs": []
    },
    {
      "cell_type": "code",
      "source": [
        "import os\n",
        "\n",
        "RunningInCOLAB = 'google.colab' in str(get_ipython())\n",
        "if RunningInCOLAB:\n",
        "    !pip install neuron==8.0.0 &> /dev/null\n",
        "    os.chdir('/content')\n",
        "    if not os.path.isdir('Stylized-Single-Cell-and-Extracellular-Potential'):\n",
        "        !git clone https://github.com/chenziao/Stylized-Single-Cell-and-Extracellular-Potential.git &> /dev/null \n",
        "    os.chdir('Stylized-Single-Cell-and-Extracellular-Potential')\n",
        "    %ls"
      ],
      "metadata": {
        "id": "D6vyubrwOvA_",
        "outputId": "7aaa4c84-245a-4750-d47c-074d3dc6e1c2",
        "colab": {
          "base_uri": "https://localhost:8080/"
        }
      },
      "id": "D6vyubrwOvA_",
      "execution_count": 27,
      "outputs": [
        {
          "output_type": "stream",
          "name": "stdout",
          "text": [
            "\u001b[0m\u001b[01;34mcell_inference\u001b[0m/  Stylized_Single_Cell_Extracellular_Potential_Tutorial.ipynb\n"
          ]
        }
      ]
    },
    {
      "cell_type": "code",
      "source": [
        "from typing import Union, List, Tuple\n",
        "\n",
        "\n",
        "class Recorder(object):\n",
        "    \"\"\"A module for recording variables\"\"\"\n",
        "\n",
        "    def __init__(self, obj_list: Union[object, List[object], Tuple[object], np.ndarray], var_name: str = 'v') -> None:\n",
        "        \"\"\"\n",
        "        obj_list: list of (or a single) target objects\n",
        "        var_name: string of variable to be recorded\n",
        "        \"\"\"\n",
        "        self.single = not isinstance(obj_list, (list, tuple, np.ndarray))\n",
        "        self.obj_list = obj_list\n",
        "        self.var_name = var_name\n",
        "        self.vectors = None\n",
        "        self.setup_recorder()\n",
        "\n",
        "    def setup_recorder(self) -> None:\n",
        "        size = [round(h.tstop / h.dt) + 1] if hasattr(h, 'tstop') else []\n",
        "        attr_name = '_ref_' + self.var_name\n",
        "        if self.single:\n",
        "            self.vectors = h.Vector(*size).record(getattr(self.obj_list, attr_name))\n",
        "        else:\n",
        "            self.vectors = [h.Vector(*size).record(getattr(obj, attr_name)) for obj in self.obj_list]\n",
        "\n",
        "    def as_numpy(self, copy: bool = True) -> np.ndarray:\n",
        "        \"\"\"\n",
        "        Return a numpy 2d-array of recording, n objects-by-time\n",
        "        Return a 1d-array if a single object is being recorded\n",
        "        \"\"\"\n",
        "        if self.single:\n",
        "            x = self.vectors.as_numpy()\n",
        "        else:\n",
        "            x = np.array([v.as_numpy() for v in self.vectors])\n",
        "        if copy:\n",
        "            x = x.copy()\n",
        "        return x"
      ],
      "metadata": {
        "id": "H-rE_7J2QNsd"
      },
      "id": "H-rE_7J2QNsd",
      "execution_count": 28,
      "outputs": []
    },
    {
      "cell_type": "code",
      "source": [
        "#insert unused channels for recorder\n",
        "for sec in cell.all:\n",
        "  if not hasattr(sec(0.5),'gNaTa_t_NaTa_t'):\n",
        "    sec.insert('NaTa_t')\n",
        "    for seg in sec:\n",
        "      seg.NaTa_t.gNaTa_tbar=0\n",
        "    print(sec)"
      ],
      "metadata": {
        "id": "ln05q5x0GGIO",
        "outputId": "6391ca40-5c69-43d2-d891-57ce6c64ec6a",
        "colab": {
          "base_uri": "https://localhost:8080/"
        }
      },
      "id": "ln05q5x0GGIO",
      "execution_count": 29,
      "outputs": [
        {
          "output_type": "stream",
          "name": "stdout",
          "text": [
            "model[0].dend[0]\n",
            "model[0].dend[1]\n",
            "model[0].dend[2]\n",
            "model[0].dend[3]\n",
            "model[0].dend[4]\n",
            "model[0].dend[5]\n",
            "model[0].dend[6]\n",
            "model[0].dend[7]\n",
            "L5PCtemplate[0].axon[0]\n",
            "L5PCtemplate[0].axon[1]\n"
          ]
        }
      ]
    },
    {
      "cell_type": "code",
      "source": [
        "#insert unused channels for recorder\n",
        "for sec in cell.all:\n",
        "  if not hasattr(sec(0.5),'ica_Ca_LVAst'):\n",
        "    sec.insert('Ca_LVAst')\n",
        "    for seg in sec:\n",
        "      seg.Ca_LVAst.gCa_LVAstbar=0\n",
        "    print(sec)"
      ],
      "metadata": {
        "id": "w1rmShPhIMP1",
        "outputId": "e87d5433-b202-4e15-985f-54062b2191b4",
        "colab": {
          "base_uri": "https://localhost:8080/"
        }
      },
      "id": "w1rmShPhIMP1",
      "execution_count": 30,
      "outputs": [
        {
          "output_type": "stream",
          "name": "stdout",
          "text": [
            "model[0].dend[0]\n",
            "model[0].dend[1]\n",
            "model[0].dend[2]\n",
            "model[0].dend[3]\n",
            "model[0].dend[4]\n",
            "model[0].dend[5]\n",
            "model[0].dend[6]\n",
            "model[0].dend[7]\n",
            "L5PCtemplate[0].axon[0]\n",
            "L5PCtemplate[0].axon[1]\n"
          ]
        }
      ]
    },
    {
      "cell_type": "code",
      "source": [
        "#insert unused channels for recorder\n",
        "for sec in cell.all:\n",
        "  if not hasattr(sec(0.5),'ica_Ca_HVA'):\n",
        "    sec.insert('Ca_HVA')\n",
        "    for seg in sec:\n",
        "      seg.Ca_HVA.gCa_HVAbar"
      ],
      "metadata": {
        "id": "BkKbsI9aIgAH"
      },
      "id": "BkKbsI9aIgAH",
      "execution_count": 31,
      "outputs": []
    },
    {
      "cell_type": "code",
      "source": [
        "#insert unused channels for recorder\n",
        "for sec in cell.all:\n",
        "  if not hasattr(sec(0.5),'ihcn_Ih'):\n",
        "    sec.insert('Ih')\n",
        "    for seg in sec:\n",
        "      seg.Ih.gIhbar"
      ],
      "metadata": {
        "id": "Qq7bpFp3Iq-u"
      },
      "id": "Qq7bpFp3Iq-u",
      "execution_count": 32,
      "outputs": []
    },
    {
      "cell_type": "code",
      "source": [
        "#define simulation parameters\n",
        "# tstop = 6000  # ms simulation duration\n",
        "tstop = 5000\n",
        "dt = 0.1  # ms\n",
        "h.tstop = tstop\n",
        "h.dt = dt\n",
        "h.steps_per_ms = 1/h.dt\n",
        "\n",
        "#define parameters that may be used in notebook\n",
        "nseg = len(cell.segments)\n",
        "numTstep = int(tstop/dt)\n",
        "\n",
        "#set up recorders\n",
        "# gNaTa_T = Recorder(obj_list = original_model.segments, var_name = 'gNaTa_t_NaTa_t')\n",
        "# ical = Recorder(obj_list = original_model.segments, var_name = 'ica_Ca_LVAst')\n",
        "# icah = Recorder(obj_list = original_model.segments, var_name = 'ica_Ca_HVA')\n",
        "# ih = Recorder(obj_list = original_model.segments, var_name = 'ihcn_Ih')\n",
        "# Vm = Recorder(obj_list = original_model.segments)\n",
        "\n",
        "# set up recorders\n",
        "gNaTa_T = Recorder(obj_list = cell.segments, var_name = 'gNaTa_t_NaTa_t')\n",
        "ical = Recorder(obj_list = cell.segments, var_name = 'ica_Ca_LVAst')\n",
        "icah = Recorder(obj_list = cell.segments, var_name = 'ica_Ca_HVA')\n",
        "ih = Recorder(obj_list = cell.segments, var_name = 'ihcn_Ih')\n",
        "Vm = Recorder(obj_list = cell.segments)"
      ],
      "metadata": {
        "id": "1tRGr5NEOs59"
      },
      "id": "1tRGr5NEOs59",
      "execution_count": 33,
      "outputs": []
    },
    {
      "cell_type": "code",
      "source": [
        "#Run simulation\n",
        "\n",
        "timestart=time.time()\n",
        "h.run()\n",
        "timestop=time.time()\n",
        "t = h.t # was t=h.t() but 'float' object not callable\n",
        "elapsedtime=timestop-timestart\n",
        "simtime=tstop/1000 #convert from ms to s\n",
        "# totaltime= elapsedtime+elapseddeftime\n",
        "print('It took',round(elapsedtime),'sec to run a',simtime,'sec simulation.')\n",
        "# print('The total runtime was',round(totaltime),'sec')"
      ],
      "metadata": {
        "id": "U5azilotOvGY",
        "outputId": "62f7bbc1-17f9-463e-9dbf-5c50bda971de",
        "colab": {
          "base_uri": "https://localhost:8080/"
        }
      },
      "id": "U5azilotOvGY",
      "execution_count": 34,
      "outputs": [
        {
          "output_type": "stream",
          "name": "stdout",
          "text": [
            "It took 11 sec to run a 5.0 sec simulation.\n"
          ]
        }
      ]
    },
    {
      "cell_type": "code",
      "source": [
        "# get data from recorders\n",
        "ih_data = ih.as_numpy()\n",
        "gNaTa_T_data = gNaTa_T.as_numpy()\n",
        "icah_data = icah.as_numpy()\n",
        "ical_data = ical.as_numpy()\n",
        "Vm = Vm.as_numpy()"
      ],
      "metadata": {
        "id": "z1S1XJgLegXz"
      },
      "id": "z1S1XJgLegXz",
      "execution_count": 35,
      "outputs": []
    },
    {
      "cell_type": "code",
      "source": [
        "import h5py\n",
        "def createsegtracereport(reportname,dataname):\n",
        "  try:\n",
        "    os.remove(reportname) # reportname was string \" \"\n",
        "  except:\n",
        "    x = 1\n",
        "\n",
        "  f = h5py.File(reportname,'w') #create a file in the w (write) mode #reportname was string ' '\n",
        "  v = f.create_dataset(\"report/biophysical/data\", data = dataname)\n",
        "  f.close()"
      ],
      "metadata": {
        "id": "hhPWsoCPeg4l"
      },
      "id": "hhPWsoCPeg4l",
      "execution_count": 36,
      "outputs": []
    },
    {
      "cell_type": "code",
      "source": [
        "#calculate inmda\n",
        "#since synapse list has combined synapses for computational efficiency, we must use NetCon list/unique spike trains to determine how many synapses were mapped\n",
        "\n",
        "i_NMDA_bySeg= [[0] * (numTstep+1) ] * len(cell.segments) # need to implement inmda recording\n",
        "\n",
        "v_rest=-60 #choose v_rest for categorizing inh/exc synapses\n",
        "\n",
        "# NetCon_per_seg=[0]*len(cell.segments)\n",
        "# inh_NetCon_per_seg=[0]*len(cell.segments)\n",
        "# exc_NetCon_per_seg=[0]*len(cell.segments)\n",
        "\n",
        "# #calculate number of synapses for each segment (may want to divide by segment length afterward to get synpatic density)\n",
        "# for netcon in cell.netcons_list:\n",
        "#   syn=netcon.syn()\n",
        "#   if syn in synapses_list:\n",
        "#     syn_seg_id=cell.segments.index(netcon.syn().get_segment())\n",
        "#     if syn in cell.segments[syn_seg_id].point_processes():\n",
        "#       NetCon_per_seg[syn_seg_id]+=1 # get synapses per segment\n",
        "#       # NetCon_per_seg[syn_seg_id].append(netcon) # possible implementation if needing objects per segment\n",
        "#       if syn.e > v_rest:\n",
        "#         exc_NetCon_per_seg[syn_seg_id]+=1\n",
        "#         # exc_NetCon_per_seg[syn_seg_id].append(netcon)# possible implementation if needing objects per segment\n",
        "#       else:\n",
        "#         inh_NetCon_per_seg[syn_seg_id]+=1\n",
        "#         # inh_NetCon_per_seg[syn_seg_id].append(netcon)# possible implementation if needing objects per segment\n",
        "#     else:\n",
        "#       print(\"Warning: synapse not in designated segment's point processes\")\n",
        "\n",
        "#   else:\n",
        "#     print(\"Warning: potentially deleted synapse:\",\"|NetCon obj:\",netcon,\"|Synapse obj:\",syn,\"the NetCon's synapse is not in synapses_list. Check corresponding original cell's NetCon for location, etc.\")\n",
        "\n",
        "#extract inmda from each segment # can be adjusted for gaba synapses or alpha synapses # only paired nmda/ampa synapses have vec_list[1]\n",
        "for synapse in cell.synapse:\n",
        "  try:\n",
        "    i_NMDA = np.array(synapse.rec_vec.vec_list[1])            #current = numpy array of NEURON Vector of current NMDA current at synapse j  \n",
        "    seg = synapse.get_segment_id()                            #seg = the segment in which synapse j is located \n",
        "    #print('first try')\n",
        "    \n",
        "    try:\n",
        "      i_NMDA_bySeg[seg] = i_NMDA_bySeg[seg] + i_NMDA    \n",
        "      #print('second try')                                           #Sum current over each segment\n",
        "    except: \n",
        "      pass                                                                   #Except needed as some synpases do not have NMDA currrent and throw an error when called\n",
        "  except:\n",
        "    pass"
      ],
      "metadata": {
        "id": "cbYSa3y5cKCY"
      },
      "id": "cbYSa3y5cKCY",
      "execution_count": 37,
      "outputs": []
    },
    {
      "cell_type": "code",
      "source": [
        "# def calculate_netcons_per_seg(self):\n",
        "#   NetCon_per_seg=[0]*len(self.segments)\n",
        "#   inh_NetCon_per_seg=[0]*len(self.segments)\n",
        "#   exc_NetCon_per_seg=[0]*len(self.segments)\n",
        "\n",
        "#   #calculate number of synapses for each segment (may want to divide by segment length afterward to get synpatic density)\n",
        "#   for netcon in self.netcons_list:\n",
        "#     syn=netcon.syn()\n",
        "#     if syn in synapses_list:\n",
        "#       syn_seg_id=self.segments.index(netcon.syn().get_segment())\n",
        "#       if syn in self.segments[syn_seg_id].point_processes():\n",
        "#         NetCon_per_seg[syn_seg_id]+=1 # get synapses per segment\n",
        "#         # NetCon_per_seg[syn_seg_id].append(netcon) # possible implementation if needing objects per segment\n",
        "#         if syn.e > v_rest:\n",
        "#           exc_NetCon_per_seg[syn_seg_id]+=1\n",
        "#           # exc_NetCon_per_seg[syn_seg_id].append(netcon)# possible implementation if needing objects per segment\n",
        "#         else:\n",
        "#           inh_NetCon_per_seg[syn_seg_id]+=1\n",
        "#           # inh_NetCon_per_seg[syn_seg_id].append(netcon)# possible implementation if needing objects per segment\n",
        "#       else:\n",
        "#         print(\"Warning: synapse not in designated segment's point processes\")\n",
        "\n",
        "#     else:\n",
        "#       print(\"Warning: potentially deleted synapse:\",\"|NetCon obj:\",netcon,\"|Synapse obj:\",syn,\"the NetCon's synapse is not in synapses_list. Check corresponding original cell's NetCon for location, etc.\")\n",
        "#   return NetCon_per_seg,inh_NetCon_per_seg,exc_NetCon_per_seg"
      ],
      "metadata": {
        "id": "36R_7mqvMjJC"
      },
      "id": "36R_7mqvMjJC",
      "execution_count": 38,
      "outputs": []
    },
    {
      "cell_type": "code",
      "source": [
        "# expanded_segments_df[\"exc_NetCons\"]=cell.exc_NetCon_per_seg\n",
        "# expanded_segments_df[\"inh_NetCons\"]=cell.inh_NetCon_per_seg\n",
        "# expanded_segments_df[\"inh_NetCon_density\"]=cell.expanded_segments_df[\"inh_NetCons\"]/expanded_segments_df[\"Seg_L\"]\n",
        "# expanded_segments_df[\"exc_NetCon_density\"]=cell.expanded_segments_df[\"exc_NetCons\"]/expanded_segments_df[\"Seg_L\"]\n",
        "# expanded_segments_df.to_csv(\"segments_expanded.csv\") #update saved data to include above columns. \n",
        "# #Can instead include above columns and calculation in \"make_reduced_seg_df()\""
      ],
      "metadata": {
        "id": "_ip03H02CFV1"
      },
      "id": "_ip03H02CFV1",
      "execution_count": 39,
      "outputs": []
    },
    {
      "cell_type": "code",
      "source": [
        "#subset dataframe to ignore certain segments and see synaptic density of branches\n",
        "ignore=[]\n",
        "for seg in cell.apic[0]:#ignore trunk\n",
        "  ind=cell.segments.index(seg)\n",
        "  ignore.append(ind)\n",
        "df=expanded_segments_df[~expanded_segments_df.index.isin(ignore)]"
      ],
      "metadata": {
        "id": "Q2WAz7JY73CJ"
      },
      "id": "Q2WAz7JY73CJ",
      "execution_count": 40,
      "outputs": []
    },
    {
      "cell_type": "code",
      "source": [
        "# #can stow this function away\n",
        "# def plot_seg_heatmap(seg_df,label=str,savename=str,color_column=str):\n",
        "#   '''color_column: name of the column that you want to use as the parameter for heatmap color'''\n",
        "#   plt.figure(figsize=(4,10))\n",
        "#   ax = plt.scatter(seg_df[\"Coord X\"], seg_df[\"Coord Y\"],c = seg_df[color_column],cmap='jet',)\n",
        "#   plt.vlines(110,400,500)\n",
        "#   plt.text(0,450,'100 um')\n",
        "#   plt.hlines(400,110,210)\n",
        "#   plt.text(110,350,'100 um')\n",
        "#   plt.xticks([])\n",
        "#   plt.yticks([])\n",
        "#   cbar = plt.colorbar()\n",
        "#   cbar.ax.set_ylabel(label, rotation=270)\n",
        "\n",
        "#   plt.box(False)\n",
        "#   plt.savefig(savename+'.svg')"
      ],
      "metadata": {
        "id": "M5S7mlKrDS4z"
      },
      "id": "M5S7mlKrDS4z",
      "execution_count": 41,
      "outputs": []
    },
    {
      "cell_type": "markdown",
      "source": [],
      "metadata": {
        "id": "HjKSPRsXHgTy"
      },
      "id": "HjKSPRsXHgTy"
    },
    {
      "cell_type": "code",
      "source": [
        "output_folder_name=\"outputcontrol_\"+str(nbranches[0])+\"nbranch_\"+str(int(len(cell.netcons_list)))+\"NCs_\"+str(int(len(cell.synapses_list)))+\"nsyn_\"+str(int(len(cell.segments)))+\"nseg\"#+modelname  #include model name in output foler name (ex. original cell, reduced cell, expanded cell)\n",
        "#create output folder\n",
        "import os\n",
        "if not os.path.exists(output_folder_name):\n",
        "   os.makedirs(output_folder_name)\n",
        "\n",
        "print(output_folder_name)\n",
        "os.chdir(output_folder_name)"
      ],
      "metadata": {
        "id": "VrOZ-cMgHXCC",
        "outputId": "8077559d-4b08-4c2e-bee4-de58be686029",
        "colab": {
          "base_uri": "https://localhost:8080/"
        }
      },
      "id": "VrOZ-cMgHXCC",
      "execution_count": 42,
      "outputs": [
        {
          "output_type": "stream",
          "name": "stdout",
          "text": [
            "outputcontrol_4nbranch_10000NCs_114nsyn_88nseg\n"
          ]
        }
      ]
    },
    {
      "cell_type": "code",
      "source": [
        "plot_morphology(expanded_segments_df,\"expanded_morphology.svg\")"
      ],
      "metadata": {
        "id": "BWhZXjb9HY7C",
        "outputId": "1e4bd5d6-1ce1-4bec-c396-a907f8cd3d6b",
        "colab": {
          "base_uri": "https://localhost:8080/",
          "height": 830
        }
      },
      "id": "BWhZXjb9HY7C",
      "execution_count": 43,
      "outputs": [
        {
          "output_type": "display_data",
          "data": {
            "text/plain": [
              "<Figure size 400x1000 with 1 Axes>"
            ],
            "image/png": "[encoded data removed]"
          },
          "metadata": {}
        }
      ]
    },
    {
      "cell_type": "code",
      "source": [
        "plot_seg_heatmap(df,label=\"Exc synapse density by segment\",\n",
        "                 savename='exc_syn_density',color_column=\"exc_NetCon_density\")"
      ],
      "metadata": {
        "id": "S8KGpnxiDwTu",
        "outputId": "0dc06786-f7b1-42bd-d207-868fd25826e6",
        "colab": {
          "base_uri": "https://localhost:8080/",
          "height": 815
        }
      },
      "id": "S8KGpnxiDwTu",
      "execution_count": 51,
      "outputs": [
        {
          "output_type": "display_data",
          "data": {
            "text/plain": [
              "<Figure size 400x1000 with 2 Axes>"
            ],
            "image/png": "[encoded data removed]"
          },
          "metadata": {}
        }
      ]
    },
    {
      "cell_type": "code",
      "source": [
        "plot_seg_heatmap(df,label=\"Inh synapse density by segment\",\n",
        "                 savename='inh_syn_density',color_column=\"inh_NetCon_density\")"
      ],
      "metadata": {
        "id": "fZAjr__-GLPP",
        "outputId": "d3decc49-248c-42fb-b07d-0a835acb0c87",
        "colab": {
          "base_uri": "https://localhost:8080/",
          "height": 815
        }
      },
      "id": "fZAjr__-GLPP",
      "execution_count": 45,
      "outputs": [
        {
          "output_type": "display_data",
          "data": {
            "text/plain": [
              "<Figure size 400x1000 with 2 Axes>"
            ],
            "image/png": "[encoded data removed]"
          },
          "metadata": {}
        }
      ]
    },
    {
      "cell_type": "code",
      "source": [
        "i_NMDA_df = pd.DataFrame(i_NMDA_bySeg) * 1000"
      ],
      "metadata": {
        "id": "RiMm8UZxejid"
      },
      "id": "RiMm8UZxejid",
      "execution_count": 46,
      "outputs": []
    },
    {
      "cell_type": "code",
      "source": [
        "# output files for analysis in another notebook\n",
        "createsegtracereport('v_report.h5', Vm.T)\n",
        "createsegtracereport('Ca_HVA.ica_report.h5',icah_data.T)\n",
        "createsegtracereport('Ca_LVAst.ica_report.h5',ical_data.T)\n",
        "createsegtracereport('Ih.ihcn_report.h5',ih_data.T)\n",
        "createsegtracereport('inmda_report.h5',i_NMDA_df.T)\n",
        "createsegtracereport('NaTa_t.gNaTa_t_report.h5',gNaTa_T_data.T)"
      ],
      "metadata": {
        "id": "0q8e1QQeewDO"
      },
      "id": "0q8e1QQeewDO",
      "execution_count": 47,
      "outputs": []
    },
    {
      "cell_type": "code",
      "source": [
        "%cd .."
      ],
      "metadata": {
        "id": "GbgVoXnMAUEi",
        "outputId": "cb7879a8-8284-4ab5-e08a-0d3431cf8275",
        "colab": {
          "base_uri": "https://localhost:8080/"
        }
      },
      "id": "GbgVoXnMAUEi",
      "execution_count": 48,
      "outputs": [
        {
          "output_type": "stream",
          "name": "stdout",
          "text": [
            "/content/Stylized-Single-Cell-and-Extracellular-Potential\n"
          ]
        }
      ]
    },
    {
      "cell_type": "code",
      "source": [
        "#adjust so that a folder is generated for complex and reduced cell and with simulation time as part of the folder name\n",
        "#maybe include syn distribution in name too"
      ],
      "metadata": {
        "id": "ALdGYUA_NPoR"
      },
      "id": "ALdGYUA_NPoR",
      "execution_count": 49,
      "outputs": []
    }
  ],
  "metadata": {
    "colab": {
      "provenance": [],
      "include_colab_link": true
    },
    "kernelspec": {
      "display_name": "Python 3 (ipykernel)",
      "language": "python",
      "name": "python3"
    },
    "language_info": {
      "codemirror_mode": {
        "name": "ipython",
        "version": 3
      },
      "file_extension": ".py",
      "mimetype": "text/x-python",
      "name": "python",
      "nbconvert_exporter": "python",
      "pygments_lexer": "ipython3",
      "version": "3.9.12"
    }
  },
  "nbformat": 4,
  "nbformat_minor": 5
}