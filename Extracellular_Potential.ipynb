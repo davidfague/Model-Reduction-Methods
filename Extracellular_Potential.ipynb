{
  "cells": [
    {
      "cell_type": "markdown",
      "metadata": {
        "id": "view-in-github",
        "colab_type": "text"
      },
      "source": [
        "<a href=\"https://colab.research.google.com/github/davidfague/Model_Reduction_Methods/blob/main/Extracellular_Potential.ipynb\" target=\"_parent\"><img src=\"https://colab.research.google.com/assets/colab-badge.svg\" alt=\"Open In Colab\"/></a>"
      ]
    },
    {
      "cell_type": "markdown",
      "id": "7a9de89f",
      "metadata": {
        "id": "7a9de89f"
      },
      "source": [
        "# Stylized Single Cell and Extracellular Potential"
      ]
    },
    {
      "cell_type": "markdown",
      "id": "MSX7LmGzszzf",
      "metadata": {
        "id": "MSX7LmGzszzf"
      },
      "source": [
        "#### Download modules from Github"
      ]
    },
    {
      "cell_type": "code",
      "source": [
        "!pip install neuron"
      ],
      "metadata": {
        "id": "-urE9jrxNdxm",
        "colab": {
          "base_uri": "https://localhost:8080/"
        },
        "outputId": "efedccfc-0369-44e2-8db9-1b8e6deb9887"
      },
      "id": "-urE9jrxNdxm",
      "execution_count": 1,
      "outputs": [
        {
          "output_type": "stream",
          "name": "stdout",
          "text": [
            "Looking in indexes: https://pypi.org/simple, https://us-python.pkg.dev/colab-wheels/public/simple/\n",
            "Collecting neuron\n",
            "  Downloading NEURON-8.2.2-cp39-cp39-manylinux_2_17_x86_64.manylinux2014_x86_64.whl (15.0 MB)\n",
            "\u001b[2K     \u001b[90m━━━━━━━━━━━━━━━━━━━━━━━━━━━━━━━━━━━━━━━━\u001b[0m \u001b[32m15.0/15.0 MB\u001b[0m \u001b[31m41.9 MB/s\u001b[0m eta \u001b[36m0:00:00\u001b[0m\n",
            "\u001b[?25hRequirement already satisfied: numpy>=1.9.3 in /usr/local/lib/python3.9/dist-packages (from neuron) (1.22.4)\n",
            "Installing collected packages: neuron\n",
            "Successfully installed neuron-8.2.2\n"
          ]
        }
      ]
    },
    {
      "cell_type": "code",
      "source": [
        "!pip install neuron_reduce"
      ],
      "metadata": {
        "id": "BHjnRgPsN0g2",
        "colab": {
          "base_uri": "https://localhost:8080/"
        },
        "outputId": "38e9bd7d-25ea-46e9-e810-e3683541b543"
      },
      "id": "BHjnRgPsN0g2",
      "execution_count": 2,
      "outputs": [
        {
          "output_type": "stream",
          "name": "stdout",
          "text": [
            "Looking in indexes: https://pypi.org/simple, https://us-python.pkg.dev/colab-wheels/public/simple/\n",
            "Collecting neuron_reduce\n",
            "  Downloading neuron_reduce-0.0.7-py3-none-any.whl (18 kB)\n",
            "Installing collected packages: neuron_reduce\n",
            "Successfully installed neuron_reduce-0.0.7\n"
          ]
        }
      ]
    },
    {
      "cell_type": "code",
      "source": [
        "!git clone https://github.com/davidfague/Model_Reduction_Methods.git"
      ],
      "metadata": {
        "id": "t4dVzA0WLZ9F",
        "colab": {
          "base_uri": "https://localhost:8080/"
        },
        "outputId": "262f939b-e8b7-4f77-b828-3baf07b15b09"
      },
      "id": "t4dVzA0WLZ9F",
      "execution_count": 3,
      "outputs": [
        {
          "output_type": "stream",
          "name": "stdout",
          "text": [
            "Cloning into 'Model_Reduction_Methods'...\n",
            "remote: Enumerating objects: 494, done.\u001b[K\n",
            "remote: Counting objects: 100% (180/180), done.\u001b[K\n",
            "remote: Compressing objects: 100% (95/95), done.\u001b[K\n",
            "remote: Total 494 (delta 103), reused 145 (delta 85), pack-reused 314\u001b[K\n",
            "Receiving objects: 100% (494/494), 4.82 MiB | 11.83 MiB/s, done.\n",
            "Resolving deltas: 100% (254/254), done.\n"
          ]
        }
      ]
    },
    {
      "cell_type": "code",
      "source": [
        "%cd Model_Reduction_Methods/\n",
        "\n",
        "#import reduction and expansion functions\n",
        "from test_neuron_reduce.subtree_reductor_func import subtree_reductor\n",
        "from cable_expander_func import cable_expander\n",
        "\n",
        "#import recording functions\n",
        "from stylized_module.recorder import Recorder\n",
        "\n",
        "#import analysis functions\n",
        "from utils import make_seg_df,generate_stylized_geometry,make_reduced_seg_df,plot_morphology,check_connectivity,generate_reduced_cell_seg_coords, create_seg_var_report\n",
        "\n",
        "import pandas as pd"
      ],
      "metadata": {
        "id": "cY9U_KPwLVAz",
        "colab": {
          "base_uri": "https://localhost:8080/"
        },
        "outputId": "25851677-f7f7-49b5-f5ce-7c33ea869b23"
      },
      "id": "cY9U_KPwLVAz",
      "execution_count": 4,
      "outputs": [
        {
          "output_type": "stream",
          "name": "stdout",
          "text": [
            "/content/Model_Reduction_Methods\n"
          ]
        }
      ]
    },
    {
      "cell_type": "code",
      "source": [
        "%cd expand_example"
      ],
      "metadata": {
        "id": "vXTRrX-ILq6D",
        "colab": {
          "base_uri": "https://localhost:8080/"
        },
        "outputId": "eec08981-48b0-45fe-a011-eadb47a28f45"
      },
      "id": "vXTRrX-ILq6D",
      "execution_count": 5,
      "outputs": [
        {
          "output_type": "stream",
          "name": "stdout",
          "text": [
            "/content/Model_Reduction_Methods/expand_example\n"
          ]
        }
      ]
    },
    {
      "cell_type": "code",
      "source": [
        "# compile the mod files\n",
        "!nrnivmodl mod"
      ],
      "metadata": {
        "id": "Dm-MdGeb6uZB",
        "colab": {
          "base_uri": "https://localhost:8080/"
        },
        "outputId": "6269867c-6bbb-4db0-ed65-ecf0ff13a2d5"
      },
      "id": "Dm-MdGeb6uZB",
      "execution_count": 6,
      "outputs": [
        {
          "output_type": "stream",
          "name": "stdout",
          "text": [
            "/content/Model_Reduction_Methods/expand_example\n",
            "Mod files: \"mod/mod/CaDynamics_E2.mod\" \"mod/mod/Ca_HVA.mod\" \"mod/mod/Ca_LVAst.mod\" \"mod/mod/epsp.mod\" \"mod/mod/Ih.mod\" \"mod/mod/Im.mod\" \"mod/mod/K_Pst.mod\" \"mod/mod/K_Tst.mod\" \"mod/mod/Nap_Et2.mod\" \"mod/mod/NaTa_t.mod\" \"mod/mod/NaTs2_t.mod\" \"mod/mod/SK_E2.mod\" \"mod/mod/SKv3_1.mod\"\n",
            "\n",
            "Creating 'x86_64' directory for .o files.\n",
            "\n",
            " -> \u001b[32mNMODL\u001b[0m ../mod/CaDynamics_E2.mod\n",
            " -> \u001b[32mNMODL\u001b[0m ../mod/Ca_HVA.mod\n",
            " -> \u001b[32mCompiling\u001b[0m mod_func.cpp\n",
            " -> \u001b[32mNMODL\u001b[0m ../mod/Ca_LVAst.mod\n",
            "Translating Ca_HVA.mod into /content/Model_Reduction_Methods/expand_example/x86_64/Ca_HVA.c\n",
            "Translating CaDynamics_E2.mod into /content/Model_Reduction_Methods/expand_example/x86_64/CaDynamics_E2.c\n",
            "Thread Safe\n",
            "Thread Safe\n",
            " -> \u001b[32mNMODL\u001b[0m ../mod/epsp.mod\n",
            " -> \u001b[32mNMODL\u001b[0m ../mod/Ih.mod\n",
            "Translating Ca_LVAst.mod into /content/Model_Reduction_Methods/expand_example/x86_64/Ca_LVAst.c\n",
            "Thread Safe\n",
            "Translating Ih.mod into /content/Model_Reduction_Methods/expand_example/x86_64/Ih.c\n",
            "Translating epsp.mod into /content/Model_Reduction_Methods/expand_example/x86_64/epsp.c\n",
            " -> \u001b[32mNMODL\u001b[0m ../mod/Im.mod\n",
            "Thread Safe\n",
            "Thread Safe\n",
            "Translating Im.mod into /content/Model_Reduction_Methods/expand_example/x86_64/Im.c\n",
            " -> \u001b[32mNMODL\u001b[0m ../mod/K_Pst.mod\n",
            "Thread Safe\n",
            " -> \u001b[32mNMODL\u001b[0m ../mod/K_Tst.mod\n",
            "Translating K_Pst.mod into /content/Model_Reduction_Methods/expand_example/x86_64/K_Pst.c\n",
            "Thread Safe\n",
            " -> \u001b[32mNMODL\u001b[0m ../mod/Nap_Et2.mod\n",
            " -> \u001b[32mNMODL\u001b[0m ../mod/NaTa_t.mod\n",
            "Translating K_Tst.mod into /content/Model_Reduction_Methods/expand_example/x86_64/K_Tst.c\n",
            "Thread Safe\n",
            "Translating Nap_Et2.mod into /content/Model_Reduction_Methods/expand_example/x86_64/Nap_Et2.c\n",
            " -> \u001b[32mNMODL\u001b[0m ../mod/NaTs2_t.mod\n",
            "Thread Safe\n",
            " -> \u001b[32mNMODL\u001b[0m ../mod/SK_E2.mod\n",
            "Translating NaTa_t.mod into /content/Model_Reduction_Methods/expand_example/x86_64/NaTa_t.c\n",
            "Translating NaTs2_t.mod into /content/Model_Reduction_Methods/expand_example/x86_64/NaTs2_t.c\n",
            "Thread Safe\n",
            "Thread Safe\n",
            " -> \u001b[32mNMODL\u001b[0m ../mod/SKv3_1.mod\n",
            " -> \u001b[32mCompiling\u001b[0m CaDynamics_E2.c\n",
            "Translating SK_E2.mod into /content/Model_Reduction_Methods/expand_example/x86_64/SK_E2.c\n",
            "Thread Safe\n",
            "Translating SKv3_1.mod into /content/Model_Reduction_Methods/expand_example/x86_64/SKv3_1.c\n",
            " -> \u001b[32mCompiling\u001b[0m Ca_HVA.c\n",
            "Thread Safe\n",
            " -> \u001b[32mCompiling\u001b[0m Ca_LVAst.c\n",
            " -> \u001b[32mCompiling\u001b[0m epsp.c\n",
            " -> \u001b[32mCompiling\u001b[0m Ih.c\n",
            " -> \u001b[32mCompiling\u001b[0m Im.c\n",
            " -> \u001b[32mCompiling\u001b[0m K_Pst.c\n",
            " -> \u001b[32mCompiling\u001b[0m K_Tst.c\n",
            " -> \u001b[32mCompiling\u001b[0m Nap_Et2.c\n",
            " -> \u001b[32mCompiling\u001b[0m NaTa_t.c\n",
            " -> \u001b[32mCompiling\u001b[0m NaTs2_t.c\n",
            " -> \u001b[32mCompiling\u001b[0m SK_E2.c\n",
            " -> \u001b[32mCompiling\u001b[0m SKv3_1.c\n",
            " => \u001b[32mLINKING\u001b[0m shared library ./libnrnmech.so\n",
            " => \u001b[32mLINKING\u001b[0m executable ./special LDFLAGS are:    -pthread\n",
            "Successfully created x86_64/special\n"
          ]
        }
      ]
    },
    {
      "cell_type": "markdown",
      "id": "2a84fbea",
      "metadata": {
        "id": "2a84fbea"
      },
      "source": [
        "## Setup smiulation parameters"
      ]
    },
    {
      "cell_type": "code",
      "execution_count": 7,
      "id": "4be7f6fd",
      "metadata": {
        "id": "4be7f6fd",
        "colab": {
          "base_uri": "https://localhost:8080/"
        },
        "outputId": "4387edd8-dd89-4171-8fe0-f029fef276fd"
      },
      "outputs": [
        {
          "output_type": "execute_result",
          "data": {
            "text/plain": [
              "1.0"
            ]
          },
          "metadata": {},
          "execution_count": 7
        }
      ],
      "source": [
        "import numpy as np\n",
        "import pandas as pd\n",
        "import json\n",
        "import matplotlib.pyplot as plt\n",
        "import ipywidgets as widgets\n",
        "from neuron import h\n",
        "from scipy import signal\n",
        "from IPython.display import display, clear_output\n",
        "from ipywidgets import interactive_output, HBox, VBox, Label, Layout\n",
        "\n",
        "from __future__ import division\n",
        "from neuron import gui,h\n",
        "import numpy as np\n",
        "import time\n",
        "import matplotlib.pyplot as plt\n",
        "\n",
        "%matplotlib inline\n",
        "\n",
        "\n",
        "h.load_file('stdrun.hoc')\n",
        "# h.nrn_load_dll(paths.COMPILED_LIBRARY_REDUCED_ORDER)  # choose the set of mechanisms\n",
        "h.nrn_load_dll('./x86_64/.libs/libnrnmech.so')\n"
      ]
    },
    {
      "cell_type": "markdown",
      "id": "7927a07b",
      "metadata": {
        "id": "7927a07b"
      },
      "source": [
        "### Create a cell with reduced morphology"
      ]
    },
    {
      "cell_type": "code",
      "source": [
        "%ls"
      ],
      "metadata": {
        "id": "s0gis1f1OdWX",
        "colab": {
          "base_uri": "https://localhost:8080/"
        },
        "outputId": "40a76201-9ef8-4327-e064-9680ee2aa6ef"
      },
      "id": "s0gis1f1OdWX",
      "execution_count": 8,
      "outputs": [
        {
          "output_type": "stream",
          "name": "stdout",
          "text": [
            "cell1.asc  example_expand.py  L5PCtemplate.hoc  \u001b[0m\u001b[01;34mx86_64\u001b[0m/\n",
            "Cell.hoc   L5PCbiophys3.hoc   \u001b[01;34mmod\u001b[0m/\n"
          ]
        }
      ]
    },
    {
      "cell_type": "code",
      "source": [
        "from abc import ABC, abstractmethod\n",
        "class PointCurrent(ABC):\n",
        "    \"\"\"A module for current point process\"\"\"\n",
        "\n",
        "    def __init__(self, cell, sec_index, loc=0.5):\n",
        "        \"\"\"\n",
        "        cell: target cell object\n",
        "        sec_index: index of the target section in the section list\n",
        "        loc: location on a section, between [0,1]\n",
        "        \"\"\"\n",
        "        self.cell = cell\n",
        "        self.sec_index = sec_index\n",
        "        self.loc = loc\n",
        "        self.pp_obj = None  # point process object\n",
        "        self.rec_vec = None  # vector for recording\n",
        "\n",
        "    @abstractmethod\n",
        "    def setup(self, record: bool = None) -> None:\n",
        "        pass\n",
        "\n",
        "    def setup_recorder(self):\n",
        "        size = [round(h.tstop / h.dt) + 1] if hasattr(h, 'tstop') else []\n",
        "        self.rec_vec = h.Vector(*size).record(self.pp_obj._ref_i)\n",
        "\n",
        "    def get_section(self) -> h.Section:\n",
        "        return self.cell.all[self.sec_index]\n",
        "\n",
        "    def get_segment(self):\n",
        "        return self.pp_obj.get_segment()\n",
        "\n",
        "    def get_segment_id(self) -> int:\n",
        "        \"\"\"Get the index of the injection target segment in the segment list\"\"\"\n",
        "        iseg = int(self.get_segment().x * self.get_section().nseg)\n",
        "        return self.cell.sec_id_in_seg[self.sec_index] + iseg\n"
      ],
      "metadata": {
        "id": "pqECeUrwUfCi"
      },
      "id": "pqECeUrwUfCi",
      "execution_count": 9,
      "outputs": []
    },
    {
      "cell_type": "code",
      "source": [
        "class Synapse(PointCurrent):\n",
        "    def __init__(self, cell, stim: h.NetStim, sec_index: int,\n",
        "                  syn_type: str = 'Exp2Syn', gmax: float = 0.01, loc: float = 0.5,\n",
        "                  record: bool = False):\n",
        "        super().__init__(cell, sec_index, loc)\n",
        "        self.stim = stim\n",
        "        self.gmax = gmax\n",
        "        self.__synapse_type(syn_type)\n",
        "        self.setup(record)\n",
        "\n",
        "    # PRIVATE METHODS\n",
        "    def __synapse_type(self, syn_type):\n",
        "        if syn_type == 'AlphaSynapse1':\n",
        "            # Reversal potential (mV); Synapse time constant (ms)\n",
        "            self.syn_params = {'e': 0., 'tau': 2.0}\n",
        "            # Variable name of maximum conductance (uS)\n",
        "            self.gmax_var = 'gmax'\n",
        "        elif syn_type == 'Exp2Syn':\n",
        "            self.syn_params = {'e': 0., 'tau1': 1.0, 'tau2': 3.0}\n",
        "            self.gmax_var = '_nc_weight'\n",
        "        else:\n",
        "            raise ValueError(\"Synpase type not defined.\")\n",
        "        self.syn_type = syn_type\n",
        "        self.pp_obj = getattr(h, syn_type)(self.get_section()(self.loc))\n",
        "\n",
        "    def __setup_synapse(self):\n",
        "        self.syn = self.pp_obj\n",
        "        self.nc = h.NetCon(self.stim, self.syn, 1, 0, 1)\n",
        "        for key, value in self.syn_params.items():\n",
        "            setattr(self.syn, key, value)\n",
        "        self.set_gmax()\n",
        "\n",
        "    # PUBLIC METHODS\n",
        "    def setup(self, record: bool = False):\n",
        "        self.__setup_synapse()\n",
        "        if record:\n",
        "            self.setup_recorder()\n",
        "    \n",
        "    def set_gmax(self, gmax: float = None):\n",
        "        if gmax is not None:\n",
        "            self.gmax = gmax\n",
        "        if self.gmax_var == '_nc_weight':\n",
        "            self.nc.weight[0] = self.gmax\n",
        "        else:\n",
        "            setattr(self.syn, self.gmax_var, self.gmax)"
      ],
      "metadata": {
        "id": "8TE_op1mUTii"
      },
      "id": "8TE_op1mUTii",
      "execution_count": 10,
      "outputs": []
    },
    {
      "cell_type": "code",
      "source": [
        "from typing import Optional, Union, List\n",
        "import math\n",
        "from typing import Optional, Union, List\n",
        "import math\n",
        "class cell_model():\n",
        "  '''expanded cell model class for ECP calculation\n",
        "  takes cell model and does bookkeeping for analysis functions\n",
        "  '''\n",
        "  def __init__(self,model,synapses_list=None,netcons_list=None,gen_3d=True,spike_threshold: Optional[float] = None):\n",
        "    self.all=model.all\n",
        "    self.soma=model.soma\n",
        "    self.apic=model.apic\n",
        "    self.dend=model.dend\n",
        "    self.axon=model.axon\n",
        "    #convert nrn section lists to python lists if applicable\n",
        "    self.all=self.convert_sectionlist(sectionlist=self.all)\n",
        "    self.soma=self.convert_sectionlist(sectionlist=self.soma, return_singles=True) #if sectionlist contains only one section returns just the section instead of list of sections\n",
        "    self.dend=self.convert_sectionlist(sectionlist=self.dend)\n",
        "    self.apic=self.convert_sectionlist(sectionlist=self.apic)\n",
        "    self.axon=self.convert_sectionlist(sectionlist=self.axon)\n",
        "    self.spike_threshold = spike_threshold\n",
        "    self.synapses_list=synapses_list #list of synapse objects from model reduction\n",
        "    self.netcons_list=netcons_list # list of netcon objects from model reduction\n",
        "    self.segments=[] # list for nrn segment objects\n",
        "    self.injection=[] # list of injection objects\n",
        "    self.synapse=[] # list of python synapse class objects\n",
        "    self.sec_id_lookup = {}  # dictionary from section type id to section index\n",
        "    self.sec_id_in_seg = []  # index of the first segment of each section in the segment list\n",
        "    self.sec_angs = [] # list of angles that were used to branch the cell\n",
        "    self.sec_rots = []\n",
        "    if gen_3d==True:\n",
        "      self.generate_sec_coords()\n",
        "    self.__store_segments()\n",
        "    self.__set_spike_recorder()\n",
        "    if self.apic[2].n3d()==2: #calc_seg_coords only works for cell with sections that only have two 3d coordinates. #detailed cell has too many 3d coordinates\n",
        "      self.__calc_seg_coords()\n",
        "    self.__store_synapses_list() #store and record synapses from the synapses_list used to initialize the cell\n",
        "    self.grp_ids = []\n",
        "    self.generate_geometry_file()\n",
        "\n",
        "  def __calc_seg_coords(self):\n",
        "    \"\"\"Calculate segment coordinates for ECP calculation\"\"\"\n",
        "    p0 = np.empty((self._nseg, 3))\n",
        "    p1 = np.empty((self._nseg, 3))\n",
        "    p05 = np.empty((self._nseg, 3))\n",
        "    r = np.empty(self._nseg)\n",
        "    for isec, sec in enumerate(self.all):\n",
        "        iseg = self.sec_id_in_seg[isec]\n",
        "        nseg = sec.nseg\n",
        "        pt0 = np.array([sec.x3d(0), sec.y3d(0), sec.z3d(0)])\n",
        "        pt1 = np.array([sec.x3d(1), sec.y3d(1), sec.z3d(1)])\n",
        "        pts = np.linspace(pt0, pt1, 2 * nseg + 1)\n",
        "        p0[iseg:iseg + nseg, :] = pts[:-2:2, :]\n",
        "        p1[iseg:iseg + nseg, :] = pts[2::2, :]\n",
        "        p05[iseg:iseg + nseg, :] = pts[1:-1:2, :]\n",
        "        r[iseg:iseg + nseg] = sec.diam / 2\n",
        "    self.seg_coords = {'dl': p1 - p0, 'pc': p05, 'r': r}\n",
        "\n",
        "  def __store_segments(self):\n",
        "    self.segments = []\n",
        "    self.sec_id_in_seg = []\n",
        "    nseg = 0\n",
        "    for sec in self.all:\n",
        "        self.sec_id_in_seg.append(nseg)\n",
        "        nseg += sec.nseg\n",
        "        for seg in sec:\n",
        "            self.segments.append(seg)\n",
        "            self.__store_point_processes(seg)\n",
        "    self._nseg = nseg\n",
        "\n",
        "  def __store_point_processes(self,seg):\n",
        "    for pp in seg.point_processes():\n",
        "        self.injection.append(pp)\n",
        "\n",
        "  def __set_spike_recorder(self, threshold: Optional = None):\n",
        "      if threshold is not None:\n",
        "          self.spike_threshold = threshold\n",
        "      if self.spike_threshold is None:\n",
        "          self.spikes = None\n",
        "      else:\n",
        "          vec = h.Vector()\n",
        "          nc = h.NetCon(self.soma(0.5)._ref_v, None, sec=self.soma)\n",
        "          nc.threshold = self.spike_threshold\n",
        "          nc.record(vec)\n",
        "          self.spikes = vec\n",
        "\n",
        "  def add_injection(self, sec_index, **kwargs):\n",
        "        \"\"\"Add current injection to a section by its index\"\"\"\n",
        "        self.injection.append(CurrentInjection(self, sec_index, **kwargs))\n",
        "\n",
        "  def add_synapse(self, stim: h.NetStim, sec_index: int, **kwargs):\n",
        "        \"\"\"Add synapse to a section by its index\"\"\"\n",
        "        new_syn=Synapse(self, stim, sec_index, **kwargs)\n",
        "        self.netcons_list.append(new_syn.nc)\n",
        "        self.synapse.append(new_syn)\n",
        "\n",
        "  def generate_sec_coords(self):\n",
        "      '''\n",
        "      Note: need to improve branching so that it is random direction in a quadrant of a sphere rather than x-y plane\n",
        "      takes a cell that has no n3d() coordinates and gives new coordinates\n",
        "      by choosing an arbitrary direction for the subtree to move\n",
        "      '''\n",
        "      section_obj_list= self.all\n",
        "      # print(section_obj_list)\n",
        "      axial=False\n",
        "      parent_sections=[] #list for already seen parent_sections of this type\n",
        "      for sec in section_obj_list:\n",
        "        sec_length=sec.L\n",
        "        if sec is self.soma:\n",
        "          self.sec_angs.append(0)\n",
        "          self.sec_rots.append(0)\n",
        "          # pt0 = [0., -1 * sec.diam, 0.] #does not seem to preserve soma shape , but need to make sure soma children begin at correct 3d coordinate.\n",
        "          # pt1 = [0., 0., 0.]\n",
        "          # sec.pt3dclear()\n",
        "          # sec.pt3dadd(*pt0, sec.diam)\n",
        "          # sec.pt3dadd(*pt1, sec.diam)\n",
        "          if sec.nseg != 1:\n",
        "            print('Changing soma nseg from',sec.nseg,'to 1')\n",
        "            sec.nseg = 1\n",
        "        else:\n",
        "          if sec.parentseg() is not None:\n",
        "            psec=sec.parentseg().sec\n",
        "            if (psec in self.apic) and (psec is not self.apic[0]): # branch\n",
        "              # print('branch')\n",
        "              nbranch = len(psec.children())\n",
        "            else:\n",
        "              nbranch=1\n",
        "          else:\n",
        "            psec=None # may need to provide more implementation in the case of no 3d coords and no parent section.\n",
        "            nbranch=1\n",
        "\n",
        "          # rot = 2 * math.pi/nbranch\n",
        "          rot=np.random.uniform(low=0,high=2*np.pi)# rot can be used to uniformly rotate branches if i=parent_sections.count(psec) and rot = 2 * math.pi/nbranch\n",
        "\n",
        "          i=1 #i can be used to uniformly rotate the sections if rot = 2 * math.pi/nbranch and i=parent_sections.count(psec)\n",
        "          # if nbranch==1:\n",
        "          #   i=1\n",
        "          # else:\n",
        "          #   i=parent_sections.count(psec)\n",
        "\n",
        "          parent_sections.append(psec)\n",
        "          # print(\"sec: \",sec, \"|nbranch: \",nbranch,\"|i: ,\",i,\"|parent_sections:\",parent_sections)\n",
        "          length=sec.L\n",
        "          diameter=sec.diam\n",
        "          fullsecname = sec.name()\n",
        "          # print(fullsecname)\n",
        "          sec_type = fullsecname.split(\".\")[1][:4]\n",
        "          # print(sec_type)\n",
        "          if sec_type == \"apic\":\n",
        "            if sec==self.apic[0]: # trunk\n",
        "              ang=1.570796327\n",
        "            else:\n",
        "              # ang=np.random.uniform(low=0,high=np.pi) #branches\n",
        "              ang=np.random.normal(loc=np.pi/2,scale=0.5) # could add limits to ang (if ang>val:ang=val)\n",
        "          elif sec_type==\"dend\":\n",
        "            # ang=-np.random.uniform(low=0,high=np.pi)\n",
        "            ang=-np.random.normal(loc=np.pi/2,scale=0.5) # could add limits to ang (if ang>val:ang=val)\n",
        "          elif sec_type==\"axon\":\n",
        "            ang=-1.570796327\n",
        "          else:\n",
        "            print(sec,sec_type,' is not apic, dend or axon')\n",
        "            ang=0\n",
        "          if axial == True:\n",
        "            x = 0\n",
        "            y = length*((ang>=0)*2-1)\n",
        "          else:\n",
        "            x = length * math.cos(ang)\n",
        "            y = length * math.sin(ang)\n",
        "          self.sec_angs.append(ang)\n",
        "          self.sec_rots.append(i*rot)\n",
        "          #find starting position #need to update to use parent segment coordinates instead of using first section coordinate\n",
        "          pt0 = [psec.x3d(1), psec.y3d(1), psec.z3d(1)]\n",
        "          pt1 = [0., 0., 0.]\n",
        "          pt1[1] = pt0[1] + y\n",
        "          pt1[0] = pt0[0] + x * math.cos(i * rot)\n",
        "          pt1[2] = pt0[2] + x * math.sin(i * rot)\n",
        "          # print(sec,i*rot)\n",
        "          sec.pt3dclear()\n",
        "          sec.pt3dadd(*pt0, sec.diam)\n",
        "          sec.pt3dadd(*pt1, sec.diam)\n",
        "        if int(sec.L) != int(sec_length):\n",
        "          print('Error: generation of 3D coordinates resulted in change of section length for',sec,'from',sec_length,'to',sec.L)\n",
        "\n",
        "  def generate_geometry_file(self):\n",
        "    '''\n",
        "    generates geometry file specifying name, pid, ang, radius, length, type\n",
        "    work in progress\n",
        "    '''\n",
        "    df = pd.DataFrame()\n",
        "    ids=[]\n",
        "    names=[]\n",
        "    types=[]\n",
        "    pids=[]\n",
        "    axials=[]\n",
        "    nbranchs=[]\n",
        "    Ls=[]\n",
        "    Rs=[]\n",
        "    angs=self.sec_angs\n",
        "    rots=self.sec_rots\n",
        "    for sec in self.all:\n",
        "      # print(dir(sec))\n",
        "      name=sec.name()\n",
        "      # print(name)\n",
        "      names.append(name)\n",
        "      ids.append(names.index(name))\n",
        "      _,sec_type_withinteger=name.split('.')\n",
        "      sec_type,_=sec_type_withinteger.split('[')\n",
        "      types.append(sec_type)\n",
        "      pseg = sec.parentseg()\n",
        "      if pseg == None:\n",
        "        pids.append(None)\n",
        "      else:\n",
        "        psec=pseg.sec\n",
        "        px3d=psec.x3d\n",
        "        pids.append(int(names.index(psec.name())))\n",
        "      # axials.append('TRUE')\n",
        "      # nbranchs.append(1)\n",
        "      Ls.append(sec.L)\n",
        "      # print(dir(sec))\n",
        "      Rs.append(sec.diam/2)\n",
        "    df['id']=ids\n",
        "    df['name']=names\n",
        "    df['pid']=pids\n",
        "    df['type']=types\n",
        "    df['L']=Ls\n",
        "    df['R']=Rs\n",
        "    df['ang']=angs\n",
        "    df['rot']=rots\n",
        "    # df['axials']=axials # may need to fix\n",
        "    # df['nbranch']=nbranchs # may need to fix\n",
        "    self.geometry=df\n",
        "\n",
        "  def convert_sectionlist(self,sectionlist,return_singles=False):\n",
        "    '''\n",
        "    convert nrn sectionlist objects to python list\n",
        "    return_singles set to true will return section instead of [section] for lists with only one section\n",
        "    '''\n",
        "    new_sectionlist=[]\n",
        "    if str(type(sectionlist)) == \"<class 'hoc.HocObject'>\":\n",
        "      for sec in sectionlist:\n",
        "        new_sectionlist.append(sec)\n",
        "    else:\n",
        "      new_sectionlist=sectionlist\n",
        "    if return_singles==True:\n",
        "      if str(type(new_sectionlist))!=\"<class 'nrn.Section'>\":\n",
        "        if len(new_sectionlist)==1:\n",
        "          new_sectionlist=new_sectionlist[0]\n",
        "    return new_sectionlist\n",
        "\n",
        "  def __store_synapses_list(self):\n",
        "    '''\n",
        "    store and record synapses from the list from model reduction algorithm\n",
        "    '''\n",
        "    temp_list=[] # generate temp list that has each netcon's synapse obj\n",
        "    for netcon in self.netcons_list:\n",
        "      syn=netcon.syn()\n",
        "      if syn in self.synapses_list:\n",
        "        syn_seg_id=self.segments.index(netcon.syn().get_segment())\n",
        "        if syn in self.segments[syn_seg_id].point_processes():\n",
        "          temp_list.append(syn)\n",
        "        else:\n",
        "          temp_list.append(None)\n",
        "          print(\"Warning: synapse not in designated segment's point processes\")\n",
        "\n",
        "      else:\n",
        "        temp_list.append(None)\n",
        "        print(\"Warning: potentially deleted synapse:\",\"|NetCon obj:\",netcon,\"|Synapse obj:\",syn,\"the NetCon's synapse is not in synapses_list. Check corresponding original cell's NetCon for location, etc.\")\n",
        "    # now use temp list to assign each synapse its netcons\n",
        "    for synapse in synapses_list:\n",
        "      synapse_netcons=[]\n",
        "      if synapse in temp_list:\n",
        "        num_netcons=temp_list.count(synapse)\n",
        "        START=0\n",
        "        for i in range(num_netcons):\n",
        "          netcon_id=temp_list.index(synapse,START) #get all the netcon indices that are pointed toward this synapse # use np.where() instead of index() to return multiple indices.\n",
        "          START=netcon_id+1\n",
        "          synapse_netcons.append(self.netcons_list[netcon_id])\n",
        "        self.synapse.append(Listed_Synapse(synapse,synapse_netcons)) #record synapse and add to the list\n",
        "      else:\n",
        "        print('Warning: Synapse not in temp_list.')"
      ],
      "metadata": {
        "id": "ZS3X-yZr-4kV"
      },
      "id": "ZS3X-yZr-4kV",
      "execution_count": 11,
      "outputs": []
    },
    {
      "cell_type": "code",
      "execution_count": 12,
      "id": "18a97eeb",
      "metadata": {
        "id": "18a97eeb",
        "colab": {
          "base_uri": "https://localhost:8080/"
        },
        "outputId": "1cc8430c-2fd0-48ab-85d2-42f2d23ab5ec"
      },
      "outputs": [
        {
          "output_type": "stream",
          "name": "stdout",
          "text": [
            "trunk_diam: 3.7176523208618155 |trunk_length: 698.0975964944687 |branch_diam: 1.475351301247016 |branch_length: 1081.9141048660235\n"
          ]
        }
      ],
      "source": [
        "\n",
        "# # Load biophysical parameters from a json file\n",
        "# filepath = os.path.join(paths.RESOURCES_ROOT, 'biophys_parameters/ReducedOrderL5_passive.json')\n",
        "# with open(filepath) as f:\n",
        "#     biophys_param = json.load(f)\n",
        "# for genome in biophys_param['genome']:\n",
        "#     if genome['value'] != \"\": genome['value'] = float(genome['value'])\n",
        "\n",
        "h.load_file('L5PCbiophys3.hoc')\n",
        "\n",
        "# # Load morphology parameters from a csv file\n",
        "# geometry = pd.read_csv(paths.GEO_REDUCED_ORDER, index_col='id')\n",
        "h.load_file(\"import3d.hoc\")\n",
        "\n",
        "\n",
        "# Create a cell object\n",
        "# cell = ReducedOrderL5CellPassiveDendrite(geometry=geometry, full_biophys=biophys_param)\n",
        "h.load_file('L5PCtemplate.hoc')\n",
        "complex_cell = h.L5PCtemplate('cell1.asc')\n",
        "h.celsius = 37\n",
        "h.v_init = complex_cell.soma[0].e_pas\n",
        "\n",
        "synapses_list=[]\n",
        "netcons_list=[]\n",
        "\n",
        "#reduce dendritic trees to cables\n",
        "reduced_cell, synapses_list, netcons_list, txt = subtree_reductor(complex_cell, synapses_list, netcons_list, reduction_frequency=0,return_seg_to_seg=True)\n",
        "\n",
        "# print('reduced cell n3d')\n",
        "# for sec in reduced_cell.dend:\n",
        "#   print(sec,sec.n3d())\n",
        "\n",
        "#expand cables to idealized dendritic trees\n",
        "sections_to_expand = [reduced_cell.hoc_model.apic[0]]\n",
        "furcations_x=[0.289004]\n",
        "nbranches=[4]\n",
        "reduced_dendritic_cell, synapses_list, netcons_list, txt = cable_expander(reduced_cell, sections_to_expand, furcations_x, nbranches, \n",
        "                                                                          synapses_list, netcons_list, reduction_frequency=0,return_seg_to_seg=True)\n",
        "# print('dendritic cell n3d')\n",
        "# for sec in reduced_dendritic_cell.all:\n",
        "#   print(sec, sec.n3d())"
      ]
    },
    {
      "cell_type": "code",
      "source": [
        "# try to fix dendrite's beginning location by looking at soma 3d coordinates:\n",
        "for sec in [reduced_dendritic_cell.soma]:\n",
        "  for i in range(sec.n3d()):\n",
        "    print(sec.x3d(i),sec.y3d(i),sec.z3d(i))\n",
        "\n",
        "#soma has many 3d coordinates and current implementation begins dendrites at 3dcoordinates[1]"
      ],
      "metadata": {
        "colab": {
          "base_uri": "https://localhost:8080/"
        },
        "id": "1loNS7qGmRQ1",
        "outputId": "4af16de1-a253-45d8-b410-3da80ab35a31"
      },
      "id": "1loNS7qGmRQ1",
      "execution_count": 13,
      "outputs": [
        {
          "output_type": "stream",
          "name": "stdout",
          "text": [
            "34.16338348388672 17.62152671813965 -50.25\n",
            "35.31959915161133 17.693740844726562 -50.25\n",
            "36.4758186340332 17.76595687866211 -50.25\n",
            "37.63203430175781 17.838171005249023 -50.25\n",
            "38.78825378417969 17.91038703918457 -50.25\n",
            "39.9444694519043 17.982601165771484 -50.25\n",
            "41.100685119628906 18.05481719970703 -50.25\n",
            "42.25690460205078 18.127031326293945 -50.25\n",
            "43.41312026977539 18.199247360229492 -50.25\n",
            "44.569339752197266 18.27146339416504 -50.25\n",
            "45.725555419921875 18.343677520751953 -50.25\n",
            "46.88177490234375 18.4158935546875 -50.25\n",
            "48.03799057006836 18.488107681274414 -50.25\n",
            "49.194210052490234 18.56032371520996 -50.25\n",
            "50.350425720214844 18.632539749145508 -50.25\n",
            "51.50664520263672 18.704753875732422 -50.25\n",
            "52.66286087036133 18.77696990966797 -50.25\n",
            "53.8190803527832 18.849185943603516 -50.25\n",
            "54.97529602050781 18.92140007019043 -50.25\n",
            "56.13151550292969 18.993614196777344 -50.25\n",
            "57.2877311706543 19.06583023071289 -50.25\n"
          ]
        }
      ]
    },
    {
      "cell_type": "code",
      "source": [
        "import random\n",
        "#use defined cell_model class for generating 3d coordinates, recording ECP, 'book-keeping' etc...\n",
        "random.seed(2)\n",
        "cell = cell_model(reduced_dendritic_cell,synapses_list=synapses_list,netcons_list=netcons_list,spike_threshold = 10)\n",
        "# cell._nbranch=4\n",
        "cell._nbranch=4\n",
        "\n",
        "# Create synaptic input\n",
        "stim = h.NetStim()\n",
        "frequency=15 #(hz)\n",
        "spikeinterval = (1/frequency)*1000 #convert to T and milliseconds\n",
        "stim.interval=spikeinterval\n",
        "print(str(stim.interval))\n",
        "stim.number = 3  # only one event\n",
        "stim.start = 2.0  # delay (ms)\n",
        "\n",
        "gmax = 1  # default synapse maximum conductance (uS)\n",
        "# Add synapse to soma\n",
        "cell.add_synapse(stim, sec_index=0, gmax=gmax)\n",
        "# Add synapse to apical tufts\n",
        "for i,sec in enumerate(cell.apic):\n",
        "    cell.add_synapse(stim, sec_index=cell.all.index(sec), gmax=gmax / cell._nbranch) # need to adjust to only tufts"
      ],
      "metadata": {
        "colab": {
          "base_uri": "https://localhost:8080/"
        },
        "id": "rSTUwzTfqEX2",
        "outputId": "df08bc20-2e7c-4624-c836-9db5d5492b9c"
      },
      "id": "rSTUwzTfqEX2",
      "execution_count": 14,
      "outputs": [
        {
          "output_type": "stream",
          "name": "stdout",
          "text": [
            "66.66666666666667\n"
          ]
        }
      ]
    },
    {
      "cell_type": "code",
      "source": [
        "# # compare \n",
        "# for sec in cell.all:\n",
        "#   for i in range(sec.n3d()):\n",
        "#     print(sec.x3d(i))"
      ],
      "metadata": {
        "id": "4QUvM0h7JzFG"
      },
      "id": "4QUvM0h7JzFG",
      "execution_count": 15,
      "outputs": []
    },
    {
      "cell_type": "code",
      "source": [
        "# print(cell.seg_coords['pc'][0])"
      ],
      "metadata": {
        "id": "gE3JYuFhM1_6"
      },
      "id": "gE3JYuFhM1_6",
      "execution_count": 16,
      "outputs": []
    },
    {
      "cell_type": "code",
      "source": [
        "# dir(cell)"
      ],
      "metadata": {
        "id": "akYHQOGDKiW5"
      },
      "id": "akYHQOGDKiW5",
      "execution_count": 17,
      "outputs": []
    },
    {
      "cell_type": "code",
      "source": [
        "make_reduced_seg_df(cell,\"segments_expanded.csv\") #need to improve make_reduced_seg_df\n",
        "expanded_segments_df=pd.read_csv(\"segments_expanded.csv\")\n",
        "plot_morphology(expanded_segments_df,\"expanded_morphology.svg\")"
      ],
      "metadata": {
        "colab": {
          "base_uri": "https://localhost:8080/",
          "height": 830
        },
        "id": "-ZwVHxQl5gLh",
        "outputId": "cbeb801b-3e78-4ab2-d2fc-8ee08abc6c01"
      },
      "id": "-ZwVHxQl5gLh",
      "execution_count": 18,
      "outputs": [
        {
          "output_type": "display_data",
          "data": {
            "text/plain": [
              "<Figure size 400x1000 with 1 Axes>"
            ],
            "image/png": "[encoded data removed]"
          },
          "metadata": {}
        }
      ]
    },
    {
      "cell_type": "code",
      "source": [
        "import os\n",
        "\n",
        "RunningInCOLAB = 'google.colab' in str(get_ipython())\n",
        "if RunningInCOLAB:\n",
        "    !pip install neuron==8.0.0 &> /dev/null\n",
        "    os.chdir('/content')\n",
        "    if not os.path.isdir('Stylized-Single-Cell-and-Extracellular-Potential'):\n",
        "        !git clone https://github.com/chenziao/Stylized-Single-Cell-and-Extracellular-Potential.git &> /dev/null \n",
        "    os.chdir('Stylized-Single-Cell-and-Extracellular-Potential')\n",
        "    %ls"
      ],
      "metadata": {
        "id": "D6vyubrwOvA_",
        "colab": {
          "base_uri": "https://localhost:8080/"
        },
        "outputId": "5caf1d4b-b80e-4ecc-9ede-f3786b069e34"
      },
      "id": "D6vyubrwOvA_",
      "execution_count": 19,
      "outputs": [
        {
          "output_type": "stream",
          "name": "stdout",
          "text": [
            "\u001b[0m\u001b[01;34mcell_inference\u001b[0m/  Stylized_Single_Cell_Extracellular_Potential_Tutorial.ipynb\n"
          ]
        }
      ]
    },
    {
      "cell_type": "code",
      "source": [
        "from cell_inference.config import params, paths\n",
        "from cell_inference.cells.activecell_axon import ReducedOrderL5Cell, ReducedOrderL5CellPassiveDendrite\n",
        "from cell_inference.utils.currents.ecp import EcpMod\n",
        "from cell_inference.utils.currents.recorder import Recorder\n",
        "from cell_inference.utils.plotting.plot_morphology import plot_morphology\n",
        "from cell_inference.utils.plotting.plot_results import plot_lfp_heatmap, plot_lfp_traces\n",
        "from cell_inference.utils.plotting.plot_variable_with_morphology import plot_variable_with_morphology\n",
        "from cell_inference.utils.metrics.measure_segment_distance import measure_segment_distance"
      ],
      "metadata": {
        "id": "X7p40K3RO1RQ"
      },
      "id": "X7p40K3RO1RQ",
      "execution_count": 20,
      "outputs": []
    },
    {
      "cell_type": "code",
      "source": [
        "h.dt = params.DT  # time step\n",
        "h.steps_per_ms = 1/h.dt\n",
        "h.tstop = params.TSTOP  # simulation stop time\n",
        "\n",
        "# Record time points\n",
        "t_vec = h.Vector(round(h.tstop / h.dt) + 1).record(h._ref_t)\n",
        "\n",
        "# Record membrane voltage of all segments\n",
        "V_rec = Recorder(cell.segments)"
      ],
      "metadata": {
        "id": "m_npKvVUO4JD"
      },
      "id": "m_npKvVUO4JD",
      "execution_count": 21,
      "outputs": []
    },
    {
      "cell_type": "markdown",
      "id": "22d6f6e6",
      "metadata": {
        "id": "22d6f6e6"
      },
      "source": [
        "### Add electrodes (Neuropixel)\n",
        "A probe with 384 electrodes [https://www.neuropixels.org/probe](https://www.neuropixels.org/probe). The coordinates of each electrode is a row in the array printed below."
      ]
    },
    {
      "cell_type": "code",
      "execution_count": 22,
      "id": "8fdb0017",
      "metadata": {
        "id": "8fdb0017",
        "colab": {
          "base_uri": "https://localhost:8080/"
        },
        "outputId": "00d6dabd-6b86-4668-f25c-ac5083d3eca0"
      },
      "outputs": [
        {
          "output_type": "stream",
          "name": "stdout",
          "text": [
            "(384, 3)\n",
            "[[   -8. -1910.     0.]\n",
            " [   24. -1910.     0.]\n",
            " [  -24. -1890.     0.]\n",
            " ...\n",
            " [   24.  1890.     0.]\n",
            " [  -24.  1910.     0.]\n",
            " [    8.  1910.     0.]]\n"
          ]
        }
      ],
      "source": [
        "elec_pos = params.ELECTRODE_POSITION\n",
        "ecp = EcpMod(cell, elec_pos, min_distance=params.MIN_DISTANCE)  # create an ECP object for extracellular potential\n",
        "\n",
        "# coordinates (x, y, z) of electrodes\n",
        "print(params.ELECTRODE_POSITION.shape)\n",
        "print(params.ELECTRODE_POSITION)"
      ]
    },
    {
      "cell_type": "markdown",
      "id": "c5323608",
      "metadata": {
        "id": "c5323608"
      },
      "source": [
        "## Custom settings\n",
        "\n",
        "Using the interactive tools below, you can change the position of the cell, and change the synapse strength and location on the cell.\n",
        "\n",
        "#### Cell position parameters (x, y, z, alpha, h, phi)\n",
        "Starting with soma at the origin, apical dendrite along y-axis, rotate and translate the cell to the desired position determined by 6 parameters. First, rotate alpha about the y-axis (spin), then rotate beta=arccos(h) about the x-axis (elevation), then rotate phi about the y-axis (azimuth). Finally translate the cell by (x,y,z).\n",
        "\n",
        "Use the sliders to change the 6 position parameters. Use the sliders 'elev' and 'azim' to change view of the 3D plot."
      ]
    },
    {
      "cell_type": "code",
      "execution_count": 23,
      "id": "a3df63ce",
      "metadata": {
        "id": "a3df63ce",
        "colab": {
          "base_uri": "https://localhost:8080/",
          "height": 813,
          "referenced_widgets": [
            "c0e7a8243007403799637a2e6f0a3bd7",
            "cb06757c076545318cfcaf0a2ad0fd7f",
            "c2b9ddc18813452586318210b5a52e8e",
            "e8caffe8b7e24e699a1ba55642efc324",
            "040b948d93144b9ca4ddb1d650a1a85a",
            "921d870505b74582b7a506a9e913f9cb",
            "0d202c4124464b5b820e089a55515498",
            "a8fed8793ae1420f9669d07dd0818024",
            "55fd8ac0ef2e4515a661a278a059c7b1",
            "692a41ff6a5247eeaaabf9e6293daaa5",
            "8a1eec3e453649cfb0feba9fbe661df5",
            "919ce5e229e84020a4ace1d8c645a595",
            "a05f5ee0c9394bae8ac33eb1eb92820c",
            "747cf5d874d242c095eab59ace388417",
            "7f4b8518f03f4fd689de3359ec12f902",
            "4e054930602445429606b2177019d593",
            "932d6aa2cff44ce9adc69a30ac12b215",
            "774913d3b367426182a9ab25ed4ce427",
            "5c2bb6c49f2940b9a91e90171e44f7a8",
            "32b269fa52c54addacac61856da718d7",
            "65b976d98b30429da8e7595d062124c3",
            "ca619783282d4594b57ec2a9bf049977",
            "fa3421d3f8724300a11c9dd6c81bb822",
            "03ac94af7a9b4b2e949948def5bed801",
            "711d5d9fc52544ddaa96952d729ccc16",
            "500817ec9e764d46a7c70d1c95c3a38f",
            "2d61c5b777544129bbb63fde9cf8ba37",
            "c4062a6ca4004cdca794cc130e189344",
            "088f37670b134754b02bc995a09d5a2e",
            "0091bc2806bb47fd901a483b7f623784",
            "47ee789ea1284229b2824bc7cacd28bd",
            "c9c00c80faf349918e7991843821bfa5",
            "59a3ddefbfad45ae85325219e782eb8c",
            "ae1d1e6a2e3e40feb2cae8a13f659e0a",
            "e97c9f40a8464c0c9bc3ac174b50b248",
            "dc10089a5d8a48148ada8920682b4f7b",
            "cda5e8832d7e4dda939c3edd0cc74a86",
            "2688003104794302b912bc2d50f652c6",
            "70223b9d0d2f487b8fb65ebd90101e1d",
            "6a0fe922ef304f59a8b68654c092dfc0",
            "c0ed5e16b1884e1e9007f5fa5d442363"
          ]
        },
        "outputId": "41cb60ca-d28b-457c-b5ae-2babe5a6d40d"
      },
      "outputs": [
        {
          "output_type": "display_data",
          "data": {
            "text/plain": [
              "VBox(children=(Button(button_style='primary', description='Reset', icon='history', style=ButtonStyle()), HBox(…"
            ],
            "application/vnd.jupyter.widget-view+json": {
              "version_major": 2,
              "version_minor": 0,
              "model_id": "c0e7a8243007403799637a2e6f0a3bd7"
            }
          },
          "metadata": {}
        }
      ],
      "source": [
        "loc_param_default = [0., 0., 80., 0., 1., 0.]  # Default position parameters\n",
        "elev, azim = 10, 90  # Default view\n",
        "# clr = ['g', 'yellow', 'orange', 'red', 'b', 'c', 'g', 'yellow', 'orange', 'red', 'pink', 'purple']  # section color\n",
        "clr=[]\n",
        "clr.extend(['black' for i in range(len([cell.soma]))]) # soma color\n",
        "clr.extend(['red' for i in range(len(cell.dend))]) #dend colors\n",
        "clr.extend(['purple' for i  in range(len(cell.axon))]) # axon colors\n",
        "clr.extend(['blue']) #trunk color\n",
        "clr.extend(['green' for i in range(len(cell.apic)-1)])  # branch colors\n",
        "\n",
        "def interactive_plot(x, y, z, alpha, beta, phi, elev, azim):\n",
        "    global loc_param\n",
        "    loc_param = (x, y, z, np.pi/180*alpha, np.cos(np.pi/180*beta), np.pi/180*phi)\n",
        "    fig, ax = plot_morphology(cell=cell, electrodes=elec_pos, move_cell=loc_param,\n",
        "                    elev=-elev, azim=-azim, figsize=(12, 8), clr = clr)\n",
        "    plt.show()\n",
        "\n",
        "xslider = Layout(width='500px')\n",
        "yslider = Layout(height='350px')\n",
        "w_reset = widgets.Button(description='Reset', icon='history', button_style='primary')\n",
        "w_x = widgets.FloatSlider(value=loc_param_default[0], min=-200, max=200, step=1, description='x (um)', continuous_update=False, readout_format='.0f')\n",
        "w_y = widgets.FloatSlider(value=loc_param_default[1], min=-1000, max=1000, step=1, description='y (um)', continuous_update=False, readout_format='.0f')\n",
        "w_z = widgets.FloatSlider(value=loc_param_default[2], min=20, max=400, step=1, description='z (um)', continuous_update=False, readout_format='.0f')\n",
        "w_alpha = widgets.FloatSlider(value=180/np.pi*loc_param_default[3], min=-180, max=180, step=1, description='alpha (deg)', continuous_update=False, readout_format='.0f')\n",
        "w_beta = widgets.FloatSlider(value=180/np.pi*np.arccos(loc_param_default[4]), min=0, max=180, step=1, description='beta (deg)', continuous_update=False, readout_format='.0f')\n",
        "w_phi = widgets.FloatSlider(value=180/np.pi*loc_param_default[5], min=-180, max=180, step=1, description='phi (deg)', continuous_update=False, readout_format='.0f')\n",
        "w_elev = widgets.FloatSlider(value=-elev, min=-90, max=90, step=1, description='elev (deg)', continuous_update=False, readout_format='.0f', orientation='vertical', layout=yslider)\n",
        "w_azim = widgets.FloatSlider(value=-azim, min=-180, max=180, step=1, description='azim (deg)', continuous_update=False, readout_format='.0f', layout=xslider)\n",
        "\n",
        "def reset_default(*args):\n",
        "    w_x.value, w_y.value, w_z.value = loc_param_default[:3]\n",
        "    w_alpha.value = 180 / np.pi * loc_param_default[3]\n",
        "    w_beta.value = 180 / np.pi * np.arccos(loc_param_default[4])\n",
        "    w_phi.value = 180 / np.pi * loc_param_default[5]\n",
        "    w_elev.value, w_azim.value = -elev, -azim\n",
        "w_reset.on_click(reset_default)\n",
        "\n",
        "out = interactive_output(interactive_plot, {'x': w_x, 'y': w_y, 'z': w_z, 'alpha': w_alpha, 'beta': w_beta, 'phi': w_phi, 'elev': w_elev, 'azim': w_azim})\n",
        "ui = VBox([ w_reset, HBox([ VBox([w_x, w_y, w_z]), VBox([w_alpha, w_beta, w_phi]) ]), HBox([ VBox([out, w_azim]), w_elev]) ])\n",
        "\n",
        "display(ui)"
      ]
    },
    {
      "cell_type": "markdown",
      "source": [
        "set azim to -90 in order to focus on zy plane view. 2D plot is of xy plane."
      ],
      "metadata": {
        "id": "OPZrMhcBjnec"
      },
      "id": "OPZrMhcBjnec"
    },
    {
      "cell_type": "markdown",
      "id": "0d582310",
      "metadata": {
        "id": "0d582310"
      },
      "source": [
        "#### Set synaptic input\n",
        "\n",
        "Use the toggle button to switch synapse location between the soma and the proximal apical tuft dendrite. Use the slider 'Synapse maximal conductance' to change synapse strength."
      ]
    },
    {
      "cell_type": "code",
      "execution_count": 24,
      "id": "ce8d1856",
      "metadata": {
        "id": "ce8d1856",
        "colab": {
          "base_uri": "https://localhost:8080/",
          "height": 81,
          "referenced_widgets": [
            "bc5277a0540f4bebaebc1eee42ac194d",
            "822c37e2b4d34364b7e28ec9a40e4641",
            "837b30a2ef25427c9f3c9d818aa153e0",
            "fd6564f97a7e4097861a9f9b45b2e2b7",
            "0f43634058964fc1a0943e5b4bd780d3",
            "76782083b4b14b52a54dcb92d229ad66",
            "a367f4bc20fe4dc99ee87dff9aea8ccb",
            "21abdf4ec0b34868a941a85189633952",
            "a806033b04ea43bcb69a2c079ed57d19",
            "775270a01ab94ed8842a552495d9c1ae",
            "9c92e9994f3b4a91919f48579193ee16",
            "77c60234d1864ee295bef66916a1061a",
            "825496913f6645288a30b60ebd403b63"
          ]
        },
        "outputId": "0eb2aa45-bd35-467d-bb12-3553e58b2b73"
      },
      "outputs": [
        {
          "output_type": "display_data",
          "data": {
            "text/plain": [
              "VBox(children=(ToggleButtons(options=('Soma', 'Apical tuft (proximal)'), value='Soma'), HBox(children=(Label(v…"
            ],
            "application/vnd.jupyter.widget-view+json": {
              "version_major": 2,
              "version_minor": 0,
              "model_id": "bc5277a0540f4bebaebc1eee42ac194d"
            }
          },
          "metadata": {}
        }
      ],
      "source": [
        "w_syn_site = widgets.ToggleButtons(options=['Soma', 'Apical tuft (proximal)'])\n",
        "w_gmax = widgets.FloatSlider(value=gmax, min=0, max=0.1, step=0.0002, readout_format='.4f')\n",
        "display(VBox([w_syn_site, HBox([Label('Synapse maximal conductance (uS)'), w_gmax])]))\n",
        "\n",
        "def set_synapse():\n",
        "    soma_syn = w_syn_site.value == 'Soma'\n",
        "    gmax_soma = w_gmax.value if soma_syn else 0\n",
        "    gmax_tuft = 0 if soma_syn else w_gmax.value / cell._nbranch\n",
        "    cell.synapse[0].set_gmax(gmax_soma)\n",
        "    for syn in cell.synapse[1:]:\n",
        "        syn.set_gmax(gmax_tuft)"
      ]
    },
    {
      "cell_type": "code",
      "source": [
        "# try to extract syn and gmax for plot information\n",
        "print(w_gmax)\n",
        "print(w_syn_site)"
      ],
      "metadata": {
        "colab": {
          "base_uri": "https://localhost:8080/"
        },
        "id": "nqUJhNE_22Nn",
        "outputId": "f6c8ccf2-c805-4ac4-d74a-0766e0f58092"
      },
      "id": "nqUJhNE_22Nn",
      "execution_count": 25,
      "outputs": [
        {
          "output_type": "stream",
          "name": "stdout",
          "text": [
            "FloatSlider(value=0.1, max=0.1, readout_format='.4f', step=0.0002)\n",
            "ToggleButtons(options=('Soma', 'Apical tuft (proximal)'), value='Soma')\n"
          ]
        }
      ]
    },
    {
      "cell_type": "code",
      "source": [
        "nseg = len(cell.segments)\n",
        "numTstep = int(h.tstop/h.dt)\n",
        "#since synapse list has combined synapses for computational efficiency, we must use NetCon list/unique spike trains to determine how many synapses were mapped\n",
        "NetCon_per_seg=[0]*nseg\n",
        "inh_NetCon_per_seg=[0]*nseg\n",
        "exc_NetCon_per_seg=[0]*nseg\n",
        "\n",
        "i_NMDA_bySeg= [[0] * (numTstep+1) ] * nseg # need to implement inmda recording\n",
        "\n",
        "v_rest=-60 #choose v_rest for categorizing inh/exc synapses\n",
        "\n",
        "for netcon in cell.netcons_list:\n",
        "  syn=netcon.syn()\n",
        "  if syn in synapses_list:\n",
        "    syn_seg_id=cell.segments.index(netcon.syn().get_segment())\n",
        "    if syn in cell.segments[syn_seg_id].point_processes():\n",
        "      NetCon_per_seg[syn_seg_id]+=1 # get synapses per segment\n",
        "      # NetCon_per_seg[syn_seg_id].append(netcon) # possible implementation if needing objects per segment\n",
        "      if syn.e > v_rest:\n",
        "        exc_NetCon_per_seg[syn_seg_id]+=1\n",
        "        # exc_NetCon_per_seg[syn_seg_id].append(netcon)# possible implementation if needing objects per segment\n",
        "      else:\n",
        "        inh_NetCon_per_seg[syn_seg_id]+=1\n",
        "        # inh_NetCon_per_seg[syn_seg_id].append(netcon)# possible implementation if needing objects per segment\n",
        "    else:\n",
        "      print(\"Warning: synapse not in designated segment's point processes\")\n",
        "\n",
        "  else:\n",
        "    print(\"Warning: potentially deleted synapse:\",\"|NetCon obj:\",netcon,\"|Synapse obj:\",syn,\"the NetCon's synapse is not in synapses_list. Check corresponding original cell's NetCon for location, etc.\")\n",
        "\n",
        "#extract inmda from each segment # can be adjusted for gaba synapses or alpha synapses # only paired nmda/ampa synapses have vec_list[1]\n",
        "for synapse in cell.synapse:\n",
        "  try:\n",
        "    i_NMDA = np.array(synapse.rec_vec.vec_list[1])            #current = numpy array of NEURON Vector of current NMDA current at synapse j  \n",
        "    seg = synapse.get_segment_id()                            #seg = the segment in which synapse j is located \n",
        "    #print('first try')\n",
        "    \n",
        "    try:\n",
        "      i_NMDA_bySeg[seg] = i_NMDA_bySeg[seg] + i_NMDA    \n",
        "      #print('second try')                                           #Sum current over each segment\n",
        "    except: \n",
        "      pass                                                                   #Except needed as some synpases do not have NMDA currrent and throw an error when called\n",
        "  except:\n",
        "    pass"
      ],
      "metadata": {
        "colab": {
          "base_uri": "https://localhost:8080/"
        },
        "id": "-tri29bnwjC6",
        "outputId": "44bb5c50-842c-41ec-ac50-55b7c530b3b0"
      },
      "id": "-tri29bnwjC6",
      "execution_count": 26,
      "outputs": [
        {
          "output_type": "stream",
          "name": "stdout",
          "text": [
            "Warning: potentially deleted synapse: |NetCon obj: NetCon[0] |Synapse obj: Exp2Syn[0] the NetCon's synapse is not in synapses_list. Check corresponding original cell's NetCon for location, etc.\n",
            "Warning: potentially deleted synapse: |NetCon obj: NetCon[1] |Synapse obj: Exp2Syn[1] the NetCon's synapse is not in synapses_list. Check corresponding original cell's NetCon for location, etc.\n",
            "Warning: potentially deleted synapse: |NetCon obj: NetCon[2] |Synapse obj: Exp2Syn[2] the NetCon's synapse is not in synapses_list. Check corresponding original cell's NetCon for location, etc.\n",
            "Warning: potentially deleted synapse: |NetCon obj: NetCon[3] |Synapse obj: Exp2Syn[3] the NetCon's synapse is not in synapses_list. Check corresponding original cell's NetCon for location, etc.\n",
            "Warning: potentially deleted synapse: |NetCon obj: NetCon[4] |Synapse obj: Exp2Syn[4] the NetCon's synapse is not in synapses_list. Check corresponding original cell's NetCon for location, etc.\n",
            "Warning: potentially deleted synapse: |NetCon obj: NetCon[5] |Synapse obj: Exp2Syn[5] the NetCon's synapse is not in synapses_list. Check corresponding original cell's NetCon for location, etc.\n"
          ]
        }
      ]
    },
    {
      "cell_type": "code",
      "source": [
        "%ls"
      ],
      "metadata": {
        "colab": {
          "base_uri": "https://localhost:8080/"
        },
        "id": "ynXvkXxb1dST",
        "outputId": "e4fbb973-7674-458a-f4b1-a1390f6bf629"
      },
      "id": "ynXvkXxb1dST",
      "execution_count": 27,
      "outputs": [
        {
          "output_type": "stream",
          "name": "stdout",
          "text": [
            "\u001b[0m\u001b[01;34mcell_inference\u001b[0m/  Stylized_Single_Cell_Extracellular_Potential_Tutorial.ipynb\n"
          ]
        }
      ]
    },
    {
      "cell_type": "code",
      "source": [
        "output_folder_name=str(nbranches[0])+\"nbranch_outputcontrol_\"+str(int(len(cell.synapse)))+\"nsyn\"#+modelname  #include model name in output foler name (ex. original cell, reduced cell, expanded cell)\n",
        "#create output folder\n",
        "import os\n",
        "if not os.path.exists(output_folder_name):\n",
        "   os.makedirs(output_folder_name)\n",
        "\n",
        "print(output_folder_name)\n",
        "os.chdir(output_folder_name)"
      ],
      "metadata": {
        "colab": {
          "base_uri": "https://localhost:8080/"
        },
        "id": "LeeK1qu11Zhv",
        "outputId": "0d04fb6a-8ad5-4642-dae1-782ef267096b"
      },
      "id": "LeeK1qu11Zhv",
      "execution_count": 28,
      "outputs": [
        {
          "output_type": "stream",
          "name": "stdout",
          "text": [
            "4nbranch_outputcontrol_6nsyn\n"
          ]
        }
      ]
    },
    {
      "cell_type": "code",
      "source": [
        "#save geometry file\n",
        "cell.geometry.to_csv('geometry.csv')"
      ],
      "metadata": {
        "id": "2dNBijayE1zu"
      },
      "id": "2dNBijayE1zu",
      "execution_count": 29,
      "outputs": []
    },
    {
      "cell_type": "code",
      "source": [
        "#Should add \"syn per seg\" to seg data frame #also can try doing SynPerSeg/segL to have more of a density metric\n",
        "#can adjust functions to take df arguement\n",
        "def plotSynDensity(SynPerSeg,Type=str):\n",
        "  plt.figure(figsize=(4,10))\n",
        "  ax = plt.scatter(expanded_segments_df[\"Coord X\"], expanded_segments_df[\"Coord Y\"],c = SynPerSeg[0:nseg],cmap='jet',)\n",
        "  plt.vlines(110,400,500)\n",
        "  plt.text(0,450,'100 um')\n",
        "  plt.hlines(400,110,210)\n",
        "  plt.text(110,350,'100 um')\n",
        "  plt.xticks([])\n",
        "  plt.yticks([])\n",
        "  cbar = plt.colorbar()\n",
        "  cbar.ax.set_ylabel(Type+'Synapses per segment', rotation=270)\n",
        "\n",
        "  plt.box(False)\n",
        "  plt.savefig(Type+'_syns.svg')\n",
        "\n",
        "def plotSynDensityNoSoma(SynPerSeg,Type=str):\n",
        "  plt.figure(figsize=(4,10))\n",
        "  ax = plt.scatter(expanded_segments_df[\"Coord X\"][1:], expanded_segments_df[\"Coord Y\"][1:],c = SynPerSeg[1:nseg],cmap='jet',)\n",
        "  plt.vlines(110,400,500)\n",
        "  plt.text(0,450,'100 um')\n",
        "  plt.hlines(400,110,210)\n",
        "  plt.text(110,350,'100 um')\n",
        "  plt.xticks([])\n",
        "  plt.yticks([])\n",
        "  cbar = plt.colorbar()\n",
        "  cbar.ax.set_ylabel(Type+'Synapses per segment', rotation=270)\n",
        "\n",
        "  plt.box(False)\n",
        "  plt.savefig(Type+'_syns.svg')\n",
        "\n",
        "plotSynDensity(exc_NetCon_per_seg,'Exc') #len(cell.segments) #low number of segments makes plot look odd."
      ],
      "metadata": {
        "colab": {
          "base_uri": "https://localhost:8080/",
          "height": 820
        },
        "id": "ZtC6mvhXwL-L",
        "outputId": "c7e783df-902c-4b66-d284-09b97fd7ee3e"
      },
      "id": "ZtC6mvhXwL-L",
      "execution_count": 30,
      "outputs": [
        {
          "output_type": "display_data",
          "data": {
            "text/plain": [
              "<Figure size 400x1000 with 2 Axes>"
            ],
            "image/png": "[encoded data removed]"
          },
          "metadata": {}
        }
      ]
    },
    {
      "cell_type": "code",
      "source": [
        "plotSynDensity(inh_NetCon_per_seg,'Inh') # if soma has too many inh synapses the heatmap is not as interpretable"
      ],
      "metadata": {
        "colab": {
          "base_uri": "https://localhost:8080/",
          "height": 820
        },
        "id": "AuPzXdSdwhme",
        "outputId": "defed696-8a6b-4763-d617-15ba639aefff"
      },
      "id": "AuPzXdSdwhme",
      "execution_count": 31,
      "outputs": [
        {
          "output_type": "display_data",
          "data": {
            "text/plain": [
              "<Figure size 400x1000 with 2 Axes>"
            ],
            "image/png": "[encoded data removed]"
          },
          "metadata": {}
        }
      ]
    },
    {
      "cell_type": "markdown",
      "id": "2ca15375",
      "metadata": {
        "id": "2ca15375"
      },
      "source": [
        "## Run simulation and plot results\n",
        "\n",
        "Run the codes below to simulate and display results everytime after you change the parameters above."
      ]
    },
    {
      "cell_type": "code",
      "execution_count": 32,
      "id": "f81ec874",
      "metadata": {
        "id": "f81ec874",
        "colab": {
          "base_uri": "https://localhost:8080/",
          "height": 1000
        },
        "outputId": "180d167c-455f-4177-f0c7-21b46c6c10a9"
      },
      "outputs": [
        {
          "output_type": "display_data",
          "data": {
            "text/plain": [
              "<Figure size 1000x400 with 1 Axes>"
            ],
            "image/png": "[encoded data removed]"
          },
          "metadata": {}
        },
        {
          "output_type": "display_data",
          "data": {
            "text/plain": [
              "<Figure size 800x500 with 2 Axes>"
            ],
            "image/png": "[encoded data removed]"
          },
          "metadata": {}
        },
        {
          "output_type": "display_data",
          "data": {
            "text/plain": [
              "<Figure size 800x500 with 2 Axes>"
            ],
            "image/png": "[encoded data removed]"
          },
          "metadata": {}
        }
      ],
      "source": [
        "# Run simulation\n",
        "set_synapse()\n",
        "h.run()\n",
        "# Get results\n",
        "t = t_vec.as_numpy().copy()  # time array (ms)\n",
        "# soma membrane potential\n",
        "Vm = V_rec.as_numpy()\n",
        "v_soma = Vm[cell.sec_id_in_seg[cell.all.index(cell.soma)]]\n",
        "v_tfut = Vm[cell.sec_id_in_seg[cell.all.index(cell.apic[1])]]\n",
        "# lfp array\n",
        "lfp = ecp.calc_ecp(move_cell=loc_param).T  # unit: mV\n",
        "\n",
        "# Soma membrane potential\n",
        "plt.figure(figsize=(10, 4))\n",
        "plt.plot(t, v_soma, label='Soma')\n",
        "plt.plot(t, v_tfut, label='Tuft')\n",
        "plt.ylabel('Membrane potential (mV)')\n",
        "plt.xlabel('time (ms)')\n",
        "plt.xlim(t[[0, -1]])\n",
        "plt.legend()\n",
        "plt.savefig('Vm')\n",
        "\n",
        "# Extracellular potential along y-axis\n",
        "y_window = [-1200, 1200]  # select range of y coordinate for plotting\n",
        "ylim = loc_param[1] + np.array(y_window)  # set range of y coordinate\n",
        "max_idx = np.argmax(np.amax(np.abs(lfp), axis=0))  # find the electrode that records maximum magnitude\n",
        "x_dist = elec_pos[max_idx, 0]  # x coordinate of the maximum magnitude electrode\n",
        "e_idx = (elec_pos[:, 0]==x_dist) & (elec_pos[:, 1]>=ylim[0]) & (elec_pos[:, 1]<=ylim[1])  # selected electrode indices\n",
        "\n",
        "fontsize = 15\n",
        "labelpad = -10\n",
        "ticksize = 12\n",
        "tick_length = 5\n",
        "nbins = 5\n",
        "plt.figure(figsize=(8, 5))\n",
        "_ = plot_lfp_heatmap(t=t, elec_d=elec_pos[e_idx, 1], lfp=lfp[:, e_idx],\n",
        "                     fontsize=fontsize, labelpad=labelpad, ticksize=ticksize, tick_length=tick_length,\n",
        "                     nbins=nbins, vlim='auto', axes=plt.gca())\n",
        "plt.title('Extracellular potential heatmap')\n",
        "plt.savefig('ECP heatmap')\n",
        "plt.figure(figsize=(8, 5))\n",
        "_ = plot_lfp_traces(t, lfp[:, e_idx][:,1::3], electrodes=elec_pos[e_idx][1::3],\n",
        "                    fontsize=fontsize, labelpad=labelpad, ticksize=ticksize, tick_length=tick_length,\n",
        "                    nbins=nbins, axes=plt.gca())\n",
        "plt.title('Extracellular potential timecourse')\n",
        "plt.savefig('ECP timecourse')\n",
        "\n",
        "plt.show()"
      ]
    },
    {
      "cell_type": "markdown",
      "id": "5c3e3e52",
      "metadata": {
        "id": "5c3e3e52"
      },
      "source": [
        "## Electrotonic distance\n",
        "\n",
        "Neuron has a tool for electrotonic analysis [https://www.neuron.yale.edu/neuron/static/docs/zclass/zclass.html](https://www.neuron.yale.edu/neuron/static/docs/zclass/zclass.html). It computes the electrotonic distance defined by attenuation, but the classical definition is [anatomical distance/length constant](https://www.neuron.yale.edu/neuron/static/docs/zclass/NIPS94/nipsfin.html).\n",
        "\n",
        "The plot below shows the membrane potential timecourse at several locations on the cell. The electrotonic distance computed by Neuron of each location is also shown with both number and color. The distance should always be a positive value, but it is labeled negative for the basal dendrites and the axon intentionally so that it can be easily distinguished from the apical dendrites."
      ]
    },
    {
      "cell_type": "code",
      "source": [
        "# geometry=cell.geometry"
      ],
      "metadata": {
        "id": "cNsNKTKuB0XA"
      },
      "id": "cNsNKTKuB0XA",
      "execution_count": 33,
      "outputs": []
    },
    {
      "cell_type": "code",
      "execution_count": 34,
      "id": "729a65ff",
      "metadata": {
        "id": "729a65ff"
      },
      "outputs": [],
      "source": [
        "# for syn in cell.synapse:\n",
        "#     syn.set_gmax(0)\n",
        "# h.run()\n",
        "\n",
        "# sec_type_swc = {sec['name']: sec['type'] for _, sec in geometry.iterrows()}\n",
        "# # sec_type = [sec_type_swc[sec.name().split('.')[-1]] for sec in cell.all] # original\n",
        "# # sec_type = [sec_type_swc[sec.name().split('.')[-1].split('[')[0]] for sec in cell.all] # possible alternative?\n",
        "# sec_type = [sec_type_swc[sec.name()] for sec in cell.all]\n",
        "# freq = 0 # Hz\n",
        "# seg_prop, _, _ = measure_segment_distance(cell.soma , cell.all, sec_type, freq)\n",
        "\n",
        "# select_seg = [[cell.sec_id_in_seg[sec[0]], cell.get_sec_by_id(sec[0]).nseg -1] for sec in cell.sec_id_lookup.values()]\n",
        "# select_seg = np.sum(np.array(select_seg), axis=1)\n",
        "# # select_seg = np.unique(np.cumsum(np.array(select_seg), axis=1).ravel())\n",
        "# _ = plot_variable_with_morphology(cell.seg_coords, seg_prop, Vm, t=t, axes=['x', 'y'],\n",
        "#                                   distance_type='elec_dist', n_dist=300,\n",
        "#                                   select_seg=select_seg, max_per_dist=1, varname='Membrane potential (mV)',\n",
        "#                                   space=2., normalized_space=True, sort_by_dist=True,\n",
        "                                  # figsize=(10, 10), fontsize=15, scalebar_size=50)"
      ]
    },
    {
      "cell_type": "markdown",
      "source": [
        "##Transfer Impedance\n",
        "\n"
      ],
      "metadata": {
        "id": "Tc1fFLPUz5Qe"
      },
      "id": "Tc1fFLPUz5Qe"
    },
    {
      "cell_type": "code",
      "execution_count": 35,
      "id": "be859ed7",
      "metadata": {
        "id": "be859ed7"
      },
      "outputs": [],
      "source": [
        "# import numpy as np\n",
        "# from neuron import h\n",
        "# import cmath\n",
        "\n",
        "# def measure_segment_transfer_impedance(soma, section_list, sec_type, freq=0, extracellular_mechanism=True):\n",
        "#     \"\"\"\n",
        "#     soma: soma section object\n",
        "#     section_list: list of sections\n",
        "#     sec_type: list of swc type id of sections\n",
        "#     freq: frequency (Hz) at which electrotonic distance is evaluated\n",
        "#     extracellular_mechanism: whether extracellular mechanism is used\n",
        "#     \"\"\"\n",
        "#     seg_prop = {}\n",
        "#     swc_type = []\n",
        "#     seg_area = []\n",
        "#     seg_dist = []\n",
        "#     seg_length = []\n",
        "#     elec_dist = [] #modulus part of polar form #should change names\n",
        "#     elec_dist0 = [] #modulus of polar form #should change names\n",
        "#     transfer_imps = [] #real part of rectangular form\n",
        "#     transfer_imps0 = [] # real part of rectangular form\n",
        "\n",
        "#     # set up distance origin\n",
        "#     h.distance(0, soma(.5))\n",
        "#     # set up electrotonic origin\n",
        "#     zz = h.Impedance()\n",
        "#     zz.loc(soma(.5))\n",
        "#     if extracellular_mechanism:\n",
        "#         zz.compute(freq + 1 / 9e9, 0) #*\n",
        "#     else:\n",
        "#         zz.compute(freq, 1)\n",
        "#     # measure distance\n",
        "#     for i, sec in enumerate(section_list):\n",
        "#         if sec_type[i]==1:\n",
        "#             transfer_imp=zz.transfer(sec(0.5/sec.nseg)) #*\n",
        "#             transfer_phase=zz.transfer_phase(sec(0.5/sec.nseg)) #*\n",
        "#             elec_dist0.append(transfer_imp) #*\n",
        "#             rect_complex=cmath.rect(transfer_imp,transfer_phase)\n",
        "#             transfer_imps.append(rect_complex.real) #*\n",
        "#         else:\n",
        "#             transfer_imp=zz.transfer(sec.parentseg()) #*\n",
        "#             transfer_phase=zz.transfer_phase(sec.parentseg()) #*\n",
        "#             elec_dist0.append(transfer_imp) #*\n",
        "#             rect_complex=cmath.rect(transfer_imp, transfer_phase) #*\n",
        "#             transfer_imps.append(rect_complex.real) #*\n",
        "#         for j, seg in enumerate(sec):\n",
        "#             swc_type.append(sec_type[i])\n",
        "#             seg_area.append(seg.area())\n",
        "#             seg_dist.append(h.distance(seg))\n",
        "#             seg_length.append(sec.L/sec.nseg)\n",
        "#             if j!=0:\n",
        "#                 elec_dist0.append(elec_dist[-1])\n",
        "#                 transfer_imps.append(transfer_imps0[-1])\n",
        "#             elec_dist.append(zz.transfer(seg)) #*\n",
        "#             transfer_imp=zz.transfer(seg) #*\n",
        "#             transfer_phase=zz.transfer_phase(seg) #*\n",
        "#             rect_complex=cmath.rect(transfer_imp,transfer_phase) #*\n",
        "#             transfer_imps0.append(rect_complex.real) #*\n",
        "\n",
        "#     seg_prop['swc_type'] = np.array(swc_type)\n",
        "#     seg_prop['seg_area'] = np.array(seg_area)\n",
        "\n",
        "#     # distance at endpoints of each segment\n",
        "#     seg_prop['distance'] = np.expand_dims(seg_dist, 1) + np.expand_dims(seg_length, 1) / 2 * np.array([[-1, 1]])\n",
        "#     # seg_prop['transfer_imp'] = np.sort(np.log(elec_dist0[0]) - np.log(np.column_stack([elec_dist0, elec_dist])), axis=1) #*\n",
        "#     seg_prop['transfer_imp_mod'] = np.sort(elec_dist0[0] - np.column_stack([elec_dist0, elec_dist]), axis=1) #*\n",
        "#     seg_prop['transfer_imp_real'] = np.sort(transfer_imps[0] - np.column_stack([transfer_imps, transfer_imps0]), axis=1) #*\n",
        "\n",
        "\n",
        "#     # change sign of basal and axon types\n",
        "#     idx = np.nonzero((seg_prop['swc_type']==2) | (seg_prop['swc_type']==3))[0]\n",
        "#     seg_prop['distance'][idx] = -seg_prop['distance'][idx,::-1]\n",
        "#     seg_prop['transfer_imp_mod'][idx] = -seg_prop['transfer_imp_mod'][idx,::-1] #*\n",
        "#     seg_prop['transfer_imp_real'][idx] = -seg_prop['transfer_imp_real'][idx,::-1] #*\n",
        "#     return seg_prop, zz.transfer(soma(.5)), zz.transfer_phase(soma(.5))\n"
      ]
    },
    {
      "cell_type": "code",
      "source": [
        "# #using modulus of polar form\n",
        "\n",
        "# for syn in cell.synapse:\n",
        "#     syn.set_gmax(0)\n",
        "# h.run()\n",
        "\n",
        "# sec_type_swc = {sec['name']: sec['type'] for _, sec in geometry.iterrows()}\n",
        "# sec_type = [sec_type_swc[sec.name().split('.')[-1]] for sec in cell.all]\n",
        "# freq = 0 # Hz\n",
        "# seg_prop, _, _ = measure_segment_transfer_impedance(cell.soma , cell.all, sec_type, freq)\n",
        "\n",
        "# select_seg = [[cell.sec_id_in_seg[sec[0]], cell.get_sec_by_id(sec[0]).nseg -1] for sec in cell.sec_id_lookup.values()]\n",
        "# select_seg = np.sum(np.array(select_seg), axis=1)\n",
        "# # select_seg = np.unique(np.cumsum(np.array(select_seg), axis=1).ravel())\n",
        "# _ = plot_variable_with_morphology(cell.seg_coords, seg_prop, Vm, t=t, axes=['x', 'y'],\n",
        "#                                   distance_type='transfer_imp_mod', n_dist=300,\n",
        "#                                   select_seg=select_seg, max_per_dist=1, varname='Membrane potential (mV)',\n",
        "#                                   space=2., normalized_space=True, sort_by_dist=True,\n",
        "#                                   figsize=(10, 10), fontsize=15, scalebar_size=50)"
      ],
      "metadata": {
        "id": "yHRymM0L5pJj"
      },
      "id": "yHRymM0L5pJj",
      "execution_count": 36,
      "outputs": []
    },
    {
      "cell_type": "code",
      "source": [
        "# #using real part of rectangular complex form\n",
        "\n",
        "# for syn in cell.synapse:\n",
        "#     syn.set_gmax(0)\n",
        "# h.run()\n",
        "\n",
        "# sec_type_swc = {sec['name']: sec['type'] for _, sec in geometry.iterrows()}\n",
        "# sec_type = [sec_type_swc[sec.name().split('.')[-1]] for sec in cell.all]\n",
        "# freq = 0 # Hz\n",
        "# seg_prop, _, _ = measure_segment_transfer_impedance(cell.soma , cell.all, sec_type, freq)\n",
        "\n",
        "# select_seg = [[cell.sec_id_in_seg[sec[0]], cell.get_sec_by_id(sec[0]).nseg -1] for sec in cell.sec_id_lookup.values()]\n",
        "# select_seg = np.sum(np.array(select_seg), axis=1)\n",
        "# # select_seg = np.unique(np.cumsum(np.array(select_seg), axis=1).ravel())\n",
        "# _ = plot_variable_with_morphology(cell.seg_coords, seg_prop, Vm, t=t, axes=['x', 'y'],\n",
        "#                                   distance_type='transfer_imp_real', n_dist=300,\n",
        "#                                   select_seg=select_seg, max_per_dist=1, varname='Membrane potential (mV)',\n",
        "#                                   space=2., normalized_space=True, sort_by_dist=True,\n",
        "#                                   figsize=(10, 10), fontsize=15, scalebar_size=50)"
      ],
      "metadata": {
        "id": "Ibbz1qMIjWu5"
      },
      "id": "Ibbz1qMIjWu5",
      "execution_count": 37,
      "outputs": []
    },
    {
      "cell_type": "markdown",
      "source": [
        "Transfer Impedance is a complex number"
      ],
      "metadata": {
        "id": "2eSHPclEP0I0"
      },
      "id": "2eSHPclEP0I0"
    },
    {
      "cell_type": "code",
      "source": [
        "# polar_modulus=1\n",
        "# polar_phase=3\n",
        "\n",
        "# complex_rectangular_form=cmath.rect(polar_modulus, polar_phase)\n",
        "# print(complex_rectangular_form)"
      ],
      "metadata": {
        "id": "PM8Xa3WATASj"
      },
      "id": "PM8Xa3WATASj",
      "execution_count": 38,
      "outputs": []
    },
    {
      "cell_type": "code",
      "source": [
        "# complex_rectangular_form.real"
      ],
      "metadata": {
        "id": "BZgkMzBpTLgL"
      },
      "id": "BZgkMzBpTLgL",
      "execution_count": 39,
      "outputs": []
    }
  ],
  "metadata": {
    "colab": {
      "provenance": [],
      "include_colab_link": true
    },
    "kernelspec": {
      "display_name": "Python 3 (ipykernel)",
      "language": "python",
      "name": "python3"
    },
    "language_info": {
      "codemirror_mode": {
        "name": "ipython",
        "version": 3
      },
      "file_extension": ".py",
      "mimetype": "text/x-python",
      "name": "python",
      "nbconvert_exporter": "python",
      "pygments_lexer": "ipython3",
      "version": "3.9.12"
    },
    "widgets": {
      "application/vnd.jupyter.widget-state+json": {
        "c0e7a8243007403799637a2e6f0a3bd7": {
          "model_module": "@jupyter-widgets/controls",
          "model_name": "VBoxModel",
          "model_module_version": "1.5.0",
          "state": {
            "_dom_classes": [],
            "_model_module": "@jupyter-widgets/controls",
            "_model_module_version": "1.5.0",
            "_model_name": "VBoxModel",
            "_view_count": null,
            "_view_module": "@jupyter-widgets/controls",
            "_view_module_version": "1.5.0",
            "_view_name": "VBoxView",
            "box_style": "",
            "children": [
              "IPY_MODEL_cb06757c076545318cfcaf0a2ad0fd7f",
              "IPY_MODEL_c2b9ddc18813452586318210b5a52e8e",
              "IPY_MODEL_e8caffe8b7e24e699a1ba55642efc324"
            ],
            "layout": "IPY_MODEL_040b948d93144b9ca4ddb1d650a1a85a"
          }
        },
        "cb06757c076545318cfcaf0a2ad0fd7f": {
          "model_module": "@jupyter-widgets/controls",
          "model_name": "ButtonModel",
          "model_module_version": "1.5.0",
          "state": {
            "_dom_classes": [],
            "_model_module": "@jupyter-widgets/controls",
            "_model_module_version": "1.5.0",
            "_model_name": "ButtonModel",
            "_view_count": null,
            "_view_module": "@jupyter-widgets/controls",
            "_view_module_version": "1.5.0",
            "_view_name": "ButtonView",
            "button_style": "primary",
            "description": "Reset",
            "disabled": false,
            "icon": "history",
            "layout": "IPY_MODEL_921d870505b74582b7a506a9e913f9cb",
            "style": "IPY_MODEL_0d202c4124464b5b820e089a55515498",
            "tooltip": ""
          }
        },
        "c2b9ddc18813452586318210b5a52e8e": {
          "model_module": "@jupyter-widgets/controls",
          "model_name": "HBoxModel",
          "model_module_version": "1.5.0",
          "state": {
            "_dom_classes": [],
            "_model_module": "@jupyter-widgets/controls",
            "_model_module_version": "1.5.0",
            "_model_name": "HBoxModel",
            "_view_count": null,
            "_view_module": "@jupyter-widgets/controls",
            "_view_module_version": "1.5.0",
            "_view_name": "HBoxView",
            "box_style": "",
            "children": [
              "IPY_MODEL_a8fed8793ae1420f9669d07dd0818024",
              "IPY_MODEL_55fd8ac0ef2e4515a661a278a059c7b1"
            ],
            "layout": "IPY_MODEL_692a41ff6a5247eeaaabf9e6293daaa5"
          }
        },
        "e8caffe8b7e24e699a1ba55642efc324": {
          "model_module": "@jupyter-widgets/controls",
          "model_name": "HBoxModel",
          "model_module_version": "1.5.0",
          "state": {
            "_dom_classes": [],
            "_model_module": "@jupyter-widgets/controls",
            "_model_module_version": "1.5.0",
            "_model_name": "HBoxModel",
            "_view_count": null,
            "_view_module": "@jupyter-widgets/controls",
            "_view_module_version": "1.5.0",
            "_view_name": "HBoxView",
            "box_style": "",
            "children": [
              "IPY_MODEL_8a1eec3e453649cfb0feba9fbe661df5",
              "IPY_MODEL_919ce5e229e84020a4ace1d8c645a595"
            ],
            "layout": "IPY_MODEL_a05f5ee0c9394bae8ac33eb1eb92820c"
          }
        },
        "040b948d93144b9ca4ddb1d650a1a85a": {
          "model_module": "@jupyter-widgets/base",
          "model_name": "LayoutModel",
          "model_module_version": "1.2.0",
          "state": {
            "_model_module": "@jupyter-widgets/base",
            "_model_module_version": "1.2.0",
            "_model_name": "LayoutModel",
            "_view_count": null,
            "_view_module": "@jupyter-widgets/base",
            "_view_module_version": "1.2.0",
            "_view_name": "LayoutView",
            "align_content": null,
            "align_items": null,
            "align_self": null,
            "border": null,
            "bottom": null,
            "display": null,
            "flex": null,
            "flex_flow": null,
            "grid_area": null,
            "grid_auto_columns": null,
            "grid_auto_flow": null,
            "grid_auto_rows": null,
            "grid_column": null,
            "grid_gap": null,
            "grid_row": null,
            "grid_template_areas": null,
            "grid_template_columns": null,
            "grid_template_rows": null,
            "height": null,
            "justify_content": null,
            "justify_items": null,
            "left": null,
            "margin": null,
            "max_height": null,
            "max_width": null,
            "min_height": null,
            "min_width": null,
            "object_fit": null,
            "object_position": null,
            "order": null,
            "overflow": null,
            "overflow_x": null,
            "overflow_y": null,
            "padding": null,
            "right": null,
            "top": null,
            "visibility": null,
            "width": null
          }
        },
        "921d870505b74582b7a506a9e913f9cb": {
          "model_module": "@jupyter-widgets/base",
          "model_name": "LayoutModel",
          "model_module_version": "1.2.0",
          "state": {
            "_model_module": "@jupyter-widgets/base",
            "_model_module_version": "1.2.0",
            "_model_name": "LayoutModel",
            "_view_count": null,
            "_view_module": "@jupyter-widgets/base",
            "_view_module_version": "1.2.0",
            "_view_name": "LayoutView",
            "align_content": null,
            "align_items": null,
            "align_self": null,
            "border": null,
            "bottom": null,
            "display": null,
            "flex": null,
            "flex_flow": null,
            "grid_area": null,
            "grid_auto_columns": null,
            "grid_auto_flow": null,
            "grid_auto_rows": null,
            "grid_column": null,
            "grid_gap": null,
            "grid_row": null,
            "grid_template_areas": null,
            "grid_template_columns": null,
            "grid_template_rows": null,
            "height": null,
            "justify_content": null,
            "justify_items": null,
            "left": null,
            "margin": null,
            "max_height": null,
            "max_width": null,
            "min_height": null,
            "min_width": null,
            "object_fit": null,
            "object_position": null,
            "order": null,
            "overflow": null,
            "overflow_x": null,
            "overflow_y": null,
            "padding": null,
            "right": null,
            "top": null,
            "visibility": null,
            "width": null
          }
        },
        "0d202c4124464b5b820e089a55515498": {
          "model_module": "@jupyter-widgets/controls",
          "model_name": "ButtonStyleModel",
          "model_module_version": "1.5.0",
          "state": {
            "_model_module": "@jupyter-widgets/controls",
            "_model_module_version": "1.5.0",
            "_model_name": "ButtonStyleModel",
            "_view_count": null,
            "_view_module": "@jupyter-widgets/base",
            "_view_module_version": "1.2.0",
            "_view_name": "StyleView",
            "button_color": null,
            "font_weight": ""
          }
        },
        "a8fed8793ae1420f9669d07dd0818024": {
          "model_module": "@jupyter-widgets/controls",
          "model_name": "VBoxModel",
          "model_module_version": "1.5.0",
          "state": {
            "_dom_classes": [],
            "_model_module": "@jupyter-widgets/controls",
            "_model_module_version": "1.5.0",
            "_model_name": "VBoxModel",
            "_view_count": null,
            "_view_module": "@jupyter-widgets/controls",
            "_view_module_version": "1.5.0",
            "_view_name": "VBoxView",
            "box_style": "",
            "children": [
              "IPY_MODEL_747cf5d874d242c095eab59ace388417",
              "IPY_MODEL_7f4b8518f03f4fd689de3359ec12f902",
              "IPY_MODEL_4e054930602445429606b2177019d593"
            ],
            "layout": "IPY_MODEL_932d6aa2cff44ce9adc69a30ac12b215"
          }
        },
        "55fd8ac0ef2e4515a661a278a059c7b1": {
          "model_module": "@jupyter-widgets/controls",
          "model_name": "VBoxModel",
          "model_module_version": "1.5.0",
          "state": {
            "_dom_classes": [],
            "_model_module": "@jupyter-widgets/controls",
            "_model_module_version": "1.5.0",
            "_model_name": "VBoxModel",
            "_view_count": null,
            "_view_module": "@jupyter-widgets/controls",
            "_view_module_version": "1.5.0",
            "_view_name": "VBoxView",
            "box_style": "",
            "children": [
              "IPY_MODEL_774913d3b367426182a9ab25ed4ce427",
              "IPY_MODEL_5c2bb6c49f2940b9a91e90171e44f7a8",
              "IPY_MODEL_32b269fa52c54addacac61856da718d7"
            ],
            "layout": "IPY_MODEL_65b976d98b30429da8e7595d062124c3"
          }
        },
        "692a41ff6a5247eeaaabf9e6293daaa5": {
          "model_module": "@jupyter-widgets/base",
          "model_name": "LayoutModel",
          "model_module_version": "1.2.0",
          "state": {
            "_model_module": "@jupyter-widgets/base",
            "_model_module_version": "1.2.0",
            "_model_name": "LayoutModel",
            "_view_count": null,
            "_view_module": "@jupyter-widgets/base",
            "_view_module_version": "1.2.0",
            "_view_name": "LayoutView",
            "align_content": null,
            "align_items": null,
            "align_self": null,
            "border": null,
            "bottom": null,
            "display": null,
            "flex": null,
            "flex_flow": null,
            "grid_area": null,
            "grid_auto_columns": null,
            "grid_auto_flow": null,
            "grid_auto_rows": null,
            "grid_column": null,
            "grid_gap": null,
            "grid_row": null,
            "grid_template_areas": null,
            "grid_template_columns": null,
            "grid_template_rows": null,
            "height": null,
            "justify_content": null,
            "justify_items": null,
            "left": null,
            "margin": null,
            "max_height": null,
            "max_width": null,
            "min_height": null,
            "min_width": null,
            "object_fit": null,
            "object_position": null,
            "order": null,
            "overflow": null,
            "overflow_x": null,
            "overflow_y": null,
            "padding": null,
            "right": null,
            "top": null,
            "visibility": null,
            "width": null
          }
        },
        "8a1eec3e453649cfb0feba9fbe661df5": {
          "model_module": "@jupyter-widgets/controls",
          "model_name": "VBoxModel",
          "model_module_version": "1.5.0",
          "state": {
            "_dom_classes": [],
            "_model_module": "@jupyter-widgets/controls",
            "_model_module_version": "1.5.0",
            "_model_name": "VBoxModel",
            "_view_count": null,
            "_view_module": "@jupyter-widgets/controls",
            "_view_module_version": "1.5.0",
            "_view_name": "VBoxView",
            "box_style": "",
            "children": [
              "IPY_MODEL_ca619783282d4594b57ec2a9bf049977",
              "IPY_MODEL_fa3421d3f8724300a11c9dd6c81bb822"
            ],
            "layout": "IPY_MODEL_03ac94af7a9b4b2e949948def5bed801"
          }
        },
        "919ce5e229e84020a4ace1d8c645a595": {
          "model_module": "@jupyter-widgets/controls",
          "model_name": "FloatSliderModel",
          "model_module_version": "1.5.0",
          "state": {
            "_dom_classes": [],
            "_model_module": "@jupyter-widgets/controls",
            "_model_module_version": "1.5.0",
            "_model_name": "FloatSliderModel",
            "_view_count": null,
            "_view_module": "@jupyter-widgets/controls",
            "_view_module_version": "1.5.0",
            "_view_name": "FloatSliderView",
            "continuous_update": false,
            "description": "elev (deg)",
            "description_tooltip": null,
            "disabled": false,
            "layout": "IPY_MODEL_711d5d9fc52544ddaa96952d729ccc16",
            "max": 90,
            "min": -90,
            "orientation": "vertical",
            "readout": true,
            "readout_format": ".0f",
            "step": 1,
            "style": "IPY_MODEL_500817ec9e764d46a7c70d1c95c3a38f",
            "value": -10
          }
        },
        "a05f5ee0c9394bae8ac33eb1eb92820c": {
          "model_module": "@jupyter-widgets/base",
          "model_name": "LayoutModel",
          "model_module_version": "1.2.0",
          "state": {
            "_model_module": "@jupyter-widgets/base",
            "_model_module_version": "1.2.0",
            "_model_name": "LayoutModel",
            "_view_count": null,
            "_view_module": "@jupyter-widgets/base",
            "_view_module_version": "1.2.0",
            "_view_name": "LayoutView",
            "align_content": null,
            "align_items": null,
            "align_self": null,
            "border": null,
            "bottom": null,
            "display": null,
            "flex": null,
            "flex_flow": null,
            "grid_area": null,
            "grid_auto_columns": null,
            "grid_auto_flow": null,
            "grid_auto_rows": null,
            "grid_column": null,
            "grid_gap": null,
            "grid_row": null,
            "grid_template_areas": null,
            "grid_template_columns": null,
            "grid_template_rows": null,
            "height": null,
            "justify_content": null,
            "justify_items": null,
            "left": null,
            "margin": null,
            "max_height": null,
            "max_width": null,
            "min_height": null,
            "min_width": null,
            "object_fit": null,
            "object_position": null,
            "order": null,
            "overflow": null,
            "overflow_x": null,
            "overflow_y": null,
            "padding": null,
            "right": null,
            "top": null,
            "visibility": null,
            "width": null
          }
        },
        "747cf5d874d242c095eab59ace388417": {
          "model_module": "@jupyter-widgets/controls",
          "model_name": "FloatSliderModel",
          "model_module_version": "1.5.0",
          "state": {
            "_dom_classes": [],
            "_model_module": "@jupyter-widgets/controls",
            "_model_module_version": "1.5.0",
            "_model_name": "FloatSliderModel",
            "_view_count": null,
            "_view_module": "@jupyter-widgets/controls",
            "_view_module_version": "1.5.0",
            "_view_name": "FloatSliderView",
            "continuous_update": false,
            "description": "x (um)",
            "description_tooltip": null,
            "disabled": false,
            "layout": "IPY_MODEL_2d61c5b777544129bbb63fde9cf8ba37",
            "max": 200,
            "min": -200,
            "orientation": "horizontal",
            "readout": true,
            "readout_format": ".0f",
            "step": 1,
            "style": "IPY_MODEL_c4062a6ca4004cdca794cc130e189344",
            "value": 0
          }
        },
        "7f4b8518f03f4fd689de3359ec12f902": {
          "model_module": "@jupyter-widgets/controls",
          "model_name": "FloatSliderModel",
          "model_module_version": "1.5.0",
          "state": {
            "_dom_classes": [],
            "_model_module": "@jupyter-widgets/controls",
            "_model_module_version": "1.5.0",
            "_model_name": "FloatSliderModel",
            "_view_count": null,
            "_view_module": "@jupyter-widgets/controls",
            "_view_module_version": "1.5.0",
            "_view_name": "FloatSliderView",
            "continuous_update": false,
            "description": "y (um)",
            "description_tooltip": null,
            "disabled": false,
            "layout": "IPY_MODEL_088f37670b134754b02bc995a09d5a2e",
            "max": 1000,
            "min": -1000,
            "orientation": "horizontal",
            "readout": true,
            "readout_format": ".0f",
            "step": 1,
            "style": "IPY_MODEL_0091bc2806bb47fd901a483b7f623784",
            "value": 0
          }
        },
        "4e054930602445429606b2177019d593": {
          "model_module": "@jupyter-widgets/controls",
          "model_name": "FloatSliderModel",
          "model_module_version": "1.5.0",
          "state": {
            "_dom_classes": [],
            "_model_module": "@jupyter-widgets/controls",
            "_model_module_version": "1.5.0",
            "_model_name": "FloatSliderModel",
            "_view_count": null,
            "_view_module": "@jupyter-widgets/controls",
            "_view_module_version": "1.5.0",
            "_view_name": "FloatSliderView",
            "continuous_update": false,
            "description": "z (um)",
            "description_tooltip": null,
            "disabled": false,
            "layout": "IPY_MODEL_47ee789ea1284229b2824bc7cacd28bd",
            "max": 400,
            "min": 20,
            "orientation": "horizontal",
            "readout": true,
            "readout_format": ".0f",
            "step": 1,
            "style": "IPY_MODEL_c9c00c80faf349918e7991843821bfa5",
            "value": 80
          }
        },
        "932d6aa2cff44ce9adc69a30ac12b215": {
          "model_module": "@jupyter-widgets/base",
          "model_name": "LayoutModel",
          "model_module_version": "1.2.0",
          "state": {
            "_model_module": "@jupyter-widgets/base",
            "_model_module_version": "1.2.0",
            "_model_name": "LayoutModel",
            "_view_count": null,
            "_view_module": "@jupyter-widgets/base",
            "_view_module_version": "1.2.0",
            "_view_name": "LayoutView",
            "align_content": null,
            "align_items": null,
            "align_self": null,
            "border": null,
            "bottom": null,
            "display": null,
            "flex": null,
            "flex_flow": null,
            "grid_area": null,
            "grid_auto_columns": null,
            "grid_auto_flow": null,
            "grid_auto_rows": null,
            "grid_column": null,
            "grid_gap": null,
            "grid_row": null,
            "grid_template_areas": null,
            "grid_template_columns": null,
            "grid_template_rows": null,
            "height": null,
            "justify_content": null,
            "justify_items": null,
            "left": null,
            "margin": null,
            "max_height": null,
            "max_width": null,
            "min_height": null,
            "min_width": null,
            "object_fit": null,
            "object_position": null,
            "order": null,
            "overflow": null,
            "overflow_x": null,
            "overflow_y": null,
            "padding": null,
            "right": null,
            "top": null,
            "visibility": null,
            "width": null
          }
        },
        "774913d3b367426182a9ab25ed4ce427": {
          "model_module": "@jupyter-widgets/controls",
          "model_name": "FloatSliderModel",
          "model_module_version": "1.5.0",
          "state": {
            "_dom_classes": [],
            "_model_module": "@jupyter-widgets/controls",
            "_model_module_version": "1.5.0",
            "_model_name": "FloatSliderModel",
            "_view_count": null,
            "_view_module": "@jupyter-widgets/controls",
            "_view_module_version": "1.5.0",
            "_view_name": "FloatSliderView",
            "continuous_update": false,
            "description": "alpha (deg)",
            "description_tooltip": null,
            "disabled": false,
            "layout": "IPY_MODEL_59a3ddefbfad45ae85325219e782eb8c",
            "max": 180,
            "min": -180,
            "orientation": "horizontal",
            "readout": true,
            "readout_format": ".0f",
            "step": 1,
            "style": "IPY_MODEL_ae1d1e6a2e3e40feb2cae8a13f659e0a",
            "value": 0
          }
        },
        "5c2bb6c49f2940b9a91e90171e44f7a8": {
          "model_module": "@jupyter-widgets/controls",
          "model_name": "FloatSliderModel",
          "model_module_version": "1.5.0",
          "state": {
            "_dom_classes": [],
            "_model_module": "@jupyter-widgets/controls",
            "_model_module_version": "1.5.0",
            "_model_name": "FloatSliderModel",
            "_view_count": null,
            "_view_module": "@jupyter-widgets/controls",
            "_view_module_version": "1.5.0",
            "_view_name": "FloatSliderView",
            "continuous_update": false,
            "description": "beta (deg)",
            "description_tooltip": null,
            "disabled": false,
            "layout": "IPY_MODEL_e97c9f40a8464c0c9bc3ac174b50b248",
            "max": 180,
            "min": 0,
            "orientation": "horizontal",
            "readout": true,
            "readout_format": ".0f",
            "step": 1,
            "style": "IPY_MODEL_dc10089a5d8a48148ada8920682b4f7b",
            "value": 0
          }
        },
        "32b269fa52c54addacac61856da718d7": {
          "model_module": "@jupyter-widgets/controls",
          "model_name": "FloatSliderModel",
          "model_module_version": "1.5.0",
          "state": {
            "_dom_classes": [],
            "_model_module": "@jupyter-widgets/controls",
            "_model_module_version": "1.5.0",
            "_model_name": "FloatSliderModel",
            "_view_count": null,
            "_view_module": "@jupyter-widgets/controls",
            "_view_module_version": "1.5.0",
            "_view_name": "FloatSliderView",
            "continuous_update": false,
            "description": "phi (deg)",
            "description_tooltip": null,
            "disabled": false,
            "layout": "IPY_MODEL_cda5e8832d7e4dda939c3edd0cc74a86",
            "max": 180,
            "min": -180,
            "orientation": "horizontal",
            "readout": true,
            "readout_format": ".0f",
            "step": 1,
            "style": "IPY_MODEL_2688003104794302b912bc2d50f652c6",
            "value": 0
          }
        },
        "65b976d98b30429da8e7595d062124c3": {
          "model_module": "@jupyter-widgets/base",
          "model_name": "LayoutModel",
          "model_module_version": "1.2.0",
          "state": {
            "_model_module": "@jupyter-widgets/base",
            "_model_module_version": "1.2.0",
            "_model_name": "LayoutModel",
            "_view_count": null,
            "_view_module": "@jupyter-widgets/base",
            "_view_module_version": "1.2.0",
            "_view_name": "LayoutView",
            "align_content": null,
            "align_items": null,
            "align_self": null,
            "border": null,
            "bottom": null,
            "display": null,
            "flex": null,
            "flex_flow": null,
            "grid_area": null,
            "grid_auto_columns": null,
            "grid_auto_flow": null,
            "grid_auto_rows": null,
            "grid_column": null,
            "grid_gap": null,
            "grid_row": null,
            "grid_template_areas": null,
            "grid_template_columns": null,
            "grid_template_rows": null,
            "height": null,
            "justify_content": null,
            "justify_items": null,
            "left": null,
            "margin": null,
            "max_height": null,
            "max_width": null,
            "min_height": null,
            "min_width": null,
            "object_fit": null,
            "object_position": null,
            "order": null,
            "overflow": null,
            "overflow_x": null,
            "overflow_y": null,
            "padding": null,
            "right": null,
            "top": null,
            "visibility": null,
            "width": null
          }
        },
        "ca619783282d4594b57ec2a9bf049977": {
          "model_module": "@jupyter-widgets/output",
          "model_name": "OutputModel",
          "model_module_version": "1.0.0",
          "state": {
            "_dom_classes": [],
            "_model_module": "@jupyter-widgets/output",
            "_model_module_version": "1.0.0",
            "_model_name": "OutputModel",
            "_view_count": null,
            "_view_module": "@jupyter-widgets/output",
            "_view_module_version": "1.0.0",
            "_view_name": "OutputView",
            "layout": "IPY_MODEL_c0ed5e16b1884e1e9007f5fa5d442363",
            "msg_id": "",
            "outputs": [
              {
                "output_type": "display_data",
                "data": {
                  "text/plain": "<Figure size 1200x800 with 1 Axes>",
                  "image/png": "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\n"
                },
                "metadata": {}
              }
            ]
          }
        },
        "fa3421d3f8724300a11c9dd6c81bb822": {
          "model_module": "@jupyter-widgets/controls",
          "model_name": "FloatSliderModel",
          "model_module_version": "1.5.0",
          "state": {
            "_dom_classes": [],
            "_model_module": "@jupyter-widgets/controls",
            "_model_module_version": "1.5.0",
            "_model_name": "FloatSliderModel",
            "_view_count": null,
            "_view_module": "@jupyter-widgets/controls",
            "_view_module_version": "1.5.0",
            "_view_name": "FloatSliderView",
            "continuous_update": false,
            "description": "azim (deg)",
            "description_tooltip": null,
            "disabled": false,
            "layout": "IPY_MODEL_70223b9d0d2f487b8fb65ebd90101e1d",
            "max": 180,
            "min": -180,
            "orientation": "horizontal",
            "readout": true,
            "readout_format": ".0f",
            "step": 1,
            "style": "IPY_MODEL_6a0fe922ef304f59a8b68654c092dfc0",
            "value": -90
          }
        },
        "03ac94af7a9b4b2e949948def5bed801": {
          "model_module": "@jupyter-widgets/base",
          "model_name": "LayoutModel",
          "model_module_version": "1.2.0",
          "state": {
            "_model_module": "@jupyter-widgets/base",
            "_model_module_version": "1.2.0",
            "_model_name": "LayoutModel",
            "_view_count": null,
            "_view_module": "@jupyter-widgets/base",
            "_view_module_version": "1.2.0",
            "_view_name": "LayoutView",
            "align_content": null,
            "align_items": null,
            "align_self": null,
            "border": null,
            "bottom": null,
            "display": null,
            "flex": null,
            "flex_flow": null,
            "grid_area": null,
            "grid_auto_columns": null,
            "grid_auto_flow": null,
            "grid_auto_rows": null,
            "grid_column": null,
            "grid_gap": null,
            "grid_row": null,
            "grid_template_areas": null,
            "grid_template_columns": null,
            "grid_template_rows": null,
            "height": null,
            "justify_content": null,
            "justify_items": null,
            "left": null,
            "margin": null,
            "max_height": null,
            "max_width": null,
            "min_height": null,
            "min_width": null,
            "object_fit": null,
            "object_position": null,
            "order": null,
            "overflow": null,
            "overflow_x": null,
            "overflow_y": null,
            "padding": null,
            "right": null,
            "top": null,
            "visibility": null,
            "width": null
          }
        },
        "711d5d9fc52544ddaa96952d729ccc16": {
          "model_module": "@jupyter-widgets/base",
          "model_name": "LayoutModel",
          "model_module_version": "1.2.0",
          "state": {
            "_model_module": "@jupyter-widgets/base",
            "_model_module_version": "1.2.0",
            "_model_name": "LayoutModel",
            "_view_count": null,
            "_view_module": "@jupyter-widgets/base",
            "_view_module_version": "1.2.0",
            "_view_name": "LayoutView",
            "align_content": null,
            "align_items": null,
            "align_self": null,
            "border": null,
            "bottom": null,
            "display": null,
            "flex": null,
            "flex_flow": null,
            "grid_area": null,
            "grid_auto_columns": null,
            "grid_auto_flow": null,
            "grid_auto_rows": null,
            "grid_column": null,
            "grid_gap": null,
            "grid_row": null,
            "grid_template_areas": null,
            "grid_template_columns": null,
            "grid_template_rows": null,
            "height": "350px",
            "justify_content": null,
            "justify_items": null,
            "left": null,
            "margin": null,
            "max_height": null,
            "max_width": null,
            "min_height": null,
            "min_width": null,
            "object_fit": null,
            "object_position": null,
            "order": null,
            "overflow": null,
            "overflow_x": null,
            "overflow_y": null,
            "padding": null,
            "right": null,
            "top": null,
            "visibility": null,
            "width": null
          }
        },
        "500817ec9e764d46a7c70d1c95c3a38f": {
          "model_module": "@jupyter-widgets/controls",
          "model_name": "SliderStyleModel",
          "model_module_version": "1.5.0",
          "state": {
            "_model_module": "@jupyter-widgets/controls",
            "_model_module_version": "1.5.0",
            "_model_name": "SliderStyleModel",
            "_view_count": null,
            "_view_module": "@jupyter-widgets/base",
            "_view_module_version": "1.2.0",
            "_view_name": "StyleView",
            "description_width": "",
            "handle_color": null
          }
        },
        "2d61c5b777544129bbb63fde9cf8ba37": {
          "model_module": "@jupyter-widgets/base",
          "model_name": "LayoutModel",
          "model_module_version": "1.2.0",
          "state": {
            "_model_module": "@jupyter-widgets/base",
            "_model_module_version": "1.2.0",
            "_model_name": "LayoutModel",
            "_view_count": null,
            "_view_module": "@jupyter-widgets/base",
            "_view_module_version": "1.2.0",
            "_view_name": "LayoutView",
            "align_content": null,
            "align_items": null,
            "align_self": null,
            "border": null,
            "bottom": null,
            "display": null,
            "flex": null,
            "flex_flow": null,
            "grid_area": null,
            "grid_auto_columns": null,
            "grid_auto_flow": null,
            "grid_auto_rows": null,
            "grid_column": null,
            "grid_gap": null,
            "grid_row": null,
            "grid_template_areas": null,
            "grid_template_columns": null,
            "grid_template_rows": null,
            "height": null,
            "justify_content": null,
            "justify_items": null,
            "left": null,
            "margin": null,
            "max_height": null,
            "max_width": null,
            "min_height": null,
            "min_width": null,
            "object_fit": null,
            "object_position": null,
            "order": null,
            "overflow": null,
            "overflow_x": null,
            "overflow_y": null,
            "padding": null,
            "right": null,
            "top": null,
            "visibility": null,
            "width": null
          }
        },
        "c4062a6ca4004cdca794cc130e189344": {
          "model_module": "@jupyter-widgets/controls",
          "model_name": "SliderStyleModel",
          "model_module_version": "1.5.0",
          "state": {
            "_model_module": "@jupyter-widgets/controls",
            "_model_module_version": "1.5.0",
            "_model_name": "SliderStyleModel",
            "_view_count": null,
            "_view_module": "@jupyter-widgets/base",
            "_view_module_version": "1.2.0",
            "_view_name": "StyleView",
            "description_width": "",
            "handle_color": null
          }
        },
        "088f37670b134754b02bc995a09d5a2e": {
          "model_module": "@jupyter-widgets/base",
          "model_name": "LayoutModel",
          "model_module_version": "1.2.0",
          "state": {
            "_model_module": "@jupyter-widgets/base",
            "_model_module_version": "1.2.0",
            "_model_name": "LayoutModel",
            "_view_count": null,
            "_view_module": "@jupyter-widgets/base",
            "_view_module_version": "1.2.0",
            "_view_name": "LayoutView",
            "align_content": null,
            "align_items": null,
            "align_self": null,
            "border": null,
            "bottom": null,
            "display": null,
            "flex": null,
            "flex_flow": null,
            "grid_area": null,
            "grid_auto_columns": null,
            "grid_auto_flow": null,
            "grid_auto_rows": null,
            "grid_column": null,
            "grid_gap": null,
            "grid_row": null,
            "grid_template_areas": null,
            "grid_template_columns": null,
            "grid_template_rows": null,
            "height": null,
            "justify_content": null,
            "justify_items": null,
            "left": null,
            "margin": null,
            "max_height": null,
            "max_width": null,
            "min_height": null,
            "min_width": null,
            "object_fit": null,
            "object_position": null,
            "order": null,
            "overflow": null,
            "overflow_x": null,
            "overflow_y": null,
            "padding": null,
            "right": null,
            "top": null,
            "visibility": null,
            "width": null
          }
        },
        "0091bc2806bb47fd901a483b7f623784": {
          "model_module": "@jupyter-widgets/controls",
          "model_name": "SliderStyleModel",
          "model_module_version": "1.5.0",
          "state": {
            "_model_module": "@jupyter-widgets/controls",
            "_model_module_version": "1.5.0",
            "_model_name": "SliderStyleModel",
            "_view_count": null,
            "_view_module": "@jupyter-widgets/base",
            "_view_module_version": "1.2.0",
            "_view_name": "StyleView",
            "description_width": "",
            "handle_color": null
          }
        },
        "47ee789ea1284229b2824bc7cacd28bd": {
          "model_module": "@jupyter-widgets/base",
          "model_name": "LayoutModel",
          "model_module_version": "1.2.0",
          "state": {
            "_model_module": "@jupyter-widgets/base",
            "_model_module_version": "1.2.0",
            "_model_name": "LayoutModel",
            "_view_count": null,
            "_view_module": "@jupyter-widgets/base",
            "_view_module_version": "1.2.0",
            "_view_name": "LayoutView",
            "align_content": null,
            "align_items": null,
            "align_self": null,
            "border": null,
            "bottom": null,
            "display": null,
            "flex": null,
            "flex_flow": null,
            "grid_area": null,
            "grid_auto_columns": null,
            "grid_auto_flow": null,
            "grid_auto_rows": null,
            "grid_column": null,
            "grid_gap": null,
            "grid_row": null,
            "grid_template_areas": null,
            "grid_template_columns": null,
            "grid_template_rows": null,
            "height": null,
            "justify_content": null,
            "justify_items": null,
            "left": null,
            "margin": null,
            "max_height": null,
            "max_width": null,
            "min_height": null,
            "min_width": null,
            "object_fit": null,
            "object_position": null,
            "order": null,
            "overflow": null,
            "overflow_x": null,
            "overflow_y": null,
            "padding": null,
            "right": null,
            "top": null,
            "visibility": null,
            "width": null
          }
        },
        "c9c00c80faf349918e7991843821bfa5": {
          "model_module": "@jupyter-widgets/controls",
          "model_name": "SliderStyleModel",
          "model_module_version": "1.5.0",
          "state": {
            "_model_module": "@jupyter-widgets/controls",
            "_model_module_version": "1.5.0",
            "_model_name": "SliderStyleModel",
            "_view_count": null,
            "_view_module": "@jupyter-widgets/base",
            "_view_module_version": "1.2.0",
            "_view_name": "StyleView",
            "description_width": "",
            "handle_color": null
          }
        },
        "59a3ddefbfad45ae85325219e782eb8c": {
          "model_module": "@jupyter-widgets/base",
          "model_name": "LayoutModel",
          "model_module_version": "1.2.0",
          "state": {
            "_model_module": "@jupyter-widgets/base",
            "_model_module_version": "1.2.0",
            "_model_name": "LayoutModel",
            "_view_count": null,
            "_view_module": "@jupyter-widgets/base",
            "_view_module_version": "1.2.0",
            "_view_name": "LayoutView",
            "align_content": null,
            "align_items": null,
            "align_self": null,
            "border": null,
            "bottom": null,
            "display": null,
            "flex": null,
            "flex_flow": null,
            "grid_area": null,
            "grid_auto_columns": null,
            "grid_auto_flow": null,
            "grid_auto_rows": null,
            "grid_column": null,
            "grid_gap": null,
            "grid_row": null,
            "grid_template_areas": null,
            "grid_template_columns": null,
            "grid_template_rows": null,
            "height": null,
            "justify_content": null,
            "justify_items": null,
            "left": null,
            "margin": null,
            "max_height": null,
            "max_width": null,
            "min_height": null,
            "min_width": null,
            "object_fit": null,
            "object_position": null,
            "order": null,
            "overflow": null,
            "overflow_x": null,
            "overflow_y": null,
            "padding": null,
            "right": null,
            "top": null,
            "visibility": null,
            "width": null
          }
        },
        "ae1d1e6a2e3e40feb2cae8a13f659e0a": {
          "model_module": "@jupyter-widgets/controls",
          "model_name": "SliderStyleModel",
          "model_module_version": "1.5.0",
          "state": {
            "_model_module": "@jupyter-widgets/controls",
            "_model_module_version": "1.5.0",
            "_model_name": "SliderStyleModel",
            "_view_count": null,
            "_view_module": "@jupyter-widgets/base",
            "_view_module_version": "1.2.0",
            "_view_name": "StyleView",
            "description_width": "",
            "handle_color": null
          }
        },
        "e97c9f40a8464c0c9bc3ac174b50b248": {
          "model_module": "@jupyter-widgets/base",
          "model_name": "LayoutModel",
          "model_module_version": "1.2.0",
          "state": {
            "_model_module": "@jupyter-widgets/base",
            "_model_module_version": "1.2.0",
            "_model_name": "LayoutModel",
            "_view_count": null,
            "_view_module": "@jupyter-widgets/base",
            "_view_module_version": "1.2.0",
            "_view_name": "LayoutView",
            "align_content": null,
            "align_items": null,
            "align_self": null,
            "border": null,
            "bottom": null,
            "display": null,
            "flex": null,
            "flex_flow": null,
            "grid_area": null,
            "grid_auto_columns": null,
            "grid_auto_flow": null,
            "grid_auto_rows": null,
            "grid_column": null,
            "grid_gap": null,
            "grid_row": null,
            "grid_template_areas": null,
            "grid_template_columns": null,
            "grid_template_rows": null,
            "height": null,
            "justify_content": null,
            "justify_items": null,
            "left": null,
            "margin": null,
            "max_height": null,
            "max_width": null,
            "min_height": null,
            "min_width": null,
            "object_fit": null,
            "object_position": null,
            "order": null,
            "overflow": null,
            "overflow_x": null,
            "overflow_y": null,
            "padding": null,
            "right": null,
            "top": null,
            "visibility": null,
            "width": null
          }
        },
        "dc10089a5d8a48148ada8920682b4f7b": {
          "model_module": "@jupyter-widgets/controls",
          "model_name": "SliderStyleModel",
          "model_module_version": "1.5.0",
          "state": {
            "_model_module": "@jupyter-widgets/controls",
            "_model_module_version": "1.5.0",
            "_model_name": "SliderStyleModel",
            "_view_count": null,
            "_view_module": "@jupyter-widgets/base",
            "_view_module_version": "1.2.0",
            "_view_name": "StyleView",
            "description_width": "",
            "handle_color": null
          }
        },
        "cda5e8832d7e4dda939c3edd0cc74a86": {
          "model_module": "@jupyter-widgets/base",
          "model_name": "LayoutModel",
          "model_module_version": "1.2.0",
          "state": {
            "_model_module": "@jupyter-widgets/base",
            "_model_module_version": "1.2.0",
            "_model_name": "LayoutModel",
            "_view_count": null,
            "_view_module": "@jupyter-widgets/base",
            "_view_module_version": "1.2.0",
            "_view_name": "LayoutView",
            "align_content": null,
            "align_items": null,
            "align_self": null,
            "border": null,
            "bottom": null,
            "display": null,
            "flex": null,
            "flex_flow": null,
            "grid_area": null,
            "grid_auto_columns": null,
            "grid_auto_flow": null,
            "grid_auto_rows": null,
            "grid_column": null,
            "grid_gap": null,
            "grid_row": null,
            "grid_template_areas": null,
            "grid_template_columns": null,
            "grid_template_rows": null,
            "height": null,
            "justify_content": null,
            "justify_items": null,
            "left": null,
            "margin": null,
            "max_height": null,
            "max_width": null,
            "min_height": null,
            "min_width": null,
            "object_fit": null,
            "object_position": null,
            "order": null,
            "overflow": null,
            "overflow_x": null,
            "overflow_y": null,
            "padding": null,
            "right": null,
            "top": null,
            "visibility": null,
            "width": null
          }
        },
        "2688003104794302b912bc2d50f652c6": {
          "model_module": "@jupyter-widgets/controls",
          "model_name": "SliderStyleModel",
          "model_module_version": "1.5.0",
          "state": {
            "_model_module": "@jupyter-widgets/controls",
            "_model_module_version": "1.5.0",
            "_model_name": "SliderStyleModel",
            "_view_count": null,
            "_view_module": "@jupyter-widgets/base",
            "_view_module_version": "1.2.0",
            "_view_name": "StyleView",
            "description_width": "",
            "handle_color": null
          }
        },
        "70223b9d0d2f487b8fb65ebd90101e1d": {
          "model_module": "@jupyter-widgets/base",
          "model_name": "LayoutModel",
          "model_module_version": "1.2.0",
          "state": {
            "_model_module": "@jupyter-widgets/base",
            "_model_module_version": "1.2.0",
            "_model_name": "LayoutModel",
            "_view_count": null,
            "_view_module": "@jupyter-widgets/base",
            "_view_module_version": "1.2.0",
            "_view_name": "LayoutView",
            "align_content": null,
            "align_items": null,
            "align_self": null,
            "border": null,
            "bottom": null,
            "display": null,
            "flex": null,
            "flex_flow": null,
            "grid_area": null,
            "grid_auto_columns": null,
            "grid_auto_flow": null,
            "grid_auto_rows": null,
            "grid_column": null,
            "grid_gap": null,
            "grid_row": null,
            "grid_template_areas": null,
            "grid_template_columns": null,
            "grid_template_rows": null,
            "height": null,
            "justify_content": null,
            "justify_items": null,
            "left": null,
            "margin": null,
            "max_height": null,
            "max_width": null,
            "min_height": null,
            "min_width": null,
            "object_fit": null,
            "object_position": null,
            "order": null,
            "overflow": null,
            "overflow_x": null,
            "overflow_y": null,
            "padding": null,
            "right": null,
            "top": null,
            "visibility": null,
            "width": "500px"
          }
        },
        "6a0fe922ef304f59a8b68654c092dfc0": {
          "model_module": "@jupyter-widgets/controls",
          "model_name": "SliderStyleModel",
          "model_module_version": "1.5.0",
          "state": {
            "_model_module": "@jupyter-widgets/controls",
            "_model_module_version": "1.5.0",
            "_model_name": "SliderStyleModel",
            "_view_count": null,
            "_view_module": "@jupyter-widgets/base",
            "_view_module_version": "1.2.0",
            "_view_name": "StyleView",
            "description_width": "",
            "handle_color": null
          }
        },
        "c0ed5e16b1884e1e9007f5fa5d442363": {
          "model_module": "@jupyter-widgets/base",
          "model_name": "LayoutModel",
          "model_module_version": "1.2.0",
          "state": {
            "_model_module": "@jupyter-widgets/base",
            "_model_module_version": "1.2.0",
            "_model_name": "LayoutModel",
            "_view_count": null,
            "_view_module": "@jupyter-widgets/base",
            "_view_module_version": "1.2.0",
            "_view_name": "LayoutView",
            "align_content": null,
            "align_items": null,
            "align_self": null,
            "border": null,
            "bottom": null,
            "display": null,
            "flex": null,
            "flex_flow": null,
            "grid_area": null,
            "grid_auto_columns": null,
            "grid_auto_flow": null,
            "grid_auto_rows": null,
            "grid_column": null,
            "grid_gap": null,
            "grid_row": null,
            "grid_template_areas": null,
            "grid_template_columns": null,
            "grid_template_rows": null,
            "height": null,
            "justify_content": null,
            "justify_items": null,
            "left": null,
            "margin": null,
            "max_height": null,
            "max_width": null,
            "min_height": null,
            "min_width": null,
            "object_fit": null,
            "object_position": null,
            "order": null,
            "overflow": null,
            "overflow_x": null,
            "overflow_y": null,
            "padding": null,
            "right": null,
            "top": null,
            "visibility": null,
            "width": null
          }
        },
        "bc5277a0540f4bebaebc1eee42ac194d": {
          "model_module": "@jupyter-widgets/controls",
          "model_name": "VBoxModel",
          "model_module_version": "1.5.0",
          "state": {
            "_dom_classes": [],
            "_model_module": "@jupyter-widgets/controls",
            "_model_module_version": "1.5.0",
            "_model_name": "VBoxModel",
            "_view_count": null,
            "_view_module": "@jupyter-widgets/controls",
            "_view_module_version": "1.5.0",
            "_view_name": "VBoxView",
            "box_style": "",
            "children": [
              "IPY_MODEL_822c37e2b4d34364b7e28ec9a40e4641",
              "IPY_MODEL_837b30a2ef25427c9f3c9d818aa153e0"
            ],
            "layout": "IPY_MODEL_fd6564f97a7e4097861a9f9b45b2e2b7"
          }
        },
        "822c37e2b4d34364b7e28ec9a40e4641": {
          "model_module": "@jupyter-widgets/controls",
          "model_name": "ToggleButtonsModel",
          "model_module_version": "1.5.0",
          "state": {
            "_dom_classes": [],
            "_model_module": "@jupyter-widgets/controls",
            "_model_module_version": "1.5.0",
            "_model_name": "ToggleButtonsModel",
            "_options_labels": [
              "Soma",
              "Apical tuft (proximal)"
            ],
            "_view_count": null,
            "_view_module": "@jupyter-widgets/controls",
            "_view_module_version": "1.5.0",
            "_view_name": "ToggleButtonsView",
            "button_style": "",
            "description": "",
            "description_tooltip": null,
            "disabled": false,
            "icons": [],
            "index": 0,
            "layout": "IPY_MODEL_0f43634058964fc1a0943e5b4bd780d3",
            "style": "IPY_MODEL_76782083b4b14b52a54dcb92d229ad66",
            "tooltips": []
          }
        },
        "837b30a2ef25427c9f3c9d818aa153e0": {
          "model_module": "@jupyter-widgets/controls",
          "model_name": "HBoxModel",
          "model_module_version": "1.5.0",
          "state": {
            "_dom_classes": [],
            "_model_module": "@jupyter-widgets/controls",
            "_model_module_version": "1.5.0",
            "_model_name": "HBoxModel",
            "_view_count": null,
            "_view_module": "@jupyter-widgets/controls",
            "_view_module_version": "1.5.0",
            "_view_name": "HBoxView",
            "box_style": "",
            "children": [
              "IPY_MODEL_a367f4bc20fe4dc99ee87dff9aea8ccb",
              "IPY_MODEL_21abdf4ec0b34868a941a85189633952"
            ],
            "layout": "IPY_MODEL_a806033b04ea43bcb69a2c079ed57d19"
          }
        },
        "fd6564f97a7e4097861a9f9b45b2e2b7": {
          "model_module": "@jupyter-widgets/base",
          "model_name": "LayoutModel",
          "model_module_version": "1.2.0",
          "state": {
            "_model_module": "@jupyter-widgets/base",
            "_model_module_version": "1.2.0",
            "_model_name": "LayoutModel",
            "_view_count": null,
            "_view_module": "@jupyter-widgets/base",
            "_view_module_version": "1.2.0",
            "_view_name": "LayoutView",
            "align_content": null,
            "align_items": null,
            "align_self": null,
            "border": null,
            "bottom": null,
            "display": null,
            "flex": null,
            "flex_flow": null,
            "grid_area": null,
            "grid_auto_columns": null,
            "grid_auto_flow": null,
            "grid_auto_rows": null,
            "grid_column": null,
            "grid_gap": null,
            "grid_row": null,
            "grid_template_areas": null,
            "grid_template_columns": null,
            "grid_template_rows": null,
            "height": null,
            "justify_content": null,
            "justify_items": null,
            "left": null,
            "margin": null,
            "max_height": null,
            "max_width": null,
            "min_height": null,
            "min_width": null,
            "object_fit": null,
            "object_position": null,
            "order": null,
            "overflow": null,
            "overflow_x": null,
            "overflow_y": null,
            "padding": null,
            "right": null,
            "top": null,
            "visibility": null,
            "width": null
          }
        },
        "0f43634058964fc1a0943e5b4bd780d3": {
          "model_module": "@jupyter-widgets/base",
          "model_name": "LayoutModel",
          "model_module_version": "1.2.0",
          "state": {
            "_model_module": "@jupyter-widgets/base",
            "_model_module_version": "1.2.0",
            "_model_name": "LayoutModel",
            "_view_count": null,
            "_view_module": "@jupyter-widgets/base",
            "_view_module_version": "1.2.0",
            "_view_name": "LayoutView",
            "align_content": null,
            "align_items": null,
            "align_self": null,
            "border": null,
            "bottom": null,
            "display": null,
            "flex": null,
            "flex_flow": null,
            "grid_area": null,
            "grid_auto_columns": null,
            "grid_auto_flow": null,
            "grid_auto_rows": null,
            "grid_column": null,
            "grid_gap": null,
            "grid_row": null,
            "grid_template_areas": null,
            "grid_template_columns": null,
            "grid_template_rows": null,
            "height": null,
            "justify_content": null,
            "justify_items": null,
            "left": null,
            "margin": null,
            "max_height": null,
            "max_width": null,
            "min_height": null,
            "min_width": null,
            "object_fit": null,
            "object_position": null,
            "order": null,
            "overflow": null,
            "overflow_x": null,
            "overflow_y": null,
            "padding": null,
            "right": null,
            "top": null,
            "visibility": null,
            "width": null
          }
        },
        "76782083b4b14b52a54dcb92d229ad66": {
          "model_module": "@jupyter-widgets/controls",
          "model_name": "ToggleButtonsStyleModel",
          "model_module_version": "1.5.0",
          "state": {
            "_model_module": "@jupyter-widgets/controls",
            "_model_module_version": "1.5.0",
            "_model_name": "ToggleButtonsStyleModel",
            "_view_count": null,
            "_view_module": "@jupyter-widgets/base",
            "_view_module_version": "1.2.0",
            "_view_name": "StyleView",
            "button_width": "",
            "description_width": "",
            "font_weight": ""
          }
        },
        "a367f4bc20fe4dc99ee87dff9aea8ccb": {
          "model_module": "@jupyter-widgets/controls",
          "model_name": "LabelModel",
          "model_module_version": "1.5.0",
          "state": {
            "_dom_classes": [],
            "_model_module": "@jupyter-widgets/controls",
            "_model_module_version": "1.5.0",
            "_model_name": "LabelModel",
            "_view_count": null,
            "_view_module": "@jupyter-widgets/controls",
            "_view_module_version": "1.5.0",
            "_view_name": "LabelView",
            "description": "",
            "description_tooltip": null,
            "layout": "IPY_MODEL_775270a01ab94ed8842a552495d9c1ae",
            "placeholder": "​",
            "style": "IPY_MODEL_9c92e9994f3b4a91919f48579193ee16",
            "value": "Synapse maximal conductance (uS)"
          }
        },
        "21abdf4ec0b34868a941a85189633952": {
          "model_module": "@jupyter-widgets/controls",
          "model_name": "FloatSliderModel",
          "model_module_version": "1.5.0",
          "state": {
            "_dom_classes": [],
            "_model_module": "@jupyter-widgets/controls",
            "_model_module_version": "1.5.0",
            "_model_name": "FloatSliderModel",
            "_view_count": null,
            "_view_module": "@jupyter-widgets/controls",
            "_view_module_version": "1.5.0",
            "_view_name": "FloatSliderView",
            "continuous_update": true,
            "description": "",
            "description_tooltip": null,
            "disabled": false,
            "layout": "IPY_MODEL_77c60234d1864ee295bef66916a1061a",
            "max": 0.1,
            "min": 0,
            "orientation": "horizontal",
            "readout": true,
            "readout_format": ".4f",
            "step": 0.0002,
            "style": "IPY_MODEL_825496913f6645288a30b60ebd403b63",
            "value": 0.1
          }
        },
        "a806033b04ea43bcb69a2c079ed57d19": {
          "model_module": "@jupyter-widgets/base",
          "model_name": "LayoutModel",
          "model_module_version": "1.2.0",
          "state": {
            "_model_module": "@jupyter-widgets/base",
            "_model_module_version": "1.2.0",
            "_model_name": "LayoutModel",
            "_view_count": null,
            "_view_module": "@jupyter-widgets/base",
            "_view_module_version": "1.2.0",
            "_view_name": "LayoutView",
            "align_content": null,
            "align_items": null,
            "align_self": null,
            "border": null,
            "bottom": null,
            "display": null,
            "flex": null,
            "flex_flow": null,
            "grid_area": null,
            "grid_auto_columns": null,
            "grid_auto_flow": null,
            "grid_auto_rows": null,
            "grid_column": null,
            "grid_gap": null,
            "grid_row": null,
            "grid_template_areas": null,
            "grid_template_columns": null,
            "grid_template_rows": null,
            "height": null,
            "justify_content": null,
            "justify_items": null,
            "left": null,
            "margin": null,
            "max_height": null,
            "max_width": null,
            "min_height": null,
            "min_width": null,
            "object_fit": null,
            "object_position": null,
            "order": null,
            "overflow": null,
            "overflow_x": null,
            "overflow_y": null,
            "padding": null,
            "right": null,
            "top": null,
            "visibility": null,
            "width": null
          }
        },
        "775270a01ab94ed8842a552495d9c1ae": {
          "model_module": "@jupyter-widgets/base",
          "model_name": "LayoutModel",
          "model_module_version": "1.2.0",
          "state": {
            "_model_module": "@jupyter-widgets/base",
            "_model_module_version": "1.2.0",
            "_model_name": "LayoutModel",
            "_view_count": null,
            "_view_module": "@jupyter-widgets/base",
            "_view_module_version": "1.2.0",
            "_view_name": "LayoutView",
            "align_content": null,
            "align_items": null,
            "align_self": null,
            "border": null,
            "bottom": null,
            "display": null,
            "flex": null,
            "flex_flow": null,
            "grid_area": null,
            "grid_auto_columns": null,
            "grid_auto_flow": null,
            "grid_auto_rows": null,
            "grid_column": null,
            "grid_gap": null,
            "grid_row": null,
            "grid_template_areas": null,
            "grid_template_columns": null,
            "grid_template_rows": null,
            "height": null,
            "justify_content": null,
            "justify_items": null,
            "left": null,
            "margin": null,
            "max_height": null,
            "max_width": null,
            "min_height": null,
            "min_width": null,
            "object_fit": null,
            "object_position": null,
            "order": null,
            "overflow": null,
            "overflow_x": null,
            "overflow_y": null,
            "padding": null,
            "right": null,
            "top": null,
            "visibility": null,
            "width": null
          }
        },
        "9c92e9994f3b4a91919f48579193ee16": {
          "model_module": "@jupyter-widgets/controls",
          "model_name": "DescriptionStyleModel",
          "model_module_version": "1.5.0",
          "state": {
            "_model_module": "@jupyter-widgets/controls",
            "_model_module_version": "1.5.0",
            "_model_name": "DescriptionStyleModel",
            "_view_count": null,
            "_view_module": "@jupyter-widgets/base",
            "_view_module_version": "1.2.0",
            "_view_name": "StyleView",
            "description_width": ""
          }
        },
        "77c60234d1864ee295bef66916a1061a": {
          "model_module": "@jupyter-widgets/base",
          "model_name": "LayoutModel",
          "model_module_version": "1.2.0",
          "state": {
            "_model_module": "@jupyter-widgets/base",
            "_model_module_version": "1.2.0",
            "_model_name": "LayoutModel",
            "_view_count": null,
            "_view_module": "@jupyter-widgets/base",
            "_view_module_version": "1.2.0",
            "_view_name": "LayoutView",
            "align_content": null,
            "align_items": null,
            "align_self": null,
            "border": null,
            "bottom": null,
            "display": null,
            "flex": null,
            "flex_flow": null,
            "grid_area": null,
            "grid_auto_columns": null,
            "grid_auto_flow": null,
            "grid_auto_rows": null,
            "grid_column": null,
            "grid_gap": null,
            "grid_row": null,
            "grid_template_areas": null,
            "grid_template_columns": null,
            "grid_template_rows": null,
            "height": null,
            "justify_content": null,
            "justify_items": null,
            "left": null,
            "margin": null,
            "max_height": null,
            "max_width": null,
            "min_height": null,
            "min_width": null,
            "object_fit": null,
            "object_position": null,
            "order": null,
            "overflow": null,
            "overflow_x": null,
            "overflow_y": null,
            "padding": null,
            "right": null,
            "top": null,
            "visibility": null,
            "width": null
          }
        },
        "825496913f6645288a30b60ebd403b63": {
          "model_module": "@jupyter-widgets/controls",
          "model_name": "SliderStyleModel",
          "model_module_version": "1.5.0",
          "state": {
            "_model_module": "@jupyter-widgets/controls",
            "_model_module_version": "1.5.0",
            "_model_name": "SliderStyleModel",
            "_view_count": null,
            "_view_module": "@jupyter-widgets/base",
            "_view_module_version": "1.2.0",
            "_view_name": "StyleView",
            "description_width": "",
            "handle_color": null
          }
        }
      }
    }
  },
  "nbformat": 4,
  "nbformat_minor": 5
}