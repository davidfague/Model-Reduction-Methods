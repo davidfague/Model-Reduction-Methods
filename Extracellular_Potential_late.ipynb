{
  "cells": [
    {
      "cell_type": "markdown",
      "metadata": {
        "id": "view-in-github",
        "colab_type": "text"
      },
      "source": [
        "<a href=\"https://colab.research.google.com/github/davidfague/Model_Reduction_Methods/blob/main/Extracellular_Potential_late.ipynb\" target=\"_parent\"><img src=\"https://colab.research.google.com/assets/colab-badge.svg\" alt=\"Open In Colab\"/></a>"
      ]
    },
    {
      "cell_type": "markdown",
      "id": "7a9de89f",
      "metadata": {
        "id": "7a9de89f"
      },
      "source": [
        "# Single Cell Extracellular Potential"
      ]
    },
    {
      "cell_type": "code",
      "source": [
        "reduce_cell=True #use neuron_reduce\n",
        "expand_cable=False #use cable_expander"
      ],
      "metadata": {
        "id": "0XKSxnXex5Is"
      },
      "id": "0XKSxnXex5Is",
      "execution_count": 1,
      "outputs": []
    },
    {
      "cell_type": "markdown",
      "id": "MSX7LmGzszzf",
      "metadata": {
        "id": "MSX7LmGzszzf"
      },
      "source": [
        "#### Download modules from Github"
      ]
    },
    {
      "cell_type": "code",
      "source": [
        "!pip install neuron"
      ],
      "metadata": {
        "id": "-urE9jrxNdxm",
        "colab": {
          "base_uri": "https://localhost:8080/"
        },
        "outputId": "3551dfd0-e57c-47b0-ea8e-07f348c415a9"
      },
      "id": "-urE9jrxNdxm",
      "execution_count": 2,
      "outputs": [
        {
          "output_type": "stream",
          "name": "stdout",
          "text": [
            "Looking in indexes: https://pypi.org/simple, https://us-python.pkg.dev/colab-wheels/public/simple/\n",
            "Collecting neuron\n",
            "  Downloading NEURON-8.2.2-cp310-cp310-manylinux_2_17_x86_64.manylinux2014_x86_64.whl (14.9 MB)\n",
            "\u001b[2K     \u001b[90m━━━━━━━━━━━━━━━━━━━━━━━━━━━━━━━━━━━━━━━━\u001b[0m \u001b[32m14.9/14.9 MB\u001b[0m \u001b[31m53.2 MB/s\u001b[0m eta \u001b[36m0:00:00\u001b[0m\n",
            "\u001b[?25hRequirement already satisfied: numpy>=1.9.3 in /usr/local/lib/python3.10/dist-packages (from neuron) (1.22.4)\n",
            "Installing collected packages: neuron\n",
            "Successfully installed neuron-8.2.2\n"
          ]
        }
      ]
    },
    {
      "cell_type": "code",
      "source": [
        "!pip install neuron_reduce"
      ],
      "metadata": {
        "id": "BHjnRgPsN0g2",
        "colab": {
          "base_uri": "https://localhost:8080/"
        },
        "outputId": "ef04fde8-92a7-4092-ab5c-e3dcc5f4a30c"
      },
      "id": "BHjnRgPsN0g2",
      "execution_count": 3,
      "outputs": [
        {
          "output_type": "stream",
          "name": "stdout",
          "text": [
            "Looking in indexes: https://pypi.org/simple, https://us-python.pkg.dev/colab-wheels/public/simple/\n",
            "Collecting neuron_reduce\n",
            "  Downloading neuron_reduce-0.0.7-py3-none-any.whl (18 kB)\n",
            "Installing collected packages: neuron_reduce\n",
            "Successfully installed neuron_reduce-0.0.7\n"
          ]
        }
      ]
    },
    {
      "cell_type": "code",
      "source": [
        "!git clone https://github.com/davidfague/Model_Reduction_Methods.git"
      ],
      "metadata": {
        "id": "t4dVzA0WLZ9F",
        "colab": {
          "base_uri": "https://localhost:8080/"
        },
        "outputId": "94da8663-009a-4ebe-a35b-784d383eb4b8"
      },
      "id": "t4dVzA0WLZ9F",
      "execution_count": 4,
      "outputs": [
        {
          "output_type": "stream",
          "name": "stdout",
          "text": [
            "Cloning into 'Model_Reduction_Methods'...\n",
            "remote: Enumerating objects: 1174, done.\u001b[K\n",
            "remote: Counting objects: 100% (400/400), done.\u001b[K\n",
            "remote: Compressing objects: 100% (207/207), done.\u001b[K\n",
            "remote: Total 1174 (delta 219), reused 349 (delta 193), pack-reused 774\u001b[K\n",
            "Receiving objects: 100% (1174/1174), 6.63 MiB | 10.72 MiB/s, done.\n",
            "Resolving deltas: 100% (648/648), done.\n"
          ]
        }
      ]
    },
    {
      "cell_type": "code",
      "source": [
        "%cd Model_Reduction_Methods/\n",
        "\n",
        "#import reduction and expansion functions\n",
        "from test_neuron_reduce.subtree_reductor_func import subtree_reductor\n",
        "from cable_expander_func import cable_expander\n",
        "\n",
        "#import recording functions\n",
        "from stylized_module.recorder import Recorder\n",
        "\n",
        "# #import analysis functions\n",
        "# from utils import make_seg_df,generate_stylized_geometry,make_reduced_seg_df,plot_morphology,check_connectivity,generate_reduced_cell_seg_coords, create_seg_var_report\n",
        "\n",
        "# from modeling_module.synapses import Synapse, Listed_Synapse\n",
        "from modeling_module.cell_model import cell_model\n",
        "import pandas as pd"
      ],
      "metadata": {
        "id": "cY9U_KPwLVAz",
        "colab": {
          "base_uri": "https://localhost:8080/"
        },
        "outputId": "b12fc59f-3a8c-4420-9935-4458c622bad9"
      },
      "id": "cY9U_KPwLVAz",
      "execution_count": 5,
      "outputs": [
        {
          "output_type": "stream",
          "name": "stdout",
          "text": [
            "/content/Model_Reduction_Methods\n"
          ]
        }
      ]
    },
    {
      "cell_type": "code",
      "source": [],
      "metadata": {
        "id": "Ez09NP_HCSAk"
      },
      "id": "Ez09NP_HCSAk",
      "execution_count": 5,
      "outputs": []
    },
    {
      "cell_type": "code",
      "source": [
        "%cd expand_example"
      ],
      "metadata": {
        "id": "vXTRrX-ILq6D",
        "colab": {
          "base_uri": "https://localhost:8080/"
        },
        "outputId": "31e77f78-e440-48ed-d134-bb8b8f1b7a4a"
      },
      "id": "vXTRrX-ILq6D",
      "execution_count": 6,
      "outputs": [
        {
          "output_type": "stream",
          "name": "stdout",
          "text": [
            "/content/Model_Reduction_Methods/expand_example\n"
          ]
        }
      ]
    },
    {
      "cell_type": "code",
      "source": [
        "# compile the mod files\n",
        "!nrnivmodl mod"
      ],
      "metadata": {
        "id": "Dm-MdGeb6uZB",
        "colab": {
          "base_uri": "https://localhost:8080/"
        },
        "outputId": "71b3404a-de9d-4dc9-c201-d3fba195ca4d"
      },
      "id": "Dm-MdGeb6uZB",
      "execution_count": 7,
      "outputs": [
        {
          "output_type": "stream",
          "name": "stdout",
          "text": [
            "/usr/local/bin/nrnivmodl:11: DeprecationWarning: The distutils package is deprecated and slated for removal in Python 3.12. Use setuptools or check PEP 632 for potential alternatives\n",
            "  from distutils.ccompiler import new_compiler\n",
            "/content/Model_Reduction_Methods/expand_example\n",
            "Mod files: \"mod/mod/CaDynamics_E2.mod\" \"mod/mod/Ca_HVA.mod\" \"mod/mod/Ca_LVAst.mod\" \"mod/mod/epsp.mod\" \"mod/mod/Ih.mod\" \"mod/mod/Im.mod\" \"mod/mod/K_Pst.mod\" \"mod/mod/K_Tst.mod\" \"mod/mod/Nap_Et2.mod\" \"mod/mod/NaTa_t.mod\" \"mod/mod/NaTs2_t.mod\" \"mod/mod/SK_E2.mod\" \"mod/mod/SKv3_1.mod\"\n",
            "\n",
            "Creating 'x86_64' directory for .o files.\n",
            "\n",
            " -> \u001b[32mNMODL\u001b[0m ../mod/Ca_HVA.mod\n",
            " -> \u001b[32mNMODL\u001b[0m ../mod/CaDynamics_E2.mod\n",
            " -> \u001b[32mCompiling\u001b[0m mod_func.cpp\n",
            " -> \u001b[32mNMODL\u001b[0m ../mod/Ca_LVAst.mod\n",
            "Translating CaDynamics_E2.mod into /content/Model_Reduction_Methods/expand_example/x86_64/CaDynamics_E2.c\n",
            "Thread Safe\n",
            " -> \u001b[32mNMODL\u001b[0m ../mod/epsp.mod\n",
            "Translating Ca_LVAst.mod into /content/Model_Reduction_Methods/expand_example/x86_64/Ca_LVAst.c\n",
            "Thread Safe\n",
            "Translating Ca_HVA.mod into /content/Model_Reduction_Methods/expand_example/x86_64/Ca_HVA.c\n",
            "Translating epsp.mod into /content/Model_Reduction_Methods/expand_example/x86_64/epsp.c\n",
            "Thread Safe\n",
            " -> \u001b[32mNMODL\u001b[0m ../mod/Ih.mod\n",
            " -> \u001b[32mNMODL\u001b[0m ../mod/Im.mod\n",
            "Thread Safe\n",
            " -> \u001b[32mNMODL\u001b[0m ../mod/K_Pst.mod\n",
            "Translating Im.mod into /content/Model_Reduction_Methods/expand_example/x86_64/Im.c\n",
            "Translating Ih.mod into /content/Model_Reduction_Methods/expand_example/x86_64/Ih.c\n",
            "Thread Safe\n",
            " -> \u001b[32mNMODL\u001b[0m ../mod/K_Tst.mod\n",
            "Thread Safe\n",
            "Translating K_Tst.mod into /content/Model_Reduction_Methods/expand_example/x86_64/K_Tst.c\n",
            "Translating K_Pst.mod into /content/Model_Reduction_Methods/expand_example/x86_64/K_Pst.c\n",
            "Thread Safe\n",
            " -> \u001b[32mNMODL\u001b[0m ../mod/Nap_Et2.mod\n",
            " -> \u001b[32mNMODL\u001b[0m ../mod/NaTa_t.mod\n",
            "Thread Safe\n",
            " -> \u001b[32mNMODL\u001b[0m ../mod/NaTs2_t.mod\n",
            "Translating Nap_Et2.mod into /content/Model_Reduction_Methods/expand_example/x86_64/Nap_Et2.c\n",
            "Translating NaTa_t.mod into /content/Model_Reduction_Methods/expand_example/x86_64/NaTa_t.c\n",
            "Thread Safe\n",
            "Thread Safe\n",
            " -> \u001b[32mNMODL\u001b[0m ../mod/SK_E2.mod\n",
            "Translating NaTs2_t.mod into /content/Model_Reduction_Methods/expand_example/x86_64/NaTs2_t.c\n",
            "Thread Safe\n",
            " -> \u001b[32mNMODL\u001b[0m ../mod/SKv3_1.mod\n",
            " -> \u001b[32mCompiling\u001b[0m CaDynamics_E2.c\n",
            "Translating SK_E2.mod into /content/Model_Reduction_Methods/expand_example/x86_64/SK_E2.c\n",
            "Translating SKv3_1.mod into /content/Model_Reduction_Methods/expand_example/x86_64/SKv3_1.c\n",
            "Thread Safe\n",
            "Thread Safe\n",
            " -> \u001b[32mCompiling\u001b[0m Ca_HVA.c\n",
            " -> \u001b[32mCompiling\u001b[0m Ca_LVAst.c\n",
            " -> \u001b[32mCompiling\u001b[0m epsp.c\n",
            " -> \u001b[32mCompiling\u001b[0m Ih.c\n",
            " -> \u001b[32mCompiling\u001b[0m Im.c\n",
            " -> \u001b[32mCompiling\u001b[0m K_Pst.c\n",
            " -> \u001b[32mCompiling\u001b[0m K_Tst.c\n",
            " -> \u001b[32mCompiling\u001b[0m Nap_Et2.c\n",
            " -> \u001b[32mCompiling\u001b[0m NaTa_t.c\n",
            " -> \u001b[32mCompiling\u001b[0m NaTs2_t.c\n",
            " -> \u001b[32mCompiling\u001b[0m SK_E2.c\n",
            " -> \u001b[32mCompiling\u001b[0m SKv3_1.c\n",
            " => \u001b[32mLINKING\u001b[0m shared library ./libnrnmech.so\n",
            " => \u001b[32mLINKING\u001b[0m executable ./special LDFLAGS are:    -pthread\n",
            "Successfully created x86_64/special\n"
          ]
        }
      ]
    },
    {
      "cell_type": "markdown",
      "id": "2a84fbea",
      "metadata": {
        "id": "2a84fbea"
      },
      "source": [
        "## Setup smiulation parameters"
      ]
    },
    {
      "cell_type": "code",
      "execution_count": 8,
      "id": "4be7f6fd",
      "metadata": {
        "id": "4be7f6fd",
        "colab": {
          "base_uri": "https://localhost:8080/"
        },
        "outputId": "77c7da74-ccd4-4e06-e213-65aca5258024"
      },
      "outputs": [
        {
          "output_type": "execute_result",
          "data": {
            "text/plain": [
              "1.0"
            ]
          },
          "metadata": {},
          "execution_count": 8
        }
      ],
      "source": [
        "import numpy as np\n",
        "import pandas as pd\n",
        "import json\n",
        "import matplotlib.pyplot as plt\n",
        "import ipywidgets as widgets\n",
        "from neuron import h\n",
        "from scipy import signal\n",
        "from IPython.display import display, clear_output\n",
        "from ipywidgets import interactive_output, HBox, VBox, Label, Layout\n",
        "\n",
        "from __future__ import division\n",
        "from neuron import gui,h\n",
        "import numpy as np\n",
        "import time\n",
        "import matplotlib.pyplot as plt\n",
        "\n",
        "%matplotlib inline\n",
        "\n",
        "\n",
        "h.load_file('stdrun.hoc')\n",
        "# h.nrn_load_dll(paths.COMPILED_LIBRARY_REDUCED_ORDER)  # choose the set of mechanisms\n",
        "h.nrn_load_dll('./x86_64/.libs/libnrnmech.so')\n"
      ]
    },
    {
      "cell_type": "markdown",
      "id": "7927a07b",
      "metadata": {
        "id": "7927a07b"
      },
      "source": [
        "### Create a cell with reduced morphology"
      ]
    },
    {
      "cell_type": "code",
      "source": [
        "%ls"
      ],
      "metadata": {
        "id": "s0gis1f1OdWX",
        "colab": {
          "base_uri": "https://localhost:8080/"
        },
        "outputId": "13a3d7f9-40b6-4f41-e5f4-b564aededadd"
      },
      "id": "s0gis1f1OdWX",
      "execution_count": 9,
      "outputs": [
        {
          "output_type": "stream",
          "name": "stdout",
          "text": [
            "cell1.asc  example_expand.py  L5PCtemplate.hoc  \u001b[0m\u001b[01;34mx86_64\u001b[0m/\n",
            "Cell.hoc   L5PCbiophys3.hoc   \u001b[01;34mmod\u001b[0m/\n"
          ]
        }
      ]
    },
    {
      "cell_type": "code",
      "source": [
        "# class Synapse(PointCurrent):\n",
        "#     def __init__(self, cell, stim: h.NetStim, sec_index: int,\n",
        "#                   syn_type: str = 'Exp2Syn', gmax: float = 0.01, loc: float = 0.5,\n",
        "#                   record: bool = False):\n",
        "#         super().__init__(cell, sec_index, loc)\n",
        "#         self.stim = stim\n",
        "#         self.gmax = gmax\n",
        "#         self.__synapse_type(syn_type)\n",
        "#         self.setup(record)\n",
        "\n",
        "#     # PRIVATE METHODS\n",
        "#     def __synapse_type(self, syn_type):\n",
        "#         if syn_type == 'AlphaSynapse1':\n",
        "#             # Reversal potential (mV); Synapse time constant (ms)\n",
        "#             self.syn_params = {'e': 0., 'tau': 2.0}\n",
        "#             # Variable name of maximum conductance (uS)\n",
        "#             self.gmax_var = 'gmax'\n",
        "#         elif syn_type == 'Exp2Syn':\n",
        "#             self.syn_params = {'e': 0., 'tau1': 1.0, 'tau2': 3.0}\n",
        "#             self.gmax_var = '_nc_weight'\n",
        "#         else:\n",
        "#             raise ValueError(\"Synpase type not defined.\")\n",
        "#         self.syn_type = syn_type\n",
        "#         self.pp_obj = getattr(h, syn_type)(self.get_section()(self.loc))\n",
        "\n",
        "#     def __setup_synapse(self):\n",
        "#         self.syn = self.pp_obj\n",
        "#         self.nc = h.NetCon(self.stim, self.syn, 1, 0, 1)\n",
        "#         for key, value in self.syn_params.items():\n",
        "#             setattr(self.syn, key, value)\n",
        "#         self.set_gmax()\n",
        "\n",
        "#     # PUBLIC METHODS\n",
        "#     def setup(self, record: bool = False):\n",
        "#         self.__setup_synapse()\n",
        "#         if record:\n",
        "#             self.setup_recorder()\n",
        "    \n",
        "#     def set_gmax(self, gmax: float = None):\n",
        "#         if gmax is not None:\n",
        "#             self.gmax = gmax\n",
        "#         if self.gmax_var == '_nc_weight':\n",
        "#             self.nc.weight[0] = self.gmax\n",
        "#         else:\n",
        "#             setattr(self.syn, self.gmax_var, self.gmax)"
      ],
      "metadata": {
        "id": "8TE_op1mUTii"
      },
      "id": "8TE_op1mUTii",
      "execution_count": 10,
      "outputs": []
    },
    {
      "cell_type": "markdown",
      "source": [
        "Build complex cell"
      ],
      "metadata": {
        "id": "CjCDSZpXTG1w"
      },
      "id": "CjCDSZpXTG1w"
    },
    {
      "cell_type": "code",
      "source": [
        "h.load_file('L5PCbiophys3.hoc')\n",
        "\n",
        "# # Load morphology parameters from a csv file\n",
        "# geometry = pd.read_csv(paths.GEO_REDUCED_ORDER, index_col='id')\n",
        "h.load_file(\"import3d.hoc\")\n",
        "\n",
        "\n",
        "# Create a cell object\n",
        "# cell = ReducedOrderL5CellPassiveDendrite(geometry=geometry, full_biophys=biophys_param)\n",
        "h.load_file('L5PCtemplate.hoc')\n",
        "complex_cell = h.L5PCtemplate('cell1.asc')\n",
        "h.celsius = 37\n",
        "h.v_init = complex_cell.soma[0].e_pas\n",
        "\n",
        "synapses_list=[]\n",
        "netcons_list=[]\n",
        "cell = cell_model(complex_cell,synapses_list=synapses_list,netcons_list=netcons_list,spike_threshold = 10)"
      ],
      "metadata": {
        "colab": {
          "base_uri": "https://localhost:8080/"
        },
        "id": "_3cQePJaTF1t",
        "outputId": "e67207c6-4990-43cc-b4f7-a29bf6720c19"
      },
      "id": "_3cQePJaTF1t",
      "execution_count": 11,
      "outputs": [
        {
          "output_type": "stream",
          "name": "stdout",
          "text": [
            "Generating 3D coordinates for:  L5PCtemplate[0].axon[0]\n",
            "Generating 3D coordinates for:  L5PCtemplate[0].axon[1]\n"
          ]
        }
      ]
    },
    {
      "cell_type": "code",
      "source": [
        "# #need to check cell.add_synapse\n",
        "# dir(cell)"
      ],
      "metadata": {
        "id": "AzxdWmmxYMM6"
      },
      "id": "AzxdWmmxYMM6",
      "execution_count": 12,
      "outputs": []
    },
    {
      "cell_type": "code",
      "source": [
        "# place synapses on distal tuft sections:\n",
        "parent_sections=[]\n",
        "for sec in cell.all: # find non-terminal sections\n",
        "  if sec.parentseg() is not None:\n",
        "    if sec.parentseg().sec not in parent_sections:\n",
        "      parent_sections.append(sec.parentseg().sec)\n",
        "\n",
        "h.distance(sec=cell.soma) #use to find distance from soma\n",
        "\n",
        "tufts=[]\n",
        "for sec in cell.apic:  # check if the section is a terminal section and if it is apical tuft\n",
        "  # print(h.distance(sec(0.5)))\n",
        "  if sec not in parent_sections and h.distance(sec(0.5)) > 800:\n",
        "    tufts.append(sec)\n",
        "    # print(sec, 'is a terminal section of the tuft')\n",
        "\n"
      ],
      "metadata": {
        "id": "cKhOKBVtWkal"
      },
      "id": "cKhOKBVtWkal",
      "execution_count": 13,
      "outputs": []
    },
    {
      "cell_type": "code",
      "source": [
        "# generate presynaptic spike train (if this is before placing synapses then there willb e one stimulus for all synapses)\n",
        "import random\n",
        "#use defined cell_model class for generating 3d coordinates, recording ECP, 'book-keeping' etc...\n",
        "random.seed(2)\n",
        "\n",
        "# Create synaptic input\n",
        "stim = h.NetStim()\n",
        "frequency=15 #(hz)\n",
        "spikeinterval = (1/frequency)*1000 #convert to T and milliseconds\n",
        "stim.noise=0\n",
        "stim.interval=spikeinterval\n",
        "print(str(stim.interval))\n",
        "stim.number = 3  # only one event\n",
        "stim.start = 2.0  # delay (ms)\n",
        "\n",
        "gmax = 1  # default synapse maximum conductance (uS)"
      ],
      "metadata": {
        "colab": {
          "base_uri": "https://localhost:8080/"
        },
        "id": "oIofalsJYsBm",
        "outputId": "95648662-5667-4f94-c036-cbda5a2ada95"
      },
      "id": "oIofalsJYsBm",
      "execution_count": 14,
      "outputs": [
        {
          "output_type": "stream",
          "name": "stdout",
          "text": [
            "66.66666666666667\n"
          ]
        }
      ]
    },
    {
      "cell_type": "code",
      "source": [
        "#place syapses\n",
        "cell._nbranch=len(tufts)\n",
        "print(cell._nbranch, \"terminal tuft branches in original cell\")\n",
        "for distal_tuft_sec in tufts:\n",
        "  cell.add_synapse(stim, sec_index=cell.all.index(distal_tuft_sec), gmax=gmax / cell._nbranch) # need to adjust to only tufts\n"
      ],
      "metadata": {
        "colab": {
          "base_uri": "https://localhost:8080/"
        },
        "id": "KKsjAd_rYUM9",
        "outputId": "d962038a-c9fd-43bf-8ec2-c2f9c18e59c2"
      },
      "id": "KKsjAd_rYUM9",
      "execution_count": 15,
      "outputs": [
        {
          "output_type": "stream",
          "name": "stdout",
          "text": [
            "22 terminal tuft branches in original cell\n"
          ]
        }
      ]
    },
    {
      "cell_type": "code",
      "source": [
        "#get lists for redution\n",
        "#get synapse hoc obj list from synapse python class obj list\n",
        "synapses_list=[]\n",
        "for synapse in cell.synapse:\n",
        "  synapses_list.append(synapse.syn) #retrieve synapse hoc obj from python class\n",
        "netcons_list=cell.netcons_list"
      ],
      "metadata": {
        "id": "iOQEfI6sae4J"
      },
      "id": "iOQEfI6sae4J",
      "execution_count": 16,
      "outputs": []
    },
    {
      "cell_type": "code",
      "source": [
        "# synapses_list"
      ],
      "metadata": {
        "id": "24wzhmvYQPin"
      },
      "id": "24wzhmvYQPin",
      "execution_count": 17,
      "outputs": []
    },
    {
      "cell_type": "code",
      "source": [
        "# netcons_list"
      ],
      "metadata": {
        "id": "HSWsrA0Kf-Ac"
      },
      "id": "HSWsrA0Kf-Ac",
      "execution_count": 18,
      "outputs": []
    },
    {
      "cell_type": "code",
      "execution_count": 19,
      "id": "18a97eeb",
      "metadata": {
        "id": "18a97eeb",
        "colab": {
          "base_uri": "https://localhost:8080/"
        },
        "outputId": "5c4e8c7b-0fd5-4fea-af21-e7fc98821868"
      },
      "outputs": [
        {
          "output_type": "stream",
          "name": "stdout",
          "text": [
            "synapses_list after NR reduction: [Exp2Syn[0], Exp2Syn[1], Exp2Syn[4], Exp2Syn[12], Exp2Syn[15], Exp2Syn[17], Exp2Syn[20]]\n",
            "Generating 3D coordinates for:  model[0].apic[0]\n",
            "Generating 3D coordinates for:  model[0].dend[0]\n",
            "Generating 3D coordinates for:  model[0].dend[1]\n",
            "Generating 3D coordinates for:  model[0].dend[2]\n",
            "Generating 3D coordinates for:  model[0].dend[3]\n",
            "Generating 3D coordinates for:  model[0].dend[4]\n",
            "Generating 3D coordinates for:  model[0].dend[5]\n",
            "Generating 3D coordinates for:  model[0].dend[6]\n",
            "Generating 3D coordinates for:  model[0].dend[7]\n",
            "1 terminal tuft branches in reduced_cell\n"
          ]
        }
      ],
      "source": [
        "#reduce cell\n",
        "if reduce_cell==True:\n",
        "  #reduce complex dendritic trees to cables\n",
        "  reduced_cell, synapses_list, netcons_list, txt = subtree_reductor(complex_cell, synapses_list, netcons_list, reduction_frequency=0,return_seg_to_seg=True)\n",
        "  print(\"synapses_list after NR reduction:\", synapses_list)\n",
        "  if expand_cable==True:\n",
        "    #expand cable to idealized dendritic trees\n",
        "    sections_to_expand = [reduced_cell.hoc_model.apic[0]]\n",
        "    furcations_x=[0.289004]\n",
        "    nbranches=[4]\n",
        "    reduced_dendritic_cell, synapses_list, netcons_list, txt = cable_expander(reduced_cell, sections_to_expand, furcations_x, nbranches, \n",
        "                                                                              synapses_list, netcons_list, reduction_frequency=0,return_seg_to_seg=True)\n",
        "    #remove basal dend 3d coordinates because they seem off\n",
        "    for sec in reduced_dendritic_cell.dend:\n",
        "      sec.pt3dclear()\n",
        "\n",
        "    cell = cell_model(reduced_dendritic_cell,synapses_list=synapses_list,netcons_list=netcons_list,spike_threshold = 10) #NR model with apical cable converted to tree\n",
        "    tufts=[] # find tufts\n",
        "    for i,sec in enumerate(cell.apic):\n",
        "      if i!=0: # do not add synapse to trunk\n",
        "        tufts.append(sec)\n",
        "    cell._nbranch=len(tufts)\n",
        "    print(cell._nbranch, \"terminal tuft branches in reduced_dendritic_cell\")\n",
        "  else:\n",
        "    #workaround since cell.all was not attribute (can update cell_model class to include this list formation)\n",
        "    reduced_cell.all =[]\n",
        "    for sec in [reduced_cell.soma]:\n",
        "      reduced_cell.all.append(sec)\n",
        "    for sec in [reduced_cell.apic]:\n",
        "      reduced_cell.all.append(sec)\n",
        "    for sec in reduced_cell.dend:\n",
        "      reduced_cell.all.append(sec)\n",
        "    for sec in reduced_cell.axon:\n",
        "      reduced_cell.all.append(sec)\n",
        "    #make apic sec a list (can update cell_model class to include this) (cell_model class expects cell.apic to be iterable)\n",
        "    reduced_cell.apic=[reduced_cell.apic]\n",
        "    #use cell_model python class\n",
        "    cell=cell_model(reduced_cell,synapses_list=synapses_list,netcons_list=netcons_list,spike_threshold = 10) # neuron_reduce model\n",
        "    tufts=cell.apic # Vm plot may return middle segment of trunk since it is the distal apical section.\n",
        "    cell._nbranch=len(tufts)\n",
        "    print(cell._nbranch, \"terminal tuft branches in reduced_cell\")\n",
        "else:\n",
        "  cell = cell_model(complex_cell,synapses_list=synapses_list,netcons_list=netcons_list,spike_threshold = 10) # original cell"
      ]
    },
    {
      "cell_type": "code",
      "source": [
        "# for syn in synapses_list:\n",
        "#   print(syn)"
      ],
      "metadata": {
        "id": "RiOS0erDsV5d"
      },
      "id": "RiOS0erDsV5d",
      "execution_count": 20,
      "outputs": []
    },
    {
      "cell_type": "code",
      "source": [
        "# for sec in reduced_dendritic_cell.all:\n",
        "#   print(sec.n3d())"
      ],
      "metadata": {
        "id": "ZqPuBX8UI4nN"
      },
      "id": "ZqPuBX8UI4nN",
      "execution_count": 21,
      "outputs": []
    },
    {
      "cell_type": "code",
      "source": [
        "# # try to fix dendrite's beginning location by looking at soma 3d coordinates:\n",
        "# for sec in [reduced_dendritic_cell.soma]:\n",
        "#   for i in range(sec.n3d()):\n",
        "#     print(sec.x3d(i),sec.y3d(i),sec.z3d(i))\n",
        "\n",
        "#soma has many 3d coordinates and current implementation begins dendrites at 3dcoordinates[1]"
      ],
      "metadata": {
        "id": "1loNS7qGmRQ1"
      },
      "id": "1loNS7qGmRQ1",
      "execution_count": 22,
      "outputs": []
    },
    {
      "cell_type": "markdown",
      "source": [
        "The next code block is old. it places synapses after reduction (instead of before, which maps them) "
      ],
      "metadata": {
        "id": "suR9EwjBQx4t"
      },
      "id": "suR9EwjBQx4t"
    },
    {
      "cell_type": "code",
      "source": [
        "# import random\n",
        "# #use defined cell_model class for generating 3d coordinates, recording ECP, 'book-keeping' etc...\n",
        "# random.seed(2)\n",
        "\n",
        "# # Create synaptic input\n",
        "# stim = h.NetStim()\n",
        "# frequency=15 #(hz)\n",
        "# spikeinterval = (1/frequency)*1000 #convert to T and milliseconds\n",
        "# stim.noise=0\n",
        "# stim.interval=spikeinterval\n",
        "# print(str(stim.interval))\n",
        "# stim.number = 3  # only one event\n",
        "# stim.start = 2.0  # delay (ms)\n",
        "\n",
        "# gmax = 1  # default synapse maximum conductance (uS)\n",
        "\n",
        "# if Reduce_cell==True:\n",
        "#   cell = cell_model(reduced_dendritic_cell,synapses_list=synapses_list,netcons_list=netcons_list,spike_threshold = 10)\n",
        "#   cell._nbranch=nbranches[0]\n",
        "#   # Add synapse to apical tufts\n",
        "#   tufts=[]\n",
        "#   for i,sec in enumerate(cell.apic):\n",
        "#     if i!=0: # do not add synapse to trunk\n",
        "#       tufts.append(sec)\n",
        "#       cell.add_synapse(stim, sec_index=cell.all.index(sec), gmax=gmax / cell._nbranch, loc=0.01) # need to adjust to only tufts\n",
        "# else:\n",
        "#   cell = cell_model(complex_cell,synapses_list=synapses_list,netcons_list=netcons_list,spike_threshold = 10)\n",
        "#   complex_branching_segment='L5PCtemplate[0].apic[36](0.961538)' #use to assign tuft synapses\n",
        "#   tufts=cell.apic[36].children()\n",
        "#   cell._nbranch=len(tufts) #determine branches starting from this branching point\n",
        "#   # Add synapse to apical tufts\n",
        "#   #indicate the complex branching segment # may have to observe complex cell first\n",
        "#   complex_branching_segment='L5PCtemplate[0].apic[36](0.961538)'\n",
        "#   for i,sec in enumerate(cell.apic[36].children()):\n",
        "#       cell.add_synapse(stim, sec_index=cell.all.index(sec), gmax=gmax / cell._nbranch, loc=0.01) # need to adjust to only tufts\n",
        "\n",
        "\n",
        "# Add synapse to soma\n",
        "cell.add_synapse(stim, sec_index=0, gmax=gmax)\n",
        "\n",
        "# Add synapse to apical tufts"
      ],
      "metadata": {
        "id": "rSTUwzTfqEX2"
      },
      "id": "rSTUwzTfqEX2",
      "execution_count": 23,
      "outputs": []
    },
    {
      "cell_type": "code",
      "source": [
        "# # compare \n",
        "# for sec in cell.all:\n",
        "#   for i in range(sec.n3d()):\n",
        "#     print(sec.x3d(i))"
      ],
      "metadata": {
        "id": "4QUvM0h7JzFG"
      },
      "id": "4QUvM0h7JzFG",
      "execution_count": 24,
      "outputs": []
    },
    {
      "cell_type": "code",
      "source": [
        "# print(cell.seg_coords['pc'][0])"
      ],
      "metadata": {
        "id": "gE3JYuFhM1_6"
      },
      "id": "gE3JYuFhM1_6",
      "execution_count": 25,
      "outputs": []
    },
    {
      "cell_type": "code",
      "source": [
        "# dir(cell)"
      ],
      "metadata": {
        "id": "akYHQOGDKiW5"
      },
      "id": "akYHQOGDKiW5",
      "execution_count": 26,
      "outputs": []
    },
    {
      "cell_type": "code",
      "source": [
        "# make_reduced_seg_df(cell,\"segments_expanded.csv\") #need to improve make_reduced_seg_df\n",
        "# expanded_segments_df=pd.read_csv(\"segments_expanded.csv\")\n",
        "# plot_morphology(expanded_segments_df,\"expanded_morphology.svg\")"
      ],
      "metadata": {
        "id": "-ZwVHxQl5gLh"
      },
      "id": "-ZwVHxQl5gLh",
      "execution_count": 27,
      "outputs": []
    },
    {
      "cell_type": "code",
      "source": [
        "import os\n",
        "\n",
        "RunningInCOLAB = 'google.colab' in str(get_ipython())\n",
        "if RunningInCOLAB:\n",
        "    !pip install neuron==8.0.0 &> /dev/null\n",
        "    os.chdir('/content')\n",
        "    if not os.path.isdir('Stylized-Single-Cell-and-Extracellular-Potential'):\n",
        "        !git clone https://github.com/chenziao/Stylized-Single-Cell-and-Extracellular-Potential.git &> /dev/null \n",
        "    os.chdir('Stylized-Single-Cell-and-Extracellular-Potential')\n",
        "    %ls"
      ],
      "metadata": {
        "id": "D6vyubrwOvA_",
        "colab": {
          "base_uri": "https://localhost:8080/"
        },
        "outputId": "4bd6ec03-c5f3-4d45-fa67-8440273ec794"
      },
      "id": "D6vyubrwOvA_",
      "execution_count": 28,
      "outputs": [
        {
          "output_type": "stream",
          "name": "stdout",
          "text": [
            "\u001b[0m\u001b[01;34mcell_inference\u001b[0m/  Stylized_Single_Cell_Extracellular_Potential_Tutorial.ipynb\n"
          ]
        }
      ]
    },
    {
      "cell_type": "code",
      "source": [
        "from cell_inference.config import params, paths\n",
        "from cell_inference.cells.activecell_axon import ReducedOrderL5Cell, ReducedOrderL5CellPassiveDendrite\n",
        "from cell_inference.utils.currents.ecp import EcpMod\n",
        "from cell_inference.utils.currents.recorder import Recorder\n",
        "from cell_inference.utils.plotting.plot_morphology import plot_morphology\n",
        "from cell_inference.utils.plotting.plot_results import plot_lfp_heatmap, plot_lfp_traces\n",
        "from cell_inference.utils.plotting.plot_variable_with_morphology import plot_variable_with_morphology\n",
        "from cell_inference.utils.metrics.measure_segment_distance import measure_segment_distance"
      ],
      "metadata": {
        "id": "X7p40K3RO1RQ"
      },
      "id": "X7p40K3RO1RQ",
      "execution_count": 29,
      "outputs": []
    },
    {
      "cell_type": "code",
      "source": [
        "h.dt = params.DT  # time step\n",
        "h.steps_per_ms = 1/h.dt\n",
        "h.tstop = params.TSTOP  # simulation stop time\n",
        "\n",
        "# Record time points\n",
        "t_vec = h.Vector(round(h.tstop / h.dt) + 1).record(h._ref_t)\n",
        "\n",
        "# Record membrane voltage of all segments\n",
        "V_rec = Recorder(cell.segments)"
      ],
      "metadata": {
        "id": "m_npKvVUO4JD"
      },
      "id": "m_npKvVUO4JD",
      "execution_count": 30,
      "outputs": []
    },
    {
      "cell_type": "markdown",
      "id": "22d6f6e6",
      "metadata": {
        "id": "22d6f6e6"
      },
      "source": [
        "### Add electrodes (Neuropixel)\n",
        "A probe with 384 electrodes [https://www.neuropixels.org/probe](https://www.neuropixels.org/probe). The coordinates of each electrode is a row in the array printed below."
      ]
    },
    {
      "cell_type": "code",
      "execution_count": 31,
      "id": "8fdb0017",
      "metadata": {
        "id": "8fdb0017",
        "colab": {
          "base_uri": "https://localhost:8080/"
        },
        "outputId": "f3ef44b0-62e3-4949-967a-c93a3fbd8e4b"
      },
      "outputs": [
        {
          "output_type": "stream",
          "name": "stdout",
          "text": [
            "(384, 3)\n",
            "[[   -8. -1910.     0.]\n",
            " [   24. -1910.     0.]\n",
            " [  -24. -1890.     0.]\n",
            " ...\n",
            " [   24.  1890.     0.]\n",
            " [  -24.  1910.     0.]\n",
            " [    8.  1910.     0.]]\n"
          ]
        }
      ],
      "source": [
        "elec_pos = params.ELECTRODE_POSITION\n",
        "ecp = EcpMod(cell, elec_pos, min_distance=params.MIN_DISTANCE)  # create an ECP object for extracellular potential\n",
        "\n",
        "# coordinates (x, y, z) of electrodes\n",
        "print(params.ELECTRODE_POSITION.shape)\n",
        "print(params.ELECTRODE_POSITION)"
      ]
    },
    {
      "cell_type": "code",
      "source": [
        "# (cell.injection)"
      ],
      "metadata": {
        "id": "f4-rKitqRb3k"
      },
      "id": "f4-rKitqRb3k",
      "execution_count": 32,
      "outputs": []
    },
    {
      "cell_type": "markdown",
      "id": "c5323608",
      "metadata": {
        "id": "c5323608"
      },
      "source": [
        "## Custom settings\n",
        "\n",
        "Using the interactive tools below, you can change the position of the cell, and change the synapse strength and location on the cell.\n",
        "\n",
        "#### Cell position parameters (x, y, z, alpha, h, phi)\n",
        "Starting with soma at the origin, apical dendrite along y-axis, rotate and translate the cell to the desired position determined by 6 parameters. First, rotate alpha about the y-axis (spin), then rotate beta=arccos(h) about the x-axis (elevation), then rotate phi about the y-axis (azimuth). Finally translate the cell by (x,y,z).\n",
        "\n",
        "Use the sliders to change the 6 position parameters. Use the sliders 'elev' and 'azim' to change view of the 3D plot."
      ]
    },
    {
      "cell_type": "code",
      "source": [
        "# for sec in cell.apic:\n",
        "#   print(sec,sec.parentseg(), sec.n3d())"
      ],
      "metadata": {
        "id": "qGLMpaA7ME9p"
      },
      "id": "qGLMpaA7ME9p",
      "execution_count": 33,
      "outputs": []
    },
    {
      "cell_type": "code",
      "source": [
        "import matplotlib.pyplot as plt\n",
        "from matplotlib.figure import Figure\n",
        "from matplotlib.axes import Axes\n",
        "import numpy as np\n",
        "from typing import Union, Optional, List, Tuple\n",
        "\n",
        "from cell_inference.utils.currents.ecp import move_position\n",
        "from cell_inference.cells.stylizedcell import StylizedCell\n",
        "\n",
        "\n",
        "def plot_morphology(sim: Optional = None, cellid: Optional[int] = 0, cell: Optional[StylizedCell] = None,\n",
        "                    seg_coords: Optional[dict] = None, sec_nseg: Optional[List] = None,\n",
        "                    type_id: Optional[List] = None, electrodes: Optional[np.ndarray] = None,\n",
        "                    axes: Union[List[int], Tuple[int]] = [2, 0, 1], clr: Optional[List[str]] = None,\n",
        "                    elev: int = 20, azim: int = 10, move_cell: Optional[Union[List,np.ndarray]] = None,\n",
        "                    figsize: Optional[Tuple[float, float]] = None) -> Tuple[Figure, Axes]:\n",
        "    \"\"\"\n",
        "    Plot morphology in 3D.\n",
        "\n",
        "    sim: simulation object\n",
        "    cellid: cell id in the simulation object. Default: 0\n",
        "    cell: stylized cell object. Ignore sim and cellid if specified\n",
        "    seg_coords: if not using sim or cell, a dictionary that includes dl, pc, r\n",
        "    sec_nseg: if not using sim or cell, list of number of segments in each section\n",
        "    type_id:  if not using sim or cell, list of the swc type id of each section/segment\n",
        "    electrodes: electrode positions. Default: None, not shown.\n",
        "    axes: sequence of axes to display in 3d plot axes.\n",
        "        Default: [2,0,1] show z,x,y in 3d plot x,y,z axes, so y is upward.\n",
        "    clr: list of colors for each type of section\n",
        "    Return Figure object, Axes object\n",
        "    \"\"\"\n",
        "    if sim is None and cell is None:\n",
        "        if seg_coords is None or sec_nseg is None or type_id is None:\n",
        "            raise ValueError(\"If not using 'Simulation', input arguments 'seg_coords', 'sec_nseg', 'type_id' are required.\")\n",
        "        if clr is None:\n",
        "            clr = ('g', 'r', 'b', 'c')\n",
        "        if move_cell is None:\n",
        "            move_cell = [0., 0., 0., 0., 1., 0.]\n",
        "        sec_id_in_seg = np.cumsum([0] + list(sec_nseg[:-1]))\n",
        "        type_id = np.asarray(type_id) - 1\n",
        "        if type_id.size != len(sec_nseg):\n",
        "            type_id = type_id = type_id[sec_id_in_seg]\n",
        "        type_id = type_id.tolist()\n",
        "        label_idx = np.array([type_id.index(i) for i in range(4)])\n",
        "        lb_odr = np.argsort(label_idx)\n",
        "        label_idx = label_idx[lb_odr].tolist()\n",
        "        sec_name = np.array(('soma','axon','dend','apic'))[lb_odr]\n",
        "    else:\n",
        "        if clr is None:\n",
        "            clr = ('g', 'b', 'pink', 'purple', 'r', 'c')\n",
        "        if cell is None:\n",
        "            if move_cell is None:\n",
        "                move_cell = sim.loc_param[cellid, 0]\n",
        "            cell = sim.cells[cellid]\n",
        "        elif move_cell is None:\n",
        "            move_cell = [0., 0., 0., 0., 1., 0.]\n",
        "        seg_coords = cell.seg_coords\n",
        "        sec_id_in_seg = cell.sec_id_in_seg\n",
        "        sec_nseg = []\n",
        "        sec_name = []\n",
        "        label_idx = []\n",
        "        type_id = []\n",
        "        for i, sec in enumerate(cell.all):\n",
        "            sec_nseg.append(sec.nseg)\n",
        "            name = sec.name().split('.')[-1]\n",
        "            if name not in sec_name:\n",
        "                sec_name.append(name)\n",
        "                label_idx.append(i)\n",
        "            type_id.append(sec_name.index(name))\n",
        "    label_idx.append(-1)\n",
        "\n",
        "    move_cell = np.asarray(move_cell).reshape((2, 3))\n",
        "    dl = move_position([0., 0., 0.], move_cell[1], seg_coords['dl'])\n",
        "    pc = move_position(move_cell[0], move_cell[1], seg_coords['pc'])\n",
        "    xyz = 'xyz'\n",
        "    box = np.vstack([np.full(3, np.inf), np.full(3, np.NINF)])\n",
        "    if electrodes is not None:\n",
        "        box[0, axes[0:2]] = np.amin(electrodes[:, axes[0:2]], axis=0)\n",
        "        box[1, axes[0:2]] = np.amax(electrodes[:, axes[0:2]], axis=0)\n",
        "\n",
        "    fig = plt.figure(figsize=figsize)\n",
        "    ax = plt.axes(projection='3d')\n",
        "    lb_ptr = 0\n",
        "    for i, itype in enumerate(type_id):\n",
        "        label = sec_name[lb_ptr] if i == label_idx[lb_ptr] else None\n",
        "        if label is not None: lb_ptr += 1\n",
        "        i0 = sec_id_in_seg[i]\n",
        "        i1 = i0 + sec_nseg[i] - 1\n",
        "        if sec_name[itype] == 'soma':\n",
        "            p05 = (pc[i0] + pc[i1]) / 2\n",
        "            ax.scatter(*[p05[j] for j in axes], c=clr[itype], s=20, label=label)\n",
        "        else:\n",
        "            p0 = pc[i0] - dl[i0] / 2\n",
        "            p1 = pc[i1] + dl[i1] / 2\n",
        "            ax.plot3D(*[(p0[j], p1[j]) for j in axes], color=clr[itype], label=label)\n",
        "            box[0, :] = np.minimum(box[0, :], np.minimum(p0, p1))\n",
        "            box[1, :] = np.maximum(box[1, :], np.maximum(p0, p1))\n",
        "    ctr = np.mean(box, axis=0)\n",
        "    r = np.amax(box[1, :] - box[0, :]) / 2\n",
        "    box = np.vstack([ctr - r, ctr + r])\n",
        "    if electrodes is not None:\n",
        "        idx = np.logical_and(np.all(electrodes >= box[0, :], axis=1), np.all(electrodes <= box[1, :], axis=1))\n",
        "        ax.scatter(*[(electrodes[idx, j], electrodes[idx, j]) for j in axes], color='orange', s=5, label='electrodes')\n",
        "    box = box[:, axes]\n",
        "    ax.auto_scale_xyz(*box.T)\n",
        "    ax.view_init(elev, azim)\n",
        "    # ax.legend(loc=1)\n",
        "    ax.set_xlabel(xyz[axes[0]])\n",
        "    ax.set_ylabel(xyz[axes[1]])\n",
        "    ax.set_zlabel(xyz[axes[2]])\n",
        "    plt.show()\n",
        "    return fig, ax"
      ],
      "metadata": {
        "id": "eda71vXyA6Vt"
      },
      "id": "eda71vXyA6Vt",
      "execution_count": 34,
      "outputs": []
    },
    {
      "cell_type": "code",
      "source": [
        "# for sec in cell.apic:\n",
        "#   fullsecname = sec.name()\n",
        "#   sec_type = fullsecname.split(\".\")[1][:4]\n",
        "#   print(fullsecname)"
      ],
      "metadata": {
        "id": "wlsEX_R4Px7H"
      },
      "id": "wlsEX_R4Px7H",
      "execution_count": 35,
      "outputs": []
    },
    {
      "cell_type": "code",
      "execution_count": 36,
      "id": "a3df63ce",
      "metadata": {
        "id": "a3df63ce",
        "colab": {
          "base_uri": "https://localhost:8080/",
          "height": 813,
          "referenced_widgets": [
            "4cc9534880c44165b5c4cc0cc6c590ba",
            "e5e98bd2bdf044f99427215b457083bb",
            "5ae095031aaa41abbafad2f30a9f9da3",
            "eec558acab7240b285fceb7934fbbec6",
            "7683530888c8442098525341e6fbdcdf",
            "2933cd896c7c47b8804e52456d985567",
            "9e711d1506d345ac80787aad2f5ebdd2",
            "b2f460aabdbc423abbc00e4876a2e2b2",
            "d5c27c33006645b994e00d7f859a22df",
            "b2eff4b082114f7fb6256a4bbec13c7f",
            "6cd0f0b13ad94708a50417ba54789afb",
            "f086567fb4c04c88b8af6d48026a0d60",
            "137cea742fe84763b772e324ff8dfc2b",
            "7a1853b1bcfb4073aeeae5e0f8dc8f35",
            "f372405bad884549a526cefd37b6a1c9",
            "408a43da6f84451287c40ccf10db44bd",
            "42df05ef36be45f591765314ce6553e1",
            "ad503768cf7147fd8cb42cb86d809377",
            "3758362a21624960b2f3369b304a02ea",
            "c7a214c4dabb4500a246b9d6bda75c1d",
            "d5dbd08bc80f4387ad2b1aef34164bc1",
            "c5bc18bba592401bb061262d599d8bfa",
            "2c41bae9c6e34b11bd53eaa86231f649",
            "035280dc234e44d48a0f4ee27d788211",
            "b2068d8c45334ffea9dae77d3f809d26",
            "64f29b44d57246ebaeb2f458f38eff3e",
            "8749621804954b318df772939ad1d5bc",
            "d898968e43cc45bf8bc4e04be2ccd6bb",
            "a1061c3cc5284280b8f00cacaad874a3",
            "8f61bdb8609e4cb7be3da5971edcfb1c",
            "f937991e1fb64cea85a29e87ae7a4a00",
            "3a7ed47a46c84d878da6dae9c2f17c1a",
            "540ba60303f945369f04c7c304ee8eb4",
            "932214ec26b54c299fa523551c669b06",
            "f40c93fdd0954df5be5eaf075c461264",
            "c4b302fde7f74415a4a9e96417d9d57a",
            "d0fef813bcf046a39931eba0175e4edc",
            "750c9d8f313345ed9b23a9de74286855",
            "b330eb2aa574477bab72d823b4b79668",
            "db18a127d75042b4bbe3432113b6a17e",
            "6da493abbfe740e2ab65f4f69110362b"
          ]
        },
        "outputId": "044a7bcf-efe4-4838-ae3c-892a0561ecad"
      },
      "outputs": [
        {
          "output_type": "display_data",
          "data": {
            "text/plain": [
              "VBox(children=(Button(button_style='primary', description='Reset', icon='history', style=ButtonStyle()), HBox(…"
            ],
            "application/vnd.jupyter.widget-view+json": {
              "version_major": 2,
              "version_minor": 0,
              "model_id": "4cc9534880c44165b5c4cc0cc6c590ba"
            }
          },
          "metadata": {}
        }
      ],
      "source": [
        "loc_param_default = [0., 0., 80., 0., 1., 0.]  # Default position parameters\n",
        "elev, azim = 10, 90  # Default view\n",
        "# clr = ['g', 'yellow', 'orange', 'red', 'b', 'c', 'g', 'yellow', 'orange', 'red', 'pink', 'purple']  # section color\n",
        "clr=[]\n",
        "clr.extend(['black' for i in range(len([cell.soma]))]) # soma color\n",
        "clr.extend(['red' for i in range(len(cell.dend))]) #dend colors\n",
        "clr.extend(['purple' for i  in range(len(cell.axon))]) # axon colors\n",
        "clr.extend(['blue']) #trunk color\n",
        "clr.extend(['green' for i in range(len(cell.apic)-1)])  # branch colors\n",
        "\n",
        "def interactive_plot(x, y, z, alpha, beta, phi, elev, azim):\n",
        "    global loc_param\n",
        "    loc_param = (x, y, z, np.pi/180*alpha, np.cos(np.pi/180*beta), np.pi/180*phi)\n",
        "    fig, ax = plot_morphology(cell=cell, electrodes=elec_pos, move_cell=loc_param,\n",
        "                    elev=-elev, azim=-azim, figsize=(12, 8), clr = clr)\n",
        "    plt.show()\n",
        "\n",
        "xslider = Layout(width='500px')\n",
        "yslider = Layout(height='350px')\n",
        "w_reset = widgets.Button(description='Reset', icon='history', button_style='primary')\n",
        "w_x = widgets.FloatSlider(value=loc_param_default[0], min=-200, max=200, step=1, description='x (um)', continuous_update=False, readout_format='.0f')\n",
        "w_y = widgets.FloatSlider(value=loc_param_default[1], min=-1000, max=1000, step=1, description='y (um)', continuous_update=False, readout_format='.0f')\n",
        "w_z = widgets.FloatSlider(value=loc_param_default[2], min=20, max=400, step=1, description='z (um)', continuous_update=False, readout_format='.0f')\n",
        "w_alpha = widgets.FloatSlider(value=180/np.pi*loc_param_default[3], min=-180, max=180, step=1, description='alpha (deg)', continuous_update=False, readout_format='.0f')\n",
        "w_beta = widgets.FloatSlider(value=180/np.pi*np.arccos(loc_param_default[4]), min=0, max=180, step=1, description='beta (deg)', continuous_update=False, readout_format='.0f')\n",
        "w_phi = widgets.FloatSlider(value=180/np.pi*loc_param_default[5], min=-180, max=180, step=1, description='phi (deg)', continuous_update=False, readout_format='.0f')\n",
        "w_elev = widgets.FloatSlider(value=-elev, min=-90, max=90, step=1, description='elev (deg)', continuous_update=False, readout_format='.0f', orientation='vertical', layout=yslider)\n",
        "w_azim = widgets.FloatSlider(value=-azim, min=-180, max=180, step=1, description='azim (deg)', continuous_update=False, readout_format='.0f', layout=xslider)\n",
        "\n",
        "def reset_default(*args):\n",
        "    w_x.value, w_y.value, w_z.value = loc_param_default[:3]\n",
        "    w_alpha.value = 180 / np.pi * loc_param_default[3]\n",
        "    w_beta.value = 180 / np.pi * np.arccos(loc_param_default[4])\n",
        "    w_phi.value = 180 / np.pi * loc_param_default[5]\n",
        "    w_elev.value, w_azim.value = -elev, -azim\n",
        "w_reset.on_click(reset_default)\n",
        "\n",
        "out = interactive_output(interactive_plot, {'x': w_x, 'y': w_y, 'z': w_z, 'alpha': w_alpha, 'beta': w_beta, 'phi': w_phi, 'elev': w_elev, 'azim': w_azim})\n",
        "ui = VBox([ w_reset, HBox([ VBox([w_x, w_y, w_z]), VBox([w_alpha, w_beta, w_phi]) ]), HBox([ VBox([out, w_azim]), w_elev]) ])\n",
        "\n",
        "display(ui)"
      ]
    },
    {
      "cell_type": "markdown",
      "source": [
        "set azim to -90 in order to focus on zy plane view. 2D plot is of xy plane."
      ],
      "metadata": {
        "id": "OPZrMhcBjnec"
      },
      "id": "OPZrMhcBjnec"
    },
    {
      "cell_type": "markdown",
      "id": "0d582310",
      "metadata": {
        "id": "0d582310"
      },
      "source": [
        "#### Set synaptic input\n",
        "\n",
        "Use the toggle button to switch synapse location between the soma and the proximal apical tuft dendrite. Use the slider 'Synapse maximal conductance' to change synapse strength."
      ]
    },
    {
      "cell_type": "code",
      "execution_count": 37,
      "id": "ce8d1856",
      "metadata": {
        "id": "ce8d1856",
        "colab": {
          "base_uri": "https://localhost:8080/",
          "height": 82,
          "referenced_widgets": [
            "d45476000b794934bf45097d105d313a",
            "0dec9ff81e6145ada765034649f873f9",
            "928449bb4fbc42578cb0b5d9c07d1075",
            "a33868e5f5da49f99d237561886145bb",
            "36351e074c084725bc3776c1d5c065bf",
            "21137e92d7f94483ab7cbb6dc2bcdb4b",
            "57929cd9904a48b8a1d9d5d56c4e9ed3",
            "09dffc3b391c4426816ddad89c845ce8",
            "d99b9b1a715f44b692eaab3124988f1e",
            "437c1ddf48fb4100b41f0e3b9bcc6c6e",
            "248c145365c24f20a2ef0cd9c0aa1686",
            "c0f025a971c74106bfacb27a93dc0e80",
            "2ccee6a510fb410ebdb50f17ed004edc"
          ]
        },
        "outputId": "5cd518f9-3340-4486-ddfa-8cdf338745d4"
      },
      "outputs": [
        {
          "output_type": "display_data",
          "data": {
            "text/plain": [
              "VBox(children=(ToggleButtons(options=('Soma', 'Apical tuft (proximal)'), value='Soma'), HBox(children=(Label(v…"
            ],
            "application/vnd.jupyter.widget-view+json": {
              "version_major": 2,
              "version_minor": 0,
              "model_id": "d45476000b794934bf45097d105d313a"
            }
          },
          "metadata": {}
        }
      ],
      "source": [
        "w_syn_site = widgets.ToggleButtons(options=['Soma', 'Apical tuft (proximal)'])\n",
        "w_gmax = widgets.FloatSlider(value=gmax, min=0, max=0.1, step=0.0002, readout_format='.4f')\n",
        "display(VBox([w_syn_site, HBox([Label('Synapse maximal conductance (uS)'), w_gmax])]))\n",
        "\n",
        "def set_synapse():\n",
        "    soma_syn = w_syn_site.value == 'Soma'\n",
        "    gmax_soma = w_gmax.value if soma_syn else 0\n",
        "    gmax_tuft = 0 if soma_syn else w_gmax.value / cell._nbranch\n",
        "    cell.synapse[0].set_gmax(gmax_soma)\n",
        "    for syn in cell.synapse[1:]:\n",
        "        syn.set_gmax(gmax_tuft)"
      ]
    },
    {
      "cell_type": "code",
      "source": [
        "# try to extract syn and gmax for plot information\n",
        "print(w_gmax)\n",
        "print(w_syn_site)"
      ],
      "metadata": {
        "colab": {
          "base_uri": "https://localhost:8080/"
        },
        "id": "nqUJhNE_22Nn",
        "outputId": "1a34d746-861d-4c66-f3ad-eb931cadb427"
      },
      "id": "nqUJhNE_22Nn",
      "execution_count": 38,
      "outputs": [
        {
          "output_type": "stream",
          "name": "stdout",
          "text": [
            "FloatSlider(value=0.1, max=0.1, readout_format='.4f', step=0.0002)\n",
            "ToggleButtons(options=('Soma', 'Apical tuft (proximal)'), value='Soma')\n"
          ]
        }
      ]
    },
    {
      "cell_type": "code",
      "source": [
        "# nseg = len(cell.segments)\n",
        "# numTstep = int(h.tstop/h.dt)\n",
        "# #since synapse list has combined synapses for computational efficiency, we must use NetCon list/unique spike trains to determine how many synapses were mapped\n",
        "# NetCon_per_seg=[0]*nseg\n",
        "# inh_NetCon_per_seg=[0]*nseg\n",
        "# exc_NetCon_per_seg=[0]*nseg\n",
        "\n",
        "# i_NMDA_bySeg= [[0] * (numTstep+1) ] * nseg # need to implement inmda recording\n",
        "\n",
        "# v_rest=-60 #choose v_rest for categorizing inh/exc synapses\n",
        "\n",
        "# for netcon in cell.netcons_list:\n",
        "#   syn=netcon.syn()\n",
        "#   if syn in synapses_list:\n",
        "#     syn_seg_id=cell.segments.index(netcon.syn().get_segment())\n",
        "#     if syn in cell.segments[syn_seg_id].point_processes():\n",
        "#       NetCon_per_seg[syn_seg_id]+=1 # get synapses per segment\n",
        "#       # NetCon_per_seg[syn_seg_id].append(netcon) # possible implementation if needing objects per segment\n",
        "#       if syn.e > v_rest:\n",
        "#         exc_NetCon_per_seg[syn_seg_id]+=1\n",
        "#         # exc_NetCon_per_seg[syn_seg_id].append(netcon)# possible implementation if needing objects per segment\n",
        "#       else:\n",
        "#         inh_NetCon_per_seg[syn_seg_id]+=1\n",
        "#         # inh_NetCon_per_seg[syn_seg_id].append(netcon)# possible implementation if needing objects per segment\n",
        "#     else:\n",
        "#       print(\"Warning: synapse not in designated segment's point processes\")\n",
        "\n",
        "#   else:\n",
        "#     print(\"Warning: potentially deleted synapse:\",\"|NetCon obj:\",netcon,\"|Synapse obj:\",syn,\"the NetCon's synapse is not in synapses_list. Check corresponding original cell's NetCon for location, etc.\")\n",
        "\n",
        "# #extract inmda from each segment # can be adjusted for gaba synapses or alpha synapses # only paired nmda/ampa synapses have vec_list[1]\n",
        "# for synapse in cell.synapse:\n",
        "#   try:\n",
        "#     i_NMDA = np.array(synapse.rec_vec.vec_list[1])            #current = numpy array of NEURON Vector of current NMDA current at synapse j  \n",
        "#     seg = synapse.get_segment_id()                            #seg = the segment in which synapse j is located \n",
        "#     #print('first try')\n",
        "    \n",
        "#     try:\n",
        "#       i_NMDA_bySeg[seg] = i_NMDA_bySeg[seg] + i_NMDA    \n",
        "#       #print('second try')                                           #Sum current over each segment\n",
        "#     except: \n",
        "#       pass                                                                   #Except needed as some synpases do not have NMDA currrent and throw an error when called\n",
        "#   except:\n",
        "#     pass"
      ],
      "metadata": {
        "id": "-tri29bnwjC6"
      },
      "id": "-tri29bnwjC6",
      "execution_count": 39,
      "outputs": []
    },
    {
      "cell_type": "code",
      "source": [
        "%ls"
      ],
      "metadata": {
        "colab": {
          "base_uri": "https://localhost:8080/"
        },
        "id": "ynXvkXxb1dST",
        "outputId": "af108275-b987-4c68-9a04-932b75f2f132"
      },
      "id": "ynXvkXxb1dST",
      "execution_count": 40,
      "outputs": [
        {
          "output_type": "stream",
          "name": "stdout",
          "text": [
            "\u001b[0m\u001b[01;34mcell_inference\u001b[0m/  Stylized_Single_Cell_Extracellular_Potential_Tutorial.ipynb\n"
          ]
        }
      ]
    },
    {
      "cell_type": "code",
      "source": [
        "cell.get_recorder_data() #also creates directory"
      ],
      "metadata": {
        "colab": {
          "base_uri": "https://localhost:8080/"
        },
        "id": "LQBCnpfD0F5S",
        "outputId": "79ed2686-1b9a-4e1c-b64c-7bede8a577fc"
      },
      "id": "LQBCnpfD0F5S",
      "execution_count": 41,
      "outputs": [
        {
          "output_type": "stream",
          "name": "stdout",
          "text": [
            "Outputting data to  20.0outputcontrol_0nbranch_23NCs_7nsyn_49nseg\n"
          ]
        },
        {
          "output_type": "execute_result",
          "data": {
            "text/plain": [
              "{'spikes': array([], dtype=float64),\n",
              " 'ih_data': array([[0., 0., 0., ..., 0., 0., 0.],\n",
              "        [0., 0., 0., ..., 0., 0., 0.],\n",
              "        [0., 0., 0., ..., 0., 0., 0.],\n",
              "        ...,\n",
              "        [0., 0., 0., ..., 0., 0., 0.],\n",
              "        [0., 0., 0., ..., 0., 0., 0.],\n",
              "        [0., 0., 0., ..., 0., 0., 0.]]),\n",
              " 'gNaTa_T_data': array([[0., 0., 0., ..., 0., 0., 0.],\n",
              "        [0., 0., 0., ..., 0., 0., 0.],\n",
              "        [0., 0., 0., ..., 0., 0., 0.],\n",
              "        ...,\n",
              "        [0., 0., 0., ..., 0., 0., 0.],\n",
              "        [0., 0., 0., ..., 0., 0., 0.],\n",
              "        [0., 0., 0., ..., 0., 0., 0.]]),\n",
              " 'ina_data': array([[0., 0., 0., ..., 0., 0., 0.],\n",
              "        [0., 0., 0., ..., 0., 0., 0.],\n",
              "        [0., 0., 0., ..., 0., 0., 0.],\n",
              "        ...,\n",
              "        [0., 0., 0., ..., 0., 0., 0.],\n",
              "        [0., 0., 0., ..., 0., 0., 0.],\n",
              "        [0., 0., 0., ..., 0., 0., 0.]]),\n",
              " 'icah_data': array([[0., 0., 0., ..., 0., 0., 0.],\n",
              "        [0., 0., 0., ..., 0., 0., 0.],\n",
              "        [0., 0., 0., ..., 0., 0., 0.],\n",
              "        ...,\n",
              "        [0., 0., 0., ..., 0., 0., 0.],\n",
              "        [0., 0., 0., ..., 0., 0., 0.],\n",
              "        [0., 0., 0., ..., 0., 0., 0.]]),\n",
              " 'ical_data': array([[0., 0., 0., ..., 0., 0., 0.],\n",
              "        [0., 0., 0., ..., 0., 0., 0.],\n",
              "        [0., 0., 0., ..., 0., 0., 0.],\n",
              "        ...,\n",
              "        [0., 0., 0., ..., 0., 0., 0.],\n",
              "        [0., 0., 0., ..., 0., 0., 0.],\n",
              "        [0., 0., 0., ..., 0., 0., 0.]]),\n",
              " 'Vm': array([[0., 0., 0., ..., 0., 0., 0.],\n",
              "        [0., 0., 0., ..., 0., 0., 0.],\n",
              "        [0., 0., 0., ..., 0., 0., 0.],\n",
              "        ...,\n",
              "        [0., 0., 0., ..., 0., 0., 0.],\n",
              "        [0., 0., 0., ..., 0., 0., 0.],\n",
              "        [0., 0., 0., ..., 0., 0., 0.]]),\n",
              " 'i_NMDA':     0    1    2    3    4    5    6    7    8    9    ...  791  792  793  794  \\\n",
              " 0     0    0    0    0    0    0    0    0    0    0  ...    0    0    0    0   \n",
              " 1     0    0    0    0    0    0    0    0    0    0  ...    0    0    0    0   \n",
              " 2     0    0    0    0    0    0    0    0    0    0  ...    0    0    0    0   \n",
              " 3     0    0    0    0    0    0    0    0    0    0  ...    0    0    0    0   \n",
              " 4     0    0    0    0    0    0    0    0    0    0  ...    0    0    0    0   \n",
              " 5     0    0    0    0    0    0    0    0    0    0  ...    0    0    0    0   \n",
              " 6     0    0    0    0    0    0    0    0    0    0  ...    0    0    0    0   \n",
              " 7     0    0    0    0    0    0    0    0    0    0  ...    0    0    0    0   \n",
              " 8     0    0    0    0    0    0    0    0    0    0  ...    0    0    0    0   \n",
              " 9     0    0    0    0    0    0    0    0    0    0  ...    0    0    0    0   \n",
              " 10    0    0    0    0    0    0    0    0    0    0  ...    0    0    0    0   \n",
              " 11    0    0    0    0    0    0    0    0    0    0  ...    0    0    0    0   \n",
              " 12    0    0    0    0    0    0    0    0    0    0  ...    0    0    0    0   \n",
              " 13    0    0    0    0    0    0    0    0    0    0  ...    0    0    0    0   \n",
              " 14    0    0    0    0    0    0    0    0    0    0  ...    0    0    0    0   \n",
              " 15    0    0    0    0    0    0    0    0    0    0  ...    0    0    0    0   \n",
              " 16    0    0    0    0    0    0    0    0    0    0  ...    0    0    0    0   \n",
              " 17    0    0    0    0    0    0    0    0    0    0  ...    0    0    0    0   \n",
              " 18    0    0    0    0    0    0    0    0    0    0  ...    0    0    0    0   \n",
              " 19    0    0    0    0    0    0    0    0    0    0  ...    0    0    0    0   \n",
              " 20    0    0    0    0    0    0    0    0    0    0  ...    0    0    0    0   \n",
              " 21    0    0    0    0    0    0    0    0    0    0  ...    0    0    0    0   \n",
              " 22    0    0    0    0    0    0    0    0    0    0  ...    0    0    0    0   \n",
              " 23    0    0    0    0    0    0    0    0    0    0  ...    0    0    0    0   \n",
              " 24    0    0    0    0    0    0    0    0    0    0  ...    0    0    0    0   \n",
              " 25    0    0    0    0    0    0    0    0    0    0  ...    0    0    0    0   \n",
              " 26    0    0    0    0    0    0    0    0    0    0  ...    0    0    0    0   \n",
              " 27    0    0    0    0    0    0    0    0    0    0  ...    0    0    0    0   \n",
              " 28    0    0    0    0    0    0    0    0    0    0  ...    0    0    0    0   \n",
              " 29    0    0    0    0    0    0    0    0    0    0  ...    0    0    0    0   \n",
              " 30    0    0    0    0    0    0    0    0    0    0  ...    0    0    0    0   \n",
              " 31    0    0    0    0    0    0    0    0    0    0  ...    0    0    0    0   \n",
              " 32    0    0    0    0    0    0    0    0    0    0  ...    0    0    0    0   \n",
              " 33    0    0    0    0    0    0    0    0    0    0  ...    0    0    0    0   \n",
              " 34    0    0    0    0    0    0    0    0    0    0  ...    0    0    0    0   \n",
              " 35    0    0    0    0    0    0    0    0    0    0  ...    0    0    0    0   \n",
              " 36    0    0    0    0    0    0    0    0    0    0  ...    0    0    0    0   \n",
              " 37    0    0    0    0    0    0    0    0    0    0  ...    0    0    0    0   \n",
              " 38    0    0    0    0    0    0    0    0    0    0  ...    0    0    0    0   \n",
              " 39    0    0    0    0    0    0    0    0    0    0  ...    0    0    0    0   \n",
              " 40    0    0    0    0    0    0    0    0    0    0  ...    0    0    0    0   \n",
              " 41    0    0    0    0    0    0    0    0    0    0  ...    0    0    0    0   \n",
              " 42    0    0    0    0    0    0    0    0    0    0  ...    0    0    0    0   \n",
              " 43    0    0    0    0    0    0    0    0    0    0  ...    0    0    0    0   \n",
              " 44    0    0    0    0    0    0    0    0    0    0  ...    0    0    0    0   \n",
              " 45    0    0    0    0    0    0    0    0    0    0  ...    0    0    0    0   \n",
              " 46    0    0    0    0    0    0    0    0    0    0  ...    0    0    0    0   \n",
              " 47    0    0    0    0    0    0    0    0    0    0  ...    0    0    0    0   \n",
              " 48    0    0    0    0    0    0    0    0    0    0  ...    0    0    0    0   \n",
              " \n",
              "     795  796  797  798  799  800  \n",
              " 0     0    0    0    0    0    0  \n",
              " 1     0    0    0    0    0    0  \n",
              " 2     0    0    0    0    0    0  \n",
              " 3     0    0    0    0    0    0  \n",
              " 4     0    0    0    0    0    0  \n",
              " 5     0    0    0    0    0    0  \n",
              " 6     0    0    0    0    0    0  \n",
              " 7     0    0    0    0    0    0  \n",
              " 8     0    0    0    0    0    0  \n",
              " 9     0    0    0    0    0    0  \n",
              " 10    0    0    0    0    0    0  \n",
              " 11    0    0    0    0    0    0  \n",
              " 12    0    0    0    0    0    0  \n",
              " 13    0    0    0    0    0    0  \n",
              " 14    0    0    0    0    0    0  \n",
              " 15    0    0    0    0    0    0  \n",
              " 16    0    0    0    0    0    0  \n",
              " 17    0    0    0    0    0    0  \n",
              " 18    0    0    0    0    0    0  \n",
              " 19    0    0    0    0    0    0  \n",
              " 20    0    0    0    0    0    0  \n",
              " 21    0    0    0    0    0    0  \n",
              " 22    0    0    0    0    0    0  \n",
              " 23    0    0    0    0    0    0  \n",
              " 24    0    0    0    0    0    0  \n",
              " 25    0    0    0    0    0    0  \n",
              " 26    0    0    0    0    0    0  \n",
              " 27    0    0    0    0    0    0  \n",
              " 28    0    0    0    0    0    0  \n",
              " 29    0    0    0    0    0    0  \n",
              " 30    0    0    0    0    0    0  \n",
              " 31    0    0    0    0    0    0  \n",
              " 32    0    0    0    0    0    0  \n",
              " 33    0    0    0    0    0    0  \n",
              " 34    0    0    0    0    0    0  \n",
              " 35    0    0    0    0    0    0  \n",
              " 36    0    0    0    0    0    0  \n",
              " 37    0    0    0    0    0    0  \n",
              " 38    0    0    0    0    0    0  \n",
              " 39    0    0    0    0    0    0  \n",
              " 40    0    0    0    0    0    0  \n",
              " 41    0    0    0    0    0    0  \n",
              " 42    0    0    0    0    0    0  \n",
              " 43    0    0    0    0    0    0  \n",
              " 44    0    0    0    0    0    0  \n",
              " 45    0    0    0    0    0    0  \n",
              " 46    0    0    0    0    0    0  \n",
              " 47    0    0    0    0    0    0  \n",
              " 48    0    0    0    0    0    0  \n",
              " \n",
              " [49 rows x 801 columns],\n",
              " 'i_AMPA':     0    1    2    3    4    5    6    7    8    9    ...  791  792  793  794  \\\n",
              " 0     0    0    0    0    0    0    0    0    0    0  ...    0    0    0    0   \n",
              " 1     0    0    0    0    0    0    0    0    0    0  ...    0    0    0    0   \n",
              " 2     0    0    0    0    0    0    0    0    0    0  ...    0    0    0    0   \n",
              " 3     0    0    0    0    0    0    0    0    0    0  ...    0    0    0    0   \n",
              " 4     0    0    0    0    0    0    0    0    0    0  ...    0    0    0    0   \n",
              " 5     0    0    0    0    0    0    0    0    0    0  ...    0    0    0    0   \n",
              " 6     0    0    0    0    0    0    0    0    0    0  ...    0    0    0    0   \n",
              " 7     0    0    0    0    0    0    0    0    0    0  ...    0    0    0    0   \n",
              " 8     0    0    0    0    0    0    0    0    0    0  ...    0    0    0    0   \n",
              " 9     0    0    0    0    0    0    0    0    0    0  ...    0    0    0    0   \n",
              " 10    0    0    0    0    0    0    0    0    0    0  ...    0    0    0    0   \n",
              " 11    0    0    0    0    0    0    0    0    0    0  ...    0    0    0    0   \n",
              " 12    0    0    0    0    0    0    0    0    0    0  ...    0    0    0    0   \n",
              " 13    0    0    0    0    0    0    0    0    0    0  ...    0    0    0    0   \n",
              " 14    0    0    0    0    0    0    0    0    0    0  ...    0    0    0    0   \n",
              " 15    0    0    0    0    0    0    0    0    0    0  ...    0    0    0    0   \n",
              " 16    0    0    0    0    0    0    0    0    0    0  ...    0    0    0    0   \n",
              " 17    0    0    0    0    0    0    0    0    0    0  ...    0    0    0    0   \n",
              " 18    0    0    0    0    0    0    0    0    0    0  ...    0    0    0    0   \n",
              " 19    0    0    0    0    0    0    0    0    0    0  ...    0    0    0    0   \n",
              " 20    0    0    0    0    0    0    0    0    0    0  ...    0    0    0    0   \n",
              " 21    0    0    0    0    0    0    0    0    0    0  ...    0    0    0    0   \n",
              " 22    0    0    0    0    0    0    0    0    0    0  ...    0    0    0    0   \n",
              " 23    0    0    0    0    0    0    0    0    0    0  ...    0    0    0    0   \n",
              " 24    0    0    0    0    0    0    0    0    0    0  ...    0    0    0    0   \n",
              " 25    0    0    0    0    0    0    0    0    0    0  ...    0    0    0    0   \n",
              " 26    0    0    0    0    0    0    0    0    0    0  ...    0    0    0    0   \n",
              " 27    0    0    0    0    0    0    0    0    0    0  ...    0    0    0    0   \n",
              " 28    0    0    0    0    0    0    0    0    0    0  ...    0    0    0    0   \n",
              " 29    0    0    0    0    0    0    0    0    0    0  ...    0    0    0    0   \n",
              " 30    0    0    0    0    0    0    0    0    0    0  ...    0    0    0    0   \n",
              " 31    0    0    0    0    0    0    0    0    0    0  ...    0    0    0    0   \n",
              " 32    0    0    0    0    0    0    0    0    0    0  ...    0    0    0    0   \n",
              " 33    0    0    0    0    0    0    0    0    0    0  ...    0    0    0    0   \n",
              " 34    0    0    0    0    0    0    0    0    0    0  ...    0    0    0    0   \n",
              " 35    0    0    0    0    0    0    0    0    0    0  ...    0    0    0    0   \n",
              " 36    0    0    0    0    0    0    0    0    0    0  ...    0    0    0    0   \n",
              " 37    0    0    0    0    0    0    0    0    0    0  ...    0    0    0    0   \n",
              " 38    0    0    0    0    0    0    0    0    0    0  ...    0    0    0    0   \n",
              " 39    0    0    0    0    0    0    0    0    0    0  ...    0    0    0    0   \n",
              " 40    0    0    0    0    0    0    0    0    0    0  ...    0    0    0    0   \n",
              " 41    0    0    0    0    0    0    0    0    0    0  ...    0    0    0    0   \n",
              " 42    0    0    0    0    0    0    0    0    0    0  ...    0    0    0    0   \n",
              " 43    0    0    0    0    0    0    0    0    0    0  ...    0    0    0    0   \n",
              " 44    0    0    0    0    0    0    0    0    0    0  ...    0    0    0    0   \n",
              " 45    0    0    0    0    0    0    0    0    0    0  ...    0    0    0    0   \n",
              " 46    0    0    0    0    0    0    0    0    0    0  ...    0    0    0    0   \n",
              " 47    0    0    0    0    0    0    0    0    0    0  ...    0    0    0    0   \n",
              " 48    0    0    0    0    0    0    0    0    0    0  ...    0    0    0    0   \n",
              " \n",
              "     795  796  797  798  799  800  \n",
              " 0     0    0    0    0    0    0  \n",
              " 1     0    0    0    0    0    0  \n",
              " 2     0    0    0    0    0    0  \n",
              " 3     0    0    0    0    0    0  \n",
              " 4     0    0    0    0    0    0  \n",
              " 5     0    0    0    0    0    0  \n",
              " 6     0    0    0    0    0    0  \n",
              " 7     0    0    0    0    0    0  \n",
              " 8     0    0    0    0    0    0  \n",
              " 9     0    0    0    0    0    0  \n",
              " 10    0    0    0    0    0    0  \n",
              " 11    0    0    0    0    0    0  \n",
              " 12    0    0    0    0    0    0  \n",
              " 13    0    0    0    0    0    0  \n",
              " 14    0    0    0    0    0    0  \n",
              " 15    0    0    0    0    0    0  \n",
              " 16    0    0    0    0    0    0  \n",
              " 17    0    0    0    0    0    0  \n",
              " 18    0    0    0    0    0    0  \n",
              " 19    0    0    0    0    0    0  \n",
              " 20    0    0    0    0    0    0  \n",
              " 21    0    0    0    0    0    0  \n",
              " 22    0    0    0    0    0    0  \n",
              " 23    0    0    0    0    0    0  \n",
              " 24    0    0    0    0    0    0  \n",
              " 25    0    0    0    0    0    0  \n",
              " 26    0    0    0    0    0    0  \n",
              " 27    0    0    0    0    0    0  \n",
              " 28    0    0    0    0    0    0  \n",
              " 29    0    0    0    0    0    0  \n",
              " 30    0    0    0    0    0    0  \n",
              " 31    0    0    0    0    0    0  \n",
              " 32    0    0    0    0    0    0  \n",
              " 33    0    0    0    0    0    0  \n",
              " 34    0    0    0    0    0    0  \n",
              " 35    0    0    0    0    0    0  \n",
              " 36    0    0    0    0    0    0  \n",
              " 37    0    0    0    0    0    0  \n",
              " 38    0    0    0    0    0    0  \n",
              " 39    0    0    0    0    0    0  \n",
              " 40    0    0    0    0    0    0  \n",
              " 41    0    0    0    0    0    0  \n",
              " 42    0    0    0    0    0    0  \n",
              " 43    0    0    0    0    0    0  \n",
              " 44    0    0    0    0    0    0  \n",
              " 45    0    0    0    0    0    0  \n",
              " 46    0    0    0    0    0    0  \n",
              " 47    0    0    0    0    0    0  \n",
              " 48    0    0    0    0    0    0  \n",
              " \n",
              " [49 rows x 801 columns]}"
            ]
          },
          "metadata": {},
          "execution_count": 41
        }
      ]
    },
    {
      "cell_type": "code",
      "source": [
        "# output_folder_name=str(nbranches[0])+\"nbranch_outputcontrol_\"+str(int(len(cell.synapse)))+\"nsyn\"#+modelname  #include model name in output foler name (ex. original cell, reduced cell, expanded cell)\n",
        "# #create output folder\n",
        "# import os\n",
        "# if not os.path.exists(output_folder_name):\n",
        "#    os.makedirs(output_folder_name)\n",
        "\n",
        "# print(output_folder_name)\n",
        "# os.chdir(output_folder_name)"
      ],
      "metadata": {
        "id": "LeeK1qu11Zhv"
      },
      "id": "LeeK1qu11Zhv",
      "execution_count": 42,
      "outputs": []
    },
    {
      "cell_type": "code",
      "source": [
        "#save geometry file\n",
        "# cell.geometry.to_csv('geometry.csv')"
      ],
      "metadata": {
        "id": "2dNBijayE1zu"
      },
      "id": "2dNBijayE1zu",
      "execution_count": 43,
      "outputs": []
    },
    {
      "cell_type": "code",
      "source": [
        "# #Should add \"syn per seg\" to seg data frame #also can try doing SynPerSeg/segL to have more of a density metric\n",
        "# #can adjust functions to take df arguement\n",
        "# def plotSynDensity(SynPerSeg,Type=str):\n",
        "#   plt.figure(figsize=(4,10))\n",
        "#   ax = plt.scatter(expanded_segments_df[\"Coord X\"], expanded_segments_df[\"Coord Y\"],c = SynPerSeg[0:nseg],cmap='jet',)\n",
        "#   plt.vlines(110,400,500)\n",
        "#   plt.text(0,450,'100 um')\n",
        "#   plt.hlines(400,110,210)\n",
        "#   plt.text(110,350,'100 um')\n",
        "#   plt.xticks([])\n",
        "#   plt.yticks([])\n",
        "#   cbar = plt.colorbar()\n",
        "#   cbar.ax.set_ylabel(Type+'Synapses per segment', rotation=270)\n",
        "\n",
        "#   plt.box(False)\n",
        "#   plt.savefig(Type+'_syns.svg')\n",
        "\n",
        "# def plotSynDensityNoSoma(SynPerSeg,Type=str):\n",
        "#   plt.figure(figsize=(4,10))\n",
        "#   ax = plt.scatter(expanded_segments_df[\"Coord X\"][1:], expanded_segments_df[\"Coord Y\"][1:],c = SynPerSeg[1:nseg],cmap='jet',)\n",
        "#   plt.vlines(110,400,500)\n",
        "#   plt.text(0,450,'100 um')\n",
        "#   plt.hlines(400,110,210)\n",
        "#   plt.text(110,350,'100 um')\n",
        "#   plt.xticks([])\n",
        "#   plt.yticks([])\n",
        "#   cbar = plt.colorbar()\n",
        "#   cbar.ax.set_ylabel(Type+'Synapses per segment', rotation=270)\n",
        "\n",
        "#   plt.box(False)\n",
        "#   plt.savefig(Type+'_syns.svg')\n",
        "\n",
        "# plotSynDensity(exc_NetCon_per_seg,'Exc') #len(cell.segments) #low number of segments makes plot look odd."
      ],
      "metadata": {
        "id": "ZtC6mvhXwL-L"
      },
      "id": "ZtC6mvhXwL-L",
      "execution_count": 44,
      "outputs": []
    },
    {
      "cell_type": "code",
      "source": [
        "# plotSynDensity(inh_NetCon_per_seg,'Inh') # if soma has too many inh synapses the heatmap is not as interpretable"
      ],
      "metadata": {
        "id": "AuPzXdSdwhme"
      },
      "id": "AuPzXdSdwhme",
      "execution_count": 45,
      "outputs": []
    },
    {
      "cell_type": "code",
      "source": [
        "# print(cell.seg_coords)"
      ],
      "metadata": {
        "id": "TsqdpMMmzNbX"
      },
      "id": "TsqdpMMmzNbX",
      "execution_count": 46,
      "outputs": []
    },
    {
      "cell_type": "code",
      "source": [
        "# dir(synapses_list[0])"
      ],
      "metadata": {
        "id": "FpvT5pX-adYG"
      },
      "id": "FpvT5pX-adYG",
      "execution_count": 47,
      "outputs": []
    },
    {
      "cell_type": "code",
      "source": [
        "# y=[netcon for netcon in netcons_list]"
      ],
      "metadata": {
        "id": "RL2ZuF87Z1ab"
      },
      "id": "RL2ZuF87Z1ab",
      "execution_count": 48,
      "outputs": []
    },
    {
      "cell_type": "markdown",
      "id": "2ca15375",
      "metadata": {
        "id": "2ca15375"
      },
      "source": [
        "## Run simulation and plot results\n",
        "\n",
        "Run the codes below to simulate and display results everytime after you change the parameters above."
      ]
    },
    {
      "cell_type": "code",
      "execution_count": 57,
      "id": "f81ec874",
      "metadata": {
        "id": "f81ec874",
        "colab": {
          "base_uri": "https://localhost:8080/",
          "height": 1000
        },
        "outputId": "8e59c11a-20e0-4697-fe8e-3dbfd6c93616"
      },
      "outputs": [
        {
          "output_type": "display_data",
          "data": {
            "text/plain": [
              "<Figure size 1000x400 with 1 Axes>"
            ],
            "image/png": "[encoded data removed]"
          },
          "metadata": {}
        },
        {
          "output_type": "display_data",
          "data": {
            "text/plain": [
              "<Figure size 800x500 with 2 Axes>"
            ],
            "image/png": "[encoded data removed]"
          },
          "metadata": {}
        },
        {
          "output_type": "display_data",
          "data": {
            "text/plain": [
              "<Figure size 800x500 with 2 Axes>"
            ],
            "image/png": "[encoded data removed]"
          },
          "metadata": {}
        }
      ],
      "source": [
        "# Run simulation\n",
        "set_synapse()\n",
        "h.run()\n",
        "# Get results\n",
        "t = t_vec.as_numpy().copy()  # time array (ms)\n",
        "# soma membrane potential\n",
        "Vm = V_rec.as_numpy()\n",
        "v_soma = Vm[cell.sec_id_in_seg[cell.all.index(cell.soma)]]\n",
        "v_tfut = Vm[cell.sec_id_in_seg[cell.all.index(tufts[0])]]\n",
        "# lfp array\n",
        "lfp = ecp.calc_ecp(move_cell=loc_param).T  # unit: mV\n",
        "\n",
        "# Soma membrane potential\n",
        "plt.figure(figsize=(10, 4))\n",
        "plt.plot(t, v_soma, label='Soma')\n",
        "plt.plot(t, v_tfut, label='Tuft')\n",
        "plt.ylabel('Membrane potential (mV)')\n",
        "plt.xlabel('time (ms)')\n",
        "plt.xlim(t[[0, -1]])\n",
        "plt.legend()\n",
        "plt.savefig('Vm')\n",
        "\n",
        "# Extracellular potential along y-axis\n",
        "y_window = [-1200, 1200]  # select range of y coordinate for plotting\n",
        "ylim = loc_param[1] + np.array(y_window)  # set range of y coordinate\n",
        "max_idx = np.argmax(np.amax(np.abs(lfp), axis=0))  # find the electrode that records maximum magnitude\n",
        "x_dist = elec_pos[max_idx, 0]  # x coordinate of the maximum magnitude electrode\n",
        "e_idx = (elec_pos[:, 0]==x_dist) & (elec_pos[:, 1]>=ylim[0]) & (elec_pos[:, 1]<=ylim[1])  # selected electrode indices\n",
        "\n",
        "fontsize = 15\n",
        "labelpad = -10\n",
        "ticksize = 12\n",
        "tick_length = 5\n",
        "nbins = 5\n",
        "plt.figure(figsize=(8, 5))\n",
        "_ = plot_lfp_heatmap(t=t, elec_d=elec_pos[e_idx, 1], lfp=lfp[:, e_idx],\n",
        "                     fontsize=fontsize, labelpad=labelpad, ticksize=ticksize, tick_length=tick_length,\n",
        "                     nbins=nbins, vlim='auto', axes=plt.gca())\n",
        "plt.title('Extracellular potential heatmap')\n",
        "plt.savefig('ECP heatmap')\n",
        "plt.figure(figsize=(8, 5))\n",
        "_ = plot_lfp_traces(t, lfp[:, e_idx][:,1::3], electrodes=elec_pos[e_idx][1::3],\n",
        "                    fontsize=fontsize, labelpad=labelpad, ticksize=ticksize, tick_length=tick_length,\n",
        "                    nbins=nbins, axes=plt.gca())\n",
        "plt.title('Extracellular potential timecourse')\n",
        "plt.savefig('ECP timecourse')\n",
        "\n",
        "plt.show()"
      ]
    },
    {
      "cell_type": "markdown",
      "id": "5c3e3e52",
      "metadata": {
        "id": "5c3e3e52"
      },
      "source": [
        "## Electrotonic distance\n",
        "\n",
        "Neuron has a tool for electrotonic analysis [https://www.neuron.yale.edu/neuron/static/docs/zclass/zclass.html](https://www.neuron.yale.edu/neuron/static/docs/zclass/zclass.html). It computes the electrotonic distance defined by attenuation, but the classical definition is [anatomical distance/length constant](https://www.neuron.yale.edu/neuron/static/docs/zclass/NIPS94/nipsfin.html).\n",
        "\n",
        "The plot below shows the membrane potential timecourse at several locations on the cell. The electrotonic distance computed by Neuron of each location is also shown with both number and color. The distance should always be a positive value, but it is labeled negative for the basal dendrites and the axon intentionally so that it can be easily distinguished from the apical dendrites."
      ]
    },
    {
      "cell_type": "code",
      "source": [],
      "metadata": {
        "id": "D0amv-Dd-2Ij"
      },
      "id": "D0amv-Dd-2Ij",
      "execution_count": 49,
      "outputs": []
    },
    {
      "cell_type": "code",
      "source": [
        "# geometry=cell.geometry"
      ],
      "metadata": {
        "id": "cNsNKTKuB0XA"
      },
      "id": "cNsNKTKuB0XA",
      "execution_count": 50,
      "outputs": []
    },
    {
      "cell_type": "code",
      "execution_count": 51,
      "id": "729a65ff",
      "metadata": {
        "id": "729a65ff"
      },
      "outputs": [],
      "source": [
        "# for syn in cell.synapse:\n",
        "#     syn.set_gmax(0)\n",
        "# h.run()\n",
        "\n",
        "# sec_type_swc = {sec['name']: sec['type'] for _, sec in geometry.iterrows()}\n",
        "# # sec_type = [sec_type_swc[sec.name().split('.')[-1]] for sec in cell.all] # original\n",
        "# # sec_type = [sec_type_swc[sec.name().split('.')[-1].split('[')[0]] for sec in cell.all] # possible alternative?\n",
        "# sec_type = [sec_type_swc[sec.name()] for sec in cell.all]\n",
        "# freq = 0 # Hz\n",
        "# seg_prop, _, _ = measure_segment_distance(cell.soma , cell.all, sec_type, freq)\n",
        "\n",
        "# select_seg = [[cell.sec_id_in_seg[sec[0]], cell.get_sec_by_id(sec[0]).nseg -1] for sec in cell.sec_id_lookup.values()]\n",
        "# select_seg = np.sum(np.array(select_seg), axis=1)\n",
        "# # select_seg = np.unique(np.cumsum(np.array(select_seg), axis=1).ravel())\n",
        "# _ = plot_variable_with_morphology(cell.seg_coords, seg_prop, Vm, t=t, axes=['x', 'y'],\n",
        "#                                   distance_type='elec_dist', n_dist=300,\n",
        "#                                   select_seg=select_seg, max_per_dist=1, varname='Membrane potential (mV)',\n",
        "#                                   space=2., normalized_space=True, sort_by_dist=True,\n",
        "                                  # figsize=(10, 10), fontsize=15, scalebar_size=50)"
      ]
    },
    {
      "cell_type": "markdown",
      "source": [
        "##Transfer Impedance\n",
        "\n"
      ],
      "metadata": {
        "id": "Tc1fFLPUz5Qe"
      },
      "id": "Tc1fFLPUz5Qe"
    },
    {
      "cell_type": "code",
      "execution_count": 52,
      "id": "be859ed7",
      "metadata": {
        "id": "be859ed7"
      },
      "outputs": [],
      "source": [
        "# import numpy as np\n",
        "# from neuron import h\n",
        "# import cmath\n",
        "\n",
        "# def measure_segment_transfer_impedance(soma, section_list, sec_type, freq=0, extracellular_mechanism=True):\n",
        "#     \"\"\"\n",
        "#     soma: soma section object\n",
        "#     section_list: list of sections\n",
        "#     sec_type: list of swc type id of sections\n",
        "#     freq: frequency (Hz) at which electrotonic distance is evaluated\n",
        "#     extracellular_mechanism: whether extracellular mechanism is used\n",
        "#     \"\"\"\n",
        "#     seg_prop = {}\n",
        "#     swc_type = []\n",
        "#     seg_area = []\n",
        "#     seg_dist = []\n",
        "#     seg_length = []\n",
        "#     elec_dist = [] #modulus part of polar form #should change names\n",
        "#     elec_dist0 = [] #modulus of polar form #should change names\n",
        "#     transfer_imps = [] #real part of rectangular form\n",
        "#     transfer_imps0 = [] # real part of rectangular form\n",
        "\n",
        "#     # set up distance origin\n",
        "#     h.distance(0, soma(.5))\n",
        "#     # set up electrotonic origin\n",
        "#     zz = h.Impedance()\n",
        "#     zz.loc(soma(.5))\n",
        "#     if extracellular_mechanism:\n",
        "#         zz.compute(freq + 1 / 9e9, 0) #*\n",
        "#     else:\n",
        "#         zz.compute(freq, 1)\n",
        "#     # measure distance\n",
        "#     for i, sec in enumerate(section_list):\n",
        "#         if sec_type[i]==1:\n",
        "#             transfer_imp=zz.transfer(sec(0.5/sec.nseg)) #*\n",
        "#             transfer_phase=zz.transfer_phase(sec(0.5/sec.nseg)) #*\n",
        "#             elec_dist0.append(transfer_imp) #*\n",
        "#             rect_complex=cmath.rect(transfer_imp,transfer_phase)\n",
        "#             transfer_imps.append(rect_complex.real) #*\n",
        "#         else:\n",
        "#             transfer_imp=zz.transfer(sec.parentseg()) #*\n",
        "#             transfer_phase=zz.transfer_phase(sec.parentseg()) #*\n",
        "#             elec_dist0.append(transfer_imp) #*\n",
        "#             rect_complex=cmath.rect(transfer_imp, transfer_phase) #*\n",
        "#             transfer_imps.append(rect_complex.real) #*\n",
        "#         for j, seg in enumerate(sec):\n",
        "#             swc_type.append(sec_type[i])\n",
        "#             seg_area.append(seg.area())\n",
        "#             seg_dist.append(h.distance(seg))\n",
        "#             seg_length.append(sec.L/sec.nseg)\n",
        "#             if j!=0:\n",
        "#                 elec_dist0.append(elec_dist[-1])\n",
        "#                 transfer_imps.append(transfer_imps0[-1])\n",
        "#             elec_dist.append(zz.transfer(seg)) #*\n",
        "#             transfer_imp=zz.transfer(seg) #*\n",
        "#             transfer_phase=zz.transfer_phase(seg) #*\n",
        "#             rect_complex=cmath.rect(transfer_imp,transfer_phase) #*\n",
        "#             transfer_imps0.append(rect_complex.real) #*\n",
        "\n",
        "#     seg_prop['swc_type'] = np.array(swc_type)\n",
        "#     seg_prop['seg_area'] = np.array(seg_area)\n",
        "\n",
        "#     # distance at endpoints of each segment\n",
        "#     seg_prop['distance'] = np.expand_dims(seg_dist, 1) + np.expand_dims(seg_length, 1) / 2 * np.array([[-1, 1]])\n",
        "#     # seg_prop['transfer_imp'] = np.sort(np.log(elec_dist0[0]) - np.log(np.column_stack([elec_dist0, elec_dist])), axis=1) #*\n",
        "#     seg_prop['transfer_imp_mod'] = np.sort(elec_dist0[0] - np.column_stack([elec_dist0, elec_dist]), axis=1) #*\n",
        "#     seg_prop['transfer_imp_real'] = np.sort(transfer_imps[0] - np.column_stack([transfer_imps, transfer_imps0]), axis=1) #*\n",
        "\n",
        "\n",
        "#     # change sign of basal and axon types\n",
        "#     idx = np.nonzero((seg_prop['swc_type']==2) | (seg_prop['swc_type']==3))[0]\n",
        "#     seg_prop['distance'][idx] = -seg_prop['distance'][idx,::-1]\n",
        "#     seg_prop['transfer_imp_mod'][idx] = -seg_prop['transfer_imp_mod'][idx,::-1] #*\n",
        "#     seg_prop['transfer_imp_real'][idx] = -seg_prop['transfer_imp_real'][idx,::-1] #*\n",
        "#     return seg_prop, zz.transfer(soma(.5)), zz.transfer_phase(soma(.5))\n"
      ]
    },
    {
      "cell_type": "code",
      "source": [
        "# #using modulus of polar form\n",
        "\n",
        "# for syn in cell.synapse:\n",
        "#     syn.set_gmax(0)\n",
        "# h.run()\n",
        "\n",
        "# sec_type_swc = {sec['name']: sec['type'] for _, sec in geometry.iterrows()}\n",
        "# sec_type = [sec_type_swc[sec.name().split('.')[-1]] for sec in cell.all]\n",
        "# freq = 0 # Hz\n",
        "# seg_prop, _, _ = measure_segment_transfer_impedance(cell.soma , cell.all, sec_type, freq)\n",
        "\n",
        "# select_seg = [[cell.sec_id_in_seg[sec[0]], cell.get_sec_by_id(sec[0]).nseg -1] for sec in cell.sec_id_lookup.values()]\n",
        "# select_seg = np.sum(np.array(select_seg), axis=1)\n",
        "# # select_seg = np.unique(np.cumsum(np.array(select_seg), axis=1).ravel())\n",
        "# _ = plot_variable_with_morphology(cell.seg_coords, seg_prop, Vm, t=t, axes=['x', 'y'],\n",
        "#                                   distance_type='transfer_imp_mod', n_dist=300,\n",
        "#                                   select_seg=select_seg, max_per_dist=1, varname='Membrane potential (mV)',\n",
        "#                                   space=2., normalized_space=True, sort_by_dist=True,\n",
        "#                                   figsize=(10, 10), fontsize=15, scalebar_size=50)"
      ],
      "metadata": {
        "id": "yHRymM0L5pJj"
      },
      "id": "yHRymM0L5pJj",
      "execution_count": 53,
      "outputs": []
    },
    {
      "cell_type": "code",
      "source": [
        "# #using real part of rectangular complex form\n",
        "\n",
        "# for syn in cell.synapse:\n",
        "#     syn.set_gmax(0)\n",
        "# h.run()\n",
        "\n",
        "# sec_type_swc = {sec['name']: sec['type'] for _, sec in geometry.iterrows()}\n",
        "# sec_type = [sec_type_swc[sec.name().split('.')[-1]] for sec in cell.all]\n",
        "# freq = 0 # Hz\n",
        "# seg_prop, _, _ = measure_segment_transfer_impedance(cell.soma , cell.all, sec_type, freq)\n",
        "\n",
        "# select_seg = [[cell.sec_id_in_seg[sec[0]], cell.get_sec_by_id(sec[0]).nseg -1] for sec in cell.sec_id_lookup.values()]\n",
        "# select_seg = np.sum(np.array(select_seg), axis=1)\n",
        "# # select_seg = np.unique(np.cumsum(np.array(select_seg), axis=1).ravel())\n",
        "# _ = plot_variable_with_morphology(cell.seg_coords, seg_prop, Vm, t=t, axes=['x', 'y'],\n",
        "#                                   distance_type='transfer_imp_real', n_dist=300,\n",
        "#                                   select_seg=select_seg, max_per_dist=1, varname='Membrane potential (mV)',\n",
        "#                                   space=2., normalized_space=True, sort_by_dist=True,\n",
        "#                                   figsize=(10, 10), fontsize=15, scalebar_size=50)"
      ],
      "metadata": {
        "id": "Ibbz1qMIjWu5"
      },
      "id": "Ibbz1qMIjWu5",
      "execution_count": 54,
      "outputs": []
    },
    {
      "cell_type": "markdown",
      "source": [
        "Transfer Impedance is a complex number"
      ],
      "metadata": {
        "id": "2eSHPclEP0I0"
      },
      "id": "2eSHPclEP0I0"
    },
    {
      "cell_type": "code",
      "source": [
        "# polar_modulus=1\n",
        "# polar_phase=3\n",
        "\n",
        "# complex_rectangular_form=cmath.rect(polar_modulus, polar_phase)\n",
        "# print(complex_rectangular_form)"
      ],
      "metadata": {
        "id": "PM8Xa3WATASj"
      },
      "id": "PM8Xa3WATASj",
      "execution_count": 55,
      "outputs": []
    },
    {
      "cell_type": "code",
      "source": [
        "# complex_rectangular_form.real"
      ],
      "metadata": {
        "id": "BZgkMzBpTLgL"
      },
      "id": "BZgkMzBpTLgL",
      "execution_count": 56,
      "outputs": []
    }
  ],
  "metadata": {
    "colab": {
      "provenance": [],
      "include_colab_link": true
    },
    "kernelspec": {
      "display_name": "Python 3 (ipykernel)",
      "language": "python",
      "name": "python3"
    },
    "language_info": {
      "codemirror_mode": {
        "name": "ipython",
        "version": 3
      },
      "file_extension": ".py",
      "mimetype": "text/x-python",
      "name": "python",
      "nbconvert_exporter": "python",
      "pygments_lexer": "ipython3",
      "version": "3.9.12"
    },
    "widgets": {
      "application/vnd.jupyter.widget-state+json": {
        "4cc9534880c44165b5c4cc0cc6c590ba": {
          "model_module": "@jupyter-widgets/controls",
          "model_name": "VBoxModel",
          "model_module_version": "1.5.0",
          "state": {
            "_dom_classes": [],
            "_model_module": "@jupyter-widgets/controls",
            "_model_module_version": "1.5.0",
            "_model_name": "VBoxModel",
            "_view_count": null,
            "_view_module": "@jupyter-widgets/controls",
            "_view_module_version": "1.5.0",
            "_view_name": "VBoxView",
            "box_style": "",
            "children": [
              "IPY_MODEL_e5e98bd2bdf044f99427215b457083bb",
              "IPY_MODEL_5ae095031aaa41abbafad2f30a9f9da3",
              "IPY_MODEL_eec558acab7240b285fceb7934fbbec6"
            ],
            "layout": "IPY_MODEL_7683530888c8442098525341e6fbdcdf"
          }
        },
        "e5e98bd2bdf044f99427215b457083bb": {
          "model_module": "@jupyter-widgets/controls",
          "model_name": "ButtonModel",
          "model_module_version": "1.5.0",
          "state": {
            "_dom_classes": [],
            "_model_module": "@jupyter-widgets/controls",
            "_model_module_version": "1.5.0",
            "_model_name": "ButtonModel",
            "_view_count": null,
            "_view_module": "@jupyter-widgets/controls",
            "_view_module_version": "1.5.0",
            "_view_name": "ButtonView",
            "button_style": "primary",
            "description": "Reset",
            "disabled": false,
            "icon": "history",
            "layout": "IPY_MODEL_2933cd896c7c47b8804e52456d985567",
            "style": "IPY_MODEL_9e711d1506d345ac80787aad2f5ebdd2",
            "tooltip": ""
          }
        },
        "5ae095031aaa41abbafad2f30a9f9da3": {
          "model_module": "@jupyter-widgets/controls",
          "model_name": "HBoxModel",
          "model_module_version": "1.5.0",
          "state": {
            "_dom_classes": [],
            "_model_module": "@jupyter-widgets/controls",
            "_model_module_version": "1.5.0",
            "_model_name": "HBoxModel",
            "_view_count": null,
            "_view_module": "@jupyter-widgets/controls",
            "_view_module_version": "1.5.0",
            "_view_name": "HBoxView",
            "box_style": "",
            "children": [
              "IPY_MODEL_b2f460aabdbc423abbc00e4876a2e2b2",
              "IPY_MODEL_d5c27c33006645b994e00d7f859a22df"
            ],
            "layout": "IPY_MODEL_b2eff4b082114f7fb6256a4bbec13c7f"
          }
        },
        "eec558acab7240b285fceb7934fbbec6": {
          "model_module": "@jupyter-widgets/controls",
          "model_name": "HBoxModel",
          "model_module_version": "1.5.0",
          "state": {
            "_dom_classes": [],
            "_model_module": "@jupyter-widgets/controls",
            "_model_module_version": "1.5.0",
            "_model_name": "HBoxModel",
            "_view_count": null,
            "_view_module": "@jupyter-widgets/controls",
            "_view_module_version": "1.5.0",
            "_view_name": "HBoxView",
            "box_style": "",
            "children": [
              "IPY_MODEL_6cd0f0b13ad94708a50417ba54789afb",
              "IPY_MODEL_f086567fb4c04c88b8af6d48026a0d60"
            ],
            "layout": "IPY_MODEL_137cea742fe84763b772e324ff8dfc2b"
          }
        },
        "7683530888c8442098525341e6fbdcdf": {
          "model_module": "@jupyter-widgets/base",
          "model_name": "LayoutModel",
          "model_module_version": "1.2.0",
          "state": {
            "_model_module": "@jupyter-widgets/base",
            "_model_module_version": "1.2.0",
            "_model_name": "LayoutModel",
            "_view_count": null,
            "_view_module": "@jupyter-widgets/base",
            "_view_module_version": "1.2.0",
            "_view_name": "LayoutView",
            "align_content": null,
            "align_items": null,
            "align_self": null,
            "border": null,
            "bottom": null,
            "display": null,
            "flex": null,
            "flex_flow": null,
            "grid_area": null,
            "grid_auto_columns": null,
            "grid_auto_flow": null,
            "grid_auto_rows": null,
            "grid_column": null,
            "grid_gap": null,
            "grid_row": null,
            "grid_template_areas": null,
            "grid_template_columns": null,
            "grid_template_rows": null,
            "height": null,
            "justify_content": null,
            "justify_items": null,
            "left": null,
            "margin": null,
            "max_height": null,
            "max_width": null,
            "min_height": null,
            "min_width": null,
            "object_fit": null,
            "object_position": null,
            "order": null,
            "overflow": null,
            "overflow_x": null,
            "overflow_y": null,
            "padding": null,
            "right": null,
            "top": null,
            "visibility": null,
            "width": null
          }
        },
        "2933cd896c7c47b8804e52456d985567": {
          "model_module": "@jupyter-widgets/base",
          "model_name": "LayoutModel",
          "model_module_version": "1.2.0",
          "state": {
            "_model_module": "@jupyter-widgets/base",
            "_model_module_version": "1.2.0",
            "_model_name": "LayoutModel",
            "_view_count": null,
            "_view_module": "@jupyter-widgets/base",
            "_view_module_version": "1.2.0",
            "_view_name": "LayoutView",
            "align_content": null,
            "align_items": null,
            "align_self": null,
            "border": null,
            "bottom": null,
            "display": null,
            "flex": null,
            "flex_flow": null,
            "grid_area": null,
            "grid_auto_columns": null,
            "grid_auto_flow": null,
            "grid_auto_rows": null,
            "grid_column": null,
            "grid_gap": null,
            "grid_row": null,
            "grid_template_areas": null,
            "grid_template_columns": null,
            "grid_template_rows": null,
            "height": null,
            "justify_content": null,
            "justify_items": null,
            "left": null,
            "margin": null,
            "max_height": null,
            "max_width": null,
            "min_height": null,
            "min_width": null,
            "object_fit": null,
            "object_position": null,
            "order": null,
            "overflow": null,
            "overflow_x": null,
            "overflow_y": null,
            "padding": null,
            "right": null,
            "top": null,
            "visibility": null,
            "width": null
          }
        },
        "9e711d1506d345ac80787aad2f5ebdd2": {
          "model_module": "@jupyter-widgets/controls",
          "model_name": "ButtonStyleModel",
          "model_module_version": "1.5.0",
          "state": {
            "_model_module": "@jupyter-widgets/controls",
            "_model_module_version": "1.5.0",
            "_model_name": "ButtonStyleModel",
            "_view_count": null,
            "_view_module": "@jupyter-widgets/base",
            "_view_module_version": "1.2.0",
            "_view_name": "StyleView",
            "button_color": null,
            "font_weight": ""
          }
        },
        "b2f460aabdbc423abbc00e4876a2e2b2": {
          "model_module": "@jupyter-widgets/controls",
          "model_name": "VBoxModel",
          "model_module_version": "1.5.0",
          "state": {
            "_dom_classes": [],
            "_model_module": "@jupyter-widgets/controls",
            "_model_module_version": "1.5.0",
            "_model_name": "VBoxModel",
            "_view_count": null,
            "_view_module": "@jupyter-widgets/controls",
            "_view_module_version": "1.5.0",
            "_view_name": "VBoxView",
            "box_style": "",
            "children": [
              "IPY_MODEL_7a1853b1bcfb4073aeeae5e0f8dc8f35",
              "IPY_MODEL_f372405bad884549a526cefd37b6a1c9",
              "IPY_MODEL_408a43da6f84451287c40ccf10db44bd"
            ],
            "layout": "IPY_MODEL_42df05ef36be45f591765314ce6553e1"
          }
        },
        "d5c27c33006645b994e00d7f859a22df": {
          "model_module": "@jupyter-widgets/controls",
          "model_name": "VBoxModel",
          "model_module_version": "1.5.0",
          "state": {
            "_dom_classes": [],
            "_model_module": "@jupyter-widgets/controls",
            "_model_module_version": "1.5.0",
            "_model_name": "VBoxModel",
            "_view_count": null,
            "_view_module": "@jupyter-widgets/controls",
            "_view_module_version": "1.5.0",
            "_view_name": "VBoxView",
            "box_style": "",
            "children": [
              "IPY_MODEL_ad503768cf7147fd8cb42cb86d809377",
              "IPY_MODEL_3758362a21624960b2f3369b304a02ea",
              "IPY_MODEL_c7a214c4dabb4500a246b9d6bda75c1d"
            ],
            "layout": "IPY_MODEL_d5dbd08bc80f4387ad2b1aef34164bc1"
          }
        },
        "b2eff4b082114f7fb6256a4bbec13c7f": {
          "model_module": "@jupyter-widgets/base",
          "model_name": "LayoutModel",
          "model_module_version": "1.2.0",
          "state": {
            "_model_module": "@jupyter-widgets/base",
            "_model_module_version": "1.2.0",
            "_model_name": "LayoutModel",
            "_view_count": null,
            "_view_module": "@jupyter-widgets/base",
            "_view_module_version": "1.2.0",
            "_view_name": "LayoutView",
            "align_content": null,
            "align_items": null,
            "align_self": null,
            "border": null,
            "bottom": null,
            "display": null,
            "flex": null,
            "flex_flow": null,
            "grid_area": null,
            "grid_auto_columns": null,
            "grid_auto_flow": null,
            "grid_auto_rows": null,
            "grid_column": null,
            "grid_gap": null,
            "grid_row": null,
            "grid_template_areas": null,
            "grid_template_columns": null,
            "grid_template_rows": null,
            "height": null,
            "justify_content": null,
            "justify_items": null,
            "left": null,
            "margin": null,
            "max_height": null,
            "max_width": null,
            "min_height": null,
            "min_width": null,
            "object_fit": null,
            "object_position": null,
            "order": null,
            "overflow": null,
            "overflow_x": null,
            "overflow_y": null,
            "padding": null,
            "right": null,
            "top": null,
            "visibility": null,
            "width": null
          }
        },
        "6cd0f0b13ad94708a50417ba54789afb": {
          "model_module": "@jupyter-widgets/controls",
          "model_name": "VBoxModel",
          "model_module_version": "1.5.0",
          "state": {
            "_dom_classes": [],
            "_model_module": "@jupyter-widgets/controls",
            "_model_module_version": "1.5.0",
            "_model_name": "VBoxModel",
            "_view_count": null,
            "_view_module": "@jupyter-widgets/controls",
            "_view_module_version": "1.5.0",
            "_view_name": "VBoxView",
            "box_style": "",
            "children": [
              "IPY_MODEL_c5bc18bba592401bb061262d599d8bfa",
              "IPY_MODEL_2c41bae9c6e34b11bd53eaa86231f649"
            ],
            "layout": "IPY_MODEL_035280dc234e44d48a0f4ee27d788211"
          }
        },
        "f086567fb4c04c88b8af6d48026a0d60": {
          "model_module": "@jupyter-widgets/controls",
          "model_name": "FloatSliderModel",
          "model_module_version": "1.5.0",
          "state": {
            "_dom_classes": [],
            "_model_module": "@jupyter-widgets/controls",
            "_model_module_version": "1.5.0",
            "_model_name": "FloatSliderModel",
            "_view_count": null,
            "_view_module": "@jupyter-widgets/controls",
            "_view_module_version": "1.5.0",
            "_view_name": "FloatSliderView",
            "continuous_update": false,
            "description": "elev (deg)",
            "description_tooltip": null,
            "disabled": false,
            "layout": "IPY_MODEL_b2068d8c45334ffea9dae77d3f809d26",
            "max": 90,
            "min": -90,
            "orientation": "vertical",
            "readout": true,
            "readout_format": ".0f",
            "step": 1,
            "style": "IPY_MODEL_64f29b44d57246ebaeb2f458f38eff3e",
            "value": -10
          }
        },
        "137cea742fe84763b772e324ff8dfc2b": {
          "model_module": "@jupyter-widgets/base",
          "model_name": "LayoutModel",
          "model_module_version": "1.2.0",
          "state": {
            "_model_module": "@jupyter-widgets/base",
            "_model_module_version": "1.2.0",
            "_model_name": "LayoutModel",
            "_view_count": null,
            "_view_module": "@jupyter-widgets/base",
            "_view_module_version": "1.2.0",
            "_view_name": "LayoutView",
            "align_content": null,
            "align_items": null,
            "align_self": null,
            "border": null,
            "bottom": null,
            "display": null,
            "flex": null,
            "flex_flow": null,
            "grid_area": null,
            "grid_auto_columns": null,
            "grid_auto_flow": null,
            "grid_auto_rows": null,
            "grid_column": null,
            "grid_gap": null,
            "grid_row": null,
            "grid_template_areas": null,
            "grid_template_columns": null,
            "grid_template_rows": null,
            "height": null,
            "justify_content": null,
            "justify_items": null,
            "left": null,
            "margin": null,
            "max_height": null,
            "max_width": null,
            "min_height": null,
            "min_width": null,
            "object_fit": null,
            "object_position": null,
            "order": null,
            "overflow": null,
            "overflow_x": null,
            "overflow_y": null,
            "padding": null,
            "right": null,
            "top": null,
            "visibility": null,
            "width": null
          }
        },
        "7a1853b1bcfb4073aeeae5e0f8dc8f35": {
          "model_module": "@jupyter-widgets/controls",
          "model_name": "FloatSliderModel",
          "model_module_version": "1.5.0",
          "state": {
            "_dom_classes": [],
            "_model_module": "@jupyter-widgets/controls",
            "_model_module_version": "1.5.0",
            "_model_name": "FloatSliderModel",
            "_view_count": null,
            "_view_module": "@jupyter-widgets/controls",
            "_view_module_version": "1.5.0",
            "_view_name": "FloatSliderView",
            "continuous_update": false,
            "description": "x (um)",
            "description_tooltip": null,
            "disabled": false,
            "layout": "IPY_MODEL_8749621804954b318df772939ad1d5bc",
            "max": 200,
            "min": -200,
            "orientation": "horizontal",
            "readout": true,
            "readout_format": ".0f",
            "step": 1,
            "style": "IPY_MODEL_d898968e43cc45bf8bc4e04be2ccd6bb",
            "value": 0
          }
        },
        "f372405bad884549a526cefd37b6a1c9": {
          "model_module": "@jupyter-widgets/controls",
          "model_name": "FloatSliderModel",
          "model_module_version": "1.5.0",
          "state": {
            "_dom_classes": [],
            "_model_module": "@jupyter-widgets/controls",
            "_model_module_version": "1.5.0",
            "_model_name": "FloatSliderModel",
            "_view_count": null,
            "_view_module": "@jupyter-widgets/controls",
            "_view_module_version": "1.5.0",
            "_view_name": "FloatSliderView",
            "continuous_update": false,
            "description": "y (um)",
            "description_tooltip": null,
            "disabled": false,
            "layout": "IPY_MODEL_a1061c3cc5284280b8f00cacaad874a3",
            "max": 1000,
            "min": -1000,
            "orientation": "horizontal",
            "readout": true,
            "readout_format": ".0f",
            "step": 1,
            "style": "IPY_MODEL_8f61bdb8609e4cb7be3da5971edcfb1c",
            "value": 0
          }
        },
        "408a43da6f84451287c40ccf10db44bd": {
          "model_module": "@jupyter-widgets/controls",
          "model_name": "FloatSliderModel",
          "model_module_version": "1.5.0",
          "state": {
            "_dom_classes": [],
            "_model_module": "@jupyter-widgets/controls",
            "_model_module_version": "1.5.0",
            "_model_name": "FloatSliderModel",
            "_view_count": null,
            "_view_module": "@jupyter-widgets/controls",
            "_view_module_version": "1.5.0",
            "_view_name": "FloatSliderView",
            "continuous_update": false,
            "description": "z (um)",
            "description_tooltip": null,
            "disabled": false,
            "layout": "IPY_MODEL_f937991e1fb64cea85a29e87ae7a4a00",
            "max": 400,
            "min": 20,
            "orientation": "horizontal",
            "readout": true,
            "readout_format": ".0f",
            "step": 1,
            "style": "IPY_MODEL_3a7ed47a46c84d878da6dae9c2f17c1a",
            "value": 80
          }
        },
        "42df05ef36be45f591765314ce6553e1": {
          "model_module": "@jupyter-widgets/base",
          "model_name": "LayoutModel",
          "model_module_version": "1.2.0",
          "state": {
            "_model_module": "@jupyter-widgets/base",
            "_model_module_version": "1.2.0",
            "_model_name": "LayoutModel",
            "_view_count": null,
            "_view_module": "@jupyter-widgets/base",
            "_view_module_version": "1.2.0",
            "_view_name": "LayoutView",
            "align_content": null,
            "align_items": null,
            "align_self": null,
            "border": null,
            "bottom": null,
            "display": null,
            "flex": null,
            "flex_flow": null,
            "grid_area": null,
            "grid_auto_columns": null,
            "grid_auto_flow": null,
            "grid_auto_rows": null,
            "grid_column": null,
            "grid_gap": null,
            "grid_row": null,
            "grid_template_areas": null,
            "grid_template_columns": null,
            "grid_template_rows": null,
            "height": null,
            "justify_content": null,
            "justify_items": null,
            "left": null,
            "margin": null,
            "max_height": null,
            "max_width": null,
            "min_height": null,
            "min_width": null,
            "object_fit": null,
            "object_position": null,
            "order": null,
            "overflow": null,
            "overflow_x": null,
            "overflow_y": null,
            "padding": null,
            "right": null,
            "top": null,
            "visibility": null,
            "width": null
          }
        },
        "ad503768cf7147fd8cb42cb86d809377": {
          "model_module": "@jupyter-widgets/controls",
          "model_name": "FloatSliderModel",
          "model_module_version": "1.5.0",
          "state": {
            "_dom_classes": [],
            "_model_module": "@jupyter-widgets/controls",
            "_model_module_version": "1.5.0",
            "_model_name": "FloatSliderModel",
            "_view_count": null,
            "_view_module": "@jupyter-widgets/controls",
            "_view_module_version": "1.5.0",
            "_view_name": "FloatSliderView",
            "continuous_update": false,
            "description": "alpha (deg)",
            "description_tooltip": null,
            "disabled": false,
            "layout": "IPY_MODEL_540ba60303f945369f04c7c304ee8eb4",
            "max": 180,
            "min": -180,
            "orientation": "horizontal",
            "readout": true,
            "readout_format": ".0f",
            "step": 1,
            "style": "IPY_MODEL_932214ec26b54c299fa523551c669b06",
            "value": 0
          }
        },
        "3758362a21624960b2f3369b304a02ea": {
          "model_module": "@jupyter-widgets/controls",
          "model_name": "FloatSliderModel",
          "model_module_version": "1.5.0",
          "state": {
            "_dom_classes": [],
            "_model_module": "@jupyter-widgets/controls",
            "_model_module_version": "1.5.0",
            "_model_name": "FloatSliderModel",
            "_view_count": null,
            "_view_module": "@jupyter-widgets/controls",
            "_view_module_version": "1.5.0",
            "_view_name": "FloatSliderView",
            "continuous_update": false,
            "description": "beta (deg)",
            "description_tooltip": null,
            "disabled": false,
            "layout": "IPY_MODEL_f40c93fdd0954df5be5eaf075c461264",
            "max": 180,
            "min": 0,
            "orientation": "horizontal",
            "readout": true,
            "readout_format": ".0f",
            "step": 1,
            "style": "IPY_MODEL_c4b302fde7f74415a4a9e96417d9d57a",
            "value": 0
          }
        },
        "c7a214c4dabb4500a246b9d6bda75c1d": {
          "model_module": "@jupyter-widgets/controls",
          "model_name": "FloatSliderModel",
          "model_module_version": "1.5.0",
          "state": {
            "_dom_classes": [],
            "_model_module": "@jupyter-widgets/controls",
            "_model_module_version": "1.5.0",
            "_model_name": "FloatSliderModel",
            "_view_count": null,
            "_view_module": "@jupyter-widgets/controls",
            "_view_module_version": "1.5.0",
            "_view_name": "FloatSliderView",
            "continuous_update": false,
            "description": "phi (deg)",
            "description_tooltip": null,
            "disabled": false,
            "layout": "IPY_MODEL_d0fef813bcf046a39931eba0175e4edc",
            "max": 180,
            "min": -180,
            "orientation": "horizontal",
            "readout": true,
            "readout_format": ".0f",
            "step": 1,
            "style": "IPY_MODEL_750c9d8f313345ed9b23a9de74286855",
            "value": 0
          }
        },
        "d5dbd08bc80f4387ad2b1aef34164bc1": {
          "model_module": "@jupyter-widgets/base",
          "model_name": "LayoutModel",
          "model_module_version": "1.2.0",
          "state": {
            "_model_module": "@jupyter-widgets/base",
            "_model_module_version": "1.2.0",
            "_model_name": "LayoutModel",
            "_view_count": null,
            "_view_module": "@jupyter-widgets/base",
            "_view_module_version": "1.2.0",
            "_view_name": "LayoutView",
            "align_content": null,
            "align_items": null,
            "align_self": null,
            "border": null,
            "bottom": null,
            "display": null,
            "flex": null,
            "flex_flow": null,
            "grid_area": null,
            "grid_auto_columns": null,
            "grid_auto_flow": null,
            "grid_auto_rows": null,
            "grid_column": null,
            "grid_gap": null,
            "grid_row": null,
            "grid_template_areas": null,
            "grid_template_columns": null,
            "grid_template_rows": null,
            "height": null,
            "justify_content": null,
            "justify_items": null,
            "left": null,
            "margin": null,
            "max_height": null,
            "max_width": null,
            "min_height": null,
            "min_width": null,
            "object_fit": null,
            "object_position": null,
            "order": null,
            "overflow": null,
            "overflow_x": null,
            "overflow_y": null,
            "padding": null,
            "right": null,
            "top": null,
            "visibility": null,
            "width": null
          }
        },
        "c5bc18bba592401bb061262d599d8bfa": {
          "model_module": "@jupyter-widgets/output",
          "model_name": "OutputModel",
          "model_module_version": "1.0.0",
          "state": {
            "_dom_classes": [],
            "_model_module": "@jupyter-widgets/output",
            "_model_module_version": "1.0.0",
            "_model_name": "OutputModel",
            "_view_count": null,
            "_view_module": "@jupyter-widgets/output",
            "_view_module_version": "1.0.0",
            "_view_name": "OutputView",
            "layout": "IPY_MODEL_6da493abbfe740e2ab65f4f69110362b",
            "msg_id": "",
            "outputs": [
              {
                "output_type": "display_data",
                "data": {
                  "text/plain": "<Figure size 1200x800 with 1 Axes>",
                  "image/png": "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\n"
                },
                "metadata": {}
              }
            ]
          }
        },
        "2c41bae9c6e34b11bd53eaa86231f649": {
          "model_module": "@jupyter-widgets/controls",
          "model_name": "FloatSliderModel",
          "model_module_version": "1.5.0",
          "state": {
            "_dom_classes": [],
            "_model_module": "@jupyter-widgets/controls",
            "_model_module_version": "1.5.0",
            "_model_name": "FloatSliderModel",
            "_view_count": null,
            "_view_module": "@jupyter-widgets/controls",
            "_view_module_version": "1.5.0",
            "_view_name": "FloatSliderView",
            "continuous_update": false,
            "description": "azim (deg)",
            "description_tooltip": null,
            "disabled": false,
            "layout": "IPY_MODEL_b330eb2aa574477bab72d823b4b79668",
            "max": 180,
            "min": -180,
            "orientation": "horizontal",
            "readout": true,
            "readout_format": ".0f",
            "step": 1,
            "style": "IPY_MODEL_db18a127d75042b4bbe3432113b6a17e",
            "value": 4
          }
        },
        "035280dc234e44d48a0f4ee27d788211": {
          "model_module": "@jupyter-widgets/base",
          "model_name": "LayoutModel",
          "model_module_version": "1.2.0",
          "state": {
            "_model_module": "@jupyter-widgets/base",
            "_model_module_version": "1.2.0",
            "_model_name": "LayoutModel",
            "_view_count": null,
            "_view_module": "@jupyter-widgets/base",
            "_view_module_version": "1.2.0",
            "_view_name": "LayoutView",
            "align_content": null,
            "align_items": null,
            "align_self": null,
            "border": null,
            "bottom": null,
            "display": null,
            "flex": null,
            "flex_flow": null,
            "grid_area": null,
            "grid_auto_columns": null,
            "grid_auto_flow": null,
            "grid_auto_rows": null,
            "grid_column": null,
            "grid_gap": null,
            "grid_row": null,
            "grid_template_areas": null,
            "grid_template_columns": null,
            "grid_template_rows": null,
            "height": null,
            "justify_content": null,
            "justify_items": null,
            "left": null,
            "margin": null,
            "max_height": null,
            "max_width": null,
            "min_height": null,
            "min_width": null,
            "object_fit": null,
            "object_position": null,
            "order": null,
            "overflow": null,
            "overflow_x": null,
            "overflow_y": null,
            "padding": null,
            "right": null,
            "top": null,
            "visibility": null,
            "width": null
          }
        },
        "b2068d8c45334ffea9dae77d3f809d26": {
          "model_module": "@jupyter-widgets/base",
          "model_name": "LayoutModel",
          "model_module_version": "1.2.0",
          "state": {
            "_model_module": "@jupyter-widgets/base",
            "_model_module_version": "1.2.0",
            "_model_name": "LayoutModel",
            "_view_count": null,
            "_view_module": "@jupyter-widgets/base",
            "_view_module_version": "1.2.0",
            "_view_name": "LayoutView",
            "align_content": null,
            "align_items": null,
            "align_self": null,
            "border": null,
            "bottom": null,
            "display": null,
            "flex": null,
            "flex_flow": null,
            "grid_area": null,
            "grid_auto_columns": null,
            "grid_auto_flow": null,
            "grid_auto_rows": null,
            "grid_column": null,
            "grid_gap": null,
            "grid_row": null,
            "grid_template_areas": null,
            "grid_template_columns": null,
            "grid_template_rows": null,
            "height": "350px",
            "justify_content": null,
            "justify_items": null,
            "left": null,
            "margin": null,
            "max_height": null,
            "max_width": null,
            "min_height": null,
            "min_width": null,
            "object_fit": null,
            "object_position": null,
            "order": null,
            "overflow": null,
            "overflow_x": null,
            "overflow_y": null,
            "padding": null,
            "right": null,
            "top": null,
            "visibility": null,
            "width": null
          }
        },
        "64f29b44d57246ebaeb2f458f38eff3e": {
          "model_module": "@jupyter-widgets/controls",
          "model_name": "SliderStyleModel",
          "model_module_version": "1.5.0",
          "state": {
            "_model_module": "@jupyter-widgets/controls",
            "_model_module_version": "1.5.0",
            "_model_name": "SliderStyleModel",
            "_view_count": null,
            "_view_module": "@jupyter-widgets/base",
            "_view_module_version": "1.2.0",
            "_view_name": "StyleView",
            "description_width": "",
            "handle_color": null
          }
        },
        "8749621804954b318df772939ad1d5bc": {
          "model_module": "@jupyter-widgets/base",
          "model_name": "LayoutModel",
          "model_module_version": "1.2.0",
          "state": {
            "_model_module": "@jupyter-widgets/base",
            "_model_module_version": "1.2.0",
            "_model_name": "LayoutModel",
            "_view_count": null,
            "_view_module": "@jupyter-widgets/base",
            "_view_module_version": "1.2.0",
            "_view_name": "LayoutView",
            "align_content": null,
            "align_items": null,
            "align_self": null,
            "border": null,
            "bottom": null,
            "display": null,
            "flex": null,
            "flex_flow": null,
            "grid_area": null,
            "grid_auto_columns": null,
            "grid_auto_flow": null,
            "grid_auto_rows": null,
            "grid_column": null,
            "grid_gap": null,
            "grid_row": null,
            "grid_template_areas": null,
            "grid_template_columns": null,
            "grid_template_rows": null,
            "height": null,
            "justify_content": null,
            "justify_items": null,
            "left": null,
            "margin": null,
            "max_height": null,
            "max_width": null,
            "min_height": null,
            "min_width": null,
            "object_fit": null,
            "object_position": null,
            "order": null,
            "overflow": null,
            "overflow_x": null,
            "overflow_y": null,
            "padding": null,
            "right": null,
            "top": null,
            "visibility": null,
            "width": null
          }
        },
        "d898968e43cc45bf8bc4e04be2ccd6bb": {
          "model_module": "@jupyter-widgets/controls",
          "model_name": "SliderStyleModel",
          "model_module_version": "1.5.0",
          "state": {
            "_model_module": "@jupyter-widgets/controls",
            "_model_module_version": "1.5.0",
            "_model_name": "SliderStyleModel",
            "_view_count": null,
            "_view_module": "@jupyter-widgets/base",
            "_view_module_version": "1.2.0",
            "_view_name": "StyleView",
            "description_width": "",
            "handle_color": null
          }
        },
        "a1061c3cc5284280b8f00cacaad874a3": {
          "model_module": "@jupyter-widgets/base",
          "model_name": "LayoutModel",
          "model_module_version": "1.2.0",
          "state": {
            "_model_module": "@jupyter-widgets/base",
            "_model_module_version": "1.2.0",
            "_model_name": "LayoutModel",
            "_view_count": null,
            "_view_module": "@jupyter-widgets/base",
            "_view_module_version": "1.2.0",
            "_view_name": "LayoutView",
            "align_content": null,
            "align_items": null,
            "align_self": null,
            "border": null,
            "bottom": null,
            "display": null,
            "flex": null,
            "flex_flow": null,
            "grid_area": null,
            "grid_auto_columns": null,
            "grid_auto_flow": null,
            "grid_auto_rows": null,
            "grid_column": null,
            "grid_gap": null,
            "grid_row": null,
            "grid_template_areas": null,
            "grid_template_columns": null,
            "grid_template_rows": null,
            "height": null,
            "justify_content": null,
            "justify_items": null,
            "left": null,
            "margin": null,
            "max_height": null,
            "max_width": null,
            "min_height": null,
            "min_width": null,
            "object_fit": null,
            "object_position": null,
            "order": null,
            "overflow": null,
            "overflow_x": null,
            "overflow_y": null,
            "padding": null,
            "right": null,
            "top": null,
            "visibility": null,
            "width": null
          }
        },
        "8f61bdb8609e4cb7be3da5971edcfb1c": {
          "model_module": "@jupyter-widgets/controls",
          "model_name": "SliderStyleModel",
          "model_module_version": "1.5.0",
          "state": {
            "_model_module": "@jupyter-widgets/controls",
            "_model_module_version": "1.5.0",
            "_model_name": "SliderStyleModel",
            "_view_count": null,
            "_view_module": "@jupyter-widgets/base",
            "_view_module_version": "1.2.0",
            "_view_name": "StyleView",
            "description_width": "",
            "handle_color": null
          }
        },
        "f937991e1fb64cea85a29e87ae7a4a00": {
          "model_module": "@jupyter-widgets/base",
          "model_name": "LayoutModel",
          "model_module_version": "1.2.0",
          "state": {
            "_model_module": "@jupyter-widgets/base",
            "_model_module_version": "1.2.0",
            "_model_name": "LayoutModel",
            "_view_count": null,
            "_view_module": "@jupyter-widgets/base",
            "_view_module_version": "1.2.0",
            "_view_name": "LayoutView",
            "align_content": null,
            "align_items": null,
            "align_self": null,
            "border": null,
            "bottom": null,
            "display": null,
            "flex": null,
            "flex_flow": null,
            "grid_area": null,
            "grid_auto_columns": null,
            "grid_auto_flow": null,
            "grid_auto_rows": null,
            "grid_column": null,
            "grid_gap": null,
            "grid_row": null,
            "grid_template_areas": null,
            "grid_template_columns": null,
            "grid_template_rows": null,
            "height": null,
            "justify_content": null,
            "justify_items": null,
            "left": null,
            "margin": null,
            "max_height": null,
            "max_width": null,
            "min_height": null,
            "min_width": null,
            "object_fit": null,
            "object_position": null,
            "order": null,
            "overflow": null,
            "overflow_x": null,
            "overflow_y": null,
            "padding": null,
            "right": null,
            "top": null,
            "visibility": null,
            "width": null
          }
        },
        "3a7ed47a46c84d878da6dae9c2f17c1a": {
          "model_module": "@jupyter-widgets/controls",
          "model_name": "SliderStyleModel",
          "model_module_version": "1.5.0",
          "state": {
            "_model_module": "@jupyter-widgets/controls",
            "_model_module_version": "1.5.0",
            "_model_name": "SliderStyleModel",
            "_view_count": null,
            "_view_module": "@jupyter-widgets/base",
            "_view_module_version": "1.2.0",
            "_view_name": "StyleView",
            "description_width": "",
            "handle_color": null
          }
        },
        "540ba60303f945369f04c7c304ee8eb4": {
          "model_module": "@jupyter-widgets/base",
          "model_name": "LayoutModel",
          "model_module_version": "1.2.0",
          "state": {
            "_model_module": "@jupyter-widgets/base",
            "_model_module_version": "1.2.0",
            "_model_name": "LayoutModel",
            "_view_count": null,
            "_view_module": "@jupyter-widgets/base",
            "_view_module_version": "1.2.0",
            "_view_name": "LayoutView",
            "align_content": null,
            "align_items": null,
            "align_self": null,
            "border": null,
            "bottom": null,
            "display": null,
            "flex": null,
            "flex_flow": null,
            "grid_area": null,
            "grid_auto_columns": null,
            "grid_auto_flow": null,
            "grid_auto_rows": null,
            "grid_column": null,
            "grid_gap": null,
            "grid_row": null,
            "grid_template_areas": null,
            "grid_template_columns": null,
            "grid_template_rows": null,
            "height": null,
            "justify_content": null,
            "justify_items": null,
            "left": null,
            "margin": null,
            "max_height": null,
            "max_width": null,
            "min_height": null,
            "min_width": null,
            "object_fit": null,
            "object_position": null,
            "order": null,
            "overflow": null,
            "overflow_x": null,
            "overflow_y": null,
            "padding": null,
            "right": null,
            "top": null,
            "visibility": null,
            "width": null
          }
        },
        "932214ec26b54c299fa523551c669b06": {
          "model_module": "@jupyter-widgets/controls",
          "model_name": "SliderStyleModel",
          "model_module_version": "1.5.0",
          "state": {
            "_model_module": "@jupyter-widgets/controls",
            "_model_module_version": "1.5.0",
            "_model_name": "SliderStyleModel",
            "_view_count": null,
            "_view_module": "@jupyter-widgets/base",
            "_view_module_version": "1.2.0",
            "_view_name": "StyleView",
            "description_width": "",
            "handle_color": null
          }
        },
        "f40c93fdd0954df5be5eaf075c461264": {
          "model_module": "@jupyter-widgets/base",
          "model_name": "LayoutModel",
          "model_module_version": "1.2.0",
          "state": {
            "_model_module": "@jupyter-widgets/base",
            "_model_module_version": "1.2.0",
            "_model_name": "LayoutModel",
            "_view_count": null,
            "_view_module": "@jupyter-widgets/base",
            "_view_module_version": "1.2.0",
            "_view_name": "LayoutView",
            "align_content": null,
            "align_items": null,
            "align_self": null,
            "border": null,
            "bottom": null,
            "display": null,
            "flex": null,
            "flex_flow": null,
            "grid_area": null,
            "grid_auto_columns": null,
            "grid_auto_flow": null,
            "grid_auto_rows": null,
            "grid_column": null,
            "grid_gap": null,
            "grid_row": null,
            "grid_template_areas": null,
            "grid_template_columns": null,
            "grid_template_rows": null,
            "height": null,
            "justify_content": null,
            "justify_items": null,
            "left": null,
            "margin": null,
            "max_height": null,
            "max_width": null,
            "min_height": null,
            "min_width": null,
            "object_fit": null,
            "object_position": null,
            "order": null,
            "overflow": null,
            "overflow_x": null,
            "overflow_y": null,
            "padding": null,
            "right": null,
            "top": null,
            "visibility": null,
            "width": null
          }
        },
        "c4b302fde7f74415a4a9e96417d9d57a": {
          "model_module": "@jupyter-widgets/controls",
          "model_name": "SliderStyleModel",
          "model_module_version": "1.5.0",
          "state": {
            "_model_module": "@jupyter-widgets/controls",
            "_model_module_version": "1.5.0",
            "_model_name": "SliderStyleModel",
            "_view_count": null,
            "_view_module": "@jupyter-widgets/base",
            "_view_module_version": "1.2.0",
            "_view_name": "StyleView",
            "description_width": "",
            "handle_color": null
          }
        },
        "d0fef813bcf046a39931eba0175e4edc": {
          "model_module": "@jupyter-widgets/base",
          "model_name": "LayoutModel",
          "model_module_version": "1.2.0",
          "state": {
            "_model_module": "@jupyter-widgets/base",
            "_model_module_version": "1.2.0",
            "_model_name": "LayoutModel",
            "_view_count": null,
            "_view_module": "@jupyter-widgets/base",
            "_view_module_version": "1.2.0",
            "_view_name": "LayoutView",
            "align_content": null,
            "align_items": null,
            "align_self": null,
            "border": null,
            "bottom": null,
            "display": null,
            "flex": null,
            "flex_flow": null,
            "grid_area": null,
            "grid_auto_columns": null,
            "grid_auto_flow": null,
            "grid_auto_rows": null,
            "grid_column": null,
            "grid_gap": null,
            "grid_row": null,
            "grid_template_areas": null,
            "grid_template_columns": null,
            "grid_template_rows": null,
            "height": null,
            "justify_content": null,
            "justify_items": null,
            "left": null,
            "margin": null,
            "max_height": null,
            "max_width": null,
            "min_height": null,
            "min_width": null,
            "object_fit": null,
            "object_position": null,
            "order": null,
            "overflow": null,
            "overflow_x": null,
            "overflow_y": null,
            "padding": null,
            "right": null,
            "top": null,
            "visibility": null,
            "width": null
          }
        },
        "750c9d8f313345ed9b23a9de74286855": {
          "model_module": "@jupyter-widgets/controls",
          "model_name": "SliderStyleModel",
          "model_module_version": "1.5.0",
          "state": {
            "_model_module": "@jupyter-widgets/controls",
            "_model_module_version": "1.5.0",
            "_model_name": "SliderStyleModel",
            "_view_count": null,
            "_view_module": "@jupyter-widgets/base",
            "_view_module_version": "1.2.0",
            "_view_name": "StyleView",
            "description_width": "",
            "handle_color": null
          }
        },
        "b330eb2aa574477bab72d823b4b79668": {
          "model_module": "@jupyter-widgets/base",
          "model_name": "LayoutModel",
          "model_module_version": "1.2.0",
          "state": {
            "_model_module": "@jupyter-widgets/base",
            "_model_module_version": "1.2.0",
            "_model_name": "LayoutModel",
            "_view_count": null,
            "_view_module": "@jupyter-widgets/base",
            "_view_module_version": "1.2.0",
            "_view_name": "LayoutView",
            "align_content": null,
            "align_items": null,
            "align_self": null,
            "border": null,
            "bottom": null,
            "display": null,
            "flex": null,
            "flex_flow": null,
            "grid_area": null,
            "grid_auto_columns": null,
            "grid_auto_flow": null,
            "grid_auto_rows": null,
            "grid_column": null,
            "grid_gap": null,
            "grid_row": null,
            "grid_template_areas": null,
            "grid_template_columns": null,
            "grid_template_rows": null,
            "height": null,
            "justify_content": null,
            "justify_items": null,
            "left": null,
            "margin": null,
            "max_height": null,
            "max_width": null,
            "min_height": null,
            "min_width": null,
            "object_fit": null,
            "object_position": null,
            "order": null,
            "overflow": null,
            "overflow_x": null,
            "overflow_y": null,
            "padding": null,
            "right": null,
            "top": null,
            "visibility": null,
            "width": "500px"
          }
        },
        "db18a127d75042b4bbe3432113b6a17e": {
          "model_module": "@jupyter-widgets/controls",
          "model_name": "SliderStyleModel",
          "model_module_version": "1.5.0",
          "state": {
            "_model_module": "@jupyter-widgets/controls",
            "_model_module_version": "1.5.0",
            "_model_name": "SliderStyleModel",
            "_view_count": null,
            "_view_module": "@jupyter-widgets/base",
            "_view_module_version": "1.2.0",
            "_view_name": "StyleView",
            "description_width": "",
            "handle_color": null
          }
        },
        "6da493abbfe740e2ab65f4f69110362b": {
          "model_module": "@jupyter-widgets/base",
          "model_name": "LayoutModel",
          "model_module_version": "1.2.0",
          "state": {
            "_model_module": "@jupyter-widgets/base",
            "_model_module_version": "1.2.0",
            "_model_name": "LayoutModel",
            "_view_count": null,
            "_view_module": "@jupyter-widgets/base",
            "_view_module_version": "1.2.0",
            "_view_name": "LayoutView",
            "align_content": null,
            "align_items": null,
            "align_self": null,
            "border": null,
            "bottom": null,
            "display": null,
            "flex": null,
            "flex_flow": null,
            "grid_area": null,
            "grid_auto_columns": null,
            "grid_auto_flow": null,
            "grid_auto_rows": null,
            "grid_column": null,
            "grid_gap": null,
            "grid_row": null,
            "grid_template_areas": null,
            "grid_template_columns": null,
            "grid_template_rows": null,
            "height": null,
            "justify_content": null,
            "justify_items": null,
            "left": null,
            "margin": null,
            "max_height": null,
            "max_width": null,
            "min_height": null,
            "min_width": null,
            "object_fit": null,
            "object_position": null,
            "order": null,
            "overflow": null,
            "overflow_x": null,
            "overflow_y": null,
            "padding": null,
            "right": null,
            "top": null,
            "visibility": null,
            "width": null
          }
        },
        "d45476000b794934bf45097d105d313a": {
          "model_module": "@jupyter-widgets/controls",
          "model_name": "VBoxModel",
          "model_module_version": "1.5.0",
          "state": {
            "_dom_classes": [],
            "_model_module": "@jupyter-widgets/controls",
            "_model_module_version": "1.5.0",
            "_model_name": "VBoxModel",
            "_view_count": null,
            "_view_module": "@jupyter-widgets/controls",
            "_view_module_version": "1.5.0",
            "_view_name": "VBoxView",
            "box_style": "",
            "children": [
              "IPY_MODEL_0dec9ff81e6145ada765034649f873f9",
              "IPY_MODEL_928449bb4fbc42578cb0b5d9c07d1075"
            ],
            "layout": "IPY_MODEL_a33868e5f5da49f99d237561886145bb"
          }
        },
        "0dec9ff81e6145ada765034649f873f9": {
          "model_module": "@jupyter-widgets/controls",
          "model_name": "ToggleButtonsModel",
          "model_module_version": "1.5.0",
          "state": {
            "_dom_classes": [],
            "_model_module": "@jupyter-widgets/controls",
            "_model_module_version": "1.5.0",
            "_model_name": "ToggleButtonsModel",
            "_options_labels": [
              "Soma",
              "Apical tuft (proximal)"
            ],
            "_view_count": null,
            "_view_module": "@jupyter-widgets/controls",
            "_view_module_version": "1.5.0",
            "_view_name": "ToggleButtonsView",
            "button_style": "",
            "description": "",
            "description_tooltip": null,
            "disabled": false,
            "icons": [],
            "index": 1,
            "layout": "IPY_MODEL_36351e074c084725bc3776c1d5c065bf",
            "style": "IPY_MODEL_21137e92d7f94483ab7cbb6dc2bcdb4b",
            "tooltips": []
          }
        },
        "928449bb4fbc42578cb0b5d9c07d1075": {
          "model_module": "@jupyter-widgets/controls",
          "model_name": "HBoxModel",
          "model_module_version": "1.5.0",
          "state": {
            "_dom_classes": [],
            "_model_module": "@jupyter-widgets/controls",
            "_model_module_version": "1.5.0",
            "_model_name": "HBoxModel",
            "_view_count": null,
            "_view_module": "@jupyter-widgets/controls",
            "_view_module_version": "1.5.0",
            "_view_name": "HBoxView",
            "box_style": "",
            "children": [
              "IPY_MODEL_57929cd9904a48b8a1d9d5d56c4e9ed3",
              "IPY_MODEL_09dffc3b391c4426816ddad89c845ce8"
            ],
            "layout": "IPY_MODEL_d99b9b1a715f44b692eaab3124988f1e"
          }
        },
        "a33868e5f5da49f99d237561886145bb": {
          "model_module": "@jupyter-widgets/base",
          "model_name": "LayoutModel",
          "model_module_version": "1.2.0",
          "state": {
            "_model_module": "@jupyter-widgets/base",
            "_model_module_version": "1.2.0",
            "_model_name": "LayoutModel",
            "_view_count": null,
            "_view_module": "@jupyter-widgets/base",
            "_view_module_version": "1.2.0",
            "_view_name": "LayoutView",
            "align_content": null,
            "align_items": null,
            "align_self": null,
            "border": null,
            "bottom": null,
            "display": null,
            "flex": null,
            "flex_flow": null,
            "grid_area": null,
            "grid_auto_columns": null,
            "grid_auto_flow": null,
            "grid_auto_rows": null,
            "grid_column": null,
            "grid_gap": null,
            "grid_row": null,
            "grid_template_areas": null,
            "grid_template_columns": null,
            "grid_template_rows": null,
            "height": null,
            "justify_content": null,
            "justify_items": null,
            "left": null,
            "margin": null,
            "max_height": null,
            "max_width": null,
            "min_height": null,
            "min_width": null,
            "object_fit": null,
            "object_position": null,
            "order": null,
            "overflow": null,
            "overflow_x": null,
            "overflow_y": null,
            "padding": null,
            "right": null,
            "top": null,
            "visibility": null,
            "width": null
          }
        },
        "36351e074c084725bc3776c1d5c065bf": {
          "model_module": "@jupyter-widgets/base",
          "model_name": "LayoutModel",
          "model_module_version": "1.2.0",
          "state": {
            "_model_module": "@jupyter-widgets/base",
            "_model_module_version": "1.2.0",
            "_model_name": "LayoutModel",
            "_view_count": null,
            "_view_module": "@jupyter-widgets/base",
            "_view_module_version": "1.2.0",
            "_view_name": "LayoutView",
            "align_content": null,
            "align_items": null,
            "align_self": null,
            "border": null,
            "bottom": null,
            "display": null,
            "flex": null,
            "flex_flow": null,
            "grid_area": null,
            "grid_auto_columns": null,
            "grid_auto_flow": null,
            "grid_auto_rows": null,
            "grid_column": null,
            "grid_gap": null,
            "grid_row": null,
            "grid_template_areas": null,
            "grid_template_columns": null,
            "grid_template_rows": null,
            "height": null,
            "justify_content": null,
            "justify_items": null,
            "left": null,
            "margin": null,
            "max_height": null,
            "max_width": null,
            "min_height": null,
            "min_width": null,
            "object_fit": null,
            "object_position": null,
            "order": null,
            "overflow": null,
            "overflow_x": null,
            "overflow_y": null,
            "padding": null,
            "right": null,
            "top": null,
            "visibility": null,
            "width": null
          }
        },
        "21137e92d7f94483ab7cbb6dc2bcdb4b": {
          "model_module": "@jupyter-widgets/controls",
          "model_name": "ToggleButtonsStyleModel",
          "model_module_version": "1.5.0",
          "state": {
            "_model_module": "@jupyter-widgets/controls",
            "_model_module_version": "1.5.0",
            "_model_name": "ToggleButtonsStyleModel",
            "_view_count": null,
            "_view_module": "@jupyter-widgets/base",
            "_view_module_version": "1.2.0",
            "_view_name": "StyleView",
            "button_width": "",
            "description_width": "",
            "font_weight": ""
          }
        },
        "57929cd9904a48b8a1d9d5d56c4e9ed3": {
          "model_module": "@jupyter-widgets/controls",
          "model_name": "LabelModel",
          "model_module_version": "1.5.0",
          "state": {
            "_dom_classes": [],
            "_model_module": "@jupyter-widgets/controls",
            "_model_module_version": "1.5.0",
            "_model_name": "LabelModel",
            "_view_count": null,
            "_view_module": "@jupyter-widgets/controls",
            "_view_module_version": "1.5.0",
            "_view_name": "LabelView",
            "description": "",
            "description_tooltip": null,
            "layout": "IPY_MODEL_437c1ddf48fb4100b41f0e3b9bcc6c6e",
            "placeholder": "​",
            "style": "IPY_MODEL_248c145365c24f20a2ef0cd9c0aa1686",
            "value": "Synapse maximal conductance (uS)"
          }
        },
        "09dffc3b391c4426816ddad89c845ce8": {
          "model_module": "@jupyter-widgets/controls",
          "model_name": "FloatSliderModel",
          "model_module_version": "1.5.0",
          "state": {
            "_dom_classes": [],
            "_model_module": "@jupyter-widgets/controls",
            "_model_module_version": "1.5.0",
            "_model_name": "FloatSliderModel",
            "_view_count": null,
            "_view_module": "@jupyter-widgets/controls",
            "_view_module_version": "1.5.0",
            "_view_name": "FloatSliderView",
            "continuous_update": true,
            "description": "",
            "description_tooltip": null,
            "disabled": false,
            "layout": "IPY_MODEL_c0f025a971c74106bfacb27a93dc0e80",
            "max": 0.1,
            "min": 0,
            "orientation": "horizontal",
            "readout": true,
            "readout_format": ".4f",
            "step": 0.0002,
            "style": "IPY_MODEL_2ccee6a510fb410ebdb50f17ed004edc",
            "value": 0.1
          }
        },
        "d99b9b1a715f44b692eaab3124988f1e": {
          "model_module": "@jupyter-widgets/base",
          "model_name": "LayoutModel",
          "model_module_version": "1.2.0",
          "state": {
            "_model_module": "@jupyter-widgets/base",
            "_model_module_version": "1.2.0",
            "_model_name": "LayoutModel",
            "_view_count": null,
            "_view_module": "@jupyter-widgets/base",
            "_view_module_version": "1.2.0",
            "_view_name": "LayoutView",
            "align_content": null,
            "align_items": null,
            "align_self": null,
            "border": null,
            "bottom": null,
            "display": null,
            "flex": null,
            "flex_flow": null,
            "grid_area": null,
            "grid_auto_columns": null,
            "grid_auto_flow": null,
            "grid_auto_rows": null,
            "grid_column": null,
            "grid_gap": null,
            "grid_row": null,
            "grid_template_areas": null,
            "grid_template_columns": null,
            "grid_template_rows": null,
            "height": null,
            "justify_content": null,
            "justify_items": null,
            "left": null,
            "margin": null,
            "max_height": null,
            "max_width": null,
            "min_height": null,
            "min_width": null,
            "object_fit": null,
            "object_position": null,
            "order": null,
            "overflow": null,
            "overflow_x": null,
            "overflow_y": null,
            "padding": null,
            "right": null,
            "top": null,
            "visibility": null,
            "width": null
          }
        },
        "437c1ddf48fb4100b41f0e3b9bcc6c6e": {
          "model_module": "@jupyter-widgets/base",
          "model_name": "LayoutModel",
          "model_module_version": "1.2.0",
          "state": {
            "_model_module": "@jupyter-widgets/base",
            "_model_module_version": "1.2.0",
            "_model_name": "LayoutModel",
            "_view_count": null,
            "_view_module": "@jupyter-widgets/base",
            "_view_module_version": "1.2.0",
            "_view_name": "LayoutView",
            "align_content": null,
            "align_items": null,
            "align_self": null,
            "border": null,
            "bottom": null,
            "display": null,
            "flex": null,
            "flex_flow": null,
            "grid_area": null,
            "grid_auto_columns": null,
            "grid_auto_flow": null,
            "grid_auto_rows": null,
            "grid_column": null,
            "grid_gap": null,
            "grid_row": null,
            "grid_template_areas": null,
            "grid_template_columns": null,
            "grid_template_rows": null,
            "height": null,
            "justify_content": null,
            "justify_items": null,
            "left": null,
            "margin": null,
            "max_height": null,
            "max_width": null,
            "min_height": null,
            "min_width": null,
            "object_fit": null,
            "object_position": null,
            "order": null,
            "overflow": null,
            "overflow_x": null,
            "overflow_y": null,
            "padding": null,
            "right": null,
            "top": null,
            "visibility": null,
            "width": null
          }
        },
        "248c145365c24f20a2ef0cd9c0aa1686": {
          "model_module": "@jupyter-widgets/controls",
          "model_name": "DescriptionStyleModel",
          "model_module_version": "1.5.0",
          "state": {
            "_model_module": "@jupyter-widgets/controls",
            "_model_module_version": "1.5.0",
            "_model_name": "DescriptionStyleModel",
            "_view_count": null,
            "_view_module": "@jupyter-widgets/base",
            "_view_module_version": "1.2.0",
            "_view_name": "StyleView",
            "description_width": ""
          }
        },
        "c0f025a971c74106bfacb27a93dc0e80": {
          "model_module": "@jupyter-widgets/base",
          "model_name": "LayoutModel",
          "model_module_version": "1.2.0",
          "state": {
            "_model_module": "@jupyter-widgets/base",
            "_model_module_version": "1.2.0",
            "_model_name": "LayoutModel",
            "_view_count": null,
            "_view_module": "@jupyter-widgets/base",
            "_view_module_version": "1.2.0",
            "_view_name": "LayoutView",
            "align_content": null,
            "align_items": null,
            "align_self": null,
            "border": null,
            "bottom": null,
            "display": null,
            "flex": null,
            "flex_flow": null,
            "grid_area": null,
            "grid_auto_columns": null,
            "grid_auto_flow": null,
            "grid_auto_rows": null,
            "grid_column": null,
            "grid_gap": null,
            "grid_row": null,
            "grid_template_areas": null,
            "grid_template_columns": null,
            "grid_template_rows": null,
            "height": null,
            "justify_content": null,
            "justify_items": null,
            "left": null,
            "margin": null,
            "max_height": null,
            "max_width": null,
            "min_height": null,
            "min_width": null,
            "object_fit": null,
            "object_position": null,
            "order": null,
            "overflow": null,
            "overflow_x": null,
            "overflow_y": null,
            "padding": null,
            "right": null,
            "top": null,
            "visibility": null,
            "width": null
          }
        },
        "2ccee6a510fb410ebdb50f17ed004edc": {
          "model_module": "@jupyter-widgets/controls",
          "model_name": "SliderStyleModel",
          "model_module_version": "1.5.0",
          "state": {
            "_model_module": "@jupyter-widgets/controls",
            "_model_module_version": "1.5.0",
            "_model_name": "SliderStyleModel",
            "_view_count": null,
            "_view_module": "@jupyter-widgets/base",
            "_view_module_version": "1.2.0",
            "_view_name": "StyleView",
            "description_width": "",
            "handle_color": null
          }
        }
      }
    }
  },
  "nbformat": 4,
  "nbformat_minor": 5
}