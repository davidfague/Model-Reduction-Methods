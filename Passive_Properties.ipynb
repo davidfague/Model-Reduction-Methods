{
  "cells": [
    {
      "cell_type": "markdown",
      "metadata": {
        "id": "view-in-github",
        "colab_type": "text"
      },
      "source": [
        "<a href=\"https://colab.research.google.com/github/davidfague/Model_Reduction_Methods/blob/main/Passive_Properties.ipynb\" target=\"_parent\"><img src=\"https://colab.research.google.com/assets/colab-badge.svg\" alt=\"Open In Colab\"/></a>"
      ]
    },
    {
      "cell_type": "markdown",
      "id": "7a9de89f",
      "metadata": {
        "id": "7a9de89f"
      },
      "source": [
        "# Model Reduction preserves passive and active properties\n",
        "##passive properties:\n",
        "\n",
        "membrane time constant and input resistance of the soma using a somatic negative current injection.\n",
        "\n",
        "\n",
        "## active properties:\n",
        "\n",
        "F/I curve of soma with somatic current injection"
      ]
    },
    {
      "cell_type": "markdown",
      "id": "MSX7LmGzszzf",
      "metadata": {
        "id": "MSX7LmGzszzf"
      },
      "source": [
        "#### Download modules from Github"
      ]
    },
    {
      "cell_type": "code",
      "source": [
        "!pip install neuron"
      ],
      "metadata": {
        "id": "-urE9jrxNdxm",
        "colab": {
          "base_uri": "https://localhost:8080/"
        },
        "outputId": "e7dc9ee4-e2ab-4bdb-9508-c5ad1edcfd87"
      },
      "id": "-urE9jrxNdxm",
      "execution_count": 1,
      "outputs": [
        {
          "output_type": "stream",
          "name": "stdout",
          "text": [
            "Looking in indexes: https://pypi.org/simple, https://us-python.pkg.dev/colab-wheels/public/simple/\n",
            "Collecting neuron\n",
            "  Downloading NEURON-8.2.2-cp39-cp39-manylinux_2_17_x86_64.manylinux2014_x86_64.whl (15.0 MB)\n",
            "\u001b[2K     \u001b[90m━━━━━━━━━━━━━━━━━━━━━━━━━━━━━━━━━━━━━━━━\u001b[0m \u001b[32m15.0/15.0 MB\u001b[0m \u001b[31m28.5 MB/s\u001b[0m eta \u001b[36m0:00:00\u001b[0m\n",
            "\u001b[?25hRequirement already satisfied: numpy>=1.9.3 in /usr/local/lib/python3.9/dist-packages (from neuron) (1.22.4)\n",
            "Installing collected packages: neuron\n",
            "Successfully installed neuron-8.2.2\n"
          ]
        }
      ]
    },
    {
      "cell_type": "code",
      "source": [
        "!pip install neuron_reduce"
      ],
      "metadata": {
        "id": "BHjnRgPsN0g2",
        "colab": {
          "base_uri": "https://localhost:8080/"
        },
        "outputId": "5006c13c-446b-4ed8-9361-622f438149db"
      },
      "id": "BHjnRgPsN0g2",
      "execution_count": 2,
      "outputs": [
        {
          "output_type": "stream",
          "name": "stdout",
          "text": [
            "Looking in indexes: https://pypi.org/simple, https://us-python.pkg.dev/colab-wheels/public/simple/\n",
            "Collecting neuron_reduce\n",
            "  Downloading neuron_reduce-0.0.7-py3-none-any.whl (18 kB)\n",
            "Installing collected packages: neuron_reduce\n",
            "Successfully installed neuron_reduce-0.0.7\n"
          ]
        }
      ]
    },
    {
      "cell_type": "code",
      "source": [
        "!git clone https://github.com/davidfague/Model_Reduction_Methods.git"
      ],
      "metadata": {
        "id": "t4dVzA0WLZ9F",
        "colab": {
          "base_uri": "https://localhost:8080/"
        },
        "outputId": "58961c51-c331-48b7-f4df-ae88aae666ef"
      },
      "id": "t4dVzA0WLZ9F",
      "execution_count": 3,
      "outputs": [
        {
          "output_type": "stream",
          "name": "stdout",
          "text": [
            "Cloning into 'Model_Reduction_Methods'...\n",
            "remote: Enumerating objects: 440, done.\u001b[K\n",
            "remote: Counting objects: 100% (126/126), done.\u001b[K\n",
            "remote: Compressing objects: 100% (126/126), done.\u001b[K\n",
            "remote: Total 440 (delta 72), reused 0 (delta 0), pack-reused 314\u001b[K\n",
            "Receiving objects: 100% (440/440), 3.03 MiB | 10.47 MiB/s, done.\n",
            "Resolving deltas: 100% (223/223), done.\n"
          ]
        }
      ]
    },
    {
      "cell_type": "code",
      "source": [
        "%cd Model_Reduction_Methods/\n",
        "\n",
        "#import reduction and expansion functions\n",
        "from test_neuron_reduce.subtree_reductor_func import subtree_reductor\n",
        "from cable_expander_func import cable_expander\n",
        "\n",
        "#import recording functions\n",
        "from stylized_module.recorder import Recorder\n",
        "\n",
        "#import analysis functions\n",
        "from utils import make_seg_df,generate_stylized_geometry,make_reduced_seg_df,plot_morphology,check_connectivity,generate_reduced_cell_seg_coords, create_seg_var_report\n",
        "\n",
        "import pandas as pd"
      ],
      "metadata": {
        "id": "cY9U_KPwLVAz",
        "colab": {
          "base_uri": "https://localhost:8080/"
        },
        "outputId": "5876a15f-24a1-4de8-e3c9-431430498982"
      },
      "id": "cY9U_KPwLVAz",
      "execution_count": 4,
      "outputs": [
        {
          "output_type": "stream",
          "name": "stdout",
          "text": [
            "/content/Model_Reduction_Methods\n"
          ]
        }
      ]
    },
    {
      "cell_type": "code",
      "source": [
        "%cd expand_example"
      ],
      "metadata": {
        "id": "vXTRrX-ILq6D",
        "colab": {
          "base_uri": "https://localhost:8080/"
        },
        "outputId": "afb8a68c-86f1-416f-a0a6-4e92fa6f8e37"
      },
      "id": "vXTRrX-ILq6D",
      "execution_count": 5,
      "outputs": [
        {
          "output_type": "stream",
          "name": "stdout",
          "text": [
            "/content/Model_Reduction_Methods/expand_example\n"
          ]
        }
      ]
    },
    {
      "cell_type": "code",
      "source": [
        "# compile the mod files\n",
        "!nrnivmodl mod"
      ],
      "metadata": {
        "id": "Dm-MdGeb6uZB",
        "colab": {
          "base_uri": "https://localhost:8080/"
        },
        "outputId": "6457e9d2-4322-45b8-888f-39eab87459c8"
      },
      "id": "Dm-MdGeb6uZB",
      "execution_count": 6,
      "outputs": [
        {
          "output_type": "stream",
          "name": "stdout",
          "text": [
            "/content/Model_Reduction_Methods/expand_example\n",
            "Mod files: \"mod/mod/CaDynamics_E2.mod\" \"mod/mod/Ca_HVA.mod\" \"mod/mod/Ca_LVAst.mod\" \"mod/mod/epsp.mod\" \"mod/mod/Ih.mod\" \"mod/mod/Im.mod\" \"mod/mod/K_Pst.mod\" \"mod/mod/K_Tst.mod\" \"mod/mod/Nap_Et2.mod\" \"mod/mod/NaTa_t.mod\" \"mod/mod/NaTs2_t.mod\" \"mod/mod/SK_E2.mod\" \"mod/mod/SKv3_1.mod\"\n",
            "\n",
            "Creating 'x86_64' directory for .o files.\n",
            "\n",
            " -> \u001b[32mCompiling\u001b[0m mod_func.cpp\n",
            " -> \u001b[32mNMODL\u001b[0m ../mod/CaDynamics_E2.mod\n",
            " -> \u001b[32mNMODL\u001b[0m ../mod/Ca_HVA.mod\n",
            " -> \u001b[32mNMODL\u001b[0m ../mod/Ca_LVAst.mod\n",
            "Translating CaDynamics_E2.mod into /content/Model_Reduction_Methods/expand_example/x86_64/CaDynamics_E2.c\n",
            "Thread Safe\n",
            "Translating Ca_LVAst.mod into /content/Model_Reduction_Methods/expand_example/x86_64/Ca_LVAst.c\n",
            "Translating Ca_HVA.mod into /content/Model_Reduction_Methods/expand_example/x86_64/Ca_HVA.c\n",
            "Thread Safe\n",
            " -> \u001b[32mNMODL\u001b[0m ../mod/epsp.mod\n",
            " -> \u001b[32mNMODL\u001b[0m ../mod/Ih.mod\n",
            "Thread Safe\n",
            " -> \u001b[32mNMODL\u001b[0m ../mod/Im.mod\n",
            "Translating epsp.mod into /content/Model_Reduction_Methods/expand_example/x86_64/epsp.c\n",
            "Translating Ih.mod into /content/Model_Reduction_Methods/expand_example/x86_64/Ih.c\n",
            "Thread Safe\n",
            "Thread Safe\n",
            " -> \u001b[32mNMODL\u001b[0m ../mod/K_Pst.mod\n",
            " -> \u001b[32mNMODL\u001b[0m ../mod/K_Tst.mod\n",
            "Translating Im.mod into /content/Model_Reduction_Methods/expand_example/x86_64/Im.c\n",
            "Thread Safe\n",
            "Translating K_Tst.mod into /content/Model_Reduction_Methods/expand_example/x86_64/K_Tst.c\n",
            "Translating K_Pst.mod into /content/Model_Reduction_Methods/expand_example/x86_64/K_Pst.c\n",
            " -> \u001b[32mNMODL\u001b[0m ../mod/Nap_Et2.mod\n",
            "Thread Safe\n",
            "Thread Safe\n",
            " -> \u001b[32mNMODL\u001b[0m ../mod/NaTa_t.mod\n",
            " -> \u001b[32mNMODL\u001b[0m ../mod/NaTs2_t.mod\n",
            "Translating Nap_Et2.mod into /content/Model_Reduction_Methods/expand_example/x86_64/Nap_Et2.c\n",
            "Translating NaTa_t.mod into /content/Model_Reduction_Methods/expand_example/x86_64/NaTa_t.c\n",
            "Thread Safe\n",
            "Thread Safe\n",
            " -> \u001b[32mNMODL\u001b[0m ../mod/SK_E2.mod\n",
            "Translating NaTs2_t.mod into /content/Model_Reduction_Methods/expand_example/x86_64/NaTs2_t.c\n",
            " -> \u001b[32mNMODL\u001b[0m ../mod/SKv3_1.mod\n",
            "Translating SK_E2.mod into /content/Model_Reduction_Methods/expand_example/x86_64/SK_E2.c\n",
            "Thread Safe\n",
            "Thread Safe\n",
            " -> \u001b[32mCompiling\u001b[0m CaDynamics_E2.c\n",
            " -> \u001b[32mCompiling\u001b[0m Ca_HVA.c\n",
            "Translating SKv3_1.mod into /content/Model_Reduction_Methods/expand_example/x86_64/SKv3_1.c\n",
            "Thread Safe\n",
            " -> \u001b[32mCompiling\u001b[0m Ca_LVAst.c\n",
            " -> \u001b[32mCompiling\u001b[0m epsp.c\n",
            " -> \u001b[32mCompiling\u001b[0m Ih.c\n",
            " -> \u001b[32mCompiling\u001b[0m Im.c\n",
            " -> \u001b[32mCompiling\u001b[0m K_Pst.c\n",
            " -> \u001b[32mCompiling\u001b[0m K_Tst.c\n",
            " -> \u001b[32mCompiling\u001b[0m Nap_Et2.c\n",
            " -> \u001b[32mCompiling\u001b[0m NaTa_t.c\n",
            " -> \u001b[32mCompiling\u001b[0m NaTs2_t.c\n",
            " -> \u001b[32mCompiling\u001b[0m SK_E2.c\n",
            " -> \u001b[32mCompiling\u001b[0m SKv3_1.c\n",
            " => \u001b[32mLINKING\u001b[0m shared library ./libnrnmech.so\n",
            " => \u001b[32mLINKING\u001b[0m executable ./special LDFLAGS are:    -pthread\n",
            "Successfully created x86_64/special\n"
          ]
        }
      ]
    },
    {
      "cell_type": "markdown",
      "id": "2a84fbea",
      "metadata": {
        "id": "2a84fbea"
      },
      "source": [
        "## Setup smiulation parameters"
      ]
    },
    {
      "cell_type": "code",
      "execution_count": 7,
      "id": "4be7f6fd",
      "metadata": {
        "id": "4be7f6fd",
        "colab": {
          "base_uri": "https://localhost:8080/"
        },
        "outputId": "16246f1e-d7e8-4c3e-830e-dfee5bcc3727"
      },
      "outputs": [
        {
          "output_type": "execute_result",
          "data": {
            "text/plain": [
              "1.0"
            ]
          },
          "metadata": {},
          "execution_count": 7
        }
      ],
      "source": [
        "import numpy as np\n",
        "import pandas as pd\n",
        "import json\n",
        "import matplotlib.pyplot as plt\n",
        "import ipywidgets as widgets\n",
        "from neuron import h\n",
        "from scipy import signal\n",
        "from IPython.display import display, clear_output\n",
        "from ipywidgets import interactive_output, HBox, VBox, Label, Layout\n",
        "\n",
        "from __future__ import division\n",
        "from neuron import gui,h\n",
        "import numpy as np\n",
        "import time\n",
        "import matplotlib.pyplot as plt\n",
        "\n",
        "%matplotlib inline\n",
        "\n",
        "\n",
        "h.load_file('stdrun.hoc')\n",
        "# h.nrn_load_dll(paths.COMPILED_LIBRARY_REDUCED_ORDER)  # choose the set of mechanisms\n",
        "h.nrn_load_dll('./x86_64/.libs/libnrnmech.so')\n"
      ]
    },
    {
      "cell_type": "markdown",
      "id": "7927a07b",
      "metadata": {
        "id": "7927a07b"
      },
      "source": [
        "### Create a cell with reduced morphology"
      ]
    },
    {
      "cell_type": "code",
      "source": [
        "%ls"
      ],
      "metadata": {
        "id": "s0gis1f1OdWX",
        "colab": {
          "base_uri": "https://localhost:8080/"
        },
        "outputId": "1cc173c3-302c-496a-863e-149ba931e642"
      },
      "id": "s0gis1f1OdWX",
      "execution_count": 8,
      "outputs": [
        {
          "output_type": "stream",
          "name": "stdout",
          "text": [
            "cell1.asc  example_expand.py  L5PCtemplate.hoc  \u001b[0m\u001b[01;34mx86_64\u001b[0m/\n",
            "Cell.hoc   L5PCbiophys3.hoc   \u001b[01;34mmod\u001b[0m/\n"
          ]
        }
      ]
    },
    {
      "cell_type": "code",
      "source": [
        "from abc import ABC, abstractmethod\n",
        "class PointCurrent(ABC):\n",
        "    \"\"\"A module for current point process\"\"\"\n",
        "\n",
        "    def __init__(self, cell, sec_index, loc=0.5):\n",
        "        \"\"\"\n",
        "        cell: target cell object\n",
        "        sec_index: index of the target section in the section list\n",
        "        loc: location on a section, between [0,1]\n",
        "        \"\"\"\n",
        "        self.cell = cell\n",
        "        self.sec_index = sec_index\n",
        "        self.loc = loc\n",
        "        self.pp_obj = None  # point process object\n",
        "        self.rec_vec = None  # vector for recording\n",
        "\n",
        "    @abstractmethod\n",
        "    def setup(self, record: bool = None) -> None:\n",
        "        pass\n",
        "\n",
        "    def setup_recorder(self):\n",
        "        size = [round(h.tstop / h.dt) + 1] if hasattr(h, 'tstop') else []\n",
        "        self.rec_vec = h.Vector(*size).record(self.pp_obj._ref_i)\n",
        "\n",
        "    def get_section(self) -> h.Section:\n",
        "        return self.cell.all[self.sec_index]\n",
        "\n",
        "    def get_segment(self):\n",
        "        return self.pp_obj.get_segment()\n",
        "\n",
        "    def get_segment_id(self) -> int:\n",
        "        \"\"\"Get the index of the injection target segment in the segment list\"\"\"\n",
        "        iseg = int(self.get_segment().x * self.get_section().nseg)\n",
        "        return self.cell.sec_id_in_seg[self.sec_index] + iseg\n"
      ],
      "metadata": {
        "id": "pqECeUrwUfCi"
      },
      "id": "pqECeUrwUfCi",
      "execution_count": 9,
      "outputs": []
    },
    {
      "cell_type": "code",
      "source": [
        "from __future__ import annotations\n",
        "from typing import List, Optional, Any, TYPE_CHECKING\n",
        "class CurrentInjection(PointCurrent):\n",
        "    \"\"\"A module for current injection\"\"\"\n",
        "\n",
        "    def __init__(self, cell, sec_index: int, loc: float = 0.5,\n",
        "                 pulse: bool = True, current: Optional[np.ndarray, List[int]] = None,\n",
        "                 dt: Optional[np.ndarray] = None, record: bool = False, **pulse_param: Any) -> None:\n",
        "        \"\"\"\n",
        "        cell: target cell object\n",
        "        sec_index: index of the target section in the section list\n",
        "        loc: location on a section, between [0,1]\n",
        "        pulse: If True, use pulse injection with keyword arguments in 'pulse_param'\n",
        "               If False, use waveform resources in vector 'current' as injection\n",
        "        Dt: current vector time step size\n",
        "        record: If True, enable recording current injection history\n",
        "        \"\"\"\n",
        "        super().__init__(cell, sec_index, loc)\n",
        "        self.pp_obj = h.IClamp(self.get_section()(self.loc))\n",
        "        self.inj_vec = None\n",
        "        if pulse:\n",
        "            self.setup_pulse(**pulse_param)\n",
        "        else:\n",
        "            if current is None:\n",
        "                current = [0]\n",
        "            self.setup_current(current, dt)\n",
        "        self.setup(record)\n",
        "\n",
        "    def setup(self, record: bool = False) -> None:\n",
        "        if record:\n",
        "            self.setup_recorder()\n",
        "\n",
        "    def setup_pulse(self, **pulse_param: Any) -> None:\n",
        "        \"\"\"Set IClamp attributes. Argument keyword: attribute name, arugment value: attribute value\"\"\"\n",
        "        for param, value in pulse_param.items():\n",
        "            setattr(self.pp_obj, param, value)\n",
        "\n",
        "    def setup_current(self, current: Optional[np.ndarray, List[int]], dt: Optional[np.ndarray]) -> None:\n",
        "        \"\"\"Set current injection with the waveform in vector 'current'\"\"\"\n",
        "        ccl = self.pp_obj\n",
        "        ccl.dur = 0\n",
        "        ccl.dur = h.tstop if hasattr(h, 'tstop') else 1e30\n",
        "        if dt is None:\n",
        "            dt = h.dt\n",
        "        self.inj_vec = h.Vector()\n",
        "        self.inj_vec.from_python(current)\n",
        "        self.inj_vec.append(0)\n",
        "        self.inj_vec.play(ccl._ref_amp, dt)"
      ],
      "metadata": {
        "id": "MoIoxXTDKdzh"
      },
      "id": "MoIoxXTDKdzh",
      "execution_count": 10,
      "outputs": []
    },
    {
      "cell_type": "code",
      "source": [
        "class Synapse(PointCurrent):\n",
        "    def __init__(self, cell, stim: h.NetStim, sec_index: int,\n",
        "                  syn_type: str = 'Exp2Syn', gmax: float = 0.01, loc: float = 0.5,\n",
        "                  record: bool = False):\n",
        "        super().__init__(cell, sec_index, loc)\n",
        "        self.stim = stim\n",
        "        self.gmax = gmax\n",
        "        self.__synapse_type(syn_type)\n",
        "        self.setup(record)\n",
        "\n",
        "    # PRIVATE METHODS\n",
        "    def __synapse_type(self, syn_type):\n",
        "        if syn_type == 'AlphaSynapse1':\n",
        "            # Reversal potential (mV); Synapse time constant (ms)\n",
        "            self.syn_params = {'e': 0., 'tau': 2.0}\n",
        "            # Variable name of maximum conductance (uS)\n",
        "            self.gmax_var = 'gmax'\n",
        "        elif syn_type == 'Exp2Syn':\n",
        "            self.syn_params = {'e': 0., 'tau1': 1.0, 'tau2': 3.0}\n",
        "            self.gmax_var = '_nc_weight'\n",
        "        else:\n",
        "            raise ValueError(\"Synpase type not defined.\")\n",
        "        self.syn_type = syn_type\n",
        "        self.pp_obj = getattr(h, syn_type)(self.get_section()(self.loc))\n",
        "\n",
        "    def __setup_synapse(self):\n",
        "        self.syn = self.pp_obj\n",
        "        self.nc = h.NetCon(self.stim, self.syn, 1, 0, 1)\n",
        "        for key, value in self.syn_params.items():\n",
        "            setattr(self.syn, key, value)\n",
        "        self.set_gmax()\n",
        "\n",
        "    # PUBLIC METHODS\n",
        "    def setup(self, record: bool = False):\n",
        "        self.__setup_synapse()\n",
        "        if record:\n",
        "            self.setup_recorder()\n",
        "    \n",
        "    def set_gmax(self, gmax: float = None):\n",
        "        if gmax is not None:\n",
        "            self.gmax = gmax\n",
        "        if self.gmax_var == '_nc_weight':\n",
        "            self.nc.weight[0] = self.gmax\n",
        "        else:\n",
        "            setattr(self.syn, self.gmax_var, self.gmax)"
      ],
      "metadata": {
        "id": "8TE_op1mUTii"
      },
      "id": "8TE_op1mUTii",
      "execution_count": 11,
      "outputs": []
    },
    {
      "cell_type": "code",
      "source": [
        "from typing import Optional, Union, List\n",
        "import math\n",
        "class cell_model():\n",
        "  '''expanded cell model class for ECP calculation\n",
        "  takes cell model and does bookkeeping for analysis functions\n",
        "  '''\n",
        "  def __init__(self,model,gen_3d=True,spike_threshold: Optional[float] = None):\n",
        "    self.all=model.all\n",
        "    self.soma=model.soma\n",
        "    self.apic=model.apic\n",
        "    self.dend=model.dend\n",
        "    self.axon=model.axon\n",
        "    #convert nrn section lists to python lists if applicable\n",
        "    self.all=self.convert_sectionlist(sectionlist=self.all)\n",
        "    self.soma=self.convert_sectionlist(sectionlist=self.soma, return_singles=True) #if sectionlist contains only one section returns just the section instead of list of sections\n",
        "    self.dend=self.convert_sectionlist(sectionlist=self.dend)\n",
        "    self.apic=self.convert_sectionlist(sectionlist=self.apic)\n",
        "    self.axon=self.convert_sectionlist(sectionlist=self.axon)\n",
        "    self.spike_threshold = spike_threshold\n",
        "    self.segments=[]\n",
        "    self.injection=[]\n",
        "    self.synapse = []  # synapse objects\n",
        "    self.sec_id_lookup = {}  # dictionary from section type id to section index\n",
        "    self.sec_id_in_seg = []  # index of the first segment of each section in the segment list\n",
        "    self.sec_angs = [] # list of angles that were used to branch the cell\n",
        "    if gen_3d==True:\n",
        "      self.generate_sec_coords()\n",
        "    self.__store_segments()\n",
        "    self.__set_spike_recorder()\n",
        "    if self.apic[2].n3d()==2: #calc_seg_coords only works for cell with sections that only have two 3d coordinates. #detailed cell has too many 3d coordinates\n",
        "      self.__calc_seg_coords()\n",
        "    self.grp_ids = []\n",
        "    self.generate_geometry_file()\n",
        "\n",
        "  def __calc_seg_coords(self):\n",
        "    \"\"\"Calculate segment coordinates for ECP calculation\"\"\"\n",
        "    p0 = np.empty((self._nseg, 3))\n",
        "    p1 = np.empty((self._nseg, 3))\n",
        "    p05 = np.empty((self._nseg, 3))\n",
        "    r = np.empty(self._nseg)\n",
        "    for isec, sec in enumerate(self.all):\n",
        "        iseg = self.sec_id_in_seg[isec]\n",
        "        nseg = sec.nseg\n",
        "        pt0 = np.array([sec.x3d(0), sec.y3d(0), sec.z3d(0)])\n",
        "        pt1 = np.array([sec.x3d(1), sec.y3d(1), sec.z3d(1)])\n",
        "        pts = np.linspace(pt0, pt1, 2 * nseg + 1)\n",
        "        p0[iseg:iseg + nseg, :] = pts[:-2:2, :]\n",
        "        p1[iseg:iseg + nseg, :] = pts[2::2, :]\n",
        "        p05[iseg:iseg + nseg, :] = pts[1:-1:2, :]\n",
        "        r[iseg:iseg + nseg] = sec.diam / 2\n",
        "    self.seg_coords = {'dl': p1 - p0, 'pc': p05, 'r': r}\n",
        "\n",
        "  def __store_segments(self):\n",
        "    self.segments = []\n",
        "    self.sec_id_in_seg = []\n",
        "    nseg = 0\n",
        "    for sec in self.all:\n",
        "        self.sec_id_in_seg.append(nseg)\n",
        "        nseg += sec.nseg\n",
        "        for seg in sec:\n",
        "            self.segments.append(seg)\n",
        "            self.__store_point_processes(seg)\n",
        "    self._nseg = nseg\n",
        "\n",
        "  def __store_point_processes(self,seg):\n",
        "    for pp in seg.point_processes():\n",
        "        self.injection.append(pp)\n",
        "\n",
        "  def __set_spike_recorder(self, threshold: Optional = None):\n",
        "      if threshold is not None:\n",
        "          self.spike_threshold = threshold\n",
        "      if self.spike_threshold is None:\n",
        "          self.spikes = None\n",
        "      else:\n",
        "          vec = h.Vector()\n",
        "          nc = h.NetCon(self.soma(0.5)._ref_v, None, sec=self.soma)\n",
        "          nc.threshold = self.spike_threshold\n",
        "          nc.record(vec)\n",
        "          self.spikes = vec\n",
        "\n",
        "  def add_injection(self, sec_index, **kwargs):\n",
        "        \"\"\"Add current injection to a section by its index\"\"\"\n",
        "        self.injection.append(CurrentInjection(self, sec_index, **kwargs))\n",
        "\n",
        "  def add_synapse(self, stim: h.NetStim, sec_index: int, **kwargs):\n",
        "        \"\"\"Add synapse to a section by its index\"\"\"\n",
        "        self.synapse.append(Synapse(self, stim, sec_index, **kwargs))\n",
        "\n",
        "  def generate_sec_coords(self):\n",
        "      '''\n",
        "      Note: need to improve branching so that it is random direction in a quadrant of a sphere rather than x-y plane\n",
        "      takes a cell that has no n3d() coordinates and gives new coordinates\n",
        "      by choosing an arbitrary direction for the subtree to move\n",
        "      '''\n",
        "      parent_sections=[] #list for already seen parent_sections\n",
        "      section_obj_list= self.all\n",
        "      # print(section_obj_list)\n",
        "      axial=False\n",
        "      for sec in section_obj_list:\n",
        "        sec_length=sec.L\n",
        "        if sec is self.soma:\n",
        "          self.sec_angs.append(0)\n",
        "          # pt0 = [0., -1 * sec.diam, 0.] #does not seem to preserve soma shape , but need to make sure children begin at correct 3d coordinate.\n",
        "          # pt1 = [0., 0., 0.]\n",
        "          # sec.pt3dclear()\n",
        "          # sec.pt3dadd(*pt0, sec.diam)\n",
        "          # sec.pt3dadd(*pt1, sec.diam)\n",
        "          print('Changing soma nseg from',sec.nseg,'to 1')\n",
        "          sec.nseg = 1\n",
        "        else:\n",
        "          if sec.parentseg() is not None:\n",
        "            psec=sec.parentseg().sec\n",
        "            if psec==self.soma:\n",
        "              nbranch=1\n",
        "            else:\n",
        "              nbranch = len(psec.children())\n",
        "          else:\n",
        "            psec=None # may need to provide more implementation in the case of no 3d coords and no parent section.\n",
        "            nbranch=1\n",
        "          rot = 2 * math.pi/nbranch\n",
        "          i=parent_sections.count(psec)\n",
        "          parent_sections.append(psec)\n",
        "          length=sec.L\n",
        "          diameter=sec.diam\n",
        "          fullsecname = sec.name()\n",
        "          # print(fullsecname)\n",
        "          sec_type = fullsecname.split(\".\")[1][:4]\n",
        "          # print(sec_type)\n",
        "          if sec_type == \"apic\":\n",
        "            ang=np.random.normal(scale=0.1,loc=1.570796327) # somewhat arbitrary angle in the Q1/Q2 of xy-plane # may adjust as needed\n",
        "          elif sec_type==\"dend\":\n",
        "            ang=-np.random.uniform(low=0,high=np.pi) # arbitrary angle in the Q3/Q4 of xy=plane # may adjust as needed \n",
        "          elif sec_type==\"axon\":\n",
        "            ang=-np.random.uniform(low=0,high=np.pi) # arbitrary angle in the Q3/Q4 of xy=plane # may adjust as needed \n",
        "          else:\n",
        "            print(sec,sec_type,' is not apic, dend or axon')\n",
        "            ang=0\n",
        "          if axial == True:\n",
        "            x = 0\n",
        "            y = length*((ang>=0)*2-1)\n",
        "          else:\n",
        "            x = length * math.cos(ang)\n",
        "            y = length * math.sin(ang)\n",
        "          self.sec_angs.append(ang)\n",
        "          #find starting position\n",
        "          pt0 = [psec.x3d(1), psec.y3d(1), psec.z3d(1)]\n",
        "          pt1 = [0., 0., 0.]\n",
        "          pt1[1] = pt0[1] + y\n",
        "          pt1[0] = pt0[0] + x * math.cos(i * rot)\n",
        "          pt1[2] = pt0[2] + x * math.sin(i * rot)\n",
        "          sec.pt3dclear()\n",
        "          sec.pt3dadd(*pt0, sec.diam)\n",
        "          sec.pt3dadd(*pt1, sec.diam)\n",
        "        if int(sec.L) != int(sec_length):\n",
        "          print('Error: generation of 3D coordinates resulted in change of section length for',sec,'from',sec_length,'to',sec.L)\n",
        "\n",
        "  def generate_geometry_file(self):\n",
        "    '''\n",
        "    generates geometry file specifying name, pid, ang, radius, length, type\n",
        "    work in progress\n",
        "    '''\n",
        "    df = pd.DataFrame()\n",
        "    ids=[]\n",
        "    names=[]\n",
        "    types=[]\n",
        "    pids=[]\n",
        "    axials=[]\n",
        "    nbranchs=[]\n",
        "    Ls=[]\n",
        "    Rs=[]\n",
        "    # angs=self.angs\n",
        "    for sec in self.all:\n",
        "      # print(dir(sec))\n",
        "      name=sec.name()\n",
        "      # print(name)\n",
        "      names.append(name)\n",
        "      ids.append(names.index(name))\n",
        "      _,sec_type_withinteger=name.split('.')\n",
        "      sec_type,_=sec_type_withinteger.split('[')\n",
        "      types.append(sec_type)\n",
        "      pseg = sec.parentseg()\n",
        "      if pseg == None:\n",
        "        pids.append(None)\n",
        "      else:\n",
        "        psec=pseg.sec\n",
        "        px3d=psec.x3d\n",
        "        pids.append(names.index(psec.name()))\n",
        "      # axials.append('TRUE')\n",
        "      # nbranchs.append(1)\n",
        "      Ls.append(sec.L)\n",
        "      # print(dir(sec))\n",
        "      Rs.append(sec.diam/2)\n",
        "    df['id']=ids\n",
        "    df['name']=names\n",
        "    df['pid']=pids\n",
        "    df['type']=types\n",
        "    df['L']=Ls\n",
        "    df['R']=Rs\n",
        "    # df['axials']=axials # may need to fix\n",
        "    # df['nbranch']=nbranchs # may need to fix\n",
        "    self.geometry=df\n",
        "\n",
        "  def convert_sectionlist(self,sectionlist,return_singles=False):\n",
        "    '''\n",
        "    convert nrn sectionlist objects to python list\n",
        "    return_singles set to true will return section instead of [section] for lists with only one section\n",
        "    '''\n",
        "    new_sectionlist=[]\n",
        "    if str(type(sectionlist)) == \"<class 'hoc.HocObject'>\":\n",
        "      for sec in sectionlist:\n",
        "        new_sectionlist.append(sec)\n",
        "    else:\n",
        "      new_sectionlist=sectionlist\n",
        "    if return_singles==True:\n",
        "      if str(type(new_sectionlist))!=\"<class 'nrn.Section'>\":\n",
        "        if len(new_sectionlist)==1:\n",
        "          new_sectionlist=new_sectionlist[0]\n",
        "    return new_sectionlist"
      ],
      "metadata": {
        "id": "ZS3X-yZr-4kV"
      },
      "id": "ZS3X-yZr-4kV",
      "execution_count": 12,
      "outputs": []
    },
    {
      "cell_type": "code",
      "execution_count": 13,
      "id": "18a97eeb",
      "metadata": {
        "id": "18a97eeb",
        "colab": {
          "base_uri": "https://localhost:8080/"
        },
        "outputId": "78f18f29-5acb-4358-e815-dc8839d8441c"
      },
      "outputs": [
        {
          "output_type": "stream",
          "name": "stdout",
          "text": [
            "trunk_diam: 3.7176523208618155 |trunk_length: 698.0975964944687 |branch_diam: 1.475351301247016 |branch_length: 1081.9141048660235\n",
            "Changing soma nseg from 1 to 1\n",
            "Error: generation of 3D coordinates resulted in change of section length for L5PCtemplate[0].axon[1] from 30.0 to 29.999998978805266\n"
          ]
        }
      ],
      "source": [
        "\n",
        "# # Load biophysical parameters from a json file\n",
        "# filepath = os.path.join(paths.RESOURCES_ROOT, 'biophys_parameters/ReducedOrderL5_passive.json')\n",
        "# with open(filepath) as f:\n",
        "#     biophys_param = json.load(f)\n",
        "# for genome in biophys_param['genome']:\n",
        "#     if genome['value'] != \"\": genome['value'] = float(genome['value'])\n",
        "\n",
        "h.load_file('L5PCbiophys3.hoc')\n",
        "\n",
        "# # Load morphology parameters from a csv file\n",
        "# geometry = pd.read_csv(paths.GEO_REDUCED_ORDER, index_col='id')\n",
        "h.load_file(\"import3d.hoc\")\n",
        "\n",
        "\n",
        "# Create a cell object\n",
        "# cell = ReducedOrderL5CellPassiveDendrite(geometry=geometry, full_biophys=biophys_param)\n",
        "h.load_file('L5PCtemplate.hoc')\n",
        "complex_cell = h.L5PCtemplate('cell1.asc')\n",
        "h.celsius = 37\n",
        "h.v_init = complex_cell.soma[0].e_pas\n",
        "\n",
        "synapses_list=[]\n",
        "netcons_list=[]\n",
        "\n",
        "#reduce dendritic trees to cables\n",
        "reduced_cell, synapses_list, netcons_list, txt = subtree_reductor(complex_cell, synapses_list, netcons_list, reduction_frequency=0,return_seg_to_seg=True)\n",
        "\n",
        "# print('reduced cell n3d')\n",
        "# for sec in reduced_cell.dend:\n",
        "#   print(sec,sec.n3d())\n",
        "\n",
        "#expand cables to idealized dendritic trees\n",
        "sections_to_expand = [reduced_cell.hoc_model.apic[0]]\n",
        "furcations_x=[0.289004]\n",
        "nbranches=[4]\n",
        "reduced_dendritic_cell, synapses_list, netcons_list, txt = cable_expander(reduced_cell, sections_to_expand, furcations_x, nbranches, \n",
        "                                                                          synapses_list, netcons_list, reduction_frequency=0,return_seg_to_seg=True)\n",
        "\n",
        "original_cell = h.L5PCtemplate('cell1.asc')\n",
        "original_model = cell_model(original_cell,gen_3d=False,spike_threshold = 10)\n",
        "\n",
        "\n",
        "# print('dendritic cell n3d')\n",
        "# for sec in reduced_dendritic_cell.all:\n",
        "#   print(sec, sec.n3d())\n",
        "\n",
        "#use defined cell_model class for generating 3d coordinates, recording ECP, 'book-keeping' etc...\n",
        "cell = cell_model(reduced_dendritic_cell,spike_threshold = 10)\n",
        "# cell._nbranch=4\n",
        "\n",
        "\n",
        "# add injections for F/I curve\n",
        "delays=[250,1250,2250,3250]\n",
        "durations=[750,750,750,750]\n",
        "amps=[0.1,0.2,0.3,0.4]\n",
        "for i in range(len(delays)):\n",
        "  cell.add_injection(sec_index=0,record=True,delay=delays[i],dur=durations[i],amp=amps[i]) # Tune for proper action potential\n",
        "  original_model.add_injection(sec_index=0,record=True,delay=delays[i],dur=durations[i],amp=amps[i]) # Tune for proper action potential\n",
        "\n",
        "# #add injections for F/I curve\n",
        "# cell.add_injection(sec_index=0,record=True,delay=250,dur=750,amp=0.1) # Tune for proper action potential \n",
        "# cell.add_injection(sec_index=0,record=True,delay=1250,dur=750,amp=0.2) \n",
        "# cell.add_injection(sec_index=0,record=True,delay=2250,dur=750,amp=0.3) \n",
        "# cell.add_injection(sec_index=0,record=True,delay=3250,dur=750,amp=0.4) \n",
        "#add injections for F/I curve\n",
        "# original_model.add_injection(sec_index=0,record=True,delay=250,dur=750,amp=0.1) # Tune for proper action potential \n",
        "# original_model.add_injection(sec_index=0,record=True,delay=1250,dur=750,amp=0.2) \n",
        "# original_model.add_injection(sec_index=0,record=True,delay=2250,dur=750,amp=0.3) \n",
        "# original_model.add_injection(sec_index=0,record=True,delay=3250,dur=750,amp=0.4) \n",
        "\n",
        "#add injection for determining membrane time constant and input resistance\n",
        "tau_calc_start=5000\n",
        "tau_calc_start=delays[-1]+durations[-1]+1000\n",
        "tau_calc_duration=850\n",
        "\n",
        "original_model.add_injection(sec_index=0,record=True,delay=tau_calc_start,dur=tau_calc_duration,amp=-0.1) # Tune for proper action potential \n",
        "cell.add_injection(sec_index=cell.all.index(cell.soma),record=True,delay=tau_calc_start,dur=tau_calc_duration,amp=-0.1) # Tune for proper action potential"
      ]
    },
    {
      "cell_type": "code",
      "source": [
        "# dir(cell)"
      ],
      "metadata": {
        "id": "akYHQOGDKiW5"
      },
      "id": "akYHQOGDKiW5",
      "execution_count": 14,
      "outputs": []
    },
    {
      "cell_type": "code",
      "source": [
        "import os\n",
        "\n",
        "RunningInCOLAB = 'google.colab' in str(get_ipython())\n",
        "if RunningInCOLAB:\n",
        "    !pip install neuron==8.0.0 &> /dev/null\n",
        "    os.chdir('/content')\n",
        "    if not os.path.isdir('Stylized-Single-Cell-and-Extracellular-Potential'):\n",
        "        !git clone https://github.com/chenziao/Stylized-Single-Cell-and-Extracellular-Potential.git &> /dev/null \n",
        "    os.chdir('Stylized-Single-Cell-and-Extracellular-Potential')\n",
        "    %ls"
      ],
      "metadata": {
        "id": "D6vyubrwOvA_",
        "outputId": "ece24352-f4be-4309-ab33-1fbee25b0853",
        "colab": {
          "base_uri": "https://localhost:8080/"
        }
      },
      "id": "D6vyubrwOvA_",
      "execution_count": 15,
      "outputs": [
        {
          "output_type": "stream",
          "name": "stdout",
          "text": [
            "\u001b[0m\u001b[01;34mcell_inference\u001b[0m/  Stylized_Single_Cell_Extracellular_Potential_Tutorial.ipynb\n"
          ]
        }
      ]
    },
    {
      "cell_type": "code",
      "source": [
        "# tstop = 6000  # ms simulation duration\n",
        "tstop = tau_calc_start+tau_calc_duration+150\n",
        "dt = 0.1  # ms. does not allow change\n",
        "\n",
        "\n",
        "h.tstop = tstop\n",
        "h.dt = dt\n",
        "h.steps_per_ms = 1/h.dt"
      ],
      "metadata": {
        "id": "2-j_W0BlPIlk"
      },
      "id": "2-j_W0BlPIlk",
      "execution_count": 16,
      "outputs": []
    },
    {
      "cell_type": "code",
      "source": [
        "from typing import Union, List, Tuple\n",
        "\n",
        "\n",
        "class Recorder(object):\n",
        "    \"\"\"A module for recording variables\"\"\"\n",
        "\n",
        "    def __init__(self, obj_list: Union[object, List[object], Tuple[object], np.ndarray], var_name: str = 'v') -> None:\n",
        "        \"\"\"\n",
        "        obj_list: list of (or a single) target objects\n",
        "        var_name: string of variable to be recorded\n",
        "        \"\"\"\n",
        "        self.single = not isinstance(obj_list, (list, tuple, np.ndarray))\n",
        "        self.obj_list = obj_list\n",
        "        self.var_name = var_name\n",
        "        self.vectors = None\n",
        "        self.setup_recorder()\n",
        "\n",
        "    def setup_recorder(self) -> None:\n",
        "        size = [round(h.tstop / h.dt) + 1] if hasattr(h, 'tstop') else []\n",
        "        attr_name = '_ref_' + self.var_name\n",
        "        if self.single:\n",
        "            self.vectors = h.Vector(*size).record(getattr(self.obj_list, attr_name))\n",
        "        else:\n",
        "            self.vectors = [h.Vector(*size).record(getattr(obj, attr_name)) for obj in self.obj_list]\n",
        "\n",
        "    def as_numpy(self, copy: bool = True) -> np.ndarray:\n",
        "        \"\"\"\n",
        "        Return a numpy 2d-array of recording, n objects-by-time\n",
        "        Return a 1d-array if a single object is being recorded\n",
        "        \"\"\"\n",
        "        if self.single:\n",
        "            x = self.vectors.as_numpy()\n",
        "        else:\n",
        "            x = np.array([v.as_numpy() for v in self.vectors])\n",
        "        if copy:\n",
        "            x = x.copy()\n",
        "        return x"
      ],
      "metadata": {
        "id": "H-rE_7J2QNsd"
      },
      "id": "H-rE_7J2QNsd",
      "execution_count": 17,
      "outputs": []
    },
    {
      "cell_type": "code",
      "source": [
        "nseg = len(cell.segments)\n",
        "numTstep = int(tstop/dt)\n",
        "\n",
        "\n",
        "# seg_list = cell.get_seg_by_id(range(nseg))\n",
        "\n",
        "# Vrecord = []\n",
        "# for i in range(len(cell.segments)):\n",
        "#      Vrecord.append(cell.segments[i])\n",
        "\n",
        "#record soma voltages\n",
        "reduced_v = Recorder(cell.segments[0])\n",
        "complex_v = Recorder(original_model.segments[0])"
      ],
      "metadata": {
        "id": "1tRGr5NEOs59"
      },
      "id": "1tRGr5NEOs59",
      "execution_count": 18,
      "outputs": []
    },
    {
      "cell_type": "code",
      "source": [
        "h.run()"
      ],
      "metadata": {
        "id": "U5azilotOvGY",
        "outputId": "bba3243a-6cf2-465a-abd9-dd6903ab535d",
        "colab": {
          "base_uri": "https://localhost:8080/"
        }
      },
      "id": "U5azilotOvGY",
      "execution_count": 19,
      "outputs": [
        {
          "output_type": "execute_result",
          "data": {
            "text/plain": [
              "0.0"
            ]
          },
          "metadata": {},
          "execution_count": 19
        }
      ]
    },
    {
      "cell_type": "code",
      "source": [
        "#reduced cell input resistance and tau\n",
        "\n",
        "# from pandas.core.internals.managers import create_block_manager_from_arrays\n",
        "v_dend = reduced_v.as_numpy()\n",
        "time_index_for_rest=int((tau_calc_start-300)/dt) # cell will return to rest during the pause between current injections\n",
        "time_index_for_final=int((tau_calc_start+600)/dt) #cell will reach a new equilibrium voltage during the injection\n",
        "\n",
        "v_rest = v_dend[time_index_for_rest]\n",
        "print('v_rest:',v_rest)\n",
        "v_final = v_dend[time_index_for_final]\n",
        "print('v_final:', v_final)\n",
        "\n",
        "#calculate time constant from v_rest and v_final\n",
        "calc = v_rest -((v_rest - v_final) * 0.638)\n",
        "print('v_tau:',calc)\n",
        "\n",
        "#find where tau occurs\n",
        "i = int(tau_calc_start/dt) # start time index = start_time/dt\n",
        "init_i=i\n",
        "while v_dend[i] > calc:\n",
        "  i = i + 1\n",
        "\n",
        "print('v at tic:',v_dend[i])\n",
        "\n",
        "\n",
        "timeAtV = i*dt\n",
        "print('timeAtV:', timeAtV)\n",
        "print('timestep where tau occurs:', i)\n",
        "time_to_reach_tau = timeAtV - tau_calc_start\n",
        "time_in_seconds = time_to_reach_tau/1000\n",
        "\n",
        "print('tau:',time_to_reach_tau,'(ms)')\n",
        "print('tau:',time_in_seconds,'(s)')\n",
        "\n",
        "\n",
        "deltaV = (v_rest - v_final)\n",
        "deltaI = (0 - (-100))\n",
        "dVdI = deltaV / (deltaI /1000)\n",
        "\n",
        "print('Input Resistance(dVdI):',dVdI,'MOhms')\n",
        "\n",
        "reduced_cell_input_resistance_inMOhms=dVdI\n",
        "reduced_cell_tau_in_ms=time_to_reach_tau"
      ],
      "metadata": {
        "id": "yfIKZbqeO3kk",
        "outputId": "4307d013-9b11-402c-eee3-1f3b112d83a7",
        "colab": {
          "base_uri": "https://localhost:8080/"
        }
      },
      "id": "yfIKZbqeO3kk",
      "execution_count": 20,
      "outputs": [
        {
          "output_type": "stream",
          "name": "stdout",
          "text": [
            "v_rest: -75.24287955562167\n",
            "v_final: -79.45404855689895\n",
            "v_tau: -77.92960537843658\n",
            "v at tic: -77.93849295407824\n",
            "timeAtV: 5009.400000000001\n",
            "timestep where tau occurs: 50094\n",
            "tau: 9.400000000000546 (ms)\n",
            "tau: 0.009400000000000545 (s)\n",
            "Input Resistance(dVdI): 42.11169001277284 MOhms\n"
          ]
        }
      ]
    },
    {
      "cell_type": "code",
      "source": [
        "import matplotlib.pyplot as plt\n",
        "%matplotlib inline\n",
        "\n",
        "\n",
        "plt.figure(figsize=(15,4))\n",
        "plt.plot(np.arange(0,((h.tstop)+.1),.1),v_dend,color='r')\n",
        "plt.hlines(-65,0,tstop, color = 'grey', linestyle = 'dashed')\n",
        "plt.hlines(-40,0,tstop, color = 'grey', linestyle = 'dashed')\n",
        "plt.hlines(0,0,tstop, color = 'grey', linestyle = 'dashed')\n",
        "plt.hlines(-40,0,tstop, color = 'grey', linestyle = 'dashed')#\n",
        "plt.vlines(150,50,-100, color = 'grey', linestyle = 'dashed')\n",
        "plt.vlines(i/10,50,-100, color = 'grey', linestyle = 'dashed')\n",
        "plt.text(2,3,'0 mV')\n",
        "plt.hlines(-10,50,70)\n",
        "plt.vlines(50,-10,0)\n",
        "plt.text(50,-15,'10 ms')\n",
        "plt.text(2,-5,'10 mV')\n",
        "plt.text(2,-37,'-40 mV')\n",
        "plt.text(2,-62,'-65 mV')\n",
        "plt.title('Soma Voltage')\n",
        "plt.box(False)\n",
        "plt.xticks([])\n",
        "plt.yticks([])"
      ],
      "metadata": {
        "id": "VxnT-C1uJmB9",
        "outputId": "833489b4-4547-47fd-a8a8-e71b357dc8e6",
        "colab": {
          "base_uri": "https://localhost:8080/",
          "height": 384
        }
      },
      "id": "VxnT-C1uJmB9",
      "execution_count": 21,
      "outputs": [
        {
          "output_type": "execute_result",
          "data": {
            "text/plain": [
              "([], [])"
            ]
          },
          "metadata": {},
          "execution_count": 21
        },
        {
          "output_type": "display_data",
          "data": {
            "text/plain": [
              "<Figure size 1500x400 with 1 Axes>"
            ],
            "image/png": "[encoded data removed]"
          },
          "metadata": {}
        }
      ]
    },
    {
      "cell_type": "code",
      "source": [
        "# from pandas.core.internals.managers import create_block_manager_from_arrays\n",
        "v_dend = complex_v.as_numpy()\n",
        "time_index_for_rest=int((tau_calc_start-300)/dt) # cell will return to rest during the pause between current injections\n",
        "time_index_for_final=int((tau_calc_start+600)/dt) #cell will reach a new equilibrium voltage during the injection\n",
        "\n",
        "v_rest = v_dend[time_index_for_rest]\n",
        "print('v_rest:',v_rest)\n",
        "v_final = v_dend[time_index_for_final]\n",
        "print('v_final:', v_final)\n",
        "\n",
        "#calculate time constant from v_rest and v_final\n",
        "calc = v_rest -((v_rest - v_final) * 0.638)\n",
        "print('v_tau:',calc)\n",
        "\n",
        "#find where tau occurs\n",
        "i = int(tau_calc_start/dt) # start time index = start_time/dt\n",
        "init_i=i\n",
        "while v_dend[i] > calc:\n",
        "  i = i + 1\n",
        "\n",
        "print('v at tic:',v_dend[i])\n",
        "\n",
        "\n",
        "timeAtV = i*dt\n",
        "print('timeAtV:', timeAtV)\n",
        "print('timestep where tau occurs:', i)\n",
        "time_to_reach_tau = timeAtV - tau_calc_start\n",
        "time_in_seconds = time_to_reach_tau/1000\n",
        "\n",
        "print('tau:',time_to_reach_tau,'(ms)')\n",
        "print('tau:',time_in_seconds,'(s)')\n",
        "\n",
        "\n",
        "deltaV = (v_rest - v_final)\n",
        "deltaI = (0 - (-100))\n",
        "dVdI = deltaV / (deltaI /1000)\n",
        "\n",
        "print('Input Resistance(dVdI):',dVdI,'MOhms')\n",
        "\n",
        "complex_cell_input_resistance_inMOhms=dVdI\n",
        "complex_cell_tau_in_ms=time_to_reach_tau"
      ],
      "metadata": {
        "id": "y7c7mwjyWvY6",
        "outputId": "8a3cd3d5-4561-4aae-bb23-5e466855f426",
        "colab": {
          "base_uri": "https://localhost:8080/"
        }
      },
      "id": "y7c7mwjyWvY6",
      "execution_count": 22,
      "outputs": [
        {
          "output_type": "stream",
          "name": "stdout",
          "text": [
            "v_rest: -77.32567346926201\n",
            "v_final: -81.16452666600065\n",
            "v_tau: -79.77486180878127\n",
            "v at tic: -79.78089947440179\n",
            "timeAtV: 5009.5\n",
            "timestep where tau occurs: 50095\n",
            "tau: 9.5 (ms)\n",
            "tau: 0.0095 (s)\n",
            "Input Resistance(dVdI): 38.3885319673864 MOhms\n"
          ]
        }
      ]
    },
    {
      "cell_type": "code",
      "source": [
        "plt.figure(figsize=(15,4))\n",
        "plt.plot(np.arange(0,((h.tstop)+.1),.1),v_dend,color='r')\n",
        "plt.hlines(-65,0,tstop, color = 'grey', linestyle = 'dashed')\n",
        "plt.hlines(-40,0,tstop, color = 'grey', linestyle = 'dashed')\n",
        "plt.hlines(0,0,tstop, color = 'grey', linestyle = 'dashed')\n",
        "plt.vlines(150,50,-100, color = 'grey', linestyle = 'dashed')\n",
        "plt.vlines(i/10,50,-100, color = 'grey', linestyle = 'dashed')\n",
        "plt.text(2,3,'0 mV')\n",
        "plt.hlines(-10,50,70)\n",
        "plt.vlines(50,-10,0)\n",
        "plt.text(50,-15,'10 ms')\n",
        "plt.text(2,-5,'10 mV')\n",
        "plt.text(2,-37,'-40 mV')\n",
        "plt.text(2,-62,'-65 mV')\n",
        "plt.title('Soma Voltage')\n",
        "plt.box(False)\n",
        "plt.xticks([])\n",
        "plt.yticks([])"
      ],
      "metadata": {
        "id": "AibdNwcMWzAM",
        "outputId": "fe1d8c3a-5006-41df-9693-064f0b908254",
        "colab": {
          "base_uri": "https://localhost:8080/",
          "height": 384
        }
      },
      "id": "AibdNwcMWzAM",
      "execution_count": 23,
      "outputs": [
        {
          "output_type": "execute_result",
          "data": {
            "text/plain": [
              "([], [])"
            ]
          },
          "metadata": {},
          "execution_count": 23
        },
        {
          "output_type": "display_data",
          "data": {
            "text/plain": [
              "<Figure size 1500x400 with 1 Axes>"
            ],
            "image/png": "[encoded data removed]"
          },
          "metadata": {}
        }
      ]
    },
    {
      "cell_type": "code",
      "source": [
        "input_resistance_error=complex_cell_input_resistance_inMOhms-reduced_cell_input_resistance_inMOhms\n",
        "tau_error=complex_cell_tau_in_ms-reduced_cell_tau_in_ms\n",
        "\n",
        "input_resistance_relative_error=input_resistance_error/complex_cell_input_resistance_inMOhms\n",
        "tau_relative_error=tau_error/complex_cell_tau_in_ms\n",
        "\n",
        "print('Complex Cell Input Resistance: ',complex_cell_input_resistance_inMOhms, 'MOhms')\n",
        "print('Reduced Cell Input Resistance: ',reduced_cell_input_resistance_inMOhms, 'MOhms')\n",
        "print()\n",
        "print('Complex Cell Time Constant: ',complex_cell_tau_in_ms, '(ms)')\n",
        "print('Reduced Cell Time Constant: ',reduced_cell_tau_in_ms, '(ms)')\n",
        "print()\n",
        "print('Cell Input Resistance Error due to Model Reduction: ',input_resistance_error, 'MOhms')\n",
        "print('Cell Time Constant Error due to Model Reduction: ',tau_error, '(ms)')\n",
        "print()\n",
        "print('Cell Input Resistance Relative Error due to Model Reduction: ',input_resistance_relative_error*100, '%')\n",
        "print('Cell Time Constant Relative Error due to Model Reduction: ',tau_relative_error*100, '%')\n"
      ],
      "metadata": {
        "id": "f4jN8e9W0c4_",
        "outputId": "30bac4f7-8f92-4163-a088-1a83b4cbde75",
        "colab": {
          "base_uri": "https://localhost:8080/"
        }
      },
      "id": "f4jN8e9W0c4_",
      "execution_count": 29,
      "outputs": [
        {
          "output_type": "stream",
          "name": "stdout",
          "text": [
            "Complex Cell Input Resistance:  38.3885319673864 MOhms\n",
            "Reduced Cell Input Resistance:  42.11169001277284 MOhms\n",
            "\n",
            "Complex Cell Time Constant:  9.5 (ms)\n",
            "Reduced Cell Time Constant:  9.400000000000546 (ms)\n",
            "\n",
            "Cell Input Resistance Error due to Model Reduction:  -3.723158045386441 MOhms\n",
            "Cell Time Constant Error due to Model Reduction:  0.0999999999994543 (ms)\n",
            "\n",
            "Cell Input Resistance Relative Error due to Model Reduction:  -9.698620537376918 %\n",
            "Cell Time Constant Relative Error due to Model Reduction:  1.0526315789416243 %\n"
          ]
        }
      ]
    },
    {
      "cell_type": "code",
      "source": [
        "print(np.array(cell.spikes)[cell.spikes<3000])"
      ],
      "metadata": {
        "id": "XVcup_0StPPw",
        "outputId": "30ac7774-b35f-4cde-af5c-c35e99d65bd5",
        "colab": {
          "base_uri": "https://localhost:8080/"
        }
      },
      "id": "XVcup_0StPPw",
      "execution_count": 38,
      "outputs": [
        {
          "output_type": "stream",
          "name": "stdout",
          "text": [
            "[[2344.6        3278.         3300.7        3349.7        3496.5\n",
            "  3659.3        3816.60000001 3972.50000001]]\n"
          ]
        }
      ]
    },
    {
      "cell_type": "code",
      "source": [
        "np.where(spikes<3000)"
      ],
      "metadata": {
        "id": "lEdE6R9n4prJ",
        "outputId": "12ae47e8-ecc8-4d7a-ce49-25f422b5c9c6",
        "colab": {
          "base_uri": "https://localhost:8080/",
          "height": 167
        }
      },
      "id": "lEdE6R9n4prJ",
      "execution_count": 36,
      "outputs": [
        {
          "output_type": "error",
          "ename": "TypeError",
          "evalue": "ignored",
          "traceback": [
            "\u001b[0;31m---------------------------------------------------------------------------\u001b[0m",
            "\u001b[0;31mTypeError\u001b[0m                                 Traceback (most recent call last)",
            "\u001b[0;32m<ipython-input-36-0103f3ff74d0>\u001b[0m in \u001b[0;36m<cell line: 1>\u001b[0;34m()\u001b[0m\n\u001b[0;32m----> 1\u001b[0;31m \u001b[0mnp\u001b[0m\u001b[0;34m.\u001b[0m\u001b[0mwhere\u001b[0m\u001b[0;34m(\u001b[0m\u001b[0mspikes\u001b[0m\u001b[0;34m<\u001b[0m\u001b[0;36m3000\u001b[0m\u001b[0;34m)\u001b[0m\u001b[0;34m\u001b[0m\u001b[0;34m\u001b[0m\u001b[0m\n\u001b[0m",
            "\u001b[0;31mTypeError\u001b[0m: '<' not supported between instances of 'list' and 'int'"
          ]
        }
      ]
    },
    {
      "cell_type": "code",
      "source": [
        "for i in range(len(cell.spikes)):\n",
        "  print(cell.spikes[i])\n"
      ],
      "metadata": {
        "id": "zGK_WGB01oab",
        "outputId": "38405185-0377-4c1c-a6c3-c2f20e61ceea",
        "colab": {
          "base_uri": "https://localhost:8080/"
        }
      },
      "id": "zGK_WGB01oab",
      "execution_count": 27,
      "outputs": [
        {
          "output_type": "stream",
          "name": "stdout",
          "text": [
            "2344.599999999864\n",
            "3278.0000000032596\n",
            "3300.700000003342\n",
            "3349.7000000035205\n",
            "3496.5000000040545\n",
            "3659.300000004647\n",
            "3816.600000005219\n",
            "3972.500000005786\n"
          ]
        }
      ]
    },
    {
      "cell_type": "code",
      "source": [
        "# possible implementation for plotting F/I Curve\n",
        "spikes = np.array(cell.spikes)\n",
        "\n",
        "print(len(spikes))\n",
        "\n",
        "HzAt100Pa = len(spikes[spikes < 1000])*1.3333\n",
        "HzAt200Pa = len(spikes[(spikes > 1000) & (spikes < 2000)])*1.3333\n",
        "HzAt300Pa = len(spikes[(spikes > 2000) & (spikes < 3000)])*1.3333\n",
        "HzAt400Pa = len(spikes[spikes > 3000])*1.3333\n",
        "\n",
        "\n",
        "\n",
        "\n",
        "pA = [100,200,300,400]\n",
        "Hz = [HzAt100Pa,HzAt200Pa,HzAt300Pa,HzAt400Pa]\n",
        "\n",
        "\n",
        "plt.figure(figsize=(7,8))\n",
        "ax = plt.plot(pA,Hz)\n",
        "plt.title('New model F-I curve')\n",
        "plt.xlabel('Current Injection (pA)')\n",
        "plt.ylabel('Firing Rate (Hz)')\n",
        "plt.savefig('FI_curve.png')\n",
        "plt.show()"
      ],
      "metadata": {
        "id": "RQFDFpnzhsDT",
        "outputId": "2d1c7e60-360b-4a66-86f4-eb4db59726de",
        "colab": {
          "base_uri": "https://localhost:8080/",
          "height": 735
        }
      },
      "id": "RQFDFpnzhsDT",
      "execution_count": 37,
      "outputs": [
        {
          "output_type": "stream",
          "name": "stdout",
          "text": [
            "8\n"
          ]
        },
        {
          "output_type": "display_data",
          "data": {
            "text/plain": [
              "<Figure size 700x800 with 1 Axes>"
            ],
            "image/png": "[encoded data removed]"
          },
          "metadata": {}
        }
      ]
    },
    {
      "cell_type": "code",
      "source": [
        "# possible implementation for plotting F/I Curve\n",
        "spikes = np.array(original_model.spikes)\n",
        "\n",
        "print(len(spikes))\n",
        "\n",
        "HzAt100Pa = len(spikes[spikes < 1000])*1.3333\n",
        "HzAt200Pa = len(spikes[(spikes > 1000) & (spikes < 2000)])*1.3333\n",
        "HzAt300Pa = len(spikes[(spikes > 2000) & (spikes < 3000)])*1.3333\n",
        "HzAt400Pa = len(spikes[spikes > 3000])*1.3333\n",
        "\n",
        "\n",
        "\n",
        "\n",
        "pA = [100,200,300,400]\n",
        "Hz = [HzAt100Pa,HzAt200Pa,HzAt300Pa,HzAt400Pa]\n",
        "\n",
        "\n",
        "plt.figure(figsize=(7,8))\n",
        "ax = plt.plot(pA,Hz)\n",
        "plt.title('Original model F-I curve')\n",
        "plt.xlabel('Current Injection (pA)')\n",
        "plt.ylabel('Firing Rate (Hz)')\n",
        "plt.savefig('FI_curve.png')\n",
        "plt.show()"
      ],
      "metadata": {
        "id": "fot5KdlX5PQs",
        "outputId": "d758513d-e544-4f45-fb20-a9e77b2b0597",
        "colab": {
          "base_uri": "https://localhost:8080/",
          "height": 735
        }
      },
      "id": "fot5KdlX5PQs",
      "execution_count": 40,
      "outputs": [
        {
          "output_type": "stream",
          "name": "stdout",
          "text": [
            "4\n"
          ]
        },
        {
          "output_type": "display_data",
          "data": {
            "text/plain": [
              "<Figure size 700x800 with 1 Axes>"
            ],
            "image/png": "[encoded data removed]"
          },
          "metadata": {}
        }
      ]
    }
  ],
  "metadata": {
    "colab": {
      "provenance": [],
      "include_colab_link": true
    },
    "kernelspec": {
      "display_name": "Python 3 (ipykernel)",
      "language": "python",
      "name": "python3"
    },
    "language_info": {
      "codemirror_mode": {
        "name": "ipython",
        "version": 3
      },
      "file_extension": ".py",
      "mimetype": "text/x-python",
      "name": "python",
      "nbconvert_exporter": "python",
      "pygments_lexer": "ipython3",
      "version": "3.9.12"
    }
  },
  "nbformat": 4,
  "nbformat_minor": 5
}