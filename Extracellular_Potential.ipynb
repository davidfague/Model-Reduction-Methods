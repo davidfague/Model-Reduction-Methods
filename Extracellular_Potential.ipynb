{
  "cells": [
    {
      "cell_type": "markdown",
      "metadata": {
        "id": "view-in-github",
        "colab_type": "text"
      },
      "source": [
        "<a href=\"https://colab.research.google.com/github/davidfague/Model_Reduction_Methods/blob/main/Extracellular_Potential.ipynb\" target=\"_parent\"><img src=\"https://colab.research.google.com/assets/colab-badge.svg\" alt=\"Open In Colab\"/></a>"
      ]
    },
    {
      "cell_type": "markdown",
      "id": "7a9de89f",
      "metadata": {
        "id": "7a9de89f"
      },
      "source": [
        "# Stylized Single Cell and Extracellular Potential"
      ]
    },
    {
      "cell_type": "markdown",
      "id": "MSX7LmGzszzf",
      "metadata": {
        "id": "MSX7LmGzszzf"
      },
      "source": [
        "#### Download modules from Github"
      ]
    },
    {
      "cell_type": "code",
      "source": [
        "!pip install neuron"
      ],
      "metadata": {
        "id": "-urE9jrxNdxm",
        "colab": {
          "base_uri": "https://localhost:8080/"
        },
        "outputId": "9c448ee7-7c2f-4dea-d4b1-7467b6c4c68f"
      },
      "id": "-urE9jrxNdxm",
      "execution_count": 1,
      "outputs": [
        {
          "output_type": "stream",
          "name": "stdout",
          "text": [
            "Looking in indexes: https://pypi.org/simple, https://us-python.pkg.dev/colab-wheels/public/simple/\n",
            "Collecting neuron\n",
            "  Downloading NEURON-8.2.2-cp39-cp39-manylinux_2_17_x86_64.manylinux2014_x86_64.whl (15.0 MB)\n",
            "\u001b[2K     \u001b[90m━━━━━━━━━━━━━━━━━━━━━━━━━━━━━━━━━━━━━━━━\u001b[0m \u001b[32m15.0/15.0 MB\u001b[0m \u001b[31m25.6 MB/s\u001b[0m eta \u001b[36m0:00:00\u001b[0m\n",
            "\u001b[?25hRequirement already satisfied: numpy>=1.9.3 in /usr/local/lib/python3.9/dist-packages (from neuron) (1.22.4)\n",
            "Installing collected packages: neuron\n",
            "Successfully installed neuron-8.2.2\n"
          ]
        }
      ]
    },
    {
      "cell_type": "code",
      "source": [
        "!pip install neuron_reduce"
      ],
      "metadata": {
        "id": "BHjnRgPsN0g2",
        "colab": {
          "base_uri": "https://localhost:8080/"
        },
        "outputId": "f545e37d-0f08-45e7-ce76-25f0c96b7fb8"
      },
      "id": "BHjnRgPsN0g2",
      "execution_count": 2,
      "outputs": [
        {
          "output_type": "stream",
          "name": "stdout",
          "text": [
            "Looking in indexes: https://pypi.org/simple, https://us-python.pkg.dev/colab-wheels/public/simple/\n",
            "Collecting neuron_reduce\n",
            "  Downloading neuron_reduce-0.0.7-py3-none-any.whl (18 kB)\n",
            "Installing collected packages: neuron_reduce\n",
            "Successfully installed neuron_reduce-0.0.7\n"
          ]
        }
      ]
    },
    {
      "cell_type": "code",
      "source": [
        "!git clone https://github.com/davidfague/Model_Reduction_Methods.git"
      ],
      "metadata": {
        "id": "t4dVzA0WLZ9F",
        "colab": {
          "base_uri": "https://localhost:8080/"
        },
        "outputId": "0a480332-3357-4098-805c-dd1a3bcc2310"
      },
      "id": "t4dVzA0WLZ9F",
      "execution_count": 3,
      "outputs": [
        {
          "output_type": "stream",
          "name": "stdout",
          "text": [
            "Cloning into 'Model_Reduction_Methods'...\n",
            "remote: Enumerating objects: 485, done.\u001b[K\n",
            "remote: Counting objects: 100% (171/171), done.\u001b[K\n",
            "remote: Compressing objects: 100% (86/86), done.\u001b[K\n",
            "remote: Total 485 (delta 98), reused 145 (delta 85), pack-reused 314\u001b[K\n",
            "Receiving objects: 100% (485/485), 4.51 MiB | 16.04 MiB/s, done.\n",
            "Resolving deltas: 100% (249/249), done.\n"
          ]
        }
      ]
    },
    {
      "cell_type": "code",
      "source": [
        "%cd Model_Reduction_Methods/\n",
        "\n",
        "#import reduction and expansion functions\n",
        "from test_neuron_reduce.subtree_reductor_func import subtree_reductor\n",
        "from cable_expander_func import cable_expander\n",
        "\n",
        "#import recording functions\n",
        "from stylized_module.recorder import Recorder\n",
        "\n",
        "#import analysis functions\n",
        "from utils import make_seg_df,generate_stylized_geometry,make_reduced_seg_df,plot_morphology,check_connectivity,generate_reduced_cell_seg_coords, create_seg_var_report\n",
        "\n",
        "import pandas as pd"
      ],
      "metadata": {
        "id": "cY9U_KPwLVAz",
        "colab": {
          "base_uri": "https://localhost:8080/"
        },
        "outputId": "d4fd50c8-9a43-4b76-afde-5e938da2b1a6"
      },
      "id": "cY9U_KPwLVAz",
      "execution_count": 4,
      "outputs": [
        {
          "output_type": "stream",
          "name": "stdout",
          "text": [
            "/content/Model_Reduction_Methods\n"
          ]
        }
      ]
    },
    {
      "cell_type": "code",
      "source": [
        "%cd expand_example"
      ],
      "metadata": {
        "id": "vXTRrX-ILq6D",
        "colab": {
          "base_uri": "https://localhost:8080/"
        },
        "outputId": "9cbe1b48-5e5b-4c5a-9598-392f93a20715"
      },
      "id": "vXTRrX-ILq6D",
      "execution_count": 5,
      "outputs": [
        {
          "output_type": "stream",
          "name": "stdout",
          "text": [
            "/content/Model_Reduction_Methods/expand_example\n"
          ]
        }
      ]
    },
    {
      "cell_type": "code",
      "source": [
        "# compile the mod files\n",
        "!nrnivmodl mod"
      ],
      "metadata": {
        "id": "Dm-MdGeb6uZB",
        "colab": {
          "base_uri": "https://localhost:8080/"
        },
        "outputId": "1cdc6c0f-cf5d-4ead-ff71-797484a521f3"
      },
      "id": "Dm-MdGeb6uZB",
      "execution_count": 6,
      "outputs": [
        {
          "output_type": "stream",
          "name": "stdout",
          "text": [
            "/content/Model_Reduction_Methods/expand_example\n",
            "Mod files: \"mod/mod/CaDynamics_E2.mod\" \"mod/mod/Ca_HVA.mod\" \"mod/mod/Ca_LVAst.mod\" \"mod/mod/epsp.mod\" \"mod/mod/Ih.mod\" \"mod/mod/Im.mod\" \"mod/mod/K_Pst.mod\" \"mod/mod/K_Tst.mod\" \"mod/mod/Nap_Et2.mod\" \"mod/mod/NaTa_t.mod\" \"mod/mod/NaTs2_t.mod\" \"mod/mod/SK_E2.mod\" \"mod/mod/SKv3_1.mod\"\n",
            "\n",
            "Creating 'x86_64' directory for .o files.\n",
            "\n",
            " -> \u001b[32mNMODL\u001b[0m ../mod/CaDynamics_E2.mod\n",
            " -> \u001b[32mCompiling\u001b[0m mod_func.cpp\n",
            " -> \u001b[32mNMODL\u001b[0m ../mod/Ca_HVA.mod\n",
            " -> \u001b[32mNMODL\u001b[0m ../mod/Ca_LVAst.mod\n",
            "Translating CaDynamics_E2.mod into /content/Model_Reduction_Methods/expand_example/x86_64/CaDynamics_E2.c\n",
            "Translating Ca_HVA.mod into /content/Model_Reduction_Methods/expand_example/x86_64/Ca_HVA.c\n",
            "Thread Safe\n",
            " -> \u001b[32mNMODL\u001b[0m ../mod/epsp.mod\n",
            "Thread Safe\n",
            "Translating Ca_LVAst.mod into /content/Model_Reduction_Methods/expand_example/x86_64/Ca_LVAst.c\n",
            " -> \u001b[32mNMODL\u001b[0m ../mod/Ih.mod\n",
            "Thread Safe\n",
            "Translating epsp.mod into /content/Model_Reduction_Methods/expand_example/x86_64/epsp.c\n",
            " -> \u001b[32mNMODL\u001b[0m ../mod/Im.mod\n",
            "Thread Safe\n",
            "Translating Ih.mod into /content/Model_Reduction_Methods/expand_example/x86_64/Ih.c\n",
            "Thread Safe\n",
            " -> \u001b[32mNMODL\u001b[0m ../mod/K_Pst.mod\n",
            " -> \u001b[32mNMODL\u001b[0m ../mod/K_Tst.mod\n",
            "Translating Im.mod into /content/Model_Reduction_Methods/expand_example/x86_64/Im.c\n",
            "Thread Safe\n",
            " -> \u001b[32mNMODL\u001b[0m ../mod/Nap_Et2.mod\n",
            "Translating K_Pst.mod into /content/Model_Reduction_Methods/expand_example/x86_64/K_Pst.c\n",
            "Translating K_Tst.mod into /content/Model_Reduction_Methods/expand_example/x86_64/K_Tst.c\n",
            "Translating Nap_Et2.mod into /content/Model_Reduction_Methods/expand_example/x86_64/Nap_Et2.c\n",
            "Thread Safe\n",
            "Thread Safe\n",
            " -> \u001b[32mNMODL\u001b[0m ../mod/NaTa_t.mod\n",
            "Thread Safe\n",
            " -> \u001b[32mNMODL\u001b[0m ../mod/NaTs2_t.mod\n",
            "Translating NaTa_t.mod into /content/Model_Reduction_Methods/expand_example/x86_64/NaTa_t.c\n",
            "Thread Safe\n",
            "Translating NaTs2_t.mod into /content/Model_Reduction_Methods/expand_example/x86_64/NaTs2_t.c\n",
            " -> \u001b[32mNMODL\u001b[0m ../mod/SK_E2.mod\n",
            " -> \u001b[32mNMODL\u001b[0m ../mod/SKv3_1.mod\n",
            "Thread Safe\n",
            " -> \u001b[32mCompiling\u001b[0m CaDynamics_E2.c\n",
            "Translating SK_E2.mod into /content/Model_Reduction_Methods/expand_example/x86_64/SK_E2.c\n",
            "Thread Safe\n",
            "Translating SKv3_1.mod into /content/Model_Reduction_Methods/expand_example/x86_64/SKv3_1.c\n",
            " -> \u001b[32mCompiling\u001b[0m Ca_HVA.c\n",
            "Thread Safe\n",
            " -> \u001b[32mCompiling\u001b[0m Ca_LVAst.c\n",
            " -> \u001b[32mCompiling\u001b[0m epsp.c\n",
            " -> \u001b[32mCompiling\u001b[0m Ih.c\n",
            " -> \u001b[32mCompiling\u001b[0m Im.c\n",
            " -> \u001b[32mCompiling\u001b[0m K_Pst.c\n",
            " -> \u001b[32mCompiling\u001b[0m K_Tst.c\n",
            " -> \u001b[32mCompiling\u001b[0m Nap_Et2.c\n",
            " -> \u001b[32mCompiling\u001b[0m NaTa_t.c\n",
            " -> \u001b[32mCompiling\u001b[0m NaTs2_t.c\n",
            " -> \u001b[32mCompiling\u001b[0m SK_E2.c\n",
            " -> \u001b[32mCompiling\u001b[0m SKv3_1.c\n",
            " => \u001b[32mLINKING\u001b[0m shared library ./libnrnmech.so\n",
            " => \u001b[32mLINKING\u001b[0m executable ./special LDFLAGS are:    -pthread\n",
            "Successfully created x86_64/special\n"
          ]
        }
      ]
    },
    {
      "cell_type": "markdown",
      "id": "2a84fbea",
      "metadata": {
        "id": "2a84fbea"
      },
      "source": [
        "## Setup smiulation parameters"
      ]
    },
    {
      "cell_type": "code",
      "execution_count": 7,
      "id": "4be7f6fd",
      "metadata": {
        "id": "4be7f6fd",
        "colab": {
          "base_uri": "https://localhost:8080/"
        },
        "outputId": "7e92ab37-ea93-4e8c-83d3-471307e0443f"
      },
      "outputs": [
        {
          "output_type": "execute_result",
          "data": {
            "text/plain": [
              "1.0"
            ]
          },
          "metadata": {},
          "execution_count": 7
        }
      ],
      "source": [
        "import numpy as np\n",
        "import pandas as pd\n",
        "import json\n",
        "import matplotlib.pyplot as plt\n",
        "import ipywidgets as widgets\n",
        "from neuron import h\n",
        "from scipy import signal\n",
        "from IPython.display import display, clear_output\n",
        "from ipywidgets import interactive_output, HBox, VBox, Label, Layout\n",
        "\n",
        "from __future__ import division\n",
        "from neuron import gui,h\n",
        "import numpy as np\n",
        "import time\n",
        "import matplotlib.pyplot as plt\n",
        "\n",
        "%matplotlib inline\n",
        "\n",
        "\n",
        "h.load_file('stdrun.hoc')\n",
        "# h.nrn_load_dll(paths.COMPILED_LIBRARY_REDUCED_ORDER)  # choose the set of mechanisms\n",
        "h.nrn_load_dll('./x86_64/.libs/libnrnmech.so')\n"
      ]
    },
    {
      "cell_type": "markdown",
      "id": "7927a07b",
      "metadata": {
        "id": "7927a07b"
      },
      "source": [
        "### Create a cell with reduced morphology"
      ]
    },
    {
      "cell_type": "code",
      "source": [
        "%ls"
      ],
      "metadata": {
        "id": "s0gis1f1OdWX",
        "colab": {
          "base_uri": "https://localhost:8080/"
        },
        "outputId": "fbd745d6-9ed3-4e98-8af5-ea895294e1a1"
      },
      "id": "s0gis1f1OdWX",
      "execution_count": 8,
      "outputs": [
        {
          "output_type": "stream",
          "name": "stdout",
          "text": [
            "cell1.asc  example_expand.py  L5PCtemplate.hoc  \u001b[0m\u001b[01;34mx86_64\u001b[0m/\n",
            "Cell.hoc   L5PCbiophys3.hoc   \u001b[01;34mmod\u001b[0m/\n"
          ]
        }
      ]
    },
    {
      "cell_type": "code",
      "source": [
        "from abc import ABC, abstractmethod\n",
        "class PointCurrent(ABC):\n",
        "    \"\"\"A module for current point process\"\"\"\n",
        "\n",
        "    def __init__(self, cell, sec_index, loc=0.5):\n",
        "        \"\"\"\n",
        "        cell: target cell object\n",
        "        sec_index: index of the target section in the section list\n",
        "        loc: location on a section, between [0,1]\n",
        "        \"\"\"\n",
        "        self.cell = cell\n",
        "        self.sec_index = sec_index\n",
        "        self.loc = loc\n",
        "        self.pp_obj = None  # point process object\n",
        "        self.rec_vec = None  # vector for recording\n",
        "\n",
        "    @abstractmethod\n",
        "    def setup(self, record: bool = None) -> None:\n",
        "        pass\n",
        "\n",
        "    def setup_recorder(self):\n",
        "        size = [round(h.tstop / h.dt) + 1] if hasattr(h, 'tstop') else []\n",
        "        self.rec_vec = h.Vector(*size).record(self.pp_obj._ref_i)\n",
        "\n",
        "    def get_section(self) -> h.Section:\n",
        "        return self.cell.all[self.sec_index]\n",
        "\n",
        "    def get_segment(self):\n",
        "        return self.pp_obj.get_segment()\n",
        "\n",
        "    def get_segment_id(self) -> int:\n",
        "        \"\"\"Get the index of the injection target segment in the segment list\"\"\"\n",
        "        iseg = int(self.get_segment().x * self.get_section().nseg)\n",
        "        return self.cell.sec_id_in_seg[self.sec_index] + iseg\n"
      ],
      "metadata": {
        "id": "pqECeUrwUfCi"
      },
      "id": "pqECeUrwUfCi",
      "execution_count": 9,
      "outputs": []
    },
    {
      "cell_type": "code",
      "source": [
        "class Synapse(PointCurrent):\n",
        "    def __init__(self, cell, stim: h.NetStim, sec_index: int,\n",
        "                  syn_type: str = 'Exp2Syn', gmax: float = 0.01, loc: float = 0.5,\n",
        "                  record: bool = False):\n",
        "        super().__init__(cell, sec_index, loc)\n",
        "        self.stim = stim\n",
        "        self.gmax = gmax\n",
        "        self.__synapse_type(syn_type)\n",
        "        self.setup(record)\n",
        "\n",
        "    # PRIVATE METHODS\n",
        "    def __synapse_type(self, syn_type):\n",
        "        if syn_type == 'AlphaSynapse1':\n",
        "            # Reversal potential (mV); Synapse time constant (ms)\n",
        "            self.syn_params = {'e': 0., 'tau': 2.0}\n",
        "            # Variable name of maximum conductance (uS)\n",
        "            self.gmax_var = 'gmax'\n",
        "        elif syn_type == 'Exp2Syn':\n",
        "            self.syn_params = {'e': 0., 'tau1': 1.0, 'tau2': 3.0}\n",
        "            self.gmax_var = '_nc_weight'\n",
        "        else:\n",
        "            raise ValueError(\"Synpase type not defined.\")\n",
        "        self.syn_type = syn_type\n",
        "        self.pp_obj = getattr(h, syn_type)(self.get_section()(self.loc))\n",
        "\n",
        "    def __setup_synapse(self):\n",
        "        self.syn = self.pp_obj\n",
        "        self.nc = h.NetCon(self.stim, self.syn, 1, 0, 1)\n",
        "        for key, value in self.syn_params.items():\n",
        "            setattr(self.syn, key, value)\n",
        "        self.set_gmax()\n",
        "\n",
        "    # PUBLIC METHODS\n",
        "    def setup(self, record: bool = False):\n",
        "        self.__setup_synapse()\n",
        "        if record:\n",
        "            self.setup_recorder()\n",
        "    \n",
        "    def set_gmax(self, gmax: float = None):\n",
        "        if gmax is not None:\n",
        "            self.gmax = gmax\n",
        "        if self.gmax_var == '_nc_weight':\n",
        "            self.nc.weight[0] = self.gmax\n",
        "        else:\n",
        "            setattr(self.syn, self.gmax_var, self.gmax)"
      ],
      "metadata": {
        "id": "8TE_op1mUTii"
      },
      "id": "8TE_op1mUTii",
      "execution_count": 10,
      "outputs": []
    },
    {
      "cell_type": "code",
      "source": [
        "from typing import Optional, Union, List\n",
        "import math\n",
        "from typing import Optional, Union, List\n",
        "import math\n",
        "class cell_model():\n",
        "  '''expanded cell model class for ECP calculation\n",
        "  takes cell model and does bookkeeping for analysis functions\n",
        "  '''\n",
        "  def __init__(self,model,synapses_list=None,netcons_list=None,gen_3d=True,spike_threshold: Optional[float] = None):\n",
        "    self.all=model.all\n",
        "    self.soma=model.soma\n",
        "    self.apic=model.apic\n",
        "    self.dend=model.dend\n",
        "    self.axon=model.axon\n",
        "    #convert nrn section lists to python lists if applicable\n",
        "    self.all=self.convert_sectionlist(sectionlist=self.all)\n",
        "    self.soma=self.convert_sectionlist(sectionlist=self.soma, return_singles=True) #if sectionlist contains only one section returns just the section instead of list of sections\n",
        "    self.dend=self.convert_sectionlist(sectionlist=self.dend)\n",
        "    self.apic=self.convert_sectionlist(sectionlist=self.apic)\n",
        "    self.axon=self.convert_sectionlist(sectionlist=self.axon)\n",
        "    self.spike_threshold = spike_threshold\n",
        "    self.synapses_list=synapses_list #list of synapse objects from model reduction\n",
        "    self.netcons_list=netcons_list # list of netcon objects from model reduction\n",
        "    self.segments=[] # list for nrn segment objects\n",
        "    self.injection=[] # list of injection objects\n",
        "    self.synapse=[] # list of python synapse class objects\n",
        "    self.sec_id_lookup = {}  # dictionary from section type id to section index\n",
        "    self.sec_id_in_seg = []  # index of the first segment of each section in the segment list\n",
        "    self.sec_angs = [] # list of angles that were used to branch the cell\n",
        "    self.sec_rots = []\n",
        "    if gen_3d==True:\n",
        "      self.generate_sec_coords()\n",
        "    self.__store_segments()\n",
        "    self.__set_spike_recorder()\n",
        "    if self.apic[2].n3d()==2: #calc_seg_coords only works for cell with sections that only have two 3d coordinates. #detailed cell has too many 3d coordinates\n",
        "      self.__calc_seg_coords()\n",
        "    self.__store_synapses_list() #store and record synapses from the synapses_list used to initialize the cell\n",
        "    self.grp_ids = []\n",
        "    self.generate_geometry_file()\n",
        "\n",
        "  def __calc_seg_coords(self):\n",
        "    \"\"\"Calculate segment coordinates for ECP calculation\"\"\"\n",
        "    p0 = np.empty((self._nseg, 3))\n",
        "    p1 = np.empty((self._nseg, 3))\n",
        "    p05 = np.empty((self._nseg, 3))\n",
        "    r = np.empty(self._nseg)\n",
        "    for isec, sec in enumerate(self.all):\n",
        "        iseg = self.sec_id_in_seg[isec]\n",
        "        nseg = sec.nseg\n",
        "        pt0 = np.array([sec.x3d(0), sec.y3d(0), sec.z3d(0)])\n",
        "        pt1 = np.array([sec.x3d(1), sec.y3d(1), sec.z3d(1)])\n",
        "        pts = np.linspace(pt0, pt1, 2 * nseg + 1)\n",
        "        p0[iseg:iseg + nseg, :] = pts[:-2:2, :]\n",
        "        p1[iseg:iseg + nseg, :] = pts[2::2, :]\n",
        "        p05[iseg:iseg + nseg, :] = pts[1:-1:2, :]\n",
        "        r[iseg:iseg + nseg] = sec.diam / 2\n",
        "    self.seg_coords = {'dl': p1 - p0, 'pc': p05, 'r': r}\n",
        "\n",
        "  def __store_segments(self):\n",
        "    self.segments = []\n",
        "    self.sec_id_in_seg = []\n",
        "    nseg = 0\n",
        "    for sec in self.all:\n",
        "        self.sec_id_in_seg.append(nseg)\n",
        "        nseg += sec.nseg\n",
        "        for seg in sec:\n",
        "            self.segments.append(seg)\n",
        "            self.__store_point_processes(seg)\n",
        "    self._nseg = nseg\n",
        "\n",
        "  def __store_point_processes(self,seg):\n",
        "    for pp in seg.point_processes():\n",
        "        self.injection.append(pp)\n",
        "\n",
        "  def __set_spike_recorder(self, threshold: Optional = None):\n",
        "      if threshold is not None:\n",
        "          self.spike_threshold = threshold\n",
        "      if self.spike_threshold is None:\n",
        "          self.spikes = None\n",
        "      else:\n",
        "          vec = h.Vector()\n",
        "          nc = h.NetCon(self.soma(0.5)._ref_v, None, sec=self.soma)\n",
        "          nc.threshold = self.spike_threshold\n",
        "          nc.record(vec)\n",
        "          self.spikes = vec\n",
        "\n",
        "  def add_injection(self, sec_index, **kwargs):\n",
        "        \"\"\"Add current injection to a section by its index\"\"\"\n",
        "        self.injection.append(CurrentInjection(self, sec_index, **kwargs))\n",
        "\n",
        "  def add_synapse(self, stim: h.NetStim, sec_index: int, **kwargs):\n",
        "        \"\"\"Add synapse to a section by its index\"\"\"\n",
        "        new_syn=Synapse(self, stim, sec_index, **kwargs)\n",
        "        self.netcons_list.append(new_syn.nc)\n",
        "        self.synapse.append(new_syn)\n",
        "\n",
        "  def generate_sec_coords(self):\n",
        "      '''\n",
        "      Note: need to improve branching so that it is random direction in a quadrant of a sphere rather than x-y plane\n",
        "      takes a cell that has no n3d() coordinates and gives new coordinates\n",
        "      by choosing an arbitrary direction for the subtree to move\n",
        "      '''\n",
        "      section_obj_list= self.all\n",
        "      # print(section_obj_list)\n",
        "      axial=False\n",
        "      parent_sections=[] #list for already seen parent_sections of this type\n",
        "      for sec in section_obj_list:\n",
        "        sec_length=sec.L\n",
        "        if sec is self.soma:\n",
        "          self.sec_angs.append(0)\n",
        "          self.sec_rots.append(0)\n",
        "          # pt0 = [0., -1 * sec.diam, 0.] #does not seem to preserve soma shape , but need to make sure soma children begin at correct 3d coordinate.\n",
        "          # pt1 = [0., 0., 0.]\n",
        "          # sec.pt3dclear()\n",
        "          # sec.pt3dadd(*pt0, sec.diam)\n",
        "          # sec.pt3dadd(*pt1, sec.diam)\n",
        "          if sec.nseg != 1:\n",
        "            print('Changing soma nseg from',sec.nseg,'to 1')\n",
        "            sec.nseg = 1\n",
        "        else:\n",
        "          if sec.parentseg() is not None:\n",
        "            psec=sec.parentseg().sec\n",
        "            if (psec in self.apic) and (psec is not self.apic[0]): # branch\n",
        "              # print('branch')\n",
        "              nbranch = len(psec.children())\n",
        "            else:\n",
        "              nbranch=1\n",
        "          else:\n",
        "            psec=None # may need to provide more implementation in the case of no 3d coords and no parent section.\n",
        "            nbranch=1\n",
        "\n",
        "          # rot = 2 * math.pi/nbranch\n",
        "          rot=np.random.uniform(low=0,high=2*np.pi)# rot can be used to uniformly rotate branches if i=parent_sections.count(psec) and rot = 2 * math.pi/nbranch\n",
        "\n",
        "          i=1 #i can be used to uniformly rotate the sections if rot = 2 * math.pi/nbranch and i=parent_sections.count(psec)\n",
        "          # if nbranch==1:\n",
        "          #   i=1\n",
        "          # else:\n",
        "          #   i=parent_sections.count(psec)\n",
        "\n",
        "          parent_sections.append(psec)\n",
        "          # print(\"sec: \",sec, \"|nbranch: \",nbranch,\"|i: ,\",i,\"|parent_sections:\",parent_sections)\n",
        "          length=sec.L\n",
        "          diameter=sec.diam\n",
        "          fullsecname = sec.name()\n",
        "          # print(fullsecname)\n",
        "          sec_type = fullsecname.split(\".\")[1][:4]\n",
        "          # print(sec_type)\n",
        "          if sec_type == \"apic\":\n",
        "            if sec==self.apic[0]: # trunk\n",
        "              ang=1.570796327\n",
        "            else:\n",
        "              # ang=np.random.uniform(low=0,high=np.pi) #branches\n",
        "              ang=np.random.normal(loc=np.pi/2,scale=0.5)\n",
        "          elif sec_type==\"dend\":\n",
        "            # ang=-np.random.uniform(low=0,high=np.pi)\n",
        "            ang=-np.random.normal(loc=np.pi/2,scale=0.5)\n",
        "          elif sec_type==\"axon\":\n",
        "            ang=-1.570796327\n",
        "          else:\n",
        "            print(sec,sec_type,' is not apic, dend or axon')\n",
        "            ang=0\n",
        "          if axial == True:\n",
        "            x = 0\n",
        "            y = length*((ang>=0)*2-1)\n",
        "          else:\n",
        "            x = length * math.cos(ang)\n",
        "            y = length * math.sin(ang)\n",
        "          self.sec_angs.append(ang)\n",
        "          self.sec_rots.append(i*rot)\n",
        "          #find starting position #need to update to use parent segment coordinates instead of using first section coordinate\n",
        "          pt0 = [psec.x3d(1), psec.y3d(1), psec.z3d(1)]\n",
        "          pt1 = [0., 0., 0.]\n",
        "          pt1[1] = pt0[1] + y\n",
        "          pt1[0] = pt0[0] + x * math.cos(i * rot)\n",
        "          pt1[2] = pt0[2] + x * math.sin(i * rot)\n",
        "          # print(sec,i*rot)\n",
        "          sec.pt3dclear()\n",
        "          sec.pt3dadd(*pt0, sec.diam)\n",
        "          sec.pt3dadd(*pt1, sec.diam)\n",
        "        if int(sec.L) != int(sec_length):\n",
        "          print('Error: generation of 3D coordinates resulted in change of section length for',sec,'from',sec_length,'to',sec.L)\n",
        "\n",
        "  def generate_geometry_file(self):\n",
        "    '''\n",
        "    generates geometry file specifying name, pid, ang, radius, length, type\n",
        "    work in progress\n",
        "    '''\n",
        "    df = pd.DataFrame()\n",
        "    ids=[]\n",
        "    names=[]\n",
        "    types=[]\n",
        "    pids=[]\n",
        "    axials=[]\n",
        "    nbranchs=[]\n",
        "    Ls=[]\n",
        "    Rs=[]\n",
        "    angs=self.sec_angs\n",
        "    rots=self.sec_rots\n",
        "    for sec in self.all:\n",
        "      # print(dir(sec))\n",
        "      name=sec.name()\n",
        "      # print(name)\n",
        "      names.append(name)\n",
        "      ids.append(names.index(name))\n",
        "      _,sec_type_withinteger=name.split('.')\n",
        "      sec_type,_=sec_type_withinteger.split('[')\n",
        "      types.append(sec_type)\n",
        "      pseg = sec.parentseg()\n",
        "      if pseg == None:\n",
        "        pids.append(None)\n",
        "      else:\n",
        "        psec=pseg.sec\n",
        "        px3d=psec.x3d\n",
        "        pids.append(int(names.index(psec.name())))\n",
        "      # axials.append('TRUE')\n",
        "      # nbranchs.append(1)\n",
        "      Ls.append(sec.L)\n",
        "      # print(dir(sec))\n",
        "      Rs.append(sec.diam/2)\n",
        "    df['id']=ids\n",
        "    df['name']=names\n",
        "    df['pid']=pids\n",
        "    df['type']=types\n",
        "    df['L']=Ls\n",
        "    df['R']=Rs\n",
        "    df['ang']=angs\n",
        "    df['rot']=rots\n",
        "    # df['axials']=axials # may need to fix\n",
        "    # df['nbranch']=nbranchs # may need to fix\n",
        "    self.geometry=df\n",
        "\n",
        "  def convert_sectionlist(self,sectionlist,return_singles=False):\n",
        "    '''\n",
        "    convert nrn sectionlist objects to python list\n",
        "    return_singles set to true will return section instead of [section] for lists with only one section\n",
        "    '''\n",
        "    new_sectionlist=[]\n",
        "    if str(type(sectionlist)) == \"<class 'hoc.HocObject'>\":\n",
        "      for sec in sectionlist:\n",
        "        new_sectionlist.append(sec)\n",
        "    else:\n",
        "      new_sectionlist=sectionlist\n",
        "    if return_singles==True:\n",
        "      if str(type(new_sectionlist))!=\"<class 'nrn.Section'>\":\n",
        "        if len(new_sectionlist)==1:\n",
        "          new_sectionlist=new_sectionlist[0]\n",
        "    return new_sectionlist\n",
        "\n",
        "  def __store_synapses_list(self):\n",
        "    '''\n",
        "    store and record synapses from the list from model reduction algorithm\n",
        "    '''\n",
        "    temp_list=[] # generate temp list that has each netcon's synapse obj\n",
        "    for netcon in self.netcons_list:\n",
        "      syn=netcon.syn()\n",
        "      if syn in self.synapses_list:\n",
        "        syn_seg_id=self.segments.index(netcon.syn().get_segment())\n",
        "        if syn in self.segments[syn_seg_id].point_processes():\n",
        "          temp_list.append(syn)\n",
        "        else:\n",
        "          temp_list.append(None)\n",
        "          print(\"Warning: synapse not in designated segment's point processes\")\n",
        "\n",
        "      else:\n",
        "        temp_list.append(None)\n",
        "        print(\"Warning: potentially deleted synapse:\",\"|NetCon obj:\",netcon,\"|Synapse obj:\",syn,\"the NetCon's synapse is not in synapses_list. Check corresponding original cell's NetCon for location, etc.\")\n",
        "    # now use temp list to assign each synapse its netcons\n",
        "    for synapse in synapses_list:\n",
        "      synapse_netcons=[]\n",
        "      if synapse in temp_list:\n",
        "        num_netcons=temp_list.count(synapse)\n",
        "        START=0\n",
        "        for i in range(num_netcons):\n",
        "          netcon_id=temp_list.index(synapse,START) #get all the netcon indices that are pointed toward this synapse # use np.where() instead of index() to return multiple indices.\n",
        "          START=netcon_id+1\n",
        "          synapse_netcons.append(self.netcons_list[netcon_id])\n",
        "        self.synapse.append(Listed_Synapse(synapse,synapse_netcons)) #record synapse and add to the list\n",
        "      else:\n",
        "        print('Warning: Synapse not in temp_list.')"
      ],
      "metadata": {
        "id": "ZS3X-yZr-4kV"
      },
      "id": "ZS3X-yZr-4kV",
      "execution_count": 11,
      "outputs": []
    },
    {
      "cell_type": "code",
      "source": [
        "from typing import Tuple\n",
        "from scipy.spatial.transform import Rotation\n",
        "def move_position(translate: Union[List[float],Tuple[float],np.ndarray],\n",
        "                  rotate: Union[List[float],Tuple[float],np.ndarray],\n",
        "                  old_position: Optional[Union[List[float], np.ndarray]] = None,\n",
        "                  move_frame: bool = False) -> np.ndarray:\n",
        "    \"\"\"\n",
        "    Rotate and translate an object with old_position and calculate its new coordinates.\n",
        "    Rotate(alpha, h, phi): first rotate alpha about the y-axis (spin),\n",
        "    then rotate arccos(h) about the x-axis (elevation),\n",
        "    then rotate phi about the y-axis (azimuth).\n",
        "    Finally translate the object by translate(x, y, z).\n",
        "    If move_frame is True, use the object as reference frame and move the\n",
        "    old reference frame, calculate new coordinates of the old_position.\n",
        "    \"\"\"\n",
        "    translate = np.asarray(translate)\n",
        "    if old_position is None:\n",
        "        old_position = [0., 0., 0.]\n",
        "    old_position = np.asarray(old_position)\n",
        "    rot = Rotation.from_euler('yxy', [rotate[0], np.arccos(rotate[1]), rotate[2]])\n",
        "    if move_frame:\n",
        "        new_position = rot.inv().apply(old_position - translate)\n",
        "    else:\n",
        "        new_position = rot.apply(old_position) + translate\n",
        "    return new_position"
      ],
      "metadata": {
        "id": "aN0Tgvb0ayXJ"
      },
      "id": "aN0Tgvb0ayXJ",
      "execution_count": 12,
      "outputs": []
    },
    {
      "cell_type": "code",
      "execution_count": 13,
      "id": "18a97eeb",
      "metadata": {
        "id": "18a97eeb",
        "colab": {
          "base_uri": "https://localhost:8080/"
        },
        "outputId": "9af32708-4147-4d23-dc06-d359e3faa621"
      },
      "outputs": [
        {
          "output_type": "stream",
          "name": "stdout",
          "text": [
            "trunk_diam: 3.7176523208618155 |trunk_length: 698.0975964944687 |branch_diam: 1.475351301247016 |branch_length: 1081.9141048660235\n"
          ]
        }
      ],
      "source": [
        "\n",
        "# # Load biophysical parameters from a json file\n",
        "# filepath = os.path.join(paths.RESOURCES_ROOT, 'biophys_parameters/ReducedOrderL5_passive.json')\n",
        "# with open(filepath) as f:\n",
        "#     biophys_param = json.load(f)\n",
        "# for genome in biophys_param['genome']:\n",
        "#     if genome['value'] != \"\": genome['value'] = float(genome['value'])\n",
        "\n",
        "h.load_file('L5PCbiophys3.hoc')\n",
        "\n",
        "# # Load morphology parameters from a csv file\n",
        "# geometry = pd.read_csv(paths.GEO_REDUCED_ORDER, index_col='id')\n",
        "h.load_file(\"import3d.hoc\")\n",
        "\n",
        "\n",
        "# Create a cell object\n",
        "# cell = ReducedOrderL5CellPassiveDendrite(geometry=geometry, full_biophys=biophys_param)\n",
        "h.load_file('L5PCtemplate.hoc')\n",
        "complex_cell = h.L5PCtemplate('cell1.asc')\n",
        "h.celsius = 37\n",
        "h.v_init = complex_cell.soma[0].e_pas\n",
        "\n",
        "synapses_list=[]\n",
        "netcons_list=[]\n",
        "\n",
        "#reduce dendritic trees to cables\n",
        "reduced_cell, synapses_list, netcons_list, txt = subtree_reductor(complex_cell, synapses_list, netcons_list, reduction_frequency=0,return_seg_to_seg=True)\n",
        "\n",
        "# print('reduced cell n3d')\n",
        "# for sec in reduced_cell.dend:\n",
        "#   print(sec,sec.n3d())\n",
        "\n",
        "#expand cables to idealized dendritic trees\n",
        "sections_to_expand = [reduced_cell.hoc_model.apic[0]]\n",
        "furcations_x=[0.289004]\n",
        "nbranches=[4]\n",
        "reduced_dendritic_cell, synapses_list, netcons_list, txt = cable_expander(reduced_cell, sections_to_expand, furcations_x, nbranches, \n",
        "                                                                          synapses_list, netcons_list, reduction_frequency=0,return_seg_to_seg=True)\n",
        "# print('dendritic cell n3d')\n",
        "# for sec in reduced_dendritic_cell.all:\n",
        "#   print(sec, sec.n3d())"
      ]
    },
    {
      "cell_type": "code",
      "source": [
        "# try to fix dendrite's beginning location by looking at soma 3d coordinates:\n",
        "for sec in [reduced_dendritic_cell.soma]:\n",
        "  for i in range(sec.n3d()):\n",
        "    print(sec.x3d(i),sec.y3d(i),sec.z3d(i))\n",
        "\n",
        "#soma has many 3d coordinates and current implementation begins dendrites at 3dcoordinates[1]"
      ],
      "metadata": {
        "id": "1loNS7qGmRQ1",
        "outputId": "c64ce342-0428-43f1-acb1-705a55fc3d03",
        "colab": {
          "base_uri": "https://localhost:8080/"
        }
      },
      "id": "1loNS7qGmRQ1",
      "execution_count": 14,
      "outputs": [
        {
          "output_type": "stream",
          "name": "stdout",
          "text": [
            "34.16338348388672 17.62152671813965 -50.25\n",
            "35.31959915161133 17.693740844726562 -50.25\n",
            "36.4758186340332 17.76595687866211 -50.25\n",
            "37.63203430175781 17.838171005249023 -50.25\n",
            "38.78825378417969 17.91038703918457 -50.25\n",
            "39.9444694519043 17.982601165771484 -50.25\n",
            "41.100685119628906 18.05481719970703 -50.25\n",
            "42.25690460205078 18.127031326293945 -50.25\n",
            "43.41312026977539 18.199247360229492 -50.25\n",
            "44.569339752197266 18.27146339416504 -50.25\n",
            "45.725555419921875 18.343677520751953 -50.25\n",
            "46.88177490234375 18.4158935546875 -50.25\n",
            "48.03799057006836 18.488107681274414 -50.25\n",
            "49.194210052490234 18.56032371520996 -50.25\n",
            "50.350425720214844 18.632539749145508 -50.25\n",
            "51.50664520263672 18.704753875732422 -50.25\n",
            "52.66286087036133 18.77696990966797 -50.25\n",
            "53.8190803527832 18.849185943603516 -50.25\n",
            "54.97529602050781 18.92140007019043 -50.25\n",
            "56.13151550292969 18.993614196777344 -50.25\n",
            "57.2877311706543 19.06583023071289 -50.25\n"
          ]
        }
      ]
    },
    {
      "cell_type": "code",
      "source": [
        "import random\n",
        "#use defined cell_model class for generating 3d coordinates, recording ECP, 'book-keeping' etc...\n",
        "random.seed(2)\n",
        "cell = cell_model(reduced_dendritic_cell,synapses_list=synapses_list,netcons_list=netcons_list,spike_threshold = 10)\n",
        "# cell._nbranch=4\n",
        "cell._nbranch=4\n",
        "\n",
        "# Create synaptic input\n",
        "stim = h.NetStim()\n",
        "frequency=15 #(hz)\n",
        "spikeinterval = (1/frequency)*1000 #convert to T and milliseconds\n",
        "stim.interval=spikeinterval\n",
        "print(str(stim.interval))\n",
        "stim.number = 3  # only one event\n",
        "stim.start = 2.0  # delay (ms)\n",
        "\n",
        "gmax = 1  # default synapse maximum conductance (uS)\n",
        "# Add synapse to soma\n",
        "cell.add_synapse(stim, sec_index=0, gmax=gmax)\n",
        "# Add synapse to apical tufts\n",
        "for i,sec in enumerate(cell.apic):\n",
        "    cell.add_synapse(stim, sec_index=cell.all.index(sec), gmax=gmax / cell._nbranch) # need to adjust to only tufts"
      ],
      "metadata": {
        "colab": {
          "base_uri": "https://localhost:8080/"
        },
        "id": "rSTUwzTfqEX2",
        "outputId": "352c60c3-4e5f-43b2-f724-462b45d63c8e"
      },
      "id": "rSTUwzTfqEX2",
      "execution_count": 15,
      "outputs": [
        {
          "output_type": "stream",
          "name": "stdout",
          "text": [
            "66.66666666666667\n"
          ]
        }
      ]
    },
    {
      "cell_type": "code",
      "source": [
        "# # compare \n",
        "# for sec in cell.all:\n",
        "#   for i in range(sec.n3d()):\n",
        "#     print(sec.x3d(i))"
      ],
      "metadata": {
        "id": "4QUvM0h7JzFG"
      },
      "id": "4QUvM0h7JzFG",
      "execution_count": 16,
      "outputs": []
    },
    {
      "cell_type": "code",
      "source": [
        "# print(cell.seg_coords['pc'][0])"
      ],
      "metadata": {
        "id": "gE3JYuFhM1_6"
      },
      "id": "gE3JYuFhM1_6",
      "execution_count": 17,
      "outputs": []
    },
    {
      "cell_type": "code",
      "source": [
        "# dir(cell)"
      ],
      "metadata": {
        "id": "akYHQOGDKiW5"
      },
      "id": "akYHQOGDKiW5",
      "execution_count": 18,
      "outputs": []
    },
    {
      "cell_type": "code",
      "source": [
        "make_reduced_seg_df(cell,\"segments_expanded.csv\") #need to improve make_reduced_seg_df\n",
        "expanded_segments_df=pd.read_csv(\"segments_expanded.csv\")\n",
        "plot_morphology(expanded_segments_df,\"expanded_morphology.svg\")"
      ],
      "metadata": {
        "colab": {
          "base_uri": "https://localhost:8080/",
          "height": 830
        },
        "id": "-ZwVHxQl5gLh",
        "outputId": "addca934-b1b1-4aad-9747-0fea5600a75c"
      },
      "id": "-ZwVHxQl5gLh",
      "execution_count": 19,
      "outputs": [
        {
          "output_type": "display_data",
          "data": {
            "text/plain": [
              "<Figure size 400x1000 with 1 Axes>"
            ],
            "image/png": "[encoded data removed]"
          },
          "metadata": {}
        }
      ]
    },
    {
      "cell_type": "code",
      "source": [
        "import os\n",
        "\n",
        "RunningInCOLAB = 'google.colab' in str(get_ipython())\n",
        "if RunningInCOLAB:\n",
        "    !pip install neuron==8.0.0 &> /dev/null\n",
        "    os.chdir('/content')\n",
        "    if not os.path.isdir('Stylized-Single-Cell-and-Extracellular-Potential'):\n",
        "        !git clone https://github.com/chenziao/Stylized-Single-Cell-and-Extracellular-Potential.git &> /dev/null \n",
        "    os.chdir('Stylized-Single-Cell-and-Extracellular-Potential')\n",
        "    %ls"
      ],
      "metadata": {
        "id": "D6vyubrwOvA_",
        "colab": {
          "base_uri": "https://localhost:8080/"
        },
        "outputId": "1cfef902-87f4-48d3-ddcd-37b42fb5752d"
      },
      "id": "D6vyubrwOvA_",
      "execution_count": 20,
      "outputs": [
        {
          "output_type": "stream",
          "name": "stdout",
          "text": [
            "\u001b[0m\u001b[01;34mcell_inference\u001b[0m/  Stylized_Single_Cell_Extracellular_Potential_Tutorial.ipynb\n"
          ]
        }
      ]
    },
    {
      "cell_type": "code",
      "source": [
        "from cell_inference.config import params, paths\n",
        "from cell_inference.cells.activecell_axon import ReducedOrderL5Cell, ReducedOrderL5CellPassiveDendrite\n",
        "from cell_inference.utils.currents.ecp import EcpMod\n",
        "from cell_inference.utils.currents.recorder import Recorder\n",
        "from cell_inference.utils.plotting.plot_morphology import plot_morphology\n",
        "from cell_inference.utils.plotting.plot_results import plot_lfp_heatmap, plot_lfp_traces\n",
        "from cell_inference.utils.plotting.plot_variable_with_morphology import plot_variable_with_morphology\n",
        "from cell_inference.utils.metrics.measure_segment_distance import measure_segment_distance"
      ],
      "metadata": {
        "id": "X7p40K3RO1RQ"
      },
      "id": "X7p40K3RO1RQ",
      "execution_count": 21,
      "outputs": []
    },
    {
      "cell_type": "code",
      "source": [
        "h.dt = params.DT  # time step\n",
        "h.steps_per_ms = 1/h.dt\n",
        "h.tstop = params.TSTOP  # simulation stop time\n",
        "\n",
        "# Record time points\n",
        "t_vec = h.Vector(round(h.tstop / h.dt) + 1).record(h._ref_t)\n",
        "\n",
        "# Record membrane voltage of all segments\n",
        "V_rec = Recorder(cell.segments)"
      ],
      "metadata": {
        "id": "m_npKvVUO4JD"
      },
      "id": "m_npKvVUO4JD",
      "execution_count": 22,
      "outputs": []
    },
    {
      "cell_type": "markdown",
      "id": "22d6f6e6",
      "metadata": {
        "id": "22d6f6e6"
      },
      "source": [
        "### Add electrodes (Neuropixel)\n",
        "A probe with 384 electrodes [https://www.neuropixels.org/probe](https://www.neuropixels.org/probe). The coordinates of each electrode is a row in the array printed below."
      ]
    },
    {
      "cell_type": "code",
      "execution_count": 23,
      "id": "8fdb0017",
      "metadata": {
        "id": "8fdb0017",
        "colab": {
          "base_uri": "https://localhost:8080/"
        },
        "outputId": "2d3e1680-32c1-4a60-ef3d-ce36f0cb69e5"
      },
      "outputs": [
        {
          "output_type": "stream",
          "name": "stdout",
          "text": [
            "(384, 3)\n",
            "[[   -8. -1910.     0.]\n",
            " [   24. -1910.     0.]\n",
            " [  -24. -1890.     0.]\n",
            " ...\n",
            " [   24.  1890.     0.]\n",
            " [  -24.  1910.     0.]\n",
            " [    8.  1910.     0.]]\n"
          ]
        }
      ],
      "source": [
        "elec_pos = params.ELECTRODE_POSITION\n",
        "ecp = EcpMod(cell, elec_pos, min_distance=params.MIN_DISTANCE)  # create an ECP object for extracellular potential\n",
        "\n",
        "# coordinates (x, y, z) of electrodes\n",
        "print(params.ELECTRODE_POSITION.shape)\n",
        "print(params.ELECTRODE_POSITION)"
      ]
    },
    {
      "cell_type": "markdown",
      "id": "c5323608",
      "metadata": {
        "id": "c5323608"
      },
      "source": [
        "## Custom settings\n",
        "\n",
        "Using the interactive tools below, you can change the position of the cell, and change the synapse strength and location on the cell.\n",
        "\n",
        "#### Cell position parameters (x, y, z, alpha, h, phi)\n",
        "Starting with soma at the origin, apical dendrite along y-axis, rotate and translate the cell to the desired position determined by 6 parameters. First, rotate alpha about the y-axis (spin), then rotate beta=arccos(h) about the x-axis (elevation), then rotate phi about the y-axis (azimuth). Finally translate the cell by (x,y,z).\n",
        "\n",
        "Use the sliders to change the 6 position parameters. Use the sliders 'elev' and 'azim' to change view of the 3D plot."
      ]
    },
    {
      "cell_type": "code",
      "execution_count": 24,
      "id": "a3df63ce",
      "metadata": {
        "id": "a3df63ce",
        "colab": {
          "base_uri": "https://localhost:8080/",
          "height": 813,
          "referenced_widgets": [
            "6458fb8b7d4443dab906d1e151ae81ff",
            "f3d3e62ef9d045bfb2375647bd9c5a12",
            "ec2d572e613646a68d5c308993799e98",
            "55c62cae6e2f4847a2346e802d2e8840",
            "ef40792b30ad48b2b475c8ffeca3faa7",
            "401cb48fb9ed4ac3a5e39401955231c5",
            "47bd59903f894151a8de11294725cc00",
            "8cab490e6a9c4facb0b6b1810ccde6de",
            "d8a1c0d524b049df822eb1694d2ffe7a",
            "86671b8080c04d968ee249571a63ff8a",
            "f8b0a44236994dc6b954cceeb13f4801",
            "59bd9007ebac44b4acda14b8c7857dff",
            "4cbffdbc9b414edbad26330062305aee",
            "780383a6270a41339d7f46acd59f5c3c",
            "850d7203113f41e1be6ce295f2a0af53",
            "1146f446e74c4a24b59eeecee6e119c2",
            "903d169dc32f477b8285467966a1609d",
            "7cf8272728104d64955341912d96eb1f",
            "54d73e45505c4fc1b94cd6409bb1be4e",
            "2b981bcbae614d4fb7a771bbedfa6f2a",
            "f5803129522c463aa71899ff9814b1d7",
            "eb84292c2868478981abbcd4338fdf26",
            "255c9537816e4eb1960a37d1f3eded70",
            "3160da86cc394a608e90ae678c3a23e1",
            "75b9abfe846f4354bf1d05d697de696b",
            "1c0da1cd307544cd93ca3df6d9c6dec7",
            "f297b4a7c1bb44afb36ba3d0aa022873",
            "83489f553d9840acac86ae73207567db",
            "705440ac2e0e455baa615910fb90db80",
            "739f526dd93f4c55927b0f37ed23e3aa",
            "5a875aa8ac1142cb992edd4b86d8f035",
            "47702afcffd341a6ac867677a4aecfc2",
            "b9142b8fbddd488bb33bc0ad9c33f0b8",
            "7c2e424d7d6447eb8265e15090e6975c",
            "92d9d88c37a342228345cde9f3dd956b",
            "6cafdc9135ed4bedbe94960d10fc8a8a",
            "6facf3f2827c499abc41a294be52d177",
            "9019728179d4479f9a4b5cd3b1b4481d",
            "33508d08c9884f0693238fd5c0cacccc",
            "4d40b628c1bd481692ac5ff9cc7ccb1a",
            "4bb0036d2b6d447694220a1277da334f"
          ]
        },
        "outputId": "77a51fbb-ea0f-4731-872e-d7bcfc953dd7"
      },
      "outputs": [
        {
          "output_type": "display_data",
          "data": {
            "text/plain": [
              "VBox(children=(Button(button_style='primary', description='Reset', icon='history', style=ButtonStyle()), HBox(…"
            ],
            "application/vnd.jupyter.widget-view+json": {
              "version_major": 2,
              "version_minor": 0,
              "model_id": "6458fb8b7d4443dab906d1e151ae81ff"
            }
          },
          "metadata": {}
        }
      ],
      "source": [
        "loc_param_default = [0., 0., 80., 0., 1., 0.]  # Default position parameters\n",
        "elev, azim = 10, 90  # Default view\n",
        "# clr = ['g', 'yellow', 'orange', 'red', 'b', 'c', 'g', 'yellow', 'orange', 'red', 'pink', 'purple']  # section color\n",
        "clr=[]\n",
        "clr.extend(['black' for i in range(len([cell.soma]))]) # soma color\n",
        "clr.extend(['red' for i in range(len(cell.dend))]) #dend colors\n",
        "clr.extend(['purple' for i  in range(len(cell.axon))]) # axon colors\n",
        "clr.extend(['blue']) #trunk color\n",
        "clr.extend(['green' for i in range(len(cell.apic)-1)])  # branch colors\n",
        "\n",
        "def interactive_plot(x, y, z, alpha, beta, phi, elev, azim):\n",
        "    global loc_param\n",
        "    loc_param = (x, y, z, np.pi/180*alpha, np.cos(np.pi/180*beta), np.pi/180*phi)\n",
        "    fig, ax = plot_morphology(cell=cell, electrodes=elec_pos, move_cell=loc_param,\n",
        "                    elev=-elev, azim=-azim, figsize=(12, 8), clr = clr)\n",
        "    plt.show()\n",
        "\n",
        "xslider = Layout(width='500px')\n",
        "yslider = Layout(height='350px')\n",
        "w_reset = widgets.Button(description='Reset', icon='history', button_style='primary')\n",
        "w_x = widgets.FloatSlider(value=loc_param_default[0], min=-200, max=200, step=1, description='x (um)', continuous_update=False, readout_format='.0f')\n",
        "w_y = widgets.FloatSlider(value=loc_param_default[1], min=-1000, max=1000, step=1, description='y (um)', continuous_update=False, readout_format='.0f')\n",
        "w_z = widgets.FloatSlider(value=loc_param_default[2], min=20, max=400, step=1, description='z (um)', continuous_update=False, readout_format='.0f')\n",
        "w_alpha = widgets.FloatSlider(value=180/np.pi*loc_param_default[3], min=-180, max=180, step=1, description='alpha (deg)', continuous_update=False, readout_format='.0f')\n",
        "w_beta = widgets.FloatSlider(value=180/np.pi*np.arccos(loc_param_default[4]), min=0, max=180, step=1, description='beta (deg)', continuous_update=False, readout_format='.0f')\n",
        "w_phi = widgets.FloatSlider(value=180/np.pi*loc_param_default[5], min=-180, max=180, step=1, description='phi (deg)', continuous_update=False, readout_format='.0f')\n",
        "w_elev = widgets.FloatSlider(value=-elev, min=-90, max=90, step=1, description='elev (deg)', continuous_update=False, readout_format='.0f', orientation='vertical', layout=yslider)\n",
        "w_azim = widgets.FloatSlider(value=-azim, min=-180, max=180, step=1, description='azim (deg)', continuous_update=False, readout_format='.0f', layout=xslider)\n",
        "\n",
        "def reset_default(*args):\n",
        "    w_x.value, w_y.value, w_z.value = loc_param_default[:3]\n",
        "    w_alpha.value = 180 / np.pi * loc_param_default[3]\n",
        "    w_beta.value = 180 / np.pi * np.arccos(loc_param_default[4])\n",
        "    w_phi.value = 180 / np.pi * loc_param_default[5]\n",
        "    w_elev.value, w_azim.value = -elev, -azim\n",
        "w_reset.on_click(reset_default)\n",
        "\n",
        "out = interactive_output(interactive_plot, {'x': w_x, 'y': w_y, 'z': w_z, 'alpha': w_alpha, 'beta': w_beta, 'phi': w_phi, 'elev': w_elev, 'azim': w_azim})\n",
        "ui = VBox([ w_reset, HBox([ VBox([w_x, w_y, w_z]), VBox([w_alpha, w_beta, w_phi]) ]), HBox([ VBox([out, w_azim]), w_elev]) ])\n",
        "\n",
        "display(ui)"
      ]
    },
    {
      "cell_type": "markdown",
      "source": [
        "set azim to -90 in order to focus on zy plane view. 2D plot is of xy plane."
      ],
      "metadata": {
        "id": "OPZrMhcBjnec"
      },
      "id": "OPZrMhcBjnec"
    },
    {
      "cell_type": "markdown",
      "id": "0d582310",
      "metadata": {
        "id": "0d582310"
      },
      "source": [
        "#### Set synaptic input\n",
        "\n",
        "Use the toggle button to switch synapse location between the soma and the proximal apical tuft dendrite. Use the slider 'Synapse maximal conductance' to change synapse strength."
      ]
    },
    {
      "cell_type": "code",
      "execution_count": 25,
      "id": "ce8d1856",
      "metadata": {
        "id": "ce8d1856",
        "colab": {
          "base_uri": "https://localhost:8080/",
          "height": 81,
          "referenced_widgets": [
            "2b2730026c49482da280c51a4423afe4",
            "9acc22fe25ff491381cc66712d617f42",
            "6d4f7cb119f7406a8232f4c796a49456",
            "166303b711cc41efb302b6b59f0889bf",
            "1cba5c3a466442d0aecc4f4cb55b2e86",
            "31f42feb9182459cb6726da0acf6488b",
            "03ef2d65ba474cf4a1f6799796224265",
            "d4d1a6d8cddc45ad9a0802d0c4dc0150",
            "28cefbf1a3634485841732bcf045e0b1",
            "e58a9cb66fd143b1bb39c31b58c0876d",
            "baa9bf4f66864cca8dba1b945c51ef27",
            "530161a3c58049909574ae108d4131db",
            "6817f5a09b6e4fecb44df8d2de4404e4"
          ]
        },
        "outputId": "97fd79c5-8261-4bc1-e8d3-f34f72ca5b54"
      },
      "outputs": [
        {
          "output_type": "display_data",
          "data": {
            "text/plain": [
              "VBox(children=(ToggleButtons(options=('Soma', 'Apical tuft (proximal)'), value='Soma'), HBox(children=(Label(v…"
            ],
            "application/vnd.jupyter.widget-view+json": {
              "version_major": 2,
              "version_minor": 0,
              "model_id": "2b2730026c49482da280c51a4423afe4"
            }
          },
          "metadata": {}
        }
      ],
      "source": [
        "w_syn_site = widgets.ToggleButtons(options=['Soma', 'Apical tuft (proximal)'])\n",
        "w_gmax = widgets.FloatSlider(value=gmax, min=0, max=0.1, step=0.0002, readout_format='.4f')\n",
        "display(VBox([w_syn_site, HBox([Label('Synapse maximal conductance (uS)'), w_gmax])]))\n",
        "\n",
        "def set_synapse():\n",
        "    soma_syn = w_syn_site.value == 'Soma'\n",
        "    gmax_soma = w_gmax.value if soma_syn else 0\n",
        "    gmax_tuft = 0 if soma_syn else w_gmax.value / cell._nbranch\n",
        "    cell.synapse[0].set_gmax(gmax_soma)\n",
        "    for syn in cell.synapse[1:]:\n",
        "        syn.set_gmax(gmax_tuft)"
      ]
    },
    {
      "cell_type": "code",
      "source": [
        "# try to extract syn and gmax for plot information\n",
        "print(w_gmax)\n",
        "print(w_syn_site)"
      ],
      "metadata": {
        "colab": {
          "base_uri": "https://localhost:8080/"
        },
        "id": "nqUJhNE_22Nn",
        "outputId": "4525c246-c22a-4c66-d2ab-adb12d223016"
      },
      "id": "nqUJhNE_22Nn",
      "execution_count": 26,
      "outputs": [
        {
          "output_type": "stream",
          "name": "stdout",
          "text": [
            "FloatSlider(value=0.1, max=0.1, readout_format='.4f', step=0.0002)\n",
            "ToggleButtons(options=('Soma', 'Apical tuft (proximal)'), value='Soma')\n"
          ]
        }
      ]
    },
    {
      "cell_type": "code",
      "source": [
        "nseg = len(cell.segments)\n",
        "numTstep = int(h.tstop/h.dt)\n",
        "#since synapse list has combined synapses for computational efficiency, we must use NetCon list/unique spike trains to determine how many synapses were mapped\n",
        "NetCon_per_seg=[0]*nseg\n",
        "inh_NetCon_per_seg=[0]*nseg\n",
        "exc_NetCon_per_seg=[0]*nseg\n",
        "\n",
        "i_NMDA_bySeg= [[0] * (numTstep+1) ] * nseg # need to implement inmda recording\n",
        "\n",
        "v_rest=-60 #choose v_rest for categorizing inh/exc synapses\n",
        "\n",
        "for netcon in cell.netcons_list:\n",
        "  syn=netcon.syn()\n",
        "  if syn in synapses_list:\n",
        "    syn_seg_id=cell.segments.index(netcon.syn().get_segment())\n",
        "    if syn in cell.segments[syn_seg_id].point_processes():\n",
        "      NetCon_per_seg[syn_seg_id]+=1 # get synapses per segment\n",
        "      # NetCon_per_seg[syn_seg_id].append(netcon) # possible implementation if needing objects per segment\n",
        "      if syn.e > v_rest:\n",
        "        exc_NetCon_per_seg[syn_seg_id]+=1\n",
        "        # exc_NetCon_per_seg[syn_seg_id].append(netcon)# possible implementation if needing objects per segment\n",
        "      else:\n",
        "        inh_NetCon_per_seg[syn_seg_id]+=1\n",
        "        # inh_NetCon_per_seg[syn_seg_id].append(netcon)# possible implementation if needing objects per segment\n",
        "    else:\n",
        "      print(\"Warning: synapse not in designated segment's point processes\")\n",
        "\n",
        "  else:\n",
        "    print(\"Warning: potentially deleted synapse:\",\"|NetCon obj:\",netcon,\"|Synapse obj:\",syn,\"the NetCon's synapse is not in synapses_list. Check corresponding original cell's NetCon for location, etc.\")\n",
        "\n",
        "#extract inmda from each segment # can be adjusted for gaba synapses or alpha synapses # only paired nmda/ampa synapses have vec_list[1]\n",
        "for synapse in cell.synapse:\n",
        "  try:\n",
        "    i_NMDA = np.array(synapse.rec_vec.vec_list[1])            #current = numpy array of NEURON Vector of current NMDA current at synapse j  \n",
        "    seg = synapse.get_segment_id()                            #seg = the segment in which synapse j is located \n",
        "    #print('first try')\n",
        "    \n",
        "    try:\n",
        "      i_NMDA_bySeg[seg] = i_NMDA_bySeg[seg] + i_NMDA    \n",
        "      #print('second try')                                           #Sum current over each segment\n",
        "    except: \n",
        "      pass                                                                   #Except needed as some synpases do not have NMDA currrent and throw an error when called\n",
        "  except:\n",
        "    pass"
      ],
      "metadata": {
        "colab": {
          "base_uri": "https://localhost:8080/"
        },
        "id": "-tri29bnwjC6",
        "outputId": "006b6c27-2c01-4bf5-8431-f52745c62444"
      },
      "id": "-tri29bnwjC6",
      "execution_count": 27,
      "outputs": [
        {
          "output_type": "stream",
          "name": "stdout",
          "text": [
            "Warning: potentially deleted synapse: |NetCon obj: NetCon[0] |Synapse obj: Exp2Syn[0] the NetCon's synapse is not in synapses_list. Check corresponding original cell's NetCon for location, etc.\n",
            "Warning: potentially deleted synapse: |NetCon obj: NetCon[1] |Synapse obj: Exp2Syn[1] the NetCon's synapse is not in synapses_list. Check corresponding original cell's NetCon for location, etc.\n",
            "Warning: potentially deleted synapse: |NetCon obj: NetCon[2] |Synapse obj: Exp2Syn[2] the NetCon's synapse is not in synapses_list. Check corresponding original cell's NetCon for location, etc.\n",
            "Warning: potentially deleted synapse: |NetCon obj: NetCon[3] |Synapse obj: Exp2Syn[3] the NetCon's synapse is not in synapses_list. Check corresponding original cell's NetCon for location, etc.\n",
            "Warning: potentially deleted synapse: |NetCon obj: NetCon[4] |Synapse obj: Exp2Syn[4] the NetCon's synapse is not in synapses_list. Check corresponding original cell's NetCon for location, etc.\n",
            "Warning: potentially deleted synapse: |NetCon obj: NetCon[5] |Synapse obj: Exp2Syn[5] the NetCon's synapse is not in synapses_list. Check corresponding original cell's NetCon for location, etc.\n"
          ]
        }
      ]
    },
    {
      "cell_type": "code",
      "source": [
        "%ls"
      ],
      "metadata": {
        "colab": {
          "base_uri": "https://localhost:8080/"
        },
        "id": "ynXvkXxb1dST",
        "outputId": "5c2393cf-2a64-4a57-ee46-91c1903e5546"
      },
      "id": "ynXvkXxb1dST",
      "execution_count": 28,
      "outputs": [
        {
          "output_type": "stream",
          "name": "stdout",
          "text": [
            "\u001b[0m\u001b[01;34mcell_inference\u001b[0m/  Stylized_Single_Cell_Extracellular_Potential_Tutorial.ipynb\n"
          ]
        }
      ]
    },
    {
      "cell_type": "code",
      "source": [
        "output_folder_name=str(nbranches[0])+\"nbranch_outputcontrol_\"+str(int(len(cell.synapse)))+\"nsyn\"#+modelname  #include model name in output foler name (ex. original cell, reduced cell, expanded cell)\n",
        "#create output folder\n",
        "import os\n",
        "if not os.path.exists(output_folder_name):\n",
        "   os.makedirs(output_folder_name)\n",
        "\n",
        "print(output_folder_name)\n",
        "os.chdir(output_folder_name)"
      ],
      "metadata": {
        "colab": {
          "base_uri": "https://localhost:8080/"
        },
        "id": "LeeK1qu11Zhv",
        "outputId": "d58aac12-9030-4152-ba62-e79966b98b8f"
      },
      "id": "LeeK1qu11Zhv",
      "execution_count": 29,
      "outputs": [
        {
          "output_type": "stream",
          "name": "stdout",
          "text": [
            "4nbranch_outputcontrol_6nsyn\n"
          ]
        }
      ]
    },
    {
      "cell_type": "code",
      "source": [
        "#save geometry file\n",
        "cell.geometry.to_csv('geometry.csv')"
      ],
      "metadata": {
        "id": "2dNBijayE1zu"
      },
      "id": "2dNBijayE1zu",
      "execution_count": 30,
      "outputs": []
    },
    {
      "cell_type": "code",
      "source": [
        "#Should add \"syn per seg\" to seg data frame #also can try doing SynPerSeg/segL to have more of a density metric\n",
        "#can adjust functions to take df arguement\n",
        "def plotSynDensity(SynPerSeg,Type=str):\n",
        "  plt.figure(figsize=(4,10))\n",
        "  ax = plt.scatter(expanded_segments_df[\"Coord X\"], expanded_segments_df[\"Coord Y\"],c = SynPerSeg[0:nseg],cmap='jet',)\n",
        "  plt.vlines(110,400,500)\n",
        "  plt.text(0,450,'100 um')\n",
        "  plt.hlines(400,110,210)\n",
        "  plt.text(110,350,'100 um')\n",
        "  plt.xticks([])\n",
        "  plt.yticks([])\n",
        "  cbar = plt.colorbar()\n",
        "  cbar.ax.set_ylabel(Type+'Synapses per segment', rotation=270)\n",
        "\n",
        "  plt.box(False)\n",
        "  plt.savefig(Type+'_syns.svg')\n",
        "\n",
        "def plotSynDensityNoSoma(SynPerSeg,Type=str):\n",
        "  plt.figure(figsize=(4,10))\n",
        "  ax = plt.scatter(expanded_segments_df[\"Coord X\"][1:], expanded_segments_df[\"Coord Y\"][1:],c = SynPerSeg[1:nseg],cmap='jet',)\n",
        "  plt.vlines(110,400,500)\n",
        "  plt.text(0,450,'100 um')\n",
        "  plt.hlines(400,110,210)\n",
        "  plt.text(110,350,'100 um')\n",
        "  plt.xticks([])\n",
        "  plt.yticks([])\n",
        "  cbar = plt.colorbar()\n",
        "  cbar.ax.set_ylabel(Type+'Synapses per segment', rotation=270)\n",
        "\n",
        "  plt.box(False)\n",
        "  plt.savefig(Type+'_syns.svg')\n",
        "\n",
        "plotSynDensity(exc_NetCon_per_seg,'Exc') #len(cell.segments) #low number of segments makes plot look odd."
      ],
      "metadata": {
        "colab": {
          "base_uri": "https://localhost:8080/",
          "height": 820
        },
        "id": "ZtC6mvhXwL-L",
        "outputId": "68c268b3-9b54-4b50-b7fb-ac05c8665d3d"
      },
      "id": "ZtC6mvhXwL-L",
      "execution_count": 31,
      "outputs": [
        {
          "output_type": "display_data",
          "data": {
            "text/plain": [
              "<Figure size 400x1000 with 2 Axes>"
            ],
            "image/png": "[encoded data removed]"
          },
          "metadata": {}
        }
      ]
    },
    {
      "cell_type": "code",
      "source": [
        "plotSynDensity(inh_NetCon_per_seg,'Inh') # if soma has too many inh synapses the heatmap is not as interpretable"
      ],
      "metadata": {
        "colab": {
          "base_uri": "https://localhost:8080/",
          "height": 820
        },
        "id": "AuPzXdSdwhme",
        "outputId": "3c182b09-5810-4020-848c-723d3718865b"
      },
      "id": "AuPzXdSdwhme",
      "execution_count": 32,
      "outputs": [
        {
          "output_type": "display_data",
          "data": {
            "text/plain": [
              "<Figure size 400x1000 with 2 Axes>"
            ],
            "image/png": "[encoded data removed]"
          },
          "metadata": {}
        }
      ]
    },
    {
      "cell_type": "markdown",
      "id": "2ca15375",
      "metadata": {
        "id": "2ca15375"
      },
      "source": [
        "## Run simulation and plot results\n",
        "\n",
        "Run the codes below to simulate and display results everytime after you change the parameters above."
      ]
    },
    {
      "cell_type": "code",
      "execution_count": 33,
      "id": "f81ec874",
      "metadata": {
        "id": "f81ec874",
        "colab": {
          "base_uri": "https://localhost:8080/",
          "height": 1000
        },
        "outputId": "59e63621-e96a-4c59-a73f-0994f063c253"
      },
      "outputs": [
        {
          "output_type": "display_data",
          "data": {
            "text/plain": [
              "<Figure size 1000x400 with 1 Axes>"
            ],
            "image/png": "[encoded data removed]"
          },
          "metadata": {}
        },
        {
          "output_type": "display_data",
          "data": {
            "text/plain": [
              "<Figure size 800x500 with 2 Axes>"
            ],
            "image/png": "[encoded data removed]"
          },
          "metadata": {}
        },
        {
          "output_type": "display_data",
          "data": {
            "text/plain": [
              "<Figure size 800x500 with 2 Axes>"
            ],
            "image/png": "[encoded data removed]"
          },
          "metadata": {}
        }
      ],
      "source": [
        "# Run simulation\n",
        "set_synapse()\n",
        "h.run()\n",
        "# Get results\n",
        "t = t_vec.as_numpy().copy()  # time array (ms)\n",
        "# soma membrane potential\n",
        "Vm = V_rec.as_numpy()\n",
        "v_soma = Vm[cell.sec_id_in_seg[cell.all.index(cell.soma)]]\n",
        "v_tfut = Vm[cell.sec_id_in_seg[cell.all.index(cell.apic[1])]]\n",
        "# lfp array\n",
        "lfp = ecp.calc_ecp(move_cell=loc_param).T  # unit: mV\n",
        "\n",
        "# Soma membrane potential\n",
        "plt.figure(figsize=(10, 4))\n",
        "plt.plot(t, v_soma, label='Soma')\n",
        "plt.plot(t, v_tfut, label='Tuft')\n",
        "plt.ylabel('Membrane potential (mV)')\n",
        "plt.xlabel('time (ms)')\n",
        "plt.xlim(t[[0, -1]])\n",
        "plt.legend()\n",
        "plt.savefig('Vm')\n",
        "\n",
        "# Extracellular potential along y-axis\n",
        "y_window = [-1200, 1200]  # select range of y coordinate for plotting\n",
        "ylim = loc_param[1] + np.array(y_window)  # set range of y coordinate\n",
        "max_idx = np.argmax(np.amax(np.abs(lfp), axis=0))  # find the electrode that records maximum magnitude\n",
        "x_dist = elec_pos[max_idx, 0]  # x coordinate of the maximum magnitude electrode\n",
        "e_idx = (elec_pos[:, 0]==x_dist) & (elec_pos[:, 1]>=ylim[0]) & (elec_pos[:, 1]<=ylim[1])  # selected electrode indices\n",
        "\n",
        "fontsize = 15\n",
        "labelpad = -10\n",
        "ticksize = 12\n",
        "tick_length = 5\n",
        "nbins = 5\n",
        "plt.figure(figsize=(8, 5))\n",
        "_ = plot_lfp_heatmap(t=t, elec_d=elec_pos[e_idx, 1], lfp=lfp[:, e_idx],\n",
        "                     fontsize=fontsize, labelpad=labelpad, ticksize=ticksize, tick_length=tick_length,\n",
        "                     nbins=nbins, vlim='auto', axes=plt.gca())\n",
        "plt.title('Extracellular potential heatmap')\n",
        "plt.savefig('ECP heatmap')\n",
        "plt.figure(figsize=(8, 5))\n",
        "_ = plot_lfp_traces(t, lfp[:, e_idx][:,1::3], electrodes=elec_pos[e_idx][1::3],\n",
        "                    fontsize=fontsize, labelpad=labelpad, ticksize=ticksize, tick_length=tick_length,\n",
        "                    nbins=nbins, axes=plt.gca())\n",
        "plt.title('Extracellular potential timecourse')\n",
        "plt.savefig('ECP timecourse')\n",
        "\n",
        "plt.show()"
      ]
    },
    {
      "cell_type": "markdown",
      "id": "5c3e3e52",
      "metadata": {
        "id": "5c3e3e52"
      },
      "source": [
        "## Electrotonic distance\n",
        "\n",
        "Neuron has a tool for electrotonic analysis [https://www.neuron.yale.edu/neuron/static/docs/zclass/zclass.html](https://www.neuron.yale.edu/neuron/static/docs/zclass/zclass.html). It computes the electrotonic distance defined by attenuation, but the classical definition is [anatomical distance/length constant](https://www.neuron.yale.edu/neuron/static/docs/zclass/NIPS94/nipsfin.html).\n",
        "\n",
        "The plot below shows the membrane potential timecourse at several locations on the cell. The electrotonic distance computed by Neuron of each location is also shown with both number and color. The distance should always be a positive value, but it is labeled negative for the basal dendrites and the axon intentionally so that it can be easily distinguished from the apical dendrites."
      ]
    },
    {
      "cell_type": "code",
      "source": [
        "# geometry=cell.geometry"
      ],
      "metadata": {
        "id": "cNsNKTKuB0XA"
      },
      "id": "cNsNKTKuB0XA",
      "execution_count": 34,
      "outputs": []
    },
    {
      "cell_type": "code",
      "execution_count": 35,
      "id": "729a65ff",
      "metadata": {
        "id": "729a65ff"
      },
      "outputs": [],
      "source": [
        "# for syn in cell.synapse:\n",
        "#     syn.set_gmax(0)\n",
        "# h.run()\n",
        "\n",
        "# sec_type_swc = {sec['name']: sec['type'] for _, sec in geometry.iterrows()}\n",
        "# # sec_type = [sec_type_swc[sec.name().split('.')[-1]] for sec in cell.all] # original\n",
        "# # sec_type = [sec_type_swc[sec.name().split('.')[-1].split('[')[0]] for sec in cell.all] # possible alternative?\n",
        "# sec_type = [sec_type_swc[sec.name()] for sec in cell.all]\n",
        "# freq = 0 # Hz\n",
        "# seg_prop, _, _ = measure_segment_distance(cell.soma , cell.all, sec_type, freq)\n",
        "\n",
        "# select_seg = [[cell.sec_id_in_seg[sec[0]], cell.get_sec_by_id(sec[0]).nseg -1] for sec in cell.sec_id_lookup.values()]\n",
        "# select_seg = np.sum(np.array(select_seg), axis=1)\n",
        "# # select_seg = np.unique(np.cumsum(np.array(select_seg), axis=1).ravel())\n",
        "# _ = plot_variable_with_morphology(cell.seg_coords, seg_prop, Vm, t=t, axes=['x', 'y'],\n",
        "#                                   distance_type='elec_dist', n_dist=300,\n",
        "#                                   select_seg=select_seg, max_per_dist=1, varname='Membrane potential (mV)',\n",
        "#                                   space=2., normalized_space=True, sort_by_dist=True,\n",
        "                                  # figsize=(10, 10), fontsize=15, scalebar_size=50)"
      ]
    },
    {
      "cell_type": "markdown",
      "source": [
        "##Transfer Impedance\n",
        "\n"
      ],
      "metadata": {
        "id": "Tc1fFLPUz5Qe"
      },
      "id": "Tc1fFLPUz5Qe"
    },
    {
      "cell_type": "code",
      "execution_count": 36,
      "id": "be859ed7",
      "metadata": {
        "id": "be859ed7"
      },
      "outputs": [],
      "source": [
        "# import numpy as np\n",
        "# from neuron import h\n",
        "# import cmath\n",
        "\n",
        "# def measure_segment_transfer_impedance(soma, section_list, sec_type, freq=0, extracellular_mechanism=True):\n",
        "#     \"\"\"\n",
        "#     soma: soma section object\n",
        "#     section_list: list of sections\n",
        "#     sec_type: list of swc type id of sections\n",
        "#     freq: frequency (Hz) at which electrotonic distance is evaluated\n",
        "#     extracellular_mechanism: whether extracellular mechanism is used\n",
        "#     \"\"\"\n",
        "#     seg_prop = {}\n",
        "#     swc_type = []\n",
        "#     seg_area = []\n",
        "#     seg_dist = []\n",
        "#     seg_length = []\n",
        "#     elec_dist = [] #modulus part of polar form #should change names\n",
        "#     elec_dist0 = [] #modulus of polar form #should change names\n",
        "#     transfer_imps = [] #real part of rectangular form\n",
        "#     transfer_imps0 = [] # real part of rectangular form\n",
        "\n",
        "#     # set up distance origin\n",
        "#     h.distance(0, soma(.5))\n",
        "#     # set up electrotonic origin\n",
        "#     zz = h.Impedance()\n",
        "#     zz.loc(soma(.5))\n",
        "#     if extracellular_mechanism:\n",
        "#         zz.compute(freq + 1 / 9e9, 0) #*\n",
        "#     else:\n",
        "#         zz.compute(freq, 1)\n",
        "#     # measure distance\n",
        "#     for i, sec in enumerate(section_list):\n",
        "#         if sec_type[i]==1:\n",
        "#             transfer_imp=zz.transfer(sec(0.5/sec.nseg)) #*\n",
        "#             transfer_phase=zz.transfer_phase(sec(0.5/sec.nseg)) #*\n",
        "#             elec_dist0.append(transfer_imp) #*\n",
        "#             rect_complex=cmath.rect(transfer_imp,transfer_phase)\n",
        "#             transfer_imps.append(rect_complex.real) #*\n",
        "#         else:\n",
        "#             transfer_imp=zz.transfer(sec.parentseg()) #*\n",
        "#             transfer_phase=zz.transfer_phase(sec.parentseg()) #*\n",
        "#             elec_dist0.append(transfer_imp) #*\n",
        "#             rect_complex=cmath.rect(transfer_imp, transfer_phase) #*\n",
        "#             transfer_imps.append(rect_complex.real) #*\n",
        "#         for j, seg in enumerate(sec):\n",
        "#             swc_type.append(sec_type[i])\n",
        "#             seg_area.append(seg.area())\n",
        "#             seg_dist.append(h.distance(seg))\n",
        "#             seg_length.append(sec.L/sec.nseg)\n",
        "#             if j!=0:\n",
        "#                 elec_dist0.append(elec_dist[-1])\n",
        "#                 transfer_imps.append(transfer_imps0[-1])\n",
        "#             elec_dist.append(zz.transfer(seg)) #*\n",
        "#             transfer_imp=zz.transfer(seg) #*\n",
        "#             transfer_phase=zz.transfer_phase(seg) #*\n",
        "#             rect_complex=cmath.rect(transfer_imp,transfer_phase) #*\n",
        "#             transfer_imps0.append(rect_complex.real) #*\n",
        "\n",
        "#     seg_prop['swc_type'] = np.array(swc_type)\n",
        "#     seg_prop['seg_area'] = np.array(seg_area)\n",
        "\n",
        "#     # distance at endpoints of each segment\n",
        "#     seg_prop['distance'] = np.expand_dims(seg_dist, 1) + np.expand_dims(seg_length, 1) / 2 * np.array([[-1, 1]])\n",
        "#     # seg_prop['transfer_imp'] = np.sort(np.log(elec_dist0[0]) - np.log(np.column_stack([elec_dist0, elec_dist])), axis=1) #*\n",
        "#     seg_prop['transfer_imp_mod'] = np.sort(elec_dist0[0] - np.column_stack([elec_dist0, elec_dist]), axis=1) #*\n",
        "#     seg_prop['transfer_imp_real'] = np.sort(transfer_imps[0] - np.column_stack([transfer_imps, transfer_imps0]), axis=1) #*\n",
        "\n",
        "\n",
        "#     # change sign of basal and axon types\n",
        "#     idx = np.nonzero((seg_prop['swc_type']==2) | (seg_prop['swc_type']==3))[0]\n",
        "#     seg_prop['distance'][idx] = -seg_prop['distance'][idx,::-1]\n",
        "#     seg_prop['transfer_imp_mod'][idx] = -seg_prop['transfer_imp_mod'][idx,::-1] #*\n",
        "#     seg_prop['transfer_imp_real'][idx] = -seg_prop['transfer_imp_real'][idx,::-1] #*\n",
        "#     return seg_prop, zz.transfer(soma(.5)), zz.transfer_phase(soma(.5))\n"
      ]
    },
    {
      "cell_type": "code",
      "source": [
        "# #using modulus of polar form\n",
        "\n",
        "# for syn in cell.synapse:\n",
        "#     syn.set_gmax(0)\n",
        "# h.run()\n",
        "\n",
        "# sec_type_swc = {sec['name']: sec['type'] for _, sec in geometry.iterrows()}\n",
        "# sec_type = [sec_type_swc[sec.name().split('.')[-1]] for sec in cell.all]\n",
        "# freq = 0 # Hz\n",
        "# seg_prop, _, _ = measure_segment_transfer_impedance(cell.soma , cell.all, sec_type, freq)\n",
        "\n",
        "# select_seg = [[cell.sec_id_in_seg[sec[0]], cell.get_sec_by_id(sec[0]).nseg -1] for sec in cell.sec_id_lookup.values()]\n",
        "# select_seg = np.sum(np.array(select_seg), axis=1)\n",
        "# # select_seg = np.unique(np.cumsum(np.array(select_seg), axis=1).ravel())\n",
        "# _ = plot_variable_with_morphology(cell.seg_coords, seg_prop, Vm, t=t, axes=['x', 'y'],\n",
        "#                                   distance_type='transfer_imp_mod', n_dist=300,\n",
        "#                                   select_seg=select_seg, max_per_dist=1, varname='Membrane potential (mV)',\n",
        "#                                   space=2., normalized_space=True, sort_by_dist=True,\n",
        "#                                   figsize=(10, 10), fontsize=15, scalebar_size=50)"
      ],
      "metadata": {
        "id": "yHRymM0L5pJj"
      },
      "id": "yHRymM0L5pJj",
      "execution_count": 37,
      "outputs": []
    },
    {
      "cell_type": "code",
      "source": [
        "# #using real part of rectangular complex form\n",
        "\n",
        "# for syn in cell.synapse:\n",
        "#     syn.set_gmax(0)\n",
        "# h.run()\n",
        "\n",
        "# sec_type_swc = {sec['name']: sec['type'] for _, sec in geometry.iterrows()}\n",
        "# sec_type = [sec_type_swc[sec.name().split('.')[-1]] for sec in cell.all]\n",
        "# freq = 0 # Hz\n",
        "# seg_prop, _, _ = measure_segment_transfer_impedance(cell.soma , cell.all, sec_type, freq)\n",
        "\n",
        "# select_seg = [[cell.sec_id_in_seg[sec[0]], cell.get_sec_by_id(sec[0]).nseg -1] for sec in cell.sec_id_lookup.values()]\n",
        "# select_seg = np.sum(np.array(select_seg), axis=1)\n",
        "# # select_seg = np.unique(np.cumsum(np.array(select_seg), axis=1).ravel())\n",
        "# _ = plot_variable_with_morphology(cell.seg_coords, seg_prop, Vm, t=t, axes=['x', 'y'],\n",
        "#                                   distance_type='transfer_imp_real', n_dist=300,\n",
        "#                                   select_seg=select_seg, max_per_dist=1, varname='Membrane potential (mV)',\n",
        "#                                   space=2., normalized_space=True, sort_by_dist=True,\n",
        "#                                   figsize=(10, 10), fontsize=15, scalebar_size=50)"
      ],
      "metadata": {
        "id": "Ibbz1qMIjWu5"
      },
      "id": "Ibbz1qMIjWu5",
      "execution_count": 38,
      "outputs": []
    },
    {
      "cell_type": "markdown",
      "source": [
        "Transfer Impedance is a complex number"
      ],
      "metadata": {
        "id": "2eSHPclEP0I0"
      },
      "id": "2eSHPclEP0I0"
    },
    {
      "cell_type": "code",
      "source": [
        "# polar_modulus=1\n",
        "# polar_phase=3\n",
        "\n",
        "# complex_rectangular_form=cmath.rect(polar_modulus, polar_phase)\n",
        "# print(complex_rectangular_form)"
      ],
      "metadata": {
        "id": "PM8Xa3WATASj"
      },
      "id": "PM8Xa3WATASj",
      "execution_count": 39,
      "outputs": []
    },
    {
      "cell_type": "code",
      "source": [
        "# complex_rectangular_form.real"
      ],
      "metadata": {
        "id": "BZgkMzBpTLgL"
      },
      "id": "BZgkMzBpTLgL",
      "execution_count": 40,
      "outputs": []
    }
  ],
  "metadata": {
    "colab": {
      "provenance": [],
      "include_colab_link": true
    },
    "kernelspec": {
      "display_name": "Python 3 (ipykernel)",
      "language": "python",
      "name": "python3"
    },
    "language_info": {
      "codemirror_mode": {
        "name": "ipython",
        "version": 3
      },
      "file_extension": ".py",
      "mimetype": "text/x-python",
      "name": "python",
      "nbconvert_exporter": "python",
      "pygments_lexer": "ipython3",
      "version": "3.9.12"
    },
    "widgets": {
      "application/vnd.jupyter.widget-state+json": {
        "6458fb8b7d4443dab906d1e151ae81ff": {
          "model_module": "@jupyter-widgets/controls",
          "model_name": "VBoxModel",
          "model_module_version": "1.5.0",
          "state": {
            "_dom_classes": [],
            "_model_module": "@jupyter-widgets/controls",
            "_model_module_version": "1.5.0",
            "_model_name": "VBoxModel",
            "_view_count": null,
            "_view_module": "@jupyter-widgets/controls",
            "_view_module_version": "1.5.0",
            "_view_name": "VBoxView",
            "box_style": "",
            "children": [
              "IPY_MODEL_f3d3e62ef9d045bfb2375647bd9c5a12",
              "IPY_MODEL_ec2d572e613646a68d5c308993799e98",
              "IPY_MODEL_55c62cae6e2f4847a2346e802d2e8840"
            ],
            "layout": "IPY_MODEL_ef40792b30ad48b2b475c8ffeca3faa7"
          }
        },
        "f3d3e62ef9d045bfb2375647bd9c5a12": {
          "model_module": "@jupyter-widgets/controls",
          "model_name": "ButtonModel",
          "model_module_version": "1.5.0",
          "state": {
            "_dom_classes": [],
            "_model_module": "@jupyter-widgets/controls",
            "_model_module_version": "1.5.0",
            "_model_name": "ButtonModel",
            "_view_count": null,
            "_view_module": "@jupyter-widgets/controls",
            "_view_module_version": "1.5.0",
            "_view_name": "ButtonView",
            "button_style": "primary",
            "description": "Reset",
            "disabled": false,
            "icon": "history",
            "layout": "IPY_MODEL_401cb48fb9ed4ac3a5e39401955231c5",
            "style": "IPY_MODEL_47bd59903f894151a8de11294725cc00",
            "tooltip": ""
          }
        },
        "ec2d572e613646a68d5c308993799e98": {
          "model_module": "@jupyter-widgets/controls",
          "model_name": "HBoxModel",
          "model_module_version": "1.5.0",
          "state": {
            "_dom_classes": [],
            "_model_module": "@jupyter-widgets/controls",
            "_model_module_version": "1.5.0",
            "_model_name": "HBoxModel",
            "_view_count": null,
            "_view_module": "@jupyter-widgets/controls",
            "_view_module_version": "1.5.0",
            "_view_name": "HBoxView",
            "box_style": "",
            "children": [
              "IPY_MODEL_8cab490e6a9c4facb0b6b1810ccde6de",
              "IPY_MODEL_d8a1c0d524b049df822eb1694d2ffe7a"
            ],
            "layout": "IPY_MODEL_86671b8080c04d968ee249571a63ff8a"
          }
        },
        "55c62cae6e2f4847a2346e802d2e8840": {
          "model_module": "@jupyter-widgets/controls",
          "model_name": "HBoxModel",
          "model_module_version": "1.5.0",
          "state": {
            "_dom_classes": [],
            "_model_module": "@jupyter-widgets/controls",
            "_model_module_version": "1.5.0",
            "_model_name": "HBoxModel",
            "_view_count": null,
            "_view_module": "@jupyter-widgets/controls",
            "_view_module_version": "1.5.0",
            "_view_name": "HBoxView",
            "box_style": "",
            "children": [
              "IPY_MODEL_f8b0a44236994dc6b954cceeb13f4801",
              "IPY_MODEL_59bd9007ebac44b4acda14b8c7857dff"
            ],
            "layout": "IPY_MODEL_4cbffdbc9b414edbad26330062305aee"
          }
        },
        "ef40792b30ad48b2b475c8ffeca3faa7": {
          "model_module": "@jupyter-widgets/base",
          "model_name": "LayoutModel",
          "model_module_version": "1.2.0",
          "state": {
            "_model_module": "@jupyter-widgets/base",
            "_model_module_version": "1.2.0",
            "_model_name": "LayoutModel",
            "_view_count": null,
            "_view_module": "@jupyter-widgets/base",
            "_view_module_version": "1.2.0",
            "_view_name": "LayoutView",
            "align_content": null,
            "align_items": null,
            "align_self": null,
            "border": null,
            "bottom": null,
            "display": null,
            "flex": null,
            "flex_flow": null,
            "grid_area": null,
            "grid_auto_columns": null,
            "grid_auto_flow": null,
            "grid_auto_rows": null,
            "grid_column": null,
            "grid_gap": null,
            "grid_row": null,
            "grid_template_areas": null,
            "grid_template_columns": null,
            "grid_template_rows": null,
            "height": null,
            "justify_content": null,
            "justify_items": null,
            "left": null,
            "margin": null,
            "max_height": null,
            "max_width": null,
            "min_height": null,
            "min_width": null,
            "object_fit": null,
            "object_position": null,
            "order": null,
            "overflow": null,
            "overflow_x": null,
            "overflow_y": null,
            "padding": null,
            "right": null,
            "top": null,
            "visibility": null,
            "width": null
          }
        },
        "401cb48fb9ed4ac3a5e39401955231c5": {
          "model_module": "@jupyter-widgets/base",
          "model_name": "LayoutModel",
          "model_module_version": "1.2.0",
          "state": {
            "_model_module": "@jupyter-widgets/base",
            "_model_module_version": "1.2.0",
            "_model_name": "LayoutModel",
            "_view_count": null,
            "_view_module": "@jupyter-widgets/base",
            "_view_module_version": "1.2.0",
            "_view_name": "LayoutView",
            "align_content": null,
            "align_items": null,
            "align_self": null,
            "border": null,
            "bottom": null,
            "display": null,
            "flex": null,
            "flex_flow": null,
            "grid_area": null,
            "grid_auto_columns": null,
            "grid_auto_flow": null,
            "grid_auto_rows": null,
            "grid_column": null,
            "grid_gap": null,
            "grid_row": null,
            "grid_template_areas": null,
            "grid_template_columns": null,
            "grid_template_rows": null,
            "height": null,
            "justify_content": null,
            "justify_items": null,
            "left": null,
            "margin": null,
            "max_height": null,
            "max_width": null,
            "min_height": null,
            "min_width": null,
            "object_fit": null,
            "object_position": null,
            "order": null,
            "overflow": null,
            "overflow_x": null,
            "overflow_y": null,
            "padding": null,
            "right": null,
            "top": null,
            "visibility": null,
            "width": null
          }
        },
        "47bd59903f894151a8de11294725cc00": {
          "model_module": "@jupyter-widgets/controls",
          "model_name": "ButtonStyleModel",
          "model_module_version": "1.5.0",
          "state": {
            "_model_module": "@jupyter-widgets/controls",
            "_model_module_version": "1.5.0",
            "_model_name": "ButtonStyleModel",
            "_view_count": null,
            "_view_module": "@jupyter-widgets/base",
            "_view_module_version": "1.2.0",
            "_view_name": "StyleView",
            "button_color": null,
            "font_weight": ""
          }
        },
        "8cab490e6a9c4facb0b6b1810ccde6de": {
          "model_module": "@jupyter-widgets/controls",
          "model_name": "VBoxModel",
          "model_module_version": "1.5.0",
          "state": {
            "_dom_classes": [],
            "_model_module": "@jupyter-widgets/controls",
            "_model_module_version": "1.5.0",
            "_model_name": "VBoxModel",
            "_view_count": null,
            "_view_module": "@jupyter-widgets/controls",
            "_view_module_version": "1.5.0",
            "_view_name": "VBoxView",
            "box_style": "",
            "children": [
              "IPY_MODEL_780383a6270a41339d7f46acd59f5c3c",
              "IPY_MODEL_850d7203113f41e1be6ce295f2a0af53",
              "IPY_MODEL_1146f446e74c4a24b59eeecee6e119c2"
            ],
            "layout": "IPY_MODEL_903d169dc32f477b8285467966a1609d"
          }
        },
        "d8a1c0d524b049df822eb1694d2ffe7a": {
          "model_module": "@jupyter-widgets/controls",
          "model_name": "VBoxModel",
          "model_module_version": "1.5.0",
          "state": {
            "_dom_classes": [],
            "_model_module": "@jupyter-widgets/controls",
            "_model_module_version": "1.5.0",
            "_model_name": "VBoxModel",
            "_view_count": null,
            "_view_module": "@jupyter-widgets/controls",
            "_view_module_version": "1.5.0",
            "_view_name": "VBoxView",
            "box_style": "",
            "children": [
              "IPY_MODEL_7cf8272728104d64955341912d96eb1f",
              "IPY_MODEL_54d73e45505c4fc1b94cd6409bb1be4e",
              "IPY_MODEL_2b981bcbae614d4fb7a771bbedfa6f2a"
            ],
            "layout": "IPY_MODEL_f5803129522c463aa71899ff9814b1d7"
          }
        },
        "86671b8080c04d968ee249571a63ff8a": {
          "model_module": "@jupyter-widgets/base",
          "model_name": "LayoutModel",
          "model_module_version": "1.2.0",
          "state": {
            "_model_module": "@jupyter-widgets/base",
            "_model_module_version": "1.2.0",
            "_model_name": "LayoutModel",
            "_view_count": null,
            "_view_module": "@jupyter-widgets/base",
            "_view_module_version": "1.2.0",
            "_view_name": "LayoutView",
            "align_content": null,
            "align_items": null,
            "align_self": null,
            "border": null,
            "bottom": null,
            "display": null,
            "flex": null,
            "flex_flow": null,
            "grid_area": null,
            "grid_auto_columns": null,
            "grid_auto_flow": null,
            "grid_auto_rows": null,
            "grid_column": null,
            "grid_gap": null,
            "grid_row": null,
            "grid_template_areas": null,
            "grid_template_columns": null,
            "grid_template_rows": null,
            "height": null,
            "justify_content": null,
            "justify_items": null,
            "left": null,
            "margin": null,
            "max_height": null,
            "max_width": null,
            "min_height": null,
            "min_width": null,
            "object_fit": null,
            "object_position": null,
            "order": null,
            "overflow": null,
            "overflow_x": null,
            "overflow_y": null,
            "padding": null,
            "right": null,
            "top": null,
            "visibility": null,
            "width": null
          }
        },
        "f8b0a44236994dc6b954cceeb13f4801": {
          "model_module": "@jupyter-widgets/controls",
          "model_name": "VBoxModel",
          "model_module_version": "1.5.0",
          "state": {
            "_dom_classes": [],
            "_model_module": "@jupyter-widgets/controls",
            "_model_module_version": "1.5.0",
            "_model_name": "VBoxModel",
            "_view_count": null,
            "_view_module": "@jupyter-widgets/controls",
            "_view_module_version": "1.5.0",
            "_view_name": "VBoxView",
            "box_style": "",
            "children": [
              "IPY_MODEL_eb84292c2868478981abbcd4338fdf26",
              "IPY_MODEL_255c9537816e4eb1960a37d1f3eded70"
            ],
            "layout": "IPY_MODEL_3160da86cc394a608e90ae678c3a23e1"
          }
        },
        "59bd9007ebac44b4acda14b8c7857dff": {
          "model_module": "@jupyter-widgets/controls",
          "model_name": "FloatSliderModel",
          "model_module_version": "1.5.0",
          "state": {
            "_dom_classes": [],
            "_model_module": "@jupyter-widgets/controls",
            "_model_module_version": "1.5.0",
            "_model_name": "FloatSliderModel",
            "_view_count": null,
            "_view_module": "@jupyter-widgets/controls",
            "_view_module_version": "1.5.0",
            "_view_name": "FloatSliderView",
            "continuous_update": false,
            "description": "elev (deg)",
            "description_tooltip": null,
            "disabled": false,
            "layout": "IPY_MODEL_75b9abfe846f4354bf1d05d697de696b",
            "max": 90,
            "min": -90,
            "orientation": "vertical",
            "readout": true,
            "readout_format": ".0f",
            "step": 1,
            "style": "IPY_MODEL_1c0da1cd307544cd93ca3df6d9c6dec7",
            "value": -10
          }
        },
        "4cbffdbc9b414edbad26330062305aee": {
          "model_module": "@jupyter-widgets/base",
          "model_name": "LayoutModel",
          "model_module_version": "1.2.0",
          "state": {
            "_model_module": "@jupyter-widgets/base",
            "_model_module_version": "1.2.0",
            "_model_name": "LayoutModel",
            "_view_count": null,
            "_view_module": "@jupyter-widgets/base",
            "_view_module_version": "1.2.0",
            "_view_name": "LayoutView",
            "align_content": null,
            "align_items": null,
            "align_self": null,
            "border": null,
            "bottom": null,
            "display": null,
            "flex": null,
            "flex_flow": null,
            "grid_area": null,
            "grid_auto_columns": null,
            "grid_auto_flow": null,
            "grid_auto_rows": null,
            "grid_column": null,
            "grid_gap": null,
            "grid_row": null,
            "grid_template_areas": null,
            "grid_template_columns": null,
            "grid_template_rows": null,
            "height": null,
            "justify_content": null,
            "justify_items": null,
            "left": null,
            "margin": null,
            "max_height": null,
            "max_width": null,
            "min_height": null,
            "min_width": null,
            "object_fit": null,
            "object_position": null,
            "order": null,
            "overflow": null,
            "overflow_x": null,
            "overflow_y": null,
            "padding": null,
            "right": null,
            "top": null,
            "visibility": null,
            "width": null
          }
        },
        "780383a6270a41339d7f46acd59f5c3c": {
          "model_module": "@jupyter-widgets/controls",
          "model_name": "FloatSliderModel",
          "model_module_version": "1.5.0",
          "state": {
            "_dom_classes": [],
            "_model_module": "@jupyter-widgets/controls",
            "_model_module_version": "1.5.0",
            "_model_name": "FloatSliderModel",
            "_view_count": null,
            "_view_module": "@jupyter-widgets/controls",
            "_view_module_version": "1.5.0",
            "_view_name": "FloatSliderView",
            "continuous_update": false,
            "description": "x (um)",
            "description_tooltip": null,
            "disabled": false,
            "layout": "IPY_MODEL_f297b4a7c1bb44afb36ba3d0aa022873",
            "max": 200,
            "min": -200,
            "orientation": "horizontal",
            "readout": true,
            "readout_format": ".0f",
            "step": 1,
            "style": "IPY_MODEL_83489f553d9840acac86ae73207567db",
            "value": 0
          }
        },
        "850d7203113f41e1be6ce295f2a0af53": {
          "model_module": "@jupyter-widgets/controls",
          "model_name": "FloatSliderModel",
          "model_module_version": "1.5.0",
          "state": {
            "_dom_classes": [],
            "_model_module": "@jupyter-widgets/controls",
            "_model_module_version": "1.5.0",
            "_model_name": "FloatSliderModel",
            "_view_count": null,
            "_view_module": "@jupyter-widgets/controls",
            "_view_module_version": "1.5.0",
            "_view_name": "FloatSliderView",
            "continuous_update": false,
            "description": "y (um)",
            "description_tooltip": null,
            "disabled": false,
            "layout": "IPY_MODEL_705440ac2e0e455baa615910fb90db80",
            "max": 1000,
            "min": -1000,
            "orientation": "horizontal",
            "readout": true,
            "readout_format": ".0f",
            "step": 1,
            "style": "IPY_MODEL_739f526dd93f4c55927b0f37ed23e3aa",
            "value": 0
          }
        },
        "1146f446e74c4a24b59eeecee6e119c2": {
          "model_module": "@jupyter-widgets/controls",
          "model_name": "FloatSliderModel",
          "model_module_version": "1.5.0",
          "state": {
            "_dom_classes": [],
            "_model_module": "@jupyter-widgets/controls",
            "_model_module_version": "1.5.0",
            "_model_name": "FloatSliderModel",
            "_view_count": null,
            "_view_module": "@jupyter-widgets/controls",
            "_view_module_version": "1.5.0",
            "_view_name": "FloatSliderView",
            "continuous_update": false,
            "description": "z (um)",
            "description_tooltip": null,
            "disabled": false,
            "layout": "IPY_MODEL_5a875aa8ac1142cb992edd4b86d8f035",
            "max": 400,
            "min": 20,
            "orientation": "horizontal",
            "readout": true,
            "readout_format": ".0f",
            "step": 1,
            "style": "IPY_MODEL_47702afcffd341a6ac867677a4aecfc2",
            "value": 80
          }
        },
        "903d169dc32f477b8285467966a1609d": {
          "model_module": "@jupyter-widgets/base",
          "model_name": "LayoutModel",
          "model_module_version": "1.2.0",
          "state": {
            "_model_module": "@jupyter-widgets/base",
            "_model_module_version": "1.2.0",
            "_model_name": "LayoutModel",
            "_view_count": null,
            "_view_module": "@jupyter-widgets/base",
            "_view_module_version": "1.2.0",
            "_view_name": "LayoutView",
            "align_content": null,
            "align_items": null,
            "align_self": null,
            "border": null,
            "bottom": null,
            "display": null,
            "flex": null,
            "flex_flow": null,
            "grid_area": null,
            "grid_auto_columns": null,
            "grid_auto_flow": null,
            "grid_auto_rows": null,
            "grid_column": null,
            "grid_gap": null,
            "grid_row": null,
            "grid_template_areas": null,
            "grid_template_columns": null,
            "grid_template_rows": null,
            "height": null,
            "justify_content": null,
            "justify_items": null,
            "left": null,
            "margin": null,
            "max_height": null,
            "max_width": null,
            "min_height": null,
            "min_width": null,
            "object_fit": null,
            "object_position": null,
            "order": null,
            "overflow": null,
            "overflow_x": null,
            "overflow_y": null,
            "padding": null,
            "right": null,
            "top": null,
            "visibility": null,
            "width": null
          }
        },
        "7cf8272728104d64955341912d96eb1f": {
          "model_module": "@jupyter-widgets/controls",
          "model_name": "FloatSliderModel",
          "model_module_version": "1.5.0",
          "state": {
            "_dom_classes": [],
            "_model_module": "@jupyter-widgets/controls",
            "_model_module_version": "1.5.0",
            "_model_name": "FloatSliderModel",
            "_view_count": null,
            "_view_module": "@jupyter-widgets/controls",
            "_view_module_version": "1.5.0",
            "_view_name": "FloatSliderView",
            "continuous_update": false,
            "description": "alpha (deg)",
            "description_tooltip": null,
            "disabled": false,
            "layout": "IPY_MODEL_b9142b8fbddd488bb33bc0ad9c33f0b8",
            "max": 180,
            "min": -180,
            "orientation": "horizontal",
            "readout": true,
            "readout_format": ".0f",
            "step": 1,
            "style": "IPY_MODEL_7c2e424d7d6447eb8265e15090e6975c",
            "value": 0
          }
        },
        "54d73e45505c4fc1b94cd6409bb1be4e": {
          "model_module": "@jupyter-widgets/controls",
          "model_name": "FloatSliderModel",
          "model_module_version": "1.5.0",
          "state": {
            "_dom_classes": [],
            "_model_module": "@jupyter-widgets/controls",
            "_model_module_version": "1.5.0",
            "_model_name": "FloatSliderModel",
            "_view_count": null,
            "_view_module": "@jupyter-widgets/controls",
            "_view_module_version": "1.5.0",
            "_view_name": "FloatSliderView",
            "continuous_update": false,
            "description": "beta (deg)",
            "description_tooltip": null,
            "disabled": false,
            "layout": "IPY_MODEL_92d9d88c37a342228345cde9f3dd956b",
            "max": 180,
            "min": 0,
            "orientation": "horizontal",
            "readout": true,
            "readout_format": ".0f",
            "step": 1,
            "style": "IPY_MODEL_6cafdc9135ed4bedbe94960d10fc8a8a",
            "value": 0
          }
        },
        "2b981bcbae614d4fb7a771bbedfa6f2a": {
          "model_module": "@jupyter-widgets/controls",
          "model_name": "FloatSliderModel",
          "model_module_version": "1.5.0",
          "state": {
            "_dom_classes": [],
            "_model_module": "@jupyter-widgets/controls",
            "_model_module_version": "1.5.0",
            "_model_name": "FloatSliderModel",
            "_view_count": null,
            "_view_module": "@jupyter-widgets/controls",
            "_view_module_version": "1.5.0",
            "_view_name": "FloatSliderView",
            "continuous_update": false,
            "description": "phi (deg)",
            "description_tooltip": null,
            "disabled": false,
            "layout": "IPY_MODEL_6facf3f2827c499abc41a294be52d177",
            "max": 180,
            "min": -180,
            "orientation": "horizontal",
            "readout": true,
            "readout_format": ".0f",
            "step": 1,
            "style": "IPY_MODEL_9019728179d4479f9a4b5cd3b1b4481d",
            "value": 0
          }
        },
        "f5803129522c463aa71899ff9814b1d7": {
          "model_module": "@jupyter-widgets/base",
          "model_name": "LayoutModel",
          "model_module_version": "1.2.0",
          "state": {
            "_model_module": "@jupyter-widgets/base",
            "_model_module_version": "1.2.0",
            "_model_name": "LayoutModel",
            "_view_count": null,
            "_view_module": "@jupyter-widgets/base",
            "_view_module_version": "1.2.0",
            "_view_name": "LayoutView",
            "align_content": null,
            "align_items": null,
            "align_self": null,
            "border": null,
            "bottom": null,
            "display": null,
            "flex": null,
            "flex_flow": null,
            "grid_area": null,
            "grid_auto_columns": null,
            "grid_auto_flow": null,
            "grid_auto_rows": null,
            "grid_column": null,
            "grid_gap": null,
            "grid_row": null,
            "grid_template_areas": null,
            "grid_template_columns": null,
            "grid_template_rows": null,
            "height": null,
            "justify_content": null,
            "justify_items": null,
            "left": null,
            "margin": null,
            "max_height": null,
            "max_width": null,
            "min_height": null,
            "min_width": null,
            "object_fit": null,
            "object_position": null,
            "order": null,
            "overflow": null,
            "overflow_x": null,
            "overflow_y": null,
            "padding": null,
            "right": null,
            "top": null,
            "visibility": null,
            "width": null
          }
        },
        "eb84292c2868478981abbcd4338fdf26": {
          "model_module": "@jupyter-widgets/output",
          "model_name": "OutputModel",
          "model_module_version": "1.0.0",
          "state": {
            "_dom_classes": [],
            "_model_module": "@jupyter-widgets/output",
            "_model_module_version": "1.0.0",
            "_model_name": "OutputModel",
            "_view_count": null,
            "_view_module": "@jupyter-widgets/output",
            "_view_module_version": "1.0.0",
            "_view_name": "OutputView",
            "layout": "IPY_MODEL_4bb0036d2b6d447694220a1277da334f",
            "msg_id": "",
            "outputs": [
              {
                "output_type": "display_data",
                "data": {
                  "text/plain": "<Figure size 1200x800 with 1 Axes>",
                  "image/png": "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\n"
                },
                "metadata": {}
              }
            ]
          }
        },
        "255c9537816e4eb1960a37d1f3eded70": {
          "model_module": "@jupyter-widgets/controls",
          "model_name": "FloatSliderModel",
          "model_module_version": "1.5.0",
          "state": {
            "_dom_classes": [],
            "_model_module": "@jupyter-widgets/controls",
            "_model_module_version": "1.5.0",
            "_model_name": "FloatSliderModel",
            "_view_count": null,
            "_view_module": "@jupyter-widgets/controls",
            "_view_module_version": "1.5.0",
            "_view_name": "FloatSliderView",
            "continuous_update": false,
            "description": "azim (deg)",
            "description_tooltip": null,
            "disabled": false,
            "layout": "IPY_MODEL_33508d08c9884f0693238fd5c0cacccc",
            "max": 180,
            "min": -180,
            "orientation": "horizontal",
            "readout": true,
            "readout_format": ".0f",
            "step": 1,
            "style": "IPY_MODEL_4d40b628c1bd481692ac5ff9cc7ccb1a",
            "value": -90
          }
        },
        "3160da86cc394a608e90ae678c3a23e1": {
          "model_module": "@jupyter-widgets/base",
          "model_name": "LayoutModel",
          "model_module_version": "1.2.0",
          "state": {
            "_model_module": "@jupyter-widgets/base",
            "_model_module_version": "1.2.0",
            "_model_name": "LayoutModel",
            "_view_count": null,
            "_view_module": "@jupyter-widgets/base",
            "_view_module_version": "1.2.0",
            "_view_name": "LayoutView",
            "align_content": null,
            "align_items": null,
            "align_self": null,
            "border": null,
            "bottom": null,
            "display": null,
            "flex": null,
            "flex_flow": null,
            "grid_area": null,
            "grid_auto_columns": null,
            "grid_auto_flow": null,
            "grid_auto_rows": null,
            "grid_column": null,
            "grid_gap": null,
            "grid_row": null,
            "grid_template_areas": null,
            "grid_template_columns": null,
            "grid_template_rows": null,
            "height": null,
            "justify_content": null,
            "justify_items": null,
            "left": null,
            "margin": null,
            "max_height": null,
            "max_width": null,
            "min_height": null,
            "min_width": null,
            "object_fit": null,
            "object_position": null,
            "order": null,
            "overflow": null,
            "overflow_x": null,
            "overflow_y": null,
            "padding": null,
            "right": null,
            "top": null,
            "visibility": null,
            "width": null
          }
        },
        "75b9abfe846f4354bf1d05d697de696b": {
          "model_module": "@jupyter-widgets/base",
          "model_name": "LayoutModel",
          "model_module_version": "1.2.0",
          "state": {
            "_model_module": "@jupyter-widgets/base",
            "_model_module_version": "1.2.0",
            "_model_name": "LayoutModel",
            "_view_count": null,
            "_view_module": "@jupyter-widgets/base",
            "_view_module_version": "1.2.0",
            "_view_name": "LayoutView",
            "align_content": null,
            "align_items": null,
            "align_self": null,
            "border": null,
            "bottom": null,
            "display": null,
            "flex": null,
            "flex_flow": null,
            "grid_area": null,
            "grid_auto_columns": null,
            "grid_auto_flow": null,
            "grid_auto_rows": null,
            "grid_column": null,
            "grid_gap": null,
            "grid_row": null,
            "grid_template_areas": null,
            "grid_template_columns": null,
            "grid_template_rows": null,
            "height": "350px",
            "justify_content": null,
            "justify_items": null,
            "left": null,
            "margin": null,
            "max_height": null,
            "max_width": null,
            "min_height": null,
            "min_width": null,
            "object_fit": null,
            "object_position": null,
            "order": null,
            "overflow": null,
            "overflow_x": null,
            "overflow_y": null,
            "padding": null,
            "right": null,
            "top": null,
            "visibility": null,
            "width": null
          }
        },
        "1c0da1cd307544cd93ca3df6d9c6dec7": {
          "model_module": "@jupyter-widgets/controls",
          "model_name": "SliderStyleModel",
          "model_module_version": "1.5.0",
          "state": {
            "_model_module": "@jupyter-widgets/controls",
            "_model_module_version": "1.5.0",
            "_model_name": "SliderStyleModel",
            "_view_count": null,
            "_view_module": "@jupyter-widgets/base",
            "_view_module_version": "1.2.0",
            "_view_name": "StyleView",
            "description_width": "",
            "handle_color": null
          }
        },
        "f297b4a7c1bb44afb36ba3d0aa022873": {
          "model_module": "@jupyter-widgets/base",
          "model_name": "LayoutModel",
          "model_module_version": "1.2.0",
          "state": {
            "_model_module": "@jupyter-widgets/base",
            "_model_module_version": "1.2.0",
            "_model_name": "LayoutModel",
            "_view_count": null,
            "_view_module": "@jupyter-widgets/base",
            "_view_module_version": "1.2.0",
            "_view_name": "LayoutView",
            "align_content": null,
            "align_items": null,
            "align_self": null,
            "border": null,
            "bottom": null,
            "display": null,
            "flex": null,
            "flex_flow": null,
            "grid_area": null,
            "grid_auto_columns": null,
            "grid_auto_flow": null,
            "grid_auto_rows": null,
            "grid_column": null,
            "grid_gap": null,
            "grid_row": null,
            "grid_template_areas": null,
            "grid_template_columns": null,
            "grid_template_rows": null,
            "height": null,
            "justify_content": null,
            "justify_items": null,
            "left": null,
            "margin": null,
            "max_height": null,
            "max_width": null,
            "min_height": null,
            "min_width": null,
            "object_fit": null,
            "object_position": null,
            "order": null,
            "overflow": null,
            "overflow_x": null,
            "overflow_y": null,
            "padding": null,
            "right": null,
            "top": null,
            "visibility": null,
            "width": null
          }
        },
        "83489f553d9840acac86ae73207567db": {
          "model_module": "@jupyter-widgets/controls",
          "model_name": "SliderStyleModel",
          "model_module_version": "1.5.0",
          "state": {
            "_model_module": "@jupyter-widgets/controls",
            "_model_module_version": "1.5.0",
            "_model_name": "SliderStyleModel",
            "_view_count": null,
            "_view_module": "@jupyter-widgets/base",
            "_view_module_version": "1.2.0",
            "_view_name": "StyleView",
            "description_width": "",
            "handle_color": null
          }
        },
        "705440ac2e0e455baa615910fb90db80": {
          "model_module": "@jupyter-widgets/base",
          "model_name": "LayoutModel",
          "model_module_version": "1.2.0",
          "state": {
            "_model_module": "@jupyter-widgets/base",
            "_model_module_version": "1.2.0",
            "_model_name": "LayoutModel",
            "_view_count": null,
            "_view_module": "@jupyter-widgets/base",
            "_view_module_version": "1.2.0",
            "_view_name": "LayoutView",
            "align_content": null,
            "align_items": null,
            "align_self": null,
            "border": null,
            "bottom": null,
            "display": null,
            "flex": null,
            "flex_flow": null,
            "grid_area": null,
            "grid_auto_columns": null,
            "grid_auto_flow": null,
            "grid_auto_rows": null,
            "grid_column": null,
            "grid_gap": null,
            "grid_row": null,
            "grid_template_areas": null,
            "grid_template_columns": null,
            "grid_template_rows": null,
            "height": null,
            "justify_content": null,
            "justify_items": null,
            "left": null,
            "margin": null,
            "max_height": null,
            "max_width": null,
            "min_height": null,
            "min_width": null,
            "object_fit": null,
            "object_position": null,
            "order": null,
            "overflow": null,
            "overflow_x": null,
            "overflow_y": null,
            "padding": null,
            "right": null,
            "top": null,
            "visibility": null,
            "width": null
          }
        },
        "739f526dd93f4c55927b0f37ed23e3aa": {
          "model_module": "@jupyter-widgets/controls",
          "model_name": "SliderStyleModel",
          "model_module_version": "1.5.0",
          "state": {
            "_model_module": "@jupyter-widgets/controls",
            "_model_module_version": "1.5.0",
            "_model_name": "SliderStyleModel",
            "_view_count": null,
            "_view_module": "@jupyter-widgets/base",
            "_view_module_version": "1.2.0",
            "_view_name": "StyleView",
            "description_width": "",
            "handle_color": null
          }
        },
        "5a875aa8ac1142cb992edd4b86d8f035": {
          "model_module": "@jupyter-widgets/base",
          "model_name": "LayoutModel",
          "model_module_version": "1.2.0",
          "state": {
            "_model_module": "@jupyter-widgets/base",
            "_model_module_version": "1.2.0",
            "_model_name": "LayoutModel",
            "_view_count": null,
            "_view_module": "@jupyter-widgets/base",
            "_view_module_version": "1.2.0",
            "_view_name": "LayoutView",
            "align_content": null,
            "align_items": null,
            "align_self": null,
            "border": null,
            "bottom": null,
            "display": null,
            "flex": null,
            "flex_flow": null,
            "grid_area": null,
            "grid_auto_columns": null,
            "grid_auto_flow": null,
            "grid_auto_rows": null,
            "grid_column": null,
            "grid_gap": null,
            "grid_row": null,
            "grid_template_areas": null,
            "grid_template_columns": null,
            "grid_template_rows": null,
            "height": null,
            "justify_content": null,
            "justify_items": null,
            "left": null,
            "margin": null,
            "max_height": null,
            "max_width": null,
            "min_height": null,
            "min_width": null,
            "object_fit": null,
            "object_position": null,
            "order": null,
            "overflow": null,
            "overflow_x": null,
            "overflow_y": null,
            "padding": null,
            "right": null,
            "top": null,
            "visibility": null,
            "width": null
          }
        },
        "47702afcffd341a6ac867677a4aecfc2": {
          "model_module": "@jupyter-widgets/controls",
          "model_name": "SliderStyleModel",
          "model_module_version": "1.5.0",
          "state": {
            "_model_module": "@jupyter-widgets/controls",
            "_model_module_version": "1.5.0",
            "_model_name": "SliderStyleModel",
            "_view_count": null,
            "_view_module": "@jupyter-widgets/base",
            "_view_module_version": "1.2.0",
            "_view_name": "StyleView",
            "description_width": "",
            "handle_color": null
          }
        },
        "b9142b8fbddd488bb33bc0ad9c33f0b8": {
          "model_module": "@jupyter-widgets/base",
          "model_name": "LayoutModel",
          "model_module_version": "1.2.0",
          "state": {
            "_model_module": "@jupyter-widgets/base",
            "_model_module_version": "1.2.0",
            "_model_name": "LayoutModel",
            "_view_count": null,
            "_view_module": "@jupyter-widgets/base",
            "_view_module_version": "1.2.0",
            "_view_name": "LayoutView",
            "align_content": null,
            "align_items": null,
            "align_self": null,
            "border": null,
            "bottom": null,
            "display": null,
            "flex": null,
            "flex_flow": null,
            "grid_area": null,
            "grid_auto_columns": null,
            "grid_auto_flow": null,
            "grid_auto_rows": null,
            "grid_column": null,
            "grid_gap": null,
            "grid_row": null,
            "grid_template_areas": null,
            "grid_template_columns": null,
            "grid_template_rows": null,
            "height": null,
            "justify_content": null,
            "justify_items": null,
            "left": null,
            "margin": null,
            "max_height": null,
            "max_width": null,
            "min_height": null,
            "min_width": null,
            "object_fit": null,
            "object_position": null,
            "order": null,
            "overflow": null,
            "overflow_x": null,
            "overflow_y": null,
            "padding": null,
            "right": null,
            "top": null,
            "visibility": null,
            "width": null
          }
        },
        "7c2e424d7d6447eb8265e15090e6975c": {
          "model_module": "@jupyter-widgets/controls",
          "model_name": "SliderStyleModel",
          "model_module_version": "1.5.0",
          "state": {
            "_model_module": "@jupyter-widgets/controls",
            "_model_module_version": "1.5.0",
            "_model_name": "SliderStyleModel",
            "_view_count": null,
            "_view_module": "@jupyter-widgets/base",
            "_view_module_version": "1.2.0",
            "_view_name": "StyleView",
            "description_width": "",
            "handle_color": null
          }
        },
        "92d9d88c37a342228345cde9f3dd956b": {
          "model_module": "@jupyter-widgets/base",
          "model_name": "LayoutModel",
          "model_module_version": "1.2.0",
          "state": {
            "_model_module": "@jupyter-widgets/base",
            "_model_module_version": "1.2.0",
            "_model_name": "LayoutModel",
            "_view_count": null,
            "_view_module": "@jupyter-widgets/base",
            "_view_module_version": "1.2.0",
            "_view_name": "LayoutView",
            "align_content": null,
            "align_items": null,
            "align_self": null,
            "border": null,
            "bottom": null,
            "display": null,
            "flex": null,
            "flex_flow": null,
            "grid_area": null,
            "grid_auto_columns": null,
            "grid_auto_flow": null,
            "grid_auto_rows": null,
            "grid_column": null,
            "grid_gap": null,
            "grid_row": null,
            "grid_template_areas": null,
            "grid_template_columns": null,
            "grid_template_rows": null,
            "height": null,
            "justify_content": null,
            "justify_items": null,
            "left": null,
            "margin": null,
            "max_height": null,
            "max_width": null,
            "min_height": null,
            "min_width": null,
            "object_fit": null,
            "object_position": null,
            "order": null,
            "overflow": null,
            "overflow_x": null,
            "overflow_y": null,
            "padding": null,
            "right": null,
            "top": null,
            "visibility": null,
            "width": null
          }
        },
        "6cafdc9135ed4bedbe94960d10fc8a8a": {
          "model_module": "@jupyter-widgets/controls",
          "model_name": "SliderStyleModel",
          "model_module_version": "1.5.0",
          "state": {
            "_model_module": "@jupyter-widgets/controls",
            "_model_module_version": "1.5.0",
            "_model_name": "SliderStyleModel",
            "_view_count": null,
            "_view_module": "@jupyter-widgets/base",
            "_view_module_version": "1.2.0",
            "_view_name": "StyleView",
            "description_width": "",
            "handle_color": null
          }
        },
        "6facf3f2827c499abc41a294be52d177": {
          "model_module": "@jupyter-widgets/base",
          "model_name": "LayoutModel",
          "model_module_version": "1.2.0",
          "state": {
            "_model_module": "@jupyter-widgets/base",
            "_model_module_version": "1.2.0",
            "_model_name": "LayoutModel",
            "_view_count": null,
            "_view_module": "@jupyter-widgets/base",
            "_view_module_version": "1.2.0",
            "_view_name": "LayoutView",
            "align_content": null,
            "align_items": null,
            "align_self": null,
            "border": null,
            "bottom": null,
            "display": null,
            "flex": null,
            "flex_flow": null,
            "grid_area": null,
            "grid_auto_columns": null,
            "grid_auto_flow": null,
            "grid_auto_rows": null,
            "grid_column": null,
            "grid_gap": null,
            "grid_row": null,
            "grid_template_areas": null,
            "grid_template_columns": null,
            "grid_template_rows": null,
            "height": null,
            "justify_content": null,
            "justify_items": null,
            "left": null,
            "margin": null,
            "max_height": null,
            "max_width": null,
            "min_height": null,
            "min_width": null,
            "object_fit": null,
            "object_position": null,
            "order": null,
            "overflow": null,
            "overflow_x": null,
            "overflow_y": null,
            "padding": null,
            "right": null,
            "top": null,
            "visibility": null,
            "width": null
          }
        },
        "9019728179d4479f9a4b5cd3b1b4481d": {
          "model_module": "@jupyter-widgets/controls",
          "model_name": "SliderStyleModel",
          "model_module_version": "1.5.0",
          "state": {
            "_model_module": "@jupyter-widgets/controls",
            "_model_module_version": "1.5.0",
            "_model_name": "SliderStyleModel",
            "_view_count": null,
            "_view_module": "@jupyter-widgets/base",
            "_view_module_version": "1.2.0",
            "_view_name": "StyleView",
            "description_width": "",
            "handle_color": null
          }
        },
        "33508d08c9884f0693238fd5c0cacccc": {
          "model_module": "@jupyter-widgets/base",
          "model_name": "LayoutModel",
          "model_module_version": "1.2.0",
          "state": {
            "_model_module": "@jupyter-widgets/base",
            "_model_module_version": "1.2.0",
            "_model_name": "LayoutModel",
            "_view_count": null,
            "_view_module": "@jupyter-widgets/base",
            "_view_module_version": "1.2.0",
            "_view_name": "LayoutView",
            "align_content": null,
            "align_items": null,
            "align_self": null,
            "border": null,
            "bottom": null,
            "display": null,
            "flex": null,
            "flex_flow": null,
            "grid_area": null,
            "grid_auto_columns": null,
            "grid_auto_flow": null,
            "grid_auto_rows": null,
            "grid_column": null,
            "grid_gap": null,
            "grid_row": null,
            "grid_template_areas": null,
            "grid_template_columns": null,
            "grid_template_rows": null,
            "height": null,
            "justify_content": null,
            "justify_items": null,
            "left": null,
            "margin": null,
            "max_height": null,
            "max_width": null,
            "min_height": null,
            "min_width": null,
            "object_fit": null,
            "object_position": null,
            "order": null,
            "overflow": null,
            "overflow_x": null,
            "overflow_y": null,
            "padding": null,
            "right": null,
            "top": null,
            "visibility": null,
            "width": "500px"
          }
        },
        "4d40b628c1bd481692ac5ff9cc7ccb1a": {
          "model_module": "@jupyter-widgets/controls",
          "model_name": "SliderStyleModel",
          "model_module_version": "1.5.0",
          "state": {
            "_model_module": "@jupyter-widgets/controls",
            "_model_module_version": "1.5.0",
            "_model_name": "SliderStyleModel",
            "_view_count": null,
            "_view_module": "@jupyter-widgets/base",
            "_view_module_version": "1.2.0",
            "_view_name": "StyleView",
            "description_width": "",
            "handle_color": null
          }
        },
        "4bb0036d2b6d447694220a1277da334f": {
          "model_module": "@jupyter-widgets/base",
          "model_name": "LayoutModel",
          "model_module_version": "1.2.0",
          "state": {
            "_model_module": "@jupyter-widgets/base",
            "_model_module_version": "1.2.0",
            "_model_name": "LayoutModel",
            "_view_count": null,
            "_view_module": "@jupyter-widgets/base",
            "_view_module_version": "1.2.0",
            "_view_name": "LayoutView",
            "align_content": null,
            "align_items": null,
            "align_self": null,
            "border": null,
            "bottom": null,
            "display": null,
            "flex": null,
            "flex_flow": null,
            "grid_area": null,
            "grid_auto_columns": null,
            "grid_auto_flow": null,
            "grid_auto_rows": null,
            "grid_column": null,
            "grid_gap": null,
            "grid_row": null,
            "grid_template_areas": null,
            "grid_template_columns": null,
            "grid_template_rows": null,
            "height": null,
            "justify_content": null,
            "justify_items": null,
            "left": null,
            "margin": null,
            "max_height": null,
            "max_width": null,
            "min_height": null,
            "min_width": null,
            "object_fit": null,
            "object_position": null,
            "order": null,
            "overflow": null,
            "overflow_x": null,
            "overflow_y": null,
            "padding": null,
            "right": null,
            "top": null,
            "visibility": null,
            "width": null
          }
        },
        "2b2730026c49482da280c51a4423afe4": {
          "model_module": "@jupyter-widgets/controls",
          "model_name": "VBoxModel",
          "model_module_version": "1.5.0",
          "state": {
            "_dom_classes": [],
            "_model_module": "@jupyter-widgets/controls",
            "_model_module_version": "1.5.0",
            "_model_name": "VBoxModel",
            "_view_count": null,
            "_view_module": "@jupyter-widgets/controls",
            "_view_module_version": "1.5.0",
            "_view_name": "VBoxView",
            "box_style": "",
            "children": [
              "IPY_MODEL_9acc22fe25ff491381cc66712d617f42",
              "IPY_MODEL_6d4f7cb119f7406a8232f4c796a49456"
            ],
            "layout": "IPY_MODEL_166303b711cc41efb302b6b59f0889bf"
          }
        },
        "9acc22fe25ff491381cc66712d617f42": {
          "model_module": "@jupyter-widgets/controls",
          "model_name": "ToggleButtonsModel",
          "model_module_version": "1.5.0",
          "state": {
            "_dom_classes": [],
            "_model_module": "@jupyter-widgets/controls",
            "_model_module_version": "1.5.0",
            "_model_name": "ToggleButtonsModel",
            "_options_labels": [
              "Soma",
              "Apical tuft (proximal)"
            ],
            "_view_count": null,
            "_view_module": "@jupyter-widgets/controls",
            "_view_module_version": "1.5.0",
            "_view_name": "ToggleButtonsView",
            "button_style": "",
            "description": "",
            "description_tooltip": null,
            "disabled": false,
            "icons": [],
            "index": 0,
            "layout": "IPY_MODEL_1cba5c3a466442d0aecc4f4cb55b2e86",
            "style": "IPY_MODEL_31f42feb9182459cb6726da0acf6488b",
            "tooltips": []
          }
        },
        "6d4f7cb119f7406a8232f4c796a49456": {
          "model_module": "@jupyter-widgets/controls",
          "model_name": "HBoxModel",
          "model_module_version": "1.5.0",
          "state": {
            "_dom_classes": [],
            "_model_module": "@jupyter-widgets/controls",
            "_model_module_version": "1.5.0",
            "_model_name": "HBoxModel",
            "_view_count": null,
            "_view_module": "@jupyter-widgets/controls",
            "_view_module_version": "1.5.0",
            "_view_name": "HBoxView",
            "box_style": "",
            "children": [
              "IPY_MODEL_03ef2d65ba474cf4a1f6799796224265",
              "IPY_MODEL_d4d1a6d8cddc45ad9a0802d0c4dc0150"
            ],
            "layout": "IPY_MODEL_28cefbf1a3634485841732bcf045e0b1"
          }
        },
        "166303b711cc41efb302b6b59f0889bf": {
          "model_module": "@jupyter-widgets/base",
          "model_name": "LayoutModel",
          "model_module_version": "1.2.0",
          "state": {
            "_model_module": "@jupyter-widgets/base",
            "_model_module_version": "1.2.0",
            "_model_name": "LayoutModel",
            "_view_count": null,
            "_view_module": "@jupyter-widgets/base",
            "_view_module_version": "1.2.0",
            "_view_name": "LayoutView",
            "align_content": null,
            "align_items": null,
            "align_self": null,
            "border": null,
            "bottom": null,
            "display": null,
            "flex": null,
            "flex_flow": null,
            "grid_area": null,
            "grid_auto_columns": null,
            "grid_auto_flow": null,
            "grid_auto_rows": null,
            "grid_column": null,
            "grid_gap": null,
            "grid_row": null,
            "grid_template_areas": null,
            "grid_template_columns": null,
            "grid_template_rows": null,
            "height": null,
            "justify_content": null,
            "justify_items": null,
            "left": null,
            "margin": null,
            "max_height": null,
            "max_width": null,
            "min_height": null,
            "min_width": null,
            "object_fit": null,
            "object_position": null,
            "order": null,
            "overflow": null,
            "overflow_x": null,
            "overflow_y": null,
            "padding": null,
            "right": null,
            "top": null,
            "visibility": null,
            "width": null
          }
        },
        "1cba5c3a466442d0aecc4f4cb55b2e86": {
          "model_module": "@jupyter-widgets/base",
          "model_name": "LayoutModel",
          "model_module_version": "1.2.0",
          "state": {
            "_model_module": "@jupyter-widgets/base",
            "_model_module_version": "1.2.0",
            "_model_name": "LayoutModel",
            "_view_count": null,
            "_view_module": "@jupyter-widgets/base",
            "_view_module_version": "1.2.0",
            "_view_name": "LayoutView",
            "align_content": null,
            "align_items": null,
            "align_self": null,
            "border": null,
            "bottom": null,
            "display": null,
            "flex": null,
            "flex_flow": null,
            "grid_area": null,
            "grid_auto_columns": null,
            "grid_auto_flow": null,
            "grid_auto_rows": null,
            "grid_column": null,
            "grid_gap": null,
            "grid_row": null,
            "grid_template_areas": null,
            "grid_template_columns": null,
            "grid_template_rows": null,
            "height": null,
            "justify_content": null,
            "justify_items": null,
            "left": null,
            "margin": null,
            "max_height": null,
            "max_width": null,
            "min_height": null,
            "min_width": null,
            "object_fit": null,
            "object_position": null,
            "order": null,
            "overflow": null,
            "overflow_x": null,
            "overflow_y": null,
            "padding": null,
            "right": null,
            "top": null,
            "visibility": null,
            "width": null
          }
        },
        "31f42feb9182459cb6726da0acf6488b": {
          "model_module": "@jupyter-widgets/controls",
          "model_name": "ToggleButtonsStyleModel",
          "model_module_version": "1.5.0",
          "state": {
            "_model_module": "@jupyter-widgets/controls",
            "_model_module_version": "1.5.0",
            "_model_name": "ToggleButtonsStyleModel",
            "_view_count": null,
            "_view_module": "@jupyter-widgets/base",
            "_view_module_version": "1.2.0",
            "_view_name": "StyleView",
            "button_width": "",
            "description_width": "",
            "font_weight": ""
          }
        },
        "03ef2d65ba474cf4a1f6799796224265": {
          "model_module": "@jupyter-widgets/controls",
          "model_name": "LabelModel",
          "model_module_version": "1.5.0",
          "state": {
            "_dom_classes": [],
            "_model_module": "@jupyter-widgets/controls",
            "_model_module_version": "1.5.0",
            "_model_name": "LabelModel",
            "_view_count": null,
            "_view_module": "@jupyter-widgets/controls",
            "_view_module_version": "1.5.0",
            "_view_name": "LabelView",
            "description": "",
            "description_tooltip": null,
            "layout": "IPY_MODEL_e58a9cb66fd143b1bb39c31b58c0876d",
            "placeholder": "​",
            "style": "IPY_MODEL_baa9bf4f66864cca8dba1b945c51ef27",
            "value": "Synapse maximal conductance (uS)"
          }
        },
        "d4d1a6d8cddc45ad9a0802d0c4dc0150": {
          "model_module": "@jupyter-widgets/controls",
          "model_name": "FloatSliderModel",
          "model_module_version": "1.5.0",
          "state": {
            "_dom_classes": [],
            "_model_module": "@jupyter-widgets/controls",
            "_model_module_version": "1.5.0",
            "_model_name": "FloatSliderModel",
            "_view_count": null,
            "_view_module": "@jupyter-widgets/controls",
            "_view_module_version": "1.5.0",
            "_view_name": "FloatSliderView",
            "continuous_update": true,
            "description": "",
            "description_tooltip": null,
            "disabled": false,
            "layout": "IPY_MODEL_530161a3c58049909574ae108d4131db",
            "max": 0.1,
            "min": 0,
            "orientation": "horizontal",
            "readout": true,
            "readout_format": ".4f",
            "step": 0.0002,
            "style": "IPY_MODEL_6817f5a09b6e4fecb44df8d2de4404e4",
            "value": 0.1
          }
        },
        "28cefbf1a3634485841732bcf045e0b1": {
          "model_module": "@jupyter-widgets/base",
          "model_name": "LayoutModel",
          "model_module_version": "1.2.0",
          "state": {
            "_model_module": "@jupyter-widgets/base",
            "_model_module_version": "1.2.0",
            "_model_name": "LayoutModel",
            "_view_count": null,
            "_view_module": "@jupyter-widgets/base",
            "_view_module_version": "1.2.0",
            "_view_name": "LayoutView",
            "align_content": null,
            "align_items": null,
            "align_self": null,
            "border": null,
            "bottom": null,
            "display": null,
            "flex": null,
            "flex_flow": null,
            "grid_area": null,
            "grid_auto_columns": null,
            "grid_auto_flow": null,
            "grid_auto_rows": null,
            "grid_column": null,
            "grid_gap": null,
            "grid_row": null,
            "grid_template_areas": null,
            "grid_template_columns": null,
            "grid_template_rows": null,
            "height": null,
            "justify_content": null,
            "justify_items": null,
            "left": null,
            "margin": null,
            "max_height": null,
            "max_width": null,
            "min_height": null,
            "min_width": null,
            "object_fit": null,
            "object_position": null,
            "order": null,
            "overflow": null,
            "overflow_x": null,
            "overflow_y": null,
            "padding": null,
            "right": null,
            "top": null,
            "visibility": null,
            "width": null
          }
        },
        "e58a9cb66fd143b1bb39c31b58c0876d": {
          "model_module": "@jupyter-widgets/base",
          "model_name": "LayoutModel",
          "model_module_version": "1.2.0",
          "state": {
            "_model_module": "@jupyter-widgets/base",
            "_model_module_version": "1.2.0",
            "_model_name": "LayoutModel",
            "_view_count": null,
            "_view_module": "@jupyter-widgets/base",
            "_view_module_version": "1.2.0",
            "_view_name": "LayoutView",
            "align_content": null,
            "align_items": null,
            "align_self": null,
            "border": null,
            "bottom": null,
            "display": null,
            "flex": null,
            "flex_flow": null,
            "grid_area": null,
            "grid_auto_columns": null,
            "grid_auto_flow": null,
            "grid_auto_rows": null,
            "grid_column": null,
            "grid_gap": null,
            "grid_row": null,
            "grid_template_areas": null,
            "grid_template_columns": null,
            "grid_template_rows": null,
            "height": null,
            "justify_content": null,
            "justify_items": null,
            "left": null,
            "margin": null,
            "max_height": null,
            "max_width": null,
            "min_height": null,
            "min_width": null,
            "object_fit": null,
            "object_position": null,
            "order": null,
            "overflow": null,
            "overflow_x": null,
            "overflow_y": null,
            "padding": null,
            "right": null,
            "top": null,
            "visibility": null,
            "width": null
          }
        },
        "baa9bf4f66864cca8dba1b945c51ef27": {
          "model_module": "@jupyter-widgets/controls",
          "model_name": "DescriptionStyleModel",
          "model_module_version": "1.5.0",
          "state": {
            "_model_module": "@jupyter-widgets/controls",
            "_model_module_version": "1.5.0",
            "_model_name": "DescriptionStyleModel",
            "_view_count": null,
            "_view_module": "@jupyter-widgets/base",
            "_view_module_version": "1.2.0",
            "_view_name": "StyleView",
            "description_width": ""
          }
        },
        "530161a3c58049909574ae108d4131db": {
          "model_module": "@jupyter-widgets/base",
          "model_name": "LayoutModel",
          "model_module_version": "1.2.0",
          "state": {
            "_model_module": "@jupyter-widgets/base",
            "_model_module_version": "1.2.0",
            "_model_name": "LayoutModel",
            "_view_count": null,
            "_view_module": "@jupyter-widgets/base",
            "_view_module_version": "1.2.0",
            "_view_name": "LayoutView",
            "align_content": null,
            "align_items": null,
            "align_self": null,
            "border": null,
            "bottom": null,
            "display": null,
            "flex": null,
            "flex_flow": null,
            "grid_area": null,
            "grid_auto_columns": null,
            "grid_auto_flow": null,
            "grid_auto_rows": null,
            "grid_column": null,
            "grid_gap": null,
            "grid_row": null,
            "grid_template_areas": null,
            "grid_template_columns": null,
            "grid_template_rows": null,
            "height": null,
            "justify_content": null,
            "justify_items": null,
            "left": null,
            "margin": null,
            "max_height": null,
            "max_width": null,
            "min_height": null,
            "min_width": null,
            "object_fit": null,
            "object_position": null,
            "order": null,
            "overflow": null,
            "overflow_x": null,
            "overflow_y": null,
            "padding": null,
            "right": null,
            "top": null,
            "visibility": null,
            "width": null
          }
        },
        "6817f5a09b6e4fecb44df8d2de4404e4": {
          "model_module": "@jupyter-widgets/controls",
          "model_name": "SliderStyleModel",
          "model_module_version": "1.5.0",
          "state": {
            "_model_module": "@jupyter-widgets/controls",
            "_model_module_version": "1.5.0",
            "_model_name": "SliderStyleModel",
            "_view_count": null,
            "_view_module": "@jupyter-widgets/base",
            "_view_module_version": "1.2.0",
            "_view_name": "StyleView",
            "description_width": "",
            "handle_color": null
          }
        }
      }
    }
  },
  "nbformat": 4,
  "nbformat_minor": 5
}