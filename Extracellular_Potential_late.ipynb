{
  "cells": [
    {
      "cell_type": "markdown",
      "metadata": {
        "id": "view-in-github",
        "colab_type": "text"
      },
      "source": [
        "<a href=\"https://colab.research.google.com/github/davidfague/Model_Reduction_Methods/blob/main/Extracellular_Potential_late.ipynb\" target=\"_parent\"><img src=\"https://colab.research.google.com/assets/colab-badge.svg\" alt=\"Open In Colab\"/></a>"
      ]
    },
    {
      "cell_type": "markdown",
      "id": "7a9de89f",
      "metadata": {
        "id": "7a9de89f"
      },
      "source": [
        "# Single Cell Extracellular Potential"
      ]
    },
    {
      "cell_type": "code",
      "source": [
        "reduce_cell=True #use neuron_reduce\n",
        "expand_cable=True #use cable_expander"
      ],
      "metadata": {
        "id": "0XKSxnXex5Is"
      },
      "id": "0XKSxnXex5Is",
      "execution_count": 1,
      "outputs": []
    },
    {
      "cell_type": "markdown",
      "id": "MSX7LmGzszzf",
      "metadata": {
        "id": "MSX7LmGzszzf"
      },
      "source": [
        "#### Download modules from Github"
      ]
    },
    {
      "cell_type": "code",
      "source": [
        "!pip install neuron"
      ],
      "metadata": {
        "id": "-urE9jrxNdxm",
        "colab": {
          "base_uri": "https://localhost:8080/"
        },
        "outputId": "b6d106d6-65b7-4add-a424-888849967077"
      },
      "id": "-urE9jrxNdxm",
      "execution_count": 2,
      "outputs": [
        {
          "output_type": "stream",
          "name": "stdout",
          "text": [
            "Looking in indexes: https://pypi.org/simple, https://us-python.pkg.dev/colab-wheels/public/simple/\n",
            "Collecting neuron\n",
            "  Downloading NEURON-8.2.2-cp310-cp310-manylinux_2_17_x86_64.manylinux2014_x86_64.whl (14.9 MB)\n",
            "\u001b[2K     \u001b[90m━━━━━━━━━━━━━━━━━━━━━━━━━━━━━━━━━━━━━━━━\u001b[0m \u001b[32m14.9/14.9 MB\u001b[0m \u001b[31m40.2 MB/s\u001b[0m eta \u001b[36m0:00:00\u001b[0m\n",
            "\u001b[?25hRequirement already satisfied: numpy>=1.9.3 in /usr/local/lib/python3.10/dist-packages (from neuron) (1.22.4)\n",
            "Installing collected packages: neuron\n",
            "Successfully installed neuron-8.2.2\n"
          ]
        }
      ]
    },
    {
      "cell_type": "code",
      "source": [
        "!pip install neuron_reduce"
      ],
      "metadata": {
        "id": "BHjnRgPsN0g2",
        "colab": {
          "base_uri": "https://localhost:8080/"
        },
        "outputId": "a7414e9c-bc24-46e0-957f-fe4e087f3540"
      },
      "id": "BHjnRgPsN0g2",
      "execution_count": 3,
      "outputs": [
        {
          "output_type": "stream",
          "name": "stdout",
          "text": [
            "Looking in indexes: https://pypi.org/simple, https://us-python.pkg.dev/colab-wheels/public/simple/\n",
            "Collecting neuron_reduce\n",
            "  Downloading neuron_reduce-0.0.7-py3-none-any.whl (18 kB)\n",
            "Installing collected packages: neuron_reduce\n",
            "Successfully installed neuron_reduce-0.0.7\n"
          ]
        }
      ]
    },
    {
      "cell_type": "code",
      "source": [
        "!git clone https://github.com/davidfague/Model_Reduction_Methods.git"
      ],
      "metadata": {
        "id": "t4dVzA0WLZ9F",
        "colab": {
          "base_uri": "https://localhost:8080/"
        },
        "outputId": "6a95ce34-910b-4e63-c813-aa21a5b08076"
      },
      "id": "t4dVzA0WLZ9F",
      "execution_count": 4,
      "outputs": [
        {
          "output_type": "stream",
          "name": "stdout",
          "text": [
            "Cloning into 'Model_Reduction_Methods'...\n",
            "remote: Enumerating objects: 1115, done.\u001b[K\n",
            "remote: Counting objects: 100% (341/341), done.\u001b[K\n",
            "remote: Compressing objects: 100% (241/241), done.\u001b[K\n",
            "remote: Total 1115 (delta 185), reused 165 (delta 100), pack-reused 774\u001b[K\n",
            "Receiving objects: 100% (1115/1115), 6.60 MiB | 12.98 MiB/s, done.\n",
            "Resolving deltas: 100% (614/614), done.\n"
          ]
        }
      ]
    },
    {
      "cell_type": "code",
      "source": [
        "%cd Model_Reduction_Methods/\n",
        "\n",
        "#import reduction and expansion functions\n",
        "from test_neuron_reduce.subtree_reductor_func import subtree_reductor\n",
        "from cable_expander_func import cable_expander\n",
        "\n",
        "#import recording functions\n",
        "from stylized_module.recorder import Recorder\n",
        "\n",
        "# #import analysis functions\n",
        "# from utils import make_seg_df,generate_stylized_geometry,make_reduced_seg_df,plot_morphology,check_connectivity,generate_reduced_cell_seg_coords, create_seg_var_report\n",
        "\n",
        "# from modeling_module.synapses import Synapse, Listed_Synapse\n",
        "from modeling_module.cell_model import cell_model\n",
        "import pandas as pd"
      ],
      "metadata": {
        "id": "cY9U_KPwLVAz",
        "colab": {
          "base_uri": "https://localhost:8080/"
        },
        "outputId": "b600f3bc-febe-4b1e-f753-d40c6e7bafe8"
      },
      "id": "cY9U_KPwLVAz",
      "execution_count": 5,
      "outputs": [
        {
          "output_type": "stream",
          "name": "stdout",
          "text": [
            "/content/Model_Reduction_Methods\n"
          ]
        }
      ]
    },
    {
      "cell_type": "code",
      "source": [],
      "metadata": {
        "id": "Ez09NP_HCSAk"
      },
      "id": "Ez09NP_HCSAk",
      "execution_count": 5,
      "outputs": []
    },
    {
      "cell_type": "code",
      "source": [
        "%cd expand_example"
      ],
      "metadata": {
        "id": "vXTRrX-ILq6D",
        "colab": {
          "base_uri": "https://localhost:8080/"
        },
        "outputId": "71eddcd4-577e-4ab5-a885-913bc9a633cb"
      },
      "id": "vXTRrX-ILq6D",
      "execution_count": 6,
      "outputs": [
        {
          "output_type": "stream",
          "name": "stdout",
          "text": [
            "/content/Model_Reduction_Methods/expand_example\n"
          ]
        }
      ]
    },
    {
      "cell_type": "code",
      "source": [
        "# compile the mod files\n",
        "!nrnivmodl mod"
      ],
      "metadata": {
        "id": "Dm-MdGeb6uZB",
        "colab": {
          "base_uri": "https://localhost:8080/"
        },
        "outputId": "0d929a67-6b5f-4247-d63e-2f80ab26be53"
      },
      "id": "Dm-MdGeb6uZB",
      "execution_count": 7,
      "outputs": [
        {
          "output_type": "stream",
          "name": "stdout",
          "text": [
            "/usr/local/bin/nrnivmodl:11: DeprecationWarning: The distutils package is deprecated and slated for removal in Python 3.12. Use setuptools or check PEP 632 for potential alternatives\n",
            "  from distutils.ccompiler import new_compiler\n",
            "/content/Model_Reduction_Methods/expand_example\n",
            "Mod files: \"mod/mod/CaDynamics_E2.mod\" \"mod/mod/Ca_HVA.mod\" \"mod/mod/Ca_LVAst.mod\" \"mod/mod/epsp.mod\" \"mod/mod/Ih.mod\" \"mod/mod/Im.mod\" \"mod/mod/K_Pst.mod\" \"mod/mod/K_Tst.mod\" \"mod/mod/Nap_Et2.mod\" \"mod/mod/NaTa_t.mod\" \"mod/mod/NaTs2_t.mod\" \"mod/mod/SK_E2.mod\" \"mod/mod/SKv3_1.mod\"\n",
            "\n",
            "Creating 'x86_64' directory for .o files.\n",
            "\n",
            " -> \u001b[32mCompiling\u001b[0m mod_func.cpp\n",
            " -> \u001b[32mNMODL\u001b[0m ../mod/CaDynamics_E2.mod\n",
            " -> \u001b[32mNMODL\u001b[0m ../mod/Ca_HVA.mod\n",
            "Translating CaDynamics_E2.mod into /content/Model_Reduction_Methods/expand_example/x86_64/CaDynamics_E2.c\n",
            " -> \u001b[32mNMODL\u001b[0m ../mod/Ca_LVAst.mod\n",
            "Thread Safe\n",
            "Translating Ca_LVAst.mod into /content/Model_Reduction_Methods/expand_example/x86_64/Ca_LVAst.c\n",
            "Thread Safe\n",
            " -> \u001b[32mNMODL\u001b[0m ../mod/epsp.mod\n",
            "Translating Ca_HVA.mod into /content/Model_Reduction_Methods/expand_example/x86_64/Ca_HVA.c\n",
            "Thread Safe\n",
            " -> \u001b[32mNMODL\u001b[0m ../mod/Ih.mod\n",
            "Translating epsp.mod into /content/Model_Reduction_Methods/expand_example/x86_64/epsp.c\n",
            "Thread Safe\n",
            " -> \u001b[32mNMODL\u001b[0m ../mod/Im.mod\n",
            " -> \u001b[32mNMODL\u001b[0m ../mod/K_Pst.mod\n",
            "Translating Ih.mod into /content/Model_Reduction_Methods/expand_example/x86_64/Ih.c\n",
            "Thread Safe\n",
            "Translating Im.mod into /content/Model_Reduction_Methods/expand_example/x86_64/Im.c\n",
            "Thread Safe\n",
            " -> \u001b[32mNMODL\u001b[0m ../mod/K_Tst.mod\n",
            " -> \u001b[32mNMODL\u001b[0m ../mod/Nap_Et2.mod\n",
            "Translating K_Tst.mod into /content/Model_Reduction_Methods/expand_example/x86_64/K_Tst.c\n",
            "Translating K_Pst.mod into /content/Model_Reduction_Methods/expand_example/x86_64/K_Pst.c\n",
            "Thread Safe\n",
            "Translating Nap_Et2.mod into /content/Model_Reduction_Methods/expand_example/x86_64/Nap_Et2.c\n",
            "Thread Safe\n",
            "Thread Safe\n",
            " -> \u001b[32mNMODL\u001b[0m ../mod/NaTa_t.mod\n",
            " -> \u001b[32mNMODL\u001b[0m ../mod/NaTs2_t.mod\n",
            " -> \u001b[32mNMODL\u001b[0m ../mod/SK_E2.mod\n",
            "Translating NaTs2_t.mod into /content/Model_Reduction_Methods/expand_example/x86_64/NaTs2_t.c\n",
            "Thread Safe\n",
            " -> \u001b[32mNMODL\u001b[0m ../mod/SKv3_1.mod\n",
            "Translating NaTa_t.mod into /content/Model_Reduction_Methods/expand_example/x86_64/NaTa_t.c\n",
            "Translating SK_E2.mod into /content/Model_Reduction_Methods/expand_example/x86_64/SK_E2.c\n",
            "Thread Safe\n",
            "Thread Safe\n",
            " -> \u001b[32mCompiling\u001b[0m CaDynamics_E2.c\n",
            "Translating SKv3_1.mod into /content/Model_Reduction_Methods/expand_example/x86_64/SKv3_1.c\n",
            " -> \u001b[32mCompiling\u001b[0m Ca_HVA.c\n",
            "Thread Safe\n",
            " -> \u001b[32mCompiling\u001b[0m Ca_LVAst.c\n",
            " -> \u001b[32mCompiling\u001b[0m epsp.c\n",
            " -> \u001b[32mCompiling\u001b[0m Ih.c\n",
            " -> \u001b[32mCompiling\u001b[0m Im.c\n",
            " -> \u001b[32mCompiling\u001b[0m K_Pst.c\n",
            " -> \u001b[32mCompiling\u001b[0m K_Tst.c\n",
            " -> \u001b[32mCompiling\u001b[0m Nap_Et2.c\n",
            " -> \u001b[32mCompiling\u001b[0m NaTa_t.c\n",
            " -> \u001b[32mCompiling\u001b[0m SK_E2.c\n",
            " -> \u001b[32mCompiling\u001b[0m NaTs2_t.c\n",
            " -> \u001b[32mCompiling\u001b[0m SKv3_1.c\n",
            " => \u001b[32mLINKING\u001b[0m shared library ./libnrnmech.so\n",
            " => \u001b[32mLINKING\u001b[0m executable ./special LDFLAGS are:    -pthread\n",
            "Successfully created x86_64/special\n"
          ]
        }
      ]
    },
    {
      "cell_type": "markdown",
      "id": "2a84fbea",
      "metadata": {
        "id": "2a84fbea"
      },
      "source": [
        "## Setup smiulation parameters"
      ]
    },
    {
      "cell_type": "code",
      "execution_count": 8,
      "id": "4be7f6fd",
      "metadata": {
        "id": "4be7f6fd",
        "colab": {
          "base_uri": "https://localhost:8080/"
        },
        "outputId": "3e0a26dd-e48f-425f-cc0a-ed8cd797f84c"
      },
      "outputs": [
        {
          "output_type": "execute_result",
          "data": {
            "text/plain": [
              "1.0"
            ]
          },
          "metadata": {},
          "execution_count": 8
        }
      ],
      "source": [
        "import numpy as np\n",
        "import pandas as pd\n",
        "import json\n",
        "import matplotlib.pyplot as plt\n",
        "import ipywidgets as widgets\n",
        "from neuron import h\n",
        "from scipy import signal\n",
        "from IPython.display import display, clear_output\n",
        "from ipywidgets import interactive_output, HBox, VBox, Label, Layout\n",
        "\n",
        "from __future__ import division\n",
        "from neuron import gui,h\n",
        "import numpy as np\n",
        "import time\n",
        "import matplotlib.pyplot as plt\n",
        "\n",
        "%matplotlib inline\n",
        "\n",
        "\n",
        "h.load_file('stdrun.hoc')\n",
        "# h.nrn_load_dll(paths.COMPILED_LIBRARY_REDUCED_ORDER)  # choose the set of mechanisms\n",
        "h.nrn_load_dll('./x86_64/.libs/libnrnmech.so')\n"
      ]
    },
    {
      "cell_type": "markdown",
      "id": "7927a07b",
      "metadata": {
        "id": "7927a07b"
      },
      "source": [
        "### Create a cell with reduced morphology"
      ]
    },
    {
      "cell_type": "code",
      "source": [
        "%ls"
      ],
      "metadata": {
        "id": "s0gis1f1OdWX",
        "colab": {
          "base_uri": "https://localhost:8080/"
        },
        "outputId": "c73501bb-ed20-4c90-cf94-9080539544a9"
      },
      "id": "s0gis1f1OdWX",
      "execution_count": 9,
      "outputs": [
        {
          "output_type": "stream",
          "name": "stdout",
          "text": [
            "cell1.asc  example_expand.py  L5PCtemplate.hoc  \u001b[0m\u001b[01;34mx86_64\u001b[0m/\n",
            "Cell.hoc   L5PCbiophys3.hoc   \u001b[01;34mmod\u001b[0m/\n"
          ]
        }
      ]
    },
    {
      "cell_type": "code",
      "source": [
        "# class Synapse(PointCurrent):\n",
        "#     def __init__(self, cell, stim: h.NetStim, sec_index: int,\n",
        "#                   syn_type: str = 'Exp2Syn', gmax: float = 0.01, loc: float = 0.5,\n",
        "#                   record: bool = False):\n",
        "#         super().__init__(cell, sec_index, loc)\n",
        "#         self.stim = stim\n",
        "#         self.gmax = gmax\n",
        "#         self.__synapse_type(syn_type)\n",
        "#         self.setup(record)\n",
        "\n",
        "#     # PRIVATE METHODS\n",
        "#     def __synapse_type(self, syn_type):\n",
        "#         if syn_type == 'AlphaSynapse1':\n",
        "#             # Reversal potential (mV); Synapse time constant (ms)\n",
        "#             self.syn_params = {'e': 0., 'tau': 2.0}\n",
        "#             # Variable name of maximum conductance (uS)\n",
        "#             self.gmax_var = 'gmax'\n",
        "#         elif syn_type == 'Exp2Syn':\n",
        "#             self.syn_params = {'e': 0., 'tau1': 1.0, 'tau2': 3.0}\n",
        "#             self.gmax_var = '_nc_weight'\n",
        "#         else:\n",
        "#             raise ValueError(\"Synpase type not defined.\")\n",
        "#         self.syn_type = syn_type\n",
        "#         self.pp_obj = getattr(h, syn_type)(self.get_section()(self.loc))\n",
        "\n",
        "#     def __setup_synapse(self):\n",
        "#         self.syn = self.pp_obj\n",
        "#         self.nc = h.NetCon(self.stim, self.syn, 1, 0, 1)\n",
        "#         for key, value in self.syn_params.items():\n",
        "#             setattr(self.syn, key, value)\n",
        "#         self.set_gmax()\n",
        "\n",
        "#     # PUBLIC METHODS\n",
        "#     def setup(self, record: bool = False):\n",
        "#         self.__setup_synapse()\n",
        "#         if record:\n",
        "#             self.setup_recorder()\n",
        "    \n",
        "#     def set_gmax(self, gmax: float = None):\n",
        "#         if gmax is not None:\n",
        "#             self.gmax = gmax\n",
        "#         if self.gmax_var == '_nc_weight':\n",
        "#             self.nc.weight[0] = self.gmax\n",
        "#         else:\n",
        "#             setattr(self.syn, self.gmax_var, self.gmax)"
      ],
      "metadata": {
        "id": "8TE_op1mUTii"
      },
      "id": "8TE_op1mUTii",
      "execution_count": 10,
      "outputs": []
    },
    {
      "cell_type": "markdown",
      "source": [
        "Build complex cell"
      ],
      "metadata": {
        "id": "CjCDSZpXTG1w"
      },
      "id": "CjCDSZpXTG1w"
    },
    {
      "cell_type": "code",
      "source": [
        "h.load_file('L5PCbiophys3.hoc')\n",
        "\n",
        "# # Load morphology parameters from a csv file\n",
        "# geometry = pd.read_csv(paths.GEO_REDUCED_ORDER, index_col='id')\n",
        "h.load_file(\"import3d.hoc\")\n",
        "\n",
        "\n",
        "# Create a cell object\n",
        "# cell = ReducedOrderL5CellPassiveDendrite(geometry=geometry, full_biophys=biophys_param)\n",
        "h.load_file('L5PCtemplate.hoc')\n",
        "complex_cell = h.L5PCtemplate('cell1.asc')\n",
        "h.celsius = 37\n",
        "h.v_init = complex_cell.soma[0].e_pas\n",
        "\n",
        "synapses_list=[]\n",
        "netcons_list=[]\n",
        "cell = cell_model(complex_cell,synapses_list=synapses_list,netcons_list=netcons_list,spike_threshold = 10)"
      ],
      "metadata": {
        "colab": {
          "base_uri": "https://localhost:8080/"
        },
        "id": "_3cQePJaTF1t",
        "outputId": "22bd5c9d-493f-4632-d631-d6a1abdd0b14"
      },
      "id": "_3cQePJaTF1t",
      "execution_count": 11,
      "outputs": [
        {
          "output_type": "stream",
          "name": "stdout",
          "text": [
            "Generating 3D coordinates for:  L5PCtemplate[0].axon[0]\n",
            "Generating 3D coordinates for:  L5PCtemplate[0].axon[1]\n"
          ]
        }
      ]
    },
    {
      "cell_type": "code",
      "source": [
        "#need to check cell.add_synapse\n",
        "dir(cell)"
      ],
      "metadata": {
        "id": "AzxdWmmxYMM6",
        "outputId": "72b0dd66-1b60-4b13-ef4f-a92eeaac5016",
        "colab": {
          "base_uri": "https://localhost:8080/"
        }
      },
      "id": "AzxdWmmxYMM6",
      "execution_count": 12,
      "outputs": [
        {
          "output_type": "execute_result",
          "data": {
            "text/plain": [
              "['Vm',\n",
              " '__class__',\n",
              " '__delattr__',\n",
              " '__dict__',\n",
              " '__dir__',\n",
              " '__doc__',\n",
              " '__eq__',\n",
              " '__format__',\n",
              " '__ge__',\n",
              " '__get_segment_info__',\n",
              " '__getattribute__',\n",
              " '__gt__',\n",
              " '__hash__',\n",
              " '__init__',\n",
              " '__init_subclass__',\n",
              " '__le__',\n",
              " '__lt__',\n",
              " '__module__',\n",
              " '__ne__',\n",
              " '__new__',\n",
              " '__reduce__',\n",
              " '__reduce_ex__',\n",
              " '__repr__',\n",
              " '__setattr__',\n",
              " '__sizeof__',\n",
              " '__str__',\n",
              " '__subclasshook__',\n",
              " '__weakref__',\n",
              " '_cell_model__calc_seg_coords',\n",
              " '_cell_model__calc_seg_coords__byseg',\n",
              " '_cell_model__calc_seg_coords__dict',\n",
              " '_cell_model__calc_seg_coords_orig',\n",
              " '_cell_model__calculate_netcons_per_seg',\n",
              " '_cell_model__convert_sectionlist',\n",
              " '_cell_model__create_output_files',\n",
              " '_cell_model__create_output_folder',\n",
              " '_cell_model__generate_geometry_file',\n",
              " '_cell_model__generate_sec_coords',\n",
              " '_cell_model__generate_sec_coords__old',\n",
              " '_cell_model__get_parent_segment_ids',\n",
              " '_cell_model__get_segment_elec_dist',\n",
              " '_cell_model__insert_unused_channels',\n",
              " '_cell_model__report_data',\n",
              " '_cell_model__set_spike_recorder',\n",
              " '_cell_model__setup_recorders',\n",
              " '_cell_model__store_point_processes',\n",
              " '_cell_model__store_segments',\n",
              " '_cell_model__store_synapses_list',\n",
              " '_nseg',\n",
              " 'add_injection',\n",
              " 'add_synapse',\n",
              " 'all',\n",
              " 'apic',\n",
              " 'axon',\n",
              " 'dend',\n",
              " 'gNaTa_T',\n",
              " 'get_recorder_data',\n",
              " 'get_spike_time',\n",
              " 'grp_ids',\n",
              " 'icah',\n",
              " 'ical',\n",
              " 'ih',\n",
              " 'ina',\n",
              " 'injection',\n",
              " 'netcons_list',\n",
              " 'plot_seg_heatmap',\n",
              " 'plot_temporal_spatial_heatmap',\n",
              " 'sec_angs',\n",
              " 'sec_id_in_seg',\n",
              " 'sec_id_lookup',\n",
              " 'sec_rots',\n",
              " 'seg_coords',\n",
              " 'segments',\n",
              " 'soma',\n",
              " 'spike_threshold',\n",
              " 'spikes',\n",
              " 'synapse',\n",
              " 'synapses_list',\n",
              " 'write_seg_info_to_csv']"
            ]
          },
          "metadata": {},
          "execution_count": 12
        }
      ]
    },
    {
      "cell_type": "code",
      "source": [
        "# place synapses on distal tuft sections:\n",
        "parent_sections=[]\n",
        "for sec in cell.all: # find non-terminal sections\n",
        "  if sec.parentseg() is not None:\n",
        "    if sec.parentseg().sec not in parent_sections:\n",
        "      parent_sections.append(sec.parentseg().sec)\n",
        "\n",
        "h.distance(sec=cell.soma) #use to find distance from soma\n",
        "\n",
        "tufts=[]\n",
        "for sec in cell.apic:  # check if the section is a terminal section and if it is apical tuft\n",
        "  # print(h.distance(sec(0.5)))\n",
        "  if sec not in parent_sections and h.distance(sec(0.5)) > 800:\n",
        "    tufts.append(sec)\n",
        "    # print(sec, 'is a terminal section of the tuft')\n",
        "\n"
      ],
      "metadata": {
        "id": "cKhOKBVtWkal"
      },
      "id": "cKhOKBVtWkal",
      "execution_count": 13,
      "outputs": []
    },
    {
      "cell_type": "code",
      "source": [
        "# generate presynaptic spike train (if this is before placing synapses then there willb e one stimulus for all synapses)\n",
        "import random\n",
        "#use defined cell_model class for generating 3d coordinates, recording ECP, 'book-keeping' etc...\n",
        "random.seed(2)\n",
        "\n",
        "# Create synaptic input\n",
        "stim = h.NetStim()\n",
        "frequency=15 #(hz)\n",
        "spikeinterval = (1/frequency)*1000 #convert to T and milliseconds\n",
        "stim.noise=0\n",
        "stim.interval=spikeinterval\n",
        "print(str(stim.interval))\n",
        "stim.number = 3  # only one event\n",
        "stim.start = 2.0  # delay (ms)\n",
        "\n",
        "gmax = 1  # default synapse maximum conductance (uS)"
      ],
      "metadata": {
        "id": "oIofalsJYsBm",
        "outputId": "ee3a27fb-e803-46a6-d2eb-14ad136ca63c",
        "colab": {
          "base_uri": "https://localhost:8080/"
        }
      },
      "id": "oIofalsJYsBm",
      "execution_count": 14,
      "outputs": [
        {
          "output_type": "stream",
          "name": "stdout",
          "text": [
            "66.66666666666667\n"
          ]
        }
      ]
    },
    {
      "cell_type": "code",
      "source": [
        "#place syapses\n",
        "cell._nbranch=len(tufts)\n",
        "print(cell._nbranch, \"terminal tuft branches in original cell\")\n",
        "for distal_tuft_sec in tufts:\n",
        "  cell.add_synapse(stim, sec_index=cell.all.index(distal_tuft_sec), gmax=gmax / cell._nbranch) # need to adjust to only tufts\n"
      ],
      "metadata": {
        "id": "KKsjAd_rYUM9",
        "outputId": "14237037-6be7-4dc4-ac87-81d62ace7a72",
        "colab": {
          "base_uri": "https://localhost:8080/"
        }
      },
      "id": "KKsjAd_rYUM9",
      "execution_count": 15,
      "outputs": [
        {
          "output_type": "stream",
          "name": "stdout",
          "text": [
            "22 terminal tuft branches in original cell\n"
          ]
        }
      ]
    },
    {
      "cell_type": "code",
      "source": [
        "#get synapse hoc obj list from synapse python class obj list\n",
        "synapses_list=[]\n",
        "for synapse in cell.synapse:\n",
        "  synapses_list.append(synapse.syn)"
      ],
      "metadata": {
        "id": "iOQEfI6sae4J"
      },
      "id": "iOQEfI6sae4J",
      "execution_count": 16,
      "outputs": []
    },
    {
      "cell_type": "code",
      "source": [
        "#get lists for redution\n",
        "synapses_list=cell.synapse\n",
        "netcons_list=cell.netcons_list"
      ],
      "metadata": {
        "id": "XvjaMQu3TMjr"
      },
      "id": "XvjaMQu3TMjr",
      "execution_count": 17,
      "outputs": []
    },
    {
      "cell_type": "code",
      "execution_count": null,
      "id": "18a97eeb",
      "metadata": {
        "id": "18a97eeb",
        "colab": {
          "base_uri": "https://localhost:8080/"
        },
        "outputId": "2a67d53e-1a84-42ce-e18d-7de541c5dfad"
      },
      "outputs": [
        {
          "output_type": "error",
          "ename": "TypeError",
          "evalue": "ignored",
          "traceback": [
            "\u001b[0;31m---------------------------------------------------------------------------\u001b[0m",
            "\u001b[0;31mTypeError\u001b[0m                                 Traceback (most recent call last)",
            "\u001b[0;32m<ipython-input-18-44155b232527>\u001b[0m in \u001b[0;36m<cell line: 2>\u001b[0;34m()\u001b[0m\n\u001b[1;32m      2\u001b[0m \u001b[0;32mif\u001b[0m \u001b[0mreduce_cell\u001b[0m\u001b[0;34m==\u001b[0m\u001b[0;32mTrue\u001b[0m\u001b[0;34m:\u001b[0m\u001b[0;34m\u001b[0m\u001b[0;34m\u001b[0m\u001b[0m\n\u001b[1;32m      3\u001b[0m   \u001b[0;31m#reduce complex dendritic trees to cables\u001b[0m\u001b[0;34m\u001b[0m\u001b[0;34m\u001b[0m\u001b[0m\n\u001b[0;32m----> 4\u001b[0;31m   \u001b[0mreduced_cell\u001b[0m\u001b[0;34m,\u001b[0m \u001b[0msynapses_list\u001b[0m\u001b[0;34m,\u001b[0m \u001b[0mnetcons_list\u001b[0m\u001b[0;34m,\u001b[0m \u001b[0mtxt\u001b[0m \u001b[0;34m=\u001b[0m \u001b[0msubtree_reductor\u001b[0m\u001b[0;34m(\u001b[0m\u001b[0mcomplex_cell\u001b[0m\u001b[0;34m,\u001b[0m \u001b[0msynapses_list\u001b[0m\u001b[0;34m,\u001b[0m \u001b[0mnetcons_list\u001b[0m\u001b[0;34m,\u001b[0m \u001b[0mreduction_frequency\u001b[0m\u001b[0;34m=\u001b[0m\u001b[0;36m0\u001b[0m\u001b[0;34m,\u001b[0m\u001b[0mreturn_seg_to_seg\u001b[0m\u001b[0;34m=\u001b[0m\u001b[0;32mTrue\u001b[0m\u001b[0;34m)\u001b[0m\u001b[0;34m\u001b[0m\u001b[0;34m\u001b[0m\u001b[0m\n\u001b[0m\u001b[1;32m      5\u001b[0m \u001b[0;34m\u001b[0m\u001b[0m\n\u001b[1;32m      6\u001b[0m   \u001b[0;32mif\u001b[0m \u001b[0mexpand_cable\u001b[0m\u001b[0;34m:\u001b[0m\u001b[0;34m\u001b[0m\u001b[0;34m\u001b[0m\u001b[0m\n",
            "\u001b[0;32m/content/Model_Reduction_Methods/test_neuron_reduce/subtree_reductor_func.py\u001b[0m in \u001b[0;36msubtree_reductor\u001b[0;34m(original_cell, synapses_list, netcons_list, reduction_frequency, model_filename, total_segments_manual, PP_params_dict, mapping_type, return_seg_to_seg)\u001b[0m\n\u001b[1;32m    859\u001b[0m                                        subtrees_xs)\n\u001b[1;32m    860\u001b[0m \u001b[0;34m\u001b[0m\u001b[0m\n\u001b[0;32m--> 861\u001b[0;31m     new_synapses_list, subtree_ind_to_q = merge_and_add_synapses(\n\u001b[0m\u001b[1;32m    862\u001b[0m         \u001b[0mnum_of_subtrees\u001b[0m\u001b[0;34m,\u001b[0m\u001b[0;34m\u001b[0m\u001b[0;34m\u001b[0m\u001b[0m\n\u001b[1;32m    863\u001b[0m         \u001b[0mnew_cable_properties\u001b[0m\u001b[0;34m,\u001b[0m\u001b[0;34m\u001b[0m\u001b[0;34m\u001b[0m\u001b[0m\n",
            "\u001b[0;32m/content/Model_Reduction_Methods/test_neuron_reduce/subtree_reductor_func.py\u001b[0m in \u001b[0;36mmerge_and_add_synapses\u001b[0;34m(num_of_subtrees, new_cable_properties, PP_params_dict, synapses_list, mapping_sections_to_subtree_index, netcons_list, has_apical, roots_of_subtrees, original_cell, basals, cell, reduction_frequency)\u001b[0m\n\u001b[1;32m    709\u001b[0m                 \u001b[0mx\u001b[0m\u001b[0;34m=\u001b[0m\u001b[0mDecimal\u001b[0m\u001b[0;34m(\u001b[0m\u001b[0mstr\u001b[0m\u001b[0;34m(\u001b[0m\u001b[0mx\u001b[0m\u001b[0;34m)\u001b[0m\u001b[0;34m)\u001b[0m \u001b[0;31m# patch error for passing float to synapse.loc\u001b[0m\u001b[0;34m\u001b[0m\u001b[0;34m\u001b[0m\u001b[0m\n\u001b[1;32m    710\u001b[0m                 \u001b[0;31m#print(\"x:\",x,\"type:\",type(x),\"|section_for_synapse:\",section_for_synapse,\"type:\",type(section_for_synapse),\"|synapse:\",synapse,\"type:\",type(synapse))\u001b[0m\u001b[0;34m\u001b[0m\u001b[0;34m\u001b[0m\u001b[0m\n\u001b[0;32m--> 711\u001b[0;31m                 \u001b[0msynapse\u001b[0m\u001b[0;34m.\u001b[0m\u001b[0mloc\u001b[0m\u001b[0;34m(\u001b[0m\u001b[0mx\u001b[0m\u001b[0;34m,\u001b[0m \u001b[0msec\u001b[0m\u001b[0;34m=\u001b[0m\u001b[0msection_for_synapse\u001b[0m\u001b[0;34m)\u001b[0m\u001b[0;34m\u001b[0m\u001b[0;34m\u001b[0m\u001b[0m\n\u001b[0m\u001b[1;32m    712\u001b[0m                 \u001b[0mnew_synapses_list\u001b[0m\u001b[0;34m.\u001b[0m\u001b[0mappend\u001b[0m\u001b[0;34m(\u001b[0m\u001b[0msynapse\u001b[0m\u001b[0;34m)\u001b[0m\u001b[0;34m\u001b[0m\u001b[0;34m\u001b[0m\u001b[0m\n\u001b[1;32m    713\u001b[0m \u001b[0;34m\u001b[0m\u001b[0m\n",
            "\u001b[0;31mTypeError\u001b[0m: 'float' object is not callable"
          ]
        }
      ],
      "source": [
        "#reduce cell\n",
        "if reduce_cell==True:\n",
        "  #reduce complex dendritic trees to cables\n",
        "  reduced_cell, synapses_list, netcons_list, txt = subtree_reductor(complex_cell, synapses_list, netcons_list, reduction_frequency=0,return_seg_to_seg=True)\n",
        "\n",
        "  if expand_cable:\n",
        "    #expand cable to idealized dendritic trees\n",
        "    sections_to_expand = [reduced_cell.hoc_model.apic[0]]\n",
        "    furcations_x=[0.289004]\n",
        "    nbranches=[4]\n",
        "    reduced_dendritic_cell, synapses_list, netcons_list, txt = cable_expander(reduced_cell, sections_to_expand, furcations_x, nbranches, \n",
        "                                                                              synapses_list, netcons_list, reduction_frequency=0,return_seg_to_seg=True)\n",
        "    cell = cell_model(reduced_dendritic_cell,synapses_list=synapses_list,netcons_list=netcons_list,spike_threshold = 10) #NR model with apical cable converted to tree\n",
        "    tufts=[] # find tufts\n",
        "    for i,sec in enumerate(cell.apic):\n",
        "      if i!=0: # do not add synapse to trunk\n",
        "        tufts.append(sec)\n",
        "  else: \n",
        "    cell=cell_model(reduced_cell,synapses_list=synapses_list,netcons_list=netcons_list,spike_threshold = 10) # neuron_reduce model\n",
        "    tufts=[cell.apic] # Vm plot may return middle segment of trunk since it is the distal apical section.\n",
        "else:\n",
        "  cell = cell_model(complex_cell,synapses_list=synapses_list,netcons_list=netcons_list,spike_threshold = 10) # original cell"
      ]
    },
    {
      "cell_type": "code",
      "source": [
        "# for sec in reduced_dendritic_cell.all:\n",
        "#   print(sec.n3d())"
      ],
      "metadata": {
        "id": "ZqPuBX8UI4nN"
      },
      "id": "ZqPuBX8UI4nN",
      "execution_count": null,
      "outputs": []
    },
    {
      "cell_type": "code",
      "source": [
        "# # try to fix dendrite's beginning location by looking at soma 3d coordinates:\n",
        "# for sec in [reduced_dendritic_cell.soma]:\n",
        "#   for i in range(sec.n3d()):\n",
        "#     print(sec.x3d(i),sec.y3d(i),sec.z3d(i))\n",
        "\n",
        "#soma has many 3d coordinates and current implementation begins dendrites at 3dcoordinates[1]"
      ],
      "metadata": {
        "id": "1loNS7qGmRQ1"
      },
      "id": "1loNS7qGmRQ1",
      "execution_count": null,
      "outputs": []
    },
    {
      "cell_type": "markdown",
      "source": [
        "The next code block is old. it places synapses after reduction (instead of before, which maps them) "
      ],
      "metadata": {
        "id": "suR9EwjBQx4t"
      },
      "id": "suR9EwjBQx4t"
    },
    {
      "cell_type": "code",
      "source": [
        "# import random\n",
        "# #use defined cell_model class for generating 3d coordinates, recording ECP, 'book-keeping' etc...\n",
        "# random.seed(2)\n",
        "\n",
        "# # Create synaptic input\n",
        "# stim = h.NetStim()\n",
        "# frequency=15 #(hz)\n",
        "# spikeinterval = (1/frequency)*1000 #convert to T and milliseconds\n",
        "# stim.noise=0\n",
        "# stim.interval=spikeinterval\n",
        "# print(str(stim.interval))\n",
        "# stim.number = 3  # only one event\n",
        "# stim.start = 2.0  # delay (ms)\n",
        "\n",
        "# gmax = 1  # default synapse maximum conductance (uS)\n",
        "\n",
        "# if Reduce_cell==True:\n",
        "#   cell = cell_model(reduced_dendritic_cell,synapses_list=synapses_list,netcons_list=netcons_list,spike_threshold = 10)\n",
        "#   cell._nbranch=nbranches[0]\n",
        "#   # Add synapse to apical tufts\n",
        "#   tufts=[]\n",
        "#   for i,sec in enumerate(cell.apic):\n",
        "#     if i!=0: # do not add synapse to trunk\n",
        "#       tufts.append(sec)\n",
        "#       cell.add_synapse(stim, sec_index=cell.all.index(sec), gmax=gmax / cell._nbranch, loc=0.01) # need to adjust to only tufts\n",
        "# else:\n",
        "#   cell = cell_model(complex_cell,synapses_list=synapses_list,netcons_list=netcons_list,spike_threshold = 10)\n",
        "#   complex_branching_segment='L5PCtemplate[0].apic[36](0.961538)' #use to assign tuft synapses\n",
        "#   tufts=cell.apic[36].children()\n",
        "#   cell._nbranch=len(tufts) #determine branches starting from this branching point\n",
        "#   # Add synapse to apical tufts\n",
        "#   #indicate the complex branching segment # may have to observe complex cell first\n",
        "#   complex_branching_segment='L5PCtemplate[0].apic[36](0.961538)'\n",
        "#   for i,sec in enumerate(cell.apic[36].children()):\n",
        "#       cell.add_synapse(stim, sec_index=cell.all.index(sec), gmax=gmax / cell._nbranch, loc=0.01) # need to adjust to only tufts\n",
        "\n",
        "\n",
        "# Add synapse to soma\n",
        "cell.add_synapse(stim, sec_index=0, gmax=gmax)\n",
        "\n",
        "# Add synapse to apical tufts"
      ],
      "metadata": {
        "id": "rSTUwzTfqEX2"
      },
      "id": "rSTUwzTfqEX2",
      "execution_count": null,
      "outputs": []
    },
    {
      "cell_type": "code",
      "source": [
        "# # compare \n",
        "# for sec in cell.all:\n",
        "#   for i in range(sec.n3d()):\n",
        "#     print(sec.x3d(i))"
      ],
      "metadata": {
        "id": "4QUvM0h7JzFG"
      },
      "id": "4QUvM0h7JzFG",
      "execution_count": null,
      "outputs": []
    },
    {
      "cell_type": "code",
      "source": [
        "# print(cell.seg_coords['pc'][0])"
      ],
      "metadata": {
        "id": "gE3JYuFhM1_6"
      },
      "id": "gE3JYuFhM1_6",
      "execution_count": null,
      "outputs": []
    },
    {
      "cell_type": "code",
      "source": [
        "# dir(cell)"
      ],
      "metadata": {
        "id": "akYHQOGDKiW5"
      },
      "id": "akYHQOGDKiW5",
      "execution_count": null,
      "outputs": []
    },
    {
      "cell_type": "code",
      "source": [
        "# make_reduced_seg_df(cell,\"segments_expanded.csv\") #need to improve make_reduced_seg_df\n",
        "# expanded_segments_df=pd.read_csv(\"segments_expanded.csv\")\n",
        "# plot_morphology(expanded_segments_df,\"expanded_morphology.svg\")"
      ],
      "metadata": {
        "id": "-ZwVHxQl5gLh"
      },
      "id": "-ZwVHxQl5gLh",
      "execution_count": null,
      "outputs": []
    },
    {
      "cell_type": "code",
      "source": [
        "import os\n",
        "\n",
        "RunningInCOLAB = 'google.colab' in str(get_ipython())\n",
        "if RunningInCOLAB:\n",
        "    !pip install neuron==8.0.0 &> /dev/null\n",
        "    os.chdir('/content')\n",
        "    if not os.path.isdir('Stylized-Single-Cell-and-Extracellular-Potential'):\n",
        "        !git clone https://github.com/chenziao/Stylized-Single-Cell-and-Extracellular-Potential.git &> /dev/null \n",
        "    os.chdir('Stylized-Single-Cell-and-Extracellular-Potential')\n",
        "    %ls"
      ],
      "metadata": {
        "id": "D6vyubrwOvA_"
      },
      "id": "D6vyubrwOvA_",
      "execution_count": null,
      "outputs": []
    },
    {
      "cell_type": "code",
      "source": [
        "from cell_inference.config import params, paths\n",
        "from cell_inference.cells.activecell_axon import ReducedOrderL5Cell, ReducedOrderL5CellPassiveDendrite\n",
        "from cell_inference.utils.currents.ecp import EcpMod\n",
        "from cell_inference.utils.currents.recorder import Recorder\n",
        "from cell_inference.utils.plotting.plot_morphology import plot_morphology\n",
        "from cell_inference.utils.plotting.plot_results import plot_lfp_heatmap, plot_lfp_traces\n",
        "from cell_inference.utils.plotting.plot_variable_with_morphology import plot_variable_with_morphology\n",
        "from cell_inference.utils.metrics.measure_segment_distance import measure_segment_distance"
      ],
      "metadata": {
        "id": "X7p40K3RO1RQ"
      },
      "id": "X7p40K3RO1RQ",
      "execution_count": null,
      "outputs": []
    },
    {
      "cell_type": "code",
      "source": [
        "h.dt = params.DT  # time step\n",
        "h.steps_per_ms = 1/h.dt\n",
        "h.tstop = params.TSTOP  # simulation stop time\n",
        "\n",
        "# Record time points\n",
        "t_vec = h.Vector(round(h.tstop / h.dt) + 1).record(h._ref_t)\n",
        "\n",
        "# Record membrane voltage of all segments\n",
        "V_rec = Recorder(cell.segments)"
      ],
      "metadata": {
        "id": "m_npKvVUO4JD"
      },
      "id": "m_npKvVUO4JD",
      "execution_count": null,
      "outputs": []
    },
    {
      "cell_type": "markdown",
      "id": "22d6f6e6",
      "metadata": {
        "id": "22d6f6e6"
      },
      "source": [
        "### Add electrodes (Neuropixel)\n",
        "A probe with 384 electrodes [https://www.neuropixels.org/probe](https://www.neuropixels.org/probe). The coordinates of each electrode is a row in the array printed below."
      ]
    },
    {
      "cell_type": "code",
      "execution_count": null,
      "id": "8fdb0017",
      "metadata": {
        "id": "8fdb0017"
      },
      "outputs": [],
      "source": [
        "elec_pos = params.ELECTRODE_POSITION\n",
        "ecp = EcpMod(cell, elec_pos, min_distance=params.MIN_DISTANCE)  # create an ECP object for extracellular potential\n",
        "\n",
        "# coordinates (x, y, z) of electrodes\n",
        "print(params.ELECTRODE_POSITION.shape)\n",
        "print(params.ELECTRODE_POSITION)"
      ]
    },
    {
      "cell_type": "markdown",
      "id": "c5323608",
      "metadata": {
        "id": "c5323608"
      },
      "source": [
        "## Custom settings\n",
        "\n",
        "Using the interactive tools below, you can change the position of the cell, and change the synapse strength and location on the cell.\n",
        "\n",
        "#### Cell position parameters (x, y, z, alpha, h, phi)\n",
        "Starting with soma at the origin, apical dendrite along y-axis, rotate and translate the cell to the desired position determined by 6 parameters. First, rotate alpha about the y-axis (spin), then rotate beta=arccos(h) about the x-axis (elevation), then rotate phi about the y-axis (azimuth). Finally translate the cell by (x,y,z).\n",
        "\n",
        "Use the sliders to change the 6 position parameters. Use the sliders 'elev' and 'azim' to change view of the 3D plot."
      ]
    },
    {
      "cell_type": "code",
      "source": [
        "# for sec in cell.apic:\n",
        "#   print(sec,sec.parentseg(), sec.n3d())"
      ],
      "metadata": {
        "id": "qGLMpaA7ME9p"
      },
      "id": "qGLMpaA7ME9p",
      "execution_count": null,
      "outputs": []
    },
    {
      "cell_type": "code",
      "source": [
        "import matplotlib.pyplot as plt\n",
        "from matplotlib.figure import Figure\n",
        "from matplotlib.axes import Axes\n",
        "import numpy as np\n",
        "from typing import Union, Optional, List, Tuple\n",
        "\n",
        "from cell_inference.utils.currents.ecp import move_position\n",
        "from cell_inference.cells.stylizedcell import StylizedCell\n",
        "\n",
        "\n",
        "def plot_morphology(sim: Optional = None, cellid: Optional[int] = 0, cell: Optional[StylizedCell] = None,\n",
        "                    seg_coords: Optional[dict] = None, sec_nseg: Optional[List] = None,\n",
        "                    type_id: Optional[List] = None, electrodes: Optional[np.ndarray] = None,\n",
        "                    axes: Union[List[int], Tuple[int]] = [2, 0, 1], clr: Optional[List[str]] = None,\n",
        "                    elev: int = 20, azim: int = 10, move_cell: Optional[Union[List,np.ndarray]] = None,\n",
        "                    figsize: Optional[Tuple[float, float]] = None) -> Tuple[Figure, Axes]:\n",
        "    \"\"\"\n",
        "    Plot morphology in 3D.\n",
        "\n",
        "    sim: simulation object\n",
        "    cellid: cell id in the simulation object. Default: 0\n",
        "    cell: stylized cell object. Ignore sim and cellid if specified\n",
        "    seg_coords: if not using sim or cell, a dictionary that includes dl, pc, r\n",
        "    sec_nseg: if not using sim or cell, list of number of segments in each section\n",
        "    type_id:  if not using sim or cell, list of the swc type id of each section/segment\n",
        "    electrodes: electrode positions. Default: None, not shown.\n",
        "    axes: sequence of axes to display in 3d plot axes.\n",
        "        Default: [2,0,1] show z,x,y in 3d plot x,y,z axes, so y is upward.\n",
        "    clr: list of colors for each type of section\n",
        "    Return Figure object, Axes object\n",
        "    \"\"\"\n",
        "    if sim is None and cell is None:\n",
        "        if seg_coords is None or sec_nseg is None or type_id is None:\n",
        "            raise ValueError(\"If not using 'Simulation', input arguments 'seg_coords', 'sec_nseg', 'type_id' are required.\")\n",
        "        if clr is None:\n",
        "            clr = ('g', 'r', 'b', 'c')\n",
        "        if move_cell is None:\n",
        "            move_cell = [0., 0., 0., 0., 1., 0.]\n",
        "        sec_id_in_seg = np.cumsum([0] + list(sec_nseg[:-1]))\n",
        "        type_id = np.asarray(type_id) - 1\n",
        "        if type_id.size != len(sec_nseg):\n",
        "            type_id = type_id = type_id[sec_id_in_seg]\n",
        "        type_id = type_id.tolist()\n",
        "        label_idx = np.array([type_id.index(i) for i in range(4)])\n",
        "        lb_odr = np.argsort(label_idx)\n",
        "        label_idx = label_idx[lb_odr].tolist()\n",
        "        sec_name = np.array(('soma','axon','dend','apic'))[lb_odr]\n",
        "    else:\n",
        "        if clr is None:\n",
        "            clr = ('g', 'b', 'pink', 'purple', 'r', 'c')\n",
        "        if cell is None:\n",
        "            if move_cell is None:\n",
        "                move_cell = sim.loc_param[cellid, 0]\n",
        "            cell = sim.cells[cellid]\n",
        "        elif move_cell is None:\n",
        "            move_cell = [0., 0., 0., 0., 1., 0.]\n",
        "        seg_coords = cell.seg_coords\n",
        "        sec_id_in_seg = cell.sec_id_in_seg\n",
        "        sec_nseg = []\n",
        "        sec_name = []\n",
        "        label_idx = []\n",
        "        type_id = []\n",
        "        for i, sec in enumerate(cell.all):\n",
        "            sec_nseg.append(sec.nseg)\n",
        "            name = sec.name().split('.')[-1]\n",
        "            if name not in sec_name:\n",
        "                sec_name.append(name)\n",
        "                label_idx.append(i)\n",
        "            type_id.append(sec_name.index(name))\n",
        "    label_idx.append(-1)\n",
        "\n",
        "    move_cell = np.asarray(move_cell).reshape((2, 3))\n",
        "    dl = move_position([0., 0., 0.], move_cell[1], seg_coords['dl'])\n",
        "    pc = move_position(move_cell[0], move_cell[1], seg_coords['pc'])\n",
        "    xyz = 'xyz'\n",
        "    box = np.vstack([np.full(3, np.inf), np.full(3, np.NINF)])\n",
        "    if electrodes is not None:\n",
        "        box[0, axes[0:2]] = np.amin(electrodes[:, axes[0:2]], axis=0)\n",
        "        box[1, axes[0:2]] = np.amax(electrodes[:, axes[0:2]], axis=0)\n",
        "\n",
        "    fig = plt.figure(figsize=figsize)\n",
        "    ax = plt.axes(projection='3d')\n",
        "    lb_ptr = 0\n",
        "    for i, itype in enumerate(type_id):\n",
        "        label = sec_name[lb_ptr] if i == label_idx[lb_ptr] else None\n",
        "        if label is not None: lb_ptr += 1\n",
        "        i0 = sec_id_in_seg[i]\n",
        "        i1 = i0 + sec_nseg[i] - 1\n",
        "        if sec_name[itype] == 'soma':\n",
        "            p05 = (pc[i0] + pc[i1]) / 2\n",
        "            ax.scatter(*[p05[j] for j in axes], c=clr[itype], s=20, label=label)\n",
        "        else:\n",
        "            p0 = pc[i0] - dl[i0] / 2\n",
        "            p1 = pc[i1] + dl[i1] / 2\n",
        "            ax.plot3D(*[(p0[j], p1[j]) for j in axes], color=clr[itype], label=label)\n",
        "            box[0, :] = np.minimum(box[0, :], np.minimum(p0, p1))\n",
        "            box[1, :] = np.maximum(box[1, :], np.maximum(p0, p1))\n",
        "    ctr = np.mean(box, axis=0)\n",
        "    r = np.amax(box[1, :] - box[0, :]) / 2\n",
        "    box = np.vstack([ctr - r, ctr + r])\n",
        "    if electrodes is not None:\n",
        "        idx = np.logical_and(np.all(electrodes >= box[0, :], axis=1), np.all(electrodes <= box[1, :], axis=1))\n",
        "        ax.scatter(*[(electrodes[idx, j], electrodes[idx, j]) for j in axes], color='orange', s=5, label='electrodes')\n",
        "    box = box[:, axes]\n",
        "    ax.auto_scale_xyz(*box.T)\n",
        "    ax.view_init(elev, azim)\n",
        "    # ax.legend(loc=1)\n",
        "    ax.set_xlabel(xyz[axes[0]])\n",
        "    ax.set_ylabel(xyz[axes[1]])\n",
        "    ax.set_zlabel(xyz[axes[2]])\n",
        "    plt.show()\n",
        "    return fig, ax"
      ],
      "metadata": {
        "id": "eda71vXyA6Vt"
      },
      "id": "eda71vXyA6Vt",
      "execution_count": null,
      "outputs": []
    },
    {
      "cell_type": "code",
      "source": [
        "# for sec in cell.apic:\n",
        "#   fullsecname = sec.name()\n",
        "#   sec_type = fullsecname.split(\".\")[1][:4]\n",
        "#   print(fullsecname)"
      ],
      "metadata": {
        "id": "wlsEX_R4Px7H"
      },
      "id": "wlsEX_R4Px7H",
      "execution_count": null,
      "outputs": []
    },
    {
      "cell_type": "code",
      "execution_count": null,
      "id": "a3df63ce",
      "metadata": {
        "id": "a3df63ce"
      },
      "outputs": [],
      "source": [
        "loc_param_default = [0., 0., 80., 0., 1., 0.]  # Default position parameters\n",
        "elev, azim = 10, 90  # Default view\n",
        "# clr = ['g', 'yellow', 'orange', 'red', 'b', 'c', 'g', 'yellow', 'orange', 'red', 'pink', 'purple']  # section color\n",
        "clr=[]\n",
        "clr.extend(['black' for i in range(len([cell.soma]))]) # soma color\n",
        "clr.extend(['red' for i in range(len(cell.dend))]) #dend colors\n",
        "clr.extend(['purple' for i  in range(len(cell.axon))]) # axon colors\n",
        "clr.extend(['blue']) #trunk color\n",
        "clr.extend(['green' for i in range(len(cell.apic)-1)])  # branch colors\n",
        "\n",
        "def interactive_plot(x, y, z, alpha, beta, phi, elev, azim):\n",
        "    global loc_param\n",
        "    loc_param = (x, y, z, np.pi/180*alpha, np.cos(np.pi/180*beta), np.pi/180*phi)\n",
        "    fig, ax = plot_morphology(cell=cell, electrodes=elec_pos, move_cell=loc_param,\n",
        "                    elev=-elev, azim=-azim, figsize=(12, 8), clr = clr)\n",
        "    plt.show()\n",
        "\n",
        "xslider = Layout(width='500px')\n",
        "yslider = Layout(height='350px')\n",
        "w_reset = widgets.Button(description='Reset', icon='history', button_style='primary')\n",
        "w_x = widgets.FloatSlider(value=loc_param_default[0], min=-200, max=200, step=1, description='x (um)', continuous_update=False, readout_format='.0f')\n",
        "w_y = widgets.FloatSlider(value=loc_param_default[1], min=-1000, max=1000, step=1, description='y (um)', continuous_update=False, readout_format='.0f')\n",
        "w_z = widgets.FloatSlider(value=loc_param_default[2], min=20, max=400, step=1, description='z (um)', continuous_update=False, readout_format='.0f')\n",
        "w_alpha = widgets.FloatSlider(value=180/np.pi*loc_param_default[3], min=-180, max=180, step=1, description='alpha (deg)', continuous_update=False, readout_format='.0f')\n",
        "w_beta = widgets.FloatSlider(value=180/np.pi*np.arccos(loc_param_default[4]), min=0, max=180, step=1, description='beta (deg)', continuous_update=False, readout_format='.0f')\n",
        "w_phi = widgets.FloatSlider(value=180/np.pi*loc_param_default[5], min=-180, max=180, step=1, description='phi (deg)', continuous_update=False, readout_format='.0f')\n",
        "w_elev = widgets.FloatSlider(value=-elev, min=-90, max=90, step=1, description='elev (deg)', continuous_update=False, readout_format='.0f', orientation='vertical', layout=yslider)\n",
        "w_azim = widgets.FloatSlider(value=-azim, min=-180, max=180, step=1, description='azim (deg)', continuous_update=False, readout_format='.0f', layout=xslider)\n",
        "\n",
        "def reset_default(*args):\n",
        "    w_x.value, w_y.value, w_z.value = loc_param_default[:3]\n",
        "    w_alpha.value = 180 / np.pi * loc_param_default[3]\n",
        "    w_beta.value = 180 / np.pi * np.arccos(loc_param_default[4])\n",
        "    w_phi.value = 180 / np.pi * loc_param_default[5]\n",
        "    w_elev.value, w_azim.value = -elev, -azim\n",
        "w_reset.on_click(reset_default)\n",
        "\n",
        "out = interactive_output(interactive_plot, {'x': w_x, 'y': w_y, 'z': w_z, 'alpha': w_alpha, 'beta': w_beta, 'phi': w_phi, 'elev': w_elev, 'azim': w_azim})\n",
        "ui = VBox([ w_reset, HBox([ VBox([w_x, w_y, w_z]), VBox([w_alpha, w_beta, w_phi]) ]), HBox([ VBox([out, w_azim]), w_elev]) ])\n",
        "\n",
        "display(ui)"
      ]
    },
    {
      "cell_type": "markdown",
      "source": [
        "set azim to -90 in order to focus on zy plane view. 2D plot is of xy plane."
      ],
      "metadata": {
        "id": "OPZrMhcBjnec"
      },
      "id": "OPZrMhcBjnec"
    },
    {
      "cell_type": "markdown",
      "id": "0d582310",
      "metadata": {
        "id": "0d582310"
      },
      "source": [
        "#### Set synaptic input\n",
        "\n",
        "Use the toggle button to switch synapse location between the soma and the proximal apical tuft dendrite. Use the slider 'Synapse maximal conductance' to change synapse strength."
      ]
    },
    {
      "cell_type": "code",
      "execution_count": null,
      "id": "ce8d1856",
      "metadata": {
        "id": "ce8d1856"
      },
      "outputs": [],
      "source": [
        "w_syn_site = widgets.ToggleButtons(options=['Soma', 'Apical tuft (proximal)'])\n",
        "w_gmax = widgets.FloatSlider(value=gmax, min=0, max=0.1, step=0.0002, readout_format='.4f')\n",
        "display(VBox([w_syn_site, HBox([Label('Synapse maximal conductance (uS)'), w_gmax])]))\n",
        "\n",
        "def set_synapse():\n",
        "    soma_syn = w_syn_site.value == 'Soma'\n",
        "    gmax_soma = w_gmax.value if soma_syn else 0\n",
        "    gmax_tuft = 0 if soma_syn else w_gmax.value / cell._nbranch\n",
        "    cell.synapse[0].set_gmax(gmax_soma)\n",
        "    for syn in cell.synapse[1:]:\n",
        "        syn.set_gmax(gmax_tuft)"
      ]
    },
    {
      "cell_type": "code",
      "source": [
        "# try to extract syn and gmax for plot information\n",
        "print(w_gmax)\n",
        "print(w_syn_site)"
      ],
      "metadata": {
        "id": "nqUJhNE_22Nn"
      },
      "id": "nqUJhNE_22Nn",
      "execution_count": null,
      "outputs": []
    },
    {
      "cell_type": "code",
      "source": [
        "# nseg = len(cell.segments)\n",
        "# numTstep = int(h.tstop/h.dt)\n",
        "# #since synapse list has combined synapses for computational efficiency, we must use NetCon list/unique spike trains to determine how many synapses were mapped\n",
        "# NetCon_per_seg=[0]*nseg\n",
        "# inh_NetCon_per_seg=[0]*nseg\n",
        "# exc_NetCon_per_seg=[0]*nseg\n",
        "\n",
        "# i_NMDA_bySeg= [[0] * (numTstep+1) ] * nseg # need to implement inmda recording\n",
        "\n",
        "# v_rest=-60 #choose v_rest for categorizing inh/exc synapses\n",
        "\n",
        "# for netcon in cell.netcons_list:\n",
        "#   syn=netcon.syn()\n",
        "#   if syn in synapses_list:\n",
        "#     syn_seg_id=cell.segments.index(netcon.syn().get_segment())\n",
        "#     if syn in cell.segments[syn_seg_id].point_processes():\n",
        "#       NetCon_per_seg[syn_seg_id]+=1 # get synapses per segment\n",
        "#       # NetCon_per_seg[syn_seg_id].append(netcon) # possible implementation if needing objects per segment\n",
        "#       if syn.e > v_rest:\n",
        "#         exc_NetCon_per_seg[syn_seg_id]+=1\n",
        "#         # exc_NetCon_per_seg[syn_seg_id].append(netcon)# possible implementation if needing objects per segment\n",
        "#       else:\n",
        "#         inh_NetCon_per_seg[syn_seg_id]+=1\n",
        "#         # inh_NetCon_per_seg[syn_seg_id].append(netcon)# possible implementation if needing objects per segment\n",
        "#     else:\n",
        "#       print(\"Warning: synapse not in designated segment's point processes\")\n",
        "\n",
        "#   else:\n",
        "#     print(\"Warning: potentially deleted synapse:\",\"|NetCon obj:\",netcon,\"|Synapse obj:\",syn,\"the NetCon's synapse is not in synapses_list. Check corresponding original cell's NetCon for location, etc.\")\n",
        "\n",
        "# #extract inmda from each segment # can be adjusted for gaba synapses or alpha synapses # only paired nmda/ampa synapses have vec_list[1]\n",
        "# for synapse in cell.synapse:\n",
        "#   try:\n",
        "#     i_NMDA = np.array(synapse.rec_vec.vec_list[1])            #current = numpy array of NEURON Vector of current NMDA current at synapse j  \n",
        "#     seg = synapse.get_segment_id()                            #seg = the segment in which synapse j is located \n",
        "#     #print('first try')\n",
        "    \n",
        "#     try:\n",
        "#       i_NMDA_bySeg[seg] = i_NMDA_bySeg[seg] + i_NMDA    \n",
        "#       #print('second try')                                           #Sum current over each segment\n",
        "#     except: \n",
        "#       pass                                                                   #Except needed as some synpases do not have NMDA currrent and throw an error when called\n",
        "#   except:\n",
        "#     pass"
      ],
      "metadata": {
        "id": "-tri29bnwjC6"
      },
      "id": "-tri29bnwjC6",
      "execution_count": null,
      "outputs": []
    },
    {
      "cell_type": "code",
      "source": [
        "%ls"
      ],
      "metadata": {
        "id": "ynXvkXxb1dST"
      },
      "id": "ynXvkXxb1dST",
      "execution_count": null,
      "outputs": []
    },
    {
      "cell_type": "code",
      "source": [
        "cell.get_recorder_data() #also creates directory"
      ],
      "metadata": {
        "id": "LQBCnpfD0F5S"
      },
      "id": "LQBCnpfD0F5S",
      "execution_count": null,
      "outputs": []
    },
    {
      "cell_type": "code",
      "source": [
        "# output_folder_name=str(nbranches[0])+\"nbranch_outputcontrol_\"+str(int(len(cell.synapse)))+\"nsyn\"#+modelname  #include model name in output foler name (ex. original cell, reduced cell, expanded cell)\n",
        "# #create output folder\n",
        "# import os\n",
        "# if not os.path.exists(output_folder_name):\n",
        "#    os.makedirs(output_folder_name)\n",
        "\n",
        "# print(output_folder_name)\n",
        "# os.chdir(output_folder_name)"
      ],
      "metadata": {
        "id": "LeeK1qu11Zhv"
      },
      "id": "LeeK1qu11Zhv",
      "execution_count": null,
      "outputs": []
    },
    {
      "cell_type": "code",
      "source": [
        "#save geometry file\n",
        "# cell.geometry.to_csv('geometry.csv')"
      ],
      "metadata": {
        "id": "2dNBijayE1zu"
      },
      "id": "2dNBijayE1zu",
      "execution_count": null,
      "outputs": []
    },
    {
      "cell_type": "code",
      "source": [
        "# #Should add \"syn per seg\" to seg data frame #also can try doing SynPerSeg/segL to have more of a density metric\n",
        "# #can adjust functions to take df arguement\n",
        "# def plotSynDensity(SynPerSeg,Type=str):\n",
        "#   plt.figure(figsize=(4,10))\n",
        "#   ax = plt.scatter(expanded_segments_df[\"Coord X\"], expanded_segments_df[\"Coord Y\"],c = SynPerSeg[0:nseg],cmap='jet',)\n",
        "#   plt.vlines(110,400,500)\n",
        "#   plt.text(0,450,'100 um')\n",
        "#   plt.hlines(400,110,210)\n",
        "#   plt.text(110,350,'100 um')\n",
        "#   plt.xticks([])\n",
        "#   plt.yticks([])\n",
        "#   cbar = plt.colorbar()\n",
        "#   cbar.ax.set_ylabel(Type+'Synapses per segment', rotation=270)\n",
        "\n",
        "#   plt.box(False)\n",
        "#   plt.savefig(Type+'_syns.svg')\n",
        "\n",
        "# def plotSynDensityNoSoma(SynPerSeg,Type=str):\n",
        "#   plt.figure(figsize=(4,10))\n",
        "#   ax = plt.scatter(expanded_segments_df[\"Coord X\"][1:], expanded_segments_df[\"Coord Y\"][1:],c = SynPerSeg[1:nseg],cmap='jet',)\n",
        "#   plt.vlines(110,400,500)\n",
        "#   plt.text(0,450,'100 um')\n",
        "#   plt.hlines(400,110,210)\n",
        "#   plt.text(110,350,'100 um')\n",
        "#   plt.xticks([])\n",
        "#   plt.yticks([])\n",
        "#   cbar = plt.colorbar()\n",
        "#   cbar.ax.set_ylabel(Type+'Synapses per segment', rotation=270)\n",
        "\n",
        "#   plt.box(False)\n",
        "#   plt.savefig(Type+'_syns.svg')\n",
        "\n",
        "# plotSynDensity(exc_NetCon_per_seg,'Exc') #len(cell.segments) #low number of segments makes plot look odd."
      ],
      "metadata": {
        "id": "ZtC6mvhXwL-L"
      },
      "id": "ZtC6mvhXwL-L",
      "execution_count": null,
      "outputs": []
    },
    {
      "cell_type": "code",
      "source": [
        "# plotSynDensity(inh_NetCon_per_seg,'Inh') # if soma has too many inh synapses the heatmap is not as interpretable"
      ],
      "metadata": {
        "id": "AuPzXdSdwhme"
      },
      "id": "AuPzXdSdwhme",
      "execution_count": null,
      "outputs": []
    },
    {
      "cell_type": "code",
      "source": [
        "# print(cell.seg_coords)"
      ],
      "metadata": {
        "id": "TsqdpMMmzNbX"
      },
      "id": "TsqdpMMmzNbX",
      "execution_count": null,
      "outputs": []
    },
    {
      "cell_type": "markdown",
      "id": "2ca15375",
      "metadata": {
        "id": "2ca15375"
      },
      "source": [
        "## Run simulation and plot results\n",
        "\n",
        "Run the codes below to simulate and display results everytime after you change the parameters above."
      ]
    },
    {
      "cell_type": "code",
      "execution_count": null,
      "id": "f81ec874",
      "metadata": {
        "id": "f81ec874"
      },
      "outputs": [],
      "source": [
        "# Run simulation\n",
        "set_synapse()\n",
        "h.run()\n",
        "# Get results\n",
        "t = t_vec.as_numpy().copy()  # time array (ms)\n",
        "# soma membrane potential\n",
        "Vm = V_rec.as_numpy()\n",
        "v_soma = Vm[cell.sec_id_in_seg[cell.all.index(cell.soma)]]\n",
        "v_tfut = Vm[cell.sec_id_in_seg[cell.all.index(tufts[0])]]\n",
        "# lfp array\n",
        "lfp = ecp.calc_ecp(move_cell=loc_param).T  # unit: mV\n",
        "\n",
        "# Soma membrane potential\n",
        "plt.figure(figsize=(10, 4))\n",
        "plt.plot(t, v_soma, label='Soma')\n",
        "plt.plot(t, v_tfut, label='Tuft')\n",
        "plt.ylabel('Membrane potential (mV)')\n",
        "plt.xlabel('time (ms)')\n",
        "plt.xlim(t[[0, -1]])\n",
        "plt.legend()\n",
        "plt.savefig('Vm')\n",
        "\n",
        "# Extracellular potential along y-axis\n",
        "y_window = [-1200, 1200]  # select range of y coordinate for plotting\n",
        "ylim = loc_param[1] + np.array(y_window)  # set range of y coordinate\n",
        "max_idx = np.argmax(np.amax(np.abs(lfp), axis=0))  # find the electrode that records maximum magnitude\n",
        "x_dist = elec_pos[max_idx, 0]  # x coordinate of the maximum magnitude electrode\n",
        "e_idx = (elec_pos[:, 0]==x_dist) & (elec_pos[:, 1]>=ylim[0]) & (elec_pos[:, 1]<=ylim[1])  # selected electrode indices\n",
        "\n",
        "fontsize = 15\n",
        "labelpad = -10\n",
        "ticksize = 12\n",
        "tick_length = 5\n",
        "nbins = 5\n",
        "plt.figure(figsize=(8, 5))\n",
        "_ = plot_lfp_heatmap(t=t, elec_d=elec_pos[e_idx, 1], lfp=lfp[:, e_idx],\n",
        "                     fontsize=fontsize, labelpad=labelpad, ticksize=ticksize, tick_length=tick_length,\n",
        "                     nbins=nbins, vlim='auto', axes=plt.gca())\n",
        "plt.title('Extracellular potential heatmap')\n",
        "plt.savefig('ECP heatmap')\n",
        "plt.figure(figsize=(8, 5))\n",
        "_ = plot_lfp_traces(t, lfp[:, e_idx][:,1::3], electrodes=elec_pos[e_idx][1::3],\n",
        "                    fontsize=fontsize, labelpad=labelpad, ticksize=ticksize, tick_length=tick_length,\n",
        "                    nbins=nbins, axes=plt.gca())\n",
        "plt.title('Extracellular potential timecourse')\n",
        "plt.savefig('ECP timecourse')\n",
        "\n",
        "plt.show()"
      ]
    },
    {
      "cell_type": "markdown",
      "id": "5c3e3e52",
      "metadata": {
        "id": "5c3e3e52"
      },
      "source": [
        "## Electrotonic distance\n",
        "\n",
        "Neuron has a tool for electrotonic analysis [https://www.neuron.yale.edu/neuron/static/docs/zclass/zclass.html](https://www.neuron.yale.edu/neuron/static/docs/zclass/zclass.html). It computes the electrotonic distance defined by attenuation, but the classical definition is [anatomical distance/length constant](https://www.neuron.yale.edu/neuron/static/docs/zclass/NIPS94/nipsfin.html).\n",
        "\n",
        "The plot below shows the membrane potential timecourse at several locations on the cell. The electrotonic distance computed by Neuron of each location is also shown with both number and color. The distance should always be a positive value, but it is labeled negative for the basal dendrites and the axon intentionally so that it can be easily distinguished from the apical dendrites."
      ]
    },
    {
      "cell_type": "code",
      "source": [],
      "metadata": {
        "id": "D0amv-Dd-2Ij"
      },
      "id": "D0amv-Dd-2Ij",
      "execution_count": null,
      "outputs": []
    },
    {
      "cell_type": "code",
      "source": [
        "# geometry=cell.geometry"
      ],
      "metadata": {
        "id": "cNsNKTKuB0XA"
      },
      "id": "cNsNKTKuB0XA",
      "execution_count": null,
      "outputs": []
    },
    {
      "cell_type": "code",
      "execution_count": null,
      "id": "729a65ff",
      "metadata": {
        "id": "729a65ff"
      },
      "outputs": [],
      "source": [
        "# for syn in cell.synapse:\n",
        "#     syn.set_gmax(0)\n",
        "# h.run()\n",
        "\n",
        "# sec_type_swc = {sec['name']: sec['type'] for _, sec in geometry.iterrows()}\n",
        "# # sec_type = [sec_type_swc[sec.name().split('.')[-1]] for sec in cell.all] # original\n",
        "# # sec_type = [sec_type_swc[sec.name().split('.')[-1].split('[')[0]] for sec in cell.all] # possible alternative?\n",
        "# sec_type = [sec_type_swc[sec.name()] for sec in cell.all]\n",
        "# freq = 0 # Hz\n",
        "# seg_prop, _, _ = measure_segment_distance(cell.soma , cell.all, sec_type, freq)\n",
        "\n",
        "# select_seg = [[cell.sec_id_in_seg[sec[0]], cell.get_sec_by_id(sec[0]).nseg -1] for sec in cell.sec_id_lookup.values()]\n",
        "# select_seg = np.sum(np.array(select_seg), axis=1)\n",
        "# # select_seg = np.unique(np.cumsum(np.array(select_seg), axis=1).ravel())\n",
        "# _ = plot_variable_with_morphology(cell.seg_coords, seg_prop, Vm, t=t, axes=['x', 'y'],\n",
        "#                                   distance_type='elec_dist', n_dist=300,\n",
        "#                                   select_seg=select_seg, max_per_dist=1, varname='Membrane potential (mV)',\n",
        "#                                   space=2., normalized_space=True, sort_by_dist=True,\n",
        "                                  # figsize=(10, 10), fontsize=15, scalebar_size=50)"
      ]
    },
    {
      "cell_type": "markdown",
      "source": [
        "##Transfer Impedance\n",
        "\n"
      ],
      "metadata": {
        "id": "Tc1fFLPUz5Qe"
      },
      "id": "Tc1fFLPUz5Qe"
    },
    {
      "cell_type": "code",
      "execution_count": null,
      "id": "be859ed7",
      "metadata": {
        "id": "be859ed7"
      },
      "outputs": [],
      "source": [
        "# import numpy as np\n",
        "# from neuron import h\n",
        "# import cmath\n",
        "\n",
        "# def measure_segment_transfer_impedance(soma, section_list, sec_type, freq=0, extracellular_mechanism=True):\n",
        "#     \"\"\"\n",
        "#     soma: soma section object\n",
        "#     section_list: list of sections\n",
        "#     sec_type: list of swc type id of sections\n",
        "#     freq: frequency (Hz) at which electrotonic distance is evaluated\n",
        "#     extracellular_mechanism: whether extracellular mechanism is used\n",
        "#     \"\"\"\n",
        "#     seg_prop = {}\n",
        "#     swc_type = []\n",
        "#     seg_area = []\n",
        "#     seg_dist = []\n",
        "#     seg_length = []\n",
        "#     elec_dist = [] #modulus part of polar form #should change names\n",
        "#     elec_dist0 = [] #modulus of polar form #should change names\n",
        "#     transfer_imps = [] #real part of rectangular form\n",
        "#     transfer_imps0 = [] # real part of rectangular form\n",
        "\n",
        "#     # set up distance origin\n",
        "#     h.distance(0, soma(.5))\n",
        "#     # set up electrotonic origin\n",
        "#     zz = h.Impedance()\n",
        "#     zz.loc(soma(.5))\n",
        "#     if extracellular_mechanism:\n",
        "#         zz.compute(freq + 1 / 9e9, 0) #*\n",
        "#     else:\n",
        "#         zz.compute(freq, 1)\n",
        "#     # measure distance\n",
        "#     for i, sec in enumerate(section_list):\n",
        "#         if sec_type[i]==1:\n",
        "#             transfer_imp=zz.transfer(sec(0.5/sec.nseg)) #*\n",
        "#             transfer_phase=zz.transfer_phase(sec(0.5/sec.nseg)) #*\n",
        "#             elec_dist0.append(transfer_imp) #*\n",
        "#             rect_complex=cmath.rect(transfer_imp,transfer_phase)\n",
        "#             transfer_imps.append(rect_complex.real) #*\n",
        "#         else:\n",
        "#             transfer_imp=zz.transfer(sec.parentseg()) #*\n",
        "#             transfer_phase=zz.transfer_phase(sec.parentseg()) #*\n",
        "#             elec_dist0.append(transfer_imp) #*\n",
        "#             rect_complex=cmath.rect(transfer_imp, transfer_phase) #*\n",
        "#             transfer_imps.append(rect_complex.real) #*\n",
        "#         for j, seg in enumerate(sec):\n",
        "#             swc_type.append(sec_type[i])\n",
        "#             seg_area.append(seg.area())\n",
        "#             seg_dist.append(h.distance(seg))\n",
        "#             seg_length.append(sec.L/sec.nseg)\n",
        "#             if j!=0:\n",
        "#                 elec_dist0.append(elec_dist[-1])\n",
        "#                 transfer_imps.append(transfer_imps0[-1])\n",
        "#             elec_dist.append(zz.transfer(seg)) #*\n",
        "#             transfer_imp=zz.transfer(seg) #*\n",
        "#             transfer_phase=zz.transfer_phase(seg) #*\n",
        "#             rect_complex=cmath.rect(transfer_imp,transfer_phase) #*\n",
        "#             transfer_imps0.append(rect_complex.real) #*\n",
        "\n",
        "#     seg_prop['swc_type'] = np.array(swc_type)\n",
        "#     seg_prop['seg_area'] = np.array(seg_area)\n",
        "\n",
        "#     # distance at endpoints of each segment\n",
        "#     seg_prop['distance'] = np.expand_dims(seg_dist, 1) + np.expand_dims(seg_length, 1) / 2 * np.array([[-1, 1]])\n",
        "#     # seg_prop['transfer_imp'] = np.sort(np.log(elec_dist0[0]) - np.log(np.column_stack([elec_dist0, elec_dist])), axis=1) #*\n",
        "#     seg_prop['transfer_imp_mod'] = np.sort(elec_dist0[0] - np.column_stack([elec_dist0, elec_dist]), axis=1) #*\n",
        "#     seg_prop['transfer_imp_real'] = np.sort(transfer_imps[0] - np.column_stack([transfer_imps, transfer_imps0]), axis=1) #*\n",
        "\n",
        "\n",
        "#     # change sign of basal and axon types\n",
        "#     idx = np.nonzero((seg_prop['swc_type']==2) | (seg_prop['swc_type']==3))[0]\n",
        "#     seg_prop['distance'][idx] = -seg_prop['distance'][idx,::-1]\n",
        "#     seg_prop['transfer_imp_mod'][idx] = -seg_prop['transfer_imp_mod'][idx,::-1] #*\n",
        "#     seg_prop['transfer_imp_real'][idx] = -seg_prop['transfer_imp_real'][idx,::-1] #*\n",
        "#     return seg_prop, zz.transfer(soma(.5)), zz.transfer_phase(soma(.5))\n"
      ]
    },
    {
      "cell_type": "code",
      "source": [
        "# #using modulus of polar form\n",
        "\n",
        "# for syn in cell.synapse:\n",
        "#     syn.set_gmax(0)\n",
        "# h.run()\n",
        "\n",
        "# sec_type_swc = {sec['name']: sec['type'] for _, sec in geometry.iterrows()}\n",
        "# sec_type = [sec_type_swc[sec.name().split('.')[-1]] for sec in cell.all]\n",
        "# freq = 0 # Hz\n",
        "# seg_prop, _, _ = measure_segment_transfer_impedance(cell.soma , cell.all, sec_type, freq)\n",
        "\n",
        "# select_seg = [[cell.sec_id_in_seg[sec[0]], cell.get_sec_by_id(sec[0]).nseg -1] for sec in cell.sec_id_lookup.values()]\n",
        "# select_seg = np.sum(np.array(select_seg), axis=1)\n",
        "# # select_seg = np.unique(np.cumsum(np.array(select_seg), axis=1).ravel())\n",
        "# _ = plot_variable_with_morphology(cell.seg_coords, seg_prop, Vm, t=t, axes=['x', 'y'],\n",
        "#                                   distance_type='transfer_imp_mod', n_dist=300,\n",
        "#                                   select_seg=select_seg, max_per_dist=1, varname='Membrane potential (mV)',\n",
        "#                                   space=2., normalized_space=True, sort_by_dist=True,\n",
        "#                                   figsize=(10, 10), fontsize=15, scalebar_size=50)"
      ],
      "metadata": {
        "id": "yHRymM0L5pJj"
      },
      "id": "yHRymM0L5pJj",
      "execution_count": null,
      "outputs": []
    },
    {
      "cell_type": "code",
      "source": [
        "# #using real part of rectangular complex form\n",
        "\n",
        "# for syn in cell.synapse:\n",
        "#     syn.set_gmax(0)\n",
        "# h.run()\n",
        "\n",
        "# sec_type_swc = {sec['name']: sec['type'] for _, sec in geometry.iterrows()}\n",
        "# sec_type = [sec_type_swc[sec.name().split('.')[-1]] for sec in cell.all]\n",
        "# freq = 0 # Hz\n",
        "# seg_prop, _, _ = measure_segment_transfer_impedance(cell.soma , cell.all, sec_type, freq)\n",
        "\n",
        "# select_seg = [[cell.sec_id_in_seg[sec[0]], cell.get_sec_by_id(sec[0]).nseg -1] for sec in cell.sec_id_lookup.values()]\n",
        "# select_seg = np.sum(np.array(select_seg), axis=1)\n",
        "# # select_seg = np.unique(np.cumsum(np.array(select_seg), axis=1).ravel())\n",
        "# _ = plot_variable_with_morphology(cell.seg_coords, seg_prop, Vm, t=t, axes=['x', 'y'],\n",
        "#                                   distance_type='transfer_imp_real', n_dist=300,\n",
        "#                                   select_seg=select_seg, max_per_dist=1, varname='Membrane potential (mV)',\n",
        "#                                   space=2., normalized_space=True, sort_by_dist=True,\n",
        "#                                   figsize=(10, 10), fontsize=15, scalebar_size=50)"
      ],
      "metadata": {
        "id": "Ibbz1qMIjWu5"
      },
      "id": "Ibbz1qMIjWu5",
      "execution_count": null,
      "outputs": []
    },
    {
      "cell_type": "markdown",
      "source": [
        "Transfer Impedance is a complex number"
      ],
      "metadata": {
        "id": "2eSHPclEP0I0"
      },
      "id": "2eSHPclEP0I0"
    },
    {
      "cell_type": "code",
      "source": [
        "# polar_modulus=1\n",
        "# polar_phase=3\n",
        "\n",
        "# complex_rectangular_form=cmath.rect(polar_modulus, polar_phase)\n",
        "# print(complex_rectangular_form)"
      ],
      "metadata": {
        "id": "PM8Xa3WATASj"
      },
      "id": "PM8Xa3WATASj",
      "execution_count": null,
      "outputs": []
    },
    {
      "cell_type": "code",
      "source": [
        "# complex_rectangular_form.real"
      ],
      "metadata": {
        "id": "BZgkMzBpTLgL"
      },
      "id": "BZgkMzBpTLgL",
      "execution_count": null,
      "outputs": []
    }
  ],
  "metadata": {
    "colab": {
      "provenance": [],
      "include_colab_link": true
    },
    "kernelspec": {
      "display_name": "Python 3 (ipykernel)",
      "language": "python",
      "name": "python3"
    },
    "language_info": {
      "codemirror_mode": {
        "name": "ipython",
        "version": 3
      },
      "file_extension": ".py",
      "mimetype": "text/x-python",
      "name": "python",
      "nbconvert_exporter": "python",
      "pygments_lexer": "ipython3",
      "version": "3.9.12"
    }
  },
  "nbformat": 4,
  "nbformat_minor": 5
}