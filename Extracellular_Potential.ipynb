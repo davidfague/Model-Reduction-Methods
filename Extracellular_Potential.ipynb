{
  "cells": [
    {
      "cell_type": "markdown",
      "metadata": {
        "id": "view-in-github",
        "colab_type": "text"
      },
      "source": [
        "<a href=\"https://colab.research.google.com/github/davidfague/Model_Reduction_Methods/blob/main/Extracellular_Potential.ipynb\" target=\"_parent\"><img src=\"https://colab.research.google.com/assets/colab-badge.svg\" alt=\"Open In Colab\"/></a>"
      ]
    },
    {
      "cell_type": "markdown",
      "id": "7a9de89f",
      "metadata": {
        "id": "7a9de89f"
      },
      "source": [
        "# Single Cell Extracellular Potential"
      ]
    },
    {
      "cell_type": "code",
      "source": [
        "Reduce_cell=True"
      ],
      "metadata": {
        "id": "0XKSxnXex5Is"
      },
      "id": "0XKSxnXex5Is",
      "execution_count": 1,
      "outputs": []
    },
    {
      "cell_type": "markdown",
      "id": "MSX7LmGzszzf",
      "metadata": {
        "id": "MSX7LmGzszzf"
      },
      "source": [
        "#### Download modules from Github"
      ]
    },
    {
      "cell_type": "code",
      "source": [
        "!pip install neuron"
      ],
      "metadata": {
        "id": "-urE9jrxNdxm",
        "colab": {
          "base_uri": "https://localhost:8080/"
        },
        "outputId": "a3d83e15-d59e-4084-8fc2-43604072a8c3"
      },
      "id": "-urE9jrxNdxm",
      "execution_count": 2,
      "outputs": [
        {
          "output_type": "stream",
          "name": "stdout",
          "text": [
            "Looking in indexes: https://pypi.org/simple, https://us-python.pkg.dev/colab-wheels/public/simple/\n",
            "Collecting neuron\n",
            "  Downloading NEURON-8.2.2-cp39-cp39-manylinux_2_17_x86_64.manylinux2014_x86_64.whl (15.0 MB)\n",
            "\u001b[2K     \u001b[90m━━━━━━━━━━━━━━━━━━━━━━━━━━━━━━━━━━━━━━━━\u001b[0m \u001b[32m15.0/15.0 MB\u001b[0m \u001b[31m14.1 MB/s\u001b[0m eta \u001b[36m0:00:00\u001b[0m\n",
            "\u001b[?25hRequirement already satisfied: numpy>=1.9.3 in /usr/local/lib/python3.9/dist-packages (from neuron) (1.22.4)\n",
            "Installing collected packages: neuron\n",
            "Successfully installed neuron-8.2.2\n"
          ]
        }
      ]
    },
    {
      "cell_type": "code",
      "source": [
        "!pip install neuron_reduce"
      ],
      "metadata": {
        "id": "BHjnRgPsN0g2",
        "colab": {
          "base_uri": "https://localhost:8080/"
        },
        "outputId": "e32a9314-87a1-4547-f97a-e0758720df2a"
      },
      "id": "BHjnRgPsN0g2",
      "execution_count": 3,
      "outputs": [
        {
          "output_type": "stream",
          "name": "stdout",
          "text": [
            "Looking in indexes: https://pypi.org/simple, https://us-python.pkg.dev/colab-wheels/public/simple/\n",
            "Collecting neuron_reduce\n",
            "  Downloading neuron_reduce-0.0.7-py3-none-any.whl (18 kB)\n",
            "Installing collected packages: neuron_reduce\n",
            "Successfully installed neuron_reduce-0.0.7\n"
          ]
        }
      ]
    },
    {
      "cell_type": "code",
      "source": [
        "!git clone https://github.com/davidfague/Model_Reduction_Methods.git"
      ],
      "metadata": {
        "id": "t4dVzA0WLZ9F",
        "colab": {
          "base_uri": "https://localhost:8080/"
        },
        "outputId": "829a5f48-d115-4392-ebd6-72f188f8e503"
      },
      "id": "t4dVzA0WLZ9F",
      "execution_count": 4,
      "outputs": [
        {
          "output_type": "stream",
          "name": "stdout",
          "text": [
            "Cloning into 'Model_Reduction_Methods'...\n",
            "remote: Enumerating objects: 1058, done.\u001b[K\n",
            "remote: Counting objects: 100% (284/284), done.\u001b[K\n",
            "remote: Compressing objects: 100% (184/184), done.\u001b[K\n",
            "remote: Total 1058 (delta 157), reused 166 (delta 100), pack-reused 774\u001b[K\n",
            "Receiving objects: 100% (1058/1058), 6.04 MiB | 18.90 MiB/s, done.\n",
            "Resolving deltas: 100% (586/586), done.\n"
          ]
        }
      ]
    },
    {
      "cell_type": "code",
      "source": [
        "%cd Model_Reduction_Methods/\n",
        "\n",
        "#import reduction and expansion functions\n",
        "from test_neuron_reduce.subtree_reductor_func import subtree_reductor\n",
        "from cable_expander_func import cable_expander\n",
        "\n",
        "#import recording functions\n",
        "from stylized_module.recorder import Recorder\n",
        "\n",
        "# #import analysis functions\n",
        "# from utils import make_seg_df,generate_stylized_geometry,make_reduced_seg_df,plot_morphology,check_connectivity,generate_reduced_cell_seg_coords, create_seg_var_report\n",
        "\n",
        "# from modeling_module.synapses import Synapse, Listed_Synapse\n",
        "from modeling_module.cell_model import cell_model\n",
        "import pandas as pd"
      ],
      "metadata": {
        "id": "cY9U_KPwLVAz",
        "colab": {
          "base_uri": "https://localhost:8080/"
        },
        "outputId": "5c277d0f-3231-4a62-e769-919d61971213"
      },
      "id": "cY9U_KPwLVAz",
      "execution_count": 5,
      "outputs": [
        {
          "output_type": "stream",
          "name": "stdout",
          "text": [
            "/content/Model_Reduction_Methods\n"
          ]
        }
      ]
    },
    {
      "cell_type": "code",
      "source": [],
      "metadata": {
        "id": "Ez09NP_HCSAk"
      },
      "id": "Ez09NP_HCSAk",
      "execution_count": 5,
      "outputs": []
    },
    {
      "cell_type": "code",
      "source": [
        "%cd expand_example"
      ],
      "metadata": {
        "id": "vXTRrX-ILq6D",
        "colab": {
          "base_uri": "https://localhost:8080/"
        },
        "outputId": "ea36791c-de63-411f-d7f2-2b75a74923b2"
      },
      "id": "vXTRrX-ILq6D",
      "execution_count": 6,
      "outputs": [
        {
          "output_type": "stream",
          "name": "stdout",
          "text": [
            "/content/Model_Reduction_Methods/expand_example\n"
          ]
        }
      ]
    },
    {
      "cell_type": "code",
      "source": [
        "# compile the mod files\n",
        "!nrnivmodl mod"
      ],
      "metadata": {
        "id": "Dm-MdGeb6uZB",
        "colab": {
          "base_uri": "https://localhost:8080/"
        },
        "outputId": "f3116fdc-6739-4962-fc3b-bba55666bd37"
      },
      "id": "Dm-MdGeb6uZB",
      "execution_count": 7,
      "outputs": [
        {
          "output_type": "stream",
          "name": "stdout",
          "text": [
            "/content/Model_Reduction_Methods/expand_example\n",
            "Mod files: \"mod/mod/CaDynamics_E2.mod\" \"mod/mod/Ca_HVA.mod\" \"mod/mod/Ca_LVAst.mod\" \"mod/mod/epsp.mod\" \"mod/mod/Ih.mod\" \"mod/mod/Im.mod\" \"mod/mod/K_Pst.mod\" \"mod/mod/K_Tst.mod\" \"mod/mod/Nap_Et2.mod\" \"mod/mod/NaTa_t.mod\" \"mod/mod/NaTs2_t.mod\" \"mod/mod/SK_E2.mod\" \"mod/mod/SKv3_1.mod\"\n",
            "\n",
            "Creating 'x86_64' directory for .o files.\n",
            "\n",
            " -> \u001b[32mCompiling\u001b[0m mod_func.cpp\n",
            " -> \u001b[32mNMODL\u001b[0m ../mod/CaDynamics_E2.mod\n",
            " -> \u001b[32mNMODL\u001b[0m ../mod/Ca_HVA.mod\n",
            "Translating CaDynamics_E2.mod into /content/Model_Reduction_Methods/expand_example/x86_64/CaDynamics_E2.c\n",
            " -> \u001b[32mNMODL\u001b[0m ../mod/Ca_LVAst.mod\n",
            "Thread Safe\n",
            " -> \u001b[32mNMODL\u001b[0m ../mod/epsp.mod\n",
            "Translating Ca_HVA.mod into /content/Model_Reduction_Methods/expand_example/x86_64/Ca_HVA.c\n",
            "Thread Safe\n",
            "Translating Ca_LVAst.mod into /content/Model_Reduction_Methods/expand_example/x86_64/Ca_LVAst.c\n",
            "Thread Safe\n",
            " -> \u001b[32mNMODL\u001b[0m ../mod/Ih.mod\n",
            "Translating epsp.mod into /content/Model_Reduction_Methods/expand_example/x86_64/epsp.c\n",
            " -> \u001b[32mNMODL\u001b[0m ../mod/Im.mod\n",
            "Thread Safe\n",
            "Translating Im.mod into /content/Model_Reduction_Methods/expand_example/x86_64/Im.c\n",
            "Thread Safe\n",
            " -> \u001b[32mNMODL\u001b[0m ../mod/K_Pst.mod\n",
            "Translating Ih.mod into /content/Model_Reduction_Methods/expand_example/x86_64/Ih.c\n",
            "Thread Safe\n",
            " -> \u001b[32mNMODL\u001b[0m ../mod/K_Tst.mod\n",
            " -> \u001b[32mNMODL\u001b[0m ../mod/Nap_Et2.mod\n",
            "Translating K_Tst.mod into /content/Model_Reduction_Methods/expand_example/x86_64/K_Tst.c\n",
            "Translating K_Pst.mod into /content/Model_Reduction_Methods/expand_example/x86_64/K_Pst.c\n",
            "Thread Safe\n",
            "Thread Safe\n",
            " -> \u001b[32mNMODL\u001b[0m ../mod/NaTa_t.mod\n",
            " -> \u001b[32mNMODL\u001b[0m ../mod/NaTs2_t.mod\n",
            "Translating Nap_Et2.mod into /content/Model_Reduction_Methods/expand_example/x86_64/Nap_Et2.c\n",
            "Thread Safe\n",
            "Translating NaTa_t.mod into /content/Model_Reduction_Methods/expand_example/x86_64/NaTa_t.c\n",
            "Thread Safe\n",
            " -> \u001b[32mNMODL\u001b[0m ../mod/SK_E2.mod\n",
            "Translating NaTs2_t.mod into /content/Model_Reduction_Methods/expand_example/x86_64/NaTs2_t.c\n",
            "Thread Safe\n",
            " -> \u001b[32mNMODL\u001b[0m ../mod/SKv3_1.mod\n",
            " -> \u001b[32mCompiling\u001b[0m CaDynamics_E2.c\n",
            "Translating SK_E2.mod into /content/Model_Reduction_Methods/expand_example/x86_64/SK_E2.c\n",
            "Thread Safe\n",
            "Translating SKv3_1.mod into /content/Model_Reduction_Methods/expand_example/x86_64/SKv3_1.c\n",
            "Thread Safe\n",
            " -> \u001b[32mCompiling\u001b[0m Ca_HVA.c\n",
            " -> \u001b[32mCompiling\u001b[0m Ca_LVAst.c\n",
            " -> \u001b[32mCompiling\u001b[0m epsp.c\n",
            " -> \u001b[32mCompiling\u001b[0m Ih.c\n",
            " -> \u001b[32mCompiling\u001b[0m Im.c\n",
            " -> \u001b[32mCompiling\u001b[0m K_Pst.c\n",
            " -> \u001b[32mCompiling\u001b[0m K_Tst.c\n",
            " -> \u001b[32mCompiling\u001b[0m Nap_Et2.c\n",
            " -> \u001b[32mCompiling\u001b[0m NaTa_t.c\n",
            " -> \u001b[32mCompiling\u001b[0m NaTs2_t.c\n",
            " -> \u001b[32mCompiling\u001b[0m SK_E2.c\n",
            " -> \u001b[32mCompiling\u001b[0m SKv3_1.c\n",
            " => \u001b[32mLINKING\u001b[0m shared library ./libnrnmech.so\n",
            " => \u001b[32mLINKING\u001b[0m executable ./special LDFLAGS are:    -pthread\n",
            "Successfully created x86_64/special\n"
          ]
        }
      ]
    },
    {
      "cell_type": "markdown",
      "id": "2a84fbea",
      "metadata": {
        "id": "2a84fbea"
      },
      "source": [
        "## Setup smiulation parameters"
      ]
    },
    {
      "cell_type": "code",
      "execution_count": 8,
      "id": "4be7f6fd",
      "metadata": {
        "id": "4be7f6fd",
        "colab": {
          "base_uri": "https://localhost:8080/"
        },
        "outputId": "c3310410-f233-44d7-e024-f71ef064ac7a"
      },
      "outputs": [
        {
          "output_type": "execute_result",
          "data": {
            "text/plain": [
              "1.0"
            ]
          },
          "metadata": {},
          "execution_count": 8
        }
      ],
      "source": [
        "import numpy as np\n",
        "import pandas as pd\n",
        "import json\n",
        "import matplotlib.pyplot as plt\n",
        "import ipywidgets as widgets\n",
        "from neuron import h\n",
        "from scipy import signal\n",
        "from IPython.display import display, clear_output\n",
        "from ipywidgets import interactive_output, HBox, VBox, Label, Layout\n",
        "\n",
        "from __future__ import division\n",
        "from neuron import gui,h\n",
        "import numpy as np\n",
        "import time\n",
        "import matplotlib.pyplot as plt\n",
        "\n",
        "%matplotlib inline\n",
        "\n",
        "\n",
        "h.load_file('stdrun.hoc')\n",
        "# h.nrn_load_dll(paths.COMPILED_LIBRARY_REDUCED_ORDER)  # choose the set of mechanisms\n",
        "h.nrn_load_dll('./x86_64/.libs/libnrnmech.so')\n"
      ]
    },
    {
      "cell_type": "markdown",
      "id": "7927a07b",
      "metadata": {
        "id": "7927a07b"
      },
      "source": [
        "### Create a cell with reduced morphology"
      ]
    },
    {
      "cell_type": "code",
      "source": [
        "%ls"
      ],
      "metadata": {
        "id": "s0gis1f1OdWX",
        "colab": {
          "base_uri": "https://localhost:8080/"
        },
        "outputId": "abb53df6-2ebf-4c9e-b0e9-6605b44901d8"
      },
      "id": "s0gis1f1OdWX",
      "execution_count": 9,
      "outputs": [
        {
          "output_type": "stream",
          "name": "stdout",
          "text": [
            "cell1.asc  example_expand.py  L5PCtemplate.hoc  \u001b[0m\u001b[01;34mx86_64\u001b[0m/\n",
            "Cell.hoc   L5PCbiophys3.hoc   \u001b[01;34mmod\u001b[0m/\n"
          ]
        }
      ]
    },
    {
      "cell_type": "code",
      "source": [
        "# class Synapse(PointCurrent):\n",
        "#     def __init__(self, cell, stim: h.NetStim, sec_index: int,\n",
        "#                   syn_type: str = 'Exp2Syn', gmax: float = 0.01, loc: float = 0.5,\n",
        "#                   record: bool = False):\n",
        "#         super().__init__(cell, sec_index, loc)\n",
        "#         self.stim = stim\n",
        "#         self.gmax = gmax\n",
        "#         self.__synapse_type(syn_type)\n",
        "#         self.setup(record)\n",
        "\n",
        "#     # PRIVATE METHODS\n",
        "#     def __synapse_type(self, syn_type):\n",
        "#         if syn_type == 'AlphaSynapse1':\n",
        "#             # Reversal potential (mV); Synapse time constant (ms)\n",
        "#             self.syn_params = {'e': 0., 'tau': 2.0}\n",
        "#             # Variable name of maximum conductance (uS)\n",
        "#             self.gmax_var = 'gmax'\n",
        "#         elif syn_type == 'Exp2Syn':\n",
        "#             self.syn_params = {'e': 0., 'tau1': 1.0, 'tau2': 3.0}\n",
        "#             self.gmax_var = '_nc_weight'\n",
        "#         else:\n",
        "#             raise ValueError(\"Synpase type not defined.\")\n",
        "#         self.syn_type = syn_type\n",
        "#         self.pp_obj = getattr(h, syn_type)(self.get_section()(self.loc))\n",
        "\n",
        "#     def __setup_synapse(self):\n",
        "#         self.syn = self.pp_obj\n",
        "#         self.nc = h.NetCon(self.stim, self.syn, 1, 0, 1)\n",
        "#         for key, value in self.syn_params.items():\n",
        "#             setattr(self.syn, key, value)\n",
        "#         self.set_gmax()\n",
        "\n",
        "#     # PUBLIC METHODS\n",
        "#     def setup(self, record: bool = False):\n",
        "#         self.__setup_synapse()\n",
        "#         if record:\n",
        "#             self.setup_recorder()\n",
        "    \n",
        "#     def set_gmax(self, gmax: float = None):\n",
        "#         if gmax is not None:\n",
        "#             self.gmax = gmax\n",
        "#         if self.gmax_var == '_nc_weight':\n",
        "#             self.nc.weight[0] = self.gmax\n",
        "#         else:\n",
        "#             setattr(self.syn, self.gmax_var, self.gmax)"
      ],
      "metadata": {
        "id": "8TE_op1mUTii"
      },
      "id": "8TE_op1mUTii",
      "execution_count": 10,
      "outputs": []
    },
    {
      "cell_type": "code",
      "execution_count": 11,
      "id": "18a97eeb",
      "metadata": {
        "id": "18a97eeb"
      },
      "outputs": [],
      "source": [
        "\n",
        "# # Load biophysical parameters from a json file\n",
        "# filepath = os.path.join(paths.RESOURCES_ROOT, 'biophys_parameters/ReducedOrderL5_passive.json')\n",
        "# with open(filepath) as f:\n",
        "#     biophys_param = json.load(f)\n",
        "# for genome in biophys_param['genome']:\n",
        "#     if genome['value'] != \"\": genome['value'] = float(genome['value'])\n",
        "\n",
        "h.load_file('L5PCbiophys3.hoc')\n",
        "\n",
        "# # Load morphology parameters from a csv file\n",
        "# geometry = pd.read_csv(paths.GEO_REDUCED_ORDER, index_col='id')\n",
        "h.load_file(\"import3d.hoc\")\n",
        "\n",
        "\n",
        "# Create a cell object\n",
        "# cell = ReducedOrderL5CellPassiveDendrite(geometry=geometry, full_biophys=biophys_param)\n",
        "h.load_file('L5PCtemplate.hoc')\n",
        "complex_cell = h.L5PCtemplate('cell1.asc')\n",
        "h.celsius = 37\n",
        "h.v_init = complex_cell.soma[0].e_pas\n",
        "\n",
        "synapses_list=[]\n",
        "netcons_list=[]\n",
        "if Reduce_cell==True:\n",
        "  #reduce dendritic trees to cables\n",
        "  reduced_cell, synapses_list, netcons_list, txt = subtree_reductor(complex_cell, synapses_list, netcons_list, reduction_frequency=0,return_seg_to_seg=True)\n",
        "\n",
        "  # print('reduced cell n3d')\n",
        "  # for sec in reduced_cell.dend:\n",
        "  #   print(sec,sec.n3d())\n",
        "\n",
        "  #expand cables to idealized dendritic trees\n",
        "  sections_to_expand = [reduced_cell.hoc_model.apic[0]]\n",
        "  furcations_x=[0.289004]\n",
        "  nbranches=[4]\n",
        "  reduced_dendritic_cell, synapses_list, netcons_list, txt = cable_expander(reduced_cell, sections_to_expand, furcations_x, nbranches, \n",
        "                                                                            synapses_list, netcons_list, reduction_frequency=0,return_seg_to_seg=True)\n",
        "# print('dendritic cell n3d')\n",
        "# for sec in reduced_dendritic_cell.all:\n",
        "#   print(sec, sec.n3d())"
      ]
    },
    {
      "cell_type": "code",
      "source": [
        "# for sec in reduced_dendritic_cell.all:\n",
        "#   print(sec.n3d())"
      ],
      "metadata": {
        "id": "ZqPuBX8UI4nN"
      },
      "id": "ZqPuBX8UI4nN",
      "execution_count": 12,
      "outputs": []
    },
    {
      "cell_type": "code",
      "source": [
        "# # try to fix dendrite's beginning location by looking at soma 3d coordinates:\n",
        "# for sec in [reduced_dendritic_cell.soma]:\n",
        "#   for i in range(sec.n3d()):\n",
        "#     print(sec.x3d(i),sec.y3d(i),sec.z3d(i))\n",
        "\n",
        "#soma has many 3d coordinates and current implementation begins dendrites at 3dcoordinates[1]"
      ],
      "metadata": {
        "id": "1loNS7qGmRQ1"
      },
      "id": "1loNS7qGmRQ1",
      "execution_count": 13,
      "outputs": []
    },
    {
      "cell_type": "code",
      "source": [
        "import random\n",
        "#use defined cell_model class for generating 3d coordinates, recording ECP, 'book-keeping' etc...\n",
        "random.seed(2)\n",
        "\n",
        "# Create synaptic input\n",
        "stim = h.NetStim()\n",
        "frequency=15 #(hz)\n",
        "spikeinterval = (1/frequency)*1000 #convert to T and milliseconds\n",
        "stim.interval=spikeinterval\n",
        "print(str(stim.interval))\n",
        "stim.number = 3  # only one event\n",
        "stim.start = 2.0  # delay (ms)\n",
        "\n",
        "gmax = 1  # default synapse maximum conductance (uS)\n",
        "\n",
        "if Reduce_cell==True:\n",
        "  cell = cell_model(reduced_dendritic_cell,synapses_list=synapses_list,netcons_list=netcons_list,spike_threshold = 10)\n",
        "  cell._nbranch=nbranches[0]\n",
        "  # Add synapse to apical tufts\n",
        "  tufts=[]\n",
        "  for i,sec in enumerate(cell.apic):\n",
        "    if i!=0: # do not add synapse to trunk\n",
        "      tufts.append(sec)\n",
        "      cell.add_synapse(stim, sec_index=cell.all.index(sec), gmax=gmax / cell._nbranch, loc=0.01) # need to adjust to only tufts\n",
        "else:\n",
        "  cell = cell_model(complex_cell,synapses_list=synapses_list,netcons_list=netcons_list,spike_threshold = 10)\n",
        "  complex_branching_segment='L5PCtemplate[0].apic[36](0.961538)' #use to assign tuft synapses\n",
        "  tufts=cell.apic[36].children()\n",
        "  cell._nbranch=len(tufts) #determine branches starting from this branching point\n",
        "  # Add synapse to apical tufts\n",
        "  #indicate the complex branching segment # may have to observe complex cell first\n",
        "  complex_branching_segment='L5PCtemplate[0].apic[36](0.961538)'\n",
        "  for i,sec in enumerate(cell.apic[36].children()):\n",
        "      cell.add_synapse(stim, sec_index=cell.all.index(sec), gmax=gmax / cell._nbranch, loc=0.01) # need to adjust to only tufts\n",
        "\n",
        "\n",
        "# Add synapse to soma\n",
        "cell.add_synapse(stim, sec_index=0, gmax=gmax)\n",
        "\n",
        "# Add synapse to apical tufts"
      ],
      "metadata": {
        "colab": {
          "base_uri": "https://localhost:8080/"
        },
        "id": "rSTUwzTfqEX2",
        "outputId": "5f6ff50a-a31c-44d1-8749-896544fa57d8"
      },
      "id": "rSTUwzTfqEX2",
      "execution_count": 14,
      "outputs": [
        {
          "output_type": "stream",
          "name": "stdout",
          "text": [
            "66.66666666666667\n",
            "Generating 3D coordinates for:  L5PCtemplate[0].axon[0]\n",
            "Generating 3D coordinates for:  L5PCtemplate[0].axon[1]\n"
          ]
        }
      ]
    },
    {
      "cell_type": "code",
      "source": [
        "# # compare \n",
        "# for sec in cell.all:\n",
        "#   for i in range(sec.n3d()):\n",
        "#     print(sec.x3d(i))"
      ],
      "metadata": {
        "id": "4QUvM0h7JzFG"
      },
      "id": "4QUvM0h7JzFG",
      "execution_count": 15,
      "outputs": []
    },
    {
      "cell_type": "code",
      "source": [
        "# print(cell.seg_coords['pc'][0])"
      ],
      "metadata": {
        "id": "gE3JYuFhM1_6"
      },
      "id": "gE3JYuFhM1_6",
      "execution_count": 16,
      "outputs": []
    },
    {
      "cell_type": "code",
      "source": [
        "# dir(cell)"
      ],
      "metadata": {
        "id": "akYHQOGDKiW5"
      },
      "id": "akYHQOGDKiW5",
      "execution_count": 17,
      "outputs": []
    },
    {
      "cell_type": "code",
      "source": [
        "# make_reduced_seg_df(cell,\"segments_expanded.csv\") #need to improve make_reduced_seg_df\n",
        "# expanded_segments_df=pd.read_csv(\"segments_expanded.csv\")\n",
        "# plot_morphology(expanded_segments_df,\"expanded_morphology.svg\")"
      ],
      "metadata": {
        "id": "-ZwVHxQl5gLh"
      },
      "id": "-ZwVHxQl5gLh",
      "execution_count": 18,
      "outputs": []
    },
    {
      "cell_type": "code",
      "source": [
        "import os\n",
        "\n",
        "RunningInCOLAB = 'google.colab' in str(get_ipython())\n",
        "if RunningInCOLAB:\n",
        "    !pip install neuron==8.0.0 &> /dev/null\n",
        "    os.chdir('/content')\n",
        "    if not os.path.isdir('Stylized-Single-Cell-and-Extracellular-Potential'):\n",
        "        !git clone https://github.com/chenziao/Stylized-Single-Cell-and-Extracellular-Potential.git &> /dev/null \n",
        "    os.chdir('Stylized-Single-Cell-and-Extracellular-Potential')\n",
        "    %ls"
      ],
      "metadata": {
        "id": "D6vyubrwOvA_",
        "colab": {
          "base_uri": "https://localhost:8080/"
        },
        "outputId": "06d06a57-7327-405d-b907-410b1fe02f71"
      },
      "id": "D6vyubrwOvA_",
      "execution_count": 19,
      "outputs": [
        {
          "output_type": "stream",
          "name": "stdout",
          "text": [
            "\u001b[0m\u001b[01;34mcell_inference\u001b[0m/  Stylized_Single_Cell_Extracellular_Potential_Tutorial.ipynb\n"
          ]
        }
      ]
    },
    {
      "cell_type": "code",
      "source": [
        "from cell_inference.config import params, paths\n",
        "from cell_inference.cells.activecell_axon import ReducedOrderL5Cell, ReducedOrderL5CellPassiveDendrite\n",
        "from cell_inference.utils.currents.ecp import EcpMod\n",
        "from cell_inference.utils.currents.recorder import Recorder\n",
        "from cell_inference.utils.plotting.plot_morphology import plot_morphology\n",
        "from cell_inference.utils.plotting.plot_results import plot_lfp_heatmap, plot_lfp_traces\n",
        "from cell_inference.utils.plotting.plot_variable_with_morphology import plot_variable_with_morphology\n",
        "from cell_inference.utils.metrics.measure_segment_distance import measure_segment_distance"
      ],
      "metadata": {
        "id": "X7p40K3RO1RQ"
      },
      "id": "X7p40K3RO1RQ",
      "execution_count": 20,
      "outputs": []
    },
    {
      "cell_type": "code",
      "source": [
        "h.dt = params.DT  # time step\n",
        "h.steps_per_ms = 1/h.dt\n",
        "h.tstop = params.TSTOP  # simulation stop time\n",
        "\n",
        "# Record time points\n",
        "t_vec = h.Vector(round(h.tstop / h.dt) + 1).record(h._ref_t)\n",
        "\n",
        "# Record membrane voltage of all segments\n",
        "V_rec = Recorder(cell.segments)"
      ],
      "metadata": {
        "id": "m_npKvVUO4JD"
      },
      "id": "m_npKvVUO4JD",
      "execution_count": 21,
      "outputs": []
    },
    {
      "cell_type": "markdown",
      "id": "22d6f6e6",
      "metadata": {
        "id": "22d6f6e6"
      },
      "source": [
        "### Add electrodes (Neuropixel)\n",
        "A probe with 384 electrodes [https://www.neuropixels.org/probe](https://www.neuropixels.org/probe). The coordinates of each electrode is a row in the array printed below."
      ]
    },
    {
      "cell_type": "code",
      "execution_count": 22,
      "id": "8fdb0017",
      "metadata": {
        "id": "8fdb0017",
        "colab": {
          "base_uri": "https://localhost:8080/"
        },
        "outputId": "f4e6d96d-adb6-40ca-e68a-2b4c4ac9d624"
      },
      "outputs": [
        {
          "output_type": "stream",
          "name": "stdout",
          "text": [
            "(384, 3)\n",
            "[[   -8. -1910.     0.]\n",
            " [   24. -1910.     0.]\n",
            " [  -24. -1890.     0.]\n",
            " ...\n",
            " [   24.  1890.     0.]\n",
            " [  -24.  1910.     0.]\n",
            " [    8.  1910.     0.]]\n"
          ]
        }
      ],
      "source": [
        "elec_pos = params.ELECTRODE_POSITION\n",
        "ecp = EcpMod(cell, elec_pos, min_distance=params.MIN_DISTANCE)  # create an ECP object for extracellular potential\n",
        "\n",
        "# coordinates (x, y, z) of electrodes\n",
        "print(params.ELECTRODE_POSITION.shape)\n",
        "print(params.ELECTRODE_POSITION)"
      ]
    },
    {
      "cell_type": "markdown",
      "id": "c5323608",
      "metadata": {
        "id": "c5323608"
      },
      "source": [
        "## Custom settings\n",
        "\n",
        "Using the interactive tools below, you can change the position of the cell, and change the synapse strength and location on the cell.\n",
        "\n",
        "#### Cell position parameters (x, y, z, alpha, h, phi)\n",
        "Starting with soma at the origin, apical dendrite along y-axis, rotate and translate the cell to the desired position determined by 6 parameters. First, rotate alpha about the y-axis (spin), then rotate beta=arccos(h) about the x-axis (elevation), then rotate phi about the y-axis (azimuth). Finally translate the cell by (x,y,z).\n",
        "\n",
        "Use the sliders to change the 6 position parameters. Use the sliders 'elev' and 'azim' to change view of the 3D plot."
      ]
    },
    {
      "cell_type": "code",
      "source": [
        "# for sec in cell.apic:\n",
        "#   print(sec,sec.parentseg(), sec.n3d())"
      ],
      "metadata": {
        "id": "qGLMpaA7ME9p"
      },
      "id": "qGLMpaA7ME9p",
      "execution_count": 23,
      "outputs": []
    },
    {
      "cell_type": "code",
      "source": [
        "import matplotlib.pyplot as plt\n",
        "from matplotlib.figure import Figure\n",
        "from matplotlib.axes import Axes\n",
        "import numpy as np\n",
        "from typing import Union, Optional, List, Tuple\n",
        "\n",
        "from cell_inference.utils.currents.ecp import move_position\n",
        "from cell_inference.cells.stylizedcell import StylizedCell\n",
        "\n",
        "\n",
        "def plot_morphology(sim: Optional = None, cellid: Optional[int] = 0, cell: Optional[StylizedCell] = None,\n",
        "                    seg_coords: Optional[dict] = None, sec_nseg: Optional[List] = None,\n",
        "                    type_id: Optional[List] = None, electrodes: Optional[np.ndarray] = None,\n",
        "                    axes: Union[List[int], Tuple[int]] = [2, 0, 1], clr: Optional[List[str]] = None,\n",
        "                    elev: int = 20, azim: int = 10, move_cell: Optional[Union[List,np.ndarray]] = None,\n",
        "                    figsize: Optional[Tuple[float, float]] = None) -> Tuple[Figure, Axes]:\n",
        "    \"\"\"\n",
        "    Plot morphology in 3D.\n",
        "\n",
        "    sim: simulation object\n",
        "    cellid: cell id in the simulation object. Default: 0\n",
        "    cell: stylized cell object. Ignore sim and cellid if specified\n",
        "    seg_coords: if not using sim or cell, a dictionary that includes dl, pc, r\n",
        "    sec_nseg: if not using sim or cell, list of number of segments in each section\n",
        "    type_id:  if not using sim or cell, list of the swc type id of each section/segment\n",
        "    electrodes: electrode positions. Default: None, not shown.\n",
        "    axes: sequence of axes to display in 3d plot axes.\n",
        "        Default: [2,0,1] show z,x,y in 3d plot x,y,z axes, so y is upward.\n",
        "    clr: list of colors for each type of section\n",
        "    Return Figure object, Axes object\n",
        "    \"\"\"\n",
        "    if sim is None and cell is None:\n",
        "        if seg_coords is None or sec_nseg is None or type_id is None:\n",
        "            raise ValueError(\"If not using 'Simulation', input arguments 'seg_coords', 'sec_nseg', 'type_id' are required.\")\n",
        "        if clr is None:\n",
        "            clr = ('g', 'r', 'b', 'c')\n",
        "        if move_cell is None:\n",
        "            move_cell = [0., 0., 0., 0., 1., 0.]\n",
        "        sec_id_in_seg = np.cumsum([0] + list(sec_nseg[:-1]))\n",
        "        type_id = np.asarray(type_id) - 1\n",
        "        if type_id.size != len(sec_nseg):\n",
        "            type_id = type_id = type_id[sec_id_in_seg]\n",
        "        type_id = type_id.tolist()\n",
        "        label_idx = np.array([type_id.index(i) for i in range(4)])\n",
        "        lb_odr = np.argsort(label_idx)\n",
        "        label_idx = label_idx[lb_odr].tolist()\n",
        "        sec_name = np.array(('soma','axon','dend','apic'))[lb_odr]\n",
        "    else:\n",
        "        if clr is None:\n",
        "            clr = ('g', 'b', 'pink', 'purple', 'r', 'c')\n",
        "        if cell is None:\n",
        "            if move_cell is None:\n",
        "                move_cell = sim.loc_param[cellid, 0]\n",
        "            cell = sim.cells[cellid]\n",
        "        elif move_cell is None:\n",
        "            move_cell = [0., 0., 0., 0., 1., 0.]\n",
        "        seg_coords = cell.seg_coords\n",
        "        sec_id_in_seg = cell.sec_id_in_seg\n",
        "        sec_nseg = []\n",
        "        sec_name = []\n",
        "        label_idx = []\n",
        "        type_id = []\n",
        "        for i, sec in enumerate(cell.all):\n",
        "            sec_nseg.append(sec.nseg)\n",
        "            name = sec.name().split('.')[-1]\n",
        "            if name not in sec_name:\n",
        "                sec_name.append(name)\n",
        "                label_idx.append(i)\n",
        "            type_id.append(sec_name.index(name))\n",
        "    label_idx.append(-1)\n",
        "\n",
        "    move_cell = np.asarray(move_cell).reshape((2, 3))\n",
        "    dl = move_position([0., 0., 0.], move_cell[1], seg_coords['dl'])\n",
        "    pc = move_position(move_cell[0], move_cell[1], seg_coords['pc'])\n",
        "    xyz = 'xyz'\n",
        "    box = np.vstack([np.full(3, np.inf), np.full(3, np.NINF)])\n",
        "    if electrodes is not None:\n",
        "        box[0, axes[0:2]] = np.amin(electrodes[:, axes[0:2]], axis=0)\n",
        "        box[1, axes[0:2]] = np.amax(electrodes[:, axes[0:2]], axis=0)\n",
        "\n",
        "    fig = plt.figure(figsize=figsize)\n",
        "    ax = plt.axes(projection='3d')\n",
        "    lb_ptr = 0\n",
        "    for i, itype in enumerate(type_id):\n",
        "        label = sec_name[lb_ptr] if i == label_idx[lb_ptr] else None\n",
        "        if label is not None: lb_ptr += 1\n",
        "        i0 = sec_id_in_seg[i]\n",
        "        i1 = i0 + sec_nseg[i] - 1\n",
        "        if sec_name[itype] == 'soma':\n",
        "            p05 = (pc[i0] + pc[i1]) / 2\n",
        "            ax.scatter(*[p05[j] for j in axes], c=clr[itype], s=20, label=label)\n",
        "        else:\n",
        "            p0 = pc[i0] - dl[i0] / 2\n",
        "            p1 = pc[i1] + dl[i1] / 2\n",
        "            ax.plot3D(*[(p0[j], p1[j]) for j in axes], color=clr[itype], label=label)\n",
        "            box[0, :] = np.minimum(box[0, :], np.minimum(p0, p1))\n",
        "            box[1, :] = np.maximum(box[1, :], np.maximum(p0, p1))\n",
        "    ctr = np.mean(box, axis=0)\n",
        "    r = np.amax(box[1, :] - box[0, :]) / 2\n",
        "    box = np.vstack([ctr - r, ctr + r])\n",
        "    if electrodes is not None:\n",
        "        idx = np.logical_and(np.all(electrodes >= box[0, :], axis=1), np.all(electrodes <= box[1, :], axis=1))\n",
        "        ax.scatter(*[(electrodes[idx, j], electrodes[idx, j]) for j in axes], color='orange', s=5, label='electrodes')\n",
        "    box = box[:, axes]\n",
        "    ax.auto_scale_xyz(*box.T)\n",
        "    ax.view_init(elev, azim)\n",
        "    # ax.legend(loc=1)\n",
        "    ax.set_xlabel(xyz[axes[0]])\n",
        "    ax.set_ylabel(xyz[axes[1]])\n",
        "    ax.set_zlabel(xyz[axes[2]])\n",
        "    plt.show()\n",
        "    return fig, ax"
      ],
      "metadata": {
        "id": "eda71vXyA6Vt"
      },
      "id": "eda71vXyA6Vt",
      "execution_count": 45,
      "outputs": []
    },
    {
      "cell_type": "code",
      "execution_count": 46,
      "id": "a3df63ce",
      "metadata": {
        "id": "a3df63ce",
        "colab": {
          "base_uri": "https://localhost:8080/",
          "height": 813,
          "referenced_widgets": [
            "16e7ce30b4e14985bc9b1d01ebe5ac43",
            "b90fbbaf02eb4904b0d875fe19e24325",
            "0ddb014574bf49b080849a59fa4305c4",
            "0bdf1f5dedaf43c681b7087243e1510a",
            "d97bec2e3fe346bdb5b4d1cdee7a71f8",
            "ab6a47bdfa3f40349940af896adac3fb",
            "f260354a38324ff8ad0fc9b87da07da8",
            "df6bd57bdaae43d99ae5addb3cb264e3",
            "39888faba3d54ea4ba5af0fc5b375029",
            "f051d973bdd84e1cb7b9309e514a5ebd",
            "8e01b7ad10db4b6cbdec5797d1317dea",
            "c06bc2013fb441779ee091d233909a5c",
            "3ef03648c8e449e1b65d3d74b1256b2c",
            "e8d24984e5ed4676b323d8ae080b15ae",
            "46dddfa7844642e281cdf6204c33b64f",
            "9c52838b17a849b8a897c726b184887f",
            "a950bf44dc53481fa5c356df4484c373",
            "2bc6503f42354e2fbb7022b34a022886",
            "c8bae1407c0340f186f445bbcf402213",
            "120a6e9a7cd54b9093a906582733bc9b",
            "781fc12fc63d46ed925e718d521a7af9",
            "3c077aff8a1d40f5b0211e3cc5be8909",
            "5ca67c36318648b0b9fe9d53885dfe7d",
            "89c7a1e190be4500944e2bb7bb1f74f4",
            "5aa046135f8f4c789da53d17fb9f7fde",
            "5b9a1da4ffe14fbe889501743d2dfaf4",
            "bc4a725c40044ccab59498dbae25ac3f",
            "36ba19cbbbf7496caa09e5ac33d8b67a",
            "8cc9b0bb58e54ccf8abee4f7556c0c52",
            "7b4a84b1ff8c4753bb65fc233c30b990",
            "36141ce84b544fa78e7127417ec0e2cc",
            "0f37bedbbbf34d4b8e7f9768b85da314",
            "25cf0e8854a646079268b660f5db3ece",
            "1ebc79e655644a1686c7bfdcf75b1e82",
            "2976dd5795e4455fb893fcd9ef67d205",
            "8d408622b9114bdcb71acab21e46e503",
            "bfa3484d38e04ee78ee4d8f90e74c05f",
            "0f75f56c96334785b8cf49b2174afef0",
            "26452835f80f493599587fd20d63ac3a",
            "313370b01df54e938df0454ab67dd473",
            "7bfbcf3ae12f4734bf513028b4a2ea46"
          ]
        },
        "outputId": "3ef3afe6-cfa1-4ca9-f4d0-cf649426cefd"
      },
      "outputs": [
        {
          "output_type": "display_data",
          "data": {
            "text/plain": [
              "VBox(children=(Button(button_style='primary', description='Reset', icon='history', style=ButtonStyle()), HBox(…"
            ],
            "application/vnd.jupyter.widget-view+json": {
              "version_major": 2,
              "version_minor": 0,
              "model_id": "16e7ce30b4e14985bc9b1d01ebe5ac43"
            }
          },
          "metadata": {}
        }
      ],
      "source": [
        "loc_param_default = [0., 0., 80., 0., 1., 0.]  # Default position parameters\n",
        "elev, azim = 10, 90  # Default view\n",
        "# clr = ['g', 'yellow', 'orange', 'red', 'b', 'c', 'g', 'yellow', 'orange', 'red', 'pink', 'purple']  # section color\n",
        "clr=[]\n",
        "clr.extend(['black' for i in range(len([cell.soma]))]) # soma color\n",
        "clr.extend(['red' for i in range(len(cell.dend))]) #dend colors\n",
        "clr.extend(['purple' for i  in range(len(cell.axon))]) # axon colors\n",
        "clr.extend(['blue']) #trunk color\n",
        "clr.extend(['green' for i in range(len(cell.apic)-1)])  # branch colors\n",
        "\n",
        "def interactive_plot(x, y, z, alpha, beta, phi, elev, azim):\n",
        "    global loc_param\n",
        "    loc_param = (x, y, z, np.pi/180*alpha, np.cos(np.pi/180*beta), np.pi/180*phi)\n",
        "    fig, ax = plot_morphology(cell=cell, electrodes=elec_pos, move_cell=loc_param,\n",
        "                    elev=-elev, azim=-azim, figsize=(12, 8), clr = clr)\n",
        "    plt.show()\n",
        "\n",
        "xslider = Layout(width='500px')\n",
        "yslider = Layout(height='350px')\n",
        "w_reset = widgets.Button(description='Reset', icon='history', button_style='primary')\n",
        "w_x = widgets.FloatSlider(value=loc_param_default[0], min=-200, max=200, step=1, description='x (um)', continuous_update=False, readout_format='.0f')\n",
        "w_y = widgets.FloatSlider(value=loc_param_default[1], min=-1000, max=1000, step=1, description='y (um)', continuous_update=False, readout_format='.0f')\n",
        "w_z = widgets.FloatSlider(value=loc_param_default[2], min=20, max=400, step=1, description='z (um)', continuous_update=False, readout_format='.0f')\n",
        "w_alpha = widgets.FloatSlider(value=180/np.pi*loc_param_default[3], min=-180, max=180, step=1, description='alpha (deg)', continuous_update=False, readout_format='.0f')\n",
        "w_beta = widgets.FloatSlider(value=180/np.pi*np.arccos(loc_param_default[4]), min=0, max=180, step=1, description='beta (deg)', continuous_update=False, readout_format='.0f')\n",
        "w_phi = widgets.FloatSlider(value=180/np.pi*loc_param_default[5], min=-180, max=180, step=1, description='phi (deg)', continuous_update=False, readout_format='.0f')\n",
        "w_elev = widgets.FloatSlider(value=-elev, min=-90, max=90, step=1, description='elev (deg)', continuous_update=False, readout_format='.0f', orientation='vertical', layout=yslider)\n",
        "w_azim = widgets.FloatSlider(value=-azim, min=-180, max=180, step=1, description='azim (deg)', continuous_update=False, readout_format='.0f', layout=xslider)\n",
        "\n",
        "def reset_default(*args):\n",
        "    w_x.value, w_y.value, w_z.value = loc_param_default[:3]\n",
        "    w_alpha.value = 180 / np.pi * loc_param_default[3]\n",
        "    w_beta.value = 180 / np.pi * np.arccos(loc_param_default[4])\n",
        "    w_phi.value = 180 / np.pi * loc_param_default[5]\n",
        "    w_elev.value, w_azim.value = -elev, -azim\n",
        "w_reset.on_click(reset_default)\n",
        "\n",
        "out = interactive_output(interactive_plot, {'x': w_x, 'y': w_y, 'z': w_z, 'alpha': w_alpha, 'beta': w_beta, 'phi': w_phi, 'elev': w_elev, 'azim': w_azim})\n",
        "ui = VBox([ w_reset, HBox([ VBox([w_x, w_y, w_z]), VBox([w_alpha, w_beta, w_phi]) ]), HBox([ VBox([out, w_azim]), w_elev]) ])\n",
        "\n",
        "display(ui)"
      ]
    },
    {
      "cell_type": "markdown",
      "source": [
        "set azim to -90 in order to focus on zy plane view. 2D plot is of xy plane."
      ],
      "metadata": {
        "id": "OPZrMhcBjnec"
      },
      "id": "OPZrMhcBjnec"
    },
    {
      "cell_type": "markdown",
      "id": "0d582310",
      "metadata": {
        "id": "0d582310"
      },
      "source": [
        "#### Set synaptic input\n",
        "\n",
        "Use the toggle button to switch synapse location between the soma and the proximal apical tuft dendrite. Use the slider 'Synapse maximal conductance' to change synapse strength."
      ]
    },
    {
      "cell_type": "code",
      "execution_count": 25,
      "id": "ce8d1856",
      "metadata": {
        "id": "ce8d1856",
        "colab": {
          "base_uri": "https://localhost:8080/",
          "height": 81,
          "referenced_widgets": [
            "89c4e7fc2ffc4f3089820942e428c15c",
            "67a9dc170eac4f41a499dbae13225a39",
            "c159b945c0454c989e053bb14c793c3d",
            "4702550da838497b9d0a01e97fb99f62",
            "647f3e588eb3499daa70ee08ede4c1eb",
            "fb39eb127c2c47d69884c4c91cc45c63",
            "ea1691b5f33f4335b28689e7e8bd0913",
            "8a058333779244a5bff7bdd260b9b5fc",
            "0dcf5eec27b14e91bb47344a8e1d5edd",
            "3c939c485ab04fbaa04190d5bfae29c7",
            "0c20cbe6cbb54cdc99ad04689e0dbcbe",
            "11e22a3e9f7c47928b2aae8d04a295ea",
            "4a8b7432df1546b9ad0b4be3922bb7af"
          ]
        },
        "outputId": "439b1836-7c53-4fa4-eca9-ba8da93e08f0"
      },
      "outputs": [
        {
          "output_type": "display_data",
          "data": {
            "text/plain": [
              "VBox(children=(ToggleButtons(options=('Soma', 'Apical tuft (proximal)'), value='Soma'), HBox(children=(Label(v…"
            ],
            "application/vnd.jupyter.widget-view+json": {
              "version_major": 2,
              "version_minor": 0,
              "model_id": "89c4e7fc2ffc4f3089820942e428c15c"
            }
          },
          "metadata": {}
        }
      ],
      "source": [
        "w_syn_site = widgets.ToggleButtons(options=['Soma', 'Apical tuft (proximal)'])\n",
        "w_gmax = widgets.FloatSlider(value=gmax, min=0, max=0.1, step=0.0002, readout_format='.4f')\n",
        "display(VBox([w_syn_site, HBox([Label('Synapse maximal conductance (uS)'), w_gmax])]))\n",
        "\n",
        "def set_synapse():\n",
        "    soma_syn = w_syn_site.value == 'Soma'\n",
        "    gmax_soma = w_gmax.value if soma_syn else 0\n",
        "    gmax_tuft = 0 if soma_syn else w_gmax.value / cell._nbranch\n",
        "    cell.synapse[0].set_gmax(gmax_soma)\n",
        "    for syn in cell.synapse[1:]:\n",
        "        syn.set_gmax(gmax_tuft)"
      ]
    },
    {
      "cell_type": "code",
      "source": [
        "# try to extract syn and gmax for plot information\n",
        "print(w_gmax)\n",
        "print(w_syn_site)"
      ],
      "metadata": {
        "colab": {
          "base_uri": "https://localhost:8080/"
        },
        "id": "nqUJhNE_22Nn",
        "outputId": "6055350a-25be-4999-a4ef-117d938bfde9"
      },
      "id": "nqUJhNE_22Nn",
      "execution_count": 26,
      "outputs": [
        {
          "output_type": "stream",
          "name": "stdout",
          "text": [
            "FloatSlider(value=0.1, max=0.1, readout_format='.4f', step=0.0002)\n",
            "ToggleButtons(options=('Soma', 'Apical tuft (proximal)'), value='Soma')\n"
          ]
        }
      ]
    },
    {
      "cell_type": "code",
      "source": [
        "# nseg = len(cell.segments)\n",
        "# numTstep = int(h.tstop/h.dt)\n",
        "# #since synapse list has combined synapses for computational efficiency, we must use NetCon list/unique spike trains to determine how many synapses were mapped\n",
        "# NetCon_per_seg=[0]*nseg\n",
        "# inh_NetCon_per_seg=[0]*nseg\n",
        "# exc_NetCon_per_seg=[0]*nseg\n",
        "\n",
        "# i_NMDA_bySeg= [[0] * (numTstep+1) ] * nseg # need to implement inmda recording\n",
        "\n",
        "# v_rest=-60 #choose v_rest for categorizing inh/exc synapses\n",
        "\n",
        "# for netcon in cell.netcons_list:\n",
        "#   syn=netcon.syn()\n",
        "#   if syn in synapses_list:\n",
        "#     syn_seg_id=cell.segments.index(netcon.syn().get_segment())\n",
        "#     if syn in cell.segments[syn_seg_id].point_processes():\n",
        "#       NetCon_per_seg[syn_seg_id]+=1 # get synapses per segment\n",
        "#       # NetCon_per_seg[syn_seg_id].append(netcon) # possible implementation if needing objects per segment\n",
        "#       if syn.e > v_rest:\n",
        "#         exc_NetCon_per_seg[syn_seg_id]+=1\n",
        "#         # exc_NetCon_per_seg[syn_seg_id].append(netcon)# possible implementation if needing objects per segment\n",
        "#       else:\n",
        "#         inh_NetCon_per_seg[syn_seg_id]+=1\n",
        "#         # inh_NetCon_per_seg[syn_seg_id].append(netcon)# possible implementation if needing objects per segment\n",
        "#     else:\n",
        "#       print(\"Warning: synapse not in designated segment's point processes\")\n",
        "\n",
        "#   else:\n",
        "#     print(\"Warning: potentially deleted synapse:\",\"|NetCon obj:\",netcon,\"|Synapse obj:\",syn,\"the NetCon's synapse is not in synapses_list. Check corresponding original cell's NetCon for location, etc.\")\n",
        "\n",
        "# #extract inmda from each segment # can be adjusted for gaba synapses or alpha synapses # only paired nmda/ampa synapses have vec_list[1]\n",
        "# for synapse in cell.synapse:\n",
        "#   try:\n",
        "#     i_NMDA = np.array(synapse.rec_vec.vec_list[1])            #current = numpy array of NEURON Vector of current NMDA current at synapse j  \n",
        "#     seg = synapse.get_segment_id()                            #seg = the segment in which synapse j is located \n",
        "#     #print('first try')\n",
        "    \n",
        "#     try:\n",
        "#       i_NMDA_bySeg[seg] = i_NMDA_bySeg[seg] + i_NMDA    \n",
        "#       #print('second try')                                           #Sum current over each segment\n",
        "#     except: \n",
        "#       pass                                                                   #Except needed as some synpases do not have NMDA currrent and throw an error when called\n",
        "#   except:\n",
        "#     pass"
      ],
      "metadata": {
        "id": "-tri29bnwjC6"
      },
      "id": "-tri29bnwjC6",
      "execution_count": 27,
      "outputs": []
    },
    {
      "cell_type": "code",
      "source": [
        "%ls"
      ],
      "metadata": {
        "colab": {
          "base_uri": "https://localhost:8080/"
        },
        "id": "ynXvkXxb1dST",
        "outputId": "e7917b5c-3f86-4154-cb0a-8f7aa38eee89"
      },
      "id": "ynXvkXxb1dST",
      "execution_count": 28,
      "outputs": [
        {
          "output_type": "stream",
          "name": "stdout",
          "text": [
            "\u001b[0m\u001b[01;34mcell_inference\u001b[0m/  Stylized_Single_Cell_Extracellular_Potential_Tutorial.ipynb\n"
          ]
        }
      ]
    },
    {
      "cell_type": "code",
      "source": [
        "cell.get_recorder_data() #also creates directory"
      ],
      "metadata": {
        "id": "LQBCnpfD0F5S",
        "outputId": "bb769120-a93d-4807-b5f4-05f1a7eebb40",
        "colab": {
          "base_uri": "https://localhost:8080/"
        }
      },
      "id": "LQBCnpfD0F5S",
      "execution_count": 29,
      "outputs": [
        {
          "output_type": "stream",
          "name": "stdout",
          "text": [
            "Outputting data to  20.0outputcontrol_108nbranch_3NCs_0nsyn_642nseg\n"
          ]
        },
        {
          "output_type": "execute_result",
          "data": {
            "text/plain": [
              "{'spikes': array([], dtype=float64),\n",
              " 'ih_data': array([[0., 0., 0., ..., 0., 0., 0.],\n",
              "        [0., 0., 0., ..., 0., 0., 0.],\n",
              "        [0., 0., 0., ..., 0., 0., 0.],\n",
              "        ...,\n",
              "        [0., 0., 0., ..., 0., 0., 0.],\n",
              "        [0., 0., 0., ..., 0., 0., 0.],\n",
              "        [0., 0., 0., ..., 0., 0., 0.]]),\n",
              " 'gNaTa_T_data': array([[0., 0., 0., ..., 0., 0., 0.],\n",
              "        [0., 0., 0., ..., 0., 0., 0.],\n",
              "        [0., 0., 0., ..., 0., 0., 0.],\n",
              "        ...,\n",
              "        [0., 0., 0., ..., 0., 0., 0.],\n",
              "        [0., 0., 0., ..., 0., 0., 0.],\n",
              "        [0., 0., 0., ..., 0., 0., 0.]]),\n",
              " 'ina_data': array([[0., 0., 0., ..., 0., 0., 0.],\n",
              "        [0., 0., 0., ..., 0., 0., 0.],\n",
              "        [0., 0., 0., ..., 0., 0., 0.],\n",
              "        ...,\n",
              "        [0., 0., 0., ..., 0., 0., 0.],\n",
              "        [0., 0., 0., ..., 0., 0., 0.],\n",
              "        [0., 0., 0., ..., 0., 0., 0.]]),\n",
              " 'icah_data': array([[0., 0., 0., ..., 0., 0., 0.],\n",
              "        [0., 0., 0., ..., 0., 0., 0.],\n",
              "        [0., 0., 0., ..., 0., 0., 0.],\n",
              "        ...,\n",
              "        [0., 0., 0., ..., 0., 0., 0.],\n",
              "        [0., 0., 0., ..., 0., 0., 0.],\n",
              "        [0., 0., 0., ..., 0., 0., 0.]]),\n",
              " 'ical_data': array([[0., 0., 0., ..., 0., 0., 0.],\n",
              "        [0., 0., 0., ..., 0., 0., 0.],\n",
              "        [0., 0., 0., ..., 0., 0., 0.],\n",
              "        ...,\n",
              "        [0., 0., 0., ..., 0., 0., 0.],\n",
              "        [0., 0., 0., ..., 0., 0., 0.],\n",
              "        [0., 0., 0., ..., 0., 0., 0.]]),\n",
              " 'Vm': array([[0., 0., 0., ..., 0., 0., 0.],\n",
              "        [0., 0., 0., ..., 0., 0., 0.],\n",
              "        [0., 0., 0., ..., 0., 0., 0.],\n",
              "        ...,\n",
              "        [0., 0., 0., ..., 0., 0., 0.],\n",
              "        [0., 0., 0., ..., 0., 0., 0.],\n",
              "        [0., 0., 0., ..., 0., 0., 0.]]),\n",
              " 'i_NMDA':      0    1    2    3    4    5    6    7    8    9    ...  791  792  793  \\\n",
              " 0      0    0    0    0    0    0    0    0    0    0  ...    0    0    0   \n",
              " 1      0    0    0    0    0    0    0    0    0    0  ...    0    0    0   \n",
              " 2      0    0    0    0    0    0    0    0    0    0  ...    0    0    0   \n",
              " 3      0    0    0    0    0    0    0    0    0    0  ...    0    0    0   \n",
              " 4      0    0    0    0    0    0    0    0    0    0  ...    0    0    0   \n",
              " ..   ...  ...  ...  ...  ...  ...  ...  ...  ...  ...  ...  ...  ...  ...   \n",
              " 637    0    0    0    0    0    0    0    0    0    0  ...    0    0    0   \n",
              " 638    0    0    0    0    0    0    0    0    0    0  ...    0    0    0   \n",
              " 639    0    0    0    0    0    0    0    0    0    0  ...    0    0    0   \n",
              " 640    0    0    0    0    0    0    0    0    0    0  ...    0    0    0   \n",
              " 641    0    0    0    0    0    0    0    0    0    0  ...    0    0    0   \n",
              " \n",
              "      794  795  796  797  798  799  800  \n",
              " 0      0    0    0    0    0    0    0  \n",
              " 1      0    0    0    0    0    0    0  \n",
              " 2      0    0    0    0    0    0    0  \n",
              " 3      0    0    0    0    0    0    0  \n",
              " 4      0    0    0    0    0    0    0  \n",
              " ..   ...  ...  ...  ...  ...  ...  ...  \n",
              " 637    0    0    0    0    0    0    0  \n",
              " 638    0    0    0    0    0    0    0  \n",
              " 639    0    0    0    0    0    0    0  \n",
              " 640    0    0    0    0    0    0    0  \n",
              " 641    0    0    0    0    0    0    0  \n",
              " \n",
              " [642 rows x 801 columns],\n",
              " 'i_AMPA':      0    1    2    3    4    5    6    7    8    9    ...  791  792  793  \\\n",
              " 0      0    0    0    0    0    0    0    0    0    0  ...    0    0    0   \n",
              " 1      0    0    0    0    0    0    0    0    0    0  ...    0    0    0   \n",
              " 2      0    0    0    0    0    0    0    0    0    0  ...    0    0    0   \n",
              " 3      0    0    0    0    0    0    0    0    0    0  ...    0    0    0   \n",
              " 4      0    0    0    0    0    0    0    0    0    0  ...    0    0    0   \n",
              " ..   ...  ...  ...  ...  ...  ...  ...  ...  ...  ...  ...  ...  ...  ...   \n",
              " 637    0    0    0    0    0    0    0    0    0    0  ...    0    0    0   \n",
              " 638    0    0    0    0    0    0    0    0    0    0  ...    0    0    0   \n",
              " 639    0    0    0    0    0    0    0    0    0    0  ...    0    0    0   \n",
              " 640    0    0    0    0    0    0    0    0    0    0  ...    0    0    0   \n",
              " 641    0    0    0    0    0    0    0    0    0    0  ...    0    0    0   \n",
              " \n",
              "      794  795  796  797  798  799  800  \n",
              " 0      0    0    0    0    0    0    0  \n",
              " 1      0    0    0    0    0    0    0  \n",
              " 2      0    0    0    0    0    0    0  \n",
              " 3      0    0    0    0    0    0    0  \n",
              " 4      0    0    0    0    0    0    0  \n",
              " ..   ...  ...  ...  ...  ...  ...  ...  \n",
              " 637    0    0    0    0    0    0    0  \n",
              " 638    0    0    0    0    0    0    0  \n",
              " 639    0    0    0    0    0    0    0  \n",
              " 640    0    0    0    0    0    0    0  \n",
              " 641    0    0    0    0    0    0    0  \n",
              " \n",
              " [642 rows x 801 columns]}"
            ]
          },
          "metadata": {},
          "execution_count": 29
        }
      ]
    },
    {
      "cell_type": "code",
      "source": [
        "# output_folder_name=str(nbranches[0])+\"nbranch_outputcontrol_\"+str(int(len(cell.synapse)))+\"nsyn\"#+modelname  #include model name in output foler name (ex. original cell, reduced cell, expanded cell)\n",
        "# #create output folder\n",
        "# import os\n",
        "# if not os.path.exists(output_folder_name):\n",
        "#    os.makedirs(output_folder_name)\n",
        "\n",
        "# print(output_folder_name)\n",
        "# os.chdir(output_folder_name)"
      ],
      "metadata": {
        "id": "LeeK1qu11Zhv"
      },
      "id": "LeeK1qu11Zhv",
      "execution_count": 30,
      "outputs": []
    },
    {
      "cell_type": "code",
      "source": [
        "#save geometry file\n",
        "# cell.geometry.to_csv('geometry.csv')"
      ],
      "metadata": {
        "id": "2dNBijayE1zu"
      },
      "id": "2dNBijayE1zu",
      "execution_count": 31,
      "outputs": []
    },
    {
      "cell_type": "code",
      "source": [
        "# #Should add \"syn per seg\" to seg data frame #also can try doing SynPerSeg/segL to have more of a density metric\n",
        "# #can adjust functions to take df arguement\n",
        "# def plotSynDensity(SynPerSeg,Type=str):\n",
        "#   plt.figure(figsize=(4,10))\n",
        "#   ax = plt.scatter(expanded_segments_df[\"Coord X\"], expanded_segments_df[\"Coord Y\"],c = SynPerSeg[0:nseg],cmap='jet',)\n",
        "#   plt.vlines(110,400,500)\n",
        "#   plt.text(0,450,'100 um')\n",
        "#   plt.hlines(400,110,210)\n",
        "#   plt.text(110,350,'100 um')\n",
        "#   plt.xticks([])\n",
        "#   plt.yticks([])\n",
        "#   cbar = plt.colorbar()\n",
        "#   cbar.ax.set_ylabel(Type+'Synapses per segment', rotation=270)\n",
        "\n",
        "#   plt.box(False)\n",
        "#   plt.savefig(Type+'_syns.svg')\n",
        "\n",
        "# def plotSynDensityNoSoma(SynPerSeg,Type=str):\n",
        "#   plt.figure(figsize=(4,10))\n",
        "#   ax = plt.scatter(expanded_segments_df[\"Coord X\"][1:], expanded_segments_df[\"Coord Y\"][1:],c = SynPerSeg[1:nseg],cmap='jet',)\n",
        "#   plt.vlines(110,400,500)\n",
        "#   plt.text(0,450,'100 um')\n",
        "#   plt.hlines(400,110,210)\n",
        "#   plt.text(110,350,'100 um')\n",
        "#   plt.xticks([])\n",
        "#   plt.yticks([])\n",
        "#   cbar = plt.colorbar()\n",
        "#   cbar.ax.set_ylabel(Type+'Synapses per segment', rotation=270)\n",
        "\n",
        "#   plt.box(False)\n",
        "#   plt.savefig(Type+'_syns.svg')\n",
        "\n",
        "# plotSynDensity(exc_NetCon_per_seg,'Exc') #len(cell.segments) #low number of segments makes plot look odd."
      ],
      "metadata": {
        "id": "ZtC6mvhXwL-L"
      },
      "id": "ZtC6mvhXwL-L",
      "execution_count": 32,
      "outputs": []
    },
    {
      "cell_type": "code",
      "source": [
        "# plotSynDensity(inh_NetCon_per_seg,'Inh') # if soma has too many inh synapses the heatmap is not as interpretable"
      ],
      "metadata": {
        "id": "AuPzXdSdwhme"
      },
      "id": "AuPzXdSdwhme",
      "execution_count": 33,
      "outputs": []
    },
    {
      "cell_type": "code",
      "source": [
        "print(cell.seg_coords)"
      ],
      "metadata": {
        "id": "TsqdpMMmzNbX",
        "outputId": "be2490ba-804a-4b83-b19d-8000afdb4c75",
        "colab": {
          "base_uri": "https://localhost:8080/"
        }
      },
      "id": "TsqdpMMmzNbX",
      "execution_count": 34,
      "outputs": [
        {
          "output_type": "stream",
          "name": "stdout",
          "text": [
            "{'p0': array([[ 45.72555542,  18.34367752, -50.25      ],\n",
            "       [ 66.62999725,  21.19000053, -52.40000153],\n",
            "       [ 78.45999908,  19.29999924, -42.47000122],\n",
            "       ...,\n",
            "       [ -5.28000021,  72.70999908, -87.30000305],\n",
            "       [ 45.72555923,  18.34367752, -50.25      ],\n",
            "       [ 45.72555923, -11.65632248, -50.25      ]]), 'p1': array([[ 45.72555738,  18.34367764, -50.25      ],\n",
            "       [ 66.92914899,  21.04089056, -51.99181296],\n",
            "       [ 81.00648967,  20.13720301, -40.64734059],\n",
            "       ...,\n",
            "       [ -6.60813629,  72.50166421, -89.27267499],\n",
            "       [ 45.72555923,   3.34367752, -50.25      ],\n",
            "       [ 45.72555923, -26.65632248, -50.25      ]]), 'pc': array([[ 45.7255564 ,  18.34367758, -50.25      ],\n",
            "       [ 66.77957312,  21.11544555, -52.19590724],\n",
            "       [ 79.73324438,  19.71860112, -41.5586709 ],\n",
            "       ...,\n",
            "       [ -5.94406825,  72.60583165, -88.28633902],\n",
            "       [ 45.72555923,  10.84367752, -50.25      ],\n",
            "       [ 45.72555923, -19.15632248, -50.25      ]]), 'r': array([6.73575917, 0.57589032, 0.44      , 0.28999999, 0.28999999,\n",
            "       0.28999999, 0.28999999, 0.28999999, 0.25891649, 0.145     ,\n",
            "       0.44      , 0.28999999, 0.28999999, 0.28999999, 0.28999999,\n",
            "       0.24754919, 0.28999999, 0.28999999, 0.28999999, 0.28999999,\n",
            "       0.22561529, 0.145     , 0.145     , 0.145     , 0.145     ,\n",
            "       0.28999999, 0.19448171, 0.23347695, 0.28999999, 0.209824  ,\n",
            "       0.145     , 0.145     , 0.59217174, 0.28999999, 0.145     ,\n",
            "       0.22243248, 0.145     , 0.145     , 0.44      , 0.44      ,\n",
            "       0.20415283, 0.145     , 0.145     , 0.145     , 0.145     ,\n",
            "       0.145     , 0.145     , 0.28999999, 0.28999999, 0.28999999,\n",
            "       0.28999999, 0.28459702, 0.14690517, 0.145     , 0.28999999,\n",
            "       0.21486478, 0.145     , 0.73000002, 0.58499998, 0.4796842 ,\n",
            "       0.28999999, 0.28999999, 0.16175351, 0.18796481, 0.145     ,\n",
            "       0.145     , 0.145     , 0.145     , 0.58499998, 0.44      ,\n",
            "       0.36287486, 0.28999999, 0.28428301, 0.44      , 0.44      ,\n",
            "       0.44      , 0.3347233 , 0.28999999, 0.27403073, 0.145     ,\n",
            "       0.145     , 0.145     , 0.44      , 0.29907984, 0.145     ,\n",
            "       0.145     , 0.145     , 0.145     , 0.145     , 0.44      ,\n",
            "       0.40170741, 0.28932985, 0.15261534, 0.145     , 0.28999999,\n",
            "       0.28999999, 0.28999999, 0.23555153, 0.145     , 0.44      ,\n",
            "       0.28999999, 0.28999999, 0.28999999, 0.28999999, 0.18940106,\n",
            "       0.145     , 0.145     , 0.28999999, 0.28999999, 0.28999999,\n",
            "       0.145     , 0.145     , 0.145     , 0.28999999, 0.25333651,\n",
            "       0.145     , 0.44      , 0.44      , 0.44      , 0.44      ,\n",
            "       0.44      , 0.44      , 0.44      , 0.44      , 0.44      ,\n",
            "       0.31465929, 0.27673698, 0.79561481, 0.56982357, 0.28999999,\n",
            "       0.22103548, 0.145     , 0.145     , 0.145     , 0.43998811,\n",
            "       0.40299861, 0.44      , 0.26212265, 0.145     , 0.145     ,\n",
            "       0.145     , 0.58499998, 0.44      , 0.22682567, 0.145     ,\n",
            "       0.145     , 0.145     , 0.145     , 0.145     , 0.145     ,\n",
            "       0.145     , 0.58499998, 0.58499998, 0.16820248, 0.28999999,\n",
            "       0.28999999, 0.28999999, 0.1910981 , 0.44      , 0.145     ,\n",
            "       0.145     , 0.145     , 0.5246218 , 0.28999999, 0.28999999,\n",
            "       0.28999999, 0.28999999, 0.28999999, 0.28999999, 0.28999999,\n",
            "       0.46173052, 0.44      , 0.44      , 0.44      , 0.44      ,\n",
            "       0.39992356, 0.1747704 , 0.44      , 0.44      , 0.44      ,\n",
            "       0.44      , 0.44      , 0.28999999, 0.28999999, 0.28999999,\n",
            "       0.28999999, 0.28999999, 0.33245621, 0.27270487, 0.145     ,\n",
            "       0.145     , 0.145     , 0.92188328, 0.44      , 0.28999999,\n",
            "       0.28999999, 0.28999999, 0.28999999, 0.28999999, 0.28316792,\n",
            "       0.19666013, 0.145     , 0.28999999, 0.28999999, 0.28999999,\n",
            "       0.28999999, 0.23183153, 0.28999999, 0.28999999, 0.28999999,\n",
            "       0.145     , 0.145     , 0.145     , 0.145     , 0.145     ,\n",
            "       0.32974454, 0.44      , 0.44      , 0.44      , 0.39937741,\n",
            "       0.145     , 0.145     , 0.145     , 0.145     , 0.44      ,\n",
            "       0.28999999, 0.28999999, 0.22970813, 0.145     , 0.145     ,\n",
            "       0.145     , 0.145     , 0.145     , 0.145     , 0.44      ,\n",
            "       0.28999999, 0.28999999, 0.18561212, 0.145     , 0.145     ,\n",
            "       0.28999999, 0.145     , 0.145     , 0.145     , 0.19887461,\n",
            "       0.145     , 0.145     , 0.50064482, 0.44      , 0.44      ,\n",
            "       0.57414568, 0.19222518, 0.145     , 0.145     , 0.4817439 ,\n",
            "       0.145     , 0.145     , 0.145     , 0.145     , 0.145     ,\n",
            "       0.145     , 0.145     , 0.44      , 3.60243412, 2.04349146,\n",
            "       1.82513451, 1.62921153, 1.54499996, 1.54499996, 1.54499996,\n",
            "       1.54499996, 1.54499996, 1.54499996, 1.54499996, 0.54917929,\n",
            "       0.44      , 0.44      , 0.29499999, 0.29499999, 0.23884696,\n",
            "       0.29499999, 0.29499999, 0.29499999, 0.29499999, 0.29499999,\n",
            "       0.29499999, 0.29499999, 0.44      , 0.44      , 0.44      ,\n",
            "       0.32992165, 0.29499999, 0.44      , 0.44      , 0.33986558,\n",
            "       0.29499999, 0.29499999, 0.29499999, 0.44      , 0.44      ,\n",
            "       0.44      , 0.34536901, 0.29499999, 0.29499999, 0.29499999,\n",
            "       1.28499997, 1.28499997, 1.29814548, 0.67362434, 0.44      ,\n",
            "       0.35432218, 0.29499999, 0.29499999, 0.29499999, 0.29499999,\n",
            "       0.24321491, 0.145     , 0.145     , 0.145     , 0.35322062,\n",
            "       0.29499999, 0.27787303, 0.145     , 0.145     , 0.58499998,\n",
            "       0.54293067, 0.44      , 0.44      , 0.34693998, 0.29154504,\n",
            "       0.14624101, 0.145     , 0.145     , 1.28499997, 1.22588747,\n",
            "       1.34320703, 0.44      , 0.44      , 0.44      , 0.44      ,\n",
            "       0.44      , 1.54499996, 0.29499999, 0.29499999, 0.29499999,\n",
            "       0.29499999, 0.29499999, 0.29499999, 0.29499999, 0.29499999,\n",
            "       0.29499999, 0.29499999, 0.29499999, 0.29499999, 0.29499999,\n",
            "       0.29499999, 0.29499999, 0.29499999, 0.29499999, 1.52765087,\n",
            "       1.24730349, 1.28499997, 0.38059822, 0.44      , 0.38123342,\n",
            "       0.29499999, 0.29499999, 1.15651154, 1.28499997, 1.28499997,\n",
            "       1.28499997, 1.28499997, 1.28499997, 1.26497883, 1.24107329,\n",
            "       1.41499996, 1.41499996, 1.41499996, 1.41499996, 1.41499996,\n",
            "       0.89999998, 0.89999998, 0.89999998, 0.89999998, 0.89999998,\n",
            "       0.89747826, 0.65707101, 0.64499998, 0.64499998, 0.64499998,\n",
            "       0.64499998, 0.64499998, 0.6783202 , 0.51499999, 0.51499999,\n",
            "       0.51499999, 0.51499999, 0.51499999, 0.255     , 0.255     ,\n",
            "       0.255     , 0.38499999, 0.38499999, 0.38499999, 0.38499999,\n",
            "       0.38499999, 0.38499999, 0.38499999, 0.38499999, 0.38499999,\n",
            "       0.38499999, 0.38499999, 0.38499999, 0.255     , 0.255     ,\n",
            "       0.255     , 0.20086457, 0.13      , 0.13      , 0.13      ,\n",
            "       0.13      , 0.13      , 0.51499999, 0.42843418, 0.38499999,\n",
            "       0.2113163 , 0.13      , 0.13      , 0.38499999, 0.38499999,\n",
            "       0.38499999, 0.38499999, 0.38499999, 0.27903145, 0.21534467,\n",
            "       0.89999998, 0.89999998, 0.89999998, 0.76999998, 0.76737988,\n",
            "       0.649293  , 0.64499998, 0.64499998, 0.64499998, 0.64499998,\n",
            "       0.64499998, 0.64499998, 0.64499998, 0.64499998, 0.255     ,\n",
            "       0.255     , 0.24113821, 0.13      , 0.13      , 0.51499999,\n",
            "       0.51499999, 0.51499999, 0.51499999, 0.51499999, 0.51499999,\n",
            "       0.39406749, 0.38499999, 0.31222756, 0.27221592, 0.255     ,\n",
            "       0.13      , 0.255     , 0.13      , 0.13      , 0.51499999,\n",
            "       0.51499999, 0.51499999, 0.51499999, 0.51499999, 0.51499999,\n",
            "       0.51499999, 0.51499999, 0.51499999, 0.51499999, 0.51499999,\n",
            "       0.38499999, 0.38499999, 0.38499999, 0.38499999, 0.38499999,\n",
            "       0.38499999, 0.38499999, 0.38499999, 0.38499999, 0.33124241,\n",
            "       0.255     , 0.255     , 0.255     , 0.255     , 0.255     ,\n",
            "       0.255     , 0.255     , 0.255     , 0.255     , 0.255     ,\n",
            "       0.255     , 0.255     , 0.255     , 0.255     , 0.255     ,\n",
            "       0.17791925, 0.255     , 0.255     , 0.255     , 0.23124708,\n",
            "       0.13      , 0.13      , 0.13      , 0.13      , 0.13      ,\n",
            "       0.38499999, 0.38499999, 0.38499999, 0.38499999, 0.38499999,\n",
            "       0.38499999, 0.36484352, 0.255     , 0.255     , 0.255     ,\n",
            "       0.255     , 0.3593806 , 0.13      , 0.13      , 0.13      ,\n",
            "       0.38499999, 0.38418509, 0.25998673, 0.13      , 0.255     ,\n",
            "       0.255     , 0.21183418, 0.26721077, 0.255     , 0.255     ,\n",
            "       0.255     , 0.255     , 0.255     , 0.16656724, 0.145     ,\n",
            "       0.145     , 0.145     , 0.145     , 0.145     , 0.145     ,\n",
            "       0.145     , 0.145     , 0.145     , 0.145     , 0.145     ,\n",
            "       0.145     , 0.145     , 0.145     , 0.145     , 0.145     ,\n",
            "       0.44      , 0.44      , 0.44      , 0.58499998, 0.58499998,\n",
            "       0.47909655, 0.44      , 0.44      , 0.44      , 0.145     ,\n",
            "       0.145     , 0.145     , 0.145     , 0.145     , 0.145     ,\n",
            "       0.145     , 0.145     , 0.145     , 0.145     , 0.145     ,\n",
            "       0.145     , 0.145     , 0.58499998, 0.50221277, 0.44      ,\n",
            "       0.44      , 0.37923533, 0.28999999, 0.17344623, 0.58499998,\n",
            "       0.44      , 0.3195188 , 0.28999999, 0.145     , 0.145     ,\n",
            "       0.44      , 0.44      , 0.44      , 0.44      , 0.4240154 ,\n",
            "       0.28999999, 0.44      , 0.28999999, 0.28999999, 0.28999999,\n",
            "       0.28999999, 0.28999999, 0.28999999, 0.58499998, 0.58499998,\n",
            "       0.44      , 0.44      , 0.44      , 0.33700771, 0.28999999,\n",
            "       0.28999999, 0.20188222, 0.44      , 0.44      , 0.44      ,\n",
            "       0.44      , 0.34973298, 0.28999999, 0.28999999, 0.28999999,\n",
            "       0.28999999, 0.44      , 0.44      , 0.44      , 0.43817661,\n",
            "       0.29616155, 0.57813191, 0.35628701, 0.28999999, 0.28999999,\n",
            "       0.28999999, 0.28999999, 0.28999999, 0.28999999, 0.28999999,\n",
            "       0.5       , 0.5       ]), 'dl': array([[ 1.95927024e-06,  1.22373589e-07,  0.00000000e+00],\n",
            "       [ 2.99151737e-01, -1.49109978e-01,  4.08188567e-01],\n",
            "       [ 2.54649058e+00,  8.37203773e-01,  1.82266063e+00],\n",
            "       ...,\n",
            "       [-1.32813608e+00, -2.08334876e-01, -1.97267194e+00],\n",
            "       [ 0.00000000e+00, -1.50000000e+01,  0.00000000e+00],\n",
            "       [ 0.00000000e+00, -1.50000000e+01,  0.00000000e+00]])}\n"
          ]
        }
      ]
    },
    {
      "cell_type": "markdown",
      "id": "2ca15375",
      "metadata": {
        "id": "2ca15375"
      },
      "source": [
        "## Run simulation and plot results\n",
        "\n",
        "Run the codes below to simulate and display results everytime after you change the parameters above."
      ]
    },
    {
      "cell_type": "code",
      "execution_count": 35,
      "id": "f81ec874",
      "metadata": {
        "id": "f81ec874",
        "colab": {
          "base_uri": "https://localhost:8080/",
          "height": 1000
        },
        "outputId": "03ed4f41-6df6-453a-8b0e-7c6f288c0945"
      },
      "outputs": [
        {
          "output_type": "display_data",
          "data": {
            "text/plain": [
              "<Figure size 1000x400 with 1 Axes>"
            ],
            "image/png": "[encoded data removed]"
          },
          "metadata": {}
        },
        {
          "output_type": "display_data",
          "data": {
            "text/plain": [
              "<Figure size 800x500 with 2 Axes>"
            ],
            "image/png": "[encoded data removed]"
          },
          "metadata": {}
        },
        {
          "output_type": "display_data",
          "data": {
            "text/plain": [
              "<Figure size 800x500 with 2 Axes>"
            ],
            "image/png": "[encoded data removed]"
          },
          "metadata": {}
        }
      ],
      "source": [
        "# Run simulation\n",
        "set_synapse()\n",
        "h.run()\n",
        "# Get results\n",
        "t = t_vec.as_numpy().copy()  # time array (ms)\n",
        "# soma membrane potential\n",
        "Vm = V_rec.as_numpy()\n",
        "v_soma = Vm[cell.sec_id_in_seg[cell.all.index(cell.soma)]]\n",
        "v_tfut = Vm[cell.sec_id_in_seg[cell.all.index(tufts[0])]]\n",
        "# lfp array\n",
        "lfp = ecp.calc_ecp(move_cell=loc_param).T  # unit: mV\n",
        "\n",
        "# Soma membrane potential\n",
        "plt.figure(figsize=(10, 4))\n",
        "plt.plot(t, v_soma, label='Soma')\n",
        "plt.plot(t, v_tfut, label='Tuft')\n",
        "plt.ylabel('Membrane potential (mV)')\n",
        "plt.xlabel('time (ms)')\n",
        "plt.xlim(t[[0, -1]])\n",
        "plt.legend()\n",
        "plt.savefig('Vm')\n",
        "\n",
        "# Extracellular potential along y-axis\n",
        "y_window = [-1200, 1200]  # select range of y coordinate for plotting\n",
        "ylim = loc_param[1] + np.array(y_window)  # set range of y coordinate\n",
        "max_idx = np.argmax(np.amax(np.abs(lfp), axis=0))  # find the electrode that records maximum magnitude\n",
        "x_dist = elec_pos[max_idx, 0]  # x coordinate of the maximum magnitude electrode\n",
        "e_idx = (elec_pos[:, 0]==x_dist) & (elec_pos[:, 1]>=ylim[0]) & (elec_pos[:, 1]<=ylim[1])  # selected electrode indices\n",
        "\n",
        "fontsize = 15\n",
        "labelpad = -10\n",
        "ticksize = 12\n",
        "tick_length = 5\n",
        "nbins = 5\n",
        "plt.figure(figsize=(8, 5))\n",
        "_ = plot_lfp_heatmap(t=t, elec_d=elec_pos[e_idx, 1], lfp=lfp[:, e_idx],\n",
        "                     fontsize=fontsize, labelpad=labelpad, ticksize=ticksize, tick_length=tick_length,\n",
        "                     nbins=nbins, vlim='auto', axes=plt.gca())\n",
        "plt.title('Extracellular potential heatmap')\n",
        "plt.savefig('ECP heatmap')\n",
        "plt.figure(figsize=(8, 5))\n",
        "_ = plot_lfp_traces(t, lfp[:, e_idx][:,1::3], electrodes=elec_pos[e_idx][1::3],\n",
        "                    fontsize=fontsize, labelpad=labelpad, ticksize=ticksize, tick_length=tick_length,\n",
        "                    nbins=nbins, axes=plt.gca())\n",
        "plt.title('Extracellular potential timecourse')\n",
        "plt.savefig('ECP timecourse')\n",
        "\n",
        "plt.show()"
      ]
    },
    {
      "cell_type": "markdown",
      "id": "5c3e3e52",
      "metadata": {
        "id": "5c3e3e52"
      },
      "source": [
        "## Electrotonic distance\n",
        "\n",
        "Neuron has a tool for electrotonic analysis [https://www.neuron.yale.edu/neuron/static/docs/zclass/zclass.html](https://www.neuron.yale.edu/neuron/static/docs/zclass/zclass.html). It computes the electrotonic distance defined by attenuation, but the classical definition is [anatomical distance/length constant](https://www.neuron.yale.edu/neuron/static/docs/zclass/NIPS94/nipsfin.html).\n",
        "\n",
        "The plot below shows the membrane potential timecourse at several locations on the cell. The electrotonic distance computed by Neuron of each location is also shown with both number and color. The distance should always be a positive value, but it is labeled negative for the basal dendrites and the axon intentionally so that it can be easily distinguished from the apical dendrites."
      ]
    },
    {
      "cell_type": "code",
      "source": [],
      "metadata": {
        "id": "D0amv-Dd-2Ij"
      },
      "id": "D0amv-Dd-2Ij",
      "execution_count": 35,
      "outputs": []
    },
    {
      "cell_type": "code",
      "source": [
        "# geometry=cell.geometry"
      ],
      "metadata": {
        "id": "cNsNKTKuB0XA"
      },
      "id": "cNsNKTKuB0XA",
      "execution_count": 36,
      "outputs": []
    },
    {
      "cell_type": "code",
      "execution_count": 37,
      "id": "729a65ff",
      "metadata": {
        "id": "729a65ff"
      },
      "outputs": [],
      "source": [
        "# for syn in cell.synapse:\n",
        "#     syn.set_gmax(0)\n",
        "# h.run()\n",
        "\n",
        "# sec_type_swc = {sec['name']: sec['type'] for _, sec in geometry.iterrows()}\n",
        "# # sec_type = [sec_type_swc[sec.name().split('.')[-1]] for sec in cell.all] # original\n",
        "# # sec_type = [sec_type_swc[sec.name().split('.')[-1].split('[')[0]] for sec in cell.all] # possible alternative?\n",
        "# sec_type = [sec_type_swc[sec.name()] for sec in cell.all]\n",
        "# freq = 0 # Hz\n",
        "# seg_prop, _, _ = measure_segment_distance(cell.soma , cell.all, sec_type, freq)\n",
        "\n",
        "# select_seg = [[cell.sec_id_in_seg[sec[0]], cell.get_sec_by_id(sec[0]).nseg -1] for sec in cell.sec_id_lookup.values()]\n",
        "# select_seg = np.sum(np.array(select_seg), axis=1)\n",
        "# # select_seg = np.unique(np.cumsum(np.array(select_seg), axis=1).ravel())\n",
        "# _ = plot_variable_with_morphology(cell.seg_coords, seg_prop, Vm, t=t, axes=['x', 'y'],\n",
        "#                                   distance_type='elec_dist', n_dist=300,\n",
        "#                                   select_seg=select_seg, max_per_dist=1, varname='Membrane potential (mV)',\n",
        "#                                   space=2., normalized_space=True, sort_by_dist=True,\n",
        "                                  # figsize=(10, 10), fontsize=15, scalebar_size=50)"
      ]
    },
    {
      "cell_type": "markdown",
      "source": [
        "##Transfer Impedance\n",
        "\n"
      ],
      "metadata": {
        "id": "Tc1fFLPUz5Qe"
      },
      "id": "Tc1fFLPUz5Qe"
    },
    {
      "cell_type": "code",
      "execution_count": 38,
      "id": "be859ed7",
      "metadata": {
        "id": "be859ed7"
      },
      "outputs": [],
      "source": [
        "# import numpy as np\n",
        "# from neuron import h\n",
        "# import cmath\n",
        "\n",
        "# def measure_segment_transfer_impedance(soma, section_list, sec_type, freq=0, extracellular_mechanism=True):\n",
        "#     \"\"\"\n",
        "#     soma: soma section object\n",
        "#     section_list: list of sections\n",
        "#     sec_type: list of swc type id of sections\n",
        "#     freq: frequency (Hz) at which electrotonic distance is evaluated\n",
        "#     extracellular_mechanism: whether extracellular mechanism is used\n",
        "#     \"\"\"\n",
        "#     seg_prop = {}\n",
        "#     swc_type = []\n",
        "#     seg_area = []\n",
        "#     seg_dist = []\n",
        "#     seg_length = []\n",
        "#     elec_dist = [] #modulus part of polar form #should change names\n",
        "#     elec_dist0 = [] #modulus of polar form #should change names\n",
        "#     transfer_imps = [] #real part of rectangular form\n",
        "#     transfer_imps0 = [] # real part of rectangular form\n",
        "\n",
        "#     # set up distance origin\n",
        "#     h.distance(0, soma(.5))\n",
        "#     # set up electrotonic origin\n",
        "#     zz = h.Impedance()\n",
        "#     zz.loc(soma(.5))\n",
        "#     if extracellular_mechanism:\n",
        "#         zz.compute(freq + 1 / 9e9, 0) #*\n",
        "#     else:\n",
        "#         zz.compute(freq, 1)\n",
        "#     # measure distance\n",
        "#     for i, sec in enumerate(section_list):\n",
        "#         if sec_type[i]==1:\n",
        "#             transfer_imp=zz.transfer(sec(0.5/sec.nseg)) #*\n",
        "#             transfer_phase=zz.transfer_phase(sec(0.5/sec.nseg)) #*\n",
        "#             elec_dist0.append(transfer_imp) #*\n",
        "#             rect_complex=cmath.rect(transfer_imp,transfer_phase)\n",
        "#             transfer_imps.append(rect_complex.real) #*\n",
        "#         else:\n",
        "#             transfer_imp=zz.transfer(sec.parentseg()) #*\n",
        "#             transfer_phase=zz.transfer_phase(sec.parentseg()) #*\n",
        "#             elec_dist0.append(transfer_imp) #*\n",
        "#             rect_complex=cmath.rect(transfer_imp, transfer_phase) #*\n",
        "#             transfer_imps.append(rect_complex.real) #*\n",
        "#         for j, seg in enumerate(sec):\n",
        "#             swc_type.append(sec_type[i])\n",
        "#             seg_area.append(seg.area())\n",
        "#             seg_dist.append(h.distance(seg))\n",
        "#             seg_length.append(sec.L/sec.nseg)\n",
        "#             if j!=0:\n",
        "#                 elec_dist0.append(elec_dist[-1])\n",
        "#                 transfer_imps.append(transfer_imps0[-1])\n",
        "#             elec_dist.append(zz.transfer(seg)) #*\n",
        "#             transfer_imp=zz.transfer(seg) #*\n",
        "#             transfer_phase=zz.transfer_phase(seg) #*\n",
        "#             rect_complex=cmath.rect(transfer_imp,transfer_phase) #*\n",
        "#             transfer_imps0.append(rect_complex.real) #*\n",
        "\n",
        "#     seg_prop['swc_type'] = np.array(swc_type)\n",
        "#     seg_prop['seg_area'] = np.array(seg_area)\n",
        "\n",
        "#     # distance at endpoints of each segment\n",
        "#     seg_prop['distance'] = np.expand_dims(seg_dist, 1) + np.expand_dims(seg_length, 1) / 2 * np.array([[-1, 1]])\n",
        "#     # seg_prop['transfer_imp'] = np.sort(np.log(elec_dist0[0]) - np.log(np.column_stack([elec_dist0, elec_dist])), axis=1) #*\n",
        "#     seg_prop['transfer_imp_mod'] = np.sort(elec_dist0[0] - np.column_stack([elec_dist0, elec_dist]), axis=1) #*\n",
        "#     seg_prop['transfer_imp_real'] = np.sort(transfer_imps[0] - np.column_stack([transfer_imps, transfer_imps0]), axis=1) #*\n",
        "\n",
        "\n",
        "#     # change sign of basal and axon types\n",
        "#     idx = np.nonzero((seg_prop['swc_type']==2) | (seg_prop['swc_type']==3))[0]\n",
        "#     seg_prop['distance'][idx] = -seg_prop['distance'][idx,::-1]\n",
        "#     seg_prop['transfer_imp_mod'][idx] = -seg_prop['transfer_imp_mod'][idx,::-1] #*\n",
        "#     seg_prop['transfer_imp_real'][idx] = -seg_prop['transfer_imp_real'][idx,::-1] #*\n",
        "#     return seg_prop, zz.transfer(soma(.5)), zz.transfer_phase(soma(.5))\n"
      ]
    },
    {
      "cell_type": "code",
      "source": [
        "# #using modulus of polar form\n",
        "\n",
        "# for syn in cell.synapse:\n",
        "#     syn.set_gmax(0)\n",
        "# h.run()\n",
        "\n",
        "# sec_type_swc = {sec['name']: sec['type'] for _, sec in geometry.iterrows()}\n",
        "# sec_type = [sec_type_swc[sec.name().split('.')[-1]] for sec in cell.all]\n",
        "# freq = 0 # Hz\n",
        "# seg_prop, _, _ = measure_segment_transfer_impedance(cell.soma , cell.all, sec_type, freq)\n",
        "\n",
        "# select_seg = [[cell.sec_id_in_seg[sec[0]], cell.get_sec_by_id(sec[0]).nseg -1] for sec in cell.sec_id_lookup.values()]\n",
        "# select_seg = np.sum(np.array(select_seg), axis=1)\n",
        "# # select_seg = np.unique(np.cumsum(np.array(select_seg), axis=1).ravel())\n",
        "# _ = plot_variable_with_morphology(cell.seg_coords, seg_prop, Vm, t=t, axes=['x', 'y'],\n",
        "#                                   distance_type='transfer_imp_mod', n_dist=300,\n",
        "#                                   select_seg=select_seg, max_per_dist=1, varname='Membrane potential (mV)',\n",
        "#                                   space=2., normalized_space=True, sort_by_dist=True,\n",
        "#                                   figsize=(10, 10), fontsize=15, scalebar_size=50)"
      ],
      "metadata": {
        "id": "yHRymM0L5pJj"
      },
      "id": "yHRymM0L5pJj",
      "execution_count": 39,
      "outputs": []
    },
    {
      "cell_type": "code",
      "source": [
        "# #using real part of rectangular complex form\n",
        "\n",
        "# for syn in cell.synapse:\n",
        "#     syn.set_gmax(0)\n",
        "# h.run()\n",
        "\n",
        "# sec_type_swc = {sec['name']: sec['type'] for _, sec in geometry.iterrows()}\n",
        "# sec_type = [sec_type_swc[sec.name().split('.')[-1]] for sec in cell.all]\n",
        "# freq = 0 # Hz\n",
        "# seg_prop, _, _ = measure_segment_transfer_impedance(cell.soma , cell.all, sec_type, freq)\n",
        "\n",
        "# select_seg = [[cell.sec_id_in_seg[sec[0]], cell.get_sec_by_id(sec[0]).nseg -1] for sec in cell.sec_id_lookup.values()]\n",
        "# select_seg = np.sum(np.array(select_seg), axis=1)\n",
        "# # select_seg = np.unique(np.cumsum(np.array(select_seg), axis=1).ravel())\n",
        "# _ = plot_variable_with_morphology(cell.seg_coords, seg_prop, Vm, t=t, axes=['x', 'y'],\n",
        "#                                   distance_type='transfer_imp_real', n_dist=300,\n",
        "#                                   select_seg=select_seg, max_per_dist=1, varname='Membrane potential (mV)',\n",
        "#                                   space=2., normalized_space=True, sort_by_dist=True,\n",
        "#                                   figsize=(10, 10), fontsize=15, scalebar_size=50)"
      ],
      "metadata": {
        "id": "Ibbz1qMIjWu5"
      },
      "id": "Ibbz1qMIjWu5",
      "execution_count": 40,
      "outputs": []
    },
    {
      "cell_type": "markdown",
      "source": [
        "Transfer Impedance is a complex number"
      ],
      "metadata": {
        "id": "2eSHPclEP0I0"
      },
      "id": "2eSHPclEP0I0"
    },
    {
      "cell_type": "code",
      "source": [
        "# polar_modulus=1\n",
        "# polar_phase=3\n",
        "\n",
        "# complex_rectangular_form=cmath.rect(polar_modulus, polar_phase)\n",
        "# print(complex_rectangular_form)"
      ],
      "metadata": {
        "id": "PM8Xa3WATASj"
      },
      "id": "PM8Xa3WATASj",
      "execution_count": 41,
      "outputs": []
    },
    {
      "cell_type": "code",
      "source": [
        "# complex_rectangular_form.real"
      ],
      "metadata": {
        "id": "BZgkMzBpTLgL"
      },
      "id": "BZgkMzBpTLgL",
      "execution_count": 42,
      "outputs": []
    }
  ],
  "metadata": {
    "colab": {
      "provenance": [],
      "include_colab_link": true
    },
    "kernelspec": {
      "display_name": "Python 3 (ipykernel)",
      "language": "python",
      "name": "python3"
    },
    "language_info": {
      "codemirror_mode": {
        "name": "ipython",
        "version": 3
      },
      "file_extension": ".py",
      "mimetype": "text/x-python",
      "name": "python",
      "nbconvert_exporter": "python",
      "pygments_lexer": "ipython3",
      "version": "3.9.12"
    },
    "widgets": {
      "application/vnd.jupyter.widget-state+json": {
        "16e7ce30b4e14985bc9b1d01ebe5ac43": {
          "model_module": "@jupyter-widgets/controls",
          "model_name": "VBoxModel",
          "model_module_version": "1.5.0",
          "state": {
            "_dom_classes": [],
            "_model_module": "@jupyter-widgets/controls",
            "_model_module_version": "1.5.0",
            "_model_name": "VBoxModel",
            "_view_count": null,
            "_view_module": "@jupyter-widgets/controls",
            "_view_module_version": "1.5.0",
            "_view_name": "VBoxView",
            "box_style": "",
            "children": [
              "IPY_MODEL_b90fbbaf02eb4904b0d875fe19e24325",
              "IPY_MODEL_0ddb014574bf49b080849a59fa4305c4",
              "IPY_MODEL_0bdf1f5dedaf43c681b7087243e1510a"
            ],
            "layout": "IPY_MODEL_d97bec2e3fe346bdb5b4d1cdee7a71f8"
          }
        },
        "b90fbbaf02eb4904b0d875fe19e24325": {
          "model_module": "@jupyter-widgets/controls",
          "model_name": "ButtonModel",
          "model_module_version": "1.5.0",
          "state": {
            "_dom_classes": [],
            "_model_module": "@jupyter-widgets/controls",
            "_model_module_version": "1.5.0",
            "_model_name": "ButtonModel",
            "_view_count": null,
            "_view_module": "@jupyter-widgets/controls",
            "_view_module_version": "1.5.0",
            "_view_name": "ButtonView",
            "button_style": "primary",
            "description": "Reset",
            "disabled": false,
            "icon": "history",
            "layout": "IPY_MODEL_ab6a47bdfa3f40349940af896adac3fb",
            "style": "IPY_MODEL_f260354a38324ff8ad0fc9b87da07da8",
            "tooltip": ""
          }
        },
        "0ddb014574bf49b080849a59fa4305c4": {
          "model_module": "@jupyter-widgets/controls",
          "model_name": "HBoxModel",
          "model_module_version": "1.5.0",
          "state": {
            "_dom_classes": [],
            "_model_module": "@jupyter-widgets/controls",
            "_model_module_version": "1.5.0",
            "_model_name": "HBoxModel",
            "_view_count": null,
            "_view_module": "@jupyter-widgets/controls",
            "_view_module_version": "1.5.0",
            "_view_name": "HBoxView",
            "box_style": "",
            "children": [
              "IPY_MODEL_df6bd57bdaae43d99ae5addb3cb264e3",
              "IPY_MODEL_39888faba3d54ea4ba5af0fc5b375029"
            ],
            "layout": "IPY_MODEL_f051d973bdd84e1cb7b9309e514a5ebd"
          }
        },
        "0bdf1f5dedaf43c681b7087243e1510a": {
          "model_module": "@jupyter-widgets/controls",
          "model_name": "HBoxModel",
          "model_module_version": "1.5.0",
          "state": {
            "_dom_classes": [],
            "_model_module": "@jupyter-widgets/controls",
            "_model_module_version": "1.5.0",
            "_model_name": "HBoxModel",
            "_view_count": null,
            "_view_module": "@jupyter-widgets/controls",
            "_view_module_version": "1.5.0",
            "_view_name": "HBoxView",
            "box_style": "",
            "children": [
              "IPY_MODEL_8e01b7ad10db4b6cbdec5797d1317dea",
              "IPY_MODEL_c06bc2013fb441779ee091d233909a5c"
            ],
            "layout": "IPY_MODEL_3ef03648c8e449e1b65d3d74b1256b2c"
          }
        },
        "d97bec2e3fe346bdb5b4d1cdee7a71f8": {
          "model_module": "@jupyter-widgets/base",
          "model_name": "LayoutModel",
          "model_module_version": "1.2.0",
          "state": {
            "_model_module": "@jupyter-widgets/base",
            "_model_module_version": "1.2.0",
            "_model_name": "LayoutModel",
            "_view_count": null,
            "_view_module": "@jupyter-widgets/base",
            "_view_module_version": "1.2.0",
            "_view_name": "LayoutView",
            "align_content": null,
            "align_items": null,
            "align_self": null,
            "border": null,
            "bottom": null,
            "display": null,
            "flex": null,
            "flex_flow": null,
            "grid_area": null,
            "grid_auto_columns": null,
            "grid_auto_flow": null,
            "grid_auto_rows": null,
            "grid_column": null,
            "grid_gap": null,
            "grid_row": null,
            "grid_template_areas": null,
            "grid_template_columns": null,
            "grid_template_rows": null,
            "height": null,
            "justify_content": null,
            "justify_items": null,
            "left": null,
            "margin": null,
            "max_height": null,
            "max_width": null,
            "min_height": null,
            "min_width": null,
            "object_fit": null,
            "object_position": null,
            "order": null,
            "overflow": null,
            "overflow_x": null,
            "overflow_y": null,
            "padding": null,
            "right": null,
            "top": null,
            "visibility": null,
            "width": null
          }
        },
        "ab6a47bdfa3f40349940af896adac3fb": {
          "model_module": "@jupyter-widgets/base",
          "model_name": "LayoutModel",
          "model_module_version": "1.2.0",
          "state": {
            "_model_module": "@jupyter-widgets/base",
            "_model_module_version": "1.2.0",
            "_model_name": "LayoutModel",
            "_view_count": null,
            "_view_module": "@jupyter-widgets/base",
            "_view_module_version": "1.2.0",
            "_view_name": "LayoutView",
            "align_content": null,
            "align_items": null,
            "align_self": null,
            "border": null,
            "bottom": null,
            "display": null,
            "flex": null,
            "flex_flow": null,
            "grid_area": null,
            "grid_auto_columns": null,
            "grid_auto_flow": null,
            "grid_auto_rows": null,
            "grid_column": null,
            "grid_gap": null,
            "grid_row": null,
            "grid_template_areas": null,
            "grid_template_columns": null,
            "grid_template_rows": null,
            "height": null,
            "justify_content": null,
            "justify_items": null,
            "left": null,
            "margin": null,
            "max_height": null,
            "max_width": null,
            "min_height": null,
            "min_width": null,
            "object_fit": null,
            "object_position": null,
            "order": null,
            "overflow": null,
            "overflow_x": null,
            "overflow_y": null,
            "padding": null,
            "right": null,
            "top": null,
            "visibility": null,
            "width": null
          }
        },
        "f260354a38324ff8ad0fc9b87da07da8": {
          "model_module": "@jupyter-widgets/controls",
          "model_name": "ButtonStyleModel",
          "model_module_version": "1.5.0",
          "state": {
            "_model_module": "@jupyter-widgets/controls",
            "_model_module_version": "1.5.0",
            "_model_name": "ButtonStyleModel",
            "_view_count": null,
            "_view_module": "@jupyter-widgets/base",
            "_view_module_version": "1.2.0",
            "_view_name": "StyleView",
            "button_color": null,
            "font_weight": ""
          }
        },
        "df6bd57bdaae43d99ae5addb3cb264e3": {
          "model_module": "@jupyter-widgets/controls",
          "model_name": "VBoxModel",
          "model_module_version": "1.5.0",
          "state": {
            "_dom_classes": [],
            "_model_module": "@jupyter-widgets/controls",
            "_model_module_version": "1.5.0",
            "_model_name": "VBoxModel",
            "_view_count": null,
            "_view_module": "@jupyter-widgets/controls",
            "_view_module_version": "1.5.0",
            "_view_name": "VBoxView",
            "box_style": "",
            "children": [
              "IPY_MODEL_e8d24984e5ed4676b323d8ae080b15ae",
              "IPY_MODEL_46dddfa7844642e281cdf6204c33b64f",
              "IPY_MODEL_9c52838b17a849b8a897c726b184887f"
            ],
            "layout": "IPY_MODEL_a950bf44dc53481fa5c356df4484c373"
          }
        },
        "39888faba3d54ea4ba5af0fc5b375029": {
          "model_module": "@jupyter-widgets/controls",
          "model_name": "VBoxModel",
          "model_module_version": "1.5.0",
          "state": {
            "_dom_classes": [],
            "_model_module": "@jupyter-widgets/controls",
            "_model_module_version": "1.5.0",
            "_model_name": "VBoxModel",
            "_view_count": null,
            "_view_module": "@jupyter-widgets/controls",
            "_view_module_version": "1.5.0",
            "_view_name": "VBoxView",
            "box_style": "",
            "children": [
              "IPY_MODEL_2bc6503f42354e2fbb7022b34a022886",
              "IPY_MODEL_c8bae1407c0340f186f445bbcf402213",
              "IPY_MODEL_120a6e9a7cd54b9093a906582733bc9b"
            ],
            "layout": "IPY_MODEL_781fc12fc63d46ed925e718d521a7af9"
          }
        },
        "f051d973bdd84e1cb7b9309e514a5ebd": {
          "model_module": "@jupyter-widgets/base",
          "model_name": "LayoutModel",
          "model_module_version": "1.2.0",
          "state": {
            "_model_module": "@jupyter-widgets/base",
            "_model_module_version": "1.2.0",
            "_model_name": "LayoutModel",
            "_view_count": null,
            "_view_module": "@jupyter-widgets/base",
            "_view_module_version": "1.2.0",
            "_view_name": "LayoutView",
            "align_content": null,
            "align_items": null,
            "align_self": null,
            "border": null,
            "bottom": null,
            "display": null,
            "flex": null,
            "flex_flow": null,
            "grid_area": null,
            "grid_auto_columns": null,
            "grid_auto_flow": null,
            "grid_auto_rows": null,
            "grid_column": null,
            "grid_gap": null,
            "grid_row": null,
            "grid_template_areas": null,
            "grid_template_columns": null,
            "grid_template_rows": null,
            "height": null,
            "justify_content": null,
            "justify_items": null,
            "left": null,
            "margin": null,
            "max_height": null,
            "max_width": null,
            "min_height": null,
            "min_width": null,
            "object_fit": null,
            "object_position": null,
            "order": null,
            "overflow": null,
            "overflow_x": null,
            "overflow_y": null,
            "padding": null,
            "right": null,
            "top": null,
            "visibility": null,
            "width": null
          }
        },
        "8e01b7ad10db4b6cbdec5797d1317dea": {
          "model_module": "@jupyter-widgets/controls",
          "model_name": "VBoxModel",
          "model_module_version": "1.5.0",
          "state": {
            "_dom_classes": [],
            "_model_module": "@jupyter-widgets/controls",
            "_model_module_version": "1.5.0",
            "_model_name": "VBoxModel",
            "_view_count": null,
            "_view_module": "@jupyter-widgets/controls",
            "_view_module_version": "1.5.0",
            "_view_name": "VBoxView",
            "box_style": "",
            "children": [
              "IPY_MODEL_3c077aff8a1d40f5b0211e3cc5be8909",
              "IPY_MODEL_5ca67c36318648b0b9fe9d53885dfe7d"
            ],
            "layout": "IPY_MODEL_89c7a1e190be4500944e2bb7bb1f74f4"
          }
        },
        "c06bc2013fb441779ee091d233909a5c": {
          "model_module": "@jupyter-widgets/controls",
          "model_name": "FloatSliderModel",
          "model_module_version": "1.5.0",
          "state": {
            "_dom_classes": [],
            "_model_module": "@jupyter-widgets/controls",
            "_model_module_version": "1.5.0",
            "_model_name": "FloatSliderModel",
            "_view_count": null,
            "_view_module": "@jupyter-widgets/controls",
            "_view_module_version": "1.5.0",
            "_view_name": "FloatSliderView",
            "continuous_update": false,
            "description": "elev (deg)",
            "description_tooltip": null,
            "disabled": false,
            "layout": "IPY_MODEL_5aa046135f8f4c789da53d17fb9f7fde",
            "max": 90,
            "min": -90,
            "orientation": "vertical",
            "readout": true,
            "readout_format": ".0f",
            "step": 1,
            "style": "IPY_MODEL_5b9a1da4ffe14fbe889501743d2dfaf4",
            "value": -10
          }
        },
        "3ef03648c8e449e1b65d3d74b1256b2c": {
          "model_module": "@jupyter-widgets/base",
          "model_name": "LayoutModel",
          "model_module_version": "1.2.0",
          "state": {
            "_model_module": "@jupyter-widgets/base",
            "_model_module_version": "1.2.0",
            "_model_name": "LayoutModel",
            "_view_count": null,
            "_view_module": "@jupyter-widgets/base",
            "_view_module_version": "1.2.0",
            "_view_name": "LayoutView",
            "align_content": null,
            "align_items": null,
            "align_self": null,
            "border": null,
            "bottom": null,
            "display": null,
            "flex": null,
            "flex_flow": null,
            "grid_area": null,
            "grid_auto_columns": null,
            "grid_auto_flow": null,
            "grid_auto_rows": null,
            "grid_column": null,
            "grid_gap": null,
            "grid_row": null,
            "grid_template_areas": null,
            "grid_template_columns": null,
            "grid_template_rows": null,
            "height": null,
            "justify_content": null,
            "justify_items": null,
            "left": null,
            "margin": null,
            "max_height": null,
            "max_width": null,
            "min_height": null,
            "min_width": null,
            "object_fit": null,
            "object_position": null,
            "order": null,
            "overflow": null,
            "overflow_x": null,
            "overflow_y": null,
            "padding": null,
            "right": null,
            "top": null,
            "visibility": null,
            "width": null
          }
        },
        "e8d24984e5ed4676b323d8ae080b15ae": {
          "model_module": "@jupyter-widgets/controls",
          "model_name": "FloatSliderModel",
          "model_module_version": "1.5.0",
          "state": {
            "_dom_classes": [],
            "_model_module": "@jupyter-widgets/controls",
            "_model_module_version": "1.5.0",
            "_model_name": "FloatSliderModel",
            "_view_count": null,
            "_view_module": "@jupyter-widgets/controls",
            "_view_module_version": "1.5.0",
            "_view_name": "FloatSliderView",
            "continuous_update": false,
            "description": "x (um)",
            "description_tooltip": null,
            "disabled": false,
            "layout": "IPY_MODEL_bc4a725c40044ccab59498dbae25ac3f",
            "max": 200,
            "min": -200,
            "orientation": "horizontal",
            "readout": true,
            "readout_format": ".0f",
            "step": 1,
            "style": "IPY_MODEL_36ba19cbbbf7496caa09e5ac33d8b67a",
            "value": 0
          }
        },
        "46dddfa7844642e281cdf6204c33b64f": {
          "model_module": "@jupyter-widgets/controls",
          "model_name": "FloatSliderModel",
          "model_module_version": "1.5.0",
          "state": {
            "_dom_classes": [],
            "_model_module": "@jupyter-widgets/controls",
            "_model_module_version": "1.5.0",
            "_model_name": "FloatSliderModel",
            "_view_count": null,
            "_view_module": "@jupyter-widgets/controls",
            "_view_module_version": "1.5.0",
            "_view_name": "FloatSliderView",
            "continuous_update": false,
            "description": "y (um)",
            "description_tooltip": null,
            "disabled": false,
            "layout": "IPY_MODEL_8cc9b0bb58e54ccf8abee4f7556c0c52",
            "max": 1000,
            "min": -1000,
            "orientation": "horizontal",
            "readout": true,
            "readout_format": ".0f",
            "step": 1,
            "style": "IPY_MODEL_7b4a84b1ff8c4753bb65fc233c30b990",
            "value": 0
          }
        },
        "9c52838b17a849b8a897c726b184887f": {
          "model_module": "@jupyter-widgets/controls",
          "model_name": "FloatSliderModel",
          "model_module_version": "1.5.0",
          "state": {
            "_dom_classes": [],
            "_model_module": "@jupyter-widgets/controls",
            "_model_module_version": "1.5.0",
            "_model_name": "FloatSliderModel",
            "_view_count": null,
            "_view_module": "@jupyter-widgets/controls",
            "_view_module_version": "1.5.0",
            "_view_name": "FloatSliderView",
            "continuous_update": false,
            "description": "z (um)",
            "description_tooltip": null,
            "disabled": false,
            "layout": "IPY_MODEL_36141ce84b544fa78e7127417ec0e2cc",
            "max": 400,
            "min": 20,
            "orientation": "horizontal",
            "readout": true,
            "readout_format": ".0f",
            "step": 1,
            "style": "IPY_MODEL_0f37bedbbbf34d4b8e7f9768b85da314",
            "value": 80
          }
        },
        "a950bf44dc53481fa5c356df4484c373": {
          "model_module": "@jupyter-widgets/base",
          "model_name": "LayoutModel",
          "model_module_version": "1.2.0",
          "state": {
            "_model_module": "@jupyter-widgets/base",
            "_model_module_version": "1.2.0",
            "_model_name": "LayoutModel",
            "_view_count": null,
            "_view_module": "@jupyter-widgets/base",
            "_view_module_version": "1.2.0",
            "_view_name": "LayoutView",
            "align_content": null,
            "align_items": null,
            "align_self": null,
            "border": null,
            "bottom": null,
            "display": null,
            "flex": null,
            "flex_flow": null,
            "grid_area": null,
            "grid_auto_columns": null,
            "grid_auto_flow": null,
            "grid_auto_rows": null,
            "grid_column": null,
            "grid_gap": null,
            "grid_row": null,
            "grid_template_areas": null,
            "grid_template_columns": null,
            "grid_template_rows": null,
            "height": null,
            "justify_content": null,
            "justify_items": null,
            "left": null,
            "margin": null,
            "max_height": null,
            "max_width": null,
            "min_height": null,
            "min_width": null,
            "object_fit": null,
            "object_position": null,
            "order": null,
            "overflow": null,
            "overflow_x": null,
            "overflow_y": null,
            "padding": null,
            "right": null,
            "top": null,
            "visibility": null,
            "width": null
          }
        },
        "2bc6503f42354e2fbb7022b34a022886": {
          "model_module": "@jupyter-widgets/controls",
          "model_name": "FloatSliderModel",
          "model_module_version": "1.5.0",
          "state": {
            "_dom_classes": [],
            "_model_module": "@jupyter-widgets/controls",
            "_model_module_version": "1.5.0",
            "_model_name": "FloatSliderModel",
            "_view_count": null,
            "_view_module": "@jupyter-widgets/controls",
            "_view_module_version": "1.5.0",
            "_view_name": "FloatSliderView",
            "continuous_update": false,
            "description": "alpha (deg)",
            "description_tooltip": null,
            "disabled": false,
            "layout": "IPY_MODEL_25cf0e8854a646079268b660f5db3ece",
            "max": 180,
            "min": -180,
            "orientation": "horizontal",
            "readout": true,
            "readout_format": ".0f",
            "step": 1,
            "style": "IPY_MODEL_1ebc79e655644a1686c7bfdcf75b1e82",
            "value": 0
          }
        },
        "c8bae1407c0340f186f445bbcf402213": {
          "model_module": "@jupyter-widgets/controls",
          "model_name": "FloatSliderModel",
          "model_module_version": "1.5.0",
          "state": {
            "_dom_classes": [],
            "_model_module": "@jupyter-widgets/controls",
            "_model_module_version": "1.5.0",
            "_model_name": "FloatSliderModel",
            "_view_count": null,
            "_view_module": "@jupyter-widgets/controls",
            "_view_module_version": "1.5.0",
            "_view_name": "FloatSliderView",
            "continuous_update": false,
            "description": "beta (deg)",
            "description_tooltip": null,
            "disabled": false,
            "layout": "IPY_MODEL_2976dd5795e4455fb893fcd9ef67d205",
            "max": 180,
            "min": 0,
            "orientation": "horizontal",
            "readout": true,
            "readout_format": ".0f",
            "step": 1,
            "style": "IPY_MODEL_8d408622b9114bdcb71acab21e46e503",
            "value": 0
          }
        },
        "120a6e9a7cd54b9093a906582733bc9b": {
          "model_module": "@jupyter-widgets/controls",
          "model_name": "FloatSliderModel",
          "model_module_version": "1.5.0",
          "state": {
            "_dom_classes": [],
            "_model_module": "@jupyter-widgets/controls",
            "_model_module_version": "1.5.0",
            "_model_name": "FloatSliderModel",
            "_view_count": null,
            "_view_module": "@jupyter-widgets/controls",
            "_view_module_version": "1.5.0",
            "_view_name": "FloatSliderView",
            "continuous_update": false,
            "description": "phi (deg)",
            "description_tooltip": null,
            "disabled": false,
            "layout": "IPY_MODEL_bfa3484d38e04ee78ee4d8f90e74c05f",
            "max": 180,
            "min": -180,
            "orientation": "horizontal",
            "readout": true,
            "readout_format": ".0f",
            "step": 1,
            "style": "IPY_MODEL_0f75f56c96334785b8cf49b2174afef0",
            "value": 0
          }
        },
        "781fc12fc63d46ed925e718d521a7af9": {
          "model_module": "@jupyter-widgets/base",
          "model_name": "LayoutModel",
          "model_module_version": "1.2.0",
          "state": {
            "_model_module": "@jupyter-widgets/base",
            "_model_module_version": "1.2.0",
            "_model_name": "LayoutModel",
            "_view_count": null,
            "_view_module": "@jupyter-widgets/base",
            "_view_module_version": "1.2.0",
            "_view_name": "LayoutView",
            "align_content": null,
            "align_items": null,
            "align_self": null,
            "border": null,
            "bottom": null,
            "display": null,
            "flex": null,
            "flex_flow": null,
            "grid_area": null,
            "grid_auto_columns": null,
            "grid_auto_flow": null,
            "grid_auto_rows": null,
            "grid_column": null,
            "grid_gap": null,
            "grid_row": null,
            "grid_template_areas": null,
            "grid_template_columns": null,
            "grid_template_rows": null,
            "height": null,
            "justify_content": null,
            "justify_items": null,
            "left": null,
            "margin": null,
            "max_height": null,
            "max_width": null,
            "min_height": null,
            "min_width": null,
            "object_fit": null,
            "object_position": null,
            "order": null,
            "overflow": null,
            "overflow_x": null,
            "overflow_y": null,
            "padding": null,
            "right": null,
            "top": null,
            "visibility": null,
            "width": null
          }
        },
        "3c077aff8a1d40f5b0211e3cc5be8909": {
          "model_module": "@jupyter-widgets/output",
          "model_name": "OutputModel",
          "model_module_version": "1.0.0",
          "state": {
            "_dom_classes": [],
            "_model_module": "@jupyter-widgets/output",
            "_model_module_version": "1.0.0",
            "_model_name": "OutputModel",
            "_view_count": null,
            "_view_module": "@jupyter-widgets/output",
            "_view_module_version": "1.0.0",
            "_view_name": "OutputView",
            "layout": "IPY_MODEL_7bfbcf3ae12f4734bf513028b4a2ea46",
            "msg_id": "",
            "outputs": [
              {
                "output_type": "display_data",
                "data": {
                  "text/plain": "<Figure size 1200x800 with 1 Axes>",
                  "image/png": "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\n"
                },
                "metadata": {}
              }
            ]
          }
        },
        "5ca67c36318648b0b9fe9d53885dfe7d": {
          "model_module": "@jupyter-widgets/controls",
          "model_name": "FloatSliderModel",
          "model_module_version": "1.5.0",
          "state": {
            "_dom_classes": [],
            "_model_module": "@jupyter-widgets/controls",
            "_model_module_version": "1.5.0",
            "_model_name": "FloatSliderModel",
            "_view_count": null,
            "_view_module": "@jupyter-widgets/controls",
            "_view_module_version": "1.5.0",
            "_view_name": "FloatSliderView",
            "continuous_update": false,
            "description": "azim (deg)",
            "description_tooltip": null,
            "disabled": false,
            "layout": "IPY_MODEL_26452835f80f493599587fd20d63ac3a",
            "max": 180,
            "min": -180,
            "orientation": "horizontal",
            "readout": true,
            "readout_format": ".0f",
            "step": 1,
            "style": "IPY_MODEL_313370b01df54e938df0454ab67dd473",
            "value": 34
          }
        },
        "89c7a1e190be4500944e2bb7bb1f74f4": {
          "model_module": "@jupyter-widgets/base",
          "model_name": "LayoutModel",
          "model_module_version": "1.2.0",
          "state": {
            "_model_module": "@jupyter-widgets/base",
            "_model_module_version": "1.2.0",
            "_model_name": "LayoutModel",
            "_view_count": null,
            "_view_module": "@jupyter-widgets/base",
            "_view_module_version": "1.2.0",
            "_view_name": "LayoutView",
            "align_content": null,
            "align_items": null,
            "align_self": null,
            "border": null,
            "bottom": null,
            "display": null,
            "flex": null,
            "flex_flow": null,
            "grid_area": null,
            "grid_auto_columns": null,
            "grid_auto_flow": null,
            "grid_auto_rows": null,
            "grid_column": null,
            "grid_gap": null,
            "grid_row": null,
            "grid_template_areas": null,
            "grid_template_columns": null,
            "grid_template_rows": null,
            "height": null,
            "justify_content": null,
            "justify_items": null,
            "left": null,
            "margin": null,
            "max_height": null,
            "max_width": null,
            "min_height": null,
            "min_width": null,
            "object_fit": null,
            "object_position": null,
            "order": null,
            "overflow": null,
            "overflow_x": null,
            "overflow_y": null,
            "padding": null,
            "right": null,
            "top": null,
            "visibility": null,
            "width": null
          }
        },
        "5aa046135f8f4c789da53d17fb9f7fde": {
          "model_module": "@jupyter-widgets/base",
          "model_name": "LayoutModel",
          "model_module_version": "1.2.0",
          "state": {
            "_model_module": "@jupyter-widgets/base",
            "_model_module_version": "1.2.0",
            "_model_name": "LayoutModel",
            "_view_count": null,
            "_view_module": "@jupyter-widgets/base",
            "_view_module_version": "1.2.0",
            "_view_name": "LayoutView",
            "align_content": null,
            "align_items": null,
            "align_self": null,
            "border": null,
            "bottom": null,
            "display": null,
            "flex": null,
            "flex_flow": null,
            "grid_area": null,
            "grid_auto_columns": null,
            "grid_auto_flow": null,
            "grid_auto_rows": null,
            "grid_column": null,
            "grid_gap": null,
            "grid_row": null,
            "grid_template_areas": null,
            "grid_template_columns": null,
            "grid_template_rows": null,
            "height": "350px",
            "justify_content": null,
            "justify_items": null,
            "left": null,
            "margin": null,
            "max_height": null,
            "max_width": null,
            "min_height": null,
            "min_width": null,
            "object_fit": null,
            "object_position": null,
            "order": null,
            "overflow": null,
            "overflow_x": null,
            "overflow_y": null,
            "padding": null,
            "right": null,
            "top": null,
            "visibility": null,
            "width": null
          }
        },
        "5b9a1da4ffe14fbe889501743d2dfaf4": {
          "model_module": "@jupyter-widgets/controls",
          "model_name": "SliderStyleModel",
          "model_module_version": "1.5.0",
          "state": {
            "_model_module": "@jupyter-widgets/controls",
            "_model_module_version": "1.5.0",
            "_model_name": "SliderStyleModel",
            "_view_count": null,
            "_view_module": "@jupyter-widgets/base",
            "_view_module_version": "1.2.0",
            "_view_name": "StyleView",
            "description_width": "",
            "handle_color": null
          }
        },
        "bc4a725c40044ccab59498dbae25ac3f": {
          "model_module": "@jupyter-widgets/base",
          "model_name": "LayoutModel",
          "model_module_version": "1.2.0",
          "state": {
            "_model_module": "@jupyter-widgets/base",
            "_model_module_version": "1.2.0",
            "_model_name": "LayoutModel",
            "_view_count": null,
            "_view_module": "@jupyter-widgets/base",
            "_view_module_version": "1.2.0",
            "_view_name": "LayoutView",
            "align_content": null,
            "align_items": null,
            "align_self": null,
            "border": null,
            "bottom": null,
            "display": null,
            "flex": null,
            "flex_flow": null,
            "grid_area": null,
            "grid_auto_columns": null,
            "grid_auto_flow": null,
            "grid_auto_rows": null,
            "grid_column": null,
            "grid_gap": null,
            "grid_row": null,
            "grid_template_areas": null,
            "grid_template_columns": null,
            "grid_template_rows": null,
            "height": null,
            "justify_content": null,
            "justify_items": null,
            "left": null,
            "margin": null,
            "max_height": null,
            "max_width": null,
            "min_height": null,
            "min_width": null,
            "object_fit": null,
            "object_position": null,
            "order": null,
            "overflow": null,
            "overflow_x": null,
            "overflow_y": null,
            "padding": null,
            "right": null,
            "top": null,
            "visibility": null,
            "width": null
          }
        },
        "36ba19cbbbf7496caa09e5ac33d8b67a": {
          "model_module": "@jupyter-widgets/controls",
          "model_name": "SliderStyleModel",
          "model_module_version": "1.5.0",
          "state": {
            "_model_module": "@jupyter-widgets/controls",
            "_model_module_version": "1.5.0",
            "_model_name": "SliderStyleModel",
            "_view_count": null,
            "_view_module": "@jupyter-widgets/base",
            "_view_module_version": "1.2.0",
            "_view_name": "StyleView",
            "description_width": "",
            "handle_color": null
          }
        },
        "8cc9b0bb58e54ccf8abee4f7556c0c52": {
          "model_module": "@jupyter-widgets/base",
          "model_name": "LayoutModel",
          "model_module_version": "1.2.0",
          "state": {
            "_model_module": "@jupyter-widgets/base",
            "_model_module_version": "1.2.0",
            "_model_name": "LayoutModel",
            "_view_count": null,
            "_view_module": "@jupyter-widgets/base",
            "_view_module_version": "1.2.0",
            "_view_name": "LayoutView",
            "align_content": null,
            "align_items": null,
            "align_self": null,
            "border": null,
            "bottom": null,
            "display": null,
            "flex": null,
            "flex_flow": null,
            "grid_area": null,
            "grid_auto_columns": null,
            "grid_auto_flow": null,
            "grid_auto_rows": null,
            "grid_column": null,
            "grid_gap": null,
            "grid_row": null,
            "grid_template_areas": null,
            "grid_template_columns": null,
            "grid_template_rows": null,
            "height": null,
            "justify_content": null,
            "justify_items": null,
            "left": null,
            "margin": null,
            "max_height": null,
            "max_width": null,
            "min_height": null,
            "min_width": null,
            "object_fit": null,
            "object_position": null,
            "order": null,
            "overflow": null,
            "overflow_x": null,
            "overflow_y": null,
            "padding": null,
            "right": null,
            "top": null,
            "visibility": null,
            "width": null
          }
        },
        "7b4a84b1ff8c4753bb65fc233c30b990": {
          "model_module": "@jupyter-widgets/controls",
          "model_name": "SliderStyleModel",
          "model_module_version": "1.5.0",
          "state": {
            "_model_module": "@jupyter-widgets/controls",
            "_model_module_version": "1.5.0",
            "_model_name": "SliderStyleModel",
            "_view_count": null,
            "_view_module": "@jupyter-widgets/base",
            "_view_module_version": "1.2.0",
            "_view_name": "StyleView",
            "description_width": "",
            "handle_color": null
          }
        },
        "36141ce84b544fa78e7127417ec0e2cc": {
          "model_module": "@jupyter-widgets/base",
          "model_name": "LayoutModel",
          "model_module_version": "1.2.0",
          "state": {
            "_model_module": "@jupyter-widgets/base",
            "_model_module_version": "1.2.0",
            "_model_name": "LayoutModel",
            "_view_count": null,
            "_view_module": "@jupyter-widgets/base",
            "_view_module_version": "1.2.0",
            "_view_name": "LayoutView",
            "align_content": null,
            "align_items": null,
            "align_self": null,
            "border": null,
            "bottom": null,
            "display": null,
            "flex": null,
            "flex_flow": null,
            "grid_area": null,
            "grid_auto_columns": null,
            "grid_auto_flow": null,
            "grid_auto_rows": null,
            "grid_column": null,
            "grid_gap": null,
            "grid_row": null,
            "grid_template_areas": null,
            "grid_template_columns": null,
            "grid_template_rows": null,
            "height": null,
            "justify_content": null,
            "justify_items": null,
            "left": null,
            "margin": null,
            "max_height": null,
            "max_width": null,
            "min_height": null,
            "min_width": null,
            "object_fit": null,
            "object_position": null,
            "order": null,
            "overflow": null,
            "overflow_x": null,
            "overflow_y": null,
            "padding": null,
            "right": null,
            "top": null,
            "visibility": null,
            "width": null
          }
        },
        "0f37bedbbbf34d4b8e7f9768b85da314": {
          "model_module": "@jupyter-widgets/controls",
          "model_name": "SliderStyleModel",
          "model_module_version": "1.5.0",
          "state": {
            "_model_module": "@jupyter-widgets/controls",
            "_model_module_version": "1.5.0",
            "_model_name": "SliderStyleModel",
            "_view_count": null,
            "_view_module": "@jupyter-widgets/base",
            "_view_module_version": "1.2.0",
            "_view_name": "StyleView",
            "description_width": "",
            "handle_color": null
          }
        },
        "25cf0e8854a646079268b660f5db3ece": {
          "model_module": "@jupyter-widgets/base",
          "model_name": "LayoutModel",
          "model_module_version": "1.2.0",
          "state": {
            "_model_module": "@jupyter-widgets/base",
            "_model_module_version": "1.2.0",
            "_model_name": "LayoutModel",
            "_view_count": null,
            "_view_module": "@jupyter-widgets/base",
            "_view_module_version": "1.2.0",
            "_view_name": "LayoutView",
            "align_content": null,
            "align_items": null,
            "align_self": null,
            "border": null,
            "bottom": null,
            "display": null,
            "flex": null,
            "flex_flow": null,
            "grid_area": null,
            "grid_auto_columns": null,
            "grid_auto_flow": null,
            "grid_auto_rows": null,
            "grid_column": null,
            "grid_gap": null,
            "grid_row": null,
            "grid_template_areas": null,
            "grid_template_columns": null,
            "grid_template_rows": null,
            "height": null,
            "justify_content": null,
            "justify_items": null,
            "left": null,
            "margin": null,
            "max_height": null,
            "max_width": null,
            "min_height": null,
            "min_width": null,
            "object_fit": null,
            "object_position": null,
            "order": null,
            "overflow": null,
            "overflow_x": null,
            "overflow_y": null,
            "padding": null,
            "right": null,
            "top": null,
            "visibility": null,
            "width": null
          }
        },
        "1ebc79e655644a1686c7bfdcf75b1e82": {
          "model_module": "@jupyter-widgets/controls",
          "model_name": "SliderStyleModel",
          "model_module_version": "1.5.0",
          "state": {
            "_model_module": "@jupyter-widgets/controls",
            "_model_module_version": "1.5.0",
            "_model_name": "SliderStyleModel",
            "_view_count": null,
            "_view_module": "@jupyter-widgets/base",
            "_view_module_version": "1.2.0",
            "_view_name": "StyleView",
            "description_width": "",
            "handle_color": null
          }
        },
        "2976dd5795e4455fb893fcd9ef67d205": {
          "model_module": "@jupyter-widgets/base",
          "model_name": "LayoutModel",
          "model_module_version": "1.2.0",
          "state": {
            "_model_module": "@jupyter-widgets/base",
            "_model_module_version": "1.2.0",
            "_model_name": "LayoutModel",
            "_view_count": null,
            "_view_module": "@jupyter-widgets/base",
            "_view_module_version": "1.2.0",
            "_view_name": "LayoutView",
            "align_content": null,
            "align_items": null,
            "align_self": null,
            "border": null,
            "bottom": null,
            "display": null,
            "flex": null,
            "flex_flow": null,
            "grid_area": null,
            "grid_auto_columns": null,
            "grid_auto_flow": null,
            "grid_auto_rows": null,
            "grid_column": null,
            "grid_gap": null,
            "grid_row": null,
            "grid_template_areas": null,
            "grid_template_columns": null,
            "grid_template_rows": null,
            "height": null,
            "justify_content": null,
            "justify_items": null,
            "left": null,
            "margin": null,
            "max_height": null,
            "max_width": null,
            "min_height": null,
            "min_width": null,
            "object_fit": null,
            "object_position": null,
            "order": null,
            "overflow": null,
            "overflow_x": null,
            "overflow_y": null,
            "padding": null,
            "right": null,
            "top": null,
            "visibility": null,
            "width": null
          }
        },
        "8d408622b9114bdcb71acab21e46e503": {
          "model_module": "@jupyter-widgets/controls",
          "model_name": "SliderStyleModel",
          "model_module_version": "1.5.0",
          "state": {
            "_model_module": "@jupyter-widgets/controls",
            "_model_module_version": "1.5.0",
            "_model_name": "SliderStyleModel",
            "_view_count": null,
            "_view_module": "@jupyter-widgets/base",
            "_view_module_version": "1.2.0",
            "_view_name": "StyleView",
            "description_width": "",
            "handle_color": null
          }
        },
        "bfa3484d38e04ee78ee4d8f90e74c05f": {
          "model_module": "@jupyter-widgets/base",
          "model_name": "LayoutModel",
          "model_module_version": "1.2.0",
          "state": {
            "_model_module": "@jupyter-widgets/base",
            "_model_module_version": "1.2.0",
            "_model_name": "LayoutModel",
            "_view_count": null,
            "_view_module": "@jupyter-widgets/base",
            "_view_module_version": "1.2.0",
            "_view_name": "LayoutView",
            "align_content": null,
            "align_items": null,
            "align_self": null,
            "border": null,
            "bottom": null,
            "display": null,
            "flex": null,
            "flex_flow": null,
            "grid_area": null,
            "grid_auto_columns": null,
            "grid_auto_flow": null,
            "grid_auto_rows": null,
            "grid_column": null,
            "grid_gap": null,
            "grid_row": null,
            "grid_template_areas": null,
            "grid_template_columns": null,
            "grid_template_rows": null,
            "height": null,
            "justify_content": null,
            "justify_items": null,
            "left": null,
            "margin": null,
            "max_height": null,
            "max_width": null,
            "min_height": null,
            "min_width": null,
            "object_fit": null,
            "object_position": null,
            "order": null,
            "overflow": null,
            "overflow_x": null,
            "overflow_y": null,
            "padding": null,
            "right": null,
            "top": null,
            "visibility": null,
            "width": null
          }
        },
        "0f75f56c96334785b8cf49b2174afef0": {
          "model_module": "@jupyter-widgets/controls",
          "model_name": "SliderStyleModel",
          "model_module_version": "1.5.0",
          "state": {
            "_model_module": "@jupyter-widgets/controls",
            "_model_module_version": "1.5.0",
            "_model_name": "SliderStyleModel",
            "_view_count": null,
            "_view_module": "@jupyter-widgets/base",
            "_view_module_version": "1.2.0",
            "_view_name": "StyleView",
            "description_width": "",
            "handle_color": null
          }
        },
        "26452835f80f493599587fd20d63ac3a": {
          "model_module": "@jupyter-widgets/base",
          "model_name": "LayoutModel",
          "model_module_version": "1.2.0",
          "state": {
            "_model_module": "@jupyter-widgets/base",
            "_model_module_version": "1.2.0",
            "_model_name": "LayoutModel",
            "_view_count": null,
            "_view_module": "@jupyter-widgets/base",
            "_view_module_version": "1.2.0",
            "_view_name": "LayoutView",
            "align_content": null,
            "align_items": null,
            "align_self": null,
            "border": null,
            "bottom": null,
            "display": null,
            "flex": null,
            "flex_flow": null,
            "grid_area": null,
            "grid_auto_columns": null,
            "grid_auto_flow": null,
            "grid_auto_rows": null,
            "grid_column": null,
            "grid_gap": null,
            "grid_row": null,
            "grid_template_areas": null,
            "grid_template_columns": null,
            "grid_template_rows": null,
            "height": null,
            "justify_content": null,
            "justify_items": null,
            "left": null,
            "margin": null,
            "max_height": null,
            "max_width": null,
            "min_height": null,
            "min_width": null,
            "object_fit": null,
            "object_position": null,
            "order": null,
            "overflow": null,
            "overflow_x": null,
            "overflow_y": null,
            "padding": null,
            "right": null,
            "top": null,
            "visibility": null,
            "width": "500px"
          }
        },
        "313370b01df54e938df0454ab67dd473": {
          "model_module": "@jupyter-widgets/controls",
          "model_name": "SliderStyleModel",
          "model_module_version": "1.5.0",
          "state": {
            "_model_module": "@jupyter-widgets/controls",
            "_model_module_version": "1.5.0",
            "_model_name": "SliderStyleModel",
            "_view_count": null,
            "_view_module": "@jupyter-widgets/base",
            "_view_module_version": "1.2.0",
            "_view_name": "StyleView",
            "description_width": "",
            "handle_color": null
          }
        },
        "7bfbcf3ae12f4734bf513028b4a2ea46": {
          "model_module": "@jupyter-widgets/base",
          "model_name": "LayoutModel",
          "model_module_version": "1.2.0",
          "state": {
            "_model_module": "@jupyter-widgets/base",
            "_model_module_version": "1.2.0",
            "_model_name": "LayoutModel",
            "_view_count": null,
            "_view_module": "@jupyter-widgets/base",
            "_view_module_version": "1.2.0",
            "_view_name": "LayoutView",
            "align_content": null,
            "align_items": null,
            "align_self": null,
            "border": null,
            "bottom": null,
            "display": null,
            "flex": null,
            "flex_flow": null,
            "grid_area": null,
            "grid_auto_columns": null,
            "grid_auto_flow": null,
            "grid_auto_rows": null,
            "grid_column": null,
            "grid_gap": null,
            "grid_row": null,
            "grid_template_areas": null,
            "grid_template_columns": null,
            "grid_template_rows": null,
            "height": null,
            "justify_content": null,
            "justify_items": null,
            "left": null,
            "margin": null,
            "max_height": null,
            "max_width": null,
            "min_height": null,
            "min_width": null,
            "object_fit": null,
            "object_position": null,
            "order": null,
            "overflow": null,
            "overflow_x": null,
            "overflow_y": null,
            "padding": null,
            "right": null,
            "top": null,
            "visibility": null,
            "width": null
          }
        },
        "89c4e7fc2ffc4f3089820942e428c15c": {
          "model_module": "@jupyter-widgets/controls",
          "model_name": "VBoxModel",
          "model_module_version": "1.5.0",
          "state": {
            "_dom_classes": [],
            "_model_module": "@jupyter-widgets/controls",
            "_model_module_version": "1.5.0",
            "_model_name": "VBoxModel",
            "_view_count": null,
            "_view_module": "@jupyter-widgets/controls",
            "_view_module_version": "1.5.0",
            "_view_name": "VBoxView",
            "box_style": "",
            "children": [
              "IPY_MODEL_67a9dc170eac4f41a499dbae13225a39",
              "IPY_MODEL_c159b945c0454c989e053bb14c793c3d"
            ],
            "layout": "IPY_MODEL_4702550da838497b9d0a01e97fb99f62"
          }
        },
        "67a9dc170eac4f41a499dbae13225a39": {
          "model_module": "@jupyter-widgets/controls",
          "model_name": "ToggleButtonsModel",
          "model_module_version": "1.5.0",
          "state": {
            "_dom_classes": [],
            "_model_module": "@jupyter-widgets/controls",
            "_model_module_version": "1.5.0",
            "_model_name": "ToggleButtonsModel",
            "_options_labels": [
              "Soma",
              "Apical tuft (proximal)"
            ],
            "_view_count": null,
            "_view_module": "@jupyter-widgets/controls",
            "_view_module_version": "1.5.0",
            "_view_name": "ToggleButtonsView",
            "button_style": "",
            "description": "",
            "description_tooltip": null,
            "disabled": false,
            "icons": [],
            "index": 0,
            "layout": "IPY_MODEL_647f3e588eb3499daa70ee08ede4c1eb",
            "style": "IPY_MODEL_fb39eb127c2c47d69884c4c91cc45c63",
            "tooltips": []
          }
        },
        "c159b945c0454c989e053bb14c793c3d": {
          "model_module": "@jupyter-widgets/controls",
          "model_name": "HBoxModel",
          "model_module_version": "1.5.0",
          "state": {
            "_dom_classes": [],
            "_model_module": "@jupyter-widgets/controls",
            "_model_module_version": "1.5.0",
            "_model_name": "HBoxModel",
            "_view_count": null,
            "_view_module": "@jupyter-widgets/controls",
            "_view_module_version": "1.5.0",
            "_view_name": "HBoxView",
            "box_style": "",
            "children": [
              "IPY_MODEL_ea1691b5f33f4335b28689e7e8bd0913",
              "IPY_MODEL_8a058333779244a5bff7bdd260b9b5fc"
            ],
            "layout": "IPY_MODEL_0dcf5eec27b14e91bb47344a8e1d5edd"
          }
        },
        "4702550da838497b9d0a01e97fb99f62": {
          "model_module": "@jupyter-widgets/base",
          "model_name": "LayoutModel",
          "model_module_version": "1.2.0",
          "state": {
            "_model_module": "@jupyter-widgets/base",
            "_model_module_version": "1.2.0",
            "_model_name": "LayoutModel",
            "_view_count": null,
            "_view_module": "@jupyter-widgets/base",
            "_view_module_version": "1.2.0",
            "_view_name": "LayoutView",
            "align_content": null,
            "align_items": null,
            "align_self": null,
            "border": null,
            "bottom": null,
            "display": null,
            "flex": null,
            "flex_flow": null,
            "grid_area": null,
            "grid_auto_columns": null,
            "grid_auto_flow": null,
            "grid_auto_rows": null,
            "grid_column": null,
            "grid_gap": null,
            "grid_row": null,
            "grid_template_areas": null,
            "grid_template_columns": null,
            "grid_template_rows": null,
            "height": null,
            "justify_content": null,
            "justify_items": null,
            "left": null,
            "margin": null,
            "max_height": null,
            "max_width": null,
            "min_height": null,
            "min_width": null,
            "object_fit": null,
            "object_position": null,
            "order": null,
            "overflow": null,
            "overflow_x": null,
            "overflow_y": null,
            "padding": null,
            "right": null,
            "top": null,
            "visibility": null,
            "width": null
          }
        },
        "647f3e588eb3499daa70ee08ede4c1eb": {
          "model_module": "@jupyter-widgets/base",
          "model_name": "LayoutModel",
          "model_module_version": "1.2.0",
          "state": {
            "_model_module": "@jupyter-widgets/base",
            "_model_module_version": "1.2.0",
            "_model_name": "LayoutModel",
            "_view_count": null,
            "_view_module": "@jupyter-widgets/base",
            "_view_module_version": "1.2.0",
            "_view_name": "LayoutView",
            "align_content": null,
            "align_items": null,
            "align_self": null,
            "border": null,
            "bottom": null,
            "display": null,
            "flex": null,
            "flex_flow": null,
            "grid_area": null,
            "grid_auto_columns": null,
            "grid_auto_flow": null,
            "grid_auto_rows": null,
            "grid_column": null,
            "grid_gap": null,
            "grid_row": null,
            "grid_template_areas": null,
            "grid_template_columns": null,
            "grid_template_rows": null,
            "height": null,
            "justify_content": null,
            "justify_items": null,
            "left": null,
            "margin": null,
            "max_height": null,
            "max_width": null,
            "min_height": null,
            "min_width": null,
            "object_fit": null,
            "object_position": null,
            "order": null,
            "overflow": null,
            "overflow_x": null,
            "overflow_y": null,
            "padding": null,
            "right": null,
            "top": null,
            "visibility": null,
            "width": null
          }
        },
        "fb39eb127c2c47d69884c4c91cc45c63": {
          "model_module": "@jupyter-widgets/controls",
          "model_name": "ToggleButtonsStyleModel",
          "model_module_version": "1.5.0",
          "state": {
            "_model_module": "@jupyter-widgets/controls",
            "_model_module_version": "1.5.0",
            "_model_name": "ToggleButtonsStyleModel",
            "_view_count": null,
            "_view_module": "@jupyter-widgets/base",
            "_view_module_version": "1.2.0",
            "_view_name": "StyleView",
            "button_width": "",
            "description_width": "",
            "font_weight": ""
          }
        },
        "ea1691b5f33f4335b28689e7e8bd0913": {
          "model_module": "@jupyter-widgets/controls",
          "model_name": "LabelModel",
          "model_module_version": "1.5.0",
          "state": {
            "_dom_classes": [],
            "_model_module": "@jupyter-widgets/controls",
            "_model_module_version": "1.5.0",
            "_model_name": "LabelModel",
            "_view_count": null,
            "_view_module": "@jupyter-widgets/controls",
            "_view_module_version": "1.5.0",
            "_view_name": "LabelView",
            "description": "",
            "description_tooltip": null,
            "layout": "IPY_MODEL_3c939c485ab04fbaa04190d5bfae29c7",
            "placeholder": "​",
            "style": "IPY_MODEL_0c20cbe6cbb54cdc99ad04689e0dbcbe",
            "value": "Synapse maximal conductance (uS)"
          }
        },
        "8a058333779244a5bff7bdd260b9b5fc": {
          "model_module": "@jupyter-widgets/controls",
          "model_name": "FloatSliderModel",
          "model_module_version": "1.5.0",
          "state": {
            "_dom_classes": [],
            "_model_module": "@jupyter-widgets/controls",
            "_model_module_version": "1.5.0",
            "_model_name": "FloatSliderModel",
            "_view_count": null,
            "_view_module": "@jupyter-widgets/controls",
            "_view_module_version": "1.5.0",
            "_view_name": "FloatSliderView",
            "continuous_update": true,
            "description": "",
            "description_tooltip": null,
            "disabled": false,
            "layout": "IPY_MODEL_11e22a3e9f7c47928b2aae8d04a295ea",
            "max": 0.1,
            "min": 0,
            "orientation": "horizontal",
            "readout": true,
            "readout_format": ".4f",
            "step": 0.0002,
            "style": "IPY_MODEL_4a8b7432df1546b9ad0b4be3922bb7af",
            "value": 0.1
          }
        },
        "0dcf5eec27b14e91bb47344a8e1d5edd": {
          "model_module": "@jupyter-widgets/base",
          "model_name": "LayoutModel",
          "model_module_version": "1.2.0",
          "state": {
            "_model_module": "@jupyter-widgets/base",
            "_model_module_version": "1.2.0",
            "_model_name": "LayoutModel",
            "_view_count": null,
            "_view_module": "@jupyter-widgets/base",
            "_view_module_version": "1.2.0",
            "_view_name": "LayoutView",
            "align_content": null,
            "align_items": null,
            "align_self": null,
            "border": null,
            "bottom": null,
            "display": null,
            "flex": null,
            "flex_flow": null,
            "grid_area": null,
            "grid_auto_columns": null,
            "grid_auto_flow": null,
            "grid_auto_rows": null,
            "grid_column": null,
            "grid_gap": null,
            "grid_row": null,
            "grid_template_areas": null,
            "grid_template_columns": null,
            "grid_template_rows": null,
            "height": null,
            "justify_content": null,
            "justify_items": null,
            "left": null,
            "margin": null,
            "max_height": null,
            "max_width": null,
            "min_height": null,
            "min_width": null,
            "object_fit": null,
            "object_position": null,
            "order": null,
            "overflow": null,
            "overflow_x": null,
            "overflow_y": null,
            "padding": null,
            "right": null,
            "top": null,
            "visibility": null,
            "width": null
          }
        },
        "3c939c485ab04fbaa04190d5bfae29c7": {
          "model_module": "@jupyter-widgets/base",
          "model_name": "LayoutModel",
          "model_module_version": "1.2.0",
          "state": {
            "_model_module": "@jupyter-widgets/base",
            "_model_module_version": "1.2.0",
            "_model_name": "LayoutModel",
            "_view_count": null,
            "_view_module": "@jupyter-widgets/base",
            "_view_module_version": "1.2.0",
            "_view_name": "LayoutView",
            "align_content": null,
            "align_items": null,
            "align_self": null,
            "border": null,
            "bottom": null,
            "display": null,
            "flex": null,
            "flex_flow": null,
            "grid_area": null,
            "grid_auto_columns": null,
            "grid_auto_flow": null,
            "grid_auto_rows": null,
            "grid_column": null,
            "grid_gap": null,
            "grid_row": null,
            "grid_template_areas": null,
            "grid_template_columns": null,
            "grid_template_rows": null,
            "height": null,
            "justify_content": null,
            "justify_items": null,
            "left": null,
            "margin": null,
            "max_height": null,
            "max_width": null,
            "min_height": null,
            "min_width": null,
            "object_fit": null,
            "object_position": null,
            "order": null,
            "overflow": null,
            "overflow_x": null,
            "overflow_y": null,
            "padding": null,
            "right": null,
            "top": null,
            "visibility": null,
            "width": null
          }
        },
        "0c20cbe6cbb54cdc99ad04689e0dbcbe": {
          "model_module": "@jupyter-widgets/controls",
          "model_name": "DescriptionStyleModel",
          "model_module_version": "1.5.0",
          "state": {
            "_model_module": "@jupyter-widgets/controls",
            "_model_module_version": "1.5.0",
            "_model_name": "DescriptionStyleModel",
            "_view_count": null,
            "_view_module": "@jupyter-widgets/base",
            "_view_module_version": "1.2.0",
            "_view_name": "StyleView",
            "description_width": ""
          }
        },
        "11e22a3e9f7c47928b2aae8d04a295ea": {
          "model_module": "@jupyter-widgets/base",
          "model_name": "LayoutModel",
          "model_module_version": "1.2.0",
          "state": {
            "_model_module": "@jupyter-widgets/base",
            "_model_module_version": "1.2.0",
            "_model_name": "LayoutModel",
            "_view_count": null,
            "_view_module": "@jupyter-widgets/base",
            "_view_module_version": "1.2.0",
            "_view_name": "LayoutView",
            "align_content": null,
            "align_items": null,
            "align_self": null,
            "border": null,
            "bottom": null,
            "display": null,
            "flex": null,
            "flex_flow": null,
            "grid_area": null,
            "grid_auto_columns": null,
            "grid_auto_flow": null,
            "grid_auto_rows": null,
            "grid_column": null,
            "grid_gap": null,
            "grid_row": null,
            "grid_template_areas": null,
            "grid_template_columns": null,
            "grid_template_rows": null,
            "height": null,
            "justify_content": null,
            "justify_items": null,
            "left": null,
            "margin": null,
            "max_height": null,
            "max_width": null,
            "min_height": null,
            "min_width": null,
            "object_fit": null,
            "object_position": null,
            "order": null,
            "overflow": null,
            "overflow_x": null,
            "overflow_y": null,
            "padding": null,
            "right": null,
            "top": null,
            "visibility": null,
            "width": null
          }
        },
        "4a8b7432df1546b9ad0b4be3922bb7af": {
          "model_module": "@jupyter-widgets/controls",
          "model_name": "SliderStyleModel",
          "model_module_version": "1.5.0",
          "state": {
            "_model_module": "@jupyter-widgets/controls",
            "_model_module_version": "1.5.0",
            "_model_name": "SliderStyleModel",
            "_view_count": null,
            "_view_module": "@jupyter-widgets/base",
            "_view_module_version": "1.2.0",
            "_view_name": "StyleView",
            "description_width": "",
            "handle_color": null
          }
        }
      }
    }
  },
  "nbformat": 4,
  "nbformat_minor": 5
}