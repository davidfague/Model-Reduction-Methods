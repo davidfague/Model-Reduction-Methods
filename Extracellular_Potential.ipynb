{
  "cells": [
    {
      "cell_type": "markdown",
      "metadata": {
        "id": "view-in-github",
        "colab_type": "text"
      },
      "source": [
        "<a href=\"https://colab.research.google.com/github/davidfague/Model_Reduction_Methods/blob/main/Extracellular_Potential.ipynb\" target=\"_parent\"><img src=\"https://colab.research.google.com/assets/colab-badge.svg\" alt=\"Open In Colab\"/></a>"
      ]
    },
    {
      "cell_type": "markdown",
      "id": "7a9de89f",
      "metadata": {
        "id": "7a9de89f"
      },
      "source": [
        "# Stylized Single Cell and Extracellular Potential"
      ]
    },
    {
      "cell_type": "markdown",
      "id": "MSX7LmGzszzf",
      "metadata": {
        "id": "MSX7LmGzszzf"
      },
      "source": [
        "#### Download modules from Github"
      ]
    },
    {
      "cell_type": "code",
      "source": [
        "!pip install neuron"
      ],
      "metadata": {
        "id": "-urE9jrxNdxm",
        "colab": {
          "base_uri": "https://localhost:8080/"
        },
        "outputId": "f806bfd6-0b2c-4ed6-df55-77e64ab5f61c"
      },
      "id": "-urE9jrxNdxm",
      "execution_count": 1,
      "outputs": [
        {
          "output_type": "stream",
          "name": "stdout",
          "text": [
            "Looking in indexes: https://pypi.org/simple, https://us-python.pkg.dev/colab-wheels/public/simple/\n",
            "Collecting neuron\n",
            "  Downloading NEURON-8.2.2-cp39-cp39-manylinux_2_17_x86_64.manylinux2014_x86_64.whl (15.0 MB)\n",
            "\u001b[2K     \u001b[90m━━━━━━━━━━━━━━━━━━━━━━━━━━━━━━━━━━━━━━━━\u001b[0m \u001b[32m15.0/15.0 MB\u001b[0m \u001b[31m51.3 MB/s\u001b[0m eta \u001b[36m0:00:00\u001b[0m\n",
            "\u001b[?25hRequirement already satisfied: numpy>=1.9.3 in /usr/local/lib/python3.9/dist-packages (from neuron) (1.22.4)\n",
            "Installing collected packages: neuron\n",
            "Successfully installed neuron-8.2.2\n"
          ]
        }
      ]
    },
    {
      "cell_type": "code",
      "source": [
        "!pip install neuron_reduce"
      ],
      "metadata": {
        "id": "BHjnRgPsN0g2",
        "colab": {
          "base_uri": "https://localhost:8080/"
        },
        "outputId": "8290d3bd-cbfb-4678-be25-7bbc48061958"
      },
      "id": "BHjnRgPsN0g2",
      "execution_count": 2,
      "outputs": [
        {
          "output_type": "stream",
          "name": "stdout",
          "text": [
            "Looking in indexes: https://pypi.org/simple, https://us-python.pkg.dev/colab-wheels/public/simple/\n",
            "Collecting neuron_reduce\n",
            "  Downloading neuron_reduce-0.0.7-py3-none-any.whl (18 kB)\n",
            "Installing collected packages: neuron_reduce\n",
            "Successfully installed neuron_reduce-0.0.7\n"
          ]
        }
      ]
    },
    {
      "cell_type": "code",
      "source": [
        "!git clone https://github.com/davidfague/Model_Reduction_Methods.git"
      ],
      "metadata": {
        "id": "t4dVzA0WLZ9F",
        "colab": {
          "base_uri": "https://localhost:8080/"
        },
        "outputId": "78a55ff2-0c2e-43f8-e355-9416dfc4c703"
      },
      "id": "t4dVzA0WLZ9F",
      "execution_count": 3,
      "outputs": [
        {
          "output_type": "stream",
          "name": "stdout",
          "text": [
            "Cloning into 'Model_Reduction_Methods'...\n",
            "remote: Enumerating objects: 479, done.\u001b[K\n",
            "remote: Counting objects: 100% (165/165), done.\u001b[K\n",
            "remote: Compressing objects: 100% (80/80), done.\u001b[K\n",
            "remote: Total 479 (delta 95), reused 145 (delta 85), pack-reused 314\u001b[K\n",
            "Receiving objects: 100% (479/479), 4.08 MiB | 15.58 MiB/s, done.\n",
            "Resolving deltas: 100% (246/246), done.\n"
          ]
        }
      ]
    },
    {
      "cell_type": "code",
      "source": [
        "%cd Model_Reduction_Methods/\n",
        "\n",
        "#import reduction and expansion functions\n",
        "from test_neuron_reduce.subtree_reductor_func import subtree_reductor\n",
        "from cable_expander_func import cable_expander\n",
        "\n",
        "#import recording functions\n",
        "from stylized_module.recorder import Recorder\n",
        "\n",
        "#import analysis functions\n",
        "from utils import make_seg_df,generate_stylized_geometry,make_reduced_seg_df,plot_morphology,check_connectivity,generate_reduced_cell_seg_coords, create_seg_var_report\n",
        "\n",
        "import pandas as pd"
      ],
      "metadata": {
        "id": "cY9U_KPwLVAz",
        "colab": {
          "base_uri": "https://localhost:8080/"
        },
        "outputId": "c5c8a8fd-fc21-4ec5-8c09-5d32815925d1"
      },
      "id": "cY9U_KPwLVAz",
      "execution_count": 4,
      "outputs": [
        {
          "output_type": "stream",
          "name": "stdout",
          "text": [
            "/content/Model_Reduction_Methods\n"
          ]
        }
      ]
    },
    {
      "cell_type": "code",
      "source": [
        "%cd expand_example"
      ],
      "metadata": {
        "id": "vXTRrX-ILq6D",
        "colab": {
          "base_uri": "https://localhost:8080/"
        },
        "outputId": "376fdba3-e379-4bfa-b20a-294b61b875fa"
      },
      "id": "vXTRrX-ILq6D",
      "execution_count": 5,
      "outputs": [
        {
          "output_type": "stream",
          "name": "stdout",
          "text": [
            "/content/Model_Reduction_Methods/expand_example\n"
          ]
        }
      ]
    },
    {
      "cell_type": "code",
      "source": [
        "# compile the mod files\n",
        "!nrnivmodl mod"
      ],
      "metadata": {
        "id": "Dm-MdGeb6uZB",
        "colab": {
          "base_uri": "https://localhost:8080/"
        },
        "outputId": "f00170e0-5582-4984-bf35-65ed7bc94b05"
      },
      "id": "Dm-MdGeb6uZB",
      "execution_count": 6,
      "outputs": [
        {
          "output_type": "stream",
          "name": "stdout",
          "text": [
            "/content/Model_Reduction_Methods/expand_example\n",
            "Mod files: \"mod/mod/CaDynamics_E2.mod\" \"mod/mod/Ca_HVA.mod\" \"mod/mod/Ca_LVAst.mod\" \"mod/mod/epsp.mod\" \"mod/mod/Ih.mod\" \"mod/mod/Im.mod\" \"mod/mod/K_Pst.mod\" \"mod/mod/K_Tst.mod\" \"mod/mod/Nap_Et2.mod\" \"mod/mod/NaTa_t.mod\" \"mod/mod/NaTs2_t.mod\" \"mod/mod/SK_E2.mod\" \"mod/mod/SKv3_1.mod\"\n",
            "\n",
            "Creating 'x86_64' directory for .o files.\n",
            "\n",
            " -> \u001b[32mNMODL\u001b[0m ../mod/Ca_LVAst.mod\n",
            " -> \u001b[32mCompiling\u001b[0m mod_func.cpp\n",
            " -> \u001b[32mNMODL\u001b[0m ../mod/CaDynamics_E2.mod\n",
            " -> \u001b[32mNMODL\u001b[0m ../mod/Ca_HVA.mod\n",
            "Translating CaDynamics_E2.mod into /content/Model_Reduction_Methods/expand_example/x86_64/CaDynamics_E2.c\n",
            "Thread Safe\n",
            " -> \u001b[32mNMODL\u001b[0m ../mod/epsp.mod\n",
            "Translating Ca_LVAst.mod into /content/Model_Reduction_Methods/expand_example/x86_64/Ca_LVAst.c\n",
            "Translating Ca_HVA.mod into /content/Model_Reduction_Methods/expand_example/x86_64/Ca_HVA.c\n",
            "Thread Safe\n",
            " -> \u001b[32mNMODL\u001b[0m ../mod/Ih.mod\n",
            "Thread Safe\n",
            "Translating epsp.mod into /content/Model_Reduction_Methods/expand_example/x86_64/epsp.c\n",
            "Thread Safe\n",
            " -> \u001b[32mNMODL\u001b[0m ../mod/Im.mod\n",
            " -> \u001b[32mNMODL\u001b[0m ../mod/K_Pst.mod\n",
            "Translating Ih.mod into /content/Model_Reduction_Methods/expand_example/x86_64/Ih.c\n",
            "Translating Im.mod into /content/Model_Reduction_Methods/expand_example/x86_64/Im.c\n",
            "Thread Safe\n",
            "Thread Safe\n",
            "Translating K_Pst.mod into /content/Model_Reduction_Methods/expand_example/x86_64/K_Pst.c\n",
            " -> \u001b[32mNMODL\u001b[0m ../mod/K_Tst.mod\n",
            "Thread Safe\n",
            " -> \u001b[32mNMODL\u001b[0m ../mod/Nap_Et2.mod\n",
            " -> \u001b[32mNMODL\u001b[0m ../mod/NaTa_t.mod\n",
            "Translating K_Tst.mod into /content/Model_Reduction_Methods/expand_example/x86_64/K_Tst.c\n",
            "Thread Safe\n",
            " -> \u001b[32mNMODL\u001b[0m ../mod/NaTs2_t.mod\n",
            "Translating NaTs2_t.mod into /content/Model_Reduction_Methods/expand_example/x86_64/NaTs2_t.c\n",
            "Translating Nap_Et2.mod into /content/Model_Reduction_Methods/expand_example/x86_64/Nap_Et2.c\n",
            "Thread Safe\n",
            "Thread Safe\n",
            " -> \u001b[32mNMODL\u001b[0m ../mod/SK_E2.mod\n",
            "Translating NaTa_t.mod into /content/Model_Reduction_Methods/expand_example/x86_64/NaTa_t.c\n",
            "Thread Safe\n",
            " -> \u001b[32mNMODL\u001b[0m ../mod/SKv3_1.mod\n",
            " -> \u001b[32mCompiling\u001b[0m CaDynamics_E2.c\n",
            "Translating SKv3_1.mod into /content/Model_Reduction_Methods/expand_example/x86_64/SKv3_1.c\n",
            "Translating SK_E2.mod into /content/Model_Reduction_Methods/expand_example/x86_64/SK_E2.c\n",
            "Thread Safe\n",
            " -> \u001b[32mCompiling\u001b[0m Ca_HVA.c\n",
            "Thread Safe\n",
            " -> \u001b[32mCompiling\u001b[0m Ca_LVAst.c\n",
            " -> \u001b[32mCompiling\u001b[0m epsp.c\n",
            " -> \u001b[32mCompiling\u001b[0m Ih.c\n",
            " -> \u001b[32mCompiling\u001b[0m Im.c\n",
            " -> \u001b[32mCompiling\u001b[0m K_Pst.c\n",
            " -> \u001b[32mCompiling\u001b[0m K_Tst.c\n",
            " -> \u001b[32mCompiling\u001b[0m Nap_Et2.c\n",
            " -> \u001b[32mCompiling\u001b[0m NaTa_t.c\n",
            " -> \u001b[32mCompiling\u001b[0m NaTs2_t.c\n",
            " -> \u001b[32mCompiling\u001b[0m SK_E2.c\n",
            " -> \u001b[32mCompiling\u001b[0m SKv3_1.c\n",
            " => \u001b[32mLINKING\u001b[0m shared library ./libnrnmech.so\n",
            " => \u001b[32mLINKING\u001b[0m executable ./special LDFLAGS are:    -pthread\n",
            "Successfully created x86_64/special\n"
          ]
        }
      ]
    },
    {
      "cell_type": "markdown",
      "id": "2a84fbea",
      "metadata": {
        "id": "2a84fbea"
      },
      "source": [
        "## Setup smiulation parameters"
      ]
    },
    {
      "cell_type": "code",
      "execution_count": 7,
      "id": "4be7f6fd",
      "metadata": {
        "id": "4be7f6fd",
        "colab": {
          "base_uri": "https://localhost:8080/"
        },
        "outputId": "69b6cb0a-37a1-4fbc-dbb3-e0431cdd2c32"
      },
      "outputs": [
        {
          "output_type": "execute_result",
          "data": {
            "text/plain": [
              "1.0"
            ]
          },
          "metadata": {},
          "execution_count": 7
        }
      ],
      "source": [
        "import numpy as np\n",
        "import pandas as pd\n",
        "import json\n",
        "import matplotlib.pyplot as plt\n",
        "import ipywidgets as widgets\n",
        "from neuron import h\n",
        "from scipy import signal\n",
        "from IPython.display import display, clear_output\n",
        "from ipywidgets import interactive_output, HBox, VBox, Label, Layout\n",
        "\n",
        "from __future__ import division\n",
        "from neuron import gui,h\n",
        "import numpy as np\n",
        "import time\n",
        "import matplotlib.pyplot as plt\n",
        "\n",
        "%matplotlib inline\n",
        "\n",
        "\n",
        "h.load_file('stdrun.hoc')\n",
        "# h.nrn_load_dll(paths.COMPILED_LIBRARY_REDUCED_ORDER)  # choose the set of mechanisms\n",
        "h.nrn_load_dll('./x86_64/.libs/libnrnmech.so')\n"
      ]
    },
    {
      "cell_type": "markdown",
      "id": "7927a07b",
      "metadata": {
        "id": "7927a07b"
      },
      "source": [
        "### Create a cell with reduced morphology"
      ]
    },
    {
      "cell_type": "code",
      "source": [
        "%ls"
      ],
      "metadata": {
        "id": "s0gis1f1OdWX",
        "colab": {
          "base_uri": "https://localhost:8080/"
        },
        "outputId": "b20c09c4-76b5-4cf8-939a-38de93b082c8"
      },
      "id": "s0gis1f1OdWX",
      "execution_count": 8,
      "outputs": [
        {
          "output_type": "stream",
          "name": "stdout",
          "text": [
            "cell1.asc  example_expand.py  L5PCtemplate.hoc  \u001b[0m\u001b[01;34mx86_64\u001b[0m/\n",
            "Cell.hoc   L5PCbiophys3.hoc   \u001b[01;34mmod\u001b[0m/\n"
          ]
        }
      ]
    },
    {
      "cell_type": "code",
      "source": [
        "from abc import ABC, abstractmethod\n",
        "class PointCurrent(ABC):\n",
        "    \"\"\"A module for current point process\"\"\"\n",
        "\n",
        "    def __init__(self, cell, sec_index, loc=0.5):\n",
        "        \"\"\"\n",
        "        cell: target cell object\n",
        "        sec_index: index of the target section in the section list\n",
        "        loc: location on a section, between [0,1]\n",
        "        \"\"\"\n",
        "        self.cell = cell\n",
        "        self.sec_index = sec_index\n",
        "        self.loc = loc\n",
        "        self.pp_obj = None  # point process object\n",
        "        self.rec_vec = None  # vector for recording\n",
        "\n",
        "    @abstractmethod\n",
        "    def setup(self, record: bool = None) -> None:\n",
        "        pass\n",
        "\n",
        "    def setup_recorder(self):\n",
        "        size = [round(h.tstop / h.dt) + 1] if hasattr(h, 'tstop') else []\n",
        "        self.rec_vec = h.Vector(*size).record(self.pp_obj._ref_i)\n",
        "\n",
        "    def get_section(self) -> h.Section:\n",
        "        return self.cell.all[self.sec_index]\n",
        "\n",
        "    def get_segment(self):\n",
        "        return self.pp_obj.get_segment()\n",
        "\n",
        "    def get_segment_id(self) -> int:\n",
        "        \"\"\"Get the index of the injection target segment in the segment list\"\"\"\n",
        "        iseg = int(self.get_segment().x * self.get_section().nseg)\n",
        "        return self.cell.sec_id_in_seg[self.sec_index] + iseg\n"
      ],
      "metadata": {
        "id": "pqECeUrwUfCi"
      },
      "id": "pqECeUrwUfCi",
      "execution_count": 9,
      "outputs": []
    },
    {
      "cell_type": "code",
      "source": [
        "class Synapse(PointCurrent):\n",
        "    def __init__(self, cell, stim: h.NetStim, sec_index: int,\n",
        "                  syn_type: str = 'Exp2Syn', gmax: float = 0.01, loc: float = 0.5,\n",
        "                  record: bool = False):\n",
        "        super().__init__(cell, sec_index, loc)\n",
        "        self.stim = stim\n",
        "        self.gmax = gmax\n",
        "        self.__synapse_type(syn_type)\n",
        "        self.setup(record)\n",
        "\n",
        "    # PRIVATE METHODS\n",
        "    def __synapse_type(self, syn_type):\n",
        "        if syn_type == 'AlphaSynapse1':\n",
        "            # Reversal potential (mV); Synapse time constant (ms)\n",
        "            self.syn_params = {'e': 0., 'tau': 2.0}\n",
        "            # Variable name of maximum conductance (uS)\n",
        "            self.gmax_var = 'gmax'\n",
        "        elif syn_type == 'Exp2Syn':\n",
        "            self.syn_params = {'e': 0., 'tau1': 1.0, 'tau2': 3.0}\n",
        "            self.gmax_var = '_nc_weight'\n",
        "        else:\n",
        "            raise ValueError(\"Synpase type not defined.\")\n",
        "        self.syn_type = syn_type\n",
        "        self.pp_obj = getattr(h, syn_type)(self.get_section()(self.loc))\n",
        "\n",
        "    def __setup_synapse(self):\n",
        "        self.syn = self.pp_obj\n",
        "        self.nc = h.NetCon(self.stim, self.syn, 1, 0, 1)\n",
        "        for key, value in self.syn_params.items():\n",
        "            setattr(self.syn, key, value)\n",
        "        self.set_gmax()\n",
        "\n",
        "    # PUBLIC METHODS\n",
        "    def setup(self, record: bool = False):\n",
        "        self.__setup_synapse()\n",
        "        if record:\n",
        "            self.setup_recorder()\n",
        "    \n",
        "    def set_gmax(self, gmax: float = None):\n",
        "        if gmax is not None:\n",
        "            self.gmax = gmax\n",
        "        if self.gmax_var == '_nc_weight':\n",
        "            self.nc.weight[0] = self.gmax\n",
        "        else:\n",
        "            setattr(self.syn, self.gmax_var, self.gmax)"
      ],
      "metadata": {
        "id": "8TE_op1mUTii"
      },
      "id": "8TE_op1mUTii",
      "execution_count": 10,
      "outputs": []
    },
    {
      "cell_type": "code",
      "source": [
        "from typing import Optional, Union, List\n",
        "import math\n",
        "from typing import Optional, Union, List\n",
        "import math\n",
        "class cell_model():\n",
        "  '''expanded cell model class for ECP calculation\n",
        "  takes cell model and does bookkeeping for analysis functions\n",
        "  '''\n",
        "  def __init__(self,model,synapses_list=None,netcons_list=None,gen_3d=True,spike_threshold: Optional[float] = None):\n",
        "    self.all=model.all\n",
        "    self.soma=model.soma\n",
        "    self.apic=model.apic\n",
        "    self.dend=model.dend\n",
        "    self.axon=model.axon\n",
        "    #convert nrn section lists to python lists if applicable\n",
        "    self.all=self.convert_sectionlist(sectionlist=self.all)\n",
        "    self.soma=self.convert_sectionlist(sectionlist=self.soma, return_singles=True) #if sectionlist contains only one section returns just the section instead of list of sections\n",
        "    self.dend=self.convert_sectionlist(sectionlist=self.dend)\n",
        "    self.apic=self.convert_sectionlist(sectionlist=self.apic)\n",
        "    self.axon=self.convert_sectionlist(sectionlist=self.axon)\n",
        "    self.spike_threshold = spike_threshold\n",
        "    self.synapses_list=synapses_list #list of synapse objects from model reduction\n",
        "    self.netcons_list=netcons_list # list of netcon objects from model reduction\n",
        "    self.segments=[] # list for nrn segment objects\n",
        "    self.injection=[] # list of injection objects\n",
        "    self.synapse=[] # list of python synapse class objects\n",
        "    self.sec_id_lookup = {}  # dictionary from section type id to section index\n",
        "    self.sec_id_in_seg = []  # index of the first segment of each section in the segment list\n",
        "    self.sec_angs = [] # list of angles that were used to branch the cell\n",
        "    if gen_3d==True:\n",
        "      self.generate_sec_coords()\n",
        "    self.__store_segments()\n",
        "    self.__set_spike_recorder()\n",
        "    if self.apic[2].n3d()==2: #calc_seg_coords only works for cell with sections that only have two 3d coordinates. #detailed cell has too many 3d coordinates\n",
        "      self.__calc_seg_coords()\n",
        "    self.__store_synapses_list() #store and record synapses from the synapses_list used to initialize the cell\n",
        "    self.grp_ids = []\n",
        "    self.generate_geometry_file()\n",
        "\n",
        "  def __calc_seg_coords(self):\n",
        "    \"\"\"Calculate segment coordinates for ECP calculation\"\"\"\n",
        "    p0 = np.empty((self._nseg, 3))\n",
        "    p1 = np.empty((self._nseg, 3))\n",
        "    p05 = np.empty((self._nseg, 3))\n",
        "    r = np.empty(self._nseg)\n",
        "    for isec, sec in enumerate(self.all):\n",
        "        iseg = self.sec_id_in_seg[isec]\n",
        "        nseg = sec.nseg\n",
        "        pt0 = np.array([sec.x3d(0), sec.y3d(0), sec.z3d(0)])\n",
        "        pt1 = np.array([sec.x3d(1), sec.y3d(1), sec.z3d(1)])\n",
        "        pts = np.linspace(pt0, pt1, 2 * nseg + 1)\n",
        "        p0[iseg:iseg + nseg, :] = pts[:-2:2, :]\n",
        "        p1[iseg:iseg + nseg, :] = pts[2::2, :]\n",
        "        p05[iseg:iseg + nseg, :] = pts[1:-1:2, :]\n",
        "        r[iseg:iseg + nseg] = sec.diam / 2\n",
        "    self.seg_coords = {'dl': p1 - p0, 'pc': p05, 'r': r}\n",
        "\n",
        "  def __store_segments(self):\n",
        "    self.segments = []\n",
        "    self.sec_id_in_seg = []\n",
        "    nseg = 0\n",
        "    for sec in self.all:\n",
        "        self.sec_id_in_seg.append(nseg)\n",
        "        nseg += sec.nseg\n",
        "        for seg in sec:\n",
        "            self.segments.append(seg)\n",
        "            self.__store_point_processes(seg)\n",
        "    self._nseg = nseg\n",
        "\n",
        "  def __store_point_processes(self,seg):\n",
        "    for pp in seg.point_processes():\n",
        "        self.injection.append(pp)\n",
        "\n",
        "  def __set_spike_recorder(self, threshold: Optional = None):\n",
        "      if threshold is not None:\n",
        "          self.spike_threshold = threshold\n",
        "      if self.spike_threshold is None:\n",
        "          self.spikes = None\n",
        "      else:\n",
        "          vec = h.Vector()\n",
        "          nc = h.NetCon(self.soma(0.5)._ref_v, None, sec=self.soma)\n",
        "          nc.threshold = self.spike_threshold\n",
        "          nc.record(vec)\n",
        "          self.spikes = vec\n",
        "\n",
        "  def add_injection(self, sec_index, **kwargs):\n",
        "        \"\"\"Add current injection to a section by its index\"\"\"\n",
        "        self.injection.append(CurrentInjection(self, sec_index, **kwargs))\n",
        "\n",
        "  def add_synapse(self, stim: h.NetStim, sec_index: int, **kwargs):\n",
        "        \"\"\"Add synapse to a section by its index\"\"\"\n",
        "        new_syn=Synapse(self, stim, sec_index, **kwargs)\n",
        "        self.netcons_list.append(new_syn.nc)\n",
        "        self.synapse.append(new_syn)\n",
        "\n",
        "  def generate_sec_coords(self):\n",
        "      '''\n",
        "      Note: need to improve branching so that it is random direction in a quadrant of a sphere rather than x-y plane\n",
        "      takes a cell that has no n3d() coordinates and gives new coordinates\n",
        "      by choosing an arbitrary direction for the subtree to move\n",
        "      '''\n",
        "      section_obj_list= self.all\n",
        "      # print(section_obj_list)\n",
        "      axial=False\n",
        "      parent_sections=[] #list for already seen parent_sections of this type\n",
        "      for sec in section_obj_list:\n",
        "        sec_length=sec.L\n",
        "        if sec is self.soma:\n",
        "          self.sec_angs.append(0)\n",
        "          # pt0 = [0., -1 * sec.diam, 0.] #does not seem to preserve soma shape , but need to make sure children begin at correct 3d coordinate.\n",
        "          # pt1 = [0., 0., 0.]\n",
        "          # sec.pt3dclear()\n",
        "          # sec.pt3dadd(*pt0, sec.diam)\n",
        "          # sec.pt3dadd(*pt1, sec.diam)\n",
        "          print('Changing soma nseg from',sec.nseg,'to 1')\n",
        "          sec.nseg = 1\n",
        "        else:\n",
        "          if sec.parentseg() is not None:\n",
        "            psec=sec.parentseg().sec\n",
        "            if psec in self.apic and not self.apic[0]:\n",
        "              nbranch = len(psec.children())\n",
        "            else:\n",
        "              nbranch=1\n",
        "          else:\n",
        "            psec=None # may need to provide more implementation in the case of no 3d coords and no parent section.\n",
        "            nbranch=1\n",
        "          rot = 2 * math.pi/nbranch\n",
        "          if nbranch==1:\n",
        "            i=1\n",
        "          else:\n",
        "            i=parent_sections.count(psec)\n",
        "          parent_sections.append(psec)\n",
        "          length=sec.L\n",
        "          diameter=sec.diam\n",
        "          fullsecname = sec.name()\n",
        "          # print(fullsecname)\n",
        "          sec_type = fullsecname.split(\".\")[1][:4]\n",
        "          # print(sec_type)\n",
        "          if sec_type == \"apic\":\n",
        "            if sec==self.apic[0]:\n",
        "              ang=1.570796327\n",
        "            else:\n",
        "              ang=np.random.uniform(low=0,high=np.pi)\n",
        "          elif sec_type==\"dend\":\n",
        "            ang=-np.random.uniform(low=0,high=np.pi)\n",
        "          elif sec_type==\"axon\":\n",
        "            ang=-1.570796327\n",
        "          else:\n",
        "            print(sec,sec_type,' is not apic, dend or axon')\n",
        "            ang=0\n",
        "          if axial == True:\n",
        "            x = 0\n",
        "            y = length*((ang>=0)*2-1)\n",
        "          else:\n",
        "            x = length * math.cos(ang)\n",
        "            y = length * math.sin(ang)\n",
        "          self.sec_angs.append(ang)\n",
        "          #find starting position #need to update to use parent segment coordinates instead of using first section coordinate\n",
        "          pt0 = [psec.x3d(1), psec.y3d(1), psec.z3d(1)]\n",
        "          pt1 = [0., 0., 0.]\n",
        "          pt1[1] = pt0[1] + y\n",
        "          pt1[0] = pt0[0] + x * math.cos(i * rot)\n",
        "          pt1[2] = pt0[2] + x * math.sin(i * rot)\n",
        "          sec.pt3dclear()\n",
        "          sec.pt3dadd(*pt0, sec.diam)\n",
        "          sec.pt3dadd(*pt1, sec.diam)\n",
        "        if int(sec.L) != int(sec_length):\n",
        "          print('Error: generation of 3D coordinates resulted in change of section length for',sec,'from',sec_length,'to',sec.L)\n",
        "\n",
        "  def generate_geometry_file(self):\n",
        "    '''\n",
        "    generates geometry file specifying name, pid, ang, radius, length, type\n",
        "    work in progress\n",
        "    '''\n",
        "    df = pd.DataFrame()\n",
        "    ids=[]\n",
        "    names=[]\n",
        "    types=[]\n",
        "    pids=[]\n",
        "    axials=[]\n",
        "    nbranchs=[]\n",
        "    Ls=[]\n",
        "    Rs=[]\n",
        "    # angs=self.angs\n",
        "    for sec in self.all:\n",
        "      # print(dir(sec))\n",
        "      name=sec.name()\n",
        "      # print(name)\n",
        "      names.append(name)\n",
        "      ids.append(names.index(name))\n",
        "      _,sec_type_withinteger=name.split('.')\n",
        "      sec_type,_=sec_type_withinteger.split('[')\n",
        "      types.append(sec_type)\n",
        "      pseg = sec.parentseg()\n",
        "      if pseg == None:\n",
        "        pids.append(None)\n",
        "      else:\n",
        "        psec=pseg.sec\n",
        "        px3d=psec.x3d\n",
        "        pids.append(int(names.index(psec.name())))\n",
        "      # axials.append('TRUE')\n",
        "      # nbranchs.append(1)\n",
        "      Ls.append(sec.L)\n",
        "      # print(dir(sec))\n",
        "      Rs.append(sec.diam/2)\n",
        "    df['id']=ids\n",
        "    df['name']=names\n",
        "    df['pid']=pids\n",
        "    df['type']=types\n",
        "    df['L']=Ls\n",
        "    df['R']=Rs\n",
        "    # df['axials']=axials # may need to fix\n",
        "    # df['nbranch']=nbranchs # may need to fix\n",
        "    self.geometry=df\n",
        "\n",
        "  def convert_sectionlist(self,sectionlist,return_singles=False):\n",
        "    '''\n",
        "    convert nrn sectionlist objects to python list\n",
        "    return_singles set to true will return section instead of [section] for lists with only one section\n",
        "    '''\n",
        "    new_sectionlist=[]\n",
        "    if str(type(sectionlist)) == \"<class 'hoc.HocObject'>\":\n",
        "      for sec in sectionlist:\n",
        "        new_sectionlist.append(sec)\n",
        "    else:\n",
        "      new_sectionlist=sectionlist\n",
        "    if return_singles==True:\n",
        "      if str(type(new_sectionlist))!=\"<class 'nrn.Section'>\":\n",
        "        if len(new_sectionlist)==1:\n",
        "          new_sectionlist=new_sectionlist[0]\n",
        "    return new_sectionlist\n",
        "\n",
        "  def __store_synapses_list(self):\n",
        "    '''\n",
        "    store and record synapses from the list from model reduction algorithm\n",
        "    '''\n",
        "    temp_list=[] # generate temp list that has each netcon's synapse obj\n",
        "    for netcon in self.netcons_list:\n",
        "      syn=netcon.syn()\n",
        "      if syn in self.synapses_list:\n",
        "        syn_seg_id=self.segments.index(netcon.syn().get_segment())\n",
        "        if syn in self.segments[syn_seg_id].point_processes():\n",
        "          temp_list.append(syn)\n",
        "        else:\n",
        "          temp_list.append(None)\n",
        "          print(\"Warning: synapse not in designated segment's point processes\")\n",
        "\n",
        "      else:\n",
        "        temp_list.append(None)\n",
        "        print(\"Warning: potentially deleted synapse:\",\"|NetCon obj:\",netcon,\"|Synapse obj:\",syn,\"the NetCon's synapse is not in synapses_list. Check corresponding original cell's NetCon for location, etc.\")\n",
        "    # now use temp list to assign each synapse its netcons\n",
        "    for synapse in synapses_list:\n",
        "      synapse_netcons=[]\n",
        "      if synapse in temp_list:\n",
        "        num_netcons=temp_list.count(synapse)\n",
        "        START=0\n",
        "        for i in range(num_netcons):\n",
        "          netcon_id=temp_list.index(synapse,START) #get all the netcon indices that are pointed toward this synapse # use np.where() instead of index() to return multiple indices.\n",
        "          START=netcon_id+1\n",
        "          synapse_netcons.append(self.netcons_list[netcon_id])\n",
        "        self.synapse.append(Listed_Synapse(synapse,synapse_netcons)) #record synapse and add to the list\n",
        "      else:\n",
        "        print('Warning: Synapse not in temp_list.')"
      ],
      "metadata": {
        "id": "ZS3X-yZr-4kV"
      },
      "id": "ZS3X-yZr-4kV",
      "execution_count": 11,
      "outputs": []
    },
    {
      "cell_type": "code",
      "execution_count": 12,
      "id": "18a97eeb",
      "metadata": {
        "id": "18a97eeb",
        "colab": {
          "base_uri": "https://localhost:8080/"
        },
        "outputId": "2ed125c4-9f73-4386-e1c7-4a7e59d7415f"
      },
      "outputs": [
        {
          "output_type": "stream",
          "name": "stdout",
          "text": [
            "trunk_diam: 3.7176523208618155 |trunk_length: 698.0975964944687 |branch_diam: 1.475351301247016 |branch_length: 1081.9141048660235\n"
          ]
        }
      ],
      "source": [
        "\n",
        "# # Load biophysical parameters from a json file\n",
        "# filepath = os.path.join(paths.RESOURCES_ROOT, 'biophys_parameters/ReducedOrderL5_passive.json')\n",
        "# with open(filepath) as f:\n",
        "#     biophys_param = json.load(f)\n",
        "# for genome in biophys_param['genome']:\n",
        "#     if genome['value'] != \"\": genome['value'] = float(genome['value'])\n",
        "\n",
        "h.load_file('L5PCbiophys3.hoc')\n",
        "\n",
        "# # Load morphology parameters from a csv file\n",
        "# geometry = pd.read_csv(paths.GEO_REDUCED_ORDER, index_col='id')\n",
        "h.load_file(\"import3d.hoc\")\n",
        "\n",
        "\n",
        "# Create a cell object\n",
        "# cell = ReducedOrderL5CellPassiveDendrite(geometry=geometry, full_biophys=biophys_param)\n",
        "h.load_file('L5PCtemplate.hoc')\n",
        "complex_cell = h.L5PCtemplate('cell1.asc')\n",
        "h.celsius = 37\n",
        "h.v_init = complex_cell.soma[0].e_pas\n",
        "\n",
        "synapses_list=[]\n",
        "netcons_list=[]\n",
        "\n",
        "#reduce dendritic trees to cables\n",
        "reduced_cell, synapses_list, netcons_list, txt = subtree_reductor(complex_cell, synapses_list, netcons_list, reduction_frequency=0,return_seg_to_seg=True)\n",
        "\n",
        "# print('reduced cell n3d')\n",
        "# for sec in reduced_cell.dend:\n",
        "#   print(sec,sec.n3d())\n",
        "\n",
        "#expand cables to idealized dendritic trees\n",
        "sections_to_expand = [reduced_cell.hoc_model.apic[0]]\n",
        "furcations_x=[0.289004]\n",
        "nbranches=[4]\n",
        "reduced_dendritic_cell, synapses_list, netcons_list, txt = cable_expander(reduced_cell, sections_to_expand, furcations_x, nbranches, \n",
        "                                                                          synapses_list, netcons_list, reduction_frequency=0,return_seg_to_seg=True)\n",
        "# print('dendritic cell n3d')\n",
        "# for sec in reduced_dendritic_cell.all:\n",
        "#   print(sec, sec.n3d())"
      ]
    },
    {
      "cell_type": "code",
      "source": [
        "import random\n",
        "#use defined cell_model class for generating 3d coordinates, recording ECP, 'book-keeping' etc...\n",
        "random.seed(2)\n",
        "cell = cell_model(reduced_dendritic_cell,synapses_list=synapses_list,netcons_list=netcons_list,spike_threshold = 10)\n",
        "# cell._nbranch=4\n",
        "cell._nbranch=4\n",
        "\n",
        "# Create synaptic input\n",
        "stim = h.NetStim()\n",
        "frequency=15 #(hz)\n",
        "spikeinterval = (1/frequency)*1000 #convert to T and milliseconds\n",
        "stim.interval=spikeinterval\n",
        "print(str(stim.interval))\n",
        "stim.number = 3  # only one event\n",
        "stim.start = 2.0  # delay (ms)\n",
        "\n",
        "gmax = 1  # default synapse maximum conductance (uS)\n",
        "# Add synapse to soma\n",
        "cell.add_synapse(stim, sec_index=0, gmax=gmax)\n",
        "# Add synapse to apical tufts\n",
        "for i,sec in enumerate(cell.apic):\n",
        "    cell.add_synapse(stim, sec_index=cell.all.index(sec), gmax=gmax / cell._nbranch) # need to adjust to only tufts"
      ],
      "metadata": {
        "id": "rSTUwzTfqEX2",
        "outputId": "bdbddbcf-3ee6-4128-8cc7-aa9480ba17d2",
        "colab": {
          "base_uri": "https://localhost:8080/"
        }
      },
      "id": "rSTUwzTfqEX2",
      "execution_count": 13,
      "outputs": [
        {
          "output_type": "stream",
          "name": "stdout",
          "text": [
            "Changing soma nseg from 1 to 1\n",
            "66.66666666666667\n"
          ]
        }
      ]
    },
    {
      "cell_type": "code",
      "source": [
        "# # compare \n",
        "# for sec in cell.all:\n",
        "#   for i in range(sec.n3d()):\n",
        "#     print(sec.x3d(i))"
      ],
      "metadata": {
        "id": "4QUvM0h7JzFG"
      },
      "id": "4QUvM0h7JzFG",
      "execution_count": 14,
      "outputs": []
    },
    {
      "cell_type": "code",
      "source": [
        "# print(cell.seg_coords['pc'][0])"
      ],
      "metadata": {
        "id": "gE3JYuFhM1_6"
      },
      "id": "gE3JYuFhM1_6",
      "execution_count": 15,
      "outputs": []
    },
    {
      "cell_type": "code",
      "source": [
        "# dir(cell)"
      ],
      "metadata": {
        "id": "akYHQOGDKiW5"
      },
      "id": "akYHQOGDKiW5",
      "execution_count": 16,
      "outputs": []
    },
    {
      "cell_type": "code",
      "source": [
        "make_reduced_seg_df(cell,\"segments_expanded.csv\") #need to improve make_reduced_seg_df\n",
        "expanded_segments_df=pd.read_csv(\"segments_expanded.csv\")\n",
        "plot_morphology(expanded_segments_df,\"expanded_morphology.svg\")"
      ],
      "metadata": {
        "colab": {
          "base_uri": "https://localhost:8080/",
          "height": 830
        },
        "id": "-ZwVHxQl5gLh",
        "outputId": "d2799140-c9cf-49cb-ba77-3b7fbae4a4af"
      },
      "id": "-ZwVHxQl5gLh",
      "execution_count": 17,
      "outputs": [
        {
          "output_type": "display_data",
          "data": {
            "text/plain": [
              "<Figure size 400x1000 with 1 Axes>"
            ],
            "image/png": "[encoded data removed]"
          },
          "metadata": {}
        }
      ]
    },
    {
      "cell_type": "code",
      "source": [
        "import os\n",
        "\n",
        "RunningInCOLAB = 'google.colab' in str(get_ipython())\n",
        "if RunningInCOLAB:\n",
        "    !pip install neuron==8.0.0 &> /dev/null\n",
        "    os.chdir('/content')\n",
        "    if not os.path.isdir('Stylized-Single-Cell-and-Extracellular-Potential'):\n",
        "        !git clone https://github.com/chenziao/Stylized-Single-Cell-and-Extracellular-Potential.git &> /dev/null \n",
        "    os.chdir('Stylized-Single-Cell-and-Extracellular-Potential')\n",
        "    %ls"
      ],
      "metadata": {
        "id": "D6vyubrwOvA_",
        "colab": {
          "base_uri": "https://localhost:8080/"
        },
        "outputId": "a4726031-6d9b-45cd-aba6-f12d8253469c"
      },
      "id": "D6vyubrwOvA_",
      "execution_count": 18,
      "outputs": [
        {
          "output_type": "stream",
          "name": "stdout",
          "text": [
            "\u001b[0m\u001b[01;34mcell_inference\u001b[0m/  Stylized_Single_Cell_Extracellular_Potential_Tutorial.ipynb\n"
          ]
        }
      ]
    },
    {
      "cell_type": "code",
      "source": [
        "from cell_inference.config import params, paths\n",
        "from cell_inference.cells.activecell_axon import ReducedOrderL5Cell, ReducedOrderL5CellPassiveDendrite\n",
        "from cell_inference.utils.currents.ecp import EcpMod\n",
        "from cell_inference.utils.currents.recorder import Recorder\n",
        "from cell_inference.utils.plotting.plot_morphology import plot_morphology\n",
        "from cell_inference.utils.plotting.plot_results import plot_lfp_heatmap, plot_lfp_traces\n",
        "from cell_inference.utils.plotting.plot_variable_with_morphology import plot_variable_with_morphology\n",
        "from cell_inference.utils.metrics.measure_segment_distance import measure_segment_distance"
      ],
      "metadata": {
        "id": "X7p40K3RO1RQ"
      },
      "id": "X7p40K3RO1RQ",
      "execution_count": 19,
      "outputs": []
    },
    {
      "cell_type": "code",
      "source": [
        "h.dt = params.DT  # time step\n",
        "h.steps_per_ms = 1/h.dt\n",
        "h.tstop = params.TSTOP  # simulation stop time\n",
        "\n",
        "# Record time points\n",
        "t_vec = h.Vector(round(h.tstop / h.dt) + 1).record(h._ref_t)\n",
        "\n",
        "# Record membrane voltage of all segments\n",
        "V_rec = Recorder(cell.segments)"
      ],
      "metadata": {
        "id": "m_npKvVUO4JD"
      },
      "id": "m_npKvVUO4JD",
      "execution_count": 20,
      "outputs": []
    },
    {
      "cell_type": "markdown",
      "id": "22d6f6e6",
      "metadata": {
        "id": "22d6f6e6"
      },
      "source": [
        "### Add electrodes (Neuropixel)\n",
        "A probe with 384 electrodes [https://www.neuropixels.org/probe](https://www.neuropixels.org/probe). The coordinates of each electrode is a row in the array printed below."
      ]
    },
    {
      "cell_type": "code",
      "execution_count": 21,
      "id": "8fdb0017",
      "metadata": {
        "id": "8fdb0017",
        "colab": {
          "base_uri": "https://localhost:8080/"
        },
        "outputId": "00caea35-a8fb-4c55-8c95-c86fc24940f3"
      },
      "outputs": [
        {
          "output_type": "stream",
          "name": "stdout",
          "text": [
            "(384, 3)\n",
            "[[   -8. -1910.     0.]\n",
            " [   24. -1910.     0.]\n",
            " [  -24. -1890.     0.]\n",
            " ...\n",
            " [   24.  1890.     0.]\n",
            " [  -24.  1910.     0.]\n",
            " [    8.  1910.     0.]]\n"
          ]
        }
      ],
      "source": [
        "elec_pos = params.ELECTRODE_POSITION\n",
        "ecp = EcpMod(cell, elec_pos, min_distance=params.MIN_DISTANCE)  # create an ECP object for extracellular potential\n",
        "\n",
        "# coordinates (x, y, z) of electrodes\n",
        "print(params.ELECTRODE_POSITION.shape)\n",
        "print(params.ELECTRODE_POSITION)"
      ]
    },
    {
      "cell_type": "markdown",
      "id": "c5323608",
      "metadata": {
        "id": "c5323608"
      },
      "source": [
        "## Custom settings\n",
        "\n",
        "Using the interactive tools below, you can change the position of the cell, and change the synapse strength and location on the cell.\n",
        "\n",
        "#### Cell position parameters (x, y, z, alpha, h, phi)\n",
        "Starting with soma at the origin, apical dendrite along y-axis, rotate and translate the cell to the desired position determined by 6 parameters. First, rotate alpha about the y-axis (spin), then rotate beta=arccos(h) about the x-axis (elevation), then rotate phi about the y-axis (azimuth). Finally translate the cell by (x,y,z).\n",
        "\n",
        "Use the sliders to change the 6 position parameters. Use the sliders 'elev' and 'azim' to change view of the 3D plot."
      ]
    },
    {
      "cell_type": "code",
      "execution_count": 22,
      "id": "a3df63ce",
      "metadata": {
        "id": "a3df63ce",
        "colab": {
          "base_uri": "https://localhost:8080/",
          "height": 813,
          "referenced_widgets": [
            "0ff7df67ff8240f982b5972688dcd7ce",
            "b75399a903d646209480f5daf201c810",
            "3874fee3675d4fc1822a7d041c966e49",
            "e337ce1f98e946d8b212995f7c1a3289",
            "8982c22255fd4b97b169c391088b142a",
            "a190358b914844c9a8be03102ce7e139",
            "3d0135ad44b8446bb5e8e296b0468a51",
            "1f0c173747194756bdcf013f3f7a2da9",
            "a9d3dd9dbcc340fe98a8b08921140b90",
            "1a58d4201182436dbec55d1d13b8d20b",
            "081b86670ff3448d9a0938e65c937019",
            "d1635c38af8540999b0dfa39fbd66ad7",
            "b40f88a1e0694275806c180f3623df79",
            "3ee1973ddfee46ab8fb51a018b7b6d2f",
            "f48bf266ff2840d18166830f068429e2",
            "8158acc98f9641da99920ce53e06bb71",
            "460aeb3bc09843a791f14d6ff57de599",
            "53779b5568b3426b989dc0c81558b1ff",
            "bd5c8ef91315495f93ad48b903f92c96",
            "28bdc03d8c1745e68bbb979d2d6d4879",
            "e82ad39111b248f2abff229224329406",
            "0536e81893b94cc7b377ee07a564c3bc",
            "5251aa490ecd4a7f83d5515879b4903e",
            "f8509946109d4bbda09bc24708801a70",
            "d78d7777168942358f004cbf0dff585c",
            "ea99d3d7cc9a4c37999a43e24a05f012",
            "aa17a161cade4ff7a48e9f7f36d5d1dc",
            "05b16c78996f4ed1bd2c351759e42cd7",
            "b51054b2625d4827980d7d368a9dbffb",
            "509405fa349b41a7afe6832768fd6f6f",
            "ca6754423825454e827f69a4dd1598ec",
            "c180c56d161e4ec097cdd1d40833026f",
            "885977938671411f8ea437a2c42b0466",
            "b3790e03afcb44169d0365a2e77654ca",
            "414bf5eea1b44041991c6de330d81394",
            "472e756b6f2742bda6c3e52479be47c0",
            "7d37e2270292492a976b84b0441d8496",
            "51ab9aa4af064d24839b09db564bc4f0",
            "04c5f695d85e4d98b550470cc88f3099",
            "bdaa1a2a795a43178836fd29e8bbe394",
            "b54f62773a7f4f9e8081ede9a458d1fa"
          ]
        },
        "outputId": "907a6aee-f38d-4bf0-b043-d185c407e7c0"
      },
      "outputs": [
        {
          "output_type": "display_data",
          "data": {
            "text/plain": [
              "VBox(children=(Button(button_style='primary', description='Reset', icon='history', style=ButtonStyle()), HBox(…"
            ],
            "application/vnd.jupyter.widget-view+json": {
              "version_major": 2,
              "version_minor": 0,
              "model_id": "0ff7df67ff8240f982b5972688dcd7ce"
            }
          },
          "metadata": {}
        }
      ],
      "source": [
        "loc_param_default = [0., 0., 80., 0., 1., 0.]  # Default position parameters\n",
        "elev, azim = 10, -70  # Default view\n",
        "# clr = ['g', 'yellow', 'orange', 'red', 'b', 'c', 'g', 'yellow', 'orange', 'red', 'pink', 'purple']  # section color\n",
        "clr=[]\n",
        "clr.extend(['black' for i in range(len([cell.soma]))]) # soma color\n",
        "clr.extend(['red' for i in range(len(cell.dend))]) #dend colors\n",
        "clr.extend(['purple' for i  in range(len(cell.axon))]) # axon colors\n",
        "clr.extend(['blue']) #trunk color\n",
        "clr.extend(['green' for i in range(len(cell.apic)-1)])  # branch colors\n",
        "\n",
        "def interactive_plot(x, y, z, alpha, beta, phi, elev, azim):\n",
        "    global loc_param\n",
        "    loc_param = (x, y, z, np.pi/180*alpha, np.cos(np.pi/180*beta), np.pi/180*phi)\n",
        "    fig, ax = plot_morphology(cell=cell, electrodes=elec_pos, move_cell=loc_param,\n",
        "                    elev=-elev, azim=-azim, figsize=(12, 8), clr = clr)\n",
        "    plt.show()\n",
        "\n",
        "xslider = Layout(width='500px')\n",
        "yslider = Layout(height='350px')\n",
        "w_reset = widgets.Button(description='Reset', icon='history', button_style='primary')\n",
        "w_x = widgets.FloatSlider(value=loc_param_default[0], min=-200, max=200, step=1, description='x (um)', continuous_update=False, readout_format='.0f')\n",
        "w_y = widgets.FloatSlider(value=loc_param_default[1], min=-1000, max=1000, step=1, description='y (um)', continuous_update=False, readout_format='.0f')\n",
        "w_z = widgets.FloatSlider(value=loc_param_default[2], min=20, max=400, step=1, description='z (um)', continuous_update=False, readout_format='.0f')\n",
        "w_alpha = widgets.FloatSlider(value=180/np.pi*loc_param_default[3], min=-180, max=180, step=1, description='alpha (deg)', continuous_update=False, readout_format='.0f')\n",
        "w_beta = widgets.FloatSlider(value=180/np.pi*np.arccos(loc_param_default[4]), min=0, max=180, step=1, description='beta (deg)', continuous_update=False, readout_format='.0f')\n",
        "w_phi = widgets.FloatSlider(value=180/np.pi*loc_param_default[5], min=-180, max=180, step=1, description='phi (deg)', continuous_update=False, readout_format='.0f')\n",
        "w_elev = widgets.FloatSlider(value=-elev, min=-90, max=90, step=1, description='elev (deg)', continuous_update=False, readout_format='.0f', orientation='vertical', layout=yslider)\n",
        "w_azim = widgets.FloatSlider(value=-azim, min=-180, max=180, step=1, description='azim (deg)', continuous_update=False, readout_format='.0f', layout=xslider)\n",
        "\n",
        "def reset_default(*args):\n",
        "    w_x.value, w_y.value, w_z.value = loc_param_default[:3]\n",
        "    w_alpha.value = 180 / np.pi * loc_param_default[3]\n",
        "    w_beta.value = 180 / np.pi * np.arccos(loc_param_default[4])\n",
        "    w_phi.value = 180 / np.pi * loc_param_default[5]\n",
        "    w_elev.value, w_azim.value = -elev, -azim\n",
        "w_reset.on_click(reset_default)\n",
        "\n",
        "out = interactive_output(interactive_plot, {'x': w_x, 'y': w_y, 'z': w_z, 'alpha': w_alpha, 'beta': w_beta, 'phi': w_phi, 'elev': w_elev, 'azim': w_azim})\n",
        "ui = VBox([ w_reset, HBox([ VBox([w_x, w_y, w_z]), VBox([w_alpha, w_beta, w_phi]) ]), HBox([ VBox([out, w_azim]), w_elev]) ])\n",
        "\n",
        "display(ui)"
      ]
    },
    {
      "cell_type": "markdown",
      "id": "0d582310",
      "metadata": {
        "id": "0d582310"
      },
      "source": [
        "#### Set synaptic input\n",
        "\n",
        "Use the toggle button to switch synapse location between the soma and the proximal apical tuft dendrite. Use the slider 'Synapse maximal conductance' to change synapse strength."
      ]
    },
    {
      "cell_type": "code",
      "execution_count": 23,
      "id": "ce8d1856",
      "metadata": {
        "id": "ce8d1856",
        "colab": {
          "base_uri": "https://localhost:8080/",
          "height": 81,
          "referenced_widgets": [
            "a95af5501bb5427f8d9235b2fa246f7a",
            "56bf3ba355464940bb0e1e65f83209ba",
            "a1d4fa64b2704f948b2961c75cb9cb6c",
            "e3d41d5e51a643bab3385ed522d15262",
            "786c2d32984047a3b1a384243f81f70b",
            "3409e2ee36e048bf949775ec99d040cb",
            "4a31bb231f3b4f46b1ff1112513368ca",
            "9c777a19602b492dbac8a8262e094471",
            "69745e8219ef4cf28f79e4638791c00b",
            "ccf35f30cb1849b1bcd843a159ff290f",
            "361ce07375d34034aa738bf7ab6662a1",
            "c6042b044d5e4407a799d8f83337cd85",
            "4cd4d81e94a54b9dbc5335a4210d9079"
          ]
        },
        "outputId": "c6140cb7-ae7b-4423-933f-75a841a84036"
      },
      "outputs": [
        {
          "output_type": "display_data",
          "data": {
            "text/plain": [
              "VBox(children=(ToggleButtons(options=('Soma', 'Apical tuft (proximal)'), value='Soma'), HBox(children=(Label(v…"
            ],
            "application/vnd.jupyter.widget-view+json": {
              "version_major": 2,
              "version_minor": 0,
              "model_id": "a95af5501bb5427f8d9235b2fa246f7a"
            }
          },
          "metadata": {}
        }
      ],
      "source": [
        "w_syn_site = widgets.ToggleButtons(options=['Soma', 'Apical tuft (proximal)'])\n",
        "w_gmax = widgets.FloatSlider(value=gmax, min=0, max=0.1, step=0.0002, readout_format='.4f')\n",
        "display(VBox([w_syn_site, HBox([Label('Synapse maximal conductance (uS)'), w_gmax])]))\n",
        "\n",
        "def set_synapse():\n",
        "    soma_syn = w_syn_site.value == 'Soma'\n",
        "    gmax_soma = w_gmax.value if soma_syn else 0\n",
        "    gmax_tuft = 0 if soma_syn else w_gmax.value / cell._nbranch\n",
        "    cell.synapse[0].set_gmax(gmax_soma)\n",
        "    for syn in cell.synapse[1:]:\n",
        "        syn.set_gmax(gmax_tuft)"
      ]
    },
    {
      "cell_type": "code",
      "source": [
        "# try to extract syn and gmax for plot information\n",
        "print(w_gmax)\n",
        "print(w_syn_site)"
      ],
      "metadata": {
        "id": "nqUJhNE_22Nn",
        "outputId": "7b56ef56-5af9-4b66-f866-4f516b5b4a9d",
        "colab": {
          "base_uri": "https://localhost:8080/"
        }
      },
      "id": "nqUJhNE_22Nn",
      "execution_count": 24,
      "outputs": [
        {
          "output_type": "stream",
          "name": "stdout",
          "text": [
            "FloatSlider(value=0.1, max=0.1, readout_format='.4f', step=0.0002)\n",
            "ToggleButtons(options=('Soma', 'Apical tuft (proximal)'), value='Soma')\n"
          ]
        }
      ]
    },
    {
      "cell_type": "code",
      "source": [
        "nseg = len(cell.segments)\n",
        "numTstep = int(h.tstop/h.dt)\n",
        "#since synapse list has combined synapses for computational efficiency, we must use NetCon list/unique spike trains to determine how many synapses were mapped\n",
        "NetCon_per_seg=[0]*nseg\n",
        "inh_NetCon_per_seg=[0]*nseg\n",
        "exc_NetCon_per_seg=[0]*nseg\n",
        "\n",
        "i_NMDA_bySeg= [[0] * (numTstep+1) ] * nseg # need to implement inmda recording\n",
        "\n",
        "v_rest=-60 #choose v_rest for categorizing inh/exc synapses\n",
        "\n",
        "for netcon in cell.netcons_list:\n",
        "  syn=netcon.syn()\n",
        "  if syn in synapses_list:\n",
        "    syn_seg_id=cell.segments.index(netcon.syn().get_segment())\n",
        "    if syn in cell.segments[syn_seg_id].point_processes():\n",
        "      NetCon_per_seg[syn_seg_id]+=1 # get synapses per segment\n",
        "      # NetCon_per_seg[syn_seg_id].append(netcon) # possible implementation if needing objects per segment\n",
        "      if syn.e > v_rest:\n",
        "        exc_NetCon_per_seg[syn_seg_id]+=1\n",
        "        # exc_NetCon_per_seg[syn_seg_id].append(netcon)# possible implementation if needing objects per segment\n",
        "      else:\n",
        "        inh_NetCon_per_seg[syn_seg_id]+=1\n",
        "        # inh_NetCon_per_seg[syn_seg_id].append(netcon)# possible implementation if needing objects per segment\n",
        "    else:\n",
        "      print(\"Warning: synapse not in designated segment's point processes\")\n",
        "\n",
        "  else:\n",
        "    print(\"Warning: potentially deleted synapse:\",\"|NetCon obj:\",netcon,\"|Synapse obj:\",syn,\"the NetCon's synapse is not in synapses_list. Check corresponding original cell's NetCon for location, etc.\")\n",
        "\n",
        "#extract inmda from each segment # can be adjusted for gaba synapses or alpha synapses # only paired nmda/ampa synapses have vec_list[1]\n",
        "for synapse in cell.synapse:\n",
        "  try:\n",
        "    i_NMDA = np.array(synapse.rec_vec.vec_list[1])            #current = numpy array of NEURON Vector of current NMDA current at synapse j  \n",
        "    seg = synapse.get_segment_id()                            #seg = the segment in which synapse j is located \n",
        "    #print('first try')\n",
        "    \n",
        "    try:\n",
        "      i_NMDA_bySeg[seg] = i_NMDA_bySeg[seg] + i_NMDA    \n",
        "      #print('second try')                                           #Sum current over each segment\n",
        "    except: \n",
        "      pass                                                                   #Except needed as some synpases do not have NMDA currrent and throw an error when called\n",
        "  except:\n",
        "    pass"
      ],
      "metadata": {
        "id": "-tri29bnwjC6",
        "outputId": "2206e1ad-9b1f-4af9-f1ee-a4e44304ced6",
        "colab": {
          "base_uri": "https://localhost:8080/"
        }
      },
      "id": "-tri29bnwjC6",
      "execution_count": 25,
      "outputs": [
        {
          "output_type": "stream",
          "name": "stdout",
          "text": [
            "Warning: potentially deleted synapse: |NetCon obj: NetCon[0] |Synapse obj: Exp2Syn[0] the NetCon's synapse is not in synapses_list. Check corresponding original cell's NetCon for location, etc.\n",
            "Warning: potentially deleted synapse: |NetCon obj: NetCon[1] |Synapse obj: Exp2Syn[1] the NetCon's synapse is not in synapses_list. Check corresponding original cell's NetCon for location, etc.\n",
            "Warning: potentially deleted synapse: |NetCon obj: NetCon[2] |Synapse obj: Exp2Syn[2] the NetCon's synapse is not in synapses_list. Check corresponding original cell's NetCon for location, etc.\n",
            "Warning: potentially deleted synapse: |NetCon obj: NetCon[3] |Synapse obj: Exp2Syn[3] the NetCon's synapse is not in synapses_list. Check corresponding original cell's NetCon for location, etc.\n",
            "Warning: potentially deleted synapse: |NetCon obj: NetCon[4] |Synapse obj: Exp2Syn[4] the NetCon's synapse is not in synapses_list. Check corresponding original cell's NetCon for location, etc.\n",
            "Warning: potentially deleted synapse: |NetCon obj: NetCon[5] |Synapse obj: Exp2Syn[5] the NetCon's synapse is not in synapses_list. Check corresponding original cell's NetCon for location, etc.\n"
          ]
        }
      ]
    },
    {
      "cell_type": "code",
      "source": [
        "%ls"
      ],
      "metadata": {
        "id": "ynXvkXxb1dST",
        "outputId": "e8d46199-50b8-462d-982e-a62d0f518afe",
        "colab": {
          "base_uri": "https://localhost:8080/"
        }
      },
      "id": "ynXvkXxb1dST",
      "execution_count": 26,
      "outputs": [
        {
          "output_type": "stream",
          "name": "stdout",
          "text": [
            "\u001b[0m\u001b[01;34mcell_inference\u001b[0m/  Stylized_Single_Cell_Extracellular_Potential_Tutorial.ipynb\n"
          ]
        }
      ]
    },
    {
      "cell_type": "code",
      "source": [
        "output_folder_name=str(nbranches[0])+\"nbranch_outputcontrol_\"+str(int(len(cell.synapse)))+\"nsyn\"#+modelname  #include model name in output foler name (ex. original cell, reduced cell, expanded cell)\n",
        "#create output folder\n",
        "import os\n",
        "if not os.path.exists(output_folder_name):\n",
        "   os.makedirs(output_folder_name)\n",
        "\n",
        "print(output_folder_name)\n",
        "os.chdir(output_folder_name)"
      ],
      "metadata": {
        "id": "LeeK1qu11Zhv",
        "outputId": "b45e23bf-899f-4e8b-b6bc-648708008a8e",
        "colab": {
          "base_uri": "https://localhost:8080/"
        }
      },
      "id": "LeeK1qu11Zhv",
      "execution_count": 27,
      "outputs": [
        {
          "output_type": "stream",
          "name": "stdout",
          "text": [
            "4nbranch_outputcontrol_6nsyn\n"
          ]
        }
      ]
    },
    {
      "cell_type": "code",
      "source": [
        "#save geometry file\n",
        "cell.geometry.to_csv('geometry.csv')"
      ],
      "metadata": {
        "id": "2dNBijayE1zu"
      },
      "id": "2dNBijayE1zu",
      "execution_count": 28,
      "outputs": []
    },
    {
      "cell_type": "code",
      "source": [
        "#Should add \"syn per seg\" to seg data frame #also can try doing SynPerSeg/segL to have more of a density metric\n",
        "#can adjust functions to take df arguement\n",
        "def plotSynDensity(SynPerSeg,Type=str):\n",
        "  plt.figure(figsize=(4,10))\n",
        "  ax = plt.scatter(expanded_segments_df[\"Coord X\"], expanded_segments_df[\"Coord Y\"],c = SynPerSeg[0:nseg],cmap='jet',)\n",
        "  plt.vlines(110,400,500)\n",
        "  plt.text(0,450,'100 um')\n",
        "  plt.hlines(400,110,210)\n",
        "  plt.text(110,350,'100 um')\n",
        "  plt.xticks([])\n",
        "  plt.yticks([])\n",
        "  cbar = plt.colorbar()\n",
        "  cbar.ax.set_ylabel(Type+'Synapses per segment', rotation=270)\n",
        "\n",
        "  plt.box(False)\n",
        "  plt.savefig(Type+'_syns.svg')\n",
        "\n",
        "def plotSynDensityNoSoma(SynPerSeg,Type=str):\n",
        "  plt.figure(figsize=(4,10))\n",
        "  ax = plt.scatter(expanded_segments_df[\"Coord X\"][1:], expanded_segments_df[\"Coord Y\"][1:],c = SynPerSeg[1:nseg],cmap='jet',)\n",
        "  plt.vlines(110,400,500)\n",
        "  plt.text(0,450,'100 um')\n",
        "  plt.hlines(400,110,210)\n",
        "  plt.text(110,350,'100 um')\n",
        "  plt.xticks([])\n",
        "  plt.yticks([])\n",
        "  cbar = plt.colorbar()\n",
        "  cbar.ax.set_ylabel(Type+'Synapses per segment', rotation=270)\n",
        "\n",
        "  plt.box(False)\n",
        "  plt.savefig(Type+'_syns.svg')\n",
        "\n",
        "plotSynDensity(exc_NetCon_per_seg,'Exc') #len(cell.segments) #low number of segments makes plot look odd."
      ],
      "metadata": {
        "id": "ZtC6mvhXwL-L",
        "outputId": "052d1ff7-4f07-415e-9291-c546eb74211a",
        "colab": {
          "base_uri": "https://localhost:8080/",
          "height": 820
        }
      },
      "id": "ZtC6mvhXwL-L",
      "execution_count": 29,
      "outputs": [
        {
          "output_type": "display_data",
          "data": {
            "text/plain": [
              "<Figure size 400x1000 with 2 Axes>"
            ],
            "image/png": "[encoded data removed]"
          },
          "metadata": {}
        }
      ]
    },
    {
      "cell_type": "code",
      "source": [
        "plotSynDensity(inh_NetCon_per_seg,'Inh') # if soma has too many inh synapses the heatmap is not as interpretable"
      ],
      "metadata": {
        "id": "AuPzXdSdwhme",
        "outputId": "a5dab532-28f7-461c-a5bc-3ec216b92a3b",
        "colab": {
          "base_uri": "https://localhost:8080/",
          "height": 820
        }
      },
      "id": "AuPzXdSdwhme",
      "execution_count": 30,
      "outputs": [
        {
          "output_type": "display_data",
          "data": {
            "text/plain": [
              "<Figure size 400x1000 with 2 Axes>"
            ],
            "image/png": "[encoded data removed]"
          },
          "metadata": {}
        }
      ]
    },
    {
      "cell_type": "markdown",
      "id": "2ca15375",
      "metadata": {
        "id": "2ca15375"
      },
      "source": [
        "## Run simulation and plot results\n",
        "\n",
        "Run the codes below to simulate and display results everytime after you change the parameters above."
      ]
    },
    {
      "cell_type": "code",
      "execution_count": 31,
      "id": "f81ec874",
      "metadata": {
        "id": "f81ec874",
        "colab": {
          "base_uri": "https://localhost:8080/",
          "height": 1000
        },
        "outputId": "a6bf1370-04b8-46d1-f6d4-c68874cda841"
      },
      "outputs": [
        {
          "output_type": "display_data",
          "data": {
            "text/plain": [
              "<Figure size 1000x400 with 1 Axes>"
            ],
            "image/png": "[encoded data removed]"
          },
          "metadata": {}
        },
        {
          "output_type": "display_data",
          "data": {
            "text/plain": [
              "<Figure size 800x500 with 2 Axes>"
            ],
            "image/png": "[encoded data removed]"
          },
          "metadata": {}
        },
        {
          "output_type": "display_data",
          "data": {
            "text/plain": [
              "<Figure size 800x500 with 2 Axes>"
            ],
            "image/png": "[encoded data removed]"
          },
          "metadata": {}
        }
      ],
      "source": [
        "# Run simulation\n",
        "set_synapse()\n",
        "h.run()\n",
        "# Get results\n",
        "t = t_vec.as_numpy().copy()  # time array (ms)\n",
        "# soma membrane potential\n",
        "Vm = V_rec.as_numpy()\n",
        "v_soma = Vm[cell.sec_id_in_seg[cell.all.index(cell.soma)]]\n",
        "v_tfut = Vm[cell.sec_id_in_seg[cell.all.index(cell.apic[1])]]\n",
        "# lfp array\n",
        "lfp = ecp.calc_ecp(move_cell=loc_param).T  # unit: mV\n",
        "\n",
        "# Soma membrane potential\n",
        "plt.figure(figsize=(10, 4))\n",
        "plt.plot(t, v_soma, label='Soma')\n",
        "plt.plot(t, v_tfut, label='Tuft')\n",
        "plt.ylabel('Membrane potential (mV)')\n",
        "plt.xlabel('time (ms)')\n",
        "plt.xlim(t[[0, -1]])\n",
        "plt.legend()\n",
        "plt.savefig('Vm')\n",
        "\n",
        "# Extracellular potential along y-axis\n",
        "y_window = [-1200, 1200]  # select range of y coordinate for plotting\n",
        "ylim = loc_param[1] + np.array(y_window)  # set range of y coordinate\n",
        "max_idx = np.argmax(np.amax(np.abs(lfp), axis=0))  # find the electrode that records maximum magnitude\n",
        "x_dist = elec_pos[max_idx, 0]  # x coordinate of the maximum magnitude electrode\n",
        "e_idx = (elec_pos[:, 0]==x_dist) & (elec_pos[:, 1]>=ylim[0]) & (elec_pos[:, 1]<=ylim[1])  # selected electrode indices\n",
        "\n",
        "fontsize = 15\n",
        "labelpad = -10\n",
        "ticksize = 12\n",
        "tick_length = 5\n",
        "nbins = 5\n",
        "plt.figure(figsize=(8, 5))\n",
        "_ = plot_lfp_heatmap(t=t, elec_d=elec_pos[e_idx, 1], lfp=lfp[:, e_idx],\n",
        "                     fontsize=fontsize, labelpad=labelpad, ticksize=ticksize, tick_length=tick_length,\n",
        "                     nbins=nbins, vlim='auto', axes=plt.gca())\n",
        "plt.title('Extracellular potential heatmap')\n",
        "plt.savefig('ECP heatmap')\n",
        "plt.figure(figsize=(8, 5))\n",
        "_ = plot_lfp_traces(t, lfp[:, e_idx][:,1::3], electrodes=elec_pos[e_idx][1::3],\n",
        "                    fontsize=fontsize, labelpad=labelpad, ticksize=ticksize, tick_length=tick_length,\n",
        "                    nbins=nbins, axes=plt.gca())\n",
        "plt.title('Extracellular potential timecourse')\n",
        "plt.savefig('ECP timecourse')\n",
        "\n",
        "plt.show()"
      ]
    },
    {
      "cell_type": "markdown",
      "id": "5c3e3e52",
      "metadata": {
        "id": "5c3e3e52"
      },
      "source": [
        "## Electrotonic distance\n",
        "\n",
        "Neuron has a tool for electrotonic analysis [https://www.neuron.yale.edu/neuron/static/docs/zclass/zclass.html](https://www.neuron.yale.edu/neuron/static/docs/zclass/zclass.html). It computes the electrotonic distance defined by attenuation, but the classical definition is [anatomical distance/length constant](https://www.neuron.yale.edu/neuron/static/docs/zclass/NIPS94/nipsfin.html).\n",
        "\n",
        "The plot below shows the membrane potential timecourse at several locations on the cell. The electrotonic distance computed by Neuron of each location is also shown with both number and color. The distance should always be a positive value, but it is labeled negative for the basal dendrites and the axon intentionally so that it can be easily distinguished from the apical dendrites."
      ]
    },
    {
      "cell_type": "code",
      "source": [
        "# geometry=cell.geometry"
      ],
      "metadata": {
        "id": "cNsNKTKuB0XA"
      },
      "id": "cNsNKTKuB0XA",
      "execution_count": 32,
      "outputs": []
    },
    {
      "cell_type": "code",
      "execution_count": 33,
      "id": "729a65ff",
      "metadata": {
        "id": "729a65ff"
      },
      "outputs": [],
      "source": [
        "# for syn in cell.synapse:\n",
        "#     syn.set_gmax(0)\n",
        "# h.run()\n",
        "\n",
        "# sec_type_swc = {sec['name']: sec['type'] for _, sec in geometry.iterrows()}\n",
        "# # sec_type = [sec_type_swc[sec.name().split('.')[-1]] for sec in cell.all] # original\n",
        "# # sec_type = [sec_type_swc[sec.name().split('.')[-1].split('[')[0]] for sec in cell.all] # possible alternative?\n",
        "# sec_type = [sec_type_swc[sec.name()] for sec in cell.all]\n",
        "# freq = 0 # Hz\n",
        "# seg_prop, _, _ = measure_segment_distance(cell.soma , cell.all, sec_type, freq)\n",
        "\n",
        "# select_seg = [[cell.sec_id_in_seg[sec[0]], cell.get_sec_by_id(sec[0]).nseg -1] for sec in cell.sec_id_lookup.values()]\n",
        "# select_seg = np.sum(np.array(select_seg), axis=1)\n",
        "# # select_seg = np.unique(np.cumsum(np.array(select_seg), axis=1).ravel())\n",
        "# _ = plot_variable_with_morphology(cell.seg_coords, seg_prop, Vm, t=t, axes=['x', 'y'],\n",
        "#                                   distance_type='elec_dist', n_dist=300,\n",
        "#                                   select_seg=select_seg, max_per_dist=1, varname='Membrane potential (mV)',\n",
        "#                                   space=2., normalized_space=True, sort_by_dist=True,\n",
        "                                  # figsize=(10, 10), fontsize=15, scalebar_size=50)"
      ]
    },
    {
      "cell_type": "markdown",
      "source": [
        "##Transfer Impedance\n",
        "\n"
      ],
      "metadata": {
        "id": "Tc1fFLPUz5Qe"
      },
      "id": "Tc1fFLPUz5Qe"
    },
    {
      "cell_type": "code",
      "execution_count": 34,
      "id": "be859ed7",
      "metadata": {
        "id": "be859ed7"
      },
      "outputs": [],
      "source": [
        "# import numpy as np\n",
        "# from neuron import h\n",
        "# import cmath\n",
        "\n",
        "# def measure_segment_transfer_impedance(soma, section_list, sec_type, freq=0, extracellular_mechanism=True):\n",
        "#     \"\"\"\n",
        "#     soma: soma section object\n",
        "#     section_list: list of sections\n",
        "#     sec_type: list of swc type id of sections\n",
        "#     freq: frequency (Hz) at which electrotonic distance is evaluated\n",
        "#     extracellular_mechanism: whether extracellular mechanism is used\n",
        "#     \"\"\"\n",
        "#     seg_prop = {}\n",
        "#     swc_type = []\n",
        "#     seg_area = []\n",
        "#     seg_dist = []\n",
        "#     seg_length = []\n",
        "#     elec_dist = [] #modulus part of polar form #should change names\n",
        "#     elec_dist0 = [] #modulus of polar form #should change names\n",
        "#     transfer_imps = [] #real part of rectangular form\n",
        "#     transfer_imps0 = [] # real part of rectangular form\n",
        "\n",
        "#     # set up distance origin\n",
        "#     h.distance(0, soma(.5))\n",
        "#     # set up electrotonic origin\n",
        "#     zz = h.Impedance()\n",
        "#     zz.loc(soma(.5))\n",
        "#     if extracellular_mechanism:\n",
        "#         zz.compute(freq + 1 / 9e9, 0) #*\n",
        "#     else:\n",
        "#         zz.compute(freq, 1)\n",
        "#     # measure distance\n",
        "#     for i, sec in enumerate(section_list):\n",
        "#         if sec_type[i]==1:\n",
        "#             transfer_imp=zz.transfer(sec(0.5/sec.nseg)) #*\n",
        "#             transfer_phase=zz.transfer_phase(sec(0.5/sec.nseg)) #*\n",
        "#             elec_dist0.append(transfer_imp) #*\n",
        "#             rect_complex=cmath.rect(transfer_imp,transfer_phase)\n",
        "#             transfer_imps.append(rect_complex.real) #*\n",
        "#         else:\n",
        "#             transfer_imp=zz.transfer(sec.parentseg()) #*\n",
        "#             transfer_phase=zz.transfer_phase(sec.parentseg()) #*\n",
        "#             elec_dist0.append(transfer_imp) #*\n",
        "#             rect_complex=cmath.rect(transfer_imp, transfer_phase) #*\n",
        "#             transfer_imps.append(rect_complex.real) #*\n",
        "#         for j, seg in enumerate(sec):\n",
        "#             swc_type.append(sec_type[i])\n",
        "#             seg_area.append(seg.area())\n",
        "#             seg_dist.append(h.distance(seg))\n",
        "#             seg_length.append(sec.L/sec.nseg)\n",
        "#             if j!=0:\n",
        "#                 elec_dist0.append(elec_dist[-1])\n",
        "#                 transfer_imps.append(transfer_imps0[-1])\n",
        "#             elec_dist.append(zz.transfer(seg)) #*\n",
        "#             transfer_imp=zz.transfer(seg) #*\n",
        "#             transfer_phase=zz.transfer_phase(seg) #*\n",
        "#             rect_complex=cmath.rect(transfer_imp,transfer_phase) #*\n",
        "#             transfer_imps0.append(rect_complex.real) #*\n",
        "\n",
        "#     seg_prop['swc_type'] = np.array(swc_type)\n",
        "#     seg_prop['seg_area'] = np.array(seg_area)\n",
        "\n",
        "#     # distance at endpoints of each segment\n",
        "#     seg_prop['distance'] = np.expand_dims(seg_dist, 1) + np.expand_dims(seg_length, 1) / 2 * np.array([[-1, 1]])\n",
        "#     # seg_prop['transfer_imp'] = np.sort(np.log(elec_dist0[0]) - np.log(np.column_stack([elec_dist0, elec_dist])), axis=1) #*\n",
        "#     seg_prop['transfer_imp_mod'] = np.sort(elec_dist0[0] - np.column_stack([elec_dist0, elec_dist]), axis=1) #*\n",
        "#     seg_prop['transfer_imp_real'] = np.sort(transfer_imps[0] - np.column_stack([transfer_imps, transfer_imps0]), axis=1) #*\n",
        "\n",
        "\n",
        "#     # change sign of basal and axon types\n",
        "#     idx = np.nonzero((seg_prop['swc_type']==2) | (seg_prop['swc_type']==3))[0]\n",
        "#     seg_prop['distance'][idx] = -seg_prop['distance'][idx,::-1]\n",
        "#     seg_prop['transfer_imp_mod'][idx] = -seg_prop['transfer_imp_mod'][idx,::-1] #*\n",
        "#     seg_prop['transfer_imp_real'][idx] = -seg_prop['transfer_imp_real'][idx,::-1] #*\n",
        "#     return seg_prop, zz.transfer(soma(.5)), zz.transfer_phase(soma(.5))\n"
      ]
    },
    {
      "cell_type": "code",
      "source": [
        "# #using modulus of polar form\n",
        "\n",
        "# for syn in cell.synapse:\n",
        "#     syn.set_gmax(0)\n",
        "# h.run()\n",
        "\n",
        "# sec_type_swc = {sec['name']: sec['type'] for _, sec in geometry.iterrows()}\n",
        "# sec_type = [sec_type_swc[sec.name().split('.')[-1]] for sec in cell.all]\n",
        "# freq = 0 # Hz\n",
        "# seg_prop, _, _ = measure_segment_transfer_impedance(cell.soma , cell.all, sec_type, freq)\n",
        "\n",
        "# select_seg = [[cell.sec_id_in_seg[sec[0]], cell.get_sec_by_id(sec[0]).nseg -1] for sec in cell.sec_id_lookup.values()]\n",
        "# select_seg = np.sum(np.array(select_seg), axis=1)\n",
        "# # select_seg = np.unique(np.cumsum(np.array(select_seg), axis=1).ravel())\n",
        "# _ = plot_variable_with_morphology(cell.seg_coords, seg_prop, Vm, t=t, axes=['x', 'y'],\n",
        "#                                   distance_type='transfer_imp_mod', n_dist=300,\n",
        "#                                   select_seg=select_seg, max_per_dist=1, varname='Membrane potential (mV)',\n",
        "#                                   space=2., normalized_space=True, sort_by_dist=True,\n",
        "#                                   figsize=(10, 10), fontsize=15, scalebar_size=50)"
      ],
      "metadata": {
        "id": "yHRymM0L5pJj"
      },
      "id": "yHRymM0L5pJj",
      "execution_count": 35,
      "outputs": []
    },
    {
      "cell_type": "code",
      "source": [
        "# #using real part of rectangular complex form\n",
        "\n",
        "# for syn in cell.synapse:\n",
        "#     syn.set_gmax(0)\n",
        "# h.run()\n",
        "\n",
        "# sec_type_swc = {sec['name']: sec['type'] for _, sec in geometry.iterrows()}\n",
        "# sec_type = [sec_type_swc[sec.name().split('.')[-1]] for sec in cell.all]\n",
        "# freq = 0 # Hz\n",
        "# seg_prop, _, _ = measure_segment_transfer_impedance(cell.soma , cell.all, sec_type, freq)\n",
        "\n",
        "# select_seg = [[cell.sec_id_in_seg[sec[0]], cell.get_sec_by_id(sec[0]).nseg -1] for sec in cell.sec_id_lookup.values()]\n",
        "# select_seg = np.sum(np.array(select_seg), axis=1)\n",
        "# # select_seg = np.unique(np.cumsum(np.array(select_seg), axis=1).ravel())\n",
        "# _ = plot_variable_with_morphology(cell.seg_coords, seg_prop, Vm, t=t, axes=['x', 'y'],\n",
        "#                                   distance_type='transfer_imp_real', n_dist=300,\n",
        "#                                   select_seg=select_seg, max_per_dist=1, varname='Membrane potential (mV)',\n",
        "#                                   space=2., normalized_space=True, sort_by_dist=True,\n",
        "#                                   figsize=(10, 10), fontsize=15, scalebar_size=50)"
      ],
      "metadata": {
        "id": "Ibbz1qMIjWu5"
      },
      "id": "Ibbz1qMIjWu5",
      "execution_count": 36,
      "outputs": []
    },
    {
      "cell_type": "markdown",
      "source": [
        "Transfer Impedance is a complex number"
      ],
      "metadata": {
        "id": "2eSHPclEP0I0"
      },
      "id": "2eSHPclEP0I0"
    },
    {
      "cell_type": "code",
      "source": [
        "# polar_modulus=1\n",
        "# polar_phase=3\n",
        "\n",
        "# complex_rectangular_form=cmath.rect(polar_modulus, polar_phase)\n",
        "# print(complex_rectangular_form)"
      ],
      "metadata": {
        "id": "PM8Xa3WATASj"
      },
      "id": "PM8Xa3WATASj",
      "execution_count": 37,
      "outputs": []
    },
    {
      "cell_type": "code",
      "source": [
        "# complex_rectangular_form.real"
      ],
      "metadata": {
        "id": "BZgkMzBpTLgL"
      },
      "id": "BZgkMzBpTLgL",
      "execution_count": 38,
      "outputs": []
    }
  ],
  "metadata": {
    "colab": {
      "provenance": [],
      "include_colab_link": true
    },
    "kernelspec": {
      "display_name": "Python 3 (ipykernel)",
      "language": "python",
      "name": "python3"
    },
    "language_info": {
      "codemirror_mode": {
        "name": "ipython",
        "version": 3
      },
      "file_extension": ".py",
      "mimetype": "text/x-python",
      "name": "python",
      "nbconvert_exporter": "python",
      "pygments_lexer": "ipython3",
      "version": "3.9.12"
    },
    "widgets": {
      "application/vnd.jupyter.widget-state+json": {
        "0ff7df67ff8240f982b5972688dcd7ce": {
          "model_module": "@jupyter-widgets/controls",
          "model_name": "VBoxModel",
          "model_module_version": "1.5.0",
          "state": {
            "_dom_classes": [],
            "_model_module": "@jupyter-widgets/controls",
            "_model_module_version": "1.5.0",
            "_model_name": "VBoxModel",
            "_view_count": null,
            "_view_module": "@jupyter-widgets/controls",
            "_view_module_version": "1.5.0",
            "_view_name": "VBoxView",
            "box_style": "",
            "children": [
              "IPY_MODEL_b75399a903d646209480f5daf201c810",
              "IPY_MODEL_3874fee3675d4fc1822a7d041c966e49",
              "IPY_MODEL_e337ce1f98e946d8b212995f7c1a3289"
            ],
            "layout": "IPY_MODEL_8982c22255fd4b97b169c391088b142a"
          }
        },
        "b75399a903d646209480f5daf201c810": {
          "model_module": "@jupyter-widgets/controls",
          "model_name": "ButtonModel",
          "model_module_version": "1.5.0",
          "state": {
            "_dom_classes": [],
            "_model_module": "@jupyter-widgets/controls",
            "_model_module_version": "1.5.0",
            "_model_name": "ButtonModel",
            "_view_count": null,
            "_view_module": "@jupyter-widgets/controls",
            "_view_module_version": "1.5.0",
            "_view_name": "ButtonView",
            "button_style": "primary",
            "description": "Reset",
            "disabled": false,
            "icon": "history",
            "layout": "IPY_MODEL_a190358b914844c9a8be03102ce7e139",
            "style": "IPY_MODEL_3d0135ad44b8446bb5e8e296b0468a51",
            "tooltip": ""
          }
        },
        "3874fee3675d4fc1822a7d041c966e49": {
          "model_module": "@jupyter-widgets/controls",
          "model_name": "HBoxModel",
          "model_module_version": "1.5.0",
          "state": {
            "_dom_classes": [],
            "_model_module": "@jupyter-widgets/controls",
            "_model_module_version": "1.5.0",
            "_model_name": "HBoxModel",
            "_view_count": null,
            "_view_module": "@jupyter-widgets/controls",
            "_view_module_version": "1.5.0",
            "_view_name": "HBoxView",
            "box_style": "",
            "children": [
              "IPY_MODEL_1f0c173747194756bdcf013f3f7a2da9",
              "IPY_MODEL_a9d3dd9dbcc340fe98a8b08921140b90"
            ],
            "layout": "IPY_MODEL_1a58d4201182436dbec55d1d13b8d20b"
          }
        },
        "e337ce1f98e946d8b212995f7c1a3289": {
          "model_module": "@jupyter-widgets/controls",
          "model_name": "HBoxModel",
          "model_module_version": "1.5.0",
          "state": {
            "_dom_classes": [],
            "_model_module": "@jupyter-widgets/controls",
            "_model_module_version": "1.5.0",
            "_model_name": "HBoxModel",
            "_view_count": null,
            "_view_module": "@jupyter-widgets/controls",
            "_view_module_version": "1.5.0",
            "_view_name": "HBoxView",
            "box_style": "",
            "children": [
              "IPY_MODEL_081b86670ff3448d9a0938e65c937019",
              "IPY_MODEL_d1635c38af8540999b0dfa39fbd66ad7"
            ],
            "layout": "IPY_MODEL_b40f88a1e0694275806c180f3623df79"
          }
        },
        "8982c22255fd4b97b169c391088b142a": {
          "model_module": "@jupyter-widgets/base",
          "model_name": "LayoutModel",
          "model_module_version": "1.2.0",
          "state": {
            "_model_module": "@jupyter-widgets/base",
            "_model_module_version": "1.2.0",
            "_model_name": "LayoutModel",
            "_view_count": null,
            "_view_module": "@jupyter-widgets/base",
            "_view_module_version": "1.2.0",
            "_view_name": "LayoutView",
            "align_content": null,
            "align_items": null,
            "align_self": null,
            "border": null,
            "bottom": null,
            "display": null,
            "flex": null,
            "flex_flow": null,
            "grid_area": null,
            "grid_auto_columns": null,
            "grid_auto_flow": null,
            "grid_auto_rows": null,
            "grid_column": null,
            "grid_gap": null,
            "grid_row": null,
            "grid_template_areas": null,
            "grid_template_columns": null,
            "grid_template_rows": null,
            "height": null,
            "justify_content": null,
            "justify_items": null,
            "left": null,
            "margin": null,
            "max_height": null,
            "max_width": null,
            "min_height": null,
            "min_width": null,
            "object_fit": null,
            "object_position": null,
            "order": null,
            "overflow": null,
            "overflow_x": null,
            "overflow_y": null,
            "padding": null,
            "right": null,
            "top": null,
            "visibility": null,
            "width": null
          }
        },
        "a190358b914844c9a8be03102ce7e139": {
          "model_module": "@jupyter-widgets/base",
          "model_name": "LayoutModel",
          "model_module_version": "1.2.0",
          "state": {
            "_model_module": "@jupyter-widgets/base",
            "_model_module_version": "1.2.0",
            "_model_name": "LayoutModel",
            "_view_count": null,
            "_view_module": "@jupyter-widgets/base",
            "_view_module_version": "1.2.0",
            "_view_name": "LayoutView",
            "align_content": null,
            "align_items": null,
            "align_self": null,
            "border": null,
            "bottom": null,
            "display": null,
            "flex": null,
            "flex_flow": null,
            "grid_area": null,
            "grid_auto_columns": null,
            "grid_auto_flow": null,
            "grid_auto_rows": null,
            "grid_column": null,
            "grid_gap": null,
            "grid_row": null,
            "grid_template_areas": null,
            "grid_template_columns": null,
            "grid_template_rows": null,
            "height": null,
            "justify_content": null,
            "justify_items": null,
            "left": null,
            "margin": null,
            "max_height": null,
            "max_width": null,
            "min_height": null,
            "min_width": null,
            "object_fit": null,
            "object_position": null,
            "order": null,
            "overflow": null,
            "overflow_x": null,
            "overflow_y": null,
            "padding": null,
            "right": null,
            "top": null,
            "visibility": null,
            "width": null
          }
        },
        "3d0135ad44b8446bb5e8e296b0468a51": {
          "model_module": "@jupyter-widgets/controls",
          "model_name": "ButtonStyleModel",
          "model_module_version": "1.5.0",
          "state": {
            "_model_module": "@jupyter-widgets/controls",
            "_model_module_version": "1.5.0",
            "_model_name": "ButtonStyleModel",
            "_view_count": null,
            "_view_module": "@jupyter-widgets/base",
            "_view_module_version": "1.2.0",
            "_view_name": "StyleView",
            "button_color": null,
            "font_weight": ""
          }
        },
        "1f0c173747194756bdcf013f3f7a2da9": {
          "model_module": "@jupyter-widgets/controls",
          "model_name": "VBoxModel",
          "model_module_version": "1.5.0",
          "state": {
            "_dom_classes": [],
            "_model_module": "@jupyter-widgets/controls",
            "_model_module_version": "1.5.0",
            "_model_name": "VBoxModel",
            "_view_count": null,
            "_view_module": "@jupyter-widgets/controls",
            "_view_module_version": "1.5.0",
            "_view_name": "VBoxView",
            "box_style": "",
            "children": [
              "IPY_MODEL_3ee1973ddfee46ab8fb51a018b7b6d2f",
              "IPY_MODEL_f48bf266ff2840d18166830f068429e2",
              "IPY_MODEL_8158acc98f9641da99920ce53e06bb71"
            ],
            "layout": "IPY_MODEL_460aeb3bc09843a791f14d6ff57de599"
          }
        },
        "a9d3dd9dbcc340fe98a8b08921140b90": {
          "model_module": "@jupyter-widgets/controls",
          "model_name": "VBoxModel",
          "model_module_version": "1.5.0",
          "state": {
            "_dom_classes": [],
            "_model_module": "@jupyter-widgets/controls",
            "_model_module_version": "1.5.0",
            "_model_name": "VBoxModel",
            "_view_count": null,
            "_view_module": "@jupyter-widgets/controls",
            "_view_module_version": "1.5.0",
            "_view_name": "VBoxView",
            "box_style": "",
            "children": [
              "IPY_MODEL_53779b5568b3426b989dc0c81558b1ff",
              "IPY_MODEL_bd5c8ef91315495f93ad48b903f92c96",
              "IPY_MODEL_28bdc03d8c1745e68bbb979d2d6d4879"
            ],
            "layout": "IPY_MODEL_e82ad39111b248f2abff229224329406"
          }
        },
        "1a58d4201182436dbec55d1d13b8d20b": {
          "model_module": "@jupyter-widgets/base",
          "model_name": "LayoutModel",
          "model_module_version": "1.2.0",
          "state": {
            "_model_module": "@jupyter-widgets/base",
            "_model_module_version": "1.2.0",
            "_model_name": "LayoutModel",
            "_view_count": null,
            "_view_module": "@jupyter-widgets/base",
            "_view_module_version": "1.2.0",
            "_view_name": "LayoutView",
            "align_content": null,
            "align_items": null,
            "align_self": null,
            "border": null,
            "bottom": null,
            "display": null,
            "flex": null,
            "flex_flow": null,
            "grid_area": null,
            "grid_auto_columns": null,
            "grid_auto_flow": null,
            "grid_auto_rows": null,
            "grid_column": null,
            "grid_gap": null,
            "grid_row": null,
            "grid_template_areas": null,
            "grid_template_columns": null,
            "grid_template_rows": null,
            "height": null,
            "justify_content": null,
            "justify_items": null,
            "left": null,
            "margin": null,
            "max_height": null,
            "max_width": null,
            "min_height": null,
            "min_width": null,
            "object_fit": null,
            "object_position": null,
            "order": null,
            "overflow": null,
            "overflow_x": null,
            "overflow_y": null,
            "padding": null,
            "right": null,
            "top": null,
            "visibility": null,
            "width": null
          }
        },
        "081b86670ff3448d9a0938e65c937019": {
          "model_module": "@jupyter-widgets/controls",
          "model_name": "VBoxModel",
          "model_module_version": "1.5.0",
          "state": {
            "_dom_classes": [],
            "_model_module": "@jupyter-widgets/controls",
            "_model_module_version": "1.5.0",
            "_model_name": "VBoxModel",
            "_view_count": null,
            "_view_module": "@jupyter-widgets/controls",
            "_view_module_version": "1.5.0",
            "_view_name": "VBoxView",
            "box_style": "",
            "children": [
              "IPY_MODEL_0536e81893b94cc7b377ee07a564c3bc",
              "IPY_MODEL_5251aa490ecd4a7f83d5515879b4903e"
            ],
            "layout": "IPY_MODEL_f8509946109d4bbda09bc24708801a70"
          }
        },
        "d1635c38af8540999b0dfa39fbd66ad7": {
          "model_module": "@jupyter-widgets/controls",
          "model_name": "FloatSliderModel",
          "model_module_version": "1.5.0",
          "state": {
            "_dom_classes": [],
            "_model_module": "@jupyter-widgets/controls",
            "_model_module_version": "1.5.0",
            "_model_name": "FloatSliderModel",
            "_view_count": null,
            "_view_module": "@jupyter-widgets/controls",
            "_view_module_version": "1.5.0",
            "_view_name": "FloatSliderView",
            "continuous_update": false,
            "description": "elev (deg)",
            "description_tooltip": null,
            "disabled": false,
            "layout": "IPY_MODEL_d78d7777168942358f004cbf0dff585c",
            "max": 90,
            "min": -90,
            "orientation": "vertical",
            "readout": true,
            "readout_format": ".0f",
            "step": 1,
            "style": "IPY_MODEL_ea99d3d7cc9a4c37999a43e24a05f012",
            "value": -10
          }
        },
        "b40f88a1e0694275806c180f3623df79": {
          "model_module": "@jupyter-widgets/base",
          "model_name": "LayoutModel",
          "model_module_version": "1.2.0",
          "state": {
            "_model_module": "@jupyter-widgets/base",
            "_model_module_version": "1.2.0",
            "_model_name": "LayoutModel",
            "_view_count": null,
            "_view_module": "@jupyter-widgets/base",
            "_view_module_version": "1.2.0",
            "_view_name": "LayoutView",
            "align_content": null,
            "align_items": null,
            "align_self": null,
            "border": null,
            "bottom": null,
            "display": null,
            "flex": null,
            "flex_flow": null,
            "grid_area": null,
            "grid_auto_columns": null,
            "grid_auto_flow": null,
            "grid_auto_rows": null,
            "grid_column": null,
            "grid_gap": null,
            "grid_row": null,
            "grid_template_areas": null,
            "grid_template_columns": null,
            "grid_template_rows": null,
            "height": null,
            "justify_content": null,
            "justify_items": null,
            "left": null,
            "margin": null,
            "max_height": null,
            "max_width": null,
            "min_height": null,
            "min_width": null,
            "object_fit": null,
            "object_position": null,
            "order": null,
            "overflow": null,
            "overflow_x": null,
            "overflow_y": null,
            "padding": null,
            "right": null,
            "top": null,
            "visibility": null,
            "width": null
          }
        },
        "3ee1973ddfee46ab8fb51a018b7b6d2f": {
          "model_module": "@jupyter-widgets/controls",
          "model_name": "FloatSliderModel",
          "model_module_version": "1.5.0",
          "state": {
            "_dom_classes": [],
            "_model_module": "@jupyter-widgets/controls",
            "_model_module_version": "1.5.0",
            "_model_name": "FloatSliderModel",
            "_view_count": null,
            "_view_module": "@jupyter-widgets/controls",
            "_view_module_version": "1.5.0",
            "_view_name": "FloatSliderView",
            "continuous_update": false,
            "description": "x (um)",
            "description_tooltip": null,
            "disabled": false,
            "layout": "IPY_MODEL_aa17a161cade4ff7a48e9f7f36d5d1dc",
            "max": 200,
            "min": -200,
            "orientation": "horizontal",
            "readout": true,
            "readout_format": ".0f",
            "step": 1,
            "style": "IPY_MODEL_05b16c78996f4ed1bd2c351759e42cd7",
            "value": 0
          }
        },
        "f48bf266ff2840d18166830f068429e2": {
          "model_module": "@jupyter-widgets/controls",
          "model_name": "FloatSliderModel",
          "model_module_version": "1.5.0",
          "state": {
            "_dom_classes": [],
            "_model_module": "@jupyter-widgets/controls",
            "_model_module_version": "1.5.0",
            "_model_name": "FloatSliderModel",
            "_view_count": null,
            "_view_module": "@jupyter-widgets/controls",
            "_view_module_version": "1.5.0",
            "_view_name": "FloatSliderView",
            "continuous_update": false,
            "description": "y (um)",
            "description_tooltip": null,
            "disabled": false,
            "layout": "IPY_MODEL_b51054b2625d4827980d7d368a9dbffb",
            "max": 1000,
            "min": -1000,
            "orientation": "horizontal",
            "readout": true,
            "readout_format": ".0f",
            "step": 1,
            "style": "IPY_MODEL_509405fa349b41a7afe6832768fd6f6f",
            "value": 0
          }
        },
        "8158acc98f9641da99920ce53e06bb71": {
          "model_module": "@jupyter-widgets/controls",
          "model_name": "FloatSliderModel",
          "model_module_version": "1.5.0",
          "state": {
            "_dom_classes": [],
            "_model_module": "@jupyter-widgets/controls",
            "_model_module_version": "1.5.0",
            "_model_name": "FloatSliderModel",
            "_view_count": null,
            "_view_module": "@jupyter-widgets/controls",
            "_view_module_version": "1.5.0",
            "_view_name": "FloatSliderView",
            "continuous_update": false,
            "description": "z (um)",
            "description_tooltip": null,
            "disabled": false,
            "layout": "IPY_MODEL_ca6754423825454e827f69a4dd1598ec",
            "max": 400,
            "min": 20,
            "orientation": "horizontal",
            "readout": true,
            "readout_format": ".0f",
            "step": 1,
            "style": "IPY_MODEL_c180c56d161e4ec097cdd1d40833026f",
            "value": 80
          }
        },
        "460aeb3bc09843a791f14d6ff57de599": {
          "model_module": "@jupyter-widgets/base",
          "model_name": "LayoutModel",
          "model_module_version": "1.2.0",
          "state": {
            "_model_module": "@jupyter-widgets/base",
            "_model_module_version": "1.2.0",
            "_model_name": "LayoutModel",
            "_view_count": null,
            "_view_module": "@jupyter-widgets/base",
            "_view_module_version": "1.2.0",
            "_view_name": "LayoutView",
            "align_content": null,
            "align_items": null,
            "align_self": null,
            "border": null,
            "bottom": null,
            "display": null,
            "flex": null,
            "flex_flow": null,
            "grid_area": null,
            "grid_auto_columns": null,
            "grid_auto_flow": null,
            "grid_auto_rows": null,
            "grid_column": null,
            "grid_gap": null,
            "grid_row": null,
            "grid_template_areas": null,
            "grid_template_columns": null,
            "grid_template_rows": null,
            "height": null,
            "justify_content": null,
            "justify_items": null,
            "left": null,
            "margin": null,
            "max_height": null,
            "max_width": null,
            "min_height": null,
            "min_width": null,
            "object_fit": null,
            "object_position": null,
            "order": null,
            "overflow": null,
            "overflow_x": null,
            "overflow_y": null,
            "padding": null,
            "right": null,
            "top": null,
            "visibility": null,
            "width": null
          }
        },
        "53779b5568b3426b989dc0c81558b1ff": {
          "model_module": "@jupyter-widgets/controls",
          "model_name": "FloatSliderModel",
          "model_module_version": "1.5.0",
          "state": {
            "_dom_classes": [],
            "_model_module": "@jupyter-widgets/controls",
            "_model_module_version": "1.5.0",
            "_model_name": "FloatSliderModel",
            "_view_count": null,
            "_view_module": "@jupyter-widgets/controls",
            "_view_module_version": "1.5.0",
            "_view_name": "FloatSliderView",
            "continuous_update": false,
            "description": "alpha (deg)",
            "description_tooltip": null,
            "disabled": false,
            "layout": "IPY_MODEL_885977938671411f8ea437a2c42b0466",
            "max": 180,
            "min": -180,
            "orientation": "horizontal",
            "readout": true,
            "readout_format": ".0f",
            "step": 1,
            "style": "IPY_MODEL_b3790e03afcb44169d0365a2e77654ca",
            "value": 0
          }
        },
        "bd5c8ef91315495f93ad48b903f92c96": {
          "model_module": "@jupyter-widgets/controls",
          "model_name": "FloatSliderModel",
          "model_module_version": "1.5.0",
          "state": {
            "_dom_classes": [],
            "_model_module": "@jupyter-widgets/controls",
            "_model_module_version": "1.5.0",
            "_model_name": "FloatSliderModel",
            "_view_count": null,
            "_view_module": "@jupyter-widgets/controls",
            "_view_module_version": "1.5.0",
            "_view_name": "FloatSliderView",
            "continuous_update": false,
            "description": "beta (deg)",
            "description_tooltip": null,
            "disabled": false,
            "layout": "IPY_MODEL_414bf5eea1b44041991c6de330d81394",
            "max": 180,
            "min": 0,
            "orientation": "horizontal",
            "readout": true,
            "readout_format": ".0f",
            "step": 1,
            "style": "IPY_MODEL_472e756b6f2742bda6c3e52479be47c0",
            "value": 0
          }
        },
        "28bdc03d8c1745e68bbb979d2d6d4879": {
          "model_module": "@jupyter-widgets/controls",
          "model_name": "FloatSliderModel",
          "model_module_version": "1.5.0",
          "state": {
            "_dom_classes": [],
            "_model_module": "@jupyter-widgets/controls",
            "_model_module_version": "1.5.0",
            "_model_name": "FloatSliderModel",
            "_view_count": null,
            "_view_module": "@jupyter-widgets/controls",
            "_view_module_version": "1.5.0",
            "_view_name": "FloatSliderView",
            "continuous_update": false,
            "description": "phi (deg)",
            "description_tooltip": null,
            "disabled": false,
            "layout": "IPY_MODEL_7d37e2270292492a976b84b0441d8496",
            "max": 180,
            "min": -180,
            "orientation": "horizontal",
            "readout": true,
            "readout_format": ".0f",
            "step": 1,
            "style": "IPY_MODEL_51ab9aa4af064d24839b09db564bc4f0",
            "value": 0
          }
        },
        "e82ad39111b248f2abff229224329406": {
          "model_module": "@jupyter-widgets/base",
          "model_name": "LayoutModel",
          "model_module_version": "1.2.0",
          "state": {
            "_model_module": "@jupyter-widgets/base",
            "_model_module_version": "1.2.0",
            "_model_name": "LayoutModel",
            "_view_count": null,
            "_view_module": "@jupyter-widgets/base",
            "_view_module_version": "1.2.0",
            "_view_name": "LayoutView",
            "align_content": null,
            "align_items": null,
            "align_self": null,
            "border": null,
            "bottom": null,
            "display": null,
            "flex": null,
            "flex_flow": null,
            "grid_area": null,
            "grid_auto_columns": null,
            "grid_auto_flow": null,
            "grid_auto_rows": null,
            "grid_column": null,
            "grid_gap": null,
            "grid_row": null,
            "grid_template_areas": null,
            "grid_template_columns": null,
            "grid_template_rows": null,
            "height": null,
            "justify_content": null,
            "justify_items": null,
            "left": null,
            "margin": null,
            "max_height": null,
            "max_width": null,
            "min_height": null,
            "min_width": null,
            "object_fit": null,
            "object_position": null,
            "order": null,
            "overflow": null,
            "overflow_x": null,
            "overflow_y": null,
            "padding": null,
            "right": null,
            "top": null,
            "visibility": null,
            "width": null
          }
        },
        "0536e81893b94cc7b377ee07a564c3bc": {
          "model_module": "@jupyter-widgets/output",
          "model_name": "OutputModel",
          "model_module_version": "1.0.0",
          "state": {
            "_dom_classes": [],
            "_model_module": "@jupyter-widgets/output",
            "_model_module_version": "1.0.0",
            "_model_name": "OutputModel",
            "_view_count": null,
            "_view_module": "@jupyter-widgets/output",
            "_view_module_version": "1.0.0",
            "_view_name": "OutputView",
            "layout": "IPY_MODEL_b54f62773a7f4f9e8081ede9a458d1fa",
            "msg_id": "",
            "outputs": [
              {
                "output_type": "display_data",
                "data": {
                  "text/plain": "<Figure size 1200x800 with 1 Axes>",
                  "image/png": "iVBORw0KGgoAAAANSUhEUgAAAnwAAAJ8CAYAAABk7XxWAAAAOXRFWHRTb2Z0d2FyZQBNYXRwbG90bGliIHZlcnNpb24zLjcuMSwgaHR0cHM6Ly9tYXRwbG90bGliLm9yZy/bCgiHAAAACXBIWXMAAA9hAAAPYQGoP6dpAAEAAElEQVR4nOydd3xUVd7/39NSJpOeTBqEEgKE3psiWB5FsSDurmsFUXddZRWlPViRVVZFsOyqPLsgsbC7zxbLs+uu6E+kCYJSFEGKtJBkkklC2mQm039/ZOduJpkkM5OZzE1y3q9XYOaee8753nbuZ77nnO9RuN1uNwKBQCAQCASCHosy0gYIBAKBQCAQCMKLEHwCgUAgEAgEPRwh+AQCgUAgEAh6OELwCQQCgUAgEPRwhOATCAQCgUAg6OEIwScQCAQCgUDQwxGCTyAQCAQCgaCHIwSfQCAQCAQCQQ9HCD6BQCAQCASCHo4QfAKBQCAQCAQ9HCH4BAKBQCAQCHo4QvAJBAKBQCAQ9HCE4BMIBAKBQCDo4QjBJxAIBAKBQNDDEYJPIBAIBAKBoIejjrQBAoFAIBAIgsflcmGz2SJthiAMaDQaVCpVSMoSgk8gEAgEgm6KzWbjzJkzuFyuSJsiCBNJSUlkZmaiUCg6VY4QfAKBQCAQdEPcbjcGgwGVSkXfvn1RKsUorZ6E2+3GbDZjNBoByMrK6lR5QvAJBAKBQNANcTgcmM1msrOz0Wq1kTZHEAZiY2MBMBqN6PX6TnXvip8DAoFAIBB0Q5xOJwBRUVERtkQQTjxi3m63d6ocIfgEAoFAIOjGdHZsl0DehOr6CsEnEAgEAoFA0MMRgk8gEAgEAkGvR6FQoFAoSEpKCijf/PnzpbwffPBBWGwLBULwCQQCgUAgEACbNm3ixIkTXtu2bdvGuHHjiI6OZtCgQRQWFnqlv/LKKxgMhi60MjiE4BMIBAKBQCCgKeadXq+Xvp85c4bZs2dz6aWXcujQIRYtWsQ999zDli1bpH0SExPJzMyMhLkBIQSfQCAQCASCLuWvf/0rI0eOJDY2ltTUVK644goaGhpwuVysWrWKPn36EB0dzZgxY/j444+lfGfPnkWhUPDnP/+Z6dOnExsby8SJEzlx4gRfffUVEyZMQKfTcfXVV1NRUSHl++qrr/iv//ov0tLSSExMZMaMGRw4cKBDO9evX8+AAQNYu3YtBQUFLFy4kB/96Ee89NJLYTkv4UTE4RMIBAKBoAfgCdQbCbRard+zSQ0GA7fccgsvvPACN954I/X19ezcuRO3280rr7zC2rVr+Z//+R/Gjh3Lm2++yfXXX8+RI0fIz8+Xynjqqad4+eWXyc3NZcGCBdx6663Ex8fzyiuvoNVq+clPfsKTTz7JG2+8AUB9fT3z5s3jN7/5DW63m7Vr13LNNddw8uRJ4uPj27R1z549XHHFFV7brrrqKhYtWhT4SYowQvAJBAKBQNADMJvN6HS6iNRtMpmIi4vza1+DwYDD4WDu3Ln069cPgJEjRwLw4osvsnz5cn76058C8Pzzz/P555/z8ssv89prr0llLFmyhKuuugqAhx56iFtuuYXPPvuMiy66CIC7777ba6zdZZdd5mXD7373O5KSkti+fTvXXnttm7aWlZWRkZHhtS0jI4O6ujosFosUGLk7ILp0BQKBQCAQdBmjR4/m8ssvZ+TIkfz4xz/m97//PdXV1dTV1VFaWiqJNg8XXXQR33//vde2UaNGSZ89gswjGj3bPEuSAZSXl3PvvfeSn59PYmIiCQkJmEwmioqKwnGIskR4+AQCgUAg6AFotVpMJlPE6vYXlUrFp59+yu7du/nkk0/4zW9+w2OPPcann37qdxkajUb67OlKbrnN5XJJ3+fNm0dVVRWvvPIK/fr1Izo6mqlTp2Kz2dqtJzMzk/Lycq9t5eXlJCQkdCvvHgjBJxAIBAJBj0ChUPjdrRppFAoFF110ERdddBFPPvkk/fr147PPPiM7O5svvviCGTNmSPt+8cUXTJo0qVP1ffHFF7z++utcc801AJw/f57KysoO802dOpV//vOfXts+/fRTpk6d2il7IoEQfAKBQCAQCLqMvXv38tlnn3HllVei1+vZu3cvFRUVFBQUsHTpUp566iny8vIYM2YMmzZt4tChQ2zevLlTdebn5/POO+8wYcIE6urqWLp0qV8euvvuu4/f/va3LFu2jAULFrB161b+/Oc/89FHH3XKnkggBJ9AIBAIBIIuIyEhgR07dvDyyy9TV1dHv379WLt2LVdffTVXXXUVtbW1LF68GKPRyLBhw/i///s/rxm6wbBx40Z+9rOfMW7cOPr27cvq1atZsmRJh/kGDBjARx99xMMPP8wrr7xCnz592LBhgzRhpDuhcLvd7kgbIRAIBAKBIDAaGxs5c+YMAwYMICYmJtLmdHsUCgXvv/8+c+bMiUj+tgjVdRazdAUCgUAgEAiAW265hT59+gSU57777otYOJxAEF26AoFAIBAIej0nT54EmmYRB8KqVauk7uGsrKyQ2xUqhOATCAQCgUDQ6xk0aFBQ+fR6vdf6u3JFdOkKBAKBQCAQ9HCE4BMIBAKBQCDo4QjBJxAIBAKBQNDDEYJPIBAIBAKBoIcjBJ9AIBAIBAJBD0cIPoFAIBAIBIIejhB8AoFAIBAIIs7MmTNZtGhRWOuYP3++10oYM2fORKFQoFAoOHTokN/lFBYWSvnCbXOoEIJPIBAIBAJBr+Xee+/FYDAwYsQIaVtRURGzZ89Gq9Wi1+tZunQpDodDSr/55psxGAxMnTo1EiYHhQi8LBAIBAKBoNei1WrJzMyUvjudTmbPnk1mZia7d+/GYDBw5513otFoWL16NQCxsbHExsYSFRUVKbMDRnj4BAKBQCAQdCkNDQ3ceeed6HQ6srKyWLt2rVe61WplyZIl5OTkEBcXx+TJk9m2bZuUXlhYSFJSElu2bKGgoACdTsesWbMwGAzSPk6nk0ceeYSkpCRSU1NZtmwZbre7Q9s++eQTjh49yrvvvsuYMWO4+uqr+dWvfsVrr72GzWYL2TnoaoTgEwgEAoGgJ+B2Q0NDZP78EFLNWbp0Kdu3b+fDDz/kk08+Ydu2bRw4cEBKX7hwIXv27OFPf/oT3377LT/+8Y+ZNWuWtN4tgNls5sUXX+Sdd95hx44dFBUVSWvaAqxdu5bCwkLefPNNdu3axYULF3j//fc7tG3Pnj2MHDmSjIwMadtVV11FXV0dR44cCeg45YTo0hUIBAKBoCdgNoNOF5m6TSaIi/NzVxMbN27k3Xff5fLLLwfgrbfeok+fPkDT+LlNmzZRVFREdnY2AEuWLOHjjz9m06ZNUreq3W5n/fr15OXlAU0icdWqVVI9L7/8MitWrGDu3LkArF+/ni1btnRoX1lZmZfYA6TvZWVlfh2jHBGCTyAQCAQCQZdx6tQpbDYbkydPlralpKQwZMgQAA4fPozT6WTw4MFe+axWK6mpqdJ3rVYriT2ArKwsjEYjALW1tRgMBq861Go1EyZM8KtbtyciBJ9AIBAIBD0BrbbJ0xapukOEyWRCpVKxf/9+VCqVV5qumQdTo9F4pSkUipCIuczMTPbt2+e1rby8XErrrgjBJxAIBAJBT0Ch8LtbNZLk5eWh0WjYu3cvubm5AFRXV3PixAlmzJjB2LFjcTqdGI1Gpk+fHlQdiYmJZGVlsXfvXi655BIAHA4H+/fvZ9y4ce3mnTp1Ks8++yxGoxG9Xg/Ap59+SkJCAsOGDQvKHjkgBJ9AIBAIBIIuQ6fTcffdd7N06VJSU1PR6/U89thjKJVN80gHDx7Mbbfdxp133snatWsZO3YsFRUVfPbZZ4waNYrZs2f7Vc9DDz3Ec889R35+PkOHDmXdunXU1NR0mO/KK69k2LBh3HHHHbzwwguUlZXx+OOP88ADDxAdHd2ZQ48oQvAJBAKBQCDoUtasWYPJZOK6664jPj6exYsXU1tbK6Vv2rSJZ555hsWLF1NSUkJaWhpTpkzh2muv9buOxYsXYzAYmDdvHkqlkgULFnDjjTd61eMLlUrFP/7xD37xi18wdepU4uLimDdvnteEkO6Iwt1bRy8KBAKBQNCNaWxs5MyZMwwYMICYmJhIm9MtmTlzJmPGjOHll1+OSH5/CNV1FnH4BAKBQCAQ9Fpef/11dDodhw8f9jvP5s2b0el07Ny5M4yWhRbRpSsQCAQCgaBXsnnzZiwWC4A0gcQfrr/+einkS1JSUjhMCzlC8AkEAoFAIOiV5OTkBJUvPj6e+Pj4EFsTXkSXrkAgEAgEAkEPRwg+gUAgEAgEgh6OEHwCgUAgEAgEPRwh+AQCgUAgEAh6OELwCQQCgUAgEPRwhOATCAQCgUAg6OEIwScQCAQCgSDizJw5k0WLFoW1jvnz5zNnzhyvOhUKBQqFgkOHDvldzrZt26R8zcuTM0LwCQQCgUAg6LXce++9GAwGRowYIW178MEHGT9+PNHR0YwZM6ZVnmnTpmEwGPjJT37ShZZ2DiH4BAKBQCAQ9Fq0Wi2ZmZmo1d5rUSxYsICbb77ZZ56oqCgyMzOJjY3tChNDghB8AoFAIBAIupSGhgbuvPNOdDodWVlZrF271ivdarWyZMkScnJyiIuLY/LkyWzbtk1KLywsJCkpiS1btlBQUIBOp2PWrFkYDAZpH6fTySOPPEJSUhKpqaksW7YMt9vtl32vvvoqDzzwAAMHDgzJ8coBIfgEAoFAIOgJuN3Q0BCZPz+FlIelS5eyfft2PvzwQz755BO2bdvGgQMHpPSFCxeyZ88e/vSnP/Htt9/y4x//mFmzZnHy5ElpH7PZzIsvvsg777zDjh07KCoqYsmSJVL62rVrKSws5M0332TXrl1cuHCB999/v/PnuZsi1tIVCAQCgaAnYDaDTheZuk0miIvzc1cTGzdu5N133+Xyyy8H4K233qJPnz4AFBUVsWnTJoqKisjOzgZgyZIlfPzxx2zatInVq1cDYLfbWb9+PXl5eUCTSFy1apVUz8svv8yKFSuYO3cuAOvXr2fLli2hOd5uiBB8AoFAIBAIuoxTp05hs9mYPHmytC0lJYUhQ4YAcPjwYZxOJ4MHD/bKZ7VaSU1Nlb5rtVpJ7AFkZWVhNBoBqK2txWAweNWhVquZMGGC3926PQ0h+AQCgUAg6AlotU2etkjVHSJMJhMqlYr9+/ejUqm80nTNPJgajcYrTaFQ9Fox5w9C8AkEAoFA0BNQKPzuVo0keXl5aDQa9u7dS25uLgDV1dWcOHGCGTNmMHbsWJxOJ0ajkenTpwdVR2JiIllZWezdu5dLLrkEAIfDwf79+xk3blzIjqU7IQSfQCAQCASCLkOn03H33XezdOlSUlNT0ev1PPbYYyiVTfNIBw8ezG233cadd97J2rVrGTt2LBUVFXz22WeMGjWK2bNn+1XPQw89xHPPPUd+fj5Dhw5l3bp11NTU+JX3hx9+wGQyUVZWhsVikYIyDxs2jKioqGAOO+IIwScQCAQCgaBLWbNmDSaTieuuu474+HgWL15MbW2tlL5p0yaeeeYZFi9eTElJCWlpaUyZMoVrr73W7zoWL16MwWBg3rx5KJVKFixYwI033uhVT1vcc889bN++Xfo+duxYAM6cOUP//v39P1AZoXCLDm+BQCAQCLodjY2NnDlzhgEDBhATExNpc7olM2fOZMyYMbz88stB5Z8/fz41NTV88MEHIbWrOaG6ziIOn0AgEAgEgl7L66+/jk6n4/Dhw37n2blzJzqdjs2bN4fRstAiunQFAoFAIBD0SjZv3ozFYgGQJpD4w4QJE6RxfbpIxT4MECH4BAKBQCAQ9EpycnKCyhcbG8ugQYNCbE14EV26AoFAIBAIBD0cIfgEAoFAIBAIejhC8AkEAoFAIBD0cITgEwgEAoFAIOjhCMEnEAgEAoFA0MMRgk8gEAgEAkHEmTlzJosWLQprHfPnz2fOnDledSoUChQKhRRmxR8KCwulfOG2OVQIwScQCAQCgaDXcu+992IwGBgxYgQA33zzDbfccgt9+/YlNjaWgoICXnnlFa88N998MwaDgalTp0bC5KAQcfgEAoFAIBD0WrRaLZmZmdL3/fv3o9freffdd+nbty+7d+/mZz/7GSqVioULFwJNcfhiY2OJioqKlNkBIzx8AoFAIBAIupSGhgbuvPNOdDodWVlZrF271ivdarWyZMkScnJyiIuLY/LkyWzbtk1KLywsJCkpiS1btlBQUIBOp2PWrFkYDAZpH6fTySOPPEJSUhKpqaksW7YMt9vdoW0LFizglVdeYcaMGQwcOJDbb7+du+66i/feey9kxx8JhOATCAQCgaAn4HZDQ0Nk/vwQUs1ZunQp27dv58MPP+STTz5h27ZtHDhwQEpfuHAhe/bs4U9/+hPffvstP/7xj5k1axYnT56U9jGbzbz44ou888477Nixg6KiIpYsWSKlr127lsLCQt5880127drFhQsXeP/994M6tbW1taSkpASVVy6ILl2BQCAQCHoCZjNEal1Xkwni4vzc1cTGjRt59913ufzyywF466236NOnDwBFRUVs2rSJoqIisrOzAViyZAkff/wxmzZtYvXq1QDY7XbWr19PXl4e0CQSV61aJdXz8ssvs2LFCubOnQvA+vXr2bJlS8CHtnv3bv73f/+Xjz76KOC8ckIIPoFAIBAIBF3GqVOnsNlsTJ48WdqWkpLCkCFDADh8+DBOp5PBgwd75bNaraSmpkrftVqtJPYAsrKyMBqNQJNHzmAweNWhVquZMGGCX926Hr777jtuuOEGnnrqKa688srADlRmCMEnEAgEAkFPQKtt8rRFqu4QYTKZUKlU7N+/H5VK5ZWma+bB1Gg0XmkKhSIgMdcRR48e5fLLL+dnP/sZjz/+eMjKjRRC8AkEAoFA0BNQKPzuVo0keXl5aDQa9u7dS25uLgDV1dWcOHGCGTNmMHbsWJxOJ0ajkenTpwdVR2JiIllZWezdu5dLLrkEAIfDwf79+xk3blyH+Y8cOcJll13GvHnzePbZZ4OyQW4IwScQCAQCgaDL0Ol03H333SxdupTU1FT0ej2PPfYYSmXTPNLBgwdz2223ceedd7J27VrGjh1LRUUFn332GaNGjWL27Nl+1fPQQw/x3HPPkZ+fz9ChQ1m3bh01NTUd5vvuu++47LLLuOqqq3jkkUcoKysDQKVSkZ6eHvRxRxoh+AQCgUAgEHQpa9aswWQycd111xEfH8/ixYupra2V0jdt2sQzzzzD4sWLKSkpIS0tjSlTpnDttdf6XcfixYsxGAzMmzcPpVLJggULuPHGG73q8cVf//pXKioqePfdd3n33Xel7f369ePs2bMBH6tcULhD2eEtEAgEAoGgS2hsbOTMmTMMGDCAmJiYSJvTLZk5cyZjxozh5Zdfjkh+fwjVdRZx+AQCgUAgEPRaXn/9dXQ6HYcPH/Y7z+bNm9HpdOzcuTOMloUW0aUrEAgEAoGgV7J582YsFguANIHEH66//nop5EtSUlI4TAs5QvAJBAKBQCDoleTk5ASVLz4+nvj4+BBbE15El65AIBAIBAJBD0cIPoFAIBAIBIIejhB8AoFAIBAIBD0cIfgEAoFAIBAIejhC8AkEAoFAIBD0cITgEwgEAoFAIOjhCMEnEAgEAoEg4sycOZNFixaFtY758+czZ84crzoVCgUKhYJDhw75XU5hYaGUL9w2hwoh+AQCgUAgEPRa7r33XgwGAyNGjACgqqqKWbNmkZ2dTXR0NH379mXhwoXU1dVJeW6++WYMBgNTp06NlNkBIwIvCwQCgUAg6LVotVoyMzOl70qlkhtuuIFnnnmG9PR0fvjhBx544AEuXLjAH/7wBwBiY2OJjY0lKioqUmYHjPDwCQQCgUAg6FIaGhq488470el0ZGVlsXbtWq90q9XKkiVLyMnJIS4ujsmTJ7Nt2zYpvbCwkKSkJLZs2UJBQQE6nY5Zs2ZhMBikfZxOJ4888ghJSUmkpqaybNky3G53h7YlJyfzi1/8ggkTJtCvXz8uv/xy7r///m61bq4vhOATCAQCgaAn4HZDQ0Nk/vwQUs1ZunQp27dv58MPP+STTz5h27ZtHDhwQEpfuHAhe/bs4U9/+hPffvstP/7xj5k1axYnT56U9jGbzbz44ou888477Nixg6KiIpYsWSKlr127lsLCQt5880127drFhQsXeP/99wM+raWlpbz33nvMmDEj4LxyQnTpCgQCgUDQEzCbQaeLTN0mE8TF+bmriY0bN/Luu+9y+eWXA/DWW2/Rp08fAIqKiti0aRNFRUVkZ2cDsGTJEj7++GM2bdrE6tWrAbDb7axfv568vDygSSSuWrVKqufll19mxYoVzJ07F4D169ezZcsWvw/plltu4cMPP8RisXDdddexYcMGv/PKEeHhEwgEAoFA0GWcOnUKm83G5MmTpW0pKSkMGTIEgMOHD+N0Ohk8eDA6nU762759O6dOnZLyaLVaSewBZGVlYTQaAaitrcVgMHjVoVarmTBhgt92vvTSSxw4cIAPP/yQU6dO8cgjjwR9zHJAePgEAoFAIOgJaLVNnrZI1R0iTCYTKpWK/fv3o1KpvNJ0zTyYGo3GK02hUPg1Rs9fMjMzyczMZOjQoaSkpDB9+nSeeOIJsrKyQlZHVyIEn0AgEAgEPQGFwu9u1UiSl5eHRqNh79695ObmAlBdXc2JEyeYMWMGY8eOxel0YjQamT59elB1JCYmkpWVxd69e7nkkksAcDgc7N+/n3HjxgVcnsvlApomk3RXhOATCAQCgUDQZeh0Ou6++26WLl1Kamoqer2exx57DKWyaZTZ4MGDue2227jzzjtZu3YtY8eOpaKigs8++4xRo0Yxe/Zsv+p56KGHeO6558jPz2fo0KGsW7eOmpqaDvP985//pLy8nIkTJ6LT6Thy5AhLly7loosuon///p048sgiBJ9AIBAIBIIuZc2aNZhMJq677jri4+NZvHgxtbW1UvqmTZt45plnWLx4MSUlJaSlpTFlyhSuvfZav+tYvHgxBoOBefPmoVQqWbBgATfeeKNXPb6IjY3l97//PQ8//DBWq5W+ffsyd+5c/vu//zvo45UDCncoO7wFAoFAIBB0CY2NjZw5c4YBAwYQExMTaXO6JTNnzmTMmDG8/PLLEcnvD6G6zmKWrkAgEAgEgl7L66+/jk6n4/Dhw37n2bx5MzqdrlsFYxZdugKBQCAQCHolmzdvxmKxAEgTSPzh+uuvl0K+JCUlhcO0kCMEn0AgEAgEgl5JTk5OUPni4+OJj48PsTXhRXTpCgQCgUAgEPRwhOATCAQCgUAg6OEIwScQCAQCgUDQwxGCTyAQCAQCgaCHIwSfQCAQCAQCQQ9HCD6BQCAQCASCHo4QfAKBQCAQCCLOzJkzWbRoUVjrmD9/PnPmzPGqU6FQoFAoOHTokN/lFBYWSvnCbXOoEIJPIBAIBAJBr+Xee+/FYDAwYsSIVmlVVVX06dMHhUJBTU2NtP3mm2/GYDAwderULrS0cwjBJxAIBAKBoNei1WrJzMxErW69FsXdd9/NqFGjWm2PjY0lMzOTqKiorjAxJAjBJxCEGLfbjcvlwmazSX92ux273Y7D4cDpdOJ0OnG5XLhcLtxuN263O9JmCwQCQZfR0NDAnXfeiU6nIysri7Vr13qlW61WlixZQk5ODnFxcUyePJlt27ZJ6YWFhSQlJbFlyxYKCgrQ6XTMmjULg8Eg7eN0OnnkkUdISkoiNTWVZcuWBdTWvvHGG9TU1LBkyZJOH68cEEurCQQhwCPyXC4XTqcTt9tNY2MjbrcbhUIh/d+c5t89nz1jQjx5AOlXZ8t9Wm7rKE0gEPRw3G4wmyNTt1YLAbQ1S5cuZfv27Xz44Yfo9XoeffRRDhw4wJgxYwBYuHAhR48e5U9/+hPZ2dm8//77zJo1i8OHD5Ofnw+A2WzmxRdf5J133kGpVHL77bezZMkSNm/eDMDatWspLCzkzTffpKCggLVr1/L+++9z2WWXdWjf0aNHWbVqFXv37uX06dOBnw8ZIgSfQBAkHpHX0NCA2+1Go9EA/xFYSqXSp9hq+QuzuYev+WeLxcLXX3/NxRdf7CUam//vwZd4bP69+V9721r+316ar7oEAkEEMZtBp4tM3SYTxMX5uauJjRs38u6773L55ZcD8NZbb9GnTx8AioqK2LRpE0VFRWRnZwOwZMkSPv74YzZt2sTq1asBsNvtrF+/nry8PKBJJK5atUqq5+WXX2bFihXMnTsXgPXr17Nly5YO7bNardxyyy2sWbOG3NxcIfgEgt6GR4x5vHgulwuAU6dOAVBQUCAJIE8a+BZg/qBSqQAkIdmWTR19b/7X3r4e2/zxSppMJhQKBTqdrpV49CUsm+cVXkmBoHdz6tQpbDYbkydPlralpKQwZMgQAA4fPozT6WTw4MFe+axWK6mpqdJ3rVYriT2ArKwsjEYjALW1tRgMBq861Go1EyZM6LBbd8WKFRQUFHD77bcHf5AyRAg+gaAdfHXVeoRQc0+eL3HUFQQrJjuiI3FYVlaGQqEgLy+vTTHZnleyI7uD8Ur6640UYlLQY9Fqmzxtkao7RJhMJlQqFfv375d++HrQNfNgtvwx3LLnI1i2bt3K4cOH+etf/wr8p/1LS0vjscce4+mnn+50HZFACD6BoAUtvXgtu06bi4vmeZoTClERSWHiryBr2Rj7Q6i8km11b5eVlRETE0NycnKbx6FUKr2OQ3glBT0ChcLvbtVIkpeXh0ajYe/eveTm5gJQXV3NiRMnmDFjBmPHjsXpdGI0Gpk+fXpQdSQmJpKVlcXevXu55JJLAHA4HOzfv59x48a1m/dvf/sbFotF+v7VV1+xYMECdu7c6eVR7G4IwSfo9TTvqvUIPc/2tgRec8L5ou+Js3fD7ZWsqakhISHBq+vHk+7Zx+OtbZneloj0x27hlRQI/EOn03H33XezdOlSUlNT0ev1PPbYY9IPscGDB3Pbbbdx5513snbtWsaOHUtFRQWfffYZo0aNYvbs2X7V89BDD/Hcc8+Rn5/P0KFDWbdunVcsvbZoKeoqKyuBpmE7SUlJAR2rnBCCT9AraS7yzGYzlZWVZGVlSekKhUJqfAStkaMAaSmkQnn92vM0tpxw096+5eXlmEwmBg0aFNCkG+icV1IISYHcWLNmDSaTieuuu474+HgWL15MbW2tlL5p0yaeeeYZFi9eTElJCWlpaUyZMoVrr73W7zoWL16MwWBg3rx5KJVKFixYwI033uhVT29C4e6JLgSBwAdtjcerra3l22+/ZcaMGUG9AI8fP47D4WD48OFeddlsNiD4l2pjYyO7d+/2K4RAV3Py5EkAKTyCnPjuu+9ISEiQuorkxPnz56mpqWHkyJGAf93bbX1vPh4yVF5Jm82GRqNBpVJ1qpvbV12C0NPY2MiZM2cYMGAAMTExkTanWzJz5kzGjBnDyy+/HJH8/hCq6yw8fIIeTcvxeJ7Zs81fcp2ddBHuF1ukJoQIwk+4urchOK/kvn37GDp0KAkJCV42dWUooOb7trePQBAqXn/9dTZs2MCePXukH2MdsXnzZn7+859jsVik2IFyRwg+QY+io/F4bcXGC0W9oUbuLzbRORA4XXnOghWTKpUqZKGAWqa355Vsvq0tu6uqqkhOTkatVnuJwpbd3b4+t/W/8Er2bjZv3ixN0AikV+D666+XQr50l3F9QvAJuj3+hk5pC19dYYEgPHyC3kS4J920tc3tdnPkyBEmTpwoeeXb2ld4JQX+kpOTE1S++Ph44uPjQ2xNeBGCT9Atad5VW19fT0VFBf369QPaDp0Sbns8mM1mysvLuXDhAgqFArVajUqlCvhPznRWJAvkS6TEia96fW0L5vkIRSiglh5IXwHKy8rKiIuLa9Ul7vk/1F5J8QwKAkEIPkG3oL2uWovFwvnz5xkwYEBQZYdCvNhsNk6ePInRaMRkMpGSkkJiYiKAZK/NZsPpdLb713yFDs8L4csvvwxKMLb1J7wNgu5KsM9pV3klKyoqUCgU0rPfsms70ADlLW1tabfdbpfaF0+b2Na+LelsuqD7IQSfQLY0F3nNxVDz7lqlUhmR8Ckul4vq6mqMRiMlJSU4nU5UKhUDBgwgPT0dtVod1Czd5oK2sbGR/fv3M2TIEOk8OByOViLRarV2KCSbv0BUKhVKpRKVSoVarfb67K9o9BybzWaTyhMvCP+Q83kSHqPAaHkt3W53yNokf72SLT+3tT80tS9Wq5XY2Fi/bPDX6xrIPnK+/3s6QvAJZEWw4/E6OwbPn/xOp5PKykqMRiNGoxGFQoFer0ev1+N2uxk9enSn7fG8LDyD0qFpQHBnu3ibewH8/bPb7W2m2Ww23G43ZWVlUh2h9EJ6/oSQFLRE7vdDqOzzxyvpaRf8HcKiUChwOp1e+7bXVnU0rjJY2rJVeCXDixB8gojjK3RKW+NefBHOh9xms1FRUUF5eTmVlZXExMSg1+sZN24cSUlJKBQKTp06RUNDQ8jrDuVxeYRke7MvA+GHH37A4XAwePDgVmLQ4XC06Y30t2vbg8eL29wD6RHELT97/iwWCwqFgsrKynaFpKB70R28j93BxpaEs/1s63y0t93lctHY2Ig2yLV5O/JKVlZWkpKSglrd++RP7ztiQcRpOR6vuLiY2NhYEhMTgw6dEkoPn8Vioby8HKPRSHV1NfHx8WRkZJCfn49Op/NpW3ds6DtL8y71UAlJ8P4B4O+fw+GQuratVit2u52GhoZ2hWS4PJLdHbl7SYR9wdPV7VSw56KjyASd8UoWFxej0+mE4BMIwoWv8Xieh7q8vJyUlBRSUlKCKruzDazHth9++AGj0Uh9fT3JyclkZGQwcuTIDse7dEVYFrkRzmNuLsaC4bvvviM+Pl6ate2hIyHp8Ug29046HA4aGxv9nmjT3PaW4yOVSiWNjY3Y7XZOnz7t0zspJtq0jRyfg5Z0BxvlzGWXXcaoUaN45pln2t2vM8/DU089BcDf//53oGmljO3btwNw8OBBv4MoFxYWctdddwFNa/aGc6WNUCEEnyBs+BJ4HnzFt+psXYHuX1NTQ3l5OWVlZbhcLurr6+nXrx/p6elERUWFtX5B19NZIdkWbrc7oHGRdrs9qBnb4fBI+pp0IOgcchfncrcvEtx7772sWrWKtLQ0aZuv8/THP/6Rn/70pwDcfPPNzJo1i7lz53aZnZ1FCD5ByGjZVesRec0nXYSjsfG3TKfTSVVVlTTpwu12o9frGThwIN9//z1jx44Na/1yKVcQWjyxFv3pIlIoFNTV1TF06NAO920+eaktj2TLsZKBzthuKSQdDgcnTpwgKiqqzXGTkZ5oI+fnQghm+eOru1ir1ZKZmdlq302bNjFr1izpe/MVNWJjY4mNjQ3YORBJhOATdAp/Q6e0R2fj4LWX3263e026iIqKQq/XM2bMGJKSklAqlZjN5qDr9hDOhl6uLxG52tVTaD5jO5S0JyKPHDlCSkoKGo2mlWfSbDYHFPon1H/d5X6TsyCVEw0NDTzwwAO8//77xMfH88gjj3ilW61WHn/8cf73f/+Xmpoahg8fzq9//WtmzpwJwFtvvcUjjzzCH/7wBxYvXsz58+e56KKL2LhxI1lZWUDTj/xly5ZRWFiISqWSumD9vUZJSUk+hWB3RQg+QcA09+JduHABp9MpzVhtL3RKV9HY2IjRaJRWu9DpdGRkZJCXl0d8fHzIG2TRwAu6E+1NtFEqlaSnpwe8ZJTnh19H3siWYyUDmbHtYd++fV5C0NdYyUC8k6HseYi4KHW7ob0fsE4nWCwQjjZLqw2o3OXLl7Njxw7ee+899Ho9jz/+OAcPHmTUqFEoFAoefPBBjh49yubNm8nOzuaDDz5g9uzZHDp0iPz8fKBpVaN169ZRWFiIUqlk3rx5LFu2jHfeeQeAdevW8fbbb7NhwwaGDh3KunXr2LZtG5dddplfNj7wwAPcc889DBw4kPvuu4+77rqrW7f3QvAJ/KKt0ClGoxGbzUZKSkrQD0IoVrpwuVycOnUKo9FIXV0dSUlJZGRkMHz48A6n94ei/nAg54ZFzrbJGTneZ6GguTc/XDO27XY7e/fupaCgQIon19ZfoKF/QuWFbD6cJSI/es1mVP9e5cMXKiBcHZDO2lqIi/NrX5PJxJtvvsnbb7/N5ZdfDjR1n3omWp0/f57CwkLOnDlDdnY2AIsXL2bLli0UFhby7LPPAk09OK+//jp5eXkA3H///V4TPl599VWWL1/OjTfeCMBrr73GRx995JeNq1at4rLLLkOr1fLJJ59w//33YzKZePDBB/3KL0eE4BP4pL2lzJqHTmm5zmMwBCO4PJMujEYjBoMBh8NBbW0tffv2Ra/Xd/m4it7YpStXhBgNHrnda83FmEdAJSQkdFpU+jNju7lH0jNW0p8Z20eOHGlluz9/Hu9ke97ISK0sFGpOnTqFzWZj0qRJ0raUlBSGDBkCwNGjR3E6nRQUFHjls1qtpKamSt+1Wq0k9gCysrIwGo0A1NbWYjAYvOpQqVQMGzbMLxufeOIJ6fPYsWNpaGhgzZo1QvAJegbthU5pq6u2K71jLpfLa9KFy+UiPT2d/v37c/LkScaNGxdUuc0XIg9GLPRWgSE3cSDoHYTieQvXjO0vv/ySgQMHkpiYGNDM7UBC/zSfaKPRaEhOTqaxsbHpeVQoUJSXS8fY8ge52+3GZrMRGxvbKrh9pwkyULIvTCYTKpVK6r5vjk6nkz63FP7+vo+COd7Jkyfzq1/9CqvVSnR0dMD55YAQfL0cXwKv5azajla56OyLv70yHA6HNOmioqICjUaDXq9n1KhRJCcno1Qqqa+v5+TJk52yobOEQ/z0ViEpiCzivgsej5AMtSBoa3ykzWajoaFB8gq63W7Q6ZraccDVYq1dt9uNW63G7F140x+0Eoi+RGPLbdLnf4tSf3p+8vLy0Gg07Nu3j9zcXACqq6s5ceIEF110EaNHj8bpdGI0Gpk+fXpQ5ywxMZGsrCz27dvHJZdcAjR1AX///fdMnjw54PIOHTpEcnJytxV7IARfr6O5F89sNku/FgMReb7KDIVdHjyTLoxGI1VVVcTFxZGRkcGAAQNISEhoZVtnX1By9/AJT1rPQgiq4OgOz0GwbUhHtBX6x2az0djYiFqt9msYi2dFmrh/j7VzNxOEnv872uZ5f7S3ny/7Pf97hgTdeeedLFu2DJ1Oh16v5+mnn0apVOJ2u8nLy+OnP/0p8+fP54UXXmD06NFUVVXx+eefM3LkSGbPnu3XefvlL3/JCy+8QH5+PkOGDGHdunWYTKYO8/3973+nvLycKVOmEBMTw6effsrq1atZsmSJX/XKFSH4egFthU45dOgQ2dnZ9OnTJ+hxIaHqXrHZbJw+fRqj0UhtbS1JSUno9XoKCgqkxqk9Iv0yiHT9XY0QLYJIIe690BGKMdi+8EdI/vrXv6ahoYGf/OQn6HQ6fvnLX1JbWyvt+9vf/pY1a9awdOlSDAYDqampTJgwgZkzZ1JfXy91Y5tMJklIWq1WAGk97QceeIDi4mLmz5+PUqnk5ptv5tJLL8XhcNDQ0IBSqfQ50Uaj0fDaa6/x8MMP43a7GTRoEOvWrePee+8N6XnqaoTg66G0nHDRsqsWaDXxIhiC7dJ1u93U1tZiNBopKyvD6XSSlpZGTk4OY8eODchtHkoPX2fy+9re2fiCAkFX0tt+uISacHn4uhv+CMmUlBTeffddr20rVqyQVqOJj4/n2WeflWbkgreAvOeee7jnnnu8ts2ZMwez2SxtU6lU/PrXv+bBBx+U3oU2mw2NRsMPP/yA0+mkoaGBiooKDh48yPjx46mvrycvL4/CwkLsdjt5eXkkJydLNpw5c4aqqirpe319PdXV1V7H4XA4KCoqoqamBoVCQXJyMn379vUaj2g2mykqKqKhoUEaqhTumH9C8PUg/F3KrGWezhCIqPHE7fPEyHM6naSnp5OYmEh8fLxfqw901oZw0Rtn6crVLkHPpDvcb93Bxu5MsB7JQYMGAU2zfI8ePcqIESOkMuLj4/nb3/7G3//+d/bs2UNubi5arZa0tDROnTrls7yEhAT27NnDAw88gMVi4aKLLvJKP336NHa7ncGDB+N2uzl79iznzp1j4MCBQFNA6JMnT0prflssFs6ePYtKpSI9PT2gYwsEIfi6MR2FTumKCRcd4XA4qKyslCZdqFQqMjIyGDlyJCkpKSiVSo4ePRrRX8Xh8vAJBN0Rud/Pwj5BZ2h5fTZv3ozFYgEgNzeXqKgoEtuJZQhNvWNz586VhF7zJdcsFgt1dXVew5Fyc3M5efIkffr0ISoqiqqqKlwuF/3790epVBIbG4vZbKa8vFwIPsF/aC90CiANiPWHUI2/aymUrFar16SL2NhYMjIymDBhAomJiT4nXYRrabXujHhxBE9PvB8E8kfcd/LG1/XJyckJuJz6+npMJhNqtZr4+HgvwdfQ0IBKpfIae56QkCClRUVF0dDQQHx8vNe7OiEhgbKyMhwOR8iXU/QgBF83oKXAKy8vp7q6miFDhgQ1q9ZDKEOqeH6dGI1GampqSEhIICMjgyFDhnjFTQonnZ1l25lz0Ru7dAWBI/drKWf75Gxbc+T8Q607nMNw29jZ65OYmEhycjJRUVFYrVZKSko4efIkQ4cORaFQYLfbfcYHVKvV2O12oCk8TMtx6p48drtdCL7eRMuu2pbx8ex2OyaTqdMR1zsj+NxuN3V1dRiNRqqrq9m5cyepqalkZWUxevRoYmJiusQOT/5IEun6I0FvPGaBPJDzvdcdBFVvJhSTalJSUqTPWq0WrVbL4cOHqa+vlzx5ckUIPpnQVuiU5uPxPAIvUg2ey+Wiurpa8uTZ7Xbi4uLQarVMmjQppGtoBkNP9PCJl5tA0L2Q8zML8rcPwmdjONqs6Oho1Gq1FBJGo9FInrzm9TocDukd6Wsfz/dwvkeF4Isg/oZOaUmoxqz5U47D4aCqqkqadKFQKNDr9QwfPpzU1FRKS0sxGAydukkVCoXX0kHB5I8kIvCyoCcR6eepLbrDc9AdbOzthPr+ttlsXmIuLi5OCvfiGcdXV1cnpXn+Lykp8Yr9V1dXR0xMTNi6c0EIvi4nmNApLQm34LPZbNKki8rKSmJiYsjIyGDcuHEkJSWF/IEJVZduZ2fZytHDJxAIvJGrIPUgd/t6M/70AjmdTslbB03vQ7PZjEqlQq1WU1paSnJyMhqNBqvVSnFxMdHR0VJ3bmxsLAkJCZw7d45+/frhdrspKioiJSVFWg0lJSUFg8HAuXPnyMzMxGKxYDQa6du3b/gOHiH4wk7zrlqTyYTD4SAuLs7v0CntldtZmgsts9ksxcfzTLrQ6/UMHjyYuLi4sAUX7gmEs4EXLw9BVyLnZ1nOtgm6B/7cQ2azmePHj0vfz58/D0BqaqoUM6+qqgqn04lGoyEhIYGcnByv3riBAwdSVFTE8ePHvQIve1Cr1eTn51NUVMTRo0dRq9VkZWWFNSQLCMEXFtoKnXL+/HkaGxsZOXJkpyZchEJkud1u7HY7VVVVlJWVYTKZSElJCXjSRShn+nYmP/RcD58cX3RCiAoigdzvO7HSRue47LLLGDFiBM8//3zY6njyySdRKBR88MEHAMycOZPt27cDcPDgQcaMGcOECRPazD948GAAtm3bxqWXXgrADTfcIJUHTYLOE2S5LbRabdCLDQRL56Z5CiTcbre0bIvVasVqtWKz2XC5XNKEC8+yKqFaCiwYGy9cuMD333/Pjh07qKysxGq1MmDAAC677DImTpxIbm5uQDNsQ4UcRY2/iAZeEAhyv1/kbp9AECxtvWfuvfdeDAYDI0aM8NpeWFjIqFGjiImJQa/X88ADD0hp06ZNw2Aw8JOf/CSsNocS4eHrBM3DprQMnRKupcwgMI+Y0+mUJl0YjUZp0kVBQQHl5eXExMSQnZ3dJba0V0Yo8kfSwxcu5PzyleP5EvRcusP9JncPX3c4h9D1s3S1Wm2rdWzXrVvH2rVrWbNmDZMnT6ahoYGzZ89K6VFRUWRmZhIbG+s15k/OCA9fAHi6aR0Oh+TFs9vtOBwO6UFXqVQolUqfYq+rZtfabDZKSko4ePAgW7du5fvvv0ej0TBu3DguvfRSRowYgV6vl0V3bKjKgMg2Zr7qbjkpJ5RlCwS9ETmLKUFgNDQ0MH/+fBITE+nTpw/r1q3zSrdarSxdupTc3FwSEhKYOnUq27Ztk9LfeustUlNT2bJlCyNGjCAxMZFrrrkGg8Eg7eN0Olm8eDGpqano9Xqeeuopv2yrrq7m8ccf5+233+bWW28lLy+PUaNGcf3114fk2COF8PB1QLChU3wRTsHnmeVjNBq5cOEC8fHx6PV6Bg0ahE6n89lQ9gShBeFbIi6Y+u12O+Xl5ZSVlVFVVYXb7Za689VqNSqVqtXntrap1WppFZPm6Z0NuB0K5PzilbNtcifSz3J3J+IePrcbzOa20202FE5n036hRquFAI59+fLl7Nixg/feew+9Xs/jjz/OwYMHpW7VBx98kKNHj7J582ays7P54IMPmD17NocOHSI/Px9ommCxbt06CgsLUSqVzJs3j2XLlvHOO+8ATV66t99+mw0bNjB06FCef/55PvvsM6644op2bfv0009xuVyUlJRQUFBAfX0906ZNY+3atWGfSRtOhODzQfMJF3a7nWPHjjFkyBBUKlWnlzILFS6Xi/r6emlmbX19PcnJyej1ekaMGEFsbGyX2BNpsdXchki9rDxjN/fv309lZSXx8fFkZmYyaNAglEolTqdT+nM4HD6/2+12GhsbW+3jcrn4/vvvcTqdXsfblkD0R0S2/OzxSAsEckaIUT8wm1ElJraZ3PFbIXictbXQbP3Y9jCZTLz55pu8/fbbXH755QBs2rSJfv36AU0zYwsLCzlz5ow05Gjx4sVs2bKFwsJCnn32WaDpB/brr79OXl4eAPfffz/PPPOMVM+rr77K8uXLufHGGwF48cUX+fTTTzu07/Tp07hcLlavXs0rr7xCYmIijz/+OP/1X//Ft99+K4VX6W4IwUfrpcw8L1fPtuLiYoYMGRLRpcw89tTU1FBcXIzFYmHPnj2kp6fTr18/0tPTA74J5dIdK4fQLoHaYLfbMRqNlJWVUVlZKU29LygoQKvVSrOgO/uLf8eOHYwdOxadTifdm22JxpbfbTZbu+nNj9cfgdj8e319PVarlerqap/pQkB2X+R87eRsG8jAw9dNOHXqFDabjUmTJknbUlJSGDJkCABHjhzB6XRSUFDglc9qtZKamip912q1ktgDyMrKwmg0AlBbW4vBYPCqQ61Wt5qY4QuXy4XdbufVV1/lyiuvBOCPf/wjmZmZfP7551x11VVBHHXk6bWCr63QKZ6HtflSZp79O0swwsbpdHLhwgVp0oXb7SYxMRGNRsOMGTOkmb/B0lPEGnT+WPxZdaS5yIuLiyMzM5P09HSKioo6nIbfGTxePZVKFbJfl20JyJbbPJ+tVitms1mKIu9wODh27Ji0T/PVUjzd2IGIyPa+y6EbOxRE+lkR9HC02iZPWxt4fgT60wMUTN2hwmQyoVKp2LdvX6t3nE6nkz63XOGpo/eRv89fVlYWAMOGDZO2paenk5aWRlFRkV9lyJFeJ/g8nhd/Z9WGsrvQX3Fkt9upqKjAaDRSUVGBRqMhIyOD0aNHk5ycTE1NDYcPH+602JODWJOLHW39Knc4HFRUVFBWVkZFRYUk8oYMGSItk1NRUdFmuZ39xR9Ob4FSqUSpVAa1LF5RURG1tbWMHDlS2uYJTeSvF7Ktbuzm+3hoLng7EogeMVpeXt5ud3d751ZV+gFRRW/jihuEdfgzoOyeXTgdcbjiML/d/1sem/YYuQm5kTanXSLdRvhDxG1UKNrvVtVowOmEcAi+AMjLy0Oj0bBv3z5yc5vuu+rqak6cOMG0adMYM2YMTqcTo9HI9OnTg6ojMTGRrKws9u3bxyWXXAI0vVuPHDnC5MmT28170UUXAXD8+HH69OkDwIULF6isrJS6nbsjvVLwORyOdkVec7pK8DU2Nkrj8S5cuIBOp0Ov1zNw4EDi4+O9bAzl5I/OrGEbSls6awOErrFtKfI8U/bz8/O9fl12FZE+v/6iUChQq9Wo1Wqio6M7XV5zD3xHXkjPd5vNJq1tef78+VbpHXVjD61eTZr5c5Q0LWSuqvh/2Mv3cr7gDx2Ol+yOXsiVO1fy6dlPcbqc/P7q30fanA7pDt2lcrZRLm2JTqdjwYIFLF++nJSUFPR6PU888YT0DOXn53Prrbdy1113sWbNGsaMGUNFRQVbt25l5MiRzJ492696fvnLX/LCCy+Qn5/PkCFDeP7556mvr+8w3+DBg7nhhht46KGH+N3vfkdCQgIrVqxg6NChUrDl7kivE3weT0Eg+0PoHpTm5ZhMJknk1dXVkZSUREZGBsOHD0fbgXs8Ul3Mci0DOn9OKioq+OGHHzAajcTGxkoTL+Lj48Ned3ejK15qwXZjHz16FK1WS//+/VuleQSkL8EYf/4N0syftMoTazlMZWWlT9HZfDJNe93Ynm319fU4nU7Onz/f4aztcE+m2VG0g0/PfopaqWbF1BXSdjkLFjnjaQPE+fOP559/HpPJxJw5c4iPj+fhhx+mtll39MaNG3n22WdZunQpJSUlpKWlMXnyZL/FHsAjjzxCWVkZd911F0qlkp/+9KcdztD18Pbbb/Pwww8ze/ZslEolM2bM4OOPPw6qR0Qu9DrBFwyh9GLZ7XaOHz+O0WjEYrGQmppK37590ev1fr/UQtWgyME7Fyo7gjknTqdT8uQ5nU7OnTtHTk4OU6dObTOUTajqFoSXtu6n9rqxY84c8V2YJoHRo0e3WY+/3diescIOh4Pq6uo283hoLnhDMRayeTe22+3mqV1NMcnuGnkXecl5smgL2kPu9gkCQ6fT8dZbb/HWW29J25YsWUJjYyPQND5v5cqVrFy50mf+efPmMW/ePK9tN9xwg9czpFarWbdunRTjr7KykpqaGmlySHskJCSwceNGNm7cGOihyRYh+PygM4LE5XJRVVWF0WjEYDA0eRLi48nPzyctLQ21OvBLIBehBvKyxR87nE4nlZWVlJWVYTQaiY6OJjMzE7VazdixY0lsJ6RBZ+sOBiEmuw6F7YKPrUos49/ysf3feQLsxj5z5gwWi8VrMHhzmndj+ysiPQPx2xOZHjzCb3fNbvaX7SdGGcO18dfy3XffST0f586dIzo62i8R2dXd2HJ+HrqLh0/u9kWC119/nQ0bNrBnzx6vccntsXPnTq6++mqsVmtAXsdIIgSfHwQqajxjwDyTLtRqNXq9ntzcXCorKxk1alSX2hPOcuRURlu4XC5J5JWXlxMVFUVWVhaTJ0+WxkeeP38+6IYw3A2oXAR1S+RqVzBoTr2BunovrY/IjSt9RpfZ0dyrFyqaC0in00mjrZGFf1sIwN3D7iY/O9/Lu2i32zsUkR6ad2O3F+vRX0+kiAkpCGdoG19lb968GYvFAiBNIPGHCRMmcOjQIYCIjO0Ohl4n+IINmNzRy81qtUrj8aqqqoiLi0Ov1zNx4kQSEhJQKBTS6gudRU6CLxSEQzQ2F3lGoxGNRkNmZiaTJk2SrkcobZDDeRQEj+rCF7iB5neF+9//Rh15FNvw1SGrq6sFTctu7D+f+jOn606TGpvKihkrSIhOAJqemXPnzjFo0KB2vZXNu7HbC+PT/LtnNnZb+zT3jrUlED3C9YcffghIRHbV+e4uHr7eTsvrk5OTE1Q5sbGxDBo0KBQmdRm9TvAFQ1tioKGhQRJ5tbW1JCYmkpGRQUFBgRSyw59yQmVPMMjBOxcqXC6XNCavvLwctVpNZmaml+gOB+Fs4OX68pCrXcFiz/kR6rL/8+Hhg6izG0Iq+CKJ2W7m13t+DcCyycsksdecjq5t827sUNCyG7st0Wg2m6mpqcHlcnl5IH3t76sbO1TjIbvjbOzuRjg9fL0ZIfj8wCNq3G43dXV1UhDkhoYG0tLSyMnJYezYsR2O4ZGTUAN5dcd2doyky+Vi3759ksibMGECiYmJAU28kKuHr7c3Ul2BM3sOzhPDUNUfbZ2o6Dkv+DcOvkFZQxn9E/uzYNSCSJsD+N+NXVdXR0VFBYMHD+6wzJYCsqPxkFartcP9m9vrq6vaY/+pU6ckQexP17boxu46evtKKELwdYAnQPPp06epra3F4XCQnp7OoEGDAp50ITcPn1xu/ECPx+VyceHCBcmT5/nFXVBQQHZ2dpcfl1zOo6BzuLWDwIfgsw5eHgFrQk+VpYqX9r0EwGPTHiNa7f0DVe4/LAKxrzNBxduquyNBaLPZqKyslNbP7khEtowJGYzXsfmSoC6Xq8O4snK/xl1Bb26vheDzgcPhoLKyEqPRiNFolAK2jhgxgpSUlE659OUk1CLtnQsEl8tFdXU1ZWVllJWVoVQqyczMZNy4cSQlJbF169ZWAaoDQU5d082Rq13Qs14eSuNW1OX/5yNFhX3Qw11uTzhYu28tdbY6RqaP5MdDfxxpc4IiUi9rf7qx7XY7p0+fJi8vr0Nvpa9u7I68kI2NjT7HPqakpGCxWLy8kB6bPf97PntEYWNjo9d2X/v6Su/u9KQ2KxiE4Ps3NpvNa9JFbGwser2eCRMmcPDgQfr3709KSkqn6pCbhw/kMYavrTLcbreXJw8gMzOTsWPHkpyc3KoRiuTD3Nsbku5OVFFhGylOVKUf4sy+oSvNCTlFdUX87tDvAFh58UqU7XRTy/Xl3pOesVDNxrbZbJSVlREXFycNKfKcJ88wpOafm6824xGdzb+3zOfLbn/EYWcEZLivs1zv766gVwo+j8Awm83SeLyamhoSEhLIyMhgyJAhXtOsVSqVrIRa8+Cpnbl5Q3Xjh3KVDLfb7eXJA6R1hFNSUtq0ORTHEuxx9MYGpKcdszNhBGrDBz7TYr79JQ0hEnyREi2rd6/G5rRxSd9LuKK/fysNCAIj0oLUHzHl8fD5u/ShL9Ho+dxRejAC0mOjw+Fo1UXtz2d/jqentV2B0OsEn9vt5uTJk5SXl2MymUhNTSUrK4vRo0cTExPTbr7OEuruuVAIvkiscOELh8PB0aNHKS8vx+VykZmZyejRo0lOTvarC72zxxLp8xiJsgX/wT5oCVFnfofCZmyVpnBaImBR6DhScYQ/Hv0j0OTd684vvO5ge3ew0V8CEVP+0JEgvPLKKxk+fDgvvPCClNbSC9lSdLa0t6XdJpMJk8mESqXC4XCwbNkyrFYr77zzDiqViuuuu44vvvgCgIMHD5KXl0dZWRlmsxm73U5eXh7JyclAkxgtLS2ltraWv/zlLzz99NMALFy4kN/85jeSHd9++y02m83LtpycHLKysqTvZrOZoqIiGhoa0Gg06PV6MjMzgz63/tDrBJ9CocDlcjFgwADS09P9GtQrt67YnjCGz+12U1NTQ1lZGaWlpTgcDpKTkxk5cmSnx0kGgxBWPYegng+lEkfqDDSGv7RKcuivCoFVkePpL57GjZs5+XOYkDWhzf3kfv8L+7o/HXkhPUJNo9H4PeGmI89iVFQUUVFRUrget9uN3W6nqqpKmlwzd+5cnnjiCUaMGEFDQwP/+Mc/eOSRR3zWt3v3boYMGcJDDz3EHXfcwY9+9CNqampa7ZednU16err0vfk7zel0cvLkSeLj4+nXrx8Wi4WzZ8+iUqm88oSaXif4AIYMGRLQwxlKgRXKcuQ8/s4Xbreb2tpaqbvW6XSSkZFBbm4uRqORESNGdIkd4aBl3XK7Z8JBj3rBmc+jKfuw9XaFhsbxb3e9PSFid/FuPj79MSqFiicufiLS5vQK5PzM9kQ68kJGRUWRlJQEQElJCRqNBp1OJ62nGxcXR9++fRkzZgwAiYmJ3Hfffdxyyy0cOnSI/v37k5SUxPz582lsbGTq1KlS2cnJyeh0OhwOB1ar1aurXKVStSlaPaHE+vfvj1KpJDY2VhpiFk7B13MCTIURuXr4usML1yPyjh07xvbt2/n666+x2+0MHz6cSy+9lBEjRgS9fm2oCfUYPjmNkRS0T8zxZ8Fta53gtoP5bJfbEwrcbjdP7nwSgHkj55GfnO9XPjkLFjnbJp7TwGhoaGD+/PkkJibSp08f1q1b55VutVpZunQpubm5JCQkMHXqVLZt2yalv/XWW6SmprJlyxbpPXLNNddgMBikfZxOJ4sXLyY1NRW9Xs/q1av9uk6xsbFkZmaSlpZGRkYGKpWKrVu3cvfdd7eZp+UM7rKyMg4dOsTRo0cpKyvzqrehoYH4+Hgvr19CQoI0Eztc9EoPX6D0VMEXLg+f290UoNrjybPb7ej1eoYNG0ZaWprP7tpIH4ucXySC8ONWtT1+V7t3DubLv+1Ca0LDR6c+Yp9hH1q1lv+e8t+RNqfTdBdBFdG2xO0Gs7ntZIsFhVIJ4RAVWi0EcOzLly9nx44dvPfee+j1eh5//HEOHjzI8OHDAXjwwQc5evQomzdvJjs7mw8++IDZs2dz6NAh8vObfryYzWbWrVtHYWEhSqWSefPmsWzZMt555x0A1q1bx9tvv82GDRsYOnQozzzzDJ988gmXX355QIf29ttvo9Vq+dGPfuS13eVyYbVaiYmJ8ZpxrdfriYuLQ6VSYTKZKCkpwW6307dvX6AphE/LiTMeb6Ddbg/ZKjYtEYLPD4Tg69gWl8uFyWTCYDBQVlaGzWaTlplrS+S1LKOzdFbwdcbD111eRqGipwlk69CVaIre9enlUzaWRsCizuFwOXh6V9OA8vvH3U+mLryDwbsKOd93spgBajajaqfHRNdmSudx1taCjyVFfWEymXjzzTd5++23JfG1adMm+vXrB0BRURGFhYWcOXOG7OxsABYvXsyWLVsoLCzk2WefBZrE0euvv05eXh4A999/P88884xUz6uvvsry5cu58cYbAXjmmWfYsWNHwMe2ceNGbr31VmJjY6VtLpeLU6dOAU3eueY0n3yh1WpRKpWcO3eOnJyciC7NJwSfH/RUwdfZMtxuNyaTCYBdu3ZhtVrR6/UMHTqUtLQ0v2NMyWm2sNyQ83H1KJEblYQj4xrUZR+0SnLFhXaB9K64pn848geOXzhOckwyD018yK88Pep6CmTNqVOnsNlsTJo0SdqWkpIijas7cuQITqeTgoICr3xWq5XU1FTpu1arlcQeQFZWFkZj00z72tpaDAaDVx0qlYpRo0YFZOu+ffv4/vvvJa8hNIm906dPY7PZiI2N7fCZjouLw+12Y7PZiImJQaPRYLfbvfbxfA/V6jC+EILPD+QU6DiUZQVzXB6R5+mubWxsBCA/Px+9Xt/pQKKdoad6+MSLuAtwOVDWHmy9XRGFedo/u96eTmCxW1i9ZzUASycvJTFaHmNkO4vcnwNZePi02iZPWxtYLBZUKhVRUVFhqTtUNDQ0oFKp2LdvX6t3SvMYuS3FUTja4nfeeYcxY8Ywfvx44D9iz2q1MnjwYL+uufnf3eyertq4uDhKSkpwuVySx6+uro6YmJiwdeeCEHx+IVcPX1eW07y7trGxkfT0dPLz80lMTGT79u2dEnvCwycINYHeT1HHnkZpOeejIDuow9kRFnr+59D/UGoqpW98X+4ZfU/A+eX8LMnZNlmgULTfrapUgkoF4RB8AZCXl4dGo2Hfvn3k5uYCUF1dzYkTJ5g6dSpjxozB6XRiNBqZPn16UHUkJiaSlZXFvn37uOSSS4AmL9rhw4eZOHFim/k8oVqgSah98MEHrFq1CqvVikaj4fTp05jNZgYNavL8e2IFesSbyWSSJmV4xvCdP3+e1NRUScylpKRgMBg4d+4cmZmZWCwWjEajNMYvXPRKwReowJCr4Au3h6+5J89sNpOens6gQYNIT0+XbtyWwSWDJdLjETubP5yBlwXhR9lY1kaKm9gvb8Iy7e9dak+wVDdWs25f02zHR6c9Soy67cko3Q3h4es56HQ6FixYwPLly0lJSUGv1/PEE09I3q78/HxuvfVW7rrrLtasWcOYMWOoqKhg69atjBw5ktmzZ/tVzy9/+UteeOEF8vPzGTJkCL/61a+oq6trN4/ZbOb48eMAfPrppzgcDsaOHUtpaSnZ2dlSzL2jR48CTe/JiooKSeQpFAouXLhAaWkpLpeL6OhoMjIyyMjIkOpQq9Xk5+dTVFTE0aNHUavVZGVlhTUkC/RSwRcoclsSLVQ2+SqjoaGBsrIyDAaDJPLy8vK8RF7LMqDz3andmXDbL8cXXXe/Zi2x5T2EuuTPQOtzrare2/UGBclL+16ixlrDsNRh/LTgpwHlleN9Jui5PP/885hMJubMmUN8fDwPP/wwtc26ozdu3Mizzz7L0qVLKSkpIS0tjcmTJ/st9gAeeeQRysrKuOuuu1AqlcydO5dZs2a1Gj/XnPj4eCZMaApQ/uCDD3LTTTdx6aWXSumetOb7Z2RkEB8fDzR117Yce+gLrVbL0KFD/T6WUCAEnx/IrSvWQ6gaaI/IKysro6GhgbS0NAYOHIher+9wPEGoBJ/w8AkiiStxBI60Gagrt7VKc2uSutyeYCipL2H9wfUArJy+EpUycuNpw4Wcf2iINiAwdDodb731Fm+99Za0bcmSJdJEQI1Gw8qVK1m5cqXP/PPmzWPevHle22644QavOHZqtZp169ZJMf7OnDlDXFyc1xJn7bF79+5ADkn2iMDLfiC3rlhPWZ0pxxPVu6GhgV27dlFTU8OAAQO49NJLGTduHNnZ2WEdPNqTCGfgZfGC6zoU+DrXaiwhXGkjnOfs13t+TaOzkWk507hqQPdeDs4X3eF+k/PzCt3jHEaC119/HZ1Ox+HDh/3Os3nzZnQ6HTt37gyjZaFFvNH9QK6CL1A8Is9gMFBfX09CQgJqtZrp06cHPRW8p3j4ILSNYWNjIwaDQQqiqVarUalUqFQq6XPzbe1dT9FIhx/12U2oKj/3keLGlTqly+0JlGNVx3j3yLsAPD396U4JD7mLFrkintPQEa570Ndwqs2bN2OxWACkCST+cP311zN58mQAaek2uSMEnx/IVfD5U47FYpG6a+vq6khNTSU3N5eMjAzq6uo4cuRIp+L+yEXwhcKGzuR1u904HA7Ky8spLS3lwoULJCYmSot2O51OHA6H1/8ul0sqw5cQVKvVWCwWSktLqa+vb3OfQMSjwDfqqrZ+pTuJOvI4tuHPtJEuD1btWoXL7eLavGuZnD050uaEDbnf23K3T9D6GuXk5ARVTnx8vDRur7sgBJ8fdDfBZ7FYJE9eXV0dKSkp9O3bF71eH574S0T+122kJsG4XC6qqqoA2Lp1qzQ+ZMSIEajVapxOZ5uR1V0ul5cA9CUK6+rqUCqV2O12aZ3FQMSjPyIxGPHY015sjsxrUZf+1Wea5tybshZ8e0v38o9T/0CpUPLUxU8FXU6kn+GOEPaFhp727AZCb59JLQSfH4Q6mGM4BF9jY6PkyautrSUlJYU+ffqQkZHRpsiTS/w7OXj4Aq2ntraW0tJSysr+E85jypQpXkvstDcTDECpVKJUKtv1sJaXl7ea0u8Lf8Rj8/8bGxvbTGspHn2JQbvdjsVi4dSpU34LTDk3tI6cubh+WIuyzscYHkVoJz+E8jy43W6e2tkk8m4ffjtDUoeErGw5Iud7CORvX2+nu4jycCEEnx/I1cNntVo5d+4cZWVl1NTUkJycTHZ2NmPHjm21MHNbZYRK8EU6LEsoyujoGMxmM6WlpZSWlkprBY8ePRqtVsv27dsj6t73Rzz6i0c8ticaa2pqsFgsnRKPnfE+huPF6owv8CH4FNiGPBbyukLFx2c+ZnfJbmJUMayYuiIkZQrREhy9XUx0F3rz/S0Enx/ISfBZrVbKy8ux2WwcPHiQ5ORksrKyGDNmjF8iryVymDEcCjtCEZbFFzabjbKyMkpLS6mtrSU9PZ3BgweTnp4urSziWV4uHN0FkWic/BGPGo0Gm80mrX3ZFm63u0NvY/P/rVZrm55Kp9PpZWNbYrC+vh61Wo1CofBLQCoUCpRVu9CU/KX1ASg02AfeF/S5DCdOl5OVO1cC8ItxvyAnPrixSN2F7iCoerOYCBVimcrwIQSfH0Q6Dp9H5JWVlVFdXU1SUhIqlYqRI0d22NUXDntCTbjXog3UBs+SPqWlpVRWVpKYmEh2djbjxo3z2T3eGwMv+4tHdIUixI+/4rGhoQG32y15IH3t01I8jrO+hNZH0GXcNir3v0F9yiy/xjy2NV4zHPzp+z/xfdX3JEUnsWjioi6rN5LIpc3yRXd+TnsLYgyfoENCLfiad3O1hc1mk0SeZ8ZnZmYmo0aNIiYmhu3bt3e6+05uS8ZF0ga3243JZOLw4cOUlZURHR1NTk4OBQUFaEO4KLggePwVj42NjURFRTFw4MA29/GIR48IjD09Cc76CssCfcp+zYHYGX6Lx/ZEoclkwu12c/78+TZFo+dze+Kx0dHIs7ufBWDxpMUkxyS3e078IdLPcEfI3T6QtyCF7nEOIbznUe7XKJz0SsEXzAUP1YPSXt1tibyRI0cSE+O9JqZcYteFopxITdpwu93U19dTWlpKdXU1tbW19OnTh0mTJpGQkOD3fRLKsZltlS035GqXvzQXj9HR0TB8BS7D2yithlb7qhR2hg0b1mZZLcVje/97wvfU1NS0uY+HtsSjSqXif4v+l+L6YjJiM7g67WpKS0vbFZqBeB67+7WNFN1FTPVmWnr4PJ8TExOlNXL9Yf78+dIKIe+//z5z5swJpZlho1cKvkAJpQerZVl2u10SeVVVVSQkJJCZmcmIESOIjY1ttyy5CL7O0tWzhS0WCwaDgdLSUiwWC3q9nvj4ePr06RNQ4M2uQg7XqMejVOLUX4by/OZWSY6sOe1mbSUeO8DhcLQ59tEf8VhtqabwVCEA9+Tdg9VkpaGmwefYx/8cnrLDiTIeWorHlvt2Zbd1S+QuRuVuH3QPG8OFr7Z006ZNXHPNNV7btm3bxiOPPMKRI0fo27cvjz/+OPPnz5fSX3nlFZ577jm/l2iTC0Lw+YFCofCrG9bfsux2OyUlJZSVlVFZWSmJvGHDhvndfSgXsQbysaU9G+x2uzT5oqamhtTUVK/1gvfv3x90veH08MmZHnW8lhI0pe+33q6MwTr2jS4zwx/x+OauN6m11zIkZQiLr1iMWum7GXe73bhcroAmzEBTKCBforOljR11SfvzfyDiUe73m9ztEzTRUvAmJSWh1+ul72fOnGH27Nncd999bN68mc8++4x77rmHrKwsrrqqacnCxMREEhMTu9TuUCAEnx+E4heR3W7HaDTidDrZu3cv8fHxZGZmBj1GTE7x7+TQpevrfLhcLioqKigtLaWiogKdTkd2dnbQM5oFPZfoEy+A09w6wWVFUX8cd7w84tsZTAZeO/AaACsvXtmm2IOmZ8IjwvzBYrFQUVHB2LFjW6V1JB5bbrNarTQ0NLS5r+d59yUe2xKHJpMJm81GZWVlm93WkfZeRbr+7sTHH3/M6tWrOXLkCCqViilTpvDSSy+h1+t55513ePDBB/n666/Jz88HYOHChXz++ed89dVXUiis5cuX8+2335KSksIdd9zBr371K2mM72WXXcaoUaOIjo7mzTffJCoqirlz57J69ep27Vq/fj0DBgxg7dq1ABQUFLBr1y5eeuklSfB1V4Tg84NgPXwOhwOj0UhZWZkkOJRKJaNHj+7U7FqPTT2pSxc6N4PKcyxut5uamhopKLJarSY7O5v8/Hx0Ol27ZQR7LsI9hk8O16glPe7FpmxrBRo3sft+ivnygyGpprPX8rk9z2FxWJicPZlr8q7pOEOICFQ8todHPPobrscjHs1mM1arlVOnTrUaF9ncxkBWkmlvzGOg97gcnlO3243d3HbAd3uDHYVDgUsdmh6r5mi0moDOmdls5uGHH2bkyJGYTCZWrlzJTTfdxPbt27njjjv417/+xR133MGuXbvYsmULGzduZNeuXWi1WkpKSrjuuuuYN28ehYWFHD9+nJ///OfExMTw1FP/WW3m7bffZtGiRezevZsvv/ySBQsW8F//9V/ceOONbdq1Z88errjiCq9tV111FYsWLQr4nMgNIfj8IJCbuLnIq6ysJC4ujszMTIYMGUJcXByfffZZqwkYwdokF8EnB1HiOe9nzpzB4XCQmZnJuHHjSEpK8uv69TgB08sJ9H60DnkCTdHb4LK0SlNay3zk6HpOXjjJ29+9DcCq6avCcs92xXPQXDwGstRjaWkp5eXlXh5If8Rjy25rs9nc7qSaljb6KyDNZjMul6vVutdd6Xm0m+28kPhCl9TVkmW1y4iK8/96zp071+v7hg0byMzM5NixY0yaNIk33niDsWPHsmjRIt5//32efPJJxo8fD8Abb7xB3759efXVV1EoFAwdOpTS0lJWrFjBE088IQ0VGDlyJE8++SQA+fn5rF27lh07drQr+MrKylo5ZDxrz1sslg7H1ssZIfj8oCMPn8PhoKKiQvLkabVaMjMzGTx4cCuvUk8SWR5CFfQ4UA+fZzm50tJS6urqiI+PZ+jQoaSnpwc8sDwcwaOFiOxGRCXgyLgOteHPrZKcCSMiYFBrVn2xCqfbydUDr2ZqztRImyMLghWPvmhPPPoTJNxqtWK1Wjl06BAOhyMo8ejPmMee0q6cPHmSlStXsm/fPiorK6V3bHFxMZMmTSI5OZnf/e53XHPNNUydOpXly5dLeY8dO8aUKVO8zsW0adMwmUwUFxdLk+9GjRrlVWdaWhqVlZVdcHTyRAg+P/D1gDmdTknkGY1GYmNjycrK6rDrMJRCTS4evq7E4XBQXl5OaWkpFy5cIDk5mdzcXMrKykhLS+t0V3kwhDtmlFyvkVztCgqXDWXdgdbblbFYpviYzNHFfGX4ig9PfogCBU9d/FTHGYKgO1zPcD9rnRGPlZWVnD59mkmTJgEEPGGmvdnZza9NcwGo0WhISEigsbGxaR8lPGR8SDpPCoXC63OjpZGo6ChphZlQotEGFhd2zpw55Obmsn79erKzs3G5XIwePdprDfKdO3eiUqkoKyujoaEh4OUrW8aq9Wd4VmZmJuXl5V7bysvLSUhI6NbePRCCzy88L93mIq+iooKYmBgyMzOZOnWq3zdiqB6yUK+D2xm7Qunh84XL5aKqqorS0lJJXGdnZ3uFrqmoqAi6fo8N3eGFJwgPUcefQ9nwQ+sElxUIbRiSYMaGeZZQu3X4rQxLazsmYE9G7s9nS/uUSmWnvY4efInH5l5FT9ex2+1Go9VI45k9dnk+q7VqXLiwuW14FpZpKQrb+9zRfv5SVVXF8ePHWb9+PdOnTwdg165dXvvs3r2bNWvW8MEHH/Doo4/y4IMPsmnTJgCGDh3K+++/7/Xu2r17txReqy38uYemTp3KP//5T69tn376KVOndn+vuhB8HeB0OjGZTFRXV7N161aio6PJzMxkypQp6HS6gG/0UK/aEQrkKPjcbjd1dXWUlpZiMBhQKBRkZ2czZcqUNsV1pF4IIvBy90dhNbaR4iJ230+wTPtHl9rTnP939v+xs3gn0apoHp36aMTskANyv+/CZV9b4tGz1rdGo/Er8oDJZCImJgaVStWmKPR8bvnna7+W+CsedTodqamp/O53v0Ov11NcXMxjjz0mlVNfX8/8+fNZuHAhV199NX369GHKlClce+213HTTTfziF7/g1Vdf5aGHHuL+++/nxIkTPP300yxatKjTcSLvu+8+fvvb37Js2TIWLFjA1q1b+fOf/8xHH33UqXLlgBB8PnC5XFRWVmIwGDAajdJC8pMnTyY+Pj6i4iiU5YRaNIYCs9lMaWkppaWl2Gw2MjIyGD16NCkpKe3aG4pjkasHQa529STsA+9Hc34z4GyVpqrx0dXbRbjcLp7a2dSF+7MxP6NvQt+w1id3QSVnustz2tJb1xnaE4xtffZ837hxI8uXL2fcuHEMGjSI559/nmuvvRaAX/7yl8TExPDoo4/S0NBAXl4eTz31FPfddx9jx44lJyeH9957j8cee4wNGzaQkpLC/Pnz+e///u9Ox8wdMGAAH330EQ8//DCvvPIKffr0YcOGDd0+JAv0UsHXVsy2yspKaUyeRqMhMzOTSZMmUV1dzYULF0hISAhJ3XITfJEWjp4xG1999RV1dXWkp6czePBg0tPTAwoDEQovY2fydpcGX9AaV8IwHOmXo674pHVatN5Hjq7hz9//me8qvyMxOpFHJj0SMTvkQHd4vnqbYG7utQuUa6+9VhJ40HR9bTYbDQ0N/PjHP5a2ea77okWLeOihh6TtF110Edu2bfMSkna7HZvNBsCHH34IwHfffYfb7UapVPLSSy8RFRXFDz/8IL1bPM6d9PR0LBYLZWVlJCcn8/vf/568vDySk5O9bCwtLaWyslIKRu6pz4PD4aCoqIiamhoUCgXJycn07dvX611mNpspKiqioaEBjUaDXq8nMzMz4HMYKL1S8HnwjA0rKyujvLwctVpNVlYWEydO9FpLtba2NmxLq3UGOQm+QMtwOp0YjUbp4YGmqe/jx48PatxLZxtauY7hk/MLRI7nCzpzznzkU0TTOOHdTtkTLFaHlWd3PwvAoomLSI1NDWt9cr2ezRHPQ8+leRvc2XiPzb2KAwcOlMY8lpSUkJSUhEqlkjyBCxcu5IknnuD8+fO4XC60Wi1paWmcOnWqVbkeh9Crr77KX/7yFwAMBgMul0vqSj59+jR2u53Bgwfjdrs5e/Ys586dY+DAgUDTu+/kyZPEx8fTr18/LBYLZ8+eRaVSkZ6e3qnj7oheKfhqa2s5ffo0RqMRlUpFZmYmEyZMIDEx0WeDEmox0BM9fP6U4Xa7uXDhghQUOTo6muzsbAYPHswXX3xBnz59gh7kLAfBFq6wLJE+rt6Auugd1BVbfKQ4cSVGJizLxm83cq7uHJlxmfxi7C8iYoMgMOQsSHsTzT2PzVeyOnfuHElJSdK2kydPAkiznttbMs3tdmM0GsnKyuL555/nsccew+FwUFlZSU1NDSkpKVgsFurq6igoKCAuLg6A3NxcTp48Kb3fqqqqcLlc9O/fH6VSSWxsLGazmfLyciH4wkFjYyNqtZrx48e3KfKaE0oxIcdJG+HE7XZTX18vTb5wu91kZWUxadIkyYvq+aUVaWHT2ZU2BN0XVdVu3wluB9GHl2IduaZL7amz1rFmb1OdK6auQKsJfPnFYJDzvRzp9qEj5G6foPUExUGDBvmd12azYbfbSUhIQKvVSuvvHjt2DJPJREpKCg0NDahUKknsAdJQsIaGBqKioqTwMs0nlyQkJFBWVobD4ZCWhgsHvVLwZWRkkJrqf/eIXAWfnD18FosFg8FAaWkpFosFvV7PiBEjSE1N7fQsKn9tCDR/ZxGzdLsvjqzr0BT/ASlWRTPUxX/qcsH36tevUmWpYlDyIO4YcUeX1i1n5H7fyd0+IUqDv0aeseYtBZlGo5HS7Ha7z9h/arXaa5+WM6o9eex2uxB8kSbUgi9U5chJ8EHTzeoJilxdXU1qaioDBw5Er9e3exOHyo7OCr5IC0ZB5HBmXoMzcTyq2q9bJ6o6vxRiIJQ3lPPagdcAeOqip1ArRTPdHRBiSv709mskWhI/EB6+tnG5XNjtdk6fPk1dXR06nY7s7GxGjx7tV1yo5gjB5Zve3kh1Fa74Ia0Enxs11uGrQ1aHP9fy+S+fp8HewPjM8Vyff33I6u4Iud9ncrcPukc7JGcbw3mNPWUHe/weL5zD4fAaa26326Uxgc29fc3rdTgcUn5f+3i+t/QOhhoh+PxAjoIPItcAut1uampqpMkXDoeDhIQEpk2b1u6ycm0hlwYokh7C7khPOl5l1S40JX9qtV2hVOPI+XGX2XGq+hSFhwsBWDV9lWyeDbkg5/PRk56Hnkyw91BUVBQajYa6ujpJ4DmdThoaGqTxfHFxcdI2zzi+uro6Kc3zf0lJidfM3rq6OmJiYsLanQuhXjOohyJHwRcJD5/JZOLEiRPs2LGDAweagtGOGzeO+Ph4MjMzgxJ7zW3paV2yzWNIBYucX3A9Cc35P4G7ddBlXI2oi97pMjt+tftXOFwO/qv/fzG97/Quq9eDuN86hzh/nSdc59AfD5/T6cRsNmM2m4GmiRpmsxmr1YpCoUCv12MwGKipqcFsNnPmzBmioqJISkoCIDY2loSEBM6dO0dDQwMmk4mioiJSUlIkr2BKSgpKpZJz585hsVi4cOECRqOxS9aBFx4+P5Cr4AsFHdljtVqlyRcmk4n09HSGDh1Kenq69OskVJMwIi345Orhk6PnoKe92Fzxw9tMiz62Ckdu+CdOHCw/yHvH30OBgpXTV4a9vu6GHJ+D5sjdvt6OP9fHbDZz/Phx6fv58+cBSE1NZcCAAWRmZuJyuTh37hwOhwOdTkd+fr7XO3DgwIEUFRVx/Phxr8DLHtRqNfn5+RQVFXH06FEp/m+4Q7KAEHx+0VPj8HloWY7D4ZCCIldVVZGcnExubi4ZGRk+xxjIbZk3gSBQ7AN+jubM6ygt51onumytt3WCtu71lTtXAvCTgp8wMn1kSOvsKci9nZC7fQLva+T5nJiYSE1NDfHx8UyYMKHdvDk5Ofz+97/n6aefBuCll15i0aJF0j5qtVoKstwWWq2WoUOHduIogqNXdukG81DK0cMXynJcLhcVFRV88803fP7555w+fZqUlBQuueQSJk2aRJ8+fdodUBqJ1TpCmR9CP0vYc147Q28cGxgRlEoc6Zf7SsCeOz/s1W89t5XPiz4nShXF49MeD3t9vpD7fSbsE3SGtrp0N23axIkTJ6TvBoOBW2+9lcGDB6NUKr3EnIclS5ZgMBjo06dPWG0ONcLD5wdKpVJ2gg9CJ1BOnTpFVVUVCoWC7OxspkyZQnx8vN/l9IRftaFYms2DyWSipKSEkpISbDYbSqVSiuSuVqu9Prf83vKzZ0mg5gN85YKcX3AB22Y+j6bkz623q2KxDXs6NEa1gcvtkrx7d4+6m36J/cJanyB89IS2sKfSVpuQlJQkTbqApmFM6enpPP7447z00ks+8+h0OnQ6XaeXgOtqhODzE7kJvs6UYzabKS0tpbS0FJfLhdPpZPTo0aSkpATVYIWqS7c7e/jcbjdlZWV899131NfXo9frGT58ODExMdK0fIfDgdPpbPXZbrfT2Njocx/P0j3nzp1DqVS2EobtiUVfolKlUslOOMqB6FOvoHCaWic4zSir9+NKHh+2ut87/h6HjIeIj4pn6eSlYavHH+QuWORsn5x/AIH87Pv4449ZvXo1R44cQaVSMWXKFNasWUNOTg7vvPMOCxcu5OuvvyY/Px9oWvP2888/56uvvkKr1bJ9+3aWL1/Ot99+S0pKCnfccQe/+tWvpJmul112GaNGjSI6Opo333yTqKgorr/+etavX9+uXf379+eVV14B4M033wzvSehihODzg54wacNms1FWVkZpaSm1tbWkpaWRn5/PkSNHGDRokLT8S7C2RFrwdZZg6vesDVxSUoLT6aSsrIx+/fqRlZWFRqORxFxnfgUeOXKEmJgY+vTp4yUGW4pCp9OJ3W7HYrH4FJUOh0Mq05dw7EgkttzW03Cr4tpKIebgvZgvOxCWem1OG6u+WAXAgxMeJE2bFpZ6egJyEyy+iLQgdbvd2M32ttMa7NgV9rDYqdFqAirXbDbz8MMPM3LkSEwmEytXruTmm29mx44d3HHHHXz00Ufccccd7Nq1iy1btrBx40Z27dqFVqulpKSE6667jnnz5lFYWMjx48f5+c9/TkxMDE899ZRUx9tvv82iRYvYvXs3u3bt4mc/+xk/+tGPuPLKK0N+/N2Bntdyh4HuutKG0+mUJl9UVlaSmJhIdnY248aNk6aIHz16NCT2RLoxbr4mb7D4ewwWi4XS0lKKi4txOBxkZ2ejVqsZPXp0p4SzLxQKBUqlkujo6IADWTfHM56wLS9i8++eUARt7dOcXbt2+dU13Z6QjPRLEsA2eDmacxtROOq8ExRqFNbKsNVbeLiQs7Vn0Wv1PDDugbDV4w+Rfoa7O3I4f3aznRcSX4hI3ctqlxEVF9Xxjv9m7ty5Xt83bNhAZmYmx48fZ+LEibzxxhuMHTuWRYsW8f777/Pkk08yfnyTp/2NN96gb9++vPrqqygUCoYOHUppaSkrVqzgiSeekHoxRo4cyZNPPglAbm4uL730Ep999pkQfIK2CeULKdxduh6vkycocnR0NNnZ2RQUFEjBIkNtTyjOjxw8fO3hEc/FxcVcuHCBtLQ0hgwZgl6vR6lUYjAYZNHgt4VCoUClUqFSqTotHJ1OJ1VVVZw6dYrhw4e36VG0Wq2YzeZWaS2Fo8euYMY4Nv/cqftQrcWROQdN8dstDtiBM/Wi4MttB5PNxPNfPg/Af0/9b3RRwcex7C3I4cdBe8jdPjlx8uRJVq5cyb59+6isrJR+sBcXFzNx4kSSk5P53e9+xzXXXMPUqVNZvny5lPfYsWNMmTLF63xPmzYNk8lEcXExubm5AIwaNcqrzrS0NIxGYxccnTwRgs8P5Nql29yjVV9fL43Lc7vdZGVlMWnSJBISEtpthOTSHRuKSRPhmGVbV1dHSUkJBoMBjUZDnz59GDlyJDExXbO+aqSFcEs8C4FrNE3dN4mJiUGV4xGO7XkaPZ/bEo6ezx48AtDpdKJUKjGZTP4LSYWT2AtftLZTHU/jhPAEXv7t/t9SYa5gYNJA5o2YF5Y6ehJyeg7kikarYVntMp9pbrebBlMDcbq4sHXpBsKcOXPIzc1l/fr1ZGdn43K5GD16NDbbf8Ig7dy5E5VKRVlZGQ0NDQFNJgTvpcrcbrfs2tOuRgg+P5BjHD5AWsO2tLQUs9lMRkYGI0aMIDU11e+B+XIRfBD5wMsebDYbpaWllJSUYDabyczMZNy4cSQlJbXZUPa2hsThcnT6fHvEVig8js0F4NmzZ1EoFKSlpXltt1qtNDQ0+BSVg8zvkOY45eNAG/juwC6ISQuoy7ojj2OFuYJXv34VgCcvehKNKrxraPqL8FAFj0dQRBKFQtFmt6rb7cbmthEVFxVxO6uqqjh+/Djr169n+vSmFWV27drltc/u3btZs2YNH3zwAY8++igPPvggmzZtAmDo0KG8//77Xud89+7dxMfHd7tQKV2JEHx+EMqXeWdDvNjtdsrLyzEYDDQ2NmK32xkwYAAZGRndejC9HAST2Wzm4MGDGI1GkpKS6NevH5mZmd36vIaL//nuf/jnyX+yrt86puZMjZgdzYWjh9jYWJRKJdnZ2X6XE/Xt/4GPmMsKXIyuW8kZ/duSSGxrRrXHY+nBlzC0WCwolUrWfLcGk93E8OThTNJNwmg0+ty/013VPQw5n4tIt1/dieTkZFJTU9mwYQNZWVkUFRXx6KOPSun19fXMnz+fhQsXcvXVV9OnTx+mTJnCtddey0033cQvfvELXn31VR566CHuv/9+Tpw4wdNPP82iRYvadHYEIsgPHToENIXYqqio4NChQ0RFRTFs2LBOH3skEW8yP4i0h88TFLm0tJSKigp0Oh1xcXEkJyczevToTtkiJw9fJGxoaGigpKSEc+fO4Xa76d+/PxdffLG00HUghOMcyPEFZ3PaKPy+kApLBVf971VcPfBqVl68koK0gkibFjS2gQ8QVfQWuFuuqqEkxnZGGhPUEZ4QPG2NaywrK6PEXMJfz/4VgJ8N+BkVxopWYxzbE46BjGv0fFYqlR3eS5F+hjtC7vaBPJ9XOaJUKtm8eTMPP/wwo0ePZsiQIbz00ktcfnlT8POHH36YuLg4nn32WaBp8sUzzzzDL37xC6ZMmUJOTg5///vfWb58ORs2bCAlJYW77rqLxx57rM06A7l/xo4dK33ev38/f/jDH+jXrx9nz54N7oBlghB8fhCJMXxut5uamhpp8oVnvb38/Hx0Oh0//PADFouly+wJN11ph/TiLSmhpqYGvV4vrQ08ePDgoMoMZ0Mvh+vTnChVFB9d/xErP1/Jloot/Ov0v9hyZgu3DruVR6c9Sp/4btilohuIPfNaNIb3WiS4cGn7+12MQqFAo9G0uSpNQ0MD7/7wLg63g0v7XcpdM+/yuZ8nPmZ74tHz2WaztbmPZ5yvZ9JOe6LQk9dgMLS5nz/CMZzIWVDJ7Tltidzsu+KKKzh8+LDXNovFgt1u5+abb261/8MPP8zDDz8sfZ8xYwZffvllm+Vv3bq11baXXnrJLyeJ3M5VqOiVgi/QRqMrBZ/JZMJgMFBaWorD4Whz/JicVuyQg5ewo/weAV1cXExZWRlarZacnBzGjh1LVFRUyAR0S5t6KhnaDB4c+CCrrlnFql2r+L8f/o93j7zLX479hZ+P+TmPTHqElNiUSJsZEAqHj8DLqngsE/8QsjqO1R7j45KPAXj64rZX8FAqlSiVynaXM/SH5sKxI/HY2NgoBRBvuY8v4RiMp7F58O+e+Hx0h2PqDjaGg7a6dG+55RZSU1MpLi72u6zVq1ezevVqzGZzKE0MO71S8AVKuAWf1WqVRJ7JZCI9PZ2hQ4dKXqe2iPSKHaEsI1w0NjZKMfPsdnubs5flsNJHW+XKmcEpg3n3+nfZV7qPp3Y+xRclX/Dq/ld567u3eHjiw9w39j60mtbhgOSG+uwm1BWftk5wNUJ0Vsjqee3YawD8aMiPGJMxJmTltkUgwrG2tpbvvvvOqzvLQ0vh2JZ4dDqd7c6obi4cAxWMFosFt9uN2WyWpXCUaxsoaMLX9Tl58iRAwMHx77vvPn7yk58AkJ6e3nnjuggh+PzA06CEYhaWRxg4HA4pKHJVVRXJycnk5uaSkZHhV+McqRU72iLSorF5fpfLhdFopKSkhMrKSlJSUsjPz0ev13e7tQ+he7xIJmVP4p8/+SefnPmElbtWcqTyCCt3reR/Dv4PK6au4PYRt6NWyre5UdV9A/g4z247Md/cT+PY9pdj8oftRdvZU7EHtULN4xc93unyupJQehzb8zS2DMfTPK2xsRGXy0VVVVW7wrEtwdjePmK5wd5By/fdoEGDgionJSWFlJTu1YMBQvD5RagEn8vlwmKxUF9fT3FxMbGxsWRnZzN8+HBiY2ODsqmzyCGGnofOCj6bzcb3339PaWkparWaPn36MGzYML/PrRw9fHLF1zVXKBRcNfAqruh/BX8+9mee3f0sRXVFPPj/HuQ3+3/DyotXcu2ga2XjkWmOPetGNOfeApwtUlSoyrd0uny3281TO5uWfLqp/00MTBrY6TJDTVfcv0qlUlrlJ1BOnjyJ2+1m8ODBba4a4+tzY2Njm6LSc8zNZ3sHu2KMy+WS5b0taEIOYXMijRB8ftBc8AWKJ3hvaWkpBoMBp9OJVqtl8uTJxMfHB30DhnvFjkiUEQx2ux2DwcDZs2exWq1ER0czZswYUlJSAipTrg2BXO1qD5VSxS3DbmHu4Lls+HYDa75cw8nqk9z299uYmDWRVdNXcVGf8KxeESyu9Bk4Ui9GXbW9RYoTd1RSp8v/8OSHHCg/QKwqlnvy7+l0eb0dj3AMVjx6aBn8uz3Poyccj699mrd/FRUVIRnj2BsJ54+O5uK+tyIEnx8EI/jMZrM0Lq+xsZHMzExGjx5NVVUVNput02uuys2j1JWi0e12U1VVRUlJCeXl5SQkJJCcnIzT6Wy1lE446m/PrpZlhgI5XefmdGRXtDqaB8Y9wO3Db+fVr1/ltf2v8ZXhK67+89VcNeAqVl68kuHpw7vI2o5xxfZrtc2tjKVx9G86Va7daefpXU0TNG4feDupMamdKi+cyP1lGGr7PLEOOyMcPetUnzp1CrvdTt++fdsVj+3FcfQ8U0ql0q/uaKVSKYlWTygfhUIhnSe5X8+uprefDyH4/MBfwWez2SgrK6O0tJTa2lrS0tIYNGiQ19ixCxcuyMYzF6pyuuohMpvNlJSUUFJSgsvlIicnh2nTpqHT6Th79izV1dVdYocventD0h6J0Yk8cdET3Dv6Xp7/8nkKDxey5cwWPjnzCT8d9lMem/YYuQn+xbkLF0rjVqJKWs/GVSgUuFIv7lTZb3/3NqdqTpEWm8btebd3qqxwItcfFh7k2iXnmbnsGeMY7I95j3D0Z4yj3W7HYrHgcrnQarXYbDbcbrfPa9hcAAJSNALP9ubi0Nd3z+euIlx1yf3+7gqE4POD9gSf0+n0CoqcmJhIdnY248aN8/mrUU7hVEBeXbptnd/y8nKKi4uprq4mPT2dYcOGkZaW5tXtEQ4PXVfn94UcX3AQnF2ZukxeuuIl7h9/P8988Qzvn3ifPx79I387/jfuHX0vSyYvITU2Mt4vTdnfwe0AFHhN3nCa0fzwCvZBDwVVboO9gee+fA6AZVOWEacOPKC3oHfgEY6BTCzzOBliY2O91vduLv48n10uF1arFZVK5ZXmcrla7duRcPRHKLb1PVLI9QdDVyIEnx+0FHxut5sLFy5QWlpKeXk5UVFRZGdnM3ToULTa9kNQyMkzF6pyQmVL8/NbW1srxcyLiYkhJyeH0aNHd2rd1fYIxezrcNHTfpnmJ+fz1rVv8WDZgzy18yl2nN/Bawde453v3uGhiQ9x/7j7idN0ThgFes6cSePQnNsEuFqkKIk6/XrQgu/1A69T3lBO/8T+LBi1gLOnzgZVjqAJOb+w5SQofAksT5dvIN3XvoSjr++dFY6e754ybDZbWISjXK5PpBCCzw88N0l9fT1nz56ltLQUt9tNVlYWEydObBXTraOy5BROJVSEQjTa7XbOnDlDSUkJjY2NZGVlMWHCBBITEzs8Xjl4+Hwht+skJ8ZnjufvP/o7n537jJU7V/Jtxbf86otf8btDv2PF1BXcMfwONKrOhQHxF0fuHbhOv46y/kjrREVwA+irLFW88tUrADw+7XGiVJ2bYNDb6Wk/fCJBoO1RqDxzgQhHT9iylukt2bVrF9dddx3nzp0jOTnZpzh0OByYzWZUKhXXXXedtDLH119/zbhx4/w6tsLCQu66q2lFnIceeoiXX3650+cjUvRKwRfIDewJ3Atw4MABMjIyGDFiBKmpqUHNpJJTOJVQldOZMlwuF5WVlTQ0NHD06FGSk5MZOHAgGRkZXRozLxQevnAJRrm+6EJ1/13R/wou63cZfz32V57Z/Qxna8+y6P8t4jdf/4anLn6KG/Jv6BLhbE+9hOgWgs+tUGPNXxZUeS/ufZE6Wx2j0kfxo6E/aipPptfSg/iBEjxut7vXzq7tCH+Fo9VqxeVytRlKq7n4mzlzJmfPniU9PV1qJ1t6HC0WCxUVFbhcLux2OzfeeCM/+9nPsNvt7N+/H6VSSUVFBc8//zxffvklOp2OefPm8etf/xq1Ws23337LoEGD+Ne//sWyZcsoLy/n66+/Jj09nX79+nH8+HHq6+u9bPSkNT+moqIi6uvrUSqVpKam0qdPn4g8a71S8HWE3W6nvLyc0tJSqqurpQCLU6ZMkc3sWjmVo1AopECo/mIymSguLqa0tBSlUolKpWLQoEH0798/aBvk6OELBXK1K5QoFUp+UvAT5gyew5vfvsnzXz7PqZpT3PmPOxmXMY5V01dxSe4l4TPA9ANR599pvV0Vi6O/7/Vu26Oorojff/N7AFZOX4kySC9hV9Id7jMhSHs3zYVjbGwsffq0v253bGwsqalN44Kjo6PR6XRcddVV0qovNpuNO+64g4yMDHbv3o3BYODOO+9Eo9GwevVqCgoKpLKSk5NJTk4G8Aq6nJaWRk5OjvS9ueh3u9388MMPaDQahg4dKvViKRSKDm0PB/JvhboIz+oMhw4d4vPPP6eoqAi9Xs+MGTOYOHGiJEo6i9wmbYSynI5wOBycP3+ePXv2sHv3bqxWK6NGjWLGjBlotdpOhUbo7HmVq4dProTrxRuliuK+sffxzYJvWD5lOXGaOA6UH+Dav17LjX+7kW+N34al3ugzv0PhbKBp0sZ/UDjqUBp9LLnWAc/ufhab08aMvjO4vN/lIbKydyP350tOY/i6Ax9//DGXXHIJqamp6PV6rr/+ek6fPo1CoeDs2bOo1Wr+93//l4svvpi4uDhGjx7N9u3/iZO5bds21Go1NTU10rYvvviCyy67jPj4eNLS0rj66qtbRW9QKJqCbEdFRbFz506OHTvGH//4R8aMGcPVV1/Nr371K1577TVsNhsajUb6UygUUqxXnU4nleeZne35a64T6urqsFgsDBgwAK1WK03q9Hgdu5peLfjcbjfV1dUcOXKEzz//nKNHj6LVapk2bRrTpk2jf//+0swnOXnU5FZOe2V4YuZ9++23bN26lfPnz5OTk8Oll17K6NGjSUtL8zvsTbiJdP2+6K0vkIToBB6b9hjfLPiGe0ffi1qp5rNzn3Hxuxdzzz/v4Wzt2ZDW54r2rIfZ+h6IORxYl+53Fd/xp6N/Apq8e93pGsrdVrnbF2ncbmhoiMxfoM2n2Wzm4YcfZu/evXzyyScolUp++tOfegmh5cuX88gjj/D1118zZcoU5syZQ1VVlc/yDh06xJVXXsmwYcPYtWsX27dv59prr5Umq/gS5Hv27GHkyJFkZGRI26666irq6uo4cqT1eN7GxkavdxY0hVo7dOgQR44cobi4WKoPmnqyYmNjvZYkTExMxOl00tjYGNgJCwG9skvX5XJx8uRJSktLcTgcZGZmMm7cOJKSktptUOTkUQvlWMBQlNHymCwWixQzz+FwkJ2dzdSpU4mPjw+LHZH28EH4BKMchWhXoY/Ts/bytdw/7n6e2f0Mfzv+N/587M+8f+J97h59N8smLyNNm9bpeuyDHibq7AYUVkOLFCUKpymgsp7e9TRu3Nw4+EbGZ45vlS5ES3DI/TmQg31mMyQmttUTpQLCN3GottZJXACT6+fOnev1fcOGDWRmZvL9999L3bD333+/tN9rr73Gli1bePPNN1m6dGmr8l588UXGjx/Pb3/7W2nb8OHtB3YvKyvzEnuA9L2srMxru8PhwOVySbZBU9duVFQUGo0Gi8VCcXExjY2N0hq9dru91frTarVaSutqeqWHzzMjdOjQoVx66aUMHz5cmuXTFkqlUjYeNTmWA03T/g0GA1999RU7duygtraWIUOGcOmll1JQUNCm2Au1HcESacEoaJu85Dw2zd7E9tu2c2m/S7G77Kw/uJ7Rb47muT3PYbIFJspaoVRjz7rJZ5I950d+F/NF8RdsObMFlULF4xc93jmbBN0K0aUbGCdPnuS2224jPz+f5ORk8vLyACguLpb2mTJlivRZrVYzfvx4jh075rO8b775hssuuyxs9trtdqKjo72GHqWnp5OYmIhWqyU1NZUBAwZQU1MTEe+dP/RKD59CoWDYsGEB55OTwJJLOW63G6vVSnV1NZ9//jlRUVH06dOHkSNHegUC9besYJGDhy8cyNUuiIxHY2zGWD686UO2ntvKyp0rOWQ8xOo9q/n9N79n+ZTlzB85P7hzZqtDXfZ/rTa7NQnYhv/aryLcbjdP7nwSgPkj55OfnB+4HREk0j+4/EHOz4Mc0GqbPG2+8Czr1nz8WajrDoQ5c+aQm5vL+vXryc7OxuVyMXr0aGw2W1D1tzWztzkt75/MzEz27dvnta28vFxK82C1WnE4HB3WEfdvF6fVaiUmJgaNRkNDQ4PXPg6HA6CV568r6JUePgi84QjVdHu5CLXmBFOOzWbj7Nmz7N69m5KSEtxuN+PHj2f69OkMHDgwYLEnh4Y8koKzPbrDi7iruazfZWy7bRubZm9iQOIAKswVLNm6hImFE/mk5BNc7sAGREedfhVl43laTdqw14HpB7/K+McP/+Arw1do1VqWT1keUP2CjukOz0Gk2zGFAuLi2v7T6RTtpnfmL5BDr6qq4vjx4zz66KNcfvnlFBQU+Fwac+/evdJnh8PBgQMHGDp0qM8yR44cydatWwM6X1OnTuXw4cMYjUZp26effkpCQoKXU6iqqgqFQtHhxELPsnUeMafT6bBYLF7dt3V1dahUqoDfkaGg1wq+YAjFrJpIC7WWBNJAuVwuKioqOHjwIJ9//jnl5eX069ePgQMHkpiY2GG3eEd2CA9f90EO50upUHLTkJv4av5XrL1sLenadM7UnmHFgRXcsfMOPj/3uf+FuTxehZb3kIvYA/d0mN3hcvD0F08DcP/4+8nUZXaQQ57I4bp2V7qDIJULycnJpKamsmHDBn744Qe2bt3KkiVLAO978I033uCDDz7g2LFj/PKXv6S6uloKgtyS5cuX8/XXX7Nw4UK+/fZbjh07xvr166msrGzTDs8kjzvuuINvvvmGLVu28Pjjj/PAAw9Iqzq53W4qKyulmboePDF6GxoasFqt1NTUcObMGXQ6nbTiVkJCArGxsZw5cwaz2UxtbS0lJSWkp6dHJGajEHx+0hMDJvtbTkNDAydOnGD79u189913xMXFcfHFFzN58mT69OnTpQGS2yPSglE0+JEhShXFvWPu5ZsF3/Do1EfRqrQcqz3GDX+7gRv+dgOHyg91WIZt4C9xq3yNONegtBT72O7N5iObOXHhBCkxKTw0Ibhl2AQdI3dBKnf75IJSqWTz5s0cOHCA0aNHs2TJEp5//vlW+61evZrnn3+ecePG8cUXX/D++++TluZ7ktbgwYP517/+xTfffMPUqVO5+OKL+b//+z9pkgS0vj4qlYp//OMfqFQqpk6dyu23386dd97JqlWrpH3q6uqkEC0tj6Guro6TJ0/y3Xffcf78eZKTk8nP/89QDoVCwaBBg1AoFBw7dowzZ86QmprqFbevK+mVY/iCIZjgwm2VEwrCLUAdDgdlZWWUlJRQU1MjrTDSckp6e2WEwo5A8suJxsZGzp8/T21tLWq1WorPpFar2/1r+atPCEn/0UXp+O+p/82l8Zey8eRG/nbub3x+7nM+P/c5Nw25iScueoKBSQN9Z45Jx5HzIzRFhS0SHDiTJ7Zbr9luZvXu1QAsmbyExOjEzh+MoBVyfw7kbp/cuOKKKzh8+LDXNpPJhEKhwGBomi0/dOhQ9uzZ4zP/zJkzpfFwHmbMmMHOnTt97t/W9enXrx///Oc/27QzMTGRCRMmtGqbo6Ki2uxebk50dLSXCIwkQvD5SU/18DXH7XZTU1NDcXExZWVlaLVacnJyGDt2bLtjF+Qg+KDzDW5n83u6vM+fP09FRQWpqakkJibicrlwOBxYrVYaGhpwOBxef56o74AU4NsjAO12O263m++//95LGLYnHruqq0CuL7iU6BSWjljKiktX8OzuZ/nLsb/wt+N/48OTH3LXyLtYPmU5+ji9dyaXC2XDmVZluTVJNI7b2G59/3PwfzA0GMhNyOXe0feG8lC6FLlez+6E3H54CrzZvHkzf/nLX6T4e/7m+fnPf47FYmHMmDHhNTDMCMHnJ3ITaqEsx263c/r0aYqLi7Hb7WRlZTF58uROLyPXlYQijl+wWK1WGhsbOX78uLRkztChQ4mJicFms/klwJxOJ06ns5UYLCsrk6K7OxwOLBaLz/2aLzauVCr9EobN92npgewJa4IOSBrAhms28OCEB1m5ayX/7+z/4/ff/J4/HP0DC8cv5MEJDxIf1RQqSHP2d6gu7GpVhsJhAtr27F+wXGDdV+sAeHTao0Sro8NyLIIm5CyoRFgWefPqq69iMpno27cvubm5fue7/vrrmTx5MgBJSUlhsq5rEILPT+Qm1KBzv8g9S8lVVVVJ0cPz8/PR6/UBj8mTg4evq/O73W4uXLjA+fPnKS8vR6VSkZWVRUFBgSSWAhkCoFKpUKlUrTypZrOZhoYGBg5soyuymT0eT6LHa+hLFHpEY1v7+RKNvjyLLpcLl8uFwWBocz+5iMZR+lG8N/c9dhTt4MmdT3Kg/ADPf/k8G7/ZyLIpy1gwagFRlnPgdtE0rLnZdXPbiDlwD42T/uSz7Je+eolaay3D04Zz89CbO7RF7l40OQsWuZ87udMdzp9HNPfv379Vd21nyczMxOl0Brxee3x8fLsxZLsTQvD5iVyEmodgG+b6+nqKi4spLS2V1hPU6/VBxSVsbkt3aExCgc1mo6SkhPPnz2O32+nTpw8XX3wxR48eJTExMWIiR6FQSKLRM7ssUFqKxvbEY2NjI263G4PB0GrfjkSjv97HUIvGS3Iv4fNbP+fDkx/y9K6nOVVzimWfL+P1A6+zdtyd3KjUNJut++9zQhSqmgM+yyuuL2b9wfUArLx4JSqlPCYv9WTkLkjlbJ9AIASfn8jNwxdIOXa7HYPBQHFxMQ0NDWRkZDB27FiSk5M5evSoLGbZRtrDB20Lcc/YxvPnz1NWVkZiYiKDBg0iMzNTNl6sUBCIaDSZTNTW1jJu3Div7W2JRl8i0maztZnuwWOPv5NeVCqV1I1ut9tRq9VeL2GFQsGcwXOYnTebd468w6/3/JqztWe56fNV/LNvAlfF2FCgwBOeRYEdZ2w/n+dg9e7VWJ1WLsq5iCsHXBnkWZcPveVHW2+mOwjScNkoBLkQfH7T3QSf2+2mqqqK4uJijEYjCQkJ9O3bl6ysrHanqYfDlq4qo7P1t8Rut1NaWsr58+dpbGwkJyeHadOm+YxUHy77I31e2sOXXaHyNLY1prHln9VqbbWf1WqVvI+AT6GoUqmYFjWN92a8xx/P/pHCk4WUWusgGsAtxV92qRMxj/0dLe+O7yu/5w9H/wDA09Of7vUvkq5Ars+BB7nb19sR16cXC75AX6TdRfCZzWZKSkooKSnB5XK1K1JCZY8cREmoPIRut5va2lrOnz+PwWAgPj6eAQMGkJmZKQtPaG9AoVBIwiwY0Xjy5ElcLhd5eXmtuqXtdruXQFQ4FNzW9zbu0CYytmY1in979tzuppF8LoeZz788hUpT5CUYnzjyBC63i5kZM0kxp3D27NkOPY8eUSjEYfDI/dzJ3b7eTm+/Pr1W8AVKKIVaKGhuj9PplGLmVVdXS2Py0tLS/OpyjLRYg8iHZfF0Me7evRuz2Ux2djZTpkzxe6ZyOD18keZb47dsPbeVaFU0MeqYppmodjhfcx77WTsxqqZtMeoYYlQxRKmimvbz7K+K7vLjaC4a/SHqyLuoa8GNEgUuFG5QAQq3jWjr42SO2kxqVCoOh4O9hr3sqtyFEiUPDn8Qp9MprbXpq+vag1qtxu12o1Qqqa6uDnhsY3PRGC7kcL91V+TQjgraxvPs9WaE4PMTuXn4PGOlvvvuO8rKyoiJiSEnJ4fRo0cH5BUJRUBpOXgJg31R1dXVcf78eUpKSgAYNGhQq27v3s7mI5t54+AbvhNP+VeGRqlBo9QQpYoiWhUt/R+tjpb+j1HFEKuOlYRjjKbpe6w6llhNrG8x+e98zcsoM5WhUWpIMadI+2uUmnbvEWfqpXDmf1C4/z1+UNHk5Wt0Q4H1KMP+dBH3j7+fB8c/yCtHXgHgjhF3cMWYK9o9bk/3tEcAnjp1CpVKRVpams+JMP6IxkBC7rTcvytEY7joDoKqu55buRDOa9wd7p9wI95qfiIXwWe1WiktLaWoqEgahDpx4kQSEhKCamzkMoYvFPhrg9PpxGAwcP78eUwmE1lZWQwePJji4mL69u0b9vrlUq6/XGi80Oky7C47dpcds8McAov85DPvr0qFEqVCiUqhavpTqlAr1E3/K9X8JVXJRVFNXblKmobxqRVQ51Jgdph5ce+LrNv7Mi4caBRRrJi6okMTWnoao6OjiYqKIjPT/7V23W63l/hr2S3t+bPb7W2G3PGIRs8YS1+C0GazYbVaOXfuXIerwURK2MhZUEX6Oe1tbNu2jSuuuILKykq/4uPdcsst7N27F4CDBw/6HUS5sLBQWr/3oYce4uWXXw7S4sgjBJ+fRFLweVZwKCkpoaKigpSUFHJzczl+/DjDhw/vcnvCQVd4+Orr6zl//jylpaXExMTQt29fsrOz0Wg0VFRU9Kil3ULJTUNuIjE6EafLicPlwOF2YLFaqKiqICUtpWmby4HdZf/PPv/+bnfZsTlt2F12aXvzfZ1u53/+dztxuTu/fGFbuNwuXG4XDnzH9/oiGqYmQ/NLaXHBQuN/7gvXv/PqlGlkx2eHzdbmKBQKNBpNq7U8A6G5aGwv7I7b7aa+vt7nPv6IxkBWg+mJz4ycj0kO7bw/+HsOp02bRnFxMYmJ/i9leOutt7J27Vqf6/FWVVUxevRoaWiUR0TefPPNzJo1i7lz5/pdj1wRgs9PIiH4TCaTFDNPqVSSk5PD0KFD0Wq1WCwWjh8/3qX2hLMM6FyD1JYNTqeT8vJyaV3bzMxMxo8fT1JSUqtwHZ2lp47hmzVwFrMGzvLa1tDQwFdffcXMmTNDWpfb7cbpdnqJQ+nP7WPbv/88eewuO+fOn8PpcpKelU6joxGL3dL0v8OC1Wml0dmI1WGl0dGI1WnF5rSR7Sjjl+6dKPlP96kDQKGkUjeU/Fg7NoeNogsVuNVmZiXeH/TxRQJ/RKPRaMRqtTJixAif6S6Xq8OZ056xsGaz2We6Z/iIx/MZSMgdm80meSHlKBq7i6DqKQTqKQeIjY1tM8/dd9/NqFGjpOE9zfPExsa2u7xod0EIPj/pqsDLdrudsrIyiouLqa+vJyMjg9GjR5OSkuJToMghtlCoRGMoaWhokMbmRUVF0bdv3w7XBJarh683vUgUCgVqhRq1Mvim6aT1JG63m8GDBvudJ+rI40Sd3kFTk9jkxVMDiQo3X1/ycxz9m7p0rrwyli+/VHLtZqu0X0+ivftYqVSiVCo75Wn0iMa2uqWbh9bxrDvt2c9isVBfX8/Zs2clW4MJ6N1yTGMoiXRb3BFysu/jjz9m9erVHDlyBJVKxZQpU1i9ejVDhgzh7NmzDBo0iM2bN/Ob3/yGgwcPMmjQIF599VVmzJgB+O7S/eKLL3jiiSf46quviI6OZuLEifzhD38gOTm53Xb0jTfeoKamhieffJJ//etfXXH4EUEIPj8Jp4fPs0xXSUkJZWVlxMfHk5OTQ1ZWVoeNa2cFnxy8c6GwwzP5xDM2r7q62ivAdEfnSE4NYXdAzucrqGETukGgUILbW8S5URF16hVJ8DXRu2f6dYbOiMZvvvmGtLQ0srKy/FoNprlobLlPS09je6KwIw+kZ+anHH6Yud1uzHbf42RtNhtOlxOXKjzDJrQabUDtgtls5uGHH2bkyJGYTCZWrlzJbbfdxr59+6R9li9fzrp16ygoKODll19mzpw5/PDDD6SmprYq79ChQ1x55ZXcddddvPTSS6jVarZt2+Y16cmXfUePHmXVqlXs3buX06dPB3jU3Qsh+PwkHILPYrFIMfOcTidZWVlMnTrVr3X7whHepTNlhIJg7TCbzRQVFWGz2Th58iR9+vQJeLZyZ+qHnh2WpTfg6HsnztNvoDJ93yJF4T2orwcjB8HSHs2X7IuKiupUF1t7q8E0F4YtRWN76057ZlqXlZUFPLYxVOFCzHYziS/4P6YtlNQuqyUuKs7v/VuOiduwYQOZmZl8//33ksfu/vvvl/Z77bXX2LJlC2+++SZLly5tVd6LL77I+PHj+e1vfytt62iMu9Vq5ZZbbmHNmjXk5uYKwSf4D6HyhLndbr766isuXLhAWloaQ4cOJT09PaCHvnmXbihs6gyRGAfomchy/vx5qqqqSE5ORq1WM3369IjNVg4Xcn8R9wiUShwZV6MyHadpnq5nuxrboIcjZpbAm1A9p6EQjS1Xg/n+++9JTk5Gp9N5CUOLxdJm93Vb60772y3t8VR2xzbi5MmTrFy5kn379lFZWSkdy/nz5yXBN2XKFGl/tVrN+PHjOXbsmM/yvvnmG2666aaAbFixYgUFBQXcfvvtwR1EN0MIPj9RKpVBP1Rut5u6ujpKSkooLS0FIDU1lZEjRxITExNUmaESfN1t0obFYqG4uJji4mIUCgV9+/ZlxIgRWK1Wvv766069ECIZ+Lk70qOOt9FAVPEf8BJ7KEGdgCP3zkhZ1eWIHz7+4xkD6BGNarWaxMREMjIy/Mrfct3p9sY0thVuByAjI0OaJANQurDpHaNQKJr+aPrf6XLidruJ0kR5rfri+fN8DxatRhvQ/nPmzCE3N5f169eTnZ2Ny+Vi9OjR2Gy2oOqPjY3tcJ+Wx7d161YOHz7MX//6V+A/91haWhqPPfYYTz/9dFC2yJVeK/iCubEDbXBsNhulpaWUlJRgNpvJyspi5MiRHDx4kAEDBnR67F0wNrVVTqRpzw632y158yorK0lLS2P48OGkp6dL+YJtJPypvyvyd3W5Am+izm5EYa2g+aQNcKGwVaCs2I4rfUYErRN0BwJtiz3hbTqz7vT/Z++9wySpy7X/T3WanHMOu7M7m/OygSXJDxBQEeRV0VeCAgoIBxBBEcFwwDUBIgcUDnKOgnp8RdSjoggucVnysmlmJ3WYnEPnUPX7Y6iip6e7p+NMzU7fe+01M9VV334qfeuuJ9yPy+ViYGCAjIwM0tPTkSSJDClDsUWOKMkC4JIkoRE0M5YDSHzwM5AABiOFwf6OBiMjI7S2tvLwww+zZ88eAF5++WVlPBkHDhzglFNOAcDr9fL2229zzTXBK+TXrVvH888/z1133RWxHb///e9xOBzK32+88QZXXHEFL730EsuWLYtqn5INq9XKjh07OHDgwIzr5YILLiAnJ4df/vKXc46xZAlftIjUiyWKIiMjI3R3dzM4OEh+fj719fWUlZWh0+lwuVxAYoot5HHigVo8fMHGcDqd9PT0YLFYkCSJ6upqVq9eHfRNLhE2LPT28z1uPDjRiKiklb0TgZW3AmlHb8dx6svzbdK8Q43XWSDUft3Nt33y98nFMOHgcrkQRTHo/DmD/PmRwWDLQq0TaFc40piVlUVRURE///nPKS0txWKx8I1vfGPWOA899BBNTU00Nzdz//33MzY2poggB+LWW29l48aNXHfddVx11VUYDAb27dvHJz7xCYqLi4PaGUjqhoeHAVi1alVEYs7ziaysLHw+H3/605+4+OKLgWkppb/85S/84x//iGiMFOGLEHMRCpvNpmjmAVRVVXHyySeTlTUziTWRuXeJGkcNhE+2Q5IkRkZGsFgsDA4OUlRUxKpVq6LOcYwWavXwpTA/8DR8EUPXwwiufr+lApKgR/BOKkskKTGdaVKIHmonpGq3Lxxi8dIFIlrS+Nhjj/HVr36VzZs3s3z5cvbu3cv555+P2+3GZrMBcOedd3LPPfdw6NAhGhsb+e1vf0tOTo7SuxpQwtzLli3jr3/9K3fccQc7d+4kIyOD7du386lPfWrGfi5WCILA+eefzy9+8QuF8P3qV7+itrY2Yj3UFOGLEMFIjdfrpb+/n56eHiYmJigtLWXt2rUUFxfPeWGpJRSrlk4boigyNTXFSy+9hNfrpaqqij179pCZGVleiBo8fMmAWs7PCQ9dJp6KT2Ew3ue3UAJJwlvx8VmrL+LnRgpJhNoJRTLti5Y0nnfeeZx33nkzlo2Pj5OWlobZbAZg7dq1vPzyy0FJ465du5icnESSJBwOB5IksWXLFv76178q4w0ODipyZ/J6JpNJCaXL/3NycjAYDJx22mnKd/X29ioOHJju1DQyMqL8LYqiIgEmiiK5ubnU1dXNkBxyuVyYzWampqbQaDQUFRVRXV0d83m4+OKL+cEPfkBPTw9VVVU8/vjjXHbZZRGPlyJ8EUJ+8EqSxNjYmHIRZWVlUVVVNaeor4xEaTapKYcvVlIiH0uz2czAwAAGg4Hm5mbKysqS6s0LhkR4+FLEbBHD60Q7+q+AhQJSWgHu1SdW4nY4LGXCEi9S939iIOc2AooOYjTwJ4Xl5eW4XC58Ph+CIPCb3/yG3//+9zz11FM0NTUpldZyj+tAZGRk8Oabb3LttdficDjYvXu38pncvamxsRGtVovZbKajo4Pm5mbFjvb2dvR6Pc3NzXg8Hrq6uhAEgerq6piOzerVq9mwYQP//d//zVlnncWRI0f4y1/+EvH2KcIXIXw+H5OTk7z00kt4PB4qKio46aSTyM3NjWk8NRG++R5DLmaxWCy43W6qqqqoqalRtAjnw4ZgSE3Y0eFEOl5648/QTh1hWlRZrtSV0LhHwWaErPoFs22+oPbzqXb7QN2EdKkgMFdQTqv6/ve/T1ZWFgUFBdTW1kYsyXPhhRcqRE/O6/N6vQwPD9PQ0KBwgPr6eo4cOYLVaiU7O5vJyUkcDgcrVqxQSGtlZSU9PT1UVlbG7NT4whe+wH333UdPTw9nnnkmNTU1EW+bInxhIIoig4ODdHd3Mzw8THp6OitXrqS0tDTmljyJzOFTS8FFJJAkifHxcSwWC/39/eTl5bFs2TLKysrQarV0dHQoeRvxfEesUKuHL/UAmSd4pyDY+ZN8ZBz8Mo5df55/m1JYVFgMhHQxQBAE6uvrlRy9RKG0tJTy8nIKCwsj3sblctHZ2YlGoyErK0tpimC325EkaYbDR+63a7PZyM7Oxmq1kpGRMcNDmZeXh9lsxul0RpyuFIhLLrmEr3zlKzzyyCP893//d1TbpghfEPhr5un1eqqqqsjIyEAQhJg9UDLUWLQRL8KRHY/HQ19fn3KRV1ZWhuwmciIStkRAjXapnYhGe8w8dZdPF234FWhMF22kIziMCbUthdih9utO7fYtZUQ7J2RlZVFfX096ejoej4fe3l5aW1tZs2YNHo9HacvnD71ej8fjAaaffYHhaHl9eZ1YkJeXx0UXXcRf/vIXLrjggqi2TRG+9+F2u+nr66OnpwebzTarD+vx48fjOkkyEjkhqMXDF2yMiYkJLBYLfX19ZGdnU19fT0VFRUjPaCKOy0ITo4X+/hTiQEYVnqpPYjD9JyAAPkBCkLz4CnbMsXHkSF0jsUPtxy5ln/oRzXMmL29mi7qsrCwOHTrE6OjovOeYB6Knp4fPfOYzUes3LmnCJ0uAyJp5ubm51NbWUl5ePou5J8oDlOiQbiLGSNRE4PV66evrw2KxYLPZqKysjDjPMV47FpowpoSXFzlEEcE9yMxOGyClFeJc/8DC2LQAUPv1lrIvhVgRr/atTqcjLS0Nl8tFbm4ukiTh9XpncAV/r55er5+VpiSHqaMtRJExMTHB3/72N/bt28d//Md/RL8PMX3rCYDe3l6OHTuGJElUVlaya9cusrOzQ66fSGKUSPKoBh0+ua3Pv/71LzIzM6mpqaGysnIWaU6mHf5EOpabeqEJ40KMmwjEO4mqBbqeX6Pv/xvT3j2/4+2ZYLYY84kJNV9niwGp43diw+fz4XK50Ov1ZGZmIggCU1NTFBQUANONAtxut1Ikkp2dTV9f3wwSODk5iVarjbml6oUXXsjhw4fZu3cvK1eujHr7JUv4MjMzWb16NcXFxRG5Z09UwhfrGD6fj/7+fiwWi6KFtH37dvLy8haMcMULNXr41IoTbX811namw7g6wC91Q3SSfvB6nFseWyDLUpCxGAiV2u8LtduXzHMc7cupxWIhPz8fg8Gg5PAJgkBhYSE6nY7i4mIsFoui5Wc2m8nKylIcR7m5uWRkZNDV1UV1dTUej4eenp64mgg899xzMZNFWMKEr6CgIGjhQCicyIQvGlitViwWCz09PaSnp1NTU8PKlSt58803425Fs9g9fIGw2WwMDg6i0+mU/3q9Xvldq9WqfgJeKvBWfAxD53+A5PBbKoCQiWb8rQWzK4WZUPP9shgI6VJGtM8Gt9tNZ2enErbNzs6mublZ8dbJcigdHR1KxW5dXZ2yvSAILF++HLPZTEtLiyK8XFVVldgdiwJLlvBFi0RXcaqlSjeS/RJFUfHmTUxMUFZWxpYtW8jPz0cQBKxWa1w2yHYsNOIlnLLY59DQECaTibGxMfLy8pRcD///MvzJYCAh1Ol0OBwOXC4XQ0NDyueyGGmKMCYOYv5G3OXnYej9PdNhXZHpog0XvswP+m2mnukLh8VAqFL3Y/yI9Bju27ePM888k+Hh4YicDZ///Od58803AXjnnXfYuHFj2PXlPruPP/640r/3hhtu4L777gOmmyjU1dXNIHmBSEtLo6mpae6dmSekCF+EUKuHL5m2yP2Bu7u70ev11NTUBO0oooZq4XiLYeI9lqIoYrVaeemll/D5fNTU1LB27Vo0Gs2ssSVJwufz4fF4ZhFB//8OhwObzaYotEdCGEMRx2CfJ4Iwnig5fAAYSpnO3/vgGpIMRTg3zi7aOFF2ORAnzLlcACwGQnoiYdeuXXR3d8+qpg0FSZK47LLLuOeeeyguLgZgZGSEz3zmM7z33nuMjIxQWlrKxz72Me6++26l2PCTn/wk55xzDhdeeGHS9mW+kCJ8EUKthC/RRRuy2LTFYmF0dJSysjI2btxIYWFhyIeBWopH4h0jlm2tVismk4nu7u5ZreFEUcTtdgMzH6SyflMkRS2Dg4OYzWa2bt06w06fz6eQv1DE0el0hvxcRqyEURTFYOaqArGQFs3g8xgsj89YJqED0QFp8WlvBkKtpGoxEBa1HjsZarfvRILBYKC8vDyqbTIzM2dso9Fo+NjHPsZ3v/tdSkpKaG9v59prr2V0dJQnn3wSmBZUlkWVFztShC9CJJrwJWqcROXwORwOJTdPo9FQU1PD+vXro9b5ideOxbC9JEkKERsbG6OiooLy8nIMBkPcwtyhvs8f0RDGUOMlijC+9NJLYcnhXMRRLQ9I3cjLILpBSAPJBYCAF7xTGFruwr362wtsYQpqJ6SLwT613G8AzzzzDHfffTdHjhxBq9WyY8cOvvvd77J27VqMRiPLly/niSee4IEHHuCdd95h+fLl/OQnP+HUU08Fgod0X3nlFe644w7eeOMN0tLS2LZtG08++aRSSRuIgoICvvSlLyl/19XVcc011/CDH/wg6fu/EEgRvghxInr4RFFkYmICh8PBiy++SElJCWvXrqW4uDiqieFECOnKCDcpejweuru7MZvNiKJIbW0tGzZswGAw0NLSomqvlz8SQRgdDgevvfYamzZtQhTFoMTQ5XJhs9mCEksZ4cjgfBJGb9FODJ0PgOj6YD8RQMhA1/+XJUP41EQIFiMW+vhJkoTdYw/6mcPjQCNo8ArJkRnK1GdGtf92u50bb7yRdevWYbVaueuuu/jsZz/L22+/raxz66238uMf/5hVq1Zx3333ccEFF9De3k5RUdGs8d59913OOussLr/8cu699150Oh379u3D5/NFbFNvby9PPfWUQipPNKQIX4RQI+GD2AiO0+lUcvN8Ph8ajYY9e/bEXO4db4WsGhDO7qmpKUwmE319feTm5ir9lP1L65eS8LJ/S6Hs7OyoJQYCPYyhPI3BCKO8nXzda7XaWcTQ4ZiutO3s7JyTOMrHVyz9//AW7EI38i9kLT4BCSQPomH2wyWFhYEa7wcZavDw2T128r4fWU5bojHx1QmyDFkRrx+YE/fII49QUVHB0aNHlfy5a665RlnvwQcf5O9//zuPPfYYt9xyy6zxfvjDH7JlyxZ++tOfKsvWrFkTkS2f/vSn+eMf/4jD4eAjH/kIjz76aMT7sZiQInwRQo2EL5pxJElieHgYi8XC0NAQxcXFrF69Go1Gw9GjR+PS9kkE1ObhE0VRqbYdHx+noqIi4q4hiYYaHiShEIttiQ5JB/4fGBhQRFL9CaP//2CEsdFVSx3CNNF7H15tNj1lN+F7X17H50sDtMoYaiYgJxrUfB/ISF0PkaOtrY277rqL119/neHhYSVC0t3dzerVqwHYseODtoY6nY4tW7bQ0tISdLyDBw9y0UUXxWTLvffey5133snx48f52te+xk033RRTJwu1I0X4IoRaCd9ccLlcijdPFEWqqqpYtWoVGRkZAIyOjiYsDzCeB2CiZW9i+X6Y1l7q7e3FbDYDUFtby8aNG+dM2F1o+5cS5iKMLpcLr9cbUok+GGFk4jAVR/6kkL3pWl0dogRmaxnecRNerxebLRcwcPToUXJy+hXCGGkI2uPxKP+1Wu2C9+T0R+r6jQ9qOH6Z+kwmvjoR9DOH04FWo01a8UGmPjOq9S+44AJqa2t5+OGHqaysxOfzsXHjRqXQLVrIz7RQCPd8Ki8vp7y8nObmZgoLC9mzZw933HFHUnKyFxIpwhcF1KbDF4pkSJLE6OgoFouFgYEBCgsLg4Yhw40RrR3y9y4U4rVB1hJ88cUXyc/Pp7m5Oejxmm+kPAaJRzDCqO/fh1acAiEdJCcC00UbBnGCbQXv4q2f1uHKzZ1+qK1du4bdu5eFldYJ5mF0Op2MjIxgsVgAoiaMgbI6C319zjfUfj8stH2CIIQMq2p8GrTa5BG+aDAyMkJraysPP/wwe/bsAaYLwAJx4MABTjnlFGC6D+3bb7/NNddcE3TMdevW8fzzz3PXXXfFZZvsaXS5XHOsufiwZAlftDemRqNRpYfPfxy3201PTw8WiwWPx0N1dTUnn3yy0tsvFNTwZroQ0i6yBI3JZGJiYvqtePv27TF1DEmmh08N5ycQC/1gSzSkzDoQNCA6Zy4X9BhMjyiET4ZGoyUtLS3qKvYjR46QmZlJbW1t2ArpUIQxVEg6Vh3GYC+AaoUa7wN/qN0+NaGgoICioiIeffRRKioqMJvNfP3rX5+13kMPPURTUxPNzc3cf//9jI2NKSLIgbj11lvZuHEj1113HVdddRUGg4F9+/bxiU98QtHdC8Rf//pXBgYG2LZtG9nZ2Rw5coRbbrmF3bt3U19fn8hdVgWWLOGLBWojfDBNWvy9eXl5eTQ1NSlacJHYEi8SmT8Xrw2RwO12Y7FYFC9LXV0da9eu5aWXXlL6IKawtOCt/gy+rp+jnTzot1QANEjCB9NkIm5bQRCU/puxyB5JkqRURoeT1nG73djt9qCfBSOM8phHjhyJmDguNQ/jXFAzYVYTNBoNTzzxBDfeeCMbNmxg5cqV3HvvvXzoQx+asd7dd9/N3r17OXjwIMuXL+cPf/hDSPK2YsUK/va3v/GNb3yDnTt3kpGRwfbt2/nUpz6lXO+B5ycjI4NHHnmEG2+8EZfLRU1NDRdeeCG33XZbcnZ8gZEifBEi0R6+eOHxeHC73YocSGVlJbt27YqasKglpJuoiTKcDZOTk0q1bX5+PqtWraK0tBRBEPB4PEn97liReoDMEzQavOUfQTt5GJBlHCQkbRru5TfPWl0QFjZ9IRmEcWBgAKvVSlZWlrLM4XAEJZZzeRiTQRjVXiSjdg+f2uw788wzOXTokPK3JEmMjY2RnZ2NyWQCoLm5mf379wfd/rTTTpsh8QRw6qmnBg0Nh9r3008/nVdffTXWXVh0SBG+KLDQHj5JkpiYmMBisdDX14cgCFRWVtLc3IxWq51XW0LZFysSVaUbCFEUGRgYwGQyMTU1RWVlJTt37iQnJyfo+olszabmh1OioLaHiIyo7XIOoe9+gg/I3vudNvS5+Co/lljjFhihCKPD4cDn880ZygpGGIN5GRNBGP2Jo8/nw2azkZaWploP41K455OFZM4l8tg/+9nP+MUvfsH+/ftZt25dRNs+8cQTXH311Tgcjjn776odKcIXIRJ5I0dLbrxeL729vVgsFux2O1VVVezcuZOjR49SUFAQM9mLxZZQY6gB/vsiVyebzWY0Gg21tbVs2bIFvV4fctt4sZRy+E406M3/jcbRDYIBpPfb4eFFcPSiGfoXYsnpC2yhepAMD2OkhLGzs5O2tjblntBoNBHnLKZC0osDyXieSJLEd77zHRoaGtDr9dTW1ka87Uc/+lFOOukkgJjyu9WEFOGLELI2W6LGiuQhPjk5idlspq+vj6ysLGpra6moqFCqC9XSwzZRId1E7MvU1BTt7e309/dTUFDAmjVrKCkpiXgSSaSHL9zyxY4Tbr+06YAA0szQviQIpLV8F8cSIXzzcV5jJYyvvPIKa9asIT8/P6wOo0wcgxFGeXkwwqjVaqMmjv6EUe0hZ1g89219ff2scG28KC0tpampKWr9z5ycnJARocWGFOGLEPPl4fN6vfT392OxWLBarVRUVLB9+3by8marp6vNO7dQRRuiKNLf348kSRw8eJDq6uqo8xnVOhGq1a4TDZ66z6PvegiNw+y3VAOCAcEXvFVVrEid0/gRj4cRmJMwyp8HI4xer1d5+ZcJo06nQ5Ikjh07NiPkHA1hTCF5CFW0sdSQInwRIpEePphNbqamprBYLPT29pKRkUFNTQ2VlZVzvo0sdA9beYx4EcsYLpdLqbbVarUIghCXrArE5+FLhXQXMXTpeCovIa3jh0zn8UmACGjw1HxmYW2bJyyG6yxRD+xEEEafzzcjDH3w4EEKCwsRBEFZFg1hjFZWJ9ZONUsRi+Hang+krpgIkcg3A7ni1+fzMTAwgNlsZnJykvLycrZu3UpeXl5E35cosrbYQrrj4+OYTCZFVHrt2rUUFxfzz3/+MzUJzjNOmIlUdKMb3Qd8EEaS0CClF+NZdt2CmZXCB1DTtSYTRlnEWLatvLw8ojaVwQhjsP9OpzNofqNMGA0GA2VlZUrBjSAIs/7DB/OrKIqIojhj+VLCUtvfQKSejhEikR4cn89HX18fra2tGAwGampqwhYUhLNJLUjE8Qm3vRy2NZlMWK1WqqqqYpKhiceGcEiWhy/Vsm1+oDc9jnbiXRD0Sh6fgAjOXoSpVqSc4G3aUkjBH5HOyYGEMVrIRS8Oh4OxsTEMBgMGg0GZKyRJUgie/+9ut3tW67JAYhiMLIZbnijMR5Wump6ZC4EU4YsQ8T54ZXkQi8XC+Pg4ubm5bNq0iYKCggXtP6sWQhHqGDidTiVsq9PpqKuro6qqKqgnL559WeoTQbQ44Y6X1wqSCAGXjyD5SDtyG84df1gYu+YZaj+varVvvudQjUajkMWJiQml4CQcbDYbBoMBvV4/ixj6/w+2PHCZP9RCGMNBDc84NWDJEr5oL7RYyYTdbsdisdDT04NOp6OmpgZBECgtLaWwsDDq8RJhU+AYEH+FWSI9fJIkzQjbFhcXs27dOoqLi8PauNDSKqlJRR2I5Trw1HwGQ8dPETzDfku1iJosNM5+ZUnqFC8cFsP9pVZCGoh4Q7rJIowwrQeZDMK4WM5NMrFkCV+0iIbQiKLI0NAQFouFkZERSktLWb9+PUVFRQiCwNjYmCrEjgPHWUjCJxfF9PT0YDKZFL3BSHoB+2OhPHzJmkzU4oE94ZFehrvmM6R1PoiEgIAH8CGIXjxFp81aPdbTreZzqWbb1I7FcuwSNU8lgzD6fD7cbjdarTYiwvjyyy/zkY98BKPRSEFBgWKP/F+SJEZHRxWd2quvvpq33noLgNdff53Nmzej0WhC7kNfXx9jY2P8z//8D9/61rcAuPbaa/npT3+qrNPa2srU1NSM7UpKSqirq1P+drlcmM1mpqam0Gg0FBUVUV1dvSAENEX4IkQkD16Hw0F3dzfd3d0IgkBNTQ1r166dlcSbyJtODRW28cLpdNLd3Y3L5aKzs5O6urqIKpQDkew8whROYIgiGlc/4EPwi+tKGWW413xn4exKYQbUMF+Fg9rtUwuCEUZBmG5xGUleoyRJnHHGGZjNZkpLS5Vl8k+ZQDqdTqVABuDCCy/k6quvxufz8c4779DW1sYvf/lLDh06xPDwMPX19Xzxi1/khhtuYGpqitLSUq6//no+97nP8YlPfILx8XF8Pt+MZgfFxcVUVVUpfwdqM7a3t6PX62lubsbj8dDV1YUgCFRXV8dxBGNDivBFiFBkQpIkxZs3PDxMSUmJUjUa6uZPlNcmkXIo850LGBi2zcvLQ6/Xc/LJJy/YpLnQIe1Q46oZJwpB1vX+Dn3/nwENH7RXExDcg+CdBEN86ReLBWq+3tR8ranZthMRgiCQlpZGZWVlyHXS0tJYtmwZMO2MAaiuruass85SqpXfeustGhoauPXWW6mpqeHVV1/lqquuQqvVct11H1TnFxYWkpOTg8/nw263zxBi1mg0IfMnJycncTgcrFixQlmnsrKSnp4eKisr512HMaX6GCECH+hOp5OOjg5eeOEFjhw5Qm5uLqeccgqbN2+es7NDIgmfGiRVorHF5/PR3d3Nq6++yltvvUV6ejp79uyhubk5rHs9kTaEgxonbjXadKJBsJtB9E5X6SqQwOsg/dAtC2bXfGIxXGdqJqSgfvvUhGeeeYZTTjmFoqIiSktLueCCC+jq6gLAaDSi0+n47W9/q6T1bNiwgRdeeEHZft++feh0OsbHx5Vlr7zyCmeccQY5OTkUFxfz4Q9/OGgKlax/ePXVV/Pggw9y6qmn0tjYyGc/+1kuv/xynnrqqVn2ymMERp5GR0d59913OXLkCN3d3Yo3EcBqtZKRkTGDEObl5Snex/lGysMXIWQyMTw8jMViYXBwkKKiIlatWkVJSUlUTP1EJHxzweFwYDab6e7uJi0tjdra2hlhW/92RwuFhSabiwlqf7BFey585ecjdfwEwTvht1SLpMtDM3U0obap/dilsHghSRJ2T/DOMDaPDa/gRScm57Gfqc+M6tq22+3ceOONrFu3DqvVyp133slnPvMZ3n33XWWdW2+9lR//+MesWrWK++67jwsuuID29naKiopmjffuu+9y1llncfnll3Pvvfei0+nYt2/fDAIWCSYmJmYVVEqShMvlQq/Xk5GRoSwvLCxUKp/llC6n08ny5cuB6edaoPfP/5k330gRvgggd3QAeO+996iurmbPnj1kZmbGPKZaCJ+MZHj4JElibGwMk8nE4OAgJSUlbNy4UVGjnw8booXaSFuKHMwPxNxVuCs/Tpr5l0iCBkF6v2jD68Kbu26hzUsB9d2b/lCLzpvdYyfv+7PbcM4HJr46QZYh8gK7Cy+8cMbfP/vZz6iurubo0aOKvuo111yjrPfggw/y97//nccee4xbbpntdf/hD3/Ili1bZhRVrFmzBpiWpIkEr776Kr/97W/5y1/+MmO52WxGFMVZLU5LSkqU3zMzM9Hr9Rw/fhyn0xmRAPd8I0X4QkCu8LFYLEqOGcApp5wSdzcHtRG1RMB/n3w+H729vZjNZpxOZ0QEeaEnykTYoOYHUgoRQJ+HhPQ+2ZuGlFmGa+33F9CoFPyhhnkihcSgra2Nu+66i9dff53h4WGle4jZbGb16tUA7NixQ1lfp9OxZcsWWlpago538OBBLrrooqCfRTI3Hz58mI997GPceeednHXWWcpys9nMxMQEGRkZM4o1gkFWlHC5XKSnp6PX62eRTa93uptPtI0WEoEU4QuA2+2mt7cXi8WC2+1WpEH0ej3PP/98wgol1OLhS2RI1+l00traqoRt5WrbuW4S2Y7F7OFL5oNIzURSzbZFA83QCxhMj/tV6ApI6BE846BLbDcXNSNFqGKDWjx8mfpMJr46EfQzq81Kelp60tpPZuqji3hdcMEF1NbW8vDDD1NZWYnH42Hz5s0xhzr9Q63BEO7cHD16lA996ENcddVVfOMb3wCmz6nFYmFsbIyVK1dGlLYlF4fIZC47O5u+vr4Zod3JyUm0Wu2CeABThI8PKkYtFgv9/f3k5eWxbNkyysrKFLIiX4RqIWryOIkaI1Z7ZE+ox+Ph4MGDlJaWxt1BJFYkQgswHgR+tyiKjI+PIwgCBoNBaXw+35VZKcwN7djrCKITSZOJINoACQE3kmcSw9Fv4l5790KbmHSonbyr3T41QBCEkGFVyS2Rbkge4YsGIyMjtLa28vDDD7Nnzx6AGQUZMg4cOMApp5wCTHvG3n77ba655pqgY65bt47nn3+eu+66a9Zn4a6dI0eOcMYZZ3DppZfy7//+78pys9nM6Ogoy5cvV7QB5epejUaD0+lkdHSUvLw8dDodDocDi8VCdna2Es3Kzc0lIyODrq4uqqur8Xg89PT0RJ33nygs/JlfQHg8HsWb53Q6qaqqYufOnTNKrmUk0hOmJh2+WOH1epWwrcvlQqPRsGbNGioqKmIaTy1FD4nw8Hk8Hrq7uzGZTEpDc/+G51qtViF/Op0OvV4/46f/crfbrSQM63S6iLyl84GF9mQkGr6inUjtegSfVVkmoUXS5aAbeRG5+6gKLtElDbVed2rx8M0FtdhXUFBAUVERjz76KBUVFZjNZr7+9a/PWu+hhx6iqamJ5uZm7r//fsbGxrj88suDjnnrrbeyceNGrrvuOq666ioMBgP79u3jE5/4hKLtF7j/hw8f5owzzuDss8/mpptuor9/uquOVqtlaGgImBZXhumK26GhIUZHRykuLkaj0TA5Ocng4CA+nw+DwUBBQcGMZ6AgCCxfvhyz2UxLS4sivOyv2zefWLKEz+v1sm/fPrKzs6mvr6eioiLswzTRhE8t40S7X3a7Xam2zcjIUI7dyy+/HHMjcBkLHdKNdzL0+Xy0tLRgsVjIyclh5cqViqdTEAR8Ph9er1f57/F4ZvyUm6H7f+52u/F6vbzyyivAB3ICgQQxGFkMXK7ValUz4asNYtHJeEvOQN//ZyS0CHgR8IHXhS+jZqHNSyGFEwoajYYnnniCG2+8kQ0bNrBy5Up++MMfzsidA7j77rvZu3cvBw8eZPny5fzhD3+guLg46JgrVqzgb3/7G9/4xjfYuXMnGRkZbN++nU996lMh7fh//+//MTQ0xK9+9St+9atfKcvr6uowGo0z1s3JyaGsrEz5foPBQHNz85z7mpaWRlNT05zrzQeWLOHT6/Xs3r074kpbNRI+mB97JEliZGQEs9nM0NAQZWVlbN68eUbYVq2tyaJFLMdzYmICi8XCxMQEaWlpbN26lYKCAiRJwu12K+tptVq0Wi1paWkRjz01NcU777zDySefPIsoBv7ucrmw2WyzlstJwoIgxEwWdTqdas5RsiDmbUIa+NvMoo30Ypyr/z3MVinMF9QQAQgFNdumVpx55pkcOnRI+dvj8TAxMUFWVpZCtpqbm9m/f3/Q7U877TRlbpNx6qmn8tJLL81ad2IieF7jXXfdFTQEfKJiyRI+ICpZlUQTPjm8F+84ySSOctjWZDLhdrupqalh9erVQZNNE+FdW0wePrnDSldXF5OTk+Tn55OXl8emTZti/v5wNmk0GgwGQ0xeVEmS5iSLHo9H8S4GkkV/wVF/IgjTlXbp6elzkki15y1qJg5jMD6MIE1rdkkIIKQDXshuXFjj5hFqJ/VqtW+xhHTVjmQdP/n8/Md//AePPvoo+/fvZ926yOSWnnjiCa6++mocDgcbN25Min3zhSVN+GKB2jxziUAgUbLZbJjNZnp6esjMzKSxsZHy8vI5Q94nwlvuXPvg8/no6enBZDLh9Xqpq6tj8+bNSnu9hbBpLgiCgF6vnyUaGul3y6HoQII4NjaGwWDA5/PhcrmCriPbLuctRuJNDPx9PsiidvAfCJ4JJG0Wgm9qulpXcoBrCH3HQ3iWfSkh36Pme0TNti0GpMieuvH973+fmprp9Iza2tqIt/voRz/KSSedBEB+fn4yTJs3pAhfhFBjSDfR4wwPD2MymRgeHqasrIwtW7aQn58/LxOZ2j18LpcLs9mM2WwmLS2NxsZGKioqVO+5ihf+YeBAz25LSwu1tbVh5QVCkcVAz+LU1NSs5bIXXM5bjDT07Ha7lYbpkbbrE7OWIQnagKINQJuJrvf/JYzwpRA71ExI1WybjMVgo4z6+vpZ4dp4IEkSZWVlSgeMaJCTkxO0kHMxIkX4ooBaiVo8kEN2b7/9Nj6fj5qaGtasWRO1RlCiyJYkSTETzEQQ08B9sFqtGI1Gent7KSwsZMOGDRQVFUXcKWShC0kWGrHkLcoQRXFOsijnLQbmMkqSxODgoEJYw3kQp3/fSWXmOtKnXmO6xbiIgAZJkpB0J8ZkfyJAzfeDmm1LIXV+YIkTvmgfxmoiavGOI4dtu7u7kSSJqqoqGhsbY/ZYqeVmShTpHB0dxWg0MjIyQkVFRUi5nsBtkwE1v5kn07ZY8xY7OztxOp00NTXNykf0r4yWvYvyMrd3HU28hQYP02dTxOnT8577fOxvvPG+1tYmIIe+vj6MRnvYkLRa7okTAWq+BxYTluo1GY8j4UTCkiZ80UJNgskyorHHP2w7MjJCeXk527Zt46233kqIEKQaPHzx2CAXYhw7dgyHwxG1tzP1UFIHZBkcOW8xIjj7yHx1Hxo+CCNJQjr6tFwq11+kkEI5j1UUxVkV0fLPUHmLer1eCV37fL6wZHGhUgXU/lBUq30pQhE/kjl/pubmaaQIXxRIZJHEfFbpyureZrNZCduuXbtWITJqahe3EJCFkt1uNz09PTQ2NlJVVRWVIn2yJns1P0TUbFu00Pf8Do2jG0mbjeCbAkCQnOhcPRQ7X8ZX8READIbp0HRVVRVr1pTPGkdW4w+lsyj31XQ4HExOTs7yPPrnLUYrneNPFmM5N4v1/k0hhUhwIs1XsSJF+KKA2jx8c41jtVqVatvs7GyWL19OeXn5LO9BovYrUR6+eMaIZnu73Y7JZKK7u5ucnBz0ej3r1q0LKey5UEg9iJMPSZ+PJGgQfDMbnUvaNPRdDyuEby4IghA2b3F8fJz8/HylWjAQ4cii/LvL5cJqtc5a7vP5FBvmzlmcTSJFUVTttaZWu2SkPHyJQbJlWZY6UoQvCqgh926uceSwpMlkYmxsjPLycrZv305eXl5S7UmU8PJ83Jjj4+MYjUYGBgYoKytj27Zt5Ofn8+KLLy5YODmFhYW3+hIMHQ8jWA8DAtM1ujpgZkg42ac4Hr1FURTx+XxhyaLb7VZC0YHryBgeHo5aOme+xLlTpCqFWJAi5NNIEb4ooLYOGf7jyGFbk8mEKIrU1NSwfv36mKojY4EaCE84G+SqTaPRyOTkJNXV1ezZs2eW+PZC70MgUpPUPEGjw1NzCYZj3wI80zp8eJEEPZ76q2atrsbTotFolFBwtJAkifb2dtxuN7W1tSGLXfxb/wXLW/QninP1iQ5cvpgljlKEYv6xb98+zjzzTIaHhyPSx/u///f/8vrrrwPwzjvvRCyivG/fPk4//XQAPvaxj/H000/HaPHCI0X4okCiSI1Go0mYh8/j8XDkyBF6e3vJyclhxYoVlJWVRTV5nigh3WCQhZKNRiM+n08RSg72UIxnwlYD4V0IqHWfo7bLa0XX/ycEPMB0Hp0kpCGlF+Or/FjiDVQZBEFQ9A6j1RzzF+cOJ6Pj71kMlrcoF7mEE98eHBwM2tklnCh8Cicmdu3aRXd3d9jolQx5Prjyyiv59re/PSNt5/rrr+eVV17h8OHDrFq1infffXfW9/T19XHDDTfgcrkSug/zjRThiwJq8fDJ3iqz2YzNZiMzM3POsG04qEn0OFE5fP5Cyenp6SxbtiwioWQ1Ehg12nSiQdf9P2gnDyFp0xF8dgAEyYXW1olm7C3Egi0LbGHyEet15i/OHQv8yWKo/EWn0wlAf38/oijOyluUyWosfaK1Wm3c3jm136Nqtw+it9FgMFBePrtwKtzYmZmZQbe54oorOHDgAO+9917I78nIyEgRvqWEhc7hk6tJzWYzoiiSl5dHWlpaxD0BE21P4BgLDUEQcDgcHDp0iL6+PgoLC9m4cSOFhYUR2afGSV8NxzUU1GxbtBCk6Rw2QfTMWC4JAoa2vTi3/89CmLUkEIk4t8/nY2BggA0bNszwzstFLuHIoizOHaxPNMwkrLEUu8j3wWK4H9Rk4zPPPMPdd9/NkSNH0Gq1bN++nb1797JmzRqMRiPLly/niSee4IEHHuCdd95h+fLl/OQnP+HUU08Fgod0X3nlFe644w7eeOMN0tLS2LZtG08++WRYO37yk58AMDQ0FJTwnUhIEb4osFCEb2pqCpPJRG9vL3l5eaxcuZLS0lJ6e3vp6+uL2x5ITL/WhfLwyULJk5OTjI6OUlVVNadQcrixYkGyJ9JUjlBy4an6P+g7HkDjMH2wUEhD0uciuCcXzrB5hlqvsVD3ZTxFLpIkzUkW/fMWA5f75y1qNBo8Hg/vvPNOxMUuychblCQJu8cedLnNY0NwC0k7x5n6zKjGttvt3Hjjjaxbtw6r1co3v/lNLrnkEt555x1lnVtvvZUf//jHrFq1ivvuu48LLriA9vZ2ioqKZo337rvvctZZZ3H55Zdz7733otPp2LdvHz6fb1F4OOcDKcIXBeaT8ImiqIRtx8fHqaioYMeOHeTm5ibFnkRgvvMARVF8v+OBEafTiU6no7GxkYaGhpi+W60PuxTmAYZ8PHWXY2j5HiAh4ALJBT4Rb9WFCfua1IMnPiTyHo1anNsP/nmLHo+HiYkJOjs7KSsrm0EKQ3kWA/MWo9FZDMxr9IfdYyfv+7Gl9sSLia9OkGXIinj9Cy+ceV899NBD1NXVcfToUbKzswG45pprlPUefPBB/v73v/PYY49xyy23zBrvhz/8IVu2bOGnP/2psmzNmjXAdCpAan5f4oRvIVurhYLb7VbCtgC1tbVs3Lgx6BvsQoeYA8eYr+09Hg8WiwWTyYRWq6W+vp6qqirl7XohkKyiDbVPUicMgRFFNJNHEHCjFG2gQ8oow9Mwu0r3RMQJcy7nAf5h4PT0dHw+H1qtlsrKyoi29yeLwQpcZM+i3JnFf7l/3mJaWholJSU4nU5EUcThdSRztxOKtrY27rrrLl5//XWGh4cVEmw2m1m9ejUAO3bsUNbX6XRs2bKFlpaWoOMdPHiQiy66KOhnqWt7Gkua8EWLZBKsyclJzGYzvb295Ofn09zcTGlp6bwUGSyWog1/oeTc3FxWr15NaWnpjBya+RRunk+kQrrJha73d+gG/4Gk0SOILkCDgITGZgKbEbLqF9jCpQ213pf+iOb+jCRvMRT8xbmdTidTU1MK+czWZDNw/QAAEhKSNPN/oL3+c6cgCAgIH/we+FnA8kBk6jODLg+FCy64gNraWh5++GEqKytxOp1s27YNj8cz98ZBkJGREfKzxXD9zAdShC8KJJrwyWFbk8nExMQElZWVUeWeqaVqOJG2BBtjfHycrq4uBgcHKSsri6siOZbvjwRqJovJwolEQAXXKEhepoWWXchePiQPaS3fwbXlPxfQuhRkqPWam8973z9vUa/XY7PZ0Ol0ShQoWO9vSZKwWq1KqDSQCMr2B1suiX6fvf8PZhNBl+gKSxL9yeLIyAitra08/PDD7NmzB4Dnn39+lt0HDhzglFNOAcDr9fL2229zzTXXBD0u69at4/nnn+euu+6K6bguBaQIXxRI1EPd5/PhdDp58cUXAairq2PTpk1RJx7PV4u2+YK/HbL0TFdXF1NTUyGFkgO3T4SXUU1Qo00nIjwV52PouBfB1a8sk4Q0JH0hGmfPB8sS8FxX8zlVq22L4WVKrccuEOG8dHMhYpIY5HN/6PV6CgsLefjhhykoKKC7u5tvfvObAEoIG6bz+pYtW8aqVau4//77GRsb4/LLLw9q26233srGjRu57rrruOqqqzAYDOzbt49PfOITYa+f9vZ2rFYr/f39OBwORYdv9erVMRUDqRkpwhcF4iUUExMTSthWo9Gwfv36GSHJ+bYnkeMkyhav14vJZFI6htTV1bFly5aIEqsTYUO8+ojJwmJ44C1qZNbgrv4Mhs6fgqBFEO0Ikgt8bjyFp8xafZE821OYJ6g95SJR80eiyCLAL3/5S26++WZOOukkmpqa2Lt3L+edd56iswjwzW9+k71793Lo0CEaGxt58sknSU9Px2azKZp4DoeD9PR06urq+POf/8ydd97Jzp07ycjIYMuWLXz84x8Pu/9f+MIXeOGFF5S/N23aBEBXVxf19fVz7tfg4CD9/f14PB4yMzOpra0lKyvy4pX5RIrwRYFYCIUoigwMDGAymZiamqKyspLm5mYsFgtlZWXzbk8yx4lnDKfTiSRJvP7662RmZrJ8+XLKy8vntd1SvJ02liJOJCIqSF4EyTddnQtIaBCzKvGs/OoCWzY/UDtpgaV7nyUKC3n8Asni2Wefzdlnn6387XQ6sdlspKWlYTQaAdi4cSMHDhwI6k0844wzsNvtM5bt2rWLf/zjH4pU1+joKL29vcC053BoaIjDhw8r1dFarZY//vGPMacIjY6OYrFYqKurIysri4GBAY4fP87atWtjqv5ONlKELwpEQ4xcLpdSbavRaKitrVU8VUNDQ6rJvUsUYp1IpqamMBqNip5gc3MzVVVVMY23kB6+cN8dz4M09YCbH2gGn0Xf/QSSICBIABpAh8bRA14rGPIX1sAlDrXMc6GgdvsWO2IRt87KyqKmpgZJkrBYLOj1en73u9/xxz/+kWeeeYYVK1Yo1dXh8NJLL/HhD38Yl8vFeeedN+OzgYEBSkpKlFZtdXV1TExMMDw8TEVFRZR7mXykCF+UmOvGnpiYwGQy0d/fT0FBAWvWrKGkpGTGhao2z9x8h3QlSWJkZASj0cjo6CiVlZXs2rWL/fv3k5eXt2AkR83kKvVASS60U8fB5wBtNnjHABEBN5LHSlrLd3Gt/+FCm5iCyqHm+WMpQz4vDzzwAAUFBcC03Fmk+Xlbt25V8vrkoheYjt7ZbLYZrdoEQSA3NxebzZYg6xOLFOGLAhqNJuiDVxRF+vv7MZlMWK1Wqqqq2LVr14yLwx9qK7aYr5BuoFBybW0t69atU6QJEqHlt5A5fEsNJ9IDzld8KlL7j9G4h5RlkiYdyVCKZurIAlo2v1D7OVWrfal5I7Gor69XCjcShYqKCqqrq6PeLiMjg+XLl89aLtsXGLrV6/VK72e1IUX4ooT/je1yubBYLFgsFrRaLbW1tVRVVc0Zu1eTZy5R44SbiD0eD2azGbPZjFarpaGhgcrKylmu9IWWNok3h28pCi+rEbEcMzFvLd6Kj6I3/zcIOgTRgSC6kDx2fLnx9apOIX4sBkKVulfjQzJzSBdDfup8IEX4ooDs4RsfH8dkMjEwMEBhYSFr166luLg44gtKTURNRjJCuna7HaPRSE9PD7m5uUHD24lEysOXQjwQM+pA0CCI090KJEDKqsK98hsLa9g8YTFc+2p9aC+GY7fUkehrR+7qFCgU7fF4VFmwAUuc8EVzAYiiiMPhYGJiAo/HM2fYdq7vVRPhS8SN4G/L2NgYRqORwcFBysvLIxZKPhE9fHa7HZ/Pp4ikxlp1rNYHilrtihaasbcwGH82XaXLdFs1NBkI7mHQRddBIIXEYzFcZ2olo4sJyfTwJRoajYasrCympqaU3EBJkpicnKS0tDTh35cILGnCFwmcTqcStvX5fBQVFbF+/fq4eraqyTMHifOMWa1WXnvtNaampqipqeGUU04J2+4m0XaoxcMnF6V0dnYyPj4OELJZerifer1emQAXwwNvMUM7+jqCdxJJl4/gGUbAiyROIbh86Nt+hGflrQn5HrWfxxRpiQ1qP69qty/ZSFZIt6ysjK6uLjIzM8nKymJwcBBRFJWqXbUhRfiCIDBsW1xczLp16+jp6SEnJycusuf/HfFCDUUbXq+Xnp4e+vv7kSSJ5cuXRyyUnGgsZKcNQRCU4p3Ozk4cDge1tbWsWbNGyVX0b5Du8Xhm/O71erHZbEHXAXj55ZdDksK5iGOytAzVTA6ivQ58+etAMCB4Rj5YKKQjpRWjG3kJD4khfCnEDjVfb6B++1JIPAoLC/F6vfT29irCy01NTamQ7mKAz+dTqm3tdjtVVVWcfPLJimq2rBUXL9QW0oXoH5BOpxOTyUR3dzcZGRnk5+eTlZVFQ0NDzDYsdEgXYiPick9kr9dLS0sL9fX1VFdXo9Vq8Xg8iKI4o/9lNPB6vbz44ots3boVQRCCEkaXy4XNZptFIH2+6fCkRqOJmBz6E0mtVrtkHmJi0cl4S05D1/v0dNGG5EKQ3OB14suonbX+EjksqsFCzwtzQe32wdImpMks2igtLVVtCDcQKcLHNHkxm810d3ej1+upq6ujsrJylidP9uLEC7URvmhuhKmpKbq6uujv76eoqIhNmzZRUFBAS0tL3HZAfBPnfHv4vF4v3d3diiq8VqvllFNOUTxqiTw36enpUZNFURRj8ip6vV7F9nCk0OfzMTw8jMvlmjevYjLhLTwZXf9fEURZUkFCTC/D1Xz7gto1X1gMpEXNWMqEKhHwv/727dvHmWeeyfDwMPn5+QkZP9nn57TTTmPjxo3cd999Sf2eeLCkCd/4+DgdHR1K2Hb9+vUUFRWFvDBOVP28ucaRJInh4WGMRiNjY2NBC1aSLe0yX4hkHzwej9LvNyMjg+bmZjIzM3n99dcTTnTiOSaxehUlScLn880igYFeRfm6GBoaCulVjCb0vKBeRWsnaV0PIYgeQEJCOy3CLLkgoyqhX6WG63wxQs3HLUWW1Y3XXnuNz33uc4yNjSWMQC5GLGnCNzY2Rnp6Onv27CEzc+5KvEQSrER4CiG5RRuiKNLb24vRaMTtdlNbW8uGDRuCEohE7NNCF23M9UBxOp0YjUYsFgt5eXls2LBBeUGYmpqK+XsjwXw+UARBQKfTzZmrOjw8zMqVK8nNzVWWJdurGI5AxkO29UP/RHD1IxkKEdyDCPiQfBNoHF50xl/grb885rEXE9RKqhYDoVLrsVtMWOgqXbfbHfUL8mLCkiZ8DQ0NikciEqhJBiWR4wTC7XZjsVgwm83odDrq6+uDCiWfiAh2fm02G11dXfT29lJcXMy2bdtmvSWqIf9wvhHs+ku2VzGSXEW5kfqhQ4ciylnU6XSIGVXTuXtuv6INdEj6fHR9f1oShG+pXb+JROrYRQ9RFPn+97/Po48+Sn9/P8uXL+drX/san/zkJ4Ou//LLL3P77bfz1ltvUVxczAUXXMC///u/Kzn2LpeLO++8k9/85jcMDg5SU1PDrbfeyhlnnMGll14KoMinXHrppTz++OOcdtpprF27Fp1Ox69+9SvWrVvHv/71L1544QVuueUWDh48SGFhIZdeeinf/e53lZdgm83Gl770JZ566ilycnL4yle+Mstel8vF7bffzq9//WvGx8dZu3Yte/fu5bTTTgPAZDJx3XXX8fLLL+N2u6mvr+cHP/gB5557bqIPtYIlTfiihRpz7xI5js1mw2Qy0dPTQ15eXlRCyfPdjzdZ2/tjcnKSzs5ORU9w586d5OTkxDx+Imw6URGpVzEYAr2KPT092O128vPzI/cqarPZKjVSzNtI6BDwAhJejwe7J42hvj50Oh1ebzUgF+OwKHMVFyvUfi+o3T614Xvf+x5PPvkkDz74IE1NTTz33HNcccUVM3rTyujo6OC8887j29/+No8++ihDQ0PccMMNXH/99fznf/4nAJdddhmvvfYa9913H+vXr6erq4uRkRFqamq4//77ueGGG2htbSU3N3eGXNh//dd/8aUvfYlXXnkFgJ6eHs4991wuu+wy/vu//5uWlhauvPJK0tPTueuuuwC45ZZbeOGFF/jjH/9IaWkpX//613n77bfZuHGjMu51113H0aNH+c1vfkNlZSV/+MMfOOecczh06BBNTU1ce+21uN1uXnzxRbKysjh69GhMur7RIEX4okCiPXzxVg4lSnfO7XYr+YzRCCUn2hY16OhJksTo6CidnZ2Mjo5SXV3Nnj17ItITDPzuRD4AUh6E0Aj0Ko6NjSFJEjU1NWG3C/QqYroQ0dQy3VYNkPDh1WRjzPwkk319eL1enM4iwMDRo0fJyBiclauoA7LGx8kaGiJ9YID0/n7S+vsZu/tudJmZ+Hw+fD5fqtVTlFD79b/o7RO9CMfuQRh6BalkN9Kqr4EmefTA5XLxve99j7///e/s3LkTgPLycg4cOMAjjzzCF77whRnr7927l0suuYQbbrgBgKamJu69917OOOMMHnzwQcxmM7/73e945plnOPPMMwFobGxUtpefZ6WlpbOiM01NTXz/+99X/r799tupqanhpz/9KYIg0NzcTG9vL7feeivf/OY3sdvt/Od//ie/+tWv+NCHPgRMk0b/Pr1ms5lf/OIXmM1mKisrAfjKV77CM888wy9+8QvuvvtuzGYzF110EevWrZtlb7KQInxRIJFVurCwhE+WEunq6mJycpLc3NyohZIDsdCTXjzHQ5IkXC4XZrMZj8dDbW0t69atIy0tLeLvjmZ5pEiRguRhhlfRNUzG2B/Qik7Ah4QOSZdFWlYey7d+XNkmc2ICyGOdzcGHTCYwmRDMZjQWC7rubnT9/QhB0kTe+8hHmCwuxuPxMD4+Tnt7e1QFLf7rpryK6sRivleFY/cgHP42AhIMPAeAtOaOpH1fe3s7drudc845Z8Zyt9s9w0sm47333uO9997jySefVJZJkoQoinR1dXH48GG0Wi2nnnpq1LZs2bJlxt/Hjh1j586dM87n7t27sVqtdHd3MzY2htvt5qSTTlI+LywsZOXKlcrfhw4dwufzsWLFihlju1wuioqKALj++uv50pe+xD/+8Q/OPPNMLrroItavXx+1/dFgSRO+aG/QZHj4EjVOpPsiS4mYTCYkSaK+vp7s7GwMBkNcZC/R7dli3T5aQu4vlmy32yksLGTjxo1RhxaTncO30GQ6FNRqV7TQ9f0Zja0NyZCP4J7utIF3EsHajrb/r/jKz2Wkt5exwXQAJn78BNk8FnQsSa9Hqq5GrKtDrKlBqq1l4+7dSKWlvPvuuxQVFVFcXBw0xOzxeHC73RHlKkZT0CIT27nuUzWTFjXbthjug3DHTxh6ZZrswfTPoVdI5h5ZrVYA/vSnP1FVNV0Fb7fbMRgMZGVl0dHRMWv9q666iuuuu27WWLW1tbS3t4f9vnDnR84BTCSsVitarZa33nprVu67HLb9whe+wNlnn81f/vIX/vGPf3DPPffwox/9iC9/+csJt0fGkiZ80SLRD/VEiiZHUmFqMpmwWCxkZWWxYsUKysrK0Gg0HD16NG4bFlvRgs/no6enh66uLmC6gGd0dJTc3NyEdFJJYZFBnw1owDPpt1CLpM1Cb/4VvtJzqP7kJxF4GpAQEfB+6EOItbVItbWINTWIdXVINTVI5eUQwgsnCAIajSaml6tgFdCBhS1z5SqGI4dWqxWPx8PQ0NAssrjQBVuLYW5RMyGdC1LJbhh4DgEJCWH67yRi9erVpKWlYbFYFK+czWZTeo4HEr5NmzZx9OhRli9fHnS8devWIYoiL7zwghLS9Yc8p0dSpLlq1Sp+//vfz3iuvvLKK+Tk5FBdXU1hYSF6vZ4DBw5QWzstyj42Nsbx48eVfdm0aRM+n4/BwUH27NkT8rtqamr44he/yBe/+EW+9rWv8cgjj6QIn1qgVg9fOExOTmI0Gunv76e4uJjNmzdTUFAwY9tE7ddC5/BFsr3X68VsNmMymdDr9TQ1NVFeXo5Go1Fyv9QGtT5I1GpXLPBWfBx950Nox98GtIAPQdAiCToQtKTdeCO6gwf5OvfQRyWnVrXj+MOf59XGeCugQ8nkyF5Ft9uNx+Ohq6sraq9iKO9iJF7FEwFqnDeigbTqa9O/+OfwJRE5OTncdNNN3HzzzYiiyO7du+nv7+ett94iPz9fIVIybrnlFnbv3s3111/PFVdcQVZWFseOHeOf//wnP/nJT6ivr+dzn/scV155pVK0YTKZGBoa4uKLL6ayshJBEPjf//1fzj33XDIyMkIWSFxzzTXcd999fPnLX+a6666jtbWVO++8k5tuugmNRkN2djaf//znueWWWygqKqK0tJTbb799RqrFihUr+MxnPsPnPvc5fvSjH7Fp0yaGhoZ47rnnWL9+Peeddx7/9m//xoc//GFWrFjB2NgY//rXv1i1alVSj3uK8EUBtRK+wHGCCSXv3r07rOtaDaLJyfQSulwuTCYTZrOZ7OzsoBXIC11Ak8ICQqPDU3Mpmsk2EB3TOnySG0mTifh2EWm/mA7fet6fMj3DsekuLsQ14p+rmJ6eHnK96UKUjBntEcN5FeWf8XgVw/0M9CqqnTiq3b6w0OiQ1tyR1DBuIL797W9TUlLC3r176ezsJC8vj02bNvG1r31tVmrO+vXref7557njjjs47bTTkCSJZcuWcfHFFyvrPPjgg9x+++1cd911jIyMUFtby2233QZMF2t87Wtf47bbbuPyyy/nc5/7HI8//nhQu6qqqvjrX//KLbfcwoYNGygsLOTzn/883/jGN5R1fvCDH2C1WvnIRz5CTk4ON998MxMTEzPG+cUvfsF3v/tdbr75Znp6eiguLmbHjh2cf/75wLS38dprr6W7u5vc3FzOOecc7r333kQc2pBIEb4ooFYdPtkmn89HX19fRELJgeMstGhyIhDMBofDQVdXF93d3RQWFgb1cPpjofchFNRq1wkDrxPdwF8RRBvgBbSgzYApibRbPsjVGycfgBFXNvX9/dPh2xMYifIqBvMuyrmKgesE8yoKgoDX6+XYsWNzehcXwquYuj+jhyAIXH/99Vx//fXAdEg3LS1NCb96vd4Z62/bto1nnnkm5Hjp6en86Ec/4kc/+lHQz2+55Rb+/d//fcayffv2BV331FNP5fXXXw/5XdnZ2fzyl7/kl7/85Yzx/aHX6/nWt77Ft771raBjPPDAAyHHTxZShC8KqNXDJ3uvTCYTBoOB+vp6KioqIs67UYt3LpGk0Wq10tnZSX9/P6WlpezYsWNGR4hQ3x8rElV5HW5sNUKND7pYjpeu72m0428g6XIQvGOABD47WkcbNAKd0+tp8b1PB71oX38d70c/mkjTFxyJfBmNxKsYDMG8ilNTUzgcDtLT0/F4PNjt9qDh6VBexUi9i/HkKqr5Pl3qSMkgTSNF+KKA2gif3W4HphNKCwoKWLduHcXFxQtWfZwIxJvD53K5ePvttxkeHqaysnLOUHYivz+FxQwfSCKI7vf/FhHcIHiBs8D3/Ao07e0UimP0kUEZg2jfeOOEInxqufaDeRUNBgM9PT0zws2BCOVV9PcuRuJVjEUuJ1GtMpMFtZzbcEi2jSnClyJ8UWOhCZ8kSYyNjWE0GhkeHgamdYRkbZ9Y7VGDdy7WG1KSJEZGRujp6cHpdFJXV8cpp5wStWdBrR4+eVy14USaQL1lH8HQ/gAa6zFAAFFC8AAOkDIEnA88QNbZZ8/YRrN/f0zfdSIdt/lCJNd/or2KgT9lr2JgeFq2TRAE9u/fH7V3caEroJcC1Dh/LgRShC8KaDSahF040RIkURQZGBjAaDRis9moqamhubmZF198MSHtWNRC+KIZQ5IkBgYG6OzsxOFwkJOTQ15eHs3NzTHbkJoYligMubjrLiftyLcQ7FaENJDSQRgBb8VFCG73rE20774LHg/o9fNv7xJEMolyvLmKRqORqakp6uvrQ5LFSLyK0XoXo8FieNFIlo2pkO40UoQvSsy3Dp8slGw0GhEEgbq6Oqqrq9HpdMr2aqiwTRQi2RdRFOnt7aWrqwufz0d9fT3V1dWYzWampmKrnoTEePgSOWYix0gW1EqQo7ZLFNGMHkbwWhEyQPJOh3NFXxbOq3+OYe9eAKqxkJkpkWm3I7jdaA4dQty8OQl7sDBQ87WmRsheRb1ej8FgoKCgIOJtZa9iOLmcQK+i/FO+vtPS0igtLcVutyOKIoIgBP0viqLSmUJettSwmPc5UfNsivBFgUTmus01VqBQcnNzM6WlpTO0fhJZ/KGWMcLBn/xqtVoaGhqorKxMaKuphe7lO9/jpjANbc+fMLT/GkECKZPpXroCSMsM4DSiPXAAgHMKXkPcsAHdvt7p7V5//YQhfGq+xtRsG8RmXyIqoJ1OJ+Pj4wiCgF6vR5Ik5b9M8vz/22w2ZZxAUhhsWbD/ixFqv37mgpyvr48zmrCkCd9CFjeEGmtycpKuri4GBgYoKSlhy5Yt5Ofnh/UgqYWsJUu82e12K2LJGRkZNDc3U1ZWNuuYJEK4OdFY7BPNkoAkYfivBxAa3CinSweSBtAKpHX8BE1Ly/SqDQ1I77eCAtC+8QaeL35x/m1eglA72Zgv+/xzFdPS0nC5XIyNjZGWljbLISDbJItoy73BZQIIBCWGMoIt8x87HFEMtW4ouN1uBEFISk6jKIq43W6cTmfCx04mJEnCbrczODhIfn5+3MdmSRO+aJFowidDkiSGhoYwGo1MTExEJJTsDzV0yUgEAo+v0+nEaDRisVjIy8tjw4YNFBUVJXVijfU4JMrbGm5stUGtdkULw7e+he6xN5BuB8qnvXuiBBhyIb0CwT6AMDAAgG/DBqSSEmVb7RtvRPVdarjPFiPUftwWyj5BECgsLKS/vx+z2RxyPZ/Ph8/ni9qbGAj/NKLAlKK5fsr2+pNE/59erxedTqeQ1kR6FIeGhtBqtXHv/0IhPz+f8gRofqYIXxRINOHz+XxYLBaMRiNer5fa2lo2btwY1UW5kNWxybLDZrPR1dVFb28vxcXFbNu2jfz8/KTboGYCo/YH3mKF/qGHSPvxjwHwWTejc7yN5AMhFySfFcnnRvSsQpD+BoC4YYPSJ1cCNEYjwuAgUmnpQu1CQqHme0DtWKhjp9frqa6uxuPxhFxncHCQycnJWS3L5gNyrqIchvb5fErRipzD6PV6GRkZISMjA1EUlc/keU+r1SpeTbmyWa/XB10u51T6fD4yMjKQJImLL76Y3/zmN2FlfdQKeT8TgRThiwKJInxutxtRFHnrrbdIS0uLKxdNTWQt3jE8Hg8Wi4WWlhbKy8vZtWtXQiqQo4EaPXxqxmLeX91TT5H2fusl1003YWj9KdSClAECAqBDyqhCaq1TthFXrID382lISwOXa1qP77zzFmAPlhbUTEYX+j4QBCGso0A+dmr2cL3wwgs0Nzcrc76chxiqU4v80+l0zlrH5/Nx2WWXYbPZyMnJwefzcfnll1NdXU1BQQGFhYUUFhZSUFDAlVdeGdFxMRqNfOc73+H555+nv7+fyspKPvvZz3L77bcr2xuNxqCkcv/+/ezYsUP5+3e/+x133HEHRqORpqYm9u7dy7nnnpugIxkaKcIXBeIlNVarFZPJRE9PD5Ik0dTURF1dXdzVoWoJ6cajK9jZ2cn4+DgFBQXs2bOHjIyMqMdKhIdvoSfuYFDzg26xQvvii6RfdRWCJOH+whfQjL6KsN2NJAigkZDQIaFDY2tHOvSB3p7Y1IQwMjL9x/vXiuaNN+AEIHxqvPZlqNk2GWq+TxfD8QuUTpHz+WLxbomiyIEDBxgeHmZoaIirrrqKT3/606SlpTE2Nsbo6ChtbW2Mjo5y9dVXRzRmS0sLoijys5/9jOXLl3P48GGuvPJKbDYbP/zhD2es+89//pM1a9Yof/vr5L766qt8+tOf5p577uH888/nySef5IILLuDtt99m7dq1Ue9rNEgRvigQyw0tE5quri5GRkYoLy9n586dvPXWW+Tl5cU9SajFOxftfsh5i52dnVitVmpraxEEgaKiopjInv+48UCtHj41TthqfsCFg+bQITIuuQTB7cbzsY/h276djCcfRdoOUnoxgjQEeAAvkteGNv1ZAKT0dKTSUqT3RX1lbT5tmJ6bKSQOar7e1Hh/BkLNx09GomzUaDRUVFRQUVGhPGs+/vGPs2zZspjHPOecczjnnHOUvxsbG2ltbeWhhx6aRfiKiopC5tzdf//9nHPOOUrv3e985zs8++yz/PSnP+Xhhx+O2b5IkCJ8USAaYiSKIv39/RiNRux2O7W1taxZs2aGAnyiJonFlMMnH5fOzk48Hg91dXVs3boVnU7HO++8s6A5eIthQkwhPggmExkXXYQwOYl3925c3/0uWaecAgaQ0vNBmvbeSYCkzUNKq0KrOwKA2NAAggB5eUg5OQjvaz5q334bvF6IUgg3hRMLap4/FgMhTWaXIkmSklL9OzExQWFh4azlH/3oR3E6naxYsYKvfvWrfNSvBeP+/fu56aabZqx/9tln8/TTTyfcvkCkZqgoEAmp8Xq9WCwWTCYTgiBQX19PVVXVLFX0RIUP1ZLDB+EnFZ/PR09PD11dXQA0NDRQVVU14yZMxL4sZLXcYhx7KUEYGSHjwgvR9PfjW70ax5NPkn7ttQhjY/g2bMDd/CEMpp8hCQYE3ziCbwqcUwit78tX+IVoxKoqtC0tSFlZCDYbmiNHpgs6FjnUeq2pnbAsBvvUem5lJOsYyh1N4tWwC0R7ezsPPPDADO9ednY2P/rRj9i9ezcajYbf//73XHDBBTz99NMK6evv76esrGzGWGVlZfT39yfUvmBIEb4oEI4YORwOTCYT3d3dZGdnh9SKi2SsRNk032MEg1yIYTQaSUtLo6mpifLy8pAFKgvt4Ut0SNhut+NyuUhLS1OqrWJNDUghMoQ6vpIgIBUVITocOH7/e3TPPYf+f/8XSafD+dBDaLJenS7W8I3zfg0ukisT/j69vbhy5QdjVVZCSwtiTQ3alpZpAeYTgPCpGWonLCn7Yoc8vyXDRrl6OZSH77bbbmPv+510QuHYsWMzWnb29PRwzjnncPHFF3PllVcqy4uLi2d477Zt20Zvby8/+MEPZnj5FgopwhcFghGCiYkJjEYj/f39lJaWsmXLloja66iJ8EHiu3W4XC5MJhNms5ns7GzWrl1LSUlJ2BtajYQtVkxNTdHR0cHg4CBarVaRGJBFUwP7ZYb7O5jwqVqgVruCorAQxx//iNDfD3o9aV/5CgDur34Vqr0Y3vk54J1eV0hH0mahsfdNz5JuEJcvV4YSq6sBkIqLgfcFmP0m/nBQ64N3UZ1LlUHtx26x2JeMe0P28IUifDfffDOXXXZZ2DEaGxuV33t7ezn99NPZtWsXP//5z+f8/pNOOolnn31W+bu8vJyB93U9ZQwMDCREZ28upAhfFJAJhZwE2tXVxeTkJFVVVezZs4fMzMyox0qUTfGOkSg77HY7RqOR7u5uioqK2Lx5c9Ach3BjLBTirZaGaaJ39OhRhoaGqK6uZufOnej1ekV3UZYNCJQR8O+bGfgZwDvvvBMVSZR/T0beyqJGRgZSfT3pn/0smtFRfOvX4775ZnR9v0ZwjyMZStE4LSA5wesCQQNnA3+ertCVoXTbeD8nN1W4kVyonbCAeok8LI6QLiSX8AWmVckoKSmhxE9MPRx6eno4/fTT2bJlC7/4xS8iklJ79913qaioUP7euXMnzz33HP/2b/+mLHv22WfZuXNnRDbEgyVN+GKpLPV4PLz88st4vV7q6urYvHlzTLkBibqw1RLSdTgcOJ1OXn75ZUpLS9mxYwe5ublRj7NYZVUmJycBePvtt6mpqeGUU04hPT1d0YTyb4cUTRWyJEm88sorrFixQhkvkDTabLagGlUwXa02F0EMtiySiWwxPECCQffUU+j//GcllItej5izDkmbjsbRg8T715AuH/rH4X0ZPtGvwk/28PE+Idd0diIMDysev8UKNZ9TNdu2WAiVWrGQHr5I0dPTw2mnnUZdXR0//OEPGRoaUj6TvXP/9V//hcFgYNOmTQA89dRTPPbYYzz66KPKujfccAOnnnoqP/rRjzjvvPP4zW9+w5tvvhmRtzBeLGnCFylcLpfSy9Xn89HY2EhFRUVMQskyEklOFpLwjY+P09nZqbSuiaYlXDA74sV8E8aJiQna29sZeV+bbfv27TO6giQiTC2LqkZDoOWXk0Avov/foQRLgRmK9cFIoU6nw+v1YrVaSU9PV5bFc0/MB4ShIdJuvhkA9y23IK5bB4BYsAlv6Tnozb9EEvQI4hR4J9FoJeieLtLA77qWKiunxxscxLdiBdrjx9G88Qa+D394/ncqBVVAzYRP7YQ0mS/qiSJ8zz77LO3t7bS3t1Mtv/C9D3/7v/Od72AymdDpdDQ3N/Pb3/6WT3ziE8rnu3bt4sknn+Qb3/gGX//612lqauLpp59OugYfpAhfWFitVoxGI729vRQWFtLU1ER7eztVfs3TY4WaQroQ3Q0nSRIjIyN0dnYyMTFBTU0N69evp62tLWayB+pojRbp94+Pj9PR0cHo6Cg1NTWsXbuWf/3rX0pz8kQilv2SSWK0yvpyG6RwoWeHw6H8bjabMRqNMybVaDyJ8t/z8jCSJNJuumk6lLtuHe73iZ8Mb/5GdD3/g+CdBNnLNwo8A+KOpplDvT/ha3p68H70o2iPH0ebInxJg9pDumq3D9RPSGFhQrqR4rLLLpsz1+/SSy/l0ksvnXOsiy++mIsvvjgue2JBivAFQJIkRkdHMRqNjIyMUFFRwc6dO8nJyVHCdomA2mRZIoEkSQwMDNDZ2YnD4aC+vp5Nmzah1+sVD9dCI9mEcWxsjI6ODsbGxqitrWXt2rUKyUtmSHm+HigajSZionjgwAGWLVtGcXGx0gIpFEl0uVxBQ8+iKAIoxC+a8LNOp4vq+tf94Q/o//jHD0K5/vto7STN+CiC6AREENLBqYU8GzhnFmzAdEjX89nPIlZVIZWXo//Vr9C+8cacNqiZGKjZNlA3YQF126f2cysjGcdQTm+Jl/CdCEgdgffhL5TscDgUr42/xyaRD3Q1efjmGkMURXp7e+ns7EQURerr66murp5xA6khlzCZHr6xsTHa29sZHx+nrq6O9evXq7ov5XxDo9GQlpYWtYdTLmQJJIjyMpfLhdVqnbWOfJ6CkUKHw4HX66W7u/uDz3U6St7PkXF/5SuI69fPsEM3th+NswcprRKNwwiSE0kLFABnzCzYACArC+d//Mf0vh+ZFmbWvvUW+HyQKpRJQWVYLCHdZHn45NSYpY4lT/g8Hg/d3d2YTCY0Gg11dXVBhZIh8R4ctRM++aHZ1dWFTqejsbGRysrKoHlaaiF8iSaMo6OjtLe3Mzk5SV1dHRs2bEgRvfeRiAk0ll6ZkiSFJIper1chfKOjozM+E2+8kbrmZoxbt6J96aUZJLHAI7LMp0HnsiAx7XXEAYwAK8HT2BjyoSk2NyudNzTHjiHOQy5OsqDWh6LaPVRqJ1Sg3nMLyT2/oiimvHvvY0kfBYfDwb59+8jJyWHVqlWUlpbOqROnNg8fJOZm8R/D7XYrRSoZGRmsWrUqrIj0iQRZdkcmelNTU9TV1Smh63BIVkh3oeVq1Ab/iudg0Gg0TExMsO79ggwZkiTh+9CHKAviSfR4TmZqaiMFU8/hIxMNDrR6aXqGHIHXRkdx7NsXMtTctHo12QcOYH/uORxVVTPWSUnjJAZqnn/Ufn8uFvuSFdJN3YPTWNKELyMjgx07dpCTkxPR+mokfInM4XM6nRiNRiwWC/n5+WzYsIGioqKIvuNE8PDBdEX266+/ztTUFPX19THL7qSgPswljaPRfwKOvIHWPQFIoAXGQdqnZ8tPP47n/TzFYF7F8VWryD5wAO9LL3Fs2za8Xu8MaRyZALpcLrq7u5mYmJgzX1HtFc/zCbUTFlA/IVW7fZC8kG6K8E1jSRM+IGKyJ0ONhC8RJMfpdPLiiy9SUlLCtm3bZkiLzJcdsDATuyRJDA8PYzabcblcLF++nC1btkQdBgh2DOazqCaFOOAcwmD5JYLXCnjBp4NxL6SBWNyEPj2dcLRfe+658PjjlHZ1sWvXLmBmxbP8s729nYyMDAwGQ0zSOMHkcQI/i5UoLgZSpVYshmOn9nkkWfalCN8HWPKELxrIE2ki3pbUILw8OTlJZ2cnAwMDaDQadu3aRXZ2dsy2LDYPn0z02tvbsdvt5Ofnk5OTwzI/gV21QK0PFLXaFS10w8+jsR5HTK9CYzcCXsgDtCCeNncHHd+2bQBo29pgdBQKC4NWPJvNZoqKimYo7wcimDROICm02+2z1pErnqOVxpGXqR1qJyxqxmLw8CXLPjmkq+b9ny+o/y5XIRJF+BbCwydJEmNjY3R2djI2NkZ1dTXr1q2jra0tLrKXKE+W/NBKJuTWeB0dHTgcDhoaGqipqaG7u5uxsbGYx03l2i1eSLoCELRoXL2ADwSmizYmQVhpn3uAoiLEZcvQdHSgffNNfGedFbMt0Ujj+MPn880ggXNJ48jryPecIAhMTU3R19cX1osYjzROrFD7faV2QgXqJszJFl5OefimsaQJX7Q3gL+HLxHfPZ/jyCSns7MTq9U6Q1pkdHR03uxIJuayQZIkBgcH6ejowOl0KkRP9m6oYR+CQa0TtVrtigW+0jMRc9ajHfoHCOkIXuf07CiBlBNZU3Pf9u3ThO/118MSvmQdN7niORppHEmSFA3FQ4cOkZ+fT15e3iyiOJc0Tiw9nk+k60ftUDshTaZ9KcL3AZY04YsVaiJ8EN4eWV+ws7MTj8dDfX09W7duTbiG3lx2RIJkES5ZMLqjowO3260QvWCTwELrAKawQNBo8NT8HzSjbyB4JxC0IAkgWMFd+X8jGsK3fTv6X/86IgFmtUAQBIUo6nQ6srKyKC0tnXO7cNI4/vI4k5OTs9aRvzcakW15O7USF7XaJUONL7KBSHZIN4UU4YsKifTwJWqcUCTJ5/PR09NDV1cXgiDQ0NBAZWVl0As/URW2iUAic/hkotfe3o7H46GxsZHq6uqQN/9C9/JdiHFTeB9eK/qeP0z30BVd4ALBBnhBbD49oiGUPL433zzhBZjnksYJBUmSlArmUPmJNpst6OcA+/ykcaLpzDIfD3y1E76lal/Kw/cBUoQvBqjJwxd4k3g8HiwWC0ajkbS0NFasWEFZWVnSJR7UQBplGyRJor+/n46ODrxeL42NjVRVVS3am17tE/WJAO3gP9GMv42YVobGYwQ9kA1iHWh8hxA5dc4xxNWrkbKypgWYW1sRV69Out2LDYIgKEQsmDROKPT29tLb28vq1avD5igGksRAaZxoQ8+Rzpsnyn2wUEi28PJinfsTjRThiwKJfPAmOofP5XIpGno5OTmsW7eO4uLiRaOhl4gxZO/Byy+/jM/nUzx6kU7ayagSlgloCvOHmO5TQQsCCJ73i3a0TBdt+NLQ9T2Nu2RuwodOh2/zZnQvvYT2jTcWJeFT88uFVqslM3Puiml/BJPGCRZ6DiSR0UjjyCFnj8eD2+2OSxonWVjqHr75Ki5SO1KELwrIF0wiKkkTRfhEUaSvr4/W1laKiorYsmULBQUFC2JLIhCLHfIxaGtrw+Px0NTURFVVVUyTbqJb54miiM/nmyUs6j/5RGKnWs6PP06kCdRXdjZS58/QOPcjeAENIAL6LBAinyZ927eje+klNK+/DpdeOutzNZ5HGWq2LVbEWvEshhHZ9pfGkZfZ7XYmJiYwmUzATGmcaELPybyn1H6/pnL4ko8lT/iiITuJ9vDFg6mpKbq6uhgeHiYnJ4edO3dGLSLtb8tCe+fkMaKBKIr09vbS2dmJJElUVFTQ19dHTU3NvHx/sO1lj55M9uQ312g8fcFIoUwcoyWKKUQIjQF33RWkjR1DYxtCygUhC0RXLt7qSyIexrd9OwDa119PlqUpzAM0Gg1paWkRVzy/9957FBYWUlFREVZDMZg0jn/FczhiGOqzSIii2sl8KodvfrDkCV80UIOHT9bQGxkZoaqqiuLiYoqKimImezISRdbivXEjsUMmeh0dHQiCwLJly6ioqGBiYoK+vr6YvzsRCPToySEh+TP4YB/9SWCwnw6HA4vFgs1mQ6/XK2GmUAgkirF6E5ckRC/a0ZcRfBPTgstuwA4UlSIWbIp8mK1bAdC2tsL4OETZsSaF4FB7SFJGvNI4ofITHQ5HUG+jfFz8yV8wUuhwONBoNExNTc3o8ayWY5rS4ZsfpAhflFiIDhlyR4jOzk4mJyepra1lzZo1pKenc/DgwQUvlkgU5jomoijS09NDZ2cnGo2GpqYmysvLE0ZiYiXhMnETBIHjx4+TkZGBXq/HYDDMCtvIy8PZLOdj9vT0UFJSwo4dO8jMzFRsC0YcA3/G402Mhiiq3XMQKbSD/0Q39Dy4DKBzT+fwpYOgNaMZfxcxf2NE40glJYgNDWi6uqYFmM88M6l2p6AOxENI/aVx0tPTo/pOWRonVPhZlsax2+04HA6Gh4dnSOPM5UUM1eM50c+MlIdvfpAifFEiUd0gIiEXsqxIZ2cnDoeD+vp6Nm/ejF7/QVdPtYVj4534gkEURbq7u+ns7ESr1dLU1ERFRcWs9ROxH9F2LZHfzkVRZPXq1TPCNbJYbTB5icAcH/mN22azMTk5SU5ODitWrCA3NxeNRjMj8TiSyStab2Lgskgg77fX61303kTBZwfJCz4XGEAQQHKBZMhG1/0/uCMkfDAtz6Lp6kL7xhuLjvCp5eUvGNRs20LAXxpnrornQ4cOkZeXR21trVLcFi5HUZ7HAju3wPR9HU2lcyTSOCnCNz9IEb4okciLMtTDVfZkdXV1IYoiDQ0NIfXj1Ej44oH/9j6fj+7ubrq6utDpdKxcuZLy8vKQ5yAROXiR2hiYp6fRaCgqKqKoqCjstoGhGzlcMzQ0xPj4OAaDgfz8fCRJwmKxzMjx8Ze0CPQYhloeTcWg/4tMOG/i5OQkXV1dOJ1OMjIyIn4BisSbuFAk0VtyBrrOh9CmmcEHCCD5BEgvnmZ+UcC3fTv6//mfRZfHp2ZvrZptA/XbBzPvNXmOiAb+RDFU+NnpdM5aR05FCSeN43a78Xq9DA0NzVon3jlBfllOIUX4okaiKlplr40/vF6voqGn0+mU3LRwF7xaumQkAvKE5PP5sFgsdHV1odfraW5upqysLCJClsz9CEX0opmQ/JPB/c93Tk4OW7duJT9IzleoiVaWgZBJY+BymYgFC9OEI4tyyDnQm2i1Wmlvb2d0dJTa2lo2bdqEXq9PujdxXnITDfl4cz6Kvu0AEiDkA9kSoqDHW3FBVEMpAsxvvQWiCIvI05lCbFB7jmEi7IuVKPpL44TyKtrtdnw+H11dXcoyf2mcaCqd5Z/ynJCq0v0AKcIXJRIpYSKP43a7MZlMmM1mMjMzWb16NaWlpVF5nOJBIiaqRHj4RFHEZrPx4osvYjAYoj4OydDRg5nerliJnj/8PZeZmZls2LCBwsLCsHbFMtH65/cEI4r+ra/8/8PMt3GtVovL5cLpdJKTk0NdXR0ZGRmMj4/PmnAjPVeRehMDf0Zyfp1Op+JJjcabqLW8A5kgpYPgAYR0pPQKxOI9Ee2Tsm9r1yIWFyM2N8PYGMzh9U0hMqiZUKkdC/lCH4k0ztDQEF1dXWx/v8odZkdDgpFGf2kc+TNRFHnzzTe59957yc3NJTMzk8nJSS655BKKioooLCyksLCQoqIiVq9ezebNmyPaj/r6ekV2R8Y999zDbbfdpvz93nvvce211/LGG29QUlLCl7/8Zb761a/O2OZ3v/sdd9xxB0ajkaamJvbu3cu5554bkQ3xIkX4okQiBZM9Hg/Hjh2ju7ub/Px8Nm7cSGFhYVQTm9ry72KxRfZ0yVW369evp6SkZEEmeH/75d/lqtt4iZ5/qN5gMLBmzZqIxbFjQayJ4P46Yz09PQwPD5OdnU1xcTGSJGG1WhkbG5sxGctkLRpPoj+hlO2dC+G8iVarlc7OTiYmJlixYsWs9cJBN/ISWsc+cAJpgASSTkA79ibSZDtSdqOy7pznX6/H1t4e0rOnZuKiVtvUEIEIB7V7+EC95xaCH79opXFk+Hw+NmzYwGmnncbQ0BAvvvgiL7zwAuvXr2d0dJTu7m7ee+89RkZG+NCHPhQx4QP49re/zZVXXqn87a+OMTk5yVlnncWZZ57Jww8/zKFDh7jiiivIz8/nqquuAuDVV1/l05/+NPfccw/nn38+Tz75JBdccAFvv/02a9eujWo/Y0GK8EWJRBAsm83G0NAQU1NTlJWVsX37dvLy8mK2J14kSlJFHiNSeL1ezGYzRqORjIwMKisrcTgcETVvD4ZEePggOUSvr69PKTpZuXJlVJ7L+YQcxu3u7sZkMpGXl8dJJ50UVvZHDnHL4eVgIedoC1jmIor+2mMul4uOjg76+vqoqqpi3bp1M7wJgd7EYGFlrXcMwWMDOV0vDdCISEhozf+Nc8U3wh6zYD/x001cDAUsaidVKcSOxXBuEzUfarXaGfnU/f39HD9+fIYnLlbk5ORQXl4e9LMnnngCt9vNY489przQv/vuu/z4xz9WCN/999/POeecwy233ALAd77zHZ599ll++tOf8vDDD8dt31xIEb4oEQ+pmJiYoLOzk6GhIbKysigpKWHTpsg1vhJtTyIRzc3q9XoxmUwYjUYyMzOVNnAWiwWHw5FEK8NDJgKBRE8QhJgmI0ma7ukrC0MvX748bNHJQsNf9iYjI2POULMMmSRmZGRE1R81WAGL/3+XyxWUKMovJnIitsfjwWAwUFxcjEajoaenJyRRDOlFLD8Nxr1QDoLEdJcNQwFCZi060YrBYAibm+j/e6giFq/XqySny6Fz+fgF+wmLgyjOF9R634D6PXxL2b5E9tL93ve+x3e+8x1qa2u55JJLuPHGG5V5aP/+/ZxyyikzXjbPPvts9u7dy9jYGAUFBezfv5+bbrppxphnn302Tz/9dELsmwspwhcloiVYkiQxOjpKZ2cn4+PjVFdXs2fPHnp7e7HZbAmxSQ0VtpGM4fF4FI9eVlYWGzZsoKioKOiDLlYbYt0HecKZmpritddem7OoIZinyX+soaEhOjo68Hq9NDY2zll8s5CQiWlHRwcajYZVq1bNS0g9lpCNXMAieyD1ej3V1dUYDAaFEE5NTc0iiXICeKgClnS7ndV/98CFIHhBzAfBO4IoiYhl/1/ED4xg3kSfz0dfXx9dXV3k5OQoaRvR5iZCeHK4mLyJ0UINL7WLHWonfMlCoqp0r7/+ejZv3kxhYSGvvvoqX/va1+jr6+PHP/4xMO1JbGhomLFNWVmZ8llBQQH9/f3KMv91+vv747YvEix5whctSYh0fUmSGBwcpLOzE5vNRl1dHRs2bFDYfyJzAePVBUyUpEqoMTwej+LRy8nJCZmruBDeSn+PXkFBAVu3blW8MHI40u12Y7PZZoUsg0mlSJKkVJwVFRVRXFyMXq9ncnIypuKGZO/7yMgI7e3teDyeRUFMR0ZGaGtrw+fzRVW9HSrkrJxfQaD70xdRZvhftDoXkqTBg4GBcQ0Hj6ajb3shrPxNsOUajYaRkRFaW1uRJIm1a9eGzNkMzE0M/DvU75Hc++EKV4LdgynEBjUfO7UT5mR6+MJV6d52223s3bs37PbHjh2jubl5hmdu/fr1GAwGrr76au65556o8wwXCkue8EWLuUiJnK8ll5fX19dTU1Mz6w0jkYQvUWMkwsPnD7n62GQykZuby6ZNm+bUqUtGlW2o7/FvgQbTuR/BZFHCbS+TiNHRUXp6enC5XOTn55ORkYHX62VgYGAG0fCXSpnLexj4dyKJ2Pj4OO3t7Vit1rA6j2rB1NQUx48fZ3JyksbGRmpqaqKWw0lPTw9ZwCKMvYVhvAPsOeDxImgz0GsyqUobIXPLcjxCflCiKFcJBitgka/H9PR0srKyGBgYYHR0NCxRjKWABULnJkZa6ex0OnG5XMqLjmx/sJ/+v8/ny4HaCVXKvtiRTPvCCS/ffPPNXHbZZWG3b2xsDLr8pJNOwuv1YjQaFY3YgYGBGevIf8t5f6HWCZUXmGikCF+UCEUq/KU2NBoNDQ0NVFVVhZwQE0n4Ei0TE6sd8hhutxuj0YjJZCI/P19xg0c6Rjw2zLUPgTl6cn5etN8t55BZrVY6OjqYnJykrq6O2trasOEDWSol0NsUrLhBXhaoRxUNUQyc6AK19DZs2BC13Mt8wul00t7ezsDAADU1Naxfvz4p9gp2E4JnEimtBDxj4LMi+CQknY28wf+Hd+VXIhrH4/HQ3t6utMUrLy+fUfksVz8Hnn//LgbRehKjEdeGmd5Dn8+nSEKVlpZSXFyMVqudcX8kw5sYLVFUu4cqhfiRTMIXak4uKSmhpKQkpnHfffddNBqNUmS4c+dObr/9djwejzJHPfvss6xcuZKCggJlneeee45/+7d/U8Z59tln2blzZ0w2RIsU4YsS1RzBCgAAeLFJREFUgaRCzkszmUykpaXN2Q3CH2ohfIm80To7O+nt7SU/P5+tW7cqF3qkdiRrYg9G9OLpCTk5OUlHRwdjY2PU1tZGTERikUrxL24IRhQj0dPT6XTK+llZWVRVVWEwGBgeHg5bAbtQkN+cTSYTJSUl7Nq1K6qCkGgh5m9C0uUiTB1TlknpRZDZiODom3v79wteOjo6yMnJYceOHWRnZ0f+/e+L04YNO4dJKwjlMQ5FFnU6HSMjIxw/fhydTsfWrVvDKgUk0psYDKHIYSLTTZKJxWDfQt/T4bBQHr5IsX//fg4cOMDpp59OTk4O+/fv58Ybb+Szn/2s8oy75JJL+Na3vsXnP/95br31Vg4fPsz999/Pvffeq4xzww03cOqpp/KjH/2I8847j9/85je8+eab/PznP4/LvkiRInxRQiYlcoN7i8VCTk6OUmka6UWrJg9fvJOqfCxg2oMULdHzR6JDujLRg+mHVrxET/boDQ8PU1NTw5o1a8IKiiYCsRY3yN4ks9nM4OAgOTk5Sg9iOQwdqgI20jBzovMS/YlTVlbWnEQkYchqwFNzMfq2+0GThuAcQHANIWXV4ys6KeymMnESRTFmbcVIxGkDIV/bwV4EIilggQ90Ezs6OiIiilqtNuGt+gJ/Bt7DXq+X8fFxdDqdEm6G5HkTY4WaCRWo275kF23ES/jS0tL4zW9+w1133YXL5aKhoYEbb7xxRl5fXl4e//jHP7j22mvZsmULxcXFfPOb31QkWQB27drFk08+yTe+8Q2+/vWv09TUxNNPPz0vGnyQInxRQ5IkzGYzBw8epKioiC1btsREbk4Ewudyuejq6sJisShFGGvXriUrKysuOxIBSfqg/VkiiJ7dbqejo4PBwUGqqqrYvXt3VF66+YYoilFp6cHsFm7BSITD4Zi1PJTociShZ/lhLFc2t7W1AbB69er5F99OKwM0CM7pijlJo0fKrEas+kTQ1W02G8ePH2d8fDymvMJ4IXv2dDpdRN5Pn89HZ2cnJpOJ8vJyqqqqZoWbPZ7pfqihPMbyy0A03kT/8xxNbqIoigwNDXH8+HEyMzNpaGhQtk+mNxFOvJDzUvfwxVulu3nzZl577bU511u/fj0vvfRS2HUuvvhiLr744rjsiRUpwhchpqam6OzsZGpqivz8fHbu3DnnAzQc1JJ7F8s4TqdTIXrFxcWKcPSzzz47b0UXobYHlHyoRBA9h8NBV1cXfX19lJeXJz20GC9i1dKD2Fq4yYQ6VE6if16i/zJ/mRStVovX60UURXJycsjLy8NqteJyuYKSiKQUl0weRWd8FEFyAyJoc0CfhzDVBl4rGHKVVT0eD52dnXR3d1NZWcnu3buT7uWNB7JiQGtrK+np6Wzfvp3c3Ny5NwwYQ34ZCOVNlPs5hypSCkcUA5d7PB7a2tqYmppixYoVc6bJJLNVH4QvXJHnLTWTPjXbJmMhqnSXGlKEbw6MjY3R2dnJyMgIVVVV5OTkUFtbGxfZg8Rd3POZw+d0OpUHXUlJCTt27Ij6wZEs+E+4r732mvIA8X+QBAtNhpoIZO9lT08PpaWl7NixI2bP5XxAkhZGS08QYhdd9s+DLCkpIT8/XwlR+le/ygQilsIG/+KVcMdCM9WCxjWMlFGD4J0C3wSCz40kaNB2/xpf49Wz8vS2b98e9zyQbFitVlpbW7FarTQ1NSkh/Wjh/zKQmZkZ8Xb+/ZyDEcVw51kQBAwGA0ajkd7e3og8iv4FLPG26gtHEP3n3KmpKVyu6RYt/iFneR/C/YRUyBkWj/DyYkeK8AWBJEkMDw/T2dnJ5OQktbW1rFmzhvT0dA4cOKCaUKw8TiIQzh7ZyzUX0UuEhy7a7f1Dtzqdjm3btuFyuSIOUclFDf7EwOl0MjU1RXZ2No2NjeTm5uLz+XA4HBgMhrg8homGJH2gped2u1m2bJmqtfRgpoesvLyck08+OaLw+FyFDYGdOWQ9Rf+8xFBEMctbRLlkQD/VCtK091HKKEPKbkKYalPy9Hw+38KEm6OE1+ulo6OD7u5uqqurk1bdPBeiKVIaHR2lpaWFtLQ0mpqayMzMDFmoFE8BS7xeY5kk+nw+Ojo66Onpoa6ubobkVDK9iTKiucfV7uFLJuHzer0JEV4+EZA6Cn6QvSRdXV04HA7q6+vZvHnzjIlSTbl3yR7H4XDQ2dmpeLnmCmMnwpZIt5cnUFEUldCtIAhR6egFhqP6+/sZHh4mPT1dKdUfHh6mt7c3KEmMpKAhUg9TLJiYmKCtrQ2r1aroPar5TVYURSwWC52dneTl5UXtIYu1sCFcXqKspTfsycLDVqqlbnxko2cCHL2MO3PpmVyJefBtsrKyyM/PZ3x8HJvNNme+2kJAkiT6+vpoa2sjKyuLk046Kapq4YWA2+3m+PHjDA4OsmzZsphyIf0LWEKd63CpBf79nCPxHk9OTtLa2kpGRkbE3v9EeBPDIZw3cSmHnH0+n6pfgOcTKcLHB3lPXV1diKIYVohWbUQNEp/DZ7fbFXmVsrIydu3aNS8PjUilbAKJXiweNzlcpNFoGBgYwGQykZOTw9atW0OSxkCSGPhACeZh8k92nyu8HClJlCuFR0ZGFoWWniRJDAwM0N7ejlarVSra5wNR5SX29qI79C8MzkGQJHzosQtF2EouoLlsZoFDNO3bIqlyTgRRn5qaoqWlBYfDwcqVKyPuQrJQkCSJnp4e2traKCwsZNeuXTEXQkVbwCIjnOSRHB3wP9f+97S8DwcPHoyYKMo5q9HY5/9d/ssizU2cnJyMOOQcbNl8kKVkF20slk4YycaSJ3wWi0XRoookHKY2wpfIcYIVKERD9JIZ0k0U0ZPh8/mwWCwYjUYyMzMjKm6QSVssHqZQRQ2RtG2THxgajQaHw4HdbicvL4/ly5eTkZGB3W6f8UBR00N+bGyM48eP43K5WLZsGZWVlaqyT4HNhMH4GBqvDSQPbrLwaPIpz3VRunkzaOY+54EepkASEU5w2d/DFClRlF8IPJ5psefe3l7q6urYvHmzqj29ME1Ojx07hsvlYu3atTGL38aLSCWP5OhPa2srxcXFLF++HK1WG5IoygUs/p8HFrCEI4nhQs6R5ib6h5wbGhqC9nCWf0bjTUyWHI6aq3RPFCz5o6DT6Vi9ejWlpaURXXBq88wl4iax2WyIosjbb79NRUUFu3fvjqlAIZHHRkaiiZ5/FWtaWlrMummRItbKV/+KSIfDQV9fH6Ojo2RkZFBWVqZ4zUKRxEi9iMkiiTabjba2NkZHR6mvr6eurk7VJEQzcRBxysiUr5QcJjFgQy/6wJOGx/I/iHWfnXOMWEW1A18I/H+XPUyBpAI+KJiRc5Ty8/Nxu910dXWFJA8L/ULg9Xrp7OzEYrFQW1tLY2Ojqq8LmE5taWlpYXJyklWrVkX8rAhEJC8E4QqVIiGJ8n/ZZoPBEHXIGeZXXDvwuxMNr9ebCum+jyVP+CorK2cIkc4FNXrmYh3HarXS2dlJf/+07tjGjRspKyuLy55EefiSQfT6+vro7OxEq9XS3Nwc88SdbMikTQ43G41GJectVFV0pLlqgZ8HksRI8xJDEQe3263kfcqSJWoPp9jtdnosdupcPnKkHjRIgAQZFYhZy9FMHiVZj6NY8xJHR0dpbW3F4/HQ0NBARkbGrKKGUOc6WFFDuHBktK3bQsFfGmYx5BZKkoTFYqG9vV1JbYkndSKWF4LANJJQEQL/5f5hW6/Xy7vvvhtVfmK05zqa3ET/3+XtPB4PY2NjZGdnhww5+/8erTcxVaX7AZY84YsWapJTiXUcOQdsYGCAyspKTj75ZPbv3x+3kHAijo1M8uQ2aPESPTkU09nZiSRJLF++POLWdwsFfy9kenp6xOHmWDyJPp8vpHcplNdBvt4CPUdut5upqSkyMjJoaGggJycHh8OB1+sNSxIXCh6PR9GTrKhYT1raeWh6fokk5IFnEsE9jOCrQ8xqWGhTFbjdbtra2ujv76ehoSFiz6l/UUOwEKTsSQ5cFomOXqhl8kPY4XDQ2trK+Pg4K1asiFkaZj5htVo5evQobrebDRs2zKjAnU9Ek0YyPj7OkSNHSEtLY9WqVRgMhjkLWGJNLwiWbxxLP+eRkRGOHj1Kbm4u9fX16HS6hHsTJycnIy7mO9GRInxRYjHJqQRiampqRreIPXv2KAnOibAnnmMjb+dyuTh69KgymQTT04v0ATc4OEhHRwc+n4/GxkbVy5X4FzfMh5aef6J7NDb6Ewe3283Q0BD9/f1otVqKi4vRaDSMjY0pIWe32x2UJEbqUUz0/svFAnL7NrlaWOg/DXHwrwjuAQTJjYQWMaMaX+2nE/r9sUDunNLR0aEUOERTnBBrUcNcOno2m43x8fGQxEEQBLxeL2lpaRQUFDA5OYnD4Qh53hda8kgURbq6ujAajdTU1LBs2TLVe4fkDipms5nGxkbq6uqUeS7WApZw6QX+nwXKHkUadtZqtRiNRvr6+li5cmXEub2hvInBPIgAf/zjH/nb3/7GOeecE/FxOJGRInxRQg2h2GjHmZqaor29naGhIaqrq2cQvUTbE+0Y/qHbrKwsGhoa8HimK16DVUJCaAkF+Xen06mQDVmuRM1Ju5K0eLT0/ImD3W6nvb0dr9fLqlWrQnpOAyUzgoWbw3VpiJQc+v8e6uEhh0J9Pt9MQu0cRGt+Ao13HLwOJH0BUnopgmcQNJELDScDY2NjtLS0IIrivFY4Q+x5iSMjI7S2tiJJEnV1dTO8TZHoYkYTgkyU53h8fJyjR48iCALbtm1Tjah8OExMTHDkyBG0Wm3cYfJYe3b7p5IEI4vhPMdarVbReJ2LKPp7E+eC1Wrllltu4U9/+hOPP/44n/zkJ2M+LicS1PsUVCnURvggNMmSOxnIRO+UU04JOXEnwp5oJl1/oufv/WloCB0+myvBfXx8nImJiRlVWe3t7YocSDByEI5AzAfhkrX0pqamaGhoUL2WHky/QLS1tTExMRGRzbF4l+RrI1y4OfCFwP9BEviw0Gg0WK1WHA4HJSUllJWVodfrsdls057k0dfRTLUiZS5H8BxE8IyBx4kgetD0/y9i5UcTcuyigdPppK2tjaGhIRobG6mtrVXlS4A/3G437e3tM0LOkdgcaa5auGr2ucKQoTzHXq+X9vZ2enp6ZnnI1ApRFOno6Ajq1ZtPRJNKIooiRqORrq4uGhoalPz5YOfcP5VkrpcCvV7Piy++SHt7O4WFhUiSxK9+9StKSkp46qmn2LBhQ1JlXxYTUoQvSqiN8AUbZ2Jigo6ODoaHh6mpqQlL9PyRCMI31xjBiJ4smjwXQiW4j4+P09HRweTkJHV1ddTW1iqEL5TOlvx74EPE7XbP0lML5UUK9nukk4rNZqO9vZ3h4WHq6upUr6UH0wSko6OD/v5+qqurWbt2bdJ6yMoVqNG2bAvMU3M6nfT39zMyMkJmZibFxcV4vV6MRuMMkljg7WSd20mGZEGPGwERp5CPizK8Xf9kXNwclDQk4yEriiJms5nOzk5KSkri0qebL0jStODz8ePHycvLY+fOnVGHnOMV1Q7nXQrlOdZoNLjdbrRaLUVFRbjdbkwm04K+BM4F2aun0WgWRfELTBdGHT58GI/Hw9atW8nLy4t6jHAvBRqNhpGREd59910GBgbw+XwMDQ1xzjnnKJ8XFBTwyCOP8PGPfzwJe7g4kCJ8UUKNhE+GTHxGR0epqanh1FNPjdg9n+wcvniIXij492Ktra0N2j4qljBFoGcp0NMQTrF/rnAjTFcrjoyMUF5ezu7du1X/MPd6vZhMJkwmE8XFxezcuTOqfqrzCTkEmZaWNiNP76STTgrZ1WOaJO7B8F4LuoGn8AlFCD4nOo0bDyI2MY/BwcGg5zuUplqsnuORkRFaWlrQaDRs3LhxzmIdNcBqtdLS0oLdbp/XtnOxFCrB9PmWX7jGxsaorKwkOzs7aEGDfM4DO3JEUrwSTQgyEoiiSGdnJyaTiYaGBurr61VBQMNBkiR6e3tpbW2lsrKSpqammI9HuJeCj3/84/zlL39hZGSEX//61+zatUt5HtlsNkZGRhSh+qWMFOGLEmokfB6PhzfffFMhPmvXro1aCiMZGnqQHKInVxnLHsw1a9Yk1NOk0WhIT0+PiogFy1HzJwgTExNMTk7idDqVxPS+vj76+vqi9iLOV7WrKIr09vbS0dFBRkYGmzdvXhTVbqOjoxw/fhyv1xuR/I5MEjWNnwVnBxqNFsFuQdBlk1H7cQw1/4eytJl5c3NpqoUjDcE6cQiCwMTEBA6Hg/LyciXk7HK5VONZCoTP56OrqwuTyURNTQ0bN25Uda4sfFDM1draSn5+fsQvXOE6csg5qP55iXJBA0TXijFUXuLk5CRHjhxBEISoWxIuFNxuN0ePHmViYoL169cnJfdUkiT+/Oc/c+211/LhD3+Yp59+esYcJQgC2dnZZGdnU1dXl/DvX2xQ992pQqiJ8I2NjdHe3o7dbqesrIz169fHTHwSlcMXTkcvXqJns9no7OxUqozV5B0Lldzu8/kwm8309fWRl5fHhg0blGTwUJIoocJRcrVrqIq4UA8Tg8EQVS9fSZIYHh6mra0NURRVrVnoD7vdTltbGyMjIzQ0NFBbWxtdG6vCHfiqP4l26FnEkuV4ln0RclcHXTfWYoZAwuByuRgaGlJEtfPz87FarYyNjeHxzJbKiOTFQP47mSRxaGiI1tZWDAbDoiEgDoeDY8eOMTU1xapVq6LSHI21oCHUC4F87oPJowTe4z6fD6fTSU5ODoWFhYyMjDA1NRWUKKrlHh0aGuLo0aPk5+ezc+fOpKR+2Gw2brvtNn7/+9/zwAMP8NnPflY1+69WLHnCF+0FooZOG6Ojo7S3tzMxMUFJSQmiKLJy5coFs0eGfGxkkifnysQrteBwOBSBaLnlWzT5QQuBSLT0os1RC6WlFk6ENfABMlfhitvtxmKxYLfbaWxsjKmR/XzD6/XS1dWF2WxWwuQxiT1rNPgar8BXfxkkYZ/9SYNMqs1mMzqdjm3btgX1ns7lWZKT2/0/C6anFml181wE2el00trayujoKE1NTVRVVan+IRsooLxu3bp5yZeNNy9RTtEBlKIMj8fD5OTkrGshVLFSJKHnRN7fPp+P48eP09fXR3Nzc9I0Fw8ePMjll19OQUEBb731FsuWLUv4d5yIWPKEL1oslIdPVtf3L07YuHEjExMTtLa2JsSeeCDvi81mIyMjIyFvnE6nE6PRSE9PD6WlpRG3CFpI+GvpCYKQUO9YrNWuoTpwyDp6NpsNp9OJzWab0XWmvb1dSWCfy7OU6HylSPett7eX9vZ2MjMzEyelkWSCa7PZOH78OBMTEyxfvjwsaYo1BzWUZykw/BishVeoNAKbzcbQ0BAFBQWsX7+erKws1Xcx8BdQXgw5kXKxktlsxmg0Ul9fT0NDQ1hSFklFe7i848AUg0iIYrBzPjExweHDh5V2bsnI8/X5fDz44IN85zvf4aabbuKb3/zmvJD3EwUpwhclBEFISN+/SAmfTPTa29uZmpqivr6eTZs2KRf5QoeY/dvk5OTk0NXVxfHjx4HQDw/592CfyVVzRqMRi8VCcXHxoqhEk89TW1ubqrT05kps93g8GI1GhoeHKSsrY9myZaSnp0fU3zVwOcx9zmPxKgXD2NiY0lpssYSc/XPeKisrE557KiNWkhjqnFutVvr6+hBFkczMTJxOJ++9915IkhiJRzHZJNFfQHmx9OyFacmjw4cPA0T8AhNrRXuw4jT/8z5Xb9/AyIDVaqWgoICSkhImJiaw2+2zXgbjuUf7+/u5+uqrOX78OH/961855ZRTVH/Pqw0pwhcl5qvThr8Yr81mo76+ns2bN896cC+kxxFQWqBJksSqVatYvXr1jNyVYAUMsochWBhKtkOn05Gbm4tWq6W3tzckUVRD3spi1NKTOzd0dnaSk5Mz6+ESjiQGQ6h8JX95lFBJ7cFCj6HIofwgHx0djSlPbyHgXyiQnp6uSlHfYJJHHo+H9vZ2BgcHg1aFyiQxVIpBpALLkeYlRkoYZAFljUajymMdDP4Eta6ujsbGxqS/LMZSnBb4YmC1WjGZTHi9XiV8K+ef+l8LQNC0klAvBS6XC0EQKCoqQqPR8Le//Y0vfelLnH766bzzzjuq99SqFSnCFyWSTbDk3B65GKO+vp6tW7eGrH6b75zCYERPo9HMmJz8c1ciCcH6y35kZWVRUVGhKPP7TyyBJMI/b2UuouBPFON905Thr6VXW1u7KLT0ZPLR1taGRqNhzZo1FBcXx308YslXCnx4BJIG//w0t9uNy+VSrj+tVktPTw+Dg4MRnf9E5ypFCqvVSmtrK1arlaampkXRR1aSpvtPHz9+nJycnJAyPP4kMdJUi7kKGebyHofzIGo0GoaGhhgZGaGuro66ujrV348w7dU7cuQIkiSpnqD6e/Z6enpoa2ubU27FP60klEcx0Jv41FNP8eijj6LRaMjKysLhcFBfX4/T6eQrX/kKxcXFFBUVsX37dk4//fR5PgqLFynCFwOSQfgkSWJoaIiOjg7sdrvivZhL5mA+PY4QnuhFC5/Ph8ViwWg0kpmZGVWOTWDeSrCfwRLa5QKGQIIwVzGD/2TmdDrp7Oykr6+PyspKTj755NiKBOYZ4+PjHD9+HIfDwbJly6isrFzQkHMoIW1/+Ofp5eXl0dTUREZGRkjvsb+Qdig5lEiqmuP1Hnu9Xjo6Ouju7qa6ujqoRqQaYbPZaGlpwWq1snLlSsrKyhJKUOMpZAiVYuByuRgdHWVyclLJczUajRiNxrDFSqGugUS9EM4F/84T8+XVSwSilVvxTyuJNK9vz549fOpTn+LWW28lIyODSy+9lMzMTEZGRhgeHmZkZASLxUJmZmaK8EWBFOGLEhqNJqGET/a4dHR04HQ6lZBgtA3tE2VPqPEDiV48Eiv+FaxpaWmsXbuWoqKiqMaLJW8l3IPD7XZHFHaUSWZ6ejplZWWkp6czNDQ0izDodDrVTN7+ciWy50PtemkQPk8vHiHtQEIYmNAeqkVbpPI3/f39tLW1KYLPas8/hemXL5kkVVVVqYqghstDdbvdtLS0YLPZWLVqFZWVlcpcFnivB57juVq1RZOXGK02ptVq5fDhw4iiGHPniYXAfMitiKLIz372M775zW/y5S9/mW9/+9tJ6+iz1KD+WV+FSKRA8auvvorb7Y459ytRb6LBCF8yiF5fXx+dnZ1otdqZzevnAbEo84uiiMvlwmQy0dvbS0ZGBpWVlWi12hkepUi7boTzKCZaUNntdtPZ2UlPTw8VFRWxy5XMMxwOB21tbQwPDyckTy8eIe1QXqVwLbsARXqlvb1dNULaoTAyMsKxY8fQ6XSLhnz4t3IrKChg165dM67tWO71SCvaQ0UNQpHBQGI4ODiIxWKhtraW5cuXq+bFMBx8Ph+tra0MDAywcuXKpKUmDA4O8qUvfYlDhw7x5z//mdNPP131KRCLCSnCFyXi9fDJsh1tbW0AVFZWxvVAS0YOnz/Rk78jHqIn5wR1dHQgCALLly+nvLxc9TdyoJZepCHnwK4bwWQxAj+LRisv0KMU7PstFgtdXV3k5+cvGi+T3OPWZDLFp6eXAEQjrOzxeGhra6O3t5eqqirKy8uDdl5xOByzvIuBZCHSCudEhB1dLhfHjx9neHiYZcuWUVNTo/p7EmYKKK9evZrS0tKEjJtokhiYWuJ0OnE6ncq8KguyR+JB9I8czPc5mpiY4NChQ6SlpbFjx46kaKBKksSzzz7LF7/4RXbt2sW7776blM4cSx0pwhcDYpUvkUmP1+ulpqaGtra2uL0XiS4i8Xq9M8aLl+jJ4Wqfz0djY6MqpErmQrxaetF2YZAJdrh8xGCtumC2PILP58NqtaLVaqmoqKCgoAC3283U1NQM6Rs1QfbWtLW1kZmZuai8TD09PbS3t5Obm8vOnTuj0okMJqQd+HIwl0cpkmIl/6IG+T7v7u6mvb2doqIidu7cqZqONeEgSRJms5mOjg7Ky8vnTUA5HCIhiaIoYjKZ6OzspK6ujoaGBoCwHmT/Igb5M3lejjbcHGsuqn/lcGNjI/X19Ukhm06nkzvvvJPHH3+cH/7wh1x55ZWqm6NOFKQIX5SIRb6kr69vBumprq7G6/XS1taW0HZmsULevqenB6vVqiRVB0qgREpM5Urjjo4OXC4XjY2NVFVVqf4mDtTSa2xsnJfCBn9B5UgRKH0zNjZGd3c3Xq+X/Px8DAYDDoeDiYkJZT05HzGweGGukHM8xQtzwT9PLxlFAsnCxMQELS0teDweVq9eHVNqQiKFtCN9OdBqtUrKQW5uLgaDgZ6enpDXgVokb6ampjh69Cher3dRCCjLsFqtHDlyBJ/Px5YtW2Z0U4n2vAdLMwj0IIdKM4iEGAbq6sl2J7Ny+NixY1x++eVotVoOHDjA6tXBWxmmkBgsecKXrNZqcr5aR0cHoiiybNmyGaQnkQ+1WAmff+i2traWsbGxkMnMMO25moskOJ1Oenp6ZhSgqOWhEQ4TExO0t7czOTm5KOyWqx1lkerx8XHq6+vDeowjKV6IVfomGFEId4375+nV19dTV1en6uMtw+1209bWRn9/P/X19dTX18+r3bGGHZ1OJx0dHfT391NSUkJhYaFCIGQplGD3fLRC2rInMVHwF6teTALKkiRhMpno6OigpqaGZcuWxR3JieXlIFwHDrfbPatIzf+el3NfW1pawp57/78jfa6Joshjjz3G17/+da6++mruvvvuRZFfvNix5AlftJiL8PkTPUmSQspfyDdGIjx80UKeCOSfgiBQXFxMSUlJ0PX99dJCeRTsdrvSmks+Rm1tbRiNxqCkIBxRmE8EaumpqToxHFwuFx0dHfT19VFVVRVR14Zoixfikb4Jppkm555NTU0xOjqqtOjKzs5WvVdPFqru6OigsLBwUfRzhpmiz5mZmRGHnecST/evaA/swiBXtEdCDuVlwUji2NgYR48eRavVsn37dnJychJ+fJIBm83GkSNH8Hg8s7x684lolQxcLhdHjx5lcnKSFStWkJWVFdSjKOsk+l8fMknU6XRBz/V7772H2WympKSEjIwMfvGLX3DkyBF++9vfcu6556r+/j9RkCJ8USIU4RNFkd7eXqUwYa5wYCIJX6RjBCN6cl5POITTS5ucnKSjowObzUZtba0i+SEThWAkIdKctHDEMF6ttEAtvd27dy+KPCZZPsNkMlFUVJTU/sKJlL6Rw85jY2OKmKrT6eTQoUMhiUIkHsX5eFCMjY3R0tKCKIqsW7du0SST2+12WlpamJqaYsWKFVEVSkUrng5z9/C12+2zyENgmoFeP13J6nQ6sdvtFBUVUVJSgt1ux+v1ziheUFuKSKK9evOJwcFBjh49qrzMRPvSG6xIyf/3trY2/v73vzMyMsLExATj4+P4fD7OP/988vPzFSHlSy65hOuvvz5h+/Xiiy/ygx/8gLfeeou+vj7+8Ic/cMEFFyifS5LEnXfeySOPPML4+Di7d+/moYceoqmpSVlndHSUL3/5y/z5z39Go9Fw0UUXcf/9988ohHvvvfe49tpreeONNygpKeHLX/4yX/3qVxO2H4lCivBFicAJ07+SU65AjaQwYT4JX6xELxysVisdHR0MDw9TU1Mzy8MUC1EI5UWSw42By8OFG0P9FAQBi8WivG0mkzAlEv4CxBkZGWzatImCgoKFNmsWgoUcx8fH6e7uxu12s2bNmll5ev5EIdjDIlzj92BhpURJ3zidTtra2hgaGqKxsZHa2lrVkYxg8C8SqKysnLfihlh7+Pqf2+HhYSWnsKKiQhGkD3bu51NIey7IXj23272gXr1o4fV6OX78OAMDAzQ3N8esnjBXodpNN92E1WrlkUce4Xvf+x7XXHMNbrdbEVKWxZRra2vj3aUZsNlsbNiwgSuuuIILL7xw1uff//73+clPfsJ//dd/0dDQwB133MHZZ5/N0aNHlX35zGc+Q19fH88++ywej4fLL7+cq666iieffBKYdnqcddZZnHnmmTz88MMcOnSIK664gvz8fK666qqE7k+8EKREisotQsgTTqTo6emhu7ubbdu2Kb1ItVoty5Yti0qbSJIk/v73v3PaaafF5VlyOBy88MILnHPOOUG/I5DoxVN1C9M3UGdnJ4ODg1RVVdHQ0LBguRdzVbYG+ynDYDCQlpYWFVFcCEjv91Rua2vD5/PR1NQUVcXwQsLhcNDe3s7Q0FDC8/Tmqm4N9jNS6RudTsfIyAg9PT2UlJSwYsWKReH9hWlvREtLC4IgsGrVqkVDPFwuF62trYyMjLBixQpFQDkY5vImBfs9UiHtwN/nekGQK4fb29uprq5m+fLli8arNz4+zuHDh0lPT2fNmjVJS1E4fvw4V1xxBV6vlyeeeIJ169Yl5XvmgiAIMzx8kiRRWVnJzTffzFe+8hVgOpe7rKyMxx9/nE996lMcO3aM1atX88Ybb7B161YAnnnmGc4991y6u7uprKzkoYce4vbbb6e/v19xetx22208/fTTtLS0LMi+hkLKwxcl5AToF198EZ1Ox8qVK+PSlEtUDp/8MJN/T7RHz+Fw0NnZSX9/PxUVFarIYYrEi+gfas/JyaGhoYHs7OyQ+Wjj4+Mzlgd6kiIliInQSZuamuL48eNMTk7S2NhITU3NovAw+Sfal5WVsWvXroQTpmRJ39jtdux2u3JfDgwMMDQ0FFXBSqictGTC7XZz/PhxBgcHFU29xXCtyCoGra2tFBUVzRJQDoZozz3M/YIQWOEaSgbF/xzL3kev18uKFSsoKipCFMW459pkQxRFOjs7MZlMLFu2jLq6uqTYK4oiv/zlL/nqV7/K5Zdfzve//31VvTh1dXXR39/PmWeeqSzLy8vjpJNOYv/+/XzqU59i//795OfnK2QP4Mwzz0Sj0XDgwAE+/vGPs3//fk455ZQZEa6zzz6bvXv3MjY2pqpITIrwRQifz0d3dzdtbW2Iosj69evjkpBIVEhXhr9osiiKCSN6TqeTrq4uent7KSsrC9lIXW2QtfQ6OjoAZmnpRRrGDfWgkH/OVbQQKUH0JwlOp5P29nYGBgaoqalZNIUk8sO7vb2d9PR0VenpzSV943A4OH78OC6XixUrVlBdXY0gCGG9hsHOfSjpm7mIYqyCurIWYFtbm5J/paaHajjY7XaOHTuGzWZjzZo1CRNQDoZYXxCCFS243W5GR0eZmJggLS0NvV5PZ2cnra2tUQtpJ/IFMRLYbDYOHz6Mz+dLaiHM6Ogo119/Pa+88gq//vWvOe+881RHgvv7+wEoKyubsbysrEz5rL+/f9Z1qdPpKCwsnLGOrK3oP4b8WYrwLSL4dy0wGAxUV1czOjpKeXl53GMnQkNPvonkkEWiiJ4s92GxWCguLl403RoAJQSaCC29WB4U/kULcxFEt9s9IycJpvNq0tLSFG23np6eoCRhvh4SkWB8fJzW1lZcLhdNTU2LopMKTN/fJpOJrq4uysvLZ3mYYilcCBde9q9wjET6JhxJkIsyXC4Xa9euDVllrzaIoojZbKazs5OKigpVvtCEkkGx2+0zcvX89QBDeZH9z3ek/Xsjlb+JJoVIdlhUVVUlLfQsSRIvv/wyX/jCF1izZg0HDx5MyLMyhcQgRfhCwOv1KkQvPT1daeEzODjI6OhoQr4jXsLnv+2bb76pPJz8/0cbavJ4PJhMJsxmMwUFBUkV3Uw01KClF4tOmsfjwWKxYDKZSE9Pp6ysDJ1ONyPcFCofLVIPovwz0WE+/8KGurq6edeliwdDQ0O0trai0+kSlmgfj/RNKKIYiiTAB2kNcpuuuYjiQod5/QWU1Vp4FAySJGGxWGhvb6eyspLNmzfPus5jFVCXhbRDnf9wigaRkEOYDl/KBQxFRUWJOzB+cLvd3H333Tz44IN897vf5YYbbljw6y0cZCI6MDBARUWFsnxgYICNGzcq6wwODs7Yzuv1znD6lJeXMzAwMGMd+W+1kd0U4QuA1+vFbDZjNBpJT09X3pzlN6lE9q6NJ+/PPz9v06ZNOJ1OxbPkcDiYnJwM6kUKl6g+OTnJ8PAw2dnZrFmzhuLi4kXx8F6sWnpyDpDcV3nNmjURdWwIJX0i/wynkRYq1BjqZ6hQoywPYzQak5anlyzY7XZaW1uZmJhg+fLlVFVVLZg3Mlrpm8HBQVpaWkhLS6OxsRG9Xj/rOphLIy/SPMREFiz5fD46Ozsxm81Ke7HFMLfA9PVy9OhRHA5Hwrt8+L8gRpoq46+RGIwo+p9/p9OJy+VStn333XejqmqO9CWho6ODz3/+81itVl5++WU2bdoU8zGZLzQ0NFBeXs5zzz2nELzJyUkOHDjAl770JQB27tzJ+Pg4b731Flu2bAHg+eefRxRFTjrpJGWd22+/HY/Hozx3nn32WVauXKm6F5pUle77Vboy0evq6iIzM5Ply5dTXFw8a7KTvQInn3xy3N/9z3/+k5NOOiniPAp/ohdt1W2oXDSn08nY2BhTU1PKG6O8LszU4Av1gEhELlIs8NfSq6iooLGxcdGQjomJCY4fP47dbp+X1nNzhRoDdRKDhZrk8+zxeJiYmECv11NZWam0clOLFykU/ItJKisrWbZs2YxEazXD4XDQ2trK+Pg4TU1NYatYgyGY9M1c10O4tlzhiGLgHDA6OsqxY8fQ6XSsXr160Qgo+4dBKyoqaGpqisp7t5Dwer20trYyODhIc3MzZWVlIV8SQ/0eTh/zoYceIicnh6KiIgYHB3n88cc5//zzueeee6ipqZm3F+76+npMJtOs5ddccw0PPvgge/bs4eWXX57x2UUXXcSPf/xjamtr2bt3L3fffTdNTU0cPnwYSZLIyMigu7tbSWH68Ic/zMDAAA///+3deXhTZdo/8G8XUlq60nShdKUtLXtRoBQZFhcQUQcXxtER0Aq4AMoidlQYUEQ2HVBc0FHAV2QEfBH8CeKwo1AFUZYuaZt0pWu6t2ma9fn90fecSdqsJWmTcH+uq1eznDQnbXpyn+e5n/vesQMqVUdZljFjxvBlWZqampCUlIRp06YhIyMDWVlZSE9Px9atW6ksi6NRKpUQi8UoLi5Gv379EB8fbzDQ49TW1iI3Nxd/+tOfbvq5T548adGU6c0Eesbo1g/08vJCQkICgoOD9RaTmAsIOt9mKhfFVNBobYCgUqlQXFzM19KLj493ilp6QMdoAVeqhJsCdcQPEUM9W5uamlBZWQmVSgU/Pz+9aWdTo4jmRhLtfZLAdZvIz8+Hl5cXkpOTnSZNQTffLSwsDImJiT0WpN5s6Rvu5EClUsHf3x/9+/c3uardkcjlcmRnZ0Mul2PYsGFO07sXsF25FWP1MRUKBTZu3Ija2lrcuHED1dXV8PT0RFtbG1paWgB0rHYVCoXYs2cPxo8fb8uXp0cqlfKzVwCQlZWFe+65B6dPn8aUKVOQkpKCq1evdnncvHnzsHv3bqjVakRERKCpqQkAMHToUJSUlOC5557D22+/DaDjhGXx4sV6hZfff/99o4WXhUIhlixZgoyMDLu97u665QM+mUyG33//HYMGDdILeIypq6tDdnY2Jk2adNPPferUKdx+++1GVzLqBnrcn8kWgV5lZSVfPzAhIaFbjd8N7au5shedb9MNECwZQfTw8EB1dTVKS0vh7++PhIQEh1kFao5KpUJhYSFu3LiB8PBwxMfHO81opO6qYVP9Y42NIpl6T1haG0/3fWBNgNDa2oq8vDy0trYiMTHRqlqZva2xsRG5ublgjGHIkCEONz3Ume4xoLq6GsXFxfziIwBGg0ega4cdc+8He+Sjcq/BWUf1eqrcCmMMv/zyC9LT05GYmIjdu3cjMjISQEc9Ra6Ycl1dHUaNGtWjwfLSpUvx/fffo6CgAG5ubnzQt23bNoPb//DDD7j//vv5KhQAsGPHDmRkZPDlmFyJc7yT7cjHxwfjxo2zeHtb5/AZ+ln2CPQYY6iqquJbvyUkJNh0JWV3EpaN9Wk1tKK1vb2dP5Nzc3PjSzpYMoJoqzyk7uBGaIqKihAQEOBUPUF18/RCQ0PNtp+zttNC59IXnd8LCoUCra2terdbmovm4eEBqVSKmpoavtuEsxy8uVkHrtxDTEyMw06T63Jzc4NGo0FBQQEaGhqQlJRkNsA21bPXUOmbzqvaLc1DtGQkWS6XIycnB21tbXZd3GAPMpkM169fB2PMrscYtVqNzZs3Y+vWrVizZg1WrFihd/Ll5eWFiIgIRERE2OX5TVEqldizZw+WL1+u93f+6quvsGfPHoSHh+OBBx7A6tWr+XzJzMxMjBgxQq80y/Tp0/H8888jOzvbKXIRrXHLB3zWsmfAZ69Ar6amBhKJBBqNBoMGDbKo9VtPMLeikdt3sVgMLy8vxMfHIygoyGjZE2Pt1wzVxTIXKN7s74erAygWi+Hh4YGRI0c6zQcId3JQUFAALy8vu7WKMlb6whRTuWjce6ClpQVtbW38Y8rLy1FRUWE0Qd1Rphm5Oob5+fkICAhAWlparxc3txTX+i8/Px/BwcFIS0uzKPDvbs9eU9PL3IIF3ds6Hwc6B4ZyuRw1NTXo378/Pw2qVqsdqvSRIbojkpGRkXbt31tcXIz58+ejrq4OZ86cwdixY+3yPN116NAhNDY24qmnnuJve+KJJxATE4OIiAhcu3YNGRkZyMvLw8GDBwF01MkzVIePu8/VUMBnJVsGfMB/gzx7BHq1tbWQSCRQKpWIi4uz+8IAWzJVS8/Ly8uiDwdDJS90L5saQTI0emBq2ln3g6GhoYEv4hsfH291gn1vampqQl5eHtrb2x2ynp6pUcSWlhaIRCKo1WoMHz6cP3CbKp5t6ESBm2bkktUt+fvf7Ehya2srRCIR2traMHToUJukWfQUbhVrW1tbj9QD7E7pG0NFlLkRRC4vtV+/fmhvb8f169ehVCr557JmwUpPLlpSKBTIzs6GTCaz+ephXYwxHDhwAEuXLsXs2bOxdetWh6zJ+vnnn2PGjBl6o4u6iyZGjBiBAQMG4K677oJEIkF8fHxv7GavooDPSrYe4dNqtdBoNDYL9ICOJFOxWIy2tjbExcUhMjLS4ZKijdGtpRcbG4vo6Ohu77u1JS+Ars3cOwcHxmriubu7w9PTE1qtFmq1Gr6+vggJCYFCoeCbwXf+gHCkD3RL8/QckUqlgkQiQXl5OaKjozF69Gi91AJrRxFNLVhSqVRGR5IB08WTDX0HwK8cjoyMREpKilPljJWWlkIikWDgwIEOu++GRpK5DiVcJ4XBgwfrrSw1VkDdUOkTU6VvLA0UrT0WVFdXIzc3F8HBwRg/frzdVsU2Nzfj5ZdfxtGjR/Gvf/0Ljz76qEMdtzglJSU4ceIEP3JnDFdKRSwWIz4+HuHh4bh48aLeNo5aQ88WHO+/08HZIuDjRvTc3NyQn58PHx8ffgTB0IiSpasYGxsbIRaL0dLSgtjYWERFRTnkAdgQmUwGiUQCqVTaq7X0upOH1tbWBolEwk8J9e/fH4wxfgRBtz+vJcGBsdvsMXLAdZooLi5GSEiIQ/RIthT3oS0Wi+Hv74/x48fbZLW27jSjpcwtWNItnsx9130+Hx8fyGSyLnmpjnqi0NzcjJycHGi1WrtN+dtLe3s7cnJy0NraihEjRkAoFHbZpjsF1M2VvjF3omBJHqK7uzuKi4shlUoxdOhQuwYlFy9eRHp6OqKionDlyhVER0fb7blu1q5duxAaGoqZM2ea3O7KlSsAwBdaTktLw/r161FTU8O3UDt+/Dj8/f0xdOhQu+5zb7jlV+lyH8yWamlpwa+//qrXcNma59Itr9LU1ASZTGYwab1zmQNjAYFAIIBarUZ1dTVaW1sRGRmJuLg4p0lQd+ZaehqNhl+Q0b9/fyQmJloUcBgLDowFDLpTjNaUuzF1osDlGBYUFEAgECApKcmpPrSbmpogEomgVCqRlJTkVFOg7e3tEIlEqK+vR0xMDPr3729yRJH7bq54uqlcRFv9bnQLKMfGxiIuLs5p0kR08wwNjer1BnO9ujsvYuKOBabKX5layGQJtVqNrVu3YtOmTXj99deRkZHh0AMHWq0WcXFxePzxx7Fx40b+dolEgr179+K+++5DcHAwrl27hmXLliEyMhJnz54F0PH7T0lJQUREBDZv3oyqqirMmTMH8+fP58uyuBIK+LoR8P3yyy+45557rHqOznl6lvRBNDSt0HkFG9dRw8PDQ6/7hrHcI2NlLnr6oK1SOW8tPS65nltMkpiYaNfSA9aUOzF1osB912q1qKurg1qtRmRkJMLDw+Hl5QVPT0+H//BWKpUoKChAVVWV0009a7ValJWVQSKRIDQ0FImJiRaPJAPmgwND34GueWiW5CIaeh/U19cjJycHAoEAQ4cOdcg8LmN0R/WGDBniNH2HgY73jUQiQWlpKeLj4zFw4ECTC5c632csJ5X7fu7cOTQ1NUEoFEIg6CiqXFdXhy+//NIm9WattXbtWrzxxht6tyUlJUEkEgHo+FuuWLECX3/9NRQKBVJSUnD+/Hnk5eVh8ODBAIDS0lI89dRTOHv2LP95GxcXh4ceegirVq3Sq8NZUlKC559/HmfOnEG/fv0wb948bNy40aGD3O5yvVdkZ9ZM6RoL9Cz9UDU2rSCTyVBYWIj6+noMHDgQcXFx8PLyMlnmQjfvxFCJA2sCxJuZXuRGxYqLi+Hv748xY8Y4TS09oGMxSX5+PtRqdY8taujONHPn/pzcCYJUKoVMJuPzGqurq1FWVmZy9MjcYpWeoNVqcePGDUgkEgQFBTnV1DPQMSKZm5vLjyh05wTBw8MDHh4eVi1WMHbC2LnskaGSJ7ojxXK5HHK5HEKhECEhIZDL5dBoNAYXLTkS3VG9kJAQpKWl9fqonjVaW1v5DhCpqal8kG3Na+ick9r5b15QUIDLly+jtrYW9fX1aGlpgUqlwqRJkxAUFAShUAihUIiHHnoIK1eutNdL1TNs2DCcOHGCv64bfC1btgxHjhzBgQMHEBAQgMWLF2PChAl8sKfRaDBz5kyEh4fj8uXLqKysxNy5czF79myDo3YxMTE4evSo/V+UA7jlR/gA6PUaNEcmk+Hnn3/G9OnTjW7D/Uq5qVtLR/TMkcvlKCwsRFVVFQYMGIC4uLib/tAzFSAaumzpKtbOl93c3FBRUYHCwkIIBAIkJiY6TZkSoGNkt6CgAE1NTYiLi0NUVJTTjCzp5ukJhUIkJiZ2ed+YW8lq6D7AcNslU4Fid7pqNDQ0QCQSQavVIikpyWDOlaNSqVQQi8WoqKhAXFwcYmNjHXoUlXsfcH9nqVSKiooKCAQCBAQE8DMinRctGRtNNvXd3r+H9vZ25Obmorm5mV/57CwYYygrK0NBQQGioqKQkJBgt99Xa2srMjIycOjQIXz44Yd4/PHHoVQq+QLKUqkUtbW1CA8Px+TJk+2yD7rWrl2LQ4cO8fl2upqamhASEoK9e/fi0UcfBQCIRCIMGTIEmZmZGD9+/C1XTNkaNMJnJVMjfNzt3Kpba0f0jGlvb0dRURH/Bk5LS7O40bY51o4a6K5iNRQUtLW1mUxO79u3LwQCASorK1FXV2c0QHSUEYP29nZIJBJUVVUhMjISw4cPd5oDRuc8vdtuu81onl53Ro/MlTrpfJux1nvGAgLGGIqLi1FbW+tUBYiB/9YyzM/Ph5+fn03/Z+2Jex8AQGFhIRoaGjBkyBCjI9nGVrNy302tZjVXONmanNTO+1RZWYm8vDx+IZIzjepx088ymQyjR4+2a7rI77//jvT0dISGhuL3339HXFwcgN4toAwABQUFiIiIQN++fZGWloYNGzYgOjoaly9fhkql0suhT05ORnR0NB/w3WrFlK1BAZ+VdHvN6l4GbB/oKZVKFBUV4caNGxAKhXpD+r3FmulFrpZee3s7oqKiEBgYyH84cAd/bvqgc/6ZobwjU5dt3Y9VrVbzOYZCodBpPrA5TU1NyM/PR1tbm11ailm7ktVc673OgYFCoeBXMHp6eqKiooI/Oze3mrm3R15lMhlEIhFaW1uRlJSEsLAwhzh5sQS38rmgoABCoRATJkww+Tfu7mpWU7lnuu+DzqOIhvKPdf/+XCFimUzGB6rOhCu3IhQKMWLECLsFqhqNBtu3b8f69euxcuVKrFq1ymFy1lJTU7F7924kJSWhsrISb7zxBv70pz8hKysLVVVVEAgEXU5cw8LC+ELJt1oxZWs4xl/YiXQO8oCugd7N1tJTqVQoKSlBaWkpgoKCMHbsWKdp9g50lGwoKCjoVi09cwtVZDIZGhsb9W7XXahiaYBorLyFVqtFRUUFJBIJfHx8TI6KOSLdEcmYmJguNel6i6Wt9+rq6pCXlwcfHx8kJibC19fX6BSzoRw0oGtfVlMjR7Y8WdBtRTdw4MBeKy3UXVxZGLlcbtcCyt0pnGwoJ5ULELmTBZlMBrlczs/CXL9+Hbm5uWZXr95syoEtqFQq5OXl8eVWOgcstlRZWYkFCxagqKgIP/74I+644w6HOiGZMWMGf3nkyJFITU1FTEwM9u/f71R5u46o9z8JnIxuwMfl59kq0FOr1SgtLUVJSQn8/f2dLtiwRS09a0cMDI0c6V6Wy+X8QhVD5S10D/YajQbNzc0AOuo0CYVCeHh4QKFQ9MpKZmvolojhRmac6eAol8uRn5+P+vp6xMfHIzIykv99WzvNbGyq2Z6t9+rq6pCbmwtPT0+nW4ik1WpRUlKCwsJChyygrPv3MTTKrlAo+AUxo0aNQmhoqMkC6p1nFrjvhlIOLHlP3OxxoaGhAVlZWfDx8UFaWprdylIxxnDkyBG88MILmD59Og4ePOgUny+BgYEYPHgwxGIx7rnnHiiVSjQ2Nurte3V1NT+ae6sVU7aG4/xXO5ni4mIIBAJ4eXmZHTUyR6PRoKysDMXFxejXrx9GjRpl17wNW+tcS++OO+7osVp6lo4c6eocIDY1NaGyshIKhQJ+fn7o06cPmpqaIJVKu+QcWTOC2BNTi7p5en369MHo0aMRFBRk9+e1FW5BSVFREcLDwzFhwgSrSpXosrYvqy1a73l6evKPCQoKQnBwMF9kufNqZkcaReE4cwFlLk8yLy+P79/LTT93Z2W7qZQDU+8F3fqYlgSI3CiibrmVxMREREVF2e090tbWhldffRX79+/H+++/j7lz5zrk+9GQ1tZWSCQSzJkzB7fffjv69OmDkydP4pFHHgEA5OXlobS0FGlpaQBuvWLK1qBVurBslS53QNBqtSgoKIBcLjeYiGyqvImhXKOKigoUFRWhb9++iI+PR3BwsNP8IzpzLT2gY1RJLBajpqYG0dHRiI2NNTiy2DnnyJoVrNYGiNb87Zubm5GXl2e3PD17k0qlyMvLg6enJ5KTk50i2NAdOSovL0d5eTn69euHoKAgo6NKxnJSzU052/NvqdFoIJFIUFZW5nQFlIGOY7ZIJOIXldhzCtQYU501jH3nRpQ9PT2h0Wjg5uaGgIAAeHt7m3wv3MzJ47Vr1/D0008jICAAe/bsQUJCgg1/C7b38ssv44EHHkBMTAwqKiqwZs0aXLlyBTk5OQgJCcHzzz+Po0ePYvfu3fD398eSJUsAABcuXABw6xVTtgYFfAA/nG8IF+jptkMzNHVrKCgwdL1zgAh0rIji/uFNBYiOMq3IjUgWFRXB398fCQkJTjWFpVKpUFRUhLKyMoSFhSE+Pt6m059cP11LS93oBgWWLEoAgLKyMr2+t440BWdOW1sb8vLy0NTUhISEBAwcONCpAtXm5mbk5uZCpVIhOTnZZJkYczmphvIT7d16j5t+Fgicr4AyN6ItEonQv39/JCcnW7xwqLdx7wUu9SIkJARCodDkKufO5Y/MnSTU19ejX79+fOeZjz76CG+88QaWLl2KtWvX9nhO6YYNG3Dw4EGIRCJ4e3tjwoQJ2LRpE5KSkvhtpkyZwne+4Pj4+ECtViMkJAQTJ07EokWLsHHjRpw+fRr9+vVDZGQkSkpKoFAoMH36dHz00Ud607W3UjFla1DAB8MBn6WBnjW4KQiJRAKgo+BjQECA0YDA2FSSqYCw8322DBC5BQ3OWkuPK95bWFgIPz8/JCYmOsRiGN2gwFSAyOUkcjmIhlYtmrps71EjczQaDYqKilBSUoKIiAjEx8c7zYc10JFjK5FIcOPGDcTExCAuLs4u0/b2ar3n7u6Oqqoq1NfXY9CgQU5V5gboOE7n5ub26qjezWhvb0d2djba2towfPhwi1IvdE8eLRlBzMjIwNWrV+Hu7o5+/fpBLpdj6NChSEhI4ItmC4VCDB8+vFvtQa1177334q9//SvGjh0LtVqN1157DVlZWcjJyeFng6ZMmYLBgwfjzTff5B/n4+PDH5u5Ebvw8HBs2bKFL6S8YMGCW37EzloU8EE/4OMCPQD88LstAr2amhpIJBJoNBrEx8cjPDzcqoOtpSOI9ggQuf0Xi8UAgPj4eKcrNVFTU4OCggK4u7sjMTERQqHQ6fY/Pz8fffr0weDBg+Hv72/xCKKhUSNLA0RbBAS6++/l5YXk5GSHCLQtxe0/t3p4yJAhDpW6YEnrPZlMBplMxj/GkmLJhi731v9MVVUVRCIRgoKCMGTIEKc6UQA69j83NxchISFITk6220gTYwyHDx/G6tWrMXLkSPztb39De3u7XgHl2tpajBgxAmvXrrXLPpgilUoRGhqKs2fPYtKkSQA6Ar6UlBRs27bN4GOokLLt3Nrjmzp0V91ygd7NdsdgjKG2thYSiQRKpRJxcXEYOHBgtz5ErS1lYC7vTHfForEAsU+fjuK3zc3N0Gg0CAsLQ1hYGLy8vKBUKh1mitmUxsZG5OfnQy6XIz4+HhEREQ6/z7p08/QSEhIQERHBvyc9PT0trg3IjRoZek+YK45raYBoaFqxtbUVeXl5aG1tdco8w7a2NohEIjQ3NyMpKalHWulZy9QChfb2dohEIigUCgwbNoyf9jJU5oS7rLuynbuvt1rvKZVKiEQi1NfXIzk52elWWXLlVmpra+1ebkUul2P16tXYs2cPtm7diqefftrhjnVNTU0A0GVR4ldffYU9e/YgPDwcDzzwAFavXs0f26iQsu3c8gFfRUUF8vLyIBQKERwcDF9fX5sUTa6rq4NEIkFbWxvi4uIQGRnZowVhbzZA5FauyuVy+Pn5QSAQ8LlXpgJEc6OJPXUAamtrQ0FBAerq6hATE4OYmBinyt9QKBQQi8WoqqpCdHT0TdfT8/Dw4PvnWsLcCQO3EtXUtCIXPPj5+SEyMhIAUFtbq/ce6e0iycbolioZMGCAXYvg2gNXgFgsFvPdJnRHQkyVOTHEXOs97v1gaOGSNbmIunXwuCLEQUFBSEtL6/bq7d5SX1+P7Oxs9OvXD+PHj7dr5YLs7Gykp6fDy8sLly5d0suRcxRarRZLly7FHXfcgeHDh/O3P/HEE4iJiUFERASuXbuGjIwM5OXl4eDBgwCokLItOc8noJ389NNPeOmll1BbWwuNRgNvb2++WbRuzoPud93L3AGTO0gdP34c9fX1CA0NRWxsLKKiopwi0OACRI1Gg/Lycr6WnqmVq6aml82NIHYODm0VICqVShQWFqK8vJwvEeNMHxS69fSCg4N7rZ5ed04YuL93VVUVysrKIBAI+EBPJpOhoaFB733CPY+lo4dcGRR7j7DV19dDJBLBzc3N6UqVAB2/65ycHLS3t2PEiBE26T1si9Z7upfNtd7TarXQaDTw9/eHQCDAjRs3jI4kOtoollarhVgsRllZmd3LrWi1WvzrX//C6tWr8cILL+Ctt95y2CnORYsWISsrCz///LPe7QsXLuQvjxgxAgMGDMBdd90FiUSC+Pj4nt5Nl+b4kYidPfbYY/jLX/4CjUaDhoYGSKVS1NTU8F/c9StXrkAqlfJ5EHV1ddBqtejXrx+EQiG8vb2hUChQWVmJRx99FMOGDUN5eXmXAJE7YDratJC1tfSsrXNlLkDUHTGyJEDsfN3DwwPV1dUoLi5GYGCgQ7Shs4ZunqGnpydSUlKcqhaju7s7P/3GJYqbyvPsXCTZ0AlD59sN5Z2Zu2xN3plSqUR+fj5qamoQHx+PqKgohwsmTNFqtSguLkZRUREiIyN7tctKd1vvVVZWQiwWw8fHB+Hh4fz7xJK0A0tXM9tzVLm1tRXXr1+Hm5ub3Y9BUqkUL7zwAq5cuYLDhw/jzjvvdLjPFc7ixYvx/fff49y5c/xJoDGpqakAALFYzOe7UyFl26BFG1bifl1qtRr19fX4+eefsW3bNly6dAkTJ07EbbfdhubmZtTU1KC2tpb/Xl9fD8YY/Pz89EYPg4ODERoaiuDgYD441A0QuQOmvf6RdWvpCYVCJCQkOERCurkAUfeyQqHgc4w8PDzg5eVlNkDs6SlmU1paWpCXlweZTNYlT88ZqFQqSCQSlJeXIzo6GnFxcTYPNDq317JksYqhLhrGgsKGhgaUlpbypT56qnC4rTQ1NSEnJwcAMHToUKcqkwR0BNtcrhuXq2fuf8BU2oGx74B9Wu8xxlBaWgqxWIyYmBgMGjTIbscWxhhOnTqFhQsXIjU1FZ999plNRnHtgTGGJUuW4Ntvv8WZM2eQmJho9jHnz5/HxIkTcfXqVYwcOZJftFFZWckXUv7000+xcuVK1NTUONUMTm+jgO8mLVu2DBqNBq+++ioGDBjQ5X7u16tSqVBXV8ePGlZXV/Ojh7qBIfe9oaEBABAQENAlQNQNCENDQ/WmnLkPWnMHKJVKhfLycqetpQd0TL3l5+dDpVJh0KBBCA4ONjiNZOh6544JpoJDewWICoUCEokElZWVdguU7IkxhvLycojFYvj7+yMpKckhThY4ugtVjOWetbe3o62tjV/FDJgunt6beanGXqNYLMaNGzcQFxeH2NhYhziJsUZNTQ1yc3MREBCAIUOG2O0D3FzrPUO3mWq9x10GOnLBlUolX5fRXn8DhUKBNWvWYOfOnXjnnXewcOFCh/57v/DCC9i7dy8OHz6sl1fIFZuWSCTYu3cv7rvvPgQHB+PatWtYtmwZIiMj+dp8VEjZdijgczDcn0OpVPIBoe40MzetrDu9LJVK+dVPQUFBRoNDbmHKuXPnsGfPHrz77ruYOHEi+vfv79AHjc5aW1tRUFCAxsZGxMbGIjo62uppms4jiOZGE7kkdEsCRHPFcLVaLUpLS1FYWIjg4GAkJiZanDzvKJqamiASiaBUKpGUlMQXenUWarUahYWFKCsrQ3R0NAYNGgQAJoOAzpcNnTRYEijaakqxrq4OOTk56Nu3L4YMGeJUKQxAx+9aJBJZNarXk8y13lMqlWhpaUFLSwvfJcfS90Tn2yzpsiMSifD000/Dzc0Ne/fudeg2YR9++CG2bNmCkpISg/fv2rULTz31FMrKyvDkk08iKysLMpkMUVFReOihh7Bq1Sq90k1USNk2KOBzctyfr7293WSAyNVBKykpgbe3NwYMGID8/Hz079/fZICoO4KoGxj2xoFZd0Rs4MCBGDRoUI8lKBtqm2VtgMglozc3N8Pd3R0RERHo379/t7ol9BalUomCggJUVVXxXT4cdaWtMVxNvZsNlIy9J0xdBv47pWhNgKj7/6aba5iYmIjIyEiHCpQsIZVKkZOTA39/fwwZMsTpptC5YLWurk6vCLSx9nqmppwNtd5rb2/Hrl27EBwcDKFQiIqKCnz55ZeYPXs23nrrLURERDjs/92+ffswd+5c7NixA6mpqdi2bRsOHDiAvLw8fkqW9A4K+G4BarUakydPRlFREf7xj38gPT0darXa4OIUblqZu8yNIspkMri7u/MHIC4g1J1u7rySOTAw8KZrGQIdQ/rFxcUoKSlBcHCww+QZmtL5wN/U1ITy8nIoFAr4+/vzZUs6l7HoPIJobjSxpwJErkuJRCJBUFAQkpKSemX18M2Qy+XIy8tDY2MjEhMTezxX0tzKVUOXdYMBbvpQJpPBy8sLYWFh8PHx6VbOWW/h6tJJpVIkJSU5XV1GQL/cyrBhw25qCtpY672amhrs2LEDtbW1KC0tRXV1NTw9PdHa2oq2tja4ubnxx+I333wTs2fPtuErvDmpqakYO3YsPvjgAwAdx46oqCgsWbIEf//733t5725tFPDdIo4dO4ZJkyZZPXXIvT1kMhlqamr43EPdUUTd3EPuvvb2dnh6euqNGpordRMQEKDX1UStVuPzzz9HYmIifH19MXjwYKcrkaFUKiEWi/k8PXNlbiwZPezpALGhoQEikQharRZJSUkOmyBujO4UelhYGBITEx22dIUu3WBAJpOhsLAQbW1tEAqF8PLyMrtQxZrVzD0RdEmlUuTm5sLPz88pR/W4cis3btyw+8gqYwznzp3D/PnzkZKSgp07d/KjiG1tbXrH2qSkJMTFxdllP6ylVCrh4+ODb775BrNmzeJvnzdvHhobG3H48OHe2zlCAR+xLa73cGtra5cAkVusYihAVCo7OndweYbu7u6ora2FWq3GwoULERYW1iVA9PPzu+m2d/bCBRlFRUXo37+/zfP0jAWIxq53LoxsSXCo1WohkUgglUoRFxfndL1XgY5OK7m5uWCMYciQIRb1L3UkXAHlgoIChIaGYvDgwUaDVa60iTW5qbodNKwJEK15H6hUKn4K2llH9VpaWpCVlQV3d3cMHz7crjMMSqUS69atw44dO7Bx40YsWrTIaf7vKioqMHDgQFy4cAFpaWn87a+88grOnj2LX3/9tRf3jlDGI7EpLgDz9/fnV/+awiVGt7S0oKamBj///DPee+89SCQS3HnnnYiKikJBQQEuXLigt0hFrVbDy8vL6MihoVxE7iBtzw8bxhikUiny8/Ph4eGBUaNG2aWeXnfrIBoLANra2gwGiG5ubvDy8oJUKkVjY6PZxSqOklekO7I6aNAgpwxWW1tbkZOTA4VCgVGjRiE4ONjk9m5ubvD09ISnp6fF0+3cSmZDQaJCoehSD9FUfUxDl7kFVn5+fkhLS3O6UT3GGEpKSiCRSOxebgUACgoKkJ6eDqVSiczMTIwcOdJuz0VuPRTwkV7l5uYGDw8PBAYGIjAwEIsXL8b06dPx2muvGZy+5QLEpqYmVFdXG1yckpWVpbeKWbeLSufFKcYCxdDQUP5D09IAsaWlBfn5+WhpaUFCQgIGDhzoMCMZlgaIdXV1yMvLQ58+ffhcSUOjQ8YCRGtGEO0RIDLGUFlZifz8fAQEBPRap5Kb0bmAckJCgt0CaVu33OPeF1zJG67cTWNjI3777TeLRxAtWbVqb3K5HNnZ2Whvb7d7xxWtVos9e/bglVdewdy5c7Flyxane98CgFAo5Ivg66qurqYiyQ6ApnSJQ9FqtTY9g+amuRoaGgzWQOxc5kYqlaK+vp7vomJJgKjRaPDee++hX79+WLFiBeLi4pyq7yrQ8eGWn5+P+vp6xMfHIzIy0qq/g+6CBEunEwHjAaKxYNFU4NPa2gqRSIS2tjYkJSUhNDS014MGazU2NiInJwdubm5OWUAZ6OiXnJOTA19fXwwZMgQeHh4WLVDpvFDF0pIm9lioUllZCZFIhNDQUCQlJdm1/EdDQwNefPFF/PTTT/j8889x//33O937VldqairGjRuH7du3A+g4pkdHR2Px4sW0aKOXUcBHyP/R7aJSV1dnsM2e7ldNTQ3KysqgUCgQHx8PhUIBDw8Po11UOhfJ5nKxevPgrtFoUFJSguLiYoSFhSEhIaFHKtfbMkDkVi82NDRAKBQiJiYGffv2tWnNO3tTq9WQSCS4ceOG005Bq9Vq5Ofno6qqCoMHD+7WCLfuQhVLVzPr9uC1tNyNsYUqKpUKubm5qK+vx9ChQ+1aRoQxhvPnz2P+/PkYMmQIdu/ebbB4v7PZt28f5s2bh08++QTjxo3Dtm3bsH//fohEIn7hCekdFPAR0g1//PEH/vKXv6Bv377YsmULRo4caTZA5KaYuS4qgYGBJlcxd7eLiqWkUiny8vLg6emJ5ORkh14B3TlA5C43NDSgtrYWbm5u8Pb21ptyBP4bIFpaLLs3AsTa2lrk5uaib9++GDp0qMOXHDKEKwLt4+ODoUOH9th0JDeCb02AyE0zdw4EtVotGhoa0LdvX0RFRaFfv356AaItA3CVSoUNGzZg+/btWLduHZYuXep0Ab4pH3zwAbZs2YKqqiqkpKTg/fff53vkkt5DAR8h3SCVSnHw4EE888wzFk/3GOuiYqzNHhcgWtpFRTdADA4O5oOXzgFiVlYWGhsboVarHS7X0FLt7e3Iy8tDfX09EhMTu7wGYwGiqeuAZQGirbpmcAWUpVIpEhISnLKAsi1G9Xpa5wCxvb0dlZWVaGpq0quRaWyhiqWrmY0FcIWFhXjmmWfQ0tKCPXv24LbbbuvJl29ScXEx1q1bh1OnTqGqqgoRERF48skn8frrr/MzEsXFxQbLwGRmZmL8+PH89QMHDmD16tUoLi5GYmIiNm3ahPvuu6/HXgvpigI+QhxU5y4qXEkbcwFiS0sL3NzcunRRCQwMRHl5Oc6dO4fFixfj7rvv5vMQe7uLiqW0Wi3KysogkUgQEhKCwYMH22QK+mYCRFO9lw0FiIwxVFVVIS8vD4GBgUhOTna61atA743q2ZIl5VbMLVQx1mWHO3nYvHkz5HI5XxLoxIkTSEtLw5IlSxAVFcX/DzrCyO6xY8ewb98+PP7440hISEBWVhYWLFiAOXPm4J133gHw34DvxIkTGDZsGP/Y4OBgPnf5woULmDRpEjZs2ID7778fe/fuxaZNm/D7779j+PDhvfLaCAV8hLgM7l9ZLpfr1UCsrq7G6dOn8d1338HHxwe33XabXpDY1tbGd1GxtEi2rbqoWKOpqQm5ubnQaDRITk42W6bEnkwFiMaCRQB8UM0Yg6+vL3x9fU1ONTtiDqJarUZBQQEqKyudtrWbbrmV2NhYxMXF2WxKtXMJpB9++AGFhYX49ddfUVlZiaCgIL7UEXeSptVqMW7cOIesU7dlyxZ8/PHHKCwsBPDfgO+PP/5ASkqKwcc89thjkMlk+P777/nbxo8fj5SUFOzYsaMndpsYQGVZCHER3Ieuj48P3+cWAPbu3Yvjx4/j/fffx9y5c/WCDgB8kWzdzilcsFhcXIxLly7p1UC0RRcVa6hUKojFYlRUVCAuLg6xsbG9nu/k5ubGB2WW0C21EhQUhLCwML2Ro+bmZqMBoqWjhz0RIHJtxby9vZGWluaUo3pyuRxZWVlQKBR2KbeiWwKJMYb4+HisX78egwYNwn/+8x9ERUXpbc/lDra1tdl0P2ylqanJYC3RBx98EO3t7Rg8eDBeeeUVPPjgg/x9mZmZWL58ud7206dPx6FDh+y9u8QECvgIcXGPPvoo7rvvvi4fbFzw5efnBz8/P8THx5v8OVwNRJlMplcDUbf/slgsRmZmpl6AqNtFxdIi2b6+vmCM4bPPPkNNTQ3uu+8+pKWl2bRbSU/hCigrlUqkpKRYNDJprO+utQGiucUqlgaIrjKqV1lZiby8PISFhWH06NF2LbeiVquxZcsWvPvuu1izZg1efvllg79vbnS9N0esjRGLxdi+fTs/nQsAvr6+ePfdd3HHHXfA3d0d//u//4tZs2bh0KFDfNBXVVXVZUVuWFgYqqqqenT/iT4K+AhxcdaMRJnCFcnmuqgkJiaa3F63i4pugKg7iigSiXDu3Dm9HES1Wo0+ffrwwd348eNRXFzc611UrKXValFUVITi4mJERUUhPj7e4gDL2hFESwNE3fsAywLE9vZ2FBUVoW/fvhg/frxTBt265VaGDRtm13IrAFBSUoL58+dDKpXizJkzGDdunF2fz5y///3v2LRpk8ltcnNzkZyczF8vLy/Hvffei9mzZ2PBggX87UKhUG/0buzYsaioqMCWLVv0RvmI46GAjxBiF527qCQlJZncnjGGtrY2vPHGG9i+fTvuvPNO/PnPf0ZraysfIGZlZenlH9bV1fVIFxVr6RZQHjt2LPz9/e3yPJzuBoidg0PdAFGhUEAmk/GLEBQKBTIzM40Gh46ag1hXV4fs7Gz4+flhwoQJNjn5MYYxhm+++QZLly7Fww8/jGPHjsHPz89uz2epFStW4KmnnjK5zaBBg/jLFRUVmDp1KiZMmIBPP/3U7M9PTU3F8ePH+evh4eE267YhlUoxYsQIvPjii3jttdcAdCwKmTJlCn744QfcddddVv/MWxUFfIQQh+Dm5gatVguRSISffvoJY8aMMbotl3+o0WhQX19vsAZiTU0Nrly5oreiua6uDowxs11UdEvchISE8CuBzQWIcrkcJSUlKC8vd+gCyroBoqHVoQ0NDcjOzka/fv0wbNgweHt7m+zF3Nzc3GXhim7HDEuml20dIGo0GojFYpSXl/dIyZiWlha8/PLLOHLkCD755BPMnj3bYUacufexJcrLyzF16lTcfvvt2LVrl0Xv3ytXrugVjU5LS8PJkyexdOlS/rbjx48jLS2tW/u+c+dOzJo1C9OmTUNSUhLmzJmDxYsXU7BnJVqlC2D9+vU4cuQIrly5AoFAgMbGxi7blJaW4vnnn8fp06fh6+uLefPmYcOGDXo5IGfOnMHy5cuRnZ2NqKgorFq1qstZ1YcffsgXpBw1ahS2b9/e68P9hLi6zl1UzNVA5L7X19cDAPz9/Y0Gh1yAmJubi61bt2L9+vV48MEH4ePj4zAf+JbSDZLi4+MRHR3drddgbATR1MpmawNEUz13W1pacP36dXh6emLYsGF2L3ny22+/IT09HQMHDsT//M//ICYmxq7PZy/l5eWYMmUKYmJi8MUXX+gF4Nzo3BdffAGBQIDRo0cDAA4ePIjVq1fjs88+w9NPPw2gYwRu8uTJ2LhxI2bOnImvv/4ab7/99k2VZVm0aBFOnDiBMWPG4Pr167h06VKPdAVyJRTwAVizZg0CAwNx48YNfP75510CPo1Gg5SUFISHh2PLli2orKzE3LlzsWDBArz99tsAgKKiIgwfPhzPPfcc5s+fz5/dHDlyBNOnTwfQ0XJm7ty52LFjB1JTU7Ft2zYcOHAAeXl5ds8pIYRYjjssqlQqfjrZWA1Eru+qXC5HYmIicnNze72LSndwo3peXl493vGjc0s1S1rtGeu5K5fL0dTUBKFQiIiICHh5eZkNELtLo9Fg69at2LhxI1577TX8/e9/t+tCEHvbvXs3H7R1xv1PfPHFF9i0aRNKSkr4Lj0rV67Eo48+qrf9gQMHsGrVKr7w8ubNm2+q8LJcLsfw4cNRVlaGy5cvY8SIEd3+WbcqCvh07N69G0uXLu0S8P3www+4//77UVFRwa882rFjBzIyMiCVSiEQCJCRkYEjR44gKyuLf9xf//pXNDY24tixYwA68hzGjh2LDz74AEBHUndUVBSWLFlCTaUJcUI//fQTHnroIUyaNAnbt2+HUCjsUiTbUJs9LgexubkZgOEuKp3zD7nrprqodAc3qnfjxg0kJCR0e1SvJxkKEGUyGcrLy6FWq/mcSUsCRHOt9oz9LsrLyzF//nyUl5fjyy+/7NZ0pb3FxsaipKRE77YNGzbofd5cu3YNixYtwqVLlxASEoIlS5bglVde0XuMI3TNyMrKwtixY6FSqfDtt9/igQce6NHndwXOeyrSgzIzMzFixAi9ZebTp0/H888/j+zsbIwePRqZmZm4++679R43ffp0PodBqVTi8uXLePXVV/n73d3dcffddyMzM7NHXgchxLaSkpLw6aef4uGHH+Zvi4yMRGRkpMnH6XZR6Zx3yF2uqqrC9evX9QLE1tZWvouKqRqIupdNdVH5+eefodVq+RW4jtDtwRJubm7o06cPv5q7srISJSUlCA8Px+DBg7vkApobQWxpaTE7grhx40Z4enpCKBRCo9Hg0KFDGDduHD755BOEhYWhpaUFvr6+Dhcsv/nmm3qrbHUXkTQ3N2PatGm4++67sWPHDly/fh3p6ekIDAzEwoULAXRMzz7++ON6XTNmzZrVo10zlEolnnzySTz22GNISkrC/Pnzcf36dZoZsxIFfBYwVlOIu8/UNs3NzZDL5WhoaIBGozG4jUgksnqfzpw5g6lTpxq87+LFixg7diz1PCTEzkJDQ/WCPUtxQYG3tzdiYmLM5nxxAWJbW5vBxSm1tbW4ceMG/vjjD70Asa2tDR4eHl0CxMDAQBQVFeHChQtYs2YNRo8ejbKyMoSEhCAoKKjbRbJ7mlKpRG5uLhobGzF8+HCjCxN0A0RLgtrOAaJKpcLkyZNRXl6OrKwsvgh4fX09nnzySb6cUN++fZGamoozZ87Y+JV2n5+fn9HVsV999RWUSiV27twJgUCAYcOG4cqVK/jnP//JB3zvvfce7r33XqxcuRIAsG7dOhw/fhwffPBBj3XNeP3119HU1IT3338fvr6+OHr0KNLT0/U6eRDzXDbg607dIWcyYcIEVFZW6t22evVqnDx5ssvqRkM9DzmOcPZGCDGNC7769euHuLg4gydyujp3UeFyD6VSKX777Tfs378fffr0wZQpU3DgwAF89NFHkEqlUCgUFnVR0c1F9Pf375UAsba2FtnZ2QgICEBaWppNy60YChCnTJmC9PR0CIVC/Oc//9ErY8IYQ2NjI6RSKeRyuc32wxY2btyIdevWITo6Gk888QSWLVvG5xlmZmZi0qRJer+76dOnY9OmTWhoaEBQUFCvd804c+YMtm3bhtOnT/NT9V9++SVGjRqFjz/+GM8//3yP7IcrcNmAz9q6Q6aEh4fj4sWLerdxNYa4MydjdYf8/f3h7e0NDw8PeHh42Kw2kUAg0HucSqXC4cOHsWTJki4H3uDgYKPP4Qhnb4QQ2zLWReXatWt48cUXsXbtWixfvpz/4OeKZHcOEHWLZIvFYly4cEGvSDbXRaVziRtj37kuKjcTIGo0GhQUFKCiogJJSUmIiIiwa7Cp0WjwwQcf4K233sLLL7+MVatWoU+fPnrbuLm5ISgoCEFBQXbbj+548cUXcdttt6F///64cOECXn31VVRWVuKf//wngI6Zqc4nD7qzV0FBQb3eNWPKlCl8LUhObGwsmpqaeuT5XYnLBnzW1B0yJy0tDevXr0dNTQ2fM3D8+HH4+/tj6NCh/DZHjx7Ve5xu3SGBQIDbb78dJ0+exKxZswB0LNo4efIkFi9efNP7+N1336Gurs7gCqve7nnoSonDhDizESNGQCQSITo6Wu92rkh2QEAAAgICLO6i0tzczAeIuotTampqkJubi3PnzvHBITft6eXlZbQGorkuKj///DN+/vln3HnnnT3S9aOyshILFy6ERCLBsWPHMHHixF6f6rZm9kr32D5y5EgIBAI8++yz2LBhA5U0uQW5bMBnjdLSUtTX16O0tBQajQZXrlwBACQkJMDX1xfTpk3D0KFDMWfOHGzevBlVVVVYtWoVFi1axP/TPPfcc/jggw/wyiuvID09HadOncL+/ftx5MgR/nmWL1+OefPmYcyYMRg3bhy2bdsGmUxmdBm8NT7//HNMnz5dL1nckXoeukLiMCHOzs3NrUuw192f4+HhwY9qWdJFRavVoqGhoUsOIhcgcgtUdANErVYLb29vCIVCuLm5oaqqClOnTkVzczPOnz+P4ODgLkWybdFFhTGGI0eO4IUXXsA999yDb775xmFG725m9io1NRVqtRrFxcVISkoyOjMFmJ+96s7MFOlljLB58+YxAF2+Tp8+zW9TXFzMZsyYwby9vZlQKGQrVqxgKpVK7+ecPn2apaSkMIFAwAYNGsR27drV5bm2b9/OoqOjmUAgYOPGjWO//PKL3v0ZGRkG90X3Kzc3V+8xZWVlzN3dnX3zzTdmX+ucOXPYxIkT+et9+vRhe/fu1dvmww8/ZKGhoWZ/lqViYmLY1q1bjd7/0UcfsaCgIKZQKPjbMjIyWFJSEn/9L3/5C5s5c6be41JTU9mzzz5rs/0khPQ+rVbLtFotU6lUrLq6mv3www9s+PDhbMCAAWzlypVs1apV7Nlnn2UPP/wwmzRpEktOTmZCoZC5ubkxAMzX15fFxsayMWPGsHvvvZfNmTOHLV26lL399tvsk08+Yd9++y376aefmEgkYnV1day1tZW1trYymUzGZDIZk0qlbMGCBczf35/t2rWLabXa3v6V2MyePXuYu7s7q6+vZ4z999irVCr5bV599dUux977779f7+ekpaXRsdcJUR0+B8P1BzVl0KBBekm269atw/bt21FeXt4lt6SzDz/8EG+99Ra/4CM6OhrLly/Xa4GzZs0aHDp0CFevXu3+C9ERGxuL9vZ2qFQqg4nDc+fORXNzs9408unTp3HnnXeivr4eQUFBPbKfhBDH88ILLwAAtmzZYnCFLdPposLlFxoaRez81dDQAEC/i4q3tzeuX7+OhIQE7Nmzx+zUtiPLzMzEr7/+iqlTp8LPzw+ZmZlYtmwZZsyYgS+++AIA0NTUhKSkJEybNg0ZGRnIyspCeno6tm7dqje7YuuuGaSX9HLASW6SVqtlcXFxbMWKFRZtP3/+fDZ69Gj+ek+cvb377rvs9OnT7OrVq+zjjz9mgYGBbNmyZfz999xzD1u4cKHeY7KzsxkAlpOTwxjrmZHIoqIilp6ezmJjY1nfvn3ZoEGD2D/+8Q+9kceioiKDo66ZmZl6P2v//v0sKSmJeXl5seHDh7MjR47YbD8JuZVoNBqb/jxuBFGhULAbN26w33//nf3444/syy+/ZOvWrWMzZszQ+593VpcvX2apqaksICCA9e3blw0ZMoS9/fbbrL29XW+7q1evsokTJzIvLy82cOBAtnHjxi4/a//+/Wzw4MFMIBCwYcOG0fHMSVHA5+ROnDhhcJqXMcZ2797N9u7dy3Jzc1lubi5bv349c3d3Zzt37uS3OX/+PPP09GTvvPMOy83NZWvWrGF9+vRh169fN/m83Zl65nz++efM09OTP/A4SsD3ww8/sKeeeor9+OOPTCKRsMOHD7PQ0FC9YJoL+E6cOMEqKyv5L90pkfPnzzMPDw+2efNmlpOTw1atWmXR75QQQjo7ffq00WPsxYsXGWN0IkosQwGfk3v88cfZhAkTDN63e/duNmTIEObj48P8/f3ZuHHj2IEDB7ps152zt5qaGj6QNPZl7Cw5KyuLAWAikYgx1pFX+Oc//1lvm1OnTjEAfK5JVFRUlzzAf/zjH2zkyJFm9/VmbN68mcXFxfHXuQPrH3/8YfQxlG9ICLEVhUKhd3JZWVnJ5s+fz+Li4vj8QjoRJZaggI/0OGdKHH799dfZ7bffzl/nDqxRUVEsJCSE3XHHHezw4cN6j+mt4JQQ4vqUSiULCQlhb775Jn8bnYgSS7jbO0eQ3NoyMzOxbds2XL16FYWFhfjqq6+wbNkyPPnkk3yZgyeeeAICgQDPPPMMsrOzsW/fPrz33nt6NaReeuklHDt2DO+++y5EIhHWrl2L3377zSY1DI0Ri8XYvn07nn32Wf42rtTNgQMHcOTIEUycOBGzZs3Cd999x2/Tm4VKP/zwQ8TGxvItnjoXDCeEODdzNVdDQ0MxceJEvWMSAKP93qmX+y2ktyNO4tocIXG4O/mGN27cYPHx8eyZZ54x+/N7o9SNIV9//TUTCARs586dLDs7my1YsIAFBgay6upquz4vIaTnzJgxg82YMUPvNqlUyt599132yy+/sIsXL7KMjAzm5uamN/vQW8cl4jio8DKxq9tuuw2//PKL2e1GjhyJn376yeQ2s2fPxuzZs63eB2sLlVZUVGDq1KmYMGECPv30U7M/PzU1FcePH+ev91ah0n/+859YsGABf+a/Y8cOHDlyBDt37tTrakII6X3d6fd+48YN/Pjjj9i/f7/edkKhUG9GZOzYsaioqMCWLVv0OiuRWxsFfMTlWdNmr7y8HFOnTsXtt9+OXbt2wd3dfNbDlStXMGDAAP56WloaTp48qVczULfNnj0olUpcvnwZr776Kn+bu7s77r77bpqyIcQBdadjxq5duxAcHGxREOcoJ6LEcVAOHyH/p7y8HFOmTEF0dDTeeecdSKVSVFVV6eXeffHFF/j3v/8NkUgEkUiEt99+Gzt37sSSJUv4bXoj37C2thYajaZXm5wDHT2Sx44dCz8/P4SGhmLWrFnIy8vT22bKlClwc3PT+3ruuef0tiktLcXMmTPh4+OD0NBQrFy5Emq1usdeByH2FhISguTkZJNfugX2GWPYtWsX5s6da7bAPmD8RFSXvU9EiWOhET5C/s/x48chFoshFov1ehID/63mD3R0NikpKYGnpyeSk5Oxb98+PProo/z9EyZMwN69e7Fq1Sq89tprSExMxKFDh26JqvRnz57FokWLMHbsWKjVarz22muYNm0acnJy9LokLFiwAG+++SZ/3cfHh7+s0Wgwc+ZMhIeH48KFC6isrOQ/5N5+++0efT2EOIpTp06hqKgI8+fP73LfF198AYFAgNGjRwMADh48iJ07d+Kzzz7jt3nppZcwefJkvPvuu3zHjN9++82itBXiIno7iZAQcvMUCgXz8PBg3377rd7tc+fOZQ8++GDv7BTrqNcIgJ09e5a/bfLkyeyll14y+pijR48yd3d3VlVVxd/28ccfM39/f5fogEBId/RWzVXiOmhKlxAXIBAIcPvtt+tN2Wi1Wpw8ebJXp2yampoAAP3799e7/auvvoJQKMTw4cPx6quvoq2tjb8vMzMTI0aM0Juenj59Opqbm5GdnW3T/Vu7dm2X6WXdJPn29nYsWrQIwcHB8PX1xSOPPNIlD4qmn4kx69evx4QJE+Dj44PAwECD21jy/jlz5gxEIhF+++03JCQkYPfu3Xr3z5s3D4sWLUJISAgUCgWAjj7pnc2ePRt5eXlQKBTIysrCfffdZ5PXSZwDTekS4iKWL1+OefPmYcyYMRg3bhy2bdsGmUxmsF5XT9BqtVi6dCnuuOMOvensJ554AjExMYiIiMC1a9eQkZGBvLw8HDx4EIDxOobcfbY2bNgwnDhxgr/u6fnfw+KyZctw5MgRHDhwAAEBAVi8eDEefvhhnD9/HgBNPxPTlEolZs+ejbS0NHz++edd7rfk/VNUVISZM2fiueeew1dffYWTJ09i/vz5GDBgAKZPnw4A2LdvH5YvX44dO3YgNTUV27Ztw/Tp05GXl4fQ0NAefc3EgfX2ECMhxHa2b9/OoqOjmUAgYOPGjWO//PJLr+3Lc889x2JiYlhZWZnJ7U6ePMkAMLFYzBhjbMGCBWzatGl628hkMgaAHT161Kb7uGbNGjZq1CiD9zU2NrI+ffroTY3l5ubq9Sil6WdiiV27drGAgIAut1vy/nnllVfYsGHD9B732GOPsenTp/PXx40bxxYtWsRf12g0LCIigm3YsMHGr4Q4M5rSJcSFLF68GCUlJVAoFPj111+Rmpraa/vx/fff4/Tp010WwHTG7aNYLAZgvHwEd5+tFRQUICIiAoMGDcLf/vY3lJaWAgAuX74MlUql150gOTkZ0dHRfKmbnpx+Jq7HkvePuQ4ZXEkm3W2oJBMxhAI+QojNMMawePFifPvttzh16hTi4uLMPubKlSsAwJeQSEtLw/Xr11FTU8Nvc/z4cfj7+2Po0KE23d/U1FTs3r0bx44dw8cff4yioiL86U9/QktLC6qqqiAQCLrkXumWuunp6WcAiI2N7ZJ36ObmhkWLFgGgsjfOxJL3j7FtmpubIZfLHaYkE3F8lMNHCLGZRYsWYe/evTh8+DD8/Pz4D5yAgAB4e3tDIpFg7969uO+++xAcHIxr165h2bJlmDRpEkaOHAkAmDZtGoYOHYo5c+Zg8+bNqKqqwqpVq7Bo0SJ4eXnZdH9nzJjBXx45ciRSU1MRExOD/fv3w9vb26bPZSuXLl2CRqPhr2dlZeGee+7R60JDZW/spzsdMghxBBTwEUJs5uOPPwbQMcqka9euXXjqqacgEAhw4sQJfkFJVFQUHnnkEaxatYrf1sPDA99//z2ef/55pKWloV+/fpg3b55eAGMvgYGBGDx4MMRiMe655x4olUo0NjbqjfLpdicIDw/HxYsX9X6GPaefAXTpGrNx40bEx8dj8uTJ/G0+Pj5Gn/8///kPcnJycOLECYSFhSElJQXr1q1DRkYG1q5dq1fsl3TVnQ4Zxljy/jGW4uDv7w9vb294eHjAw8ODumgQ83o7iZAQQhxFS0sLCwoKYu+99x6/aOObb77h7xeJRAYXbVRXV/PbfPLJJ8zf35+1t7fbfX8VCgULDg5m69ev52+bPHkyEwqFLDg4mA0bNoz9/e9/ZzKZjL9/9erVXRaqFBYWMgDs999/t/s+34rMLdow9f555ZVX2PDhw/Ue9/jjj3dZtLF48WL+ukajYQMHDqRFG0QPBXyEkFvWihUr2JkzZ1hRURE7f/48u/vuu5lQKGQ1NTWMsY6VxtHR0ezUqVPst99+Y2lpaSwtLY1/vFqtZsOHD2fTpk1jV65cYceOHWMhISHs1Vdf7ZH937dvH/Pw8GDl5eX8bZ988gk7duwYu3btGtuzZw8bOHAge+ihh/j77b0K+uzZs+z+++9nAwYMYAC6FAPXarVs9erVLDw8nPXt25fdddddLD8/X2+buro69sQTTzA/Pz8WEBDA0tPTWUtLi942V69eZRMnTmReXl4sMjKSbdq06ab33dZKSkrYH3/8wd544w3m6+vL/vjjD/bHH3/wr8WS909hYSHz8fFhK1euZLm5uezDDz9kHh4e7NixY/w2X3/9NfPy8mK7d+9mOTk5bOHChSwwMFBv9S8hFPARQm5Zjz32GBswYAATCARs4MCB7LHHHuPLwzDGmFwuZy+88AILCgpiPj4+7KGHHmKVlZV6P6O4uJjNmDGDeXt7M6FQyFasWMFUKlWP7P+0adPY/fffb3Kbni57c/ToUfb666+zgwcPGgz4Nm7cyAICAtihQ4fY1atX2YMPPsji4uKYXC7nt7n33nvZqFGj2C+//MJ++uknlpCQwB5//HH+/qamJhYWFsb+9re/saysLPbvf/+beXt7s08++eSm99+W5s2bxwB0+Tp9+jS/jSXvn9OnT7OUlBQmEAjYoEGD2K5du7o8lyOVZCKOiQI+QghxQsXFxczd3Z0dOnTI5Hatra0MAD8i1JNTup0DPq1Wy8LDw9mWLVv42xobG5mXlxf797//zRhjLCcnhwFgly5d4rf54YcfmJubGz+S+dFHH7GgoCC9WocZGRksKSnJpvtPiCuhsiyEOJHi4mKDJTk6L5Igrm/Xrl0IDQ3FzJkzTW7Xm2VvOisqKkJVVZVezbiAgACkpqbq1TYMDAzEmDFj+G3uvvtuuLu749dff+W3mTRpkt4CE66zRENDg11fAyHOilbpEuJEoqKiUFlZyV/nPjwnTZrUi3tFeppWq8WuXbswb948vVZwjlb2pjOuTI+pmnFVVVVd2oF5enqif//+ett0rvGoW78uKCjILvtPiDOjgI8QJ+Lh4cGXWmhvb8esWbOQlpaGtWvX9u6OkR514sQJlJaWIj09Xe92Ry97QwjpPRTwEeKk0tPT0dLSguPHj8PdnbIzbiXTpk0DY6zL7VFRUTh79qzZx8fExODo0aP22DWTuJOV6upqfoqZu56SksJvozvdDABqtRr19fVma9PpPgchRB99ShDihN566y38+OOP+O677+Dn59fbu0OIReLi4hAeHo6TJ0/ytzU3N+PXX39FWloagI4cw8bGRly+fJnf5tSpU9BqtXzf5bS0NJw7dw4qlYrf5vjx40hKSqLpXEKMoICPECfzv//7v3jzzTexf/9+xMfH9/buEKKntbUVV65c4ReLFBUV4cqVKygtLYWbmxuWLl2Kt956C9999x2uX7+OuXPnIiIiArNmzQIADBkyBPfeey8WLFiAixcv4vz581i8eDH++te/IiIiAgDwxBNPQCAQ4JlnnkF2djb27duH9957D8uXL++lV02I43NjhuYFCCEOKSsrC6mpqVi+fDkWLVrE3y4QCNC/f/9e3DNCOpw5cwZTp07tcvu8efOwe/duMMawZs0afPrpp2hsbMTEiRPx0UcfYfDgwfy29fX1WLx4Mf7f//t/cHd3xyOPPIL3338fvr6+/DbXrl3DokWLcOnSJQiFQixZsgQZGRk98hoJcUYU8BHiRHbv3o2nn366y+2TJ0/GmTNnen6HCCGEOAUK+AghhBBCXBzl8BFCCCGEuDgK+AghhBBCXBwFfIQQQgghLo4CPkIIIYQQF0cBHyGEEEKIi6OAjxBCCCHExVHARwghhBDi4ijgI4QQQghxcRTwEUIIIYS4OAr4CCGEEEJcHAV8hBBCCCEujgI+QgghhBAXRwEfIYQQQoiLo4CPEEIIIcTFUcBHCCGEEOLiKOAjhBBCCHFxFPARQgghhLg4CvgIIYQQQlwcBXyEEEIIIS6OAj5CCCGEEBdHAR8hhBBCiIujgI8QQgghxMVRwEcIIYQQ4uIo4COEEEIIcXEU8BFCCCGEuDgK+AghhBBCXBwFfIQQQgghLo4CPkIIIYQQF0cBHyGEEEKIi6OAjxBCCCHExVHARwghhBDi4ijgI4QQQghxcRTwEUIIIYS4OAr4CCGEEEJcHAV8hBBCCCEujgI+QgghhBAXRwEfIYQQQoiLo4CPEEIIIcTFUcBHCCGEEOLiKOAjhBBCCHFxFPARQgghhLg4CvgIIYQQQlwcBXyEEEIIIS6OAj5CCCGEEBdHAR8hhBBCiIujgI8QQgghxMVRwEcIIYQQ4uIo4COEEEIIcXEU8BFCCCGEuDgK+AghhBBCXBwFfIQQQgghLo4CPkIIIYQQF0cBHyGEEEKIi6OAjxBCCCHExVHARwghhBDi4ijgI4QQQghxcRTwEUIIIYS4OAr4CCGEEEJcHAV8hBBCCCEujgI+QgghhBAXRwEfIYQQQoiLo4CPEEIIIcTFUcBHCCGEEOLiKOAjhBBCCHFxFPARQgghhLg4CvgIIYQQQlwcBXyEEEIIIS6OAj5CCCGEEBdHAR8hhBBCiIujgI8QQgghxMVRwEcIIYQQ4uIo4COEEEIIcXEU8BFCCCGEuDgK+AghhBBCXBwFfIQQQgghLo4CPkIIIYQQF0cBHyGEEEKIi6OAjxBCCCHExVHARwghhBDi4ijgI4QQQghxcRTwEUIIIYS4OAr4CCGEEEJcHAV8hBBCCCEujgI+QgghhBAXRwEfIYQQQoiLo4CPEEIIIcTFUcBHCCGEEOLiKOAjhBBCCHFxFPARQgghhLg4CvgIIYQQQlwcBXyEEEIIIS7u/wOEYj0nbgvQEQAAAABJRU5ErkJggg==\n"
                },
                "metadata": {}
              }
            ]
          }
        },
        "5251aa490ecd4a7f83d5515879b4903e": {
          "model_module": "@jupyter-widgets/controls",
          "model_name": "FloatSliderModel",
          "model_module_version": "1.5.0",
          "state": {
            "_dom_classes": [],
            "_model_module": "@jupyter-widgets/controls",
            "_model_module_version": "1.5.0",
            "_model_name": "FloatSliderModel",
            "_view_count": null,
            "_view_module": "@jupyter-widgets/controls",
            "_view_module_version": "1.5.0",
            "_view_name": "FloatSliderView",
            "continuous_update": false,
            "description": "azim (deg)",
            "description_tooltip": null,
            "disabled": false,
            "layout": "IPY_MODEL_04c5f695d85e4d98b550470cc88f3099",
            "max": 180,
            "min": -180,
            "orientation": "horizontal",
            "readout": true,
            "readout_format": ".0f",
            "step": 1,
            "style": "IPY_MODEL_bdaa1a2a795a43178836fd29e8bbe394",
            "value": 70
          }
        },
        "f8509946109d4bbda09bc24708801a70": {
          "model_module": "@jupyter-widgets/base",
          "model_name": "LayoutModel",
          "model_module_version": "1.2.0",
          "state": {
            "_model_module": "@jupyter-widgets/base",
            "_model_module_version": "1.2.0",
            "_model_name": "LayoutModel",
            "_view_count": null,
            "_view_module": "@jupyter-widgets/base",
            "_view_module_version": "1.2.0",
            "_view_name": "LayoutView",
            "align_content": null,
            "align_items": null,
            "align_self": null,
            "border": null,
            "bottom": null,
            "display": null,
            "flex": null,
            "flex_flow": null,
            "grid_area": null,
            "grid_auto_columns": null,
            "grid_auto_flow": null,
            "grid_auto_rows": null,
            "grid_column": null,
            "grid_gap": null,
            "grid_row": null,
            "grid_template_areas": null,
            "grid_template_columns": null,
            "grid_template_rows": null,
            "height": null,
            "justify_content": null,
            "justify_items": null,
            "left": null,
            "margin": null,
            "max_height": null,
            "max_width": null,
            "min_height": null,
            "min_width": null,
            "object_fit": null,
            "object_position": null,
            "order": null,
            "overflow": null,
            "overflow_x": null,
            "overflow_y": null,
            "padding": null,
            "right": null,
            "top": null,
            "visibility": null,
            "width": null
          }
        },
        "d78d7777168942358f004cbf0dff585c": {
          "model_module": "@jupyter-widgets/base",
          "model_name": "LayoutModel",
          "model_module_version": "1.2.0",
          "state": {
            "_model_module": "@jupyter-widgets/base",
            "_model_module_version": "1.2.0",
            "_model_name": "LayoutModel",
            "_view_count": null,
            "_view_module": "@jupyter-widgets/base",
            "_view_module_version": "1.2.0",
            "_view_name": "LayoutView",
            "align_content": null,
            "align_items": null,
            "align_self": null,
            "border": null,
            "bottom": null,
            "display": null,
            "flex": null,
            "flex_flow": null,
            "grid_area": null,
            "grid_auto_columns": null,
            "grid_auto_flow": null,
            "grid_auto_rows": null,
            "grid_column": null,
            "grid_gap": null,
            "grid_row": null,
            "grid_template_areas": null,
            "grid_template_columns": null,
            "grid_template_rows": null,
            "height": "350px",
            "justify_content": null,
            "justify_items": null,
            "left": null,
            "margin": null,
            "max_height": null,
            "max_width": null,
            "min_height": null,
            "min_width": null,
            "object_fit": null,
            "object_position": null,
            "order": null,
            "overflow": null,
            "overflow_x": null,
            "overflow_y": null,
            "padding": null,
            "right": null,
            "top": null,
            "visibility": null,
            "width": null
          }
        },
        "ea99d3d7cc9a4c37999a43e24a05f012": {
          "model_module": "@jupyter-widgets/controls",
          "model_name": "SliderStyleModel",
          "model_module_version": "1.5.0",
          "state": {
            "_model_module": "@jupyter-widgets/controls",
            "_model_module_version": "1.5.0",
            "_model_name": "SliderStyleModel",
            "_view_count": null,
            "_view_module": "@jupyter-widgets/base",
            "_view_module_version": "1.2.0",
            "_view_name": "StyleView",
            "description_width": "",
            "handle_color": null
          }
        },
        "aa17a161cade4ff7a48e9f7f36d5d1dc": {
          "model_module": "@jupyter-widgets/base",
          "model_name": "LayoutModel",
          "model_module_version": "1.2.0",
          "state": {
            "_model_module": "@jupyter-widgets/base",
            "_model_module_version": "1.2.0",
            "_model_name": "LayoutModel",
            "_view_count": null,
            "_view_module": "@jupyter-widgets/base",
            "_view_module_version": "1.2.0",
            "_view_name": "LayoutView",
            "align_content": null,
            "align_items": null,
            "align_self": null,
            "border": null,
            "bottom": null,
            "display": null,
            "flex": null,
            "flex_flow": null,
            "grid_area": null,
            "grid_auto_columns": null,
            "grid_auto_flow": null,
            "grid_auto_rows": null,
            "grid_column": null,
            "grid_gap": null,
            "grid_row": null,
            "grid_template_areas": null,
            "grid_template_columns": null,
            "grid_template_rows": null,
            "height": null,
            "justify_content": null,
            "justify_items": null,
            "left": null,
            "margin": null,
            "max_height": null,
            "max_width": null,
            "min_height": null,
            "min_width": null,
            "object_fit": null,
            "object_position": null,
            "order": null,
            "overflow": null,
            "overflow_x": null,
            "overflow_y": null,
            "padding": null,
            "right": null,
            "top": null,
            "visibility": null,
            "width": null
          }
        },
        "05b16c78996f4ed1bd2c351759e42cd7": {
          "model_module": "@jupyter-widgets/controls",
          "model_name": "SliderStyleModel",
          "model_module_version": "1.5.0",
          "state": {
            "_model_module": "@jupyter-widgets/controls",
            "_model_module_version": "1.5.0",
            "_model_name": "SliderStyleModel",
            "_view_count": null,
            "_view_module": "@jupyter-widgets/base",
            "_view_module_version": "1.2.0",
            "_view_name": "StyleView",
            "description_width": "",
            "handle_color": null
          }
        },
        "b51054b2625d4827980d7d368a9dbffb": {
          "model_module": "@jupyter-widgets/base",
          "model_name": "LayoutModel",
          "model_module_version": "1.2.0",
          "state": {
            "_model_module": "@jupyter-widgets/base",
            "_model_module_version": "1.2.0",
            "_model_name": "LayoutModel",
            "_view_count": null,
            "_view_module": "@jupyter-widgets/base",
            "_view_module_version": "1.2.0",
            "_view_name": "LayoutView",
            "align_content": null,
            "align_items": null,
            "align_self": null,
            "border": null,
            "bottom": null,
            "display": null,
            "flex": null,
            "flex_flow": null,
            "grid_area": null,
            "grid_auto_columns": null,
            "grid_auto_flow": null,
            "grid_auto_rows": null,
            "grid_column": null,
            "grid_gap": null,
            "grid_row": null,
            "grid_template_areas": null,
            "grid_template_columns": null,
            "grid_template_rows": null,
            "height": null,
            "justify_content": null,
            "justify_items": null,
            "left": null,
            "margin": null,
            "max_height": null,
            "max_width": null,
            "min_height": null,
            "min_width": null,
            "object_fit": null,
            "object_position": null,
            "order": null,
            "overflow": null,
            "overflow_x": null,
            "overflow_y": null,
            "padding": null,
            "right": null,
            "top": null,
            "visibility": null,
            "width": null
          }
        },
        "509405fa349b41a7afe6832768fd6f6f": {
          "model_module": "@jupyter-widgets/controls",
          "model_name": "SliderStyleModel",
          "model_module_version": "1.5.0",
          "state": {
            "_model_module": "@jupyter-widgets/controls",
            "_model_module_version": "1.5.0",
            "_model_name": "SliderStyleModel",
            "_view_count": null,
            "_view_module": "@jupyter-widgets/base",
            "_view_module_version": "1.2.0",
            "_view_name": "StyleView",
            "description_width": "",
            "handle_color": null
          }
        },
        "ca6754423825454e827f69a4dd1598ec": {
          "model_module": "@jupyter-widgets/base",
          "model_name": "LayoutModel",
          "model_module_version": "1.2.0",
          "state": {
            "_model_module": "@jupyter-widgets/base",
            "_model_module_version": "1.2.0",
            "_model_name": "LayoutModel",
            "_view_count": null,
            "_view_module": "@jupyter-widgets/base",
            "_view_module_version": "1.2.0",
            "_view_name": "LayoutView",
            "align_content": null,
            "align_items": null,
            "align_self": null,
            "border": null,
            "bottom": null,
            "display": null,
            "flex": null,
            "flex_flow": null,
            "grid_area": null,
            "grid_auto_columns": null,
            "grid_auto_flow": null,
            "grid_auto_rows": null,
            "grid_column": null,
            "grid_gap": null,
            "grid_row": null,
            "grid_template_areas": null,
            "grid_template_columns": null,
            "grid_template_rows": null,
            "height": null,
            "justify_content": null,
            "justify_items": null,
            "left": null,
            "margin": null,
            "max_height": null,
            "max_width": null,
            "min_height": null,
            "min_width": null,
            "object_fit": null,
            "object_position": null,
            "order": null,
            "overflow": null,
            "overflow_x": null,
            "overflow_y": null,
            "padding": null,
            "right": null,
            "top": null,
            "visibility": null,
            "width": null
          }
        },
        "c180c56d161e4ec097cdd1d40833026f": {
          "model_module": "@jupyter-widgets/controls",
          "model_name": "SliderStyleModel",
          "model_module_version": "1.5.0",
          "state": {
            "_model_module": "@jupyter-widgets/controls",
            "_model_module_version": "1.5.0",
            "_model_name": "SliderStyleModel",
            "_view_count": null,
            "_view_module": "@jupyter-widgets/base",
            "_view_module_version": "1.2.0",
            "_view_name": "StyleView",
            "description_width": "",
            "handle_color": null
          }
        },
        "885977938671411f8ea437a2c42b0466": {
          "model_module": "@jupyter-widgets/base",
          "model_name": "LayoutModel",
          "model_module_version": "1.2.0",
          "state": {
            "_model_module": "@jupyter-widgets/base",
            "_model_module_version": "1.2.0",
            "_model_name": "LayoutModel",
            "_view_count": null,
            "_view_module": "@jupyter-widgets/base",
            "_view_module_version": "1.2.0",
            "_view_name": "LayoutView",
            "align_content": null,
            "align_items": null,
            "align_self": null,
            "border": null,
            "bottom": null,
            "display": null,
            "flex": null,
            "flex_flow": null,
            "grid_area": null,
            "grid_auto_columns": null,
            "grid_auto_flow": null,
            "grid_auto_rows": null,
            "grid_column": null,
            "grid_gap": null,
            "grid_row": null,
            "grid_template_areas": null,
            "grid_template_columns": null,
            "grid_template_rows": null,
            "height": null,
            "justify_content": null,
            "justify_items": null,
            "left": null,
            "margin": null,
            "max_height": null,
            "max_width": null,
            "min_height": null,
            "min_width": null,
            "object_fit": null,
            "object_position": null,
            "order": null,
            "overflow": null,
            "overflow_x": null,
            "overflow_y": null,
            "padding": null,
            "right": null,
            "top": null,
            "visibility": null,
            "width": null
          }
        },
        "b3790e03afcb44169d0365a2e77654ca": {
          "model_module": "@jupyter-widgets/controls",
          "model_name": "SliderStyleModel",
          "model_module_version": "1.5.0",
          "state": {
            "_model_module": "@jupyter-widgets/controls",
            "_model_module_version": "1.5.0",
            "_model_name": "SliderStyleModel",
            "_view_count": null,
            "_view_module": "@jupyter-widgets/base",
            "_view_module_version": "1.2.0",
            "_view_name": "StyleView",
            "description_width": "",
            "handle_color": null
          }
        },
        "414bf5eea1b44041991c6de330d81394": {
          "model_module": "@jupyter-widgets/base",
          "model_name": "LayoutModel",
          "model_module_version": "1.2.0",
          "state": {
            "_model_module": "@jupyter-widgets/base",
            "_model_module_version": "1.2.0",
            "_model_name": "LayoutModel",
            "_view_count": null,
            "_view_module": "@jupyter-widgets/base",
            "_view_module_version": "1.2.0",
            "_view_name": "LayoutView",
            "align_content": null,
            "align_items": null,
            "align_self": null,
            "border": null,
            "bottom": null,
            "display": null,
            "flex": null,
            "flex_flow": null,
            "grid_area": null,
            "grid_auto_columns": null,
            "grid_auto_flow": null,
            "grid_auto_rows": null,
            "grid_column": null,
            "grid_gap": null,
            "grid_row": null,
            "grid_template_areas": null,
            "grid_template_columns": null,
            "grid_template_rows": null,
            "height": null,
            "justify_content": null,
            "justify_items": null,
            "left": null,
            "margin": null,
            "max_height": null,
            "max_width": null,
            "min_height": null,
            "min_width": null,
            "object_fit": null,
            "object_position": null,
            "order": null,
            "overflow": null,
            "overflow_x": null,
            "overflow_y": null,
            "padding": null,
            "right": null,
            "top": null,
            "visibility": null,
            "width": null
          }
        },
        "472e756b6f2742bda6c3e52479be47c0": {
          "model_module": "@jupyter-widgets/controls",
          "model_name": "SliderStyleModel",
          "model_module_version": "1.5.0",
          "state": {
            "_model_module": "@jupyter-widgets/controls",
            "_model_module_version": "1.5.0",
            "_model_name": "SliderStyleModel",
            "_view_count": null,
            "_view_module": "@jupyter-widgets/base",
            "_view_module_version": "1.2.0",
            "_view_name": "StyleView",
            "description_width": "",
            "handle_color": null
          }
        },
        "7d37e2270292492a976b84b0441d8496": {
          "model_module": "@jupyter-widgets/base",
          "model_name": "LayoutModel",
          "model_module_version": "1.2.0",
          "state": {
            "_model_module": "@jupyter-widgets/base",
            "_model_module_version": "1.2.0",
            "_model_name": "LayoutModel",
            "_view_count": null,
            "_view_module": "@jupyter-widgets/base",
            "_view_module_version": "1.2.0",
            "_view_name": "LayoutView",
            "align_content": null,
            "align_items": null,
            "align_self": null,
            "border": null,
            "bottom": null,
            "display": null,
            "flex": null,
            "flex_flow": null,
            "grid_area": null,
            "grid_auto_columns": null,
            "grid_auto_flow": null,
            "grid_auto_rows": null,
            "grid_column": null,
            "grid_gap": null,
            "grid_row": null,
            "grid_template_areas": null,
            "grid_template_columns": null,
            "grid_template_rows": null,
            "height": null,
            "justify_content": null,
            "justify_items": null,
            "left": null,
            "margin": null,
            "max_height": null,
            "max_width": null,
            "min_height": null,
            "min_width": null,
            "object_fit": null,
            "object_position": null,
            "order": null,
            "overflow": null,
            "overflow_x": null,
            "overflow_y": null,
            "padding": null,
            "right": null,
            "top": null,
            "visibility": null,
            "width": null
          }
        },
        "51ab9aa4af064d24839b09db564bc4f0": {
          "model_module": "@jupyter-widgets/controls",
          "model_name": "SliderStyleModel",
          "model_module_version": "1.5.0",
          "state": {
            "_model_module": "@jupyter-widgets/controls",
            "_model_module_version": "1.5.0",
            "_model_name": "SliderStyleModel",
            "_view_count": null,
            "_view_module": "@jupyter-widgets/base",
            "_view_module_version": "1.2.0",
            "_view_name": "StyleView",
            "description_width": "",
            "handle_color": null
          }
        },
        "04c5f695d85e4d98b550470cc88f3099": {
          "model_module": "@jupyter-widgets/base",
          "model_name": "LayoutModel",
          "model_module_version": "1.2.0",
          "state": {
            "_model_module": "@jupyter-widgets/base",
            "_model_module_version": "1.2.0",
            "_model_name": "LayoutModel",
            "_view_count": null,
            "_view_module": "@jupyter-widgets/base",
            "_view_module_version": "1.2.0",
            "_view_name": "LayoutView",
            "align_content": null,
            "align_items": null,
            "align_self": null,
            "border": null,
            "bottom": null,
            "display": null,
            "flex": null,
            "flex_flow": null,
            "grid_area": null,
            "grid_auto_columns": null,
            "grid_auto_flow": null,
            "grid_auto_rows": null,
            "grid_column": null,
            "grid_gap": null,
            "grid_row": null,
            "grid_template_areas": null,
            "grid_template_columns": null,
            "grid_template_rows": null,
            "height": null,
            "justify_content": null,
            "justify_items": null,
            "left": null,
            "margin": null,
            "max_height": null,
            "max_width": null,
            "min_height": null,
            "min_width": null,
            "object_fit": null,
            "object_position": null,
            "order": null,
            "overflow": null,
            "overflow_x": null,
            "overflow_y": null,
            "padding": null,
            "right": null,
            "top": null,
            "visibility": null,
            "width": "500px"
          }
        },
        "bdaa1a2a795a43178836fd29e8bbe394": {
          "model_module": "@jupyter-widgets/controls",
          "model_name": "SliderStyleModel",
          "model_module_version": "1.5.0",
          "state": {
            "_model_module": "@jupyter-widgets/controls",
            "_model_module_version": "1.5.0",
            "_model_name": "SliderStyleModel",
            "_view_count": null,
            "_view_module": "@jupyter-widgets/base",
            "_view_module_version": "1.2.0",
            "_view_name": "StyleView",
            "description_width": "",
            "handle_color": null
          }
        },
        "b54f62773a7f4f9e8081ede9a458d1fa": {
          "model_module": "@jupyter-widgets/base",
          "model_name": "LayoutModel",
          "model_module_version": "1.2.0",
          "state": {
            "_model_module": "@jupyter-widgets/base",
            "_model_module_version": "1.2.0",
            "_model_name": "LayoutModel",
            "_view_count": null,
            "_view_module": "@jupyter-widgets/base",
            "_view_module_version": "1.2.0",
            "_view_name": "LayoutView",
            "align_content": null,
            "align_items": null,
            "align_self": null,
            "border": null,
            "bottom": null,
            "display": null,
            "flex": null,
            "flex_flow": null,
            "grid_area": null,
            "grid_auto_columns": null,
            "grid_auto_flow": null,
            "grid_auto_rows": null,
            "grid_column": null,
            "grid_gap": null,
            "grid_row": null,
            "grid_template_areas": null,
            "grid_template_columns": null,
            "grid_template_rows": null,
            "height": null,
            "justify_content": null,
            "justify_items": null,
            "left": null,
            "margin": null,
            "max_height": null,
            "max_width": null,
            "min_height": null,
            "min_width": null,
            "object_fit": null,
            "object_position": null,
            "order": null,
            "overflow": null,
            "overflow_x": null,
            "overflow_y": null,
            "padding": null,
            "right": null,
            "top": null,
            "visibility": null,
            "width": null
          }
        },
        "a95af5501bb5427f8d9235b2fa246f7a": {
          "model_module": "@jupyter-widgets/controls",
          "model_name": "VBoxModel",
          "model_module_version": "1.5.0",
          "state": {
            "_dom_classes": [],
            "_model_module": "@jupyter-widgets/controls",
            "_model_module_version": "1.5.0",
            "_model_name": "VBoxModel",
            "_view_count": null,
            "_view_module": "@jupyter-widgets/controls",
            "_view_module_version": "1.5.0",
            "_view_name": "VBoxView",
            "box_style": "",
            "children": [
              "IPY_MODEL_56bf3ba355464940bb0e1e65f83209ba",
              "IPY_MODEL_a1d4fa64b2704f948b2961c75cb9cb6c"
            ],
            "layout": "IPY_MODEL_e3d41d5e51a643bab3385ed522d15262"
          }
        },
        "56bf3ba355464940bb0e1e65f83209ba": {
          "model_module": "@jupyter-widgets/controls",
          "model_name": "ToggleButtonsModel",
          "model_module_version": "1.5.0",
          "state": {
            "_dom_classes": [],
            "_model_module": "@jupyter-widgets/controls",
            "_model_module_version": "1.5.0",
            "_model_name": "ToggleButtonsModel",
            "_options_labels": [
              "Soma",
              "Apical tuft (proximal)"
            ],
            "_view_count": null,
            "_view_module": "@jupyter-widgets/controls",
            "_view_module_version": "1.5.0",
            "_view_name": "ToggleButtonsView",
            "button_style": "",
            "description": "",
            "description_tooltip": null,
            "disabled": false,
            "icons": [],
            "index": 0,
            "layout": "IPY_MODEL_786c2d32984047a3b1a384243f81f70b",
            "style": "IPY_MODEL_3409e2ee36e048bf949775ec99d040cb",
            "tooltips": []
          }
        },
        "a1d4fa64b2704f948b2961c75cb9cb6c": {
          "model_module": "@jupyter-widgets/controls",
          "model_name": "HBoxModel",
          "model_module_version": "1.5.0",
          "state": {
            "_dom_classes": [],
            "_model_module": "@jupyter-widgets/controls",
            "_model_module_version": "1.5.0",
            "_model_name": "HBoxModel",
            "_view_count": null,
            "_view_module": "@jupyter-widgets/controls",
            "_view_module_version": "1.5.0",
            "_view_name": "HBoxView",
            "box_style": "",
            "children": [
              "IPY_MODEL_4a31bb231f3b4f46b1ff1112513368ca",
              "IPY_MODEL_9c777a19602b492dbac8a8262e094471"
            ],
            "layout": "IPY_MODEL_69745e8219ef4cf28f79e4638791c00b"
          }
        },
        "e3d41d5e51a643bab3385ed522d15262": {
          "model_module": "@jupyter-widgets/base",
          "model_name": "LayoutModel",
          "model_module_version": "1.2.0",
          "state": {
            "_model_module": "@jupyter-widgets/base",
            "_model_module_version": "1.2.0",
            "_model_name": "LayoutModel",
            "_view_count": null,
            "_view_module": "@jupyter-widgets/base",
            "_view_module_version": "1.2.0",
            "_view_name": "LayoutView",
            "align_content": null,
            "align_items": null,
            "align_self": null,
            "border": null,
            "bottom": null,
            "display": null,
            "flex": null,
            "flex_flow": null,
            "grid_area": null,
            "grid_auto_columns": null,
            "grid_auto_flow": null,
            "grid_auto_rows": null,
            "grid_column": null,
            "grid_gap": null,
            "grid_row": null,
            "grid_template_areas": null,
            "grid_template_columns": null,
            "grid_template_rows": null,
            "height": null,
            "justify_content": null,
            "justify_items": null,
            "left": null,
            "margin": null,
            "max_height": null,
            "max_width": null,
            "min_height": null,
            "min_width": null,
            "object_fit": null,
            "object_position": null,
            "order": null,
            "overflow": null,
            "overflow_x": null,
            "overflow_y": null,
            "padding": null,
            "right": null,
            "top": null,
            "visibility": null,
            "width": null
          }
        },
        "786c2d32984047a3b1a384243f81f70b": {
          "model_module": "@jupyter-widgets/base",
          "model_name": "LayoutModel",
          "model_module_version": "1.2.0",
          "state": {
            "_model_module": "@jupyter-widgets/base",
            "_model_module_version": "1.2.0",
            "_model_name": "LayoutModel",
            "_view_count": null,
            "_view_module": "@jupyter-widgets/base",
            "_view_module_version": "1.2.0",
            "_view_name": "LayoutView",
            "align_content": null,
            "align_items": null,
            "align_self": null,
            "border": null,
            "bottom": null,
            "display": null,
            "flex": null,
            "flex_flow": null,
            "grid_area": null,
            "grid_auto_columns": null,
            "grid_auto_flow": null,
            "grid_auto_rows": null,
            "grid_column": null,
            "grid_gap": null,
            "grid_row": null,
            "grid_template_areas": null,
            "grid_template_columns": null,
            "grid_template_rows": null,
            "height": null,
            "justify_content": null,
            "justify_items": null,
            "left": null,
            "margin": null,
            "max_height": null,
            "max_width": null,
            "min_height": null,
            "min_width": null,
            "object_fit": null,
            "object_position": null,
            "order": null,
            "overflow": null,
            "overflow_x": null,
            "overflow_y": null,
            "padding": null,
            "right": null,
            "top": null,
            "visibility": null,
            "width": null
          }
        },
        "3409e2ee36e048bf949775ec99d040cb": {
          "model_module": "@jupyter-widgets/controls",
          "model_name": "ToggleButtonsStyleModel",
          "model_module_version": "1.5.0",
          "state": {
            "_model_module": "@jupyter-widgets/controls",
            "_model_module_version": "1.5.0",
            "_model_name": "ToggleButtonsStyleModel",
            "_view_count": null,
            "_view_module": "@jupyter-widgets/base",
            "_view_module_version": "1.2.0",
            "_view_name": "StyleView",
            "button_width": "",
            "description_width": "",
            "font_weight": ""
          }
        },
        "4a31bb231f3b4f46b1ff1112513368ca": {
          "model_module": "@jupyter-widgets/controls",
          "model_name": "LabelModel",
          "model_module_version": "1.5.0",
          "state": {
            "_dom_classes": [],
            "_model_module": "@jupyter-widgets/controls",
            "_model_module_version": "1.5.0",
            "_model_name": "LabelModel",
            "_view_count": null,
            "_view_module": "@jupyter-widgets/controls",
            "_view_module_version": "1.5.0",
            "_view_name": "LabelView",
            "description": "",
            "description_tooltip": null,
            "layout": "IPY_MODEL_ccf35f30cb1849b1bcd843a159ff290f",
            "placeholder": "​",
            "style": "IPY_MODEL_361ce07375d34034aa738bf7ab6662a1",
            "value": "Synapse maximal conductance (uS)"
          }
        },
        "9c777a19602b492dbac8a8262e094471": {
          "model_module": "@jupyter-widgets/controls",
          "model_name": "FloatSliderModel",
          "model_module_version": "1.5.0",
          "state": {
            "_dom_classes": [],
            "_model_module": "@jupyter-widgets/controls",
            "_model_module_version": "1.5.0",
            "_model_name": "FloatSliderModel",
            "_view_count": null,
            "_view_module": "@jupyter-widgets/controls",
            "_view_module_version": "1.5.0",
            "_view_name": "FloatSliderView",
            "continuous_update": true,
            "description": "",
            "description_tooltip": null,
            "disabled": false,
            "layout": "IPY_MODEL_c6042b044d5e4407a799d8f83337cd85",
            "max": 0.1,
            "min": 0,
            "orientation": "horizontal",
            "readout": true,
            "readout_format": ".4f",
            "step": 0.0002,
            "style": "IPY_MODEL_4cd4d81e94a54b9dbc5335a4210d9079",
            "value": 0.1
          }
        },
        "69745e8219ef4cf28f79e4638791c00b": {
          "model_module": "@jupyter-widgets/base",
          "model_name": "LayoutModel",
          "model_module_version": "1.2.0",
          "state": {
            "_model_module": "@jupyter-widgets/base",
            "_model_module_version": "1.2.0",
            "_model_name": "LayoutModel",
            "_view_count": null,
            "_view_module": "@jupyter-widgets/base",
            "_view_module_version": "1.2.0",
            "_view_name": "LayoutView",
            "align_content": null,
            "align_items": null,
            "align_self": null,
            "border": null,
            "bottom": null,
            "display": null,
            "flex": null,
            "flex_flow": null,
            "grid_area": null,
            "grid_auto_columns": null,
            "grid_auto_flow": null,
            "grid_auto_rows": null,
            "grid_column": null,
            "grid_gap": null,
            "grid_row": null,
            "grid_template_areas": null,
            "grid_template_columns": null,
            "grid_template_rows": null,
            "height": null,
            "justify_content": null,
            "justify_items": null,
            "left": null,
            "margin": null,
            "max_height": null,
            "max_width": null,
            "min_height": null,
            "min_width": null,
            "object_fit": null,
            "object_position": null,
            "order": null,
            "overflow": null,
            "overflow_x": null,
            "overflow_y": null,
            "padding": null,
            "right": null,
            "top": null,
            "visibility": null,
            "width": null
          }
        },
        "ccf35f30cb1849b1bcd843a159ff290f": {
          "model_module": "@jupyter-widgets/base",
          "model_name": "LayoutModel",
          "model_module_version": "1.2.0",
          "state": {
            "_model_module": "@jupyter-widgets/base",
            "_model_module_version": "1.2.0",
            "_model_name": "LayoutModel",
            "_view_count": null,
            "_view_module": "@jupyter-widgets/base",
            "_view_module_version": "1.2.0",
            "_view_name": "LayoutView",
            "align_content": null,
            "align_items": null,
            "align_self": null,
            "border": null,
            "bottom": null,
            "display": null,
            "flex": null,
            "flex_flow": null,
            "grid_area": null,
            "grid_auto_columns": null,
            "grid_auto_flow": null,
            "grid_auto_rows": null,
            "grid_column": null,
            "grid_gap": null,
            "grid_row": null,
            "grid_template_areas": null,
            "grid_template_columns": null,
            "grid_template_rows": null,
            "height": null,
            "justify_content": null,
            "justify_items": null,
            "left": null,
            "margin": null,
            "max_height": null,
            "max_width": null,
            "min_height": null,
            "min_width": null,
            "object_fit": null,
            "object_position": null,
            "order": null,
            "overflow": null,
            "overflow_x": null,
            "overflow_y": null,
            "padding": null,
            "right": null,
            "top": null,
            "visibility": null,
            "width": null
          }
        },
        "361ce07375d34034aa738bf7ab6662a1": {
          "model_module": "@jupyter-widgets/controls",
          "model_name": "DescriptionStyleModel",
          "model_module_version": "1.5.0",
          "state": {
            "_model_module": "@jupyter-widgets/controls",
            "_model_module_version": "1.5.0",
            "_model_name": "DescriptionStyleModel",
            "_view_count": null,
            "_view_module": "@jupyter-widgets/base",
            "_view_module_version": "1.2.0",
            "_view_name": "StyleView",
            "description_width": ""
          }
        },
        "c6042b044d5e4407a799d8f83337cd85": {
          "model_module": "@jupyter-widgets/base",
          "model_name": "LayoutModel",
          "model_module_version": "1.2.0",
          "state": {
            "_model_module": "@jupyter-widgets/base",
            "_model_module_version": "1.2.0",
            "_model_name": "LayoutModel",
            "_view_count": null,
            "_view_module": "@jupyter-widgets/base",
            "_view_module_version": "1.2.0",
            "_view_name": "LayoutView",
            "align_content": null,
            "align_items": null,
            "align_self": null,
            "border": null,
            "bottom": null,
            "display": null,
            "flex": null,
            "flex_flow": null,
            "grid_area": null,
            "grid_auto_columns": null,
            "grid_auto_flow": null,
            "grid_auto_rows": null,
            "grid_column": null,
            "grid_gap": null,
            "grid_row": null,
            "grid_template_areas": null,
            "grid_template_columns": null,
            "grid_template_rows": null,
            "height": null,
            "justify_content": null,
            "justify_items": null,
            "left": null,
            "margin": null,
            "max_height": null,
            "max_width": null,
            "min_height": null,
            "min_width": null,
            "object_fit": null,
            "object_position": null,
            "order": null,
            "overflow": null,
            "overflow_x": null,
            "overflow_y": null,
            "padding": null,
            "right": null,
            "top": null,
            "visibility": null,
            "width": null
          }
        },
        "4cd4d81e94a54b9dbc5335a4210d9079": {
          "model_module": "@jupyter-widgets/controls",
          "model_name": "SliderStyleModel",
          "model_module_version": "1.5.0",
          "state": {
            "_model_module": "@jupyter-widgets/controls",
            "_model_module_version": "1.5.0",
            "_model_name": "SliderStyleModel",
            "_view_count": null,
            "_view_module": "@jupyter-widgets/base",
            "_view_module_version": "1.2.0",
            "_view_name": "StyleView",
            "description_width": "",
            "handle_color": null
          }
        }
      }
    }
  },
  "nbformat": 4,
  "nbformat_minor": 5
}