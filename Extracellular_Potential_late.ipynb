{
  "cells": [
    {
      "cell_type": "markdown",
      "metadata": {
        "id": "view-in-github",
        "colab_type": "text"
      },
      "source": [
        "<a href=\"https://colab.research.google.com/github/davidfague/Model_Reduction_Methods/blob/main/Extracellular_Potential_late.ipynb\" target=\"_parent\"><img src=\"https://colab.research.google.com/assets/colab-badge.svg\" alt=\"Open In Colab\"/></a>"
      ]
    },
    {
      "cell_type": "markdown",
      "id": "7a9de89f",
      "metadata": {
        "id": "7a9de89f"
      },
      "source": [
        "# Single Cell Extracellular Potential"
      ]
    },
    {
      "cell_type": "code",
      "source": [
        "reduce_cell=False #use neuron_reduce\n",
        "expand_cable=False #use cable_expander"
      ],
      "metadata": {
        "id": "0XKSxnXex5Is"
      },
      "id": "0XKSxnXex5Is",
      "execution_count": 1,
      "outputs": []
    },
    {
      "cell_type": "markdown",
      "id": "MSX7LmGzszzf",
      "metadata": {
        "id": "MSX7LmGzszzf"
      },
      "source": [
        "#### Download modules from Github"
      ]
    },
    {
      "cell_type": "code",
      "source": [
        "!pip install neuron"
      ],
      "metadata": {
        "id": "-urE9jrxNdxm",
        "colab": {
          "base_uri": "https://localhost:8080/"
        },
        "outputId": "44832c87-3c5f-4e74-c35a-89afbc25de70"
      },
      "id": "-urE9jrxNdxm",
      "execution_count": 2,
      "outputs": [
        {
          "output_type": "stream",
          "name": "stdout",
          "text": [
            "Looking in indexes: https://pypi.org/simple, https://us-python.pkg.dev/colab-wheels/public/simple/\n",
            "Collecting neuron\n",
            "  Downloading NEURON-8.2.2-cp310-cp310-manylinux_2_17_x86_64.manylinux2014_x86_64.whl (14.9 MB)\n",
            "\u001b[2K     \u001b[90m━━━━━━━━━━━━━━━━━━━━━━━━━━━━━━━━━━━━━━━━\u001b[0m \u001b[32m14.9/14.9 MB\u001b[0m \u001b[31m37.1 MB/s\u001b[0m eta \u001b[36m0:00:00\u001b[0m\n",
            "\u001b[?25hRequirement already satisfied: numpy>=1.9.3 in /usr/local/lib/python3.10/dist-packages (from neuron) (1.22.4)\n",
            "Installing collected packages: neuron\n",
            "Successfully installed neuron-8.2.2\n"
          ]
        }
      ]
    },
    {
      "cell_type": "code",
      "source": [
        "!pip install neuron_reduce"
      ],
      "metadata": {
        "id": "BHjnRgPsN0g2",
        "colab": {
          "base_uri": "https://localhost:8080/"
        },
        "outputId": "8ab64fa8-a168-4e07-a37b-4231b7f05d57"
      },
      "id": "BHjnRgPsN0g2",
      "execution_count": 3,
      "outputs": [
        {
          "output_type": "stream",
          "name": "stdout",
          "text": [
            "Looking in indexes: https://pypi.org/simple, https://us-python.pkg.dev/colab-wheels/public/simple/\n",
            "Collecting neuron_reduce\n",
            "  Downloading neuron_reduce-0.0.7-py3-none-any.whl (18 kB)\n",
            "Installing collected packages: neuron_reduce\n",
            "Successfully installed neuron_reduce-0.0.7\n"
          ]
        }
      ]
    },
    {
      "cell_type": "code",
      "source": [
        "!git clone https://github.com/davidfague/Model_Reduction_Methods.git"
      ],
      "metadata": {
        "id": "t4dVzA0WLZ9F",
        "colab": {
          "base_uri": "https://localhost:8080/"
        },
        "outputId": "6542cf37-bfb6-49cf-dbfe-c05bcfa54d55"
      },
      "id": "t4dVzA0WLZ9F",
      "execution_count": 4,
      "outputs": [
        {
          "output_type": "stream",
          "name": "stdout",
          "text": [
            "Cloning into 'Model_Reduction_Methods'...\n",
            "remote: Enumerating objects: 1177, done.\u001b[K\n",
            "remote: Counting objects: 100% (403/403), done.\u001b[K\n",
            "remote: Compressing objects: 100% (210/210), done.\u001b[K\n",
            "remote: Total 1177 (delta 220), reused 349 (delta 193), pack-reused 774\u001b[K\n",
            "Receiving objects: 100% (1177/1177), 6.78 MiB | 11.37 MiB/s, done.\n",
            "Resolving deltas: 100% (649/649), done.\n"
          ]
        }
      ]
    },
    {
      "cell_type": "code",
      "source": [
        "%cd Model_Reduction_Methods/\n",
        "\n",
        "#import reduction and expansion functions\n",
        "from test_neuron_reduce.subtree_reductor_func import subtree_reductor\n",
        "from cable_expander_func import cable_expander\n",
        "\n",
        "#import recording functions\n",
        "from stylized_module.recorder import Recorder\n",
        "\n",
        "# #import analysis functions\n",
        "# from utils import make_seg_df,generate_stylized_geometry,make_reduced_seg_df,plot_morphology,check_connectivity,generate_reduced_cell_seg_coords, create_seg_var_report\n",
        "\n",
        "# from modeling_module.synapses import Synapse, Listed_Synapse\n",
        "from modeling_module.cell_model import cell_model\n",
        "import pandas as pd"
      ],
      "metadata": {
        "id": "cY9U_KPwLVAz",
        "colab": {
          "base_uri": "https://localhost:8080/"
        },
        "outputId": "463126f3-aff0-4986-f056-a41b8db90921"
      },
      "id": "cY9U_KPwLVAz",
      "execution_count": 5,
      "outputs": [
        {
          "output_type": "stream",
          "name": "stdout",
          "text": [
            "/content/Model_Reduction_Methods\n"
          ]
        }
      ]
    },
    {
      "cell_type": "code",
      "source": [],
      "metadata": {
        "id": "Ez09NP_HCSAk"
      },
      "id": "Ez09NP_HCSAk",
      "execution_count": 5,
      "outputs": []
    },
    {
      "cell_type": "code",
      "source": [
        "%cd expand_example"
      ],
      "metadata": {
        "id": "vXTRrX-ILq6D",
        "colab": {
          "base_uri": "https://localhost:8080/"
        },
        "outputId": "4512f041-d83e-4a24-cd26-ac90c86c1a53"
      },
      "id": "vXTRrX-ILq6D",
      "execution_count": 6,
      "outputs": [
        {
          "output_type": "stream",
          "name": "stdout",
          "text": [
            "/content/Model_Reduction_Methods/expand_example\n"
          ]
        }
      ]
    },
    {
      "cell_type": "code",
      "source": [
        "# compile the mod files\n",
        "!nrnivmodl mod"
      ],
      "metadata": {
        "id": "Dm-MdGeb6uZB",
        "colab": {
          "base_uri": "https://localhost:8080/"
        },
        "outputId": "3657e2b0-6ba1-4f74-82e9-aa8781e8c5c8"
      },
      "id": "Dm-MdGeb6uZB",
      "execution_count": 7,
      "outputs": [
        {
          "output_type": "stream",
          "name": "stdout",
          "text": [
            "/usr/local/bin/nrnivmodl:11: DeprecationWarning: The distutils package is deprecated and slated for removal in Python 3.12. Use setuptools or check PEP 632 for potential alternatives\n",
            "  from distutils.ccompiler import new_compiler\n",
            "/content/Model_Reduction_Methods/expand_example\n",
            "Mod files: \"mod/mod/CaDynamics_E2.mod\" \"mod/mod/Ca_HVA.mod\" \"mod/mod/Ca_LVAst.mod\" \"mod/mod/epsp.mod\" \"mod/mod/Ih.mod\" \"mod/mod/Im.mod\" \"mod/mod/K_Pst.mod\" \"mod/mod/K_Tst.mod\" \"mod/mod/Nap_Et2.mod\" \"mod/mod/NaTa_t.mod\" \"mod/mod/NaTs2_t.mod\" \"mod/mod/SK_E2.mod\" \"mod/mod/SKv3_1.mod\"\n",
            "\n",
            "Creating 'x86_64' directory for .o files.\n",
            "\n",
            " -> \u001b[32mCompiling\u001b[0m mod_func.cpp\n",
            " -> \u001b[32mNMODL\u001b[0m ../mod/Ca_HVA.mod\n",
            " -> \u001b[32mNMODL\u001b[0m ../mod/CaDynamics_E2.mod\n",
            " -> \u001b[32mNMODL\u001b[0m ../mod/Ca_LVAst.mod\n",
            "Translating CaDynamics_E2.mod into /content/Model_Reduction_Methods/expand_example/x86_64/CaDynamics_E2.c\n",
            "Translating Ca_HVA.mod into /content/Model_Reduction_Methods/expand_example/x86_64/Ca_HVA.c\n",
            "Thread Safe\n",
            "Thread Safe\n",
            "Translating Ca_LVAst.mod into /content/Model_Reduction_Methods/expand_example/x86_64/Ca_LVAst.c\n",
            " -> \u001b[32mNMODL\u001b[0m ../mod/epsp.mod\n",
            "Thread Safe\n",
            " -> \u001b[32mNMODL\u001b[0m ../mod/Ih.mod\n",
            " -> \u001b[32mNMODL\u001b[0m ../mod/Im.mod\n",
            "Translating epsp.mod into /content/Model_Reduction_Methods/expand_example/x86_64/epsp.c\n",
            "Translating Im.mod into /content/Model_Reduction_Methods/expand_example/x86_64/Im.c\n",
            "Thread Safe\n",
            " -> \u001b[32mNMODL\u001b[0m ../mod/K_Pst.mod\n",
            "Thread Safe\n",
            " -> \u001b[32mNMODL\u001b[0m ../mod/K_Tst.mod\n",
            "Translating Ih.mod into /content/Model_Reduction_Methods/expand_example/x86_64/Ih.c\n",
            "Translating K_Tst.mod into /content/Model_Reduction_Methods/expand_example/x86_64/K_Tst.c\n",
            "Thread Safe\n",
            "Thread Safe\n",
            "Translating K_Pst.mod into /content/Model_Reduction_Methods/expand_example/x86_64/K_Pst.c\n",
            "Thread Safe\n",
            " -> \u001b[32mNMODL\u001b[0m ../mod/Nap_Et2.mod\n",
            " -> \u001b[32mNMODL\u001b[0m ../mod/NaTa_t.mod\n",
            " -> \u001b[32mNMODL\u001b[0m ../mod/NaTs2_t.mod\n",
            "Translating Nap_Et2.mod into /content/Model_Reduction_Methods/expand_example/x86_64/Nap_Et2.c\n",
            "Translating NaTa_t.mod into /content/Model_Reduction_Methods/expand_example/x86_64/NaTa_t.c\n",
            "Thread Safe\n",
            "Thread Safe\n",
            " -> \u001b[32mNMODL\u001b[0m ../mod/SK_E2.mod\n",
            "Translating NaTs2_t.mod into /content/Model_Reduction_Methods/expand_example/x86_64/NaTs2_t.c\n",
            " -> \u001b[32mNMODL\u001b[0m ../mod/SKv3_1.mod\n",
            "Thread Safe\n",
            " -> \u001b[32mCompiling\u001b[0m CaDynamics_E2.c\n",
            "Translating SK_E2.mod into /content/Model_Reduction_Methods/expand_example/x86_64/SK_E2.c\n",
            "Translating SKv3_1.mod into /content/Model_Reduction_Methods/expand_example/x86_64/SKv3_1.c\n",
            "Thread Safe\n",
            " -> \u001b[32mCompiling\u001b[0m Ca_HVA.c\n",
            "Thread Safe\n",
            " -> \u001b[32mCompiling\u001b[0m Ca_LVAst.c\n",
            " -> \u001b[32mCompiling\u001b[0m epsp.c\n",
            " -> \u001b[32mCompiling\u001b[0m Ih.c\n",
            " -> \u001b[32mCompiling\u001b[0m Im.c\n",
            " -> \u001b[32mCompiling\u001b[0m K_Pst.c\n",
            " -> \u001b[32mCompiling\u001b[0m K_Tst.c\n",
            " -> \u001b[32mCompiling\u001b[0m Nap_Et2.c\n",
            " -> \u001b[32mCompiling\u001b[0m NaTa_t.c\n",
            " -> \u001b[32mCompiling\u001b[0m NaTs2_t.c\n",
            " -> \u001b[32mCompiling\u001b[0m SK_E2.c\n",
            " -> \u001b[32mCompiling\u001b[0m SKv3_1.c\n",
            " => \u001b[32mLINKING\u001b[0m shared library ./libnrnmech.so\n",
            " => \u001b[32mLINKING\u001b[0m executable ./special LDFLAGS are:    -pthread\n",
            "Successfully created x86_64/special\n"
          ]
        }
      ]
    },
    {
      "cell_type": "markdown",
      "id": "2a84fbea",
      "metadata": {
        "id": "2a84fbea"
      },
      "source": [
        "## Setup smiulation parameters"
      ]
    },
    {
      "cell_type": "code",
      "execution_count": 8,
      "id": "4be7f6fd",
      "metadata": {
        "id": "4be7f6fd",
        "colab": {
          "base_uri": "https://localhost:8080/"
        },
        "outputId": "5c5ce5d4-ecb4-4449-f01d-dc24f04bf3f8"
      },
      "outputs": [
        {
          "output_type": "execute_result",
          "data": {
            "text/plain": [
              "1.0"
            ]
          },
          "metadata": {},
          "execution_count": 8
        }
      ],
      "source": [
        "import numpy as np\n",
        "import pandas as pd\n",
        "import json\n",
        "import matplotlib.pyplot as plt\n",
        "import ipywidgets as widgets\n",
        "from neuron import h\n",
        "from scipy import signal\n",
        "from IPython.display import display, clear_output\n",
        "from ipywidgets import interactive_output, HBox, VBox, Label, Layout\n",
        "\n",
        "from __future__ import division\n",
        "from neuron import gui,h\n",
        "import numpy as np\n",
        "import time\n",
        "import matplotlib.pyplot as plt\n",
        "\n",
        "%matplotlib inline\n",
        "\n",
        "\n",
        "h.load_file('stdrun.hoc')\n",
        "# h.nrn_load_dll(paths.COMPILED_LIBRARY_REDUCED_ORDER)  # choose the set of mechanisms\n",
        "h.nrn_load_dll('./x86_64/.libs/libnrnmech.so')\n"
      ]
    },
    {
      "cell_type": "markdown",
      "id": "7927a07b",
      "metadata": {
        "id": "7927a07b"
      },
      "source": [
        "### Create a cell with reduced morphology"
      ]
    },
    {
      "cell_type": "code",
      "source": [
        "%ls"
      ],
      "metadata": {
        "id": "s0gis1f1OdWX",
        "colab": {
          "base_uri": "https://localhost:8080/"
        },
        "outputId": "7b9a6484-5670-4842-d6c2-769b349a2f6a"
      },
      "id": "s0gis1f1OdWX",
      "execution_count": 9,
      "outputs": [
        {
          "output_type": "stream",
          "name": "stdout",
          "text": [
            "cell1.asc  example_expand.py  L5PCtemplate.hoc  \u001b[0m\u001b[01;34mx86_64\u001b[0m/\n",
            "Cell.hoc   L5PCbiophys3.hoc   \u001b[01;34mmod\u001b[0m/\n"
          ]
        }
      ]
    },
    {
      "cell_type": "code",
      "source": [
        "# class Synapse(PointCurrent):\n",
        "#     def __init__(self, cell, stim: h.NetStim, sec_index: int,\n",
        "#                   syn_type: str = 'Exp2Syn', gmax: float = 0.01, loc: float = 0.5,\n",
        "#                   record: bool = False):\n",
        "#         super().__init__(cell, sec_index, loc)\n",
        "#         self.stim = stim\n",
        "#         self.gmax = gmax\n",
        "#         self.__synapse_type(syn_type)\n",
        "#         self.setup(record)\n",
        "\n",
        "#     # PRIVATE METHODS\n",
        "#     def __synapse_type(self, syn_type):\n",
        "#         if syn_type == 'AlphaSynapse1':\n",
        "#             # Reversal potential (mV); Synapse time constant (ms)\n",
        "#             self.syn_params = {'e': 0., 'tau': 2.0}\n",
        "#             # Variable name of maximum conductance (uS)\n",
        "#             self.gmax_var = 'gmax'\n",
        "#         elif syn_type == 'Exp2Syn':\n",
        "#             self.syn_params = {'e': 0., 'tau1': 1.0, 'tau2': 3.0}\n",
        "#             self.gmax_var = '_nc_weight'\n",
        "#         else:\n",
        "#             raise ValueError(\"Synpase type not defined.\")\n",
        "#         self.syn_type = syn_type\n",
        "#         self.pp_obj = getattr(h, syn_type)(self.get_section()(self.loc))\n",
        "\n",
        "#     def __setup_synapse(self):\n",
        "#         self.syn = self.pp_obj\n",
        "#         self.nc = h.NetCon(self.stim, self.syn, 1, 0, 1)\n",
        "#         for key, value in self.syn_params.items():\n",
        "#             setattr(self.syn, key, value)\n",
        "#         self.set_gmax()\n",
        "\n",
        "#     # PUBLIC METHODS\n",
        "#     def setup(self, record: bool = False):\n",
        "#         self.__setup_synapse()\n",
        "#         if record:\n",
        "#             self.setup_recorder()\n",
        "    \n",
        "#     def set_gmax(self, gmax: float = None):\n",
        "#         if gmax is not None:\n",
        "#             self.gmax = gmax\n",
        "#         if self.gmax_var == '_nc_weight':\n",
        "#             self.nc.weight[0] = self.gmax\n",
        "#         else:\n",
        "#             setattr(self.syn, self.gmax_var, self.gmax)"
      ],
      "metadata": {
        "id": "8TE_op1mUTii"
      },
      "id": "8TE_op1mUTii",
      "execution_count": 10,
      "outputs": []
    },
    {
      "cell_type": "markdown",
      "source": [
        "Build complex cell"
      ],
      "metadata": {
        "id": "CjCDSZpXTG1w"
      },
      "id": "CjCDSZpXTG1w"
    },
    {
      "cell_type": "code",
      "source": [
        "h.load_file('L5PCbiophys3.hoc')\n",
        "\n",
        "# # Load morphology parameters from a csv file\n",
        "# geometry = pd.read_csv(paths.GEO_REDUCED_ORDER, index_col='id')\n",
        "h.load_file(\"import3d.hoc\")\n",
        "\n",
        "\n",
        "# Create a cell object\n",
        "# cell = ReducedOrderL5CellPassiveDendrite(geometry=geometry, full_biophys=biophys_param)\n",
        "h.load_file('L5PCtemplate.hoc')\n",
        "complex_cell = h.L5PCtemplate('cell1.asc')\n",
        "h.celsius = 37\n",
        "h.v_init = complex_cell.soma[0].e_pas\n",
        "\n",
        "synapses_list=[]\n",
        "netcons_list=[]\n",
        "cell = cell_model(complex_cell,synapses_list=synapses_list,netcons_list=netcons_list,spike_threshold = 10)"
      ],
      "metadata": {
        "colab": {
          "base_uri": "https://localhost:8080/"
        },
        "id": "_3cQePJaTF1t",
        "outputId": "71790ebe-824f-4644-9657-35aaba47b2bc"
      },
      "id": "_3cQePJaTF1t",
      "execution_count": 11,
      "outputs": [
        {
          "output_type": "stream",
          "name": "stdout",
          "text": [
            "Generating 3D coordinates for:  L5PCtemplate[0].axon[0]\n",
            "Generating 3D coordinates for:  L5PCtemplate[0].axon[1]\n"
          ]
        }
      ]
    },
    {
      "cell_type": "code",
      "source": [
        "# #need to check cell.add_synapse\n",
        "# dir(cell)"
      ],
      "metadata": {
        "id": "AzxdWmmxYMM6"
      },
      "id": "AzxdWmmxYMM6",
      "execution_count": 12,
      "outputs": []
    },
    {
      "cell_type": "code",
      "source": [
        "# place synapses on distal tuft sections:\n",
        "parent_sections=[]\n",
        "for sec in cell.all: # find non-terminal sections\n",
        "  if sec.parentseg() is not None:\n",
        "    if sec.parentseg().sec not in parent_sections:\n",
        "      parent_sections.append(sec.parentseg().sec)\n",
        "\n",
        "h.distance(sec=cell.soma) #use to find distance from soma\n",
        "\n",
        "tufts=[]\n",
        "for sec in cell.apic:  # check if the section is a terminal section and if it is apical tuft\n",
        "  # print(h.distance(sec(0.5)))\n",
        "  if sec not in parent_sections and h.distance(sec(0.5)) > 800:\n",
        "    tufts.append(sec)\n",
        "    # print(sec, 'is a terminal section of the tuft')\n",
        "\n"
      ],
      "metadata": {
        "id": "cKhOKBVtWkal"
      },
      "id": "cKhOKBVtWkal",
      "execution_count": 13,
      "outputs": []
    },
    {
      "cell_type": "code",
      "source": [
        "# generate presynaptic spike train (if this is before placing synapses then there willb e one stimulus for all synapses)\n",
        "import random\n",
        "#use defined cell_model class for generating 3d coordinates, recording ECP, 'book-keeping' etc...\n",
        "random.seed(2)\n",
        "\n",
        "# Create synaptic input\n",
        "stim = h.NetStim()\n",
        "frequency=15 #(hz)\n",
        "spikeinterval = (1/frequency)*1000 #convert to T and milliseconds\n",
        "stim.noise=0\n",
        "stim.interval=spikeinterval\n",
        "print(str(stim.interval))\n",
        "stim.number = 3  # only one event\n",
        "stim.start = 2.0  # delay (ms)\n",
        "\n",
        "gmax = 1  # default synapse maximum conductance (uS)"
      ],
      "metadata": {
        "colab": {
          "base_uri": "https://localhost:8080/"
        },
        "id": "oIofalsJYsBm",
        "outputId": "7d4a7b09-d84a-4afe-b9bd-1dc2829c0d8f"
      },
      "id": "oIofalsJYsBm",
      "execution_count": 14,
      "outputs": [
        {
          "output_type": "stream",
          "name": "stdout",
          "text": [
            "66.66666666666667\n"
          ]
        }
      ]
    },
    {
      "cell_type": "code",
      "source": [
        "#place synapses\n",
        "cell._nbranch=len(tufts)\n",
        "print(cell._nbranch, \"terminal tuft branches in original cell\")\n",
        "for distal_tuft_sec in tufts:\n",
        "  cell.add_synapse(stim, sec_index=cell.all.index(distal_tuft_sec), gmax=gmax / cell._nbranch) # need to adjust to only tufts\n"
      ],
      "metadata": {
        "colab": {
          "base_uri": "https://localhost:8080/"
        },
        "id": "KKsjAd_rYUM9",
        "outputId": "9a7f47fb-3122-4646-e63b-798fe7463c36"
      },
      "id": "KKsjAd_rYUM9",
      "execution_count": 15,
      "outputs": [
        {
          "output_type": "stream",
          "name": "stdout",
          "text": [
            "22 terminal tuft branches in original cell\n"
          ]
        }
      ]
    },
    {
      "cell_type": "code",
      "source": [
        "#get lists for redution\n",
        "#get synapse hoc obj list from synapse python class obj list\n",
        "synapses_list=[]\n",
        "for synapse in cell.synapse:\n",
        "  synapses_list.append(synapse.syn) #retrieve synapse hoc obj from python class\n",
        "netcons_list=cell.netcons_list"
      ],
      "metadata": {
        "id": "iOQEfI6sae4J"
      },
      "id": "iOQEfI6sae4J",
      "execution_count": 16,
      "outputs": []
    },
    {
      "cell_type": "code",
      "source": [
        "# synapses_list"
      ],
      "metadata": {
        "id": "24wzhmvYQPin"
      },
      "id": "24wzhmvYQPin",
      "execution_count": 17,
      "outputs": []
    },
    {
      "cell_type": "code",
      "source": [
        "# netcons_list"
      ],
      "metadata": {
        "id": "HSWsrA0Kf-Ac"
      },
      "id": "HSWsrA0Kf-Ac",
      "execution_count": 18,
      "outputs": []
    },
    {
      "cell_type": "code",
      "execution_count": 19,
      "id": "18a97eeb",
      "metadata": {
        "id": "18a97eeb"
      },
      "outputs": [],
      "source": [
        "#reduce cell\n",
        "if reduce_cell==True:\n",
        "  #reduce complex dendritic trees to cables\n",
        "  reduced_cell, synapses_list, netcons_list, txt = subtree_reductor(complex_cell, synapses_list, netcons_list, reduction_frequency=0,return_seg_to_seg=True)\n",
        "  print(\"synapses_list after NR reduction:\", synapses_list)\n",
        "  if expand_cable==True:\n",
        "    #expand cable to idealized dendritic trees\n",
        "    sections_to_expand = [reduced_cell.hoc_model.apic[0]]\n",
        "    furcations_x=[0.289004]\n",
        "    nbranches=[4]\n",
        "    reduced_dendritic_cell, synapses_list, netcons_list, txt = cable_expander(reduced_cell, sections_to_expand, furcations_x, nbranches, \n",
        "                                                                              synapses_list, netcons_list, reduction_frequency=0,return_seg_to_seg=True)\n",
        "    #remove basal dend 3d coordinates because they seem off\n",
        "    for sec in reduced_dendritic_cell.dend:\n",
        "      sec.pt3dclear()\n",
        "\n",
        "    cell = cell_model(reduced_dendritic_cell,synapses_list=synapses_list,netcons_list=netcons_list,spike_threshold = 10) #NR model with apical cable converted to tree\n",
        "    tufts=[] # find tufts\n",
        "    for i,sec in enumerate(cell.apic):\n",
        "      if i!=0: # do not add synapse to trunk\n",
        "        tufts.append(sec)\n",
        "    cell._nbranch=len(tufts)\n",
        "    print(cell._nbranch, \"terminal tuft branches in reduced_dendritic_cell\")\n",
        "  else:\n",
        "    #workaround since cell.all was not attribute (can update cell_model class to include this list formation)\n",
        "    reduced_cell.all =[]\n",
        "    for sec in [reduced_cell.soma]:\n",
        "      reduced_cell.all.append(sec)\n",
        "    for sec in [reduced_cell.apic]:\n",
        "      reduced_cell.all.append(sec)\n",
        "    for sec in reduced_cell.dend:\n",
        "      reduced_cell.all.append(sec)\n",
        "    for sec in reduced_cell.axon:\n",
        "      reduced_cell.all.append(sec)\n",
        "    #make apic sec a list (can update cell_model class to include this) (cell_model class expects cell.apic to be iterable)\n",
        "    reduced_cell.apic=[reduced_cell.apic]\n",
        "    #use cell_model python class\n",
        "    cell=cell_model(reduced_cell,synapses_list=synapses_list,netcons_list=netcons_list,spike_threshold = 10) # neuron_reduce model\n",
        "    tufts=cell.apic # Vm plot may return middle segment of trunk since it is the distal apical section.\n",
        "    cell._nbranch=len(tufts)\n",
        "    print(cell._nbranch, \"terminal tuft branches in reduced_cell\")\n",
        "else:\n",
        "  # cell = cell_model(complex_cell,synapses_list=synapses_list,netcons_list=netcons_list,spike_threshold = 10) # original cell\n",
        "  # original cell should already be defined\n",
        "  pass"
      ]
    },
    {
      "cell_type": "code",
      "source": [
        "# for syn in synapses_list:\n",
        "#   print(syn)"
      ],
      "metadata": {
        "id": "RiOS0erDsV5d"
      },
      "id": "RiOS0erDsV5d",
      "execution_count": 20,
      "outputs": []
    },
    {
      "cell_type": "code",
      "source": [
        "# for sec in reduced_dendritic_cell.all:\n",
        "#   print(sec.n3d())"
      ],
      "metadata": {
        "id": "ZqPuBX8UI4nN"
      },
      "id": "ZqPuBX8UI4nN",
      "execution_count": 21,
      "outputs": []
    },
    {
      "cell_type": "code",
      "source": [
        "# # try to fix dendrite's beginning location by looking at soma 3d coordinates:\n",
        "# for sec in [reduced_dendritic_cell.soma]:\n",
        "#   for i in range(sec.n3d()):\n",
        "#     print(sec.x3d(i),sec.y3d(i),sec.z3d(i))\n",
        "\n",
        "#soma has many 3d coordinates and current implementation begins dendrites at 3dcoordinates[1]"
      ],
      "metadata": {
        "id": "1loNS7qGmRQ1"
      },
      "id": "1loNS7qGmRQ1",
      "execution_count": 22,
      "outputs": []
    },
    {
      "cell_type": "markdown",
      "source": [
        "The next code block is old. it places synapses after reduction (instead of before, which maps them) "
      ],
      "metadata": {
        "id": "suR9EwjBQx4t"
      },
      "id": "suR9EwjBQx4t"
    },
    {
      "cell_type": "code",
      "source": [
        "# import random\n",
        "# #use defined cell_model class for generating 3d coordinates, recording ECP, 'book-keeping' etc...\n",
        "# random.seed(2)\n",
        "\n",
        "# # Create synaptic input\n",
        "# stim = h.NetStim()\n",
        "# frequency=15 #(hz)\n",
        "# spikeinterval = (1/frequency)*1000 #convert to T and milliseconds\n",
        "# stim.noise=0\n",
        "# stim.interval=spikeinterval\n",
        "# print(str(stim.interval))\n",
        "# stim.number = 3  # only one event\n",
        "# stim.start = 2.0  # delay (ms)\n",
        "\n",
        "# gmax = 1  # default synapse maximum conductance (uS)\n",
        "\n",
        "# if Reduce_cell==True:\n",
        "#   cell = cell_model(reduced_dendritic_cell,synapses_list=synapses_list,netcons_list=netcons_list,spike_threshold = 10)\n",
        "#   cell._nbranch=nbranches[0]\n",
        "#   # Add synapse to apical tufts\n",
        "#   tufts=[]\n",
        "#   for i,sec in enumerate(cell.apic):\n",
        "#     if i!=0: # do not add synapse to trunk\n",
        "#       tufts.append(sec)\n",
        "#       cell.add_synapse(stim, sec_index=cell.all.index(sec), gmax=gmax / cell._nbranch, loc=0.01) # need to adjust to only tufts\n",
        "# else:\n",
        "#   cell = cell_model(complex_cell,synapses_list=synapses_list,netcons_list=netcons_list,spike_threshold = 10)\n",
        "#   complex_branching_segment='L5PCtemplate[0].apic[36](0.961538)' #use to assign tuft synapses\n",
        "#   tufts=cell.apic[36].children()\n",
        "#   cell._nbranch=len(tufts) #determine branches starting from this branching point\n",
        "#   # Add synapse to apical tufts\n",
        "#   #indicate the complex branching segment # may have to observe complex cell first\n",
        "#   complex_branching_segment='L5PCtemplate[0].apic[36](0.961538)'\n",
        "#   for i,sec in enumerate(cell.apic[36].children()):\n",
        "#       cell.add_synapse(stim, sec_index=cell.all.index(sec), gmax=gmax / cell._nbranch, loc=0.01) # need to adjust to only tufts\n",
        "\n",
        "\n",
        "# Add synapse to soma\n",
        "cell.add_synapse(stim, sec_index=0, gmax=gmax)\n",
        "\n",
        "# Add synapse to apical tufts"
      ],
      "metadata": {
        "id": "rSTUwzTfqEX2"
      },
      "id": "rSTUwzTfqEX2",
      "execution_count": 23,
      "outputs": []
    },
    {
      "cell_type": "code",
      "source": [
        "cell._nbranch"
      ],
      "metadata": {
        "id": "fDL6ogju2IBW",
        "outputId": "af8458d0-fe53-4f31-d735-e5848d88007b",
        "colab": {
          "base_uri": "https://localhost:8080/"
        }
      },
      "id": "fDL6ogju2IBW",
      "execution_count": 24,
      "outputs": [
        {
          "output_type": "execute_result",
          "data": {
            "text/plain": [
              "22"
            ]
          },
          "metadata": {},
          "execution_count": 24
        }
      ]
    },
    {
      "cell_type": "code",
      "source": [
        "# # compare \n",
        "# for sec in cell.all:\n",
        "#   for i in range(sec.n3d()):\n",
        "#     print(sec.x3d(i))"
      ],
      "metadata": {
        "id": "4QUvM0h7JzFG"
      },
      "id": "4QUvM0h7JzFG",
      "execution_count": 25,
      "outputs": []
    },
    {
      "cell_type": "code",
      "source": [
        "# print(cell.seg_coords['pc'][0])"
      ],
      "metadata": {
        "id": "gE3JYuFhM1_6"
      },
      "id": "gE3JYuFhM1_6",
      "execution_count": 26,
      "outputs": []
    },
    {
      "cell_type": "code",
      "source": [
        "# dir(cell)"
      ],
      "metadata": {
        "id": "akYHQOGDKiW5"
      },
      "id": "akYHQOGDKiW5",
      "execution_count": 27,
      "outputs": []
    },
    {
      "cell_type": "code",
      "source": [
        "# make_reduced_seg_df(cell,\"segments_expanded.csv\") #need to improve make_reduced_seg_df\n",
        "# expanded_segments_df=pd.read_csv(\"segments_expanded.csv\")\n",
        "# plot_morphology(expanded_segments_df,\"expanded_morphology.svg\")"
      ],
      "metadata": {
        "id": "-ZwVHxQl5gLh"
      },
      "id": "-ZwVHxQl5gLh",
      "execution_count": 28,
      "outputs": []
    },
    {
      "cell_type": "code",
      "source": [
        "import os\n",
        "\n",
        "RunningInCOLAB = 'google.colab' in str(get_ipython())\n",
        "if RunningInCOLAB:\n",
        "    !pip install neuron==8.0.0 &> /dev/null\n",
        "    os.chdir('/content')\n",
        "    if not os.path.isdir('Stylized-Single-Cell-and-Extracellular-Potential'):\n",
        "        !git clone https://github.com/chenziao/Stylized-Single-Cell-and-Extracellular-Potential.git &> /dev/null \n",
        "    os.chdir('Stylized-Single-Cell-and-Extracellular-Potential')\n",
        "    %ls"
      ],
      "metadata": {
        "id": "D6vyubrwOvA_",
        "colab": {
          "base_uri": "https://localhost:8080/"
        },
        "outputId": "5427bd50-b2e1-4029-e6b1-f04abf01a9b8"
      },
      "id": "D6vyubrwOvA_",
      "execution_count": 29,
      "outputs": [
        {
          "output_type": "stream",
          "name": "stdout",
          "text": [
            "\u001b[0m\u001b[01;34mcell_inference\u001b[0m/  Stylized_Single_Cell_Extracellular_Potential_Tutorial.ipynb\n"
          ]
        }
      ]
    },
    {
      "cell_type": "code",
      "source": [
        "from cell_inference.config import params, paths\n",
        "from cell_inference.cells.activecell_axon import ReducedOrderL5Cell, ReducedOrderL5CellPassiveDendrite\n",
        "from cell_inference.utils.currents.ecp import EcpMod\n",
        "from cell_inference.utils.currents.recorder import Recorder\n",
        "from cell_inference.utils.plotting.plot_morphology import plot_morphology\n",
        "from cell_inference.utils.plotting.plot_results import plot_lfp_heatmap, plot_lfp_traces\n",
        "from cell_inference.utils.plotting.plot_variable_with_morphology import plot_variable_with_morphology\n",
        "from cell_inference.utils.metrics.measure_segment_distance import measure_segment_distance"
      ],
      "metadata": {
        "id": "X7p40K3RO1RQ"
      },
      "id": "X7p40K3RO1RQ",
      "execution_count": 30,
      "outputs": []
    },
    {
      "cell_type": "code",
      "source": [
        "h.dt = params.DT  # time step\n",
        "h.steps_per_ms = 1/h.dt\n",
        "h.tstop = params.TSTOP  # simulation stop time\n",
        "\n",
        "# Record time points\n",
        "t_vec = h.Vector(round(h.tstop / h.dt) + 1).record(h._ref_t)\n",
        "\n",
        "# Record membrane voltage of all segments\n",
        "V_rec = Recorder(cell.segments)"
      ],
      "metadata": {
        "id": "m_npKvVUO4JD"
      },
      "id": "m_npKvVUO4JD",
      "execution_count": 31,
      "outputs": []
    },
    {
      "cell_type": "markdown",
      "id": "22d6f6e6",
      "metadata": {
        "id": "22d6f6e6"
      },
      "source": [
        "### Add electrodes (Neuropixel)\n",
        "A probe with 384 electrodes [https://www.neuropixels.org/probe](https://www.neuropixels.org/probe). The coordinates of each electrode is a row in the array printed below."
      ]
    },
    {
      "cell_type": "code",
      "execution_count": 32,
      "id": "8fdb0017",
      "metadata": {
        "id": "8fdb0017",
        "colab": {
          "base_uri": "https://localhost:8080/"
        },
        "outputId": "2293e986-86fc-4453-f240-553c4561dadc"
      },
      "outputs": [
        {
          "output_type": "stream",
          "name": "stdout",
          "text": [
            "(384, 3)\n",
            "[[   -8. -1910.     0.]\n",
            " [   24. -1910.     0.]\n",
            " [  -24. -1890.     0.]\n",
            " ...\n",
            " [   24.  1890.     0.]\n",
            " [  -24.  1910.     0.]\n",
            " [    8.  1910.     0.]]\n"
          ]
        }
      ],
      "source": [
        "elec_pos = params.ELECTRODE_POSITION\n",
        "ecp = EcpMod(cell, elec_pos, min_distance=params.MIN_DISTANCE)  # create an ECP object for extracellular potential\n",
        "\n",
        "# coordinates (x, y, z) of electrodes\n",
        "print(params.ELECTRODE_POSITION.shape)\n",
        "print(params.ELECTRODE_POSITION)"
      ]
    },
    {
      "cell_type": "code",
      "source": [
        "# (cell.injection)"
      ],
      "metadata": {
        "id": "f4-rKitqRb3k"
      },
      "id": "f4-rKitqRb3k",
      "execution_count": 33,
      "outputs": []
    },
    {
      "cell_type": "markdown",
      "id": "c5323608",
      "metadata": {
        "id": "c5323608"
      },
      "source": [
        "## Custom settings\n",
        "\n",
        "Using the interactive tools below, you can change the position of the cell, and change the synapse strength and location on the cell.\n",
        "\n",
        "#### Cell position parameters (x, y, z, alpha, h, phi)\n",
        "Starting with soma at the origin, apical dendrite along y-axis, rotate and translate the cell to the desired position determined by 6 parameters. First, rotate alpha about the y-axis (spin), then rotate beta=arccos(h) about the x-axis (elevation), then rotate phi about the y-axis (azimuth). Finally translate the cell by (x,y,z).\n",
        "\n",
        "Use the sliders to change the 6 position parameters. Use the sliders 'elev' and 'azim' to change view of the 3D plot."
      ]
    },
    {
      "cell_type": "code",
      "source": [
        "# for sec in cell.apic:\n",
        "#   print(sec,sec.parentseg(), sec.n3d())"
      ],
      "metadata": {
        "id": "qGLMpaA7ME9p"
      },
      "id": "qGLMpaA7ME9p",
      "execution_count": 34,
      "outputs": []
    },
    {
      "cell_type": "code",
      "source": [
        "import matplotlib.pyplot as plt\n",
        "from matplotlib.figure import Figure\n",
        "from matplotlib.axes import Axes\n",
        "import numpy as np\n",
        "from typing import Union, Optional, List, Tuple\n",
        "\n",
        "from cell_inference.utils.currents.ecp import move_position\n",
        "from cell_inference.cells.stylizedcell import StylizedCell\n",
        "\n",
        "\n",
        "def plot_morphology(sim: Optional = None, cellid: Optional[int] = 0, cell: Optional[StylizedCell] = None,\n",
        "                    seg_coords: Optional[dict] = None, sec_nseg: Optional[List] = None,\n",
        "                    type_id: Optional[List] = None, electrodes: Optional[np.ndarray] = None,\n",
        "                    axes: Union[List[int], Tuple[int]] = [2, 0, 1], clr: Optional[List[str]] = None,\n",
        "                    elev: int = 20, azim: int = 10, move_cell: Optional[Union[List,np.ndarray]] = None,\n",
        "                    figsize: Optional[Tuple[float, float]] = None) -> Tuple[Figure, Axes]:\n",
        "    \"\"\"\n",
        "    Plot morphology in 3D.\n",
        "\n",
        "    sim: simulation object\n",
        "    cellid: cell id in the simulation object. Default: 0\n",
        "    cell: stylized cell object. Ignore sim and cellid if specified\n",
        "    seg_coords: if not using sim or cell, a dictionary that includes dl, pc, r\n",
        "    sec_nseg: if not using sim or cell, list of number of segments in each section\n",
        "    type_id:  if not using sim or cell, list of the swc type id of each section/segment\n",
        "    electrodes: electrode positions. Default: None, not shown.\n",
        "    axes: sequence of axes to display in 3d plot axes.\n",
        "        Default: [2,0,1] show z,x,y in 3d plot x,y,z axes, so y is upward.\n",
        "    clr: list of colors for each type of section\n",
        "    Return Figure object, Axes object\n",
        "    \"\"\"\n",
        "    if sim is None and cell is None:\n",
        "        if seg_coords is None or sec_nseg is None or type_id is None:\n",
        "            raise ValueError(\"If not using 'Simulation', input arguments 'seg_coords', 'sec_nseg', 'type_id' are required.\")\n",
        "        if clr is None:\n",
        "            clr = ('g', 'r', 'b', 'c')\n",
        "        if move_cell is None:\n",
        "            move_cell = [0., 0., 0., 0., 1., 0.]\n",
        "        sec_id_in_seg = np.cumsum([0] + list(sec_nseg[:-1]))\n",
        "        type_id = np.asarray(type_id) - 1\n",
        "        if type_id.size != len(sec_nseg):\n",
        "            type_id = type_id = type_id[sec_id_in_seg]\n",
        "        type_id = type_id.tolist()\n",
        "        label_idx = np.array([type_id.index(i) for i in range(4)])\n",
        "        lb_odr = np.argsort(label_idx)\n",
        "        label_idx = label_idx[lb_odr].tolist()\n",
        "        sec_name = np.array(('soma','axon','dend','apic'))[lb_odr]\n",
        "    else:\n",
        "        if clr is None:\n",
        "            clr = ('g', 'b', 'pink', 'purple', 'r', 'c')\n",
        "        if cell is None:\n",
        "            if move_cell is None:\n",
        "                move_cell = sim.loc_param[cellid, 0]\n",
        "            cell = sim.cells[cellid]\n",
        "        elif move_cell is None:\n",
        "            move_cell = [0., 0., 0., 0., 1., 0.]\n",
        "        seg_coords = cell.seg_coords\n",
        "        sec_id_in_seg = cell.sec_id_in_seg\n",
        "        sec_nseg = []\n",
        "        sec_name = []\n",
        "        label_idx = []\n",
        "        type_id = []\n",
        "        for i, sec in enumerate(cell.all):\n",
        "            sec_nseg.append(sec.nseg)\n",
        "            name = sec.name().split('.')[-1]\n",
        "            if name not in sec_name:\n",
        "                sec_name.append(name)\n",
        "                label_idx.append(i)\n",
        "            type_id.append(sec_name.index(name))\n",
        "    label_idx.append(-1)\n",
        "\n",
        "    move_cell = np.asarray(move_cell).reshape((2, 3))\n",
        "    dl = move_position([0., 0., 0.], move_cell[1], seg_coords['dl'])\n",
        "    pc = move_position(move_cell[0], move_cell[1], seg_coords['pc'])\n",
        "    xyz = 'xyz'\n",
        "    box = np.vstack([np.full(3, np.inf), np.full(3, np.NINF)])\n",
        "    if electrodes is not None:\n",
        "        box[0, axes[0:2]] = np.amin(electrodes[:, axes[0:2]], axis=0)\n",
        "        box[1, axes[0:2]] = np.amax(electrodes[:, axes[0:2]], axis=0)\n",
        "\n",
        "    fig = plt.figure(figsize=figsize)\n",
        "    ax = plt.axes(projection='3d')\n",
        "    lb_ptr = 0\n",
        "    for i, itype in enumerate(type_id):\n",
        "        label = sec_name[lb_ptr] if i == label_idx[lb_ptr] else None\n",
        "        if label is not None: lb_ptr += 1\n",
        "        i0 = sec_id_in_seg[i]\n",
        "        i1 = i0 + sec_nseg[i] - 1\n",
        "        if sec_name[itype] == 'soma':\n",
        "            p05 = (pc[i0] + pc[i1]) / 2\n",
        "            ax.scatter(*[p05[j] for j in axes], c=clr[itype], s=20, label=label)\n",
        "        else:\n",
        "            p0 = pc[i0] - dl[i0] / 2\n",
        "            p1 = pc[i1] + dl[i1] / 2\n",
        "            ax.plot3D(*[(p0[j], p1[j]) for j in axes], color=clr[itype], label=label)\n",
        "            box[0, :] = np.minimum(box[0, :], np.minimum(p0, p1))\n",
        "            box[1, :] = np.maximum(box[1, :], np.maximum(p0, p1))\n",
        "    ctr = np.mean(box, axis=0)\n",
        "    r = np.amax(box[1, :] - box[0, :]) / 2\n",
        "    box = np.vstack([ctr - r, ctr + r])\n",
        "    if electrodes is not None:\n",
        "        idx = np.logical_and(np.all(electrodes >= box[0, :], axis=1), np.all(electrodes <= box[1, :], axis=1))\n",
        "        ax.scatter(*[(electrodes[idx, j], electrodes[idx, j]) for j in axes], color='orange', s=5, label='electrodes')\n",
        "    box = box[:, axes]\n",
        "    ax.auto_scale_xyz(*box.T)\n",
        "    ax.view_init(elev, azim)\n",
        "    # ax.legend(loc=1)\n",
        "    ax.set_xlabel(xyz[axes[0]])\n",
        "    ax.set_ylabel(xyz[axes[1]])\n",
        "    ax.set_zlabel(xyz[axes[2]])\n",
        "    plt.show()\n",
        "    return fig, ax"
      ],
      "metadata": {
        "id": "eda71vXyA6Vt"
      },
      "id": "eda71vXyA6Vt",
      "execution_count": 35,
      "outputs": []
    },
    {
      "cell_type": "code",
      "source": [
        "# for sec in cell.apic:\n",
        "#   fullsecname = sec.name()\n",
        "#   sec_type = fullsecname.split(\".\")[1][:4]\n",
        "#   print(fullsecname)"
      ],
      "metadata": {
        "id": "wlsEX_R4Px7H"
      },
      "id": "wlsEX_R4Px7H",
      "execution_count": 36,
      "outputs": []
    },
    {
      "cell_type": "code",
      "execution_count": 37,
      "id": "a3df63ce",
      "metadata": {
        "id": "a3df63ce",
        "colab": {
          "base_uri": "https://localhost:8080/",
          "height": 813,
          "referenced_widgets": [
            "00bb83b914214676a641be42acd88ffe",
            "98ed7c00536f412c91ba1c8af997db6a",
            "0d402ce625c04fbab843f03785349f92",
            "9cc413908269450a960ad5cae3b017cb",
            "1179716ca18d4f50aa0555796a4d2063",
            "d2403ea56f5540a691f8548e484427ac",
            "24aab66baaa54cee880ae2c4c8f8c592",
            "425c0322a9f041b48aecb3b544099cf8",
            "395fa82f3f934e9f8bb22aa6d9084522",
            "ae7669357e2045b19df9de0ecee05475",
            "c0e1b5e4a71043cfa0e96c5489082aa3",
            "920e64b7a5d44ecebaf74be65acf9b42",
            "c7b4b2b6df3f4e409a4d0dcc3a7c5de5",
            "1c6a175f2eef4cecbca44d38fa4222e3",
            "381a23ed024f406e930abc95640aa483",
            "8db7f12d1262465a830123ebd4fd8915",
            "5da4813493c0473da173291d4e0d2bd0",
            "5a5de4bc7c83489fa113d55724e32286",
            "36c80c4d423e4583862afcf74088eb8a",
            "7775e483b68246beac7c5ba4a69b1ed7",
            "dbda5095714948faa460afc6094a03c5",
            "926b63ff4c3149bdace9cb2d9bddb666",
            "113648d90231438e88d59593e093b247",
            "5f50a23cd36e47f381cc6ab62462dd1c",
            "e5e2502e99a14d04817422c3cd704201",
            "776c786856e74e6ca0d70739fc68543b",
            "ff8fc2f4181c4c6d93c0f92d278281eb",
            "7690587ad030437b8ad0ed883674d710",
            "14706b165630464a82bc2b03f851d4b5",
            "b4c9beaa2bab40b39ed5e3cf06435db8",
            "da8f1b60fbd147f1b0f0d1d5b1fb9034",
            "5c55707f879046e18fdeaabf40687dbb",
            "5a28af4086264b66ba3e368e70f201e9",
            "74aa2ee4b2bf4ec4af22e0b662a94061",
            "be8df47660ed46aea36e905db0d6fbc6",
            "e77630f7a4214687802951ac9ec5b5e6",
            "519d0dc7e72e4ec4bf864982c805b693",
            "c0bc223145d240089d6dd0ab8eb2ca9f",
            "c5f68ca67739434d9c6b50bcf9dcb250",
            "3942ca73c59b45e284958ff134567f0e",
            "0a2000741b074285a5fff3f4952f301a"
          ]
        },
        "outputId": "13dfe53d-dffa-4e73-e047-5519cf811255"
      },
      "outputs": [
        {
          "output_type": "display_data",
          "data": {
            "text/plain": [
              "VBox(children=(Button(button_style='primary', description='Reset', icon='history', style=ButtonStyle()), HBox(…"
            ],
            "application/vnd.jupyter.widget-view+json": {
              "version_major": 2,
              "version_minor": 0,
              "model_id": "00bb83b914214676a641be42acd88ffe"
            }
          },
          "metadata": {}
        }
      ],
      "source": [
        "loc_param_default = [0., 0., 80., 0., 1., 0.]  # Default position parameters\n",
        "elev, azim = 10, 90  # Default view\n",
        "# clr = ['g', 'yellow', 'orange', 'red', 'b', 'c', 'g', 'yellow', 'orange', 'red', 'pink', 'purple']  # section color\n",
        "clr=[]\n",
        "clr.extend(['black' for i in range(len([cell.soma]))]) # soma color\n",
        "clr.extend(['red' for i in range(len(cell.dend))]) #dend colors\n",
        "clr.extend(['purple' for i  in range(len(cell.axon))]) # axon colors\n",
        "clr.extend(['blue']) #trunk color\n",
        "clr.extend(['green' for i in range(len(cell.apic)-1)])  # branch colors\n",
        "\n",
        "def interactive_plot(x, y, z, alpha, beta, phi, elev, azim):\n",
        "    global loc_param\n",
        "    loc_param = (x, y, z, np.pi/180*alpha, np.cos(np.pi/180*beta), np.pi/180*phi)\n",
        "    fig, ax = plot_morphology(cell=cell, electrodes=elec_pos, move_cell=loc_param,\n",
        "                    elev=-elev, azim=-azim, figsize=(12, 8), clr = clr)\n",
        "    plt.show()\n",
        "\n",
        "xslider = Layout(width='500px')\n",
        "yslider = Layout(height='350px')\n",
        "w_reset = widgets.Button(description='Reset', icon='history', button_style='primary')\n",
        "w_x = widgets.FloatSlider(value=loc_param_default[0], min=-200, max=200, step=1, description='x (um)', continuous_update=False, readout_format='.0f')\n",
        "w_y = widgets.FloatSlider(value=loc_param_default[1], min=-1000, max=1000, step=1, description='y (um)', continuous_update=False, readout_format='.0f')\n",
        "w_z = widgets.FloatSlider(value=loc_param_default[2], min=20, max=400, step=1, description='z (um)', continuous_update=False, readout_format='.0f')\n",
        "w_alpha = widgets.FloatSlider(value=180/np.pi*loc_param_default[3], min=-180, max=180, step=1, description='alpha (deg)', continuous_update=False, readout_format='.0f')\n",
        "w_beta = widgets.FloatSlider(value=180/np.pi*np.arccos(loc_param_default[4]), min=0, max=180, step=1, description='beta (deg)', continuous_update=False, readout_format='.0f')\n",
        "w_phi = widgets.FloatSlider(value=180/np.pi*loc_param_default[5], min=-180, max=180, step=1, description='phi (deg)', continuous_update=False, readout_format='.0f')\n",
        "w_elev = widgets.FloatSlider(value=-elev, min=-90, max=90, step=1, description='elev (deg)', continuous_update=False, readout_format='.0f', orientation='vertical', layout=yslider)\n",
        "w_azim = widgets.FloatSlider(value=-azim, min=-180, max=180, step=1, description='azim (deg)', continuous_update=False, readout_format='.0f', layout=xslider)\n",
        "\n",
        "def reset_default(*args):\n",
        "    w_x.value, w_y.value, w_z.value = loc_param_default[:3]\n",
        "    w_alpha.value = 180 / np.pi * loc_param_default[3]\n",
        "    w_beta.value = 180 / np.pi * np.arccos(loc_param_default[4])\n",
        "    w_phi.value = 180 / np.pi * loc_param_default[5]\n",
        "    w_elev.value, w_azim.value = -elev, -azim\n",
        "w_reset.on_click(reset_default)\n",
        "\n",
        "out = interactive_output(interactive_plot, {'x': w_x, 'y': w_y, 'z': w_z, 'alpha': w_alpha, 'beta': w_beta, 'phi': w_phi, 'elev': w_elev, 'azim': w_azim})\n",
        "ui = VBox([ w_reset, HBox([ VBox([w_x, w_y, w_z]), VBox([w_alpha, w_beta, w_phi]) ]), HBox([ VBox([out, w_azim]), w_elev]) ])\n",
        "\n",
        "display(ui)"
      ]
    },
    {
      "cell_type": "markdown",
      "source": [
        "set azim to -90 in order to focus on zy plane view. 2D plot is of xy plane."
      ],
      "metadata": {
        "id": "OPZrMhcBjnec"
      },
      "id": "OPZrMhcBjnec"
    },
    {
      "cell_type": "markdown",
      "id": "0d582310",
      "metadata": {
        "id": "0d582310"
      },
      "source": [
        "#### Set synaptic input\n",
        "\n",
        "Use the toggle button to switch synapse location between the soma and the proximal apical tuft dendrite. Use the slider 'Synapse maximal conductance' to change synapse strength."
      ]
    },
    {
      "cell_type": "code",
      "execution_count": 38,
      "id": "ce8d1856",
      "metadata": {
        "id": "ce8d1856",
        "colab": {
          "base_uri": "https://localhost:8080/",
          "height": 82,
          "referenced_widgets": [
            "b81d737b8b164f6599d9b2018cc99e75",
            "5869f5f16ec5468cb5bd1ba688e478e3",
            "08436b1f807948f18fb5986a70c453e9",
            "8fcb74a4633a40d897482f58a5b92d49",
            "25fe0f14d39a4df18cfc2e029b0683e1",
            "e8241a79ab71462196caac82dad2ef11",
            "4ab6769293544e0c93d6e07dad3da9d8",
            "6c79cc64f80a43c49e1c1cfb34aee5bb",
            "4b6cfc97c6a34a839c3cf68aca78fc99",
            "b1d5fc4ce0414d6fa90a6f2665042aba",
            "2dc0b54fed274ccdb428876f2c947067",
            "69f28565ec834ea2a59d16056cfbe9ed",
            "1f5a10b22784418b8e3e5d2de6195e4b"
          ]
        },
        "outputId": "939bb0cc-bcb5-491c-ade1-979ec008e789"
      },
      "outputs": [
        {
          "output_type": "display_data",
          "data": {
            "text/plain": [
              "VBox(children=(ToggleButtons(options=('Soma', 'Apical tuft (proximal)'), value='Soma'), HBox(children=(Label(v…"
            ],
            "application/vnd.jupyter.widget-view+json": {
              "version_major": 2,
              "version_minor": 0,
              "model_id": "b81d737b8b164f6599d9b2018cc99e75"
            }
          },
          "metadata": {}
        }
      ],
      "source": [
        "w_syn_site = widgets.ToggleButtons(options=['Soma', 'Apical tuft (proximal)'])\n",
        "w_gmax = widgets.FloatSlider(value=gmax, min=0, max=0.1, step=0.0002, readout_format='.4f')\n",
        "display(VBox([w_syn_site, HBox([Label('Synapse maximal conductance (uS)'), w_gmax])]))\n",
        "\n",
        "def set_synapse():\n",
        "    soma_syn = w_syn_site.value == 'Soma'\n",
        "    gmax_soma = w_gmax.value if soma_syn else 0\n",
        "    gmax_tuft = 0 if soma_syn else w_gmax.value / cell._nbranch\n",
        "    cell.synapse[0].set_gmax(gmax_soma)\n",
        "    for syn in cell.synapse[1:]:\n",
        "        syn.set_gmax(gmax_tuft)"
      ]
    },
    {
      "cell_type": "code",
      "source": [
        "# try to extract syn and gmax for plot information\n",
        "print(w_gmax)\n",
        "print(w_syn_site)"
      ],
      "metadata": {
        "colab": {
          "base_uri": "https://localhost:8080/"
        },
        "id": "nqUJhNE_22Nn",
        "outputId": "97891a79-4e7d-4941-fc66-81d627d060f3"
      },
      "id": "nqUJhNE_22Nn",
      "execution_count": 39,
      "outputs": [
        {
          "output_type": "stream",
          "name": "stdout",
          "text": [
            "FloatSlider(value=0.1, max=0.1, readout_format='.4f', step=0.0002)\n",
            "ToggleButtons(options=('Soma', 'Apical tuft (proximal)'), value='Soma')\n"
          ]
        }
      ]
    },
    {
      "cell_type": "code",
      "source": [
        "# nseg = len(cell.segments)\n",
        "# numTstep = int(h.tstop/h.dt)\n",
        "# #since synapse list has combined synapses for computational efficiency, we must use NetCon list/unique spike trains to determine how many synapses were mapped\n",
        "# NetCon_per_seg=[0]*nseg\n",
        "# inh_NetCon_per_seg=[0]*nseg\n",
        "# exc_NetCon_per_seg=[0]*nseg\n",
        "\n",
        "# i_NMDA_bySeg= [[0] * (numTstep+1) ] * nseg # need to implement inmda recording\n",
        "\n",
        "# v_rest=-60 #choose v_rest for categorizing inh/exc synapses\n",
        "\n",
        "# for netcon in cell.netcons_list:\n",
        "#   syn=netcon.syn()\n",
        "#   if syn in synapses_list:\n",
        "#     syn_seg_id=cell.segments.index(netcon.syn().get_segment())\n",
        "#     if syn in cell.segments[syn_seg_id].point_processes():\n",
        "#       NetCon_per_seg[syn_seg_id]+=1 # get synapses per segment\n",
        "#       # NetCon_per_seg[syn_seg_id].append(netcon) # possible implementation if needing objects per segment\n",
        "#       if syn.e > v_rest:\n",
        "#         exc_NetCon_per_seg[syn_seg_id]+=1\n",
        "#         # exc_NetCon_per_seg[syn_seg_id].append(netcon)# possible implementation if needing objects per segment\n",
        "#       else:\n",
        "#         inh_NetCon_per_seg[syn_seg_id]+=1\n",
        "#         # inh_NetCon_per_seg[syn_seg_id].append(netcon)# possible implementation if needing objects per segment\n",
        "#     else:\n",
        "#       print(\"Warning: synapse not in designated segment's point processes\")\n",
        "\n",
        "#   else:\n",
        "#     print(\"Warning: potentially deleted synapse:\",\"|NetCon obj:\",netcon,\"|Synapse obj:\",syn,\"the NetCon's synapse is not in synapses_list. Check corresponding original cell's NetCon for location, etc.\")\n",
        "\n",
        "# #extract inmda from each segment # can be adjusted for gaba synapses or alpha synapses # only paired nmda/ampa synapses have vec_list[1]\n",
        "# for synapse in cell.synapse:\n",
        "#   try:\n",
        "#     i_NMDA = np.array(synapse.rec_vec.vec_list[1])            #current = numpy array of NEURON Vector of current NMDA current at synapse j  \n",
        "#     seg = synapse.get_segment_id()                            #seg = the segment in which synapse j is located \n",
        "#     #print('first try')\n",
        "    \n",
        "#     try:\n",
        "#       i_NMDA_bySeg[seg] = i_NMDA_bySeg[seg] + i_NMDA    \n",
        "#       #print('second try')                                           #Sum current over each segment\n",
        "#     except: \n",
        "#       pass                                                                   #Except needed as some synpases do not have NMDA currrent and throw an error when called\n",
        "#   except:\n",
        "#     pass"
      ],
      "metadata": {
        "id": "-tri29bnwjC6"
      },
      "id": "-tri29bnwjC6",
      "execution_count": 40,
      "outputs": []
    },
    {
      "cell_type": "code",
      "source": [
        "%ls"
      ],
      "metadata": {
        "colab": {
          "base_uri": "https://localhost:8080/"
        },
        "id": "ynXvkXxb1dST",
        "outputId": "3813fec6-421f-4304-bf85-2d8ef6b68bb0"
      },
      "id": "ynXvkXxb1dST",
      "execution_count": 41,
      "outputs": [
        {
          "output_type": "stream",
          "name": "stdout",
          "text": [
            "\u001b[0m\u001b[01;34mcell_inference\u001b[0m/  Stylized_Single_Cell_Extracellular_Potential_Tutorial.ipynb\n"
          ]
        }
      ]
    },
    {
      "cell_type": "code",
      "source": [
        "cell.get_recorder_data() #also creates directory"
      ],
      "metadata": {
        "colab": {
          "base_uri": "https://localhost:8080/"
        },
        "id": "LQBCnpfD0F5S",
        "outputId": "0c2e7c93-74c9-4838-a23f-117d0a77e68e"
      },
      "id": "LQBCnpfD0F5S",
      "execution_count": 42,
      "outputs": [
        {
          "output_type": "stream",
          "name": "stdout",
          "text": [
            "Outputting data to  20.0outputcontrol_108nbranch_23NCs_0nsyn_642nseg\n"
          ]
        },
        {
          "output_type": "execute_result",
          "data": {
            "text/plain": [
              "{'spikes': array([], dtype=float64),\n",
              " 'ih_data': array([[0., 0., 0., ..., 0., 0., 0.],\n",
              "        [0., 0., 0., ..., 0., 0., 0.],\n",
              "        [0., 0., 0., ..., 0., 0., 0.],\n",
              "        ...,\n",
              "        [0., 0., 0., ..., 0., 0., 0.],\n",
              "        [0., 0., 0., ..., 0., 0., 0.],\n",
              "        [0., 0., 0., ..., 0., 0., 0.]]),\n",
              " 'gNaTa_T_data': array([[0., 0., 0., ..., 0., 0., 0.],\n",
              "        [0., 0., 0., ..., 0., 0., 0.],\n",
              "        [0., 0., 0., ..., 0., 0., 0.],\n",
              "        ...,\n",
              "        [0., 0., 0., ..., 0., 0., 0.],\n",
              "        [0., 0., 0., ..., 0., 0., 0.],\n",
              "        [0., 0., 0., ..., 0., 0., 0.]]),\n",
              " 'ina_data': array([[0., 0., 0., ..., 0., 0., 0.],\n",
              "        [0., 0., 0., ..., 0., 0., 0.],\n",
              "        [0., 0., 0., ..., 0., 0., 0.],\n",
              "        ...,\n",
              "        [0., 0., 0., ..., 0., 0., 0.],\n",
              "        [0., 0., 0., ..., 0., 0., 0.],\n",
              "        [0., 0., 0., ..., 0., 0., 0.]]),\n",
              " 'icah_data': array([[0., 0., 0., ..., 0., 0., 0.],\n",
              "        [0., 0., 0., ..., 0., 0., 0.],\n",
              "        [0., 0., 0., ..., 0., 0., 0.],\n",
              "        ...,\n",
              "        [0., 0., 0., ..., 0., 0., 0.],\n",
              "        [0., 0., 0., ..., 0., 0., 0.],\n",
              "        [0., 0., 0., ..., 0., 0., 0.]]),\n",
              " 'ical_data': array([[0., 0., 0., ..., 0., 0., 0.],\n",
              "        [0., 0., 0., ..., 0., 0., 0.],\n",
              "        [0., 0., 0., ..., 0., 0., 0.],\n",
              "        ...,\n",
              "        [0., 0., 0., ..., 0., 0., 0.],\n",
              "        [0., 0., 0., ..., 0., 0., 0.],\n",
              "        [0., 0., 0., ..., 0., 0., 0.]]),\n",
              " 'Vm': array([[0., 0., 0., ..., 0., 0., 0.],\n",
              "        [0., 0., 0., ..., 0., 0., 0.],\n",
              "        [0., 0., 0., ..., 0., 0., 0.],\n",
              "        ...,\n",
              "        [0., 0., 0., ..., 0., 0., 0.],\n",
              "        [0., 0., 0., ..., 0., 0., 0.],\n",
              "        [0., 0., 0., ..., 0., 0., 0.]]),\n",
              " 'i_NMDA':      0    1    2    3    4    5    6    7    8    9    ...  791  792  793  \\\n",
              " 0      0    0    0    0    0    0    0    0    0    0  ...    0    0    0   \n",
              " 1      0    0    0    0    0    0    0    0    0    0  ...    0    0    0   \n",
              " 2      0    0    0    0    0    0    0    0    0    0  ...    0    0    0   \n",
              " 3      0    0    0    0    0    0    0    0    0    0  ...    0    0    0   \n",
              " 4      0    0    0    0    0    0    0    0    0    0  ...    0    0    0   \n",
              " ..   ...  ...  ...  ...  ...  ...  ...  ...  ...  ...  ...  ...  ...  ...   \n",
              " 637    0    0    0    0    0    0    0    0    0    0  ...    0    0    0   \n",
              " 638    0    0    0    0    0    0    0    0    0    0  ...    0    0    0   \n",
              " 639    0    0    0    0    0    0    0    0    0    0  ...    0    0    0   \n",
              " 640    0    0    0    0    0    0    0    0    0    0  ...    0    0    0   \n",
              " 641    0    0    0    0    0    0    0    0    0    0  ...    0    0    0   \n",
              " \n",
              "      794  795  796  797  798  799  800  \n",
              " 0      0    0    0    0    0    0    0  \n",
              " 1      0    0    0    0    0    0    0  \n",
              " 2      0    0    0    0    0    0    0  \n",
              " 3      0    0    0    0    0    0    0  \n",
              " 4      0    0    0    0    0    0    0  \n",
              " ..   ...  ...  ...  ...  ...  ...  ...  \n",
              " 637    0    0    0    0    0    0    0  \n",
              " 638    0    0    0    0    0    0    0  \n",
              " 639    0    0    0    0    0    0    0  \n",
              " 640    0    0    0    0    0    0    0  \n",
              " 641    0    0    0    0    0    0    0  \n",
              " \n",
              " [642 rows x 801 columns],\n",
              " 'i_AMPA':      0    1    2    3    4    5    6    7    8    9    ...  791  792  793  \\\n",
              " 0      0    0    0    0    0    0    0    0    0    0  ...    0    0    0   \n",
              " 1      0    0    0    0    0    0    0    0    0    0  ...    0    0    0   \n",
              " 2      0    0    0    0    0    0    0    0    0    0  ...    0    0    0   \n",
              " 3      0    0    0    0    0    0    0    0    0    0  ...    0    0    0   \n",
              " 4      0    0    0    0    0    0    0    0    0    0  ...    0    0    0   \n",
              " ..   ...  ...  ...  ...  ...  ...  ...  ...  ...  ...  ...  ...  ...  ...   \n",
              " 637    0    0    0    0    0    0    0    0    0    0  ...    0    0    0   \n",
              " 638    0    0    0    0    0    0    0    0    0    0  ...    0    0    0   \n",
              " 639    0    0    0    0    0    0    0    0    0    0  ...    0    0    0   \n",
              " 640    0    0    0    0    0    0    0    0    0    0  ...    0    0    0   \n",
              " 641    0    0    0    0    0    0    0    0    0    0  ...    0    0    0   \n",
              " \n",
              "      794  795  796  797  798  799  800  \n",
              " 0      0    0    0    0    0    0    0  \n",
              " 1      0    0    0    0    0    0    0  \n",
              " 2      0    0    0    0    0    0    0  \n",
              " 3      0    0    0    0    0    0    0  \n",
              " 4      0    0    0    0    0    0    0  \n",
              " ..   ...  ...  ...  ...  ...  ...  ...  \n",
              " 637    0    0    0    0    0    0    0  \n",
              " 638    0    0    0    0    0    0    0  \n",
              " 639    0    0    0    0    0    0    0  \n",
              " 640    0    0    0    0    0    0    0  \n",
              " 641    0    0    0    0    0    0    0  \n",
              " \n",
              " [642 rows x 801 columns]}"
            ]
          },
          "metadata": {},
          "execution_count": 42
        }
      ]
    },
    {
      "cell_type": "code",
      "source": [
        "# output_folder_name=str(nbranches[0])+\"nbranch_outputcontrol_\"+str(int(len(cell.synapse)))+\"nsyn\"#+modelname  #include model name in output foler name (ex. original cell, reduced cell, expanded cell)\n",
        "# #create output folder\n",
        "# import os\n",
        "# if not os.path.exists(output_folder_name):\n",
        "#    os.makedirs(output_folder_name)\n",
        "\n",
        "# print(output_folder_name)\n",
        "# os.chdir(output_folder_name)"
      ],
      "metadata": {
        "id": "LeeK1qu11Zhv"
      },
      "id": "LeeK1qu11Zhv",
      "execution_count": 43,
      "outputs": []
    },
    {
      "cell_type": "code",
      "source": [
        "#save geometry file\n",
        "# cell.geometry.to_csv('geometry.csv')"
      ],
      "metadata": {
        "id": "2dNBijayE1zu"
      },
      "id": "2dNBijayE1zu",
      "execution_count": 44,
      "outputs": []
    },
    {
      "cell_type": "code",
      "source": [
        "# #Should add \"syn per seg\" to seg data frame #also can try doing SynPerSeg/segL to have more of a density metric\n",
        "# #can adjust functions to take df arguement\n",
        "# def plotSynDensity(SynPerSeg,Type=str):\n",
        "#   plt.figure(figsize=(4,10))\n",
        "#   ax = plt.scatter(expanded_segments_df[\"Coord X\"], expanded_segments_df[\"Coord Y\"],c = SynPerSeg[0:nseg],cmap='jet',)\n",
        "#   plt.vlines(110,400,500)\n",
        "#   plt.text(0,450,'100 um')\n",
        "#   plt.hlines(400,110,210)\n",
        "#   plt.text(110,350,'100 um')\n",
        "#   plt.xticks([])\n",
        "#   plt.yticks([])\n",
        "#   cbar = plt.colorbar()\n",
        "#   cbar.ax.set_ylabel(Type+'Synapses per segment', rotation=270)\n",
        "\n",
        "#   plt.box(False)\n",
        "#   plt.savefig(Type+'_syns.svg')\n",
        "\n",
        "# def plotSynDensityNoSoma(SynPerSeg,Type=str):\n",
        "#   plt.figure(figsize=(4,10))\n",
        "#   ax = plt.scatter(expanded_segments_df[\"Coord X\"][1:], expanded_segments_df[\"Coord Y\"][1:],c = SynPerSeg[1:nseg],cmap='jet',)\n",
        "#   plt.vlines(110,400,500)\n",
        "#   plt.text(0,450,'100 um')\n",
        "#   plt.hlines(400,110,210)\n",
        "#   plt.text(110,350,'100 um')\n",
        "#   plt.xticks([])\n",
        "#   plt.yticks([])\n",
        "#   cbar = plt.colorbar()\n",
        "#   cbar.ax.set_ylabel(Type+'Synapses per segment', rotation=270)\n",
        "\n",
        "#   plt.box(False)\n",
        "#   plt.savefig(Type+'_syns.svg')\n",
        "\n",
        "# plotSynDensity(exc_NetCon_per_seg,'Exc') #len(cell.segments) #low number of segments makes plot look odd."
      ],
      "metadata": {
        "id": "ZtC6mvhXwL-L"
      },
      "id": "ZtC6mvhXwL-L",
      "execution_count": 45,
      "outputs": []
    },
    {
      "cell_type": "code",
      "source": [
        "# plotSynDensity(inh_NetCon_per_seg,'Inh') # if soma has too many inh synapses the heatmap is not as interpretable"
      ],
      "metadata": {
        "id": "AuPzXdSdwhme"
      },
      "id": "AuPzXdSdwhme",
      "execution_count": 46,
      "outputs": []
    },
    {
      "cell_type": "code",
      "source": [
        "# print(cell.seg_coords)"
      ],
      "metadata": {
        "id": "TsqdpMMmzNbX"
      },
      "id": "TsqdpMMmzNbX",
      "execution_count": 47,
      "outputs": []
    },
    {
      "cell_type": "code",
      "source": [
        "# dir(synapses_list[0])"
      ],
      "metadata": {
        "id": "FpvT5pX-adYG"
      },
      "id": "FpvT5pX-adYG",
      "execution_count": 48,
      "outputs": []
    },
    {
      "cell_type": "code",
      "source": [
        "# y=[netcon for netcon in netcons_list]"
      ],
      "metadata": {
        "id": "RL2ZuF87Z1ab"
      },
      "id": "RL2ZuF87Z1ab",
      "execution_count": 49,
      "outputs": []
    },
    {
      "cell_type": "markdown",
      "id": "2ca15375",
      "metadata": {
        "id": "2ca15375"
      },
      "source": [
        "## Run simulation and plot results\n",
        "\n",
        "Run the codes below to simulate and display results everytime after you change the parameters above."
      ]
    },
    {
      "cell_type": "code",
      "execution_count": 58,
      "id": "f81ec874",
      "metadata": {
        "id": "f81ec874",
        "colab": {
          "base_uri": "https://localhost:8080/",
          "height": 1000
        },
        "outputId": "793e58da-51c9-4848-d739-a96e616cd473"
      },
      "outputs": [
        {
          "output_type": "display_data",
          "data": {
            "text/plain": [
              "<Figure size 1000x400 with 1 Axes>"
            ],
            "image/png": "[encoded data removed]"
          },
          "metadata": {}
        },
        {
          "output_type": "display_data",
          "data": {
            "text/plain": [
              "<Figure size 800x500 with 2 Axes>"
            ],
            "image/png": "[encoded data removed]"
          },
          "metadata": {}
        },
        {
          "output_type": "display_data",
          "data": {
            "text/plain": [
              "<Figure size 800x500 with 2 Axes>"
            ],
            "image/png": "[encoded data removed]"
          },
          "metadata": {}
        }
      ],
      "source": [
        "# Run simulation\n",
        "set_synapse()\n",
        "h.run()\n",
        "# Get results\n",
        "t = t_vec.as_numpy().copy()  # time array (ms)\n",
        "# soma membrane potential\n",
        "Vm = V_rec.as_numpy()\n",
        "v_soma = Vm[cell.sec_id_in_seg[cell.all.index(cell.soma)]]\n",
        "v_tfut = Vm[cell.sec_id_in_seg[cell.all.index(tufts[0])]]\n",
        "# lfp array\n",
        "lfp = ecp.calc_ecp(move_cell=loc_param).T  # unit: mV\n",
        "\n",
        "# Soma membrane potential\n",
        "plt.figure(figsize=(10, 4))\n",
        "plt.plot(t, v_soma, label='Soma')\n",
        "plt.plot(t, v_tfut, label='Tuft')\n",
        "plt.ylabel('Membrane potential (mV)')\n",
        "plt.xlabel('time (ms)')\n",
        "plt.xlim(t[[0, -1]])\n",
        "plt.legend()\n",
        "plt.savefig('Vm')\n",
        "\n",
        "# Extracellular potential along y-axis\n",
        "y_window = [-1200, 1200]  # select range of y coordinate for plotting\n",
        "ylim = loc_param[1] + np.array(y_window)  # set range of y coordinate\n",
        "max_idx = np.argmax(np.amax(np.abs(lfp), axis=0))  # find the electrode that records maximum magnitude\n",
        "x_dist = elec_pos[max_idx, 0]  # x coordinate of the maximum magnitude electrode\n",
        "e_idx = (elec_pos[:, 0]==x_dist) & (elec_pos[:, 1]>=ylim[0]) & (elec_pos[:, 1]<=ylim[1])  # selected electrode indices\n",
        "\n",
        "fontsize = 15\n",
        "labelpad = -10\n",
        "ticksize = 12\n",
        "tick_length = 5\n",
        "nbins = 5\n",
        "plt.figure(figsize=(8, 5))\n",
        "_ = plot_lfp_heatmap(t=t, elec_d=elec_pos[e_idx, 1], lfp=lfp[:, e_idx],\n",
        "                     fontsize=fontsize, labelpad=labelpad, ticksize=ticksize, tick_length=tick_length,\n",
        "                     nbins=nbins, vlim='auto', axes=plt.gca())\n",
        "plt.title('Extracellular potential heatmap')\n",
        "plt.savefig('ECP heatmap')\n",
        "plt.figure(figsize=(8, 5))\n",
        "_ = plot_lfp_traces(t, lfp[:, e_idx][:,1::3], electrodes=elec_pos[e_idx][1::3],\n",
        "                    fontsize=fontsize, labelpad=labelpad, ticksize=ticksize, tick_length=tick_length,\n",
        "                    nbins=nbins, axes=plt.gca())\n",
        "plt.title('Extracellular potential timecourse')\n",
        "plt.savefig('ECP timecourse')\n",
        "\n",
        "plt.show()"
      ]
    },
    {
      "cell_type": "markdown",
      "id": "5c3e3e52",
      "metadata": {
        "id": "5c3e3e52"
      },
      "source": [
        "## Electrotonic distance\n",
        "\n",
        "Neuron has a tool for electrotonic analysis [https://www.neuron.yale.edu/neuron/static/docs/zclass/zclass.html](https://www.neuron.yale.edu/neuron/static/docs/zclass/zclass.html). It computes the electrotonic distance defined by attenuation, but the classical definition is [anatomical distance/length constant](https://www.neuron.yale.edu/neuron/static/docs/zclass/NIPS94/nipsfin.html).\n",
        "\n",
        "The plot below shows the membrane potential timecourse at several locations on the cell. The electrotonic distance computed by Neuron of each location is also shown with both number and color. The distance should always be a positive value, but it is labeled negative for the basal dendrites and the axon intentionally so that it can be easily distinguished from the apical dendrites."
      ]
    },
    {
      "cell_type": "code",
      "source": [],
      "metadata": {
        "id": "D0amv-Dd-2Ij"
      },
      "id": "D0amv-Dd-2Ij",
      "execution_count": 50,
      "outputs": []
    },
    {
      "cell_type": "code",
      "source": [
        "# geometry=cell.geometry"
      ],
      "metadata": {
        "id": "cNsNKTKuB0XA"
      },
      "id": "cNsNKTKuB0XA",
      "execution_count": 51,
      "outputs": []
    },
    {
      "cell_type": "code",
      "execution_count": 52,
      "id": "729a65ff",
      "metadata": {
        "id": "729a65ff"
      },
      "outputs": [],
      "source": [
        "# for syn in cell.synapse:\n",
        "#     syn.set_gmax(0)\n",
        "# h.run()\n",
        "\n",
        "# sec_type_swc = {sec['name']: sec['type'] for _, sec in geometry.iterrows()}\n",
        "# # sec_type = [sec_type_swc[sec.name().split('.')[-1]] for sec in cell.all] # original\n",
        "# # sec_type = [sec_type_swc[sec.name().split('.')[-1].split('[')[0]] for sec in cell.all] # possible alternative?\n",
        "# sec_type = [sec_type_swc[sec.name()] for sec in cell.all]\n",
        "# freq = 0 # Hz\n",
        "# seg_prop, _, _ = measure_segment_distance(cell.soma , cell.all, sec_type, freq)\n",
        "\n",
        "# select_seg = [[cell.sec_id_in_seg[sec[0]], cell.get_sec_by_id(sec[0]).nseg -1] for sec in cell.sec_id_lookup.values()]\n",
        "# select_seg = np.sum(np.array(select_seg), axis=1)\n",
        "# # select_seg = np.unique(np.cumsum(np.array(select_seg), axis=1).ravel())\n",
        "# _ = plot_variable_with_morphology(cell.seg_coords, seg_prop, Vm, t=t, axes=['x', 'y'],\n",
        "#                                   distance_type='elec_dist', n_dist=300,\n",
        "#                                   select_seg=select_seg, max_per_dist=1, varname='Membrane potential (mV)',\n",
        "#                                   space=2., normalized_space=True, sort_by_dist=True,\n",
        "                                  # figsize=(10, 10), fontsize=15, scalebar_size=50)"
      ]
    },
    {
      "cell_type": "markdown",
      "source": [
        "##Transfer Impedance\n",
        "\n"
      ],
      "metadata": {
        "id": "Tc1fFLPUz5Qe"
      },
      "id": "Tc1fFLPUz5Qe"
    },
    {
      "cell_type": "code",
      "execution_count": 53,
      "id": "be859ed7",
      "metadata": {
        "id": "be859ed7"
      },
      "outputs": [],
      "source": [
        "# import numpy as np\n",
        "# from neuron import h\n",
        "# import cmath\n",
        "\n",
        "# def measure_segment_transfer_impedance(soma, section_list, sec_type, freq=0, extracellular_mechanism=True):\n",
        "#     \"\"\"\n",
        "#     soma: soma section object\n",
        "#     section_list: list of sections\n",
        "#     sec_type: list of swc type id of sections\n",
        "#     freq: frequency (Hz) at which electrotonic distance is evaluated\n",
        "#     extracellular_mechanism: whether extracellular mechanism is used\n",
        "#     \"\"\"\n",
        "#     seg_prop = {}\n",
        "#     swc_type = []\n",
        "#     seg_area = []\n",
        "#     seg_dist = []\n",
        "#     seg_length = []\n",
        "#     elec_dist = [] #modulus part of polar form #should change names\n",
        "#     elec_dist0 = [] #modulus of polar form #should change names\n",
        "#     transfer_imps = [] #real part of rectangular form\n",
        "#     transfer_imps0 = [] # real part of rectangular form\n",
        "\n",
        "#     # set up distance origin\n",
        "#     h.distance(0, soma(.5))\n",
        "#     # set up electrotonic origin\n",
        "#     zz = h.Impedance()\n",
        "#     zz.loc(soma(.5))\n",
        "#     if extracellular_mechanism:\n",
        "#         zz.compute(freq + 1 / 9e9, 0) #*\n",
        "#     else:\n",
        "#         zz.compute(freq, 1)\n",
        "#     # measure distance\n",
        "#     for i, sec in enumerate(section_list):\n",
        "#         if sec_type[i]==1:\n",
        "#             transfer_imp=zz.transfer(sec(0.5/sec.nseg)) #*\n",
        "#             transfer_phase=zz.transfer_phase(sec(0.5/sec.nseg)) #*\n",
        "#             elec_dist0.append(transfer_imp) #*\n",
        "#             rect_complex=cmath.rect(transfer_imp,transfer_phase)\n",
        "#             transfer_imps.append(rect_complex.real) #*\n",
        "#         else:\n",
        "#             transfer_imp=zz.transfer(sec.parentseg()) #*\n",
        "#             transfer_phase=zz.transfer_phase(sec.parentseg()) #*\n",
        "#             elec_dist0.append(transfer_imp) #*\n",
        "#             rect_complex=cmath.rect(transfer_imp, transfer_phase) #*\n",
        "#             transfer_imps.append(rect_complex.real) #*\n",
        "#         for j, seg in enumerate(sec):\n",
        "#             swc_type.append(sec_type[i])\n",
        "#             seg_area.append(seg.area())\n",
        "#             seg_dist.append(h.distance(seg))\n",
        "#             seg_length.append(sec.L/sec.nseg)\n",
        "#             if j!=0:\n",
        "#                 elec_dist0.append(elec_dist[-1])\n",
        "#                 transfer_imps.append(transfer_imps0[-1])\n",
        "#             elec_dist.append(zz.transfer(seg)) #*\n",
        "#             transfer_imp=zz.transfer(seg) #*\n",
        "#             transfer_phase=zz.transfer_phase(seg) #*\n",
        "#             rect_complex=cmath.rect(transfer_imp,transfer_phase) #*\n",
        "#             transfer_imps0.append(rect_complex.real) #*\n",
        "\n",
        "#     seg_prop['swc_type'] = np.array(swc_type)\n",
        "#     seg_prop['seg_area'] = np.array(seg_area)\n",
        "\n",
        "#     # distance at endpoints of each segment\n",
        "#     seg_prop['distance'] = np.expand_dims(seg_dist, 1) + np.expand_dims(seg_length, 1) / 2 * np.array([[-1, 1]])\n",
        "#     # seg_prop['transfer_imp'] = np.sort(np.log(elec_dist0[0]) - np.log(np.column_stack([elec_dist0, elec_dist])), axis=1) #*\n",
        "#     seg_prop['transfer_imp_mod'] = np.sort(elec_dist0[0] - np.column_stack([elec_dist0, elec_dist]), axis=1) #*\n",
        "#     seg_prop['transfer_imp_real'] = np.sort(transfer_imps[0] - np.column_stack([transfer_imps, transfer_imps0]), axis=1) #*\n",
        "\n",
        "\n",
        "#     # change sign of basal and axon types\n",
        "#     idx = np.nonzero((seg_prop['swc_type']==2) | (seg_prop['swc_type']==3))[0]\n",
        "#     seg_prop['distance'][idx] = -seg_prop['distance'][idx,::-1]\n",
        "#     seg_prop['transfer_imp_mod'][idx] = -seg_prop['transfer_imp_mod'][idx,::-1] #*\n",
        "#     seg_prop['transfer_imp_real'][idx] = -seg_prop['transfer_imp_real'][idx,::-1] #*\n",
        "#     return seg_prop, zz.transfer(soma(.5)), zz.transfer_phase(soma(.5))\n"
      ]
    },
    {
      "cell_type": "code",
      "source": [
        "# #using modulus of polar form\n",
        "\n",
        "# for syn in cell.synapse:\n",
        "#     syn.set_gmax(0)\n",
        "# h.run()\n",
        "\n",
        "# sec_type_swc = {sec['name']: sec['type'] for _, sec in geometry.iterrows()}\n",
        "# sec_type = [sec_type_swc[sec.name().split('.')[-1]] for sec in cell.all]\n",
        "# freq = 0 # Hz\n",
        "# seg_prop, _, _ = measure_segment_transfer_impedance(cell.soma , cell.all, sec_type, freq)\n",
        "\n",
        "# select_seg = [[cell.sec_id_in_seg[sec[0]], cell.get_sec_by_id(sec[0]).nseg -1] for sec in cell.sec_id_lookup.values()]\n",
        "# select_seg = np.sum(np.array(select_seg), axis=1)\n",
        "# # select_seg = np.unique(np.cumsum(np.array(select_seg), axis=1).ravel())\n",
        "# _ = plot_variable_with_morphology(cell.seg_coords, seg_prop, Vm, t=t, axes=['x', 'y'],\n",
        "#                                   distance_type='transfer_imp_mod', n_dist=300,\n",
        "#                                   select_seg=select_seg, max_per_dist=1, varname='Membrane potential (mV)',\n",
        "#                                   space=2., normalized_space=True, sort_by_dist=True,\n",
        "#                                   figsize=(10, 10), fontsize=15, scalebar_size=50)"
      ],
      "metadata": {
        "id": "yHRymM0L5pJj"
      },
      "id": "yHRymM0L5pJj",
      "execution_count": 54,
      "outputs": []
    },
    {
      "cell_type": "code",
      "source": [
        "# #using real part of rectangular complex form\n",
        "\n",
        "# for syn in cell.synapse:\n",
        "#     syn.set_gmax(0)\n",
        "# h.run()\n",
        "\n",
        "# sec_type_swc = {sec['name']: sec['type'] for _, sec in geometry.iterrows()}\n",
        "# sec_type = [sec_type_swc[sec.name().split('.')[-1]] for sec in cell.all]\n",
        "# freq = 0 # Hz\n",
        "# seg_prop, _, _ = measure_segment_transfer_impedance(cell.soma , cell.all, sec_type, freq)\n",
        "\n",
        "# select_seg = [[cell.sec_id_in_seg[sec[0]], cell.get_sec_by_id(sec[0]).nseg -1] for sec in cell.sec_id_lookup.values()]\n",
        "# select_seg = np.sum(np.array(select_seg), axis=1)\n",
        "# # select_seg = np.unique(np.cumsum(np.array(select_seg), axis=1).ravel())\n",
        "# _ = plot_variable_with_morphology(cell.seg_coords, seg_prop, Vm, t=t, axes=['x', 'y'],\n",
        "#                                   distance_type='transfer_imp_real', n_dist=300,\n",
        "#                                   select_seg=select_seg, max_per_dist=1, varname='Membrane potential (mV)',\n",
        "#                                   space=2., normalized_space=True, sort_by_dist=True,\n",
        "#                                   figsize=(10, 10), fontsize=15, scalebar_size=50)"
      ],
      "metadata": {
        "id": "Ibbz1qMIjWu5"
      },
      "id": "Ibbz1qMIjWu5",
      "execution_count": 55,
      "outputs": []
    },
    {
      "cell_type": "markdown",
      "source": [
        "Transfer Impedance is a complex number"
      ],
      "metadata": {
        "id": "2eSHPclEP0I0"
      },
      "id": "2eSHPclEP0I0"
    },
    {
      "cell_type": "code",
      "source": [
        "# polar_modulus=1\n",
        "# polar_phase=3\n",
        "\n",
        "# complex_rectangular_form=cmath.rect(polar_modulus, polar_phase)\n",
        "# print(complex_rectangular_form)"
      ],
      "metadata": {
        "id": "PM8Xa3WATASj"
      },
      "id": "PM8Xa3WATASj",
      "execution_count": 56,
      "outputs": []
    },
    {
      "cell_type": "code",
      "source": [
        "# complex_rectangular_form.real"
      ],
      "metadata": {
        "id": "BZgkMzBpTLgL"
      },
      "id": "BZgkMzBpTLgL",
      "execution_count": 57,
      "outputs": []
    }
  ],
  "metadata": {
    "colab": {
      "provenance": [],
      "include_colab_link": true
    },
    "kernelspec": {
      "display_name": "Python 3 (ipykernel)",
      "language": "python",
      "name": "python3"
    },
    "language_info": {
      "codemirror_mode": {
        "name": "ipython",
        "version": 3
      },
      "file_extension": ".py",
      "mimetype": "text/x-python",
      "name": "python",
      "nbconvert_exporter": "python",
      "pygments_lexer": "ipython3",
      "version": "3.9.12"
    },
    "widgets": {
      "application/vnd.jupyter.widget-state+json": {
        "00bb83b914214676a641be42acd88ffe": {
          "model_module": "@jupyter-widgets/controls",
          "model_name": "VBoxModel",
          "model_module_version": "1.5.0",
          "state": {
            "_dom_classes": [],
            "_model_module": "@jupyter-widgets/controls",
            "_model_module_version": "1.5.0",
            "_model_name": "VBoxModel",
            "_view_count": null,
            "_view_module": "@jupyter-widgets/controls",
            "_view_module_version": "1.5.0",
            "_view_name": "VBoxView",
            "box_style": "",
            "children": [
              "IPY_MODEL_98ed7c00536f412c91ba1c8af997db6a",
              "IPY_MODEL_0d402ce625c04fbab843f03785349f92",
              "IPY_MODEL_9cc413908269450a960ad5cae3b017cb"
            ],
            "layout": "IPY_MODEL_1179716ca18d4f50aa0555796a4d2063"
          }
        },
        "98ed7c00536f412c91ba1c8af997db6a": {
          "model_module": "@jupyter-widgets/controls",
          "model_name": "ButtonModel",
          "model_module_version": "1.5.0",
          "state": {
            "_dom_classes": [],
            "_model_module": "@jupyter-widgets/controls",
            "_model_module_version": "1.5.0",
            "_model_name": "ButtonModel",
            "_view_count": null,
            "_view_module": "@jupyter-widgets/controls",
            "_view_module_version": "1.5.0",
            "_view_name": "ButtonView",
            "button_style": "primary",
            "description": "Reset",
            "disabled": false,
            "icon": "history",
            "layout": "IPY_MODEL_d2403ea56f5540a691f8548e484427ac",
            "style": "IPY_MODEL_24aab66baaa54cee880ae2c4c8f8c592",
            "tooltip": ""
          }
        },
        "0d402ce625c04fbab843f03785349f92": {
          "model_module": "@jupyter-widgets/controls",
          "model_name": "HBoxModel",
          "model_module_version": "1.5.0",
          "state": {
            "_dom_classes": [],
            "_model_module": "@jupyter-widgets/controls",
            "_model_module_version": "1.5.0",
            "_model_name": "HBoxModel",
            "_view_count": null,
            "_view_module": "@jupyter-widgets/controls",
            "_view_module_version": "1.5.0",
            "_view_name": "HBoxView",
            "box_style": "",
            "children": [
              "IPY_MODEL_425c0322a9f041b48aecb3b544099cf8",
              "IPY_MODEL_395fa82f3f934e9f8bb22aa6d9084522"
            ],
            "layout": "IPY_MODEL_ae7669357e2045b19df9de0ecee05475"
          }
        },
        "9cc413908269450a960ad5cae3b017cb": {
          "model_module": "@jupyter-widgets/controls",
          "model_name": "HBoxModel",
          "model_module_version": "1.5.0",
          "state": {
            "_dom_classes": [],
            "_model_module": "@jupyter-widgets/controls",
            "_model_module_version": "1.5.0",
            "_model_name": "HBoxModel",
            "_view_count": null,
            "_view_module": "@jupyter-widgets/controls",
            "_view_module_version": "1.5.0",
            "_view_name": "HBoxView",
            "box_style": "",
            "children": [
              "IPY_MODEL_c0e1b5e4a71043cfa0e96c5489082aa3",
              "IPY_MODEL_920e64b7a5d44ecebaf74be65acf9b42"
            ],
            "layout": "IPY_MODEL_c7b4b2b6df3f4e409a4d0dcc3a7c5de5"
          }
        },
        "1179716ca18d4f50aa0555796a4d2063": {
          "model_module": "@jupyter-widgets/base",
          "model_name": "LayoutModel",
          "model_module_version": "1.2.0",
          "state": {
            "_model_module": "@jupyter-widgets/base",
            "_model_module_version": "1.2.0",
            "_model_name": "LayoutModel",
            "_view_count": null,
            "_view_module": "@jupyter-widgets/base",
            "_view_module_version": "1.2.0",
            "_view_name": "LayoutView",
            "align_content": null,
            "align_items": null,
            "align_self": null,
            "border": null,
            "bottom": null,
            "display": null,
            "flex": null,
            "flex_flow": null,
            "grid_area": null,
            "grid_auto_columns": null,
            "grid_auto_flow": null,
            "grid_auto_rows": null,
            "grid_column": null,
            "grid_gap": null,
            "grid_row": null,
            "grid_template_areas": null,
            "grid_template_columns": null,
            "grid_template_rows": null,
            "height": null,
            "justify_content": null,
            "justify_items": null,
            "left": null,
            "margin": null,
            "max_height": null,
            "max_width": null,
            "min_height": null,
            "min_width": null,
            "object_fit": null,
            "object_position": null,
            "order": null,
            "overflow": null,
            "overflow_x": null,
            "overflow_y": null,
            "padding": null,
            "right": null,
            "top": null,
            "visibility": null,
            "width": null
          }
        },
        "d2403ea56f5540a691f8548e484427ac": {
          "model_module": "@jupyter-widgets/base",
          "model_name": "LayoutModel",
          "model_module_version": "1.2.0",
          "state": {
            "_model_module": "@jupyter-widgets/base",
            "_model_module_version": "1.2.0",
            "_model_name": "LayoutModel",
            "_view_count": null,
            "_view_module": "@jupyter-widgets/base",
            "_view_module_version": "1.2.0",
            "_view_name": "LayoutView",
            "align_content": null,
            "align_items": null,
            "align_self": null,
            "border": null,
            "bottom": null,
            "display": null,
            "flex": null,
            "flex_flow": null,
            "grid_area": null,
            "grid_auto_columns": null,
            "grid_auto_flow": null,
            "grid_auto_rows": null,
            "grid_column": null,
            "grid_gap": null,
            "grid_row": null,
            "grid_template_areas": null,
            "grid_template_columns": null,
            "grid_template_rows": null,
            "height": null,
            "justify_content": null,
            "justify_items": null,
            "left": null,
            "margin": null,
            "max_height": null,
            "max_width": null,
            "min_height": null,
            "min_width": null,
            "object_fit": null,
            "object_position": null,
            "order": null,
            "overflow": null,
            "overflow_x": null,
            "overflow_y": null,
            "padding": null,
            "right": null,
            "top": null,
            "visibility": null,
            "width": null
          }
        },
        "24aab66baaa54cee880ae2c4c8f8c592": {
          "model_module": "@jupyter-widgets/controls",
          "model_name": "ButtonStyleModel",
          "model_module_version": "1.5.0",
          "state": {
            "_model_module": "@jupyter-widgets/controls",
            "_model_module_version": "1.5.0",
            "_model_name": "ButtonStyleModel",
            "_view_count": null,
            "_view_module": "@jupyter-widgets/base",
            "_view_module_version": "1.2.0",
            "_view_name": "StyleView",
            "button_color": null,
            "font_weight": ""
          }
        },
        "425c0322a9f041b48aecb3b544099cf8": {
          "model_module": "@jupyter-widgets/controls",
          "model_name": "VBoxModel",
          "model_module_version": "1.5.0",
          "state": {
            "_dom_classes": [],
            "_model_module": "@jupyter-widgets/controls",
            "_model_module_version": "1.5.0",
            "_model_name": "VBoxModel",
            "_view_count": null,
            "_view_module": "@jupyter-widgets/controls",
            "_view_module_version": "1.5.0",
            "_view_name": "VBoxView",
            "box_style": "",
            "children": [
              "IPY_MODEL_1c6a175f2eef4cecbca44d38fa4222e3",
              "IPY_MODEL_381a23ed024f406e930abc95640aa483",
              "IPY_MODEL_8db7f12d1262465a830123ebd4fd8915"
            ],
            "layout": "IPY_MODEL_5da4813493c0473da173291d4e0d2bd0"
          }
        },
        "395fa82f3f934e9f8bb22aa6d9084522": {
          "model_module": "@jupyter-widgets/controls",
          "model_name": "VBoxModel",
          "model_module_version": "1.5.0",
          "state": {
            "_dom_classes": [],
            "_model_module": "@jupyter-widgets/controls",
            "_model_module_version": "1.5.0",
            "_model_name": "VBoxModel",
            "_view_count": null,
            "_view_module": "@jupyter-widgets/controls",
            "_view_module_version": "1.5.0",
            "_view_name": "VBoxView",
            "box_style": "",
            "children": [
              "IPY_MODEL_5a5de4bc7c83489fa113d55724e32286",
              "IPY_MODEL_36c80c4d423e4583862afcf74088eb8a",
              "IPY_MODEL_7775e483b68246beac7c5ba4a69b1ed7"
            ],
            "layout": "IPY_MODEL_dbda5095714948faa460afc6094a03c5"
          }
        },
        "ae7669357e2045b19df9de0ecee05475": {
          "model_module": "@jupyter-widgets/base",
          "model_name": "LayoutModel",
          "model_module_version": "1.2.0",
          "state": {
            "_model_module": "@jupyter-widgets/base",
            "_model_module_version": "1.2.0",
            "_model_name": "LayoutModel",
            "_view_count": null,
            "_view_module": "@jupyter-widgets/base",
            "_view_module_version": "1.2.0",
            "_view_name": "LayoutView",
            "align_content": null,
            "align_items": null,
            "align_self": null,
            "border": null,
            "bottom": null,
            "display": null,
            "flex": null,
            "flex_flow": null,
            "grid_area": null,
            "grid_auto_columns": null,
            "grid_auto_flow": null,
            "grid_auto_rows": null,
            "grid_column": null,
            "grid_gap": null,
            "grid_row": null,
            "grid_template_areas": null,
            "grid_template_columns": null,
            "grid_template_rows": null,
            "height": null,
            "justify_content": null,
            "justify_items": null,
            "left": null,
            "margin": null,
            "max_height": null,
            "max_width": null,
            "min_height": null,
            "min_width": null,
            "object_fit": null,
            "object_position": null,
            "order": null,
            "overflow": null,
            "overflow_x": null,
            "overflow_y": null,
            "padding": null,
            "right": null,
            "top": null,
            "visibility": null,
            "width": null
          }
        },
        "c0e1b5e4a71043cfa0e96c5489082aa3": {
          "model_module": "@jupyter-widgets/controls",
          "model_name": "VBoxModel",
          "model_module_version": "1.5.0",
          "state": {
            "_dom_classes": [],
            "_model_module": "@jupyter-widgets/controls",
            "_model_module_version": "1.5.0",
            "_model_name": "VBoxModel",
            "_view_count": null,
            "_view_module": "@jupyter-widgets/controls",
            "_view_module_version": "1.5.0",
            "_view_name": "VBoxView",
            "box_style": "",
            "children": [
              "IPY_MODEL_926b63ff4c3149bdace9cb2d9bddb666",
              "IPY_MODEL_113648d90231438e88d59593e093b247"
            ],
            "layout": "IPY_MODEL_5f50a23cd36e47f381cc6ab62462dd1c"
          }
        },
        "920e64b7a5d44ecebaf74be65acf9b42": {
          "model_module": "@jupyter-widgets/controls",
          "model_name": "FloatSliderModel",
          "model_module_version": "1.5.0",
          "state": {
            "_dom_classes": [],
            "_model_module": "@jupyter-widgets/controls",
            "_model_module_version": "1.5.0",
            "_model_name": "FloatSliderModel",
            "_view_count": null,
            "_view_module": "@jupyter-widgets/controls",
            "_view_module_version": "1.5.0",
            "_view_name": "FloatSliderView",
            "continuous_update": false,
            "description": "elev (deg)",
            "description_tooltip": null,
            "disabled": false,
            "layout": "IPY_MODEL_e5e2502e99a14d04817422c3cd704201",
            "max": 90,
            "min": -90,
            "orientation": "vertical",
            "readout": true,
            "readout_format": ".0f",
            "step": 1,
            "style": "IPY_MODEL_776c786856e74e6ca0d70739fc68543b",
            "value": -10
          }
        },
        "c7b4b2b6df3f4e409a4d0dcc3a7c5de5": {
          "model_module": "@jupyter-widgets/base",
          "model_name": "LayoutModel",
          "model_module_version": "1.2.0",
          "state": {
            "_model_module": "@jupyter-widgets/base",
            "_model_module_version": "1.2.0",
            "_model_name": "LayoutModel",
            "_view_count": null,
            "_view_module": "@jupyter-widgets/base",
            "_view_module_version": "1.2.0",
            "_view_name": "LayoutView",
            "align_content": null,
            "align_items": null,
            "align_self": null,
            "border": null,
            "bottom": null,
            "display": null,
            "flex": null,
            "flex_flow": null,
            "grid_area": null,
            "grid_auto_columns": null,
            "grid_auto_flow": null,
            "grid_auto_rows": null,
            "grid_column": null,
            "grid_gap": null,
            "grid_row": null,
            "grid_template_areas": null,
            "grid_template_columns": null,
            "grid_template_rows": null,
            "height": null,
            "justify_content": null,
            "justify_items": null,
            "left": null,
            "margin": null,
            "max_height": null,
            "max_width": null,
            "min_height": null,
            "min_width": null,
            "object_fit": null,
            "object_position": null,
            "order": null,
            "overflow": null,
            "overflow_x": null,
            "overflow_y": null,
            "padding": null,
            "right": null,
            "top": null,
            "visibility": null,
            "width": null
          }
        },
        "1c6a175f2eef4cecbca44d38fa4222e3": {
          "model_module": "@jupyter-widgets/controls",
          "model_name": "FloatSliderModel",
          "model_module_version": "1.5.0",
          "state": {
            "_dom_classes": [],
            "_model_module": "@jupyter-widgets/controls",
            "_model_module_version": "1.5.0",
            "_model_name": "FloatSliderModel",
            "_view_count": null,
            "_view_module": "@jupyter-widgets/controls",
            "_view_module_version": "1.5.0",
            "_view_name": "FloatSliderView",
            "continuous_update": false,
            "description": "x (um)",
            "description_tooltip": null,
            "disabled": false,
            "layout": "IPY_MODEL_ff8fc2f4181c4c6d93c0f92d278281eb",
            "max": 200,
            "min": -200,
            "orientation": "horizontal",
            "readout": true,
            "readout_format": ".0f",
            "step": 1,
            "style": "IPY_MODEL_7690587ad030437b8ad0ed883674d710",
            "value": 0
          }
        },
        "381a23ed024f406e930abc95640aa483": {
          "model_module": "@jupyter-widgets/controls",
          "model_name": "FloatSliderModel",
          "model_module_version": "1.5.0",
          "state": {
            "_dom_classes": [],
            "_model_module": "@jupyter-widgets/controls",
            "_model_module_version": "1.5.0",
            "_model_name": "FloatSliderModel",
            "_view_count": null,
            "_view_module": "@jupyter-widgets/controls",
            "_view_module_version": "1.5.0",
            "_view_name": "FloatSliderView",
            "continuous_update": false,
            "description": "y (um)",
            "description_tooltip": null,
            "disabled": false,
            "layout": "IPY_MODEL_14706b165630464a82bc2b03f851d4b5",
            "max": 1000,
            "min": -1000,
            "orientation": "horizontal",
            "readout": true,
            "readout_format": ".0f",
            "step": 1,
            "style": "IPY_MODEL_b4c9beaa2bab40b39ed5e3cf06435db8",
            "value": 0
          }
        },
        "8db7f12d1262465a830123ebd4fd8915": {
          "model_module": "@jupyter-widgets/controls",
          "model_name": "FloatSliderModel",
          "model_module_version": "1.5.0",
          "state": {
            "_dom_classes": [],
            "_model_module": "@jupyter-widgets/controls",
            "_model_module_version": "1.5.0",
            "_model_name": "FloatSliderModel",
            "_view_count": null,
            "_view_module": "@jupyter-widgets/controls",
            "_view_module_version": "1.5.0",
            "_view_name": "FloatSliderView",
            "continuous_update": false,
            "description": "z (um)",
            "description_tooltip": null,
            "disabled": false,
            "layout": "IPY_MODEL_da8f1b60fbd147f1b0f0d1d5b1fb9034",
            "max": 400,
            "min": 20,
            "orientation": "horizontal",
            "readout": true,
            "readout_format": ".0f",
            "step": 1,
            "style": "IPY_MODEL_5c55707f879046e18fdeaabf40687dbb",
            "value": 80
          }
        },
        "5da4813493c0473da173291d4e0d2bd0": {
          "model_module": "@jupyter-widgets/base",
          "model_name": "LayoutModel",
          "model_module_version": "1.2.0",
          "state": {
            "_model_module": "@jupyter-widgets/base",
            "_model_module_version": "1.2.0",
            "_model_name": "LayoutModel",
            "_view_count": null,
            "_view_module": "@jupyter-widgets/base",
            "_view_module_version": "1.2.0",
            "_view_name": "LayoutView",
            "align_content": null,
            "align_items": null,
            "align_self": null,
            "border": null,
            "bottom": null,
            "display": null,
            "flex": null,
            "flex_flow": null,
            "grid_area": null,
            "grid_auto_columns": null,
            "grid_auto_flow": null,
            "grid_auto_rows": null,
            "grid_column": null,
            "grid_gap": null,
            "grid_row": null,
            "grid_template_areas": null,
            "grid_template_columns": null,
            "grid_template_rows": null,
            "height": null,
            "justify_content": null,
            "justify_items": null,
            "left": null,
            "margin": null,
            "max_height": null,
            "max_width": null,
            "min_height": null,
            "min_width": null,
            "object_fit": null,
            "object_position": null,
            "order": null,
            "overflow": null,
            "overflow_x": null,
            "overflow_y": null,
            "padding": null,
            "right": null,
            "top": null,
            "visibility": null,
            "width": null
          }
        },
        "5a5de4bc7c83489fa113d55724e32286": {
          "model_module": "@jupyter-widgets/controls",
          "model_name": "FloatSliderModel",
          "model_module_version": "1.5.0",
          "state": {
            "_dom_classes": [],
            "_model_module": "@jupyter-widgets/controls",
            "_model_module_version": "1.5.0",
            "_model_name": "FloatSliderModel",
            "_view_count": null,
            "_view_module": "@jupyter-widgets/controls",
            "_view_module_version": "1.5.0",
            "_view_name": "FloatSliderView",
            "continuous_update": false,
            "description": "alpha (deg)",
            "description_tooltip": null,
            "disabled": false,
            "layout": "IPY_MODEL_5a28af4086264b66ba3e368e70f201e9",
            "max": 180,
            "min": -180,
            "orientation": "horizontal",
            "readout": true,
            "readout_format": ".0f",
            "step": 1,
            "style": "IPY_MODEL_74aa2ee4b2bf4ec4af22e0b662a94061",
            "value": 0
          }
        },
        "36c80c4d423e4583862afcf74088eb8a": {
          "model_module": "@jupyter-widgets/controls",
          "model_name": "FloatSliderModel",
          "model_module_version": "1.5.0",
          "state": {
            "_dom_classes": [],
            "_model_module": "@jupyter-widgets/controls",
            "_model_module_version": "1.5.0",
            "_model_name": "FloatSliderModel",
            "_view_count": null,
            "_view_module": "@jupyter-widgets/controls",
            "_view_module_version": "1.5.0",
            "_view_name": "FloatSliderView",
            "continuous_update": false,
            "description": "beta (deg)",
            "description_tooltip": null,
            "disabled": false,
            "layout": "IPY_MODEL_be8df47660ed46aea36e905db0d6fbc6",
            "max": 180,
            "min": 0,
            "orientation": "horizontal",
            "readout": true,
            "readout_format": ".0f",
            "step": 1,
            "style": "IPY_MODEL_e77630f7a4214687802951ac9ec5b5e6",
            "value": 0
          }
        },
        "7775e483b68246beac7c5ba4a69b1ed7": {
          "model_module": "@jupyter-widgets/controls",
          "model_name": "FloatSliderModel",
          "model_module_version": "1.5.0",
          "state": {
            "_dom_classes": [],
            "_model_module": "@jupyter-widgets/controls",
            "_model_module_version": "1.5.0",
            "_model_name": "FloatSliderModel",
            "_view_count": null,
            "_view_module": "@jupyter-widgets/controls",
            "_view_module_version": "1.5.0",
            "_view_name": "FloatSliderView",
            "continuous_update": false,
            "description": "phi (deg)",
            "description_tooltip": null,
            "disabled": false,
            "layout": "IPY_MODEL_519d0dc7e72e4ec4bf864982c805b693",
            "max": 180,
            "min": -180,
            "orientation": "horizontal",
            "readout": true,
            "readout_format": ".0f",
            "step": 1,
            "style": "IPY_MODEL_c0bc223145d240089d6dd0ab8eb2ca9f",
            "value": 0
          }
        },
        "dbda5095714948faa460afc6094a03c5": {
          "model_module": "@jupyter-widgets/base",
          "model_name": "LayoutModel",
          "model_module_version": "1.2.0",
          "state": {
            "_model_module": "@jupyter-widgets/base",
            "_model_module_version": "1.2.0",
            "_model_name": "LayoutModel",
            "_view_count": null,
            "_view_module": "@jupyter-widgets/base",
            "_view_module_version": "1.2.0",
            "_view_name": "LayoutView",
            "align_content": null,
            "align_items": null,
            "align_self": null,
            "border": null,
            "bottom": null,
            "display": null,
            "flex": null,
            "flex_flow": null,
            "grid_area": null,
            "grid_auto_columns": null,
            "grid_auto_flow": null,
            "grid_auto_rows": null,
            "grid_column": null,
            "grid_gap": null,
            "grid_row": null,
            "grid_template_areas": null,
            "grid_template_columns": null,
            "grid_template_rows": null,
            "height": null,
            "justify_content": null,
            "justify_items": null,
            "left": null,
            "margin": null,
            "max_height": null,
            "max_width": null,
            "min_height": null,
            "min_width": null,
            "object_fit": null,
            "object_position": null,
            "order": null,
            "overflow": null,
            "overflow_x": null,
            "overflow_y": null,
            "padding": null,
            "right": null,
            "top": null,
            "visibility": null,
            "width": null
          }
        },
        "926b63ff4c3149bdace9cb2d9bddb666": {
          "model_module": "@jupyter-widgets/output",
          "model_name": "OutputModel",
          "model_module_version": "1.0.0",
          "state": {
            "_dom_classes": [],
            "_model_module": "@jupyter-widgets/output",
            "_model_module_version": "1.0.0",
            "_model_name": "OutputModel",
            "_view_count": null,
            "_view_module": "@jupyter-widgets/output",
            "_view_module_version": "1.0.0",
            "_view_name": "OutputView",
            "layout": "IPY_MODEL_0a2000741b074285a5fff3f4952f301a",
            "msg_id": "",
            "outputs": [
              {
                "output_type": "display_data",
                "data": {
                  "text/plain": "<Figure size 1200x800 with 1 Axes>",
                  "image/png": "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\n"
                },
                "metadata": {}
              }
            ]
          }
        },
        "113648d90231438e88d59593e093b247": {
          "model_module": "@jupyter-widgets/controls",
          "model_name": "FloatSliderModel",
          "model_module_version": "1.5.0",
          "state": {
            "_dom_classes": [],
            "_model_module": "@jupyter-widgets/controls",
            "_model_module_version": "1.5.0",
            "_model_name": "FloatSliderModel",
            "_view_count": null,
            "_view_module": "@jupyter-widgets/controls",
            "_view_module_version": "1.5.0",
            "_view_name": "FloatSliderView",
            "continuous_update": false,
            "description": "azim (deg)",
            "description_tooltip": null,
            "disabled": false,
            "layout": "IPY_MODEL_c5f68ca67739434d9c6b50bcf9dcb250",
            "max": 180,
            "min": -180,
            "orientation": "horizontal",
            "readout": true,
            "readout_format": ".0f",
            "step": 1,
            "style": "IPY_MODEL_3942ca73c59b45e284958ff134567f0e",
            "value": -90
          }
        },
        "5f50a23cd36e47f381cc6ab62462dd1c": {
          "model_module": "@jupyter-widgets/base",
          "model_name": "LayoutModel",
          "model_module_version": "1.2.0",
          "state": {
            "_model_module": "@jupyter-widgets/base",
            "_model_module_version": "1.2.0",
            "_model_name": "LayoutModel",
            "_view_count": null,
            "_view_module": "@jupyter-widgets/base",
            "_view_module_version": "1.2.0",
            "_view_name": "LayoutView",
            "align_content": null,
            "align_items": null,
            "align_self": null,
            "border": null,
            "bottom": null,
            "display": null,
            "flex": null,
            "flex_flow": null,
            "grid_area": null,
            "grid_auto_columns": null,
            "grid_auto_flow": null,
            "grid_auto_rows": null,
            "grid_column": null,
            "grid_gap": null,
            "grid_row": null,
            "grid_template_areas": null,
            "grid_template_columns": null,
            "grid_template_rows": null,
            "height": null,
            "justify_content": null,
            "justify_items": null,
            "left": null,
            "margin": null,
            "max_height": null,
            "max_width": null,
            "min_height": null,
            "min_width": null,
            "object_fit": null,
            "object_position": null,
            "order": null,
            "overflow": null,
            "overflow_x": null,
            "overflow_y": null,
            "padding": null,
            "right": null,
            "top": null,
            "visibility": null,
            "width": null
          }
        },
        "e5e2502e99a14d04817422c3cd704201": {
          "model_module": "@jupyter-widgets/base",
          "model_name": "LayoutModel",
          "model_module_version": "1.2.0",
          "state": {
            "_model_module": "@jupyter-widgets/base",
            "_model_module_version": "1.2.0",
            "_model_name": "LayoutModel",
            "_view_count": null,
            "_view_module": "@jupyter-widgets/base",
            "_view_module_version": "1.2.0",
            "_view_name": "LayoutView",
            "align_content": null,
            "align_items": null,
            "align_self": null,
            "border": null,
            "bottom": null,
            "display": null,
            "flex": null,
            "flex_flow": null,
            "grid_area": null,
            "grid_auto_columns": null,
            "grid_auto_flow": null,
            "grid_auto_rows": null,
            "grid_column": null,
            "grid_gap": null,
            "grid_row": null,
            "grid_template_areas": null,
            "grid_template_columns": null,
            "grid_template_rows": null,
            "height": "350px",
            "justify_content": null,
            "justify_items": null,
            "left": null,
            "margin": null,
            "max_height": null,
            "max_width": null,
            "min_height": null,
            "min_width": null,
            "object_fit": null,
            "object_position": null,
            "order": null,
            "overflow": null,
            "overflow_x": null,
            "overflow_y": null,
            "padding": null,
            "right": null,
            "top": null,
            "visibility": null,
            "width": null
          }
        },
        "776c786856e74e6ca0d70739fc68543b": {
          "model_module": "@jupyter-widgets/controls",
          "model_name": "SliderStyleModel",
          "model_module_version": "1.5.0",
          "state": {
            "_model_module": "@jupyter-widgets/controls",
            "_model_module_version": "1.5.0",
            "_model_name": "SliderStyleModel",
            "_view_count": null,
            "_view_module": "@jupyter-widgets/base",
            "_view_module_version": "1.2.0",
            "_view_name": "StyleView",
            "description_width": "",
            "handle_color": null
          }
        },
        "ff8fc2f4181c4c6d93c0f92d278281eb": {
          "model_module": "@jupyter-widgets/base",
          "model_name": "LayoutModel",
          "model_module_version": "1.2.0",
          "state": {
            "_model_module": "@jupyter-widgets/base",
            "_model_module_version": "1.2.0",
            "_model_name": "LayoutModel",
            "_view_count": null,
            "_view_module": "@jupyter-widgets/base",
            "_view_module_version": "1.2.0",
            "_view_name": "LayoutView",
            "align_content": null,
            "align_items": null,
            "align_self": null,
            "border": null,
            "bottom": null,
            "display": null,
            "flex": null,
            "flex_flow": null,
            "grid_area": null,
            "grid_auto_columns": null,
            "grid_auto_flow": null,
            "grid_auto_rows": null,
            "grid_column": null,
            "grid_gap": null,
            "grid_row": null,
            "grid_template_areas": null,
            "grid_template_columns": null,
            "grid_template_rows": null,
            "height": null,
            "justify_content": null,
            "justify_items": null,
            "left": null,
            "margin": null,
            "max_height": null,
            "max_width": null,
            "min_height": null,
            "min_width": null,
            "object_fit": null,
            "object_position": null,
            "order": null,
            "overflow": null,
            "overflow_x": null,
            "overflow_y": null,
            "padding": null,
            "right": null,
            "top": null,
            "visibility": null,
            "width": null
          }
        },
        "7690587ad030437b8ad0ed883674d710": {
          "model_module": "@jupyter-widgets/controls",
          "model_name": "SliderStyleModel",
          "model_module_version": "1.5.0",
          "state": {
            "_model_module": "@jupyter-widgets/controls",
            "_model_module_version": "1.5.0",
            "_model_name": "SliderStyleModel",
            "_view_count": null,
            "_view_module": "@jupyter-widgets/base",
            "_view_module_version": "1.2.0",
            "_view_name": "StyleView",
            "description_width": "",
            "handle_color": null
          }
        },
        "14706b165630464a82bc2b03f851d4b5": {
          "model_module": "@jupyter-widgets/base",
          "model_name": "LayoutModel",
          "model_module_version": "1.2.0",
          "state": {
            "_model_module": "@jupyter-widgets/base",
            "_model_module_version": "1.2.0",
            "_model_name": "LayoutModel",
            "_view_count": null,
            "_view_module": "@jupyter-widgets/base",
            "_view_module_version": "1.2.0",
            "_view_name": "LayoutView",
            "align_content": null,
            "align_items": null,
            "align_self": null,
            "border": null,
            "bottom": null,
            "display": null,
            "flex": null,
            "flex_flow": null,
            "grid_area": null,
            "grid_auto_columns": null,
            "grid_auto_flow": null,
            "grid_auto_rows": null,
            "grid_column": null,
            "grid_gap": null,
            "grid_row": null,
            "grid_template_areas": null,
            "grid_template_columns": null,
            "grid_template_rows": null,
            "height": null,
            "justify_content": null,
            "justify_items": null,
            "left": null,
            "margin": null,
            "max_height": null,
            "max_width": null,
            "min_height": null,
            "min_width": null,
            "object_fit": null,
            "object_position": null,
            "order": null,
            "overflow": null,
            "overflow_x": null,
            "overflow_y": null,
            "padding": null,
            "right": null,
            "top": null,
            "visibility": null,
            "width": null
          }
        },
        "b4c9beaa2bab40b39ed5e3cf06435db8": {
          "model_module": "@jupyter-widgets/controls",
          "model_name": "SliderStyleModel",
          "model_module_version": "1.5.0",
          "state": {
            "_model_module": "@jupyter-widgets/controls",
            "_model_module_version": "1.5.0",
            "_model_name": "SliderStyleModel",
            "_view_count": null,
            "_view_module": "@jupyter-widgets/base",
            "_view_module_version": "1.2.0",
            "_view_name": "StyleView",
            "description_width": "",
            "handle_color": null
          }
        },
        "da8f1b60fbd147f1b0f0d1d5b1fb9034": {
          "model_module": "@jupyter-widgets/base",
          "model_name": "LayoutModel",
          "model_module_version": "1.2.0",
          "state": {
            "_model_module": "@jupyter-widgets/base",
            "_model_module_version": "1.2.0",
            "_model_name": "LayoutModel",
            "_view_count": null,
            "_view_module": "@jupyter-widgets/base",
            "_view_module_version": "1.2.0",
            "_view_name": "LayoutView",
            "align_content": null,
            "align_items": null,
            "align_self": null,
            "border": null,
            "bottom": null,
            "display": null,
            "flex": null,
            "flex_flow": null,
            "grid_area": null,
            "grid_auto_columns": null,
            "grid_auto_flow": null,
            "grid_auto_rows": null,
            "grid_column": null,
            "grid_gap": null,
            "grid_row": null,
            "grid_template_areas": null,
            "grid_template_columns": null,
            "grid_template_rows": null,
            "height": null,
            "justify_content": null,
            "justify_items": null,
            "left": null,
            "margin": null,
            "max_height": null,
            "max_width": null,
            "min_height": null,
            "min_width": null,
            "object_fit": null,
            "object_position": null,
            "order": null,
            "overflow": null,
            "overflow_x": null,
            "overflow_y": null,
            "padding": null,
            "right": null,
            "top": null,
            "visibility": null,
            "width": null
          }
        },
        "5c55707f879046e18fdeaabf40687dbb": {
          "model_module": "@jupyter-widgets/controls",
          "model_name": "SliderStyleModel",
          "model_module_version": "1.5.0",
          "state": {
            "_model_module": "@jupyter-widgets/controls",
            "_model_module_version": "1.5.0",
            "_model_name": "SliderStyleModel",
            "_view_count": null,
            "_view_module": "@jupyter-widgets/base",
            "_view_module_version": "1.2.0",
            "_view_name": "StyleView",
            "description_width": "",
            "handle_color": null
          }
        },
        "5a28af4086264b66ba3e368e70f201e9": {
          "model_module": "@jupyter-widgets/base",
          "model_name": "LayoutModel",
          "model_module_version": "1.2.0",
          "state": {
            "_model_module": "@jupyter-widgets/base",
            "_model_module_version": "1.2.0",
            "_model_name": "LayoutModel",
            "_view_count": null,
            "_view_module": "@jupyter-widgets/base",
            "_view_module_version": "1.2.0",
            "_view_name": "LayoutView",
            "align_content": null,
            "align_items": null,
            "align_self": null,
            "border": null,
            "bottom": null,
            "display": null,
            "flex": null,
            "flex_flow": null,
            "grid_area": null,
            "grid_auto_columns": null,
            "grid_auto_flow": null,
            "grid_auto_rows": null,
            "grid_column": null,
            "grid_gap": null,
            "grid_row": null,
            "grid_template_areas": null,
            "grid_template_columns": null,
            "grid_template_rows": null,
            "height": null,
            "justify_content": null,
            "justify_items": null,
            "left": null,
            "margin": null,
            "max_height": null,
            "max_width": null,
            "min_height": null,
            "min_width": null,
            "object_fit": null,
            "object_position": null,
            "order": null,
            "overflow": null,
            "overflow_x": null,
            "overflow_y": null,
            "padding": null,
            "right": null,
            "top": null,
            "visibility": null,
            "width": null
          }
        },
        "74aa2ee4b2bf4ec4af22e0b662a94061": {
          "model_module": "@jupyter-widgets/controls",
          "model_name": "SliderStyleModel",
          "model_module_version": "1.5.0",
          "state": {
            "_model_module": "@jupyter-widgets/controls",
            "_model_module_version": "1.5.0",
            "_model_name": "SliderStyleModel",
            "_view_count": null,
            "_view_module": "@jupyter-widgets/base",
            "_view_module_version": "1.2.0",
            "_view_name": "StyleView",
            "description_width": "",
            "handle_color": null
          }
        },
        "be8df47660ed46aea36e905db0d6fbc6": {
          "model_module": "@jupyter-widgets/base",
          "model_name": "LayoutModel",
          "model_module_version": "1.2.0",
          "state": {
            "_model_module": "@jupyter-widgets/base",
            "_model_module_version": "1.2.0",
            "_model_name": "LayoutModel",
            "_view_count": null,
            "_view_module": "@jupyter-widgets/base",
            "_view_module_version": "1.2.0",
            "_view_name": "LayoutView",
            "align_content": null,
            "align_items": null,
            "align_self": null,
            "border": null,
            "bottom": null,
            "display": null,
            "flex": null,
            "flex_flow": null,
            "grid_area": null,
            "grid_auto_columns": null,
            "grid_auto_flow": null,
            "grid_auto_rows": null,
            "grid_column": null,
            "grid_gap": null,
            "grid_row": null,
            "grid_template_areas": null,
            "grid_template_columns": null,
            "grid_template_rows": null,
            "height": null,
            "justify_content": null,
            "justify_items": null,
            "left": null,
            "margin": null,
            "max_height": null,
            "max_width": null,
            "min_height": null,
            "min_width": null,
            "object_fit": null,
            "object_position": null,
            "order": null,
            "overflow": null,
            "overflow_x": null,
            "overflow_y": null,
            "padding": null,
            "right": null,
            "top": null,
            "visibility": null,
            "width": null
          }
        },
        "e77630f7a4214687802951ac9ec5b5e6": {
          "model_module": "@jupyter-widgets/controls",
          "model_name": "SliderStyleModel",
          "model_module_version": "1.5.0",
          "state": {
            "_model_module": "@jupyter-widgets/controls",
            "_model_module_version": "1.5.0",
            "_model_name": "SliderStyleModel",
            "_view_count": null,
            "_view_module": "@jupyter-widgets/base",
            "_view_module_version": "1.2.0",
            "_view_name": "StyleView",
            "description_width": "",
            "handle_color": null
          }
        },
        "519d0dc7e72e4ec4bf864982c805b693": {
          "model_module": "@jupyter-widgets/base",
          "model_name": "LayoutModel",
          "model_module_version": "1.2.0",
          "state": {
            "_model_module": "@jupyter-widgets/base",
            "_model_module_version": "1.2.0",
            "_model_name": "LayoutModel",
            "_view_count": null,
            "_view_module": "@jupyter-widgets/base",
            "_view_module_version": "1.2.0",
            "_view_name": "LayoutView",
            "align_content": null,
            "align_items": null,
            "align_self": null,
            "border": null,
            "bottom": null,
            "display": null,
            "flex": null,
            "flex_flow": null,
            "grid_area": null,
            "grid_auto_columns": null,
            "grid_auto_flow": null,
            "grid_auto_rows": null,
            "grid_column": null,
            "grid_gap": null,
            "grid_row": null,
            "grid_template_areas": null,
            "grid_template_columns": null,
            "grid_template_rows": null,
            "height": null,
            "justify_content": null,
            "justify_items": null,
            "left": null,
            "margin": null,
            "max_height": null,
            "max_width": null,
            "min_height": null,
            "min_width": null,
            "object_fit": null,
            "object_position": null,
            "order": null,
            "overflow": null,
            "overflow_x": null,
            "overflow_y": null,
            "padding": null,
            "right": null,
            "top": null,
            "visibility": null,
            "width": null
          }
        },
        "c0bc223145d240089d6dd0ab8eb2ca9f": {
          "model_module": "@jupyter-widgets/controls",
          "model_name": "SliderStyleModel",
          "model_module_version": "1.5.0",
          "state": {
            "_model_module": "@jupyter-widgets/controls",
            "_model_module_version": "1.5.0",
            "_model_name": "SliderStyleModel",
            "_view_count": null,
            "_view_module": "@jupyter-widgets/base",
            "_view_module_version": "1.2.0",
            "_view_name": "StyleView",
            "description_width": "",
            "handle_color": null
          }
        },
        "c5f68ca67739434d9c6b50bcf9dcb250": {
          "model_module": "@jupyter-widgets/base",
          "model_name": "LayoutModel",
          "model_module_version": "1.2.0",
          "state": {
            "_model_module": "@jupyter-widgets/base",
            "_model_module_version": "1.2.0",
            "_model_name": "LayoutModel",
            "_view_count": null,
            "_view_module": "@jupyter-widgets/base",
            "_view_module_version": "1.2.0",
            "_view_name": "LayoutView",
            "align_content": null,
            "align_items": null,
            "align_self": null,
            "border": null,
            "bottom": null,
            "display": null,
            "flex": null,
            "flex_flow": null,
            "grid_area": null,
            "grid_auto_columns": null,
            "grid_auto_flow": null,
            "grid_auto_rows": null,
            "grid_column": null,
            "grid_gap": null,
            "grid_row": null,
            "grid_template_areas": null,
            "grid_template_columns": null,
            "grid_template_rows": null,
            "height": null,
            "justify_content": null,
            "justify_items": null,
            "left": null,
            "margin": null,
            "max_height": null,
            "max_width": null,
            "min_height": null,
            "min_width": null,
            "object_fit": null,
            "object_position": null,
            "order": null,
            "overflow": null,
            "overflow_x": null,
            "overflow_y": null,
            "padding": null,
            "right": null,
            "top": null,
            "visibility": null,
            "width": "500px"
          }
        },
        "3942ca73c59b45e284958ff134567f0e": {
          "model_module": "@jupyter-widgets/controls",
          "model_name": "SliderStyleModel",
          "model_module_version": "1.5.0",
          "state": {
            "_model_module": "@jupyter-widgets/controls",
            "_model_module_version": "1.5.0",
            "_model_name": "SliderStyleModel",
            "_view_count": null,
            "_view_module": "@jupyter-widgets/base",
            "_view_module_version": "1.2.0",
            "_view_name": "StyleView",
            "description_width": "",
            "handle_color": null
          }
        },
        "0a2000741b074285a5fff3f4952f301a": {
          "model_module": "@jupyter-widgets/base",
          "model_name": "LayoutModel",
          "model_module_version": "1.2.0",
          "state": {
            "_model_module": "@jupyter-widgets/base",
            "_model_module_version": "1.2.0",
            "_model_name": "LayoutModel",
            "_view_count": null,
            "_view_module": "@jupyter-widgets/base",
            "_view_module_version": "1.2.0",
            "_view_name": "LayoutView",
            "align_content": null,
            "align_items": null,
            "align_self": null,
            "border": null,
            "bottom": null,
            "display": null,
            "flex": null,
            "flex_flow": null,
            "grid_area": null,
            "grid_auto_columns": null,
            "grid_auto_flow": null,
            "grid_auto_rows": null,
            "grid_column": null,
            "grid_gap": null,
            "grid_row": null,
            "grid_template_areas": null,
            "grid_template_columns": null,
            "grid_template_rows": null,
            "height": null,
            "justify_content": null,
            "justify_items": null,
            "left": null,
            "margin": null,
            "max_height": null,
            "max_width": null,
            "min_height": null,
            "min_width": null,
            "object_fit": null,
            "object_position": null,
            "order": null,
            "overflow": null,
            "overflow_x": null,
            "overflow_y": null,
            "padding": null,
            "right": null,
            "top": null,
            "visibility": null,
            "width": null
          }
        },
        "b81d737b8b164f6599d9b2018cc99e75": {
          "model_module": "@jupyter-widgets/controls",
          "model_name": "VBoxModel",
          "model_module_version": "1.5.0",
          "state": {
            "_dom_classes": [],
            "_model_module": "@jupyter-widgets/controls",
            "_model_module_version": "1.5.0",
            "_model_name": "VBoxModel",
            "_view_count": null,
            "_view_module": "@jupyter-widgets/controls",
            "_view_module_version": "1.5.0",
            "_view_name": "VBoxView",
            "box_style": "",
            "children": [
              "IPY_MODEL_5869f5f16ec5468cb5bd1ba688e478e3",
              "IPY_MODEL_08436b1f807948f18fb5986a70c453e9"
            ],
            "layout": "IPY_MODEL_8fcb74a4633a40d897482f58a5b92d49"
          }
        },
        "5869f5f16ec5468cb5bd1ba688e478e3": {
          "model_module": "@jupyter-widgets/controls",
          "model_name": "ToggleButtonsModel",
          "model_module_version": "1.5.0",
          "state": {
            "_dom_classes": [],
            "_model_module": "@jupyter-widgets/controls",
            "_model_module_version": "1.5.0",
            "_model_name": "ToggleButtonsModel",
            "_options_labels": [
              "Soma",
              "Apical tuft (proximal)"
            ],
            "_view_count": null,
            "_view_module": "@jupyter-widgets/controls",
            "_view_module_version": "1.5.0",
            "_view_name": "ToggleButtonsView",
            "button_style": "",
            "description": "",
            "description_tooltip": null,
            "disabled": false,
            "icons": [],
            "index": 1,
            "layout": "IPY_MODEL_25fe0f14d39a4df18cfc2e029b0683e1",
            "style": "IPY_MODEL_e8241a79ab71462196caac82dad2ef11",
            "tooltips": []
          }
        },
        "08436b1f807948f18fb5986a70c453e9": {
          "model_module": "@jupyter-widgets/controls",
          "model_name": "HBoxModel",
          "model_module_version": "1.5.0",
          "state": {
            "_dom_classes": [],
            "_model_module": "@jupyter-widgets/controls",
            "_model_module_version": "1.5.0",
            "_model_name": "HBoxModel",
            "_view_count": null,
            "_view_module": "@jupyter-widgets/controls",
            "_view_module_version": "1.5.0",
            "_view_name": "HBoxView",
            "box_style": "",
            "children": [
              "IPY_MODEL_4ab6769293544e0c93d6e07dad3da9d8",
              "IPY_MODEL_6c79cc64f80a43c49e1c1cfb34aee5bb"
            ],
            "layout": "IPY_MODEL_4b6cfc97c6a34a839c3cf68aca78fc99"
          }
        },
        "8fcb74a4633a40d897482f58a5b92d49": {
          "model_module": "@jupyter-widgets/base",
          "model_name": "LayoutModel",
          "model_module_version": "1.2.0",
          "state": {
            "_model_module": "@jupyter-widgets/base",
            "_model_module_version": "1.2.0",
            "_model_name": "LayoutModel",
            "_view_count": null,
            "_view_module": "@jupyter-widgets/base",
            "_view_module_version": "1.2.0",
            "_view_name": "LayoutView",
            "align_content": null,
            "align_items": null,
            "align_self": null,
            "border": null,
            "bottom": null,
            "display": null,
            "flex": null,
            "flex_flow": null,
            "grid_area": null,
            "grid_auto_columns": null,
            "grid_auto_flow": null,
            "grid_auto_rows": null,
            "grid_column": null,
            "grid_gap": null,
            "grid_row": null,
            "grid_template_areas": null,
            "grid_template_columns": null,
            "grid_template_rows": null,
            "height": null,
            "justify_content": null,
            "justify_items": null,
            "left": null,
            "margin": null,
            "max_height": null,
            "max_width": null,
            "min_height": null,
            "min_width": null,
            "object_fit": null,
            "object_position": null,
            "order": null,
            "overflow": null,
            "overflow_x": null,
            "overflow_y": null,
            "padding": null,
            "right": null,
            "top": null,
            "visibility": null,
            "width": null
          }
        },
        "25fe0f14d39a4df18cfc2e029b0683e1": {
          "model_module": "@jupyter-widgets/base",
          "model_name": "LayoutModel",
          "model_module_version": "1.2.0",
          "state": {
            "_model_module": "@jupyter-widgets/base",
            "_model_module_version": "1.2.0",
            "_model_name": "LayoutModel",
            "_view_count": null,
            "_view_module": "@jupyter-widgets/base",
            "_view_module_version": "1.2.0",
            "_view_name": "LayoutView",
            "align_content": null,
            "align_items": null,
            "align_self": null,
            "border": null,
            "bottom": null,
            "display": null,
            "flex": null,
            "flex_flow": null,
            "grid_area": null,
            "grid_auto_columns": null,
            "grid_auto_flow": null,
            "grid_auto_rows": null,
            "grid_column": null,
            "grid_gap": null,
            "grid_row": null,
            "grid_template_areas": null,
            "grid_template_columns": null,
            "grid_template_rows": null,
            "height": null,
            "justify_content": null,
            "justify_items": null,
            "left": null,
            "margin": null,
            "max_height": null,
            "max_width": null,
            "min_height": null,
            "min_width": null,
            "object_fit": null,
            "object_position": null,
            "order": null,
            "overflow": null,
            "overflow_x": null,
            "overflow_y": null,
            "padding": null,
            "right": null,
            "top": null,
            "visibility": null,
            "width": null
          }
        },
        "e8241a79ab71462196caac82dad2ef11": {
          "model_module": "@jupyter-widgets/controls",
          "model_name": "ToggleButtonsStyleModel",
          "model_module_version": "1.5.0",
          "state": {
            "_model_module": "@jupyter-widgets/controls",
            "_model_module_version": "1.5.0",
            "_model_name": "ToggleButtonsStyleModel",
            "_view_count": null,
            "_view_module": "@jupyter-widgets/base",
            "_view_module_version": "1.2.0",
            "_view_name": "StyleView",
            "button_width": "",
            "description_width": "",
            "font_weight": ""
          }
        },
        "4ab6769293544e0c93d6e07dad3da9d8": {
          "model_module": "@jupyter-widgets/controls",
          "model_name": "LabelModel",
          "model_module_version": "1.5.0",
          "state": {
            "_dom_classes": [],
            "_model_module": "@jupyter-widgets/controls",
            "_model_module_version": "1.5.0",
            "_model_name": "LabelModel",
            "_view_count": null,
            "_view_module": "@jupyter-widgets/controls",
            "_view_module_version": "1.5.0",
            "_view_name": "LabelView",
            "description": "",
            "description_tooltip": null,
            "layout": "IPY_MODEL_b1d5fc4ce0414d6fa90a6f2665042aba",
            "placeholder": "​",
            "style": "IPY_MODEL_2dc0b54fed274ccdb428876f2c947067",
            "value": "Synapse maximal conductance (uS)"
          }
        },
        "6c79cc64f80a43c49e1c1cfb34aee5bb": {
          "model_module": "@jupyter-widgets/controls",
          "model_name": "FloatSliderModel",
          "model_module_version": "1.5.0",
          "state": {
            "_dom_classes": [],
            "_model_module": "@jupyter-widgets/controls",
            "_model_module_version": "1.5.0",
            "_model_name": "FloatSliderModel",
            "_view_count": null,
            "_view_module": "@jupyter-widgets/controls",
            "_view_module_version": "1.5.0",
            "_view_name": "FloatSliderView",
            "continuous_update": true,
            "description": "",
            "description_tooltip": null,
            "disabled": false,
            "layout": "IPY_MODEL_69f28565ec834ea2a59d16056cfbe9ed",
            "max": 0.1,
            "min": 0,
            "orientation": "horizontal",
            "readout": true,
            "readout_format": ".4f",
            "step": 0.0002,
            "style": "IPY_MODEL_1f5a10b22784418b8e3e5d2de6195e4b",
            "value": 0.1
          }
        },
        "4b6cfc97c6a34a839c3cf68aca78fc99": {
          "model_module": "@jupyter-widgets/base",
          "model_name": "LayoutModel",
          "model_module_version": "1.2.0",
          "state": {
            "_model_module": "@jupyter-widgets/base",
            "_model_module_version": "1.2.0",
            "_model_name": "LayoutModel",
            "_view_count": null,
            "_view_module": "@jupyter-widgets/base",
            "_view_module_version": "1.2.0",
            "_view_name": "LayoutView",
            "align_content": null,
            "align_items": null,
            "align_self": null,
            "border": null,
            "bottom": null,
            "display": null,
            "flex": null,
            "flex_flow": null,
            "grid_area": null,
            "grid_auto_columns": null,
            "grid_auto_flow": null,
            "grid_auto_rows": null,
            "grid_column": null,
            "grid_gap": null,
            "grid_row": null,
            "grid_template_areas": null,
            "grid_template_columns": null,
            "grid_template_rows": null,
            "height": null,
            "justify_content": null,
            "justify_items": null,
            "left": null,
            "margin": null,
            "max_height": null,
            "max_width": null,
            "min_height": null,
            "min_width": null,
            "object_fit": null,
            "object_position": null,
            "order": null,
            "overflow": null,
            "overflow_x": null,
            "overflow_y": null,
            "padding": null,
            "right": null,
            "top": null,
            "visibility": null,
            "width": null
          }
        },
        "b1d5fc4ce0414d6fa90a6f2665042aba": {
          "model_module": "@jupyter-widgets/base",
          "model_name": "LayoutModel",
          "model_module_version": "1.2.0",
          "state": {
            "_model_module": "@jupyter-widgets/base",
            "_model_module_version": "1.2.0",
            "_model_name": "LayoutModel",
            "_view_count": null,
            "_view_module": "@jupyter-widgets/base",
            "_view_module_version": "1.2.0",
            "_view_name": "LayoutView",
            "align_content": null,
            "align_items": null,
            "align_self": null,
            "border": null,
            "bottom": null,
            "display": null,
            "flex": null,
            "flex_flow": null,
            "grid_area": null,
            "grid_auto_columns": null,
            "grid_auto_flow": null,
            "grid_auto_rows": null,
            "grid_column": null,
            "grid_gap": null,
            "grid_row": null,
            "grid_template_areas": null,
            "grid_template_columns": null,
            "grid_template_rows": null,
            "height": null,
            "justify_content": null,
            "justify_items": null,
            "left": null,
            "margin": null,
            "max_height": null,
            "max_width": null,
            "min_height": null,
            "min_width": null,
            "object_fit": null,
            "object_position": null,
            "order": null,
            "overflow": null,
            "overflow_x": null,
            "overflow_y": null,
            "padding": null,
            "right": null,
            "top": null,
            "visibility": null,
            "width": null
          }
        },
        "2dc0b54fed274ccdb428876f2c947067": {
          "model_module": "@jupyter-widgets/controls",
          "model_name": "DescriptionStyleModel",
          "model_module_version": "1.5.0",
          "state": {
            "_model_module": "@jupyter-widgets/controls",
            "_model_module_version": "1.5.0",
            "_model_name": "DescriptionStyleModel",
            "_view_count": null,
            "_view_module": "@jupyter-widgets/base",
            "_view_module_version": "1.2.0",
            "_view_name": "StyleView",
            "description_width": ""
          }
        },
        "69f28565ec834ea2a59d16056cfbe9ed": {
          "model_module": "@jupyter-widgets/base",
          "model_name": "LayoutModel",
          "model_module_version": "1.2.0",
          "state": {
            "_model_module": "@jupyter-widgets/base",
            "_model_module_version": "1.2.0",
            "_model_name": "LayoutModel",
            "_view_count": null,
            "_view_module": "@jupyter-widgets/base",
            "_view_module_version": "1.2.0",
            "_view_name": "LayoutView",
            "align_content": null,
            "align_items": null,
            "align_self": null,
            "border": null,
            "bottom": null,
            "display": null,
            "flex": null,
            "flex_flow": null,
            "grid_area": null,
            "grid_auto_columns": null,
            "grid_auto_flow": null,
            "grid_auto_rows": null,
            "grid_column": null,
            "grid_gap": null,
            "grid_row": null,
            "grid_template_areas": null,
            "grid_template_columns": null,
            "grid_template_rows": null,
            "height": null,
            "justify_content": null,
            "justify_items": null,
            "left": null,
            "margin": null,
            "max_height": null,
            "max_width": null,
            "min_height": null,
            "min_width": null,
            "object_fit": null,
            "object_position": null,
            "order": null,
            "overflow": null,
            "overflow_x": null,
            "overflow_y": null,
            "padding": null,
            "right": null,
            "top": null,
            "visibility": null,
            "width": null
          }
        },
        "1f5a10b22784418b8e3e5d2de6195e4b": {
          "model_module": "@jupyter-widgets/controls",
          "model_name": "SliderStyleModel",
          "model_module_version": "1.5.0",
          "state": {
            "_model_module": "@jupyter-widgets/controls",
            "_model_module_version": "1.5.0",
            "_model_name": "SliderStyleModel",
            "_view_count": null,
            "_view_module": "@jupyter-widgets/base",
            "_view_module_version": "1.2.0",
            "_view_name": "StyleView",
            "description_width": "",
            "handle_color": null
          }
        }
      }
    }
  },
  "nbformat": 4,
  "nbformat_minor": 5
}