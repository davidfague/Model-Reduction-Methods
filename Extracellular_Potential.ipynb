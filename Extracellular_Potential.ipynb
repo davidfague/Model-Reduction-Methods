{
  "cells": [
    {
      "cell_type": "markdown",
      "metadata": {
        "id": "view-in-github",
        "colab_type": "text"
      },
      "source": [
        "<a href=\"https://colab.research.google.com/github/davidfague/Model_Reduction_Methods/blob/main/Extracellular_Potential.ipynb\" target=\"_parent\"><img src=\"https://colab.research.google.com/assets/colab-badge.svg\" alt=\"Open In Colab\"/></a>"
      ]
    },
    {
      "cell_type": "markdown",
      "id": "7a9de89f",
      "metadata": {
        "id": "7a9de89f"
      },
      "source": [
        "# Stylized Single Cell and Extracellular Potential"
      ]
    },
    {
      "cell_type": "markdown",
      "id": "MSX7LmGzszzf",
      "metadata": {
        "id": "MSX7LmGzszzf"
      },
      "source": [
        "#### Download modules from Github"
      ]
    },
    {
      "cell_type": "code",
      "execution_count": 1,
      "id": "Daok1-uas1Q8",
      "metadata": {
        "id": "Daok1-uas1Q8",
        "outputId": "1d91d17e-c2d6-4f0b-cb68-e8e829eca7f2",
        "colab": {
          "base_uri": "https://localhost:8080/"
        }
      },
      "outputs": [
        {
          "output_type": "stream",
          "name": "stdout",
          "text": [
            "\u001b[0m\u001b[01;34mcell_inference\u001b[0m/  Stylized_Single_Cell_Extracellular_Potential_Tutorial.ipynb\n"
          ]
        }
      ],
      "source": [
        "import os\n",
        "\n",
        "RunningInCOLAB = 'google.colab' in str(get_ipython())\n",
        "if RunningInCOLAB:\n",
        "    !pip install neuron==8.0.0 &> /dev/null\n",
        "    os.chdir('/content')\n",
        "    if not os.path.isdir('Stylized-Single-Cell-and-Extracellular-Potential'):\n",
        "        !git clone https://github.com/chenziao/Stylized-Single-Cell-and-Extracellular-Potential.git &> /dev/null \n",
        "    os.chdir('Stylized-Single-Cell-and-Extracellular-Potential')\n",
        "    %ls"
      ]
    },
    {
      "cell_type": "code",
      "source": [
        "!git clone https://github.com/davidfague/Model_Reduction_Methods.git"
      ],
      "metadata": {
        "id": "Qo_ncsBL54AZ",
        "outputId": "7b5d07fd-cecb-4dde-845f-d97e67874430",
        "colab": {
          "base_uri": "https://localhost:8080/"
        }
      },
      "id": "Qo_ncsBL54AZ",
      "execution_count": 2,
      "outputs": [
        {
          "output_type": "stream",
          "name": "stdout",
          "text": [
            "Cloning into 'Model_Reduction_Methods'...\n",
            "remote: Enumerating objects: 404, done.\u001b[K\n",
            "remote: Counting objects: 100% (90/90), done.\u001b[K\n",
            "remote: Compressing objects: 100% (90/90), done.\u001b[K\n",
            "remote: Total 404 (delta 54), reused 0 (delta 0), pack-reused 314\u001b[K\n",
            "Receiving objects: 100% (404/404), 1.80 MiB | 5.11 MiB/s, done.\n",
            "Resolving deltas: 100% (205/205), done.\n"
          ]
        }
      ]
    },
    {
      "cell_type": "code",
      "source": [
        "!pip install neuron_reduce"
      ],
      "metadata": {
        "id": "Iu-fDuMR_H3c",
        "outputId": "c058aeb5-00b4-4c83-820a-2239c49ab277",
        "colab": {
          "base_uri": "https://localhost:8080/"
        }
      },
      "id": "Iu-fDuMR_H3c",
      "execution_count": 3,
      "outputs": [
        {
          "output_type": "stream",
          "name": "stdout",
          "text": [
            "Looking in indexes: https://pypi.org/simple, https://us-python.pkg.dev/colab-wheels/public/simple/\n",
            "Collecting neuron_reduce\n",
            "  Downloading neuron_reduce-0.0.7-py3-none-any.whl (18 kB)\n",
            "Installing collected packages: neuron_reduce\n",
            "Successfully installed neuron_reduce-0.0.7\n"
          ]
        }
      ]
    },
    {
      "cell_type": "code",
      "source": [
        "#import reduction and expansion functions\n",
        "from Model_Reduction_Methods.test_neuron_reduce.subtree_reductor_func import subtree_reductor\n",
        "from Model_Reduction_Methods.cable_expander_func import cable_expander\n",
        "\n",
        "#import analysis functions\n",
        "from Model_Reduction_Methods.utils import make_seg_df,generate_stylized_geometry,make_reduced_seg_df,plot_morphology,check_connectivity,generate_reduced_cell_seg_coords, create_seg_var_report"
      ],
      "metadata": {
        "id": "YxasD8N86Fa4"
      },
      "id": "YxasD8N86Fa4",
      "execution_count": 4,
      "outputs": []
    },
    {
      "cell_type": "code",
      "source": [
        "# compile the mod files\n",
        "!nrnivmodl Model_Reduction_Methods/expand_example/mod"
      ],
      "metadata": {
        "id": "Dm-MdGeb6uZB",
        "outputId": "cc180c05-e69e-4584-fb14-a1c680d33f7d",
        "colab": {
          "base_uri": "https://localhost:8080/"
        }
      },
      "id": "Dm-MdGeb6uZB",
      "execution_count": 5,
      "outputs": [
        {
          "output_type": "stream",
          "name": "stdout",
          "text": [
            "/content/Stylized-Single-Cell-and-Extracellular-Potential\n",
            "Mod files: \"Model_Reduction_Methods/expand_example/mod/CaDynamics_E2.mod\" \"Model_Reduction_Methods/expand_example/mod/Ca_HVA.mod\" \"Model_Reduction_Methods/expand_example/mod/Ca_LVAst.mod\" \"Model_Reduction_Methods/expand_example/mod/epsp.mod\" \"Model_Reduction_Methods/expand_example/mod/Ih.mod\" \"Model_Reduction_Methods/expand_example/mod/Im.mod\" \"Model_Reduction_Methods/expand_example/mod/K_Pst.mod\" \"Model_Reduction_Methods/expand_example/mod/K_Tst.mod\" \"Model_Reduction_Methods/expand_example/mod/Nap_Et2.mod\" \"Model_Reduction_Methods/expand_example/mod/NaTa_t.mod\" \"Model_Reduction_Methods/expand_example/mod/NaTs2_t.mod\" \"Model_Reduction_Methods/expand_example/mod/SK_E2.mod\" \"Model_Reduction_Methods/expand_example/mod/SKv3_1.mod\"\n",
            "\n",
            "Creating x86_64 directory for .o files.\n",
            "\n",
            "COBJS=''\n",
            " -> \u001b[32mCompiling\u001b[0m mod_func.c\n",
            "x86_64-linux-gnu-gcc -O2   -I.   -I/usr/local/lib/python3.9/dist-packages/neuron/.data/include  -I/nrnwheel/openmpi/include -fPIC -c mod_func.c -o mod_func.o\n",
            " -> \u001b[32mNMODL\u001b[0m ../Model_Reduction_Methods/expand_example/mod/CaDynamics_E2.mod\n",
            "(cd \"../Model_Reduction_Methods/expand_example/mod\"; MODLUNIT=/usr/local/lib/python3.9/dist-packages/neuron/.data/share/nrn/lib/nrnunits.lib /usr/local/lib/python3.9/dist-packages/neuron/.data/bin/nocmodl CaDynamics_E2.mod -o \"/content/Stylized-Single-Cell-and-Extracellular-Potential/x86_64\")\n",
            " -> \u001b[32mNMODL\u001b[0m ../Model_Reduction_Methods/expand_example/mod/Ca_HVA.mod\n",
            "(cd \"../Model_Reduction_Methods/expand_example/mod\"; MODLUNIT=/usr/local/lib/python3.9/dist-packages/neuron/.data/share/nrn/lib/nrnunits.lib /usr/local/lib/python3.9/dist-packages/neuron/.data/bin/nocmodl Ca_HVA.mod -o \"/content/Stylized-Single-Cell-and-Extracellular-Potential/x86_64\")\n",
            " -> \u001b[32mNMODL\u001b[0m ../Model_Reduction_Methods/expand_example/mod/Ca_LVAst.mod\n",
            "Translating CaDynamics_E2.mod into /content/Stylized-Single-Cell-and-Extracellular-Potential/x86_64/CaDynamics_E2.c\n",
            "Thread Safe\n",
            "(cd \"../Model_Reduction_Methods/expand_example/mod\"; MODLUNIT=/usr/local/lib/python3.9/dist-packages/neuron/.data/share/nrn/lib/nrnunits.lib /usr/local/lib/python3.9/dist-packages/neuron/.data/bin/nocmodl Ca_LVAst.mod -o \"/content/Stylized-Single-Cell-and-Extracellular-Potential/x86_64\")\n",
            " -> \u001b[32mNMODL\u001b[0m ../Model_Reduction_Methods/expand_example/mod/epsp.mod\n",
            "(cd \"../Model_Reduction_Methods/expand_example/mod\"; MODLUNIT=/usr/local/lib/python3.9/dist-packages/neuron/.data/share/nrn/lib/nrnunits.lib /usr/local/lib/python3.9/dist-packages/neuron/.data/bin/nocmodl epsp.mod -o \"/content/Stylized-Single-Cell-and-Extracellular-Potential/x86_64\")\n",
            "Translating epsp.mod into /content/Stylized-Single-Cell-and-Extracellular-Potential/x86_64/epsp.c\n",
            "Translating Ca_HVA.mod into /content/Stylized-Single-Cell-and-Extracellular-Potential/x86_64/Ca_HVA.c\n",
            "Thread Safe\n",
            "Thread Safe\n",
            " -> \u001b[32mNMODL\u001b[0m ../Model_Reduction_Methods/expand_example/mod/Ih.mod\n",
            " -> \u001b[32mNMODL\u001b[0m ../Model_Reduction_Methods/expand_example/mod/Im.mod\n",
            "(cd \"../Model_Reduction_Methods/expand_example/mod\"; MODLUNIT=/usr/local/lib/python3.9/dist-packages/neuron/.data/share/nrn/lib/nrnunits.lib /usr/local/lib/python3.9/dist-packages/neuron/.data/bin/nocmodl Ih.mod -o \"/content/Stylized-Single-Cell-and-Extracellular-Potential/x86_64\")\n",
            "(cd \"../Model_Reduction_Methods/expand_example/mod\"; MODLUNIT=/usr/local/lib/python3.9/dist-packages/neuron/.data/share/nrn/lib/nrnunits.lib /usr/local/lib/python3.9/dist-packages/neuron/.data/bin/nocmodl Im.mod -o \"/content/Stylized-Single-Cell-and-Extracellular-Potential/x86_64\")\n",
            "Translating Ca_LVAst.mod into /content/Stylized-Single-Cell-and-Extracellular-Potential/x86_64/Ca_LVAst.c\n",
            "Translating Ih.mod into /content/Stylized-Single-Cell-and-Extracellular-Potential/x86_64/Ih.c\n",
            "Thread Safe\n",
            "Thread Safe\n",
            "Translating Im.mod into /content/Stylized-Single-Cell-and-Extracellular-Potential/x86_64/Im.c\n",
            " -> \u001b[32mNMODL\u001b[0m ../Model_Reduction_Methods/expand_example/mod/K_Pst.mod\n",
            " -> \u001b[32mNMODL\u001b[0m ../Model_Reduction_Methods/expand_example/mod/K_Tst.mod\n",
            "(cd \"../Model_Reduction_Methods/expand_example/mod\"; MODLUNIT=/usr/local/lib/python3.9/dist-packages/neuron/.data/share/nrn/lib/nrnunits.lib /usr/local/lib/python3.9/dist-packages/neuron/.data/bin/nocmodl K_Pst.mod -o \"/content/Stylized-Single-Cell-and-Extracellular-Potential/x86_64\")\n",
            "(cd \"../Model_Reduction_Methods/expand_example/mod\"; MODLUNIT=/usr/local/lib/python3.9/dist-packages/neuron/.data/share/nrn/lib/nrnunits.lib /usr/local/lib/python3.9/dist-packages/neuron/.data/bin/nocmodl K_Tst.mod -o \"/content/Stylized-Single-Cell-and-Extracellular-Potential/x86_64\")\n",
            "Translating K_Pst.mod into /content/Stylized-Single-Cell-and-Extracellular-Potential/x86_64/K_Pst.c\n",
            "Translating K_Tst.mod into /content/Stylized-Single-Cell-and-Extracellular-Potential/x86_64/K_Tst.c\n",
            "Thread Safe\n",
            "Thread Safe\n",
            " -> \u001b[32mNMODL\u001b[0m ../Model_Reduction_Methods/expand_example/mod/Nap_Et2.mod\n",
            "Thread Safe\n",
            "(cd \"../Model_Reduction_Methods/expand_example/mod\"; MODLUNIT=/usr/local/lib/python3.9/dist-packages/neuron/.data/share/nrn/lib/nrnunits.lib /usr/local/lib/python3.9/dist-packages/neuron/.data/bin/nocmodl Nap_Et2.mod -o \"/content/Stylized-Single-Cell-and-Extracellular-Potential/x86_64\")\n",
            " -> \u001b[32mNMODL\u001b[0m ../Model_Reduction_Methods/expand_example/mod/NaTa_t.mod\n",
            "(cd \"../Model_Reduction_Methods/expand_example/mod\"; MODLUNIT=/usr/local/lib/python3.9/dist-packages/neuron/.data/share/nrn/lib/nrnunits.lib /usr/local/lib/python3.9/dist-packages/neuron/.data/bin/nocmodl NaTa_t.mod -o \"/content/Stylized-Single-Cell-and-Extracellular-Potential/x86_64\")\n",
            "Translating Nap_Et2.mod into /content/Stylized-Single-Cell-and-Extracellular-Potential/x86_64/Nap_Et2.c\n",
            " -> \u001b[32mNMODL\u001b[0m ../Model_Reduction_Methods/expand_example/mod/NaTs2_t.mod\n",
            "(cd \"../Model_Reduction_Methods/expand_example/mod\"; MODLUNIT=/usr/local/lib/python3.9/dist-packages/neuron/.data/share/nrn/lib/nrnunits.lib /usr/local/lib/python3.9/dist-packages/neuron/.data/bin/nocmodl NaTs2_t.mod -o \"/content/Stylized-Single-Cell-and-Extracellular-Potential/x86_64\")\n",
            "Translating NaTa_t.mod into /content/Stylized-Single-Cell-and-Extracellular-Potential/x86_64/NaTa_t.c\n",
            "Thread Safe\n",
            "Thread Safe\n",
            " -> \u001b[32mNMODL\u001b[0m ../Model_Reduction_Methods/expand_example/mod/SK_E2.mod\n",
            "Translating NaTs2_t.mod into /content/Stylized-Single-Cell-and-Extracellular-Potential/x86_64/NaTs2_t.c\n",
            "(cd \"../Model_Reduction_Methods/expand_example/mod\"; MODLUNIT=/usr/local/lib/python3.9/dist-packages/neuron/.data/share/nrn/lib/nrnunits.lib /usr/local/lib/python3.9/dist-packages/neuron/.data/bin/nocmodl SK_E2.mod -o \"/content/Stylized-Single-Cell-and-Extracellular-Potential/x86_64\")\n",
            "Thread Safe\n",
            " -> \u001b[32mNMODL\u001b[0m ../Model_Reduction_Methods/expand_example/mod/SKv3_1.mod\n",
            "(cd \"../Model_Reduction_Methods/expand_example/mod\"; MODLUNIT=/usr/local/lib/python3.9/dist-packages/neuron/.data/share/nrn/lib/nrnunits.lib /usr/local/lib/python3.9/dist-packages/neuron/.data/bin/nocmodl SKv3_1.mod -o \"/content/Stylized-Single-Cell-and-Extracellular-Potential/x86_64\")\n",
            "Translating SK_E2.mod into /content/Stylized-Single-Cell-and-Extracellular-Potential/x86_64/SK_E2.c\n",
            "Translating SKv3_1.mod into /content/Stylized-Single-Cell-and-Extracellular-Potential/x86_64/SKv3_1.c\n",
            "Thread Safe\n",
            "Thread Safe\n",
            " -> \u001b[32mCompiling\u001b[0m CaDynamics_E2.c\n",
            "x86_64-linux-gnu-gcc -O2   -I\"../Model_Reduction_Methods/expand_example/mod\" -I.   -I/usr/local/lib/python3.9/dist-packages/neuron/.data/include  -I/nrnwheel/openmpi/include -fPIC -c CaDynamics_E2.c -o CaDynamics_E2.o\n",
            " -> \u001b[32mCompiling\u001b[0m Ca_HVA.c\n",
            "x86_64-linux-gnu-gcc -O2   -I\"../Model_Reduction_Methods/expand_example/mod\" -I.   -I/usr/local/lib/python3.9/dist-packages/neuron/.data/include  -I/nrnwheel/openmpi/include -fPIC -c Ca_HVA.c -o Ca_HVA.o\n",
            " -> \u001b[32mCompiling\u001b[0m Ca_LVAst.c\n",
            "x86_64-linux-gnu-gcc -O2   -I\"../Model_Reduction_Methods/expand_example/mod\" -I.   -I/usr/local/lib/python3.9/dist-packages/neuron/.data/include  -I/nrnwheel/openmpi/include -fPIC -c Ca_LVAst.c -o Ca_LVAst.o\n",
            " -> \u001b[32mCompiling\u001b[0m epsp.c\n",
            "x86_64-linux-gnu-gcc -O2   -I\"../Model_Reduction_Methods/expand_example/mod\" -I.   -I/usr/local/lib/python3.9/dist-packages/neuron/.data/include  -I/nrnwheel/openmpi/include -fPIC -c epsp.c -o epsp.o\n",
            " -> \u001b[32mCompiling\u001b[0m Ih.c\n",
            "x86_64-linux-gnu-gcc -O2   -I\"../Model_Reduction_Methods/expand_example/mod\" -I.   -I/usr/local/lib/python3.9/dist-packages/neuron/.data/include  -I/nrnwheel/openmpi/include -fPIC -c Ih.c -o Ih.o\n",
            " -> \u001b[32mCompiling\u001b[0m Im.c\n",
            "x86_64-linux-gnu-gcc -O2   -I\"../Model_Reduction_Methods/expand_example/mod\" -I.   -I/usr/local/lib/python3.9/dist-packages/neuron/.data/include  -I/nrnwheel/openmpi/include -fPIC -c Im.c -o Im.o\n",
            " -> \u001b[32mCompiling\u001b[0m K_Pst.c\n",
            "x86_64-linux-gnu-gcc -O2   -I\"../Model_Reduction_Methods/expand_example/mod\" -I.   -I/usr/local/lib/python3.9/dist-packages/neuron/.data/include  -I/nrnwheel/openmpi/include -fPIC -c K_Pst.c -o K_Pst.o\n",
            " -> \u001b[32mCompiling\u001b[0m K_Tst.c\n",
            "x86_64-linux-gnu-gcc -O2   -I\"../Model_Reduction_Methods/expand_example/mod\" -I.   -I/usr/local/lib/python3.9/dist-packages/neuron/.data/include  -I/nrnwheel/openmpi/include -fPIC -c K_Tst.c -o K_Tst.o\n",
            " -> \u001b[32mCompiling\u001b[0m Nap_Et2.c\n",
            "x86_64-linux-gnu-gcc -O2   -I\"../Model_Reduction_Methods/expand_example/mod\" -I.   -I/usr/local/lib/python3.9/dist-packages/neuron/.data/include  -I/nrnwheel/openmpi/include -fPIC -c Nap_Et2.c -o Nap_Et2.o\n",
            " -> \u001b[32mCompiling\u001b[0m NaTa_t.c\n",
            "x86_64-linux-gnu-gcc -O2   -I\"../Model_Reduction_Methods/expand_example/mod\" -I.   -I/usr/local/lib/python3.9/dist-packages/neuron/.data/include  -I/nrnwheel/openmpi/include -fPIC -c NaTa_t.c -o NaTa_t.o\n",
            " -> \u001b[32mCompiling\u001b[0m NaTs2_t.c\n",
            "x86_64-linux-gnu-gcc -O2   -I\"../Model_Reduction_Methods/expand_example/mod\" -I.   -I/usr/local/lib/python3.9/dist-packages/neuron/.data/include  -I/nrnwheel/openmpi/include -fPIC -c NaTs2_t.c -o NaTs2_t.o\n",
            " -> \u001b[32mCompiling\u001b[0m SK_E2.c\n",
            "x86_64-linux-gnu-gcc -O2   -I\"../Model_Reduction_Methods/expand_example/mod\" -I.   -I/usr/local/lib/python3.9/dist-packages/neuron/.data/include  -I/nrnwheel/openmpi/include -fPIC -c SK_E2.c -o SK_E2.o\n",
            " -> \u001b[32mCompiling\u001b[0m SKv3_1.c\n",
            "x86_64-linux-gnu-gcc -O2   -I\"../Model_Reduction_Methods/expand_example/mod\" -I.   -I/usr/local/lib/python3.9/dist-packages/neuron/.data/include  -I/nrnwheel/openmpi/include -fPIC -c SKv3_1.c -o SKv3_1.o\n",
            " => \u001b[32mLINKING\u001b[0m shared library ./libnrnmech.so\n",
            "x86_64-linux-gnu-g++ -O2 -DVERSION_INFO='8.0.0' -std=c++11 -shared -fPIC  -I /usr/local/lib/python3.9/dist-packages/neuron/.data/include -o ./libnrnmech.so -Wl,-soname,libnrnmech.so \\\n",
            "  ./mod_func.o ./CaDynamics_E2.o ./Ca_HVA.o ./Ca_LVAst.o ./epsp.o ./Ih.o ./Im.o ./K_Pst.o ./K_Tst.o ./Nap_Et2.o ./NaTa_t.o ./NaTs2_t.o ./SK_E2.o ./SKv3_1.o  -L/usr/local/lib/python3.9/dist-packages/neuron/.data/lib -lnrniv -Wl,-rpath,/usr/local/lib/python3.9/dist-packages/neuron/.data/lib   \n",
            "rm -f ./.libs/libnrnmech.so ; mkdir -p ./.libs ; cp ./libnrnmech.so ./.libs/libnrnmech.so\n",
            "Successfully created x86_64/special\n"
          ]
        }
      ]
    },
    {
      "cell_type": "markdown",
      "id": "2a84fbea",
      "metadata": {
        "id": "2a84fbea"
      },
      "source": [
        "## Setup smiulation parameters"
      ]
    },
    {
      "cell_type": "code",
      "execution_count": 6,
      "id": "4be7f6fd",
      "metadata": {
        "id": "4be7f6fd"
      },
      "outputs": [],
      "source": [
        "import numpy as np\n",
        "import pandas as pd\n",
        "import json\n",
        "import matplotlib.pyplot as plt\n",
        "import ipywidgets as widgets\n",
        "from neuron import h\n",
        "from scipy import signal\n",
        "from IPython.display import display, clear_output\n",
        "from ipywidgets import interactive_output, HBox, VBox, Label, Layout\n",
        "from cell_inference.config import params, paths\n",
        "from cell_inference.cells.activecell_axon import ReducedOrderL5Cell, ReducedOrderL5CellPassiveDendrite\n",
        "from cell_inference.utils.currents.ecp import EcpMod\n",
        "from cell_inference.utils.currents.recorder import Recorder\n",
        "from cell_inference.utils.plotting.plot_morphology import plot_morphology\n",
        "from cell_inference.utils.plotting.plot_results import plot_lfp_heatmap, plot_lfp_traces\n",
        "from cell_inference.utils.plotting.plot_variable_with_morphology import plot_variable_with_morphology\n",
        "from cell_inference.utils.metrics.measure_segment_distance import measure_segment_distance\n",
        "\n",
        "from __future__ import division\n",
        "from neuron import gui,h\n",
        "import numpy as np\n",
        "import time\n",
        "import matplotlib.pyplot as plt\n",
        "\n",
        "%matplotlib inline\n",
        "\n",
        "\n",
        "h.load_file('stdrun.hoc')\n",
        "# h.nrn_load_dll(paths.COMPILED_LIBRARY_REDUCED_ORDER)  # choose the set of mechanisms\n",
        "h.nrn_load_dll('./x86_64/.libs/libnrnmech.so')\n",
        "\n",
        "h.dt = params.DT  # time step\n",
        "h.steps_per_ms = 1/h.dt\n",
        "h.tstop = params.TSTOP  # simulation stop time"
      ]
    },
    {
      "cell_type": "markdown",
      "id": "7927a07b",
      "metadata": {
        "id": "7927a07b"
      },
      "source": [
        "### Create a cell with reduced morphology"
      ]
    },
    {
      "cell_type": "code",
      "source": [
        "from typing import Optional, Union, List\n",
        "\n",
        "class cell_model():\n",
        "  '''expanded cell model class for ECP calculation\n",
        "  takes cell model and does bookkeeping for analysis functions\n",
        "  '''\n",
        "  def __init__(self,model,spike_threshold):\n",
        "    self.all=model.all\n",
        "    self.soma=model.soma\n",
        "    self.apic=model.apic\n",
        "    self.dend=model.dend\n",
        "    self.axon=model.axon\n",
        "    self.segments=[]\n",
        "    self.injection=[]\n",
        "    self.sec_id_lookup = {}  # dictionary from section type id to section index\n",
        "    self.sec_id_in_seg = []  # index of the first segment of each section in the segment list\n",
        "    self.__store_segments()\n",
        "    self.__set_spike_recorder()\n",
        "\n",
        "  def __calc_seg_coords(self):\n",
        "    \"\"\"Calculate segment coordinates for ECP calculation\"\"\"\n",
        "    p0 = np.empty((self._nseg, 3))\n",
        "    p1 = np.empty((self._nseg, 3))\n",
        "    p05 = np.empty((self._nseg, 3))\n",
        "    r = np.empty(self._nseg)\n",
        "    for isec, sec in enumerate(self.all):\n",
        "        iseg = self.sec_id_in_seg[isec]\n",
        "        nseg = sec.nseg\n",
        "        pt0 = np.array([sec.x3d(0), sec.y3d(0), sec.z3d(0)])\n",
        "        pt1 = np.array([sec.x3d(1), sec.y3d(1), sec.z3d(1)])\n",
        "        pts = np.linspace(pt0, pt1, 2 * nseg + 1)\n",
        "        p0[iseg:iseg + nseg, :] = pts[:-2:2, :]\n",
        "        p1[iseg:iseg + nseg, :] = pts[2::2, :]\n",
        "        p05[iseg:iseg + nseg, :] = pts[1:-1:2, :]\n",
        "        r[iseg:iseg + nseg] = sec.diam / 2\n",
        "    self.seg_coords = {'dl': p1 - p0, 'pc': p05, 'r': r}\n",
        "\n",
        "  def __store_segments(self):\n",
        "    self.segments = []\n",
        "    self.sec_id_in_seg = []\n",
        "    nseg = 0\n",
        "    for sec in self.all:\n",
        "        self.sec_id_in_seg.append(nseg)\n",
        "        nseg += sec.nseg\n",
        "        for seg in sec:\n",
        "            self.segments.append(seg)\n",
        "            self.__store_point_processes(seg)\n",
        "    self._nseg = nseg\n",
        "\n",
        "  def __store_point_processes(self,seg):\n",
        "    for pp in seg.point_processes:\n",
        "        self.injection.append(pp)\n",
        "\n",
        "  def __set_spike_recorder(self, threshold: Optional = None):\n",
        "      if threshold is not None:\n",
        "          self.spike_threshold = threshold\n",
        "      if self.spike_threshold is None:\n",
        "          self.spikes = None\n",
        "      else:\n",
        "          vec = h.Vector()\n",
        "          nc = h.NetCon(self.soma(0.5)._ref_v, None, sec=self.soma)\n",
        "          nc.threshold = self.spike_threshold\n",
        "          nc.record(vec)\n",
        "          self.spikes = vec\n",
        "\n",
        "  def add_synapse(self, stim: h.NetStim, sec_index: int, **kwargs):\n",
        "        \"\"\"Add synapse to a section by its index\"\"\"\n",
        "        self.synapse.append(Synapse(self, stim, sec_index, **kwargs))"
      ],
      "metadata": {
        "id": "ZS3X-yZr-4kV"
      },
      "id": "ZS3X-yZr-4kV",
      "execution_count": 7,
      "outputs": []
    },
    {
      "cell_type": "code",
      "execution_count": 8,
      "id": "18a97eeb",
      "metadata": {
        "id": "18a97eeb",
        "outputId": "9dc6142f-50b9-4129-8e97-e0be44824732",
        "colab": {
          "base_uri": "https://localhost:8080/",
          "height": 393
        }
      },
      "outputs": [
        {
          "output_type": "stream",
          "name": "stderr",
          "text": [
            "NEURON: Couldn't find: ./L5PCbiophys3.hoc\n",
            " near line 0\n",
            " ^\n",
            "NEURON: Couldn't find: ./import3d.hoc\n",
            " near line 0\n",
            " ^\n",
            "NEURON: Couldn't find: ./L5PCtemplate.hoc\n",
            " near line 0\n",
            " ^\n"
          ]
        },
        {
          "output_type": "error",
          "ename": "AttributeError",
          "evalue": "ignored",
          "traceback": [
            "\u001b[0;31m---------------------------------------------------------------------------\u001b[0m",
            "\u001b[0;31mAttributeError\u001b[0m                            Traceback (most recent call last)",
            "\u001b[0;32m<ipython-input-8-61cc9acd2877>\u001b[0m in \u001b[0;36m<cell line: 18>\u001b[0;34m()\u001b[0m\n\u001b[1;32m     16\u001b[0m \u001b[0;31m# cell = ReducedOrderL5CellPassiveDendrite(geometry=geometry, full_biophys=biophys_param)\u001b[0m\u001b[0;34m\u001b[0m\u001b[0;34m\u001b[0m\u001b[0m\n\u001b[1;32m     17\u001b[0m \u001b[0mh\u001b[0m\u001b[0;34m.\u001b[0m\u001b[0mload_file\u001b[0m\u001b[0;34m(\u001b[0m\u001b[0;34m'./L5PCtemplate.hoc'\u001b[0m\u001b[0;34m)\u001b[0m\u001b[0;34m\u001b[0m\u001b[0;34m\u001b[0m\u001b[0m\n\u001b[0;32m---> 18\u001b[0;31m \u001b[0mcomplex_cell\u001b[0m \u001b[0;34m=\u001b[0m \u001b[0mh\u001b[0m\u001b[0;34m.\u001b[0m\u001b[0mL5PCtemplate\u001b[0m\u001b[0;34m(\u001b[0m\u001b[0;34m'cell1.asc'\u001b[0m\u001b[0;34m)\u001b[0m\u001b[0;34m\u001b[0m\u001b[0;34m\u001b[0m\u001b[0m\n\u001b[0m\u001b[1;32m     19\u001b[0m \u001b[0mh\u001b[0m\u001b[0;34m.\u001b[0m\u001b[0mcelsius\u001b[0m \u001b[0;34m=\u001b[0m \u001b[0;36m37\u001b[0m\u001b[0;34m\u001b[0m\u001b[0;34m\u001b[0m\u001b[0m\n\u001b[1;32m     20\u001b[0m \u001b[0mh\u001b[0m\u001b[0;34m.\u001b[0m\u001b[0mv_init\u001b[0m \u001b[0;34m=\u001b[0m \u001b[0mcomplex_cell\u001b[0m\u001b[0;34m.\u001b[0m\u001b[0msoma\u001b[0m\u001b[0;34m[\u001b[0m\u001b[0;36m0\u001b[0m\u001b[0;34m]\u001b[0m\u001b[0;34m.\u001b[0m\u001b[0me_pas\u001b[0m\u001b[0;34m\u001b[0m\u001b[0;34m\u001b[0m\u001b[0m\n",
            "\u001b[0;31mAttributeError\u001b[0m: 'hoc.HocObject' object has no attribute 'L5PCtemplate'"
          ]
        }
      ],
      "source": [
        "# # Load biophysical parameters from a json file\n",
        "# filepath = os.path.join(paths.RESOURCES_ROOT, 'biophys_parameters/ReducedOrderL5_passive.json')\n",
        "# with open(filepath) as f:\n",
        "#     biophys_param = json.load(f)\n",
        "# for genome in biophys_param['genome']:\n",
        "#     if genome['value'] != \"\": genome['value'] = float(genome['value'])\n",
        "\n",
        "h.load_file('./L5PCbiophys3.hoc')\n",
        "\n",
        "# # Load morphology parameters from a csv file\n",
        "# geometry = pd.read_csv(paths.GEO_REDUCED_ORDER, index_col='id')\n",
        "h.load_file(\"./import3d.hoc\")\n",
        "\n",
        "\n",
        "# Create a cell object\n",
        "# cell = ReducedOrderL5CellPassiveDendrite(geometry=geometry, full_biophys=biophys_param)\n",
        "h.load_file('./L5PCtemplate.hoc')\n",
        "complex_cell = h.L5PCtemplate('cell1.asc')\n",
        "h.celsius = 37\n",
        "h.v_init = complex_cell.soma[0].e_pas\n",
        "\n",
        "synapses_list=[]\n",
        "netcons_list=[]\n",
        "\n",
        "#reduce dendritic trees to cables\n",
        "reduced_cell, synapses_list, netcons_list, txt = subtree_reductor(complex_cell, synapses_list, netcons_list, reduction_frequency=0,return_seg_to_seg=True)\n",
        "\n",
        "#expand cables to idealized dendritic trees\n",
        "reduced_dendritic_cell, synapses_list, netcons_list, txt = cable_expander(reduced_cell, sections_to_expand, furcations_x, nbranches, \n",
        "                                                                          synapses_list, netcons_list, reduction_frequency=0,return_seg_to_seg=True)\n",
        "\n",
        "dendritic_cell=cell_model(reduced_dendritic_cell)\n",
        "dendritic_cell._nbranch=4\n",
        "\n",
        "# Create synaptic input\n",
        "stim = h.NetStim()\n",
        "stim.number = 1  # only one event\n",
        "stim.start = 2.0  # delay (ms)\n",
        "gmax = 0.02  # default synapse maximum conductance (uS)\n",
        "# Add synapse to soma\n",
        "dendritic_cell.add_synapse(stim, sec_index=0, gmax=gmax)\n",
        "# Add synapse to apical tufts\n",
        "for i,sec in enumerate(dendritic_cell.apic):\n",
        "    dendritic_cell.add_synapse(stim, sec_index=dendritic_cell.all.index(sec), gmax=gmax / dendritic_cell._nbranch)\n",
        "\n",
        "# Record time points\n",
        "t_vec = h.Vector(round(h.tstop / h.dt) + 1).record(h._ref_t)\n",
        "# Record membrane voltage of all segments\n",
        "V_rec = Recorder(dendritic_cell.segments)"
      ]
    },
    {
      "cell_type": "markdown",
      "id": "22d6f6e6",
      "metadata": {
        "id": "22d6f6e6"
      },
      "source": [
        "### Add electrodes (Neuropixel)\n",
        "A probe with 384 electrodes [https://www.neuropixels.org/probe](https://www.neuropixels.org/probe). The coordinates of each electrode is a row in the array printed below."
      ]
    },
    {
      "cell_type": "code",
      "execution_count": null,
      "id": "8fdb0017",
      "metadata": {
        "id": "8fdb0017"
      },
      "outputs": [],
      "source": [
        "elec_pos = params.ELECTRODE_POSITION\n",
        "ecp = EcpMod(dendritic_cell, elec_pos, min_distance=params.MIN_DISTANCE)  # create an ECP object for extracellular potential\n",
        "\n",
        "# coordinates (x, y, z) of electrodes\n",
        "print(params.ELECTRODE_POSITION.shape)\n",
        "print(params.ELECTRODE_POSITION)"
      ]
    },
    {
      "cell_type": "markdown",
      "id": "c5323608",
      "metadata": {
        "id": "c5323608"
      },
      "source": [
        "## Custom settings\n",
        "\n",
        "Using the interactive tools below, you can change the position of the cell, and change the synapse strength and location on the cell.\n",
        "\n",
        "#### Cell position parameters (x, y, z, alpha, h, phi)\n",
        "Starting with soma at the origin, apical dendrite along y-axis, rotate and translate the cell to the desired position determined by 6 parameters. First, rotate alpha about the y-axis (spin), then rotate beta=arccos(h) about the x-axis (elevation), then rotate phi about the y-axis (azimuth). Finally translate the cell by (x,y,z).\n",
        "\n",
        "Use the sliders to change the 6 position parameters. Use the sliders 'elev' and 'azim' to change view of the 3D plot."
      ]
    },
    {
      "cell_type": "code",
      "execution_count": null,
      "id": "a3df63ce",
      "metadata": {
        "id": "a3df63ce"
      },
      "outputs": [],
      "source": [
        "loc_param_default = [0., 0., 80., 0., 1., 0.]  # Default position parameters\n",
        "elev, azim = 10, -70  # Default view\n",
        "clr = ['g', 'yellow', 'orange', 'red', 'b', 'c', 'g', 'yellow', 'orange', 'red', 'pink', 'purple']  # section color\n",
        "\n",
        "def interactive_plot(x, y, z, alpha, beta, phi, elev, azim):\n",
        "    global loc_param\n",
        "    loc_param = (x, y, z, np.pi/180*alpha, np.cos(np.pi/180*beta), np.pi/180*phi)\n",
        "    fig, ax = plot_morphology(cell=cell, electrodes=elec_pos, move_cell=loc_param,\n",
        "                    elev=-elev, azim=-azim, figsize=(12, 8), clr = clr)\n",
        "    plt.show()\n",
        "\n",
        "xslider = Layout(width='500px')\n",
        "yslider = Layout(height='350px')\n",
        "w_reset = widgets.Button(description='Reset', icon='history', button_style='primary')\n",
        "w_x = widgets.FloatSlider(value=loc_param_default[0], min=-200, max=200, step=1, description='x (um)', continuous_update=False, readout_format='.0f')\n",
        "w_y = widgets.FloatSlider(value=loc_param_default[1], min=-1000, max=1000, step=1, description='y (um)', continuous_update=False, readout_format='.0f')\n",
        "w_z = widgets.FloatSlider(value=loc_param_default[2], min=20, max=400, step=1, description='z (um)', continuous_update=False, readout_format='.0f')\n",
        "w_alpha = widgets.FloatSlider(value=180/np.pi*loc_param_default[3], min=-180, max=180, step=1, description='alpha (deg)', continuous_update=False, readout_format='.0f')\n",
        "w_beta = widgets.FloatSlider(value=180/np.pi*np.arccos(loc_param_default[4]), min=0, max=180, step=1, description='beta (deg)', continuous_update=False, readout_format='.0f')\n",
        "w_phi = widgets.FloatSlider(value=180/np.pi*loc_param_default[5], min=-180, max=180, step=1, description='phi (deg)', continuous_update=False, readout_format='.0f')\n",
        "w_elev = widgets.FloatSlider(value=-elev, min=-90, max=90, step=1, description='elev (deg)', continuous_update=False, readout_format='.0f', orientation='vertical', layout=yslider)\n",
        "w_azim = widgets.FloatSlider(value=-azim, min=-180, max=180, step=1, description='azim (deg)', continuous_update=False, readout_format='.0f', layout=xslider)\n",
        "\n",
        "def reset_default(*args):\n",
        "    w_x.value, w_y.value, w_z.value = loc_param_default[:3]\n",
        "    w_alpha.value = 180 / np.pi * loc_param_default[3]\n",
        "    w_beta.value = 180 / np.pi * np.arccos(loc_param_default[4])\n",
        "    w_phi.value = 180 / np.pi * loc_param_default[5]\n",
        "    w_elev.value, w_azim.value = -elev, -azim\n",
        "w_reset.on_click(reset_default)\n",
        "\n",
        "out = interactive_output(interactive_plot, {'x': w_x, 'y': w_y, 'z': w_z, 'alpha': w_alpha, 'beta': w_beta, 'phi': w_phi, 'elev': w_elev, 'azim': w_azim})\n",
        "ui = VBox([ w_reset, HBox([ VBox([w_x, w_y, w_z]), VBox([w_alpha, w_beta, w_phi]) ]), HBox([ VBox([out, w_azim]), w_elev]) ])\n",
        "\n",
        "display(ui)"
      ]
    },
    {
      "cell_type": "markdown",
      "id": "0d582310",
      "metadata": {
        "id": "0d582310"
      },
      "source": [
        "#### Set synaptic input\n",
        "\n",
        "Use the toggle button to switch synapse location between the soma and the proximal apical tuft dendrite. Use the slider 'Synapse maximal conductance' to change synapse strength."
      ]
    },
    {
      "cell_type": "code",
      "execution_count": null,
      "id": "ce8d1856",
      "metadata": {
        "id": "ce8d1856"
      },
      "outputs": [],
      "source": [
        "w_syn_site = widgets.ToggleButtons(options=['Soma', 'Apical tuft (proximal)'])\n",
        "w_gmax = widgets.FloatSlider(value=gmax, min=0, max=0.1, step=0.0002, readout_format='.4f')\n",
        "display(VBox([w_syn_site, HBox([Label('Synapse maximal conductance (uS)'), w_gmax])]))\n",
        "\n",
        "def set_synapse():\n",
        "    soma_syn = w_syn_site.value == 'Soma'\n",
        "    gmax_soma = w_gmax.value if soma_syn else 0\n",
        "    gmax_tuft = 0 if soma_syn else w_gmax.value / cell._nbranch\n",
        "    cell.synapse[0].set_gmax(gmax_soma)\n",
        "    for syn in cell.synapse[1:]:\n",
        "        syn.set_gmax(gmax_tuft)"
      ]
    },
    {
      "cell_type": "markdown",
      "id": "2ca15375",
      "metadata": {
        "id": "2ca15375"
      },
      "source": [
        "## Run simulation and plot results\n",
        "\n",
        "Run the codes below to simulate and display results everytime after you change the parameters above."
      ]
    },
    {
      "cell_type": "code",
      "execution_count": null,
      "id": "f81ec874",
      "metadata": {
        "id": "f81ec874"
      },
      "outputs": [],
      "source": [
        "# Run simulation\n",
        "set_synapse()\n",
        "h.run()\n",
        "# Get results\n",
        "t = t_vec.as_numpy().copy()  # time array (ms)\n",
        "# soma membrane potential\n",
        "Vm = V_rec.as_numpy()\n",
        "v_soma = Vm[cell.sec_id_in_seg[cell.grp_ids[0][0]]]\n",
        "v_tfut = Vm[cell.sec_id_in_seg[cell.grp_ids[5][0]]]\n",
        "# lfp array\n",
        "lfp = ecp.calc_ecp(move_cell=loc_param).T  # unit: mV\n",
        "\n",
        "# Soma membrane potential\n",
        "plt.figure(figsize=(10, 4))\n",
        "plt.plot(t, v_soma, label='Soma')\n",
        "plt.plot(t, v_tfut, label='Tuft')\n",
        "plt.ylabel('Membrane potential (mV)')\n",
        "plt.xlabel('time (ms)')\n",
        "plt.xlim(t[[0, -1]])\n",
        "plt.legend()\n",
        "\n",
        "# Extracellular potential along y-axis\n",
        "y_window = [-1200, 1200]  # select range of y coordinate for plotting\n",
        "ylim = loc_param[1] + np.array(y_window)  # set range of y coordinate\n",
        "max_idx = np.argmax(np.amax(np.abs(lfp), axis=0))  # find the electrode that records maximum magnitude\n",
        "x_dist = elec_pos[max_idx, 0]  # x coordinate of the maximum magnitude electrode\n",
        "e_idx = (elec_pos[:, 0]==x_dist) & (elec_pos[:, 1]>=ylim[0]) & (elec_pos[:, 1]<=ylim[1])  # selected electrode indices\n",
        "\n",
        "fontsize = 15\n",
        "labelpad = -10\n",
        "ticksize = 12\n",
        "tick_length = 5\n",
        "nbins = 5\n",
        "plt.figure(figsize=(8, 5))\n",
        "_ = plot_lfp_heatmap(t=t, elec_d=elec_pos[e_idx, 1], lfp=lfp[:, e_idx],\n",
        "                     fontsize=fontsize, labelpad=labelpad, ticksize=ticksize, tick_length=tick_length,\n",
        "                     nbins=nbins, vlim='auto', axes=plt.gca())\n",
        "plt.title('Extracellular potential heatmap')\n",
        "plt.figure(figsize=(8, 5))\n",
        "_ = plot_lfp_traces(t, lfp[:, e_idx][:,1::3], electrodes=elec_pos[e_idx][1::3],\n",
        "                    fontsize=fontsize, labelpad=labelpad, ticksize=ticksize, tick_length=tick_length,\n",
        "                    nbins=nbins, axes=plt.gca())\n",
        "plt.title('Extracellular potential timecourse')\n",
        "\n",
        "plt.show()"
      ]
    },
    {
      "cell_type": "markdown",
      "id": "5c3e3e52",
      "metadata": {
        "id": "5c3e3e52"
      },
      "source": [
        "## Electrotonic distance\n",
        "\n",
        "Neuron has a tool for electrotonic analysis [https://www.neuron.yale.edu/neuron/static/docs/zclass/zclass.html](https://www.neuron.yale.edu/neuron/static/docs/zclass/zclass.html). It computes the electrotonic distance defined by attenuation, but the classical definition is [anatomical distance/length constant](https://www.neuron.yale.edu/neuron/static/docs/zclass/NIPS94/nipsfin.html).\n",
        "\n",
        "The plot below shows the membrane potential timecourse at several locations on the cell. The electrotonic distance computed by Neuron of each location is also shown with both number and color. The distance should always be a positive value, but it is labeled negative for the basal dendrites and the axon intentionally so that it can be easily distinguished from the apical dendrites."
      ]
    },
    {
      "cell_type": "code",
      "execution_count": null,
      "id": "729a65ff",
      "metadata": {
        "id": "729a65ff"
      },
      "outputs": [],
      "source": [
        "for syn in cell.synapse:\n",
        "    syn.set_gmax(0)\n",
        "h.run()\n",
        "\n",
        "sec_type_swc = {sec['name']: sec['type'] for _, sec in geometry.iterrows()}\n",
        "sec_type = [sec_type_swc[sec.name().split('.')[-1]] for sec in cell.all]\n",
        "freq = 0 # Hz\n",
        "seg_prop, _, _ = measure_segment_distance(cell.soma , cell.all, sec_type, freq)\n",
        "\n",
        "select_seg = [[cell.sec_id_in_seg[sec[0]], cell.get_sec_by_id(sec[0]).nseg -1] for sec in cell.sec_id_lookup.values()]\n",
        "select_seg = np.sum(np.array(select_seg), axis=1)\n",
        "# select_seg = np.unique(np.cumsum(np.array(select_seg), axis=1).ravel())\n",
        "_ = plot_variable_with_morphology(cell.seg_coords, seg_prop, Vm, t=t, axes=['x', 'y'],\n",
        "                                  distance_type='elec_dist', n_dist=300,\n",
        "                                  select_seg=select_seg, max_per_dist=1, varname='Membrane potential (mV)',\n",
        "                                  space=2., normalized_space=True, sort_by_dist=True,\n",
        "                                  figsize=(10, 10), fontsize=15, scalebar_size=50)"
      ]
    },
    {
      "cell_type": "markdown",
      "source": [
        "##Transfer Impedance\n",
        "\n"
      ],
      "metadata": {
        "id": "Tc1fFLPUz5Qe"
      },
      "id": "Tc1fFLPUz5Qe"
    },
    {
      "cell_type": "code",
      "execution_count": null,
      "id": "be859ed7",
      "metadata": {
        "id": "be859ed7"
      },
      "outputs": [],
      "source": [
        "import numpy as np\n",
        "from neuron import h\n",
        "import cmath\n",
        "\n",
        "def measure_segment_transfer_impedance(soma, section_list, sec_type, freq=0, extracellular_mechanism=True):\n",
        "    \"\"\"\n",
        "    soma: soma section object\n",
        "    section_list: list of sections\n",
        "    sec_type: list of swc type id of sections\n",
        "    freq: frequency (Hz) at which electrotonic distance is evaluated\n",
        "    extracellular_mechanism: whether extracellular mechanism is used\n",
        "    \"\"\"\n",
        "    seg_prop = {}\n",
        "    swc_type = []\n",
        "    seg_area = []\n",
        "    seg_dist = []\n",
        "    seg_length = []\n",
        "    elec_dist = [] #modulus part of polar form #should change names\n",
        "    elec_dist0 = [] #modulus of polar form #should change names\n",
        "    transfer_imps = [] #real part of rectangular form\n",
        "    transfer_imps0 = [] # real part of rectangular form\n",
        "\n",
        "    # set up distance origin\n",
        "    h.distance(0, soma(.5))\n",
        "    # set up electrotonic origin\n",
        "    zz = h.Impedance()\n",
        "    zz.loc(soma(.5))\n",
        "    if extracellular_mechanism:\n",
        "        zz.compute(freq + 1 / 9e9, 0) #*\n",
        "    else:\n",
        "        zz.compute(freq, 1)\n",
        "    # measure distance\n",
        "    for i, sec in enumerate(section_list):\n",
        "        if sec_type[i]==1:\n",
        "            transfer_imp=zz.transfer(sec(0.5/sec.nseg)) #*\n",
        "            transfer_phase=zz.transfer_phase(sec(0.5/sec.nseg)) #*\n",
        "            elec_dist0.append(transfer_imp) #*\n",
        "            rect_complex=cmath.rect(transfer_imp,transfer_phase)\n",
        "            transfer_imps.append(rect_complex.real) #*\n",
        "        else:\n",
        "            transfer_imp=zz.transfer(sec.parentseg()) #*\n",
        "            transfer_phase=zz.transfer_phase(sec.parentseg()) #*\n",
        "            elec_dist0.append(transfer_imp) #*\n",
        "            rect_complex=cmath.rect(transfer_imp, transfer_phase) #*\n",
        "            transfer_imps.append(rect_complex.real) #*\n",
        "        for j, seg in enumerate(sec):\n",
        "            swc_type.append(sec_type[i])\n",
        "            seg_area.append(seg.area())\n",
        "            seg_dist.append(h.distance(seg))\n",
        "            seg_length.append(sec.L/sec.nseg)\n",
        "            if j!=0:\n",
        "                elec_dist0.append(elec_dist[-1])\n",
        "                transfer_imps.append(transfer_imps0[-1])\n",
        "            elec_dist.append(zz.transfer(seg)) #*\n",
        "            transfer_imp=zz.transfer(seg) #*\n",
        "            transfer_phase=zz.transfer_phase(seg) #*\n",
        "            rect_complex=cmath.rect(transfer_imp,transfer_phase) #*\n",
        "            transfer_imps0.append(rect_complex.real) #*\n",
        "\n",
        "    seg_prop['swc_type'] = np.array(swc_type)\n",
        "    seg_prop['seg_area'] = np.array(seg_area)\n",
        "\n",
        "    # distance at endpoints of each segment\n",
        "    seg_prop['distance'] = np.expand_dims(seg_dist, 1) + np.expand_dims(seg_length, 1) / 2 * np.array([[-1, 1]])\n",
        "    # seg_prop['transfer_imp'] = np.sort(np.log(elec_dist0[0]) - np.log(np.column_stack([elec_dist0, elec_dist])), axis=1) #*\n",
        "    seg_prop['transfer_imp_mod'] = np.sort(elec_dist0[0] - np.column_stack([elec_dist0, elec_dist]), axis=1) #*\n",
        "    seg_prop['transfer_imp_real'] = np.sort(transfer_imps[0] - np.column_stack([transfer_imps, transfer_imps0]), axis=1) #*\n",
        "\n",
        "\n",
        "    # change sign of basal and axon types\n",
        "    idx = np.nonzero((seg_prop['swc_type']==2) | (seg_prop['swc_type']==3))[0]\n",
        "    seg_prop['distance'][idx] = -seg_prop['distance'][idx,::-1]\n",
        "    seg_prop['transfer_imp_mod'][idx] = -seg_prop['transfer_imp_mod'][idx,::-1] #*\n",
        "    seg_prop['transfer_imp_real'][idx] = -seg_prop['transfer_imp_real'][idx,::-1] #*\n",
        "    return seg_prop, zz.transfer(soma(.5)), zz.transfer_phase(soma(.5))\n"
      ]
    },
    {
      "cell_type": "code",
      "source": [
        "#using modulus of polar form\n",
        "\n",
        "for syn in cell.synapse:\n",
        "    syn.set_gmax(0)\n",
        "h.run()\n",
        "\n",
        "sec_type_swc = {sec['name']: sec['type'] for _, sec in geometry.iterrows()}\n",
        "sec_type = [sec_type_swc[sec.name().split('.')[-1]] for sec in cell.all]\n",
        "freq = 0 # Hz\n",
        "seg_prop, _, _ = measure_segment_transfer_impedance(cell.soma , cell.all, sec_type, freq)\n",
        "\n",
        "select_seg = [[cell.sec_id_in_seg[sec[0]], cell.get_sec_by_id(sec[0]).nseg -1] for sec in cell.sec_id_lookup.values()]\n",
        "select_seg = np.sum(np.array(select_seg), axis=1)\n",
        "# select_seg = np.unique(np.cumsum(np.array(select_seg), axis=1).ravel())\n",
        "_ = plot_variable_with_morphology(cell.seg_coords, seg_prop, Vm, t=t, axes=['x', 'y'],\n",
        "                                  distance_type='transfer_imp_mod', n_dist=300,\n",
        "                                  select_seg=select_seg, max_per_dist=1, varname='Membrane potential (mV)',\n",
        "                                  space=2., normalized_space=True, sort_by_dist=True,\n",
        "                                  figsize=(10, 10), fontsize=15, scalebar_size=50)"
      ],
      "metadata": {
        "id": "yHRymM0L5pJj"
      },
      "id": "yHRymM0L5pJj",
      "execution_count": null,
      "outputs": []
    },
    {
      "cell_type": "code",
      "source": [
        "#using real part of rectangular complex form\n",
        "\n",
        "for syn in cell.synapse:\n",
        "    syn.set_gmax(0)\n",
        "h.run()\n",
        "\n",
        "sec_type_swc = {sec['name']: sec['type'] for _, sec in geometry.iterrows()}\n",
        "sec_type = [sec_type_swc[sec.name().split('.')[-1]] for sec in cell.all]\n",
        "freq = 0 # Hz\n",
        "seg_prop, _, _ = measure_segment_transfer_impedance(cell.soma , cell.all, sec_type, freq)\n",
        "\n",
        "select_seg = [[cell.sec_id_in_seg[sec[0]], cell.get_sec_by_id(sec[0]).nseg -1] for sec in cell.sec_id_lookup.values()]\n",
        "select_seg = np.sum(np.array(select_seg), axis=1)\n",
        "# select_seg = np.unique(np.cumsum(np.array(select_seg), axis=1).ravel())\n",
        "_ = plot_variable_with_morphology(cell.seg_coords, seg_prop, Vm, t=t, axes=['x', 'y'],\n",
        "                                  distance_type='transfer_imp_real', n_dist=300,\n",
        "                                  select_seg=select_seg, max_per_dist=1, varname='Membrane potential (mV)',\n",
        "                                  space=2., normalized_space=True, sort_by_dist=True,\n",
        "                                  figsize=(10, 10), fontsize=15, scalebar_size=50)"
      ],
      "metadata": {
        "id": "Ibbz1qMIjWu5"
      },
      "id": "Ibbz1qMIjWu5",
      "execution_count": null,
      "outputs": []
    },
    {
      "cell_type": "markdown",
      "source": [
        "Transfer Impedance is a complex number"
      ],
      "metadata": {
        "id": "2eSHPclEP0I0"
      },
      "id": "2eSHPclEP0I0"
    },
    {
      "cell_type": "code",
      "source": [
        "polar_modulus=1\n",
        "polar_phase=3\n",
        "\n",
        "complex_rectangular_form=cmath.rect(polar_modulus, polar_phase)\n",
        "print(complex_rectangular_form)"
      ],
      "metadata": {
        "id": "PM8Xa3WATASj"
      },
      "id": "PM8Xa3WATASj",
      "execution_count": null,
      "outputs": []
    },
    {
      "cell_type": "code",
      "source": [
        "complex_rectangular_form.real"
      ],
      "metadata": {
        "id": "BZgkMzBpTLgL"
      },
      "id": "BZgkMzBpTLgL",
      "execution_count": null,
      "outputs": []
    }
  ],
  "metadata": {
    "colab": {
      "provenance": [],
      "include_colab_link": true
    },
    "kernelspec": {
      "display_name": "Python 3 (ipykernel)",
      "language": "python",
      "name": "python3"
    },
    "language_info": {
      "codemirror_mode": {
        "name": "ipython",
        "version": 3
      },
      "file_extension": ".py",
      "mimetype": "text/x-python",
      "name": "python",
      "nbconvert_exporter": "python",
      "pygments_lexer": "ipython3",
      "version": "3.9.12"
    }
  },
  "nbformat": 4,
  "nbformat_minor": 5
}