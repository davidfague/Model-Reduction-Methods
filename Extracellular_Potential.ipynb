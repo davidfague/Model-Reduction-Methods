{
  "cells": [
    {
      "cell_type": "markdown",
      "metadata": {
        "id": "view-in-github",
        "colab_type": "text"
      },
      "source": [
        "<a href=\"https://colab.research.google.com/github/davidfague/Model_Reduction_Methods/blob/main/Extracellular_Potential.ipynb\" target=\"_parent\"><img src=\"https://colab.research.google.com/assets/colab-badge.svg\" alt=\"Open In Colab\"/></a>"
      ]
    },
    {
      "cell_type": "markdown",
      "id": "7a9de89f",
      "metadata": {
        "id": "7a9de89f"
      },
      "source": [
        "# Stylized Single Cell and Extracellular Potential"
      ]
    },
    {
      "cell_type": "markdown",
      "id": "MSX7LmGzszzf",
      "metadata": {
        "id": "MSX7LmGzszzf"
      },
      "source": [
        "#### Download modules from Github"
      ]
    },
    {
      "cell_type": "code",
      "source": [
        "!pip install neuron"
      ],
      "metadata": {
        "id": "-urE9jrxNdxm",
        "colab": {
          "base_uri": "https://localhost:8080/"
        },
        "outputId": "79e340c7-886c-4dfe-c03f-e2be60e36f4d"
      },
      "id": "-urE9jrxNdxm",
      "execution_count": 1,
      "outputs": [
        {
          "output_type": "stream",
          "name": "stdout",
          "text": [
            "Looking in indexes: https://pypi.org/simple, https://us-python.pkg.dev/colab-wheels/public/simple/\n",
            "Collecting neuron\n",
            "  Downloading NEURON-8.2.2-cp39-cp39-manylinux_2_17_x86_64.manylinux2014_x86_64.whl (15.0 MB)\n",
            "\u001b[2K     \u001b[90m━━━━━━━━━━━━━━━━━━━━━━━━━━━━━━━━━━━━━━━━\u001b[0m \u001b[32m15.0/15.0 MB\u001b[0m \u001b[31m42.9 MB/s\u001b[0m eta \u001b[36m0:00:00\u001b[0m\n",
            "\u001b[?25hRequirement already satisfied: numpy>=1.9.3 in /usr/local/lib/python3.9/dist-packages (from neuron) (1.22.4)\n",
            "Installing collected packages: neuron\n",
            "Successfully installed neuron-8.2.2\n"
          ]
        }
      ]
    },
    {
      "cell_type": "code",
      "source": [
        "!pip install neuron_reduce"
      ],
      "metadata": {
        "id": "BHjnRgPsN0g2",
        "colab": {
          "base_uri": "https://localhost:8080/"
        },
        "outputId": "cf0fd992-fafa-463e-ee83-f2fc43a4dd38"
      },
      "id": "BHjnRgPsN0g2",
      "execution_count": 2,
      "outputs": [
        {
          "output_type": "stream",
          "name": "stdout",
          "text": [
            "Looking in indexes: https://pypi.org/simple, https://us-python.pkg.dev/colab-wheels/public/simple/\n",
            "Collecting neuron_reduce\n",
            "  Downloading neuron_reduce-0.0.7-py3-none-any.whl (18 kB)\n",
            "Installing collected packages: neuron_reduce\n",
            "Successfully installed neuron_reduce-0.0.7\n"
          ]
        }
      ]
    },
    {
      "cell_type": "code",
      "source": [
        "!git clone https://github.com/davidfague/Model_Reduction_Methods.git"
      ],
      "metadata": {
        "id": "t4dVzA0WLZ9F",
        "colab": {
          "base_uri": "https://localhost:8080/"
        },
        "outputId": "4df33be5-e1aa-4d1e-da11-14f5b241e530"
      },
      "id": "t4dVzA0WLZ9F",
      "execution_count": 3,
      "outputs": [
        {
          "output_type": "stream",
          "name": "stdout",
          "text": [
            "Cloning into 'Model_Reduction_Methods'...\n",
            "remote: Enumerating objects: 595, done.\u001b[K\n",
            "remote: Counting objects: 100% (281/281), done.\u001b[K\n",
            "remote: Compressing objects: 100% (195/195), done.\u001b[K\n",
            "remote: Total 595 (delta 154), reused 145 (delta 85), pack-reused 314\u001b[K\n",
            "Receiving objects: 100% (595/595), 5.36 MiB | 12.77 MiB/s, done.\n",
            "Resolving deltas: 100% (305/305), done.\n"
          ]
        }
      ]
    },
    {
      "cell_type": "code",
      "source": [
        "%cd Model_Reduction_Methods/\n",
        "\n",
        "#import reduction and expansion functions\n",
        "from test_neuron_reduce.subtree_reductor_func import subtree_reductor\n",
        "from cable_expander_func import cable_expander\n",
        "\n",
        "#import recording functions\n",
        "from stylized_module.recorder import Recorder\n",
        "\n",
        "#import analysis functions\n",
        "from utils import make_seg_df,generate_stylized_geometry,make_reduced_seg_df,plot_morphology,check_connectivity,generate_reduced_cell_seg_coords, create_seg_var_report\n",
        "\n",
        "import pandas as pd"
      ],
      "metadata": {
        "id": "cY9U_KPwLVAz",
        "colab": {
          "base_uri": "https://localhost:8080/"
        },
        "outputId": "99f009e8-0b17-4e32-888e-b8811b327342"
      },
      "id": "cY9U_KPwLVAz",
      "execution_count": 4,
      "outputs": [
        {
          "output_type": "stream",
          "name": "stdout",
          "text": [
            "/content/Model_Reduction_Methods\n"
          ]
        }
      ]
    },
    {
      "cell_type": "code",
      "source": [
        "%cd expand_example"
      ],
      "metadata": {
        "id": "vXTRrX-ILq6D",
        "colab": {
          "base_uri": "https://localhost:8080/"
        },
        "outputId": "d96c7f10-ebe7-4ed9-f615-39e81ae9613c"
      },
      "id": "vXTRrX-ILq6D",
      "execution_count": 5,
      "outputs": [
        {
          "output_type": "stream",
          "name": "stdout",
          "text": [
            "/content/Model_Reduction_Methods/expand_example\n"
          ]
        }
      ]
    },
    {
      "cell_type": "code",
      "source": [
        "# compile the mod files\n",
        "!nrnivmodl mod"
      ],
      "metadata": {
        "id": "Dm-MdGeb6uZB",
        "colab": {
          "base_uri": "https://localhost:8080/"
        },
        "outputId": "7d1b9df6-a7ba-4657-fda8-7c7200ff1756"
      },
      "id": "Dm-MdGeb6uZB",
      "execution_count": 6,
      "outputs": [
        {
          "output_type": "stream",
          "name": "stdout",
          "text": [
            "/content/Model_Reduction_Methods/expand_example\n",
            "Mod files: \"mod/mod/CaDynamics_E2.mod\" \"mod/mod/Ca_HVA.mod\" \"mod/mod/Ca_LVAst.mod\" \"mod/mod/epsp.mod\" \"mod/mod/Ih.mod\" \"mod/mod/Im.mod\" \"mod/mod/K_Pst.mod\" \"mod/mod/K_Tst.mod\" \"mod/mod/Nap_Et2.mod\" \"mod/mod/NaTa_t.mod\" \"mod/mod/NaTs2_t.mod\" \"mod/mod/SK_E2.mod\" \"mod/mod/SKv3_1.mod\"\n",
            "\n",
            "Creating 'x86_64' directory for .o files.\n",
            "\n",
            " -> \u001b[32mCompiling\u001b[0m mod_func.cpp\n",
            " -> \u001b[32mNMODL\u001b[0m ../mod/Ca_HVA.mod\n",
            " -> \u001b[32mNMODL\u001b[0m ../mod/CaDynamics_E2.mod\n",
            " -> \u001b[32mNMODL\u001b[0m ../mod/Ca_LVAst.mod\n",
            "Translating Ca_HVA.mod into /content/Model_Reduction_Methods/expand_example/x86_64/Ca_HVA.c\n",
            "Translating CaDynamics_E2.mod into /content/Model_Reduction_Methods/expand_example/x86_64/CaDynamics_E2.c\n",
            "Thread Safe\n",
            "Thread Safe\n",
            " -> \u001b[32mNMODL\u001b[0m ../mod/epsp.mod\n",
            " -> \u001b[32mNMODL\u001b[0m ../mod/Ih.mod\n",
            "Translating Ca_LVAst.mod into /content/Model_Reduction_Methods/expand_example/x86_64/Ca_LVAst.c\n",
            "Thread Safe\n",
            "Translating epsp.mod into /content/Model_Reduction_Methods/expand_example/x86_64/epsp.c\n",
            "Thread Safe\n",
            " -> \u001b[32mNMODL\u001b[0m ../mod/Im.mod\n",
            " -> \u001b[32mNMODL\u001b[0m ../mod/K_Pst.mod\n",
            "Translating Ih.mod into /content/Model_Reduction_Methods/expand_example/x86_64/Ih.c\n",
            "Thread Safe\n",
            "Translating Im.mod into /content/Model_Reduction_Methods/expand_example/x86_64/Im.c\n",
            "Thread Safe\n",
            " -> \u001b[32mNMODL\u001b[0m ../mod/K_Tst.mod\n",
            "Translating K_Pst.mod into /content/Model_Reduction_Methods/expand_example/x86_64/K_Pst.c\n",
            "Thread Safe\n",
            " -> \u001b[32mNMODL\u001b[0m ../mod/Nap_Et2.mod\n",
            " -> \u001b[32mNMODL\u001b[0m ../mod/NaTa_t.mod\n",
            "Translating K_Tst.mod into /content/Model_Reduction_Methods/expand_example/x86_64/K_Tst.c\n",
            "Thread Safe\n",
            "Translating NaTa_t.mod into /content/Model_Reduction_Methods/expand_example/x86_64/NaTa_t.c\n",
            "Translating Nap_Et2.mod into /content/Model_Reduction_Methods/expand_example/x86_64/Nap_Et2.c\n",
            "Thread Safe\n",
            "Thread Safe\n",
            " -> \u001b[32mNMODL\u001b[0m ../mod/NaTs2_t.mod\n",
            " -> \u001b[32mNMODL\u001b[0m ../mod/SK_E2.mod\n",
            " -> \u001b[32mNMODL\u001b[0m ../mod/SKv3_1.mod\n",
            "Translating NaTs2_t.mod into /content/Model_Reduction_Methods/expand_example/x86_64/NaTs2_t.c\n",
            "Thread Safe\n",
            "Translating SK_E2.mod into /content/Model_Reduction_Methods/expand_example/x86_64/SK_E2.c\n",
            "Thread Safe\n",
            " -> \u001b[32mCompiling\u001b[0m CaDynamics_E2.c\n",
            " -> \u001b[32mCompiling\u001b[0m Ca_HVA.c\n",
            "Translating SKv3_1.mod into /content/Model_Reduction_Methods/expand_example/x86_64/SKv3_1.c\n",
            "Thread Safe\n",
            " -> \u001b[32mCompiling\u001b[0m Ca_LVAst.c\n",
            " -> \u001b[32mCompiling\u001b[0m epsp.c\n",
            " -> \u001b[32mCompiling\u001b[0m Ih.c\n",
            " -> \u001b[32mCompiling\u001b[0m Im.c\n",
            " -> \u001b[32mCompiling\u001b[0m K_Pst.c\n",
            " -> \u001b[32mCompiling\u001b[0m K_Tst.c\n",
            " -> \u001b[32mCompiling\u001b[0m Nap_Et2.c\n",
            " -> \u001b[32mCompiling\u001b[0m NaTa_t.c\n",
            " -> \u001b[32mCompiling\u001b[0m NaTs2_t.c\n",
            " -> \u001b[32mCompiling\u001b[0m SK_E2.c\n",
            " -> \u001b[32mCompiling\u001b[0m SKv3_1.c\n",
            " => \u001b[32mLINKING\u001b[0m shared library ./libnrnmech.so\n",
            " => \u001b[32mLINKING\u001b[0m executable ./special LDFLAGS are:    -pthread\n",
            "Successfully created x86_64/special\n"
          ]
        }
      ]
    },
    {
      "cell_type": "markdown",
      "id": "2a84fbea",
      "metadata": {
        "id": "2a84fbea"
      },
      "source": [
        "## Setup smiulation parameters"
      ]
    },
    {
      "cell_type": "code",
      "execution_count": 7,
      "id": "4be7f6fd",
      "metadata": {
        "id": "4be7f6fd",
        "colab": {
          "base_uri": "https://localhost:8080/"
        },
        "outputId": "fdc60d13-bd35-4980-ae82-5b167174c36f"
      },
      "outputs": [
        {
          "output_type": "execute_result",
          "data": {
            "text/plain": [
              "1.0"
            ]
          },
          "metadata": {},
          "execution_count": 7
        }
      ],
      "source": [
        "import numpy as np\n",
        "import pandas as pd\n",
        "import json\n",
        "import matplotlib.pyplot as plt\n",
        "import ipywidgets as widgets\n",
        "from neuron import h\n",
        "from scipy import signal\n",
        "from IPython.display import display, clear_output\n",
        "from ipywidgets import interactive_output, HBox, VBox, Label, Layout\n",
        "\n",
        "from __future__ import division\n",
        "from neuron import gui,h\n",
        "import numpy as np\n",
        "import time\n",
        "import matplotlib.pyplot as plt\n",
        "\n",
        "%matplotlib inline\n",
        "\n",
        "\n",
        "h.load_file('stdrun.hoc')\n",
        "# h.nrn_load_dll(paths.COMPILED_LIBRARY_REDUCED_ORDER)  # choose the set of mechanisms\n",
        "h.nrn_load_dll('./x86_64/.libs/libnrnmech.so')\n"
      ]
    },
    {
      "cell_type": "markdown",
      "id": "7927a07b",
      "metadata": {
        "id": "7927a07b"
      },
      "source": [
        "### Create a cell with reduced morphology"
      ]
    },
    {
      "cell_type": "code",
      "source": [
        "%ls"
      ],
      "metadata": {
        "id": "s0gis1f1OdWX",
        "colab": {
          "base_uri": "https://localhost:8080/"
        },
        "outputId": "e9c05d25-0d52-4d8c-f83f-db7db52dad5f"
      },
      "id": "s0gis1f1OdWX",
      "execution_count": 8,
      "outputs": [
        {
          "output_type": "stream",
          "name": "stdout",
          "text": [
            "cell1.asc  example_expand.py  L5PCtemplate.hoc  \u001b[0m\u001b[01;34mx86_64\u001b[0m/\n",
            "Cell.hoc   L5PCbiophys3.hoc   \u001b[01;34mmod\u001b[0m/\n"
          ]
        }
      ]
    },
    {
      "cell_type": "code",
      "source": [
        "from abc import ABC, abstractmethod\n",
        "class PointCurrent(ABC):\n",
        "    \"\"\"A module for current point process\"\"\"\n",
        "\n",
        "    def __init__(self, cell, sec_index, loc=0.5):\n",
        "        \"\"\"\n",
        "        cell: target cell object\n",
        "        sec_index: index of the target section in the section list\n",
        "        loc: location on a section, between [0,1]\n",
        "        \"\"\"\n",
        "        self.cell = cell\n",
        "        self.sec_index = sec_index\n",
        "        self.loc = loc\n",
        "        self.pp_obj = None  # point process object\n",
        "        self.rec_vec = None  # vector for recording\n",
        "\n",
        "    @abstractmethod\n",
        "    def setup(self, record: bool = None) -> None:\n",
        "        pass\n",
        "\n",
        "    def setup_recorder(self):\n",
        "        size = [round(h.tstop / h.dt) + 1] if hasattr(h, 'tstop') else []\n",
        "        self.rec_vec = h.Vector(*size).record(self.pp_obj._ref_i)\n",
        "\n",
        "    def get_section(self) -> h.Section:\n",
        "        return self.cell.all[self.sec_index]\n",
        "\n",
        "    def get_segment(self):\n",
        "        return self.pp_obj.get_segment()\n",
        "\n",
        "    def get_segment_id(self) -> int:\n",
        "        \"\"\"Get the index of the injection target segment in the segment list\"\"\"\n",
        "        iseg = int(self.get_segment().x * self.get_section().nseg)\n",
        "        return self.cell.sec_id_in_seg[self.sec_index] + iseg\n"
      ],
      "metadata": {
        "id": "pqECeUrwUfCi"
      },
      "id": "pqECeUrwUfCi",
      "execution_count": 9,
      "outputs": []
    },
    {
      "cell_type": "code",
      "source": [
        "class Synapse(PointCurrent):\n",
        "    def __init__(self, cell, stim: h.NetStim, sec_index: int,\n",
        "                  syn_type: str = 'Exp2Syn', gmax: float = 0.01, loc: float = 0.5,\n",
        "                  record: bool = False):\n",
        "        super().__init__(cell, sec_index, loc)\n",
        "        self.stim = stim\n",
        "        self.gmax = gmax\n",
        "        self.__synapse_type(syn_type)\n",
        "        self.setup(record)\n",
        "\n",
        "    # PRIVATE METHODS\n",
        "    def __synapse_type(self, syn_type):\n",
        "        if syn_type == 'AlphaSynapse1':\n",
        "            # Reversal potential (mV); Synapse time constant (ms)\n",
        "            self.syn_params = {'e': 0., 'tau': 2.0}\n",
        "            # Variable name of maximum conductance (uS)\n",
        "            self.gmax_var = 'gmax'\n",
        "        elif syn_type == 'Exp2Syn':\n",
        "            self.syn_params = {'e': 0., 'tau1': 1.0, 'tau2': 3.0}\n",
        "            self.gmax_var = '_nc_weight'\n",
        "        else:\n",
        "            raise ValueError(\"Synpase type not defined.\")\n",
        "        self.syn_type = syn_type\n",
        "        self.pp_obj = getattr(h, syn_type)(self.get_section()(self.loc))\n",
        "\n",
        "    def __setup_synapse(self):\n",
        "        self.syn = self.pp_obj\n",
        "        self.nc = h.NetCon(self.stim, self.syn, 1, 0, 1)\n",
        "        for key, value in self.syn_params.items():\n",
        "            setattr(self.syn, key, value)\n",
        "        self.set_gmax()\n",
        "\n",
        "    # PUBLIC METHODS\n",
        "    def setup(self, record: bool = False):\n",
        "        self.__setup_synapse()\n",
        "        if record:\n",
        "            self.setup_recorder()\n",
        "    \n",
        "    def set_gmax(self, gmax: float = None):\n",
        "        if gmax is not None:\n",
        "            self.gmax = gmax\n",
        "        if self.gmax_var == '_nc_weight':\n",
        "            self.nc.weight[0] = self.gmax\n",
        "        else:\n",
        "            setattr(self.syn, self.gmax_var, self.gmax)"
      ],
      "metadata": {
        "id": "8TE_op1mUTii"
      },
      "id": "8TE_op1mUTii",
      "execution_count": 10,
      "outputs": []
    },
    {
      "cell_type": "code",
      "source": [
        "from typing import Optional, Union, List\n",
        "import math\n",
        "from typing import Optional, Union, List\n",
        "import math\n",
        "class cell_model():\n",
        "  '''expanded cell model class for ECP calculation\n",
        "  takes cell model and does bookkeeping for analysis functions\n",
        "  '''\n",
        "  def __init__(self,model,synapses_list=None,netcons_list=None,gen_3d=True,spike_threshold: Optional[float] = None):\n",
        "    self.all=model.all\n",
        "    self.soma=model.soma\n",
        "    self.apic=model.apic\n",
        "    self.dend=model.dend\n",
        "    self.axon=model.axon\n",
        "    #convert nrn section lists to python lists if applicable\n",
        "    self.all=self.convert_sectionlist(sectionlist=self.all)\n",
        "    self.soma=self.convert_sectionlist(sectionlist=self.soma, return_singles=True) #if sectionlist contains only one section returns just the section instead of list of sections\n",
        "    self.dend=self.convert_sectionlist(sectionlist=self.dend)\n",
        "    self.apic=self.convert_sectionlist(sectionlist=self.apic)\n",
        "    self.axon=self.convert_sectionlist(sectionlist=self.axon)\n",
        "    self.spike_threshold = spike_threshold\n",
        "    self.synapses_list=synapses_list #list of synapse objects from model reduction\n",
        "    self.netcons_list=netcons_list # list of netcon objects from model reduction\n",
        "    self.segments=[] # list for nrn segment objects\n",
        "    self.injection=[] # list of injection objects\n",
        "    self.synapse=[] # list of python synapse class objects\n",
        "    self.sec_id_lookup = {}  # dictionary from section type id to section index\n",
        "    self.sec_id_in_seg = []  # index of the first segment of each section in the segment list\n",
        "    self.sec_angs = [] # list of angles that were used to branch the cell\n",
        "    self.sec_rots = []\n",
        "    if gen_3d==True:\n",
        "      self.generate_sec_coords()\n",
        "    self.__store_segments()\n",
        "    self.__set_spike_recorder()\n",
        "    if self.apic[2].n3d()==2: #calc_seg_coords only works for cell with sections that only have two 3d coordinates. #detailed cell has too many 3d coordinates\n",
        "      self.__calc_seg_coords()\n",
        "    self.__store_synapses_list() #store and record synapses from the synapses_list used to initialize the cell\n",
        "    self.grp_ids = []\n",
        "    self.generate_geometry_file()\n",
        "\n",
        "  def __calc_seg_coords(self):\n",
        "    \"\"\"Calculate segment coordinates for ECP calculation\"\"\"\n",
        "    p0 = np.empty((self._nseg, 3))\n",
        "    p1 = np.empty((self._nseg, 3))\n",
        "    p05 = np.empty((self._nseg, 3))\n",
        "    r = np.empty(self._nseg)\n",
        "    for isec, sec in enumerate(self.all):\n",
        "        iseg = self.sec_id_in_seg[isec]\n",
        "        nseg = sec.nseg\n",
        "        pt0 = np.array([sec.x3d(0), sec.y3d(0), sec.z3d(0)])\n",
        "        pt1 = np.array([sec.x3d(1), sec.y3d(1), sec.z3d(1)])\n",
        "        pts = np.linspace(pt0, pt1, 2 * nseg + 1)\n",
        "        p0[iseg:iseg + nseg, :] = pts[:-2:2, :]\n",
        "        p1[iseg:iseg + nseg, :] = pts[2::2, :]\n",
        "        p05[iseg:iseg + nseg, :] = pts[1:-1:2, :]\n",
        "        r[iseg:iseg + nseg] = sec.diam / 2\n",
        "    self.seg_coords = {'dl': p1 - p0, 'pc': p05, 'r': r}\n",
        "\n",
        "  def __store_segments(self):\n",
        "    self.segments = []\n",
        "    self.sec_id_in_seg = []\n",
        "    nseg = 0\n",
        "    for sec in self.all:\n",
        "        self.sec_id_in_seg.append(nseg)\n",
        "        nseg += sec.nseg\n",
        "        for seg in sec:\n",
        "            self.segments.append(seg)\n",
        "            self.__store_point_processes(seg)\n",
        "    self._nseg = nseg\n",
        "\n",
        "  def __store_point_processes(self,seg):\n",
        "    for pp in seg.point_processes():\n",
        "        self.injection.append(pp)\n",
        "\n",
        "  def __set_spike_recorder(self, threshold: Optional = None):\n",
        "      if threshold is not None:\n",
        "          self.spike_threshold = threshold\n",
        "      if self.spike_threshold is None:\n",
        "          self.spikes = None\n",
        "      else:\n",
        "          vec = h.Vector()\n",
        "          nc = h.NetCon(self.soma(0.5)._ref_v, None, sec=self.soma)\n",
        "          nc.threshold = self.spike_threshold\n",
        "          nc.record(vec)\n",
        "          self.spikes = vec\n",
        "\n",
        "  def add_injection(self, sec_index, **kwargs):\n",
        "        \"\"\"Add current injection to a section by its index\"\"\"\n",
        "        self.injection.append(CurrentInjection(self, sec_index, **kwargs))\n",
        "\n",
        "  def add_synapse(self, stim: h.NetStim, sec_index: int, **kwargs):\n",
        "        \"\"\"Add synapse to a section by its index\"\"\"\n",
        "        new_syn=Synapse(self, stim, sec_index, **kwargs)\n",
        "        self.netcons_list.append(new_syn.nc)\n",
        "        self.synapse.append(new_syn)\n",
        "\n",
        "  def generate_sec_coords(self):\n",
        "      '''\n",
        "      Note: need to improve branching so that it is random direction in a quadrant of a sphere rather than x-y plane\n",
        "      takes a cell that has no n3d() coordinates and gives new coordinates\n",
        "      by choosing an arbitrary direction for the subtree to move\n",
        "      '''\n",
        "      section_obj_list= self.all\n",
        "      # print(section_obj_list)\n",
        "      axial=False\n",
        "      parent_sections=[] #list for already seen parent_sections of this type\n",
        "      for sec in section_obj_list:\n",
        "        sec_length=sec.L\n",
        "        if sec is self.soma:\n",
        "          self.sec_angs.append(0)\n",
        "          self.sec_rots.append(0)\n",
        "          # pt0 = [0., -1 * sec.diam, 0.] #does not seem to preserve soma shape , but need to make sure soma children begin at correct 3d coordinate.\n",
        "          # pt1 = [0., 0., 0.]\n",
        "          # sec.pt3dclear()\n",
        "          # sec.pt3dadd(*pt0, sec.diam)\n",
        "          # sec.pt3dadd(*pt1, sec.diam)\n",
        "          if sec.nseg != 1:\n",
        "            print('Changing soma nseg from',sec.nseg,'to 1')\n",
        "            sec.nseg = 1\n",
        "        else:\n",
        "          if sec.parentseg() is not None:\n",
        "            psec=sec.parentseg().sec\n",
        "            if (psec in self.apic) and (psec is not self.apic[0]): # branch\n",
        "              # print('branch')\n",
        "              nbranch = len(psec.children())\n",
        "            else:\n",
        "              nbranch=1\n",
        "          else:\n",
        "            psec=None # may need to provide more implementation in the case of no 3d coords and no parent section.\n",
        "            nbranch=1\n",
        "\n",
        "          # rot = 2 * math.pi/nbranch\n",
        "          rot=np.random.uniform(low=0,high=2*np.pi)# rot can be used to uniformly rotate branches if i=parent_sections.count(psec) and rot = 2 * math.pi/nbranch\n",
        "\n",
        "          i=1 #i can be used to uniformly rotate the sections if rot = 2 * math.pi/nbranch and i=parent_sections.count(psec)\n",
        "          # if nbranch==1:\n",
        "          #   i=1\n",
        "          # else:\n",
        "          #   i=parent_sections.count(psec)\n",
        "\n",
        "          parent_sections.append(psec)\n",
        "          # print(\"sec: \",sec, \"|nbranch: \",nbranch,\"|i: ,\",i,\"|parent_sections:\",parent_sections)\n",
        "          length=sec.L\n",
        "          diameter=sec.diam\n",
        "          fullsecname = sec.name()\n",
        "          # print(fullsecname)\n",
        "          sec_type = fullsecname.split(\".\")[1][:4]\n",
        "          # print(sec_type)\n",
        "          if sec_type == \"apic\":\n",
        "            if sec==self.apic[0]: # trunk\n",
        "              ang=1.570796327\n",
        "            else:\n",
        "              # ang=np.random.uniform(low=0,high=np.pi) #branches\n",
        "              ang=np.random.normal(loc=np.pi/2,scale=0.5) # could add limits to ang (if ang>val:ang=val)\n",
        "          elif sec_type==\"dend\":\n",
        "            # ang=-np.random.uniform(low=0,high=np.pi)\n",
        "            ang=-np.random.normal(loc=np.pi/2,scale=0.5) # could add limits to ang (if ang>val:ang=val)\n",
        "          elif sec_type==\"axon\":\n",
        "            ang=-1.570796327\n",
        "          else:\n",
        "            print(sec,sec_type,' is not apic, dend or axon')\n",
        "            ang=0\n",
        "          if axial == True:\n",
        "            x = 0\n",
        "            y = length*((ang>=0)*2-1)\n",
        "          else:\n",
        "            x = length * math.cos(ang)\n",
        "            y = length * math.sin(ang)\n",
        "          self.sec_angs.append(ang)\n",
        "          self.sec_rots.append(i*rot)\n",
        "          #find starting position #need to update to use parent segment coordinates instead of using first section coordinate\n",
        "          pt0 = [psec.x3d(1), psec.y3d(1), psec.z3d(1)]\n",
        "          pt1 = [0., 0., 0.]\n",
        "          pt1[1] = pt0[1] + y\n",
        "          pt1[0] = pt0[0] + x * math.cos(i * rot)\n",
        "          pt1[2] = pt0[2] + x * math.sin(i * rot)\n",
        "          # print(sec,i*rot)\n",
        "          sec.pt3dclear()\n",
        "          sec.pt3dadd(*pt0, sec.diam)\n",
        "          sec.pt3dadd(*pt1, sec.diam)\n",
        "        if int(sec.L) != int(sec_length):\n",
        "          print('Error: generation of 3D coordinates resulted in change of section length for',sec,'from',sec_length,'to',sec.L)\n",
        "\n",
        "  def generate_geometry_file(self):\n",
        "    '''\n",
        "    generates geometry file specifying name, pid, ang, radius, length, type\n",
        "    work in progress\n",
        "    '''\n",
        "    df = pd.DataFrame()\n",
        "    ids=[]\n",
        "    names=[]\n",
        "    types=[]\n",
        "    pids=[]\n",
        "    axials=[]\n",
        "    nbranchs=[]\n",
        "    Ls=[]\n",
        "    Rs=[]\n",
        "    angs=self.sec_angs\n",
        "    rots=self.sec_rots\n",
        "    for sec in self.all:\n",
        "      # print(dir(sec))\n",
        "      name=sec.name()\n",
        "      # print(name)\n",
        "      names.append(name)\n",
        "      ids.append(names.index(name))\n",
        "      _,sec_type_withinteger=name.split('.')\n",
        "      sec_type,_=sec_type_withinteger.split('[')\n",
        "      types.append(sec_type)\n",
        "      pseg = sec.parentseg()\n",
        "      if pseg == None:\n",
        "        pids.append(None)\n",
        "      else:\n",
        "        psec=pseg.sec\n",
        "        px3d=psec.x3d\n",
        "        pids.append(int(names.index(psec.name())))\n",
        "      # axials.append('TRUE')\n",
        "      # nbranchs.append(1)\n",
        "      Ls.append(sec.L)\n",
        "      # print(dir(sec))\n",
        "      Rs.append(sec.diam/2)\n",
        "    df['id']=ids\n",
        "    df['name']=names\n",
        "    df['pid']=pids\n",
        "    df['type']=types\n",
        "    df['L']=Ls\n",
        "    df['R']=Rs\n",
        "    df['ang']=angs\n",
        "    df['rot']=rots\n",
        "    # df['axials']=axials # may need to fix\n",
        "    # df['nbranch']=nbranchs # may need to fix\n",
        "    self.geometry=df\n",
        "\n",
        "  def convert_sectionlist(self,sectionlist,return_singles=False):\n",
        "    '''\n",
        "    convert nrn sectionlist objects to python list\n",
        "    return_singles set to true will return section instead of [section] for lists with only one section\n",
        "    '''\n",
        "    new_sectionlist=[]\n",
        "    if str(type(sectionlist)) == \"<class 'hoc.HocObject'>\":\n",
        "      for sec in sectionlist:\n",
        "        new_sectionlist.append(sec)\n",
        "    else:\n",
        "      new_sectionlist=sectionlist\n",
        "    if return_singles==True:\n",
        "      if str(type(new_sectionlist))!=\"<class 'nrn.Section'>\":\n",
        "        if len(new_sectionlist)==1:\n",
        "          new_sectionlist=new_sectionlist[0]\n",
        "    return new_sectionlist\n",
        "\n",
        "  def __store_synapses_list(self):\n",
        "    '''\n",
        "    store and record synapses from the list from model reduction algorithm\n",
        "    '''\n",
        "    temp_list=[] # generate temp list that has each netcon's synapse obj\n",
        "    for netcon in self.netcons_list:\n",
        "      syn=netcon.syn()\n",
        "      if syn in self.synapses_list:\n",
        "        syn_seg_id=self.segments.index(netcon.syn().get_segment())\n",
        "        if syn in self.segments[syn_seg_id].point_processes():\n",
        "          temp_list.append(syn)\n",
        "        else:\n",
        "          temp_list.append(None)\n",
        "          print(\"Warning: synapse not in designated segment's point processes\")\n",
        "\n",
        "      else:\n",
        "        temp_list.append(None)\n",
        "        print(\"Warning: potentially deleted synapse:\",\"|NetCon obj:\",netcon,\"|Synapse obj:\",syn,\"the NetCon's synapse is not in synapses_list. Check corresponding original cell's NetCon for location, etc.\")\n",
        "    # now use temp list to assign each synapse its netcons\n",
        "    for synapse in synapses_list:\n",
        "      synapse_netcons=[]\n",
        "      if synapse in temp_list:\n",
        "        num_netcons=temp_list.count(synapse)\n",
        "        START=0\n",
        "        for i in range(num_netcons):\n",
        "          netcon_id=temp_list.index(synapse,START) #get all the netcon indices that are pointed toward this synapse # use np.where() instead of index() to return multiple indices.\n",
        "          START=netcon_id+1\n",
        "          synapse_netcons.append(self.netcons_list[netcon_id])\n",
        "        self.synapse.append(Listed_Synapse(synapse,synapse_netcons)) #record synapse and add to the list\n",
        "      else:\n",
        "        print('Warning: Synapse not in temp_list.')"
      ],
      "metadata": {
        "id": "ZS3X-yZr-4kV"
      },
      "id": "ZS3X-yZr-4kV",
      "execution_count": 11,
      "outputs": []
    },
    {
      "cell_type": "code",
      "execution_count": 12,
      "id": "18a97eeb",
      "metadata": {
        "id": "18a97eeb",
        "colab": {
          "base_uri": "https://localhost:8080/"
        },
        "outputId": "1f26179e-4d87-446c-ba2d-f063a705a718"
      },
      "outputs": [
        {
          "output_type": "stream",
          "name": "stdout",
          "text": [
            "trunk_diam: 3.7176523208618155 |trunk_length: 698.0975964944687 |branch_diam: 1.475351301247016 |branch_length: 1081.9141048660235\n"
          ]
        }
      ],
      "source": [
        "\n",
        "# # Load biophysical parameters from a json file\n",
        "# filepath = os.path.join(paths.RESOURCES_ROOT, 'biophys_parameters/ReducedOrderL5_passive.json')\n",
        "# with open(filepath) as f:\n",
        "#     biophys_param = json.load(f)\n",
        "# for genome in biophys_param['genome']:\n",
        "#     if genome['value'] != \"\": genome['value'] = float(genome['value'])\n",
        "\n",
        "h.load_file('L5PCbiophys3.hoc')\n",
        "\n",
        "# # Load morphology parameters from a csv file\n",
        "# geometry = pd.read_csv(paths.GEO_REDUCED_ORDER, index_col='id')\n",
        "h.load_file(\"import3d.hoc\")\n",
        "\n",
        "\n",
        "# Create a cell object\n",
        "# cell = ReducedOrderL5CellPassiveDendrite(geometry=geometry, full_biophys=biophys_param)\n",
        "h.load_file('L5PCtemplate.hoc')\n",
        "complex_cell = h.L5PCtemplate('cell1.asc')\n",
        "h.celsius = 37\n",
        "h.v_init = complex_cell.soma[0].e_pas\n",
        "\n",
        "synapses_list=[]\n",
        "netcons_list=[]\n",
        "\n",
        "#reduce dendritic trees to cables\n",
        "reduced_cell, synapses_list, netcons_list, txt = subtree_reductor(complex_cell, synapses_list, netcons_list, reduction_frequency=0,return_seg_to_seg=True)\n",
        "\n",
        "# print('reduced cell n3d')\n",
        "# for sec in reduced_cell.dend:\n",
        "#   print(sec,sec.n3d())\n",
        "\n",
        "#expand cables to idealized dendritic trees\n",
        "sections_to_expand = [reduced_cell.hoc_model.apic[0]]\n",
        "furcations_x=[0.289004]\n",
        "nbranches=[4]\n",
        "reduced_dendritic_cell, synapses_list, netcons_list, txt = cable_expander(reduced_cell, sections_to_expand, furcations_x, nbranches, \n",
        "                                                                          synapses_list, netcons_list, reduction_frequency=0,return_seg_to_seg=True)\n",
        "# print('dendritic cell n3d')\n",
        "# for sec in reduced_dendritic_cell.all:\n",
        "#   print(sec, sec.n3d())"
      ]
    },
    {
      "cell_type": "code",
      "source": [
        "# try to fix dendrite's beginning location by looking at soma 3d coordinates:\n",
        "for sec in [reduced_dendritic_cell.soma]:\n",
        "  for i in range(sec.n3d()):\n",
        "    print(sec.x3d(i),sec.y3d(i),sec.z3d(i))\n",
        "\n",
        "#soma has many 3d coordinates and current implementation begins dendrites at 3dcoordinates[1]"
      ],
      "metadata": {
        "colab": {
          "base_uri": "https://localhost:8080/"
        },
        "id": "1loNS7qGmRQ1",
        "outputId": "4235baca-a620-40a5-c801-de1e044c1cd2"
      },
      "id": "1loNS7qGmRQ1",
      "execution_count": 13,
      "outputs": [
        {
          "output_type": "stream",
          "name": "stdout",
          "text": [
            "34.16338348388672 17.62152671813965 -50.25\n",
            "35.31959915161133 17.693740844726562 -50.25\n",
            "36.4758186340332 17.76595687866211 -50.25\n",
            "37.63203430175781 17.838171005249023 -50.25\n",
            "38.78825378417969 17.91038703918457 -50.25\n",
            "39.9444694519043 17.982601165771484 -50.25\n",
            "41.100685119628906 18.05481719970703 -50.25\n",
            "42.25690460205078 18.127031326293945 -50.25\n",
            "43.41312026977539 18.199247360229492 -50.25\n",
            "44.569339752197266 18.27146339416504 -50.25\n",
            "45.725555419921875 18.343677520751953 -50.25\n",
            "46.88177490234375 18.4158935546875 -50.25\n",
            "48.03799057006836 18.488107681274414 -50.25\n",
            "49.194210052490234 18.56032371520996 -50.25\n",
            "50.350425720214844 18.632539749145508 -50.25\n",
            "51.50664520263672 18.704753875732422 -50.25\n",
            "52.66286087036133 18.77696990966797 -50.25\n",
            "53.8190803527832 18.849185943603516 -50.25\n",
            "54.97529602050781 18.92140007019043 -50.25\n",
            "56.13151550292969 18.993614196777344 -50.25\n",
            "57.2877311706543 19.06583023071289 -50.25\n"
          ]
        }
      ]
    },
    {
      "cell_type": "code",
      "source": [
        "import random\n",
        "#use defined cell_model class for generating 3d coordinates, recording ECP, 'book-keeping' etc...\n",
        "random.seed(2)\n",
        "cell = cell_model(reduced_dendritic_cell,synapses_list=synapses_list,netcons_list=netcons_list,spike_threshold = 10)\n",
        "# cell._nbranch=4\n",
        "cell._nbranch=4\n",
        "\n",
        "# Create synaptic input\n",
        "stim = h.NetStim()\n",
        "frequency=15 #(hz)\n",
        "spikeinterval = (1/frequency)*1000 #convert to T and milliseconds\n",
        "stim.interval=spikeinterval\n",
        "print(str(stim.interval))\n",
        "stim.number = 3  # only one event\n",
        "stim.start = 2.0  # delay (ms)\n",
        "\n",
        "gmax = 1  # default synapse maximum conductance (uS)\n",
        "# Add synapse to soma\n",
        "cell.add_synapse(stim, sec_index=0, gmax=gmax)\n",
        "# Add synapse to apical tufts\n",
        "for i,sec in enumerate(cell.apic):\n",
        "    cell.add_synapse(stim, sec_index=cell.all.index(sec), gmax=gmax / cell._nbranch) # need to adjust to only tufts"
      ],
      "metadata": {
        "colab": {
          "base_uri": "https://localhost:8080/"
        },
        "id": "rSTUwzTfqEX2",
        "outputId": "8e446a53-e0e4-4a58-d5f9-072b5cb9643a"
      },
      "id": "rSTUwzTfqEX2",
      "execution_count": 14,
      "outputs": [
        {
          "output_type": "stream",
          "name": "stdout",
          "text": [
            "66.66666666666667\n"
          ]
        }
      ]
    },
    {
      "cell_type": "code",
      "source": [
        "# # compare \n",
        "# for sec in cell.all:\n",
        "#   for i in range(sec.n3d()):\n",
        "#     print(sec.x3d(i))"
      ],
      "metadata": {
        "id": "4QUvM0h7JzFG"
      },
      "id": "4QUvM0h7JzFG",
      "execution_count": 15,
      "outputs": []
    },
    {
      "cell_type": "code",
      "source": [
        "# print(cell.seg_coords['pc'][0])"
      ],
      "metadata": {
        "id": "gE3JYuFhM1_6"
      },
      "id": "gE3JYuFhM1_6",
      "execution_count": 16,
      "outputs": []
    },
    {
      "cell_type": "code",
      "source": [
        "# dir(cell)"
      ],
      "metadata": {
        "id": "akYHQOGDKiW5"
      },
      "id": "akYHQOGDKiW5",
      "execution_count": 17,
      "outputs": []
    },
    {
      "cell_type": "code",
      "source": [
        "make_reduced_seg_df(cell,\"segments_expanded.csv\") #need to improve make_reduced_seg_df\n",
        "expanded_segments_df=pd.read_csv(\"segments_expanded.csv\")\n",
        "plot_morphology(expanded_segments_df,\"expanded_morphology.svg\")"
      ],
      "metadata": {
        "colab": {
          "base_uri": "https://localhost:8080/",
          "height": 830
        },
        "id": "-ZwVHxQl5gLh",
        "outputId": "3e97dc2f-53a8-4c6f-ea3d-a5d9c8d45c4b"
      },
      "id": "-ZwVHxQl5gLh",
      "execution_count": 18,
      "outputs": [
        {
          "output_type": "display_data",
          "data": {
            "text/plain": [
              "<Figure size 400x1000 with 1 Axes>"
            ],
            "image/png": "[encoded data removed]"
          },
          "metadata": {}
        }
      ]
    },
    {
      "cell_type": "code",
      "source": [
        "import os\n",
        "\n",
        "RunningInCOLAB = 'google.colab' in str(get_ipython())\n",
        "if RunningInCOLAB:\n",
        "    !pip install neuron==8.0.0 &> /dev/null\n",
        "    os.chdir('/content')\n",
        "    if not os.path.isdir('Stylized-Single-Cell-and-Extracellular-Potential'):\n",
        "        !git clone https://github.com/chenziao/Stylized-Single-Cell-and-Extracellular-Potential.git &> /dev/null \n",
        "    os.chdir('Stylized-Single-Cell-and-Extracellular-Potential')\n",
        "    %ls"
      ],
      "metadata": {
        "id": "D6vyubrwOvA_",
        "colab": {
          "base_uri": "https://localhost:8080/"
        },
        "outputId": "724bda75-0bd3-4e10-f4a3-f13cfebc7d32"
      },
      "id": "D6vyubrwOvA_",
      "execution_count": 19,
      "outputs": [
        {
          "output_type": "stream",
          "name": "stdout",
          "text": [
            "\u001b[0m\u001b[01;34mcell_inference\u001b[0m/  Stylized_Single_Cell_Extracellular_Potential_Tutorial.ipynb\n"
          ]
        }
      ]
    },
    {
      "cell_type": "code",
      "source": [
        "from cell_inference.config import params, paths\n",
        "from cell_inference.cells.activecell_axon import ReducedOrderL5Cell, ReducedOrderL5CellPassiveDendrite\n",
        "from cell_inference.utils.currents.ecp import EcpMod\n",
        "from cell_inference.utils.currents.recorder import Recorder\n",
        "from cell_inference.utils.plotting.plot_morphology import plot_morphology\n",
        "from cell_inference.utils.plotting.plot_results import plot_lfp_heatmap, plot_lfp_traces\n",
        "from cell_inference.utils.plotting.plot_variable_with_morphology import plot_variable_with_morphology\n",
        "from cell_inference.utils.metrics.measure_segment_distance import measure_segment_distance"
      ],
      "metadata": {
        "id": "X7p40K3RO1RQ"
      },
      "id": "X7p40K3RO1RQ",
      "execution_count": 20,
      "outputs": []
    },
    {
      "cell_type": "code",
      "source": [
        "h.dt = params.DT  # time step\n",
        "h.steps_per_ms = 1/h.dt\n",
        "h.tstop = params.TSTOP  # simulation stop time\n",
        "\n",
        "# Record time points\n",
        "t_vec = h.Vector(round(h.tstop / h.dt) + 1).record(h._ref_t)\n",
        "\n",
        "# Record membrane voltage of all segments\n",
        "V_rec = Recorder(cell.segments)"
      ],
      "metadata": {
        "id": "m_npKvVUO4JD"
      },
      "id": "m_npKvVUO4JD",
      "execution_count": 21,
      "outputs": []
    },
    {
      "cell_type": "markdown",
      "id": "22d6f6e6",
      "metadata": {
        "id": "22d6f6e6"
      },
      "source": [
        "### Add electrodes (Neuropixel)\n",
        "A probe with 384 electrodes [https://www.neuropixels.org/probe](https://www.neuropixels.org/probe). The coordinates of each electrode is a row in the array printed below."
      ]
    },
    {
      "cell_type": "code",
      "execution_count": 22,
      "id": "8fdb0017",
      "metadata": {
        "id": "8fdb0017",
        "colab": {
          "base_uri": "https://localhost:8080/"
        },
        "outputId": "72a5e211-fed2-4e84-8298-81fb113eb66f"
      },
      "outputs": [
        {
          "output_type": "stream",
          "name": "stdout",
          "text": [
            "(384, 3)\n",
            "[[   -8. -1910.     0.]\n",
            " [   24. -1910.     0.]\n",
            " [  -24. -1890.     0.]\n",
            " ...\n",
            " [   24.  1890.     0.]\n",
            " [  -24.  1910.     0.]\n",
            " [    8.  1910.     0.]]\n"
          ]
        }
      ],
      "source": [
        "elec_pos = params.ELECTRODE_POSITION\n",
        "ecp = EcpMod(cell, elec_pos, min_distance=params.MIN_DISTANCE)  # create an ECP object for extracellular potential\n",
        "\n",
        "# coordinates (x, y, z) of electrodes\n",
        "print(params.ELECTRODE_POSITION.shape)\n",
        "print(params.ELECTRODE_POSITION)"
      ]
    },
    {
      "cell_type": "markdown",
      "id": "c5323608",
      "metadata": {
        "id": "c5323608"
      },
      "source": [
        "## Custom settings\n",
        "\n",
        "Using the interactive tools below, you can change the position of the cell, and change the synapse strength and location on the cell.\n",
        "\n",
        "#### Cell position parameters (x, y, z, alpha, h, phi)\n",
        "Starting with soma at the origin, apical dendrite along y-axis, rotate and translate the cell to the desired position determined by 6 parameters. First, rotate alpha about the y-axis (spin), then rotate beta=arccos(h) about the x-axis (elevation), then rotate phi about the y-axis (azimuth). Finally translate the cell by (x,y,z).\n",
        "\n",
        "Use the sliders to change the 6 position parameters. Use the sliders 'elev' and 'azim' to change view of the 3D plot."
      ]
    },
    {
      "cell_type": "code",
      "execution_count": 23,
      "id": "a3df63ce",
      "metadata": {
        "id": "a3df63ce",
        "colab": {
          "base_uri": "https://localhost:8080/",
          "height": 813,
          "referenced_widgets": [
            "d9a611abb1504461b5952dd22bba5245",
            "23ca18ce25e540dc8d32b86011c2bb7f",
            "b0bb0acb279c4b738c78ef9099bc5667",
            "77a8d1aa2407485f9d5a2493f334ba9c",
            "f73a6839254d4dc3b42f97c4f1afb877",
            "39c1d4541bc245bd916b148b419df5b1",
            "266f0c02a54e4cc5b3e104056c214794",
            "427cee79849449b5b3cd832e4103182b",
            "0087fe34c4994e40b052a24efeaac1d3",
            "97b33f40924047989af32963d863126b",
            "ee5ff630095e4f8c8a333f8e2271f55f",
            "7c3d637f240142da93fcecf782f0fcb1",
            "f37e56ed76c141f2a7539c0c8110b5c5",
            "2fdf42bf2bd04cb58ae0d80a631cb5c4",
            "37dd50b6d08b4b55b3ecacd138824419",
            "cd73b3f1bbca4f42a862157c92b02def",
            "d23d91931f27489d98a26103a8391bce",
            "a8d35912cd7b4cf2a8656caf3a7c001c",
            "663cf880482e464389a0762bdd8e642d",
            "8805e2dffc554d759247b2a6a4502893",
            "56ad6fc9e6ab47ed9be02bd1930e64e3",
            "b8164f58ab3b47798ab2c6184746f002",
            "6ba2ae99482f46c8bf44a1e71b27a02e",
            "e75975fe98dd4e4c809b1821bdf7aeae",
            "35402b339c8b4c0cb7902001bf557be4",
            "c3d566ff423f4beab222c0eacf60cf12",
            "b8906b3a65b4443d93afd6ccb1de4479",
            "68cf53a88e1f4540a9dedd589b950964",
            "aeff385c028140919a562e86b04df3e5",
            "7ccc7c32178a472ab6a0014bab891f68",
            "b6b21f94e97f4cd28eaf13784dd9da6d",
            "b9d544a79b7d499c97e7458dba9188e0",
            "832f2d38c1444ef7b46671dc8f44cfdf",
            "985278c3ba564494bbddf44e2f0caa37",
            "82048c4d25434f07ada3a54725bc9415",
            "d8528565c8274df3bf34882a4e4549c5",
            "8584ea9622364b45b8a99593151a63a1",
            "16199912024a41c5be064b771128bf66",
            "c5b050b75760484eb5b821e057956b6c",
            "822e3af24e1e4b748f1679c44602f5bb",
            "1f8f0dde89fa4ab49c472e31043c3efa"
          ]
        },
        "outputId": "81908a7a-2f37-4f33-f91e-209ef8a873ef"
      },
      "outputs": [
        {
          "output_type": "display_data",
          "data": {
            "text/plain": [
              "VBox(children=(Button(button_style='primary', description='Reset', icon='history', style=ButtonStyle()), HBox(…"
            ],
            "application/vnd.jupyter.widget-view+json": {
              "version_major": 2,
              "version_minor": 0,
              "model_id": "d9a611abb1504461b5952dd22bba5245"
            }
          },
          "metadata": {}
        }
      ],
      "source": [
        "loc_param_default = [0., 0., 80., 0., 1., 0.]  # Default position parameters\n",
        "elev, azim = 10, 90  # Default view\n",
        "# clr = ['g', 'yellow', 'orange', 'red', 'b', 'c', 'g', 'yellow', 'orange', 'red', 'pink', 'purple']  # section color\n",
        "clr=[]\n",
        "clr.extend(['black' for i in range(len([cell.soma]))]) # soma color\n",
        "clr.extend(['red' for i in range(len(cell.dend))]) #dend colors\n",
        "clr.extend(['purple' for i  in range(len(cell.axon))]) # axon colors\n",
        "clr.extend(['blue']) #trunk color\n",
        "clr.extend(['green' for i in range(len(cell.apic)-1)])  # branch colors\n",
        "\n",
        "def interactive_plot(x, y, z, alpha, beta, phi, elev, azim):\n",
        "    global loc_param\n",
        "    loc_param = (x, y, z, np.pi/180*alpha, np.cos(np.pi/180*beta), np.pi/180*phi)\n",
        "    fig, ax = plot_morphology(cell=cell, electrodes=elec_pos, move_cell=loc_param,\n",
        "                    elev=-elev, azim=-azim, figsize=(12, 8), clr = clr)\n",
        "    plt.show()\n",
        "\n",
        "xslider = Layout(width='500px')\n",
        "yslider = Layout(height='350px')\n",
        "w_reset = widgets.Button(description='Reset', icon='history', button_style='primary')\n",
        "w_x = widgets.FloatSlider(value=loc_param_default[0], min=-200, max=200, step=1, description='x (um)', continuous_update=False, readout_format='.0f')\n",
        "w_y = widgets.FloatSlider(value=loc_param_default[1], min=-1000, max=1000, step=1, description='y (um)', continuous_update=False, readout_format='.0f')\n",
        "w_z = widgets.FloatSlider(value=loc_param_default[2], min=20, max=400, step=1, description='z (um)', continuous_update=False, readout_format='.0f')\n",
        "w_alpha = widgets.FloatSlider(value=180/np.pi*loc_param_default[3], min=-180, max=180, step=1, description='alpha (deg)', continuous_update=False, readout_format='.0f')\n",
        "w_beta = widgets.FloatSlider(value=180/np.pi*np.arccos(loc_param_default[4]), min=0, max=180, step=1, description='beta (deg)', continuous_update=False, readout_format='.0f')\n",
        "w_phi = widgets.FloatSlider(value=180/np.pi*loc_param_default[5], min=-180, max=180, step=1, description='phi (deg)', continuous_update=False, readout_format='.0f')\n",
        "w_elev = widgets.FloatSlider(value=-elev, min=-90, max=90, step=1, description='elev (deg)', continuous_update=False, readout_format='.0f', orientation='vertical', layout=yslider)\n",
        "w_azim = widgets.FloatSlider(value=-azim, min=-180, max=180, step=1, description='azim (deg)', continuous_update=False, readout_format='.0f', layout=xslider)\n",
        "\n",
        "def reset_default(*args):\n",
        "    w_x.value, w_y.value, w_z.value = loc_param_default[:3]\n",
        "    w_alpha.value = 180 / np.pi * loc_param_default[3]\n",
        "    w_beta.value = 180 / np.pi * np.arccos(loc_param_default[4])\n",
        "    w_phi.value = 180 / np.pi * loc_param_default[5]\n",
        "    w_elev.value, w_azim.value = -elev, -azim\n",
        "w_reset.on_click(reset_default)\n",
        "\n",
        "out = interactive_output(interactive_plot, {'x': w_x, 'y': w_y, 'z': w_z, 'alpha': w_alpha, 'beta': w_beta, 'phi': w_phi, 'elev': w_elev, 'azim': w_azim})\n",
        "ui = VBox([ w_reset, HBox([ VBox([w_x, w_y, w_z]), VBox([w_alpha, w_beta, w_phi]) ]), HBox([ VBox([out, w_azim]), w_elev]) ])\n",
        "\n",
        "display(ui)"
      ]
    },
    {
      "cell_type": "markdown",
      "source": [
        "set azim to -90 in order to focus on zy plane view. 2D plot is of xy plane."
      ],
      "metadata": {
        "id": "OPZrMhcBjnec"
      },
      "id": "OPZrMhcBjnec"
    },
    {
      "cell_type": "markdown",
      "id": "0d582310",
      "metadata": {
        "id": "0d582310"
      },
      "source": [
        "#### Set synaptic input\n",
        "\n",
        "Use the toggle button to switch synapse location between the soma and the proximal apical tuft dendrite. Use the slider 'Synapse maximal conductance' to change synapse strength."
      ]
    },
    {
      "cell_type": "code",
      "execution_count": 24,
      "id": "ce8d1856",
      "metadata": {
        "id": "ce8d1856",
        "colab": {
          "base_uri": "https://localhost:8080/",
          "height": 81,
          "referenced_widgets": [
            "ada701ad7d3a477e9e07b9287140cad9",
            "5b7c5ab20b3d4f66bdd2a8639633af79",
            "fd6d7722ecb342788d08f0083fdc752c",
            "d41e13c2eab940b08a070403bb46f55c",
            "3e33006ea448499598f24e9835b3b2bd",
            "da69e068d2e24b65bab9abae1e68533f",
            "91752f469785496492f1927a280d823e",
            "95d6cb420c8f4c95822336be69be2377",
            "002428c943394a0d8908daf11299bfcc",
            "9ec35fed6f054419ac6bc682c3cb464e",
            "98084d4550234add97946d12a0f3dce1",
            "981fce739dd14da2ab99212aac28001d",
            "9e2ce7e1ce014a119f1b52e14baeb202"
          ]
        },
        "outputId": "4397e2f8-0608-4a46-df45-c4c95183ff41"
      },
      "outputs": [
        {
          "output_type": "display_data",
          "data": {
            "text/plain": [
              "VBox(children=(ToggleButtons(options=('Soma', 'Apical tuft (proximal)'), value='Soma'), HBox(children=(Label(v…"
            ],
            "application/vnd.jupyter.widget-view+json": {
              "version_major": 2,
              "version_minor": 0,
              "model_id": "ada701ad7d3a477e9e07b9287140cad9"
            }
          },
          "metadata": {}
        }
      ],
      "source": [
        "w_syn_site = widgets.ToggleButtons(options=['Soma', 'Apical tuft (proximal)'])\n",
        "w_gmax = widgets.FloatSlider(value=gmax, min=0, max=0.1, step=0.0002, readout_format='.4f')\n",
        "display(VBox([w_syn_site, HBox([Label('Synapse maximal conductance (uS)'), w_gmax])]))\n",
        "\n",
        "def set_synapse():\n",
        "    soma_syn = w_syn_site.value == 'Soma'\n",
        "    gmax_soma = w_gmax.value if soma_syn else 0\n",
        "    gmax_tuft = 0 if soma_syn else w_gmax.value / cell._nbranch\n",
        "    cell.synapse[0].set_gmax(gmax_soma)\n",
        "    for syn in cell.synapse[1:]:\n",
        "        syn.set_gmax(gmax_tuft)"
      ]
    },
    {
      "cell_type": "code",
      "source": [
        "# try to extract syn and gmax for plot information\n",
        "print(w_gmax)\n",
        "print(w_syn_site)"
      ],
      "metadata": {
        "colab": {
          "base_uri": "https://localhost:8080/"
        },
        "id": "nqUJhNE_22Nn",
        "outputId": "952e8e9e-d627-477f-eb4f-7061cdc1bc47"
      },
      "id": "nqUJhNE_22Nn",
      "execution_count": 25,
      "outputs": [
        {
          "output_type": "stream",
          "name": "stdout",
          "text": [
            "FloatSlider(value=0.1, max=0.1, readout_format='.4f', step=0.0002)\n",
            "ToggleButtons(options=('Soma', 'Apical tuft (proximal)'), value='Soma')\n"
          ]
        }
      ]
    },
    {
      "cell_type": "code",
      "source": [
        "nseg = len(cell.segments)\n",
        "numTstep = int(h.tstop/h.dt)\n",
        "#since synapse list has combined synapses for computational efficiency, we must use NetCon list/unique spike trains to determine how many synapses were mapped\n",
        "NetCon_per_seg=[0]*nseg\n",
        "inh_NetCon_per_seg=[0]*nseg\n",
        "exc_NetCon_per_seg=[0]*nseg\n",
        "\n",
        "i_NMDA_bySeg= [[0] * (numTstep+1) ] * nseg # need to implement inmda recording\n",
        "\n",
        "v_rest=-60 #choose v_rest for categorizing inh/exc synapses\n",
        "\n",
        "for netcon in cell.netcons_list:\n",
        "  syn=netcon.syn()\n",
        "  if syn in synapses_list:\n",
        "    syn_seg_id=cell.segments.index(netcon.syn().get_segment())\n",
        "    if syn in cell.segments[syn_seg_id].point_processes():\n",
        "      NetCon_per_seg[syn_seg_id]+=1 # get synapses per segment\n",
        "      # NetCon_per_seg[syn_seg_id].append(netcon) # possible implementation if needing objects per segment\n",
        "      if syn.e > v_rest:\n",
        "        exc_NetCon_per_seg[syn_seg_id]+=1\n",
        "        # exc_NetCon_per_seg[syn_seg_id].append(netcon)# possible implementation if needing objects per segment\n",
        "      else:\n",
        "        inh_NetCon_per_seg[syn_seg_id]+=1\n",
        "        # inh_NetCon_per_seg[syn_seg_id].append(netcon)# possible implementation if needing objects per segment\n",
        "    else:\n",
        "      print(\"Warning: synapse not in designated segment's point processes\")\n",
        "\n",
        "  else:\n",
        "    print(\"Warning: potentially deleted synapse:\",\"|NetCon obj:\",netcon,\"|Synapse obj:\",syn,\"the NetCon's synapse is not in synapses_list. Check corresponding original cell's NetCon for location, etc.\")\n",
        "\n",
        "#extract inmda from each segment # can be adjusted for gaba synapses or alpha synapses # only paired nmda/ampa synapses have vec_list[1]\n",
        "for synapse in cell.synapse:\n",
        "  try:\n",
        "    i_NMDA = np.array(synapse.rec_vec.vec_list[1])            #current = numpy array of NEURON Vector of current NMDA current at synapse j  \n",
        "    seg = synapse.get_segment_id()                            #seg = the segment in which synapse j is located \n",
        "    #print('first try')\n",
        "    \n",
        "    try:\n",
        "      i_NMDA_bySeg[seg] = i_NMDA_bySeg[seg] + i_NMDA    \n",
        "      #print('second try')                                           #Sum current over each segment\n",
        "    except: \n",
        "      pass                                                                   #Except needed as some synpases do not have NMDA currrent and throw an error when called\n",
        "  except:\n",
        "    pass"
      ],
      "metadata": {
        "colab": {
          "base_uri": "https://localhost:8080/"
        },
        "id": "-tri29bnwjC6",
        "outputId": "0d19f197-2d79-4a70-db8c-a21005f9d719"
      },
      "id": "-tri29bnwjC6",
      "execution_count": 26,
      "outputs": [
        {
          "output_type": "stream",
          "name": "stdout",
          "text": [
            "Warning: potentially deleted synapse: |NetCon obj: NetCon[0] |Synapse obj: Exp2Syn[0] the NetCon's synapse is not in synapses_list. Check corresponding original cell's NetCon for location, etc.\n",
            "Warning: potentially deleted synapse: |NetCon obj: NetCon[1] |Synapse obj: Exp2Syn[1] the NetCon's synapse is not in synapses_list. Check corresponding original cell's NetCon for location, etc.\n",
            "Warning: potentially deleted synapse: |NetCon obj: NetCon[2] |Synapse obj: Exp2Syn[2] the NetCon's synapse is not in synapses_list. Check corresponding original cell's NetCon for location, etc.\n",
            "Warning: potentially deleted synapse: |NetCon obj: NetCon[3] |Synapse obj: Exp2Syn[3] the NetCon's synapse is not in synapses_list. Check corresponding original cell's NetCon for location, etc.\n",
            "Warning: potentially deleted synapse: |NetCon obj: NetCon[4] |Synapse obj: Exp2Syn[4] the NetCon's synapse is not in synapses_list. Check corresponding original cell's NetCon for location, etc.\n",
            "Warning: potentially deleted synapse: |NetCon obj: NetCon[5] |Synapse obj: Exp2Syn[5] the NetCon's synapse is not in synapses_list. Check corresponding original cell's NetCon for location, etc.\n"
          ]
        }
      ]
    },
    {
      "cell_type": "code",
      "source": [
        "%ls"
      ],
      "metadata": {
        "colab": {
          "base_uri": "https://localhost:8080/"
        },
        "id": "ynXvkXxb1dST",
        "outputId": "da892450-491d-44e6-8693-b852074c1287"
      },
      "id": "ynXvkXxb1dST",
      "execution_count": 27,
      "outputs": [
        {
          "output_type": "stream",
          "name": "stdout",
          "text": [
            "\u001b[0m\u001b[01;34mcell_inference\u001b[0m/  Stylized_Single_Cell_Extracellular_Potential_Tutorial.ipynb\n"
          ]
        }
      ]
    },
    {
      "cell_type": "code",
      "source": [
        "output_folder_name=str(nbranches[0])+\"nbranch_outputcontrol_\"+str(int(len(cell.synapse)))+\"nsyn\"#+modelname  #include model name in output foler name (ex. original cell, reduced cell, expanded cell)\n",
        "#create output folder\n",
        "import os\n",
        "if not os.path.exists(output_folder_name):\n",
        "   os.makedirs(output_folder_name)\n",
        "\n",
        "print(output_folder_name)\n",
        "os.chdir(output_folder_name)"
      ],
      "metadata": {
        "colab": {
          "base_uri": "https://localhost:8080/"
        },
        "id": "LeeK1qu11Zhv",
        "outputId": "6c069b1a-2947-4689-de8e-1738e0ac3ef1"
      },
      "id": "LeeK1qu11Zhv",
      "execution_count": 28,
      "outputs": [
        {
          "output_type": "stream",
          "name": "stdout",
          "text": [
            "4nbranch_outputcontrol_6nsyn\n"
          ]
        }
      ]
    },
    {
      "cell_type": "code",
      "source": [
        "#save geometry file\n",
        "cell.geometry.to_csv('geometry.csv')"
      ],
      "metadata": {
        "id": "2dNBijayE1zu"
      },
      "id": "2dNBijayE1zu",
      "execution_count": 29,
      "outputs": []
    },
    {
      "cell_type": "code",
      "source": [
        "#Should add \"syn per seg\" to seg data frame #also can try doing SynPerSeg/segL to have more of a density metric\n",
        "#can adjust functions to take df arguement\n",
        "def plotSynDensity(SynPerSeg,Type=str):\n",
        "  plt.figure(figsize=(4,10))\n",
        "  ax = plt.scatter(expanded_segments_df[\"Coord X\"], expanded_segments_df[\"Coord Y\"],c = SynPerSeg[0:nseg],cmap='jet',)\n",
        "  plt.vlines(110,400,500)\n",
        "  plt.text(0,450,'100 um')\n",
        "  plt.hlines(400,110,210)\n",
        "  plt.text(110,350,'100 um')\n",
        "  plt.xticks([])\n",
        "  plt.yticks([])\n",
        "  cbar = plt.colorbar()\n",
        "  cbar.ax.set_ylabel(Type+'Synapses per segment', rotation=270)\n",
        "\n",
        "  plt.box(False)\n",
        "  plt.savefig(Type+'_syns.svg')\n",
        "\n",
        "def plotSynDensityNoSoma(SynPerSeg,Type=str):\n",
        "  plt.figure(figsize=(4,10))\n",
        "  ax = plt.scatter(expanded_segments_df[\"Coord X\"][1:], expanded_segments_df[\"Coord Y\"][1:],c = SynPerSeg[1:nseg],cmap='jet',)\n",
        "  plt.vlines(110,400,500)\n",
        "  plt.text(0,450,'100 um')\n",
        "  plt.hlines(400,110,210)\n",
        "  plt.text(110,350,'100 um')\n",
        "  plt.xticks([])\n",
        "  plt.yticks([])\n",
        "  cbar = plt.colorbar()\n",
        "  cbar.ax.set_ylabel(Type+'Synapses per segment', rotation=270)\n",
        "\n",
        "  plt.box(False)\n",
        "  plt.savefig(Type+'_syns.svg')\n",
        "\n",
        "plotSynDensity(exc_NetCon_per_seg,'Exc') #len(cell.segments) #low number of segments makes plot look odd."
      ],
      "metadata": {
        "colab": {
          "base_uri": "https://localhost:8080/",
          "height": 820
        },
        "id": "ZtC6mvhXwL-L",
        "outputId": "d06f115d-b752-407d-bf82-b619dce57df6"
      },
      "id": "ZtC6mvhXwL-L",
      "execution_count": 30,
      "outputs": [
        {
          "output_type": "display_data",
          "data": {
            "text/plain": [
              "<Figure size 400x1000 with 2 Axes>"
            ],
            "image/png": "[encoded data removed]"
          },
          "metadata": {}
        }
      ]
    },
    {
      "cell_type": "code",
      "source": [
        "plotSynDensity(inh_NetCon_per_seg,'Inh') # if soma has too many inh synapses the heatmap is not as interpretable"
      ],
      "metadata": {
        "colab": {
          "base_uri": "https://localhost:8080/",
          "height": 820
        },
        "id": "AuPzXdSdwhme",
        "outputId": "d82abba8-1a83-48ff-80f6-0b08d262a436"
      },
      "id": "AuPzXdSdwhme",
      "execution_count": 31,
      "outputs": [
        {
          "output_type": "display_data",
          "data": {
            "text/plain": [
              "<Figure size 400x1000 with 2 Axes>"
            ],
            "image/png": "[encoded data removed]"
          },
          "metadata": {}
        }
      ]
    },
    {
      "cell_type": "markdown",
      "id": "2ca15375",
      "metadata": {
        "id": "2ca15375"
      },
      "source": [
        "## Run simulation and plot results\n",
        "\n",
        "Run the codes below to simulate and display results everytime after you change the parameters above."
      ]
    },
    {
      "cell_type": "code",
      "execution_count": 32,
      "id": "f81ec874",
      "metadata": {
        "id": "f81ec874",
        "colab": {
          "base_uri": "https://localhost:8080/",
          "height": 1000
        },
        "outputId": "9e608b2d-ae05-4d64-f827-047bfa2fb782"
      },
      "outputs": [
        {
          "output_type": "display_data",
          "data": {
            "text/plain": [
              "<Figure size 1000x400 with 1 Axes>"
            ],
            "image/png": "[encoded data removed]"
          },
          "metadata": {}
        },
        {
          "output_type": "display_data",
          "data": {
            "text/plain": [
              "<Figure size 800x500 with 2 Axes>"
            ],
            "image/png": "[encoded data removed]"
          },
          "metadata": {}
        },
        {
          "output_type": "display_data",
          "data": {
            "text/plain": [
              "<Figure size 800x500 with 2 Axes>"
            ],
            "image/png": "[encoded data removed]"
          },
          "metadata": {}
        }
      ],
      "source": [
        "# Run simulation\n",
        "set_synapse()\n",
        "h.run()\n",
        "# Get results\n",
        "t = t_vec.as_numpy().copy()  # time array (ms)\n",
        "# soma membrane potential\n",
        "Vm = V_rec.as_numpy()\n",
        "v_soma = Vm[cell.sec_id_in_seg[cell.all.index(cell.soma)]]\n",
        "v_tfut = Vm[cell.sec_id_in_seg[cell.all.index(cell.apic[1])]]\n",
        "# lfp array\n",
        "lfp = ecp.calc_ecp(move_cell=loc_param).T  # unit: mV\n",
        "\n",
        "# Soma membrane potential\n",
        "plt.figure(figsize=(10, 4))\n",
        "plt.plot(t, v_soma, label='Soma')\n",
        "plt.plot(t, v_tfut, label='Tuft')\n",
        "plt.ylabel('Membrane potential (mV)')\n",
        "plt.xlabel('time (ms)')\n",
        "plt.xlim(t[[0, -1]])\n",
        "plt.legend()\n",
        "plt.savefig('Vm')\n",
        "\n",
        "# Extracellular potential along y-axis\n",
        "y_window = [-1200, 1200]  # select range of y coordinate for plotting\n",
        "ylim = loc_param[1] + np.array(y_window)  # set range of y coordinate\n",
        "max_idx = np.argmax(np.amax(np.abs(lfp), axis=0))  # find the electrode that records maximum magnitude\n",
        "x_dist = elec_pos[max_idx, 0]  # x coordinate of the maximum magnitude electrode\n",
        "e_idx = (elec_pos[:, 0]==x_dist) & (elec_pos[:, 1]>=ylim[0]) & (elec_pos[:, 1]<=ylim[1])  # selected electrode indices\n",
        "\n",
        "fontsize = 15\n",
        "labelpad = -10\n",
        "ticksize = 12\n",
        "tick_length = 5\n",
        "nbins = 5\n",
        "plt.figure(figsize=(8, 5))\n",
        "_ = plot_lfp_heatmap(t=t, elec_d=elec_pos[e_idx, 1], lfp=lfp[:, e_idx],\n",
        "                     fontsize=fontsize, labelpad=labelpad, ticksize=ticksize, tick_length=tick_length,\n",
        "                     nbins=nbins, vlim='auto', axes=plt.gca())\n",
        "plt.title('Extracellular potential heatmap')\n",
        "plt.savefig('ECP heatmap')\n",
        "plt.figure(figsize=(8, 5))\n",
        "_ = plot_lfp_traces(t, lfp[:, e_idx][:,1::3], electrodes=elec_pos[e_idx][1::3],\n",
        "                    fontsize=fontsize, labelpad=labelpad, ticksize=ticksize, tick_length=tick_length,\n",
        "                    nbins=nbins, axes=plt.gca())\n",
        "plt.title('Extracellular potential timecourse')\n",
        "plt.savefig('ECP timecourse')\n",
        "\n",
        "plt.show()"
      ]
    },
    {
      "cell_type": "markdown",
      "id": "5c3e3e52",
      "metadata": {
        "id": "5c3e3e52"
      },
      "source": [
        "## Electrotonic distance\n",
        "\n",
        "Neuron has a tool for electrotonic analysis [https://www.neuron.yale.edu/neuron/static/docs/zclass/zclass.html](https://www.neuron.yale.edu/neuron/static/docs/zclass/zclass.html). It computes the electrotonic distance defined by attenuation, but the classical definition is [anatomical distance/length constant](https://www.neuron.yale.edu/neuron/static/docs/zclass/NIPS94/nipsfin.html).\n",
        "\n",
        "The plot below shows the membrane potential timecourse at several locations on the cell. The electrotonic distance computed by Neuron of each location is also shown with both number and color. The distance should always be a positive value, but it is labeled negative for the basal dendrites and the axon intentionally so that it can be easily distinguished from the apical dendrites."
      ]
    },
    {
      "cell_type": "code",
      "source": [
        "# geometry=cell.geometry"
      ],
      "metadata": {
        "id": "cNsNKTKuB0XA"
      },
      "id": "cNsNKTKuB0XA",
      "execution_count": 33,
      "outputs": []
    },
    {
      "cell_type": "code",
      "execution_count": 34,
      "id": "729a65ff",
      "metadata": {
        "id": "729a65ff"
      },
      "outputs": [],
      "source": [
        "# for syn in cell.synapse:\n",
        "#     syn.set_gmax(0)\n",
        "# h.run()\n",
        "\n",
        "# sec_type_swc = {sec['name']: sec['type'] for _, sec in geometry.iterrows()}\n",
        "# # sec_type = [sec_type_swc[sec.name().split('.')[-1]] for sec in cell.all] # original\n",
        "# # sec_type = [sec_type_swc[sec.name().split('.')[-1].split('[')[0]] for sec in cell.all] # possible alternative?\n",
        "# sec_type = [sec_type_swc[sec.name()] for sec in cell.all]\n",
        "# freq = 0 # Hz\n",
        "# seg_prop, _, _ = measure_segment_distance(cell.soma , cell.all, sec_type, freq)\n",
        "\n",
        "# select_seg = [[cell.sec_id_in_seg[sec[0]], cell.get_sec_by_id(sec[0]).nseg -1] for sec in cell.sec_id_lookup.values()]\n",
        "# select_seg = np.sum(np.array(select_seg), axis=1)\n",
        "# # select_seg = np.unique(np.cumsum(np.array(select_seg), axis=1).ravel())\n",
        "# _ = plot_variable_with_morphology(cell.seg_coords, seg_prop, Vm, t=t, axes=['x', 'y'],\n",
        "#                                   distance_type='elec_dist', n_dist=300,\n",
        "#                                   select_seg=select_seg, max_per_dist=1, varname='Membrane potential (mV)',\n",
        "#                                   space=2., normalized_space=True, sort_by_dist=True,\n",
        "                                  # figsize=(10, 10), fontsize=15, scalebar_size=50)"
      ]
    },
    {
      "cell_type": "markdown",
      "source": [
        "##Transfer Impedance\n",
        "\n"
      ],
      "metadata": {
        "id": "Tc1fFLPUz5Qe"
      },
      "id": "Tc1fFLPUz5Qe"
    },
    {
      "cell_type": "code",
      "execution_count": 35,
      "id": "be859ed7",
      "metadata": {
        "id": "be859ed7"
      },
      "outputs": [],
      "source": [
        "# import numpy as np\n",
        "# from neuron import h\n",
        "# import cmath\n",
        "\n",
        "# def measure_segment_transfer_impedance(soma, section_list, sec_type, freq=0, extracellular_mechanism=True):\n",
        "#     \"\"\"\n",
        "#     soma: soma section object\n",
        "#     section_list: list of sections\n",
        "#     sec_type: list of swc type id of sections\n",
        "#     freq: frequency (Hz) at which electrotonic distance is evaluated\n",
        "#     extracellular_mechanism: whether extracellular mechanism is used\n",
        "#     \"\"\"\n",
        "#     seg_prop = {}\n",
        "#     swc_type = []\n",
        "#     seg_area = []\n",
        "#     seg_dist = []\n",
        "#     seg_length = []\n",
        "#     elec_dist = [] #modulus part of polar form #should change names\n",
        "#     elec_dist0 = [] #modulus of polar form #should change names\n",
        "#     transfer_imps = [] #real part of rectangular form\n",
        "#     transfer_imps0 = [] # real part of rectangular form\n",
        "\n",
        "#     # set up distance origin\n",
        "#     h.distance(0, soma(.5))\n",
        "#     # set up electrotonic origin\n",
        "#     zz = h.Impedance()\n",
        "#     zz.loc(soma(.5))\n",
        "#     if extracellular_mechanism:\n",
        "#         zz.compute(freq + 1 / 9e9, 0) #*\n",
        "#     else:\n",
        "#         zz.compute(freq, 1)\n",
        "#     # measure distance\n",
        "#     for i, sec in enumerate(section_list):\n",
        "#         if sec_type[i]==1:\n",
        "#             transfer_imp=zz.transfer(sec(0.5/sec.nseg)) #*\n",
        "#             transfer_phase=zz.transfer_phase(sec(0.5/sec.nseg)) #*\n",
        "#             elec_dist0.append(transfer_imp) #*\n",
        "#             rect_complex=cmath.rect(transfer_imp,transfer_phase)\n",
        "#             transfer_imps.append(rect_complex.real) #*\n",
        "#         else:\n",
        "#             transfer_imp=zz.transfer(sec.parentseg()) #*\n",
        "#             transfer_phase=zz.transfer_phase(sec.parentseg()) #*\n",
        "#             elec_dist0.append(transfer_imp) #*\n",
        "#             rect_complex=cmath.rect(transfer_imp, transfer_phase) #*\n",
        "#             transfer_imps.append(rect_complex.real) #*\n",
        "#         for j, seg in enumerate(sec):\n",
        "#             swc_type.append(sec_type[i])\n",
        "#             seg_area.append(seg.area())\n",
        "#             seg_dist.append(h.distance(seg))\n",
        "#             seg_length.append(sec.L/sec.nseg)\n",
        "#             if j!=0:\n",
        "#                 elec_dist0.append(elec_dist[-1])\n",
        "#                 transfer_imps.append(transfer_imps0[-1])\n",
        "#             elec_dist.append(zz.transfer(seg)) #*\n",
        "#             transfer_imp=zz.transfer(seg) #*\n",
        "#             transfer_phase=zz.transfer_phase(seg) #*\n",
        "#             rect_complex=cmath.rect(transfer_imp,transfer_phase) #*\n",
        "#             transfer_imps0.append(rect_complex.real) #*\n",
        "\n",
        "#     seg_prop['swc_type'] = np.array(swc_type)\n",
        "#     seg_prop['seg_area'] = np.array(seg_area)\n",
        "\n",
        "#     # distance at endpoints of each segment\n",
        "#     seg_prop['distance'] = np.expand_dims(seg_dist, 1) + np.expand_dims(seg_length, 1) / 2 * np.array([[-1, 1]])\n",
        "#     # seg_prop['transfer_imp'] = np.sort(np.log(elec_dist0[0]) - np.log(np.column_stack([elec_dist0, elec_dist])), axis=1) #*\n",
        "#     seg_prop['transfer_imp_mod'] = np.sort(elec_dist0[0] - np.column_stack([elec_dist0, elec_dist]), axis=1) #*\n",
        "#     seg_prop['transfer_imp_real'] = np.sort(transfer_imps[0] - np.column_stack([transfer_imps, transfer_imps0]), axis=1) #*\n",
        "\n",
        "\n",
        "#     # change sign of basal and axon types\n",
        "#     idx = np.nonzero((seg_prop['swc_type']==2) | (seg_prop['swc_type']==3))[0]\n",
        "#     seg_prop['distance'][idx] = -seg_prop['distance'][idx,::-1]\n",
        "#     seg_prop['transfer_imp_mod'][idx] = -seg_prop['transfer_imp_mod'][idx,::-1] #*\n",
        "#     seg_prop['transfer_imp_real'][idx] = -seg_prop['transfer_imp_real'][idx,::-1] #*\n",
        "#     return seg_prop, zz.transfer(soma(.5)), zz.transfer_phase(soma(.5))\n"
      ]
    },
    {
      "cell_type": "code",
      "source": [
        "# #using modulus of polar form\n",
        "\n",
        "# for syn in cell.synapse:\n",
        "#     syn.set_gmax(0)\n",
        "# h.run()\n",
        "\n",
        "# sec_type_swc = {sec['name']: sec['type'] for _, sec in geometry.iterrows()}\n",
        "# sec_type = [sec_type_swc[sec.name().split('.')[-1]] for sec in cell.all]\n",
        "# freq = 0 # Hz\n",
        "# seg_prop, _, _ = measure_segment_transfer_impedance(cell.soma , cell.all, sec_type, freq)\n",
        "\n",
        "# select_seg = [[cell.sec_id_in_seg[sec[0]], cell.get_sec_by_id(sec[0]).nseg -1] for sec in cell.sec_id_lookup.values()]\n",
        "# select_seg = np.sum(np.array(select_seg), axis=1)\n",
        "# # select_seg = np.unique(np.cumsum(np.array(select_seg), axis=1).ravel())\n",
        "# _ = plot_variable_with_morphology(cell.seg_coords, seg_prop, Vm, t=t, axes=['x', 'y'],\n",
        "#                                   distance_type='transfer_imp_mod', n_dist=300,\n",
        "#                                   select_seg=select_seg, max_per_dist=1, varname='Membrane potential (mV)',\n",
        "#                                   space=2., normalized_space=True, sort_by_dist=True,\n",
        "#                                   figsize=(10, 10), fontsize=15, scalebar_size=50)"
      ],
      "metadata": {
        "id": "yHRymM0L5pJj"
      },
      "id": "yHRymM0L5pJj",
      "execution_count": 36,
      "outputs": []
    },
    {
      "cell_type": "code",
      "source": [
        "# #using real part of rectangular complex form\n",
        "\n",
        "# for syn in cell.synapse:\n",
        "#     syn.set_gmax(0)\n",
        "# h.run()\n",
        "\n",
        "# sec_type_swc = {sec['name']: sec['type'] for _, sec in geometry.iterrows()}\n",
        "# sec_type = [sec_type_swc[sec.name().split('.')[-1]] for sec in cell.all]\n",
        "# freq = 0 # Hz\n",
        "# seg_prop, _, _ = measure_segment_transfer_impedance(cell.soma , cell.all, sec_type, freq)\n",
        "\n",
        "# select_seg = [[cell.sec_id_in_seg[sec[0]], cell.get_sec_by_id(sec[0]).nseg -1] for sec in cell.sec_id_lookup.values()]\n",
        "# select_seg = np.sum(np.array(select_seg), axis=1)\n",
        "# # select_seg = np.unique(np.cumsum(np.array(select_seg), axis=1).ravel())\n",
        "# _ = plot_variable_with_morphology(cell.seg_coords, seg_prop, Vm, t=t, axes=['x', 'y'],\n",
        "#                                   distance_type='transfer_imp_real', n_dist=300,\n",
        "#                                   select_seg=select_seg, max_per_dist=1, varname='Membrane potential (mV)',\n",
        "#                                   space=2., normalized_space=True, sort_by_dist=True,\n",
        "#                                   figsize=(10, 10), fontsize=15, scalebar_size=50)"
      ],
      "metadata": {
        "id": "Ibbz1qMIjWu5"
      },
      "id": "Ibbz1qMIjWu5",
      "execution_count": 37,
      "outputs": []
    },
    {
      "cell_type": "markdown",
      "source": [
        "Transfer Impedance is a complex number"
      ],
      "metadata": {
        "id": "2eSHPclEP0I0"
      },
      "id": "2eSHPclEP0I0"
    },
    {
      "cell_type": "code",
      "source": [
        "# polar_modulus=1\n",
        "# polar_phase=3\n",
        "\n",
        "# complex_rectangular_form=cmath.rect(polar_modulus, polar_phase)\n",
        "# print(complex_rectangular_form)"
      ],
      "metadata": {
        "id": "PM8Xa3WATASj"
      },
      "id": "PM8Xa3WATASj",
      "execution_count": 38,
      "outputs": []
    },
    {
      "cell_type": "code",
      "source": [
        "# complex_rectangular_form.real"
      ],
      "metadata": {
        "id": "BZgkMzBpTLgL"
      },
      "id": "BZgkMzBpTLgL",
      "execution_count": 39,
      "outputs": []
    }
  ],
  "metadata": {
    "colab": {
      "provenance": [],
      "include_colab_link": true
    },
    "kernelspec": {
      "display_name": "Python 3 (ipykernel)",
      "language": "python",
      "name": "python3"
    },
    "language_info": {
      "codemirror_mode": {
        "name": "ipython",
        "version": 3
      },
      "file_extension": ".py",
      "mimetype": "text/x-python",
      "name": "python",
      "nbconvert_exporter": "python",
      "pygments_lexer": "ipython3",
      "version": "3.9.12"
    },
    "widgets": {
      "application/vnd.jupyter.widget-state+json": {
        "d9a611abb1504461b5952dd22bba5245": {
          "model_module": "@jupyter-widgets/controls",
          "model_name": "VBoxModel",
          "model_module_version": "1.5.0",
          "state": {
            "_dom_classes": [],
            "_model_module": "@jupyter-widgets/controls",
            "_model_module_version": "1.5.0",
            "_model_name": "VBoxModel",
            "_view_count": null,
            "_view_module": "@jupyter-widgets/controls",
            "_view_module_version": "1.5.0",
            "_view_name": "VBoxView",
            "box_style": "",
            "children": [
              "IPY_MODEL_23ca18ce25e540dc8d32b86011c2bb7f",
              "IPY_MODEL_b0bb0acb279c4b738c78ef9099bc5667",
              "IPY_MODEL_77a8d1aa2407485f9d5a2493f334ba9c"
            ],
            "layout": "IPY_MODEL_f73a6839254d4dc3b42f97c4f1afb877"
          }
        },
        "23ca18ce25e540dc8d32b86011c2bb7f": {
          "model_module": "@jupyter-widgets/controls",
          "model_name": "ButtonModel",
          "model_module_version": "1.5.0",
          "state": {
            "_dom_classes": [],
            "_model_module": "@jupyter-widgets/controls",
            "_model_module_version": "1.5.0",
            "_model_name": "ButtonModel",
            "_view_count": null,
            "_view_module": "@jupyter-widgets/controls",
            "_view_module_version": "1.5.0",
            "_view_name": "ButtonView",
            "button_style": "primary",
            "description": "Reset",
            "disabled": false,
            "icon": "history",
            "layout": "IPY_MODEL_39c1d4541bc245bd916b148b419df5b1",
            "style": "IPY_MODEL_266f0c02a54e4cc5b3e104056c214794",
            "tooltip": ""
          }
        },
        "b0bb0acb279c4b738c78ef9099bc5667": {
          "model_module": "@jupyter-widgets/controls",
          "model_name": "HBoxModel",
          "model_module_version": "1.5.0",
          "state": {
            "_dom_classes": [],
            "_model_module": "@jupyter-widgets/controls",
            "_model_module_version": "1.5.0",
            "_model_name": "HBoxModel",
            "_view_count": null,
            "_view_module": "@jupyter-widgets/controls",
            "_view_module_version": "1.5.0",
            "_view_name": "HBoxView",
            "box_style": "",
            "children": [
              "IPY_MODEL_427cee79849449b5b3cd832e4103182b",
              "IPY_MODEL_0087fe34c4994e40b052a24efeaac1d3"
            ],
            "layout": "IPY_MODEL_97b33f40924047989af32963d863126b"
          }
        },
        "77a8d1aa2407485f9d5a2493f334ba9c": {
          "model_module": "@jupyter-widgets/controls",
          "model_name": "HBoxModel",
          "model_module_version": "1.5.0",
          "state": {
            "_dom_classes": [],
            "_model_module": "@jupyter-widgets/controls",
            "_model_module_version": "1.5.0",
            "_model_name": "HBoxModel",
            "_view_count": null,
            "_view_module": "@jupyter-widgets/controls",
            "_view_module_version": "1.5.0",
            "_view_name": "HBoxView",
            "box_style": "",
            "children": [
              "IPY_MODEL_ee5ff630095e4f8c8a333f8e2271f55f",
              "IPY_MODEL_7c3d637f240142da93fcecf782f0fcb1"
            ],
            "layout": "IPY_MODEL_f37e56ed76c141f2a7539c0c8110b5c5"
          }
        },
        "f73a6839254d4dc3b42f97c4f1afb877": {
          "model_module": "@jupyter-widgets/base",
          "model_name": "LayoutModel",
          "model_module_version": "1.2.0",
          "state": {
            "_model_module": "@jupyter-widgets/base",
            "_model_module_version": "1.2.0",
            "_model_name": "LayoutModel",
            "_view_count": null,
            "_view_module": "@jupyter-widgets/base",
            "_view_module_version": "1.2.0",
            "_view_name": "LayoutView",
            "align_content": null,
            "align_items": null,
            "align_self": null,
            "border": null,
            "bottom": null,
            "display": null,
            "flex": null,
            "flex_flow": null,
            "grid_area": null,
            "grid_auto_columns": null,
            "grid_auto_flow": null,
            "grid_auto_rows": null,
            "grid_column": null,
            "grid_gap": null,
            "grid_row": null,
            "grid_template_areas": null,
            "grid_template_columns": null,
            "grid_template_rows": null,
            "height": null,
            "justify_content": null,
            "justify_items": null,
            "left": null,
            "margin": null,
            "max_height": null,
            "max_width": null,
            "min_height": null,
            "min_width": null,
            "object_fit": null,
            "object_position": null,
            "order": null,
            "overflow": null,
            "overflow_x": null,
            "overflow_y": null,
            "padding": null,
            "right": null,
            "top": null,
            "visibility": null,
            "width": null
          }
        },
        "39c1d4541bc245bd916b148b419df5b1": {
          "model_module": "@jupyter-widgets/base",
          "model_name": "LayoutModel",
          "model_module_version": "1.2.0",
          "state": {
            "_model_module": "@jupyter-widgets/base",
            "_model_module_version": "1.2.0",
            "_model_name": "LayoutModel",
            "_view_count": null,
            "_view_module": "@jupyter-widgets/base",
            "_view_module_version": "1.2.0",
            "_view_name": "LayoutView",
            "align_content": null,
            "align_items": null,
            "align_self": null,
            "border": null,
            "bottom": null,
            "display": null,
            "flex": null,
            "flex_flow": null,
            "grid_area": null,
            "grid_auto_columns": null,
            "grid_auto_flow": null,
            "grid_auto_rows": null,
            "grid_column": null,
            "grid_gap": null,
            "grid_row": null,
            "grid_template_areas": null,
            "grid_template_columns": null,
            "grid_template_rows": null,
            "height": null,
            "justify_content": null,
            "justify_items": null,
            "left": null,
            "margin": null,
            "max_height": null,
            "max_width": null,
            "min_height": null,
            "min_width": null,
            "object_fit": null,
            "object_position": null,
            "order": null,
            "overflow": null,
            "overflow_x": null,
            "overflow_y": null,
            "padding": null,
            "right": null,
            "top": null,
            "visibility": null,
            "width": null
          }
        },
        "266f0c02a54e4cc5b3e104056c214794": {
          "model_module": "@jupyter-widgets/controls",
          "model_name": "ButtonStyleModel",
          "model_module_version": "1.5.0",
          "state": {
            "_model_module": "@jupyter-widgets/controls",
            "_model_module_version": "1.5.0",
            "_model_name": "ButtonStyleModel",
            "_view_count": null,
            "_view_module": "@jupyter-widgets/base",
            "_view_module_version": "1.2.0",
            "_view_name": "StyleView",
            "button_color": null,
            "font_weight": ""
          }
        },
        "427cee79849449b5b3cd832e4103182b": {
          "model_module": "@jupyter-widgets/controls",
          "model_name": "VBoxModel",
          "model_module_version": "1.5.0",
          "state": {
            "_dom_classes": [],
            "_model_module": "@jupyter-widgets/controls",
            "_model_module_version": "1.5.0",
            "_model_name": "VBoxModel",
            "_view_count": null,
            "_view_module": "@jupyter-widgets/controls",
            "_view_module_version": "1.5.0",
            "_view_name": "VBoxView",
            "box_style": "",
            "children": [
              "IPY_MODEL_2fdf42bf2bd04cb58ae0d80a631cb5c4",
              "IPY_MODEL_37dd50b6d08b4b55b3ecacd138824419",
              "IPY_MODEL_cd73b3f1bbca4f42a862157c92b02def"
            ],
            "layout": "IPY_MODEL_d23d91931f27489d98a26103a8391bce"
          }
        },
        "0087fe34c4994e40b052a24efeaac1d3": {
          "model_module": "@jupyter-widgets/controls",
          "model_name": "VBoxModel",
          "model_module_version": "1.5.0",
          "state": {
            "_dom_classes": [],
            "_model_module": "@jupyter-widgets/controls",
            "_model_module_version": "1.5.0",
            "_model_name": "VBoxModel",
            "_view_count": null,
            "_view_module": "@jupyter-widgets/controls",
            "_view_module_version": "1.5.0",
            "_view_name": "VBoxView",
            "box_style": "",
            "children": [
              "IPY_MODEL_a8d35912cd7b4cf2a8656caf3a7c001c",
              "IPY_MODEL_663cf880482e464389a0762bdd8e642d",
              "IPY_MODEL_8805e2dffc554d759247b2a6a4502893"
            ],
            "layout": "IPY_MODEL_56ad6fc9e6ab47ed9be02bd1930e64e3"
          }
        },
        "97b33f40924047989af32963d863126b": {
          "model_module": "@jupyter-widgets/base",
          "model_name": "LayoutModel",
          "model_module_version": "1.2.0",
          "state": {
            "_model_module": "@jupyter-widgets/base",
            "_model_module_version": "1.2.0",
            "_model_name": "LayoutModel",
            "_view_count": null,
            "_view_module": "@jupyter-widgets/base",
            "_view_module_version": "1.2.0",
            "_view_name": "LayoutView",
            "align_content": null,
            "align_items": null,
            "align_self": null,
            "border": null,
            "bottom": null,
            "display": null,
            "flex": null,
            "flex_flow": null,
            "grid_area": null,
            "grid_auto_columns": null,
            "grid_auto_flow": null,
            "grid_auto_rows": null,
            "grid_column": null,
            "grid_gap": null,
            "grid_row": null,
            "grid_template_areas": null,
            "grid_template_columns": null,
            "grid_template_rows": null,
            "height": null,
            "justify_content": null,
            "justify_items": null,
            "left": null,
            "margin": null,
            "max_height": null,
            "max_width": null,
            "min_height": null,
            "min_width": null,
            "object_fit": null,
            "object_position": null,
            "order": null,
            "overflow": null,
            "overflow_x": null,
            "overflow_y": null,
            "padding": null,
            "right": null,
            "top": null,
            "visibility": null,
            "width": null
          }
        },
        "ee5ff630095e4f8c8a333f8e2271f55f": {
          "model_module": "@jupyter-widgets/controls",
          "model_name": "VBoxModel",
          "model_module_version": "1.5.0",
          "state": {
            "_dom_classes": [],
            "_model_module": "@jupyter-widgets/controls",
            "_model_module_version": "1.5.0",
            "_model_name": "VBoxModel",
            "_view_count": null,
            "_view_module": "@jupyter-widgets/controls",
            "_view_module_version": "1.5.0",
            "_view_name": "VBoxView",
            "box_style": "",
            "children": [
              "IPY_MODEL_b8164f58ab3b47798ab2c6184746f002",
              "IPY_MODEL_6ba2ae99482f46c8bf44a1e71b27a02e"
            ],
            "layout": "IPY_MODEL_e75975fe98dd4e4c809b1821bdf7aeae"
          }
        },
        "7c3d637f240142da93fcecf782f0fcb1": {
          "model_module": "@jupyter-widgets/controls",
          "model_name": "FloatSliderModel",
          "model_module_version": "1.5.0",
          "state": {
            "_dom_classes": [],
            "_model_module": "@jupyter-widgets/controls",
            "_model_module_version": "1.5.0",
            "_model_name": "FloatSliderModel",
            "_view_count": null,
            "_view_module": "@jupyter-widgets/controls",
            "_view_module_version": "1.5.0",
            "_view_name": "FloatSliderView",
            "continuous_update": false,
            "description": "elev (deg)",
            "description_tooltip": null,
            "disabled": false,
            "layout": "IPY_MODEL_35402b339c8b4c0cb7902001bf557be4",
            "max": 90,
            "min": -90,
            "orientation": "vertical",
            "readout": true,
            "readout_format": ".0f",
            "step": 1,
            "style": "IPY_MODEL_c3d566ff423f4beab222c0eacf60cf12",
            "value": -10
          }
        },
        "f37e56ed76c141f2a7539c0c8110b5c5": {
          "model_module": "@jupyter-widgets/base",
          "model_name": "LayoutModel",
          "model_module_version": "1.2.0",
          "state": {
            "_model_module": "@jupyter-widgets/base",
            "_model_module_version": "1.2.0",
            "_model_name": "LayoutModel",
            "_view_count": null,
            "_view_module": "@jupyter-widgets/base",
            "_view_module_version": "1.2.0",
            "_view_name": "LayoutView",
            "align_content": null,
            "align_items": null,
            "align_self": null,
            "border": null,
            "bottom": null,
            "display": null,
            "flex": null,
            "flex_flow": null,
            "grid_area": null,
            "grid_auto_columns": null,
            "grid_auto_flow": null,
            "grid_auto_rows": null,
            "grid_column": null,
            "grid_gap": null,
            "grid_row": null,
            "grid_template_areas": null,
            "grid_template_columns": null,
            "grid_template_rows": null,
            "height": null,
            "justify_content": null,
            "justify_items": null,
            "left": null,
            "margin": null,
            "max_height": null,
            "max_width": null,
            "min_height": null,
            "min_width": null,
            "object_fit": null,
            "object_position": null,
            "order": null,
            "overflow": null,
            "overflow_x": null,
            "overflow_y": null,
            "padding": null,
            "right": null,
            "top": null,
            "visibility": null,
            "width": null
          }
        },
        "2fdf42bf2bd04cb58ae0d80a631cb5c4": {
          "model_module": "@jupyter-widgets/controls",
          "model_name": "FloatSliderModel",
          "model_module_version": "1.5.0",
          "state": {
            "_dom_classes": [],
            "_model_module": "@jupyter-widgets/controls",
            "_model_module_version": "1.5.0",
            "_model_name": "FloatSliderModel",
            "_view_count": null,
            "_view_module": "@jupyter-widgets/controls",
            "_view_module_version": "1.5.0",
            "_view_name": "FloatSliderView",
            "continuous_update": false,
            "description": "x (um)",
            "description_tooltip": null,
            "disabled": false,
            "layout": "IPY_MODEL_b8906b3a65b4443d93afd6ccb1de4479",
            "max": 200,
            "min": -200,
            "orientation": "horizontal",
            "readout": true,
            "readout_format": ".0f",
            "step": 1,
            "style": "IPY_MODEL_68cf53a88e1f4540a9dedd589b950964",
            "value": 0
          }
        },
        "37dd50b6d08b4b55b3ecacd138824419": {
          "model_module": "@jupyter-widgets/controls",
          "model_name": "FloatSliderModel",
          "model_module_version": "1.5.0",
          "state": {
            "_dom_classes": [],
            "_model_module": "@jupyter-widgets/controls",
            "_model_module_version": "1.5.0",
            "_model_name": "FloatSliderModel",
            "_view_count": null,
            "_view_module": "@jupyter-widgets/controls",
            "_view_module_version": "1.5.0",
            "_view_name": "FloatSliderView",
            "continuous_update": false,
            "description": "y (um)",
            "description_tooltip": null,
            "disabled": false,
            "layout": "IPY_MODEL_aeff385c028140919a562e86b04df3e5",
            "max": 1000,
            "min": -1000,
            "orientation": "horizontal",
            "readout": true,
            "readout_format": ".0f",
            "step": 1,
            "style": "IPY_MODEL_7ccc7c32178a472ab6a0014bab891f68",
            "value": 0
          }
        },
        "cd73b3f1bbca4f42a862157c92b02def": {
          "model_module": "@jupyter-widgets/controls",
          "model_name": "FloatSliderModel",
          "model_module_version": "1.5.0",
          "state": {
            "_dom_classes": [],
            "_model_module": "@jupyter-widgets/controls",
            "_model_module_version": "1.5.0",
            "_model_name": "FloatSliderModel",
            "_view_count": null,
            "_view_module": "@jupyter-widgets/controls",
            "_view_module_version": "1.5.0",
            "_view_name": "FloatSliderView",
            "continuous_update": false,
            "description": "z (um)",
            "description_tooltip": null,
            "disabled": false,
            "layout": "IPY_MODEL_b6b21f94e97f4cd28eaf13784dd9da6d",
            "max": 400,
            "min": 20,
            "orientation": "horizontal",
            "readout": true,
            "readout_format": ".0f",
            "step": 1,
            "style": "IPY_MODEL_b9d544a79b7d499c97e7458dba9188e0",
            "value": 80
          }
        },
        "d23d91931f27489d98a26103a8391bce": {
          "model_module": "@jupyter-widgets/base",
          "model_name": "LayoutModel",
          "model_module_version": "1.2.0",
          "state": {
            "_model_module": "@jupyter-widgets/base",
            "_model_module_version": "1.2.0",
            "_model_name": "LayoutModel",
            "_view_count": null,
            "_view_module": "@jupyter-widgets/base",
            "_view_module_version": "1.2.0",
            "_view_name": "LayoutView",
            "align_content": null,
            "align_items": null,
            "align_self": null,
            "border": null,
            "bottom": null,
            "display": null,
            "flex": null,
            "flex_flow": null,
            "grid_area": null,
            "grid_auto_columns": null,
            "grid_auto_flow": null,
            "grid_auto_rows": null,
            "grid_column": null,
            "grid_gap": null,
            "grid_row": null,
            "grid_template_areas": null,
            "grid_template_columns": null,
            "grid_template_rows": null,
            "height": null,
            "justify_content": null,
            "justify_items": null,
            "left": null,
            "margin": null,
            "max_height": null,
            "max_width": null,
            "min_height": null,
            "min_width": null,
            "object_fit": null,
            "object_position": null,
            "order": null,
            "overflow": null,
            "overflow_x": null,
            "overflow_y": null,
            "padding": null,
            "right": null,
            "top": null,
            "visibility": null,
            "width": null
          }
        },
        "a8d35912cd7b4cf2a8656caf3a7c001c": {
          "model_module": "@jupyter-widgets/controls",
          "model_name": "FloatSliderModel",
          "model_module_version": "1.5.0",
          "state": {
            "_dom_classes": [],
            "_model_module": "@jupyter-widgets/controls",
            "_model_module_version": "1.5.0",
            "_model_name": "FloatSliderModel",
            "_view_count": null,
            "_view_module": "@jupyter-widgets/controls",
            "_view_module_version": "1.5.0",
            "_view_name": "FloatSliderView",
            "continuous_update": false,
            "description": "alpha (deg)",
            "description_tooltip": null,
            "disabled": false,
            "layout": "IPY_MODEL_832f2d38c1444ef7b46671dc8f44cfdf",
            "max": 180,
            "min": -180,
            "orientation": "horizontal",
            "readout": true,
            "readout_format": ".0f",
            "step": 1,
            "style": "IPY_MODEL_985278c3ba564494bbddf44e2f0caa37",
            "value": 0
          }
        },
        "663cf880482e464389a0762bdd8e642d": {
          "model_module": "@jupyter-widgets/controls",
          "model_name": "FloatSliderModel",
          "model_module_version": "1.5.0",
          "state": {
            "_dom_classes": [],
            "_model_module": "@jupyter-widgets/controls",
            "_model_module_version": "1.5.0",
            "_model_name": "FloatSliderModel",
            "_view_count": null,
            "_view_module": "@jupyter-widgets/controls",
            "_view_module_version": "1.5.0",
            "_view_name": "FloatSliderView",
            "continuous_update": false,
            "description": "beta (deg)",
            "description_tooltip": null,
            "disabled": false,
            "layout": "IPY_MODEL_82048c4d25434f07ada3a54725bc9415",
            "max": 180,
            "min": 0,
            "orientation": "horizontal",
            "readout": true,
            "readout_format": ".0f",
            "step": 1,
            "style": "IPY_MODEL_d8528565c8274df3bf34882a4e4549c5",
            "value": 0
          }
        },
        "8805e2dffc554d759247b2a6a4502893": {
          "model_module": "@jupyter-widgets/controls",
          "model_name": "FloatSliderModel",
          "model_module_version": "1.5.0",
          "state": {
            "_dom_classes": [],
            "_model_module": "@jupyter-widgets/controls",
            "_model_module_version": "1.5.0",
            "_model_name": "FloatSliderModel",
            "_view_count": null,
            "_view_module": "@jupyter-widgets/controls",
            "_view_module_version": "1.5.0",
            "_view_name": "FloatSliderView",
            "continuous_update": false,
            "description": "phi (deg)",
            "description_tooltip": null,
            "disabled": false,
            "layout": "IPY_MODEL_8584ea9622364b45b8a99593151a63a1",
            "max": 180,
            "min": -180,
            "orientation": "horizontal",
            "readout": true,
            "readout_format": ".0f",
            "step": 1,
            "style": "IPY_MODEL_16199912024a41c5be064b771128bf66",
            "value": 0
          }
        },
        "56ad6fc9e6ab47ed9be02bd1930e64e3": {
          "model_module": "@jupyter-widgets/base",
          "model_name": "LayoutModel",
          "model_module_version": "1.2.0",
          "state": {
            "_model_module": "@jupyter-widgets/base",
            "_model_module_version": "1.2.0",
            "_model_name": "LayoutModel",
            "_view_count": null,
            "_view_module": "@jupyter-widgets/base",
            "_view_module_version": "1.2.0",
            "_view_name": "LayoutView",
            "align_content": null,
            "align_items": null,
            "align_self": null,
            "border": null,
            "bottom": null,
            "display": null,
            "flex": null,
            "flex_flow": null,
            "grid_area": null,
            "grid_auto_columns": null,
            "grid_auto_flow": null,
            "grid_auto_rows": null,
            "grid_column": null,
            "grid_gap": null,
            "grid_row": null,
            "grid_template_areas": null,
            "grid_template_columns": null,
            "grid_template_rows": null,
            "height": null,
            "justify_content": null,
            "justify_items": null,
            "left": null,
            "margin": null,
            "max_height": null,
            "max_width": null,
            "min_height": null,
            "min_width": null,
            "object_fit": null,
            "object_position": null,
            "order": null,
            "overflow": null,
            "overflow_x": null,
            "overflow_y": null,
            "padding": null,
            "right": null,
            "top": null,
            "visibility": null,
            "width": null
          }
        },
        "b8164f58ab3b47798ab2c6184746f002": {
          "model_module": "@jupyter-widgets/output",
          "model_name": "OutputModel",
          "model_module_version": "1.0.0",
          "state": {
            "_dom_classes": [],
            "_model_module": "@jupyter-widgets/output",
            "_model_module_version": "1.0.0",
            "_model_name": "OutputModel",
            "_view_count": null,
            "_view_module": "@jupyter-widgets/output",
            "_view_module_version": "1.0.0",
            "_view_name": "OutputView",
            "layout": "IPY_MODEL_1f8f0dde89fa4ab49c472e31043c3efa",
            "msg_id": "",
            "outputs": [
              {
                "output_type": "display_data",
                "data": {
                  "text/plain": "<Figure size 1200x800 with 1 Axes>",
                  "image/png": "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\n"
                },
                "metadata": {}
              }
            ]
          }
        },
        "6ba2ae99482f46c8bf44a1e71b27a02e": {
          "model_module": "@jupyter-widgets/controls",
          "model_name": "FloatSliderModel",
          "model_module_version": "1.5.0",
          "state": {
            "_dom_classes": [],
            "_model_module": "@jupyter-widgets/controls",
            "_model_module_version": "1.5.0",
            "_model_name": "FloatSliderModel",
            "_view_count": null,
            "_view_module": "@jupyter-widgets/controls",
            "_view_module_version": "1.5.0",
            "_view_name": "FloatSliderView",
            "continuous_update": false,
            "description": "azim (deg)",
            "description_tooltip": null,
            "disabled": false,
            "layout": "IPY_MODEL_c5b050b75760484eb5b821e057956b6c",
            "max": 180,
            "min": -180,
            "orientation": "horizontal",
            "readout": true,
            "readout_format": ".0f",
            "step": 1,
            "style": "IPY_MODEL_822e3af24e1e4b748f1679c44602f5bb",
            "value": -90
          }
        },
        "e75975fe98dd4e4c809b1821bdf7aeae": {
          "model_module": "@jupyter-widgets/base",
          "model_name": "LayoutModel",
          "model_module_version": "1.2.0",
          "state": {
            "_model_module": "@jupyter-widgets/base",
            "_model_module_version": "1.2.0",
            "_model_name": "LayoutModel",
            "_view_count": null,
            "_view_module": "@jupyter-widgets/base",
            "_view_module_version": "1.2.0",
            "_view_name": "LayoutView",
            "align_content": null,
            "align_items": null,
            "align_self": null,
            "border": null,
            "bottom": null,
            "display": null,
            "flex": null,
            "flex_flow": null,
            "grid_area": null,
            "grid_auto_columns": null,
            "grid_auto_flow": null,
            "grid_auto_rows": null,
            "grid_column": null,
            "grid_gap": null,
            "grid_row": null,
            "grid_template_areas": null,
            "grid_template_columns": null,
            "grid_template_rows": null,
            "height": null,
            "justify_content": null,
            "justify_items": null,
            "left": null,
            "margin": null,
            "max_height": null,
            "max_width": null,
            "min_height": null,
            "min_width": null,
            "object_fit": null,
            "object_position": null,
            "order": null,
            "overflow": null,
            "overflow_x": null,
            "overflow_y": null,
            "padding": null,
            "right": null,
            "top": null,
            "visibility": null,
            "width": null
          }
        },
        "35402b339c8b4c0cb7902001bf557be4": {
          "model_module": "@jupyter-widgets/base",
          "model_name": "LayoutModel",
          "model_module_version": "1.2.0",
          "state": {
            "_model_module": "@jupyter-widgets/base",
            "_model_module_version": "1.2.0",
            "_model_name": "LayoutModel",
            "_view_count": null,
            "_view_module": "@jupyter-widgets/base",
            "_view_module_version": "1.2.0",
            "_view_name": "LayoutView",
            "align_content": null,
            "align_items": null,
            "align_self": null,
            "border": null,
            "bottom": null,
            "display": null,
            "flex": null,
            "flex_flow": null,
            "grid_area": null,
            "grid_auto_columns": null,
            "grid_auto_flow": null,
            "grid_auto_rows": null,
            "grid_column": null,
            "grid_gap": null,
            "grid_row": null,
            "grid_template_areas": null,
            "grid_template_columns": null,
            "grid_template_rows": null,
            "height": "350px",
            "justify_content": null,
            "justify_items": null,
            "left": null,
            "margin": null,
            "max_height": null,
            "max_width": null,
            "min_height": null,
            "min_width": null,
            "object_fit": null,
            "object_position": null,
            "order": null,
            "overflow": null,
            "overflow_x": null,
            "overflow_y": null,
            "padding": null,
            "right": null,
            "top": null,
            "visibility": null,
            "width": null
          }
        },
        "c3d566ff423f4beab222c0eacf60cf12": {
          "model_module": "@jupyter-widgets/controls",
          "model_name": "SliderStyleModel",
          "model_module_version": "1.5.0",
          "state": {
            "_model_module": "@jupyter-widgets/controls",
            "_model_module_version": "1.5.0",
            "_model_name": "SliderStyleModel",
            "_view_count": null,
            "_view_module": "@jupyter-widgets/base",
            "_view_module_version": "1.2.0",
            "_view_name": "StyleView",
            "description_width": "",
            "handle_color": null
          }
        },
        "b8906b3a65b4443d93afd6ccb1de4479": {
          "model_module": "@jupyter-widgets/base",
          "model_name": "LayoutModel",
          "model_module_version": "1.2.0",
          "state": {
            "_model_module": "@jupyter-widgets/base",
            "_model_module_version": "1.2.0",
            "_model_name": "LayoutModel",
            "_view_count": null,
            "_view_module": "@jupyter-widgets/base",
            "_view_module_version": "1.2.0",
            "_view_name": "LayoutView",
            "align_content": null,
            "align_items": null,
            "align_self": null,
            "border": null,
            "bottom": null,
            "display": null,
            "flex": null,
            "flex_flow": null,
            "grid_area": null,
            "grid_auto_columns": null,
            "grid_auto_flow": null,
            "grid_auto_rows": null,
            "grid_column": null,
            "grid_gap": null,
            "grid_row": null,
            "grid_template_areas": null,
            "grid_template_columns": null,
            "grid_template_rows": null,
            "height": null,
            "justify_content": null,
            "justify_items": null,
            "left": null,
            "margin": null,
            "max_height": null,
            "max_width": null,
            "min_height": null,
            "min_width": null,
            "object_fit": null,
            "object_position": null,
            "order": null,
            "overflow": null,
            "overflow_x": null,
            "overflow_y": null,
            "padding": null,
            "right": null,
            "top": null,
            "visibility": null,
            "width": null
          }
        },
        "68cf53a88e1f4540a9dedd589b950964": {
          "model_module": "@jupyter-widgets/controls",
          "model_name": "SliderStyleModel",
          "model_module_version": "1.5.0",
          "state": {
            "_model_module": "@jupyter-widgets/controls",
            "_model_module_version": "1.5.0",
            "_model_name": "SliderStyleModel",
            "_view_count": null,
            "_view_module": "@jupyter-widgets/base",
            "_view_module_version": "1.2.0",
            "_view_name": "StyleView",
            "description_width": "",
            "handle_color": null
          }
        },
        "aeff385c028140919a562e86b04df3e5": {
          "model_module": "@jupyter-widgets/base",
          "model_name": "LayoutModel",
          "model_module_version": "1.2.0",
          "state": {
            "_model_module": "@jupyter-widgets/base",
            "_model_module_version": "1.2.0",
            "_model_name": "LayoutModel",
            "_view_count": null,
            "_view_module": "@jupyter-widgets/base",
            "_view_module_version": "1.2.0",
            "_view_name": "LayoutView",
            "align_content": null,
            "align_items": null,
            "align_self": null,
            "border": null,
            "bottom": null,
            "display": null,
            "flex": null,
            "flex_flow": null,
            "grid_area": null,
            "grid_auto_columns": null,
            "grid_auto_flow": null,
            "grid_auto_rows": null,
            "grid_column": null,
            "grid_gap": null,
            "grid_row": null,
            "grid_template_areas": null,
            "grid_template_columns": null,
            "grid_template_rows": null,
            "height": null,
            "justify_content": null,
            "justify_items": null,
            "left": null,
            "margin": null,
            "max_height": null,
            "max_width": null,
            "min_height": null,
            "min_width": null,
            "object_fit": null,
            "object_position": null,
            "order": null,
            "overflow": null,
            "overflow_x": null,
            "overflow_y": null,
            "padding": null,
            "right": null,
            "top": null,
            "visibility": null,
            "width": null
          }
        },
        "7ccc7c32178a472ab6a0014bab891f68": {
          "model_module": "@jupyter-widgets/controls",
          "model_name": "SliderStyleModel",
          "model_module_version": "1.5.0",
          "state": {
            "_model_module": "@jupyter-widgets/controls",
            "_model_module_version": "1.5.0",
            "_model_name": "SliderStyleModel",
            "_view_count": null,
            "_view_module": "@jupyter-widgets/base",
            "_view_module_version": "1.2.0",
            "_view_name": "StyleView",
            "description_width": "",
            "handle_color": null
          }
        },
        "b6b21f94e97f4cd28eaf13784dd9da6d": {
          "model_module": "@jupyter-widgets/base",
          "model_name": "LayoutModel",
          "model_module_version": "1.2.0",
          "state": {
            "_model_module": "@jupyter-widgets/base",
            "_model_module_version": "1.2.0",
            "_model_name": "LayoutModel",
            "_view_count": null,
            "_view_module": "@jupyter-widgets/base",
            "_view_module_version": "1.2.0",
            "_view_name": "LayoutView",
            "align_content": null,
            "align_items": null,
            "align_self": null,
            "border": null,
            "bottom": null,
            "display": null,
            "flex": null,
            "flex_flow": null,
            "grid_area": null,
            "grid_auto_columns": null,
            "grid_auto_flow": null,
            "grid_auto_rows": null,
            "grid_column": null,
            "grid_gap": null,
            "grid_row": null,
            "grid_template_areas": null,
            "grid_template_columns": null,
            "grid_template_rows": null,
            "height": null,
            "justify_content": null,
            "justify_items": null,
            "left": null,
            "margin": null,
            "max_height": null,
            "max_width": null,
            "min_height": null,
            "min_width": null,
            "object_fit": null,
            "object_position": null,
            "order": null,
            "overflow": null,
            "overflow_x": null,
            "overflow_y": null,
            "padding": null,
            "right": null,
            "top": null,
            "visibility": null,
            "width": null
          }
        },
        "b9d544a79b7d499c97e7458dba9188e0": {
          "model_module": "@jupyter-widgets/controls",
          "model_name": "SliderStyleModel",
          "model_module_version": "1.5.0",
          "state": {
            "_model_module": "@jupyter-widgets/controls",
            "_model_module_version": "1.5.0",
            "_model_name": "SliderStyleModel",
            "_view_count": null,
            "_view_module": "@jupyter-widgets/base",
            "_view_module_version": "1.2.0",
            "_view_name": "StyleView",
            "description_width": "",
            "handle_color": null
          }
        },
        "832f2d38c1444ef7b46671dc8f44cfdf": {
          "model_module": "@jupyter-widgets/base",
          "model_name": "LayoutModel",
          "model_module_version": "1.2.0",
          "state": {
            "_model_module": "@jupyter-widgets/base",
            "_model_module_version": "1.2.0",
            "_model_name": "LayoutModel",
            "_view_count": null,
            "_view_module": "@jupyter-widgets/base",
            "_view_module_version": "1.2.0",
            "_view_name": "LayoutView",
            "align_content": null,
            "align_items": null,
            "align_self": null,
            "border": null,
            "bottom": null,
            "display": null,
            "flex": null,
            "flex_flow": null,
            "grid_area": null,
            "grid_auto_columns": null,
            "grid_auto_flow": null,
            "grid_auto_rows": null,
            "grid_column": null,
            "grid_gap": null,
            "grid_row": null,
            "grid_template_areas": null,
            "grid_template_columns": null,
            "grid_template_rows": null,
            "height": null,
            "justify_content": null,
            "justify_items": null,
            "left": null,
            "margin": null,
            "max_height": null,
            "max_width": null,
            "min_height": null,
            "min_width": null,
            "object_fit": null,
            "object_position": null,
            "order": null,
            "overflow": null,
            "overflow_x": null,
            "overflow_y": null,
            "padding": null,
            "right": null,
            "top": null,
            "visibility": null,
            "width": null
          }
        },
        "985278c3ba564494bbddf44e2f0caa37": {
          "model_module": "@jupyter-widgets/controls",
          "model_name": "SliderStyleModel",
          "model_module_version": "1.5.0",
          "state": {
            "_model_module": "@jupyter-widgets/controls",
            "_model_module_version": "1.5.0",
            "_model_name": "SliderStyleModel",
            "_view_count": null,
            "_view_module": "@jupyter-widgets/base",
            "_view_module_version": "1.2.0",
            "_view_name": "StyleView",
            "description_width": "",
            "handle_color": null
          }
        },
        "82048c4d25434f07ada3a54725bc9415": {
          "model_module": "@jupyter-widgets/base",
          "model_name": "LayoutModel",
          "model_module_version": "1.2.0",
          "state": {
            "_model_module": "@jupyter-widgets/base",
            "_model_module_version": "1.2.0",
            "_model_name": "LayoutModel",
            "_view_count": null,
            "_view_module": "@jupyter-widgets/base",
            "_view_module_version": "1.2.0",
            "_view_name": "LayoutView",
            "align_content": null,
            "align_items": null,
            "align_self": null,
            "border": null,
            "bottom": null,
            "display": null,
            "flex": null,
            "flex_flow": null,
            "grid_area": null,
            "grid_auto_columns": null,
            "grid_auto_flow": null,
            "grid_auto_rows": null,
            "grid_column": null,
            "grid_gap": null,
            "grid_row": null,
            "grid_template_areas": null,
            "grid_template_columns": null,
            "grid_template_rows": null,
            "height": null,
            "justify_content": null,
            "justify_items": null,
            "left": null,
            "margin": null,
            "max_height": null,
            "max_width": null,
            "min_height": null,
            "min_width": null,
            "object_fit": null,
            "object_position": null,
            "order": null,
            "overflow": null,
            "overflow_x": null,
            "overflow_y": null,
            "padding": null,
            "right": null,
            "top": null,
            "visibility": null,
            "width": null
          }
        },
        "d8528565c8274df3bf34882a4e4549c5": {
          "model_module": "@jupyter-widgets/controls",
          "model_name": "SliderStyleModel",
          "model_module_version": "1.5.0",
          "state": {
            "_model_module": "@jupyter-widgets/controls",
            "_model_module_version": "1.5.0",
            "_model_name": "SliderStyleModel",
            "_view_count": null,
            "_view_module": "@jupyter-widgets/base",
            "_view_module_version": "1.2.0",
            "_view_name": "StyleView",
            "description_width": "",
            "handle_color": null
          }
        },
        "8584ea9622364b45b8a99593151a63a1": {
          "model_module": "@jupyter-widgets/base",
          "model_name": "LayoutModel",
          "model_module_version": "1.2.0",
          "state": {
            "_model_module": "@jupyter-widgets/base",
            "_model_module_version": "1.2.0",
            "_model_name": "LayoutModel",
            "_view_count": null,
            "_view_module": "@jupyter-widgets/base",
            "_view_module_version": "1.2.0",
            "_view_name": "LayoutView",
            "align_content": null,
            "align_items": null,
            "align_self": null,
            "border": null,
            "bottom": null,
            "display": null,
            "flex": null,
            "flex_flow": null,
            "grid_area": null,
            "grid_auto_columns": null,
            "grid_auto_flow": null,
            "grid_auto_rows": null,
            "grid_column": null,
            "grid_gap": null,
            "grid_row": null,
            "grid_template_areas": null,
            "grid_template_columns": null,
            "grid_template_rows": null,
            "height": null,
            "justify_content": null,
            "justify_items": null,
            "left": null,
            "margin": null,
            "max_height": null,
            "max_width": null,
            "min_height": null,
            "min_width": null,
            "object_fit": null,
            "object_position": null,
            "order": null,
            "overflow": null,
            "overflow_x": null,
            "overflow_y": null,
            "padding": null,
            "right": null,
            "top": null,
            "visibility": null,
            "width": null
          }
        },
        "16199912024a41c5be064b771128bf66": {
          "model_module": "@jupyter-widgets/controls",
          "model_name": "SliderStyleModel",
          "model_module_version": "1.5.0",
          "state": {
            "_model_module": "@jupyter-widgets/controls",
            "_model_module_version": "1.5.0",
            "_model_name": "SliderStyleModel",
            "_view_count": null,
            "_view_module": "@jupyter-widgets/base",
            "_view_module_version": "1.2.0",
            "_view_name": "StyleView",
            "description_width": "",
            "handle_color": null
          }
        },
        "c5b050b75760484eb5b821e057956b6c": {
          "model_module": "@jupyter-widgets/base",
          "model_name": "LayoutModel",
          "model_module_version": "1.2.0",
          "state": {
            "_model_module": "@jupyter-widgets/base",
            "_model_module_version": "1.2.0",
            "_model_name": "LayoutModel",
            "_view_count": null,
            "_view_module": "@jupyter-widgets/base",
            "_view_module_version": "1.2.0",
            "_view_name": "LayoutView",
            "align_content": null,
            "align_items": null,
            "align_self": null,
            "border": null,
            "bottom": null,
            "display": null,
            "flex": null,
            "flex_flow": null,
            "grid_area": null,
            "grid_auto_columns": null,
            "grid_auto_flow": null,
            "grid_auto_rows": null,
            "grid_column": null,
            "grid_gap": null,
            "grid_row": null,
            "grid_template_areas": null,
            "grid_template_columns": null,
            "grid_template_rows": null,
            "height": null,
            "justify_content": null,
            "justify_items": null,
            "left": null,
            "margin": null,
            "max_height": null,
            "max_width": null,
            "min_height": null,
            "min_width": null,
            "object_fit": null,
            "object_position": null,
            "order": null,
            "overflow": null,
            "overflow_x": null,
            "overflow_y": null,
            "padding": null,
            "right": null,
            "top": null,
            "visibility": null,
            "width": "500px"
          }
        },
        "822e3af24e1e4b748f1679c44602f5bb": {
          "model_module": "@jupyter-widgets/controls",
          "model_name": "SliderStyleModel",
          "model_module_version": "1.5.0",
          "state": {
            "_model_module": "@jupyter-widgets/controls",
            "_model_module_version": "1.5.0",
            "_model_name": "SliderStyleModel",
            "_view_count": null,
            "_view_module": "@jupyter-widgets/base",
            "_view_module_version": "1.2.0",
            "_view_name": "StyleView",
            "description_width": "",
            "handle_color": null
          }
        },
        "1f8f0dde89fa4ab49c472e31043c3efa": {
          "model_module": "@jupyter-widgets/base",
          "model_name": "LayoutModel",
          "model_module_version": "1.2.0",
          "state": {
            "_model_module": "@jupyter-widgets/base",
            "_model_module_version": "1.2.0",
            "_model_name": "LayoutModel",
            "_view_count": null,
            "_view_module": "@jupyter-widgets/base",
            "_view_module_version": "1.2.0",
            "_view_name": "LayoutView",
            "align_content": null,
            "align_items": null,
            "align_self": null,
            "border": null,
            "bottom": null,
            "display": null,
            "flex": null,
            "flex_flow": null,
            "grid_area": null,
            "grid_auto_columns": null,
            "grid_auto_flow": null,
            "grid_auto_rows": null,
            "grid_column": null,
            "grid_gap": null,
            "grid_row": null,
            "grid_template_areas": null,
            "grid_template_columns": null,
            "grid_template_rows": null,
            "height": null,
            "justify_content": null,
            "justify_items": null,
            "left": null,
            "margin": null,
            "max_height": null,
            "max_width": null,
            "min_height": null,
            "min_width": null,
            "object_fit": null,
            "object_position": null,
            "order": null,
            "overflow": null,
            "overflow_x": null,
            "overflow_y": null,
            "padding": null,
            "right": null,
            "top": null,
            "visibility": null,
            "width": null
          }
        },
        "ada701ad7d3a477e9e07b9287140cad9": {
          "model_module": "@jupyter-widgets/controls",
          "model_name": "VBoxModel",
          "model_module_version": "1.5.0",
          "state": {
            "_dom_classes": [],
            "_model_module": "@jupyter-widgets/controls",
            "_model_module_version": "1.5.0",
            "_model_name": "VBoxModel",
            "_view_count": null,
            "_view_module": "@jupyter-widgets/controls",
            "_view_module_version": "1.5.0",
            "_view_name": "VBoxView",
            "box_style": "",
            "children": [
              "IPY_MODEL_5b7c5ab20b3d4f66bdd2a8639633af79",
              "IPY_MODEL_fd6d7722ecb342788d08f0083fdc752c"
            ],
            "layout": "IPY_MODEL_d41e13c2eab940b08a070403bb46f55c"
          }
        },
        "5b7c5ab20b3d4f66bdd2a8639633af79": {
          "model_module": "@jupyter-widgets/controls",
          "model_name": "ToggleButtonsModel",
          "model_module_version": "1.5.0",
          "state": {
            "_dom_classes": [],
            "_model_module": "@jupyter-widgets/controls",
            "_model_module_version": "1.5.0",
            "_model_name": "ToggleButtonsModel",
            "_options_labels": [
              "Soma",
              "Apical tuft (proximal)"
            ],
            "_view_count": null,
            "_view_module": "@jupyter-widgets/controls",
            "_view_module_version": "1.5.0",
            "_view_name": "ToggleButtonsView",
            "button_style": "",
            "description": "",
            "description_tooltip": null,
            "disabled": false,
            "icons": [],
            "index": 0,
            "layout": "IPY_MODEL_3e33006ea448499598f24e9835b3b2bd",
            "style": "IPY_MODEL_da69e068d2e24b65bab9abae1e68533f",
            "tooltips": []
          }
        },
        "fd6d7722ecb342788d08f0083fdc752c": {
          "model_module": "@jupyter-widgets/controls",
          "model_name": "HBoxModel",
          "model_module_version": "1.5.0",
          "state": {
            "_dom_classes": [],
            "_model_module": "@jupyter-widgets/controls",
            "_model_module_version": "1.5.0",
            "_model_name": "HBoxModel",
            "_view_count": null,
            "_view_module": "@jupyter-widgets/controls",
            "_view_module_version": "1.5.0",
            "_view_name": "HBoxView",
            "box_style": "",
            "children": [
              "IPY_MODEL_91752f469785496492f1927a280d823e",
              "IPY_MODEL_95d6cb420c8f4c95822336be69be2377"
            ],
            "layout": "IPY_MODEL_002428c943394a0d8908daf11299bfcc"
          }
        },
        "d41e13c2eab940b08a070403bb46f55c": {
          "model_module": "@jupyter-widgets/base",
          "model_name": "LayoutModel",
          "model_module_version": "1.2.0",
          "state": {
            "_model_module": "@jupyter-widgets/base",
            "_model_module_version": "1.2.0",
            "_model_name": "LayoutModel",
            "_view_count": null,
            "_view_module": "@jupyter-widgets/base",
            "_view_module_version": "1.2.0",
            "_view_name": "LayoutView",
            "align_content": null,
            "align_items": null,
            "align_self": null,
            "border": null,
            "bottom": null,
            "display": null,
            "flex": null,
            "flex_flow": null,
            "grid_area": null,
            "grid_auto_columns": null,
            "grid_auto_flow": null,
            "grid_auto_rows": null,
            "grid_column": null,
            "grid_gap": null,
            "grid_row": null,
            "grid_template_areas": null,
            "grid_template_columns": null,
            "grid_template_rows": null,
            "height": null,
            "justify_content": null,
            "justify_items": null,
            "left": null,
            "margin": null,
            "max_height": null,
            "max_width": null,
            "min_height": null,
            "min_width": null,
            "object_fit": null,
            "object_position": null,
            "order": null,
            "overflow": null,
            "overflow_x": null,
            "overflow_y": null,
            "padding": null,
            "right": null,
            "top": null,
            "visibility": null,
            "width": null
          }
        },
        "3e33006ea448499598f24e9835b3b2bd": {
          "model_module": "@jupyter-widgets/base",
          "model_name": "LayoutModel",
          "model_module_version": "1.2.0",
          "state": {
            "_model_module": "@jupyter-widgets/base",
            "_model_module_version": "1.2.0",
            "_model_name": "LayoutModel",
            "_view_count": null,
            "_view_module": "@jupyter-widgets/base",
            "_view_module_version": "1.2.0",
            "_view_name": "LayoutView",
            "align_content": null,
            "align_items": null,
            "align_self": null,
            "border": null,
            "bottom": null,
            "display": null,
            "flex": null,
            "flex_flow": null,
            "grid_area": null,
            "grid_auto_columns": null,
            "grid_auto_flow": null,
            "grid_auto_rows": null,
            "grid_column": null,
            "grid_gap": null,
            "grid_row": null,
            "grid_template_areas": null,
            "grid_template_columns": null,
            "grid_template_rows": null,
            "height": null,
            "justify_content": null,
            "justify_items": null,
            "left": null,
            "margin": null,
            "max_height": null,
            "max_width": null,
            "min_height": null,
            "min_width": null,
            "object_fit": null,
            "object_position": null,
            "order": null,
            "overflow": null,
            "overflow_x": null,
            "overflow_y": null,
            "padding": null,
            "right": null,
            "top": null,
            "visibility": null,
            "width": null
          }
        },
        "da69e068d2e24b65bab9abae1e68533f": {
          "model_module": "@jupyter-widgets/controls",
          "model_name": "ToggleButtonsStyleModel",
          "model_module_version": "1.5.0",
          "state": {
            "_model_module": "@jupyter-widgets/controls",
            "_model_module_version": "1.5.0",
            "_model_name": "ToggleButtonsStyleModel",
            "_view_count": null,
            "_view_module": "@jupyter-widgets/base",
            "_view_module_version": "1.2.0",
            "_view_name": "StyleView",
            "button_width": "",
            "description_width": "",
            "font_weight": ""
          }
        },
        "91752f469785496492f1927a280d823e": {
          "model_module": "@jupyter-widgets/controls",
          "model_name": "LabelModel",
          "model_module_version": "1.5.0",
          "state": {
            "_dom_classes": [],
            "_model_module": "@jupyter-widgets/controls",
            "_model_module_version": "1.5.0",
            "_model_name": "LabelModel",
            "_view_count": null,
            "_view_module": "@jupyter-widgets/controls",
            "_view_module_version": "1.5.0",
            "_view_name": "LabelView",
            "description": "",
            "description_tooltip": null,
            "layout": "IPY_MODEL_9ec35fed6f054419ac6bc682c3cb464e",
            "placeholder": "​",
            "style": "IPY_MODEL_98084d4550234add97946d12a0f3dce1",
            "value": "Synapse maximal conductance (uS)"
          }
        },
        "95d6cb420c8f4c95822336be69be2377": {
          "model_module": "@jupyter-widgets/controls",
          "model_name": "FloatSliderModel",
          "model_module_version": "1.5.0",
          "state": {
            "_dom_classes": [],
            "_model_module": "@jupyter-widgets/controls",
            "_model_module_version": "1.5.0",
            "_model_name": "FloatSliderModel",
            "_view_count": null,
            "_view_module": "@jupyter-widgets/controls",
            "_view_module_version": "1.5.0",
            "_view_name": "FloatSliderView",
            "continuous_update": true,
            "description": "",
            "description_tooltip": null,
            "disabled": false,
            "layout": "IPY_MODEL_981fce739dd14da2ab99212aac28001d",
            "max": 0.1,
            "min": 0,
            "orientation": "horizontal",
            "readout": true,
            "readout_format": ".4f",
            "step": 0.0002,
            "style": "IPY_MODEL_9e2ce7e1ce014a119f1b52e14baeb202",
            "value": 0.1
          }
        },
        "002428c943394a0d8908daf11299bfcc": {
          "model_module": "@jupyter-widgets/base",
          "model_name": "LayoutModel",
          "model_module_version": "1.2.0",
          "state": {
            "_model_module": "@jupyter-widgets/base",
            "_model_module_version": "1.2.0",
            "_model_name": "LayoutModel",
            "_view_count": null,
            "_view_module": "@jupyter-widgets/base",
            "_view_module_version": "1.2.0",
            "_view_name": "LayoutView",
            "align_content": null,
            "align_items": null,
            "align_self": null,
            "border": null,
            "bottom": null,
            "display": null,
            "flex": null,
            "flex_flow": null,
            "grid_area": null,
            "grid_auto_columns": null,
            "grid_auto_flow": null,
            "grid_auto_rows": null,
            "grid_column": null,
            "grid_gap": null,
            "grid_row": null,
            "grid_template_areas": null,
            "grid_template_columns": null,
            "grid_template_rows": null,
            "height": null,
            "justify_content": null,
            "justify_items": null,
            "left": null,
            "margin": null,
            "max_height": null,
            "max_width": null,
            "min_height": null,
            "min_width": null,
            "object_fit": null,
            "object_position": null,
            "order": null,
            "overflow": null,
            "overflow_x": null,
            "overflow_y": null,
            "padding": null,
            "right": null,
            "top": null,
            "visibility": null,
            "width": null
          }
        },
        "9ec35fed6f054419ac6bc682c3cb464e": {
          "model_module": "@jupyter-widgets/base",
          "model_name": "LayoutModel",
          "model_module_version": "1.2.0",
          "state": {
            "_model_module": "@jupyter-widgets/base",
            "_model_module_version": "1.2.0",
            "_model_name": "LayoutModel",
            "_view_count": null,
            "_view_module": "@jupyter-widgets/base",
            "_view_module_version": "1.2.0",
            "_view_name": "LayoutView",
            "align_content": null,
            "align_items": null,
            "align_self": null,
            "border": null,
            "bottom": null,
            "display": null,
            "flex": null,
            "flex_flow": null,
            "grid_area": null,
            "grid_auto_columns": null,
            "grid_auto_flow": null,
            "grid_auto_rows": null,
            "grid_column": null,
            "grid_gap": null,
            "grid_row": null,
            "grid_template_areas": null,
            "grid_template_columns": null,
            "grid_template_rows": null,
            "height": null,
            "justify_content": null,
            "justify_items": null,
            "left": null,
            "margin": null,
            "max_height": null,
            "max_width": null,
            "min_height": null,
            "min_width": null,
            "object_fit": null,
            "object_position": null,
            "order": null,
            "overflow": null,
            "overflow_x": null,
            "overflow_y": null,
            "padding": null,
            "right": null,
            "top": null,
            "visibility": null,
            "width": null
          }
        },
        "98084d4550234add97946d12a0f3dce1": {
          "model_module": "@jupyter-widgets/controls",
          "model_name": "DescriptionStyleModel",
          "model_module_version": "1.5.0",
          "state": {
            "_model_module": "@jupyter-widgets/controls",
            "_model_module_version": "1.5.0",
            "_model_name": "DescriptionStyleModel",
            "_view_count": null,
            "_view_module": "@jupyter-widgets/base",
            "_view_module_version": "1.2.0",
            "_view_name": "StyleView",
            "description_width": ""
          }
        },
        "981fce739dd14da2ab99212aac28001d": {
          "model_module": "@jupyter-widgets/base",
          "model_name": "LayoutModel",
          "model_module_version": "1.2.0",
          "state": {
            "_model_module": "@jupyter-widgets/base",
            "_model_module_version": "1.2.0",
            "_model_name": "LayoutModel",
            "_view_count": null,
            "_view_module": "@jupyter-widgets/base",
            "_view_module_version": "1.2.0",
            "_view_name": "LayoutView",
            "align_content": null,
            "align_items": null,
            "align_self": null,
            "border": null,
            "bottom": null,
            "display": null,
            "flex": null,
            "flex_flow": null,
            "grid_area": null,
            "grid_auto_columns": null,
            "grid_auto_flow": null,
            "grid_auto_rows": null,
            "grid_column": null,
            "grid_gap": null,
            "grid_row": null,
            "grid_template_areas": null,
            "grid_template_columns": null,
            "grid_template_rows": null,
            "height": null,
            "justify_content": null,
            "justify_items": null,
            "left": null,
            "margin": null,
            "max_height": null,
            "max_width": null,
            "min_height": null,
            "min_width": null,
            "object_fit": null,
            "object_position": null,
            "order": null,
            "overflow": null,
            "overflow_x": null,
            "overflow_y": null,
            "padding": null,
            "right": null,
            "top": null,
            "visibility": null,
            "width": null
          }
        },
        "9e2ce7e1ce014a119f1b52e14baeb202": {
          "model_module": "@jupyter-widgets/controls",
          "model_name": "SliderStyleModel",
          "model_module_version": "1.5.0",
          "state": {
            "_model_module": "@jupyter-widgets/controls",
            "_model_module_version": "1.5.0",
            "_model_name": "SliderStyleModel",
            "_view_count": null,
            "_view_module": "@jupyter-widgets/base",
            "_view_module_version": "1.2.0",
            "_view_name": "StyleView",
            "description_width": "",
            "handle_color": null
          }
        }
      }
    }
  },
  "nbformat": 4,
  "nbformat_minor": 5
}